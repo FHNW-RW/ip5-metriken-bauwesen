{
 "cells": [
  {
   "cell_type": "markdown",
   "source": [
    "## Bagged Tree - Hauptnutzfläche\n",
    "Random Forest Model zur Schätzung der Hauptnutzfläche"
   ],
   "metadata": {
    "collapsed": false
   }
  },
  {
   "cell_type": "markdown",
   "source": [
    "### Datensatz\n",
    "Imports & Datensatz laden"
   ],
   "metadata": {
    "collapsed": false
   }
  },
  {
   "cell_type": "code",
   "execution_count": 1,
   "outputs": [],
   "source": [
    "from sklearn.ensemble import BaggingRegressor\n",
    "\n",
    "import src.package.importer as im\n",
    "import src.package.ml_helper as ml_helper\n",
    "\n",
    "# load dataset\n",
    "df = im.get_dataset('../package/datasets/train_set.csv')\n",
    "X, y = ml_helper.hnf_dataset(df)\n",
    "# X, y = ml_helper.hnf_dataset(df, upper_percentile='75%')\n",
    "# X, y = ml_helper.hnf_dataset(df, upper_percentile='50%')\n",
    "# X, y = ml_helper.hnf_dataset(df, upper_percentile='25%')"
   ],
   "metadata": {
    "collapsed": false,
    "pycharm": {
     "name": "#%%\n"
    }
   }
  },
  {
   "cell_type": "markdown",
   "source": [
    "### Modell trainieren\n",
    "Trainieren und testen des Models mit Repeated-Cross-Validation"
   ],
   "metadata": {
    "collapsed": false
   }
  },
  {
   "cell_type": "code",
   "execution_count": 2,
   "outputs": [],
   "source": [
    "regr = BaggingRegressor(n_estimators=10, random_state=0)\n",
    "scores = ml_helper.cross_validation(regr, X, y)"
   ],
   "metadata": {
    "collapsed": false,
    "pycharm": {
     "name": "#%%\n"
    }
   }
  },
  {
   "cell_type": "markdown",
   "source": [
    "### Evaluieren\n",
    "Auswertung des trainierten Models"
   ],
   "metadata": {
    "collapsed": false
   }
  },
  {
   "cell_type": "code",
   "execution_count": 3,
   "outputs": [
    {
     "name": "stdout",
     "output_type": "stream",
     "text": [
      "Evaluation\n",
      "-------------------------\n",
      "Fit time: 0.015212\n",
      "Score time: 0.003707\n",
      "\n",
      "[test_r2]\n",
      "mean=0.886614 std=0.067950\n",
      "\n",
      "[test_neg_mean_absolute_percentage_error]\n",
      "mean=-0.210851 std=0.032044\n",
      "\n",
      "[test_neg_root_mean_squared_error]\n",
      "mean=-1349.198411 std=456.242018\n",
      "\n",
      "[test_neg_mean_absolute_error]\n",
      "mean=-636.211809 std=136.830285\n",
      "\n",
      "[test_max_error]\n",
      "mean=-7437.780000 std=3642.322512\n",
      "\n",
      "\n"
     ]
    }
   ],
   "source": [
    "ml_helper.evaluate_cv_scores(scores)"
   ],
   "metadata": {
    "collapsed": false,
    "pycharm": {
     "name": "#%%\n"
    }
   }
  }
 ],
 "metadata": {
  "kernelspec": {
   "name": "python3",
   "language": "python",
   "display_name": "Python 3"
  },
  "language_info": {
   "codemirror_mode": {
    "name": "ipython",
    "version": 2
   },
   "file_extension": ".py",
   "mimetype": "text/x-python",
   "name": "python",
   "nbconvert_exporter": "python",
   "pygments_lexer": "ipython2",
   "version": "2.7.6"
  }
 },
 "nbformat": 4,
 "nbformat_minor": 0
}