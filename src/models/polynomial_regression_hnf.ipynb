{
 "cells": [
  {
   "cell_type": "markdown",
   "source": [
    "## Polynomial Regression - Hauptnutzfläche\n",
    "Random Forest Model zur Schätzung der Hauptnutzfläche"
   ],
   "metadata": {
    "collapsed": false
   }
  },
  {
   "cell_type": "markdown",
   "source": [
    "### Datensatz\n",
    "Imports & Datensatz laden"
   ],
   "metadata": {
    "collapsed": false
   }
  },
  {
   "cell_type": "code",
   "execution_count": 4,
   "outputs": [],
   "source": [
    "from sklearn.linear_model import LinearRegression\n",
    "from sklearn.pipeline import Pipeline\n",
    "from sklearn.preprocessing import PolynomialFeatures\n",
    "\n",
    "import src.package.importer as im\n",
    "import src.package.ml_helper as ml_helper\n",
    "\n",
    "# load dataset\n",
    "df = im.get_dataset('../package/datasets/train_set.csv')\n",
    "X, y = ml_helper.hnf_dataset(df)\n",
    "# X, y = ml_helper.hnf_dataset(df, upper_percentile='75%')\n",
    "# X, y = ml_helper.hnf_dataset(df, upper_percentile='50%')\n",
    "# X, y = ml_helper.hnf_dataset(df, upper_percentile='25%')"
   ],
   "metadata": {
    "collapsed": false,
    "pycharm": {
     "name": "#%%\n"
    }
   }
  },
  {
   "cell_type": "markdown",
   "source": [
    "### Modell trainieren\n",
    "Trainieren und testen des Models mit Repeated-Cross-Validation"
   ],
   "metadata": {
    "collapsed": false
   }
  },
  {
   "cell_type": "code",
   "execution_count": 5,
   "outputs": [],
   "source": [
    "model = Pipeline([('poly', PolynomialFeatures(degree=3)), ('linear', LinearRegression(fit_intercept=False))])\n",
    "scores = ml_helper.cross_validation(model, X, y)"
   ],
   "metadata": {
    "collapsed": false,
    "pycharm": {
     "name": "#%%\n"
    }
   }
  },
  {
   "cell_type": "markdown",
   "source": [
    "### Evaluieren\n",
    "Auswertung des trainierten Models"
   ],
   "metadata": {
    "collapsed": false
   }
  },
  {
   "cell_type": "code",
   "execution_count": 6,
   "outputs": [
    {
     "name": "stdout",
     "output_type": "stream",
     "text": [
      "Evaluation\n",
      "-------------------------\n",
      "Fit time: 0.006249\n",
      "Score time: 0.003124\n",
      "\n",
      "[test_r2]\n",
      "mean=0.907546 std=0.071867\n",
      "\n",
      "[test_neg_mean_absolute_percentage_error]\n",
      "mean=-0.321220 std=0.089254\n",
      "\n",
      "[test_neg_root_mean_squared_error]\n",
      "mean=-1207.927460 std=471.763929\n",
      "\n",
      "[test_neg_mean_absolute_error]\n",
      "mean=-610.385950 std=177.699367\n",
      "\n",
      "[test_max_error]\n",
      "mean=-6221.716649 std=3113.416174\n",
      "\n",
      "\n",
      "Evaluation\n",
      "-------------------------\n",
      "Fit time: 0.005595\n",
      "Score time: 0.005032\n",
      "\n",
      "[test_r2]\n",
      "mean=0.907546 std=0.071867\n",
      "\n",
      "[test_neg_mean_absolute_percentage_error]\n",
      "mean=-0.321220 std=0.089254\n",
      "\n",
      "[test_neg_root_mean_squared_error]\n",
      "mean=-1207.927460 std=471.763929\n",
      "\n",
      "[test_neg_mean_absolute_error]\n",
      "mean=-610.385950 std=177.699367\n",
      "\n",
      "[test_max_error]\n",
      "mean=-6221.716649 std=3113.416174\n",
      "\n",
      "\n"
     ]
    }
   ],
   "source": [
    "ml_helper.evaluate_cv_scores(scores)"
   ],
   "metadata": {
    "collapsed": false,
    "pycharm": {
     "name": "#%%\n"
    }
   }
  }
 ],
 "metadata": {
  "kernelspec": {
   "name": "python3",
   "language": "python",
   "display_name": "Python 3"
  },
  "language_info": {
   "codemirror_mode": {
    "name": "ipython",
    "version": 2
   },
   "file_extension": ".py",
   "mimetype": "text/x-python",
   "name": "python",
   "nbconvert_exporter": "python",
   "pygments_lexer": "ipython2",
   "version": "2.7.6"
  }
 },
 "nbformat": 4,
 "nbformat_minor": 0
}