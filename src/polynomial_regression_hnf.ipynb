{
 "cells": [
  {
   "cell_type": "markdown",
   "source": [
    "## Random Forest Hauptnutzfläche\n",
    "Random Forest Model zur Schätzung der Hauptnutzfläche"
   ],
   "metadata": {
    "collapsed": false
   }
  },
  {
   "cell_type": "markdown",
   "source": [
    "### Datensatz\n",
    "Imports & Datensatz laden"
   ],
   "metadata": {
    "collapsed": false
   }
  },
  {
   "cell_type": "code",
   "execution_count": 1,
   "outputs": [],
   "source": [
    "from sklearn.linear_model import LinearRegression\n",
    "from sklearn.model_selection import train_test_split\n",
    "from sklearn.pipeline import Pipeline\n",
    "from sklearn.preprocessing import PolynomialFeatures\n",
    "\n",
    "import package.importer as im\n",
    "import package.ml_helper as ml_helper\n",
    "\n",
    "# load dataset\n",
    "df = im.get_dataset('package/dataset.csv')\n",
    "X, y = ml_helper.hnf_dataset(df)"
   ],
   "metadata": {
    "collapsed": false,
    "pycharm": {
     "name": "#%%\n"
    }
   }
  },
  {
   "cell_type": "markdown",
   "source": [
    "### Modell trainieren\n",
    "Auswertung des trainierten Models"
   ],
   "metadata": {
    "collapsed": false
   }
  },
  {
   "cell_type": "code",
   "execution_count": 2,
   "outputs": [],
   "source": [
    "# Use 20% of package for testing the model\n",
    "X_train, X_test, y_train, y_test = train_test_split(X, y, test_size=0.2)\n",
    "\n",
    "# algorithm & train\n",
    "polyreg = Pipeline([('poly', PolynomialFeatures(degree=3)), ('linear', LinearRegression(fit_intercept=False))])\n",
    "model = polyreg.fit(X, y)"
   ],
   "metadata": {
    "collapsed": false,
    "pycharm": {
     "name": "#%%\n"
    }
   }
  },
  {
   "cell_type": "markdown",
   "source": [
    "### Evaluieren\n",
    "Auswertung des trainierten Models"
   ],
   "metadata": {
    "collapsed": false
   }
  },
  {
   "cell_type": "code",
   "execution_count": 3,
   "outputs": [
    {
     "name": "stdout",
     "output_type": "stream",
     "text": [
      "First 10 result of prediction\n",
      "-------------------------\n",
      "Prediction:  [6963 2474 1294  939 8448  397 1348  758 1157 1727]\n",
      "Actual:  [ 5490  2841  1054  1103 10148   106  1662   632  1100  1391]\n",
      "\n",
      "Evaluation\n",
      "-------------------------\n",
      "R^2 value:  0.9444482759625544\n",
      "Mean Absolute Error (MAE):  647.03125\n",
      "Root Mean Squared Error (RMSE):  1922171.8125\n",
      "Max error:  8142\n"
     ]
    }
   ],
   "source": [
    "predictions = model.predict(X_test).astype(int)\n",
    "actual = y_test.to_numpy().astype(int)\n",
    "r_score = polyreg.score(X, y)\n",
    "ml_helper.l_reg_evaluation(predictions, actual, r_score)"
   ],
   "metadata": {
    "collapsed": false,
    "pycharm": {
     "name": "#%%\n"
    }
   }
  }
 ],
 "metadata": {
  "kernelspec": {
   "display_name": "Python 3",
   "language": "python",
   "name": "python3"
  },
  "language_info": {
   "codemirror_mode": {
    "name": "ipython",
    "version": 2
   },
   "file_extension": ".py",
   "mimetype": "text/x-python",
   "name": "python",
   "nbconvert_exporter": "python",
   "pygments_lexer": "ipython2",
   "version": "2.7.6"
  }
 },
 "nbformat": 4,
 "nbformat_minor": 0
}