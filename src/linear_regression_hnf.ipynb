{
 "cells": [
  {
   "cell_type": "markdown",
   "source": [
    "## Linear Regression Hauptnutzfläche\n",
    "Schätzung der Hauptnutzfläche mithilfe Linear Regression Model"
   ],
   "metadata": {
    "collapsed": false
   }
  },
  {
   "cell_type": "markdown",
   "source": [
    "### Datensatz\n",
    "Imports & Datensatz laden"
   ],
   "metadata": {
    "collapsed": false
   }
  },
  {
   "cell_type": "code",
   "execution_count": 2,
   "outputs": [],
   "source": [
    "from sklearn import linear_model\n",
    "from sklearn.model_selection import train_test_split\n",
    "\n",
    "import package.importer as im\n",
    "import package.ml_helper as ml_helper\n",
    "\n",
    "# load dataset\n",
    "df = im.get_dataset('package/dataset.csv')\n",
    "X, y = ml_helper.hnf_dataset(df)"
   ],
   "metadata": {
    "collapsed": false,
    "pycharm": {
     "name": "#%%\n"
    }
   }
  },
  {
   "cell_type": "markdown",
   "source": [
    "### Modell trainieren\n",
    "Auswertung des trainierten Models"
   ],
   "metadata": {
    "collapsed": false
   }
  },
  {
   "cell_type": "code",
   "execution_count": 3,
   "outputs": [],
   "source": [
    "# Use 20% of package for testing the model\n",
    "X_train, X_test, y_train, y_test = train_test_split(X, y, test_size=0.2)\n",
    "\n",
    "# algorithm & train\n",
    "l_reg = linear_model.LinearRegression()\n",
    "model = l_reg.fit(X_train, y_train)"
   ],
   "metadata": {
    "collapsed": false,
    "pycharm": {
     "name": "#%%\n"
    }
   }
  },
  {
   "cell_type": "markdown",
   "source": [
    "### Evaluieren\n",
    "Auswertung des trainierten Models"
   ],
   "metadata": {
    "collapsed": false
   }
  },
  {
   "cell_type": "code",
   "execution_count": 4,
   "outputs": [
    {
     "name": "stdout",
     "output_type": "stream",
     "text": [
      "First 10 result of prediction\n",
      "-------------------------\n",
      "Prediction:  [  507  2899   852 14126   800 12491  3361  2069  5083  1001]\n",
      "Actual:  [  161  3107   614 11177   505 14163  2022  2351  6807   656]\n",
      "\n",
      "Evaluation\n",
      "-------------------------\n",
      "R^2 value:  0.8921762602123532\n",
      "Mean Absolute Error (MAE):  503.328125\n",
      "Root Mean Squared Error (RMSE):  600545.921875\n",
      "Max error:  2949\n"
     ]
    }
   ],
   "source": [
    "predictions = model.predict(X_test).astype(int)\n",
    "actual = y_test.to_numpy().astype(int)\n",
    "r_score = l_reg.score(X, y)\n",
    "ml_helper.l_reg_evaluation(predictions, actual, r_score)"
   ],
   "metadata": {
    "collapsed": false,
    "pycharm": {
     "name": "#%%\n"
    }
   }
  }
 ],
 "metadata": {
  "kernelspec": {
   "display_name": "Python 3",
   "language": "python",
   "name": "python3"
  },
  "language_info": {
   "codemirror_mode": {
    "name": "ipython",
    "version": 2
   },
   "file_extension": ".py",
   "mimetype": "text/x-python",
   "name": "python",
   "nbconvert_exporter": "python",
   "pygments_lexer": "ipython2",
   "version": "2.7.6"
  }
 },
 "nbformat": 4,
 "nbformat_minor": 0
}