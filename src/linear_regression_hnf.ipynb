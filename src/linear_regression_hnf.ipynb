{
 "cells": [
  {
   "cell_type": "markdown",
   "source": [
    "## Linear Regression Hauptnutzfläche\n",
    "Schätzung der Hauptnutzfläche mithilfe Linear Regression Model"
   ],
   "metadata": {
    "collapsed": false
   }
  },
  {
   "cell_type": "markdown",
   "source": [
    "### Datensatz\n",
    "Imports & Datensatz laden"
   ],
   "metadata": {
    "collapsed": false
   }
  },
  {
   "cell_type": "code",
   "execution_count": 1,
   "outputs": [],
   "source": [
    "from sklearn import linear_model\n",
    "from sklearn.model_selection import RepeatedKFold\n",
    "\n",
    "import package.importer as im\n",
    "import package.ml_helper as ml_helper\n",
    "\n",
    "# load dataset\n",
    "df = im.get_dataset('package/dataset.csv')\n",
    "X, y = ml_helper.hnf_dataset(df)\n",
    "# X, y = ml_helper.hnf_dataset(df, upper_percentile='75%')\n",
    "# X, y = ml_helper.hnf_dataset(df, upper_percentile='50%')\n",
    "# X, y = ml_helper.hnf_dataset(df, upper_percentile='25%')"
   ],
   "metadata": {
    "collapsed": false,
    "pycharm": {
     "name": "#%%\n"
    }
   }
  },
  {
   "cell_type": "markdown",
   "source": [
    "### Modell trainieren\n",
    "Auswerten und trainieren des Models"
   ],
   "metadata": {
    "collapsed": false
   }
  },
  {
   "cell_type": "code",
   "execution_count": 2,
   "outputs": [],
   "source": [
    "model = linear_model.LinearRegression()\n",
    "\n",
    "cv = RepeatedKFold(n_splits=5, n_repeats=3, random_state=0)\n",
    "scores = ml_helper.cross_validation(model, X, y, cv=cv)"
   ],
   "metadata": {
    "collapsed": false,
    "pycharm": {
     "name": "#%%\n"
    }
   }
  },
  {
   "cell_type": "markdown",
   "source": [
    "### Evaluieren\n",
    "Auswertung des trainierten Models"
   ],
   "metadata": {
    "collapsed": false
   }
  },
  {
   "cell_type": "code",
   "execution_count": 3,
   "outputs": [
    {
     "name": "stdout",
     "output_type": "stream",
     "text": [
      "Evaluation\n",
      "-------------------------\n",
      "Fit time: 0.002328\n",
      "Score time: 0.002328\n",
      "\n",
      "[test_r2]\n",
      "mean=0.878953 se=0.056313\n",
      "\n",
      "[test_neg_mean_absolute_percentage_error]\n",
      "mean=-0.367909 se=0.106735\n",
      "\n",
      "[test_neg_root_mean_squared_error]\n",
      "mean=-1280.490034 se=462.808632\n",
      "\n",
      "[test_neg_mean_absolute_error]\n",
      "mean=-583.474340 se=129.642897\n",
      "\n",
      "[test_max_error]\n",
      "mean=-7827.187471 se=3980.822722\n",
      "\n",
      "\n"
     ]
    }
   ],
   "source": [
    "ml_helper.evaluate_cv_scores(scores)"
   ],
   "metadata": {
    "collapsed": false,
    "pycharm": {
     "name": "#%%\n"
    }
   }
  }
 ],
 "metadata": {
  "kernelspec": {
   "display_name": "Python 3",
   "language": "python",
   "name": "python3"
  },
  "language_info": {
   "codemirror_mode": {
    "name": "ipython",
    "version": 2
   },
   "file_extension": ".py",
   "mimetype": "text/x-python",
   "name": "python",
   "nbconvert_exporter": "python",
   "pygments_lexer": "ipython2",
   "version": "2.7.6"
  }
 },
 "nbformat": 4,
 "nbformat_minor": 0
}