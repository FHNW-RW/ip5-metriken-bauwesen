{
 "cells": [
  {
   "cell_type": "markdown",
   "source": [
    "## Analyse Nutzung\n",
    "Überblick über die Nutzungsart der Gebäude"
   ],
   "metadata": {
    "collapsed": false
   }
  },
  {
   "cell_type": "code",
   "execution_count": 321,
   "outputs": [
    {
     "ename": "ModuleNotFoundError",
     "evalue": "No module named 'code.charts'; 'code' is not a package",
     "output_type": "error",
     "traceback": [
      "\u001B[0;31m---------------------------------------------------------------------------\u001B[0m",
      "\u001B[0;31mModuleNotFoundError\u001B[0m                       Traceback (most recent call last)",
      "\u001B[0;32m<ipython-input-321-97cec849bc25>\u001B[0m in \u001B[0;36m<module>\u001B[0;34m\u001B[0m\n\u001B[1;32m      1\u001B[0m \u001B[0;32mimport\u001B[0m \u001B[0mpandas\u001B[0m \u001B[0;32mas\u001B[0m \u001B[0mpd\u001B[0m\u001B[0;34m\u001B[0m\u001B[0;34m\u001B[0m\u001B[0m\n\u001B[0;32m----> 2\u001B[0;31m \u001B[0;32mimport\u001B[0m \u001B[0mcode\u001B[0m\u001B[0;34m.\u001B[0m\u001B[0mcharts\u001B[0m \u001B[0;32mas\u001B[0m \u001B[0mcharts\u001B[0m\u001B[0;34m\u001B[0m\u001B[0;34m\u001B[0m\u001B[0m\n\u001B[0m\u001B[1;32m      3\u001B[0m \u001B[0;32mimport\u001B[0m \u001B[0mcode\u001B[0m\u001B[0;34m.\u001B[0m\u001B[0mimporter\u001B[0m \u001B[0;32mas\u001B[0m \u001B[0mim\u001B[0m\u001B[0;34m\u001B[0m\u001B[0;34m\u001B[0m\u001B[0m\n\u001B[1;32m      4\u001B[0m \u001B[0;32mimport\u001B[0m \u001B[0mseaborn\u001B[0m \u001B[0;32mas\u001B[0m \u001B[0msns\u001B[0m\u001B[0;34m\u001B[0m\u001B[0;34m\u001B[0m\u001B[0m\n\u001B[1;32m      5\u001B[0m \u001B[0;32mimport\u001B[0m \u001B[0mmatplotlib\u001B[0m\u001B[0;34m.\u001B[0m\u001B[0mpyplot\u001B[0m \u001B[0;32mas\u001B[0m \u001B[0mplt\u001B[0m\u001B[0;34m\u001B[0m\u001B[0;34m\u001B[0m\u001B[0m\n",
      "\u001B[0;31mModuleNotFoundError\u001B[0m: No module named 'code.charts'; 'code' is not a package"
     ]
    }
   ],
   "source": [
    "import pandas as pd\n",
    "import package.charts as charts\n",
    "import package.importer as im\n",
    "import seaborn as sns\n",
    "import matplotlib.pyplot as plt\n",
    "import package.manipulations as mani\n",
    "\n",
    "df = im.get_dataset('dataset/dataset.csv')\n",
    "pd.set_option('display.max_rows', 500)  # to show all value_counts\n"
   ],
   "metadata": {
    "collapsed": false,
    "pycharm": {
     "name": "#%%\n"
    }
   }
  },
  {
   "cell_type": "markdown",
   "source": [
    "#### Verteilung im Datenset\n"
   ],
   "metadata": {
    "collapsed": false
   }
  },
  {
   "cell_type": "code",
   "execution_count": null,
   "outputs": [],
   "source": [
    "df[im.FIELD_USAGE_CLUSTER].value_counts()"
   ],
   "metadata": {
    "collapsed": false,
    "pycharm": {
     "name": "#%%\n"
    }
   }
  },
  {
   "cell_type": "code",
   "execution_count": null,
   "outputs": [],
   "source": [
    "df[im.FIELD_NOM_USAGE_MAIN].value_counts()\n"
   ],
   "metadata": {
    "collapsed": false,
    "pycharm": {
     "name": "#%%\n"
    }
   }
  },
  {
   "cell_type": "markdown",
   "source": [
    "## Nutzungen kombinieren\n",
    "Der Datensatz enthält sehr unterschiedliche Datenmengen pro Nutzungstyp. Wenn zu wenig Daten vorhanden sind, macht das Verwenden des Felds 'usage_cluster' oder weiteres Zusammenfassen Sinn. Für Nutzungstypen mit vielen Daten (Wohnen, Schulen etc.) macht es Sinn, ein spezifischeren Typ zu verwenden.\n",
    "\n",
    "**Mehrfamilienhäuser**<br>\n",
    "WOHNBAUTEN__MFH_MEDIUM<br>\n",
    "WOHNBAUTEN__MFH_LOW<br>\n",
    "WOHNBAUTEN__MFH_HIGH<br>"
   ],
   "metadata": {
    "collapsed": false
   }
  },
  {
   "cell_type": "code",
   "execution_count": null,
   "outputs": [],
   "source": [
    "types_wohnen_mfh = ['WOHNBAUTEN__MFH_HIGH', 'WOHNBAUTEN__MFH_MEDIUM', 'WOHNBAUTEN__MFH_LOW']\n",
    "mfh_df = df[df[im.FIELD_NOM_USAGE_MAIN].isin(types_wohnen_mfh)]\n",
    "\n",
    "charts.lmplot_gf_hnf(mfh_df, hue=im.FIELD_NOM_USAGE_MAIN)"
   ],
   "metadata": {
    "collapsed": false,
    "pycharm": {
     "name": "#%%\n"
    }
   }
  },
  {
   "cell_type": "markdown",
   "source": [
    "**Einfamilienhäuser**<br>\n",
    "WOHNBAUTEN__EFH_REIHEN_LOW<br>\n",
    "WOHNBAUTEN__EFH_REIHEN_MEDIUM<br>\n",
    "WOHNBAUTEN__EFH_REIHEN_HIGH"
   ],
   "metadata": {
    "collapsed": false,
    "pycharm": {
     "name": "#%% md\n"
    }
   }
  },
  {
   "cell_type": "code",
   "execution_count": null,
   "outputs": [],
   "source": [
    "types_wohnen_efh = ['WOHNBAUTEN__EFH_REIHEN_LOW', 'WOHNBAUTEN__EFH_REIHEN_MEDIUM', 'WOHNBAUTEN__EFH_REIHEN_HIGH']\n",
    "efh_df = df[df[im.FIELD_NOM_USAGE_MAIN].isin(types_wohnen_efh)]\n",
    "\n",
    "charts.lmplot_gf_hnf(efh_df, hue=im.FIELD_NOM_USAGE_MAIN)"
   ],
   "metadata": {
    "collapsed": false,
    "pycharm": {
     "name": "#%%\n"
    }
   }
  },
  {
   "cell_type": "markdown",
   "source": [
    "**Schulen sinnvoll aufteilen?**<br>\n",
    "SCHULBAUTEN__VOLKSSCHULEN<br>\n",
    "SCHULBAUTEN__KINDERGAERTEN_HORTE<br>\n",
    "SCHULBAUTEN__BERUFSSCHULEN<br>\n",
    "SCHULBAUTEN__HOCHSCHULEN_UNIVERSITAETEN<br>\n",
    "SCHULBAUTEN__FORSCHUNGSBAUTEN_MIT_LABOR<br>\n",
    "SCHULBAUTEN__BIBLIOTHEKEN<br>\n",
    "SCHULBAUTEN__FORSCHUNGSBAUTEN_OHNE_LABOR<br>\n",
    "SCHULBAUTEN__HEILPAEDAGOGISCHE_SONDERSCHULEN<br>"
   ],
   "metadata": {
    "collapsed": false
   }
  },
  {
   "cell_type": "code",
   "execution_count": null,
   "outputs": [],
   "source": [
    "types_schulen = ['SCHULBAUTEN__VOLKSSCHULEN',\n",
    "                 'SCHULBAUTEN__KINDERGAERTEN_HORTE',\n",
    "                 'SCHULBAUTEN__BERUFSSCHULEN',\n",
    "                 'SCHULBAUTEN__HOCHSCHULEN_UNIVERSITAETEN',\n",
    "                 'SCHULBAUTEN__FORSCHUNGSBAUTEN_MIT_LABOR',\n",
    "                 'SCHULBAUTEN__BIBLIOTHEKEN',\n",
    "                 'SCHULBAUTEN__FORSCHUNGSBAUTEN_OHNE_LABOR',\n",
    "                 'SCHULBAUTEN__HEILPAEDAGOGISCHE_SONDERSCHULEN'\n",
    "                 ]\n",
    "schulen_df = df[df[im.FIELD_NOM_USAGE_MAIN].isin(types_schulen)]\n",
    "\n",
    "charts.lmplot_gf_hnf(schulen_df, hue=im.FIELD_NOM_USAGE_MAIN)"
   ],
   "metadata": {
    "collapsed": false,
    "pycharm": {
     "name": "#%%\n"
    }
   }
  },
  {
   "cell_type": "markdown",
   "source": [
    "**Rest**<br>\n",
    "Vermutlich vorerst auf Usage Cluster zurückgreifen.\n"
   ],
   "metadata": {
    "collapsed": false,
    "pycharm": {
     "name": "#%% md\n"
    }
   }
  },
  {
   "cell_type": "markdown",
   "source": [
    "## Ausreisser\n",
    "Ausreisser bei den Usage Clustern.\n",
    "\n",
    "1) Description der verschiedenen Cluster. <br>\n",
    "2) Ratio-Verteilung mit Ausreissern der verschiedenen Clustern – (Aussenanlagen, Betrieb, Offene Bauten und Irrelevant ausgeschlossen)<br>"
   ],
   "metadata": {
    "collapsed": false
   }
  },
  {
   "cell_type": "code",
   "execution_count": null,
   "outputs": [],
   "source": [
    "df = mani.compute_ratio_hnf_gf(df)\n",
    "mask = df[im.FIELD_USAGE_CLUSTER].isin(['TECHNIK', 'AUSSENANLAGEN', 'IRRELEVANT', 'OFFENE_BAUTEN'])\n",
    "plotData = df[~mask]\n",
    "gf = sns.catplot(x=im.FIELD_USAGE_CLUSTER, y=\"ratio_hnf_gf\", kind=\"box\", data=plotData)\n",
    "\n",
    "gf.set(xlabel='Nutzungstyp (Cluster))', ylabel='Ratio HNF - GF')\n",
    "plt.xticks(\n",
    "    rotation=45,\n",
    "    horizontalalignment='right',\n",
    "    fontweight='normal',\n",
    "    fontsize='medium'\n",
    ")\n",
    "\n",
    "# Check different cluster sizes\n",
    "df[im.FIELD_USAGE_CLUSTER] = df[im.FIELD_USAGE_CLUSTER].astype('category')\n",
    "# data = data[data[im.FIELD_USAGE_CLUSTER] == \"BETRIEB\"]\n",
    "data = df['ratio_hnf_gf']\n",
    "data.groupby(df[im.FIELD_USAGE_CLUSTER]).describe()"
   ],
   "metadata": {
    "collapsed": false,
    "pycharm": {
     "name": "#%%\n"
    }
   }
  }
 ],
 "metadata": {
  "kernelspec": {
   "display_name": "Python 3",
   "language": "python",
   "name": "python3"
  },
  "language_info": {
   "codemirror_mode": {
    "name": "ipython",
    "version": 2
   },
   "file_extension": ".py",
   "mimetype": "text/x-python",
   "name": "python",
   "nbconvert_exporter": "python",
   "pygments_lexer": "ipython2",
   "version": "2.7.6"
  }
 },
 "nbformat": 4,
 "nbformat_minor": 0
}