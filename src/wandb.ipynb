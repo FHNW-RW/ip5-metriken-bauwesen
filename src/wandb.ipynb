{
 "cells": [
  {
   "cell_type": "markdown",
   "source": [
    "## Weight & Biases\n",
    "Zur Nachverfolgung und Analyse der Model-Performance"
   ],
   "metadata": {
    "collapsed": false
   }
  },
  {
   "cell_type": "markdown",
   "source": [
    "### Dataset & Runs\n",
    "Namen für Datensets und Runs für bessere Nachvollziehbarkeit auf wandb\n",
    "\n",
    "#### Runs\n",
    "- **gb-hnf-uc**: Gradient Boosting mit HNF & UsageCluster\n",
    "- **gb-hnf-cu**: Gradient Boosting mit HNF & Combined Usage\n"
   ],
   "metadata": {
    "collapsed": false
   }
  },
  {
   "cell_type": "markdown",
   "source": [
    "### Gradient Boosting\n",
    "Imports & Datensatz laden"
   ],
   "metadata": {
    "collapsed": false
   }
  },
  {
   "cell_type": "code",
   "execution_count": 1,
   "outputs": [
    {
     "name": "stderr",
     "output_type": "stream",
     "text": [
      "Failed to detect the name of this notebook, you can set it manually with the WANDB_NOTEBOOK_NAME environment variable to enable code saving.\n",
      "\u001B[34m\u001B[1mwandb\u001B[0m: Currently logged in as: \u001B[33mdevcore\u001B[0m (use `wandb login --relogin` to force relogin)\n",
      "\u001B[34m\u001B[1mwandb\u001B[0m: \n",
      "\u001B[34m\u001B[1mwandb\u001B[0m: Plotting Gradient Boost.\n",
      "\u001B[34m\u001B[1mwandb\u001B[0m: Logged summary metrics.\n",
      "\u001B[34m\u001B[1mwandb\u001B[0m: Logged learning curve.\n",
      "\u001B[34m\u001B[1mwandb\u001B[0m: Logged outlier candidates.\n",
      "\u001B[34m\u001B[1mwandb\u001B[0m: \u001B[33mWARNING\u001B[0m wandb uses only the first 10000 datapoints to create the plots.\n",
      "\u001B[34m\u001B[1mwandb\u001B[0m: Logged residuals.\n"
     ]
    },
    {
     "data": {
      "text/plain": "<IPython.core.display.HTML object>",
      "text/html": "\n                Tracking run with wandb version 0.10.31<br/>\n                Syncing run <strong style=\"color:#cdcd00\">gb-hnf-cu</strong> to <a href=\"https://wandb.ai\" target=\"_blank\">Weights & Biases</a> <a href=\"https://docs.wandb.com/integrations/jupyter.html\" target=\"_blank\">(Documentation)</a>.<br/>\n                Project page: <a href=\"https://wandb.ai/devcore/Metriken%20Bauwesen\" target=\"_blank\">https://wandb.ai/devcore/Metriken%20Bauwesen</a><br/>\n                Run page: <a href=\"https://wandb.ai/devcore/Metriken%20Bauwesen/runs/1s0i5o4v\" target=\"_blank\">https://wandb.ai/devcore/Metriken%20Bauwesen/runs/1s0i5o4v</a><br/>\n                Run data is saved locally in <code>D:\\Development\\FHNW\\ip5-metriken-bauwesen\\src\\wandb\\run-20210531_165116-1s0i5o4v</code><br/><br/>\n            "
     },
     "metadata": {},
     "output_type": "display_data"
    }
   ],
   "source": [
    "import wandb\n",
    "from sklearn.ensemble import GradientBoostingRegressor\n",
    "from sklearn.model_selection import train_test_split\n",
    "\n",
    "import package.importer as im\n",
    "import package.ml_helper as ml_helper\n",
    "from numpy import mean\n",
    "\n",
    "wandb.login()\n",
    "\n",
    "config = {\n",
    "    'model': 'GradientBoost',\n",
    "    'dataset': 'hnf_combined_usage',\n",
    "}\n",
    "wandb.init(project='Metriken Bauwesen', entity='devcore', name='gb-hnf-cu', config=config)\n",
    "\n",
    "# load dataset\n",
    "df = im.get_dataset('package/dataset.csv')\n",
    "X, y = ml_helper.hnf_dataset(df)\n",
    "\n",
    "# train and evaluate model\n",
    "regr = GradientBoostingRegressor(random_state=0)\n",
    "scores_map = ml_helper.cross_validation(regr, X, y)\n",
    "\n",
    "# log result of cross validation to wandb\n",
    "for key in scores_map.keys():\n",
    "    if key in {'fit_time', 'score_time'}:\n",
    "        continue\n",
    "    scores = scores_map[key]\n",
    "    wandb.log({f'{key}_mean': mean(scores)})\n",
    "\n",
    "\n",
    "# use wandb regression eval\n",
    "X_train, X_test, y_train, y_test = train_test_split(X, y, test_size=0.2)\n",
    "regr.fit(X_train, y_train)\n",
    "wandb.sklearn.plot_regressor(regr, X_train, X_test, y_train, y_test,  model_name='Gradient Boost')"
   ],
   "metadata": {
    "collapsed": false,
    "pycharm": {
     "name": "#%%\n"
    }
   }
  },
  {
   "cell_type": "markdown",
   "source": [
    "### Linear Regression\n",
    "Trainieren und testen des Models mit Repeated-Cross-Validation"
   ],
   "metadata": {
    "collapsed": false
   }
  },
  {
   "cell_type": "code",
   "execution_count": 2,
   "outputs": [],
   "source": [
    "# TODO: evaluate model\n"
   ],
   "metadata": {
    "collapsed": false,
    "pycharm": {
     "name": "#%%\n"
    }
   }
  }
 ],
 "metadata": {
  "kernelspec": {
   "display_name": "Python 3",
   "language": "python",
   "name": "python3"
  },
  "language_info": {
   "codemirror_mode": {
    "name": "ipython",
    "version": 2
   },
   "file_extension": ".py",
   "mimetype": "text/x-python",
   "name": "python",
   "nbconvert_exporter": "python",
   "pygments_lexer": "ipython2",
   "version": "2.7.6"
  }
 },
 "nbformat": 4,
 "nbformat_minor": 0
}