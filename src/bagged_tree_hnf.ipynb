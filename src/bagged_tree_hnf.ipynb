{
 "cells": [
  {
   "cell_type": "markdown",
   "source": [
    "## Random Forest Hauptnutzfläche\n",
    "Random Forest Model zur Schätzung der Hauptnutzfläche"
   ],
   "metadata": {
    "collapsed": false
   }
  },
  {
   "cell_type": "markdown",
   "source": [
    "### Datensatz\n",
    "Imports & Datensatz laden"
   ],
   "metadata": {
    "collapsed": false
   }
  },
  {
   "cell_type": "code",
   "execution_count": 1,
   "outputs": [],
   "source": [
    "from sklearn.ensemble import BaggingRegressor\n",
    "from sklearn.model_selection import train_test_split\n",
    "\n",
    "import package.importer as im\n",
    "import package.ml_helper as ml_helper\n",
    "import package.charts as charts\n",
    "\n",
    "# load dataset\n",
    "df = im.get_dataset('package/dataset.csv')\n",
    "# df = im.cap_by_gf_hnf(df) # exclude big areas\n",
    "X, y = ml_helper.hnf_dataset(df)"
   ],
   "metadata": {
    "collapsed": false,
    "pycharm": {
     "name": "#%%\n"
    }
   }
  },
  {
   "cell_type": "markdown",
   "source": [
    "### Modell trainieren\n",
    "Auswertung des trainierten Models"
   ],
   "metadata": {
    "collapsed": false
   }
  },
  {
   "cell_type": "code",
   "execution_count": 2,
   "outputs": [],
   "source": [
    "# Use 20% of package for testing the model\n",
    "# TODO: Use stratify=X[im.FIELD_USAGE_CLUSTER] when own clustering\n",
    "X_train, X_test, y_train, y_test = train_test_split(X, y, test_size=0.2)\n",
    "\n",
    "# algorithm & train\n",
    "regr = BaggingRegressor(n_estimators=10, random_state=0)\n",
    "model = regr.fit(X_train, y_train)"
   ],
   "metadata": {
    "collapsed": false,
    "pycharm": {
     "name": "#%%\n"
    }
   }
  },
  {
   "cell_type": "markdown",
   "source": [
    "### Evaluieren\n",
    "Auswertung des trainierten Models"
   ],
   "metadata": {
    "collapsed": false
   }
  },
  {
   "cell_type": "code",
   "execution_count": 3,
   "outputs": [
    {
     "name": "stdout",
     "output_type": "stream",
     "text": [
      "First 10 result of prediction\n",
      "-------------------------\n",
      "Prediction:  [ 172 6141 3826 1105 6514 3244 1137  212 5658 6316]\n",
      "Actual:  [ 266 5483 3683  834 6080 3796  865  161 7180 6946]\n",
      "\n",
      "Evaluation\n",
      "-------------------------\n",
      "R^2 value:  0.965163702671071\n",
      "Mean Absolute Error (MAE):  593.6875\n",
      "Root Mean Squared Error (RMSE):  1225950.21875\n",
      "Max error:  4904\n"
     ]
    }
   ],
   "source": [
    "predictions = model.predict(X_test).astype(int)\n",
    "actual = y_test.to_numpy().astype(int)\n",
    "r_score = regr.score(X, y)\n",
    "ml_helper.l_reg_evaluation(predictions, actual, r_score)"
   ],
   "metadata": {
    "collapsed": false,
    "pycharm": {
     "name": "#%%\n"
    }
   }
  }
 ],
 "metadata": {
  "kernelspec": {
   "display_name": "Python 3",
   "language": "python",
   "name": "python3"
  },
  "language_info": {
   "codemirror_mode": {
    "name": "ipython",
    "version": 2
   },
   "file_extension": ".py",
   "mimetype": "text/x-python",
   "name": "python",
   "nbconvert_exporter": "python",
   "pygments_lexer": "ipython2",
   "version": "2.7.6"
  }
 },
 "nbformat": 4,
 "nbformat_minor": 0
}