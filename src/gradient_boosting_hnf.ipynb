{
 "cells": [
  {
   "cell_type": "markdown",
   "source": [
    "## Gradient Boosting - Hauptnutzfläche\n",
    "Random Forest Model zur Schätzung der Hauptnutzfläche"
   ],
   "metadata": {
    "collapsed": false
   }
  },
  {
   "cell_type": "markdown",
   "source": [
    "### Datensatz\n",
    "Imports & Datensatz laden"
   ],
   "metadata": {
    "collapsed": false
   }
  },
  {
   "cell_type": "code",
   "execution_count": 6,
   "outputs": [],
   "source": [
    "from sklearn.ensemble import GradientBoostingRegressor\n",
    "\n",
    "import package.charts as charts\n",
    "import package.importer as im\n",
    "import package.ml_helper as ml_helper\n",
    "\n",
    "# load dataset\n",
    "df = im.get_dataset('package/dataset.csv')\n",
    "X, y = ml_helper.hnf_dataset(df)\n",
    "# X, y = ml_helper.hnf_dataset(df, upper_percentile='75%')\n",
    "# X, y = ml_helper.hnf_dataset(df, upper_percentile='50%')\n",
    "# X, y = ml_helper.hnf_dataset(df, upper_percentile='25%')"
   ],
   "metadata": {
    "collapsed": false,
    "pycharm": {
     "name": "#%%\n"
    }
   }
  },
  {
   "cell_type": "markdown",
   "source": [
    "### Modell trainieren\n",
    "Trainieren und testen des Models mit Repeated-Cross-Validation"
   ],
   "metadata": {
    "collapsed": false
   }
  },
  {
   "cell_type": "code",
   "execution_count": 7,
   "outputs": [],
   "source": [
    "regr = GradientBoostingRegressor(random_state=0)\n",
    "scores = ml_helper.cross_validation(regr, X, y)\n"
   ],
   "metadata": {
    "collapsed": false,
    "pycharm": {
     "name": "#%%\n"
    }
   }
  },
  {
   "cell_type": "markdown",
   "source": [
    "### Evaluieren\n",
    "Auswertung des trainierten Models"
   ],
   "metadata": {
    "collapsed": false
   }
  },
  {
   "cell_type": "code",
   "execution_count": 8,
   "outputs": [
    {
     "name": "stdout",
     "output_type": "stream",
     "text": [
      "Evaluation\n",
      "-------------------------\n",
      "Fit time: 0.028437\n",
      "Score time: 0.002391\n",
      "\n",
      "[test_r2]\n",
      "mean=0.886733 std=0.049131\n",
      "\n",
      "[test_neg_mean_absolute_percentage_error]\n",
      "mean=-0.219120 std=0.029702\n",
      "\n",
      "[test_neg_root_mean_squared_error]\n",
      "mean=-1265.840812 std=525.190359\n",
      "\n",
      "[test_neg_mean_absolute_error]\n",
      "mean=-556.220849 std=151.144165\n",
      "\n",
      "[test_max_error]\n",
      "mean=-7232.204145 std=3505.455078\n",
      "\n",
      "\n"
     ]
    }
   ],
   "source": [
    "ml_helper.evaluate_cv_scores(scores)"
   ],
   "metadata": {
    "collapsed": false,
    "pycharm": {
     "name": "#%%\n"
    }
   }
  },
  {
   "cell_type": "markdown",
   "source": [
    "### Features Importance\n",
    "Wichtigkeit der Features für das Modell"
   ],
   "metadata": {
    "collapsed": false
   }
  },
  {
   "cell_type": "code",
   "execution_count": 9,
   "outputs": [
    {
     "data": {
      "text/plain": "<Figure size 720x576 with 1 Axes>",
      "image/png": "[encoded data removed]"
     },
     "metadata": {
      "needs_background": "light"
     },
     "output_type": "display_data"
    }
   ],
   "source": [
    "model = regr.fit(X, y)\n",
    "charts.plot_feature_importance(model.feature_importances_, X.columns, 'GRADIENT BOOSTING')"
   ],
   "metadata": {
    "collapsed": false,
    "pycharm": {
     "name": "#%%\n"
    }
   }
  },
  {
   "cell_type": "markdown",
   "source": [
    "### Decision Tree\n",
    "Visualisieren des Desicion Tree"
   ],
   "metadata": {
    "collapsed": false
   }
  },
  {
   "cell_type": "code",
   "execution_count": 10,
   "outputs": [],
   "source": [
    "# TODO: Visualize decision tree"
   ],
   "metadata": {
    "collapsed": false,
    "pycharm": {
     "name": "#%%\n"
    }
   }
  }
 ],
 "metadata": {
  "kernelspec": {
   "display_name": "Python 3",
   "language": "python",
   "name": "python3"
  },
  "language_info": {
   "codemirror_mode": {
    "name": "ipython",
    "version": 2
   },
   "file_extension": ".py",
   "mimetype": "text/x-python",
   "name": "python",
   "nbconvert_exporter": "python",
   "pygments_lexer": "ipython2",
   "version": "2.7.6"
  }
 },
 "nbformat": 4,
 "nbformat_minor": 0
}