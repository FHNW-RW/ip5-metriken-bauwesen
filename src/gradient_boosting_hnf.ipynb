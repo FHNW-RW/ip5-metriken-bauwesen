{
 "cells": [
  {
   "cell_type": "markdown",
   "source": [
    "## Gradient Boosting - Hauptnutzfläche\n",
    "Random Forest Model zur Schätzung der Hauptnutzfläche"
   ],
   "metadata": {
    "collapsed": false
   }
  },
  {
   "cell_type": "markdown",
   "source": [
    "### Datensatz\n",
    "Imports & Datensatz laden"
   ],
   "metadata": {
    "collapsed": false
   }
  },
  {
   "cell_type": "code",
   "execution_count": 7,
   "outputs": [
    {
     "name": "stdout",
     "output_type": "stream",
     "text": [
      "      area_total_floor_416  area_main_usage  usage_cluster  \\\n",
      "16                  1846.0           1279.0         WOHNEN   \n",
      "30                 12418.0           6466.0         WOHNEN   \n",
      "35                 10370.0           2336.0        BETRIEB   \n",
      "46                  2828.0           1454.0  KULTUS_KULTUR   \n",
      "61                 31315.0           7585.0        BETRIEB   \n",
      "...                    ...              ...            ...   \n",
      "3017                5543.0           2666.0          BUERO   \n",
      "3018                3588.0           2231.0   BEHERBERGUNG   \n",
      "3020                1589.0            855.0         WOHNEN   \n",
      "3021               19876.0           6762.0     GESUNDHEIT   \n",
      "3284                6806.0           2789.0     GESUNDHEIT   \n",
      "\n",
      "                                      nom_usage_main  \n",
      "16                        WOHNBAUTEN__EFH_REIHEN_LOW  \n",
      "30                               WOHNBAUTEN__MFH_LOW  \n",
      "35        GESUNDHEITSBAUTEN__KRANKENHAEUSER_Logistik  \n",
      "46                                    KULTUS__KIRCHE  \n",
      "61                     LAGERBAUTEN_PRODUKTIONSBAUTEN  \n",
      "...                                              ...  \n",
      "3017                         BUEROBAUTEN__EDELROHBAU  \n",
      "3018                WOHNBAUTEN__STUDENTENWOHNHAEUSER  \n",
      "3020                          WOHNBAUTEN__MFH_MEDIUM  \n",
      "3021  GESUNDHEITSBAUTEN__KRANKENHAEUSER_Untersuchung  \n",
      "3284                         GESUNDHEIT__PFLEGEHEIME  \n",
      "\n",
      "[428 rows x 4 columns]\n",
      "      area_total_floor_416  area_main_usage  usage_cluster  \\\n",
      "16                  1846.0           1279.0         WOHNEN   \n",
      "30                 12418.0           6466.0         WOHNEN   \n",
      "35                 10370.0           2336.0        BETRIEB   \n",
      "46                  2828.0           1454.0  KULTUS_KULTUR   \n",
      "61                 31315.0           7585.0        BETRIEB   \n",
      "...                    ...              ...            ...   \n",
      "3017                5543.0           2666.0          BUERO   \n",
      "3018                3588.0           2231.0   BEHERBERGUNG   \n",
      "3020                1589.0            855.0         WOHNEN   \n",
      "3021               19876.0           6762.0     GESUNDHEIT   \n",
      "3284                6806.0           2789.0     GESUNDHEIT   \n",
      "\n",
      "                                      nom_usage_main  \n",
      "16                        WOHNBAUTEN__EFH_REIHEN_LOW  \n",
      "30                               WOHNBAUTEN__MFH_LOW  \n",
      "35        GESUNDHEITSBAUTEN__KRANKENHAEUSER_Logistik  \n",
      "46                                    KULTUS__KIRCHE  \n",
      "61                     LAGERBAUTEN_PRODUKTIONSBAUTEN  \n",
      "...                                              ...  \n",
      "3017                         BUEROBAUTEN__EDELROHBAU  \n",
      "3018                WOHNBAUTEN__STUDENTENWOHNHAEUSER  \n",
      "3020                          WOHNBAUTEN__MFH_MEDIUM  \n",
      "3021  GESUNDHEITSBAUTEN__KRANKENHAEUSER_Untersuchung  \n",
      "3284                         GESUNDHEIT__PFLEGEHEIME  \n",
      "\n",
      "[428 rows x 4 columns]\n",
      "16         WOHNEN_EFH\n",
      "30             WOHNEN\n",
      "35            BETRIEB\n",
      "46      KULTUS_KULTUR\n",
      "61            BETRIEB\n",
      "            ...      \n",
      "3017            BUERO\n",
      "3018     BEHERBERGUNG\n",
      "3020           WOHNEN\n",
      "3021       GESUNDHEIT\n",
      "3284       GESUNDHEIT\n",
      "Length: 428, dtype: object\n"
     ]
    }
   ],
   "source": [
    "from sklearn.ensemble import GradientBoostingRegressor\n",
    "\n",
    "import package.charts as charts\n",
    "import package.importer as im\n",
    "import package.ml_helper as ml_helper\n",
    "\n",
    "# load dataset\n",
    "df = im.get_dataset('package/dataset.csv')\n",
    "X, y = ml_helper.hnf_dataset(df)\n",
    "# X, y = ml_helper.hnf_dataset(df, upper_percentile='75%')\n",
    "# X, y = ml_helper.hnf_dataset(df, upper_percentile='50%')\n",
    "# X, y = ml_helper.hnf_dataset(df, upper_percentile='25%')"
   ],
   "metadata": {
    "collapsed": false,
    "pycharm": {
     "name": "#%%\n"
    }
   }
  },
  {
   "cell_type": "markdown",
   "source": [
    "### Modell trainieren\n",
    "Trainieren und testen des Models mit Repeated-Cross-Validation"
   ],
   "metadata": {
    "collapsed": false
   }
  },
  {
   "cell_type": "code",
   "execution_count": 8,
   "outputs": [],
   "source": [
    "regr = GradientBoostingRegressor(random_state=0)\n",
    "scores = ml_helper.cross_validation(regr, X, y)\n"
   ],
   "metadata": {
    "collapsed": false,
    "pycharm": {
     "name": "#%%\n"
    }
   }
  },
  {
   "cell_type": "markdown",
   "source": [
    "### Evaluieren\n",
    "Auswertung des trainierten Models"
   ],
   "metadata": {
    "collapsed": false
   }
  },
  {
   "cell_type": "code",
   "execution_count": 9,
   "outputs": [
    {
     "name": "stdout",
     "output_type": "stream",
     "text": [
      "Evaluation\n",
      "-------------------------\n",
      "Fit time: 0.028616\n",
      "Score time: 0.002457\n",
      "\n",
      "[test_r2]\n",
      "mean=0.865006 std=0.068768\n",
      "\n",
      "[test_neg_mean_absolute_percentage_error]\n",
      "mean=-0.216309 std=0.030641\n",
      "\n",
      "[test_neg_root_mean_squared_error]\n",
      "mean=-1501.436830 std=419.756028\n",
      "\n",
      "[test_neg_mean_absolute_error]\n",
      "mean=-626.662280 std=120.112327\n",
      "\n",
      "[test_max_error]\n",
      "mean=-10024.536760 std=3329.722926\n",
      "\n",
      "\n"
     ]
    }
   ],
   "source": [
    "ml_helper.evaluate_cv_scores(scores)"
   ],
   "metadata": {
    "collapsed": false,
    "pycharm": {
     "name": "#%%\n"
    }
   }
  },
  {
   "cell_type": "markdown",
   "source": [
    "### Features Importance\n",
    "Wichtigkeit der Features für das Modell"
   ],
   "metadata": {
    "collapsed": false
   }
  },
  {
   "cell_type": "code",
   "execution_count": 10,
   "outputs": [
    {
     "data": {
      "text/plain": "<Figure size 720x576 with 1 Axes>",
      "image/png": "[encoded data removed]"
     },
     "metadata": {
      "needs_background": "light"
     },
     "output_type": "display_data"
    }
   ],
   "source": [
    "model = regr.fit(X, y)\n",
    "charts.plot_feature_importance(model.feature_importances_, X.columns, 'GRADIENT BOOSTING')"
   ],
   "metadata": {
    "collapsed": false,
    "pycharm": {
     "name": "#%%\n"
    }
   }
  },
  {
   "cell_type": "markdown",
   "source": [
    "### Decision Tree\n",
    "Visualisieren des Desicion Tree"
   ],
   "metadata": {
    "collapsed": false
   }
  },
  {
   "cell_type": "code",
   "execution_count": 11,
   "outputs": [],
   "source": [
    "# TODO: Visualize decision tree"
   ],
   "metadata": {
    "collapsed": false,
    "pycharm": {
     "name": "#%%\n"
    }
   }
  },
  {
   "cell_type": "markdown",
   "source": [
    "### Modell speichern\n",
    "Serialisieren des Modells für API"
   ],
   "metadata": {
    "collapsed": false
   }
  },
  {
   "cell_type": "code",
   "execution_count": 12,
   "outputs": [
    {
     "name": "stdout",
     "output_type": "stream",
     "text": [
      "Location: D:\\Development\\FHNW\\ip5-metriken-bauwesen\\export\\gradient_boosting_model.joblib\n"
     ]
    }
   ],
   "source": [
    "model = regr.fit(X, y)\n",
    "ml_helper.serialize_object(model, 'gradient_boosting_model')"
   ],
   "metadata": {
    "collapsed": false,
    "pycharm": {
     "name": "#%%\n"
    }
   }
  }
 ],
 "metadata": {
  "kernelspec": {
   "display_name": "Python 3",
   "language": "python",
   "name": "python3"
  },
  "language_info": {
   "codemirror_mode": {
    "name": "ipython",
    "version": 2
   },
   "file_extension": ".py",
   "mimetype": "text/x-python",
   "name": "python",
   "nbconvert_exporter": "python",
   "pygments_lexer": "ipython2",
   "version": "2.7.6"
  }
 },
 "nbformat": 4,
 "nbformat_minor": 0
}