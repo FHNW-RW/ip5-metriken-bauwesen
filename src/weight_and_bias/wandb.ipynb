{
 "cells": [
  {
   "cell_type": "markdown",
   "source": [
    "## Weight & Biases\n",
    "Zur Nachverfolgung und Analyse der Model-Performance"
   ],
   "metadata": {
    "collapsed": false
   }
  },
  {
   "cell_type": "markdown",
   "source": [
    "### Dataset\n",
    "- **Train:** Modell wird trainiert & validiert. Modell & Pipeline serialisiert\n",
    "- **Test:** Serialisierte Pipeline & Modell wird auf Test-Set angewendet"
   ],
   "metadata": {
    "collapsed": false
   }
  },
  {
   "cell_type": "code",
   "execution_count": 1,
   "outputs": [],
   "source": [
    "train_run = False"
   ],
   "metadata": {
    "collapsed": false,
    "pycharm": {
     "name": "#%%\n"
    }
   }
  },
  {
   "cell_type": "markdown",
   "source": [
    "### Initialisieren"
   ],
   "metadata": {
    "collapsed": false
   }
  },
  {
   "cell_type": "code",
   "execution_count": 2,
   "outputs": [],
   "source": [
    "from typing import Final\n",
    "\n",
    "import pandas as pd\n",
    "import wandb\n",
    "from joblib import load\n",
    "from numpy import mean\n",
    "from sklearn.ensemble import GradientBoostingRegressor\n",
    "from sklearn.model_selection import train_test_split\n",
    "\n",
    "import src.package.importer as im\n",
    "import src.package.importer_usages as imp_usg\n",
    "import src.package.ml_helper as ml_helper\n",
    "import src.package.shared as sh\n",
    "from sklearn.metrics import mean_absolute_error, mean_squared_error, max_error, mean_absolute_percentage_error\n",
    "\n",
    "pd.set_option('display.max_rows', 500)  # to show all value_counts\n",
    "\n",
    "MODEL_GRADIENT_BOOSTING: Final = 'GradientBoosting'\n",
    "MODEL_LINEAR_REGRESSION: Final = 'LinearRegression'\n",
    "current_model = MODEL_GRADIENT_BOOSTING\n",
    "\n",
    "TAG_TRAIN_SET: Final = 'train-set'\n",
    "TAG_TEST_SET: Final = 'test-set'\n",
    "\n",
    "def load_dataset():\n",
    "    set_file = 'train_set.csv' if train_run else 'test_set.csv'\n",
    "    df = im.get_extended_dataset(f'../package/datasets/{set_file}')\n",
    "    df = imp_usg.extract_usage_details(df)\n",
    "    df = imp_usg.extract_garage_details(df)\n",
    "\n",
    "    if train_run:\n",
    "        df = ml_helper.remove_outliers(df, factor=2.3)\n",
    "        return ml_helper.hnf_dataset_full(df)\n",
    "    else:\n",
    "        # load transform pipeline for test_set\n",
    "        pipeline = load(sh.export_directory_path(f'fitted_pipeline.joblib'))\n",
    "        return ml_helper.hnf_dataset_full(df, fitted_pipeline=pipeline)\n",
    "\n",
    "def init_wandb(X, tag_set, model, related_run=None):\n",
    "    wandb.login()\n",
    "\n",
    "    config = {\n",
    "        'model': model,\n",
    "        'features': ', '.join(X.columns.values),\n",
    "        'dataset-count': len(X.index),\n",
    "        'description': 'Impute volume 416 (clustered), Removed outliers (2.3), Drop all, OneHotEncoding, Default Hyperparameter'\n",
    "    }\n",
    "\n",
    "    if related_run is not None:\n",
    "        config['related_run'] = related_run\n",
    "\n",
    "    print(config)\n",
    "    wandb.init(project='Metriken Bauwesen', entity='devcore', config=config, tags=[tag_set])\n",
    "\n",
    "def wandb_plot_regressor(regr, X, y):\n",
    "    X_train, X_test, y_train, y_test = train_test_split(X, y, test_size=0.2, random_state=2)\n",
    "    regr.fit(X_train, y_train)\n",
    "\n",
    "    wandb.sklearn.plot_regressor(regr, X_train, X_test, y_train, y_test)"
   ],
   "metadata": {
    "collapsed": false,
    "pycharm": {
     "name": "#%%\n"
    }
   }
  },
  {
   "cell_type": "markdown",
   "source": [
    "### Train-Run"
   ],
   "metadata": {
    "collapsed": false
   }
  },
  {
   "cell_type": "code",
   "execution_count": 3,
   "outputs": [],
   "source": [
    "if train_run:\n",
    "    X, y = load_dataset()\n",
    "    #init_wandb(X, TAG_TRAIN_SET, current_model)\n",
    "\n",
    "    regr = GradientBoostingRegressor(random_state=0)\n",
    "    scores_map = ml_helper.cross_validation(regr, X, y)\n",
    "\n",
    "    # log result of cross validation to wandb\n",
    "    for key in scores_map.keys():\n",
    "        if key in {'fit_time', 'score_time'}:\n",
    "            continue\n",
    "        scores = scores_map[key]\n",
    "        # wandb.log({f'{key}_mean': mean(scores)})\n",
    "        print({f'{key}_mean': mean(scores)})\n",
    "\n",
    "    #wandb_plot_regressor(regr, X, y)\n",
    "\n",
    "    # serialize model for test set\n",
    "    regr.fit(X, y)\n",
    "    sh.serialize_object(regr, 'fitted_model')"
   ],
   "metadata": {
    "collapsed": false,
    "pycharm": {
     "name": "#%%\n"
    }
   }
  },
  {
   "cell_type": "markdown",
   "source": [
    "### Test-Run"
   ],
   "metadata": {
    "collapsed": false
   }
  },
  {
   "cell_type": "code",
   "execution_count": 4,
   "outputs": [
    {
     "name": "stderr",
     "output_type": "stream",
     "text": [
      "\u001B[34m\u001B[1mwandb\u001B[0m: Currently logged in as: \u001B[33mdevcore\u001B[0m (use `wandb login --relogin` to force relogin)\n",
      "\u001B[34m\u001B[1mwandb\u001B[0m: \n",
      "\u001B[34m\u001B[1mwandb\u001B[0m: Plotting Regressor.\n",
      "\u001B[34m\u001B[1mwandb\u001B[0m: Logged summary metrics.\n",
      "\u001B[34m\u001B[1mwandb\u001B[0m: Logged learning curve.\n",
      "d:\\development\\fhnw\\ip5-metriken-bauwesen\\venv\\lib\\site-packages\\pandas\\core\\arraylike.py:358: RuntimeWarning: invalid value encountered in sqrt\n",
      "  result = getattr(ufunc, method)(*inputs, **kwargs)\n",
      "\u001B[34m\u001B[1mwandb\u001B[0m: Logged outlier candidates.\n",
      "\u001B[34m\u001B[1mwandb\u001B[0m: Logged residuals.\n"
     ]
    },
    {
     "name": "stdout",
     "output_type": "stream",
     "text": [
      "{'model': 'GradientBoosting', 'features': 'area_total_floor_416, total_expenses, volume_total_416, x0_ANDERES, x0_AUSSENANLAGEN, x0_BEHERBERGUNG, x0_BETRIEB, x0_BUERO, x0_GESUNDHEIT, x0_HALLEN, x0_IRRELEVANT, x0_KULTUS_KULTUR, x0_OFFENE_BAUTEN, x0_SCHULEN, x0_TECHNIK, x0_WOHNEN', 'dataset-count': 79, 'description': 'Impute volume 416 (clustered), Removed outliers (2.3), Drop all, OneHotEncoding, Default Hyperparameter', 'related_run': 'peach-universe-66'}\n",
      "R^2 value:  0.8834155340133424\n",
      "neg_mean_squared_error -1606.6316752401951\n",
      "neg_mean_absolute_error -587.999456970958\n",
      "neg_mean_absolute_percentage_error -0.23351409439005252\n",
      "neg_max_error -12681.562622236874\n"
     ]
    },
    {
     "data": {
      "text/plain": "<IPython.core.display.HTML object>",
      "text/html": "\n                Tracking run with wandb version 0.10.32<br/>\n                Syncing run <strong style=\"color:#cdcd00\">pious-darkness-67</strong> to <a href=\"https://wandb.ai\" target=\"_blank\">Weights & Biases</a> <a href=\"https://docs.wandb.com/integrations/jupyter.html\" target=\"_blank\">(Documentation)</a>.<br/>\n                Project page: <a href=\"https://wandb.ai/devcore/Metriken%20Bauwesen\" target=\"_blank\">https://wandb.ai/devcore/Metriken%20Bauwesen</a><br/>\n                Run page: <a href=\"https://wandb.ai/devcore/Metriken%20Bauwesen/runs/20k1ahxr\" target=\"_blank\">https://wandb.ai/devcore/Metriken%20Bauwesen/runs/20k1ahxr</a><br/>\n                Run data is saved locally in <code>D:\\Development\\FHNW\\ip5-metriken-bauwesen\\src\\weight_and_bias\\wandb\\run-20210629_081853-20k1ahxr</code><br/><br/>\n            "
     },
     "metadata": {},
     "output_type": "display_data"
    }
   ],
   "source": [
    "if not train_run:\n",
    "    X, y = load_dataset()\n",
    "    init_wandb(X, TAG_TEST_SET, current_model, related_run='peach-universe-66')\n",
    "\n",
    "    regr = load(sh.export_directory_path(f'fitted_model.joblib'))\n",
    "\n",
    "    predictions = regr.predict(X)\n",
    "    r2_score = regr.score(X, y)\n",
    "    print(\"R^2 value: \", r2_score)\n",
    "    wandb.log({'test_r2_mean': r2_score})\n",
    "\n",
    "    neg_mean_squared_error = -mean_squared_error(y, predictions, squared=False)\n",
    "    print(\"neg_mean_squared_error\", neg_mean_squared_error)\n",
    "    wandb.log({'test_neg_root_mean_squared_error_mean': neg_mean_squared_error})\n",
    "\n",
    "    neg_mean_absolute_error = -mean_absolute_error(y, predictions)\n",
    "    print(\"neg_mean_absolute_error\", neg_mean_absolute_error)\n",
    "    wandb.log({'test_neg_mean_absolute_error_mean': neg_mean_absolute_error})\n",
    "\n",
    "    neg_mape = -mean_absolute_percentage_error(y, predictions)\n",
    "    print(\"neg_mean_absolute_percentage_error\", neg_mape)\n",
    "    wandb.log({'test_neg_mean_absolute_percentage_error_mean': neg_mape})\n",
    "\n",
    "    neg_max_error = -max_error(y, predictions)\n",
    "    print(\"neg_max_error\", neg_max_error)\n",
    "    wandb.log({'test_max_error_mean': neg_max_error})\n",
    "\n",
    "    wandb_plot_regressor(regr, X, y)\n",
    "\n",
    "# charts.plot_feature_importance(regr.feature_importances_, X.columns, 'GRADIENT BOOSTING')"
   ],
   "metadata": {
    "collapsed": false,
    "pycharm": {
     "name": "#%%\n"
    }
   }
  }
 ],
 "metadata": {
  "kernelspec": {
   "name": "python3",
   "language": "python",
   "display_name": "Python 3"
  },
  "language_info": {
   "codemirror_mode": {
    "name": "ipython",
    "version": 2
   },
   "file_extension": ".py",
   "mimetype": "text/x-python",
   "name": "python",
   "nbconvert_exporter": "python",
   "pygments_lexer": "ipython2",
   "version": "2.7.6"
  }
 },
 "nbformat": 4,
 "nbformat_minor": 0
}