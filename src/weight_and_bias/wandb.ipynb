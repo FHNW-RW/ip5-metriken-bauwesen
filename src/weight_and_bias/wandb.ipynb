{
 "cells": [
  {
   "cell_type": "markdown",
   "source": [
    "## Weight & Biases\n",
    "Zur Nachverfolgung und Analyse der Model-Performance"
   ],
   "metadata": {
    "collapsed": false
   }
  },
  {
   "cell_type": "markdown",
   "source": [
    "### Dataset\n",
    "- **Train:** Modell wird trainiert & validiert. Modell & Pipeline serialisiert\n",
    "- **Test:** Serialisierte Pipeline & Modell wird auf Test-Set angewendet"
   ],
   "metadata": {
    "collapsed": false
   }
  },
  {
   "cell_type": "code",
   "execution_count": 1,
   "outputs": [],
   "source": [
    "train_run = True"
   ],
   "metadata": {
    "collapsed": false,
    "pycharm": {
     "name": "#%%\n"
    }
   }
  },
  {
   "cell_type": "markdown",
   "source": [
    "### Initialisieren"
   ],
   "metadata": {
    "collapsed": false
   }
  },
  {
   "cell_type": "code",
   "execution_count": 2,
   "outputs": [],
   "source": [
    "from typing import Final\n",
    "\n",
    "import pandas as pd\n",
    "import wandb\n",
    "from joblib import load\n",
    "from numpy import mean\n",
    "from sklearn.ensemble import GradientBoostingRegressor\n",
    "from sklearn.model_selection import train_test_split\n",
    "\n",
    "import src.package.importer as im\n",
    "import src.package.importer_usages as imp_usg\n",
    "import src.package.ml_helper as ml_helper\n",
    "import src.package.shared as sh\n",
    "from sklearn.metrics import mean_absolute_error, mean_squared_error, max_error, mean_absolute_percentage_error\n",
    "\n",
    "pd.set_option('display.max_rows', 500)  # to show all value_counts\n",
    "\n",
    "MODEL_GRADIENT_BOOSTING: Final = 'GradientBoosting'\n",
    "MODEL_LINEAR_REGRESSION: Final = 'LinearRegression'\n",
    "current_model = MODEL_GRADIENT_BOOSTING\n",
    "\n",
    "TAG_TRAIN_SET: Final = 'train-set'\n",
    "TAG_TEST_SET: Final = 'test-set'\n",
    "\n",
    "def load_dataset():\n",
    "    set_file = 'train_set.csv' if train_run else 'test_set.csv'\n",
    "    df = im.get_extended_dataset(f'../package/datasets/{set_file}')\n",
    "    df = imp_usg.extract_usage_details(df)\n",
    "    df = imp_usg.extract_garage_details(df)\n",
    "\n",
    "    if train_run:\n",
    "        df = ml_helper.remove_outliers(df, factor=2.3)\n",
    "        return ml_helper.hnf_dataset_full(df)\n",
    "    else:\n",
    "        # load transform pipeline for test_set\n",
    "        pipeline = load(sh.export_directory_path(f'fitted_pipeline.joblib'))\n",
    "        return ml_helper.hnf_dataset_full(df, fitted_pipeline=pipeline)\n",
    "\n",
    "def init_wandb(X, tag_set, model):\n",
    "    wandb.login()\n",
    "\n",
    "    config = {\n",
    "        'model': model,\n",
    "        'features': ', '.join(X.columns.values),\n",
    "        'dataset-count': len(X.index),\n",
    "        'description': 'Impute volume 416 (clustered), Removed outliers (2.3), Drop all, OneHotEncoding, Default Hyperparameter'\n",
    "    }\n",
    "    print(config)\n",
    "    wandb.init(project='Metriken Bauwesen', entity='devcore', config=config, tags=[tag_set])\n",
    "\n",
    "def wandb_plot_regressor(regr, X, y):\n",
    "    X_train, X_test, y_train, y_test = train_test_split(X, y, test_size=0.2, random_state=2)\n",
    "    regr.fit(X_train, y_train)\n",
    "\n",
    "    wandb.sklearn.plot_regressor(regr, X_train, X_test, y_train, y_test)"
   ],
   "metadata": {
    "collapsed": false,
    "pycharm": {
     "name": "#%%\n"
    }
   }
  },
  {
   "cell_type": "markdown",
   "source": [
    "### Train-Run"
   ],
   "metadata": {
    "collapsed": false
   }
  },
  {
   "cell_type": "code",
   "execution_count": 3,
   "outputs": [
    {
     "name": "stdout",
     "output_type": "stream",
     "text": [
      "Location: C:\\Daten\\Development\\FHNW\\ip5-metriken-bauwesen\\export\\fitted_pipeline.joblib\n",
      "{'test_r2_mean': 0.9413018221158677}\n",
      "{'test_neg_mean_absolute_percentage_error_mean': -0.17279546940067625}\n",
      "{'test_neg_root_mean_squared_error_mean': -906.51337653121}\n",
      "{'test_neg_mean_absolute_error_mean': -479.4254723749493}\n",
      "{'test_max_error_mean': -4147.609003948322}\n",
      "Location: C:\\Daten\\Development\\FHNW\\ip5-metriken-bauwesen\\export\\fitted_model.joblib\n"
     ]
    }
   ],
   "source": [
    "if train_run:\n",
    "    X, y = load_dataset()\n",
    "    #init_wandb(X, TAG_TRAIN_SET, current_model)\n",
    "\n",
    "    regr = GradientBoostingRegressor(random_state=0)\n",
    "    scores_map = ml_helper.cross_validation(regr, X, y)\n",
    "\n",
    "    # log result of cross validation to wandb\n",
    "    for key in scores_map.keys():\n",
    "        if key in {'fit_time', 'score_time'}:\n",
    "            continue\n",
    "        scores = scores_map[key]\n",
    "        # wandb.log({f'{key}_mean': mean(scores)})\n",
    "        print({f'{key}_mean': mean(scores)})\n",
    "\n",
    "    #wandb_plot_regressor(regr, X, y)\n",
    "\n",
    "    # serialize model for test set\n",
    "    regr.fit(X, y)\n",
    "    sh.serialize_object(regr, 'fitted_model')"
   ],
   "metadata": {
    "collapsed": false,
    "pycharm": {
     "name": "#%%\n"
    }
   }
  },
  {
   "cell_type": "markdown",
   "source": [
    "### Test-Run"
   ],
   "metadata": {
    "collapsed": false
   }
  },
  {
   "cell_type": "code",
   "execution_count": 4,
   "outputs": [],
   "source": [
    "if not train_run:\n",
    "    X, y = load_dataset()\n",
    "    #init_wandb(X, TAG_TEST_SET, current_model)\n",
    "\n",
    "    regr = load(sh.export_directory_path(f'fitted_model.joblib'))\n",
    "\n",
    "    predictions = regr.predict(X)\n",
    "    r2_score = regr.score(X, y)\n",
    "    print(\"R^2 value: \", r2_score)\n",
    "\n",
    "    print(\"mean_absolute_error\", mean_absolute_error(y, predictions))\n",
    "    print(\"mean_absolute_percentage_error\", mean_absolute_percentage_error(y, predictions))\n",
    "    print(\"mean_squared_error\", mean_squared_error(y, predictions))\n",
    "    print(\"max_error\", max_error(y, predictions))\n",
    "\n",
    "    #wandb_plot_regressor(regr, X, y)\n",
    "\n",
    "# charts.plot_feature_importance(regr.feature_importances_, X.columns, 'GRADIENT BOOSTING')"
   ],
   "metadata": {
    "collapsed": false,
    "pycharm": {
     "name": "#%%\n"
    }
   }
  }
 ],
 "metadata": {
  "kernelspec": {
   "name": "python3",
   "language": "python",
   "display_name": "Python 3"
  },
  "language_info": {
   "codemirror_mode": {
    "name": "ipython",
    "version": 2
   },
   "file_extension": ".py",
   "mimetype": "text/x-python",
   "name": "python",
   "nbconvert_exporter": "python",
   "pygments_lexer": "ipython2",
   "version": "2.7.6"
  }
 },
 "nbformat": 4,
 "nbformat_minor": 0
}