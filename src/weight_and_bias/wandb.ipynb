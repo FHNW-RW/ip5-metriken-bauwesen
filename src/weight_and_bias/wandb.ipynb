{
 "cells": [
  {
   "cell_type": "markdown",
   "source": [
    "## Weight & Biases\n",
    "Zur Nachverfolgung und Analyse der Model-Performance"
   ],
   "metadata": {
    "collapsed": false
   }
  },
  {
   "cell_type": "markdown",
   "source": [
    "### Dataset\n",
    "- **Train:** Modell wird trainiert & validiert. Modell & Pipeline serialisiert\n",
    "- **Test:** Serialisierte Pipeline & Modell wird auf Test-Set angewendet"
   ],
   "metadata": {
    "collapsed": false
   }
  },
  {
   "cell_type": "code",
   "execution_count": 1,
   "outputs": [],
   "source": [
    "train_run = True\n",
    "residuals_plot = False\n",
    "plot_save_feature_importance = False"
   ],
   "metadata": {
    "collapsed": false,
    "pycharm": {
     "name": "#%%\n"
    }
   }
  },
  {
   "cell_type": "markdown",
   "source": [
    "### Initialisieren"
   ],
   "metadata": {
    "collapsed": false
   }
  },
  {
   "cell_type": "code",
   "execution_count": 2,
   "outputs": [],
   "source": [
    "from typing import Final\n",
    "\n",
    "import wandb\n",
    "import pandas as pd\n",
    "from joblib import load\n",
    "from numpy import mean\n",
    "from sklearn.ensemble import GradientBoostingRegressor\n",
    "from sklearn.metrics import mean_absolute_error, mean_squared_error, max_error, mean_absolute_percentage_error\n",
    "from sklearn.model_selection import RepeatedKFold\n",
    "\n",
    "import src.package.consts as c\n",
    "import src.package.importer as im\n",
    "import src.package.importer_usages as imp_usg\n",
    "import src.package.ml_helper as ml_helper\n",
    "import src.package.shared as sh\n",
    "import src.package.charts as charts\n",
    "\n",
    "pd.set_option('display.max_rows', 500)  # to show all value_counts\n",
    "\n",
    "MODEL_GRADIENT_BOOSTING: Final = 'GradientBoosting'\n",
    "MODEL_LINEAR_REGRESSION: Final = 'LinearRegression'\n",
    "current_model = MODEL_GRADIENT_BOOSTING\n",
    "\n",
    "TAG_TRAIN_SET: Final = 'train-set'\n",
    "TAG_TEST_SET: Final = 'test-set'\n",
    "\n",
    "HIGHEST_ONLY: Final = True # requires LabelEncoder to be activated\n",
    "INCLUDE_GARAGES: Final = True\n",
    "COMBINE_GARAGES: Final = True\n",
    "HO_MAX_FIELDS: Final = 1 # available for 'HIGHEST_ONLY' only – max possible = 4 (primary, secondary, tertiary and quaternary)\n",
    "HO_PERCENTAGE_ONLY: Final = True # available for 'HIGHEST_ONLY' only – requires to deactivate LabelEncoder\n",
    "LOSS_FUNCTION: Final = 'lad'\n",
    "\n",
    "def load_dataset(residual_test_run: bool = False):\n",
    "    # set_file = 'train_set.csv' if train_run else 'test_set.csv'\n",
    "    set_file = 'full_dataset.csv'\n",
    "    df = im.get_extended_dataset(f'../package/datasets/{set_file}')\n",
    "    df, new_fields = imp_usg.extract_usage_details(df,\n",
    "                                                   highest_only=HIGHEST_ONLY,\n",
    "                                                   include_garages=INCLUDE_GARAGES,\n",
    "                                                   combine_garages=COMBINE_GARAGES,\n",
    "                                                   max_fields=HO_MAX_FIELDS,\n",
    "                                                   percentages_only=HO_PERCENTAGE_ONLY\n",
    "                                                   )\n",
    "\n",
    "    # additional_features = [c.FIELD_AREA_TOTAL_FLOOR_416]\n",
    "    additional_features = [c.FIELD_AREA_MAIN_USAGE]\n",
    "    additional_features.extend(new_fields)\n",
    "\n",
    "    # field_to_predict = c.FIELD_AREA_USAGE\n",
    "    field_to_predict = c.FIELD_AREA_TOTAL_FLOOR_416\n",
    "    # field_to_predict = c.FIELD_AREA_MAIN_USAGE\n",
    "\n",
    "    if train_run and not residual_test_run:\n",
    "        df = ml_helper.remove_outliers(df, factor=2.3)\n",
    "        return ml_helper.ml_dataset_full(df, field_to_predict=field_to_predict,\n",
    "                                         additional_features=additional_features)\n",
    "    else:\n",
    "        # load transform pipeline for test_set\n",
    "        pipeline = load(sh.export_directory_path(f'fitted_pipeline.joblib'))\n",
    "        return ml_helper.ml_dataset_full(df, field_to_predict=field_to_predict,\n",
    "                                         additional_features=additional_features,\n",
    "                                         fitted_pipeline=pipeline)\n",
    "\n",
    "\n",
    "def init_wandb(X, tag_set, model, related_run=None):\n",
    "    wandb.login()\n",
    "\n",
    "    config = {\n",
    "        'model'        : model,\n",
    "        'features'     : ', '.join(X.columns.values),\n",
    "        'dataset-count': len(X.index),\n",
    "        'description'  : 'New Dataset, Impute volume 416 (clustered), Removed outliers (2.3), Drop all, OneHotEncoding, Default Hyperparameter'\n",
    "    }\n",
    "\n",
    "    if related_run is not None:\n",
    "        config['related_run'] = related_run\n",
    "\n",
    "    print(config)\n",
    "    wandb.init(project='Metriken Bauwesen', entity='devcore', config=config, tags=[tag_set])\n"
   ],
   "metadata": {
    "collapsed": false,
    "pycharm": {
     "name": "#%%\n"
    }
   }
  },
  {
   "cell_type": "markdown",
   "source": [
    "### Train-Run"
   ],
   "metadata": {
    "collapsed": false
   }
  },
  {
   "cell_type": "code",
   "execution_count": 3,
   "outputs": [
    {
     "name": "stdout",
     "output_type": "stream",
     "text": [
      "Location: D:\\Development\\FHNW\\ip5-metriken-bauwesen\\export\\cluster_means.joblib\n",
      "Location: D:\\Development\\FHNW\\ip5-metriken-bauwesen\\export\\fitted_pipeline.joblib\n",
      "{'model': 'GradientBoosting', 'features': 'num_floors_underground, num_floors_overground, garage_combined, total_expenses, primary_percentage, volume_total_416, area_main_usage, x0_ANDERES, x0_BEHERBERGUNG, x0_BETRIEB, x0_BUERO, x0_GESUNDHEIT, x0_HALLEN, x0_KULTUS_KULTUR, x0_OFFENE_BAUTEN, x0_SCHULEN, x0_TECHNIK, x0_WOHNEN', 'dataset-count': 194, 'description': 'New Dataset, Impute volume 416 (clustered), Removed outliers (2.3), Drop all, OneHotEncoding, Default Hyperparameter'}\n",
      "{'test_r2_mean': 0.935587805818986}\n",
      "{'test_neg_mean_absolute_percentage_error_mean': -0.13113324185130057}\n",
      "{'test_neg_root_mean_squared_error_mean': -1817.9294513911161}\n",
      "{'test_neg_mean_absolute_error_mean': -812.3490011255444}\n",
      "{'test_max_error_mean': -8638.913090441836}\n",
      "Location: D:\\Development\\FHNW\\ip5-metriken-bauwesen\\export\\fitted_model.joblib\n"
     ]
    }
   ],
   "source": [
    "if train_run:\n",
    "    X, y = load_dataset()\n",
    "    init_wandb(X, TAG_TRAIN_SET, current_model)\n",
    "\n",
    "    regr = GradientBoostingRegressor(random_state=0,\n",
    "                                     learning_rate=0.03551,\n",
    "                                     subsample=0.528,\n",
    "                                     n_estimators=1024,\n",
    "                                     max_depth=8,\n",
    "                                     min_samples_split=5,\n",
    "                                     loss=LOSS_FUNCTION)\n",
    "\n",
    "    scores_map = ml_helper.cross_validation(regr, X, y, cv=RepeatedKFold(n_splits=5, n_repeats=10, random_state=0))\n",
    "\n",
    "    # log result of cross validation to wandb\n",
    "    if not residuals_plot:\n",
    "        for key in scores_map.keys():\n",
    "            if key in {'fit_time', 'score_time'}:\n",
    "                continue\n",
    "            scores = scores_map[key]\n",
    "            wandb.log({f'{key}_mean': mean(scores)})\n",
    "            print({f'{key}_mean': mean(scores)})\n",
        "\n",
    "    if plot_save_feature_importance:\n",
    "        regr = regr.fit(X, y)\n",
    "        PO = '_PO' if HO_PERCENTAGE_ONLY else ''\n",
    "        KOMB = '_KOMB' if COMBINE_GARAGES else ''\n",
    "        HO = '_HO' if HIGHEST_ONLY else '_OHE'\n",
    "        GRG = '_GRG' if INCLUDE_GARAGES else ''\n",
    "        SET_TYPE = 'TRAIN' if train_run else 'TEST'\n",
    "        charts.plot_feature_importance(regr.feature_importances_,\n",
    "                                       X.columns,\n",
    "                                       current_model,\n",
    "                                       save_label=f\"{SET_TYPE}_{LOSS_FUNCTION}{HO}{GRG}{KOMB}_{HO_MAX_FIELDS}{PO}\")\n",
    "\n",
    "    # serialize model for test set\n",
    "    regr.fit(X, y)\n",
    "    sh.serialize_object(regr, 'fitted_model')\n",
    "\n",
    "    # sync residual plot\n",
    "    if residuals_plot:\n",
    "        X_test, y_test = load_dataset(residual_test_run=True)\n",
    "        wandb.sklearn.plot_regressor(regr, X, X_test, y, y_test)"
   ],
   "metadata": {
    "collapsed": false,
    "pycharm": {
     "name": "#%%\n"
    }
   }
  },
  {
   "cell_type": "markdown",
   "source": [
    "### Test-Run"
   ],
   "metadata": {
    "collapsed": false
   }
  },
  {
   "cell_type": "code",
   "execution_count": 4,
   "outputs": [],
   "source": [
    "if not train_run:\n",
    "    X, y = load_dataset()\n",
    "    init_wandb(X, TAG_TEST_SET, current_model, related_run='peach-universe-66')\n",
    "\n",
    "    regr = load(sh.export_directory_path(f'fitted_model.joblib'))\n",
    "    predictions = regr.predict(X)\n",
    "\n",
    "    r2_score = regr.score(X, y)\n",
    "    print(\"R^2 value: \", r2_score)\n",
    "    wandb.log({'test_r2_mean': r2_score})\n",
    "\n",
    "    neg_mean_squared_error = -mean_squared_error(y, predictions, squared=True)\n",
    "    print(\"neg_mean_squared_error\", neg_mean_squared_error)\n",
    "    wandb.log({'test_neg_root_mean_squared_error_mean': neg_mean_squared_error})\n",
    "\n",
    "    neg_root_mean_squared_error = -mean_squared_error(y, predictions, squared=False)\n",
    "    print(\"neg_root_mean_squared_error\", neg_root_mean_squared_error)\n",
    "    wandb.log({'test_neg_root_mean_squared_error_mean': neg_mean_squared_error})\n",
    "\n",
    "    neg_mean_absolute_error = -mean_absolute_error(y, predictions)\n",
    "    print(\"neg_mean_absolute_error\", neg_mean_absolute_error)\n",
    "    wandb.log({'test_neg_mean_absolute_error_mean': neg_mean_absolute_error})\n",
    "\n",
    "    neg_mape = -mean_absolute_percentage_error(y, predictions)\n",
    "    print(\"neg_mean_absolute_percentage_error\", neg_mape)\n",
    "    wandb.log({'test_neg_mean_absolute_percentage_error_mean': neg_mape})\n",
    "\n",
    "    neg_max_error = -max_error(y, predictions)\n",
    "    print(\"neg_max_error\", neg_max_error)\n",
    "    wandb.log({'test_max_error_mean': neg_max_error})\n",
    "\n",
    "    if plot_save_feature_importance:\n",
    "        regr = regr.fit(X, y)\n",
    "        PO = '_PO' if HO_PERCENTAGE_ONLY else ''\n",
    "        KOMB = '_KOMB' if COMBINE_GARAGES else ''\n",
    "        HO = '_HO' if HIGHEST_ONLY else '_OHE'\n",
    "        GRG = '_GRG' if INCLUDE_GARAGES else ''\n",
    "        SET_TYPE = 'TRAIN' if train_run else 'TEST'\n",
    "        charts.plot_feature_importance(regr.feature_importances_,\n",
    "                                       X.columns,\n",
    "                                       current_model,\n",
    "                                       save_label=f\"{SET_TYPE}_{LOSS_FUNCTION}{HO}{GRG}{KOMB}_{HO_MAX_FIELDS}{PO}\")\n"
   ],
   "metadata": {
    "collapsed": false,
    "pycharm": {
     "name": "#%%\n"
    }
   }
  }
 ],
 "metadata": {
  "kernelspec": {
   "name": "python3",
   "language": "python",
   "display_name": "Python 3"
  },
  "language_info": {
   "codemirror_mode": {
    "name": "ipython",
    "version": 2
   },
   "file_extension": ".py",
   "mimetype": "text/x-python",
   "name": "python",
   "nbconvert_exporter": "python",
   "pygments_lexer": "ipython2",
   "version": "2.7.6"
  }
 },
 "nbformat": 4,
 "nbformat_minor": 0
}