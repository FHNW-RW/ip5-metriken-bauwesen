{
 "cells": [
  {
   "cell_type": "markdown",
   "source": [
    "## Weight & Biases\n",
    "Zur Nachverfolgung und Analyse der Model-Performance"
   ],
   "metadata": {
    "collapsed": false
   }
  },
  {
   "cell_type": "markdown",
   "source": [
    "### Dataset\n",
    "- **Train:** Modell wird trainiert & validiert. Modell & Pipeline serialisiert\n",
    "- **Test:** Serialisierte Pipeline & Modell wird auf Test-Set angewendet"
   ],
   "metadata": {
    "collapsed": false
   }
  },
  {
   "cell_type": "code",
   "execution_count": 5,
   "outputs": [],
   "source": [
    "train_run = True"
   ],
   "metadata": {
    "collapsed": false,
    "pycharm": {
     "name": "#%%\n"
    }
   }
  },
  {
   "cell_type": "markdown",
   "source": [
    "### Initialisieren"
   ],
   "metadata": {
    "collapsed": false
   }
  },
  {
   "cell_type": "code",
   "execution_count": 6,
   "outputs": [],
   "source": [
    "from typing import Final\n",
    "\n",
    "import pandas as pd\n",
    "import wandb\n",
    "from joblib import load\n",
    "from numpy import mean\n",
    "from sklearn.ensemble import GradientBoostingRegressor\n",
    "from sklearn.model_selection import train_test_split\n",
    "\n",
    "import src.package.importer as im\n",
    "import src.package.importer_usages as imp_usg\n",
    "import src.package.ml_helper as ml_helper\n",
    "import src.package.shared as sh\n",
    "import src.package.consts as c\n",
    "from sklearn.metrics import mean_absolute_error, mean_squared_error, max_error, mean_absolute_percentage_error\n",
    "\n",
    "pd.set_option('display.max_rows', 500)  # to show all value_counts\n",
    "\n",
    "MODEL_GRADIENT_BOOSTING: Final = 'GradientBoosting'\n",
    "MODEL_LINEAR_REGRESSION: Final = 'LinearRegression'\n",
    "current_model = MODEL_GRADIENT_BOOSTING\n",
    "\n",
    "TAG_TRAIN_SET: Final = 'train-set'\n",
    "TAG_TEST_SET: Final = 'test-set'\n",
    "\n",
    "def load_dataset():\n",
    "    set_file = 'train_set.csv' if train_run else 'test_set.csv'\n",
    "    df = im.get_extended_dataset(f'../package/datasets/{set_file}')\n",
    "    df, usage_types = imp_usg.extract_usage_details(df, highest_only=True, combine_garages=True)\n",
    "\n",
    "    features = [\n",
    "            c.FIELD_AREA_MAIN_USAGE,\n",
    "            c.FIELD_AREA_TOTAL_FLOOR_416,\n",
    "            c.FIELD_USAGE_CLUSTER,\n",
    "            # c.FIELD_NOM_USAGE_MAIN,\n",
    "            c.FIELD_NUM_FLOORS_UNDERGROUND,\n",
    "            c.FIELD_NUM_FLOORS_OVERGROUND,\n",
    "            # c.GARAGE_TYPE_UG,\n",
    "            # c.GARAGE_TYPE_OG,\n",
    "            c.FIELD_TOTAL_EXPENSES,\n",
    "            c.PRIMARY_USAGE_PERCENTAGE,\n",
    "            # c.SECONDARY_USAGE_PERCENTAGE,\n",
    "            # c.TERTIARY_USAGE_PERCENTAGE,\n",
    "            # c.QUATERNARY_USAGE_PERCENTAGE,\n",
    "            c.FIELD_VOLUME_TOTAL_416,\n",
    "            c.FIELD_VOLUME_TOTAL_116,\n",
    "        ]\n",
    "\n",
    "    # features.extend(usage_types)\n",
    "    features.append(c.GARAGE_COMBINED)\n",
    "\n",
    "    if train_run:\n",
    "        df = ml_helper.remove_outliers(df, factor=2.3)\n",
    "        return ml_helper.hnf_dataset_full(df, features=features)\n",
    "    else:\n",
    "        # load transform pipeline for test_set\n",
    "        pipeline = load(sh.export_directory_path(f'fitted_pipeline.joblib'))\n",
    "        return ml_helper.hnf_dataset_full(df, features=features, fitted_pipeline=pipeline)\n",
    "\n",
    "def init_wandb(X, tag_set, model, related_run=None):\n",
    "    wandb.login()\n",
    "\n",
    "    config = {\n",
    "        'model': model,\n",
    "        'features': ', '.join(X.columns.values),\n",
    "        'dataset-count': len(X.index),\n",
    "        'description': 'Impute volume 416 (clustered), Removed outliers (2.3), Drop all, OneHotEncoding, Default Hyperparameter'\n",
    "    }\n",
    "\n",
    "    if related_run is not None:\n",
    "        config['related_run'] = related_run\n",
    "\n",
    "    print(config)\n",
    "    wandb.init(project='Metriken Bauwesen', entity='devcore', config=config, tags=[tag_set])\n",
    "\n",
    "def wandb_plot_regressor(regr, X, y):\n",
    "    X_train, X_test, y_train, y_test = train_test_split(X, y, test_size=0.2, random_state=2)\n",
    "    regr.fit(X_train, y_train)\n",
    "\n",
    "    wandb.sklearn.plot_regressor(regr, X_train, X_test, y_train, y_test)"
   ],
   "metadata": {
    "collapsed": false,
    "pycharm": {
     "name": "#%%\n"
    }
   }
  },
  {
   "cell_type": "markdown",
   "source": [
    "### Train-Run"
   ],
   "metadata": {
    "collapsed": false
   }
  },
  {
   "cell_type": "code",
   "execution_count": 7,
   "outputs": [
    {
     "name": "stdout",
     "output_type": "stream",
     "text": [
      "Location: /Users/lucadietiker/Documents/05_Projects/Python.nosync/ip5-metriken-bauwesen/export/cluster_means.joblib\n"
     ]
    },
    {
     "ename": "KeyError",
     "evalue": "'usage_cluster'",
     "output_type": "error",
     "traceback": [
      "\u001B[0;31m---------------------------------------------------------------------------\u001B[0m",
      "\u001B[0;31mKeyError\u001B[0m                                  Traceback (most recent call last)",
      "\u001B[0;32m<ipython-input-7-e3219dbc63a7>\u001B[0m in \u001B[0;36m<module>\u001B[0;34m\u001B[0m\n\u001B[1;32m      1\u001B[0m \u001B[0;32mif\u001B[0m \u001B[0mtrain_run\u001B[0m\u001B[0;34m:\u001B[0m\u001B[0;34m\u001B[0m\u001B[0;34m\u001B[0m\u001B[0m\n\u001B[0;32m----> 2\u001B[0;31m     \u001B[0mX\u001B[0m\u001B[0;34m,\u001B[0m \u001B[0my\u001B[0m \u001B[0;34m=\u001B[0m \u001B[0mload_dataset\u001B[0m\u001B[0;34m(\u001B[0m\u001B[0;34m)\u001B[0m\u001B[0;34m\u001B[0m\u001B[0;34m\u001B[0m\u001B[0m\n\u001B[0m\u001B[1;32m      3\u001B[0m     \u001B[0;31m#init_wandb(X, TAG_TRAIN_SET, current_model)\u001B[0m\u001B[0;34m\u001B[0m\u001B[0;34m\u001B[0m\u001B[0;34m\u001B[0m\u001B[0m\n\u001B[1;32m      4\u001B[0m \u001B[0;34m\u001B[0m\u001B[0m\n\u001B[1;32m      5\u001B[0m     \u001B[0mregr\u001B[0m \u001B[0;34m=\u001B[0m \u001B[0mGradientBoostingRegressor\u001B[0m\u001B[0;34m(\u001B[0m\u001B[0mrandom_state\u001B[0m\u001B[0;34m=\u001B[0m\u001B[0;36m0\u001B[0m\u001B[0;34m)\u001B[0m\u001B[0;34m\u001B[0m\u001B[0;34m\u001B[0m\u001B[0m\n",
      "\u001B[0;32m<ipython-input-6-c2e753e8461f>\u001B[0m in \u001B[0;36mload_dataset\u001B[0;34m()\u001B[0m\n\u001B[1;32m     52\u001B[0m     \u001B[0;32mif\u001B[0m \u001B[0mtrain_run\u001B[0m\u001B[0;34m:\u001B[0m\u001B[0;34m\u001B[0m\u001B[0;34m\u001B[0m\u001B[0m\n\u001B[1;32m     53\u001B[0m         \u001B[0mdf\u001B[0m \u001B[0;34m=\u001B[0m \u001B[0mml_helper\u001B[0m\u001B[0;34m.\u001B[0m\u001B[0mremove_outliers\u001B[0m\u001B[0;34m(\u001B[0m\u001B[0mdf\u001B[0m\u001B[0;34m,\u001B[0m \u001B[0mfactor\u001B[0m\u001B[0;34m=\u001B[0m\u001B[0;36m2.3\u001B[0m\u001B[0;34m)\u001B[0m\u001B[0;34m\u001B[0m\u001B[0;34m\u001B[0m\u001B[0m\n\u001B[0;32m---> 54\u001B[0;31m         \u001B[0;32mreturn\u001B[0m \u001B[0mml_helper\u001B[0m\u001B[0;34m.\u001B[0m\u001B[0mhnf_dataset_full\u001B[0m\u001B[0;34m(\u001B[0m\u001B[0mdf\u001B[0m\u001B[0;34m,\u001B[0m \u001B[0mfeatures\u001B[0m\u001B[0;34m=\u001B[0m\u001B[0mfeatures\u001B[0m\u001B[0;34m)\u001B[0m\u001B[0;34m\u001B[0m\u001B[0;34m\u001B[0m\u001B[0m\n\u001B[0m\u001B[1;32m     55\u001B[0m     \u001B[0;32melse\u001B[0m\u001B[0;34m:\u001B[0m\u001B[0;34m\u001B[0m\u001B[0;34m\u001B[0m\u001B[0m\n\u001B[1;32m     56\u001B[0m         \u001B[0;31m# load transform pipeline for test_set\u001B[0m\u001B[0;34m\u001B[0m\u001B[0;34m\u001B[0m\u001B[0;34m\u001B[0m\u001B[0m\n",
      "\u001B[0;32m~/Documents/05_Projects/Python.nosync/ip5-metriken-bauwesen/src/package/ml_helper.py\u001B[0m in \u001B[0;36mhnf_dataset_full\u001B[0;34m(df, features, remove_features, fitted_pipeline)\u001B[0m\n\u001B[1;32m     75\u001B[0m             \u001B[0;34m(\u001B[0m\u001B[0;34m'usage_encoder'\u001B[0m\u001B[0;34m,\u001B[0m \u001B[0mOneHotEncodingTransformer\u001B[0m\u001B[0;34m(\u001B[0m\u001B[0mc\u001B[0m\u001B[0;34m.\u001B[0m\u001B[0mFIELD_USAGE_CLUSTER\u001B[0m\u001B[0;34m)\u001B[0m\u001B[0;34m)\u001B[0m\u001B[0;34m,\u001B[0m\u001B[0;34m\u001B[0m\u001B[0;34m\u001B[0m\u001B[0m\n\u001B[1;32m     76\u001B[0m         ])\n\u001B[0;32m---> 77\u001B[0;31m         \u001B[0mdataset\u001B[0m \u001B[0;34m=\u001B[0m \u001B[0mtransform_pipeline\u001B[0m\u001B[0;34m.\u001B[0m\u001B[0mfit_transform\u001B[0m\u001B[0;34m(\u001B[0m\u001B[0mdataset\u001B[0m\u001B[0;34m)\u001B[0m\u001B[0;34m\u001B[0m\u001B[0;34m\u001B[0m\u001B[0m\n\u001B[0m\u001B[1;32m     78\u001B[0m \u001B[0;34m\u001B[0m\u001B[0m\n\u001B[1;32m     79\u001B[0m         \u001B[0;31m# serialize pipeline\u001B[0m\u001B[0;34m\u001B[0m\u001B[0;34m\u001B[0m\u001B[0;34m\u001B[0m\u001B[0m\n",
      "\u001B[0;32m/Library/Frameworks/Python.framework/Versions/3.9/lib/python3.9/site-packages/sklearn/pipeline.py\u001B[0m in \u001B[0;36mfit_transform\u001B[0;34m(self, X, y, **fit_params)\u001B[0m\n\u001B[1;32m    376\u001B[0m         \"\"\"\n\u001B[1;32m    377\u001B[0m         \u001B[0mfit_params_steps\u001B[0m \u001B[0;34m=\u001B[0m \u001B[0mself\u001B[0m\u001B[0;34m.\u001B[0m\u001B[0m_check_fit_params\u001B[0m\u001B[0;34m(\u001B[0m\u001B[0;34m**\u001B[0m\u001B[0mfit_params\u001B[0m\u001B[0;34m)\u001B[0m\u001B[0;34m\u001B[0m\u001B[0;34m\u001B[0m\u001B[0m\n\u001B[0;32m--> 378\u001B[0;31m         \u001B[0mXt\u001B[0m \u001B[0;34m=\u001B[0m \u001B[0mself\u001B[0m\u001B[0;34m.\u001B[0m\u001B[0m_fit\u001B[0m\u001B[0;34m(\u001B[0m\u001B[0mX\u001B[0m\u001B[0;34m,\u001B[0m \u001B[0my\u001B[0m\u001B[0;34m,\u001B[0m \u001B[0;34m**\u001B[0m\u001B[0mfit_params_steps\u001B[0m\u001B[0;34m)\u001B[0m\u001B[0;34m\u001B[0m\u001B[0;34m\u001B[0m\u001B[0m\n\u001B[0m\u001B[1;32m    379\u001B[0m \u001B[0;34m\u001B[0m\u001B[0m\n\u001B[1;32m    380\u001B[0m         \u001B[0mlast_step\u001B[0m \u001B[0;34m=\u001B[0m \u001B[0mself\u001B[0m\u001B[0;34m.\u001B[0m\u001B[0m_final_estimator\u001B[0m\u001B[0;34m\u001B[0m\u001B[0;34m\u001B[0m\u001B[0m\n",
      "\u001B[0;32m/Library/Frameworks/Python.framework/Versions/3.9/lib/python3.9/site-packages/sklearn/pipeline.py\u001B[0m in \u001B[0;36m_fit\u001B[0;34m(self, X, y, **fit_params_steps)\u001B[0m\n\u001B[1;32m    301\u001B[0m                 \u001B[0mcloned_transformer\u001B[0m \u001B[0;34m=\u001B[0m \u001B[0mclone\u001B[0m\u001B[0;34m(\u001B[0m\u001B[0mtransformer\u001B[0m\u001B[0;34m)\u001B[0m\u001B[0;34m\u001B[0m\u001B[0;34m\u001B[0m\u001B[0m\n\u001B[1;32m    302\u001B[0m             \u001B[0;31m# Fit or load from cache the current transformer\u001B[0m\u001B[0;34m\u001B[0m\u001B[0;34m\u001B[0m\u001B[0;34m\u001B[0m\u001B[0m\n\u001B[0;32m--> 303\u001B[0;31m             X, fitted_transformer = fit_transform_one_cached(\n\u001B[0m\u001B[1;32m    304\u001B[0m                 \u001B[0mcloned_transformer\u001B[0m\u001B[0;34m,\u001B[0m \u001B[0mX\u001B[0m\u001B[0;34m,\u001B[0m \u001B[0my\u001B[0m\u001B[0;34m,\u001B[0m \u001B[0;32mNone\u001B[0m\u001B[0;34m,\u001B[0m\u001B[0;34m\u001B[0m\u001B[0;34m\u001B[0m\u001B[0m\n\u001B[1;32m    305\u001B[0m                 \u001B[0mmessage_clsname\u001B[0m\u001B[0;34m=\u001B[0m\u001B[0;34m'Pipeline'\u001B[0m\u001B[0;34m,\u001B[0m\u001B[0;34m\u001B[0m\u001B[0;34m\u001B[0m\u001B[0m\n",
      "\u001B[0;32m/Library/Frameworks/Python.framework/Versions/3.9/lib/python3.9/site-packages/joblib/memory.py\u001B[0m in \u001B[0;36m__call__\u001B[0;34m(self, *args, **kwargs)\u001B[0m\n\u001B[1;32m    350\u001B[0m \u001B[0;34m\u001B[0m\u001B[0m\n\u001B[1;32m    351\u001B[0m     \u001B[0;32mdef\u001B[0m \u001B[0m__call__\u001B[0m\u001B[0;34m(\u001B[0m\u001B[0mself\u001B[0m\u001B[0;34m,\u001B[0m \u001B[0;34m*\u001B[0m\u001B[0margs\u001B[0m\u001B[0;34m,\u001B[0m \u001B[0;34m**\u001B[0m\u001B[0mkwargs\u001B[0m\u001B[0;34m)\u001B[0m\u001B[0;34m:\u001B[0m\u001B[0;34m\u001B[0m\u001B[0;34m\u001B[0m\u001B[0m\n\u001B[0;32m--> 352\u001B[0;31m         \u001B[0;32mreturn\u001B[0m \u001B[0mself\u001B[0m\u001B[0;34m.\u001B[0m\u001B[0mfunc\u001B[0m\u001B[0;34m(\u001B[0m\u001B[0;34m*\u001B[0m\u001B[0margs\u001B[0m\u001B[0;34m,\u001B[0m \u001B[0;34m**\u001B[0m\u001B[0mkwargs\u001B[0m\u001B[0;34m)\u001B[0m\u001B[0;34m\u001B[0m\u001B[0;34m\u001B[0m\u001B[0m\n\u001B[0m\u001B[1;32m    353\u001B[0m \u001B[0;34m\u001B[0m\u001B[0m\n\u001B[1;32m    354\u001B[0m     \u001B[0;32mdef\u001B[0m \u001B[0mcall_and_shelve\u001B[0m\u001B[0;34m(\u001B[0m\u001B[0mself\u001B[0m\u001B[0;34m,\u001B[0m \u001B[0;34m*\u001B[0m\u001B[0margs\u001B[0m\u001B[0;34m,\u001B[0m \u001B[0;34m**\u001B[0m\u001B[0mkwargs\u001B[0m\u001B[0;34m)\u001B[0m\u001B[0;34m:\u001B[0m\u001B[0;34m\u001B[0m\u001B[0;34m\u001B[0m\u001B[0m\n",
      "\u001B[0;32m/Library/Frameworks/Python.framework/Versions/3.9/lib/python3.9/site-packages/sklearn/pipeline.py\u001B[0m in \u001B[0;36m_fit_transform_one\u001B[0;34m(transformer, X, y, weight, message_clsname, message, **fit_params)\u001B[0m\n\u001B[1;32m    752\u001B[0m     \u001B[0;32mwith\u001B[0m \u001B[0m_print_elapsed_time\u001B[0m\u001B[0;34m(\u001B[0m\u001B[0mmessage_clsname\u001B[0m\u001B[0;34m,\u001B[0m \u001B[0mmessage\u001B[0m\u001B[0;34m)\u001B[0m\u001B[0;34m:\u001B[0m\u001B[0;34m\u001B[0m\u001B[0;34m\u001B[0m\u001B[0m\n\u001B[1;32m    753\u001B[0m         \u001B[0;32mif\u001B[0m \u001B[0mhasattr\u001B[0m\u001B[0;34m(\u001B[0m\u001B[0mtransformer\u001B[0m\u001B[0;34m,\u001B[0m \u001B[0;34m'fit_transform'\u001B[0m\u001B[0;34m)\u001B[0m\u001B[0;34m:\u001B[0m\u001B[0;34m\u001B[0m\u001B[0;34m\u001B[0m\u001B[0m\n\u001B[0;32m--> 754\u001B[0;31m             \u001B[0mres\u001B[0m \u001B[0;34m=\u001B[0m \u001B[0mtransformer\u001B[0m\u001B[0;34m.\u001B[0m\u001B[0mfit_transform\u001B[0m\u001B[0;34m(\u001B[0m\u001B[0mX\u001B[0m\u001B[0;34m,\u001B[0m \u001B[0my\u001B[0m\u001B[0;34m,\u001B[0m \u001B[0;34m**\u001B[0m\u001B[0mfit_params\u001B[0m\u001B[0;34m)\u001B[0m\u001B[0;34m\u001B[0m\u001B[0;34m\u001B[0m\u001B[0m\n\u001B[0m\u001B[1;32m    755\u001B[0m         \u001B[0;32melse\u001B[0m\u001B[0;34m:\u001B[0m\u001B[0;34m\u001B[0m\u001B[0;34m\u001B[0m\u001B[0m\n\u001B[1;32m    756\u001B[0m             \u001B[0mres\u001B[0m \u001B[0;34m=\u001B[0m \u001B[0mtransformer\u001B[0m\u001B[0;34m.\u001B[0m\u001B[0mfit\u001B[0m\u001B[0;34m(\u001B[0m\u001B[0mX\u001B[0m\u001B[0;34m,\u001B[0m \u001B[0my\u001B[0m\u001B[0;34m,\u001B[0m \u001B[0;34m**\u001B[0m\u001B[0mfit_params\u001B[0m\u001B[0;34m)\u001B[0m\u001B[0;34m.\u001B[0m\u001B[0mtransform\u001B[0m\u001B[0;34m(\u001B[0m\u001B[0mX\u001B[0m\u001B[0;34m)\u001B[0m\u001B[0;34m\u001B[0m\u001B[0;34m\u001B[0m\u001B[0m\n",
      "\u001B[0;32m/Library/Frameworks/Python.framework/Versions/3.9/lib/python3.9/site-packages/sklearn/base.py\u001B[0m in \u001B[0;36mfit_transform\u001B[0;34m(self, X, y, **fit_params)\u001B[0m\n\u001B[1;32m    697\u001B[0m         \u001B[0;32mif\u001B[0m \u001B[0my\u001B[0m \u001B[0;32mis\u001B[0m \u001B[0;32mNone\u001B[0m\u001B[0;34m:\u001B[0m\u001B[0;34m\u001B[0m\u001B[0;34m\u001B[0m\u001B[0m\n\u001B[1;32m    698\u001B[0m             \u001B[0;31m# fit method of arity 1 (unsupervised transformation)\u001B[0m\u001B[0;34m\u001B[0m\u001B[0;34m\u001B[0m\u001B[0;34m\u001B[0m\u001B[0m\n\u001B[0;32m--> 699\u001B[0;31m             \u001B[0;32mreturn\u001B[0m \u001B[0mself\u001B[0m\u001B[0;34m.\u001B[0m\u001B[0mfit\u001B[0m\u001B[0;34m(\u001B[0m\u001B[0mX\u001B[0m\u001B[0;34m,\u001B[0m \u001B[0;34m**\u001B[0m\u001B[0mfit_params\u001B[0m\u001B[0;34m)\u001B[0m\u001B[0;34m.\u001B[0m\u001B[0mtransform\u001B[0m\u001B[0;34m(\u001B[0m\u001B[0mX\u001B[0m\u001B[0;34m)\u001B[0m\u001B[0;34m\u001B[0m\u001B[0;34m\u001B[0m\u001B[0m\n\u001B[0m\u001B[1;32m    700\u001B[0m         \u001B[0;32melse\u001B[0m\u001B[0;34m:\u001B[0m\u001B[0;34m\u001B[0m\u001B[0;34m\u001B[0m\u001B[0m\n\u001B[1;32m    701\u001B[0m             \u001B[0;31m# fit method of arity 2 (supervised transformation)\u001B[0m\u001B[0;34m\u001B[0m\u001B[0;34m\u001B[0m\u001B[0;34m\u001B[0m\u001B[0m\n",
      "\u001B[0;32m~/Documents/05_Projects/Python.nosync/ip5-metriken-bauwesen/src/package/transformers.py\u001B[0m in \u001B[0;36mtransform\u001B[0;34m(self, X, y)\u001B[0m\n\u001B[1;32m     52\u001B[0m \u001B[0;34m\u001B[0m\u001B[0m\n\u001B[1;32m     53\u001B[0m     \u001B[0;32mdef\u001B[0m \u001B[0mtransform\u001B[0m\u001B[0;34m(\u001B[0m\u001B[0mself\u001B[0m\u001B[0;34m,\u001B[0m \u001B[0mX\u001B[0m\u001B[0;34m,\u001B[0m \u001B[0my\u001B[0m\u001B[0;34m=\u001B[0m\u001B[0;32mNone\u001B[0m\u001B[0;34m)\u001B[0m\u001B[0;34m:\u001B[0m\u001B[0;34m\u001B[0m\u001B[0;34m\u001B[0m\u001B[0m\n\u001B[0;32m---> 54\u001B[0;31m         X = X.groupby(c.FIELD_USAGE_CLUSTER).apply(\n\u001B[0m\u001B[1;32m     55\u001B[0m             lambda x: self.__apply_cluster_mean(x, x[c.FIELD_USAGE_CLUSTER].iloc[0]))\n\u001B[1;32m     56\u001B[0m \u001B[0;34m\u001B[0m\u001B[0m\n",
      "\u001B[0;32m/Library/Frameworks/Python.framework/Versions/3.9/lib/python3.9/site-packages/pandas/core/frame.py\u001B[0m in \u001B[0;36mgroupby\u001B[0;34m(self, by, axis, level, as_index, sort, group_keys, squeeze, observed, dropna)\u001B[0m\n\u001B[1;32m   6715\u001B[0m         \u001B[0maxis\u001B[0m \u001B[0;34m=\u001B[0m \u001B[0mself\u001B[0m\u001B[0;34m.\u001B[0m\u001B[0m_get_axis_number\u001B[0m\u001B[0;34m(\u001B[0m\u001B[0maxis\u001B[0m\u001B[0;34m)\u001B[0m\u001B[0;34m\u001B[0m\u001B[0;34m\u001B[0m\u001B[0m\n\u001B[1;32m   6716\u001B[0m \u001B[0;34m\u001B[0m\u001B[0m\n\u001B[0;32m-> 6717\u001B[0;31m         return DataFrameGroupBy(\n\u001B[0m\u001B[1;32m   6718\u001B[0m             \u001B[0mobj\u001B[0m\u001B[0;34m=\u001B[0m\u001B[0mself\u001B[0m\u001B[0;34m,\u001B[0m\u001B[0;34m\u001B[0m\u001B[0;34m\u001B[0m\u001B[0m\n\u001B[1;32m   6719\u001B[0m             \u001B[0mkeys\u001B[0m\u001B[0;34m=\u001B[0m\u001B[0mby\u001B[0m\u001B[0;34m,\u001B[0m\u001B[0;34m\u001B[0m\u001B[0;34m\u001B[0m\u001B[0m\n",
      "\u001B[0;32m/Library/Frameworks/Python.framework/Versions/3.9/lib/python3.9/site-packages/pandas/core/groupby/groupby.py\u001B[0m in \u001B[0;36m__init__\u001B[0;34m(self, obj, keys, axis, level, grouper, exclusions, selection, as_index, sort, group_keys, squeeze, observed, mutated, dropna)\u001B[0m\n\u001B[1;32m    558\u001B[0m             \u001B[0;32mfrom\u001B[0m \u001B[0mpandas\u001B[0m\u001B[0;34m.\u001B[0m\u001B[0mcore\u001B[0m\u001B[0;34m.\u001B[0m\u001B[0mgroupby\u001B[0m\u001B[0;34m.\u001B[0m\u001B[0mgrouper\u001B[0m \u001B[0;32mimport\u001B[0m \u001B[0mget_grouper\u001B[0m\u001B[0;34m\u001B[0m\u001B[0;34m\u001B[0m\u001B[0m\n\u001B[1;32m    559\u001B[0m \u001B[0;34m\u001B[0m\u001B[0m\n\u001B[0;32m--> 560\u001B[0;31m             grouper, exclusions, obj = get_grouper(\n\u001B[0m\u001B[1;32m    561\u001B[0m                 \u001B[0mobj\u001B[0m\u001B[0;34m,\u001B[0m\u001B[0;34m\u001B[0m\u001B[0;34m\u001B[0m\u001B[0m\n\u001B[1;32m    562\u001B[0m                 \u001B[0mkeys\u001B[0m\u001B[0;34m,\u001B[0m\u001B[0;34m\u001B[0m\u001B[0;34m\u001B[0m\u001B[0m\n",
      "\u001B[0;32m/Library/Frameworks/Python.framework/Versions/3.9/lib/python3.9/site-packages/pandas/core/groupby/grouper.py\u001B[0m in \u001B[0;36mget_grouper\u001B[0;34m(obj, key, axis, level, sort, observed, mutated, validate, dropna)\u001B[0m\n\u001B[1;32m    809\u001B[0m                 \u001B[0min_axis\u001B[0m\u001B[0;34m,\u001B[0m \u001B[0mname\u001B[0m\u001B[0;34m,\u001B[0m \u001B[0mlevel\u001B[0m\u001B[0;34m,\u001B[0m \u001B[0mgpr\u001B[0m \u001B[0;34m=\u001B[0m \u001B[0;32mFalse\u001B[0m\u001B[0;34m,\u001B[0m \u001B[0;32mNone\u001B[0m\u001B[0;34m,\u001B[0m \u001B[0mgpr\u001B[0m\u001B[0;34m,\u001B[0m \u001B[0;32mNone\u001B[0m\u001B[0;34m\u001B[0m\u001B[0;34m\u001B[0m\u001B[0m\n\u001B[1;32m    810\u001B[0m             \u001B[0;32melse\u001B[0m\u001B[0;34m:\u001B[0m\u001B[0;34m\u001B[0m\u001B[0;34m\u001B[0m\u001B[0m\n\u001B[0;32m--> 811\u001B[0;31m                 \u001B[0;32mraise\u001B[0m \u001B[0mKeyError\u001B[0m\u001B[0;34m(\u001B[0m\u001B[0mgpr\u001B[0m\u001B[0;34m)\u001B[0m\u001B[0;34m\u001B[0m\u001B[0;34m\u001B[0m\u001B[0m\n\u001B[0m\u001B[1;32m    812\u001B[0m         \u001B[0;32melif\u001B[0m \u001B[0misinstance\u001B[0m\u001B[0;34m(\u001B[0m\u001B[0mgpr\u001B[0m\u001B[0;34m,\u001B[0m \u001B[0mGrouper\u001B[0m\u001B[0;34m)\u001B[0m \u001B[0;32mand\u001B[0m \u001B[0mgpr\u001B[0m\u001B[0;34m.\u001B[0m\u001B[0mkey\u001B[0m \u001B[0;32mis\u001B[0m \u001B[0;32mnot\u001B[0m \u001B[0;32mNone\u001B[0m\u001B[0;34m:\u001B[0m\u001B[0;34m\u001B[0m\u001B[0;34m\u001B[0m\u001B[0m\n\u001B[1;32m    813\u001B[0m             \u001B[0;31m# Add key to exclusions\u001B[0m\u001B[0;34m\u001B[0m\u001B[0;34m\u001B[0m\u001B[0;34m\u001B[0m\u001B[0m\n",
      "\u001B[0;31mKeyError\u001B[0m: 'usage_cluster'"
     ]
    }
   ],
   "source": [
    "if train_run:\n",
    "    X, y = load_dataset()\n",
    "    #init_wandb(X, TAG_TRAIN_SET, current_model)\n",
    "\n",
    "    regr = GradientBoostingRegressor(random_state=0)\n",
    "    scores_map = ml_helper.cross_validation(regr, X, y)\n",
    "\n",
    "    # log result of cross validation to wandb\n",
    "    for key in scores_map.keys():\n",
    "        if key in {'fit_time', 'score_time'}:\n",
    "            continue\n",
    "        scores = scores_map[key]\n",
    "        # wandb.log({f'{key}_mean': mean(scores)})\n",
    "        print({f'{key}_mean': mean(scores)})\n",
    "\n",
    "    #wandb_plot_regressor(regr, X, y)\n",
    "\n",
    "    # serialize model for test set\n",
    "    regr.fit(X, y)\n",
    "    sh.serialize_object(regr, 'fitted_model')"
   ],
   "metadata": {
    "collapsed": false,
    "pycharm": {
     "name": "#%%\n"
    }
   }
  },
  {
   "cell_type": "markdown",
   "source": [
    "### Test-Run"
   ],
   "metadata": {
    "collapsed": false
   }
  },
  {
   "cell_type": "code",
   "execution_count": null,
   "outputs": [],
   "source": [
    "if not train_run:\n",
    "    X, y = load_dataset()\n",
    "    # init_wandb(X, TAG_TEST_SET, current_model, related_run='peach-universe-66')\n",
    "\n",
    "    regr = load(sh.export_directory_path(f'fitted_model.joblib'))\n",
    "\n",
    "    predictions = regr.predict(X)\n",
    "    r2_score = regr.score(X, y)\n",
    "    print(\"R^2 value: \", r2_score)\n",
    "    # wandb.log({'test_r2_mean': r2_score})\n",
    "\n",
    "    neg_mean_squared_error = -mean_squared_error(y, predictions, squared=False)\n",
    "    print(\"neg_mean_squared_error\", neg_mean_squared_error)\n",
    "    # wandb.log({'test_neg_root_mean_squared_error_mean': neg_mean_squared_error})\n",
    "\n",
    "    neg_mean_absolute_error = -mean_absolute_error(y, predictions)\n",
    "    print(\"neg_mean_absolute_error\", neg_mean_absolute_error)\n",
    "    # wandb.log({'test_neg_mean_absolute_error_mean': neg_mean_absolute_error})\n",
    "\n",
    "    neg_mape = -mean_absolute_percentage_error(y, predictions)\n",
    "    print(\"neg_mean_absolute_percentage_error\", neg_mape)\n",
    "    # wandb.log({'test_neg_mean_absolute_percentage_error_mean': neg_mape})\n",
    "\n",
    "    neg_max_error = -max_error(y, predictions)\n",
    "    print(\"neg_max_error\", neg_max_error)\n",
    "    # wandb.log({'test_max_error_mean': neg_max_error})\n",
    "\n",
    "    # wandb_plot_regressor(regr, X, y)\n",
    "\n",
    "# charts.plot_feature_importance(regr.feature_importances_, X.columns, 'GRADIENT BOOSTING')"
   ],
   "metadata": {
    "collapsed": false,
    "pycharm": {
     "name": "#%%\n"
    }
   }
  }
 ],
 "metadata": {
  "kernelspec": {
   "name": "pycharm-839b7289",
   "language": "python",
   "display_name": "PyCharm (ip5-metriken-bauwesen)"
  },
  "language_info": {
   "codemirror_mode": {
    "name": "ipython",
    "version": 2
   },
   "file_extension": ".py",
   "mimetype": "text/x-python",
   "name": "python",
   "nbconvert_exporter": "python",
   "pygments_lexer": "ipython2",
   "version": "2.7.6"
  }
 },
 "nbformat": 4,
 "nbformat_minor": 0
}