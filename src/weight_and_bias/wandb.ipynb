{
 "cells": [
  {
   "cell_type": "markdown",
   "source": [
    "## Weight & Biases\n",
    "Zur Nachverfolgung und Analyse der Model-Performance"
   ],
   "metadata": {
    "collapsed": false
   }
  },
  {
   "cell_type": "markdown",
   "source": [
    "### Dataset & Runs\n",
    "Namen für Datensets und Runs für bessere Nachvollziehbarkeit auf wandb\n",
    "\n",
    "#### Runs\n",
    "- **gb-hnf-uc**: Gradient Boosting mit HNF & UsageCluster\n",
    "- **gb-hnf-cu**: Gradient Boosting mit HNF & Combined Usage\n"
   ],
   "metadata": {
    "collapsed": false
   }
  },
  {
   "cell_type": "markdown",
   "source": [
    "### Gradient Boosting\n",
    "Imports & Datensatz laden"
   ],
   "metadata": {
    "collapsed": false
   }
  },
  {
   "cell_type": "code",
   "execution_count": 7,
   "outputs": [
    {
     "name": "stdout",
     "output_type": "stream",
     "text": [
      "id                                                   353\n",
      "source                               wbw_193_1993_3     \n",
      "verification_status                          VERIFIED_OK\n",
      "title                  Überbauung Hellmutstrasse, Zürich\n",
      "neubau_umbau                                      NEUBAU\n",
      "                                     ...                \n",
      "nom_bki_kostenstand                                  NaN\n",
      "total_expenses                                13647000.0\n",
      "cost_ref_gf                                       6380.0\n",
      "cost_ref_gfs                                      3660.0\n",
      "ratio_hnf_gf                                         NaN\n",
      "Name: 217, Length: 186, dtype: object\n"
     ]
    },
    {
     "name": "stderr",
     "output_type": "stream",
     "text": [
      "\u001B[34m\u001B[1mwandb\u001B[0m: \u001B[33mWARNING\u001B[0m Calling wandb.login() after wandb.init() has no effect.\n",
      "\u001B[34m\u001B[1mwandb\u001B[0m: \n",
      "\u001B[34m\u001B[1mwandb\u001B[0m: Plotting Gradient Boost.\n",
      "\u001B[34m\u001B[1mwandb\u001B[0m: Logged summary metrics.\n",
      "\u001B[34m\u001B[1mwandb\u001B[0m: Logged learning curve.\n",
      "\u001B[34m\u001B[1mwandb\u001B[0m: Logged outlier candidates.\n",
      "\u001B[34m\u001B[1mwandb\u001B[0m: \u001B[33mWARNING\u001B[0m wandb uses only the first 10000 datapoints to create the plots.\n",
      "\u001B[34m\u001B[1mwandb\u001B[0m: Logged residuals.\n"
     ]
    },
    {
     "data": {
      "text/plain": "<IPython.core.display.HTML object>",
      "text/html": "Finishing last run (ID:25wlbcmd) before initializing another..."
     },
     "metadata": {},
     "output_type": "display_data"
    },
    {
     "data": {
      "text/plain": "<IPython.core.display.HTML object>",
      "text/html": "<br/>Waiting for W&B process to finish, PID 16176<br/>Program ended successfully."
     },
     "metadata": {},
     "output_type": "display_data"
    },
    {
     "data": {
      "text/plain": "VBox(children=(Label(value=' 0.07MB of 0.07MB uploaded (0.00MB deduped)\\r'), FloatProgress(value=1.0, max=1.0)…",
      "application/vnd.jupyter.widget-view+json": {
       "version_major": 2,
       "version_minor": 0,
       "model_id": "1310519179284c0cbb2131868b8bf9e6"
      }
     },
     "metadata": {},
     "output_type": "display_data"
    },
    {
     "data": {
      "text/plain": "<IPython.core.display.HTML object>",
      "text/html": "Find user logs for this run at: <code>D:\\Development\\FHNW\\ip5-metriken-bauwesen\\src\\weight_and_bias\\wandb\\run-20210607_170208-25wlbcmd\\logs\\debug.log</code>"
     },
     "metadata": {},
     "output_type": "display_data"
    },
    {
     "data": {
      "text/plain": "<IPython.core.display.HTML object>",
      "text/html": "Find internal logs for this run at: <code>D:\\Development\\FHNW\\ip5-metriken-bauwesen\\src\\weight_and_bias\\wandb\\run-20210607_170208-25wlbcmd\\logs\\debug-internal.log</code>"
     },
     "metadata": {},
     "output_type": "display_data"
    },
    {
     "data": {
      "text/plain": "<IPython.core.display.HTML object>",
      "text/html": "<h3>Run summary:</h3><br/><style>\n    table.wandb td:nth-child(1) { padding: 0 10px; text-align: right }\n    </style><table class=\"wandb\">\n<tr><td>test_r2_mean</td><td>0.90552</td></tr><tr><td>_runtime</td><td>11</td></tr><tr><td>_timestamp</td><td>1623078139</td></tr><tr><td>_step</td><td>8</td></tr><tr><td>test_neg_mean_absolute_percentage_error_mean</td><td>-0.19485</td></tr><tr><td>test_neg_root_mean_squared_error_mean</td><td>-1251.86036</td></tr><tr><td>test_neg_mean_absolute_error_mean</td><td>-550.31913</td></tr><tr><td>test_max_error_mean</td><td>-8067.56527</td></tr></table>"
     },
     "metadata": {},
     "output_type": "display_data"
    },
    {
     "data": {
      "text/plain": "<IPython.core.display.HTML object>",
      "text/html": "<h3>Run history:</h3><br/><style>\n    table.wandb td:nth-child(1) { padding: 0 10px; text-align: right }\n    </style><table class=\"wandb\">\n<tr><td>test_r2_mean</td><td>▁</td></tr><tr><td>_runtime</td><td>▁▁▁▁▁▁▃▆█</td></tr><tr><td>_timestamp</td><td>▁▁▁▁▁▁▃▆█</td></tr><tr><td>_step</td><td>▁▂▃▄▅▅▆▇█</td></tr><tr><td>test_neg_mean_absolute_percentage_error_mean</td><td>▁</td></tr><tr><td>test_neg_root_mean_squared_error_mean</td><td>▁</td></tr><tr><td>test_neg_mean_absolute_error_mean</td><td>▁</td></tr><tr><td>test_max_error_mean</td><td>▁</td></tr></table><br/>"
     },
     "metadata": {},
     "output_type": "display_data"
    },
    {
     "data": {
      "text/plain": "<IPython.core.display.HTML object>",
      "text/html": "Synced 5 W&B file(s), 4 media file(s), 4 artifact file(s) and 0 other file(s)"
     },
     "metadata": {},
     "output_type": "display_data"
    },
    {
     "data": {
      "text/plain": "<IPython.core.display.HTML object>",
      "text/html": "\n                    <br/>Synced <strong style=\"color:#cdcd00\">proud-paper-24</strong>: <a href=\"https://wandb.ai/devcore/Metriken%20Bauwesen/runs/25wlbcmd\" target=\"_blank\">https://wandb.ai/devcore/Metriken%20Bauwesen/runs/25wlbcmd</a><br/>\n                "
     },
     "metadata": {},
     "output_type": "display_data"
    },
    {
     "data": {
      "text/plain": "<IPython.core.display.HTML object>",
      "text/html": "...Successfully finished last run (ID:25wlbcmd). Initializing new run:<br/><br/>"
     },
     "metadata": {},
     "output_type": "display_data"
    },
    {
     "data": {
      "text/plain": "<IPython.core.display.HTML object>",
      "text/html": "\n                Tracking run with wandb version 0.10.31<br/>\n                Syncing run <strong style=\"color:#cdcd00\">young-bush-25</strong> to <a href=\"https://wandb.ai\" target=\"_blank\">Weights & Biases</a> <a href=\"https://docs.wandb.com/integrations/jupyter.html\" target=\"_blank\">(Documentation)</a>.<br/>\n                Project page: <a href=\"https://wandb.ai/devcore/Metriken%20Bauwesen\" target=\"_blank\">https://wandb.ai/devcore/Metriken%20Bauwesen</a><br/>\n                Run page: <a href=\"https://wandb.ai/devcore/Metriken%20Bauwesen/runs/1j6ddbgp\" target=\"_blank\">https://wandb.ai/devcore/Metriken%20Bauwesen/runs/1j6ddbgp</a><br/>\n                Run data is saved locally in <code>D:\\Development\\FHNW\\ip5-metriken-bauwesen\\src\\weight_and_bias\\wandb\\run-20210607_171708-1j6ddbgp</code><br/><br/>\n            "
     },
     "metadata": {},
     "output_type": "display_data"
    }
   ],
   "source": [
    "import wandb\n",
    "from sklearn.ensemble import GradientBoostingRegressor\n",
    "from sklearn import linear_model\n",
    "from sklearn.model_selection import train_test_split\n",
    "\n",
    "import src.package.charts as charts\n",
    "import src.package.importer as im\n",
    "import src.package.importer_usages as imp_usg\n",
    "import src.package.ml_helper as ml_helper\n",
    "from numpy import mean\n",
    "\n",
    "# load dataset\n",
    "df = im.get_dataset('../package/dataset.csv')\n",
    "df = imp_usg.extract_usage_details(df)\n",
    "df = imp_usg.extract_garage_details(df)\n",
    "\n",
    "X, y = ml_helper.hnf_dataset_full(df)\n",
    "\n",
    "wandb.login()\n",
    "\n",
    "config = {\n",
    "    'model': 'LinearRegression',\n",
    "    'features': ', '.join(X.columns.values),\n",
    "    'dataset-count': len(X.index),\n",
    "    'description': 'Drop all, Default Hyperparameter'\n",
    "}\n",
    "wandb.init(project='Metriken Bauwesen', entity='devcore', config=config)\n",
    "\n",
    "# train and evaluate model\n",
    "#regr = GradientBoostingRegressor(random_state=0)\n",
    "regr = linear_model.LinearRegression()\n",
    "scores_map = ml_helper.cross_validation(regr, X, y)\n",
    "\n",
    "# log result of cross validation to wandb\n",
    "for key in scores_map.keys():\n",
    "    if key in {'fit_time', 'score_time'}:\n",
    "        continue\n",
    "    scores = scores_map[key]\n",
    "    wandb.log({f'{key}_mean': mean(scores)})\n",
    "    #print({f'{key}_mean': mean(scores)})\n",
    "\n",
    "\n",
    "# use wandb regression eval\n",
    "X_train, X_test, y_train, y_test = train_test_split(X, y, test_size=0.2)\n",
    "regr.fit(X_train, y_train)\n",
    "\n",
    "wandb.sklearn.plot_regressor(regr, X_train, X_test, y_train, y_test,  model_name='Gradient Boost')\n",
    "\n",
    "# charts.plot_feature_importance(regr.feature_importances_, X.columns, 'GRADIENT BOOSTING')"
   ],
   "metadata": {
    "collapsed": false,
    "pycharm": {
     "name": "#%%\n"
    }
   }
  },
  {
   "cell_type": "markdown",
   "source": [
    "### Linear Regression\n",
    "Trainieren und testen des Models mit Repeated-Cross-Validation"
   ],
   "metadata": {
    "collapsed": false
   }
  },
  {
   "cell_type": "code",
   "execution_count": 8,
   "outputs": [],
   "source": [
    "# TODO: evaluate model\n",
    "\n"
   ],
   "metadata": {
    "collapsed": false,
    "pycharm": {
     "name": "#%%\n"
    }
   }
  }
 ],
 "metadata": {
  "kernelspec": {
   "name": "python3",
   "language": "python",
   "display_name": "Python 3"
  },
  "language_info": {
   "codemirror_mode": {
    "name": "ipython",
    "version": 2
   },
   "file_extension": ".py",
   "mimetype": "text/x-python",
   "name": "python",
   "nbconvert_exporter": "python",
   "pygments_lexer": "ipython2",
   "version": "2.7.6"
  }
 },
 "nbformat": 4,
 "nbformat_minor": 0
}