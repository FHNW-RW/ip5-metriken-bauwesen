{
 "cells": [
  {
   "cell_type": "markdown",
   "source": [
    "## Weight & Biases\n",
    "Zur Nachverfolgung und Analyse der Model-Performance"
   ],
   "metadata": {
    "collapsed": false
   }
  },
  {
   "cell_type": "markdown",
   "source": [
    "### Dataset & Runs\n",
    "Namen für Datensets und Runs für bessere Nachvollziehbarkeit auf wandb\n",
    "\n",
    "#### Runs\n",
    "- **gb-hnf-uc**: Gradient Boosting mit HNF & UsageCluster\n",
    "- **gb-hnf-cu**: Gradient Boosting mit HNF & Combined Usage\n"
   ],
   "metadata": {
    "collapsed": false
   }
  },
  {
   "cell_type": "markdown",
   "source": [
    "### Gradient Boosting\n",
    "Imports & Datensatz laden"
   ],
   "metadata": {
    "collapsed": false
   }
  },
  {
   "cell_type": "code",
   "execution_count": 2,
   "outputs": [
    {
     "name": "stderr",
     "output_type": "stream",
     "text": [
      "\u001B[34m\u001B[1mwandb\u001B[0m: You can find your API key in your browser here: https://wandb.ai/authorize\n",
      "\u001B[34m\u001B[1mwandb\u001B[0m: W&B syncing is set to `offline` in this directory.  Run `wandb online` or set WANDB_MODE=online to enable cloud syncing.\n",
      "\u001B[34m\u001B[1mwandb\u001B[0m: \n",
      "\u001B[34m\u001B[1mwandb\u001B[0m: Plotting Gradient Boost.\n",
      "\u001B[34m\u001B[1mwandb\u001B[0m: Logged summary metrics.\n",
      "\u001B[34m\u001B[1mwandb\u001B[0m: Logged learning curve.\n",
      "\u001B[34m\u001B[1mwandb\u001B[0m: Logged outlier candidates.\n",
      "\u001B[34m\u001B[1mwandb\u001B[0m: \u001B[33mWARNING\u001B[0m wandb uses only the first 10000 datapoints to create the plots.\n",
      "\u001B[34m\u001B[1mwandb\u001B[0m: Logged residuals.\n"
     ]
    },
    {
     "data": {
      "text/plain": "<Figure size 720x576 with 1 Axes>",
      "image/png": "[encoded data removed]"
     },
     "metadata": {
      "needs_background": "light"
     },
     "output_type": "display_data"
    }
   ],
   "source": [
    "from typing import Final\n",
    "import wandb\n",
    "from numpy import mean\n",
    "from sklearn import linear_model\n",
    "from sklearn.ensemble import GradientBoostingRegressor\n",
    "from sklearn.model_selection import train_test_split\n",
    "\n",
    "import src.package.charts as charts\n",
    "import src.package.importer as im\n",
    "import src.package.importer_usages as imp_usg\n",
    "import src.package.ml_helper as ml_helper\n",
    "\n",
    "# load dataset\n",
    "df = im.get_dataset('../package/datasets/train_set.csv')\n",
    "df = imp_usg.extract_usage_details(df)\n",
    "df = imp_usg.extract_garage_details(df)\n",
    "\n",
    "X, y = ml_helper.hnf_dataset_full(df)\n",
    "\n",
    "# wandb.login()\n",
    "\n",
    "\n",
    "TAG_TRAIN_SET: Final = 'train-set'\n",
    "TAG_TEST_SET: Final = 'test-set'\n",
    "config = {\n",
    "     'model': 'LinearRegression',\n",
    "     'features': ', '.join(X.columns.values),\n",
    "     'dataset-count': len(X.index),\n",
    "     'description': 'Drop all, Default Hyperparameter'\n",
    "}\n",
    "# wandb.init(project='Metriken Bauwesen', entity='devcore', config=config, tags=[TAG_TRAIN_SET])\n",
    "\n",
    "# train and evaluate model\n",
    "regr = GradientBoostingRegressor(random_state=0)\n",
    "# regr = linear_model.LinearRegression()\n",
    "scores_map = ml_helper.cross_validation(regr, X, y)\n",
    "\n",
    "# log result of cross validation to wandb\n",
    "# for key in scores_map.keys():\n",
    "#     if key in {'fit_time', 'score_time'}:\n",
    "#         continue\n",
    "#     scores = scores_map[key]\n",
    "#     wandb.log({f'{key}_mean': mean(scores)})\n",
    "#     print({f'{key}_mean': mean(scores)})\n",
    "\n",
    "# use wandb regression eval\n",
    "X_train, X_test, y_train, y_test = train_test_split(X, y, test_size=0.2)\n",
    "regr.fit(X_train, y_train)\n",
    "wandb.sklearn.plot_regressor(regr, X_train, X_test, y_train, y_test, model_name='Gradient Boost')\n",
    "wandb.sklearn.plot_outlier_candidates(regr, X_train, y_train)\n",
    "\n",
    "charts.plot_feature_importance(regr.feature_importances_, X.columns, 'GRADIENT BOOSTING')\n",
    "wandb.sklearn.plot_outlier_candidates(regr, X, y)"
   ],
   "metadata": {
    "collapsed": false,
    "pycharm": {
     "name": "#%%\n"
    }
   }
  }
 ],
 "metadata": {
  "kernelspec": {
   "name": "pycharm-839b7289",
   "language": "python",
   "display_name": "PyCharm (ip5-metriken-bauwesen)"
  },
  "language_info": {
   "codemirror_mode": {
    "name": "ipython",
    "version": 2
   },
   "file_extension": ".py",
   "mimetype": "text/x-python",
   "name": "python",
   "nbconvert_exporter": "python",
   "pygments_lexer": "ipython2",
   "version": "2.7.6"
  }
 },
 "nbformat": 4,
 "nbformat_minor": 0
}