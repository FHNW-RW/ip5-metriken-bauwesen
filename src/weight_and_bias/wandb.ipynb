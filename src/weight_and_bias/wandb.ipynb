{
 "cells": [
  {
   "cell_type": "markdown",
   "source": [
    "## Weight & Biases\n",
    "Zur Nachverfolgung und Analyse der Model-Performance"
   ],
   "metadata": {
    "collapsed": false
   }
  },
  {
   "cell_type": "markdown",
   "source": [
    "### Dataset\n",
    "- **Train:** Modell wird trainiert & validiert. Modell & Pipeline serialisiert\n",
    "- **Test:** Serialisierte Pipeline & Modell wird auf Test-Set angewendet"
   ],
   "metadata": {
    "collapsed": false
   }
  },
  {
   "cell_type": "code",
   "execution_count": 5,
   "outputs": [],
   "source": [
    "train_run = False"
   ],
   "metadata": {
    "collapsed": false,
    "pycharm": {
     "name": "#%%\n"
    }
   }
  },
  {
   "cell_type": "markdown",
   "source": [
    "### Initialisieren"
   ],
   "metadata": {
    "collapsed": false
   }
  },
  {
   "cell_type": "code",
   "execution_count": 6,
   "outputs": [],
   "source": [
    "from typing import Final\n",
    "\n",
    "import pandas as pd\n",
    "import wandb\n",
    "from joblib import load\n",
    "from numpy import mean\n",
    "from sklearn.ensemble import GradientBoostingRegressor\n",
    "from sklearn.model_selection import train_test_split\n",
    "\n",
    "import src.package.importer as im\n",
    "import src.package.importer_usages as imp_usg\n",
    "import src.package.ml_helper as ml_helper\n",
    "import src.package.shared as sh\n",
    "import src.package.consts as c\n",
    "from sklearn.metrics import mean_absolute_error, mean_squared_error, max_error, mean_absolute_percentage_error\n",
    "\n",
    "pd.set_option('display.max_rows', 500)  # to show all value_counts\n",
    "\n",
    "MODEL_GRADIENT_BOOSTING: Final = 'GradientBoosting'\n",
    "MODEL_LINEAR_REGRESSION: Final = 'LinearRegression'\n",
    "current_model = MODEL_GRADIENT_BOOSTING\n",
    "\n",
    "TAG_TRAIN_SET: Final = 'train-set'\n",
    "TAG_TEST_SET: Final = 'test-set'\n",
    "\n",
    "def load_dataset():\n",
    "    set_file = 'train_set.csv' if train_run else 'test_set.csv'\n",
    "    df = im.get_extended_dataset(f'../package/datasets/{set_file}')\n",
    "    df, usage_types = imp_usg.extract_usage_details(df, highest_only=True, combine_garages=False)\n",
    "\n",
    "    features = [\n",
    "            c.FIELD_AREA_MAIN_USAGE,\n",
    "            c.FIELD_AREA_TOTAL_FLOOR_416,\n",
    "            c.FIELD_USAGE_CLUSTER,\n",
    "            # c.FIELD_NOM_USAGE_MAIN,\n",
    "            c.FIELD_NUM_FLOORS_UNDERGROUND,\n",
    "            c.FIELD_NUM_FLOORS_OVERGROUND,\n",
    "            c.GARAGE_TYPE_UG,\n",
    "            c.GARAGE_TYPE_OG,\n",
    "            c.FIELD_TOTAL_EXPENSES,\n",
    "            c.PRIMARY_USAGE_PERCENTAGE,\n",
    "            c.SECONDARY_USAGE_PERCENTAGE,\n",
    "            c.TERTIARY_USAGE_PERCENTAGE,\n",
    "            c.QUATERNARY_USAGE_PERCENTAGE,\n",
    "            c.FIELD_VOLUME_TOTAL_416,\n",
    "            c.FIELD_VOLUME_TOTAL_116\n",
    "        ]\n",
    "    # features.extend(usage_types)\n",
    "    # features.append(c.GARAGE_COMBINED)\n",
    "\n",
    "    if train_run:\n",
    "        df = ml_helper.remove_outliers(df, factor=2.3)\n",
    "        return ml_helper.hnf_dataset_full(df, features=features)\n",
    "    else:\n",
    "        # load transform pipeline for test_set\n",
    "        pipeline = load(sh.export_directory_path(f'fitted_pipeline.joblib'))\n",
    "        return ml_helper.hnf_dataset_full(df, fitted_pipeline=pipeline)\n",
    "\n",
    "def init_wandb(X, tag_set, model, related_run=None):\n",
    "    wandb.login()\n",
    "\n",
    "    config = {\n",
    "        'model': model,\n",
    "        'features': ', '.join(X.columns.values),\n",
    "        'dataset-count': len(X.index),\n",
    "        'description': 'Impute volume 416 (clustered), Removed outliers (2.3), Drop all, OneHotEncoding, Default Hyperparameter'\n",
    "    }\n",
    "\n",
    "    if related_run is not None:\n",
    "        config['related_run'] = related_run\n",
    "\n",
    "    print(config)\n",
    "    wandb.init(project='Metriken Bauwesen', entity='devcore', config=config, tags=[tag_set])\n",
    "\n",
    "def wandb_plot_regressor(regr, X, y):\n",
    "    X_train, X_test, y_train, y_test = train_test_split(X, y, test_size=0.2, random_state=2)\n",
    "    regr.fit(X_train, y_train)\n",
    "\n",
    "    wandb.sklearn.plot_regressor(regr, X_train, X_test, y_train, y_test)"
   ],
   "metadata": {
    "collapsed": false,
    "pycharm": {
     "name": "#%%\n"
    }
   }
  },
  {
   "cell_type": "markdown",
   "source": [
    "### Train-Run"
   ],
   "metadata": {
    "collapsed": false
   }
  },
  {
   "cell_type": "code",
   "execution_count": 7,
   "outputs": [],
   "source": [
    "if train_run:\n",
    "    X, y = load_dataset()\n",
    "    #init_wandb(X, TAG_TRAIN_SET, current_model)\n",
    "\n",
    "    regr = GradientBoostingRegressor(random_state=0)\n",
    "    scores_map = ml_helper.cross_validation(regr, X, y)\n",
    "\n",
    "    # log result of cross validation to wandb\n",
    "    for key in scores_map.keys():\n",
    "        if key in {'fit_time', 'score_time'}:\n",
    "            continue\n",
    "        scores = scores_map[key]\n",
    "        # wandb.log({f'{key}_mean': mean(scores)})\n",
    "        print({f'{key}_mean': mean(scores)})\n",
    "\n",
    "    #wandb_plot_regressor(regr, X, y)\n",
    "\n",
    "    # serialize model for test set\n",
    "    regr.fit(X, y)\n",
    "    sh.serialize_object(regr, 'fitted_model')"
   ],
   "metadata": {
    "collapsed": false,
    "pycharm": {
     "name": "#%%\n"
    }
   }
  },
  {
   "cell_type": "markdown",
   "source": [
    "### Test-Run"
   ],
   "metadata": {
    "collapsed": false
   }
  },
  {
   "cell_type": "code",
   "execution_count": 8,
   "outputs": [
    {
     "ename": "KeyError",
     "evalue": "'AUSSENANLAGEN'",
     "output_type": "error",
     "traceback": [
      "\u001B[0;31m---------------------------------------------------------------------------\u001B[0m",
      "\u001B[0;31mKeyError\u001B[0m                                  Traceback (most recent call last)",
      "\u001B[0;32m<ipython-input-8-102c98a3a118>\u001B[0m in \u001B[0;36m<module>\u001B[0;34m\u001B[0m\n\u001B[1;32m      1\u001B[0m \u001B[0;32mif\u001B[0m \u001B[0;32mnot\u001B[0m \u001B[0mtrain_run\u001B[0m\u001B[0;34m:\u001B[0m\u001B[0;34m\u001B[0m\u001B[0;34m\u001B[0m\u001B[0m\n\u001B[0;32m----> 2\u001B[0;31m     \u001B[0mX\u001B[0m\u001B[0;34m,\u001B[0m \u001B[0my\u001B[0m \u001B[0;34m=\u001B[0m \u001B[0mload_dataset\u001B[0m\u001B[0;34m(\u001B[0m\u001B[0;34m)\u001B[0m\u001B[0;34m\u001B[0m\u001B[0;34m\u001B[0m\u001B[0m\n\u001B[0m\u001B[1;32m      3\u001B[0m     \u001B[0;31m# init_wandb(X, TAG_TEST_SET, current_model, related_run='peach-universe-66')\u001B[0m\u001B[0;34m\u001B[0m\u001B[0;34m\u001B[0m\u001B[0;34m\u001B[0m\u001B[0m\n\u001B[1;32m      4\u001B[0m \u001B[0;34m\u001B[0m\u001B[0m\n\u001B[1;32m      5\u001B[0m     \u001B[0mregr\u001B[0m \u001B[0;34m=\u001B[0m \u001B[0mload\u001B[0m\u001B[0;34m(\u001B[0m\u001B[0msh\u001B[0m\u001B[0;34m.\u001B[0m\u001B[0mexport_directory_path\u001B[0m\u001B[0;34m(\u001B[0m\u001B[0;34mf'fitted_model.joblib'\u001B[0m\u001B[0;34m)\u001B[0m\u001B[0;34m)\u001B[0m\u001B[0;34m\u001B[0m\u001B[0;34m\u001B[0m\u001B[0m\n",
      "\u001B[0;32m<ipython-input-6-807060b555f1>\u001B[0m in \u001B[0;36mload_dataset\u001B[0;34m()\u001B[0m\n\u001B[1;32m     55\u001B[0m         \u001B[0;31m# load transform pipeline for test_set\u001B[0m\u001B[0;34m\u001B[0m\u001B[0;34m\u001B[0m\u001B[0;34m\u001B[0m\u001B[0m\n\u001B[1;32m     56\u001B[0m         \u001B[0mpipeline\u001B[0m \u001B[0;34m=\u001B[0m \u001B[0mload\u001B[0m\u001B[0;34m(\u001B[0m\u001B[0msh\u001B[0m\u001B[0;34m.\u001B[0m\u001B[0mexport_directory_path\u001B[0m\u001B[0;34m(\u001B[0m\u001B[0;34mf'fitted_pipeline.joblib'\u001B[0m\u001B[0;34m)\u001B[0m\u001B[0;34m)\u001B[0m\u001B[0;34m\u001B[0m\u001B[0;34m\u001B[0m\u001B[0m\n\u001B[0;32m---> 57\u001B[0;31m         \u001B[0;32mreturn\u001B[0m \u001B[0mml_helper\u001B[0m\u001B[0;34m.\u001B[0m\u001B[0mhnf_dataset_full\u001B[0m\u001B[0;34m(\u001B[0m\u001B[0mdf\u001B[0m\u001B[0;34m,\u001B[0m \u001B[0mfitted_pipeline\u001B[0m\u001B[0;34m=\u001B[0m\u001B[0mpipeline\u001B[0m\u001B[0;34m)\u001B[0m\u001B[0;34m\u001B[0m\u001B[0;34m\u001B[0m\u001B[0m\n\u001B[0m\u001B[1;32m     58\u001B[0m \u001B[0;34m\u001B[0m\u001B[0m\n\u001B[1;32m     59\u001B[0m \u001B[0;32mdef\u001B[0m \u001B[0minit_wandb\u001B[0m\u001B[0;34m(\u001B[0m\u001B[0mX\u001B[0m\u001B[0;34m,\u001B[0m \u001B[0mtag_set\u001B[0m\u001B[0;34m,\u001B[0m \u001B[0mmodel\u001B[0m\u001B[0;34m,\u001B[0m \u001B[0mrelated_run\u001B[0m\u001B[0;34m=\u001B[0m\u001B[0;32mNone\u001B[0m\u001B[0;34m)\u001B[0m\u001B[0;34m:\u001B[0m\u001B[0;34m\u001B[0m\u001B[0;34m\u001B[0m\u001B[0m\n",
      "\u001B[0;32m~/Documents/05_Projects/Python.nosync/ip5-metriken-bauwesen/src/package/ml_helper.py\u001B[0m in \u001B[0;36mhnf_dataset_full\u001B[0;34m(df, features, remove_features, fitted_pipeline)\u001B[0m\n\u001B[1;32m     80\u001B[0m         \u001B[0msh\u001B[0m\u001B[0;34m.\u001B[0m\u001B[0mserialize_object\u001B[0m\u001B[0;34m(\u001B[0m\u001B[0mtransform_pipeline\u001B[0m\u001B[0;34m,\u001B[0m \u001B[0;34m'fitted_pipeline'\u001B[0m\u001B[0;34m)\u001B[0m\u001B[0;34m\u001B[0m\u001B[0;34m\u001B[0m\u001B[0m\n\u001B[1;32m     81\u001B[0m     \u001B[0;32melse\u001B[0m\u001B[0;34m:\u001B[0m\u001B[0;34m\u001B[0m\u001B[0;34m\u001B[0m\u001B[0m\n\u001B[0;32m---> 82\u001B[0;31m         \u001B[0mdataset\u001B[0m \u001B[0;34m=\u001B[0m \u001B[0mfitted_pipeline\u001B[0m\u001B[0;34m.\u001B[0m\u001B[0mtransform\u001B[0m\u001B[0;34m(\u001B[0m\u001B[0mdataset\u001B[0m\u001B[0;34m)\u001B[0m\u001B[0;34m\u001B[0m\u001B[0;34m\u001B[0m\u001B[0m\n\u001B[0m\u001B[1;32m     83\u001B[0m \u001B[0;34m\u001B[0m\u001B[0m\n\u001B[1;32m     84\u001B[0m     \u001B[0;31m# TODO: use median for some of the fields?\u001B[0m\u001B[0;34m\u001B[0m\u001B[0;34m\u001B[0m\u001B[0;34m\u001B[0m\u001B[0m\n",
      "\u001B[0;32m/Library/Frameworks/Python.framework/Versions/3.9/lib/python3.9/site-packages/sklearn/pipeline.py\u001B[0m in \u001B[0;36m_transform\u001B[0;34m(self, X)\u001B[0m\n\u001B[1;32m    558\u001B[0m         \u001B[0mXt\u001B[0m \u001B[0;34m=\u001B[0m \u001B[0mX\u001B[0m\u001B[0;34m\u001B[0m\u001B[0;34m\u001B[0m\u001B[0m\n\u001B[1;32m    559\u001B[0m         \u001B[0;32mfor\u001B[0m \u001B[0m_\u001B[0m\u001B[0;34m,\u001B[0m \u001B[0m_\u001B[0m\u001B[0;34m,\u001B[0m \u001B[0mtransform\u001B[0m \u001B[0;32min\u001B[0m \u001B[0mself\u001B[0m\u001B[0;34m.\u001B[0m\u001B[0m_iter\u001B[0m\u001B[0;34m(\u001B[0m\u001B[0;34m)\u001B[0m\u001B[0;34m:\u001B[0m\u001B[0;34m\u001B[0m\u001B[0;34m\u001B[0m\u001B[0m\n\u001B[0;32m--> 560\u001B[0;31m             \u001B[0mXt\u001B[0m \u001B[0;34m=\u001B[0m \u001B[0mtransform\u001B[0m\u001B[0;34m.\u001B[0m\u001B[0mtransform\u001B[0m\u001B[0;34m(\u001B[0m\u001B[0mXt\u001B[0m\u001B[0;34m)\u001B[0m\u001B[0;34m\u001B[0m\u001B[0;34m\u001B[0m\u001B[0m\n\u001B[0m\u001B[1;32m    561\u001B[0m         \u001B[0;32mreturn\u001B[0m \u001B[0mXt\u001B[0m\u001B[0;34m\u001B[0m\u001B[0;34m\u001B[0m\u001B[0m\n\u001B[1;32m    562\u001B[0m \u001B[0;34m\u001B[0m\u001B[0m\n",
      "\u001B[0;32m~/Documents/05_Projects/Python.nosync/ip5-metriken-bauwesen/src/package/transformers.py\u001B[0m in \u001B[0;36mtransform\u001B[0;34m(self, X, y)\u001B[0m\n\u001B[1;32m     52\u001B[0m \u001B[0;34m\u001B[0m\u001B[0m\n\u001B[1;32m     53\u001B[0m     \u001B[0;32mdef\u001B[0m \u001B[0mtransform\u001B[0m\u001B[0;34m(\u001B[0m\u001B[0mself\u001B[0m\u001B[0;34m,\u001B[0m \u001B[0mX\u001B[0m\u001B[0;34m,\u001B[0m \u001B[0my\u001B[0m\u001B[0;34m=\u001B[0m\u001B[0;32mNone\u001B[0m\u001B[0;34m)\u001B[0m\u001B[0;34m:\u001B[0m\u001B[0;34m\u001B[0m\u001B[0;34m\u001B[0m\u001B[0m\n\u001B[0;32m---> 54\u001B[0;31m         X = X.groupby(c.FIELD_USAGE_CLUSTER).apply(\n\u001B[0m\u001B[1;32m     55\u001B[0m             lambda x: self.__apply_cluster_mean(x, x[c.FIELD_USAGE_CLUSTER].iloc[0]))\n\u001B[1;32m     56\u001B[0m \u001B[0;34m\u001B[0m\u001B[0m\n",
      "\u001B[0;32m/Library/Frameworks/Python.framework/Versions/3.9/lib/python3.9/site-packages/pandas/core/groupby/groupby.py\u001B[0m in \u001B[0;36mapply\u001B[0;34m(self, func, *args, **kwargs)\u001B[0m\n\u001B[1;32m    892\u001B[0m         \u001B[0;32mwith\u001B[0m \u001B[0moption_context\u001B[0m\u001B[0;34m(\u001B[0m\u001B[0;34m\"mode.chained_assignment\"\u001B[0m\u001B[0;34m,\u001B[0m \u001B[0;32mNone\u001B[0m\u001B[0;34m)\u001B[0m\u001B[0;34m:\u001B[0m\u001B[0;34m\u001B[0m\u001B[0;34m\u001B[0m\u001B[0m\n\u001B[1;32m    893\u001B[0m             \u001B[0;32mtry\u001B[0m\u001B[0;34m:\u001B[0m\u001B[0;34m\u001B[0m\u001B[0;34m\u001B[0m\u001B[0m\n\u001B[0;32m--> 894\u001B[0;31m                 \u001B[0mresult\u001B[0m \u001B[0;34m=\u001B[0m \u001B[0mself\u001B[0m\u001B[0;34m.\u001B[0m\u001B[0m_python_apply_general\u001B[0m\u001B[0;34m(\u001B[0m\u001B[0mf\u001B[0m\u001B[0;34m,\u001B[0m \u001B[0mself\u001B[0m\u001B[0;34m.\u001B[0m\u001B[0m_selected_obj\u001B[0m\u001B[0;34m)\u001B[0m\u001B[0;34m\u001B[0m\u001B[0;34m\u001B[0m\u001B[0m\n\u001B[0m\u001B[1;32m    895\u001B[0m             \u001B[0;32mexcept\u001B[0m \u001B[0mTypeError\u001B[0m\u001B[0;34m:\u001B[0m\u001B[0;34m\u001B[0m\u001B[0;34m\u001B[0m\u001B[0m\n\u001B[1;32m    896\u001B[0m                 \u001B[0;31m# gh-20949\u001B[0m\u001B[0;34m\u001B[0m\u001B[0;34m\u001B[0m\u001B[0;34m\u001B[0m\u001B[0m\n",
      "\u001B[0;32m/Library/Frameworks/Python.framework/Versions/3.9/lib/python3.9/site-packages/pandas/core/groupby/groupby.py\u001B[0m in \u001B[0;36m_python_apply_general\u001B[0;34m(self, f, data)\u001B[0m\n\u001B[1;32m    926\u001B[0m             \u001B[0mdata\u001B[0m \u001B[0mafter\u001B[0m \u001B[0mapplying\u001B[0m \u001B[0mf\u001B[0m\u001B[0;34m\u001B[0m\u001B[0;34m\u001B[0m\u001B[0m\n\u001B[1;32m    927\u001B[0m         \"\"\"\n\u001B[0;32m--> 928\u001B[0;31m         \u001B[0mkeys\u001B[0m\u001B[0;34m,\u001B[0m \u001B[0mvalues\u001B[0m\u001B[0;34m,\u001B[0m \u001B[0mmutated\u001B[0m \u001B[0;34m=\u001B[0m \u001B[0mself\u001B[0m\u001B[0;34m.\u001B[0m\u001B[0mgrouper\u001B[0m\u001B[0;34m.\u001B[0m\u001B[0mapply\u001B[0m\u001B[0;34m(\u001B[0m\u001B[0mf\u001B[0m\u001B[0;34m,\u001B[0m \u001B[0mdata\u001B[0m\u001B[0;34m,\u001B[0m \u001B[0mself\u001B[0m\u001B[0;34m.\u001B[0m\u001B[0maxis\u001B[0m\u001B[0;34m)\u001B[0m\u001B[0;34m\u001B[0m\u001B[0;34m\u001B[0m\u001B[0m\n\u001B[0m\u001B[1;32m    929\u001B[0m \u001B[0;34m\u001B[0m\u001B[0m\n\u001B[1;32m    930\u001B[0m         return self._wrap_applied_output(\n",
      "\u001B[0;32m/Library/Frameworks/Python.framework/Versions/3.9/lib/python3.9/site-packages/pandas/core/groupby/ops.py\u001B[0m in \u001B[0;36mapply\u001B[0;34m(self, f, data, axis)\u001B[0m\n\u001B[1;32m    236\u001B[0m             \u001B[0;31m# group might be modified\u001B[0m\u001B[0;34m\u001B[0m\u001B[0;34m\u001B[0m\u001B[0;34m\u001B[0m\u001B[0m\n\u001B[1;32m    237\u001B[0m             \u001B[0mgroup_axes\u001B[0m \u001B[0;34m=\u001B[0m \u001B[0mgroup\u001B[0m\u001B[0;34m.\u001B[0m\u001B[0maxes\u001B[0m\u001B[0;34m\u001B[0m\u001B[0;34m\u001B[0m\u001B[0m\n\u001B[0;32m--> 238\u001B[0;31m             \u001B[0mres\u001B[0m \u001B[0;34m=\u001B[0m \u001B[0mf\u001B[0m\u001B[0;34m(\u001B[0m\u001B[0mgroup\u001B[0m\u001B[0;34m)\u001B[0m\u001B[0;34m\u001B[0m\u001B[0;34m\u001B[0m\u001B[0m\n\u001B[0m\u001B[1;32m    239\u001B[0m             \u001B[0;32mif\u001B[0m \u001B[0;32mnot\u001B[0m \u001B[0m_is_indexed_like\u001B[0m\u001B[0;34m(\u001B[0m\u001B[0mres\u001B[0m\u001B[0;34m,\u001B[0m \u001B[0mgroup_axes\u001B[0m\u001B[0;34m,\u001B[0m \u001B[0maxis\u001B[0m\u001B[0;34m)\u001B[0m\u001B[0;34m:\u001B[0m\u001B[0;34m\u001B[0m\u001B[0;34m\u001B[0m\u001B[0m\n\u001B[1;32m    240\u001B[0m                 \u001B[0mmutated\u001B[0m \u001B[0;34m=\u001B[0m \u001B[0;32mTrue\u001B[0m\u001B[0;34m\u001B[0m\u001B[0;34m\u001B[0m\u001B[0m\n",
      "\u001B[0;32m~/Documents/05_Projects/Python.nosync/ip5-metriken-bauwesen/src/package/transformers.py\u001B[0m in \u001B[0;36m<lambda>\u001B[0;34m(x)\u001B[0m\n\u001B[1;32m     53\u001B[0m     \u001B[0;32mdef\u001B[0m \u001B[0mtransform\u001B[0m\u001B[0;34m(\u001B[0m\u001B[0mself\u001B[0m\u001B[0;34m,\u001B[0m \u001B[0mX\u001B[0m\u001B[0;34m,\u001B[0m \u001B[0my\u001B[0m\u001B[0;34m=\u001B[0m\u001B[0;32mNone\u001B[0m\u001B[0;34m)\u001B[0m\u001B[0;34m:\u001B[0m\u001B[0;34m\u001B[0m\u001B[0;34m\u001B[0m\u001B[0m\n\u001B[1;32m     54\u001B[0m         X = X.groupby(c.FIELD_USAGE_CLUSTER).apply(\n\u001B[0;32m---> 55\u001B[0;31m             lambda x: self.__apply_cluster_mean(x, x[c.FIELD_USAGE_CLUSTER].iloc[0]))\n\u001B[0m\u001B[1;32m     56\u001B[0m \u001B[0;34m\u001B[0m\u001B[0m\n\u001B[1;32m     57\u001B[0m         \u001B[0;32mif\u001B[0m \u001B[0mself\u001B[0m\u001B[0;34m.\u001B[0m\u001B[0mdrop_other\u001B[0m\u001B[0;34m:\u001B[0m\u001B[0;34m\u001B[0m\u001B[0;34m\u001B[0m\u001B[0m\n",
      "\u001B[0;32m~/Documents/05_Projects/Python.nosync/ip5-metriken-bauwesen/src/package/transformers.py\u001B[0m in \u001B[0;36m__apply_cluster_mean\u001B[0;34m(self, grp, grp_name)\u001B[0m\n\u001B[1;32m     61\u001B[0m \u001B[0;34m\u001B[0m\u001B[0m\n\u001B[1;32m     62\u001B[0m     \u001B[0;32mdef\u001B[0m \u001B[0m__apply_cluster_mean\u001B[0m\u001B[0;34m(\u001B[0m\u001B[0mself\u001B[0m\u001B[0;34m,\u001B[0m \u001B[0mgrp\u001B[0m\u001B[0;34m,\u001B[0m \u001B[0mgrp_name\u001B[0m\u001B[0;34m)\u001B[0m\u001B[0;34m:\u001B[0m\u001B[0;34m\u001B[0m\u001B[0;34m\u001B[0m\u001B[0m\n\u001B[0;32m---> 63\u001B[0;31m         \u001B[0mfactor\u001B[0m \u001B[0;34m=\u001B[0m \u001B[0mself\u001B[0m\u001B[0;34m.\u001B[0m\u001B[0mcluster_mean_values\u001B[0m\u001B[0;34m[\u001B[0m\u001B[0mgrp_name\u001B[0m\u001B[0;34m]\u001B[0m\u001B[0;34m\u001B[0m\u001B[0;34m\u001B[0m\u001B[0m\n\u001B[0m\u001B[1;32m     64\u001B[0m         \u001B[0mgrp\u001B[0m\u001B[0;34m[\u001B[0m\u001B[0mself\u001B[0m\u001B[0;34m.\u001B[0m\u001B[0mfield\u001B[0m\u001B[0;34m]\u001B[0m \u001B[0;34m=\u001B[0m \u001B[0mgrp\u001B[0m\u001B[0;34m[\u001B[0m\u001B[0mself\u001B[0m\u001B[0;34m.\u001B[0m\u001B[0mfield\u001B[0m\u001B[0;34m]\u001B[0m\u001B[0;34m.\u001B[0m\u001B[0mfillna\u001B[0m\u001B[0;34m(\u001B[0m\u001B[0mgrp\u001B[0m\u001B[0;34m[\u001B[0m\u001B[0mself\u001B[0m\u001B[0;34m.\u001B[0m\u001B[0mother\u001B[0m\u001B[0;34m]\u001B[0m \u001B[0;34m*\u001B[0m \u001B[0mfloat\u001B[0m\u001B[0;34m(\u001B[0m\u001B[0mfactor\u001B[0m\u001B[0;34m)\u001B[0m\u001B[0;34m)\u001B[0m\u001B[0;34m\u001B[0m\u001B[0;34m\u001B[0m\u001B[0m\n\u001B[1;32m     65\u001B[0m \u001B[0;34m\u001B[0m\u001B[0m\n",
      "\u001B[0;31mKeyError\u001B[0m: 'AUSSENANLAGEN'"
     ]
    }
   ],
   "source": [
    "if not train_run:\n",
    "    X, y = load_dataset()\n",
    "    # init_wandb(X, TAG_TEST_SET, current_model, related_run='peach-universe-66')\n",
    "\n",
    "    regr = load(sh.export_directory_path(f'fitted_model.joblib'))\n",
    "\n",
    "    predictions = regr.predict(X)\n",
    "    r2_score = regr.score(X, y)\n",
    "    print(\"R^2 value: \", r2_score)\n",
    "    # wandb.log({'test_r2_mean': r2_score})\n",
    "\n",
    "    neg_mean_squared_error = -mean_squared_error(y, predictions, squared=False)\n",
    "    print(\"neg_mean_squared_error\", neg_mean_squared_error)\n",
    "    # wandb.log({'test_neg_root_mean_squared_error_mean': neg_mean_squared_error})\n",
    "\n",
    "    neg_mean_absolute_error = -mean_absolute_error(y, predictions)\n",
    "    print(\"neg_mean_absolute_error\", neg_mean_absolute_error)\n",
    "    # wandb.log({'test_neg_mean_absolute_error_mean': neg_mean_absolute_error})\n",
    "\n",
    "    neg_mape = -mean_absolute_percentage_error(y, predictions)\n",
    "    print(\"neg_mean_absolute_percentage_error\", neg_mape)\n",
    "    # wandb.log({'test_neg_mean_absolute_percentage_error_mean': neg_mape})\n",
    "\n",
    "    neg_max_error = -max_error(y, predictions)\n",
    "    print(\"neg_max_error\", neg_max_error)\n",
    "    # wandb.log({'test_max_error_mean': neg_max_error})\n",
    "\n",
    "    # wandb_plot_regressor(regr, X, y)\n",
    "\n",
    "# charts.plot_feature_importance(regr.feature_importances_, X.columns, 'GRADIENT BOOSTING')"
   ],
   "metadata": {
    "collapsed": false,
    "pycharm": {
     "name": "#%%\n"
    }
   }
  }
 ],
 "metadata": {
  "kernelspec": {
   "name": "pycharm-839b7289",
   "language": "python",
   "display_name": "PyCharm (ip5-metriken-bauwesen)"
  },
  "language_info": {
   "codemirror_mode": {
    "name": "ipython",
    "version": 2
   },
   "file_extension": ".py",
   "mimetype": "text/x-python",
   "name": "python",
   "nbconvert_exporter": "python",
   "pygments_lexer": "ipython2",
   "version": "2.7.6"
  }
 },
 "nbformat": 4,
 "nbformat_minor": 0
}