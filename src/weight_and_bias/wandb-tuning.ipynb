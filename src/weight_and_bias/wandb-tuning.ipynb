{
 "cells": [
  {
   "cell_type": "markdown",
   "source": [
    "## Weight & Biases\n",
    "Hyperparameter Tuning mit wandb"
   ],
   "metadata": {
    "collapsed": false
   }
  },
  {
   "cell_type": "markdown",
   "source": [
    "### Sweep Config\n",
    "Konfiguration des wand sweep mit den gewünschten Hyperparameter"
   ],
   "metadata": {
    "collapsed": false
   }
  },
  {
   "cell_type": "code",
   "execution_count": 1,
   "outputs": [
    {
     "name": "stderr",
     "output_type": "stream",
     "text": [
      "\u001B[34m\u001B[1mwandb\u001B[0m: Currently logged in as: \u001B[33mdevcore\u001B[0m (use `wandb login --relogin` to force relogin)\n"
     ]
    },
    {
     "name": "stdout",
     "output_type": "stream",
     "text": [
      "Create sweep with ID: 461ybom6\n",
      "Sweep URL: https://wandb.ai/devcore/Metriken%20Bauwesen%20Sweeps/sweeps/461ybom6\n"
     ]
    }
   ],
   "source": [
    "import wandb\n",
    "\n",
    "wandb.login()\n",
    "\n",
    "sweep_config = {\n",
    "  'name' : 'GradientBoosting-soft-rain-64-grenze',\n",
    "  'method' : 'random',\n",
    "  'parameters' : {\n",
    "    'n_estimators' : {\n",
    "      'values' : [512, 768, 1024, 1536, 2048]\n",
    "    },\n",
    "    'learning_rate' :{\n",
    "      'min': 0.01,\n",
    "      'max': 0.15\n",
    "    },\n",
    "    'subsample' :{\n",
    "      'min': 0.5,\n",
    "      'max': 0.85\n",
    "    },\n",
    "    'max_depth' :{\n",
    "      'values' : [10,11,12,15,18,20,30]\n",
    "    },\n",
    "    'min_samples_split' :{\n",
    "      'values' : [4, 5, 6, 8, 10, 15]\n",
    "    }\n",
    "  }\n",
    "}\n",
    "\n",
    "sweep_id = wandb.sweep(sweep_config, project='Metriken Bauwesen Sweeps', entity='devcore')"
   ],
   "metadata": {
    "collapsed": false,
    "pycharm": {
     "name": "#%%\n"
    }
   }
  },
  {
   "cell_type": "markdown",
   "source": [
    "### Run Sweep\n",
    "Sweep auf Agent laufen lassen für Hyperparameter-Tuning und Logging auf wandb"
   ],
   "metadata": {
    "collapsed": false
   }
  },
  {
   "cell_type": "code",
   "execution_count": null,
   "outputs": [
    {
     "name": "stderr",
     "output_type": "stream",
     "text": [
      "\u001B[34m\u001B[1mwandb\u001B[0m: Agent Starting Run: t1s7dzy8 with config:\n",
      "\u001B[34m\u001B[1mwandb\u001B[0m: \tlearning_rate: 0.12824785966199156\n",
      "\u001B[34m\u001B[1mwandb\u001B[0m: \tmax_depth: 15\n",
      "\u001B[34m\u001B[1mwandb\u001B[0m: \tmin_samples_split: 5\n",
      "\u001B[34m\u001B[1mwandb\u001B[0m: \tn_estimators: 512\n",
      "\u001B[34m\u001B[1mwandb\u001B[0m: \tsubsample: 0.8184520482870505\n"
     ]
    },
    {
     "data": {
      "text/plain": "<IPython.core.display.HTML object>",
      "text/html": "\n                Tracking run with wandb version 0.11.0<br/>\n                Syncing run <strong style=\"color:#cdcd00\">atomic-sweep-1</strong> to <a href=\"https://wandb.ai\" target=\"_blank\">Weights & Biases</a> <a href=\"https://docs.wandb.com/integrations/jupyter.html\" target=\"_blank\">(Documentation)</a>.<br/>\n                Project page: <a href=\"https://wandb.ai/devcore/Metriken%20Bauwesen%20Sweeps\" target=\"_blank\">https://wandb.ai/devcore/Metriken%20Bauwesen%20Sweeps</a><br/>\n                Sweep page: <a href=\"https://wandb.ai/devcore/Metriken%20Bauwesen%20Sweeps/sweeps/461ybom6\" target=\"_blank\">https://wandb.ai/devcore/Metriken%20Bauwesen%20Sweeps/sweeps/461ybom6</a><br/>\nRun page: <a href=\"https://wandb.ai/devcore/Metriken%20Bauwesen%20Sweeps/runs/t1s7dzy8\" target=\"_blank\">https://wandb.ai/devcore/Metriken%20Bauwesen%20Sweeps/runs/t1s7dzy8</a><br/>\n                Run data is saved locally in <code>C:\\Daten\\Development\\FHNW\\ip5-metriken-bauwesen\\src\\weight_and_bias\\wandb\\run-20210720_160743-t1s7dzy8</code><br/><br/>\n            "
     },
     "metadata": {},
     "output_type": "display_data"
    },
    {
     "name": "stdout",
     "output_type": "stream",
     "text": [
      "Location: C:\\Daten\\Development\\FHNW\\ip5-metriken-bauwesen\\export\\cluster_means.joblib\n",
      "Location: C:\\Daten\\Development\\FHNW\\ip5-metriken-bauwesen\\export\\fitted_pipeline.joblib\n"
     ]
    },
    {
     "data": {
      "text/plain": "<IPython.core.display.HTML object>",
      "text/html": "<br/>Waiting for W&B process to finish, PID 8020<br/>Program ended successfully."
     },
     "metadata": {},
     "output_type": "display_data"
    },
    {
     "data": {
      "text/plain": "VBox(children=(Label(value=' 0.00MB of 0.00MB uploaded (0.00MB deduped)\\r'), FloatProgress(value=1.0, max=1.0)…",
      "application/vnd.jupyter.widget-view+json": {
       "version_major": 2,
       "version_minor": 0,
       "model_id": "81ca7e2cc33f4d7897e328d9628f04e2"
      }
     },
     "metadata": {},
     "output_type": "display_data"
    },
    {
     "data": {
      "text/plain": "<IPython.core.display.HTML object>",
      "text/html": "Find user logs for this run at: <code>C:\\Daten\\Development\\FHNW\\ip5-metriken-bauwesen\\src\\weight_and_bias\\wandb\\run-20210720_160743-t1s7dzy8\\logs\\debug.log</code>"
     },
     "metadata": {},
     "output_type": "display_data"
    },
    {
     "data": {
      "text/plain": "<IPython.core.display.HTML object>",
      "text/html": "Find internal logs for this run at: <code>C:\\Daten\\Development\\FHNW\\ip5-metriken-bauwesen\\src\\weight_and_bias\\wandb\\run-20210720_160743-t1s7dzy8\\logs\\debug-internal.log</code>"
     },
     "metadata": {},
     "output_type": "display_data"
    },
    {
     "data": {
      "text/plain": "<IPython.core.display.HTML object>",
      "text/html": "<h3>Run summary:</h3><br/><style>\n    table.wandb td:nth-child(1) { padding: 0 10px; text-align: right }\n    </style><table class=\"wandb\">\n<tr><td>r2</td><td>0.91595</td></tr><tr><td>_runtime</td><td>23</td></tr><tr><td>_timestamp</td><td>1626790086</td></tr><tr><td>_step</td><td>1</td></tr><tr><td>neg_mape</td><td>-0.17246</td></tr></table>"
     },
     "metadata": {},
     "output_type": "display_data"
    },
    {
     "data": {
      "text/plain": "<IPython.core.display.HTML object>",
      "text/html": "<h3>Run history:</h3><br/><style>\n    table.wandb td:nth-child(1) { padding: 0 10px; text-align: right }\n    </style><table class=\"wandb\">\n<tr><td>r2</td><td>▁</td></tr><tr><td>_runtime</td><td>▁▁</td></tr><tr><td>_timestamp</td><td>▁▁</td></tr><tr><td>_step</td><td>▁█</td></tr><tr><td>neg_mape</td><td>▁</td></tr></table><br/>"
     },
     "metadata": {},
     "output_type": "display_data"
    },
    {
     "data": {
      "text/plain": "<IPython.core.display.HTML object>",
      "text/html": "Synced 5 W&B file(s), 0 media file(s), 0 artifact file(s) and 0 other file(s)"
     },
     "metadata": {},
     "output_type": "display_data"
    },
    {
     "data": {
      "text/plain": "<IPython.core.display.HTML object>",
      "text/html": "\n                    <br/>Synced <strong style=\"color:#cdcd00\">atomic-sweep-1</strong>: <a href=\"https://wandb.ai/devcore/Metriken%20Bauwesen%20Sweeps/runs/t1s7dzy8\" target=\"_blank\">https://wandb.ai/devcore/Metriken%20Bauwesen%20Sweeps/runs/t1s7dzy8</a><br/>\n                "
     },
     "metadata": {},
     "output_type": "display_data"
    },
    {
     "name": "stderr",
     "output_type": "stream",
     "text": [
      "\u001B[34m\u001B[1mwandb\u001B[0m: Agent Starting Run: l6kyrohf with config:\n",
      "\u001B[34m\u001B[1mwandb\u001B[0m: \tlearning_rate: 0.09232679042035997\n",
      "\u001B[34m\u001B[1mwandb\u001B[0m: \tmax_depth: 12\n",
      "\u001B[34m\u001B[1mwandb\u001B[0m: \tmin_samples_split: 15\n",
      "\u001B[34m\u001B[1mwandb\u001B[0m: \tn_estimators: 2048\n",
      "\u001B[34m\u001B[1mwandb\u001B[0m: \tsubsample: 0.7438021006066988\n"
     ]
    },
    {
     "data": {
      "text/plain": "<IPython.core.display.HTML object>",
      "text/html": "\n                Tracking run with wandb version 0.11.0<br/>\n                Syncing run <strong style=\"color:#cdcd00\">happy-sweep-2</strong> to <a href=\"https://wandb.ai\" target=\"_blank\">Weights & Biases</a> <a href=\"https://docs.wandb.com/integrations/jupyter.html\" target=\"_blank\">(Documentation)</a>.<br/>\n                Project page: <a href=\"https://wandb.ai/devcore/Metriken%20Bauwesen%20Sweeps\" target=\"_blank\">https://wandb.ai/devcore/Metriken%20Bauwesen%20Sweeps</a><br/>\n                Sweep page: <a href=\"https://wandb.ai/devcore/Metriken%20Bauwesen%20Sweeps/sweeps/461ybom6\" target=\"_blank\">https://wandb.ai/devcore/Metriken%20Bauwesen%20Sweeps/sweeps/461ybom6</a><br/>\nRun page: <a href=\"https://wandb.ai/devcore/Metriken%20Bauwesen%20Sweeps/runs/l6kyrohf\" target=\"_blank\">https://wandb.ai/devcore/Metriken%20Bauwesen%20Sweeps/runs/l6kyrohf</a><br/>\n                Run data is saved locally in <code>C:\\Daten\\Development\\FHNW\\ip5-metriken-bauwesen\\src\\weight_and_bias\\wandb\\run-20210720_160810-l6kyrohf</code><br/><br/>\n            "
     },
     "metadata": {},
     "output_type": "display_data"
    },
    {
     "name": "stdout",
     "output_type": "stream",
     "text": [
      "Location: C:\\Daten\\Development\\FHNW\\ip5-metriken-bauwesen\\export\\cluster_means.joblib\n",
      "Location: C:\\Daten\\Development\\FHNW\\ip5-metriken-bauwesen\\export\\fitted_pipeline.joblib\n"
     ]
    },
    {
     "data": {
      "text/plain": "<IPython.core.display.HTML object>",
      "text/html": "<br/>Waiting for W&B process to finish, PID 6076<br/>Program ended successfully."
     },
     "metadata": {},
     "output_type": "display_data"
    },
    {
     "data": {
      "text/plain": "VBox(children=(Label(value=' 0.00MB of 0.00MB uploaded (0.00MB deduped)\\r'), FloatProgress(value=1.0, max=1.0)…",
      "application/vnd.jupyter.widget-view+json": {
       "version_major": 2,
       "version_minor": 0,
       "model_id": "7c52837a03a64cf48e00c6f8da52c91e"
      }
     },
     "metadata": {},
     "output_type": "display_data"
    },
    {
     "data": {
      "text/plain": "<IPython.core.display.HTML object>",
      "text/html": "Find user logs for this run at: <code>C:\\Daten\\Development\\FHNW\\ip5-metriken-bauwesen\\src\\weight_and_bias\\wandb\\run-20210720_160810-l6kyrohf\\logs\\debug.log</code>"
     },
     "metadata": {},
     "output_type": "display_data"
    },
    {
     "data": {
      "text/plain": "<IPython.core.display.HTML object>",
      "text/html": "Find internal logs for this run at: <code>C:\\Daten\\Development\\FHNW\\ip5-metriken-bauwesen\\src\\weight_and_bias\\wandb\\run-20210720_160810-l6kyrohf\\logs\\debug-internal.log</code>"
     },
     "metadata": {},
     "output_type": "display_data"
    },
    {
     "data": {
      "text/plain": "<IPython.core.display.HTML object>",
      "text/html": "<h3>Run summary:</h3><br/><style>\n    table.wandb td:nth-child(1) { padding: 0 10px; text-align: right }\n    </style><table class=\"wandb\">\n<tr><td>r2</td><td>0.92831</td></tr><tr><td>_runtime</td><td>36</td></tr><tr><td>_timestamp</td><td>1626790127</td></tr><tr><td>_step</td><td>1</td></tr><tr><td>neg_mape</td><td>-0.16966</td></tr></table>"
     },
     "metadata": {},
     "output_type": "display_data"
    },
    {
     "data": {
      "text/plain": "<IPython.core.display.HTML object>",
      "text/html": "<h3>Run history:</h3><br/><style>\n    table.wandb td:nth-child(1) { padding: 0 10px; text-align: right }\n    </style><table class=\"wandb\">\n<tr><td>r2</td><td>▁</td></tr><tr><td>_runtime</td><td>▁▁</td></tr><tr><td>_timestamp</td><td>▁▁</td></tr><tr><td>_step</td><td>▁█</td></tr><tr><td>neg_mape</td><td>▁</td></tr></table><br/>"
     },
     "metadata": {},
     "output_type": "display_data"
    },
    {
     "data": {
      "text/plain": "<IPython.core.display.HTML object>",
      "text/html": "Synced 5 W&B file(s), 0 media file(s), 0 artifact file(s) and 0 other file(s)"
     },
     "metadata": {},
     "output_type": "display_data"
    },
    {
     "data": {
      "text/plain": "<IPython.core.display.HTML object>",
      "text/html": "\n                    <br/>Synced <strong style=\"color:#cdcd00\">happy-sweep-2</strong>: <a href=\"https://wandb.ai/devcore/Metriken%20Bauwesen%20Sweeps/runs/l6kyrohf\" target=\"_blank\">https://wandb.ai/devcore/Metriken%20Bauwesen%20Sweeps/runs/l6kyrohf</a><br/>\n                "
     },
     "metadata": {},
     "output_type": "display_data"
    },
    {
     "name": "stderr",
     "output_type": "stream",
     "text": [
      "\u001B[34m\u001B[1mwandb\u001B[0m: Agent Starting Run: 3aht5mdf with config:\n",
      "\u001B[34m\u001B[1mwandb\u001B[0m: \tlearning_rate: 0.1494083211636264\n",
      "\u001B[34m\u001B[1mwandb\u001B[0m: \tmax_depth: 11\n",
      "\u001B[34m\u001B[1mwandb\u001B[0m: \tmin_samples_split: 6\n",
      "\u001B[34m\u001B[1mwandb\u001B[0m: \tn_estimators: 1536\n",
      "\u001B[34m\u001B[1mwandb\u001B[0m: \tsubsample: 0.8143884230118872\n"
     ]
    },
    {
     "data": {
      "text/plain": "<IPython.core.display.HTML object>",
      "text/html": "\n                Tracking run with wandb version 0.11.0<br/>\n                Syncing run <strong style=\"color:#cdcd00\">blooming-sweep-3</strong> to <a href=\"https://wandb.ai\" target=\"_blank\">Weights & Biases</a> <a href=\"https://docs.wandb.com/integrations/jupyter.html\" target=\"_blank\">(Documentation)</a>.<br/>\n                Project page: <a href=\"https://wandb.ai/devcore/Metriken%20Bauwesen%20Sweeps\" target=\"_blank\">https://wandb.ai/devcore/Metriken%20Bauwesen%20Sweeps</a><br/>\n                Sweep page: <a href=\"https://wandb.ai/devcore/Metriken%20Bauwesen%20Sweeps/sweeps/461ybom6\" target=\"_blank\">https://wandb.ai/devcore/Metriken%20Bauwesen%20Sweeps/sweeps/461ybom6</a><br/>\nRun page: <a href=\"https://wandb.ai/devcore/Metriken%20Bauwesen%20Sweeps/runs/3aht5mdf\" target=\"_blank\">https://wandb.ai/devcore/Metriken%20Bauwesen%20Sweeps/runs/3aht5mdf</a><br/>\n                Run data is saved locally in <code>C:\\Daten\\Development\\FHNW\\ip5-metriken-bauwesen\\src\\weight_and_bias\\wandb\\run-20210720_160852-3aht5mdf</code><br/><br/>\n            "
     },
     "metadata": {},
     "output_type": "display_data"
    },
    {
     "name": "stdout",
     "output_type": "stream",
     "text": [
      "Location: C:\\Daten\\Development\\FHNW\\ip5-metriken-bauwesen\\export\\cluster_means.joblib\n",
      "Location: C:\\Daten\\Development\\FHNW\\ip5-metriken-bauwesen\\export\\fitted_pipeline.joblib\n"
     ]
    },
    {
     "data": {
      "text/plain": "<IPython.core.display.HTML object>",
      "text/html": "<br/>Waiting for W&B process to finish, PID 9916<br/>Program ended successfully."
     },
     "metadata": {},
     "output_type": "display_data"
    },
    {
     "data": {
      "text/plain": "VBox(children=(Label(value=' 0.00MB of 0.00MB uploaded (0.00MB deduped)\\r'), FloatProgress(value=1.0, max=1.0)…",
      "application/vnd.jupyter.widget-view+json": {
       "version_major": 2,
       "version_minor": 0,
       "model_id": "7ba7b745aa16465aa172ef5e0555da1c"
      }
     },
     "metadata": {},
     "output_type": "display_data"
    },
    {
     "data": {
      "text/plain": "<IPython.core.display.HTML object>",
      "text/html": "Find user logs for this run at: <code>C:\\Daten\\Development\\FHNW\\ip5-metriken-bauwesen\\src\\weight_and_bias\\wandb\\run-20210720_160852-3aht5mdf\\logs\\debug.log</code>"
     },
     "metadata": {},
     "output_type": "display_data"
    },
    {
     "data": {
      "text/plain": "<IPython.core.display.HTML object>",
      "text/html": "Find internal logs for this run at: <code>C:\\Daten\\Development\\FHNW\\ip5-metriken-bauwesen\\src\\weight_and_bias\\wandb\\run-20210720_160852-3aht5mdf\\logs\\debug-internal.log</code>"
     },
     "metadata": {},
     "output_type": "display_data"
    },
    {
     "data": {
      "text/plain": "<IPython.core.display.HTML object>",
      "text/html": "<h3>Run summary:</h3><br/><style>\n    table.wandb td:nth-child(1) { padding: 0 10px; text-align: right }\n    </style><table class=\"wandb\">\n<tr><td>r2</td><td>0.92083</td></tr><tr><td>_runtime</td><td>33</td></tr><tr><td>_timestamp</td><td>1626790165</td></tr><tr><td>_step</td><td>1</td></tr><tr><td>neg_mape</td><td>-0.17232</td></tr></table>"
     },
     "metadata": {},
     "output_type": "display_data"
    },
    {
     "data": {
      "text/plain": "<IPython.core.display.HTML object>",
      "text/html": "<h3>Run history:</h3><br/><style>\n    table.wandb td:nth-child(1) { padding: 0 10px; text-align: right }\n    </style><table class=\"wandb\">\n<tr><td>r2</td><td>▁</td></tr><tr><td>_runtime</td><td>▁▁</td></tr><tr><td>_timestamp</td><td>▁▁</td></tr><tr><td>_step</td><td>▁█</td></tr><tr><td>neg_mape</td><td>▁</td></tr></table><br/>"
     },
     "metadata": {},
     "output_type": "display_data"
    },
    {
     "data": {
      "text/plain": "<IPython.core.display.HTML object>",
      "text/html": "Synced 5 W&B file(s), 0 media file(s), 0 artifact file(s) and 0 other file(s)"
     },
     "metadata": {},
     "output_type": "display_data"
    },
    {
     "data": {
      "text/plain": "<IPython.core.display.HTML object>",
      "text/html": "\n                    <br/>Synced <strong style=\"color:#cdcd00\">blooming-sweep-3</strong>: <a href=\"https://wandb.ai/devcore/Metriken%20Bauwesen%20Sweeps/runs/3aht5mdf\" target=\"_blank\">https://wandb.ai/devcore/Metriken%20Bauwesen%20Sweeps/runs/3aht5mdf</a><br/>\n                "
     },
     "metadata": {},
     "output_type": "display_data"
    },
    {
     "name": "stderr",
     "output_type": "stream",
     "text": [
      "\u001B[34m\u001B[1mwandb\u001B[0m: Agent Starting Run: ptyxk4f0 with config:\n",
      "\u001B[34m\u001B[1mwandb\u001B[0m: \tlearning_rate: 0.1179824184009605\n",
      "\u001B[34m\u001B[1mwandb\u001B[0m: \tmax_depth: 18\n",
      "\u001B[34m\u001B[1mwandb\u001B[0m: \tmin_samples_split: 8\n",
      "\u001B[34m\u001B[1mwandb\u001B[0m: \tn_estimators: 2048\n",
      "\u001B[34m\u001B[1mwandb\u001B[0m: \tsubsample: 0.533892311003161\n"
     ]
    },
    {
     "data": {
      "text/plain": "<IPython.core.display.HTML object>",
      "text/html": "\n                Tracking run with wandb version 0.11.0<br/>\n                Syncing run <strong style=\"color:#cdcd00\">crisp-sweep-4</strong> to <a href=\"https://wandb.ai\" target=\"_blank\">Weights & Biases</a> <a href=\"https://docs.wandb.com/integrations/jupyter.html\" target=\"_blank\">(Documentation)</a>.<br/>\n                Project page: <a href=\"https://wandb.ai/devcore/Metriken%20Bauwesen%20Sweeps\" target=\"_blank\">https://wandb.ai/devcore/Metriken%20Bauwesen%20Sweeps</a><br/>\n                Sweep page: <a href=\"https://wandb.ai/devcore/Metriken%20Bauwesen%20Sweeps/sweeps/461ybom6\" target=\"_blank\">https://wandb.ai/devcore/Metriken%20Bauwesen%20Sweeps/sweeps/461ybom6</a><br/>\nRun page: <a href=\"https://wandb.ai/devcore/Metriken%20Bauwesen%20Sweeps/runs/ptyxk4f0\" target=\"_blank\">https://wandb.ai/devcore/Metriken%20Bauwesen%20Sweeps/runs/ptyxk4f0</a><br/>\n                Run data is saved locally in <code>C:\\Daten\\Development\\FHNW\\ip5-metriken-bauwesen\\src\\weight_and_bias\\wandb\\run-20210720_160929-ptyxk4f0</code><br/><br/>\n            "
     },
     "metadata": {},
     "output_type": "display_data"
    },
    {
     "name": "stdout",
     "output_type": "stream",
     "text": [
      "Location: C:\\Daten\\Development\\FHNW\\ip5-metriken-bauwesen\\export\\cluster_means.joblib\n",
      "Location: C:\\Daten\\Development\\FHNW\\ip5-metriken-bauwesen\\export\\fitted_pipeline.joblib\n"
     ]
    },
    {
     "data": {
      "text/plain": "<IPython.core.display.HTML object>",
      "text/html": "<br/>Waiting for W&B process to finish, PID 15316<br/>Program ended successfully."
     },
     "metadata": {},
     "output_type": "display_data"
    },
    {
     "data": {
      "text/plain": "VBox(children=(Label(value=' 0.00MB of 0.00MB uploaded (0.00MB deduped)\\r'), FloatProgress(value=1.0, max=1.0)…",
      "application/vnd.jupyter.widget-view+json": {
       "version_major": 2,
       "version_minor": 0,
       "model_id": "ca393f6e0bc641e08358d697479fdb90"
      }
     },
     "metadata": {},
     "output_type": "display_data"
    },
    {
     "data": {
      "text/plain": "<IPython.core.display.HTML object>",
      "text/html": "Find user logs for this run at: <code>C:\\Daten\\Development\\FHNW\\ip5-metriken-bauwesen\\src\\weight_and_bias\\wandb\\run-20210720_160929-ptyxk4f0\\logs\\debug.log</code>"
     },
     "metadata": {},
     "output_type": "display_data"
    },
    {
     "data": {
      "text/plain": "<IPython.core.display.HTML object>",
      "text/html": "Find internal logs for this run at: <code>C:\\Daten\\Development\\FHNW\\ip5-metriken-bauwesen\\src\\weight_and_bias\\wandb\\run-20210720_160929-ptyxk4f0\\logs\\debug-internal.log</code>"
     },
     "metadata": {},
     "output_type": "display_data"
    },
    {
     "data": {
      "text/plain": "<IPython.core.display.HTML object>",
      "text/html": "<h3>Run summary:</h3><br/><style>\n    table.wandb td:nth-child(1) { padding: 0 10px; text-align: right }\n    </style><table class=\"wandb\">\n<tr><td>r2</td><td>0.93247</td></tr><tr><td>_runtime</td><td>49</td></tr><tr><td>_timestamp</td><td>1626790218</td></tr><tr><td>_step</td><td>1</td></tr><tr><td>neg_mape</td><td>-0.17129</td></tr></table>"
     },
     "metadata": {},
     "output_type": "display_data"
    },
    {
     "data": {
      "text/plain": "<IPython.core.display.HTML object>",
      "text/html": "<h3>Run history:</h3><br/><style>\n    table.wandb td:nth-child(1) { padding: 0 10px; text-align: right }\n    </style><table class=\"wandb\">\n<tr><td>r2</td><td>▁</td></tr><tr><td>_runtime</td><td>▁▁</td></tr><tr><td>_timestamp</td><td>▁▁</td></tr><tr><td>_step</td><td>▁█</td></tr><tr><td>neg_mape</td><td>▁</td></tr></table><br/>"
     },
     "metadata": {},
     "output_type": "display_data"
    },
    {
     "data": {
      "text/plain": "<IPython.core.display.HTML object>",
      "text/html": "Synced 5 W&B file(s), 0 media file(s), 0 artifact file(s) and 0 other file(s)"
     },
     "metadata": {},
     "output_type": "display_data"
    },
    {
     "data": {
      "text/plain": "<IPython.core.display.HTML object>",
      "text/html": "\n                    <br/>Synced <strong style=\"color:#cdcd00\">crisp-sweep-4</strong>: <a href=\"https://wandb.ai/devcore/Metriken%20Bauwesen%20Sweeps/runs/ptyxk4f0\" target=\"_blank\">https://wandb.ai/devcore/Metriken%20Bauwesen%20Sweeps/runs/ptyxk4f0</a><br/>\n                "
     },
     "metadata": {},
     "output_type": "display_data"
    },
    {
     "name": "stderr",
     "output_type": "stream",
     "text": [
      "\u001B[34m\u001B[1mwandb\u001B[0m: Agent Starting Run: jb25c86i with config:\n",
      "\u001B[34m\u001B[1mwandb\u001B[0m: \tlearning_rate: 0.13582201437153033\n",
      "\u001B[34m\u001B[1mwandb\u001B[0m: \tmax_depth: 18\n",
      "\u001B[34m\u001B[1mwandb\u001B[0m: \tmin_samples_split: 5\n",
      "\u001B[34m\u001B[1mwandb\u001B[0m: \tn_estimators: 1024\n",
      "\u001B[34m\u001B[1mwandb\u001B[0m: \tsubsample: 0.6888520056172446\n"
     ]
    },
    {
     "data": {
      "text/plain": "<IPython.core.display.HTML object>",
      "text/html": "\n                Tracking run with wandb version 0.11.0<br/>\n                Syncing run <strong style=\"color:#cdcd00\">warm-sweep-5</strong> to <a href=\"https://wandb.ai\" target=\"_blank\">Weights & Biases</a> <a href=\"https://docs.wandb.com/integrations/jupyter.html\" target=\"_blank\">(Documentation)</a>.<br/>\n                Project page: <a href=\"https://wandb.ai/devcore/Metriken%20Bauwesen%20Sweeps\" target=\"_blank\">https://wandb.ai/devcore/Metriken%20Bauwesen%20Sweeps</a><br/>\n                Sweep page: <a href=\"https://wandb.ai/devcore/Metriken%20Bauwesen%20Sweeps/sweeps/461ybom6\" target=\"_blank\">https://wandb.ai/devcore/Metriken%20Bauwesen%20Sweeps/sweeps/461ybom6</a><br/>\nRun page: <a href=\"https://wandb.ai/devcore/Metriken%20Bauwesen%20Sweeps/runs/jb25c86i\" target=\"_blank\">https://wandb.ai/devcore/Metriken%20Bauwesen%20Sweeps/runs/jb25c86i</a><br/>\n                Run data is saved locally in <code>C:\\Daten\\Development\\FHNW\\ip5-metriken-bauwesen\\src\\weight_and_bias\\wandb\\run-20210720_161022-jb25c86i</code><br/><br/>\n            "
     },
     "metadata": {},
     "output_type": "display_data"
    },
    {
     "name": "stdout",
     "output_type": "stream",
     "text": [
      "Location: C:\\Daten\\Development\\FHNW\\ip5-metriken-bauwesen\\export\\cluster_means.joblib\n",
      "Location: C:\\Daten\\Development\\FHNW\\ip5-metriken-bauwesen\\export\\fitted_pipeline.joblib\n"
     ]
    },
    {
     "data": {
      "text/plain": "<IPython.core.display.HTML object>",
      "text/html": "<br/>Waiting for W&B process to finish, PID 8440<br/>Program ended successfully."
     },
     "metadata": {},
     "output_type": "display_data"
    },
    {
     "data": {
      "text/plain": "VBox(children=(Label(value=' 0.00MB of 0.00MB uploaded (0.00MB deduped)\\r'), FloatProgress(value=1.0, max=1.0)…",
      "application/vnd.jupyter.widget-view+json": {
       "version_major": 2,
       "version_minor": 0,
       "model_id": "d6f914e850024caeb2c6215f49ccacb3"
      }
     },
     "metadata": {},
     "output_type": "display_data"
    },
    {
     "data": {
      "text/plain": "<IPython.core.display.HTML object>",
      "text/html": "Find user logs for this run at: <code>C:\\Daten\\Development\\FHNW\\ip5-metriken-bauwesen\\src\\weight_and_bias\\wandb\\run-20210720_161022-jb25c86i\\logs\\debug.log</code>"
     },
     "metadata": {},
     "output_type": "display_data"
    },
    {
     "data": {
      "text/plain": "<IPython.core.display.HTML object>",
      "text/html": "Find internal logs for this run at: <code>C:\\Daten\\Development\\FHNW\\ip5-metriken-bauwesen\\src\\weight_and_bias\\wandb\\run-20210720_161022-jb25c86i\\logs\\debug-internal.log</code>"
     },
     "metadata": {},
     "output_type": "display_data"
    },
    {
     "data": {
      "text/plain": "<IPython.core.display.HTML object>",
      "text/html": "<h3>Run summary:</h3><br/><style>\n    table.wandb td:nth-child(1) { padding: 0 10px; text-align: right }\n    </style><table class=\"wandb\">\n<tr><td>r2</td><td>0.92209</td></tr><tr><td>_runtime</td><td>32</td></tr><tr><td>_timestamp</td><td>1626790254</td></tr><tr><td>_step</td><td>1</td></tr><tr><td>neg_mape</td><td>-0.17085</td></tr></table>"
     },
     "metadata": {},
     "output_type": "display_data"
    },
    {
     "data": {
      "text/plain": "<IPython.core.display.HTML object>",
      "text/html": "<h3>Run history:</h3><br/><style>\n    table.wandb td:nth-child(1) { padding: 0 10px; text-align: right }\n    </style><table class=\"wandb\">\n<tr><td>r2</td><td>▁</td></tr><tr><td>_runtime</td><td>▁▁</td></tr><tr><td>_timestamp</td><td>▁▁</td></tr><tr><td>_step</td><td>▁█</td></tr><tr><td>neg_mape</td><td>▁</td></tr></table><br/>"
     },
     "metadata": {},
     "output_type": "display_data"
    },
    {
     "data": {
      "text/plain": "<IPython.core.display.HTML object>",
      "text/html": "Synced 5 W&B file(s), 0 media file(s), 0 artifact file(s) and 0 other file(s)"
     },
     "metadata": {},
     "output_type": "display_data"
    },
    {
     "data": {
      "text/plain": "<IPython.core.display.HTML object>",
      "text/html": "\n                    <br/>Synced <strong style=\"color:#cdcd00\">warm-sweep-5</strong>: <a href=\"https://wandb.ai/devcore/Metriken%20Bauwesen%20Sweeps/runs/jb25c86i\" target=\"_blank\">https://wandb.ai/devcore/Metriken%20Bauwesen%20Sweeps/runs/jb25c86i</a><br/>\n                "
     },
     "metadata": {},
     "output_type": "display_data"
    },
    {
     "name": "stderr",
     "output_type": "stream",
     "text": [
      "\u001B[34m\u001B[1mwandb\u001B[0m: Agent Starting Run: uuc3tgq9 with config:\n",
      "\u001B[34m\u001B[1mwandb\u001B[0m: \tlearning_rate: 0.11254049486858074\n",
      "\u001B[34m\u001B[1mwandb\u001B[0m: \tmax_depth: 30\n",
      "\u001B[34m\u001B[1mwandb\u001B[0m: \tmin_samples_split: 6\n",
      "\u001B[34m\u001B[1mwandb\u001B[0m: \tn_estimators: 512\n",
      "\u001B[34m\u001B[1mwandb\u001B[0m: \tsubsample: 0.6512385912426231\n"
     ]
    },
    {
     "data": {
      "text/plain": "<IPython.core.display.HTML object>",
      "text/html": "\n                Tracking run with wandb version 0.11.0<br/>\n                Syncing run <strong style=\"color:#cdcd00\">usual-sweep-6</strong> to <a href=\"https://wandb.ai\" target=\"_blank\">Weights & Biases</a> <a href=\"https://docs.wandb.com/integrations/jupyter.html\" target=\"_blank\">(Documentation)</a>.<br/>\n                Project page: <a href=\"https://wandb.ai/devcore/Metriken%20Bauwesen%20Sweeps\" target=\"_blank\">https://wandb.ai/devcore/Metriken%20Bauwesen%20Sweeps</a><br/>\n                Sweep page: <a href=\"https://wandb.ai/devcore/Metriken%20Bauwesen%20Sweeps/sweeps/461ybom6\" target=\"_blank\">https://wandb.ai/devcore/Metriken%20Bauwesen%20Sweeps/sweeps/461ybom6</a><br/>\nRun page: <a href=\"https://wandb.ai/devcore/Metriken%20Bauwesen%20Sweeps/runs/uuc3tgq9\" target=\"_blank\">https://wandb.ai/devcore/Metriken%20Bauwesen%20Sweeps/runs/uuc3tgq9</a><br/>\n                Run data is saved locally in <code>C:\\Daten\\Development\\FHNW\\ip5-metriken-bauwesen\\src\\weight_and_bias\\wandb\\run-20210720_161059-uuc3tgq9</code><br/><br/>\n            "
     },
     "metadata": {},
     "output_type": "display_data"
    },
    {
     "name": "stdout",
     "output_type": "stream",
     "text": [
      "Location: C:\\Daten\\Development\\FHNW\\ip5-metriken-bauwesen\\export\\cluster_means.joblib\n",
      "Location: C:\\Daten\\Development\\FHNW\\ip5-metriken-bauwesen\\export\\fitted_pipeline.joblib\n"
     ]
    },
    {
     "data": {
      "text/plain": "<IPython.core.display.HTML object>",
      "text/html": "<br/>Waiting for W&B process to finish, PID 9168<br/>Program ended successfully."
     },
     "metadata": {},
     "output_type": "display_data"
    },
    {
     "data": {
      "text/plain": "VBox(children=(Label(value=' 0.00MB of 0.00MB uploaded (0.00MB deduped)\\r'), FloatProgress(value=1.0, max=1.0)…",
      "application/vnd.jupyter.widget-view+json": {
       "version_major": 2,
       "version_minor": 0,
       "model_id": "605e04f7f0544455b1d6ff5cc77c228a"
      }
     },
     "metadata": {},
     "output_type": "display_data"
    },
    {
     "data": {
      "text/plain": "<IPython.core.display.HTML object>",
      "text/html": "Find user logs for this run at: <code>C:\\Daten\\Development\\FHNW\\ip5-metriken-bauwesen\\src\\weight_and_bias\\wandb\\run-20210720_161059-uuc3tgq9\\logs\\debug.log</code>"
     },
     "metadata": {},
     "output_type": "display_data"
    },
    {
     "data": {
      "text/plain": "<IPython.core.display.HTML object>",
      "text/html": "Find internal logs for this run at: <code>C:\\Daten\\Development\\FHNW\\ip5-metriken-bauwesen\\src\\weight_and_bias\\wandb\\run-20210720_161059-uuc3tgq9\\logs\\debug-internal.log</code>"
     },
     "metadata": {},
     "output_type": "display_data"
    },
    {
     "data": {
      "text/plain": "<IPython.core.display.HTML object>",
      "text/html": "<h3>Run summary:</h3><br/><style>\n    table.wandb td:nth-child(1) { padding: 0 10px; text-align: right }\n    </style><table class=\"wandb\">\n<tr><td>r2</td><td>0.91896</td></tr><tr><td>_runtime</td><td>13</td></tr><tr><td>_timestamp</td><td>1626790272</td></tr><tr><td>_step</td><td>1</td></tr><tr><td>neg_mape</td><td>-0.16857</td></tr></table>"
     },
     "metadata": {},
     "output_type": "display_data"
    },
    {
     "data": {
      "text/plain": "<IPython.core.display.HTML object>",
      "text/html": "<h3>Run history:</h3><br/><style>\n    table.wandb td:nth-child(1) { padding: 0 10px; text-align: right }\n    </style><table class=\"wandb\">\n<tr><td>r2</td><td>▁</td></tr><tr><td>_runtime</td><td>▁▁</td></tr><tr><td>_timestamp</td><td>▁▁</td></tr><tr><td>_step</td><td>▁█</td></tr><tr><td>neg_mape</td><td>▁</td></tr></table><br/>"
     },
     "metadata": {},
     "output_type": "display_data"
    },
    {
     "data": {
      "text/plain": "<IPython.core.display.HTML object>",
      "text/html": "Synced 5 W&B file(s), 0 media file(s), 0 artifact file(s) and 0 other file(s)"
     },
     "metadata": {},
     "output_type": "display_data"
    },
    {
     "data": {
      "text/plain": "<IPython.core.display.HTML object>",
      "text/html": "\n                    <br/>Synced <strong style=\"color:#cdcd00\">usual-sweep-6</strong>: <a href=\"https://wandb.ai/devcore/Metriken%20Bauwesen%20Sweeps/runs/uuc3tgq9\" target=\"_blank\">https://wandb.ai/devcore/Metriken%20Bauwesen%20Sweeps/runs/uuc3tgq9</a><br/>\n                "
     },
     "metadata": {},
     "output_type": "display_data"
    },
    {
     "name": "stderr",
     "output_type": "stream",
     "text": [
      "\u001B[34m\u001B[1mwandb\u001B[0m: Agent Starting Run: ozqa1nga with config:\n",
      "\u001B[34m\u001B[1mwandb\u001B[0m: \tlearning_rate: 0.10312244530786346\n",
      "\u001B[34m\u001B[1mwandb\u001B[0m: \tmax_depth: 20\n",
      "\u001B[34m\u001B[1mwandb\u001B[0m: \tmin_samples_split: 6\n",
      "\u001B[34m\u001B[1mwandb\u001B[0m: \tn_estimators: 1536\n",
      "\u001B[34m\u001B[1mwandb\u001B[0m: \tsubsample: 0.711171571748676\n"
     ]
    },
    {
     "data": {
      "text/plain": "<IPython.core.display.HTML object>",
      "text/html": "\n                Tracking run with wandb version 0.11.0<br/>\n                Syncing run <strong style=\"color:#cdcd00\">rosy-sweep-7</strong> to <a href=\"https://wandb.ai\" target=\"_blank\">Weights & Biases</a> <a href=\"https://docs.wandb.com/integrations/jupyter.html\" target=\"_blank\">(Documentation)</a>.<br/>\n                Project page: <a href=\"https://wandb.ai/devcore/Metriken%20Bauwesen%20Sweeps\" target=\"_blank\">https://wandb.ai/devcore/Metriken%20Bauwesen%20Sweeps</a><br/>\n                Sweep page: <a href=\"https://wandb.ai/devcore/Metriken%20Bauwesen%20Sweeps/sweeps/461ybom6\" target=\"_blank\">https://wandb.ai/devcore/Metriken%20Bauwesen%20Sweeps/sweeps/461ybom6</a><br/>\nRun page: <a href=\"https://wandb.ai/devcore/Metriken%20Bauwesen%20Sweeps/runs/ozqa1nga\" target=\"_blank\">https://wandb.ai/devcore/Metriken%20Bauwesen%20Sweeps/runs/ozqa1nga</a><br/>\n                Run data is saved locally in <code>C:\\Daten\\Development\\FHNW\\ip5-metriken-bauwesen\\src\\weight_and_bias\\wandb\\run-20210720_161116-ozqa1nga</code><br/><br/>\n            "
     },
     "metadata": {},
     "output_type": "display_data"
    },
    {
     "name": "stdout",
     "output_type": "stream",
     "text": [
      "Location: C:\\Daten\\Development\\FHNW\\ip5-metriken-bauwesen\\export\\cluster_means.joblib\n",
      "Location: C:\\Daten\\Development\\FHNW\\ip5-metriken-bauwesen\\export\\fitted_pipeline.joblib\n"
     ]
    },
    {
     "data": {
      "text/plain": "<IPython.core.display.HTML object>",
      "text/html": "<br/>Waiting for W&B process to finish, PID 1656<br/>Program ended successfully."
     },
     "metadata": {},
     "output_type": "display_data"
    },
    {
     "data": {
      "text/plain": "VBox(children=(Label(value=' 0.00MB of 0.00MB uploaded (0.00MB deduped)\\r'), FloatProgress(value=1.0, max=1.0)…",
      "application/vnd.jupyter.widget-view+json": {
       "version_major": 2,
       "version_minor": 0,
       "model_id": "1d85098cf947453aad8f331b57dfa8f5"
      }
     },
     "metadata": {},
     "output_type": "display_data"
    },
    {
     "data": {
      "text/plain": "<IPython.core.display.HTML object>",
      "text/html": "Find user logs for this run at: <code>C:\\Daten\\Development\\FHNW\\ip5-metriken-bauwesen\\src\\weight_and_bias\\wandb\\run-20210720_161116-ozqa1nga\\logs\\debug.log</code>"
     },
     "metadata": {},
     "output_type": "display_data"
    },
    {
     "data": {
      "text/plain": "<IPython.core.display.HTML object>",
      "text/html": "Find internal logs for this run at: <code>C:\\Daten\\Development\\FHNW\\ip5-metriken-bauwesen\\src\\weight_and_bias\\wandb\\run-20210720_161116-ozqa1nga\\logs\\debug-internal.log</code>"
     },
     "metadata": {},
     "output_type": "display_data"
    },
    {
     "data": {
      "text/plain": "<IPython.core.display.HTML object>",
      "text/html": "<h3>Run summary:</h3><br/><style>\n    table.wandb td:nth-child(1) { padding: 0 10px; text-align: right }\n    </style><table class=\"wandb\">\n<tr><td>r2</td><td>0.92394</td></tr><tr><td>_runtime</td><td>31</td></tr><tr><td>_timestamp</td><td>1626790307</td></tr><tr><td>_step</td><td>1</td></tr><tr><td>neg_mape</td><td>-0.16724</td></tr></table>"
     },
     "metadata": {},
     "output_type": "display_data"
    },
    {
     "data": {
      "text/plain": "<IPython.core.display.HTML object>",
      "text/html": "<h3>Run history:</h3><br/><style>\n    table.wandb td:nth-child(1) { padding: 0 10px; text-align: right }\n    </style><table class=\"wandb\">\n<tr><td>r2</td><td>▁</td></tr><tr><td>_runtime</td><td>▁▁</td></tr><tr><td>_timestamp</td><td>▁▁</td></tr><tr><td>_step</td><td>▁█</td></tr><tr><td>neg_mape</td><td>▁</td></tr></table><br/>"
     },
     "metadata": {},
     "output_type": "display_data"
    },
    {
     "data": {
      "text/plain": "<IPython.core.display.HTML object>",
      "text/html": "Synced 5 W&B file(s), 0 media file(s), 0 artifact file(s) and 0 other file(s)"
     },
     "metadata": {},
     "output_type": "display_data"
    },
    {
     "data": {
      "text/plain": "<IPython.core.display.HTML object>",
      "text/html": "\n                    <br/>Synced <strong style=\"color:#cdcd00\">rosy-sweep-7</strong>: <a href=\"https://wandb.ai/devcore/Metriken%20Bauwesen%20Sweeps/runs/ozqa1nga\" target=\"_blank\">https://wandb.ai/devcore/Metriken%20Bauwesen%20Sweeps/runs/ozqa1nga</a><br/>\n                "
     },
     "metadata": {},
     "output_type": "display_data"
    },
    {
     "name": "stderr",
     "output_type": "stream",
     "text": [
      "\u001B[34m\u001B[1mwandb\u001B[0m: Agent Starting Run: 3v4afco6 with config:\n",
      "\u001B[34m\u001B[1mwandb\u001B[0m: \tlearning_rate: 0.0947762677062124\n",
      "\u001B[34m\u001B[1mwandb\u001B[0m: \tmax_depth: 12\n",
      "\u001B[34m\u001B[1mwandb\u001B[0m: \tmin_samples_split: 10\n",
      "\u001B[34m\u001B[1mwandb\u001B[0m: \tn_estimators: 512\n",
      "\u001B[34m\u001B[1mwandb\u001B[0m: \tsubsample: 0.7581331400653546\n"
     ]
    },
    {
     "data": {
      "text/plain": "<IPython.core.display.HTML object>",
      "text/html": "\n                Tracking run with wandb version 0.11.0<br/>\n                Syncing run <strong style=\"color:#cdcd00\">sparkling-sweep-8</strong> to <a href=\"https://wandb.ai\" target=\"_blank\">Weights & Biases</a> <a href=\"https://docs.wandb.com/integrations/jupyter.html\" target=\"_blank\">(Documentation)</a>.<br/>\n                Project page: <a href=\"https://wandb.ai/devcore/Metriken%20Bauwesen%20Sweeps\" target=\"_blank\">https://wandb.ai/devcore/Metriken%20Bauwesen%20Sweeps</a><br/>\n                Sweep page: <a href=\"https://wandb.ai/devcore/Metriken%20Bauwesen%20Sweeps/sweeps/461ybom6\" target=\"_blank\">https://wandb.ai/devcore/Metriken%20Bauwesen%20Sweeps/sweeps/461ybom6</a><br/>\nRun page: <a href=\"https://wandb.ai/devcore/Metriken%20Bauwesen%20Sweeps/runs/3v4afco6\" target=\"_blank\">https://wandb.ai/devcore/Metriken%20Bauwesen%20Sweeps/runs/3v4afco6</a><br/>\n                Run data is saved locally in <code>C:\\Daten\\Development\\FHNW\\ip5-metriken-bauwesen\\src\\weight_and_bias\\wandb\\run-20210720_161151-3v4afco6</code><br/><br/>\n            "
     },
     "metadata": {},
     "output_type": "display_data"
    },
    {
     "name": "stdout",
     "output_type": "stream",
     "text": [
      "Location: C:\\Daten\\Development\\FHNW\\ip5-metriken-bauwesen\\export\\cluster_means.joblib\n",
      "Location: C:\\Daten\\Development\\FHNW\\ip5-metriken-bauwesen\\export\\fitted_pipeline.joblib\n"
     ]
    },
    {
     "data": {
      "text/plain": "<IPython.core.display.HTML object>",
      "text/html": "<br/>Waiting for W&B process to finish, PID 11396<br/>Program ended successfully."
     },
     "metadata": {},
     "output_type": "display_data"
    },
    {
     "data": {
      "text/plain": "VBox(children=(Label(value=' 0.00MB of 0.00MB uploaded (0.00MB deduped)\\r'), FloatProgress(value=1.0, max=1.0)…",
      "application/vnd.jupyter.widget-view+json": {
       "version_major": 2,
       "version_minor": 0,
       "model_id": "29d2788fc5c24ff196e2f9c2b92d878d"
      }
     },
     "metadata": {},
     "output_type": "display_data"
    },
    {
     "data": {
      "text/plain": "<IPython.core.display.HTML object>",
      "text/html": "Find user logs for this run at: <code>C:\\Daten\\Development\\FHNW\\ip5-metriken-bauwesen\\src\\weight_and_bias\\wandb\\run-20210720_161151-3v4afco6\\logs\\debug.log</code>"
     },
     "metadata": {},
     "output_type": "display_data"
    },
    {
     "data": {
      "text/plain": "<IPython.core.display.HTML object>",
      "text/html": "Find internal logs for this run at: <code>C:\\Daten\\Development\\FHNW\\ip5-metriken-bauwesen\\src\\weight_and_bias\\wandb\\run-20210720_161151-3v4afco6\\logs\\debug-internal.log</code>"
     },
     "metadata": {},
     "output_type": "display_data"
    },
    {
     "data": {
      "text/plain": "<IPython.core.display.HTML object>",
      "text/html": "<h3>Run summary:</h3><br/><style>\n    table.wandb td:nth-child(1) { padding: 0 10px; text-align: right }\n    </style><table class=\"wandb\">\n<tr><td>r2</td><td>0.92791</td></tr><tr><td>_runtime</td><td>9</td></tr><tr><td>_timestamp</td><td>1626790321</td></tr><tr><td>_step</td><td>1</td></tr><tr><td>neg_mape</td><td>-0.16749</td></tr></table>"
     },
     "metadata": {},
     "output_type": "display_data"
    },
    {
     "data": {
      "text/plain": "<IPython.core.display.HTML object>",
      "text/html": "<h3>Run history:</h3><br/><style>\n    table.wandb td:nth-child(1) { padding: 0 10px; text-align: right }\n    </style><table class=\"wandb\">\n<tr><td>r2</td><td>▁</td></tr><tr><td>_runtime</td><td>▁▁</td></tr><tr><td>_timestamp</td><td>▁▁</td></tr><tr><td>_step</td><td>▁█</td></tr><tr><td>neg_mape</td><td>▁</td></tr></table><br/>"
     },
     "metadata": {},
     "output_type": "display_data"
    },
    {
     "data": {
      "text/plain": "<IPython.core.display.HTML object>",
      "text/html": "Synced 5 W&B file(s), 0 media file(s), 0 artifact file(s) and 0 other file(s)"
     },
     "metadata": {},
     "output_type": "display_data"
    },
    {
     "data": {
      "text/plain": "<IPython.core.display.HTML object>",
      "text/html": "\n                    <br/>Synced <strong style=\"color:#cdcd00\">sparkling-sweep-8</strong>: <a href=\"https://wandb.ai/devcore/Metriken%20Bauwesen%20Sweeps/runs/3v4afco6\" target=\"_blank\">https://wandb.ai/devcore/Metriken%20Bauwesen%20Sweeps/runs/3v4afco6</a><br/>\n                "
     },
     "metadata": {},
     "output_type": "display_data"
    },
    {
     "name": "stderr",
     "output_type": "stream",
     "text": [
      "\u001B[34m\u001B[1mwandb\u001B[0m: Agent Starting Run: 838ycdqf with config:\n",
      "\u001B[34m\u001B[1mwandb\u001B[0m: \tlearning_rate: 0.07668037465408827\n",
      "\u001B[34m\u001B[1mwandb\u001B[0m: \tmax_depth: 12\n",
      "\u001B[34m\u001B[1mwandb\u001B[0m: \tmin_samples_split: 6\n",
      "\u001B[34m\u001B[1mwandb\u001B[0m: \tn_estimators: 1024\n",
      "\u001B[34m\u001B[1mwandb\u001B[0m: \tsubsample: 0.7355887473730163\n"
     ]
    },
    {
     "data": {
      "text/plain": "<IPython.core.display.HTML object>",
      "text/html": "\n                Tracking run with wandb version 0.11.0<br/>\n                Syncing run <strong style=\"color:#cdcd00\">scarlet-sweep-9</strong> to <a href=\"https://wandb.ai\" target=\"_blank\">Weights & Biases</a> <a href=\"https://docs.wandb.com/integrations/jupyter.html\" target=\"_blank\">(Documentation)</a>.<br/>\n                Project page: <a href=\"https://wandb.ai/devcore/Metriken%20Bauwesen%20Sweeps\" target=\"_blank\">https://wandb.ai/devcore/Metriken%20Bauwesen%20Sweeps</a><br/>\n                Sweep page: <a href=\"https://wandb.ai/devcore/Metriken%20Bauwesen%20Sweeps/sweeps/461ybom6\" target=\"_blank\">https://wandb.ai/devcore/Metriken%20Bauwesen%20Sweeps/sweeps/461ybom6</a><br/>\nRun page: <a href=\"https://wandb.ai/devcore/Metriken%20Bauwesen%20Sweeps/runs/838ycdqf\" target=\"_blank\">https://wandb.ai/devcore/Metriken%20Bauwesen%20Sweeps/runs/838ycdqf</a><br/>\n                Run data is saved locally in <code>C:\\Daten\\Development\\FHNW\\ip5-metriken-bauwesen\\src\\weight_and_bias\\wandb\\run-20210720_161206-838ycdqf</code><br/><br/>\n            "
     },
     "metadata": {},
     "output_type": "display_data"
    },
    {
     "name": "stdout",
     "output_type": "stream",
     "text": [
      "Location: C:\\Daten\\Development\\FHNW\\ip5-metriken-bauwesen\\export\\cluster_means.joblib\n",
      "Location: C:\\Daten\\Development\\FHNW\\ip5-metriken-bauwesen\\export\\fitted_pipeline.joblib\n"
     ]
    },
    {
     "data": {
      "text/plain": "<IPython.core.display.HTML object>",
      "text/html": "<br/>Waiting for W&B process to finish, PID 716<br/>Program ended successfully."
     },
     "metadata": {},
     "output_type": "display_data"
    },
    {
     "data": {
      "text/plain": "VBox(children=(Label(value=' 0.00MB of 0.00MB uploaded (0.00MB deduped)\\r'), FloatProgress(value=1.0, max=1.0)…",
      "application/vnd.jupyter.widget-view+json": {
       "version_major": 2,
       "version_minor": 0,
       "model_id": "178d97ab9ff44bb6853cdc4ba708631f"
      }
     },
     "metadata": {},
     "output_type": "display_data"
    },
    {
     "data": {
      "text/plain": "<IPython.core.display.HTML object>",
      "text/html": "Find user logs for this run at: <code>C:\\Daten\\Development\\FHNW\\ip5-metriken-bauwesen\\src\\weight_and_bias\\wandb\\run-20210720_161206-838ycdqf\\logs\\debug.log</code>"
     },
     "metadata": {},
     "output_type": "display_data"
    },
    {
     "data": {
      "text/plain": "<IPython.core.display.HTML object>",
      "text/html": "Find internal logs for this run at: <code>C:\\Daten\\Development\\FHNW\\ip5-metriken-bauwesen\\src\\weight_and_bias\\wandb\\run-20210720_161206-838ycdqf\\logs\\debug-internal.log</code>"
     },
     "metadata": {},
     "output_type": "display_data"
    },
    {
     "data": {
      "text/plain": "<IPython.core.display.HTML object>",
      "text/html": "<h3>Run summary:</h3><br/><style>\n    table.wandb td:nth-child(1) { padding: 0 10px; text-align: right }\n    </style><table class=\"wandb\">\n<tr><td>r2</td><td>0.9238</td></tr><tr><td>_runtime</td><td>20</td></tr><tr><td>_timestamp</td><td>1626790346</td></tr><tr><td>_step</td><td>1</td></tr><tr><td>neg_mape</td><td>-0.16835</td></tr></table>"
     },
     "metadata": {},
     "output_type": "display_data"
    },
    {
     "data": {
      "text/plain": "<IPython.core.display.HTML object>",
      "text/html": "<h3>Run history:</h3><br/><style>\n    table.wandb td:nth-child(1) { padding: 0 10px; text-align: right }\n    </style><table class=\"wandb\">\n<tr><td>r2</td><td>▁</td></tr><tr><td>_runtime</td><td>▁▁</td></tr><tr><td>_timestamp</td><td>▁▁</td></tr><tr><td>_step</td><td>▁█</td></tr><tr><td>neg_mape</td><td>▁</td></tr></table><br/>"
     },
     "metadata": {},
     "output_type": "display_data"
    },
    {
     "data": {
      "text/plain": "<IPython.core.display.HTML object>",
      "text/html": "Synced 5 W&B file(s), 0 media file(s), 0 artifact file(s) and 0 other file(s)"
     },
     "metadata": {},
     "output_type": "display_data"
    },
    {
     "data": {
      "text/plain": "<IPython.core.display.HTML object>",
      "text/html": "\n                    <br/>Synced <strong style=\"color:#cdcd00\">scarlet-sweep-9</strong>: <a href=\"https://wandb.ai/devcore/Metriken%20Bauwesen%20Sweeps/runs/838ycdqf\" target=\"_blank\">https://wandb.ai/devcore/Metriken%20Bauwesen%20Sweeps/runs/838ycdqf</a><br/>\n                "
     },
     "metadata": {},
     "output_type": "display_data"
    },
    {
     "name": "stderr",
     "output_type": "stream",
     "text": [
      "\u001B[34m\u001B[1mwandb\u001B[0m: Agent Starting Run: nugday1k with config:\n",
      "\u001B[34m\u001B[1mwandb\u001B[0m: \tlearning_rate: 0.10387598935273379\n",
      "\u001B[34m\u001B[1mwandb\u001B[0m: \tmax_depth: 20\n",
      "\u001B[34m\u001B[1mwandb\u001B[0m: \tmin_samples_split: 10\n",
      "\u001B[34m\u001B[1mwandb\u001B[0m: \tn_estimators: 768\n",
      "\u001B[34m\u001B[1mwandb\u001B[0m: \tsubsample: 0.5308678275754042\n"
     ]
    },
    {
     "data": {
      "text/plain": "<IPython.core.display.HTML object>",
      "text/html": "\n                Tracking run with wandb version 0.11.0<br/>\n                Syncing run <strong style=\"color:#cdcd00\">vocal-sweep-10</strong> to <a href=\"https://wandb.ai\" target=\"_blank\">Weights & Biases</a> <a href=\"https://docs.wandb.com/integrations/jupyter.html\" target=\"_blank\">(Documentation)</a>.<br/>\n                Project page: <a href=\"https://wandb.ai/devcore/Metriken%20Bauwesen%20Sweeps\" target=\"_blank\">https://wandb.ai/devcore/Metriken%20Bauwesen%20Sweeps</a><br/>\n                Sweep page: <a href=\"https://wandb.ai/devcore/Metriken%20Bauwesen%20Sweeps/sweeps/461ybom6\" target=\"_blank\">https://wandb.ai/devcore/Metriken%20Bauwesen%20Sweeps/sweeps/461ybom6</a><br/>\nRun page: <a href=\"https://wandb.ai/devcore/Metriken%20Bauwesen%20Sweeps/runs/nugday1k\" target=\"_blank\">https://wandb.ai/devcore/Metriken%20Bauwesen%20Sweeps/runs/nugday1k</a><br/>\n                Run data is saved locally in <code>C:\\Daten\\Development\\FHNW\\ip5-metriken-bauwesen\\src\\weight_and_bias\\wandb\\run-20210720_161230-nugday1k</code><br/><br/>\n            "
     },
     "metadata": {},
     "output_type": "display_data"
    },
    {
     "name": "stdout",
     "output_type": "stream",
     "text": [
      "Location: C:\\Daten\\Development\\FHNW\\ip5-metriken-bauwesen\\export\\cluster_means.joblib\n",
      "Location: C:\\Daten\\Development\\FHNW\\ip5-metriken-bauwesen\\export\\fitted_pipeline.joblib\n"
     ]
    },
    {
     "data": {
      "text/plain": "<IPython.core.display.HTML object>",
      "text/html": "<br/>Waiting for W&B process to finish, PID 12420<br/>Program ended successfully."
     },
     "metadata": {},
     "output_type": "display_data"
    },
    {
     "data": {
      "text/plain": "VBox(children=(Label(value=' 0.00MB of 0.00MB uploaded (0.00MB deduped)\\r'), FloatProgress(value=1.0, max=1.0)…",
      "application/vnd.jupyter.widget-view+json": {
       "version_major": 2,
       "version_minor": 0,
       "model_id": "757b0915c64a491187365377ab828aca"
      }
     },
     "metadata": {},
     "output_type": "display_data"
    },
    {
     "data": {
      "text/plain": "<IPython.core.display.HTML object>",
      "text/html": "Find user logs for this run at: <code>C:\\Daten\\Development\\FHNW\\ip5-metriken-bauwesen\\src\\weight_and_bias\\wandb\\run-20210720_161230-nugday1k\\logs\\debug.log</code>"
     },
     "metadata": {},
     "output_type": "display_data"
    },
    {
     "data": {
      "text/plain": "<IPython.core.display.HTML object>",
      "text/html": "Find internal logs for this run at: <code>C:\\Daten\\Development\\FHNW\\ip5-metriken-bauwesen\\src\\weight_and_bias\\wandb\\run-20210720_161230-nugday1k\\logs\\debug-internal.log</code>"
     },
     "metadata": {},
     "output_type": "display_data"
    },
    {
     "data": {
      "text/plain": "<IPython.core.display.HTML object>",
      "text/html": "<h3>Run summary:</h3><br/><style>\n    table.wandb td:nth-child(1) { padding: 0 10px; text-align: right }\n    </style><table class=\"wandb\">\n<tr><td>r2</td><td>0.93801</td></tr><tr><td>_runtime</td><td>15</td></tr><tr><td>_timestamp</td><td>1626790365</td></tr><tr><td>_step</td><td>1</td></tr><tr><td>neg_mape</td><td>-0.17314</td></tr></table>"
     },
     "metadata": {},
     "output_type": "display_data"
    },
    {
     "data": {
      "text/plain": "<IPython.core.display.HTML object>",
      "text/html": "<h3>Run history:</h3><br/><style>\n    table.wandb td:nth-child(1) { padding: 0 10px; text-align: right }\n    </style><table class=\"wandb\">\n<tr><td>r2</td><td>▁</td></tr><tr><td>_runtime</td><td>▁▁</td></tr><tr><td>_timestamp</td><td>▁▁</td></tr><tr><td>_step</td><td>▁█</td></tr><tr><td>neg_mape</td><td>▁</td></tr></table><br/>"
     },
     "metadata": {},
     "output_type": "display_data"
    },
    {
     "data": {
      "text/plain": "<IPython.core.display.HTML object>",
      "text/html": "Synced 5 W&B file(s), 0 media file(s), 0 artifact file(s) and 0 other file(s)"
     },
     "metadata": {},
     "output_type": "display_data"
    },
    {
     "data": {
      "text/plain": "<IPython.core.display.HTML object>",
      "text/html": "\n                    <br/>Synced <strong style=\"color:#cdcd00\">vocal-sweep-10</strong>: <a href=\"https://wandb.ai/devcore/Metriken%20Bauwesen%20Sweeps/runs/nugday1k\" target=\"_blank\">https://wandb.ai/devcore/Metriken%20Bauwesen%20Sweeps/runs/nugday1k</a><br/>\n                "
     },
     "metadata": {},
     "output_type": "display_data"
    },
    {
     "name": "stderr",
     "output_type": "stream",
     "text": [
      "\u001B[34m\u001B[1mwandb\u001B[0m: Agent Starting Run: 98p7nxag with config:\n",
      "\u001B[34m\u001B[1mwandb\u001B[0m: \tlearning_rate: 0.11826994621546928\n",
      "\u001B[34m\u001B[1mwandb\u001B[0m: \tmax_depth: 10\n",
      "\u001B[34m\u001B[1mwandb\u001B[0m: \tmin_samples_split: 15\n",
      "\u001B[34m\u001B[1mwandb\u001B[0m: \tn_estimators: 1024\n",
      "\u001B[34m\u001B[1mwandb\u001B[0m: \tsubsample: 0.7108571600734469\n"
     ]
    },
    {
     "data": {
      "text/plain": "<IPython.core.display.HTML object>",
      "text/html": "\n                Tracking run with wandb version 0.11.0<br/>\n                Syncing run <strong style=\"color:#cdcd00\">fine-sweep-11</strong> to <a href=\"https://wandb.ai\" target=\"_blank\">Weights & Biases</a> <a href=\"https://docs.wandb.com/integrations/jupyter.html\" target=\"_blank\">(Documentation)</a>.<br/>\n                Project page: <a href=\"https://wandb.ai/devcore/Metriken%20Bauwesen%20Sweeps\" target=\"_blank\">https://wandb.ai/devcore/Metriken%20Bauwesen%20Sweeps</a><br/>\n                Sweep page: <a href=\"https://wandb.ai/devcore/Metriken%20Bauwesen%20Sweeps/sweeps/461ybom6\" target=\"_blank\">https://wandb.ai/devcore/Metriken%20Bauwesen%20Sweeps/sweeps/461ybom6</a><br/>\nRun page: <a href=\"https://wandb.ai/devcore/Metriken%20Bauwesen%20Sweeps/runs/98p7nxag\" target=\"_blank\">https://wandb.ai/devcore/Metriken%20Bauwesen%20Sweeps/runs/98p7nxag</a><br/>\n                Run data is saved locally in <code>C:\\Daten\\Development\\FHNW\\ip5-metriken-bauwesen\\src\\weight_and_bias\\wandb\\run-20210720_161249-98p7nxag</code><br/><br/>\n            "
     },
     "metadata": {},
     "output_type": "display_data"
    },
    {
     "name": "stdout",
     "output_type": "stream",
     "text": [
      "Location: C:\\Daten\\Development\\FHNW\\ip5-metriken-bauwesen\\export\\cluster_means.joblib\n",
      "Location: C:\\Daten\\Development\\FHNW\\ip5-metriken-bauwesen\\export\\fitted_pipeline.joblib\n"
     ]
    },
    {
     "data": {
      "text/plain": "<IPython.core.display.HTML object>",
      "text/html": "<br/>Waiting for W&B process to finish, PID 12736<br/>Program ended successfully."
     },
     "metadata": {},
     "output_type": "display_data"
    },
    {
     "data": {
      "text/plain": "VBox(children=(Label(value=' 0.00MB of 0.00MB uploaded (0.00MB deduped)\\r'), FloatProgress(value=1.0, max=1.0)…",
      "application/vnd.jupyter.widget-view+json": {
       "version_major": 2,
       "version_minor": 0,
       "model_id": "1a36645d82af4e9794240e29117b84d6"
      }
     },
     "metadata": {},
     "output_type": "display_data"
    },
    {
     "data": {
      "text/plain": "<IPython.core.display.HTML object>",
      "text/html": "Find user logs for this run at: <code>C:\\Daten\\Development\\FHNW\\ip5-metriken-bauwesen\\src\\weight_and_bias\\wandb\\run-20210720_161249-98p7nxag\\logs\\debug.log</code>"
     },
     "metadata": {},
     "output_type": "display_data"
    },
    {
     "data": {
      "text/plain": "<IPython.core.display.HTML object>",
      "text/html": "Find internal logs for this run at: <code>C:\\Daten\\Development\\FHNW\\ip5-metriken-bauwesen\\src\\weight_and_bias\\wandb\\run-20210720_161249-98p7nxag\\logs\\debug-internal.log</code>"
     },
     "metadata": {},
     "output_type": "display_data"
    },
    {
     "data": {
      "text/plain": "<IPython.core.display.HTML object>",
      "text/html": "<h3>Run summary:</h3><br/><style>\n    table.wandb td:nth-child(1) { padding: 0 10px; text-align: right }\n    </style><table class=\"wandb\">\n<tr><td>r2</td><td>0.93192</td></tr><tr><td>_runtime</td><td>15</td></tr><tr><td>_timestamp</td><td>1626790384</td></tr><tr><td>_step</td><td>1</td></tr><tr><td>neg_mape</td><td>-0.17379</td></tr></table>"
     },
     "metadata": {},
     "output_type": "display_data"
    },
    {
     "data": {
      "text/plain": "<IPython.core.display.HTML object>",
      "text/html": "<h3>Run history:</h3><br/><style>\n    table.wandb td:nth-child(1) { padding: 0 10px; text-align: right }\n    </style><table class=\"wandb\">\n<tr><td>r2</td><td>▁</td></tr><tr><td>_runtime</td><td>▁▁</td></tr><tr><td>_timestamp</td><td>▁▁</td></tr><tr><td>_step</td><td>▁█</td></tr><tr><td>neg_mape</td><td>▁</td></tr></table><br/>"
     },
     "metadata": {},
     "output_type": "display_data"
    },
    {
     "data": {
      "text/plain": "<IPython.core.display.HTML object>",
      "text/html": "Synced 5 W&B file(s), 0 media file(s), 0 artifact file(s) and 0 other file(s)"
     },
     "metadata": {},
     "output_type": "display_data"
    },
    {
     "data": {
      "text/plain": "<IPython.core.display.HTML object>",
      "text/html": "\n                    <br/>Synced <strong style=\"color:#cdcd00\">fine-sweep-11</strong>: <a href=\"https://wandb.ai/devcore/Metriken%20Bauwesen%20Sweeps/runs/98p7nxag\" target=\"_blank\">https://wandb.ai/devcore/Metriken%20Bauwesen%20Sweeps/runs/98p7nxag</a><br/>\n                "
     },
     "metadata": {},
     "output_type": "display_data"
    },
    {
     "name": "stderr",
     "output_type": "stream",
     "text": [
      "\u001B[34m\u001B[1mwandb\u001B[0m: Agent Starting Run: y54bgbmy with config:\n",
      "\u001B[34m\u001B[1mwandb\u001B[0m: \tlearning_rate: 0.11560455220846517\n",
      "\u001B[34m\u001B[1mwandb\u001B[0m: \tmax_depth: 20\n",
      "\u001B[34m\u001B[1mwandb\u001B[0m: \tmin_samples_split: 6\n",
      "\u001B[34m\u001B[1mwandb\u001B[0m: \tn_estimators: 768\n",
      "\u001B[34m\u001B[1mwandb\u001B[0m: \tsubsample: 0.6278937492418584\n"
     ]
    },
    {
     "data": {
      "text/plain": "<IPython.core.display.HTML object>",
      "text/html": "\n                Tracking run with wandb version 0.11.0<br/>\n                Syncing run <strong style=\"color:#cdcd00\">upbeat-sweep-12</strong> to <a href=\"https://wandb.ai\" target=\"_blank\">Weights & Biases</a> <a href=\"https://docs.wandb.com/integrations/jupyter.html\" target=\"_blank\">(Documentation)</a>.<br/>\n                Project page: <a href=\"https://wandb.ai/devcore/Metriken%20Bauwesen%20Sweeps\" target=\"_blank\">https://wandb.ai/devcore/Metriken%20Bauwesen%20Sweeps</a><br/>\n                Sweep page: <a href=\"https://wandb.ai/devcore/Metriken%20Bauwesen%20Sweeps/sweeps/461ybom6\" target=\"_blank\">https://wandb.ai/devcore/Metriken%20Bauwesen%20Sweeps/sweeps/461ybom6</a><br/>\nRun page: <a href=\"https://wandb.ai/devcore/Metriken%20Bauwesen%20Sweeps/runs/y54bgbmy\" target=\"_blank\">https://wandb.ai/devcore/Metriken%20Bauwesen%20Sweeps/runs/y54bgbmy</a><br/>\n                Run data is saved locally in <code>C:\\Daten\\Development\\FHNW\\ip5-metriken-bauwesen\\src\\weight_and_bias\\wandb\\run-20210720_161308-y54bgbmy</code><br/><br/>\n            "
     },
     "metadata": {},
     "output_type": "display_data"
    },
    {
     "name": "stdout",
     "output_type": "stream",
     "text": [
      "Location: C:\\Daten\\Development\\FHNW\\ip5-metriken-bauwesen\\export\\cluster_means.joblib\n",
      "Location: C:\\Daten\\Development\\FHNW\\ip5-metriken-bauwesen\\export\\fitted_pipeline.joblib\n"
     ]
    },
    {
     "data": {
      "text/plain": "<IPython.core.display.HTML object>",
      "text/html": "<br/>Waiting for W&B process to finish, PID 14688<br/>Program ended successfully."
     },
     "metadata": {},
     "output_type": "display_data"
    },
    {
     "data": {
      "text/plain": "VBox(children=(Label(value=' 0.00MB of 0.00MB uploaded (0.00MB deduped)\\r'), FloatProgress(value=1.0, max=1.0)…",
      "application/vnd.jupyter.widget-view+json": {
       "version_major": 2,
       "version_minor": 0,
       "model_id": "0fa7831896a64579b59641bf8080949d"
      }
     },
     "metadata": {},
     "output_type": "display_data"
    },
    {
     "data": {
      "text/plain": "<IPython.core.display.HTML object>",
      "text/html": "Find user logs for this run at: <code>C:\\Daten\\Development\\FHNW\\ip5-metriken-bauwesen\\src\\weight_and_bias\\wandb\\run-20210720_161308-y54bgbmy\\logs\\debug.log</code>"
     },
     "metadata": {},
     "output_type": "display_data"
    },
    {
     "data": {
      "text/plain": "<IPython.core.display.HTML object>",
      "text/html": "Find internal logs for this run at: <code>C:\\Daten\\Development\\FHNW\\ip5-metriken-bauwesen\\src\\weight_and_bias\\wandb\\run-20210720_161308-y54bgbmy\\logs\\debug-internal.log</code>"
     },
     "metadata": {},
     "output_type": "display_data"
    },
    {
     "data": {
      "text/plain": "<IPython.core.display.HTML object>",
      "text/html": "<h3>Run summary:</h3><br/><style>\n    table.wandb td:nth-child(1) { padding: 0 10px; text-align: right }\n    </style><table class=\"wandb\">\n<tr><td>r2</td><td>0.9294</td></tr><tr><td>_runtime</td><td>15</td></tr><tr><td>_timestamp</td><td>1626790403</td></tr><tr><td>_step</td><td>1</td></tr><tr><td>neg_mape</td><td>-0.16657</td></tr></table>"
     },
     "metadata": {},
     "output_type": "display_data"
    },
    {
     "data": {
      "text/plain": "<IPython.core.display.HTML object>",
      "text/html": "<h3>Run history:</h3><br/><style>\n    table.wandb td:nth-child(1) { padding: 0 10px; text-align: right }\n    </style><table class=\"wandb\">\n<tr><td>r2</td><td>▁</td></tr><tr><td>_runtime</td><td>▁▁</td></tr><tr><td>_timestamp</td><td>▁▁</td></tr><tr><td>_step</td><td>▁█</td></tr><tr><td>neg_mape</td><td>▁</td></tr></table><br/>"
     },
     "metadata": {},
     "output_type": "display_data"
    },
    {
     "data": {
      "text/plain": "<IPython.core.display.HTML object>",
      "text/html": "Synced 5 W&B file(s), 0 media file(s), 0 artifact file(s) and 0 other file(s)"
     },
     "metadata": {},
     "output_type": "display_data"
    },
    {
     "data": {
      "text/plain": "<IPython.core.display.HTML object>",
      "text/html": "\n                    <br/>Synced <strong style=\"color:#cdcd00\">upbeat-sweep-12</strong>: <a href=\"https://wandb.ai/devcore/Metriken%20Bauwesen%20Sweeps/runs/y54bgbmy\" target=\"_blank\">https://wandb.ai/devcore/Metriken%20Bauwesen%20Sweeps/runs/y54bgbmy</a><br/>\n                "
     },
     "metadata": {},
     "output_type": "display_data"
    },
    {
     "name": "stderr",
     "output_type": "stream",
     "text": [
      "\u001B[34m\u001B[1mwandb\u001B[0m: Agent Starting Run: aj9u9hzj with config:\n",
      "\u001B[34m\u001B[1mwandb\u001B[0m: \tlearning_rate: 0.14165191093619972\n",
      "\u001B[34m\u001B[1mwandb\u001B[0m: \tmax_depth: 10\n",
      "\u001B[34m\u001B[1mwandb\u001B[0m: \tmin_samples_split: 6\n",
      "\u001B[34m\u001B[1mwandb\u001B[0m: \tn_estimators: 1536\n",
      "\u001B[34m\u001B[1mwandb\u001B[0m: \tsubsample: 0.7173480829258579\n"
     ]
    },
    {
     "data": {
      "text/plain": "<IPython.core.display.HTML object>",
      "text/html": "\n                Tracking run with wandb version 0.11.0<br/>\n                Syncing run <strong style=\"color:#cdcd00\">young-sweep-13</strong> to <a href=\"https://wandb.ai\" target=\"_blank\">Weights & Biases</a> <a href=\"https://docs.wandb.com/integrations/jupyter.html\" target=\"_blank\">(Documentation)</a>.<br/>\n                Project page: <a href=\"https://wandb.ai/devcore/Metriken%20Bauwesen%20Sweeps\" target=\"_blank\">https://wandb.ai/devcore/Metriken%20Bauwesen%20Sweeps</a><br/>\n                Sweep page: <a href=\"https://wandb.ai/devcore/Metriken%20Bauwesen%20Sweeps/sweeps/461ybom6\" target=\"_blank\">https://wandb.ai/devcore/Metriken%20Bauwesen%20Sweeps/sweeps/461ybom6</a><br/>\nRun page: <a href=\"https://wandb.ai/devcore/Metriken%20Bauwesen%20Sweeps/runs/aj9u9hzj\" target=\"_blank\">https://wandb.ai/devcore/Metriken%20Bauwesen%20Sweeps/runs/aj9u9hzj</a><br/>\n                Run data is saved locally in <code>C:\\Daten\\Development\\FHNW\\ip5-metriken-bauwesen\\src\\weight_and_bias\\wandb\\run-20210720_161328-aj9u9hzj</code><br/><br/>\n            "
     },
     "metadata": {},
     "output_type": "display_data"
    },
    {
     "name": "stdout",
     "output_type": "stream",
     "text": [
      "Location: C:\\Daten\\Development\\FHNW\\ip5-metriken-bauwesen\\export\\cluster_means.joblib\n",
      "Location: C:\\Daten\\Development\\FHNW\\ip5-metriken-bauwesen\\export\\fitted_pipeline.joblib\n"
     ]
    },
    {
     "data": {
      "text/plain": "<IPython.core.display.HTML object>",
      "text/html": "<br/>Waiting for W&B process to finish, PID 8188<br/>Program ended successfully."
     },
     "metadata": {},
     "output_type": "display_data"
    },
    {
     "data": {
      "text/plain": "VBox(children=(Label(value=' 0.00MB of 0.00MB uploaded (0.00MB deduped)\\r'), FloatProgress(value=1.0, max=1.0)…",
      "application/vnd.jupyter.widget-view+json": {
       "version_major": 2,
       "version_minor": 0,
       "model_id": "a01b7781d7b748bcad4a637c92e71d06"
      }
     },
     "metadata": {},
     "output_type": "display_data"
    },
    {
     "data": {
      "text/plain": "<IPython.core.display.HTML object>",
      "text/html": "Find user logs for this run at: <code>C:\\Daten\\Development\\FHNW\\ip5-metriken-bauwesen\\src\\weight_and_bias\\wandb\\run-20210720_161328-aj9u9hzj\\logs\\debug.log</code>"
     },
     "metadata": {},
     "output_type": "display_data"
    },
    {
     "data": {
      "text/plain": "<IPython.core.display.HTML object>",
      "text/html": "Find internal logs for this run at: <code>C:\\Daten\\Development\\FHNW\\ip5-metriken-bauwesen\\src\\weight_and_bias\\wandb\\run-20210720_161328-aj9u9hzj\\logs\\debug-internal.log</code>"
     },
     "metadata": {},
     "output_type": "display_data"
    },
    {
     "data": {
      "text/plain": "<IPython.core.display.HTML object>",
      "text/html": "<h3>Run summary:</h3><br/><style>\n    table.wandb td:nth-child(1) { padding: 0 10px; text-align: right }\n    </style><table class=\"wandb\">\n<tr><td>r2</td><td>0.91778</td></tr><tr><td>_runtime</td><td>30</td></tr><tr><td>_timestamp</td><td>1626790438</td></tr><tr><td>_step</td><td>1</td></tr><tr><td>neg_mape</td><td>-0.17369</td></tr></table>"
     },
     "metadata": {},
     "output_type": "display_data"
    },
    {
     "data": {
      "text/plain": "<IPython.core.display.HTML object>",
      "text/html": "<h3>Run history:</h3><br/><style>\n    table.wandb td:nth-child(1) { padding: 0 10px; text-align: right }\n    </style><table class=\"wandb\">\n<tr><td>r2</td><td>▁</td></tr><tr><td>_runtime</td><td>▁▁</td></tr><tr><td>_timestamp</td><td>▁▁</td></tr><tr><td>_step</td><td>▁█</td></tr><tr><td>neg_mape</td><td>▁</td></tr></table><br/>"
     },
     "metadata": {},
     "output_type": "display_data"
    },
    {
     "data": {
      "text/plain": "<IPython.core.display.HTML object>",
      "text/html": "Synced 5 W&B file(s), 0 media file(s), 0 artifact file(s) and 0 other file(s)"
     },
     "metadata": {},
     "output_type": "display_data"
    },
    {
     "data": {
      "text/plain": "<IPython.core.display.HTML object>",
      "text/html": "\n                    <br/>Synced <strong style=\"color:#cdcd00\">young-sweep-13</strong>: <a href=\"https://wandb.ai/devcore/Metriken%20Bauwesen%20Sweeps/runs/aj9u9hzj\" target=\"_blank\">https://wandb.ai/devcore/Metriken%20Bauwesen%20Sweeps/runs/aj9u9hzj</a><br/>\n                "
     },
     "metadata": {},
     "output_type": "display_data"
    },
    {
     "name": "stderr",
     "output_type": "stream",
     "text": [
      "\u001B[34m\u001B[1mwandb\u001B[0m: Agent Starting Run: s8gklq9y with config:\n",
      "\u001B[34m\u001B[1mwandb\u001B[0m: \tlearning_rate: 0.07118512477804802\n",
      "\u001B[34m\u001B[1mwandb\u001B[0m: \tmax_depth: 15\n",
      "\u001B[34m\u001B[1mwandb\u001B[0m: \tmin_samples_split: 5\n",
      "\u001B[34m\u001B[1mwandb\u001B[0m: \tn_estimators: 1024\n",
      "\u001B[34m\u001B[1mwandb\u001B[0m: \tsubsample: 0.7906528463294538\n"
     ]
    },
    {
     "data": {
      "text/plain": "<IPython.core.display.HTML object>",
      "text/html": "\n                Tracking run with wandb version 0.11.0<br/>\n                Syncing run <strong style=\"color:#cdcd00\">deft-sweep-14</strong> to <a href=\"https://wandb.ai\" target=\"_blank\">Weights & Biases</a> <a href=\"https://docs.wandb.com/integrations/jupyter.html\" target=\"_blank\">(Documentation)</a>.<br/>\n                Project page: <a href=\"https://wandb.ai/devcore/Metriken%20Bauwesen%20Sweeps\" target=\"_blank\">https://wandb.ai/devcore/Metriken%20Bauwesen%20Sweeps</a><br/>\n                Sweep page: <a href=\"https://wandb.ai/devcore/Metriken%20Bauwesen%20Sweeps/sweeps/461ybom6\" target=\"_blank\">https://wandb.ai/devcore/Metriken%20Bauwesen%20Sweeps/sweeps/461ybom6</a><br/>\nRun page: <a href=\"https://wandb.ai/devcore/Metriken%20Bauwesen%20Sweeps/runs/s8gklq9y\" target=\"_blank\">https://wandb.ai/devcore/Metriken%20Bauwesen%20Sweeps/runs/s8gklq9y</a><br/>\n                Run data is saved locally in <code>C:\\Daten\\Development\\FHNW\\ip5-metriken-bauwesen\\src\\weight_and_bias\\wandb\\run-20210720_161402-s8gklq9y</code><br/><br/>\n            "
     },
     "metadata": {},
     "output_type": "display_data"
    },
    {
     "name": "stdout",
     "output_type": "stream",
     "text": [
      "Location: C:\\Daten\\Development\\FHNW\\ip5-metriken-bauwesen\\export\\cluster_means.joblib\n",
      "Location: C:\\Daten\\Development\\FHNW\\ip5-metriken-bauwesen\\export\\fitted_pipeline.joblib\n"
     ]
    },
    {
     "data": {
      "text/plain": "<IPython.core.display.HTML object>",
      "text/html": "<br/>Waiting for W&B process to finish, PID 9408<br/>Program ended successfully."
     },
     "metadata": {},
     "output_type": "display_data"
    },
    {
     "data": {
      "text/plain": "VBox(children=(Label(value=' 0.00MB of 0.00MB uploaded (0.00MB deduped)\\r'), FloatProgress(value=1.0, max=1.0)…",
      "application/vnd.jupyter.widget-view+json": {
       "version_major": 2,
       "version_minor": 0,
       "model_id": "96041048e54643778904b900c0ea532b"
      }
     },
     "metadata": {},
     "output_type": "display_data"
    },
    {
     "data": {
      "text/plain": "<IPython.core.display.HTML object>",
      "text/html": "Find user logs for this run at: <code>C:\\Daten\\Development\\FHNW\\ip5-metriken-bauwesen\\src\\weight_and_bias\\wandb\\run-20210720_161402-s8gklq9y\\logs\\debug.log</code>"
     },
     "metadata": {},
     "output_type": "display_data"
    },
    {
     "data": {
      "text/plain": "<IPython.core.display.HTML object>",
      "text/html": "Find internal logs for this run at: <code>C:\\Daten\\Development\\FHNW\\ip5-metriken-bauwesen\\src\\weight_and_bias\\wandb\\run-20210720_161402-s8gklq9y\\logs\\debug-internal.log</code>"
     },
     "metadata": {},
     "output_type": "display_data"
    },
    {
     "data": {
      "text/plain": "<IPython.core.display.HTML object>",
      "text/html": "<h3>Run summary:</h3><br/><style>\n    table.wandb td:nth-child(1) { padding: 0 10px; text-align: right }\n    </style><table class=\"wandb\">\n<tr><td>r2</td><td>0.91971</td></tr><tr><td>_runtime</td><td>29</td></tr><tr><td>_timestamp</td><td>1626790471</td></tr><tr><td>_step</td><td>1</td></tr><tr><td>neg_mape</td><td>-0.16914</td></tr></table>"
     },
     "metadata": {},
     "output_type": "display_data"
    },
    {
     "data": {
      "text/plain": "<IPython.core.display.HTML object>",
      "text/html": "<h3>Run history:</h3><br/><style>\n    table.wandb td:nth-child(1) { padding: 0 10px; text-align: right }\n    </style><table class=\"wandb\">\n<tr><td>r2</td><td>▁</td></tr><tr><td>_runtime</td><td>▁▁</td></tr><tr><td>_timestamp</td><td>▁▁</td></tr><tr><td>_step</td><td>▁█</td></tr><tr><td>neg_mape</td><td>▁</td></tr></table><br/>"
     },
     "metadata": {},
     "output_type": "display_data"
    },
    {
     "data": {
      "text/plain": "<IPython.core.display.HTML object>",
      "text/html": "Synced 5 W&B file(s), 0 media file(s), 0 artifact file(s) and 0 other file(s)"
     },
     "metadata": {},
     "output_type": "display_data"
    },
    {
     "data": {
      "text/plain": "<IPython.core.display.HTML object>",
      "text/html": "\n                    <br/>Synced <strong style=\"color:#cdcd00\">deft-sweep-14</strong>: <a href=\"https://wandb.ai/devcore/Metriken%20Bauwesen%20Sweeps/runs/s8gklq9y\" target=\"_blank\">https://wandb.ai/devcore/Metriken%20Bauwesen%20Sweeps/runs/s8gklq9y</a><br/>\n                "
     },
     "metadata": {},
     "output_type": "display_data"
    },
    {
     "name": "stderr",
     "output_type": "stream",
     "text": [
      "\u001B[34m\u001B[1mwandb\u001B[0m: Agent Starting Run: zf4lamwd with config:\n",
      "\u001B[34m\u001B[1mwandb\u001B[0m: \tlearning_rate: 0.08188676233188345\n",
      "\u001B[34m\u001B[1mwandb\u001B[0m: \tmax_depth: 10\n",
      "\u001B[34m\u001B[1mwandb\u001B[0m: \tmin_samples_split: 6\n",
      "\u001B[34m\u001B[1mwandb\u001B[0m: \tn_estimators: 1024\n",
      "\u001B[34m\u001B[1mwandb\u001B[0m: \tsubsample: 0.798757506065367\n"
     ]
    },
    {
     "data": {
      "text/plain": "<IPython.core.display.HTML object>",
      "text/html": "\n                Tracking run with wandb version 0.11.0<br/>\n                Syncing run <strong style=\"color:#cdcd00\">volcanic-sweep-15</strong> to <a href=\"https://wandb.ai\" target=\"_blank\">Weights & Biases</a> <a href=\"https://docs.wandb.com/integrations/jupyter.html\" target=\"_blank\">(Documentation)</a>.<br/>\n                Project page: <a href=\"https://wandb.ai/devcore/Metriken%20Bauwesen%20Sweeps\" target=\"_blank\">https://wandb.ai/devcore/Metriken%20Bauwesen%20Sweeps</a><br/>\n                Sweep page: <a href=\"https://wandb.ai/devcore/Metriken%20Bauwesen%20Sweeps/sweeps/461ybom6\" target=\"_blank\">https://wandb.ai/devcore/Metriken%20Bauwesen%20Sweeps/sweeps/461ybom6</a><br/>\nRun page: <a href=\"https://wandb.ai/devcore/Metriken%20Bauwesen%20Sweeps/runs/zf4lamwd\" target=\"_blank\">https://wandb.ai/devcore/Metriken%20Bauwesen%20Sweeps/runs/zf4lamwd</a><br/>\n                Run data is saved locally in <code>C:\\Daten\\Development\\FHNW\\ip5-metriken-bauwesen\\src\\weight_and_bias\\wandb\\run-20210720_161435-zf4lamwd</code><br/><br/>\n            "
     },
     "metadata": {},
     "output_type": "display_data"
    },
    {
     "name": "stdout",
     "output_type": "stream",
     "text": [
      "Location: C:\\Daten\\Development\\FHNW\\ip5-metriken-bauwesen\\export\\cluster_means.joblib\n",
      "Location: C:\\Daten\\Development\\FHNW\\ip5-metriken-bauwesen\\export\\fitted_pipeline.joblib\n"
     ]
    },
    {
     "data": {
      "text/plain": "<IPython.core.display.HTML object>",
      "text/html": "<br/>Waiting for W&B process to finish, PID 8260<br/>Program ended successfully."
     },
     "metadata": {},
     "output_type": "display_data"
    },
    {
     "data": {
      "text/plain": "VBox(children=(Label(value=' 0.00MB of 0.00MB uploaded (0.00MB deduped)\\r'), FloatProgress(value=1.0, max=1.0)…",
      "application/vnd.jupyter.widget-view+json": {
       "version_major": 2,
       "version_minor": 0,
       "model_id": "9b78a5a1d61244b1b926dd5f277b75cd"
      }
     },
     "metadata": {},
     "output_type": "display_data"
    },
    {
     "data": {
      "text/plain": "<IPython.core.display.HTML object>",
      "text/html": "Find user logs for this run at: <code>C:\\Daten\\Development\\FHNW\\ip5-metriken-bauwesen\\src\\weight_and_bias\\wandb\\run-20210720_161435-zf4lamwd\\logs\\debug.log</code>"
     },
     "metadata": {},
     "output_type": "display_data"
    },
    {
     "data": {
      "text/plain": "<IPython.core.display.HTML object>",
      "text/html": "Find internal logs for this run at: <code>C:\\Daten\\Development\\FHNW\\ip5-metriken-bauwesen\\src\\weight_and_bias\\wandb\\run-20210720_161435-zf4lamwd\\logs\\debug-internal.log</code>"
     },
     "metadata": {},
     "output_type": "display_data"
    },
    {
     "data": {
      "text/plain": "<IPython.core.display.HTML object>",
      "text/html": "<h3>Run summary:</h3><br/><style>\n    table.wandb td:nth-child(1) { padding: 0 10px; text-align: right }\n    </style><table class=\"wandb\">\n<tr><td>r2</td><td>0.92836</td></tr><tr><td>_runtime</td><td>18</td></tr><tr><td>_timestamp</td><td>1626790493</td></tr><tr><td>_step</td><td>1</td></tr><tr><td>neg_mape</td><td>-0.16817</td></tr></table>"
     },
     "metadata": {},
     "output_type": "display_data"
    },
    {
     "data": {
      "text/plain": "<IPython.core.display.HTML object>",
      "text/html": "<h3>Run history:</h3><br/><style>\n    table.wandb td:nth-child(1) { padding: 0 10px; text-align: right }\n    </style><table class=\"wandb\">\n<tr><td>r2</td><td>▁</td></tr><tr><td>_runtime</td><td>▁▁</td></tr><tr><td>_timestamp</td><td>▁▁</td></tr><tr><td>_step</td><td>▁█</td></tr><tr><td>neg_mape</td><td>▁</td></tr></table><br/>"
     },
     "metadata": {},
     "output_type": "display_data"
    },
    {
     "data": {
      "text/plain": "<IPython.core.display.HTML object>",
      "text/html": "Synced 5 W&B file(s), 0 media file(s), 0 artifact file(s) and 0 other file(s)"
     },
     "metadata": {},
     "output_type": "display_data"
    },
    {
     "data": {
      "text/plain": "<IPython.core.display.HTML object>",
      "text/html": "\n                    <br/>Synced <strong style=\"color:#cdcd00\">volcanic-sweep-15</strong>: <a href=\"https://wandb.ai/devcore/Metriken%20Bauwesen%20Sweeps/runs/zf4lamwd\" target=\"_blank\">https://wandb.ai/devcore/Metriken%20Bauwesen%20Sweeps/runs/zf4lamwd</a><br/>\n                "
     },
     "metadata": {},
     "output_type": "display_data"
    },
    {
     "name": "stderr",
     "output_type": "stream",
     "text": [
      "\u001B[34m\u001B[1mwandb\u001B[0m: Sweep Agent: Waiting for job.\n",
      "\u001B[34m\u001B[1mwandb\u001B[0m: Job received.\n",
      "\u001B[34m\u001B[1mwandb\u001B[0m: Agent Starting Run: u1lx3bpq with config:\n",
      "\u001B[34m\u001B[1mwandb\u001B[0m: \tlearning_rate: 0.0935452645464062\n",
      "\u001B[34m\u001B[1mwandb\u001B[0m: \tmax_depth: 30\n",
      "\u001B[34m\u001B[1mwandb\u001B[0m: \tmin_samples_split: 10\n",
      "\u001B[34m\u001B[1mwandb\u001B[0m: \tn_estimators: 768\n",
      "\u001B[34m\u001B[1mwandb\u001B[0m: \tsubsample: 0.8294227861527215\n"
     ]
    },
    {
     "data": {
      "text/plain": "<IPython.core.display.HTML object>",
      "text/html": "\n                Tracking run with wandb version 0.11.0<br/>\n                Syncing run <strong style=\"color:#cdcd00\">devout-sweep-16</strong> to <a href=\"https://wandb.ai\" target=\"_blank\">Weights & Biases</a> <a href=\"https://docs.wandb.com/integrations/jupyter.html\" target=\"_blank\">(Documentation)</a>.<br/>\n                Project page: <a href=\"https://wandb.ai/devcore/Metriken%20Bauwesen%20Sweeps\" target=\"_blank\">https://wandb.ai/devcore/Metriken%20Bauwesen%20Sweeps</a><br/>\n                Sweep page: <a href=\"https://wandb.ai/devcore/Metriken%20Bauwesen%20Sweeps/sweeps/461ybom6\" target=\"_blank\">https://wandb.ai/devcore/Metriken%20Bauwesen%20Sweeps/sweeps/461ybom6</a><br/>\nRun page: <a href=\"https://wandb.ai/devcore/Metriken%20Bauwesen%20Sweeps/runs/u1lx3bpq\" target=\"_blank\">https://wandb.ai/devcore/Metriken%20Bauwesen%20Sweeps/runs/u1lx3bpq</a><br/>\n                Run data is saved locally in <code>C:\\Daten\\Development\\FHNW\\ip5-metriken-bauwesen\\src\\weight_and_bias\\wandb\\run-20210720_161507-u1lx3bpq</code><br/><br/>\n            "
     },
     "metadata": {},
     "output_type": "display_data"
    },
    {
     "name": "stdout",
     "output_type": "stream",
     "text": [
      "Location: C:\\Daten\\Development\\FHNW\\ip5-metriken-bauwesen\\export\\cluster_means.joblib\n",
      "Location: C:\\Daten\\Development\\FHNW\\ip5-metriken-bauwesen\\export\\fitted_pipeline.joblib\n"
     ]
    },
    {
     "data": {
      "text/plain": "<IPython.core.display.HTML object>",
      "text/html": "<br/>Waiting for W&B process to finish, PID 2788<br/>Program ended successfully."
     },
     "metadata": {},
     "output_type": "display_data"
    },
    {
     "data": {
      "text/plain": "VBox(children=(Label(value=' 0.00MB of 0.00MB uploaded (0.00MB deduped)\\r'), FloatProgress(value=1.0, max=1.0)…",
      "application/vnd.jupyter.widget-view+json": {
       "version_major": 2,
       "version_minor": 0,
       "model_id": "1b84ca43ddc9485bb6886ad976f26a7f"
      }
     },
     "metadata": {},
     "output_type": "display_data"
    },
    {
     "data": {
      "text/plain": "<IPython.core.display.HTML object>",
      "text/html": "Find user logs for this run at: <code>C:\\Daten\\Development\\FHNW\\ip5-metriken-bauwesen\\src\\weight_and_bias\\wandb\\run-20210720_161507-u1lx3bpq\\logs\\debug.log</code>"
     },
     "metadata": {},
     "output_type": "display_data"
    },
    {
     "data": {
      "text/plain": "<IPython.core.display.HTML object>",
      "text/html": "Find internal logs for this run at: <code>C:\\Daten\\Development\\FHNW\\ip5-metriken-bauwesen\\src\\weight_and_bias\\wandb\\run-20210720_161507-u1lx3bpq\\logs\\debug-internal.log</code>"
     },
     "metadata": {},
     "output_type": "display_data"
    },
    {
     "data": {
      "text/plain": "<IPython.core.display.HTML object>",
      "text/html": "<h3>Run summary:</h3><br/><style>\n    table.wandb td:nth-child(1) { padding: 0 10px; text-align: right }\n    </style><table class=\"wandb\">\n<tr><td>r2</td><td>0.92581</td></tr><tr><td>_runtime</td><td>17</td></tr><tr><td>_timestamp</td><td>1626790524</td></tr><tr><td>_step</td><td>1</td></tr><tr><td>neg_mape</td><td>-0.16899</td></tr></table>"
     },
     "metadata": {},
     "output_type": "display_data"
    },
    {
     "data": {
      "text/plain": "<IPython.core.display.HTML object>",
      "text/html": "<h3>Run history:</h3><br/><style>\n    table.wandb td:nth-child(1) { padding: 0 10px; text-align: right }\n    </style><table class=\"wandb\">\n<tr><td>r2</td><td>▁</td></tr><tr><td>_runtime</td><td>▁▁</td></tr><tr><td>_timestamp</td><td>▁▁</td></tr><tr><td>_step</td><td>▁█</td></tr><tr><td>neg_mape</td><td>▁</td></tr></table><br/>"
     },
     "metadata": {},
     "output_type": "display_data"
    },
    {
     "data": {
      "text/plain": "<IPython.core.display.HTML object>",
      "text/html": "Synced 5 W&B file(s), 0 media file(s), 0 artifact file(s) and 0 other file(s)"
     },
     "metadata": {},
     "output_type": "display_data"
    },
    {
     "data": {
      "text/plain": "<IPython.core.display.HTML object>",
      "text/html": "\n                    <br/>Synced <strong style=\"color:#cdcd00\">devout-sweep-16</strong>: <a href=\"https://wandb.ai/devcore/Metriken%20Bauwesen%20Sweeps/runs/u1lx3bpq\" target=\"_blank\">https://wandb.ai/devcore/Metriken%20Bauwesen%20Sweeps/runs/u1lx3bpq</a><br/>\n                "
     },
     "metadata": {},
     "output_type": "display_data"
    },
    {
     "name": "stderr",
     "output_type": "stream",
     "text": [
      "\u001B[34m\u001B[1mwandb\u001B[0m: Agent Starting Run: sa5jzi0u with config:\n",
      "\u001B[34m\u001B[1mwandb\u001B[0m: \tlearning_rate: 0.03467069035414294\n",
      "\u001B[34m\u001B[1mwandb\u001B[0m: \tmax_depth: 10\n",
      "\u001B[34m\u001B[1mwandb\u001B[0m: \tmin_samples_split: 6\n",
      "\u001B[34m\u001B[1mwandb\u001B[0m: \tn_estimators: 1024\n",
      "\u001B[34m\u001B[1mwandb\u001B[0m: \tsubsample: 0.5510038646634418\n"
     ]
    },
    {
     "data": {
      "text/plain": "<IPython.core.display.HTML object>",
      "text/html": "\n                Tracking run with wandb version 0.11.0<br/>\n                Syncing run <strong style=\"color:#cdcd00\">fiery-sweep-17</strong> to <a href=\"https://wandb.ai\" target=\"_blank\">Weights & Biases</a> <a href=\"https://docs.wandb.com/integrations/jupyter.html\" target=\"_blank\">(Documentation)</a>.<br/>\n                Project page: <a href=\"https://wandb.ai/devcore/Metriken%20Bauwesen%20Sweeps\" target=\"_blank\">https://wandb.ai/devcore/Metriken%20Bauwesen%20Sweeps</a><br/>\n                Sweep page: <a href=\"https://wandb.ai/devcore/Metriken%20Bauwesen%20Sweeps/sweeps/461ybom6\" target=\"_blank\">https://wandb.ai/devcore/Metriken%20Bauwesen%20Sweeps/sweeps/461ybom6</a><br/>\nRun page: <a href=\"https://wandb.ai/devcore/Metriken%20Bauwesen%20Sweeps/runs/sa5jzi0u\" target=\"_blank\">https://wandb.ai/devcore/Metriken%20Bauwesen%20Sweeps/runs/sa5jzi0u</a><br/>\n                Run data is saved locally in <code>C:\\Daten\\Development\\FHNW\\ip5-metriken-bauwesen\\src\\weight_and_bias\\wandb\\run-20210720_161528-sa5jzi0u</code><br/><br/>\n            "
     },
     "metadata": {},
     "output_type": "display_data"
    },
    {
     "name": "stdout",
     "output_type": "stream",
     "text": [
      "Location: C:\\Daten\\Development\\FHNW\\ip5-metriken-bauwesen\\export\\cluster_means.joblib\n",
      "Location: C:\\Daten\\Development\\FHNW\\ip5-metriken-bauwesen\\export\\fitted_pipeline.joblib\n"
     ]
    },
    {
     "data": {
      "text/plain": "<IPython.core.display.HTML object>",
      "text/html": "<br/>Waiting for W&B process to finish, PID 14552<br/>Program ended successfully."
     },
     "metadata": {},
     "output_type": "display_data"
    },
    {
     "data": {
      "text/plain": "VBox(children=(Label(value=' 0.00MB of 0.00MB uploaded (0.00MB deduped)\\r'), FloatProgress(value=1.0, max=1.0)…",
      "application/vnd.jupyter.widget-view+json": {
       "version_major": 2,
       "version_minor": 0,
       "model_id": "c0386aefa4124d88ac9f39b74e15819a"
      }
     },
     "metadata": {},
     "output_type": "display_data"
    },
    {
     "data": {
      "text/plain": "<IPython.core.display.HTML object>",
      "text/html": "Find user logs for this run at: <code>C:\\Daten\\Development\\FHNW\\ip5-metriken-bauwesen\\src\\weight_and_bias\\wandb\\run-20210720_161528-sa5jzi0u\\logs\\debug.log</code>"
     },
     "metadata": {},
     "output_type": "display_data"
    },
    {
     "data": {
      "text/plain": "<IPython.core.display.HTML object>",
      "text/html": "Find internal logs for this run at: <code>C:\\Daten\\Development\\FHNW\\ip5-metriken-bauwesen\\src\\weight_and_bias\\wandb\\run-20210720_161528-sa5jzi0u\\logs\\debug-internal.log</code>"
     },
     "metadata": {},
     "output_type": "display_data"
    },
    {
     "data": {
      "text/plain": "<IPython.core.display.HTML object>",
      "text/html": "<h3>Run summary:</h3><br/><style>\n    table.wandb td:nth-child(1) { padding: 0 10px; text-align: right }\n    </style><table class=\"wandb\">\n<tr><td>r2</td><td>0.93217</td></tr><tr><td>_runtime</td><td>15</td></tr><tr><td>_timestamp</td><td>1626790543</td></tr><tr><td>_step</td><td>1</td></tr><tr><td>neg_mape</td><td>-0.16474</td></tr></table>"
     },
     "metadata": {},
     "output_type": "display_data"
    },
    {
     "data": {
      "text/plain": "<IPython.core.display.HTML object>",
      "text/html": "<h3>Run history:</h3><br/><style>\n    table.wandb td:nth-child(1) { padding: 0 10px; text-align: right }\n    </style><table class=\"wandb\">\n<tr><td>r2</td><td>▁</td></tr><tr><td>_runtime</td><td>▁▁</td></tr><tr><td>_timestamp</td><td>▁▁</td></tr><tr><td>_step</td><td>▁█</td></tr><tr><td>neg_mape</td><td>▁</td></tr></table><br/>"
     },
     "metadata": {},
     "output_type": "display_data"
    },
    {
     "data": {
      "text/plain": "<IPython.core.display.HTML object>",
      "text/html": "Synced 5 W&B file(s), 0 media file(s), 0 artifact file(s) and 0 other file(s)"
     },
     "metadata": {},
     "output_type": "display_data"
    },
    {
     "data": {
      "text/plain": "<IPython.core.display.HTML object>",
      "text/html": "\n                    <br/>Synced <strong style=\"color:#cdcd00\">fiery-sweep-17</strong>: <a href=\"https://wandb.ai/devcore/Metriken%20Bauwesen%20Sweeps/runs/sa5jzi0u\" target=\"_blank\">https://wandb.ai/devcore/Metriken%20Bauwesen%20Sweeps/runs/sa5jzi0u</a><br/>\n                "
     },
     "metadata": {},
     "output_type": "display_data"
    },
    {
     "name": "stderr",
     "output_type": "stream",
     "text": [
      "\u001B[34m\u001B[1mwandb\u001B[0m: Agent Starting Run: vbhwj4ex with config:\n",
      "\u001B[34m\u001B[1mwandb\u001B[0m: \tlearning_rate: 0.039697710678560226\n",
      "\u001B[34m\u001B[1mwandb\u001B[0m: \tmax_depth: 10\n",
      "\u001B[34m\u001B[1mwandb\u001B[0m: \tmin_samples_split: 10\n",
      "\u001B[34m\u001B[1mwandb\u001B[0m: \tn_estimators: 1024\n",
      "\u001B[34m\u001B[1mwandb\u001B[0m: \tsubsample: 0.6701668396456544\n"
     ]
    },
    {
     "data": {
      "text/plain": "<IPython.core.display.HTML object>",
      "text/html": "\n                Tracking run with wandb version 0.11.0<br/>\n                Syncing run <strong style=\"color:#cdcd00\">splendid-sweep-18</strong> to <a href=\"https://wandb.ai\" target=\"_blank\">Weights & Biases</a> <a href=\"https://docs.wandb.com/integrations/jupyter.html\" target=\"_blank\">(Documentation)</a>.<br/>\n                Project page: <a href=\"https://wandb.ai/devcore/Metriken%20Bauwesen%20Sweeps\" target=\"_blank\">https://wandb.ai/devcore/Metriken%20Bauwesen%20Sweeps</a><br/>\n                Sweep page: <a href=\"https://wandb.ai/devcore/Metriken%20Bauwesen%20Sweeps/sweeps/461ybom6\" target=\"_blank\">https://wandb.ai/devcore/Metriken%20Bauwesen%20Sweeps/sweeps/461ybom6</a><br/>\nRun page: <a href=\"https://wandb.ai/devcore/Metriken%20Bauwesen%20Sweeps/runs/vbhwj4ex\" target=\"_blank\">https://wandb.ai/devcore/Metriken%20Bauwesen%20Sweeps/runs/vbhwj4ex</a><br/>\n                Run data is saved locally in <code>C:\\Daten\\Development\\FHNW\\ip5-metriken-bauwesen\\src\\weight_and_bias\\wandb\\run-20210720_161547-vbhwj4ex</code><br/><br/>\n            "
     },
     "metadata": {},
     "output_type": "display_data"
    },
    {
     "name": "stdout",
     "output_type": "stream",
     "text": [
      "Location: C:\\Daten\\Development\\FHNW\\ip5-metriken-bauwesen\\export\\cluster_means.joblib\n",
      "Location: C:\\Daten\\Development\\FHNW\\ip5-metriken-bauwesen\\export\\fitted_pipeline.joblib\n"
     ]
    },
    {
     "data": {
      "text/plain": "<IPython.core.display.HTML object>",
      "text/html": "<br/>Waiting for W&B process to finish, PID 5116<br/>Program ended successfully."
     },
     "metadata": {},
     "output_type": "display_data"
    },
    {
     "data": {
      "text/plain": "VBox(children=(Label(value=' 0.00MB of 0.00MB uploaded (0.00MB deduped)\\r'), FloatProgress(value=1.0, max=1.0)…",
      "application/vnd.jupyter.widget-view+json": {
       "version_major": 2,
       "version_minor": 0,
       "model_id": "3f43db3d419947a2999818bbc134df2e"
      }
     },
     "metadata": {},
     "output_type": "display_data"
    },
    {
     "data": {
      "text/plain": "<IPython.core.display.HTML object>",
      "text/html": "Find user logs for this run at: <code>C:\\Daten\\Development\\FHNW\\ip5-metriken-bauwesen\\src\\weight_and_bias\\wandb\\run-20210720_161547-vbhwj4ex\\logs\\debug.log</code>"
     },
     "metadata": {},
     "output_type": "display_data"
    },
    {
     "data": {
      "text/plain": "<IPython.core.display.HTML object>",
      "text/html": "Find internal logs for this run at: <code>C:\\Daten\\Development\\FHNW\\ip5-metriken-bauwesen\\src\\weight_and_bias\\wandb\\run-20210720_161547-vbhwj4ex\\logs\\debug-internal.log</code>"
     },
     "metadata": {},
     "output_type": "display_data"
    },
    {
     "data": {
      "text/plain": "<IPython.core.display.HTML object>",
      "text/html": "<h3>Run summary:</h3><br/><style>\n    table.wandb td:nth-child(1) { padding: 0 10px; text-align: right }\n    </style><table class=\"wandb\">\n<tr><td>r2</td><td>0.93129</td></tr><tr><td>_runtime</td><td>15</td></tr><tr><td>_timestamp</td><td>1626790562</td></tr><tr><td>_step</td><td>1</td></tr><tr><td>neg_mape</td><td>-0.16824</td></tr></table>"
     },
     "metadata": {},
     "output_type": "display_data"
    },
    {
     "data": {
      "text/plain": "<IPython.core.display.HTML object>",
      "text/html": "<h3>Run history:</h3><br/><style>\n    table.wandb td:nth-child(1) { padding: 0 10px; text-align: right }\n    </style><table class=\"wandb\">\n<tr><td>r2</td><td>▁</td></tr><tr><td>_runtime</td><td>▁▁</td></tr><tr><td>_timestamp</td><td>▁▁</td></tr><tr><td>_step</td><td>▁█</td></tr><tr><td>neg_mape</td><td>▁</td></tr></table><br/>"
     },
     "metadata": {},
     "output_type": "display_data"
    },
    {
     "data": {
      "text/plain": "<IPython.core.display.HTML object>",
      "text/html": "Synced 5 W&B file(s), 0 media file(s), 0 artifact file(s) and 0 other file(s)"
     },
     "metadata": {},
     "output_type": "display_data"
    },
    {
     "data": {
      "text/plain": "<IPython.core.display.HTML object>",
      "text/html": "\n                    <br/>Synced <strong style=\"color:#cdcd00\">splendid-sweep-18</strong>: <a href=\"https://wandb.ai/devcore/Metriken%20Bauwesen%20Sweeps/runs/vbhwj4ex\" target=\"_blank\">https://wandb.ai/devcore/Metriken%20Bauwesen%20Sweeps/runs/vbhwj4ex</a><br/>\n                "
     },
     "metadata": {},
     "output_type": "display_data"
    },
    {
     "name": "stderr",
     "output_type": "stream",
     "text": [
      "\u001B[34m\u001B[1mwandb\u001B[0m: Agent Starting Run: y197ahde with config:\n",
      "\u001B[34m\u001B[1mwandb\u001B[0m: \tlearning_rate: 0.14785195168850396\n",
      "\u001B[34m\u001B[1mwandb\u001B[0m: \tmax_depth: 11\n",
      "\u001B[34m\u001B[1mwandb\u001B[0m: \tmin_samples_split: 15\n",
      "\u001B[34m\u001B[1mwandb\u001B[0m: \tn_estimators: 1024\n",
      "\u001B[34m\u001B[1mwandb\u001B[0m: \tsubsample: 0.6175678009058058\n"
     ]
    },
    {
     "data": {
      "text/plain": "<IPython.core.display.HTML object>",
      "text/html": "\n                Tracking run with wandb version 0.11.0<br/>\n                Syncing run <strong style=\"color:#cdcd00\">vivid-sweep-19</strong> to <a href=\"https://wandb.ai\" target=\"_blank\">Weights & Biases</a> <a href=\"https://docs.wandb.com/integrations/jupyter.html\" target=\"_blank\">(Documentation)</a>.<br/>\n                Project page: <a href=\"https://wandb.ai/devcore/Metriken%20Bauwesen%20Sweeps\" target=\"_blank\">https://wandb.ai/devcore/Metriken%20Bauwesen%20Sweeps</a><br/>\n                Sweep page: <a href=\"https://wandb.ai/devcore/Metriken%20Bauwesen%20Sweeps/sweeps/461ybom6\" target=\"_blank\">https://wandb.ai/devcore/Metriken%20Bauwesen%20Sweeps/sweeps/461ybom6</a><br/>\nRun page: <a href=\"https://wandb.ai/devcore/Metriken%20Bauwesen%20Sweeps/runs/y197ahde\" target=\"_blank\">https://wandb.ai/devcore/Metriken%20Bauwesen%20Sweeps/runs/y197ahde</a><br/>\n                Run data is saved locally in <code>C:\\Daten\\Development\\FHNW\\ip5-metriken-bauwesen\\src\\weight_and_bias\\wandb\\run-20210720_161606-y197ahde</code><br/><br/>\n            "
     },
     "metadata": {},
     "output_type": "display_data"
    },
    {
     "name": "stdout",
     "output_type": "stream",
     "text": [
      "Location: C:\\Daten\\Development\\FHNW\\ip5-metriken-bauwesen\\export\\cluster_means.joblib\n",
      "Location: C:\\Daten\\Development\\FHNW\\ip5-metriken-bauwesen\\export\\fitted_pipeline.joblib\n"
     ]
    },
    {
     "data": {
      "text/plain": "<IPython.core.display.HTML object>",
      "text/html": "<br/>Waiting for W&B process to finish, PID 3496<br/>Program ended successfully."
     },
     "metadata": {},
     "output_type": "display_data"
    },
    {
     "data": {
      "text/plain": "VBox(children=(Label(value=' 0.00MB of 0.00MB uploaded (0.00MB deduped)\\r'), FloatProgress(value=1.0, max=1.0)…",
      "application/vnd.jupyter.widget-view+json": {
       "version_major": 2,
       "version_minor": 0,
       "model_id": "00a6097ec5a447cba14927d772b08cbc"
      }
     },
     "metadata": {},
     "output_type": "display_data"
    },
    {
     "data": {
      "text/plain": "<IPython.core.display.HTML object>",
      "text/html": "Find user logs for this run at: <code>C:\\Daten\\Development\\FHNW\\ip5-metriken-bauwesen\\src\\weight_and_bias\\wandb\\run-20210720_161606-y197ahde\\logs\\debug.log</code>"
     },
     "metadata": {},
     "output_type": "display_data"
    },
    {
     "data": {
      "text/plain": "<IPython.core.display.HTML object>",
      "text/html": "Find internal logs for this run at: <code>C:\\Daten\\Development\\FHNW\\ip5-metriken-bauwesen\\src\\weight_and_bias\\wandb\\run-20210720_161606-y197ahde\\logs\\debug-internal.log</code>"
     },
     "metadata": {},
     "output_type": "display_data"
    },
    {
     "data": {
      "text/plain": "<IPython.core.display.HTML object>",
      "text/html": "<h3>Run summary:</h3><br/><style>\n    table.wandb td:nth-child(1) { padding: 0 10px; text-align: right }\n    </style><table class=\"wandb\">\n<tr><td>r2</td><td>0.93933</td></tr><tr><td>_runtime</td><td>14</td></tr><tr><td>_timestamp</td><td>1626790580</td></tr><tr><td>_step</td><td>1</td></tr><tr><td>neg_mape</td><td>-0.17897</td></tr></table>"
     },
     "metadata": {},
     "output_type": "display_data"
    },
    {
     "data": {
      "text/plain": "<IPython.core.display.HTML object>",
      "text/html": "<h3>Run history:</h3><br/><style>\n    table.wandb td:nth-child(1) { padding: 0 10px; text-align: right }\n    </style><table class=\"wandb\">\n<tr><td>r2</td><td>▁</td></tr><tr><td>_runtime</td><td>▁▁</td></tr><tr><td>_timestamp</td><td>▁▁</td></tr><tr><td>_step</td><td>▁█</td></tr><tr><td>neg_mape</td><td>▁</td></tr></table><br/>"
     },
     "metadata": {},
     "output_type": "display_data"
    },
    {
     "data": {
      "text/plain": "<IPython.core.display.HTML object>",
      "text/html": "Synced 5 W&B file(s), 0 media file(s), 0 artifact file(s) and 0 other file(s)"
     },
     "metadata": {},
     "output_type": "display_data"
    },
    {
     "data": {
      "text/plain": "<IPython.core.display.HTML object>",
      "text/html": "\n                    <br/>Synced <strong style=\"color:#cdcd00\">vivid-sweep-19</strong>: <a href=\"https://wandb.ai/devcore/Metriken%20Bauwesen%20Sweeps/runs/y197ahde\" target=\"_blank\">https://wandb.ai/devcore/Metriken%20Bauwesen%20Sweeps/runs/y197ahde</a><br/>\n                "
     },
     "metadata": {},
     "output_type": "display_data"
    },
    {
     "name": "stderr",
     "output_type": "stream",
     "text": [
      "\u001B[34m\u001B[1mwandb\u001B[0m: Agent Starting Run: gtq5o9ox with config:\n",
      "\u001B[34m\u001B[1mwandb\u001B[0m: \tlearning_rate: 0.042740550304092614\n",
      "\u001B[34m\u001B[1mwandb\u001B[0m: \tmax_depth: 10\n",
      "\u001B[34m\u001B[1mwandb\u001B[0m: \tmin_samples_split: 8\n",
      "\u001B[34m\u001B[1mwandb\u001B[0m: \tn_estimators: 1024\n",
      "\u001B[34m\u001B[1mwandb\u001B[0m: \tsubsample: 0.8169638169498848\n"
     ]
    },
    {
     "data": {
      "text/plain": "<IPython.core.display.HTML object>",
      "text/html": "\n                Tracking run with wandb version 0.11.0<br/>\n                Syncing run <strong style=\"color:#cdcd00\">proud-sweep-20</strong> to <a href=\"https://wandb.ai\" target=\"_blank\">Weights & Biases</a> <a href=\"https://docs.wandb.com/integrations/jupyter.html\" target=\"_blank\">(Documentation)</a>.<br/>\n                Project page: <a href=\"https://wandb.ai/devcore/Metriken%20Bauwesen%20Sweeps\" target=\"_blank\">https://wandb.ai/devcore/Metriken%20Bauwesen%20Sweeps</a><br/>\n                Sweep page: <a href=\"https://wandb.ai/devcore/Metriken%20Bauwesen%20Sweeps/sweeps/461ybom6\" target=\"_blank\">https://wandb.ai/devcore/Metriken%20Bauwesen%20Sweeps/sweeps/461ybom6</a><br/>\nRun page: <a href=\"https://wandb.ai/devcore/Metriken%20Bauwesen%20Sweeps/runs/gtq5o9ox\" target=\"_blank\">https://wandb.ai/devcore/Metriken%20Bauwesen%20Sweeps/runs/gtq5o9ox</a><br/>\n                Run data is saved locally in <code>C:\\Daten\\Development\\FHNW\\ip5-metriken-bauwesen\\src\\weight_and_bias\\wandb\\run-20210720_161624-gtq5o9ox</code><br/><br/>\n            "
     },
     "metadata": {},
     "output_type": "display_data"
    },
    {
     "name": "stdout",
     "output_type": "stream",
     "text": [
      "Location: C:\\Daten\\Development\\FHNW\\ip5-metriken-bauwesen\\export\\cluster_means.joblib\n",
      "Location: C:\\Daten\\Development\\FHNW\\ip5-metriken-bauwesen\\export\\fitted_pipeline.joblib\n"
     ]
    },
    {
     "data": {
      "text/plain": "<IPython.core.display.HTML object>",
      "text/html": "<br/>Waiting for W&B process to finish, PID 8044<br/>Program ended successfully."
     },
     "metadata": {},
     "output_type": "display_data"
    },
    {
     "data": {
      "text/plain": "VBox(children=(Label(value=' 0.00MB of 0.00MB uploaded (0.00MB deduped)\\r'), FloatProgress(value=1.0, max=1.0)…",
      "application/vnd.jupyter.widget-view+json": {
       "version_major": 2,
       "version_minor": 0,
       "model_id": "ffac8443dbbc48f982abed873f639a64"
      }
     },
     "metadata": {},
     "output_type": "display_data"
    },
    {
     "data": {
      "text/plain": "<IPython.core.display.HTML object>",
      "text/html": "Find user logs for this run at: <code>C:\\Daten\\Development\\FHNW\\ip5-metriken-bauwesen\\src\\weight_and_bias\\wandb\\run-20210720_161624-gtq5o9ox\\logs\\debug.log</code>"
     },
     "metadata": {},
     "output_type": "display_data"
    },
    {
     "data": {
      "text/plain": "<IPython.core.display.HTML object>",
      "text/html": "Find internal logs for this run at: <code>C:\\Daten\\Development\\FHNW\\ip5-metriken-bauwesen\\src\\weight_and_bias\\wandb\\run-20210720_161624-gtq5o9ox\\logs\\debug-internal.log</code>"
     },
     "metadata": {},
     "output_type": "display_data"
    },
    {
     "data": {
      "text/plain": "<IPython.core.display.HTML object>",
      "text/html": "<h3>Run summary:</h3><br/><style>\n    table.wandb td:nth-child(1) { padding: 0 10px; text-align: right }\n    </style><table class=\"wandb\">\n<tr><td>r2</td><td>0.9289</td></tr><tr><td>_runtime</td><td>17</td></tr><tr><td>_timestamp</td><td>1626790602</td></tr><tr><td>_step</td><td>1</td></tr><tr><td>neg_mape</td><td>-0.16797</td></tr></table>"
     },
     "metadata": {},
     "output_type": "display_data"
    },
    {
     "data": {
      "text/plain": "<IPython.core.display.HTML object>",
      "text/html": "<h3>Run history:</h3><br/><style>\n    table.wandb td:nth-child(1) { padding: 0 10px; text-align: right }\n    </style><table class=\"wandb\">\n<tr><td>r2</td><td>▁</td></tr><tr><td>_runtime</td><td>▁▁</td></tr><tr><td>_timestamp</td><td>▁▁</td></tr><tr><td>_step</td><td>▁█</td></tr><tr><td>neg_mape</td><td>▁</td></tr></table><br/>"
     },
     "metadata": {},
     "output_type": "display_data"
    },
    {
     "data": {
      "text/plain": "<IPython.core.display.HTML object>",
      "text/html": "Synced 5 W&B file(s), 0 media file(s), 0 artifact file(s) and 0 other file(s)"
     },
     "metadata": {},
     "output_type": "display_data"
    },
    {
     "data": {
      "text/plain": "<IPython.core.display.HTML object>",
      "text/html": "\n                    <br/>Synced <strong style=\"color:#cdcd00\">proud-sweep-20</strong>: <a href=\"https://wandb.ai/devcore/Metriken%20Bauwesen%20Sweeps/runs/gtq5o9ox\" target=\"_blank\">https://wandb.ai/devcore/Metriken%20Bauwesen%20Sweeps/runs/gtq5o9ox</a><br/>\n                "
     },
     "metadata": {},
     "output_type": "display_data"
    },
    {
     "name": "stderr",
     "output_type": "stream",
     "text": [
      "\u001B[34m\u001B[1mwandb\u001B[0m: Agent Starting Run: vz3vh1bg with config:\n",
      "\u001B[34m\u001B[1mwandb\u001B[0m: \tlearning_rate: 0.10242599329972134\n",
      "\u001B[34m\u001B[1mwandb\u001B[0m: \tmax_depth: 18\n",
      "\u001B[34m\u001B[1mwandb\u001B[0m: \tmin_samples_split: 5\n",
      "\u001B[34m\u001B[1mwandb\u001B[0m: \tn_estimators: 1536\n",
      "\u001B[34m\u001B[1mwandb\u001B[0m: \tsubsample: 0.6817609672944971\n"
     ]
    },
    {
     "data": {
      "text/plain": "<IPython.core.display.HTML object>",
      "text/html": "\n                Tracking run with wandb version 0.11.0<br/>\n                Syncing run <strong style=\"color:#cdcd00\">vocal-sweep-21</strong> to <a href=\"https://wandb.ai\" target=\"_blank\">Weights & Biases</a> <a href=\"https://docs.wandb.com/integrations/jupyter.html\" target=\"_blank\">(Documentation)</a>.<br/>\n                Project page: <a href=\"https://wandb.ai/devcore/Metriken%20Bauwesen%20Sweeps\" target=\"_blank\">https://wandb.ai/devcore/Metriken%20Bauwesen%20Sweeps</a><br/>\n                Sweep page: <a href=\"https://wandb.ai/devcore/Metriken%20Bauwesen%20Sweeps/sweeps/461ybom6\" target=\"_blank\">https://wandb.ai/devcore/Metriken%20Bauwesen%20Sweeps/sweeps/461ybom6</a><br/>\nRun page: <a href=\"https://wandb.ai/devcore/Metriken%20Bauwesen%20Sweeps/runs/vz3vh1bg\" target=\"_blank\">https://wandb.ai/devcore/Metriken%20Bauwesen%20Sweeps/runs/vz3vh1bg</a><br/>\n                Run data is saved locally in <code>C:\\Daten\\Development\\FHNW\\ip5-metriken-bauwesen\\src\\weight_and_bias\\wandb\\run-20210720_161647-vz3vh1bg</code><br/><br/>\n            "
     },
     "metadata": {},
     "output_type": "display_data"
    },
    {
     "name": "stdout",
     "output_type": "stream",
     "text": [
      "Location: C:\\Daten\\Development\\FHNW\\ip5-metriken-bauwesen\\export\\cluster_means.joblib\n",
      "Location: C:\\Daten\\Development\\FHNW\\ip5-metriken-bauwesen\\export\\fitted_pipeline.joblib\n"
     ]
    },
    {
     "data": {
      "text/plain": "<IPython.core.display.HTML object>",
      "text/html": "<br/>Waiting for W&B process to finish, PID 11572<br/>Program ended successfully."
     },
     "metadata": {},
     "output_type": "display_data"
    },
    {
     "data": {
      "text/plain": "VBox(children=(Label(value=' 0.00MB of 0.00MB uploaded (0.00MB deduped)\\r'), FloatProgress(value=1.0, max=1.0)…",
      "application/vnd.jupyter.widget-view+json": {
       "version_major": 2,
       "version_minor": 0,
       "model_id": "7b5018c2471446ceb57b65ad72bead98"
      }
     },
     "metadata": {},
     "output_type": "display_data"
    },
    {
     "data": {
      "text/plain": "<IPython.core.display.HTML object>",
      "text/html": "Find user logs for this run at: <code>C:\\Daten\\Development\\FHNW\\ip5-metriken-bauwesen\\src\\weight_and_bias\\wandb\\run-20210720_161647-vz3vh1bg\\logs\\debug.log</code>"
     },
     "metadata": {},
     "output_type": "display_data"
    },
    {
     "data": {
      "text/plain": "<IPython.core.display.HTML object>",
      "text/html": "Find internal logs for this run at: <code>C:\\Daten\\Development\\FHNW\\ip5-metriken-bauwesen\\src\\weight_and_bias\\wandb\\run-20210720_161647-vz3vh1bg\\logs\\debug-internal.log</code>"
     },
     "metadata": {},
     "output_type": "display_data"
    },
    {
     "data": {
      "text/plain": "<IPython.core.display.HTML object>",
      "text/html": "<h3>Run summary:</h3><br/><style>\n    table.wandb td:nth-child(1) { padding: 0 10px; text-align: right }\n    </style><table class=\"wandb\">\n<tr><td>r2</td><td>0.91572</td></tr><tr><td>_runtime</td><td>34</td></tr><tr><td>_timestamp</td><td>1626790641</td></tr><tr><td>_step</td><td>1</td></tr><tr><td>neg_mape</td><td>-0.16765</td></tr></table>"
     },
     "metadata": {},
     "output_type": "display_data"
    },
    {
     "data": {
      "text/plain": "<IPython.core.display.HTML object>",
      "text/html": "<h3>Run history:</h3><br/><style>\n    table.wandb td:nth-child(1) { padding: 0 10px; text-align: right }\n    </style><table class=\"wandb\">\n<tr><td>r2</td><td>▁</td></tr><tr><td>_runtime</td><td>▁▁</td></tr><tr><td>_timestamp</td><td>▁▁</td></tr><tr><td>_step</td><td>▁█</td></tr><tr><td>neg_mape</td><td>▁</td></tr></table><br/>"
     },
     "metadata": {},
     "output_type": "display_data"
    },
    {
     "data": {
      "text/plain": "<IPython.core.display.HTML object>",
      "text/html": "Synced 5 W&B file(s), 0 media file(s), 0 artifact file(s) and 0 other file(s)"
     },
     "metadata": {},
     "output_type": "display_data"
    },
    {
     "data": {
      "text/plain": "<IPython.core.display.HTML object>",
      "text/html": "\n                    <br/>Synced <strong style=\"color:#cdcd00\">vocal-sweep-21</strong>: <a href=\"https://wandb.ai/devcore/Metriken%20Bauwesen%20Sweeps/runs/vz3vh1bg\" target=\"_blank\">https://wandb.ai/devcore/Metriken%20Bauwesen%20Sweeps/runs/vz3vh1bg</a><br/>\n                "
     },
     "metadata": {},
     "output_type": "display_data"
    },
    {
     "name": "stderr",
     "output_type": "stream",
     "text": [
      "\u001B[34m\u001B[1mwandb\u001B[0m: Agent Starting Run: tb7oslyq with config:\n",
      "\u001B[34m\u001B[1mwandb\u001B[0m: \tlearning_rate: 0.12282292043225747\n",
      "\u001B[34m\u001B[1mwandb\u001B[0m: \tmax_depth: 10\n",
      "\u001B[34m\u001B[1mwandb\u001B[0m: \tmin_samples_split: 6\n",
      "\u001B[34m\u001B[1mwandb\u001B[0m: \tn_estimators: 1024\n",
      "\u001B[34m\u001B[1mwandb\u001B[0m: \tsubsample: 0.8356762867858274\n"
     ]
    },
    {
     "data": {
      "text/plain": "<IPython.core.display.HTML object>",
      "text/html": "\n                Tracking run with wandb version 0.11.0<br/>\n                Syncing run <strong style=\"color:#cdcd00\">splendid-sweep-22</strong> to <a href=\"https://wandb.ai\" target=\"_blank\">Weights & Biases</a> <a href=\"https://docs.wandb.com/integrations/jupyter.html\" target=\"_blank\">(Documentation)</a>.<br/>\n                Project page: <a href=\"https://wandb.ai/devcore/Metriken%20Bauwesen%20Sweeps\" target=\"_blank\">https://wandb.ai/devcore/Metriken%20Bauwesen%20Sweeps</a><br/>\n                Sweep page: <a href=\"https://wandb.ai/devcore/Metriken%20Bauwesen%20Sweeps/sweeps/461ybom6\" target=\"_blank\">https://wandb.ai/devcore/Metriken%20Bauwesen%20Sweeps/sweeps/461ybom6</a><br/>\nRun page: <a href=\"https://wandb.ai/devcore/Metriken%20Bauwesen%20Sweeps/runs/tb7oslyq\" target=\"_blank\">https://wandb.ai/devcore/Metriken%20Bauwesen%20Sweeps/runs/tb7oslyq</a><br/>\n                Run data is saved locally in <code>C:\\Daten\\Development\\FHNW\\ip5-metriken-bauwesen\\src\\weight_and_bias\\wandb\\run-20210720_161726-tb7oslyq</code><br/><br/>\n            "
     },
     "metadata": {},
     "output_type": "display_data"
    },
    {
     "name": "stdout",
     "output_type": "stream",
     "text": [
      "Location: C:\\Daten\\Development\\FHNW\\ip5-metriken-bauwesen\\export\\cluster_means.joblib\n",
      "Location: C:\\Daten\\Development\\FHNW\\ip5-metriken-bauwesen\\export\\fitted_pipeline.joblib\n"
     ]
    },
    {
     "data": {
      "text/plain": "<IPython.core.display.HTML object>",
      "text/html": "<br/>Waiting for W&B process to finish, PID 13048<br/>Program ended successfully."
     },
     "metadata": {},
     "output_type": "display_data"
    },
    {
     "data": {
      "text/plain": "VBox(children=(Label(value=' 0.00MB of 0.00MB uploaded (0.00MB deduped)\\r'), FloatProgress(value=1.0, max=1.0)…",
      "application/vnd.jupyter.widget-view+json": {
       "version_major": 2,
       "version_minor": 0,
       "model_id": "35405c19b7f34d1ba5cd1911c341cfd5"
      }
     },
     "metadata": {},
     "output_type": "display_data"
    },
    {
     "data": {
      "text/plain": "<IPython.core.display.HTML object>",
      "text/html": "Find user logs for this run at: <code>C:\\Daten\\Development\\FHNW\\ip5-metriken-bauwesen\\src\\weight_and_bias\\wandb\\run-20210720_161726-tb7oslyq\\logs\\debug.log</code>"
     },
     "metadata": {},
     "output_type": "display_data"
    },
    {
     "data": {
      "text/plain": "<IPython.core.display.HTML object>",
      "text/html": "Find internal logs for this run at: <code>C:\\Daten\\Development\\FHNW\\ip5-metriken-bauwesen\\src\\weight_and_bias\\wandb\\run-20210720_161726-tb7oslyq\\logs\\debug-internal.log</code>"
     },
     "metadata": {},
     "output_type": "display_data"
    },
    {
     "data": {
      "text/plain": "<IPython.core.display.HTML object>",
      "text/html": "<h3>Run summary:</h3><br/><style>\n    table.wandb td:nth-child(1) { padding: 0 10px; text-align: right }\n    </style><table class=\"wandb\">\n<tr><td>r2</td><td>0.91454</td></tr><tr><td>_runtime</td><td>26</td></tr><tr><td>_timestamp</td><td>1626790672</td></tr><tr><td>_step</td><td>1</td></tr><tr><td>neg_mape</td><td>-0.17309</td></tr></table>"
     },
     "metadata": {},
     "output_type": "display_data"
    },
    {
     "data": {
      "text/plain": "<IPython.core.display.HTML object>",
      "text/html": "<h3>Run history:</h3><br/><style>\n    table.wandb td:nth-child(1) { padding: 0 10px; text-align: right }\n    </style><table class=\"wandb\">\n<tr><td>r2</td><td>▁</td></tr><tr><td>_runtime</td><td>▁▁</td></tr><tr><td>_timestamp</td><td>▁▁</td></tr><tr><td>_step</td><td>▁█</td></tr><tr><td>neg_mape</td><td>▁</td></tr></table><br/>"
     },
     "metadata": {},
     "output_type": "display_data"
    },
    {
     "data": {
      "text/plain": "<IPython.core.display.HTML object>",
      "text/html": "Synced 5 W&B file(s), 0 media file(s), 0 artifact file(s) and 0 other file(s)"
     },
     "metadata": {},
     "output_type": "display_data"
    },
    {
     "data": {
      "text/plain": "<IPython.core.display.HTML object>",
      "text/html": "\n                    <br/>Synced <strong style=\"color:#cdcd00\">splendid-sweep-22</strong>: <a href=\"https://wandb.ai/devcore/Metriken%20Bauwesen%20Sweeps/runs/tb7oslyq\" target=\"_blank\">https://wandb.ai/devcore/Metriken%20Bauwesen%20Sweeps/runs/tb7oslyq</a><br/>\n                "
     },
     "metadata": {},
     "output_type": "display_data"
    },
    {
     "name": "stderr",
     "output_type": "stream",
     "text": [
      "\u001B[34m\u001B[1mwandb\u001B[0m: Agent Starting Run: di6fmv5z with config:\n",
      "\u001B[34m\u001B[1mwandb\u001B[0m: \tlearning_rate: 0.0734146405798789\n",
      "\u001B[34m\u001B[1mwandb\u001B[0m: \tmax_depth: 18\n",
      "\u001B[34m\u001B[1mwandb\u001B[0m: \tmin_samples_split: 5\n",
      "\u001B[34m\u001B[1mwandb\u001B[0m: \tn_estimators: 512\n",
      "\u001B[34m\u001B[1mwandb\u001B[0m: \tsubsample: 0.5571581773336608\n"
     ]
    },
    {
     "data": {
      "text/plain": "<IPython.core.display.HTML object>",
      "text/html": "\n                Tracking run with wandb version 0.11.0<br/>\n                Syncing run <strong style=\"color:#cdcd00\">worthy-sweep-23</strong> to <a href=\"https://wandb.ai\" target=\"_blank\">Weights & Biases</a> <a href=\"https://docs.wandb.com/integrations/jupyter.html\" target=\"_blank\">(Documentation)</a>.<br/>\n                Project page: <a href=\"https://wandb.ai/devcore/Metriken%20Bauwesen%20Sweeps\" target=\"_blank\">https://wandb.ai/devcore/Metriken%20Bauwesen%20Sweeps</a><br/>\n                Sweep page: <a href=\"https://wandb.ai/devcore/Metriken%20Bauwesen%20Sweeps/sweeps/461ybom6\" target=\"_blank\">https://wandb.ai/devcore/Metriken%20Bauwesen%20Sweeps/sweeps/461ybom6</a><br/>\nRun page: <a href=\"https://wandb.ai/devcore/Metriken%20Bauwesen%20Sweeps/runs/di6fmv5z\" target=\"_blank\">https://wandb.ai/devcore/Metriken%20Bauwesen%20Sweeps/runs/di6fmv5z</a><br/>\n                Run data is saved locally in <code>C:\\Daten\\Development\\FHNW\\ip5-metriken-bauwesen\\src\\weight_and_bias\\wandb\\run-20210720_161756-di6fmv5z</code><br/><br/>\n            "
     },
     "metadata": {},
     "output_type": "display_data"
    },
    {
     "name": "stdout",
     "output_type": "stream",
     "text": [
      "Location: C:\\Daten\\Development\\FHNW\\ip5-metriken-bauwesen\\export\\cluster_means.joblib\n",
      "Location: C:\\Daten\\Development\\FHNW\\ip5-metriken-bauwesen\\export\\fitted_pipeline.joblib\n"
     ]
    },
    {
     "data": {
      "text/plain": "<IPython.core.display.HTML object>",
      "text/html": "<br/>Waiting for W&B process to finish, PID 13868<br/>Program ended successfully."
     },
     "metadata": {},
     "output_type": "display_data"
    },
    {
     "data": {
      "text/plain": "VBox(children=(Label(value=' 0.00MB of 0.00MB uploaded (0.00MB deduped)\\r'), FloatProgress(value=1.0, max=1.0)…",
      "application/vnd.jupyter.widget-view+json": {
       "version_major": 2,
       "version_minor": 0,
       "model_id": "98a058a2eb6547e48316e24c61f31450"
      }
     },
     "metadata": {},
     "output_type": "display_data"
    },
    {
     "data": {
      "text/plain": "<IPython.core.display.HTML object>",
      "text/html": "Find user logs for this run at: <code>C:\\Daten\\Development\\FHNW\\ip5-metriken-bauwesen\\src\\weight_and_bias\\wandb\\run-20210720_161756-di6fmv5z\\logs\\debug.log</code>"
     },
     "metadata": {},
     "output_type": "display_data"
    },
    {
     "data": {
      "text/plain": "<IPython.core.display.HTML object>",
      "text/html": "Find internal logs for this run at: <code>C:\\Daten\\Development\\FHNW\\ip5-metriken-bauwesen\\src\\weight_and_bias\\wandb\\run-20210720_161756-di6fmv5z\\logs\\debug-internal.log</code>"
     },
     "metadata": {},
     "output_type": "display_data"
    },
    {
     "data": {
      "text/plain": "<IPython.core.display.HTML object>",
      "text/html": "<h3>Run summary:</h3><br/><style>\n    table.wandb td:nth-child(1) { padding: 0 10px; text-align: right }\n    </style><table class=\"wandb\">\n<tr><td>r2</td><td>0.93923</td></tr><tr><td>_runtime</td><td>13</td></tr><tr><td>_timestamp</td><td>1626790689</td></tr><tr><td>_step</td><td>1</td></tr><tr><td>neg_mape</td><td>-0.16362</td></tr></table>"
     },
     "metadata": {},
     "output_type": "display_data"
    },
    {
     "data": {
      "text/plain": "<IPython.core.display.HTML object>",
      "text/html": "<h3>Run history:</h3><br/><style>\n    table.wandb td:nth-child(1) { padding: 0 10px; text-align: right }\n    </style><table class=\"wandb\">\n<tr><td>r2</td><td>▁</td></tr><tr><td>_runtime</td><td>▁▁</td></tr><tr><td>_timestamp</td><td>▁▁</td></tr><tr><td>_step</td><td>▁█</td></tr><tr><td>neg_mape</td><td>▁</td></tr></table><br/>"
     },
     "metadata": {},
     "output_type": "display_data"
    },
    {
     "data": {
      "text/plain": "<IPython.core.display.HTML object>",
      "text/html": "Synced 5 W&B file(s), 0 media file(s), 0 artifact file(s) and 0 other file(s)"
     },
     "metadata": {},
     "output_type": "display_data"
    },
    {
     "data": {
      "text/plain": "<IPython.core.display.HTML object>",
      "text/html": "\n                    <br/>Synced <strong style=\"color:#cdcd00\">worthy-sweep-23</strong>: <a href=\"https://wandb.ai/devcore/Metriken%20Bauwesen%20Sweeps/runs/di6fmv5z\" target=\"_blank\">https://wandb.ai/devcore/Metriken%20Bauwesen%20Sweeps/runs/di6fmv5z</a><br/>\n                "
     },
     "metadata": {},
     "output_type": "display_data"
    },
    {
     "name": "stderr",
     "output_type": "stream",
     "text": [
      "\u001B[34m\u001B[1mwandb\u001B[0m: Agent Starting Run: b6fjv3q9 with config:\n",
      "\u001B[34m\u001B[1mwandb\u001B[0m: \tlearning_rate: 0.12280097862610712\n",
      "\u001B[34m\u001B[1mwandb\u001B[0m: \tmax_depth: 10\n",
      "\u001B[34m\u001B[1mwandb\u001B[0m: \tmin_samples_split: 4\n",
      "\u001B[34m\u001B[1mwandb\u001B[0m: \tn_estimators: 1536\n",
      "\u001B[34m\u001B[1mwandb\u001B[0m: \tsubsample: 0.6622651458920572\n"
     ]
    },
    {
     "data": {
      "text/plain": "<IPython.core.display.HTML object>",
      "text/html": "\n                Tracking run with wandb version 0.11.0<br/>\n                Syncing run <strong style=\"color:#cdcd00\">stellar-sweep-24</strong> to <a href=\"https://wandb.ai\" target=\"_blank\">Weights & Biases</a> <a href=\"https://docs.wandb.com/integrations/jupyter.html\" target=\"_blank\">(Documentation)</a>.<br/>\n                Project page: <a href=\"https://wandb.ai/devcore/Metriken%20Bauwesen%20Sweeps\" target=\"_blank\">https://wandb.ai/devcore/Metriken%20Bauwesen%20Sweeps</a><br/>\n                Sweep page: <a href=\"https://wandb.ai/devcore/Metriken%20Bauwesen%20Sweeps/sweeps/461ybom6\" target=\"_blank\">https://wandb.ai/devcore/Metriken%20Bauwesen%20Sweeps/sweeps/461ybom6</a><br/>\nRun page: <a href=\"https://wandb.ai/devcore/Metriken%20Bauwesen%20Sweeps/runs/b6fjv3q9\" target=\"_blank\">https://wandb.ai/devcore/Metriken%20Bauwesen%20Sweeps/runs/b6fjv3q9</a><br/>\n                Run data is saved locally in <code>C:\\Daten\\Development\\FHNW\\ip5-metriken-bauwesen\\src\\weight_and_bias\\wandb\\run-20210720_161813-b6fjv3q9</code><br/><br/>\n            "
     },
     "metadata": {},
     "output_type": "display_data"
    },
    {
     "name": "stdout",
     "output_type": "stream",
     "text": [
      "Location: C:\\Daten\\Development\\FHNW\\ip5-metriken-bauwesen\\export\\cluster_means.joblib\n",
      "Location: C:\\Daten\\Development\\FHNW\\ip5-metriken-bauwesen\\export\\fitted_pipeline.joblib\n"
     ]
    },
    {
     "data": {
      "text/plain": "<IPython.core.display.HTML object>",
      "text/html": "<br/>Waiting for W&B process to finish, PID 7312<br/>Program ended successfully."
     },
     "metadata": {},
     "output_type": "display_data"
    },
    {
     "data": {
      "text/plain": "VBox(children=(Label(value=' 0.00MB of 0.00MB uploaded (0.00MB deduped)\\r'), FloatProgress(value=1.0, max=1.0)…",
      "application/vnd.jupyter.widget-view+json": {
       "version_major": 2,
       "version_minor": 0,
       "model_id": "796b8b3b80004566955e9dd7fec4db2e"
      }
     },
     "metadata": {},
     "output_type": "display_data"
    },
    {
     "data": {
      "text/plain": "<IPython.core.display.HTML object>",
      "text/html": "Find user logs for this run at: <code>C:\\Daten\\Development\\FHNW\\ip5-metriken-bauwesen\\src\\weight_and_bias\\wandb\\run-20210720_161813-b6fjv3q9\\logs\\debug.log</code>"
     },
     "metadata": {},
     "output_type": "display_data"
    },
    {
     "data": {
      "text/plain": "<IPython.core.display.HTML object>",
      "text/html": "Find internal logs for this run at: <code>C:\\Daten\\Development\\FHNW\\ip5-metriken-bauwesen\\src\\weight_and_bias\\wandb\\run-20210720_161813-b6fjv3q9\\logs\\debug-internal.log</code>"
     },
     "metadata": {},
     "output_type": "display_data"
    },
    {
     "data": {
      "text/plain": "<IPython.core.display.HTML object>",
      "text/html": "<h3>Run summary:</h3><br/><style>\n    table.wandb td:nth-child(1) { padding: 0 10px; text-align: right }\n    </style><table class=\"wandb\">\n<tr><td>r2</td><td>0.92167</td></tr><tr><td>_runtime</td><td>31</td></tr><tr><td>_timestamp</td><td>1626790724</td></tr><tr><td>_step</td><td>1</td></tr><tr><td>neg_mape</td><td>-0.17004</td></tr></table>"
     },
     "metadata": {},
     "output_type": "display_data"
    },
    {
     "data": {
      "text/plain": "<IPython.core.display.HTML object>",
      "text/html": "<h3>Run history:</h3><br/><style>\n    table.wandb td:nth-child(1) { padding: 0 10px; text-align: right }\n    </style><table class=\"wandb\">\n<tr><td>r2</td><td>▁</td></tr><tr><td>_runtime</td><td>▁▁</td></tr><tr><td>_timestamp</td><td>▁▁</td></tr><tr><td>_step</td><td>▁█</td></tr><tr><td>neg_mape</td><td>▁</td></tr></table><br/>"
     },
     "metadata": {},
     "output_type": "display_data"
    },
    {
     "data": {
      "text/plain": "<IPython.core.display.HTML object>",
      "text/html": "Synced 5 W&B file(s), 0 media file(s), 0 artifact file(s) and 0 other file(s)"
     },
     "metadata": {},
     "output_type": "display_data"
    },
    {
     "data": {
      "text/plain": "<IPython.core.display.HTML object>",
      "text/html": "\n                    <br/>Synced <strong style=\"color:#cdcd00\">stellar-sweep-24</strong>: <a href=\"https://wandb.ai/devcore/Metriken%20Bauwesen%20Sweeps/runs/b6fjv3q9\" target=\"_blank\">https://wandb.ai/devcore/Metriken%20Bauwesen%20Sweeps/runs/b6fjv3q9</a><br/>\n                "
     },
     "metadata": {},
     "output_type": "display_data"
    },
    {
     "name": "stderr",
     "output_type": "stream",
     "text": [
      "\u001B[34m\u001B[1mwandb\u001B[0m: Agent Starting Run: 2lxegp1g with config:\n",
      "\u001B[34m\u001B[1mwandb\u001B[0m: \tlearning_rate: 0.08580823771183038\n",
      "\u001B[34m\u001B[1mwandb\u001B[0m: \tmax_depth: 18\n",
      "\u001B[34m\u001B[1mwandb\u001B[0m: \tmin_samples_split: 5\n",
      "\u001B[34m\u001B[1mwandb\u001B[0m: \tn_estimators: 512\n",
      "\u001B[34m\u001B[1mwandb\u001B[0m: \tsubsample: 0.5680983291743953\n"
     ]
    },
    {
     "data": {
      "text/plain": "<IPython.core.display.HTML object>",
      "text/html": "\n                Tracking run with wandb version 0.11.0<br/>\n                Syncing run <strong style=\"color:#cdcd00\">wobbly-sweep-25</strong> to <a href=\"https://wandb.ai\" target=\"_blank\">Weights & Biases</a> <a href=\"https://docs.wandb.com/integrations/jupyter.html\" target=\"_blank\">(Documentation)</a>.<br/>\n                Project page: <a href=\"https://wandb.ai/devcore/Metriken%20Bauwesen%20Sweeps\" target=\"_blank\">https://wandb.ai/devcore/Metriken%20Bauwesen%20Sweeps</a><br/>\n                Sweep page: <a href=\"https://wandb.ai/devcore/Metriken%20Bauwesen%20Sweeps/sweeps/461ybom6\" target=\"_blank\">https://wandb.ai/devcore/Metriken%20Bauwesen%20Sweeps/sweeps/461ybom6</a><br/>\nRun page: <a href=\"https://wandb.ai/devcore/Metriken%20Bauwesen%20Sweeps/runs/2lxegp1g\" target=\"_blank\">https://wandb.ai/devcore/Metriken%20Bauwesen%20Sweeps/runs/2lxegp1g</a><br/>\n                Run data is saved locally in <code>C:\\Daten\\Development\\FHNW\\ip5-metriken-bauwesen\\src\\weight_and_bias\\wandb\\run-20210720_161848-2lxegp1g</code><br/><br/>\n            "
     },
     "metadata": {},
     "output_type": "display_data"
    },
    {
     "name": "stdout",
     "output_type": "stream",
     "text": [
      "Location: C:\\Daten\\Development\\FHNW\\ip5-metriken-bauwesen\\export\\cluster_means.joblib\n",
      "Location: C:\\Daten\\Development\\FHNW\\ip5-metriken-bauwesen\\export\\fitted_pipeline.joblib\n"
     ]
    },
    {
     "data": {
      "text/plain": "<IPython.core.display.HTML object>",
      "text/html": "<br/>Waiting for W&B process to finish, PID 292<br/>Program ended successfully."
     },
     "metadata": {},
     "output_type": "display_data"
    },
    {
     "data": {
      "text/plain": "VBox(children=(Label(value=' 0.00MB of 0.00MB uploaded (0.00MB deduped)\\r'), FloatProgress(value=1.0, max=1.0)…",
      "application/vnd.jupyter.widget-view+json": {
       "version_major": 2,
       "version_minor": 0,
       "model_id": "e18716c87dfd4738a7e073a291cac34f"
      }
     },
     "metadata": {},
     "output_type": "display_data"
    },
    {
     "data": {
      "text/plain": "<IPython.core.display.HTML object>",
      "text/html": "Find user logs for this run at: <code>C:\\Daten\\Development\\FHNW\\ip5-metriken-bauwesen\\src\\weight_and_bias\\wandb\\run-20210720_161848-2lxegp1g\\logs\\debug.log</code>"
     },
     "metadata": {},
     "output_type": "display_data"
    },
    {
     "data": {
      "text/plain": "<IPython.core.display.HTML object>",
      "text/html": "Find internal logs for this run at: <code>C:\\Daten\\Development\\FHNW\\ip5-metriken-bauwesen\\src\\weight_and_bias\\wandb\\run-20210720_161848-2lxegp1g\\logs\\debug-internal.log</code>"
     },
     "metadata": {},
     "output_type": "display_data"
    },
    {
     "data": {
      "text/plain": "<IPython.core.display.HTML object>",
      "text/html": "<h3>Run summary:</h3><br/><style>\n    table.wandb td:nth-child(1) { padding: 0 10px; text-align: right }\n    </style><table class=\"wandb\">\n<tr><td>r2</td><td>0.93147</td></tr><tr><td>_runtime</td><td>11</td></tr><tr><td>_timestamp</td><td>1626790739</td></tr><tr><td>_step</td><td>1</td></tr><tr><td>neg_mape</td><td>-0.16678</td></tr></table>"
     },
     "metadata": {},
     "output_type": "display_data"
    },
    {
     "data": {
      "text/plain": "<IPython.core.display.HTML object>",
      "text/html": "<h3>Run history:</h3><br/><style>\n    table.wandb td:nth-child(1) { padding: 0 10px; text-align: right }\n    </style><table class=\"wandb\">\n<tr><td>r2</td><td>▁</td></tr><tr><td>_runtime</td><td>▁▁</td></tr><tr><td>_timestamp</td><td>▁▁</td></tr><tr><td>_step</td><td>▁█</td></tr><tr><td>neg_mape</td><td>▁</td></tr></table><br/>"
     },
     "metadata": {},
     "output_type": "display_data"
    },
    {
     "data": {
      "text/plain": "<IPython.core.display.HTML object>",
      "text/html": "Synced 5 W&B file(s), 0 media file(s), 0 artifact file(s) and 0 other file(s)"
     },
     "metadata": {},
     "output_type": "display_data"
    },
    {
     "data": {
      "text/plain": "<IPython.core.display.HTML object>",
      "text/html": "\n                    <br/>Synced <strong style=\"color:#cdcd00\">wobbly-sweep-25</strong>: <a href=\"https://wandb.ai/devcore/Metriken%20Bauwesen%20Sweeps/runs/2lxegp1g\" target=\"_blank\">https://wandb.ai/devcore/Metriken%20Bauwesen%20Sweeps/runs/2lxegp1g</a><br/>\n                "
     },
     "metadata": {},
     "output_type": "display_data"
    },
    {
     "name": "stderr",
     "output_type": "stream",
     "text": [
      "\u001B[34m\u001B[1mwandb\u001B[0m: Agent Starting Run: zueea4t8 with config:\n",
      "\u001B[34m\u001B[1mwandb\u001B[0m: \tlearning_rate: 0.1485669738457307\n",
      "\u001B[34m\u001B[1mwandb\u001B[0m: \tmax_depth: 15\n",
      "\u001B[34m\u001B[1mwandb\u001B[0m: \tmin_samples_split: 4\n",
      "\u001B[34m\u001B[1mwandb\u001B[0m: \tn_estimators: 768\n",
      "\u001B[34m\u001B[1mwandb\u001B[0m: \tsubsample: 0.7901171798031545\n"
     ]
    },
    {
     "data": {
      "text/plain": "<IPython.core.display.HTML object>",
      "text/html": "\n                Tracking run with wandb version 0.11.0<br/>\n                Syncing run <strong style=\"color:#cdcd00\">skilled-sweep-26</strong> to <a href=\"https://wandb.ai\" target=\"_blank\">Weights & Biases</a> <a href=\"https://docs.wandb.com/integrations/jupyter.html\" target=\"_blank\">(Documentation)</a>.<br/>\n                Project page: <a href=\"https://wandb.ai/devcore/Metriken%20Bauwesen%20Sweeps\" target=\"_blank\">https://wandb.ai/devcore/Metriken%20Bauwesen%20Sweeps</a><br/>\n                Sweep page: <a href=\"https://wandb.ai/devcore/Metriken%20Bauwesen%20Sweeps/sweeps/461ybom6\" target=\"_blank\">https://wandb.ai/devcore/Metriken%20Bauwesen%20Sweeps/sweeps/461ybom6</a><br/>\nRun page: <a href=\"https://wandb.ai/devcore/Metriken%20Bauwesen%20Sweeps/runs/zueea4t8\" target=\"_blank\">https://wandb.ai/devcore/Metriken%20Bauwesen%20Sweeps/runs/zueea4t8</a><br/>\n                Run data is saved locally in <code>C:\\Daten\\Development\\FHNW\\ip5-metriken-bauwesen\\src\\weight_and_bias\\wandb\\run-20210720_161903-zueea4t8</code><br/><br/>\n            "
     },
     "metadata": {},
     "output_type": "display_data"
    },
    {
     "name": "stdout",
     "output_type": "stream",
     "text": [
      "Location: C:\\Daten\\Development\\FHNW\\ip5-metriken-bauwesen\\export\\cluster_means.joblib\n",
      "Location: C:\\Daten\\Development\\FHNW\\ip5-metriken-bauwesen\\export\\fitted_pipeline.joblib\n"
     ]
    },
    {
     "data": {
      "text/plain": "<IPython.core.display.HTML object>",
      "text/html": "<br/>Waiting for W&B process to finish, PID 11948<br/>Program ended successfully."
     },
     "metadata": {},
     "output_type": "display_data"
    },
    {
     "data": {
      "text/plain": "VBox(children=(Label(value=' 0.00MB of 0.00MB uploaded (0.00MB deduped)\\r'), FloatProgress(value=1.0, max=1.0)…",
      "application/vnd.jupyter.widget-view+json": {
       "version_major": 2,
       "version_minor": 0,
       "model_id": "e2bf4fd34825431584b81c12b21485f3"
      }
     },
     "metadata": {},
     "output_type": "display_data"
    },
    {
     "data": {
      "text/plain": "<IPython.core.display.HTML object>",
      "text/html": "Find user logs for this run at: <code>C:\\Daten\\Development\\FHNW\\ip5-metriken-bauwesen\\src\\weight_and_bias\\wandb\\run-20210720_161903-zueea4t8\\logs\\debug.log</code>"
     },
     "metadata": {},
     "output_type": "display_data"
    },
    {
     "data": {
      "text/plain": "<IPython.core.display.HTML object>",
      "text/html": "Find internal logs for this run at: <code>C:\\Daten\\Development\\FHNW\\ip5-metriken-bauwesen\\src\\weight_and_bias\\wandb\\run-20210720_161903-zueea4t8\\logs\\debug-internal.log</code>"
     },
     "metadata": {},
     "output_type": "display_data"
    },
    {
     "data": {
      "text/plain": "<IPython.core.display.HTML object>",
      "text/html": "<h3>Run summary:</h3><br/><style>\n    table.wandb td:nth-child(1) { padding: 0 10px; text-align: right }\n    </style><table class=\"wandb\">\n<tr><td>r2</td><td>0.92231</td></tr><tr><td>_runtime</td><td>17</td></tr><tr><td>_timestamp</td><td>1626790760</td></tr><tr><td>_step</td><td>1</td></tr><tr><td>neg_mape</td><td>-0.17281</td></tr></table>"
     },
     "metadata": {},
     "output_type": "display_data"
    },
    {
     "data": {
      "text/plain": "<IPython.core.display.HTML object>",
      "text/html": "<h3>Run history:</h3><br/><style>\n    table.wandb td:nth-child(1) { padding: 0 10px; text-align: right }\n    </style><table class=\"wandb\">\n<tr><td>r2</td><td>▁</td></tr><tr><td>_runtime</td><td>▁▁</td></tr><tr><td>_timestamp</td><td>▁▁</td></tr><tr><td>_step</td><td>▁█</td></tr><tr><td>neg_mape</td><td>▁</td></tr></table><br/>"
     },
     "metadata": {},
     "output_type": "display_data"
    },
    {
     "data": {
      "text/plain": "<IPython.core.display.HTML object>",
      "text/html": "Synced 5 W&B file(s), 0 media file(s), 0 artifact file(s) and 0 other file(s)"
     },
     "metadata": {},
     "output_type": "display_data"
    },
    {
     "data": {
      "text/plain": "<IPython.core.display.HTML object>",
      "text/html": "\n                    <br/>Synced <strong style=\"color:#cdcd00\">skilled-sweep-26</strong>: <a href=\"https://wandb.ai/devcore/Metriken%20Bauwesen%20Sweeps/runs/zueea4t8\" target=\"_blank\">https://wandb.ai/devcore/Metriken%20Bauwesen%20Sweeps/runs/zueea4t8</a><br/>\n                "
     },
     "metadata": {},
     "output_type": "display_data"
    },
    {
     "name": "stderr",
     "output_type": "stream",
     "text": [
      "\u001B[34m\u001B[1mwandb\u001B[0m: Agent Starting Run: 4ukxehls with config:\n",
      "\u001B[34m\u001B[1mwandb\u001B[0m: \tlearning_rate: 0.025134286543594404\n",
      "\u001B[34m\u001B[1mwandb\u001B[0m: \tmax_depth: 20\n",
      "\u001B[34m\u001B[1mwandb\u001B[0m: \tmin_samples_split: 6\n",
      "\u001B[34m\u001B[1mwandb\u001B[0m: \tn_estimators: 512\n",
      "\u001B[34m\u001B[1mwandb\u001B[0m: \tsubsample: 0.759733744676116\n"
     ]
    },
    {
     "data": {
      "text/plain": "<IPython.core.display.HTML object>",
      "text/html": "\n                Tracking run with wandb version 0.11.0<br/>\n                Syncing run <strong style=\"color:#cdcd00\">dark-sweep-27</strong> to <a href=\"https://wandb.ai\" target=\"_blank\">Weights & Biases</a> <a href=\"https://docs.wandb.com/integrations/jupyter.html\" target=\"_blank\">(Documentation)</a>.<br/>\n                Project page: <a href=\"https://wandb.ai/devcore/Metriken%20Bauwesen%20Sweeps\" target=\"_blank\">https://wandb.ai/devcore/Metriken%20Bauwesen%20Sweeps</a><br/>\n                Sweep page: <a href=\"https://wandb.ai/devcore/Metriken%20Bauwesen%20Sweeps/sweeps/461ybom6\" target=\"_blank\">https://wandb.ai/devcore/Metriken%20Bauwesen%20Sweeps/sweeps/461ybom6</a><br/>\nRun page: <a href=\"https://wandb.ai/devcore/Metriken%20Bauwesen%20Sweeps/runs/4ukxehls\" target=\"_blank\">https://wandb.ai/devcore/Metriken%20Bauwesen%20Sweeps/runs/4ukxehls</a><br/>\n                Run data is saved locally in <code>C:\\Daten\\Development\\FHNW\\ip5-metriken-bauwesen\\src\\weight_and_bias\\wandb\\run-20210720_161924-4ukxehls</code><br/><br/>\n            "
     },
     "metadata": {},
     "output_type": "display_data"
    },
    {
     "name": "stdout",
     "output_type": "stream",
     "text": [
      "Location: C:\\Daten\\Development\\FHNW\\ip5-metriken-bauwesen\\export\\cluster_means.joblib\n",
      "Location: C:\\Daten\\Development\\FHNW\\ip5-metriken-bauwesen\\export\\fitted_pipeline.joblib\n"
     ]
    },
    {
     "data": {
      "text/plain": "<IPython.core.display.HTML object>",
      "text/html": "<br/>Waiting for W&B process to finish, PID 9892<br/>Program ended successfully."
     },
     "metadata": {},
     "output_type": "display_data"
    },
    {
     "data": {
      "text/plain": "VBox(children=(Label(value=' 0.00MB of 0.00MB uploaded (0.00MB deduped)\\r'), FloatProgress(value=1.0, max=1.0)…",
      "application/vnd.jupyter.widget-view+json": {
       "version_major": 2,
       "version_minor": 0,
       "model_id": "b1e07215c1ca4a87966adf24100e6139"
      }
     },
     "metadata": {},
     "output_type": "display_data"
    },
    {
     "data": {
      "text/plain": "<IPython.core.display.HTML object>",
      "text/html": "Find user logs for this run at: <code>C:\\Daten\\Development\\FHNW\\ip5-metriken-bauwesen\\src\\weight_and_bias\\wandb\\run-20210720_161924-4ukxehls\\logs\\debug.log</code>"
     },
     "metadata": {},
     "output_type": "display_data"
    },
    {
     "data": {
      "text/plain": "<IPython.core.display.HTML object>",
      "text/html": "Find internal logs for this run at: <code>C:\\Daten\\Development\\FHNW\\ip5-metriken-bauwesen\\src\\weight_and_bias\\wandb\\run-20210720_161924-4ukxehls\\logs\\debug-internal.log</code>"
     },
     "metadata": {},
     "output_type": "display_data"
    },
    {
     "data": {
      "text/plain": "<IPython.core.display.HTML object>",
      "text/html": "<h3>Run summary:</h3><br/><style>\n    table.wandb td:nth-child(1) { padding: 0 10px; text-align: right }\n    </style><table class=\"wandb\">\n<tr><td>r2</td><td>0.9222</td></tr><tr><td>_runtime</td><td>12</td></tr><tr><td>_timestamp</td><td>1626790776</td></tr><tr><td>_step</td><td>1</td></tr><tr><td>neg_mape</td><td>-0.16599</td></tr></table>"
     },
     "metadata": {},
     "output_type": "display_data"
    },
    {
     "data": {
      "text/plain": "<IPython.core.display.HTML object>",
      "text/html": "<h3>Run history:</h3><br/><style>\n    table.wandb td:nth-child(1) { padding: 0 10px; text-align: right }\n    </style><table class=\"wandb\">\n<tr><td>r2</td><td>▁</td></tr><tr><td>_runtime</td><td>▁▁</td></tr><tr><td>_timestamp</td><td>▁▁</td></tr><tr><td>_step</td><td>▁█</td></tr><tr><td>neg_mape</td><td>▁</td></tr></table><br/>"
     },
     "metadata": {},
     "output_type": "display_data"
    },
    {
     "data": {
      "text/plain": "<IPython.core.display.HTML object>",
      "text/html": "Synced 5 W&B file(s), 0 media file(s), 0 artifact file(s) and 0 other file(s)"
     },
     "metadata": {},
     "output_type": "display_data"
    },
    {
     "data": {
      "text/plain": "<IPython.core.display.HTML object>",
      "text/html": "\n                    <br/>Synced <strong style=\"color:#cdcd00\">dark-sweep-27</strong>: <a href=\"https://wandb.ai/devcore/Metriken%20Bauwesen%20Sweeps/runs/4ukxehls\" target=\"_blank\">https://wandb.ai/devcore/Metriken%20Bauwesen%20Sweeps/runs/4ukxehls</a><br/>\n                "
     },
     "metadata": {},
     "output_type": "display_data"
    },
    {
     "name": "stderr",
     "output_type": "stream",
     "text": [
      "\u001B[34m\u001B[1mwandb\u001B[0m: Agent Starting Run: d0wml9sm with config:\n",
      "\u001B[34m\u001B[1mwandb\u001B[0m: \tlearning_rate: 0.015011997468367512\n",
      "\u001B[34m\u001B[1mwandb\u001B[0m: \tmax_depth: 11\n",
      "\u001B[34m\u001B[1mwandb\u001B[0m: \tmin_samples_split: 6\n",
      "\u001B[34m\u001B[1mwandb\u001B[0m: \tn_estimators: 512\n",
      "\u001B[34m\u001B[1mwandb\u001B[0m: \tsubsample: 0.5527344353595193\n"
     ]
    },
    {
     "data": {
      "text/plain": "<IPython.core.display.HTML object>",
      "text/html": "\n                Tracking run with wandb version 0.11.0<br/>\n                Syncing run <strong style=\"color:#cdcd00\">divine-sweep-28</strong> to <a href=\"https://wandb.ai\" target=\"_blank\">Weights & Biases</a> <a href=\"https://docs.wandb.com/integrations/jupyter.html\" target=\"_blank\">(Documentation)</a>.<br/>\n                Project page: <a href=\"https://wandb.ai/devcore/Metriken%20Bauwesen%20Sweeps\" target=\"_blank\">https://wandb.ai/devcore/Metriken%20Bauwesen%20Sweeps</a><br/>\n                Sweep page: <a href=\"https://wandb.ai/devcore/Metriken%20Bauwesen%20Sweeps/sweeps/461ybom6\" target=\"_blank\">https://wandb.ai/devcore/Metriken%20Bauwesen%20Sweeps/sweeps/461ybom6</a><br/>\nRun page: <a href=\"https://wandb.ai/devcore/Metriken%20Bauwesen%20Sweeps/runs/d0wml9sm\" target=\"_blank\">https://wandb.ai/devcore/Metriken%20Bauwesen%20Sweeps/runs/d0wml9sm</a><br/>\n                Run data is saved locally in <code>C:\\Daten\\Development\\FHNW\\ip5-metriken-bauwesen\\src\\weight_and_bias\\wandb\\run-20210720_161940-d0wml9sm</code><br/><br/>\n            "
     },
     "metadata": {},
     "output_type": "display_data"
    },
    {
     "name": "stdout",
     "output_type": "stream",
     "text": [
      "Location: C:\\Daten\\Development\\FHNW\\ip5-metriken-bauwesen\\export\\cluster_means.joblib\n",
      "Location: C:\\Daten\\Development\\FHNW\\ip5-metriken-bauwesen\\export\\fitted_pipeline.joblib\n"
     ]
    },
    {
     "data": {
      "text/plain": "<IPython.core.display.HTML object>",
      "text/html": "<br/>Waiting for W&B process to finish, PID 1664<br/>Program ended successfully."
     },
     "metadata": {},
     "output_type": "display_data"
    },
    {
     "data": {
      "text/plain": "VBox(children=(Label(value=' 0.00MB of 0.00MB uploaded (0.00MB deduped)\\r'), FloatProgress(value=1.0, max=1.0)…",
      "application/vnd.jupyter.widget-view+json": {
       "version_major": 2,
       "version_minor": 0,
       "model_id": "fcffa27d25bf4beebea98a92e09249aa"
      }
     },
     "metadata": {},
     "output_type": "display_data"
    },
    {
     "data": {
      "text/plain": "<IPython.core.display.HTML object>",
      "text/html": "Find user logs for this run at: <code>C:\\Daten\\Development\\FHNW\\ip5-metriken-bauwesen\\src\\weight_and_bias\\wandb\\run-20210720_161940-d0wml9sm\\logs\\debug.log</code>"
     },
     "metadata": {},
     "output_type": "display_data"
    },
    {
     "data": {
      "text/plain": "<IPython.core.display.HTML object>",
      "text/html": "Find internal logs for this run at: <code>C:\\Daten\\Development\\FHNW\\ip5-metriken-bauwesen\\src\\weight_and_bias\\wandb\\run-20210720_161940-d0wml9sm\\logs\\debug-internal.log</code>"
     },
     "metadata": {},
     "output_type": "display_data"
    },
    {
     "data": {
      "text/plain": "<IPython.core.display.HTML object>",
      "text/html": "<h3>Run summary:</h3><br/><style>\n    table.wandb td:nth-child(1) { padding: 0 10px; text-align: right }\n    </style><table class=\"wandb\">\n<tr><td>r2</td><td>0.93353</td></tr><tr><td>_runtime</td><td>8</td></tr><tr><td>_timestamp</td><td>1626790789</td></tr><tr><td>_step</td><td>1</td></tr><tr><td>neg_mape</td><td>-0.16357</td></tr></table>"
     },
     "metadata": {},
     "output_type": "display_data"
    },
    {
     "data": {
      "text/plain": "<IPython.core.display.HTML object>",
      "text/html": "<h3>Run history:</h3><br/><style>\n    table.wandb td:nth-child(1) { padding: 0 10px; text-align: right }\n    </style><table class=\"wandb\">\n<tr><td>r2</td><td>▁</td></tr><tr><td>_runtime</td><td>▁▁</td></tr><tr><td>_timestamp</td><td>▁▁</td></tr><tr><td>_step</td><td>▁█</td></tr><tr><td>neg_mape</td><td>▁</td></tr></table><br/>"
     },
     "metadata": {},
     "output_type": "display_data"
    },
    {
     "data": {
      "text/plain": "<IPython.core.display.HTML object>",
      "text/html": "Synced 5 W&B file(s), 0 media file(s), 0 artifact file(s) and 0 other file(s)"
     },
     "metadata": {},
     "output_type": "display_data"
    },
    {
     "data": {
      "text/plain": "<IPython.core.display.HTML object>",
      "text/html": "\n                    <br/>Synced <strong style=\"color:#cdcd00\">divine-sweep-28</strong>: <a href=\"https://wandb.ai/devcore/Metriken%20Bauwesen%20Sweeps/runs/d0wml9sm\" target=\"_blank\">https://wandb.ai/devcore/Metriken%20Bauwesen%20Sweeps/runs/d0wml9sm</a><br/>\n                "
     },
     "metadata": {},
     "output_type": "display_data"
    },
    {
     "name": "stderr",
     "output_type": "stream",
     "text": [
      "\u001B[34m\u001B[1mwandb\u001B[0m: Agent Starting Run: 3arrcchd with config:\n",
      "\u001B[34m\u001B[1mwandb\u001B[0m: \tlearning_rate: 0.040277414790677604\n",
      "\u001B[34m\u001B[1mwandb\u001B[0m: \tmax_depth: 12\n",
      "\u001B[34m\u001B[1mwandb\u001B[0m: \tmin_samples_split: 10\n",
      "\u001B[34m\u001B[1mwandb\u001B[0m: \tn_estimators: 512\n",
      "\u001B[34m\u001B[1mwandb\u001B[0m: \tsubsample: 0.5395627046250588\n"
     ]
    },
    {
     "data": {
      "text/plain": "<IPython.core.display.HTML object>",
      "text/html": "\n                Tracking run with wandb version 0.11.0<br/>\n                Syncing run <strong style=\"color:#cdcd00\">usual-sweep-29</strong> to <a href=\"https://wandb.ai\" target=\"_blank\">Weights & Biases</a> <a href=\"https://docs.wandb.com/integrations/jupyter.html\" target=\"_blank\">(Documentation)</a>.<br/>\n                Project page: <a href=\"https://wandb.ai/devcore/Metriken%20Bauwesen%20Sweeps\" target=\"_blank\">https://wandb.ai/devcore/Metriken%20Bauwesen%20Sweeps</a><br/>\n                Sweep page: <a href=\"https://wandb.ai/devcore/Metriken%20Bauwesen%20Sweeps/sweeps/461ybom6\" target=\"_blank\">https://wandb.ai/devcore/Metriken%20Bauwesen%20Sweeps/sweeps/461ybom6</a><br/>\nRun page: <a href=\"https://wandb.ai/devcore/Metriken%20Bauwesen%20Sweeps/runs/3arrcchd\" target=\"_blank\">https://wandb.ai/devcore/Metriken%20Bauwesen%20Sweeps/runs/3arrcchd</a><br/>\n                Run data is saved locally in <code>C:\\Daten\\Development\\FHNW\\ip5-metriken-bauwesen\\src\\weight_and_bias\\wandb\\run-20210720_161953-3arrcchd</code><br/><br/>\n            "
     },
     "metadata": {},
     "output_type": "display_data"
    },
    {
     "name": "stdout",
     "output_type": "stream",
     "text": [
      "Location: C:\\Daten\\Development\\FHNW\\ip5-metriken-bauwesen\\export\\cluster_means.joblib\n",
      "Location: C:\\Daten\\Development\\FHNW\\ip5-metriken-bauwesen\\export\\fitted_pipeline.joblib\n"
     ]
    },
    {
     "data": {
      "text/plain": "<IPython.core.display.HTML object>",
      "text/html": "<br/>Waiting for W&B process to finish, PID 7972<br/>Program ended successfully."
     },
     "metadata": {},
     "output_type": "display_data"
    },
    {
     "data": {
      "text/plain": "VBox(children=(Label(value=' 0.00MB of 0.00MB uploaded (0.00MB deduped)\\r'), FloatProgress(value=1.0, max=1.0)…",
      "application/vnd.jupyter.widget-view+json": {
       "version_major": 2,
       "version_minor": 0,
       "model_id": "5af4359ee1bf46a889c99860512f7440"
      }
     },
     "metadata": {},
     "output_type": "display_data"
    },
    {
     "data": {
      "text/plain": "<IPython.core.display.HTML object>",
      "text/html": "Find user logs for this run at: <code>C:\\Daten\\Development\\FHNW\\ip5-metriken-bauwesen\\src\\weight_and_bias\\wandb\\run-20210720_161953-3arrcchd\\logs\\debug.log</code>"
     },
     "metadata": {},
     "output_type": "display_data"
    },
    {
     "data": {
      "text/plain": "<IPython.core.display.HTML object>",
      "text/html": "Find internal logs for this run at: <code>C:\\Daten\\Development\\FHNW\\ip5-metriken-bauwesen\\src\\weight_and_bias\\wandb\\run-20210720_161953-3arrcchd\\logs\\debug-internal.log</code>"
     },
     "metadata": {},
     "output_type": "display_data"
    },
    {
     "data": {
      "text/plain": "<IPython.core.display.HTML object>",
      "text/html": "<h3>Run summary:</h3><br/><style>\n    table.wandb td:nth-child(1) { padding: 0 10px; text-align: right }\n    </style><table class=\"wandb\">\n<tr><td>r2</td><td>0.93407</td></tr><tr><td>_runtime</td><td>8</td></tr><tr><td>_timestamp</td><td>1626790801</td></tr><tr><td>_step</td><td>1</td></tr><tr><td>neg_mape</td><td>-0.16656</td></tr></table>"
     },
     "metadata": {},
     "output_type": "display_data"
    },
    {
     "data": {
      "text/plain": "<IPython.core.display.HTML object>",
      "text/html": "<h3>Run history:</h3><br/><style>\n    table.wandb td:nth-child(1) { padding: 0 10px; text-align: right }\n    </style><table class=\"wandb\">\n<tr><td>r2</td><td>▁</td></tr><tr><td>_runtime</td><td>▁▁</td></tr><tr><td>_timestamp</td><td>▁▁</td></tr><tr><td>_step</td><td>▁█</td></tr><tr><td>neg_mape</td><td>▁</td></tr></table><br/>"
     },
     "metadata": {},
     "output_type": "display_data"
    },
    {
     "data": {
      "text/plain": "<IPython.core.display.HTML object>",
      "text/html": "Synced 5 W&B file(s), 0 media file(s), 0 artifact file(s) and 0 other file(s)"
     },
     "metadata": {},
     "output_type": "display_data"
    },
    {
     "data": {
      "text/plain": "<IPython.core.display.HTML object>",
      "text/html": "\n                    <br/>Synced <strong style=\"color:#cdcd00\">usual-sweep-29</strong>: <a href=\"https://wandb.ai/devcore/Metriken%20Bauwesen%20Sweeps/runs/3arrcchd\" target=\"_blank\">https://wandb.ai/devcore/Metriken%20Bauwesen%20Sweeps/runs/3arrcchd</a><br/>\n                "
     },
     "metadata": {},
     "output_type": "display_data"
    },
    {
     "name": "stderr",
     "output_type": "stream",
     "text": [
      "\u001B[34m\u001B[1mwandb\u001B[0m: Agent Starting Run: 4k62h248 with config:\n",
      "\u001B[34m\u001B[1mwandb\u001B[0m: \tlearning_rate: 0.013776297737779608\n",
      "\u001B[34m\u001B[1mwandb\u001B[0m: \tmax_depth: 30\n",
      "\u001B[34m\u001B[1mwandb\u001B[0m: \tmin_samples_split: 5\n",
      "\u001B[34m\u001B[1mwandb\u001B[0m: \tn_estimators: 1024\n",
      "\u001B[34m\u001B[1mwandb\u001B[0m: \tsubsample: 0.6158517184735419\n"
     ]
    },
    {
     "data": {
      "text/plain": "<IPython.core.display.HTML object>",
      "text/html": "\n                Tracking run with wandb version 0.11.0<br/>\n                Syncing run <strong style=\"color:#cdcd00\">cerulean-sweep-30</strong> to <a href=\"https://wandb.ai\" target=\"_blank\">Weights & Biases</a> <a href=\"https://docs.wandb.com/integrations/jupyter.html\" target=\"_blank\">(Documentation)</a>.<br/>\n                Project page: <a href=\"https://wandb.ai/devcore/Metriken%20Bauwesen%20Sweeps\" target=\"_blank\">https://wandb.ai/devcore/Metriken%20Bauwesen%20Sweeps</a><br/>\n                Sweep page: <a href=\"https://wandb.ai/devcore/Metriken%20Bauwesen%20Sweeps/sweeps/461ybom6\" target=\"_blank\">https://wandb.ai/devcore/Metriken%20Bauwesen%20Sweeps/sweeps/461ybom6</a><br/>\nRun page: <a href=\"https://wandb.ai/devcore/Metriken%20Bauwesen%20Sweeps/runs/4k62h248\" target=\"_blank\">https://wandb.ai/devcore/Metriken%20Bauwesen%20Sweeps/runs/4k62h248</a><br/>\n                Run data is saved locally in <code>C:\\Daten\\Development\\FHNW\\ip5-metriken-bauwesen\\src\\weight_and_bias\\wandb\\run-20210720_162006-4k62h248</code><br/><br/>\n            "
     },
     "metadata": {},
     "output_type": "display_data"
    },
    {
     "name": "stdout",
     "output_type": "stream",
     "text": [
      "Location: C:\\Daten\\Development\\FHNW\\ip5-metriken-bauwesen\\export\\cluster_means.joblib\n",
      "Location: C:\\Daten\\Development\\FHNW\\ip5-metriken-bauwesen\\export\\fitted_pipeline.joblib\n"
     ]
    },
    {
     "data": {
      "text/plain": "<IPython.core.display.HTML object>",
      "text/html": "<br/>Waiting for W&B process to finish, PID 12808<br/>Program ended successfully."
     },
     "metadata": {},
     "output_type": "display_data"
    },
    {
     "data": {
      "text/plain": "VBox(children=(Label(value=' 0.00MB of 0.00MB uploaded (0.00MB deduped)\\r'), FloatProgress(value=1.0, max=1.0)…",
      "application/vnd.jupyter.widget-view+json": {
       "version_major": 2,
       "version_minor": 0,
       "model_id": "a8cc4372001440aaba79182df0bdb285"
      }
     },
     "metadata": {},
     "output_type": "display_data"
    },
    {
     "data": {
      "text/plain": "<IPython.core.display.HTML object>",
      "text/html": "Find user logs for this run at: <code>C:\\Daten\\Development\\FHNW\\ip5-metriken-bauwesen\\src\\weight_and_bias\\wandb\\run-20210720_162006-4k62h248\\logs\\debug.log</code>"
     },
     "metadata": {},
     "output_type": "display_data"
    },
    {
     "data": {
      "text/plain": "<IPython.core.display.HTML object>",
      "text/html": "Find internal logs for this run at: <code>C:\\Daten\\Development\\FHNW\\ip5-metriken-bauwesen\\src\\weight_and_bias\\wandb\\run-20210720_162006-4k62h248\\logs\\debug-internal.log</code>"
     },
     "metadata": {},
     "output_type": "display_data"
    },
    {
     "data": {
      "text/plain": "<IPython.core.display.HTML object>",
      "text/html": "<h3>Run summary:</h3><br/><style>\n    table.wandb td:nth-child(1) { padding: 0 10px; text-align: right }\n    </style><table class=\"wandb\">\n<tr><td>r2</td><td>0.92867</td></tr><tr><td>_runtime</td><td>22</td></tr><tr><td>_timestamp</td><td>1626790828</td></tr><tr><td>_step</td><td>1</td></tr><tr><td>neg_mape</td><td>-0.16232</td></tr></table>"
     },
     "metadata": {},
     "output_type": "display_data"
    },
    {
     "data": {
      "text/plain": "<IPython.core.display.HTML object>",
      "text/html": "<h3>Run history:</h3><br/><style>\n    table.wandb td:nth-child(1) { padding: 0 10px; text-align: right }\n    </style><table class=\"wandb\">\n<tr><td>r2</td><td>▁</td></tr><tr><td>_runtime</td><td>▁▁</td></tr><tr><td>_timestamp</td><td>▁▁</td></tr><tr><td>_step</td><td>▁█</td></tr><tr><td>neg_mape</td><td>▁</td></tr></table><br/>"
     },
     "metadata": {},
     "output_type": "display_data"
    },
    {
     "data": {
      "text/plain": "<IPython.core.display.HTML object>",
      "text/html": "Synced 5 W&B file(s), 0 media file(s), 0 artifact file(s) and 0 other file(s)"
     },
     "metadata": {},
     "output_type": "display_data"
    },
    {
     "data": {
      "text/plain": "<IPython.core.display.HTML object>",
      "text/html": "\n                    <br/>Synced <strong style=\"color:#cdcd00\">cerulean-sweep-30</strong>: <a href=\"https://wandb.ai/devcore/Metriken%20Bauwesen%20Sweeps/runs/4k62h248\" target=\"_blank\">https://wandb.ai/devcore/Metriken%20Bauwesen%20Sweeps/runs/4k62h248</a><br/>\n                "
     },
     "metadata": {},
     "output_type": "display_data"
    },
    {
     "name": "stderr",
     "output_type": "stream",
     "text": [
      "\u001B[34m\u001B[1mwandb\u001B[0m: Agent Starting Run: 8w64fdsj with config:\n",
      "\u001B[34m\u001B[1mwandb\u001B[0m: \tlearning_rate: 0.07745168853362956\n",
      "\u001B[34m\u001B[1mwandb\u001B[0m: \tmax_depth: 11\n",
      "\u001B[34m\u001B[1mwandb\u001B[0m: \tmin_samples_split: 10\n",
      "\u001B[34m\u001B[1mwandb\u001B[0m: \tn_estimators: 768\n",
      "\u001B[34m\u001B[1mwandb\u001B[0m: \tsubsample: 0.5219389184956021\n"
     ]
    },
    {
     "data": {
      "text/plain": "<IPython.core.display.HTML object>",
      "text/html": "\n                Tracking run with wandb version 0.11.0<br/>\n                Syncing run <strong style=\"color:#cdcd00\">graceful-sweep-31</strong> to <a href=\"https://wandb.ai\" target=\"_blank\">Weights & Biases</a> <a href=\"https://docs.wandb.com/integrations/jupyter.html\" target=\"_blank\">(Documentation)</a>.<br/>\n                Project page: <a href=\"https://wandb.ai/devcore/Metriken%20Bauwesen%20Sweeps\" target=\"_blank\">https://wandb.ai/devcore/Metriken%20Bauwesen%20Sweeps</a><br/>\n                Sweep page: <a href=\"https://wandb.ai/devcore/Metriken%20Bauwesen%20Sweeps/sweeps/461ybom6\" target=\"_blank\">https://wandb.ai/devcore/Metriken%20Bauwesen%20Sweeps/sweeps/461ybom6</a><br/>\nRun page: <a href=\"https://wandb.ai/devcore/Metriken%20Bauwesen%20Sweeps/runs/8w64fdsj\" target=\"_blank\">https://wandb.ai/devcore/Metriken%20Bauwesen%20Sweeps/runs/8w64fdsj</a><br/>\n                Run data is saved locally in <code>C:\\Daten\\Development\\FHNW\\ip5-metriken-bauwesen\\src\\weight_and_bias\\wandb\\run-20210720_162033-8w64fdsj</code><br/><br/>\n            "
     },
     "metadata": {},
     "output_type": "display_data"
    },
    {
     "name": "stdout",
     "output_type": "stream",
     "text": [
      "Location: C:\\Daten\\Development\\FHNW\\ip5-metriken-bauwesen\\export\\cluster_means.joblib\n",
      "Location: C:\\Daten\\Development\\FHNW\\ip5-metriken-bauwesen\\export\\fitted_pipeline.joblib\n"
     ]
    },
    {
     "data": {
      "text/plain": "<IPython.core.display.HTML object>",
      "text/html": "<br/>Waiting for W&B process to finish, PID 10060<br/>Program ended successfully."
     },
     "metadata": {},
     "output_type": "display_data"
    },
    {
     "data": {
      "text/plain": "VBox(children=(Label(value=' 0.00MB of 0.00MB uploaded (0.00MB deduped)\\r'), FloatProgress(value=1.0, max=1.0)…",
      "application/vnd.jupyter.widget-view+json": {
       "version_major": 2,
       "version_minor": 0,
       "model_id": "5b11e3cb240842ff949a3e0a1784c3c4"
      }
     },
     "metadata": {},
     "output_type": "display_data"
    },
    {
     "data": {
      "text/plain": "<IPython.core.display.HTML object>",
      "text/html": "Find user logs for this run at: <code>C:\\Daten\\Development\\FHNW\\ip5-metriken-bauwesen\\src\\weight_and_bias\\wandb\\run-20210720_162033-8w64fdsj\\logs\\debug.log</code>"
     },
     "metadata": {},
     "output_type": "display_data"
    },
    {
     "data": {
      "text/plain": "<IPython.core.display.HTML object>",
      "text/html": "Find internal logs for this run at: <code>C:\\Daten\\Development\\FHNW\\ip5-metriken-bauwesen\\src\\weight_and_bias\\wandb\\run-20210720_162033-8w64fdsj\\logs\\debug-internal.log</code>"
     },
     "metadata": {},
     "output_type": "display_data"
    },
    {
     "data": {
      "text/plain": "<IPython.core.display.HTML object>",
      "text/html": "<h3>Run summary:</h3><br/><style>\n    table.wandb td:nth-child(1) { padding: 0 10px; text-align: right }\n    </style><table class=\"wandb\">\n<tr><td>r2</td><td>0.93936</td></tr><tr><td>_runtime</td><td>11</td></tr><tr><td>_timestamp</td><td>1626790844</td></tr><tr><td>_step</td><td>1</td></tr><tr><td>neg_mape</td><td>-0.17144</td></tr></table>"
     },
     "metadata": {},
     "output_type": "display_data"
    },
    {
     "data": {
      "text/plain": "<IPython.core.display.HTML object>",
      "text/html": "<h3>Run history:</h3><br/><style>\n    table.wandb td:nth-child(1) { padding: 0 10px; text-align: right }\n    </style><table class=\"wandb\">\n<tr><td>r2</td><td>▁</td></tr><tr><td>_runtime</td><td>▁▁</td></tr><tr><td>_timestamp</td><td>▁▁</td></tr><tr><td>_step</td><td>▁█</td></tr><tr><td>neg_mape</td><td>▁</td></tr></table><br/>"
     },
     "metadata": {},
     "output_type": "display_data"
    },
    {
     "data": {
      "text/plain": "<IPython.core.display.HTML object>",
      "text/html": "Synced 5 W&B file(s), 0 media file(s), 0 artifact file(s) and 0 other file(s)"
     },
     "metadata": {},
     "output_type": "display_data"
    },
    {
     "data": {
      "text/plain": "<IPython.core.display.HTML object>",
      "text/html": "\n                    <br/>Synced <strong style=\"color:#cdcd00\">graceful-sweep-31</strong>: <a href=\"https://wandb.ai/devcore/Metriken%20Bauwesen%20Sweeps/runs/8w64fdsj\" target=\"_blank\">https://wandb.ai/devcore/Metriken%20Bauwesen%20Sweeps/runs/8w64fdsj</a><br/>\n                "
     },
     "metadata": {},
     "output_type": "display_data"
    },
    {
     "name": "stderr",
     "output_type": "stream",
     "text": [
      "\u001B[34m\u001B[1mwandb\u001B[0m: Agent Starting Run: x20qtllu with config:\n",
      "\u001B[34m\u001B[1mwandb\u001B[0m: \tlearning_rate: 0.13142098015889164\n",
      "\u001B[34m\u001B[1mwandb\u001B[0m: \tmax_depth: 30\n",
      "\u001B[34m\u001B[1mwandb\u001B[0m: \tmin_samples_split: 8\n",
      "\u001B[34m\u001B[1mwandb\u001B[0m: \tn_estimators: 2048\n",
      "\u001B[34m\u001B[1mwandb\u001B[0m: \tsubsample: 0.8000595689946066\n"
     ]
    },
    {
     "data": {
      "text/plain": "<IPython.core.display.HTML object>",
      "text/html": "\n                Tracking run with wandb version 0.11.0<br/>\n                Syncing run <strong style=\"color:#cdcd00\">sparkling-sweep-32</strong> to <a href=\"https://wandb.ai\" target=\"_blank\">Weights & Biases</a> <a href=\"https://docs.wandb.com/integrations/jupyter.html\" target=\"_blank\">(Documentation)</a>.<br/>\n                Project page: <a href=\"https://wandb.ai/devcore/Metriken%20Bauwesen%20Sweeps\" target=\"_blank\">https://wandb.ai/devcore/Metriken%20Bauwesen%20Sweeps</a><br/>\n                Sweep page: <a href=\"https://wandb.ai/devcore/Metriken%20Bauwesen%20Sweeps/sweeps/461ybom6\" target=\"_blank\">https://wandb.ai/devcore/Metriken%20Bauwesen%20Sweeps/sweeps/461ybom6</a><br/>\nRun page: <a href=\"https://wandb.ai/devcore/Metriken%20Bauwesen%20Sweeps/runs/x20qtllu\" target=\"_blank\">https://wandb.ai/devcore/Metriken%20Bauwesen%20Sweeps/runs/x20qtllu</a><br/>\n                Run data is saved locally in <code>C:\\Daten\\Development\\FHNW\\ip5-metriken-bauwesen\\src\\weight_and_bias\\wandb\\run-20210720_162048-x20qtllu</code><br/><br/>\n            "
     },
     "metadata": {},
     "output_type": "display_data"
    },
    {
     "name": "stdout",
     "output_type": "stream",
     "text": [
      "Location: C:\\Daten\\Development\\FHNW\\ip5-metriken-bauwesen\\export\\cluster_means.joblib\n",
      "Location: C:\\Daten\\Development\\FHNW\\ip5-metriken-bauwesen\\export\\fitted_pipeline.joblib\n"
     ]
    },
    {
     "data": {
      "text/plain": "<IPython.core.display.HTML object>",
      "text/html": "<br/>Waiting for W&B process to finish, PID 12216<br/>Program ended successfully."
     },
     "metadata": {},
     "output_type": "display_data"
    },
    {
     "data": {
      "text/plain": "VBox(children=(Label(value=' 0.00MB of 0.00MB uploaded (0.00MB deduped)\\r'), FloatProgress(value=1.0, max=1.0)…",
      "application/vnd.jupyter.widget-view+json": {
       "version_major": 2,
       "version_minor": 0,
       "model_id": "a911ebb5e44b4a4b8c8ad3280eb828ed"
      }
     },
     "metadata": {},
     "output_type": "display_data"
    },
    {
     "data": {
      "text/plain": "<IPython.core.display.HTML object>",
      "text/html": "Find user logs for this run at: <code>C:\\Daten\\Development\\FHNW\\ip5-metriken-bauwesen\\src\\weight_and_bias\\wandb\\run-20210720_162048-x20qtllu\\logs\\debug.log</code>"
     },
     "metadata": {},
     "output_type": "display_data"
    },
    {
     "data": {
      "text/plain": "<IPython.core.display.HTML object>",
      "text/html": "Find internal logs for this run at: <code>C:\\Daten\\Development\\FHNW\\ip5-metriken-bauwesen\\src\\weight_and_bias\\wandb\\run-20210720_162048-x20qtllu\\logs\\debug-internal.log</code>"
     },
     "metadata": {},
     "output_type": "display_data"
    },
    {
     "data": {
      "text/plain": "<IPython.core.display.HTML object>",
      "text/html": "<h3>Run summary:</h3><br/><style>\n    table.wandb td:nth-child(1) { padding: 0 10px; text-align: right }\n    </style><table class=\"wandb\">\n<tr><td>r2</td><td>0.92684</td></tr><tr><td>_runtime</td><td>94</td></tr><tr><td>_timestamp</td><td>1626790942</td></tr><tr><td>_step</td><td>1</td></tr><tr><td>neg_mape</td><td>-0.16837</td></tr></table>"
     },
     "metadata": {},
     "output_type": "display_data"
    },
    {
     "data": {
      "text/plain": "<IPython.core.display.HTML object>",
      "text/html": "<h3>Run history:</h3><br/><style>\n    table.wandb td:nth-child(1) { padding: 0 10px; text-align: right }\n    </style><table class=\"wandb\">\n<tr><td>r2</td><td>▁</td></tr><tr><td>_runtime</td><td>▁▁</td></tr><tr><td>_timestamp</td><td>▁▁</td></tr><tr><td>_step</td><td>▁█</td></tr><tr><td>neg_mape</td><td>▁</td></tr></table><br/>"
     },
     "metadata": {},
     "output_type": "display_data"
    },
    {
     "data": {
      "text/plain": "<IPython.core.display.HTML object>",
      "text/html": "Synced 5 W&B file(s), 0 media file(s), 0 artifact file(s) and 0 other file(s)"
     },
     "metadata": {},
     "output_type": "display_data"
    },
    {
     "data": {
      "text/plain": "<IPython.core.display.HTML object>",
      "text/html": "\n                    <br/>Synced <strong style=\"color:#cdcd00\">sparkling-sweep-32</strong>: <a href=\"https://wandb.ai/devcore/Metriken%20Bauwesen%20Sweeps/runs/x20qtllu\" target=\"_blank\">https://wandb.ai/devcore/Metriken%20Bauwesen%20Sweeps/runs/x20qtllu</a><br/>\n                "
     },
     "metadata": {},
     "output_type": "display_data"
    },
    {
     "name": "stderr",
     "output_type": "stream",
     "text": [
      "\u001B[34m\u001B[1mwandb\u001B[0m: Agent Starting Run: jsfualgf with config:\n",
      "\u001B[34m\u001B[1mwandb\u001B[0m: \tlearning_rate: 0.05736293928321386\n",
      "\u001B[34m\u001B[1mwandb\u001B[0m: \tmax_depth: 30\n",
      "\u001B[34m\u001B[1mwandb\u001B[0m: \tmin_samples_split: 15\n",
      "\u001B[34m\u001B[1mwandb\u001B[0m: \tn_estimators: 1536\n",
      "\u001B[34m\u001B[1mwandb\u001B[0m: \tsubsample: 0.77638514034233\n"
     ]
    },
    {
     "data": {
      "text/plain": "<IPython.core.display.HTML object>",
      "text/html": "\n                Tracking run with wandb version 0.11.0<br/>\n                Syncing run <strong style=\"color:#cdcd00\">easy-sweep-33</strong> to <a href=\"https://wandb.ai\" target=\"_blank\">Weights & Biases</a> <a href=\"https://docs.wandb.com/integrations/jupyter.html\" target=\"_blank\">(Documentation)</a>.<br/>\n                Project page: <a href=\"https://wandb.ai/devcore/Metriken%20Bauwesen%20Sweeps\" target=\"_blank\">https://wandb.ai/devcore/Metriken%20Bauwesen%20Sweeps</a><br/>\n                Sweep page: <a href=\"https://wandb.ai/devcore/Metriken%20Bauwesen%20Sweeps/sweeps/461ybom6\" target=\"_blank\">https://wandb.ai/devcore/Metriken%20Bauwesen%20Sweeps/sweeps/461ybom6</a><br/>\nRun page: <a href=\"https://wandb.ai/devcore/Metriken%20Bauwesen%20Sweeps/runs/jsfualgf\" target=\"_blank\">https://wandb.ai/devcore/Metriken%20Bauwesen%20Sweeps/runs/jsfualgf</a><br/>\n                Run data is saved locally in <code>C:\\Daten\\Development\\FHNW\\ip5-metriken-bauwesen\\src\\weight_and_bias\\wandb\\run-20210720_162227-jsfualgf</code><br/><br/>\n            "
     },
     "metadata": {},
     "output_type": "display_data"
    },
    {
     "name": "stdout",
     "output_type": "stream",
     "text": [
      "Location: C:\\Daten\\Development\\FHNW\\ip5-metriken-bauwesen\\export\\cluster_means.joblib\n",
      "Location: C:\\Daten\\Development\\FHNW\\ip5-metriken-bauwesen\\export\\fitted_pipeline.joblib\n"
     ]
    },
    {
     "data": {
      "text/plain": "<IPython.core.display.HTML object>",
      "text/html": "<br/>Waiting for W&B process to finish, PID 7812<br/>Program ended successfully."
     },
     "metadata": {},
     "output_type": "display_data"
    },
    {
     "data": {
      "text/plain": "VBox(children=(Label(value=' 0.00MB of 0.00MB uploaded (0.00MB deduped)\\r'), FloatProgress(value=1.0, max=1.0)…",
      "application/vnd.jupyter.widget-view+json": {
       "version_major": 2,
       "version_minor": 0,
       "model_id": "be14e24387ca4abe82da3163a680840b"
      }
     },
     "metadata": {},
     "output_type": "display_data"
    },
    {
     "data": {
      "text/plain": "<IPython.core.display.HTML object>",
      "text/html": "Find user logs for this run at: <code>C:\\Daten\\Development\\FHNW\\ip5-metriken-bauwesen\\src\\weight_and_bias\\wandb\\run-20210720_162227-jsfualgf\\logs\\debug.log</code>"
     },
     "metadata": {},
     "output_type": "display_data"
    },
    {
     "data": {
      "text/plain": "<IPython.core.display.HTML object>",
      "text/html": "Find internal logs for this run at: <code>C:\\Daten\\Development\\FHNW\\ip5-metriken-bauwesen\\src\\weight_and_bias\\wandb\\run-20210720_162227-jsfualgf\\logs\\debug-internal.log</code>"
     },
     "metadata": {},
     "output_type": "display_data"
    },
    {
     "data": {
      "text/plain": "<IPython.core.display.HTML object>",
      "text/html": "<h3>Run summary:</h3><br/><style>\n    table.wandb td:nth-child(1) { padding: 0 10px; text-align: right }\n    </style><table class=\"wandb\">\n<tr><td>r2</td><td>0.93199</td></tr><tr><td>_runtime</td><td>32</td></tr><tr><td>_timestamp</td><td>1626790979</td></tr><tr><td>_step</td><td>1</td></tr><tr><td>neg_mape</td><td>-0.16794</td></tr></table>"
     },
     "metadata": {},
     "output_type": "display_data"
    },
    {
     "data": {
      "text/plain": "<IPython.core.display.HTML object>",
      "text/html": "<h3>Run history:</h3><br/><style>\n    table.wandb td:nth-child(1) { padding: 0 10px; text-align: right }\n    </style><table class=\"wandb\">\n<tr><td>r2</td><td>▁</td></tr><tr><td>_runtime</td><td>▁▁</td></tr><tr><td>_timestamp</td><td>▁▁</td></tr><tr><td>_step</td><td>▁█</td></tr><tr><td>neg_mape</td><td>▁</td></tr></table><br/>"
     },
     "metadata": {},
     "output_type": "display_data"
    },
    {
     "data": {
      "text/plain": "<IPython.core.display.HTML object>",
      "text/html": "Synced 5 W&B file(s), 0 media file(s), 0 artifact file(s) and 0 other file(s)"
     },
     "metadata": {},
     "output_type": "display_data"
    },
    {
     "data": {
      "text/plain": "<IPython.core.display.HTML object>",
      "text/html": "\n                    <br/>Synced <strong style=\"color:#cdcd00\">easy-sweep-33</strong>: <a href=\"https://wandb.ai/devcore/Metriken%20Bauwesen%20Sweeps/runs/jsfualgf\" target=\"_blank\">https://wandb.ai/devcore/Metriken%20Bauwesen%20Sweeps/runs/jsfualgf</a><br/>\n                "
     },
     "metadata": {},
     "output_type": "display_data"
    },
    {
     "name": "stderr",
     "output_type": "stream",
     "text": [
      "\u001B[34m\u001B[1mwandb\u001B[0m: Agent Starting Run: pnkwjn7q with config:\n",
      "\u001B[34m\u001B[1mwandb\u001B[0m: \tlearning_rate: 0.11832950633924472\n",
      "\u001B[34m\u001B[1mwandb\u001B[0m: \tmax_depth: 30\n",
      "\u001B[34m\u001B[1mwandb\u001B[0m: \tmin_samples_split: 15\n",
      "\u001B[34m\u001B[1mwandb\u001B[0m: \tn_estimators: 2048\n",
      "\u001B[34m\u001B[1mwandb\u001B[0m: \tsubsample: 0.7544009006364553\n"
     ]
    },
    {
     "data": {
      "text/plain": "<IPython.core.display.HTML object>",
      "text/html": "\n                Tracking run with wandb version 0.11.0<br/>\n                Syncing run <strong style=\"color:#cdcd00\">unique-sweep-34</strong> to <a href=\"https://wandb.ai\" target=\"_blank\">Weights & Biases</a> <a href=\"https://docs.wandb.com/integrations/jupyter.html\" target=\"_blank\">(Documentation)</a>.<br/>\n                Project page: <a href=\"https://wandb.ai/devcore/Metriken%20Bauwesen%20Sweeps\" target=\"_blank\">https://wandb.ai/devcore/Metriken%20Bauwesen%20Sweeps</a><br/>\n                Sweep page: <a href=\"https://wandb.ai/devcore/Metriken%20Bauwesen%20Sweeps/sweeps/461ybom6\" target=\"_blank\">https://wandb.ai/devcore/Metriken%20Bauwesen%20Sweeps/sweeps/461ybom6</a><br/>\nRun page: <a href=\"https://wandb.ai/devcore/Metriken%20Bauwesen%20Sweeps/runs/pnkwjn7q\" target=\"_blank\">https://wandb.ai/devcore/Metriken%20Bauwesen%20Sweeps/runs/pnkwjn7q</a><br/>\n                Run data is saved locally in <code>C:\\Daten\\Development\\FHNW\\ip5-metriken-bauwesen\\src\\weight_and_bias\\wandb\\run-20210720_162303-pnkwjn7q</code><br/><br/>\n            "
     },
     "metadata": {},
     "output_type": "display_data"
    },
    {
     "name": "stdout",
     "output_type": "stream",
     "text": [
      "Location: C:\\Daten\\Development\\FHNW\\ip5-metriken-bauwesen\\export\\cluster_means.joblib\n",
      "Location: C:\\Daten\\Development\\FHNW\\ip5-metriken-bauwesen\\export\\fitted_pipeline.joblib\n"
     ]
    },
    {
     "data": {
      "text/plain": "<IPython.core.display.HTML object>",
      "text/html": "<br/>Waiting for W&B process to finish, PID 9072<br/>Program ended successfully."
     },
     "metadata": {},
     "output_type": "display_data"
    },
    {
     "data": {
      "text/plain": "VBox(children=(Label(value=' 0.00MB of 0.00MB uploaded (0.00MB deduped)\\r'), FloatProgress(value=1.0, max=1.0)…",
      "application/vnd.jupyter.widget-view+json": {
       "version_major": 2,
       "version_minor": 0,
       "model_id": "af8331a84a5e443c969aa54288babeb1"
      }
     },
     "metadata": {},
     "output_type": "display_data"
    },
    {
     "data": {
      "text/plain": "<IPython.core.display.HTML object>",
      "text/html": "Find user logs for this run at: <code>C:\\Daten\\Development\\FHNW\\ip5-metriken-bauwesen\\src\\weight_and_bias\\wandb\\run-20210720_162303-pnkwjn7q\\logs\\debug.log</code>"
     },
     "metadata": {},
     "output_type": "display_data"
    },
    {
     "data": {
      "text/plain": "<IPython.core.display.HTML object>",
      "text/html": "Find internal logs for this run at: <code>C:\\Daten\\Development\\FHNW\\ip5-metriken-bauwesen\\src\\weight_and_bias\\wandb\\run-20210720_162303-pnkwjn7q\\logs\\debug-internal.log</code>"
     },
     "metadata": {},
     "output_type": "display_data"
    },
    {
     "data": {
      "text/plain": "<IPython.core.display.HTML object>",
      "text/html": "<h3>Run summary:</h3><br/><style>\n    table.wandb td:nth-child(1) { padding: 0 10px; text-align: right }\n    </style><table class=\"wandb\">\n<tr><td>r2</td><td>0.92689</td></tr><tr><td>_runtime</td><td>41</td></tr><tr><td>_timestamp</td><td>1626791024</td></tr><tr><td>_step</td><td>1</td></tr><tr><td>neg_mape</td><td>-0.17236</td></tr></table>"
     },
     "metadata": {},
     "output_type": "display_data"
    },
    {
     "data": {
      "text/plain": "<IPython.core.display.HTML object>",
      "text/html": "<h3>Run history:</h3><br/><style>\n    table.wandb td:nth-child(1) { padding: 0 10px; text-align: right }\n    </style><table class=\"wandb\">\n<tr><td>r2</td><td>▁</td></tr><tr><td>_runtime</td><td>▁▁</td></tr><tr><td>_timestamp</td><td>▁▁</td></tr><tr><td>_step</td><td>▁█</td></tr><tr><td>neg_mape</td><td>▁</td></tr></table><br/>"
     },
     "metadata": {},
     "output_type": "display_data"
    },
    {
     "data": {
      "text/plain": "<IPython.core.display.HTML object>",
      "text/html": "Synced 5 W&B file(s), 0 media file(s), 0 artifact file(s) and 0 other file(s)"
     },
     "metadata": {},
     "output_type": "display_data"
    },
    {
     "data": {
      "text/plain": "<IPython.core.display.HTML object>",
      "text/html": "\n                    <br/>Synced <strong style=\"color:#cdcd00\">unique-sweep-34</strong>: <a href=\"https://wandb.ai/devcore/Metriken%20Bauwesen%20Sweeps/runs/pnkwjn7q\" target=\"_blank\">https://wandb.ai/devcore/Metriken%20Bauwesen%20Sweeps/runs/pnkwjn7q</a><br/>\n                "
     },
     "metadata": {},
     "output_type": "display_data"
    },
    {
     "name": "stderr",
     "output_type": "stream",
     "text": [
      "\u001B[34m\u001B[1mwandb\u001B[0m: Agent Starting Run: 20q64rrn with config:\n",
      "\u001B[34m\u001B[1mwandb\u001B[0m: \tlearning_rate: 0.045146631510598854\n",
      "\u001B[34m\u001B[1mwandb\u001B[0m: \tmax_depth: 20\n",
      "\u001B[34m\u001B[1mwandb\u001B[0m: \tmin_samples_split: 8\n",
      "\u001B[34m\u001B[1mwandb\u001B[0m: \tn_estimators: 512\n",
      "\u001B[34m\u001B[1mwandb\u001B[0m: \tsubsample: 0.5269647461175168\n"
     ]
    },
    {
     "data": {
      "text/plain": "<IPython.core.display.HTML object>",
      "text/html": "\n                Tracking run with wandb version 0.11.0<br/>\n                Syncing run <strong style=\"color:#cdcd00\">upbeat-sweep-35</strong> to <a href=\"https://wandb.ai\" target=\"_blank\">Weights & Biases</a> <a href=\"https://docs.wandb.com/integrations/jupyter.html\" target=\"_blank\">(Documentation)</a>.<br/>\n                Project page: <a href=\"https://wandb.ai/devcore/Metriken%20Bauwesen%20Sweeps\" target=\"_blank\">https://wandb.ai/devcore/Metriken%20Bauwesen%20Sweeps</a><br/>\n                Sweep page: <a href=\"https://wandb.ai/devcore/Metriken%20Bauwesen%20Sweeps/sweeps/461ybom6\" target=\"_blank\">https://wandb.ai/devcore/Metriken%20Bauwesen%20Sweeps/sweeps/461ybom6</a><br/>\nRun page: <a href=\"https://wandb.ai/devcore/Metriken%20Bauwesen%20Sweeps/runs/20q64rrn\" target=\"_blank\">https://wandb.ai/devcore/Metriken%20Bauwesen%20Sweeps/runs/20q64rrn</a><br/>\n                Run data is saved locally in <code>C:\\Daten\\Development\\FHNW\\ip5-metriken-bauwesen\\src\\weight_and_bias\\wandb\\run-20210720_162348-20q64rrn</code><br/><br/>\n            "
     },
     "metadata": {},
     "output_type": "display_data"
    },
    {
     "name": "stdout",
     "output_type": "stream",
     "text": [
      "Location: C:\\Daten\\Development\\FHNW\\ip5-metriken-bauwesen\\export\\cluster_means.joblib\n",
      "Location: C:\\Daten\\Development\\FHNW\\ip5-metriken-bauwesen\\export\\fitted_pipeline.joblib\n"
     ]
    },
    {
     "data": {
      "text/plain": "<IPython.core.display.HTML object>",
      "text/html": "<br/>Waiting for W&B process to finish, PID 11380<br/>Program ended successfully."
     },
     "metadata": {},
     "output_type": "display_data"
    },
    {
     "data": {
      "text/plain": "VBox(children=(Label(value=' 0.00MB of 0.00MB uploaded (0.00MB deduped)\\r'), FloatProgress(value=1.0, max=1.0)…",
      "application/vnd.jupyter.widget-view+json": {
       "version_major": 2,
       "version_minor": 0,
       "model_id": "156c8cc728154dafbe69ed941bb967f9"
      }
     },
     "metadata": {},
     "output_type": "display_data"
    },
    {
     "data": {
      "text/plain": "<IPython.core.display.HTML object>",
      "text/html": "Find user logs for this run at: <code>C:\\Daten\\Development\\FHNW\\ip5-metriken-bauwesen\\src\\weight_and_bias\\wandb\\run-20210720_162348-20q64rrn\\logs\\debug.log</code>"
     },
     "metadata": {},
     "output_type": "display_data"
    },
    {
     "data": {
      "text/plain": "<IPython.core.display.HTML object>",
      "text/html": "Find internal logs for this run at: <code>C:\\Daten\\Development\\FHNW\\ip5-metriken-bauwesen\\src\\weight_and_bias\\wandb\\run-20210720_162348-20q64rrn\\logs\\debug-internal.log</code>"
     },
     "metadata": {},
     "output_type": "display_data"
    },
    {
     "data": {
      "text/plain": "<IPython.core.display.HTML object>",
      "text/html": "<h3>Run summary:</h3><br/><style>\n    table.wandb td:nth-child(1) { padding: 0 10px; text-align: right }\n    </style><table class=\"wandb\">\n<tr><td>r2</td><td>0.93363</td></tr><tr><td>_runtime</td><td>11</td></tr><tr><td>_timestamp</td><td>1626791040</td></tr><tr><td>_step</td><td>1</td></tr><tr><td>neg_mape</td><td>-0.1662</td></tr></table>"
     },
     "metadata": {},
     "output_type": "display_data"
    },
    {
     "data": {
      "text/plain": "<IPython.core.display.HTML object>",
      "text/html": "<h3>Run history:</h3><br/><style>\n    table.wandb td:nth-child(1) { padding: 0 10px; text-align: right }\n    </style><table class=\"wandb\">\n<tr><td>r2</td><td>▁</td></tr><tr><td>_runtime</td><td>▁▁</td></tr><tr><td>_timestamp</td><td>▁▁</td></tr><tr><td>_step</td><td>▁█</td></tr><tr><td>neg_mape</td><td>▁</td></tr></table><br/>"
     },
     "metadata": {},
     "output_type": "display_data"
    },
    {
     "data": {
      "text/plain": "<IPython.core.display.HTML object>",
      "text/html": "Synced 5 W&B file(s), 0 media file(s), 0 artifact file(s) and 0 other file(s)"
     },
     "metadata": {},
     "output_type": "display_data"
    },
    {
     "data": {
      "text/plain": "<IPython.core.display.HTML object>",
      "text/html": "\n                    <br/>Synced <strong style=\"color:#cdcd00\">upbeat-sweep-35</strong>: <a href=\"https://wandb.ai/devcore/Metriken%20Bauwesen%20Sweeps/runs/20q64rrn\" target=\"_blank\">https://wandb.ai/devcore/Metriken%20Bauwesen%20Sweeps/runs/20q64rrn</a><br/>\n                "
     },
     "metadata": {},
     "output_type": "display_data"
    },
    {
     "name": "stderr",
     "output_type": "stream",
     "text": [
      "\u001B[34m\u001B[1mwandb\u001B[0m: Agent Starting Run: fwbr145e with config:\n",
      "\u001B[34m\u001B[1mwandb\u001B[0m: \tlearning_rate: 0.12834888973614972\n",
      "\u001B[34m\u001B[1mwandb\u001B[0m: \tmax_depth: 15\n",
      "\u001B[34m\u001B[1mwandb\u001B[0m: \tmin_samples_split: 10\n",
      "\u001B[34m\u001B[1mwandb\u001B[0m: \tn_estimators: 1536\n",
      "\u001B[34m\u001B[1mwandb\u001B[0m: \tsubsample: 0.7305763629102509\n"
     ]
    },
    {
     "data": {
      "text/plain": "<IPython.core.display.HTML object>",
      "text/html": "\n                Tracking run with wandb version 0.11.0<br/>\n                Syncing run <strong style=\"color:#cdcd00\">rich-sweep-36</strong> to <a href=\"https://wandb.ai\" target=\"_blank\">Weights & Biases</a> <a href=\"https://docs.wandb.com/integrations/jupyter.html\" target=\"_blank\">(Documentation)</a>.<br/>\n                Project page: <a href=\"https://wandb.ai/devcore/Metriken%20Bauwesen%20Sweeps\" target=\"_blank\">https://wandb.ai/devcore/Metriken%20Bauwesen%20Sweeps</a><br/>\n                Sweep page: <a href=\"https://wandb.ai/devcore/Metriken%20Bauwesen%20Sweeps/sweeps/461ybom6\" target=\"_blank\">https://wandb.ai/devcore/Metriken%20Bauwesen%20Sweeps/sweeps/461ybom6</a><br/>\nRun page: <a href=\"https://wandb.ai/devcore/Metriken%20Bauwesen%20Sweeps/runs/fwbr145e\" target=\"_blank\">https://wandb.ai/devcore/Metriken%20Bauwesen%20Sweeps/runs/fwbr145e</a><br/>\n                Run data is saved locally in <code>C:\\Daten\\Development\\FHNW\\ip5-metriken-bauwesen\\src\\weight_and_bias\\wandb\\run-20210720_162405-fwbr145e</code><br/><br/>\n            "
     },
     "metadata": {},
     "output_type": "display_data"
    },
    {
     "name": "stdout",
     "output_type": "stream",
     "text": [
      "Location: C:\\Daten\\Development\\FHNW\\ip5-metriken-bauwesen\\export\\cluster_means.joblib\n",
      "Location: C:\\Daten\\Development\\FHNW\\ip5-metriken-bauwesen\\export\\fitted_pipeline.joblib\n"
     ]
    },
    {
     "data": {
      "text/plain": "<IPython.core.display.HTML object>",
      "text/html": "<br/>Waiting for W&B process to finish, PID 8332<br/>Program ended successfully."
     },
     "metadata": {},
     "output_type": "display_data"
    },
    {
     "data": {
      "text/plain": "VBox(children=(Label(value=' 0.00MB of 0.00MB uploaded (0.00MB deduped)\\r'), FloatProgress(value=1.0, max=1.0)…",
      "application/vnd.jupyter.widget-view+json": {
       "version_major": 2,
       "version_minor": 0,
       "model_id": "b0dd8195ef6d4c53abf3c076df31af55"
      }
     },
     "metadata": {},
     "output_type": "display_data"
    },
    {
     "data": {
      "text/plain": "<IPython.core.display.HTML object>",
      "text/html": "Find user logs for this run at: <code>C:\\Daten\\Development\\FHNW\\ip5-metriken-bauwesen\\src\\weight_and_bias\\wandb\\run-20210720_162405-fwbr145e\\logs\\debug.log</code>"
     },
     "metadata": {},
     "output_type": "display_data"
    },
    {
     "data": {
      "text/plain": "<IPython.core.display.HTML object>",
      "text/html": "Find internal logs for this run at: <code>C:\\Daten\\Development\\FHNW\\ip5-metriken-bauwesen\\src\\weight_and_bias\\wandb\\run-20210720_162405-fwbr145e\\logs\\debug-internal.log</code>"
     },
     "metadata": {},
     "output_type": "display_data"
    },
    {
     "data": {
      "text/plain": "<IPython.core.display.HTML object>",
      "text/html": "<h3>Run summary:</h3><br/><style>\n    table.wandb td:nth-child(1) { padding: 0 10px; text-align: right }\n    </style><table class=\"wandb\">\n<tr><td>r2</td><td>0.92283</td></tr><tr><td>_runtime</td><td>33</td></tr><tr><td>_timestamp</td><td>1626791078</td></tr><tr><td>_step</td><td>1</td></tr><tr><td>neg_mape</td><td>-0.1714</td></tr></table>"
     },
     "metadata": {},
     "output_type": "display_data"
    },
    {
     "data": {
      "text/plain": "<IPython.core.display.HTML object>",
      "text/html": "<h3>Run history:</h3><br/><style>\n    table.wandb td:nth-child(1) { padding: 0 10px; text-align: right }\n    </style><table class=\"wandb\">\n<tr><td>r2</td><td>▁</td></tr><tr><td>_runtime</td><td>▁▁</td></tr><tr><td>_timestamp</td><td>▁▁</td></tr><tr><td>_step</td><td>▁█</td></tr><tr><td>neg_mape</td><td>▁</td></tr></table><br/>"
     },
     "metadata": {},
     "output_type": "display_data"
    },
    {
     "data": {
      "text/plain": "<IPython.core.display.HTML object>",
      "text/html": "Synced 5 W&B file(s), 0 media file(s), 0 artifact file(s) and 0 other file(s)"
     },
     "metadata": {},
     "output_type": "display_data"
    },
    {
     "data": {
      "text/plain": "<IPython.core.display.HTML object>",
      "text/html": "\n                    <br/>Synced <strong style=\"color:#cdcd00\">rich-sweep-36</strong>: <a href=\"https://wandb.ai/devcore/Metriken%20Bauwesen%20Sweeps/runs/fwbr145e\" target=\"_blank\">https://wandb.ai/devcore/Metriken%20Bauwesen%20Sweeps/runs/fwbr145e</a><br/>\n                "
     },
     "metadata": {},
     "output_type": "display_data"
    },
    {
     "name": "stderr",
     "output_type": "stream",
     "text": [
      "\u001B[34m\u001B[1mwandb\u001B[0m: Agent Starting Run: n2j8hj3n with config:\n",
      "\u001B[34m\u001B[1mwandb\u001B[0m: \tlearning_rate: 0.024128957047676217\n",
      "\u001B[34m\u001B[1mwandb\u001B[0m: \tmax_depth: 10\n",
      "\u001B[34m\u001B[1mwandb\u001B[0m: \tmin_samples_split: 5\n",
      "\u001B[34m\u001B[1mwandb\u001B[0m: \tn_estimators: 768\n",
      "\u001B[34m\u001B[1mwandb\u001B[0m: \tsubsample: 0.5263608860937042\n"
     ]
    },
    {
     "data": {
      "text/plain": "<IPython.core.display.HTML object>",
      "text/html": "\n                Tracking run with wandb version 0.11.0<br/>\n                Syncing run <strong style=\"color:#cdcd00\">frosty-sweep-37</strong> to <a href=\"https://wandb.ai\" target=\"_blank\">Weights & Biases</a> <a href=\"https://docs.wandb.com/integrations/jupyter.html\" target=\"_blank\">(Documentation)</a>.<br/>\n                Project page: <a href=\"https://wandb.ai/devcore/Metriken%20Bauwesen%20Sweeps\" target=\"_blank\">https://wandb.ai/devcore/Metriken%20Bauwesen%20Sweeps</a><br/>\n                Sweep page: <a href=\"https://wandb.ai/devcore/Metriken%20Bauwesen%20Sweeps/sweeps/461ybom6\" target=\"_blank\">https://wandb.ai/devcore/Metriken%20Bauwesen%20Sweeps/sweeps/461ybom6</a><br/>\nRun page: <a href=\"https://wandb.ai/devcore/Metriken%20Bauwesen%20Sweeps/runs/n2j8hj3n\" target=\"_blank\">https://wandb.ai/devcore/Metriken%20Bauwesen%20Sweeps/runs/n2j8hj3n</a><br/>\n                Run data is saved locally in <code>C:\\Daten\\Development\\FHNW\\ip5-metriken-bauwesen\\src\\weight_and_bias\\wandb\\run-20210720_162443-n2j8hj3n</code><br/><br/>\n            "
     },
     "metadata": {},
     "output_type": "display_data"
    },
    {
     "name": "stdout",
     "output_type": "stream",
     "text": [
      "Location: C:\\Daten\\Development\\FHNW\\ip5-metriken-bauwesen\\export\\cluster_means.joblib\n",
      "Location: C:\\Daten\\Development\\FHNW\\ip5-metriken-bauwesen\\export\\fitted_pipeline.joblib\n"
     ]
    },
    {
     "data": {
      "text/plain": "<IPython.core.display.HTML object>",
      "text/html": "<br/>Waiting for W&B process to finish, PID 13120<br/>Program ended successfully."
     },
     "metadata": {},
     "output_type": "display_data"
    },
    {
     "data": {
      "text/plain": "VBox(children=(Label(value=' 0.00MB of 0.00MB uploaded (0.00MB deduped)\\r'), FloatProgress(value=1.0, max=1.0)…",
      "application/vnd.jupyter.widget-view+json": {
       "version_major": 2,
       "version_minor": 0,
       "model_id": "ef90a6e3085d44139d06312f031bc48f"
      }
     },
     "metadata": {},
     "output_type": "display_data"
    },
    {
     "data": {
      "text/plain": "<IPython.core.display.HTML object>",
      "text/html": "Find user logs for this run at: <code>C:\\Daten\\Development\\FHNW\\ip5-metriken-bauwesen\\src\\weight_and_bias\\wandb\\run-20210720_162443-n2j8hj3n\\logs\\debug.log</code>"
     },
     "metadata": {},
     "output_type": "display_data"
    },
    {
     "data": {
      "text/plain": "<IPython.core.display.HTML object>",
      "text/html": "Find internal logs for this run at: <code>C:\\Daten\\Development\\FHNW\\ip5-metriken-bauwesen\\src\\weight_and_bias\\wandb\\run-20210720_162443-n2j8hj3n\\logs\\debug-internal.log</code>"
     },
     "metadata": {},
     "output_type": "display_data"
    },
    {
     "data": {
      "text/plain": "<IPython.core.display.HTML object>",
      "text/html": "<h3>Run summary:</h3><br/><style>\n    table.wandb td:nth-child(1) { padding: 0 10px; text-align: right }\n    </style><table class=\"wandb\">\n<tr><td>r2</td><td>0.93587</td></tr><tr><td>_runtime</td><td>13</td></tr><tr><td>_timestamp</td><td>1626791096</td></tr><tr><td>_step</td><td>1</td></tr><tr><td>neg_mape</td><td>-0.164</td></tr></table>"
     },
     "metadata": {},
     "output_type": "display_data"
    },
    {
     "data": {
      "text/plain": "<IPython.core.display.HTML object>",
      "text/html": "<h3>Run history:</h3><br/><style>\n    table.wandb td:nth-child(1) { padding: 0 10px; text-align: right }\n    </style><table class=\"wandb\">\n<tr><td>r2</td><td>▁</td></tr><tr><td>_runtime</td><td>▁▁</td></tr><tr><td>_timestamp</td><td>▁▁</td></tr><tr><td>_step</td><td>▁█</td></tr><tr><td>neg_mape</td><td>▁</td></tr></table><br/>"
     },
     "metadata": {},
     "output_type": "display_data"
    },
    {
     "data": {
      "text/plain": "<IPython.core.display.HTML object>",
      "text/html": "Synced 5 W&B file(s), 0 media file(s), 0 artifact file(s) and 0 other file(s)"
     },
     "metadata": {},
     "output_type": "display_data"
    },
    {
     "data": {
      "text/plain": "<IPython.core.display.HTML object>",
      "text/html": "\n                    <br/>Synced <strong style=\"color:#cdcd00\">frosty-sweep-37</strong>: <a href=\"https://wandb.ai/devcore/Metriken%20Bauwesen%20Sweeps/runs/n2j8hj3n\" target=\"_blank\">https://wandb.ai/devcore/Metriken%20Bauwesen%20Sweeps/runs/n2j8hj3n</a><br/>\n                "
     },
     "metadata": {},
     "output_type": "display_data"
    },
    {
     "name": "stderr",
     "output_type": "stream",
     "text": [
      "\u001B[34m\u001B[1mwandb\u001B[0m: Agent Starting Run: rk2ubihz with config:\n",
      "\u001B[34m\u001B[1mwandb\u001B[0m: \tlearning_rate: 0.06117146273923997\n",
      "\u001B[34m\u001B[1mwandb\u001B[0m: \tmax_depth: 20\n",
      "\u001B[34m\u001B[1mwandb\u001B[0m: \tmin_samples_split: 8\n",
      "\u001B[34m\u001B[1mwandb\u001B[0m: \tn_estimators: 1536\n",
      "\u001B[34m\u001B[1mwandb\u001B[0m: \tsubsample: 0.6928527932595017\n"
     ]
    },
    {
     "data": {
      "text/plain": "<IPython.core.display.HTML object>",
      "text/html": "\n                Tracking run with wandb version 0.11.0<br/>\n                Syncing run <strong style=\"color:#cdcd00\">generous-sweep-38</strong> to <a href=\"https://wandb.ai\" target=\"_blank\">Weights & Biases</a> <a href=\"https://docs.wandb.com/integrations/jupyter.html\" target=\"_blank\">(Documentation)</a>.<br/>\n                Project page: <a href=\"https://wandb.ai/devcore/Metriken%20Bauwesen%20Sweeps\" target=\"_blank\">https://wandb.ai/devcore/Metriken%20Bauwesen%20Sweeps</a><br/>\n                Sweep page: <a href=\"https://wandb.ai/devcore/Metriken%20Bauwesen%20Sweeps/sweeps/461ybom6\" target=\"_blank\">https://wandb.ai/devcore/Metriken%20Bauwesen%20Sweeps/sweeps/461ybom6</a><br/>\nRun page: <a href=\"https://wandb.ai/devcore/Metriken%20Bauwesen%20Sweeps/runs/rk2ubihz\" target=\"_blank\">https://wandb.ai/devcore/Metriken%20Bauwesen%20Sweeps/runs/rk2ubihz</a><br/>\n                Run data is saved locally in <code>C:\\Daten\\Development\\FHNW\\ip5-metriken-bauwesen\\src\\weight_and_bias\\wandb\\run-20210720_162500-rk2ubihz</code><br/><br/>\n            "
     },
     "metadata": {},
     "output_type": "display_data"
    },
    {
     "name": "stdout",
     "output_type": "stream",
     "text": [
      "Location: C:\\Daten\\Development\\FHNW\\ip5-metriken-bauwesen\\export\\cluster_means.joblib\n",
      "Location: C:\\Daten\\Development\\FHNW\\ip5-metriken-bauwesen\\export\\fitted_pipeline.joblib\n"
     ]
    },
    {
     "data": {
      "text/plain": "<IPython.core.display.HTML object>",
      "text/html": "<br/>Waiting for W&B process to finish, PID 2924<br/>Program ended successfully."
     },
     "metadata": {},
     "output_type": "display_data"
    },
    {
     "data": {
      "text/plain": "VBox(children=(Label(value=' 0.00MB of 0.00MB uploaded (0.00MB deduped)\\r'), FloatProgress(value=1.0, max=1.0)…",
      "application/vnd.jupyter.widget-view+json": {
       "version_major": 2,
       "version_minor": 0,
       "model_id": "dc434595750a4d9482e2636c798560c4"
      }
     },
     "metadata": {},
     "output_type": "display_data"
    },
    {
     "data": {
      "text/plain": "<IPython.core.display.HTML object>",
      "text/html": "Find user logs for this run at: <code>C:\\Daten\\Development\\FHNW\\ip5-metriken-bauwesen\\src\\weight_and_bias\\wandb\\run-20210720_162500-rk2ubihz\\logs\\debug.log</code>"
     },
     "metadata": {},
     "output_type": "display_data"
    },
    {
     "data": {
      "text/plain": "<IPython.core.display.HTML object>",
      "text/html": "Find internal logs for this run at: <code>C:\\Daten\\Development\\FHNW\\ip5-metriken-bauwesen\\src\\weight_and_bias\\wandb\\run-20210720_162500-rk2ubihz\\logs\\debug-internal.log</code>"
     },
     "metadata": {},
     "output_type": "display_data"
    },
    {
     "data": {
      "text/plain": "<IPython.core.display.HTML object>",
      "text/html": "<h3>Run summary:</h3><br/><style>\n    table.wandb td:nth-child(1) { padding: 0 10px; text-align: right }\n    </style><table class=\"wandb\">\n<tr><td>r2</td><td>0.92794</td></tr><tr><td>_runtime</td><td>51</td></tr><tr><td>_timestamp</td><td>1626791151</td></tr><tr><td>_step</td><td>1</td></tr><tr><td>neg_mape</td><td>-0.16704</td></tr></table>"
     },
     "metadata": {},
     "output_type": "display_data"
    },
    {
     "data": {
      "text/plain": "<IPython.core.display.HTML object>",
      "text/html": "<h3>Run history:</h3><br/><style>\n    table.wandb td:nth-child(1) { padding: 0 10px; text-align: right }\n    </style><table class=\"wandb\">\n<tr><td>r2</td><td>▁</td></tr><tr><td>_runtime</td><td>▁▁</td></tr><tr><td>_timestamp</td><td>▁▁</td></tr><tr><td>_step</td><td>▁█</td></tr><tr><td>neg_mape</td><td>▁</td></tr></table><br/>"
     },
     "metadata": {},
     "output_type": "display_data"
    },
    {
     "data": {
      "text/plain": "<IPython.core.display.HTML object>",
      "text/html": "Synced 5 W&B file(s), 0 media file(s), 0 artifact file(s) and 0 other file(s)"
     },
     "metadata": {},
     "output_type": "display_data"
    },
    {
     "data": {
      "text/plain": "<IPython.core.display.HTML object>",
      "text/html": "\n                    <br/>Synced <strong style=\"color:#cdcd00\">generous-sweep-38</strong>: <a href=\"https://wandb.ai/devcore/Metriken%20Bauwesen%20Sweeps/runs/rk2ubihz\" target=\"_blank\">https://wandb.ai/devcore/Metriken%20Bauwesen%20Sweeps/runs/rk2ubihz</a><br/>\n                "
     },
     "metadata": {},
     "output_type": "display_data"
    },
    {
     "name": "stderr",
     "output_type": "stream",
     "text": [
      "\u001B[34m\u001B[1mwandb\u001B[0m: Agent Starting Run: zeuu52ir with config:\n",
      "\u001B[34m\u001B[1mwandb\u001B[0m: \tlearning_rate: 0.1314954955130842\n",
      "\u001B[34m\u001B[1mwandb\u001B[0m: \tmax_depth: 10\n",
      "\u001B[34m\u001B[1mwandb\u001B[0m: \tmin_samples_split: 6\n",
      "\u001B[34m\u001B[1mwandb\u001B[0m: \tn_estimators: 512\n",
      "\u001B[34m\u001B[1mwandb\u001B[0m: \tsubsample: 0.6201222929278382\n"
     ]
    },
    {
     "data": {
      "text/plain": "<IPython.core.display.HTML object>",
      "text/html": "\n                Tracking run with wandb version 0.11.0<br/>\n                Syncing run <strong style=\"color:#cdcd00\">trim-sweep-39</strong> to <a href=\"https://wandb.ai\" target=\"_blank\">Weights & Biases</a> <a href=\"https://docs.wandb.com/integrations/jupyter.html\" target=\"_blank\">(Documentation)</a>.<br/>\n                Project page: <a href=\"https://wandb.ai/devcore/Metriken%20Bauwesen%20Sweeps\" target=\"_blank\">https://wandb.ai/devcore/Metriken%20Bauwesen%20Sweeps</a><br/>\n                Sweep page: <a href=\"https://wandb.ai/devcore/Metriken%20Bauwesen%20Sweeps/sweeps/461ybom6\" target=\"_blank\">https://wandb.ai/devcore/Metriken%20Bauwesen%20Sweeps/sweeps/461ybom6</a><br/>\nRun page: <a href=\"https://wandb.ai/devcore/Metriken%20Bauwesen%20Sweeps/runs/zeuu52ir\" target=\"_blank\">https://wandb.ai/devcore/Metriken%20Bauwesen%20Sweeps/runs/zeuu52ir</a><br/>\n                Run data is saved locally in <code>C:\\Daten\\Development\\FHNW\\ip5-metriken-bauwesen\\src\\weight_and_bias\\wandb\\run-20210720_162556-zeuu52ir</code><br/><br/>\n            "
     },
     "metadata": {},
     "output_type": "display_data"
    },
    {
     "name": "stdout",
     "output_type": "stream",
     "text": [
      "Location: C:\\Daten\\Development\\FHNW\\ip5-metriken-bauwesen\\export\\cluster_means.joblib\n",
      "Location: C:\\Daten\\Development\\FHNW\\ip5-metriken-bauwesen\\export\\fitted_pipeline.joblib\n"
     ]
    },
    {
     "data": {
      "text/plain": "<IPython.core.display.HTML object>",
      "text/html": "<br/>Waiting for W&B process to finish, PID 4608<br/>Program ended successfully."
     },
     "metadata": {},
     "output_type": "display_data"
    },
    {
     "data": {
      "text/plain": "VBox(children=(Label(value=' 0.00MB of 0.00MB uploaded (0.00MB deduped)\\r'), FloatProgress(value=1.0, max=1.0)…",
      "application/vnd.jupyter.widget-view+json": {
       "version_major": 2,
       "version_minor": 0,
       "model_id": "adf1eb63edc74e7d8e16e0a4b6a6bf2d"
      }
     },
     "metadata": {},
     "output_type": "display_data"
    },
    {
     "data": {
      "text/plain": "<IPython.core.display.HTML object>",
      "text/html": "Find user logs for this run at: <code>C:\\Daten\\Development\\FHNW\\ip5-metriken-bauwesen\\src\\weight_and_bias\\wandb\\run-20210720_162556-zeuu52ir\\logs\\debug.log</code>"
     },
     "metadata": {},
     "output_type": "display_data"
    },
    {
     "data": {
      "text/plain": "<IPython.core.display.HTML object>",
      "text/html": "Find internal logs for this run at: <code>C:\\Daten\\Development\\FHNW\\ip5-metriken-bauwesen\\src\\weight_and_bias\\wandb\\run-20210720_162556-zeuu52ir\\logs\\debug-internal.log</code>"
     },
     "metadata": {},
     "output_type": "display_data"
    },
    {
     "data": {
      "text/plain": "<IPython.core.display.HTML object>",
      "text/html": "<h3>Run summary:</h3><br/><style>\n    table.wandb td:nth-child(1) { padding: 0 10px; text-align: right }\n    </style><table class=\"wandb\">\n<tr><td>r2</td><td>0.92195</td></tr><tr><td>_runtime</td><td>15</td></tr><tr><td>_timestamp</td><td>1626791171</td></tr><tr><td>_step</td><td>1</td></tr><tr><td>neg_mape</td><td>-0.1702</td></tr></table>"
     },
     "metadata": {},
     "output_type": "display_data"
    },
    {
     "data": {
      "text/plain": "<IPython.core.display.HTML object>",
      "text/html": "<h3>Run history:</h3><br/><style>\n    table.wandb td:nth-child(1) { padding: 0 10px; text-align: right }\n    </style><table class=\"wandb\">\n<tr><td>r2</td><td>▁</td></tr><tr><td>_runtime</td><td>▁▁</td></tr><tr><td>_timestamp</td><td>▁▁</td></tr><tr><td>_step</td><td>▁█</td></tr><tr><td>neg_mape</td><td>▁</td></tr></table><br/>"
     },
     "metadata": {},
     "output_type": "display_data"
    },
    {
     "data": {
      "text/plain": "<IPython.core.display.HTML object>",
      "text/html": "Synced 5 W&B file(s), 0 media file(s), 0 artifact file(s) and 0 other file(s)"
     },
     "metadata": {},
     "output_type": "display_data"
    },
    {
     "data": {
      "text/plain": "<IPython.core.display.HTML object>",
      "text/html": "\n                    <br/>Synced <strong style=\"color:#cdcd00\">trim-sweep-39</strong>: <a href=\"https://wandb.ai/devcore/Metriken%20Bauwesen%20Sweeps/runs/zeuu52ir\" target=\"_blank\">https://wandb.ai/devcore/Metriken%20Bauwesen%20Sweeps/runs/zeuu52ir</a><br/>\n                "
     },
     "metadata": {},
     "output_type": "display_data"
    },
    {
     "name": "stderr",
     "output_type": "stream",
     "text": [
      "\u001B[34m\u001B[1mwandb\u001B[0m: Agent Starting Run: e8tzvklk with config:\n",
      "\u001B[34m\u001B[1mwandb\u001B[0m: \tlearning_rate: 0.040885924399365774\n",
      "\u001B[34m\u001B[1mwandb\u001B[0m: \tmax_depth: 30\n",
      "\u001B[34m\u001B[1mwandb\u001B[0m: \tmin_samples_split: 5\n",
      "\u001B[34m\u001B[1mwandb\u001B[0m: \tn_estimators: 2048\n",
      "\u001B[34m\u001B[1mwandb\u001B[0m: \tsubsample: 0.6377648677597499\n"
     ]
    },
    {
     "data": {
      "text/plain": "<IPython.core.display.HTML object>",
      "text/html": "\n                Tracking run with wandb version 0.11.0<br/>\n                Syncing run <strong style=\"color:#cdcd00\">fiery-sweep-40</strong> to <a href=\"https://wandb.ai\" target=\"_blank\">Weights & Biases</a> <a href=\"https://docs.wandb.com/integrations/jupyter.html\" target=\"_blank\">(Documentation)</a>.<br/>\n                Project page: <a href=\"https://wandb.ai/devcore/Metriken%20Bauwesen%20Sweeps\" target=\"_blank\">https://wandb.ai/devcore/Metriken%20Bauwesen%20Sweeps</a><br/>\n                Sweep page: <a href=\"https://wandb.ai/devcore/Metriken%20Bauwesen%20Sweeps/sweeps/461ybom6\" target=\"_blank\">https://wandb.ai/devcore/Metriken%20Bauwesen%20Sweeps/sweeps/461ybom6</a><br/>\nRun page: <a href=\"https://wandb.ai/devcore/Metriken%20Bauwesen%20Sweeps/runs/e8tzvklk\" target=\"_blank\">https://wandb.ai/devcore/Metriken%20Bauwesen%20Sweeps/runs/e8tzvklk</a><br/>\n                Run data is saved locally in <code>C:\\Daten\\Development\\FHNW\\ip5-metriken-bauwesen\\src\\weight_and_bias\\wandb\\run-20210720_162615-e8tzvklk</code><br/><br/>\n            "
     },
     "metadata": {},
     "output_type": "display_data"
    },
    {
     "name": "stdout",
     "output_type": "stream",
     "text": [
      "Location: C:\\Daten\\Development\\FHNW\\ip5-metriken-bauwesen\\export\\cluster_means.joblib\n",
      "Location: C:\\Daten\\Development\\FHNW\\ip5-metriken-bauwesen\\export\\fitted_pipeline.joblib\n"
     ]
    },
    {
     "data": {
      "text/plain": "<IPython.core.display.HTML object>",
      "text/html": "<br/>Waiting for W&B process to finish, PID 6016<br/>Program ended successfully."
     },
     "metadata": {},
     "output_type": "display_data"
    },
    {
     "data": {
      "text/plain": "VBox(children=(Label(value=' 0.00MB of 0.00MB uploaded (0.00MB deduped)\\r'), FloatProgress(value=1.0, max=1.0)…",
      "application/vnd.jupyter.widget-view+json": {
       "version_major": 2,
       "version_minor": 0,
       "model_id": "fccbefdd0e81443b880142bddbc608d4"
      }
     },
     "metadata": {},
     "output_type": "display_data"
    },
    {
     "data": {
      "text/plain": "<IPython.core.display.HTML object>",
      "text/html": "Find user logs for this run at: <code>C:\\Daten\\Development\\FHNW\\ip5-metriken-bauwesen\\src\\weight_and_bias\\wandb\\run-20210720_162615-e8tzvklk\\logs\\debug.log</code>"
     },
     "metadata": {},
     "output_type": "display_data"
    },
    {
     "data": {
      "text/plain": "<IPython.core.display.HTML object>",
      "text/html": "Find internal logs for this run at: <code>C:\\Daten\\Development\\FHNW\\ip5-metriken-bauwesen\\src\\weight_and_bias\\wandb\\run-20210720_162615-e8tzvklk\\logs\\debug-internal.log</code>"
     },
     "metadata": {},
     "output_type": "display_data"
    },
    {
     "data": {
      "text/plain": "<IPython.core.display.HTML object>",
      "text/html": "<h3>Run summary:</h3><br/><style>\n    table.wandb td:nth-child(1) { padding: 0 10px; text-align: right }\n    </style><table class=\"wandb\">\n<tr><td>r2</td><td>0.92535</td></tr><tr><td>_runtime</td><td>42</td></tr><tr><td>_timestamp</td><td>1626791217</td></tr><tr><td>_step</td><td>1</td></tr><tr><td>neg_mape</td><td>-0.16391</td></tr></table>"
     },
     "metadata": {},
     "output_type": "display_data"
    },
    {
     "data": {
      "text/plain": "<IPython.core.display.HTML object>",
      "text/html": "<h3>Run history:</h3><br/><style>\n    table.wandb td:nth-child(1) { padding: 0 10px; text-align: right }\n    </style><table class=\"wandb\">\n<tr><td>r2</td><td>▁</td></tr><tr><td>_runtime</td><td>▁▁</td></tr><tr><td>_timestamp</td><td>▁▁</td></tr><tr><td>_step</td><td>▁█</td></tr><tr><td>neg_mape</td><td>▁</td></tr></table><br/>"
     },
     "metadata": {},
     "output_type": "display_data"
    },
    {
     "data": {
      "text/plain": "<IPython.core.display.HTML object>",
      "text/html": "Synced 5 W&B file(s), 0 media file(s), 0 artifact file(s) and 0 other file(s)"
     },
     "metadata": {},
     "output_type": "display_data"
    },
    {
     "data": {
      "text/plain": "<IPython.core.display.HTML object>",
      "text/html": "\n                    <br/>Synced <strong style=\"color:#cdcd00\">fiery-sweep-40</strong>: <a href=\"https://wandb.ai/devcore/Metriken%20Bauwesen%20Sweeps/runs/e8tzvklk\" target=\"_blank\">https://wandb.ai/devcore/Metriken%20Bauwesen%20Sweeps/runs/e8tzvklk</a><br/>\n                "
     },
     "metadata": {},
     "output_type": "display_data"
    },
    {
     "name": "stderr",
     "output_type": "stream",
     "text": [
      "\u001B[34m\u001B[1mwandb\u001B[0m: Agent Starting Run: j1hir6v3 with config:\n",
      "\u001B[34m\u001B[1mwandb\u001B[0m: \tlearning_rate: 0.017208249713464765\n",
      "\u001B[34m\u001B[1mwandb\u001B[0m: \tmax_depth: 18\n",
      "\u001B[34m\u001B[1mwandb\u001B[0m: \tmin_samples_split: 4\n",
      "\u001B[34m\u001B[1mwandb\u001B[0m: \tn_estimators: 1536\n",
      "\u001B[34m\u001B[1mwandb\u001B[0m: \tsubsample: 0.5020119844091064\n"
     ]
    },
    {
     "data": {
      "text/plain": "<IPython.core.display.HTML object>",
      "text/html": "\n                Tracking run with wandb version 0.11.0<br/>\n                Syncing run <strong style=\"color:#cdcd00\">earnest-sweep-41</strong> to <a href=\"https://wandb.ai\" target=\"_blank\">Weights & Biases</a> <a href=\"https://docs.wandb.com/integrations/jupyter.html\" target=\"_blank\">(Documentation)</a>.<br/>\n                Project page: <a href=\"https://wandb.ai/devcore/Metriken%20Bauwesen%20Sweeps\" target=\"_blank\">https://wandb.ai/devcore/Metriken%20Bauwesen%20Sweeps</a><br/>\n                Sweep page: <a href=\"https://wandb.ai/devcore/Metriken%20Bauwesen%20Sweeps/sweeps/461ybom6\" target=\"_blank\">https://wandb.ai/devcore/Metriken%20Bauwesen%20Sweeps/sweeps/461ybom6</a><br/>\nRun page: <a href=\"https://wandb.ai/devcore/Metriken%20Bauwesen%20Sweeps/runs/j1hir6v3\" target=\"_blank\">https://wandb.ai/devcore/Metriken%20Bauwesen%20Sweeps/runs/j1hir6v3</a><br/>\n                Run data is saved locally in <code>C:\\Daten\\Development\\FHNW\\ip5-metriken-bauwesen\\src\\weight_and_bias\\wandb\\run-20210720_162701-j1hir6v3</code><br/><br/>\n            "
     },
     "metadata": {},
     "output_type": "display_data"
    },
    {
     "name": "stdout",
     "output_type": "stream",
     "text": [
      "Location: C:\\Daten\\Development\\FHNW\\ip5-metriken-bauwesen\\export\\cluster_means.joblib\n",
      "Location: C:\\Daten\\Development\\FHNW\\ip5-metriken-bauwesen\\export\\fitted_pipeline.joblib\n"
     ]
    },
    {
     "data": {
      "text/plain": "<IPython.core.display.HTML object>",
      "text/html": "<br/>Waiting for W&B process to finish, PID 6876<br/>Program ended successfully."
     },
     "metadata": {},
     "output_type": "display_data"
    },
    {
     "data": {
      "text/plain": "VBox(children=(Label(value=' 0.00MB of 0.00MB uploaded (0.00MB deduped)\\r'), FloatProgress(value=1.0, max=1.0)…",
      "application/vnd.jupyter.widget-view+json": {
       "version_major": 2,
       "version_minor": 0,
       "model_id": "f389a8bc8e6042c5a77cf838f4e2bd88"
      }
     },
     "metadata": {},
     "output_type": "display_data"
    },
    {
     "data": {
      "text/plain": "<IPython.core.display.HTML object>",
      "text/html": "Find user logs for this run at: <code>C:\\Daten\\Development\\FHNW\\ip5-metriken-bauwesen\\src\\weight_and_bias\\wandb\\run-20210720_162701-j1hir6v3\\logs\\debug.log</code>"
     },
     "metadata": {},
     "output_type": "display_data"
    },
    {
     "data": {
      "text/plain": "<IPython.core.display.HTML object>",
      "text/html": "Find internal logs for this run at: <code>C:\\Daten\\Development\\FHNW\\ip5-metriken-bauwesen\\src\\weight_and_bias\\wandb\\run-20210720_162701-j1hir6v3\\logs\\debug-internal.log</code>"
     },
     "metadata": {},
     "output_type": "display_data"
    },
    {
     "data": {
      "text/plain": "<IPython.core.display.HTML object>",
      "text/html": "<h3>Run summary:</h3><br/><style>\n    table.wandb td:nth-child(1) { padding: 0 10px; text-align: right }\n    </style><table class=\"wandb\">\n<tr><td>r2</td><td>0.93388</td></tr><tr><td>_runtime</td><td>24</td></tr><tr><td>_timestamp</td><td>1626791245</td></tr><tr><td>_step</td><td>1</td></tr><tr><td>neg_mape</td><td>-0.16369</td></tr></table>"
     },
     "metadata": {},
     "output_type": "display_data"
    },
    {
     "data": {
      "text/plain": "<IPython.core.display.HTML object>",
      "text/html": "<h3>Run history:</h3><br/><style>\n    table.wandb td:nth-child(1) { padding: 0 10px; text-align: right }\n    </style><table class=\"wandb\">\n<tr><td>r2</td><td>▁</td></tr><tr><td>_runtime</td><td>▁▁</td></tr><tr><td>_timestamp</td><td>▁▁</td></tr><tr><td>_step</td><td>▁█</td></tr><tr><td>neg_mape</td><td>▁</td></tr></table><br/>"
     },
     "metadata": {},
     "output_type": "display_data"
    },
    {
     "data": {
      "text/plain": "<IPython.core.display.HTML object>",
      "text/html": "Synced 5 W&B file(s), 0 media file(s), 0 artifact file(s) and 0 other file(s)"
     },
     "metadata": {},
     "output_type": "display_data"
    },
    {
     "data": {
      "text/plain": "<IPython.core.display.HTML object>",
      "text/html": "\n                    <br/>Synced <strong style=\"color:#cdcd00\">earnest-sweep-41</strong>: <a href=\"https://wandb.ai/devcore/Metriken%20Bauwesen%20Sweeps/runs/j1hir6v3\" target=\"_blank\">https://wandb.ai/devcore/Metriken%20Bauwesen%20Sweeps/runs/j1hir6v3</a><br/>\n                "
     },
     "metadata": {},
     "output_type": "display_data"
    },
    {
     "name": "stderr",
     "output_type": "stream",
     "text": [
      "\u001B[34m\u001B[1mwandb\u001B[0m: Agent Starting Run: j627gjso with config:\n",
      "\u001B[34m\u001B[1mwandb\u001B[0m: \tlearning_rate: 0.11008331282135987\n",
      "\u001B[34m\u001B[1mwandb\u001B[0m: \tmax_depth: 15\n",
      "\u001B[34m\u001B[1mwandb\u001B[0m: \tmin_samples_split: 10\n",
      "\u001B[34m\u001B[1mwandb\u001B[0m: \tn_estimators: 1536\n",
      "\u001B[34m\u001B[1mwandb\u001B[0m: \tsubsample: 0.7350230349137894\n"
     ]
    },
    {
     "data": {
      "text/plain": "<IPython.core.display.HTML object>",
      "text/html": "\n                Tracking run with wandb version 0.11.0<br/>\n                Syncing run <strong style=\"color:#cdcd00\">dandy-sweep-42</strong> to <a href=\"https://wandb.ai\" target=\"_blank\">Weights & Biases</a> <a href=\"https://docs.wandb.com/integrations/jupyter.html\" target=\"_blank\">(Documentation)</a>.<br/>\n                Project page: <a href=\"https://wandb.ai/devcore/Metriken%20Bauwesen%20Sweeps\" target=\"_blank\">https://wandb.ai/devcore/Metriken%20Bauwesen%20Sweeps</a><br/>\n                Sweep page: <a href=\"https://wandb.ai/devcore/Metriken%20Bauwesen%20Sweeps/sweeps/461ybom6\" target=\"_blank\">https://wandb.ai/devcore/Metriken%20Bauwesen%20Sweeps/sweeps/461ybom6</a><br/>\nRun page: <a href=\"https://wandb.ai/devcore/Metriken%20Bauwesen%20Sweeps/runs/j627gjso\" target=\"_blank\">https://wandb.ai/devcore/Metriken%20Bauwesen%20Sweeps/runs/j627gjso</a><br/>\n                Run data is saved locally in <code>C:\\Daten\\Development\\FHNW\\ip5-metriken-bauwesen\\src\\weight_and_bias\\wandb\\run-20210720_162729-j627gjso</code><br/><br/>\n            "
     },
     "metadata": {},
     "output_type": "display_data"
    },
    {
     "name": "stdout",
     "output_type": "stream",
     "text": [
      "Location: C:\\Daten\\Development\\FHNW\\ip5-metriken-bauwesen\\export\\cluster_means.joblib\n",
      "Location: C:\\Daten\\Development\\FHNW\\ip5-metriken-bauwesen\\export\\fitted_pipeline.joblib\n"
     ]
    },
    {
     "data": {
      "text/plain": "<IPython.core.display.HTML object>",
      "text/html": "<br/>Waiting for W&B process to finish, PID 14056<br/>Program ended successfully."
     },
     "metadata": {},
     "output_type": "display_data"
    },
    {
     "data": {
      "text/plain": "VBox(children=(Label(value=' 0.00MB of 0.00MB uploaded (0.00MB deduped)\\r'), FloatProgress(value=1.0, max=1.0)…",
      "application/vnd.jupyter.widget-view+json": {
       "version_major": 2,
       "version_minor": 0,
       "model_id": "63607c4d14974ed5a9116374cb2fbc90"
      }
     },
     "metadata": {},
     "output_type": "display_data"
    },
    {
     "data": {
      "text/plain": "<IPython.core.display.HTML object>",
      "text/html": "Find user logs for this run at: <code>C:\\Daten\\Development\\FHNW\\ip5-metriken-bauwesen\\src\\weight_and_bias\\wandb\\run-20210720_162729-j627gjso\\logs\\debug.log</code>"
     },
     "metadata": {},
     "output_type": "display_data"
    },
    {
     "data": {
      "text/plain": "<IPython.core.display.HTML object>",
      "text/html": "Find internal logs for this run at: <code>C:\\Daten\\Development\\FHNW\\ip5-metriken-bauwesen\\src\\weight_and_bias\\wandb\\run-20210720_162729-j627gjso\\logs\\debug-internal.log</code>"
     },
     "metadata": {},
     "output_type": "display_data"
    },
    {
     "data": {
      "text/plain": "<IPython.core.display.HTML object>",
      "text/html": "<h3>Run summary:</h3><br/><style>\n    table.wandb td:nth-child(1) { padding: 0 10px; text-align: right }\n    </style><table class=\"wandb\">\n<tr><td>r2</td><td>0.92639</td></tr><tr><td>_runtime</td><td>28</td></tr><tr><td>_timestamp</td><td>1626791277</td></tr><tr><td>_step</td><td>1</td></tr><tr><td>neg_mape</td><td>-0.16935</td></tr></table>"
     },
     "metadata": {},
     "output_type": "display_data"
    },
    {
     "data": {
      "text/plain": "<IPython.core.display.HTML object>",
      "text/html": "<h3>Run history:</h3><br/><style>\n    table.wandb td:nth-child(1) { padding: 0 10px; text-align: right }\n    </style><table class=\"wandb\">\n<tr><td>r2</td><td>▁</td></tr><tr><td>_runtime</td><td>▁▁</td></tr><tr><td>_timestamp</td><td>▁▁</td></tr><tr><td>_step</td><td>▁█</td></tr><tr><td>neg_mape</td><td>▁</td></tr></table><br/>"
     },
     "metadata": {},
     "output_type": "display_data"
    },
    {
     "data": {
      "text/plain": "<IPython.core.display.HTML object>",
      "text/html": "Synced 5 W&B file(s), 0 media file(s), 0 artifact file(s) and 0 other file(s)"
     },
     "metadata": {},
     "output_type": "display_data"
    },
    {
     "data": {
      "text/plain": "<IPython.core.display.HTML object>",
      "text/html": "\n                    <br/>Synced <strong style=\"color:#cdcd00\">dandy-sweep-42</strong>: <a href=\"https://wandb.ai/devcore/Metriken%20Bauwesen%20Sweeps/runs/j627gjso\" target=\"_blank\">https://wandb.ai/devcore/Metriken%20Bauwesen%20Sweeps/runs/j627gjso</a><br/>\n                "
     },
     "metadata": {},
     "output_type": "display_data"
    },
    {
     "name": "stderr",
     "output_type": "stream",
     "text": [
      "\u001B[34m\u001B[1mwandb\u001B[0m: Agent Starting Run: 15kf5h6i with config:\n",
      "\u001B[34m\u001B[1mwandb\u001B[0m: \tlearning_rate: 0.04360803409197694\n",
      "\u001B[34m\u001B[1mwandb\u001B[0m: \tmax_depth: 20\n",
      "\u001B[34m\u001B[1mwandb\u001B[0m: \tmin_samples_split: 4\n",
      "\u001B[34m\u001B[1mwandb\u001B[0m: \tn_estimators: 768\n",
      "\u001B[34m\u001B[1mwandb\u001B[0m: \tsubsample: 0.8397317028850055\n"
     ]
    },
    {
     "data": {
      "text/plain": "<IPython.core.display.HTML object>",
      "text/html": "\n                Tracking run with wandb version 0.11.0<br/>\n                Syncing run <strong style=\"color:#cdcd00\">misty-sweep-43</strong> to <a href=\"https://wandb.ai\" target=\"_blank\">Weights & Biases</a> <a href=\"https://docs.wandb.com/integrations/jupyter.html\" target=\"_blank\">(Documentation)</a>.<br/>\n                Project page: <a href=\"https://wandb.ai/devcore/Metriken%20Bauwesen%20Sweeps\" target=\"_blank\">https://wandb.ai/devcore/Metriken%20Bauwesen%20Sweeps</a><br/>\n                Sweep page: <a href=\"https://wandb.ai/devcore/Metriken%20Bauwesen%20Sweeps/sweeps/461ybom6\" target=\"_blank\">https://wandb.ai/devcore/Metriken%20Bauwesen%20Sweeps/sweeps/461ybom6</a><br/>\nRun page: <a href=\"https://wandb.ai/devcore/Metriken%20Bauwesen%20Sweeps/runs/15kf5h6i\" target=\"_blank\">https://wandb.ai/devcore/Metriken%20Bauwesen%20Sweeps/runs/15kf5h6i</a><br/>\n                Run data is saved locally in <code>C:\\Daten\\Development\\FHNW\\ip5-metriken-bauwesen\\src\\weight_and_bias\\wandb\\run-20210720_162802-15kf5h6i</code><br/><br/>\n            "
     },
     "metadata": {},
     "output_type": "display_data"
    },
    {
     "name": "stdout",
     "output_type": "stream",
     "text": [
      "Location: C:\\Daten\\Development\\FHNW\\ip5-metriken-bauwesen\\export\\cluster_means.joblib\n",
      "Location: C:\\Daten\\Development\\FHNW\\ip5-metriken-bauwesen\\export\\fitted_pipeline.joblib\n"
     ]
    },
    {
     "data": {
      "text/plain": "<IPython.core.display.HTML object>",
      "text/html": "<br/>Waiting for W&B process to finish, PID 11424<br/>Program ended successfully."
     },
     "metadata": {},
     "output_type": "display_data"
    },
    {
     "data": {
      "text/plain": "VBox(children=(Label(value=' 0.00MB of 0.00MB uploaded (0.00MB deduped)\\r'), FloatProgress(value=1.0, max=1.0)…",
      "application/vnd.jupyter.widget-view+json": {
       "version_major": 2,
       "version_minor": 0,
       "model_id": "4743807a6c6940768eb31e13de195905"
      }
     },
     "metadata": {},
     "output_type": "display_data"
    },
    {
     "data": {
      "text/plain": "<IPython.core.display.HTML object>",
      "text/html": "Find user logs for this run at: <code>C:\\Daten\\Development\\FHNW\\ip5-metriken-bauwesen\\src\\weight_and_bias\\wandb\\run-20210720_162802-15kf5h6i\\logs\\debug.log</code>"
     },
     "metadata": {},
     "output_type": "display_data"
    },
    {
     "data": {
      "text/plain": "<IPython.core.display.HTML object>",
      "text/html": "Find internal logs for this run at: <code>C:\\Daten\\Development\\FHNW\\ip5-metriken-bauwesen\\src\\weight_and_bias\\wandb\\run-20210720_162802-15kf5h6i\\logs\\debug-internal.log</code>"
     },
     "metadata": {},
     "output_type": "display_data"
    },
    {
     "data": {
      "text/plain": "<IPython.core.display.HTML object>",
      "text/html": "<h3>Run summary:</h3><br/><style>\n    table.wandb td:nth-child(1) { padding: 0 10px; text-align: right }\n    </style><table class=\"wandb\">\n<tr><td>r2</td><td>0.91844</td></tr><tr><td>_runtime</td><td>20</td></tr><tr><td>_timestamp</td><td>1626791302</td></tr><tr><td>_step</td><td>1</td></tr><tr><td>neg_mape</td><td>-0.1709</td></tr></table>"
     },
     "metadata": {},
     "output_type": "display_data"
    },
    {
     "data": {
      "text/plain": "<IPython.core.display.HTML object>",
      "text/html": "<h3>Run history:</h3><br/><style>\n    table.wandb td:nth-child(1) { padding: 0 10px; text-align: right }\n    </style><table class=\"wandb\">\n<tr><td>r2</td><td>▁</td></tr><tr><td>_runtime</td><td>▁▁</td></tr><tr><td>_timestamp</td><td>▁▁</td></tr><tr><td>_step</td><td>▁█</td></tr><tr><td>neg_mape</td><td>▁</td></tr></table><br/>"
     },
     "metadata": {},
     "output_type": "display_data"
    },
    {
     "data": {
      "text/plain": "<IPython.core.display.HTML object>",
      "text/html": "Synced 5 W&B file(s), 0 media file(s), 0 artifact file(s) and 0 other file(s)"
     },
     "metadata": {},
     "output_type": "display_data"
    },
    {
     "data": {
      "text/plain": "<IPython.core.display.HTML object>",
      "text/html": "\n                    <br/>Synced <strong style=\"color:#cdcd00\">misty-sweep-43</strong>: <a href=\"https://wandb.ai/devcore/Metriken%20Bauwesen%20Sweeps/runs/15kf5h6i\" target=\"_blank\">https://wandb.ai/devcore/Metriken%20Bauwesen%20Sweeps/runs/15kf5h6i</a><br/>\n                "
     },
     "metadata": {},
     "output_type": "display_data"
    },
    {
     "name": "stderr",
     "output_type": "stream",
     "text": [
      "\u001B[34m\u001B[1mwandb\u001B[0m: Agent Starting Run: dnncoj9m with config:\n",
      "\u001B[34m\u001B[1mwandb\u001B[0m: \tlearning_rate: 0.08586985651605267\n",
      "\u001B[34m\u001B[1mwandb\u001B[0m: \tmax_depth: 30\n",
      "\u001B[34m\u001B[1mwandb\u001B[0m: \tmin_samples_split: 6\n",
      "\u001B[34m\u001B[1mwandb\u001B[0m: \tn_estimators: 1536\n",
      "\u001B[34m\u001B[1mwandb\u001B[0m: \tsubsample: 0.5216823985634907\n"
     ]
    },
    {
     "data": {
      "text/plain": "<IPython.core.display.HTML object>",
      "text/html": "\n                Tracking run with wandb version 0.11.0<br/>\n                Syncing run <strong style=\"color:#cdcd00\">grateful-sweep-44</strong> to <a href=\"https://wandb.ai\" target=\"_blank\">Weights & Biases</a> <a href=\"https://docs.wandb.com/integrations/jupyter.html\" target=\"_blank\">(Documentation)</a>.<br/>\n                Project page: <a href=\"https://wandb.ai/devcore/Metriken%20Bauwesen%20Sweeps\" target=\"_blank\">https://wandb.ai/devcore/Metriken%20Bauwesen%20Sweeps</a><br/>\n                Sweep page: <a href=\"https://wandb.ai/devcore/Metriken%20Bauwesen%20Sweeps/sweeps/461ybom6\" target=\"_blank\">https://wandb.ai/devcore/Metriken%20Bauwesen%20Sweeps/sweeps/461ybom6</a><br/>\nRun page: <a href=\"https://wandb.ai/devcore/Metriken%20Bauwesen%20Sweeps/runs/dnncoj9m\" target=\"_blank\">https://wandb.ai/devcore/Metriken%20Bauwesen%20Sweeps/runs/dnncoj9m</a><br/>\n                Run data is saved locally in <code>C:\\Daten\\Development\\FHNW\\ip5-metriken-bauwesen\\src\\weight_and_bias\\wandb\\run-20210720_162826-dnncoj9m</code><br/><br/>\n            "
     },
     "metadata": {},
     "output_type": "display_data"
    },
    {
     "name": "stdout",
     "output_type": "stream",
     "text": [
      "Location: C:\\Daten\\Development\\FHNW\\ip5-metriken-bauwesen\\export\\cluster_means.joblib\n",
      "Location: C:\\Daten\\Development\\FHNW\\ip5-metriken-bauwesen\\export\\fitted_pipeline.joblib\n"
     ]
    },
    {
     "data": {
      "text/plain": "<IPython.core.display.HTML object>",
      "text/html": "<br/>Waiting for W&B process to finish, PID 13112<br/>Program ended successfully."
     },
     "metadata": {},
     "output_type": "display_data"
    },
    {
     "data": {
      "text/plain": "VBox(children=(Label(value=' 0.00MB of 0.00MB uploaded (0.00MB deduped)\\r'), FloatProgress(value=1.0, max=1.0)…",
      "application/vnd.jupyter.widget-view+json": {
       "version_major": 2,
       "version_minor": 0,
       "model_id": "7516ab1af2bf4ff2bb4f124b7a25788b"
      }
     },
     "metadata": {},
     "output_type": "display_data"
    },
    {
     "data": {
      "text/plain": "<IPython.core.display.HTML object>",
      "text/html": "Find user logs for this run at: <code>C:\\Daten\\Development\\FHNW\\ip5-metriken-bauwesen\\src\\weight_and_bias\\wandb\\run-20210720_162826-dnncoj9m\\logs\\debug.log</code>"
     },
     "metadata": {},
     "output_type": "display_data"
    },
    {
     "data": {
      "text/plain": "<IPython.core.display.HTML object>",
      "text/html": "Find internal logs for this run at: <code>C:\\Daten\\Development\\FHNW\\ip5-metriken-bauwesen\\src\\weight_and_bias\\wandb\\run-20210720_162826-dnncoj9m\\logs\\debug-internal.log</code>"
     },
     "metadata": {},
     "output_type": "display_data"
    },
    {
     "data": {
      "text/plain": "<IPython.core.display.HTML object>",
      "text/html": "<h3>Run summary:</h3><br/><style>\n    table.wandb td:nth-child(1) { padding: 0 10px; text-align: right }\n    </style><table class=\"wandb\">\n<tr><td>r2</td><td>0.93809</td></tr><tr><td>_runtime</td><td>38</td></tr><tr><td>_timestamp</td><td>1626791344</td></tr><tr><td>_step</td><td>1</td></tr><tr><td>neg_mape</td><td>-0.16461</td></tr></table>"
     },
     "metadata": {},
     "output_type": "display_data"
    },
    {
     "data": {
      "text/plain": "<IPython.core.display.HTML object>",
      "text/html": "<h3>Run history:</h3><br/><style>\n    table.wandb td:nth-child(1) { padding: 0 10px; text-align: right }\n    </style><table class=\"wandb\">\n<tr><td>r2</td><td>▁</td></tr><tr><td>_runtime</td><td>▁▁</td></tr><tr><td>_timestamp</td><td>▁▁</td></tr><tr><td>_step</td><td>▁█</td></tr><tr><td>neg_mape</td><td>▁</td></tr></table><br/>"
     },
     "metadata": {},
     "output_type": "display_data"
    },
    {
     "data": {
      "text/plain": "<IPython.core.display.HTML object>",
      "text/html": "Synced 5 W&B file(s), 0 media file(s), 0 artifact file(s) and 0 other file(s)"
     },
     "metadata": {},
     "output_type": "display_data"
    },
    {
     "data": {
      "text/plain": "<IPython.core.display.HTML object>",
      "text/html": "\n                    <br/>Synced <strong style=\"color:#cdcd00\">grateful-sweep-44</strong>: <a href=\"https://wandb.ai/devcore/Metriken%20Bauwesen%20Sweeps/runs/dnncoj9m\" target=\"_blank\">https://wandb.ai/devcore/Metriken%20Bauwesen%20Sweeps/runs/dnncoj9m</a><br/>\n                "
     },
     "metadata": {},
     "output_type": "display_data"
    },
    {
     "name": "stderr",
     "output_type": "stream",
     "text": [
      "\u001B[34m\u001B[1mwandb\u001B[0m: Agent Starting Run: 4q3pb5le with config:\n",
      "\u001B[34m\u001B[1mwandb\u001B[0m: \tlearning_rate: 0.1298521226080052\n",
      "\u001B[34m\u001B[1mwandb\u001B[0m: \tmax_depth: 11\n",
      "\u001B[34m\u001B[1mwandb\u001B[0m: \tmin_samples_split: 6\n",
      "\u001B[34m\u001B[1mwandb\u001B[0m: \tn_estimators: 1024\n",
      "\u001B[34m\u001B[1mwandb\u001B[0m: \tsubsample: 0.615727492977646\n"
     ]
    },
    {
     "data": {
      "text/plain": "<IPython.core.display.HTML object>",
      "text/html": "\n                Tracking run with wandb version 0.11.0<br/>\n                Syncing run <strong style=\"color:#cdcd00\">light-sweep-45</strong> to <a href=\"https://wandb.ai\" target=\"_blank\">Weights & Biases</a> <a href=\"https://docs.wandb.com/integrations/jupyter.html\" target=\"_blank\">(Documentation)</a>.<br/>\n                Project page: <a href=\"https://wandb.ai/devcore/Metriken%20Bauwesen%20Sweeps\" target=\"_blank\">https://wandb.ai/devcore/Metriken%20Bauwesen%20Sweeps</a><br/>\n                Sweep page: <a href=\"https://wandb.ai/devcore/Metriken%20Bauwesen%20Sweeps/sweeps/461ybom6\" target=\"_blank\">https://wandb.ai/devcore/Metriken%20Bauwesen%20Sweeps/sweeps/461ybom6</a><br/>\nRun page: <a href=\"https://wandb.ai/devcore/Metriken%20Bauwesen%20Sweeps/runs/4q3pb5le\" target=\"_blank\">https://wandb.ai/devcore/Metriken%20Bauwesen%20Sweeps/runs/4q3pb5le</a><br/>\n                Run data is saved locally in <code>C:\\Daten\\Development\\FHNW\\ip5-metriken-bauwesen\\src\\weight_and_bias\\wandb\\run-20210720_162908-4q3pb5le</code><br/><br/>\n            "
     },
     "metadata": {},
     "output_type": "display_data"
    },
    {
     "name": "stdout",
     "output_type": "stream",
     "text": [
      "Location: C:\\Daten\\Development\\FHNW\\ip5-metriken-bauwesen\\export\\cluster_means.joblib\n",
      "Location: C:\\Daten\\Development\\FHNW\\ip5-metriken-bauwesen\\export\\fitted_pipeline.joblib\n"
     ]
    },
    {
     "data": {
      "text/plain": "<IPython.core.display.HTML object>",
      "text/html": "<br/>Waiting for W&B process to finish, PID 10488<br/>Program ended successfully."
     },
     "metadata": {},
     "output_type": "display_data"
    },
    {
     "data": {
      "text/plain": "VBox(children=(Label(value=' 0.00MB of 0.00MB uploaded (0.00MB deduped)\\r'), FloatProgress(value=1.0, max=1.0)…",
      "application/vnd.jupyter.widget-view+json": {
       "version_major": 2,
       "version_minor": 0,
       "model_id": "579a6ac59443431f997cef6a5238a70f"
      }
     },
     "metadata": {},
     "output_type": "display_data"
    },
    {
     "data": {
      "text/plain": "<IPython.core.display.HTML object>",
      "text/html": "Find user logs for this run at: <code>C:\\Daten\\Development\\FHNW\\ip5-metriken-bauwesen\\src\\weight_and_bias\\wandb\\run-20210720_162908-4q3pb5le\\logs\\debug.log</code>"
     },
     "metadata": {},
     "output_type": "display_data"
    },
    {
     "data": {
      "text/plain": "<IPython.core.display.HTML object>",
      "text/html": "Find internal logs for this run at: <code>C:\\Daten\\Development\\FHNW\\ip5-metriken-bauwesen\\src\\weight_and_bias\\wandb\\run-20210720_162908-4q3pb5le\\logs\\debug-internal.log</code>"
     },
     "metadata": {},
     "output_type": "display_data"
    },
    {
     "data": {
      "text/plain": "<IPython.core.display.HTML object>",
      "text/html": "<h3>Run summary:</h3><br/><style>\n    table.wandb td:nth-child(1) { padding: 0 10px; text-align: right }\n    </style><table class=\"wandb\">\n<tr><td>r2</td><td>0.93047</td></tr><tr><td>_runtime</td><td>29</td></tr><tr><td>_timestamp</td><td>1626791377</td></tr><tr><td>_step</td><td>1</td></tr><tr><td>neg_mape</td><td>-0.17033</td></tr></table>"
     },
     "metadata": {},
     "output_type": "display_data"
    },
    {
     "data": {
      "text/plain": "<IPython.core.display.HTML object>",
      "text/html": "<h3>Run history:</h3><br/><style>\n    table.wandb td:nth-child(1) { padding: 0 10px; text-align: right }\n    </style><table class=\"wandb\">\n<tr><td>r2</td><td>▁</td></tr><tr><td>_runtime</td><td>▁▁</td></tr><tr><td>_timestamp</td><td>▁▁</td></tr><tr><td>_step</td><td>▁█</td></tr><tr><td>neg_mape</td><td>▁</td></tr></table><br/>"
     },
     "metadata": {},
     "output_type": "display_data"
    },
    {
     "data": {
      "text/plain": "<IPython.core.display.HTML object>",
      "text/html": "Synced 5 W&B file(s), 0 media file(s), 0 artifact file(s) and 0 other file(s)"
     },
     "metadata": {},
     "output_type": "display_data"
    },
    {
     "data": {
      "text/plain": "<IPython.core.display.HTML object>",
      "text/html": "\n                    <br/>Synced <strong style=\"color:#cdcd00\">light-sweep-45</strong>: <a href=\"https://wandb.ai/devcore/Metriken%20Bauwesen%20Sweeps/runs/4q3pb5le\" target=\"_blank\">https://wandb.ai/devcore/Metriken%20Bauwesen%20Sweeps/runs/4q3pb5le</a><br/>\n                "
     },
     "metadata": {},
     "output_type": "display_data"
    },
    {
     "name": "stderr",
     "output_type": "stream",
     "text": [
      "\u001B[34m\u001B[1mwandb\u001B[0m: Agent Starting Run: asu2pept with config:\n",
      "\u001B[34m\u001B[1mwandb\u001B[0m: \tlearning_rate: 0.1484694819872728\n",
      "\u001B[34m\u001B[1mwandb\u001B[0m: \tmax_depth: 18\n",
      "\u001B[34m\u001B[1mwandb\u001B[0m: \tmin_samples_split: 8\n",
      "\u001B[34m\u001B[1mwandb\u001B[0m: \tn_estimators: 1024\n",
      "\u001B[34m\u001B[1mwandb\u001B[0m: \tsubsample: 0.6583985929866936\n"
     ]
    },
    {
     "data": {
      "text/plain": "<IPython.core.display.HTML object>",
      "text/html": "\n                Tracking run with wandb version 0.11.0<br/>\n                Syncing run <strong style=\"color:#cdcd00\">tough-sweep-46</strong> to <a href=\"https://wandb.ai\" target=\"_blank\">Weights & Biases</a> <a href=\"https://docs.wandb.com/integrations/jupyter.html\" target=\"_blank\">(Documentation)</a>.<br/>\n                Project page: <a href=\"https://wandb.ai/devcore/Metriken%20Bauwesen%20Sweeps\" target=\"_blank\">https://wandb.ai/devcore/Metriken%20Bauwesen%20Sweeps</a><br/>\n                Sweep page: <a href=\"https://wandb.ai/devcore/Metriken%20Bauwesen%20Sweeps/sweeps/461ybom6\" target=\"_blank\">https://wandb.ai/devcore/Metriken%20Bauwesen%20Sweeps/sweeps/461ybom6</a><br/>\nRun page: <a href=\"https://wandb.ai/devcore/Metriken%20Bauwesen%20Sweeps/runs/asu2pept\" target=\"_blank\">https://wandb.ai/devcore/Metriken%20Bauwesen%20Sweeps/runs/asu2pept</a><br/>\n                Run data is saved locally in <code>C:\\Daten\\Development\\FHNW\\ip5-metriken-bauwesen\\src\\weight_and_bias\\wandb\\run-20210720_162941-asu2pept</code><br/><br/>\n            "
     },
     "metadata": {},
     "output_type": "display_data"
    },
    {
     "name": "stdout",
     "output_type": "stream",
     "text": [
      "Location: C:\\Daten\\Development\\FHNW\\ip5-metriken-bauwesen\\export\\cluster_means.joblib\n",
      "Location: C:\\Daten\\Development\\FHNW\\ip5-metriken-bauwesen\\export\\fitted_pipeline.joblib\n"
     ]
    },
    {
     "data": {
      "text/plain": "<IPython.core.display.HTML object>",
      "text/html": "<br/>Waiting for W&B process to finish, PID 4612<br/>Program ended successfully."
     },
     "metadata": {},
     "output_type": "display_data"
    },
    {
     "data": {
      "text/plain": "VBox(children=(Label(value=' 0.00MB of 0.00MB uploaded (0.00MB deduped)\\r'), FloatProgress(value=1.0, max=1.0)…",
      "application/vnd.jupyter.widget-view+json": {
       "version_major": 2,
       "version_minor": 0,
       "model_id": "10bd384b21ff4db285b5e64eca75f33c"
      }
     },
     "metadata": {},
     "output_type": "display_data"
    },
    {
     "data": {
      "text/plain": "<IPython.core.display.HTML object>",
      "text/html": "Find user logs for this run at: <code>C:\\Daten\\Development\\FHNW\\ip5-metriken-bauwesen\\src\\weight_and_bias\\wandb\\run-20210720_162941-asu2pept\\logs\\debug.log</code>"
     },
     "metadata": {},
     "output_type": "display_data"
    },
    {
     "data": {
      "text/plain": "<IPython.core.display.HTML object>",
      "text/html": "Find internal logs for this run at: <code>C:\\Daten\\Development\\FHNW\\ip5-metriken-bauwesen\\src\\weight_and_bias\\wandb\\run-20210720_162941-asu2pept\\logs\\debug-internal.log</code>"
     },
     "metadata": {},
     "output_type": "display_data"
    },
    {
     "data": {
      "text/plain": "<IPython.core.display.HTML object>",
      "text/html": "<h3>Run summary:</h3><br/><style>\n    table.wandb td:nth-child(1) { padding: 0 10px; text-align: right }\n    </style><table class=\"wandb\">\n<tr><td>r2</td><td>0.92679</td></tr><tr><td>_runtime</td><td>22</td></tr><tr><td>_timestamp</td><td>1626791403</td></tr><tr><td>_step</td><td>1</td></tr><tr><td>neg_mape</td><td>-0.17123</td></tr></table>"
     },
     "metadata": {},
     "output_type": "display_data"
    },
    {
     "data": {
      "text/plain": "<IPython.core.display.HTML object>",
      "text/html": "<h3>Run history:</h3><br/><style>\n    table.wandb td:nth-child(1) { padding: 0 10px; text-align: right }\n    </style><table class=\"wandb\">\n<tr><td>r2</td><td>▁</td></tr><tr><td>_runtime</td><td>▁▁</td></tr><tr><td>_timestamp</td><td>▁▁</td></tr><tr><td>_step</td><td>▁█</td></tr><tr><td>neg_mape</td><td>▁</td></tr></table><br/>"
     },
     "metadata": {},
     "output_type": "display_data"
    },
    {
     "data": {
      "text/plain": "<IPython.core.display.HTML object>",
      "text/html": "Synced 5 W&B file(s), 0 media file(s), 0 artifact file(s) and 0 other file(s)"
     },
     "metadata": {},
     "output_type": "display_data"
    },
    {
     "data": {
      "text/plain": "<IPython.core.display.HTML object>",
      "text/html": "\n                    <br/>Synced <strong style=\"color:#cdcd00\">tough-sweep-46</strong>: <a href=\"https://wandb.ai/devcore/Metriken%20Bauwesen%20Sweeps/runs/asu2pept\" target=\"_blank\">https://wandb.ai/devcore/Metriken%20Bauwesen%20Sweeps/runs/asu2pept</a><br/>\n                "
     },
     "metadata": {},
     "output_type": "display_data"
    },
    {
     "name": "stderr",
     "output_type": "stream",
     "text": [
      "\u001B[34m\u001B[1mwandb\u001B[0m: Agent Starting Run: hvyw0b66 with config:\n",
      "\u001B[34m\u001B[1mwandb\u001B[0m: \tlearning_rate: 0.1292808570783364\n",
      "\u001B[34m\u001B[1mwandb\u001B[0m: \tmax_depth: 20\n",
      "\u001B[34m\u001B[1mwandb\u001B[0m: \tmin_samples_split: 10\n",
      "\u001B[34m\u001B[1mwandb\u001B[0m: \tn_estimators: 768\n",
      "\u001B[34m\u001B[1mwandb\u001B[0m: \tsubsample: 0.7549372742668516\n"
     ]
    },
    {
     "data": {
      "text/plain": "<IPython.core.display.HTML object>",
      "text/html": "\n                Tracking run with wandb version 0.11.0<br/>\n                Syncing run <strong style=\"color:#cdcd00\">hardy-sweep-47</strong> to <a href=\"https://wandb.ai\" target=\"_blank\">Weights & Biases</a> <a href=\"https://docs.wandb.com/integrations/jupyter.html\" target=\"_blank\">(Documentation)</a>.<br/>\n                Project page: <a href=\"https://wandb.ai/devcore/Metriken%20Bauwesen%20Sweeps\" target=\"_blank\">https://wandb.ai/devcore/Metriken%20Bauwesen%20Sweeps</a><br/>\n                Sweep page: <a href=\"https://wandb.ai/devcore/Metriken%20Bauwesen%20Sweeps/sweeps/461ybom6\" target=\"_blank\">https://wandb.ai/devcore/Metriken%20Bauwesen%20Sweeps/sweeps/461ybom6</a><br/>\nRun page: <a href=\"https://wandb.ai/devcore/Metriken%20Bauwesen%20Sweeps/runs/hvyw0b66\" target=\"_blank\">https://wandb.ai/devcore/Metriken%20Bauwesen%20Sweeps/runs/hvyw0b66</a><br/>\n                Run data is saved locally in <code>C:\\Daten\\Development\\FHNW\\ip5-metriken-bauwesen\\src\\weight_and_bias\\wandb\\run-20210720_163008-hvyw0b66</code><br/><br/>\n            "
     },
     "metadata": {},
     "output_type": "display_data"
    },
    {
     "name": "stdout",
     "output_type": "stream",
     "text": [
      "Location: C:\\Daten\\Development\\FHNW\\ip5-metriken-bauwesen\\export\\cluster_means.joblib\n",
      "Location: C:\\Daten\\Development\\FHNW\\ip5-metriken-bauwesen\\export\\fitted_pipeline.joblib\n"
     ]
    },
    {
     "data": {
      "text/plain": "<IPython.core.display.HTML object>",
      "text/html": "<br/>Waiting for W&B process to finish, PID 13412<br/>Program ended successfully."
     },
     "metadata": {},
     "output_type": "display_data"
    },
    {
     "data": {
      "text/plain": "VBox(children=(Label(value=' 0.00MB of 0.00MB uploaded (0.00MB deduped)\\r'), FloatProgress(value=1.0, max=1.0)…",
      "application/vnd.jupyter.widget-view+json": {
       "version_major": 2,
       "version_minor": 0,
       "model_id": "bdd5e17a99e3423b9510b236eb29aa6d"
      }
     },
     "metadata": {},
     "output_type": "display_data"
    },
    {
     "data": {
      "text/plain": "<IPython.core.display.HTML object>",
      "text/html": "Find user logs for this run at: <code>C:\\Daten\\Development\\FHNW\\ip5-metriken-bauwesen\\src\\weight_and_bias\\wandb\\run-20210720_163008-hvyw0b66\\logs\\debug.log</code>"
     },
     "metadata": {},
     "output_type": "display_data"
    },
    {
     "data": {
      "text/plain": "<IPython.core.display.HTML object>",
      "text/html": "Find internal logs for this run at: <code>C:\\Daten\\Development\\FHNW\\ip5-metriken-bauwesen\\src\\weight_and_bias\\wandb\\run-20210720_163008-hvyw0b66\\logs\\debug-internal.log</code>"
     },
     "metadata": {},
     "output_type": "display_data"
    },
    {
     "data": {
      "text/plain": "<IPython.core.display.HTML object>",
      "text/html": "<h3>Run summary:</h3><br/><style>\n    table.wandb td:nth-child(1) { padding: 0 10px; text-align: right }\n    </style><table class=\"wandb\">\n<tr><td>r2</td><td>0.92637</td></tr><tr><td>_runtime</td><td>20</td></tr><tr><td>_timestamp</td><td>1626791428</td></tr><tr><td>_step</td><td>1</td></tr><tr><td>neg_mape</td><td>-0.1693</td></tr></table>"
     },
     "metadata": {},
     "output_type": "display_data"
    },
    {
     "data": {
      "text/plain": "<IPython.core.display.HTML object>",
      "text/html": "<h3>Run history:</h3><br/><style>\n    table.wandb td:nth-child(1) { padding: 0 10px; text-align: right }\n    </style><table class=\"wandb\">\n<tr><td>r2</td><td>▁</td></tr><tr><td>_runtime</td><td>▁▁</td></tr><tr><td>_timestamp</td><td>▁▁</td></tr><tr><td>_step</td><td>▁█</td></tr><tr><td>neg_mape</td><td>▁</td></tr></table><br/>"
     },
     "metadata": {},
     "output_type": "display_data"
    },
    {
     "data": {
      "text/plain": "<IPython.core.display.HTML object>",
      "text/html": "Synced 5 W&B file(s), 0 media file(s), 0 artifact file(s) and 0 other file(s)"
     },
     "metadata": {},
     "output_type": "display_data"
    },
    {
     "data": {
      "text/plain": "<IPython.core.display.HTML object>",
      "text/html": "\n                    <br/>Synced <strong style=\"color:#cdcd00\">hardy-sweep-47</strong>: <a href=\"https://wandb.ai/devcore/Metriken%20Bauwesen%20Sweeps/runs/hvyw0b66\" target=\"_blank\">https://wandb.ai/devcore/Metriken%20Bauwesen%20Sweeps/runs/hvyw0b66</a><br/>\n                "
     },
     "metadata": {},
     "output_type": "display_data"
    },
    {
     "name": "stderr",
     "output_type": "stream",
     "text": [
      "\u001B[34m\u001B[1mwandb\u001B[0m: Agent Starting Run: 6ofwojes with config:\n",
      "\u001B[34m\u001B[1mwandb\u001B[0m: \tlearning_rate: 0.09788494864707913\n",
      "\u001B[34m\u001B[1mwandb\u001B[0m: \tmax_depth: 30\n",
      "\u001B[34m\u001B[1mwandb\u001B[0m: \tmin_samples_split: 8\n",
      "\u001B[34m\u001B[1mwandb\u001B[0m: \tn_estimators: 1536\n",
      "\u001B[34m\u001B[1mwandb\u001B[0m: \tsubsample: 0.811185565131056\n"
     ]
    },
    {
     "data": {
      "text/plain": "<IPython.core.display.HTML object>",
      "text/html": "\n                Tracking run with wandb version 0.11.0<br/>\n                Syncing run <strong style=\"color:#cdcd00\">proud-sweep-48</strong> to <a href=\"https://wandb.ai\" target=\"_blank\">Weights & Biases</a> <a href=\"https://docs.wandb.com/integrations/jupyter.html\" target=\"_blank\">(Documentation)</a>.<br/>\n                Project page: <a href=\"https://wandb.ai/devcore/Metriken%20Bauwesen%20Sweeps\" target=\"_blank\">https://wandb.ai/devcore/Metriken%20Bauwesen%20Sweeps</a><br/>\n                Sweep page: <a href=\"https://wandb.ai/devcore/Metriken%20Bauwesen%20Sweeps/sweeps/461ybom6\" target=\"_blank\">https://wandb.ai/devcore/Metriken%20Bauwesen%20Sweeps/sweeps/461ybom6</a><br/>\nRun page: <a href=\"https://wandb.ai/devcore/Metriken%20Bauwesen%20Sweeps/runs/6ofwojes\" target=\"_blank\">https://wandb.ai/devcore/Metriken%20Bauwesen%20Sweeps/runs/6ofwojes</a><br/>\n                Run data is saved locally in <code>C:\\Daten\\Development\\FHNW\\ip5-metriken-bauwesen\\src\\weight_and_bias\\wandb\\run-20210720_163032-6ofwojes</code><br/><br/>\n            "
     },
     "metadata": {},
     "output_type": "display_data"
    },
    {
     "name": "stdout",
     "output_type": "stream",
     "text": [
      "Location: C:\\Daten\\Development\\FHNW\\ip5-metriken-bauwesen\\export\\cluster_means.joblib\n",
      "Location: C:\\Daten\\Development\\FHNW\\ip5-metriken-bauwesen\\export\\fitted_pipeline.joblib\n"
     ]
    },
    {
     "data": {
      "text/plain": "<IPython.core.display.HTML object>",
      "text/html": "<br/>Waiting for W&B process to finish, PID 5960<br/>Program ended successfully."
     },
     "metadata": {},
     "output_type": "display_data"
    },
    {
     "data": {
      "text/plain": "VBox(children=(Label(value=' 0.00MB of 0.00MB uploaded (0.00MB deduped)\\r'), FloatProgress(value=1.0, max=1.0)…",
      "application/vnd.jupyter.widget-view+json": {
       "version_major": 2,
       "version_minor": 0,
       "model_id": "bd5752fa5da543e19c99decb84abd008"
      }
     },
     "metadata": {},
     "output_type": "display_data"
    },
    {
     "data": {
      "text/plain": "<IPython.core.display.HTML object>",
      "text/html": "Find user logs for this run at: <code>C:\\Daten\\Development\\FHNW\\ip5-metriken-bauwesen\\src\\weight_and_bias\\wandb\\run-20210720_163032-6ofwojes\\logs\\debug.log</code>"
     },
     "metadata": {},
     "output_type": "display_data"
    },
    {
     "data": {
      "text/plain": "<IPython.core.display.HTML object>",
      "text/html": "Find internal logs for this run at: <code>C:\\Daten\\Development\\FHNW\\ip5-metriken-bauwesen\\src\\weight_and_bias\\wandb\\run-20210720_163032-6ofwojes\\logs\\debug-internal.log</code>"
     },
     "metadata": {},
     "output_type": "display_data"
    },
    {
     "data": {
      "text/plain": "<IPython.core.display.HTML object>",
      "text/html": "<h3>Run summary:</h3><br/><style>\n    table.wandb td:nth-child(1) { padding: 0 10px; text-align: right }\n    </style><table class=\"wandb\">\n<tr><td>r2</td><td>0.92452</td></tr><tr><td>_runtime</td><td>42</td></tr><tr><td>_timestamp</td><td>1626791474</td></tr><tr><td>_step</td><td>1</td></tr><tr><td>neg_mape</td><td>-0.16937</td></tr></table>"
     },
     "metadata": {},
     "output_type": "display_data"
    },
    {
     "data": {
      "text/plain": "<IPython.core.display.HTML object>",
      "text/html": "<h3>Run history:</h3><br/><style>\n    table.wandb td:nth-child(1) { padding: 0 10px; text-align: right }\n    </style><table class=\"wandb\">\n<tr><td>r2</td><td>▁</td></tr><tr><td>_runtime</td><td>▁▁</td></tr><tr><td>_timestamp</td><td>▁▁</td></tr><tr><td>_step</td><td>▁█</td></tr><tr><td>neg_mape</td><td>▁</td></tr></table><br/>"
     },
     "metadata": {},
     "output_type": "display_data"
    },
    {
     "data": {
      "text/plain": "<IPython.core.display.HTML object>",
      "text/html": "Synced 5 W&B file(s), 0 media file(s), 0 artifact file(s) and 0 other file(s)"
     },
     "metadata": {},
     "output_type": "display_data"
    },
    {
     "data": {
      "text/plain": "<IPython.core.display.HTML object>",
      "text/html": "\n                    <br/>Synced <strong style=\"color:#cdcd00\">proud-sweep-48</strong>: <a href=\"https://wandb.ai/devcore/Metriken%20Bauwesen%20Sweeps/runs/6ofwojes\" target=\"_blank\">https://wandb.ai/devcore/Metriken%20Bauwesen%20Sweeps/runs/6ofwojes</a><br/>\n                "
     },
     "metadata": {},
     "output_type": "display_data"
    },
    {
     "name": "stderr",
     "output_type": "stream",
     "text": [
      "\u001B[34m\u001B[1mwandb\u001B[0m: Agent Starting Run: lczpso0h with config:\n",
      "\u001B[34m\u001B[1mwandb\u001B[0m: \tlearning_rate: 0.07459715935601963\n",
      "\u001B[34m\u001B[1mwandb\u001B[0m: \tmax_depth: 11\n",
      "\u001B[34m\u001B[1mwandb\u001B[0m: \tmin_samples_split: 4\n",
      "\u001B[34m\u001B[1mwandb\u001B[0m: \tn_estimators: 1536\n",
      "\u001B[34m\u001B[1mwandb\u001B[0m: \tsubsample: 0.8359009041927842\n"
     ]
    },
    {
     "data": {
      "text/plain": "<IPython.core.display.HTML object>",
      "text/html": "\n                Tracking run with wandb version 0.11.0<br/>\n                Syncing run <strong style=\"color:#cdcd00\">exalted-sweep-49</strong> to <a href=\"https://wandb.ai\" target=\"_blank\">Weights & Biases</a> <a href=\"https://docs.wandb.com/integrations/jupyter.html\" target=\"_blank\">(Documentation)</a>.<br/>\n                Project page: <a href=\"https://wandb.ai/devcore/Metriken%20Bauwesen%20Sweeps\" target=\"_blank\">https://wandb.ai/devcore/Metriken%20Bauwesen%20Sweeps</a><br/>\n                Sweep page: <a href=\"https://wandb.ai/devcore/Metriken%20Bauwesen%20Sweeps/sweeps/461ybom6\" target=\"_blank\">https://wandb.ai/devcore/Metriken%20Bauwesen%20Sweeps/sweeps/461ybom6</a><br/>\nRun page: <a href=\"https://wandb.ai/devcore/Metriken%20Bauwesen%20Sweeps/runs/lczpso0h\" target=\"_blank\">https://wandb.ai/devcore/Metriken%20Bauwesen%20Sweeps/runs/lczpso0h</a><br/>\n                Run data is saved locally in <code>C:\\Daten\\Development\\FHNW\\ip5-metriken-bauwesen\\src\\weight_and_bias\\wandb\\run-20210720_163119-lczpso0h</code><br/><br/>\n            "
     },
     "metadata": {},
     "output_type": "display_data"
    },
    {
     "name": "stdout",
     "output_type": "stream",
     "text": [
      "Location: C:\\Daten\\Development\\FHNW\\ip5-metriken-bauwesen\\export\\cluster_means.joblib\n",
      "Location: C:\\Daten\\Development\\FHNW\\ip5-metriken-bauwesen\\export\\fitted_pipeline.joblib\n"
     ]
    },
    {
     "data": {
      "text/plain": "<IPython.core.display.HTML object>",
      "text/html": "<br/>Waiting for W&B process to finish, PID 11036<br/>Program ended successfully."
     },
     "metadata": {},
     "output_type": "display_data"
    },
    {
     "data": {
      "text/plain": "VBox(children=(Label(value=' 0.00MB of 0.00MB uploaded (0.00MB deduped)\\r'), FloatProgress(value=1.0, max=1.0)…",
      "application/vnd.jupyter.widget-view+json": {
       "version_major": 2,
       "version_minor": 0,
       "model_id": "b683a8476b334ab79940d022505d15b2"
      }
     },
     "metadata": {},
     "output_type": "display_data"
    },
    {
     "data": {
      "text/plain": "<IPython.core.display.HTML object>",
      "text/html": "Find user logs for this run at: <code>C:\\Daten\\Development\\FHNW\\ip5-metriken-bauwesen\\src\\weight_and_bias\\wandb\\run-20210720_163119-lczpso0h\\logs\\debug.log</code>"
     },
     "metadata": {},
     "output_type": "display_data"
    },
    {
     "data": {
      "text/plain": "<IPython.core.display.HTML object>",
      "text/html": "Find internal logs for this run at: <code>C:\\Daten\\Development\\FHNW\\ip5-metriken-bauwesen\\src\\weight_and_bias\\wandb\\run-20210720_163119-lczpso0h\\logs\\debug-internal.log</code>"
     },
     "metadata": {},
     "output_type": "display_data"
    },
    {
     "data": {
      "text/plain": "<IPython.core.display.HTML object>",
      "text/html": "<h3>Run summary:</h3><br/><style>\n    table.wandb td:nth-child(1) { padding: 0 10px; text-align: right }\n    </style><table class=\"wandb\">\n<tr><td>r2</td><td>0.91886</td></tr><tr><td>_runtime</td><td>36</td></tr><tr><td>_timestamp</td><td>1626791515</td></tr><tr><td>_step</td><td>1</td></tr><tr><td>neg_mape</td><td>-0.17065</td></tr></table>"
     },
     "metadata": {},
     "output_type": "display_data"
    },
    {
     "data": {
      "text/plain": "<IPython.core.display.HTML object>",
      "text/html": "<h3>Run history:</h3><br/><style>\n    table.wandb td:nth-child(1) { padding: 0 10px; text-align: right }\n    </style><table class=\"wandb\">\n<tr><td>r2</td><td>▁</td></tr><tr><td>_runtime</td><td>▁▁</td></tr><tr><td>_timestamp</td><td>▁▁</td></tr><tr><td>_step</td><td>▁█</td></tr><tr><td>neg_mape</td><td>▁</td></tr></table><br/>"
     },
     "metadata": {},
     "output_type": "display_data"
    },
    {
     "data": {
      "text/plain": "<IPython.core.display.HTML object>",
      "text/html": "Synced 5 W&B file(s), 0 media file(s), 0 artifact file(s) and 0 other file(s)"
     },
     "metadata": {},
     "output_type": "display_data"
    },
    {
     "data": {
      "text/plain": "<IPython.core.display.HTML object>",
      "text/html": "\n                    <br/>Synced <strong style=\"color:#cdcd00\">exalted-sweep-49</strong>: <a href=\"https://wandb.ai/devcore/Metriken%20Bauwesen%20Sweeps/runs/lczpso0h\" target=\"_blank\">https://wandb.ai/devcore/Metriken%20Bauwesen%20Sweeps/runs/lczpso0h</a><br/>\n                "
     },
     "metadata": {},
     "output_type": "display_data"
    },
    {
     "name": "stderr",
     "output_type": "stream",
     "text": [
      "\u001B[34m\u001B[1mwandb\u001B[0m: Agent Starting Run: 9qxrxczz with config:\n",
      "\u001B[34m\u001B[1mwandb\u001B[0m: \tlearning_rate: 0.028724052602233464\n",
      "\u001B[34m\u001B[1mwandb\u001B[0m: \tmax_depth: 30\n",
      "\u001B[34m\u001B[1mwandb\u001B[0m: \tmin_samples_split: 15\n",
      "\u001B[34m\u001B[1mwandb\u001B[0m: \tn_estimators: 512\n",
      "\u001B[34m\u001B[1mwandb\u001B[0m: \tsubsample: 0.6045612275017713\n"
     ]
    },
    {
     "data": {
      "text/plain": "<IPython.core.display.HTML object>",
      "text/html": "\n                Tracking run with wandb version 0.11.0<br/>\n                Syncing run <strong style=\"color:#cdcd00\">earnest-sweep-50</strong> to <a href=\"https://wandb.ai\" target=\"_blank\">Weights & Biases</a> <a href=\"https://docs.wandb.com/integrations/jupyter.html\" target=\"_blank\">(Documentation)</a>.<br/>\n                Project page: <a href=\"https://wandb.ai/devcore/Metriken%20Bauwesen%20Sweeps\" target=\"_blank\">https://wandb.ai/devcore/Metriken%20Bauwesen%20Sweeps</a><br/>\n                Sweep page: <a href=\"https://wandb.ai/devcore/Metriken%20Bauwesen%20Sweeps/sweeps/461ybom6\" target=\"_blank\">https://wandb.ai/devcore/Metriken%20Bauwesen%20Sweeps/sweeps/461ybom6</a><br/>\nRun page: <a href=\"https://wandb.ai/devcore/Metriken%20Bauwesen%20Sweeps/runs/9qxrxczz\" target=\"_blank\">https://wandb.ai/devcore/Metriken%20Bauwesen%20Sweeps/runs/9qxrxczz</a><br/>\n                Run data is saved locally in <code>C:\\Daten\\Development\\FHNW\\ip5-metriken-bauwesen\\src\\weight_and_bias\\wandb\\run-20210720_163158-9qxrxczz</code><br/><br/>\n            "
     },
     "metadata": {},
     "output_type": "display_data"
    },
    {
     "name": "stdout",
     "output_type": "stream",
     "text": [
      "Location: C:\\Daten\\Development\\FHNW\\ip5-metriken-bauwesen\\export\\cluster_means.joblib\n",
      "Location: C:\\Daten\\Development\\FHNW\\ip5-metriken-bauwesen\\export\\fitted_pipeline.joblib\n"
     ]
    },
    {
     "data": {
      "text/plain": "<IPython.core.display.HTML object>",
      "text/html": "<br/>Waiting for W&B process to finish, PID 3084<br/>Program ended successfully."
     },
     "metadata": {},
     "output_type": "display_data"
    },
    {
     "data": {
      "text/plain": "VBox(children=(Label(value=' 0.00MB of 0.00MB uploaded (0.00MB deduped)\\r'), FloatProgress(value=1.0, max=1.0)…",
      "application/vnd.jupyter.widget-view+json": {
       "version_major": 2,
       "version_minor": 0,
       "model_id": "ba2461324dc74e408cfd98fe1ca36aa9"
      }
     },
     "metadata": {},
     "output_type": "display_data"
    },
    {
     "data": {
      "text/plain": "<IPython.core.display.HTML object>",
      "text/html": "Find user logs for this run at: <code>C:\\Daten\\Development\\FHNW\\ip5-metriken-bauwesen\\src\\weight_and_bias\\wandb\\run-20210720_163158-9qxrxczz\\logs\\debug.log</code>"
     },
     "metadata": {},
     "output_type": "display_data"
    },
    {
     "data": {
      "text/plain": "<IPython.core.display.HTML object>",
      "text/html": "Find internal logs for this run at: <code>C:\\Daten\\Development\\FHNW\\ip5-metriken-bauwesen\\src\\weight_and_bias\\wandb\\run-20210720_163158-9qxrxczz\\logs\\debug-internal.log</code>"
     },
     "metadata": {},
     "output_type": "display_data"
    },
    {
     "data": {
      "text/plain": "<IPython.core.display.HTML object>",
      "text/html": "<h3>Run summary:</h3><br/><style>\n    table.wandb td:nth-child(1) { padding: 0 10px; text-align: right }\n    </style><table class=\"wandb\">\n<tr><td>r2</td><td>0.93566</td></tr><tr><td>_runtime</td><td>10</td></tr><tr><td>_timestamp</td><td>1626791528</td></tr><tr><td>_step</td><td>1</td></tr><tr><td>neg_mape</td><td>-0.16812</td></tr></table>"
     },
     "metadata": {},
     "output_type": "display_data"
    },
    {
     "data": {
      "text/plain": "<IPython.core.display.HTML object>",
      "text/html": "<h3>Run history:</h3><br/><style>\n    table.wandb td:nth-child(1) { padding: 0 10px; text-align: right }\n    </style><table class=\"wandb\">\n<tr><td>r2</td><td>▁</td></tr><tr><td>_runtime</td><td>▁▁</td></tr><tr><td>_timestamp</td><td>▁▁</td></tr><tr><td>_step</td><td>▁█</td></tr><tr><td>neg_mape</td><td>▁</td></tr></table><br/>"
     },
     "metadata": {},
     "output_type": "display_data"
    },
    {
     "data": {
      "text/plain": "<IPython.core.display.HTML object>",
      "text/html": "Synced 5 W&B file(s), 0 media file(s), 0 artifact file(s) and 0 other file(s)"
     },
     "metadata": {},
     "output_type": "display_data"
    },
    {
     "data": {
      "text/plain": "<IPython.core.display.HTML object>",
      "text/html": "\n                    <br/>Synced <strong style=\"color:#cdcd00\">earnest-sweep-50</strong>: <a href=\"https://wandb.ai/devcore/Metriken%20Bauwesen%20Sweeps/runs/9qxrxczz\" target=\"_blank\">https://wandb.ai/devcore/Metriken%20Bauwesen%20Sweeps/runs/9qxrxczz</a><br/>\n                "
     },
     "metadata": {},
     "output_type": "display_data"
    },
    {
     "name": "stderr",
     "output_type": "stream",
     "text": [
      "\u001B[34m\u001B[1mwandb\u001B[0m: Agent Starting Run: p88boit5 with config:\n",
      "\u001B[34m\u001B[1mwandb\u001B[0m: \tlearning_rate: 0.06620565289073314\n",
      "\u001B[34m\u001B[1mwandb\u001B[0m: \tmax_depth: 18\n",
      "\u001B[34m\u001B[1mwandb\u001B[0m: \tmin_samples_split: 10\n",
      "\u001B[34m\u001B[1mwandb\u001B[0m: \tn_estimators: 1536\n",
      "\u001B[34m\u001B[1mwandb\u001B[0m: \tsubsample: 0.5858981944810386\n"
     ]
    },
    {
     "data": {
      "text/plain": "<IPython.core.display.HTML object>",
      "text/html": "\n                Tracking run with wandb version 0.11.0<br/>\n                Syncing run <strong style=\"color:#cdcd00\">youthful-sweep-51</strong> to <a href=\"https://wandb.ai\" target=\"_blank\">Weights & Biases</a> <a href=\"https://docs.wandb.com/integrations/jupyter.html\" target=\"_blank\">(Documentation)</a>.<br/>\n                Project page: <a href=\"https://wandb.ai/devcore/Metriken%20Bauwesen%20Sweeps\" target=\"_blank\">https://wandb.ai/devcore/Metriken%20Bauwesen%20Sweeps</a><br/>\n                Sweep page: <a href=\"https://wandb.ai/devcore/Metriken%20Bauwesen%20Sweeps/sweeps/461ybom6\" target=\"_blank\">https://wandb.ai/devcore/Metriken%20Bauwesen%20Sweeps/sweeps/461ybom6</a><br/>\nRun page: <a href=\"https://wandb.ai/devcore/Metriken%20Bauwesen%20Sweeps/runs/p88boit5\" target=\"_blank\">https://wandb.ai/devcore/Metriken%20Bauwesen%20Sweeps/runs/p88boit5</a><br/>\n                Run data is saved locally in <code>C:\\Daten\\Development\\FHNW\\ip5-metriken-bauwesen\\src\\weight_and_bias\\wandb\\run-20210720_163213-p88boit5</code><br/><br/>\n            "
     },
     "metadata": {},
     "output_type": "display_data"
    },
    {
     "name": "stdout",
     "output_type": "stream",
     "text": [
      "Location: C:\\Daten\\Development\\FHNW\\ip5-metriken-bauwesen\\export\\cluster_means.joblib\n",
      "Location: C:\\Daten\\Development\\FHNW\\ip5-metriken-bauwesen\\export\\fitted_pipeline.joblib\n"
     ]
    },
    {
     "data": {
      "text/plain": "<IPython.core.display.HTML object>",
      "text/html": "<br/>Waiting for W&B process to finish, PID 10648<br/>Program ended successfully."
     },
     "metadata": {},
     "output_type": "display_data"
    },
    {
     "data": {
      "text/plain": "VBox(children=(Label(value=' 0.00MB of 0.00MB uploaded (0.00MB deduped)\\r'), FloatProgress(value=1.0, max=1.0)…",
      "application/vnd.jupyter.widget-view+json": {
       "version_major": 2,
       "version_minor": 0,
       "model_id": "9274c6cd5cf048519ad3dcf3506ea0d3"
      }
     },
     "metadata": {},
     "output_type": "display_data"
    },
    {
     "data": {
      "text/plain": "<IPython.core.display.HTML object>",
      "text/html": "Find user logs for this run at: <code>C:\\Daten\\Development\\FHNW\\ip5-metriken-bauwesen\\src\\weight_and_bias\\wandb\\run-20210720_163213-p88boit5\\logs\\debug.log</code>"
     },
     "metadata": {},
     "output_type": "display_data"
    },
    {
     "data": {
      "text/plain": "<IPython.core.display.HTML object>",
      "text/html": "Find internal logs for this run at: <code>C:\\Daten\\Development\\FHNW\\ip5-metriken-bauwesen\\src\\weight_and_bias\\wandb\\run-20210720_163213-p88boit5\\logs\\debug-internal.log</code>"
     },
     "metadata": {},
     "output_type": "display_data"
    },
    {
     "data": {
      "text/plain": "<IPython.core.display.HTML object>",
      "text/html": "<h3>Run summary:</h3><br/><style>\n    table.wandb td:nth-child(1) { padding: 0 10px; text-align: right }\n    </style><table class=\"wandb\">\n<tr><td>r2</td><td>0.93997</td></tr><tr><td>_runtime</td><td>27</td></tr><tr><td>_timestamp</td><td>1626791560</td></tr><tr><td>_step</td><td>1</td></tr><tr><td>neg_mape</td><td>-0.16898</td></tr></table>"
     },
     "metadata": {},
     "output_type": "display_data"
    },
    {
     "data": {
      "text/plain": "<IPython.core.display.HTML object>",
      "text/html": "<h3>Run history:</h3><br/><style>\n    table.wandb td:nth-child(1) { padding: 0 10px; text-align: right }\n    </style><table class=\"wandb\">\n<tr><td>r2</td><td>▁</td></tr><tr><td>_runtime</td><td>▁▁</td></tr><tr><td>_timestamp</td><td>▁▁</td></tr><tr><td>_step</td><td>▁█</td></tr><tr><td>neg_mape</td><td>▁</td></tr></table><br/>"
     },
     "metadata": {},
     "output_type": "display_data"
    },
    {
     "data": {
      "text/plain": "<IPython.core.display.HTML object>",
      "text/html": "Synced 5 W&B file(s), 0 media file(s), 0 artifact file(s) and 0 other file(s)"
     },
     "metadata": {},
     "output_type": "display_data"
    },
    {
     "data": {
      "text/plain": "<IPython.core.display.HTML object>",
      "text/html": "\n                    <br/>Synced <strong style=\"color:#cdcd00\">youthful-sweep-51</strong>: <a href=\"https://wandb.ai/devcore/Metriken%20Bauwesen%20Sweeps/runs/p88boit5\" target=\"_blank\">https://wandb.ai/devcore/Metriken%20Bauwesen%20Sweeps/runs/p88boit5</a><br/>\n                "
     },
     "metadata": {},
     "output_type": "display_data"
    },
    {
     "name": "stderr",
     "output_type": "stream",
     "text": [
      "\u001B[34m\u001B[1mwandb\u001B[0m: Agent Starting Run: cm25yvol with config:\n",
      "\u001B[34m\u001B[1mwandb\u001B[0m: \tlearning_rate: 0.06581912071389308\n",
      "\u001B[34m\u001B[1mwandb\u001B[0m: \tmax_depth: 10\n",
      "\u001B[34m\u001B[1mwandb\u001B[0m: \tmin_samples_split: 4\n",
      "\u001B[34m\u001B[1mwandb\u001B[0m: \tn_estimators: 512\n",
      "\u001B[34m\u001B[1mwandb\u001B[0m: \tsubsample: 0.7238037468547591\n"
     ]
    },
    {
     "data": {
      "text/plain": "<IPython.core.display.HTML object>",
      "text/html": "\n                Tracking run with wandb version 0.11.0<br/>\n                Syncing run <strong style=\"color:#cdcd00\">prime-sweep-52</strong> to <a href=\"https://wandb.ai\" target=\"_blank\">Weights & Biases</a> <a href=\"https://docs.wandb.com/integrations/jupyter.html\" target=\"_blank\">(Documentation)</a>.<br/>\n                Project page: <a href=\"https://wandb.ai/devcore/Metriken%20Bauwesen%20Sweeps\" target=\"_blank\">https://wandb.ai/devcore/Metriken%20Bauwesen%20Sweeps</a><br/>\n                Sweep page: <a href=\"https://wandb.ai/devcore/Metriken%20Bauwesen%20Sweeps/sweeps/461ybom6\" target=\"_blank\">https://wandb.ai/devcore/Metriken%20Bauwesen%20Sweeps/sweeps/461ybom6</a><br/>\nRun page: <a href=\"https://wandb.ai/devcore/Metriken%20Bauwesen%20Sweeps/runs/cm25yvol\" target=\"_blank\">https://wandb.ai/devcore/Metriken%20Bauwesen%20Sweeps/runs/cm25yvol</a><br/>\n                Run data is saved locally in <code>C:\\Daten\\Development\\FHNW\\ip5-metriken-bauwesen\\src\\weight_and_bias\\wandb\\run-20210720_163244-cm25yvol</code><br/><br/>\n            "
     },
     "metadata": {},
     "output_type": "display_data"
    },
    {
     "name": "stdout",
     "output_type": "stream",
     "text": [
      "Location: C:\\Daten\\Development\\FHNW\\ip5-metriken-bauwesen\\export\\cluster_means.joblib\n",
      "Location: C:\\Daten\\Development\\FHNW\\ip5-metriken-bauwesen\\export\\fitted_pipeline.joblib\n"
     ]
    },
    {
     "data": {
      "text/plain": "<IPython.core.display.HTML object>",
      "text/html": "<br/>Waiting for W&B process to finish, PID 10280<br/>Program ended successfully."
     },
     "metadata": {},
     "output_type": "display_data"
    },
    {
     "data": {
      "text/plain": "VBox(children=(Label(value=' 0.00MB of 0.00MB uploaded (0.00MB deduped)\\r'), FloatProgress(value=1.0, max=1.0)…",
      "application/vnd.jupyter.widget-view+json": {
       "version_major": 2,
       "version_minor": 0,
       "model_id": "957d7b90422647d49531ea013832a6d0"
      }
     },
     "metadata": {},
     "output_type": "display_data"
    },
    {
     "data": {
      "text/plain": "<IPython.core.display.HTML object>",
      "text/html": "Find user logs for this run at: <code>C:\\Daten\\Development\\FHNW\\ip5-metriken-bauwesen\\src\\weight_and_bias\\wandb\\run-20210720_163244-cm25yvol\\logs\\debug.log</code>"
     },
     "metadata": {},
     "output_type": "display_data"
    },
    {
     "data": {
      "text/plain": "<IPython.core.display.HTML object>",
      "text/html": "Find internal logs for this run at: <code>C:\\Daten\\Development\\FHNW\\ip5-metriken-bauwesen\\src\\weight_and_bias\\wandb\\run-20210720_163244-cm25yvol\\logs\\debug-internal.log</code>"
     },
     "metadata": {},
     "output_type": "display_data"
    },
    {
     "data": {
      "text/plain": "<IPython.core.display.HTML object>",
      "text/html": "<h3>Run summary:</h3><br/><style>\n    table.wandb td:nth-child(1) { padding: 0 10px; text-align: right }\n    </style><table class=\"wandb\">\n<tr><td>r2</td><td>0.91735</td></tr><tr><td>_runtime</td><td>23</td></tr><tr><td>_timestamp</td><td>1626791587</td></tr><tr><td>_step</td><td>1</td></tr><tr><td>neg_mape</td><td>-0.16669</td></tr></table>"
     },
     "metadata": {},
     "output_type": "display_data"
    },
    {
     "data": {
      "text/plain": "<IPython.core.display.HTML object>",
      "text/html": "<h3>Run history:</h3><br/><style>\n    table.wandb td:nth-child(1) { padding: 0 10px; text-align: right }\n    </style><table class=\"wandb\">\n<tr><td>r2</td><td>▁</td></tr><tr><td>_runtime</td><td>▁▁</td></tr><tr><td>_timestamp</td><td>▁▁</td></tr><tr><td>_step</td><td>▁█</td></tr><tr><td>neg_mape</td><td>▁</td></tr></table><br/>"
     },
     "metadata": {},
     "output_type": "display_data"
    },
    {
     "data": {
      "text/plain": "<IPython.core.display.HTML object>",
      "text/html": "Synced 5 W&B file(s), 0 media file(s), 0 artifact file(s) and 0 other file(s)"
     },
     "metadata": {},
     "output_type": "display_data"
    },
    {
     "data": {
      "text/plain": "<IPython.core.display.HTML object>",
      "text/html": "\n                    <br/>Synced <strong style=\"color:#cdcd00\">prime-sweep-52</strong>: <a href=\"https://wandb.ai/devcore/Metriken%20Bauwesen%20Sweeps/runs/cm25yvol\" target=\"_blank\">https://wandb.ai/devcore/Metriken%20Bauwesen%20Sweeps/runs/cm25yvol</a><br/>\n                "
     },
     "metadata": {},
     "output_type": "display_data"
    },
    {
     "name": "stderr",
     "output_type": "stream",
     "text": [
      "\u001B[34m\u001B[1mwandb\u001B[0m: Agent Starting Run: 0jpdjpil with config:\n",
      "\u001B[34m\u001B[1mwandb\u001B[0m: \tlearning_rate: 0.10073250888784993\n",
      "\u001B[34m\u001B[1mwandb\u001B[0m: \tmax_depth: 30\n",
      "\u001B[34m\u001B[1mwandb\u001B[0m: \tmin_samples_split: 15\n",
      "\u001B[34m\u001B[1mwandb\u001B[0m: \tn_estimators: 2048\n",
      "\u001B[34m\u001B[1mwandb\u001B[0m: \tsubsample: 0.5834133681285422\n"
     ]
    },
    {
     "data": {
      "text/plain": "<IPython.core.display.HTML object>",
      "text/html": "\n                Tracking run with wandb version 0.11.0<br/>\n                Syncing run <strong style=\"color:#cdcd00\">crisp-sweep-53</strong> to <a href=\"https://wandb.ai\" target=\"_blank\">Weights & Biases</a> <a href=\"https://docs.wandb.com/integrations/jupyter.html\" target=\"_blank\">(Documentation)</a>.<br/>\n                Project page: <a href=\"https://wandb.ai/devcore/Metriken%20Bauwesen%20Sweeps\" target=\"_blank\">https://wandb.ai/devcore/Metriken%20Bauwesen%20Sweeps</a><br/>\n                Sweep page: <a href=\"https://wandb.ai/devcore/Metriken%20Bauwesen%20Sweeps/sweeps/461ybom6\" target=\"_blank\">https://wandb.ai/devcore/Metriken%20Bauwesen%20Sweeps/sweeps/461ybom6</a><br/>\nRun page: <a href=\"https://wandb.ai/devcore/Metriken%20Bauwesen%20Sweeps/runs/0jpdjpil\" target=\"_blank\">https://wandb.ai/devcore/Metriken%20Bauwesen%20Sweeps/runs/0jpdjpil</a><br/>\n                Run data is saved locally in <code>C:\\Daten\\Development\\FHNW\\ip5-metriken-bauwesen\\src\\weight_and_bias\\wandb\\run-20210720_163312-0jpdjpil</code><br/><br/>\n            "
     },
     "metadata": {},
     "output_type": "display_data"
    },
    {
     "name": "stdout",
     "output_type": "stream",
     "text": [
      "Location: C:\\Daten\\Development\\FHNW\\ip5-metriken-bauwesen\\export\\cluster_means.joblib\n",
      "Location: C:\\Daten\\Development\\FHNW\\ip5-metriken-bauwesen\\export\\fitted_pipeline.joblib\n"
     ]
    },
    {
     "data": {
      "text/plain": "<IPython.core.display.HTML object>",
      "text/html": "<br/>Waiting for W&B process to finish, PID 4984<br/>Program ended successfully."
     },
     "metadata": {},
     "output_type": "display_data"
    },
    {
     "data": {
      "text/plain": "VBox(children=(Label(value=' 0.00MB of 0.00MB uploaded (0.00MB deduped)\\r'), FloatProgress(value=1.0, max=1.0)…",
      "application/vnd.jupyter.widget-view+json": {
       "version_major": 2,
       "version_minor": 0,
       "model_id": "283c1730dd754635b4f53f365b80df9c"
      }
     },
     "metadata": {},
     "output_type": "display_data"
    },
    {
     "data": {
      "text/plain": "<IPython.core.display.HTML object>",
      "text/html": "Find user logs for this run at: <code>C:\\Daten\\Development\\FHNW\\ip5-metriken-bauwesen\\src\\weight_and_bias\\wandb\\run-20210720_163312-0jpdjpil\\logs\\debug.log</code>"
     },
     "metadata": {},
     "output_type": "display_data"
    },
    {
     "data": {
      "text/plain": "<IPython.core.display.HTML object>",
      "text/html": "Find internal logs for this run at: <code>C:\\Daten\\Development\\FHNW\\ip5-metriken-bauwesen\\src\\weight_and_bias\\wandb\\run-20210720_163312-0jpdjpil\\logs\\debug-internal.log</code>"
     },
     "metadata": {},
     "output_type": "display_data"
    },
    {
     "data": {
      "text/plain": "<IPython.core.display.HTML object>",
      "text/html": "<h3>Run summary:</h3><br/><style>\n    table.wandb td:nth-child(1) { padding: 0 10px; text-align: right }\n    </style><table class=\"wandb\">\n<tr><td>r2</td><td>0.94498</td></tr><tr><td>_runtime</td><td>37</td></tr><tr><td>_timestamp</td><td>1626791629</td></tr><tr><td>_step</td><td>1</td></tr><tr><td>neg_mape</td><td>-0.17123</td></tr></table>"
     },
     "metadata": {},
     "output_type": "display_data"
    },
    {
     "data": {
      "text/plain": "<IPython.core.display.HTML object>",
      "text/html": "<h3>Run history:</h3><br/><style>\n    table.wandb td:nth-child(1) { padding: 0 10px; text-align: right }\n    </style><table class=\"wandb\">\n<tr><td>r2</td><td>▁</td></tr><tr><td>_runtime</td><td>▁▁</td></tr><tr><td>_timestamp</td><td>▁▁</td></tr><tr><td>_step</td><td>▁█</td></tr><tr><td>neg_mape</td><td>▁</td></tr></table><br/>"
     },
     "metadata": {},
     "output_type": "display_data"
    },
    {
     "data": {
      "text/plain": "<IPython.core.display.HTML object>",
      "text/html": "Synced 5 W&B file(s), 0 media file(s), 0 artifact file(s) and 0 other file(s)"
     },
     "metadata": {},
     "output_type": "display_data"
    },
    {
     "data": {
      "text/plain": "<IPython.core.display.HTML object>",
      "text/html": "\n                    <br/>Synced <strong style=\"color:#cdcd00\">crisp-sweep-53</strong>: <a href=\"https://wandb.ai/devcore/Metriken%20Bauwesen%20Sweeps/runs/0jpdjpil\" target=\"_blank\">https://wandb.ai/devcore/Metriken%20Bauwesen%20Sweeps/runs/0jpdjpil</a><br/>\n                "
     },
     "metadata": {},
     "output_type": "display_data"
    },
    {
     "name": "stderr",
     "output_type": "stream",
     "text": [
      "\u001B[34m\u001B[1mwandb\u001B[0m: Agent Starting Run: 53thm7xs with config:\n",
      "\u001B[34m\u001B[1mwandb\u001B[0m: \tlearning_rate: 0.04643456285788874\n",
      "\u001B[34m\u001B[1mwandb\u001B[0m: \tmax_depth: 11\n",
      "\u001B[34m\u001B[1mwandb\u001B[0m: \tmin_samples_split: 4\n",
      "\u001B[34m\u001B[1mwandb\u001B[0m: \tn_estimators: 768\n",
      "\u001B[34m\u001B[1mwandb\u001B[0m: \tsubsample: 0.8133521188051187\n"
     ]
    },
    {
     "data": {
      "text/plain": "<IPython.core.display.HTML object>",
      "text/html": "\n                Tracking run with wandb version 0.11.0<br/>\n                Syncing run <strong style=\"color:#cdcd00\">bright-sweep-54</strong> to <a href=\"https://wandb.ai\" target=\"_blank\">Weights & Biases</a> <a href=\"https://docs.wandb.com/integrations/jupyter.html\" target=\"_blank\">(Documentation)</a>.<br/>\n                Project page: <a href=\"https://wandb.ai/devcore/Metriken%20Bauwesen%20Sweeps\" target=\"_blank\">https://wandb.ai/devcore/Metriken%20Bauwesen%20Sweeps</a><br/>\n                Sweep page: <a href=\"https://wandb.ai/devcore/Metriken%20Bauwesen%20Sweeps/sweeps/461ybom6\" target=\"_blank\">https://wandb.ai/devcore/Metriken%20Bauwesen%20Sweeps/sweeps/461ybom6</a><br/>\nRun page: <a href=\"https://wandb.ai/devcore/Metriken%20Bauwesen%20Sweeps/runs/53thm7xs\" target=\"_blank\">https://wandb.ai/devcore/Metriken%20Bauwesen%20Sweeps/runs/53thm7xs</a><br/>\n                Run data is saved locally in <code>C:\\Daten\\Development\\FHNW\\ip5-metriken-bauwesen\\src\\weight_and_bias\\wandb\\run-20210720_163353-53thm7xs</code><br/><br/>\n            "
     },
     "metadata": {},
     "output_type": "display_data"
    },
    {
     "name": "stdout",
     "output_type": "stream",
     "text": [
      "Location: C:\\Daten\\Development\\FHNW\\ip5-metriken-bauwesen\\export\\cluster_means.joblib\n",
      "Location: C:\\Daten\\Development\\FHNW\\ip5-metriken-bauwesen\\export\\fitted_pipeline.joblib\n"
     ]
    },
    {
     "data": {
      "text/plain": "<IPython.core.display.HTML object>",
      "text/html": "<br/>Waiting for W&B process to finish, PID 7040<br/>Program ended successfully."
     },
     "metadata": {},
     "output_type": "display_data"
    },
    {
     "data": {
      "text/plain": "VBox(children=(Label(value=' 0.00MB of 0.00MB uploaded (0.00MB deduped)\\r'), FloatProgress(value=1.0, max=1.0)…",
      "application/vnd.jupyter.widget-view+json": {
       "version_major": 2,
       "version_minor": 0,
       "model_id": "8fbe9d15d0dc480db4d18f25411104f8"
      }
     },
     "metadata": {},
     "output_type": "display_data"
    },
    {
     "data": {
      "text/plain": "<IPython.core.display.HTML object>",
      "text/html": "Find user logs for this run at: <code>C:\\Daten\\Development\\FHNW\\ip5-metriken-bauwesen\\src\\weight_and_bias\\wandb\\run-20210720_163353-53thm7xs\\logs\\debug.log</code>"
     },
     "metadata": {},
     "output_type": "display_data"
    },
    {
     "data": {
      "text/plain": "<IPython.core.display.HTML object>",
      "text/html": "Find internal logs for this run at: <code>C:\\Daten\\Development\\FHNW\\ip5-metriken-bauwesen\\src\\weight_and_bias\\wandb\\run-20210720_163353-53thm7xs\\logs\\debug-internal.log</code>"
     },
     "metadata": {},
     "output_type": "display_data"
    },
    {
     "data": {
      "text/plain": "<IPython.core.display.HTML object>",
      "text/html": "<h3>Run summary:</h3><br/><style>\n    table.wandb td:nth-child(1) { padding: 0 10px; text-align: right }\n    </style><table class=\"wandb\">\n<tr><td>r2</td><td>0.92054</td></tr><tr><td>_runtime</td><td>15</td></tr><tr><td>_timestamp</td><td>1626791648</td></tr><tr><td>_step</td><td>1</td></tr><tr><td>neg_mape</td><td>-0.17027</td></tr></table>"
     },
     "metadata": {},
     "output_type": "display_data"
    },
    {
     "data": {
      "text/plain": "<IPython.core.display.HTML object>",
      "text/html": "<h3>Run history:</h3><br/><style>\n    table.wandb td:nth-child(1) { padding: 0 10px; text-align: right }\n    </style><table class=\"wandb\">\n<tr><td>r2</td><td>▁</td></tr><tr><td>_runtime</td><td>▁▁</td></tr><tr><td>_timestamp</td><td>▁▁</td></tr><tr><td>_step</td><td>▁█</td></tr><tr><td>neg_mape</td><td>▁</td></tr></table><br/>"
     },
     "metadata": {},
     "output_type": "display_data"
    },
    {
     "data": {
      "text/plain": "<IPython.core.display.HTML object>",
      "text/html": "Synced 5 W&B file(s), 0 media file(s), 0 artifact file(s) and 0 other file(s)"
     },
     "metadata": {},
     "output_type": "display_data"
    },
    {
     "data": {
      "text/plain": "<IPython.core.display.HTML object>",
      "text/html": "\n                    <br/>Synced <strong style=\"color:#cdcd00\">bright-sweep-54</strong>: <a href=\"https://wandb.ai/devcore/Metriken%20Bauwesen%20Sweeps/runs/53thm7xs\" target=\"_blank\">https://wandb.ai/devcore/Metriken%20Bauwesen%20Sweeps/runs/53thm7xs</a><br/>\n                "
     },
     "metadata": {},
     "output_type": "display_data"
    },
    {
     "name": "stderr",
     "output_type": "stream",
     "text": [
      "\u001B[34m\u001B[1mwandb\u001B[0m: Agent Starting Run: se6b4783 with config:\n",
      "\u001B[34m\u001B[1mwandb\u001B[0m: \tlearning_rate: 0.04912230377347903\n",
      "\u001B[34m\u001B[1mwandb\u001B[0m: \tmax_depth: 15\n",
      "\u001B[34m\u001B[1mwandb\u001B[0m: \tmin_samples_split: 4\n",
      "\u001B[34m\u001B[1mwandb\u001B[0m: \tn_estimators: 512\n",
      "\u001B[34m\u001B[1mwandb\u001B[0m: \tsubsample: 0.7183543046925017\n"
     ]
    },
    {
     "data": {
      "text/plain": "<IPython.core.display.HTML object>",
      "text/html": "\n                Tracking run with wandb version 0.11.0<br/>\n                Syncing run <strong style=\"color:#cdcd00\">classic-sweep-55</strong> to <a href=\"https://wandb.ai\" target=\"_blank\">Weights & Biases</a> <a href=\"https://docs.wandb.com/integrations/jupyter.html\" target=\"_blank\">(Documentation)</a>.<br/>\n                Project page: <a href=\"https://wandb.ai/devcore/Metriken%20Bauwesen%20Sweeps\" target=\"_blank\">https://wandb.ai/devcore/Metriken%20Bauwesen%20Sweeps</a><br/>\n                Sweep page: <a href=\"https://wandb.ai/devcore/Metriken%20Bauwesen%20Sweeps/sweeps/461ybom6\" target=\"_blank\">https://wandb.ai/devcore/Metriken%20Bauwesen%20Sweeps/sweeps/461ybom6</a><br/>\nRun page: <a href=\"https://wandb.ai/devcore/Metriken%20Bauwesen%20Sweeps/runs/se6b4783\" target=\"_blank\">https://wandb.ai/devcore/Metriken%20Bauwesen%20Sweeps/runs/se6b4783</a><br/>\n                Run data is saved locally in <code>C:\\Daten\\Development\\FHNW\\ip5-metriken-bauwesen\\src\\weight_and_bias\\wandb\\run-20210720_163413-se6b4783</code><br/><br/>\n            "
     },
     "metadata": {},
     "output_type": "display_data"
    },
    {
     "name": "stdout",
     "output_type": "stream",
     "text": [
      "Location: C:\\Daten\\Development\\FHNW\\ip5-metriken-bauwesen\\export\\cluster_means.joblib\n",
      "Location: C:\\Daten\\Development\\FHNW\\ip5-metriken-bauwesen\\export\\fitted_pipeline.joblib\n"
     ]
    },
    {
     "data": {
      "text/plain": "<IPython.core.display.HTML object>",
      "text/html": "<br/>Waiting for W&B process to finish, PID 7520<br/>Program ended successfully."
     },
     "metadata": {},
     "output_type": "display_data"
    },
    {
     "data": {
      "text/plain": "VBox(children=(Label(value=' 0.00MB of 0.00MB uploaded (0.00MB deduped)\\r'), FloatProgress(value=1.0, max=1.0)…",
      "application/vnd.jupyter.widget-view+json": {
       "version_major": 2,
       "version_minor": 0,
       "model_id": "991a97b567804e689c49e9cc51a31208"
      }
     },
     "metadata": {},
     "output_type": "display_data"
    },
    {
     "data": {
      "text/plain": "<IPython.core.display.HTML object>",
      "text/html": "Find user logs for this run at: <code>C:\\Daten\\Development\\FHNW\\ip5-metriken-bauwesen\\src\\weight_and_bias\\wandb\\run-20210720_163413-se6b4783\\logs\\debug.log</code>"
     },
     "metadata": {},
     "output_type": "display_data"
    },
    {
     "data": {
      "text/plain": "<IPython.core.display.HTML object>",
      "text/html": "Find internal logs for this run at: <code>C:\\Daten\\Development\\FHNW\\ip5-metriken-bauwesen\\src\\weight_and_bias\\wandb\\run-20210720_163413-se6b4783\\logs\\debug-internal.log</code>"
     },
     "metadata": {},
     "output_type": "display_data"
    },
    {
     "data": {
      "text/plain": "<IPython.core.display.HTML object>",
      "text/html": "<h3>Run summary:</h3><br/><style>\n    table.wandb td:nth-child(1) { padding: 0 10px; text-align: right }\n    </style><table class=\"wandb\">\n<tr><td>r2</td><td>0.92178</td></tr><tr><td>_runtime</td><td>11</td></tr><tr><td>_timestamp</td><td>1626791664</td></tr><tr><td>_step</td><td>1</td></tr><tr><td>neg_mape</td><td>-0.16637</td></tr></table>"
     },
     "metadata": {},
     "output_type": "display_data"
    },
    {
     "data": {
      "text/plain": "<IPython.core.display.HTML object>",
      "text/html": "<h3>Run history:</h3><br/><style>\n    table.wandb td:nth-child(1) { padding: 0 10px; text-align: right }\n    </style><table class=\"wandb\">\n<tr><td>r2</td><td>▁</td></tr><tr><td>_runtime</td><td>▁▁</td></tr><tr><td>_timestamp</td><td>▁▁</td></tr><tr><td>_step</td><td>▁█</td></tr><tr><td>neg_mape</td><td>▁</td></tr></table><br/>"
     },
     "metadata": {},
     "output_type": "display_data"
    },
    {
     "data": {
      "text/plain": "<IPython.core.display.HTML object>",
      "text/html": "Synced 5 W&B file(s), 0 media file(s), 0 artifact file(s) and 0 other file(s)"
     },
     "metadata": {},
     "output_type": "display_data"
    },
    {
     "data": {
      "text/plain": "<IPython.core.display.HTML object>",
      "text/html": "\n                    <br/>Synced <strong style=\"color:#cdcd00\">classic-sweep-55</strong>: <a href=\"https://wandb.ai/devcore/Metriken%20Bauwesen%20Sweeps/runs/se6b4783\" target=\"_blank\">https://wandb.ai/devcore/Metriken%20Bauwesen%20Sweeps/runs/se6b4783</a><br/>\n                "
     },
     "metadata": {},
     "output_type": "display_data"
    },
    {
     "name": "stderr",
     "output_type": "stream",
     "text": [
      "\u001B[34m\u001B[1mwandb\u001B[0m: Agent Starting Run: wcguhscy with config:\n",
      "\u001B[34m\u001B[1mwandb\u001B[0m: \tlearning_rate: 0.02778306139530571\n",
      "\u001B[34m\u001B[1mwandb\u001B[0m: \tmax_depth: 30\n",
      "\u001B[34m\u001B[1mwandb\u001B[0m: \tmin_samples_split: 6\n",
      "\u001B[34m\u001B[1mwandb\u001B[0m: \tn_estimators: 1024\n",
      "\u001B[34m\u001B[1mwandb\u001B[0m: \tsubsample: 0.6899702489635515\n"
     ]
    },
    {
     "data": {
      "text/plain": "<IPython.core.display.HTML object>",
      "text/html": "\n                Tracking run with wandb version 0.11.0<br/>\n                Syncing run <strong style=\"color:#cdcd00\">gallant-sweep-56</strong> to <a href=\"https://wandb.ai\" target=\"_blank\">Weights & Biases</a> <a href=\"https://docs.wandb.com/integrations/jupyter.html\" target=\"_blank\">(Documentation)</a>.<br/>\n                Project page: <a href=\"https://wandb.ai/devcore/Metriken%20Bauwesen%20Sweeps\" target=\"_blank\">https://wandb.ai/devcore/Metriken%20Bauwesen%20Sweeps</a><br/>\n                Sweep page: <a href=\"https://wandb.ai/devcore/Metriken%20Bauwesen%20Sweeps/sweeps/461ybom6\" target=\"_blank\">https://wandb.ai/devcore/Metriken%20Bauwesen%20Sweeps/sweeps/461ybom6</a><br/>\nRun page: <a href=\"https://wandb.ai/devcore/Metriken%20Bauwesen%20Sweeps/runs/wcguhscy\" target=\"_blank\">https://wandb.ai/devcore/Metriken%20Bauwesen%20Sweeps/runs/wcguhscy</a><br/>\n                Run data is saved locally in <code>C:\\Daten\\Development\\FHNW\\ip5-metriken-bauwesen\\src\\weight_and_bias\\wandb\\run-20210720_163428-wcguhscy</code><br/><br/>\n            "
     },
     "metadata": {},
     "output_type": "display_data"
    },
    {
     "name": "stdout",
     "output_type": "stream",
     "text": [
      "Location: C:\\Daten\\Development\\FHNW\\ip5-metriken-bauwesen\\export\\cluster_means.joblib\n",
      "Location: C:\\Daten\\Development\\FHNW\\ip5-metriken-bauwesen\\export\\fitted_pipeline.joblib\n"
     ]
    },
    {
     "data": {
      "text/plain": "<IPython.core.display.HTML object>",
      "text/html": "<br/>Waiting for W&B process to finish, PID 10108<br/>Program ended successfully."
     },
     "metadata": {},
     "output_type": "display_data"
    },
    {
     "data": {
      "text/plain": "VBox(children=(Label(value=' 0.00MB of 0.00MB uploaded (0.00MB deduped)\\r'), FloatProgress(value=1.0, max=1.0)…",
      "application/vnd.jupyter.widget-view+json": {
       "version_major": 2,
       "version_minor": 0,
       "model_id": "f796a10e80124523a4ab4bdc9888b256"
      }
     },
     "metadata": {},
     "output_type": "display_data"
    },
    {
     "data": {
      "text/plain": "<IPython.core.display.HTML object>",
      "text/html": "Find user logs for this run at: <code>C:\\Daten\\Development\\FHNW\\ip5-metriken-bauwesen\\src\\weight_and_bias\\wandb\\run-20210720_163428-wcguhscy\\logs\\debug.log</code>"
     },
     "metadata": {},
     "output_type": "display_data"
    },
    {
     "data": {
      "text/plain": "<IPython.core.display.HTML object>",
      "text/html": "Find internal logs for this run at: <code>C:\\Daten\\Development\\FHNW\\ip5-metriken-bauwesen\\src\\weight_and_bias\\wandb\\run-20210720_163428-wcguhscy\\logs\\debug-internal.log</code>"
     },
     "metadata": {},
     "output_type": "display_data"
    },
    {
     "data": {
      "text/plain": "<IPython.core.display.HTML object>",
      "text/html": "<h3>Run summary:</h3><br/><style>\n    table.wandb td:nth-child(1) { padding: 0 10px; text-align: right }\n    </style><table class=\"wandb\">\n<tr><td>r2</td><td>0.92849</td></tr><tr><td>_runtime</td><td>28</td></tr><tr><td>_timestamp</td><td>1626791696</td></tr><tr><td>_step</td><td>1</td></tr><tr><td>neg_mape</td><td>-0.16509</td></tr></table>"
     },
     "metadata": {},
     "output_type": "display_data"
    },
    {
     "data": {
      "text/plain": "<IPython.core.display.HTML object>",
      "text/html": "<h3>Run history:</h3><br/><style>\n    table.wandb td:nth-child(1) { padding: 0 10px; text-align: right }\n    </style><table class=\"wandb\">\n<tr><td>r2</td><td>▁</td></tr><tr><td>_runtime</td><td>▁▁</td></tr><tr><td>_timestamp</td><td>▁▁</td></tr><tr><td>_step</td><td>▁█</td></tr><tr><td>neg_mape</td><td>▁</td></tr></table><br/>"
     },
     "metadata": {},
     "output_type": "display_data"
    },
    {
     "data": {
      "text/plain": "<IPython.core.display.HTML object>",
      "text/html": "Synced 5 W&B file(s), 0 media file(s), 0 artifact file(s) and 0 other file(s)"
     },
     "metadata": {},
     "output_type": "display_data"
    },
    {
     "data": {
      "text/plain": "<IPython.core.display.HTML object>",
      "text/html": "\n                    <br/>Synced <strong style=\"color:#cdcd00\">gallant-sweep-56</strong>: <a href=\"https://wandb.ai/devcore/Metriken%20Bauwesen%20Sweeps/runs/wcguhscy\" target=\"_blank\">https://wandb.ai/devcore/Metriken%20Bauwesen%20Sweeps/runs/wcguhscy</a><br/>\n                "
     },
     "metadata": {},
     "output_type": "display_data"
    },
    {
     "name": "stderr",
     "output_type": "stream",
     "text": [
      "\u001B[34m\u001B[1mwandb\u001B[0m: Sweep Agent: Waiting for job.\n",
      "\u001B[34m\u001B[1mwandb\u001B[0m: Job received.\n",
      "\u001B[34m\u001B[1mwandb\u001B[0m: Agent Starting Run: s076x3og with config:\n",
      "\u001B[34m\u001B[1mwandb\u001B[0m: \tlearning_rate: 0.06452440109397216\n",
      "\u001B[34m\u001B[1mwandb\u001B[0m: \tmax_depth: 30\n",
      "\u001B[34m\u001B[1mwandb\u001B[0m: \tmin_samples_split: 5\n",
      "\u001B[34m\u001B[1mwandb\u001B[0m: \tn_estimators: 768\n",
      "\u001B[34m\u001B[1mwandb\u001B[0m: \tsubsample: 0.510702588417683\n"
     ]
    },
    {
     "data": {
      "text/plain": "<IPython.core.display.HTML object>",
      "text/html": "\n                Tracking run with wandb version 0.11.0<br/>\n                Syncing run <strong style=\"color:#cdcd00\">generous-sweep-57</strong> to <a href=\"https://wandb.ai\" target=\"_blank\">Weights & Biases</a> <a href=\"https://docs.wandb.com/integrations/jupyter.html\" target=\"_blank\">(Documentation)</a>.<br/>\n                Project page: <a href=\"https://wandb.ai/devcore/Metriken%20Bauwesen%20Sweeps\" target=\"_blank\">https://wandb.ai/devcore/Metriken%20Bauwesen%20Sweeps</a><br/>\n                Sweep page: <a href=\"https://wandb.ai/devcore/Metriken%20Bauwesen%20Sweeps/sweeps/461ybom6\" target=\"_blank\">https://wandb.ai/devcore/Metriken%20Bauwesen%20Sweeps/sweeps/461ybom6</a><br/>\nRun page: <a href=\"https://wandb.ai/devcore/Metriken%20Bauwesen%20Sweeps/runs/s076x3og\" target=\"_blank\">https://wandb.ai/devcore/Metriken%20Bauwesen%20Sweeps/runs/s076x3og</a><br/>\n                Run data is saved locally in <code>C:\\Daten\\Development\\FHNW\\ip5-metriken-bauwesen\\src\\weight_and_bias\\wandb\\run-20210720_163511-s076x3og</code><br/><br/>\n            "
     },
     "metadata": {},
     "output_type": "display_data"
    },
    {
     "name": "stdout",
     "output_type": "stream",
     "text": [
      "Location: C:\\Daten\\Development\\FHNW\\ip5-metriken-bauwesen\\export\\cluster_means.joblib\n",
      "Location: C:\\Daten\\Development\\FHNW\\ip5-metriken-bauwesen\\export\\fitted_pipeline.joblib\n"
     ]
    },
    {
     "data": {
      "text/plain": "<IPython.core.display.HTML object>",
      "text/html": "<br/>Waiting for W&B process to finish, PID 9152<br/>Program ended successfully."
     },
     "metadata": {},
     "output_type": "display_data"
    },
    {
     "data": {
      "text/plain": "VBox(children=(Label(value=' 0.00MB of 0.00MB uploaded (0.00MB deduped)\\r'), FloatProgress(value=1.0, max=1.0)…",
      "application/vnd.jupyter.widget-view+json": {
       "version_major": 2,
       "version_minor": 0,
       "model_id": "587a1c1f125b476e9a2d855b65b40241"
      }
     },
     "metadata": {},
     "output_type": "display_data"
    },
    {
     "data": {
      "text/plain": "<IPython.core.display.HTML object>",
      "text/html": "Find user logs for this run at: <code>C:\\Daten\\Development\\FHNW\\ip5-metriken-bauwesen\\src\\weight_and_bias\\wandb\\run-20210720_163511-s076x3og\\logs\\debug.log</code>"
     },
     "metadata": {},
     "output_type": "display_data"
    },
    {
     "data": {
      "text/plain": "<IPython.core.display.HTML object>",
      "text/html": "Find internal logs for this run at: <code>C:\\Daten\\Development\\FHNW\\ip5-metriken-bauwesen\\src\\weight_and_bias\\wandb\\run-20210720_163511-s076x3og\\logs\\debug-internal.log</code>"
     },
     "metadata": {},
     "output_type": "display_data"
    },
    {
     "data": {
      "text/plain": "<IPython.core.display.HTML object>",
      "text/html": "<h3>Run summary:</h3><br/><style>\n    table.wandb td:nth-child(1) { padding: 0 10px; text-align: right }\n    </style><table class=\"wandb\">\n<tr><td>r2</td><td>0.93327</td></tr><tr><td>_runtime</td><td>15</td></tr><tr><td>_timestamp</td><td>1626791726</td></tr><tr><td>_step</td><td>1</td></tr><tr><td>neg_mape</td><td>-0.16539</td></tr></table>"
     },
     "metadata": {},
     "output_type": "display_data"
    },
    {
     "data": {
      "text/plain": "<IPython.core.display.HTML object>",
      "text/html": "<h3>Run history:</h3><br/><style>\n    table.wandb td:nth-child(1) { padding: 0 10px; text-align: right }\n    </style><table class=\"wandb\">\n<tr><td>r2</td><td>▁</td></tr><tr><td>_runtime</td><td>▁▁</td></tr><tr><td>_timestamp</td><td>▁▁</td></tr><tr><td>_step</td><td>▁█</td></tr><tr><td>neg_mape</td><td>▁</td></tr></table><br/>"
     },
     "metadata": {},
     "output_type": "display_data"
    },
    {
     "data": {
      "text/plain": "<IPython.core.display.HTML object>",
      "text/html": "Synced 5 W&B file(s), 0 media file(s), 0 artifact file(s) and 0 other file(s)"
     },
     "metadata": {},
     "output_type": "display_data"
    },
    {
     "data": {
      "text/plain": "<IPython.core.display.HTML object>",
      "text/html": "\n                    <br/>Synced <strong style=\"color:#cdcd00\">generous-sweep-57</strong>: <a href=\"https://wandb.ai/devcore/Metriken%20Bauwesen%20Sweeps/runs/s076x3og\" target=\"_blank\">https://wandb.ai/devcore/Metriken%20Bauwesen%20Sweeps/runs/s076x3og</a><br/>\n                "
     },
     "metadata": {},
     "output_type": "display_data"
    },
    {
     "name": "stderr",
     "output_type": "stream",
     "text": [
      "\u001B[34m\u001B[1mwandb\u001B[0m: Agent Starting Run: m9bzqzfw with config:\n",
      "\u001B[34m\u001B[1mwandb\u001B[0m: \tlearning_rate: 0.07066295856879866\n",
      "\u001B[34m\u001B[1mwandb\u001B[0m: \tmax_depth: 12\n",
      "\u001B[34m\u001B[1mwandb\u001B[0m: \tmin_samples_split: 15\n",
      "\u001B[34m\u001B[1mwandb\u001B[0m: \tn_estimators: 512\n",
      "\u001B[34m\u001B[1mwandb\u001B[0m: \tsubsample: 0.8150844410165509\n"
     ]
    },
    {
     "data": {
      "text/plain": "<IPython.core.display.HTML object>",
      "text/html": "\n                Tracking run with wandb version 0.11.0<br/>\n                Syncing run <strong style=\"color:#cdcd00\">gallant-sweep-58</strong> to <a href=\"https://wandb.ai\" target=\"_blank\">Weights & Biases</a> <a href=\"https://docs.wandb.com/integrations/jupyter.html\" target=\"_blank\">(Documentation)</a>.<br/>\n                Project page: <a href=\"https://wandb.ai/devcore/Metriken%20Bauwesen%20Sweeps\" target=\"_blank\">https://wandb.ai/devcore/Metriken%20Bauwesen%20Sweeps</a><br/>\n                Sweep page: <a href=\"https://wandb.ai/devcore/Metriken%20Bauwesen%20Sweeps/sweeps/461ybom6\" target=\"_blank\">https://wandb.ai/devcore/Metriken%20Bauwesen%20Sweeps/sweeps/461ybom6</a><br/>\nRun page: <a href=\"https://wandb.ai/devcore/Metriken%20Bauwesen%20Sweeps/runs/m9bzqzfw\" target=\"_blank\">https://wandb.ai/devcore/Metriken%20Bauwesen%20Sweeps/runs/m9bzqzfw</a><br/>\n                Run data is saved locally in <code>C:\\Daten\\Development\\FHNW\\ip5-metriken-bauwesen\\src\\weight_and_bias\\wandb\\run-20210720_163530-m9bzqzfw</code><br/><br/>\n            "
     },
     "metadata": {},
     "output_type": "display_data"
    },
    {
     "name": "stdout",
     "output_type": "stream",
     "text": [
      "Location: C:\\Daten\\Development\\FHNW\\ip5-metriken-bauwesen\\export\\cluster_means.joblib\n",
      "Location: C:\\Daten\\Development\\FHNW\\ip5-metriken-bauwesen\\export\\fitted_pipeline.joblib\n"
     ]
    },
    {
     "data": {
      "text/plain": "<IPython.core.display.HTML object>",
      "text/html": "<br/>Waiting for W&B process to finish, PID 10424<br/>Program ended successfully."
     },
     "metadata": {},
     "output_type": "display_data"
    },
    {
     "data": {
      "text/plain": "VBox(children=(Label(value=' 0.00MB of 0.00MB uploaded (0.00MB deduped)\\r'), FloatProgress(value=1.0, max=1.0)…",
      "application/vnd.jupyter.widget-view+json": {
       "version_major": 2,
       "version_minor": 0,
       "model_id": "fe3b05f044994f56b1930e609ed3cf2e"
      }
     },
     "metadata": {},
     "output_type": "display_data"
    },
    {
     "data": {
      "text/plain": "<IPython.core.display.HTML object>",
      "text/html": "Find user logs for this run at: <code>C:\\Daten\\Development\\FHNW\\ip5-metriken-bauwesen\\src\\weight_and_bias\\wandb\\run-20210720_163530-m9bzqzfw\\logs\\debug.log</code>"
     },
     "metadata": {},
     "output_type": "display_data"
    },
    {
     "data": {
      "text/plain": "<IPython.core.display.HTML object>",
      "text/html": "Find internal logs for this run at: <code>C:\\Daten\\Development\\FHNW\\ip5-metriken-bauwesen\\src\\weight_and_bias\\wandb\\run-20210720_163530-m9bzqzfw\\logs\\debug-internal.log</code>"
     },
     "metadata": {},
     "output_type": "display_data"
    },
    {
     "data": {
      "text/plain": "<IPython.core.display.HTML object>",
      "text/html": "<h3>Run summary:</h3><br/><style>\n    table.wandb td:nth-child(1) { padding: 0 10px; text-align: right }\n    </style><table class=\"wandb\">\n<tr><td>r2</td><td>0.93013</td></tr><tr><td>_runtime</td><td>10</td></tr><tr><td>_timestamp</td><td>1626791741</td></tr><tr><td>_step</td><td>1</td></tr><tr><td>neg_mape</td><td>-0.17065</td></tr></table>"
     },
     "metadata": {},
     "output_type": "display_data"
    },
    {
     "data": {
      "text/plain": "<IPython.core.display.HTML object>",
      "text/html": "<h3>Run history:</h3><br/><style>\n    table.wandb td:nth-child(1) { padding: 0 10px; text-align: right }\n    </style><table class=\"wandb\">\n<tr><td>r2</td><td>▁</td></tr><tr><td>_runtime</td><td>▁▁</td></tr><tr><td>_timestamp</td><td>▁▁</td></tr><tr><td>_step</td><td>▁█</td></tr><tr><td>neg_mape</td><td>▁</td></tr></table><br/>"
     },
     "metadata": {},
     "output_type": "display_data"
    },
    {
     "data": {
      "text/plain": "<IPython.core.display.HTML object>",
      "text/html": "Synced 5 W&B file(s), 0 media file(s), 0 artifact file(s) and 0 other file(s)"
     },
     "metadata": {},
     "output_type": "display_data"
    },
    {
     "data": {
      "text/plain": "<IPython.core.display.HTML object>",
      "text/html": "\n                    <br/>Synced <strong style=\"color:#cdcd00\">gallant-sweep-58</strong>: <a href=\"https://wandb.ai/devcore/Metriken%20Bauwesen%20Sweeps/runs/m9bzqzfw\" target=\"_blank\">https://wandb.ai/devcore/Metriken%20Bauwesen%20Sweeps/runs/m9bzqzfw</a><br/>\n                "
     },
     "metadata": {},
     "output_type": "display_data"
    },
    {
     "name": "stderr",
     "output_type": "stream",
     "text": [
      "\u001B[34m\u001B[1mwandb\u001B[0m: Agent Starting Run: 2s2627v5 with config:\n",
      "\u001B[34m\u001B[1mwandb\u001B[0m: \tlearning_rate: 0.051744396003197794\n",
      "\u001B[34m\u001B[1mwandb\u001B[0m: \tmax_depth: 12\n",
      "\u001B[34m\u001B[1mwandb\u001B[0m: \tmin_samples_split: 6\n",
      "\u001B[34m\u001B[1mwandb\u001B[0m: \tn_estimators: 2048\n",
      "\u001B[34m\u001B[1mwandb\u001B[0m: \tsubsample: 0.6597566639336969\n"
     ]
    },
    {
     "data": {
      "text/plain": "<IPython.core.display.HTML object>",
      "text/html": "\n                Tracking run with wandb version 0.11.0<br/>\n                Syncing run <strong style=\"color:#cdcd00\">icy-sweep-59</strong> to <a href=\"https://wandb.ai\" target=\"_blank\">Weights & Biases</a> <a href=\"https://docs.wandb.com/integrations/jupyter.html\" target=\"_blank\">(Documentation)</a>.<br/>\n                Project page: <a href=\"https://wandb.ai/devcore/Metriken%20Bauwesen%20Sweeps\" target=\"_blank\">https://wandb.ai/devcore/Metriken%20Bauwesen%20Sweeps</a><br/>\n                Sweep page: <a href=\"https://wandb.ai/devcore/Metriken%20Bauwesen%20Sweeps/sweeps/461ybom6\" target=\"_blank\">https://wandb.ai/devcore/Metriken%20Bauwesen%20Sweeps/sweeps/461ybom6</a><br/>\nRun page: <a href=\"https://wandb.ai/devcore/Metriken%20Bauwesen%20Sweeps/runs/2s2627v5\" target=\"_blank\">https://wandb.ai/devcore/Metriken%20Bauwesen%20Sweeps/runs/2s2627v5</a><br/>\n                Run data is saved locally in <code>C:\\Daten\\Development\\FHNW\\ip5-metriken-bauwesen\\src\\weight_and_bias\\wandb\\run-20210720_163546-2s2627v5</code><br/><br/>\n            "
     },
     "metadata": {},
     "output_type": "display_data"
    },
    {
     "name": "stdout",
     "output_type": "stream",
     "text": [
      "Location: C:\\Daten\\Development\\FHNW\\ip5-metriken-bauwesen\\export\\cluster_means.joblib\n",
      "Location: C:\\Daten\\Development\\FHNW\\ip5-metriken-bauwesen\\export\\fitted_pipeline.joblib\n"
     ]
    },
    {
     "data": {
      "text/plain": "<IPython.core.display.HTML object>",
      "text/html": "<br/>Waiting for W&B process to finish, PID 15056<br/>Program ended successfully."
     },
     "metadata": {},
     "output_type": "display_data"
    },
    {
     "data": {
      "text/plain": "VBox(children=(Label(value=' 0.00MB of 0.00MB uploaded (0.00MB deduped)\\r'), FloatProgress(value=1.0, max=1.0)…",
      "application/vnd.jupyter.widget-view+json": {
       "version_major": 2,
       "version_minor": 0,
       "model_id": "fd3f40a2140c487fb4f4067c139965b6"
      }
     },
     "metadata": {},
     "output_type": "display_data"
    },
    {
     "data": {
      "text/plain": "<IPython.core.display.HTML object>",
      "text/html": "Find user logs for this run at: <code>C:\\Daten\\Development\\FHNW\\ip5-metriken-bauwesen\\src\\weight_and_bias\\wandb\\run-20210720_163546-2s2627v5\\logs\\debug.log</code>"
     },
     "metadata": {},
     "output_type": "display_data"
    },
    {
     "data": {
      "text/plain": "<IPython.core.display.HTML object>",
      "text/html": "Find internal logs for this run at: <code>C:\\Daten\\Development\\FHNW\\ip5-metriken-bauwesen\\src\\weight_and_bias\\wandb\\run-20210720_163546-2s2627v5\\logs\\debug-internal.log</code>"
     },
     "metadata": {},
     "output_type": "display_data"
    },
    {
     "data": {
      "text/plain": "<IPython.core.display.HTML object>",
      "text/html": "<h3>Run summary:</h3><br/><style>\n    table.wandb td:nth-child(1) { padding: 0 10px; text-align: right }\n    </style><table class=\"wandb\">\n<tr><td>r2</td><td>0.92711</td></tr><tr><td>_runtime</td><td>37</td></tr><tr><td>_timestamp</td><td>1626791783</td></tr><tr><td>_step</td><td>1</td></tr><tr><td>neg_mape</td><td>-0.16479</td></tr></table>"
     },
     "metadata": {},
     "output_type": "display_data"
    },
    {
     "data": {
      "text/plain": "<IPython.core.display.HTML object>",
      "text/html": "<h3>Run history:</h3><br/><style>\n    table.wandb td:nth-child(1) { padding: 0 10px; text-align: right }\n    </style><table class=\"wandb\">\n<tr><td>r2</td><td>▁</td></tr><tr><td>_runtime</td><td>▁▁</td></tr><tr><td>_timestamp</td><td>▁▁</td></tr><tr><td>_step</td><td>▁█</td></tr><tr><td>neg_mape</td><td>▁</td></tr></table><br/>"
     },
     "metadata": {},
     "output_type": "display_data"
    },
    {
     "data": {
      "text/plain": "<IPython.core.display.HTML object>",
      "text/html": "Synced 5 W&B file(s), 0 media file(s), 0 artifact file(s) and 0 other file(s)"
     },
     "metadata": {},
     "output_type": "display_data"
    },
    {
     "data": {
      "text/plain": "<IPython.core.display.HTML object>",
      "text/html": "\n                    <br/>Synced <strong style=\"color:#cdcd00\">icy-sweep-59</strong>: <a href=\"https://wandb.ai/devcore/Metriken%20Bauwesen%20Sweeps/runs/2s2627v5\" target=\"_blank\">https://wandb.ai/devcore/Metriken%20Bauwesen%20Sweeps/runs/2s2627v5</a><br/>\n                "
     },
     "metadata": {},
     "output_type": "display_data"
    },
    {
     "name": "stderr",
     "output_type": "stream",
     "text": [
      "\u001B[34m\u001B[1mwandb\u001B[0m: Agent Starting Run: 13magz54 with config:\n",
      "\u001B[34m\u001B[1mwandb\u001B[0m: \tlearning_rate: 0.01743629537517664\n",
      "\u001B[34m\u001B[1mwandb\u001B[0m: \tmax_depth: 11\n",
      "\u001B[34m\u001B[1mwandb\u001B[0m: \tmin_samples_split: 15\n",
      "\u001B[34m\u001B[1mwandb\u001B[0m: \tn_estimators: 1536\n",
      "\u001B[34m\u001B[1mwandb\u001B[0m: \tsubsample: 0.5509265006703387\n"
     ]
    },
    {
     "data": {
      "text/plain": "<IPython.core.display.HTML object>",
      "text/html": "\n                Tracking run with wandb version 0.11.0<br/>\n                Syncing run <strong style=\"color:#cdcd00\">sage-sweep-60</strong> to <a href=\"https://wandb.ai\" target=\"_blank\">Weights & Biases</a> <a href=\"https://docs.wandb.com/integrations/jupyter.html\" target=\"_blank\">(Documentation)</a>.<br/>\n                Project page: <a href=\"https://wandb.ai/devcore/Metriken%20Bauwesen%20Sweeps\" target=\"_blank\">https://wandb.ai/devcore/Metriken%20Bauwesen%20Sweeps</a><br/>\n                Sweep page: <a href=\"https://wandb.ai/devcore/Metriken%20Bauwesen%20Sweeps/sweeps/461ybom6\" target=\"_blank\">https://wandb.ai/devcore/Metriken%20Bauwesen%20Sweeps/sweeps/461ybom6</a><br/>\nRun page: <a href=\"https://wandb.ai/devcore/Metriken%20Bauwesen%20Sweeps/runs/13magz54\" target=\"_blank\">https://wandb.ai/devcore/Metriken%20Bauwesen%20Sweeps/runs/13magz54</a><br/>\n                Run data is saved locally in <code>C:\\Daten\\Development\\FHNW\\ip5-metriken-bauwesen\\src\\weight_and_bias\\wandb\\run-20210720_163627-13magz54</code><br/><br/>\n            "
     },
     "metadata": {},
     "output_type": "display_data"
    },
    {
     "name": "stdout",
     "output_type": "stream",
     "text": [
      "Location: C:\\Daten\\Development\\FHNW\\ip5-metriken-bauwesen\\export\\cluster_means.joblib\n",
      "Location: C:\\Daten\\Development\\FHNW\\ip5-metriken-bauwesen\\export\\fitted_pipeline.joblib\n"
     ]
    },
    {
     "data": {
      "text/plain": "<IPython.core.display.HTML object>",
      "text/html": "<br/>Waiting for W&B process to finish, PID 9608<br/>Program ended successfully."
     },
     "metadata": {},
     "output_type": "display_data"
    },
    {
     "data": {
      "text/plain": "VBox(children=(Label(value=' 0.00MB of 0.00MB uploaded (0.00MB deduped)\\r'), FloatProgress(value=1.0, max=1.0)…",
      "application/vnd.jupyter.widget-view+json": {
       "version_major": 2,
       "version_minor": 0,
       "model_id": "6198a1c59b5f4020922dec8f4a757120"
      }
     },
     "metadata": {},
     "output_type": "display_data"
    },
    {
     "data": {
      "text/plain": "<IPython.core.display.HTML object>",
      "text/html": "Find user logs for this run at: <code>C:\\Daten\\Development\\FHNW\\ip5-metriken-bauwesen\\src\\weight_and_bias\\wandb\\run-20210720_163627-13magz54\\logs\\debug.log</code>"
     },
     "metadata": {},
     "output_type": "display_data"
    },
    {
     "data": {
      "text/plain": "<IPython.core.display.HTML object>",
      "text/html": "Find internal logs for this run at: <code>C:\\Daten\\Development\\FHNW\\ip5-metriken-bauwesen\\src\\weight_and_bias\\wandb\\run-20210720_163627-13magz54\\logs\\debug-internal.log</code>"
     },
     "metadata": {},
     "output_type": "display_data"
    },
    {
     "data": {
      "text/plain": "<IPython.core.display.HTML object>",
      "text/html": "<h3>Run summary:</h3><br/><style>\n    table.wandb td:nth-child(1) { padding: 0 10px; text-align: right }\n    </style><table class=\"wandb\">\n<tr><td>r2</td><td>0.93889</td></tr><tr><td>_runtime</td><td>19</td></tr><tr><td>_timestamp</td><td>1626791806</td></tr><tr><td>_step</td><td>1</td></tr><tr><td>neg_mape</td><td>-0.16985</td></tr></table>"
     },
     "metadata": {},
     "output_type": "display_data"
    },
    {
     "data": {
      "text/plain": "<IPython.core.display.HTML object>",
      "text/html": "<h3>Run history:</h3><br/><style>\n    table.wandb td:nth-child(1) { padding: 0 10px; text-align: right }\n    </style><table class=\"wandb\">\n<tr><td>r2</td><td>▁</td></tr><tr><td>_runtime</td><td>▁▁</td></tr><tr><td>_timestamp</td><td>▁▁</td></tr><tr><td>_step</td><td>▁█</td></tr><tr><td>neg_mape</td><td>▁</td></tr></table><br/>"
     },
     "metadata": {},
     "output_type": "display_data"
    },
    {
     "data": {
      "text/plain": "<IPython.core.display.HTML object>",
      "text/html": "Synced 5 W&B file(s), 0 media file(s), 0 artifact file(s) and 0 other file(s)"
     },
     "metadata": {},
     "output_type": "display_data"
    },
    {
     "data": {
      "text/plain": "<IPython.core.display.HTML object>",
      "text/html": "\n                    <br/>Synced <strong style=\"color:#cdcd00\">sage-sweep-60</strong>: <a href=\"https://wandb.ai/devcore/Metriken%20Bauwesen%20Sweeps/runs/13magz54\" target=\"_blank\">https://wandb.ai/devcore/Metriken%20Bauwesen%20Sweeps/runs/13magz54</a><br/>\n                "
     },
     "metadata": {},
     "output_type": "display_data"
    },
    {
     "name": "stderr",
     "output_type": "stream",
     "text": [
      "\u001B[34m\u001B[1mwandb\u001B[0m: Agent Starting Run: x5ttoty1 with config:\n",
      "\u001B[34m\u001B[1mwandb\u001B[0m: \tlearning_rate: 0.07728411421293992\n",
      "\u001B[34m\u001B[1mwandb\u001B[0m: \tmax_depth: 18\n",
      "\u001B[34m\u001B[1mwandb\u001B[0m: \tmin_samples_split: 10\n",
      "\u001B[34m\u001B[1mwandb\u001B[0m: \tn_estimators: 768\n",
      "\u001B[34m\u001B[1mwandb\u001B[0m: \tsubsample: 0.6151923412459678\n"
     ]
    },
    {
     "data": {
      "text/plain": "<IPython.core.display.HTML object>",
      "text/html": "\n                Tracking run with wandb version 0.11.0<br/>\n                Syncing run <strong style=\"color:#cdcd00\">iconic-sweep-61</strong> to <a href=\"https://wandb.ai\" target=\"_blank\">Weights & Biases</a> <a href=\"https://docs.wandb.com/integrations/jupyter.html\" target=\"_blank\">(Documentation)</a>.<br/>\n                Project page: <a href=\"https://wandb.ai/devcore/Metriken%20Bauwesen%20Sweeps\" target=\"_blank\">https://wandb.ai/devcore/Metriken%20Bauwesen%20Sweeps</a><br/>\n                Sweep page: <a href=\"https://wandb.ai/devcore/Metriken%20Bauwesen%20Sweeps/sweeps/461ybom6\" target=\"_blank\">https://wandb.ai/devcore/Metriken%20Bauwesen%20Sweeps/sweeps/461ybom6</a><br/>\nRun page: <a href=\"https://wandb.ai/devcore/Metriken%20Bauwesen%20Sweeps/runs/x5ttoty1\" target=\"_blank\">https://wandb.ai/devcore/Metriken%20Bauwesen%20Sweeps/runs/x5ttoty1</a><br/>\n                Run data is saved locally in <code>C:\\Daten\\Development\\FHNW\\ip5-metriken-bauwesen\\src\\weight_and_bias\\wandb\\run-20210720_163651-x5ttoty1</code><br/><br/>\n            "
     },
     "metadata": {},
     "output_type": "display_data"
    },
    {
     "name": "stdout",
     "output_type": "stream",
     "text": [
      "Location: C:\\Daten\\Development\\FHNW\\ip5-metriken-bauwesen\\export\\cluster_means.joblib\n",
      "Location: C:\\Daten\\Development\\FHNW\\ip5-metriken-bauwesen\\export\\fitted_pipeline.joblib\n"
     ]
    },
    {
     "data": {
      "text/plain": "<IPython.core.display.HTML object>",
      "text/html": "<br/>Waiting for W&B process to finish, PID 12348<br/>Program ended successfully."
     },
     "metadata": {},
     "output_type": "display_data"
    },
    {
     "data": {
      "text/plain": "VBox(children=(Label(value=' 0.00MB of 0.00MB uploaded (0.00MB deduped)\\r'), FloatProgress(value=1.0, max=1.0)…",
      "application/vnd.jupyter.widget-view+json": {
       "version_major": 2,
       "version_minor": 0,
       "model_id": "3c0f9735641c403280c09f03736cccf5"
      }
     },
     "metadata": {},
     "output_type": "display_data"
    },
    {
     "data": {
      "text/plain": "<IPython.core.display.HTML object>",
      "text/html": "Find user logs for this run at: <code>C:\\Daten\\Development\\FHNW\\ip5-metriken-bauwesen\\src\\weight_and_bias\\wandb\\run-20210720_163651-x5ttoty1\\logs\\debug.log</code>"
     },
     "metadata": {},
     "output_type": "display_data"
    },
    {
     "data": {
      "text/plain": "<IPython.core.display.HTML object>",
      "text/html": "Find internal logs for this run at: <code>C:\\Daten\\Development\\FHNW\\ip5-metriken-bauwesen\\src\\weight_and_bias\\wandb\\run-20210720_163651-x5ttoty1\\logs\\debug-internal.log</code>"
     },
     "metadata": {},
     "output_type": "display_data"
    },
    {
     "data": {
      "text/plain": "<IPython.core.display.HTML object>",
      "text/html": "<h3>Run summary:</h3><br/><style>\n    table.wandb td:nth-child(1) { padding: 0 10px; text-align: right }\n    </style><table class=\"wandb\">\n<tr><td>r2</td><td>0.9352</td></tr><tr><td>_runtime</td><td>15</td></tr><tr><td>_timestamp</td><td>1626791826</td></tr><tr><td>_step</td><td>1</td></tr><tr><td>neg_mape</td><td>-0.16794</td></tr></table>"
     },
     "metadata": {},
     "output_type": "display_data"
    },
    {
     "data": {
      "text/plain": "<IPython.core.display.HTML object>",
      "text/html": "<h3>Run history:</h3><br/><style>\n    table.wandb td:nth-child(1) { padding: 0 10px; text-align: right }\n    </style><table class=\"wandb\">\n<tr><td>r2</td><td>▁</td></tr><tr><td>_runtime</td><td>▁▁</td></tr><tr><td>_timestamp</td><td>▁▁</td></tr><tr><td>_step</td><td>▁█</td></tr><tr><td>neg_mape</td><td>▁</td></tr></table><br/>"
     },
     "metadata": {},
     "output_type": "display_data"
    },
    {
     "data": {
      "text/plain": "<IPython.core.display.HTML object>",
      "text/html": "Synced 5 W&B file(s), 0 media file(s), 0 artifact file(s) and 0 other file(s)"
     },
     "metadata": {},
     "output_type": "display_data"
    },
    {
     "data": {
      "text/plain": "<IPython.core.display.HTML object>",
      "text/html": "\n                    <br/>Synced <strong style=\"color:#cdcd00\">iconic-sweep-61</strong>: <a href=\"https://wandb.ai/devcore/Metriken%20Bauwesen%20Sweeps/runs/x5ttoty1\" target=\"_blank\">https://wandb.ai/devcore/Metriken%20Bauwesen%20Sweeps/runs/x5ttoty1</a><br/>\n                "
     },
     "metadata": {},
     "output_type": "display_data"
    },
    {
     "name": "stderr",
     "output_type": "stream",
     "text": [
      "\u001B[34m\u001B[1mwandb\u001B[0m: Agent Starting Run: jydqjliv with config:\n",
      "\u001B[34m\u001B[1mwandb\u001B[0m: \tlearning_rate: 0.05201930206977403\n",
      "\u001B[34m\u001B[1mwandb\u001B[0m: \tmax_depth: 15\n",
      "\u001B[34m\u001B[1mwandb\u001B[0m: \tmin_samples_split: 5\n",
      "\u001B[34m\u001B[1mwandb\u001B[0m: \tn_estimators: 1536\n",
      "\u001B[34m\u001B[1mwandb\u001B[0m: \tsubsample: 0.7140337462815651\n"
     ]
    },
    {
     "data": {
      "text/plain": "<IPython.core.display.HTML object>",
      "text/html": "\n                Tracking run with wandb version 0.11.0<br/>\n                Syncing run <strong style=\"color:#cdcd00\">clear-sweep-62</strong> to <a href=\"https://wandb.ai\" target=\"_blank\">Weights & Biases</a> <a href=\"https://docs.wandb.com/integrations/jupyter.html\" target=\"_blank\">(Documentation)</a>.<br/>\n                Project page: <a href=\"https://wandb.ai/devcore/Metriken%20Bauwesen%20Sweeps\" target=\"_blank\">https://wandb.ai/devcore/Metriken%20Bauwesen%20Sweeps</a><br/>\n                Sweep page: <a href=\"https://wandb.ai/devcore/Metriken%20Bauwesen%20Sweeps/sweeps/461ybom6\" target=\"_blank\">https://wandb.ai/devcore/Metriken%20Bauwesen%20Sweeps/sweeps/461ybom6</a><br/>\nRun page: <a href=\"https://wandb.ai/devcore/Metriken%20Bauwesen%20Sweeps/runs/jydqjliv\" target=\"_blank\">https://wandb.ai/devcore/Metriken%20Bauwesen%20Sweeps/runs/jydqjliv</a><br/>\n                Run data is saved locally in <code>C:\\Daten\\Development\\FHNW\\ip5-metriken-bauwesen\\src\\weight_and_bias\\wandb\\run-20210720_163711-jydqjliv</code><br/><br/>\n            "
     },
     "metadata": {},
     "output_type": "display_data"
    },
    {
     "name": "stdout",
     "output_type": "stream",
     "text": [
      "Location: C:\\Daten\\Development\\FHNW\\ip5-metriken-bauwesen\\export\\cluster_means.joblib\n",
      "Location: C:\\Daten\\Development\\FHNW\\ip5-metriken-bauwesen\\export\\fitted_pipeline.joblib\n"
     ]
    },
    {
     "data": {
      "text/plain": "<IPython.core.display.HTML object>",
      "text/html": "<br/>Waiting for W&B process to finish, PID 12764<br/>Program ended successfully."
     },
     "metadata": {},
     "output_type": "display_data"
    },
    {
     "data": {
      "text/plain": "VBox(children=(Label(value=' 0.00MB of 0.00MB uploaded (0.00MB deduped)\\r'), FloatProgress(value=1.0, max=1.0)…",
      "application/vnd.jupyter.widget-view+json": {
       "version_major": 2,
       "version_minor": 0,
       "model_id": "345a97bc18054896ad365b778b661cd9"
      }
     },
     "metadata": {},
     "output_type": "display_data"
    },
    {
     "data": {
      "text/plain": "<IPython.core.display.HTML object>",
      "text/html": "Find user logs for this run at: <code>C:\\Daten\\Development\\FHNW\\ip5-metriken-bauwesen\\src\\weight_and_bias\\wandb\\run-20210720_163711-jydqjliv\\logs\\debug.log</code>"
     },
     "metadata": {},
     "output_type": "display_data"
    },
    {
     "data": {
      "text/plain": "<IPython.core.display.HTML object>",
      "text/html": "Find internal logs for this run at: <code>C:\\Daten\\Development\\FHNW\\ip5-metriken-bauwesen\\src\\weight_and_bias\\wandb\\run-20210720_163711-jydqjliv\\logs\\debug-internal.log</code>"
     },
     "metadata": {},
     "output_type": "display_data"
    },
    {
     "data": {
      "text/plain": "<IPython.core.display.HTML object>",
      "text/html": "<h3>Run summary:</h3><br/><style>\n    table.wandb td:nth-child(1) { padding: 0 10px; text-align: right }\n    </style><table class=\"wandb\">\n<tr><td>r2</td><td>0.92401</td></tr><tr><td>_runtime</td><td>32</td></tr><tr><td>_timestamp</td><td>1626791863</td></tr><tr><td>_step</td><td>1</td></tr><tr><td>neg_mape</td><td>-0.16374</td></tr></table>"
     },
     "metadata": {},
     "output_type": "display_data"
    },
    {
     "data": {
      "text/plain": "<IPython.core.display.HTML object>",
      "text/html": "<h3>Run history:</h3><br/><style>\n    table.wandb td:nth-child(1) { padding: 0 10px; text-align: right }\n    </style><table class=\"wandb\">\n<tr><td>r2</td><td>▁</td></tr><tr><td>_runtime</td><td>▁▁</td></tr><tr><td>_timestamp</td><td>▁▁</td></tr><tr><td>_step</td><td>▁█</td></tr><tr><td>neg_mape</td><td>▁</td></tr></table><br/>"
     },
     "metadata": {},
     "output_type": "display_data"
    },
    {
     "data": {
      "text/plain": "<IPython.core.display.HTML object>",
      "text/html": "Synced 5 W&B file(s), 0 media file(s), 0 artifact file(s) and 0 other file(s)"
     },
     "metadata": {},
     "output_type": "display_data"
    },
    {
     "data": {
      "text/plain": "<IPython.core.display.HTML object>",
      "text/html": "\n                    <br/>Synced <strong style=\"color:#cdcd00\">clear-sweep-62</strong>: <a href=\"https://wandb.ai/devcore/Metriken%20Bauwesen%20Sweeps/runs/jydqjliv\" target=\"_blank\">https://wandb.ai/devcore/Metriken%20Bauwesen%20Sweeps/runs/jydqjliv</a><br/>\n                "
     },
     "metadata": {},
     "output_type": "display_data"
    },
    {
     "name": "stderr",
     "output_type": "stream",
     "text": [
      "\u001B[34m\u001B[1mwandb\u001B[0m: Agent Starting Run: vqilm4r9 with config:\n",
      "\u001B[34m\u001B[1mwandb\u001B[0m: \tlearning_rate: 0.11800015141268796\n",
      "\u001B[34m\u001B[1mwandb\u001B[0m: \tmax_depth: 15\n",
      "\u001B[34m\u001B[1mwandb\u001B[0m: \tmin_samples_split: 8\n",
      "\u001B[34m\u001B[1mwandb\u001B[0m: \tn_estimators: 1536\n",
      "\u001B[34m\u001B[1mwandb\u001B[0m: \tsubsample: 0.792749886868878\n"
     ]
    },
    {
     "data": {
      "text/plain": "<IPython.core.display.HTML object>",
      "text/html": "\n                Tracking run with wandb version 0.11.0<br/>\n                Syncing run <strong style=\"color:#cdcd00\">dutiful-sweep-63</strong> to <a href=\"https://wandb.ai\" target=\"_blank\">Weights & Biases</a> <a href=\"https://docs.wandb.com/integrations/jupyter.html\" target=\"_blank\">(Documentation)</a>.<br/>\n                Project page: <a href=\"https://wandb.ai/devcore/Metriken%20Bauwesen%20Sweeps\" target=\"_blank\">https://wandb.ai/devcore/Metriken%20Bauwesen%20Sweeps</a><br/>\n                Sweep page: <a href=\"https://wandb.ai/devcore/Metriken%20Bauwesen%20Sweeps/sweeps/461ybom6\" target=\"_blank\">https://wandb.ai/devcore/Metriken%20Bauwesen%20Sweeps/sweeps/461ybom6</a><br/>\nRun page: <a href=\"https://wandb.ai/devcore/Metriken%20Bauwesen%20Sweeps/runs/vqilm4r9\" target=\"_blank\">https://wandb.ai/devcore/Metriken%20Bauwesen%20Sweeps/runs/vqilm4r9</a><br/>\n                Run data is saved locally in <code>C:\\Daten\\Development\\FHNW\\ip5-metriken-bauwesen\\src\\weight_and_bias\\wandb\\run-20210720_163748-vqilm4r9</code><br/><br/>\n            "
     },
     "metadata": {},
     "output_type": "display_data"
    },
    {
     "name": "stdout",
     "output_type": "stream",
     "text": [
      "Location: C:\\Daten\\Development\\FHNW\\ip5-metriken-bauwesen\\export\\cluster_means.joblib\n",
      "Location: C:\\Daten\\Development\\FHNW\\ip5-metriken-bauwesen\\export\\fitted_pipeline.joblib\n"
     ]
    },
    {
     "data": {
      "text/plain": "<IPython.core.display.HTML object>",
      "text/html": "<br/>Waiting for W&B process to finish, PID 11756<br/>Program ended successfully."
     },
     "metadata": {},
     "output_type": "display_data"
    },
    {
     "data": {
      "text/plain": "VBox(children=(Label(value=' 0.00MB of 0.00MB uploaded (0.00MB deduped)\\r'), FloatProgress(value=1.0, max=1.0)…",
      "application/vnd.jupyter.widget-view+json": {
       "version_major": 2,
       "version_minor": 0,
       "model_id": "de41b87ef7144470af11bbc1a82a0198"
      }
     },
     "metadata": {},
     "output_type": "display_data"
    },
    {
     "data": {
      "text/plain": "<IPython.core.display.HTML object>",
      "text/html": "Find user logs for this run at: <code>C:\\Daten\\Development\\FHNW\\ip5-metriken-bauwesen\\src\\weight_and_bias\\wandb\\run-20210720_163748-vqilm4r9\\logs\\debug.log</code>"
     },
     "metadata": {},
     "output_type": "display_data"
    },
    {
     "data": {
      "text/plain": "<IPython.core.display.HTML object>",
      "text/html": "Find internal logs for this run at: <code>C:\\Daten\\Development\\FHNW\\ip5-metriken-bauwesen\\src\\weight_and_bias\\wandb\\run-20210720_163748-vqilm4r9\\logs\\debug-internal.log</code>"
     },
     "metadata": {},
     "output_type": "display_data"
    },
    {
     "data": {
      "text/plain": "<IPython.core.display.HTML object>",
      "text/html": "<h3>Run summary:</h3><br/><style>\n    table.wandb td:nth-child(1) { padding: 0 10px; text-align: right }\n    </style><table class=\"wandb\">\n<tr><td>r2</td><td>0.92052</td></tr><tr><td>_runtime</td><td>32</td></tr><tr><td>_timestamp</td><td>1626791900</td></tr><tr><td>_step</td><td>1</td></tr><tr><td>neg_mape</td><td>-0.16981</td></tr></table>"
     },
     "metadata": {},
     "output_type": "display_data"
    },
    {
     "data": {
      "text/plain": "<IPython.core.display.HTML object>",
      "text/html": "<h3>Run history:</h3><br/><style>\n    table.wandb td:nth-child(1) { padding: 0 10px; text-align: right }\n    </style><table class=\"wandb\">\n<tr><td>r2</td><td>▁</td></tr><tr><td>_runtime</td><td>▁▁</td></tr><tr><td>_timestamp</td><td>▁▁</td></tr><tr><td>_step</td><td>▁█</td></tr><tr><td>neg_mape</td><td>▁</td></tr></table><br/>"
     },
     "metadata": {},
     "output_type": "display_data"
    },
    {
     "data": {
      "text/plain": "<IPython.core.display.HTML object>",
      "text/html": "Synced 5 W&B file(s), 0 media file(s), 0 artifact file(s) and 0 other file(s)"
     },
     "metadata": {},
     "output_type": "display_data"
    },
    {
     "data": {
      "text/plain": "<IPython.core.display.HTML object>",
      "text/html": "\n                    <br/>Synced <strong style=\"color:#cdcd00\">dutiful-sweep-63</strong>: <a href=\"https://wandb.ai/devcore/Metriken%20Bauwesen%20Sweeps/runs/vqilm4r9\" target=\"_blank\">https://wandb.ai/devcore/Metriken%20Bauwesen%20Sweeps/runs/vqilm4r9</a><br/>\n                "
     },
     "metadata": {},
     "output_type": "display_data"
    },
    {
     "name": "stderr",
     "output_type": "stream",
     "text": [
      "\u001B[34m\u001B[1mwandb\u001B[0m: Agent Starting Run: 5vrxokg7 with config:\n",
      "\u001B[34m\u001B[1mwandb\u001B[0m: \tlearning_rate: 0.013611725871853884\n",
      "\u001B[34m\u001B[1mwandb\u001B[0m: \tmax_depth: 20\n",
      "\u001B[34m\u001B[1mwandb\u001B[0m: \tmin_samples_split: 5\n",
      "\u001B[34m\u001B[1mwandb\u001B[0m: \tn_estimators: 2048\n",
      "\u001B[34m\u001B[1mwandb\u001B[0m: \tsubsample: 0.7189642561898124\n"
     ]
    },
    {
     "data": {
      "text/plain": "<IPython.core.display.HTML object>",
      "text/html": "\n                Tracking run with wandb version 0.11.0<br/>\n                Syncing run <strong style=\"color:#cdcd00\">youthful-sweep-64</strong> to <a href=\"https://wandb.ai\" target=\"_blank\">Weights & Biases</a> <a href=\"https://docs.wandb.com/integrations/jupyter.html\" target=\"_blank\">(Documentation)</a>.<br/>\n                Project page: <a href=\"https://wandb.ai/devcore/Metriken%20Bauwesen%20Sweeps\" target=\"_blank\">https://wandb.ai/devcore/Metriken%20Bauwesen%20Sweeps</a><br/>\n                Sweep page: <a href=\"https://wandb.ai/devcore/Metriken%20Bauwesen%20Sweeps/sweeps/461ybom6\" target=\"_blank\">https://wandb.ai/devcore/Metriken%20Bauwesen%20Sweeps/sweeps/461ybom6</a><br/>\nRun page: <a href=\"https://wandb.ai/devcore/Metriken%20Bauwesen%20Sweeps/runs/5vrxokg7\" target=\"_blank\">https://wandb.ai/devcore/Metriken%20Bauwesen%20Sweeps/runs/5vrxokg7</a><br/>\n                Run data is saved locally in <code>C:\\Daten\\Development\\FHNW\\ip5-metriken-bauwesen\\src\\weight_and_bias\\wandb\\run-20210720_163824-5vrxokg7</code><br/><br/>\n            "
     },
     "metadata": {},
     "output_type": "display_data"
    },
    {
     "name": "stdout",
     "output_type": "stream",
     "text": [
      "Location: C:\\Daten\\Development\\FHNW\\ip5-metriken-bauwesen\\export\\cluster_means.joblib\n",
      "Location: C:\\Daten\\Development\\FHNW\\ip5-metriken-bauwesen\\export\\fitted_pipeline.joblib\n"
     ]
    },
    {
     "data": {
      "text/plain": "<IPython.core.display.HTML object>",
      "text/html": "<br/>Waiting for W&B process to finish, PID 16364<br/>Program ended successfully."
     },
     "metadata": {},
     "output_type": "display_data"
    },
    {
     "data": {
      "text/plain": "VBox(children=(Label(value=' 0.00MB of 0.00MB uploaded (0.00MB deduped)\\r'), FloatProgress(value=1.0, max=1.0)…",
      "application/vnd.jupyter.widget-view+json": {
       "version_major": 2,
       "version_minor": 0,
       "model_id": "f45a8c7ddd3e4136b468360033b39d35"
      }
     },
     "metadata": {},
     "output_type": "display_data"
    },
    {
     "data": {
      "text/plain": "<IPython.core.display.HTML object>",
      "text/html": "Find user logs for this run at: <code>C:\\Daten\\Development\\FHNW\\ip5-metriken-bauwesen\\src\\weight_and_bias\\wandb\\run-20210720_163824-5vrxokg7\\logs\\debug.log</code>"
     },
     "metadata": {},
     "output_type": "display_data"
    },
    {
     "data": {
      "text/plain": "<IPython.core.display.HTML object>",
      "text/html": "Find internal logs for this run at: <code>C:\\Daten\\Development\\FHNW\\ip5-metriken-bauwesen\\src\\weight_and_bias\\wandb\\run-20210720_163824-5vrxokg7\\logs\\debug-internal.log</code>"
     },
     "metadata": {},
     "output_type": "display_data"
    },
    {
     "data": {
      "text/plain": "<IPython.core.display.HTML object>",
      "text/html": "<h3>Run summary:</h3><br/><style>\n    table.wandb td:nth-child(1) { padding: 0 10px; text-align: right }\n    </style><table class=\"wandb\">\n<tr><td>r2</td><td>0.92435</td></tr><tr><td>_runtime</td><td>62</td></tr><tr><td>_timestamp</td><td>1626791966</td></tr><tr><td>_step</td><td>1</td></tr><tr><td>neg_mape</td><td>-0.16526</td></tr></table>"
     },
     "metadata": {},
     "output_type": "display_data"
    },
    {
     "data": {
      "text/plain": "<IPython.core.display.HTML object>",
      "text/html": "<h3>Run history:</h3><br/><style>\n    table.wandb td:nth-child(1) { padding: 0 10px; text-align: right }\n    </style><table class=\"wandb\">\n<tr><td>r2</td><td>▁</td></tr><tr><td>_runtime</td><td>▁▁</td></tr><tr><td>_timestamp</td><td>▁▁</td></tr><tr><td>_step</td><td>▁█</td></tr><tr><td>neg_mape</td><td>▁</td></tr></table><br/>"
     },
     "metadata": {},
     "output_type": "display_data"
    },
    {
     "data": {
      "text/plain": "<IPython.core.display.HTML object>",
      "text/html": "Synced 5 W&B file(s), 0 media file(s), 0 artifact file(s) and 0 other file(s)"
     },
     "metadata": {},
     "output_type": "display_data"
    },
    {
     "data": {
      "text/plain": "<IPython.core.display.HTML object>",
      "text/html": "\n                    <br/>Synced <strong style=\"color:#cdcd00\">youthful-sweep-64</strong>: <a href=\"https://wandb.ai/devcore/Metriken%20Bauwesen%20Sweeps/runs/5vrxokg7\" target=\"_blank\">https://wandb.ai/devcore/Metriken%20Bauwesen%20Sweeps/runs/5vrxokg7</a><br/>\n                "
     },
     "metadata": {},
     "output_type": "display_data"
    },
    {
     "name": "stderr",
     "output_type": "stream",
     "text": [
      "\u001B[34m\u001B[1mwandb\u001B[0m: Agent Starting Run: jd25t8v9 with config:\n",
      "\u001B[34m\u001B[1mwandb\u001B[0m: \tlearning_rate: 0.10807952622052024\n",
      "\u001B[34m\u001B[1mwandb\u001B[0m: \tmax_depth: 12\n",
      "\u001B[34m\u001B[1mwandb\u001B[0m: \tmin_samples_split: 10\n",
      "\u001B[34m\u001B[1mwandb\u001B[0m: \tn_estimators: 512\n",
      "\u001B[34m\u001B[1mwandb\u001B[0m: \tsubsample: 0.6006120718641677\n"
     ]
    },
    {
     "data": {
      "text/plain": "<IPython.core.display.HTML object>",
      "text/html": "\n                Tracking run with wandb version 0.11.0<br/>\n                Syncing run <strong style=\"color:#cdcd00\">eternal-sweep-65</strong> to <a href=\"https://wandb.ai\" target=\"_blank\">Weights & Biases</a> <a href=\"https://docs.wandb.com/integrations/jupyter.html\" target=\"_blank\">(Documentation)</a>.<br/>\n                Project page: <a href=\"https://wandb.ai/devcore/Metriken%20Bauwesen%20Sweeps\" target=\"_blank\">https://wandb.ai/devcore/Metriken%20Bauwesen%20Sweeps</a><br/>\n                Sweep page: <a href=\"https://wandb.ai/devcore/Metriken%20Bauwesen%20Sweeps/sweeps/461ybom6\" target=\"_blank\">https://wandb.ai/devcore/Metriken%20Bauwesen%20Sweeps/sweeps/461ybom6</a><br/>\nRun page: <a href=\"https://wandb.ai/devcore/Metriken%20Bauwesen%20Sweeps/runs/jd25t8v9\" target=\"_blank\">https://wandb.ai/devcore/Metriken%20Bauwesen%20Sweeps/runs/jd25t8v9</a><br/>\n                Run data is saved locally in <code>C:\\Daten\\Development\\FHNW\\ip5-metriken-bauwesen\\src\\weight_and_bias\\wandb\\run-20210720_163931-jd25t8v9</code><br/><br/>\n            "
     },
     "metadata": {},
     "output_type": "display_data"
    },
    {
     "name": "stdout",
     "output_type": "stream",
     "text": [
      "Location: C:\\Daten\\Development\\FHNW\\ip5-metriken-bauwesen\\export\\cluster_means.joblib\n",
      "Location: C:\\Daten\\Development\\FHNW\\ip5-metriken-bauwesen\\export\\fitted_pipeline.joblib\n"
     ]
    },
    {
     "data": {
      "text/plain": "<IPython.core.display.HTML object>",
      "text/html": "<br/>Waiting for W&B process to finish, PID 13128<br/>Program ended successfully."
     },
     "metadata": {},
     "output_type": "display_data"
    },
    {
     "data": {
      "text/plain": "VBox(children=(Label(value=' 0.00MB of 0.00MB uploaded (0.00MB deduped)\\r'), FloatProgress(value=1.0, max=1.0)…",
      "application/vnd.jupyter.widget-view+json": {
       "version_major": 2,
       "version_minor": 0,
       "model_id": "e5e1e29fe28a4077a5e0724027eb8bda"
      }
     },
     "metadata": {},
     "output_type": "display_data"
    },
    {
     "data": {
      "text/plain": "<IPython.core.display.HTML object>",
      "text/html": "Find user logs for this run at: <code>C:\\Daten\\Development\\FHNW\\ip5-metriken-bauwesen\\src\\weight_and_bias\\wandb\\run-20210720_163931-jd25t8v9\\logs\\debug.log</code>"
     },
     "metadata": {},
     "output_type": "display_data"
    },
    {
     "data": {
      "text/plain": "<IPython.core.display.HTML object>",
      "text/html": "Find internal logs for this run at: <code>C:\\Daten\\Development\\FHNW\\ip5-metriken-bauwesen\\src\\weight_and_bias\\wandb\\run-20210720_163931-jd25t8v9\\logs\\debug-internal.log</code>"
     },
     "metadata": {},
     "output_type": "display_data"
    },
    {
     "data": {
      "text/plain": "<IPython.core.display.HTML object>",
      "text/html": "<h3>Run summary:</h3><br/><style>\n    table.wandb td:nth-child(1) { padding: 0 10px; text-align: right }\n    </style><table class=\"wandb\">\n<tr><td>r2</td><td>0.93047</td></tr><tr><td>_runtime</td><td>9</td></tr><tr><td>_timestamp</td><td>1626791980</td></tr><tr><td>_step</td><td>1</td></tr><tr><td>neg_mape</td><td>-0.17239</td></tr></table>"
     },
     "metadata": {},
     "output_type": "display_data"
    },
    {
     "data": {
      "text/plain": "<IPython.core.display.HTML object>",
      "text/html": "<h3>Run history:</h3><br/><style>\n    table.wandb td:nth-child(1) { padding: 0 10px; text-align: right }\n    </style><table class=\"wandb\">\n<tr><td>r2</td><td>▁</td></tr><tr><td>_runtime</td><td>▁▁</td></tr><tr><td>_timestamp</td><td>▁▁</td></tr><tr><td>_step</td><td>▁█</td></tr><tr><td>neg_mape</td><td>▁</td></tr></table><br/>"
     },
     "metadata": {},
     "output_type": "display_data"
    },
    {
     "data": {
      "text/plain": "<IPython.core.display.HTML object>",
      "text/html": "Synced 5 W&B file(s), 0 media file(s), 0 artifact file(s) and 0 other file(s)"
     },
     "metadata": {},
     "output_type": "display_data"
    },
    {
     "data": {
      "text/plain": "<IPython.core.display.HTML object>",
      "text/html": "\n                    <br/>Synced <strong style=\"color:#cdcd00\">eternal-sweep-65</strong>: <a href=\"https://wandb.ai/devcore/Metriken%20Bauwesen%20Sweeps/runs/jd25t8v9\" target=\"_blank\">https://wandb.ai/devcore/Metriken%20Bauwesen%20Sweeps/runs/jd25t8v9</a><br/>\n                "
     },
     "metadata": {},
     "output_type": "display_data"
    },
    {
     "name": "stderr",
     "output_type": "stream",
     "text": [
      "\u001B[34m\u001B[1mwandb\u001B[0m: Agent Starting Run: qpnm40r5 with config:\n",
      "\u001B[34m\u001B[1mwandb\u001B[0m: \tlearning_rate: 0.1450990453266847\n",
      "\u001B[34m\u001B[1mwandb\u001B[0m: \tmax_depth: 15\n",
      "\u001B[34m\u001B[1mwandb\u001B[0m: \tmin_samples_split: 15\n",
      "\u001B[34m\u001B[1mwandb\u001B[0m: \tn_estimators: 768\n",
      "\u001B[34m\u001B[1mwandb\u001B[0m: \tsubsample: 0.8043651148641117\n"
     ]
    },
    {
     "data": {
      "text/plain": "<IPython.core.display.HTML object>",
      "text/html": "\n                Tracking run with wandb version 0.11.0<br/>\n                Syncing run <strong style=\"color:#cdcd00\">dry-sweep-66</strong> to <a href=\"https://wandb.ai\" target=\"_blank\">Weights & Biases</a> <a href=\"https://docs.wandb.com/integrations/jupyter.html\" target=\"_blank\">(Documentation)</a>.<br/>\n                Project page: <a href=\"https://wandb.ai/devcore/Metriken%20Bauwesen%20Sweeps\" target=\"_blank\">https://wandb.ai/devcore/Metriken%20Bauwesen%20Sweeps</a><br/>\n                Sweep page: <a href=\"https://wandb.ai/devcore/Metriken%20Bauwesen%20Sweeps/sweeps/461ybom6\" target=\"_blank\">https://wandb.ai/devcore/Metriken%20Bauwesen%20Sweeps/sweeps/461ybom6</a><br/>\nRun page: <a href=\"https://wandb.ai/devcore/Metriken%20Bauwesen%20Sweeps/runs/qpnm40r5\" target=\"_blank\">https://wandb.ai/devcore/Metriken%20Bauwesen%20Sweeps/runs/qpnm40r5</a><br/>\n                Run data is saved locally in <code>C:\\Daten\\Development\\FHNW\\ip5-metriken-bauwesen\\src\\weight_and_bias\\wandb\\run-20210720_163945-qpnm40r5</code><br/><br/>\n            "
     },
     "metadata": {},
     "output_type": "display_data"
    },
    {
     "name": "stdout",
     "output_type": "stream",
     "text": [
      "Location: C:\\Daten\\Development\\FHNW\\ip5-metriken-bauwesen\\export\\cluster_means.joblib\n",
      "Location: C:\\Daten\\Development\\FHNW\\ip5-metriken-bauwesen\\export\\fitted_pipeline.joblib\n"
     ]
    },
    {
     "data": {
      "text/plain": "<IPython.core.display.HTML object>",
      "text/html": "<br/>Waiting for W&B process to finish, PID 5768<br/>Program ended successfully."
     },
     "metadata": {},
     "output_type": "display_data"
    },
    {
     "data": {
      "text/plain": "VBox(children=(Label(value=' 0.00MB of 0.00MB uploaded (0.00MB deduped)\\r'), FloatProgress(value=1.0, max=1.0)…",
      "application/vnd.jupyter.widget-view+json": {
       "version_major": 2,
       "version_minor": 0,
       "model_id": "c5e05695606d4c9f93e485f444a99144"
      }
     },
     "metadata": {},
     "output_type": "display_data"
    },
    {
     "data": {
      "text/plain": "<IPython.core.display.HTML object>",
      "text/html": "Find user logs for this run at: <code>C:\\Daten\\Development\\FHNW\\ip5-metriken-bauwesen\\src\\weight_and_bias\\wandb\\run-20210720_163945-qpnm40r5\\logs\\debug.log</code>"
     },
     "metadata": {},
     "output_type": "display_data"
    },
    {
     "data": {
      "text/plain": "<IPython.core.display.HTML object>",
      "text/html": "Find internal logs for this run at: <code>C:\\Daten\\Development\\FHNW\\ip5-metriken-bauwesen\\src\\weight_and_bias\\wandb\\run-20210720_163945-qpnm40r5\\logs\\debug-internal.log</code>"
     },
     "metadata": {},
     "output_type": "display_data"
    },
    {
     "data": {
      "text/plain": "<IPython.core.display.HTML object>",
      "text/html": "<h3>Run summary:</h3><br/><style>\n    table.wandb td:nth-child(1) { padding: 0 10px; text-align: right }\n    </style><table class=\"wandb\">\n<tr><td>r2</td><td>0.92737</td></tr><tr><td>_runtime</td><td>15</td></tr><tr><td>_timestamp</td><td>1626792000</td></tr><tr><td>_step</td><td>1</td></tr><tr><td>neg_mape</td><td>-0.17213</td></tr></table>"
     },
     "metadata": {},
     "output_type": "display_data"
    },
    {
     "data": {
      "text/plain": "<IPython.core.display.HTML object>",
      "text/html": "<h3>Run history:</h3><br/><style>\n    table.wandb td:nth-child(1) { padding: 0 10px; text-align: right }\n    </style><table class=\"wandb\">\n<tr><td>r2</td><td>▁</td></tr><tr><td>_runtime</td><td>▁▁</td></tr><tr><td>_timestamp</td><td>▁▁</td></tr><tr><td>_step</td><td>▁█</td></tr><tr><td>neg_mape</td><td>▁</td></tr></table><br/>"
     },
     "metadata": {},
     "output_type": "display_data"
    },
    {
     "data": {
      "text/plain": "<IPython.core.display.HTML object>",
      "text/html": "Synced 5 W&B file(s), 0 media file(s), 0 artifact file(s) and 0 other file(s)"
     },
     "metadata": {},
     "output_type": "display_data"
    },
    {
     "data": {
      "text/plain": "<IPython.core.display.HTML object>",
      "text/html": "\n                    <br/>Synced <strong style=\"color:#cdcd00\">dry-sweep-66</strong>: <a href=\"https://wandb.ai/devcore/Metriken%20Bauwesen%20Sweeps/runs/qpnm40r5\" target=\"_blank\">https://wandb.ai/devcore/Metriken%20Bauwesen%20Sweeps/runs/qpnm40r5</a><br/>\n                "
     },
     "metadata": {},
     "output_type": "display_data"
    },
    {
     "name": "stderr",
     "output_type": "stream",
     "text": [
      "\u001B[34m\u001B[1mwandb\u001B[0m: Agent Starting Run: zvlca74c with config:\n",
      "\u001B[34m\u001B[1mwandb\u001B[0m: \tlearning_rate: 0.08852812644046151\n",
      "\u001B[34m\u001B[1mwandb\u001B[0m: \tmax_depth: 18\n",
      "\u001B[34m\u001B[1mwandb\u001B[0m: \tmin_samples_split: 6\n",
      "\u001B[34m\u001B[1mwandb\u001B[0m: \tn_estimators: 1024\n",
      "\u001B[34m\u001B[1mwandb\u001B[0m: \tsubsample: 0.5290876093463338\n"
     ]
    },
    {
     "data": {
      "text/plain": "<IPython.core.display.HTML object>",
      "text/html": "\n                Tracking run with wandb version 0.11.0<br/>\n                Syncing run <strong style=\"color:#cdcd00\">fiery-sweep-67</strong> to <a href=\"https://wandb.ai\" target=\"_blank\">Weights & Biases</a> <a href=\"https://docs.wandb.com/integrations/jupyter.html\" target=\"_blank\">(Documentation)</a>.<br/>\n                Project page: <a href=\"https://wandb.ai/devcore/Metriken%20Bauwesen%20Sweeps\" target=\"_blank\">https://wandb.ai/devcore/Metriken%20Bauwesen%20Sweeps</a><br/>\n                Sweep page: <a href=\"https://wandb.ai/devcore/Metriken%20Bauwesen%20Sweeps/sweeps/461ybom6\" target=\"_blank\">https://wandb.ai/devcore/Metriken%20Bauwesen%20Sweeps/sweeps/461ybom6</a><br/>\nRun page: <a href=\"https://wandb.ai/devcore/Metriken%20Bauwesen%20Sweeps/runs/zvlca74c\" target=\"_blank\">https://wandb.ai/devcore/Metriken%20Bauwesen%20Sweeps/runs/zvlca74c</a><br/>\n                Run data is saved locally in <code>C:\\Daten\\Development\\FHNW\\ip5-metriken-bauwesen\\src\\weight_and_bias\\wandb\\run-20210720_164004-zvlca74c</code><br/><br/>\n            "
     },
     "metadata": {},
     "output_type": "display_data"
    },
    {
     "name": "stdout",
     "output_type": "stream",
     "text": [
      "Location: C:\\Daten\\Development\\FHNW\\ip5-metriken-bauwesen\\export\\cluster_means.joblib\n",
      "Location: C:\\Daten\\Development\\FHNW\\ip5-metriken-bauwesen\\export\\fitted_pipeline.joblib\n"
     ]
    },
    {
     "data": {
      "text/plain": "<IPython.core.display.HTML object>",
      "text/html": "<br/>Waiting for W&B process to finish, PID 14252<br/>Program ended successfully."
     },
     "metadata": {},
     "output_type": "display_data"
    },
    {
     "data": {
      "text/plain": "VBox(children=(Label(value=' 0.00MB of 0.00MB uploaded (0.00MB deduped)\\r'), FloatProgress(value=1.0, max=1.0)…",
      "application/vnd.jupyter.widget-view+json": {
       "version_major": 2,
       "version_minor": 0,
       "model_id": "ec68c13ceb0b4cc5bb5d0fc50732094c"
      }
     },
     "metadata": {},
     "output_type": "display_data"
    },
    {
     "data": {
      "text/plain": "<IPython.core.display.HTML object>",
      "text/html": "Find user logs for this run at: <code>C:\\Daten\\Development\\FHNW\\ip5-metriken-bauwesen\\src\\weight_and_bias\\wandb\\run-20210720_164004-zvlca74c\\logs\\debug.log</code>"
     },
     "metadata": {},
     "output_type": "display_data"
    },
    {
     "data": {
      "text/plain": "<IPython.core.display.HTML object>",
      "text/html": "Find internal logs for this run at: <code>C:\\Daten\\Development\\FHNW\\ip5-metriken-bauwesen\\src\\weight_and_bias\\wandb\\run-20210720_164004-zvlca74c\\logs\\debug-internal.log</code>"
     },
     "metadata": {},
     "output_type": "display_data"
    },
    {
     "data": {
      "text/plain": "<IPython.core.display.HTML object>",
      "text/html": "<h3>Run summary:</h3><br/><style>\n    table.wandb td:nth-child(1) { padding: 0 10px; text-align: right }\n    </style><table class=\"wandb\">\n<tr><td>r2</td><td>0.93777</td></tr><tr><td>_runtime</td><td>17</td></tr><tr><td>_timestamp</td><td>1626792021</td></tr><tr><td>_step</td><td>1</td></tr><tr><td>neg_mape</td><td>-0.16576</td></tr></table>"
     },
     "metadata": {},
     "output_type": "display_data"
    },
    {
     "data": {
      "text/plain": "<IPython.core.display.HTML object>",
      "text/html": "<h3>Run history:</h3><br/><style>\n    table.wandb td:nth-child(1) { padding: 0 10px; text-align: right }\n    </style><table class=\"wandb\">\n<tr><td>r2</td><td>▁</td></tr><tr><td>_runtime</td><td>▁▁</td></tr><tr><td>_timestamp</td><td>▁▁</td></tr><tr><td>_step</td><td>▁█</td></tr><tr><td>neg_mape</td><td>▁</td></tr></table><br/>"
     },
     "metadata": {},
     "output_type": "display_data"
    },
    {
     "data": {
      "text/plain": "<IPython.core.display.HTML object>",
      "text/html": "Synced 5 W&B file(s), 0 media file(s), 0 artifact file(s) and 0 other file(s)"
     },
     "metadata": {},
     "output_type": "display_data"
    },
    {
     "data": {
      "text/plain": "<IPython.core.display.HTML object>",
      "text/html": "\n                    <br/>Synced <strong style=\"color:#cdcd00\">fiery-sweep-67</strong>: <a href=\"https://wandb.ai/devcore/Metriken%20Bauwesen%20Sweeps/runs/zvlca74c\" target=\"_blank\">https://wandb.ai/devcore/Metriken%20Bauwesen%20Sweeps/runs/zvlca74c</a><br/>\n                "
     },
     "metadata": {},
     "output_type": "display_data"
    },
    {
     "name": "stderr",
     "output_type": "stream",
     "text": [
      "\u001B[34m\u001B[1mwandb\u001B[0m: Agent Starting Run: idrd36sx with config:\n",
      "\u001B[34m\u001B[1mwandb\u001B[0m: \tlearning_rate: 0.025820309307102544\n",
      "\u001B[34m\u001B[1mwandb\u001B[0m: \tmax_depth: 18\n",
      "\u001B[34m\u001B[1mwandb\u001B[0m: \tmin_samples_split: 8\n",
      "\u001B[34m\u001B[1mwandb\u001B[0m: \tn_estimators: 768\n",
      "\u001B[34m\u001B[1mwandb\u001B[0m: \tsubsample: 0.5914848996703747\n"
     ]
    },
    {
     "data": {
      "text/plain": "<IPython.core.display.HTML object>",
      "text/html": "\n                Tracking run with wandb version 0.11.0<br/>\n                Syncing run <strong style=\"color:#cdcd00\">classic-sweep-68</strong> to <a href=\"https://wandb.ai\" target=\"_blank\">Weights & Biases</a> <a href=\"https://docs.wandb.com/integrations/jupyter.html\" target=\"_blank\">(Documentation)</a>.<br/>\n                Project page: <a href=\"https://wandb.ai/devcore/Metriken%20Bauwesen%20Sweeps\" target=\"_blank\">https://wandb.ai/devcore/Metriken%20Bauwesen%20Sweeps</a><br/>\n                Sweep page: <a href=\"https://wandb.ai/devcore/Metriken%20Bauwesen%20Sweeps/sweeps/461ybom6\" target=\"_blank\">https://wandb.ai/devcore/Metriken%20Bauwesen%20Sweeps/sweeps/461ybom6</a><br/>\nRun page: <a href=\"https://wandb.ai/devcore/Metriken%20Bauwesen%20Sweeps/runs/idrd36sx\" target=\"_blank\">https://wandb.ai/devcore/Metriken%20Bauwesen%20Sweeps/runs/idrd36sx</a><br/>\n                Run data is saved locally in <code>C:\\Daten\\Development\\FHNW\\ip5-metriken-bauwesen\\src\\weight_and_bias\\wandb\\run-20210720_164025-idrd36sx</code><br/><br/>\n            "
     },
     "metadata": {},
     "output_type": "display_data"
    },
    {
     "name": "stdout",
     "output_type": "stream",
     "text": [
      "Location: C:\\Daten\\Development\\FHNW\\ip5-metriken-bauwesen\\export\\cluster_means.joblib\n",
      "Location: C:\\Daten\\Development\\FHNW\\ip5-metriken-bauwesen\\export\\fitted_pipeline.joblib\n"
     ]
    },
    {
     "data": {
      "text/plain": "<IPython.core.display.HTML object>",
      "text/html": "<br/>Waiting for W&B process to finish, PID 12364<br/>Program ended successfully."
     },
     "metadata": {},
     "output_type": "display_data"
    },
    {
     "data": {
      "text/plain": "VBox(children=(Label(value=' 0.00MB of 0.00MB uploaded (0.00MB deduped)\\r'), FloatProgress(value=1.0, max=1.0)…",
      "application/vnd.jupyter.widget-view+json": {
       "version_major": 2,
       "version_minor": 0,
       "model_id": "0df08044de49444dafb4f46bcb1de1aa"
      }
     },
     "metadata": {},
     "output_type": "display_data"
    },
    {
     "data": {
      "text/plain": "<IPython.core.display.HTML object>",
      "text/html": "Find user logs for this run at: <code>C:\\Daten\\Development\\FHNW\\ip5-metriken-bauwesen\\src\\weight_and_bias\\wandb\\run-20210720_164025-idrd36sx\\logs\\debug.log</code>"
     },
     "metadata": {},
     "output_type": "display_data"
    },
    {
     "data": {
      "text/plain": "<IPython.core.display.HTML object>",
      "text/html": "Find internal logs for this run at: <code>C:\\Daten\\Development\\FHNW\\ip5-metriken-bauwesen\\src\\weight_and_bias\\wandb\\run-20210720_164025-idrd36sx\\logs\\debug-internal.log</code>"
     },
     "metadata": {},
     "output_type": "display_data"
    },
    {
     "data": {
      "text/plain": "<IPython.core.display.HTML object>",
      "text/html": "<h3>Run summary:</h3><br/><style>\n    table.wandb td:nth-child(1) { padding: 0 10px; text-align: right }\n    </style><table class=\"wandb\">\n<tr><td>r2</td><td>0.93058</td></tr><tr><td>_runtime</td><td>13</td></tr><tr><td>_timestamp</td><td>1626792038</td></tr><tr><td>_step</td><td>1</td></tr><tr><td>neg_mape</td><td>-0.1646</td></tr></table>"
     },
     "metadata": {},
     "output_type": "display_data"
    },
    {
     "data": {
      "text/plain": "<IPython.core.display.HTML object>",
      "text/html": "<h3>Run history:</h3><br/><style>\n    table.wandb td:nth-child(1) { padding: 0 10px; text-align: right }\n    </style><table class=\"wandb\">\n<tr><td>r2</td><td>▁</td></tr><tr><td>_runtime</td><td>▁▁</td></tr><tr><td>_timestamp</td><td>▁▁</td></tr><tr><td>_step</td><td>▁█</td></tr><tr><td>neg_mape</td><td>▁</td></tr></table><br/>"
     },
     "metadata": {},
     "output_type": "display_data"
    },
    {
     "data": {
      "text/plain": "<IPython.core.display.HTML object>",
      "text/html": "Synced 5 W&B file(s), 0 media file(s), 0 artifact file(s) and 0 other file(s)"
     },
     "metadata": {},
     "output_type": "display_data"
    },
    {
     "data": {
      "text/plain": "<IPython.core.display.HTML object>",
      "text/html": "\n                    <br/>Synced <strong style=\"color:#cdcd00\">classic-sweep-68</strong>: <a href=\"https://wandb.ai/devcore/Metriken%20Bauwesen%20Sweeps/runs/idrd36sx\" target=\"_blank\">https://wandb.ai/devcore/Metriken%20Bauwesen%20Sweeps/runs/idrd36sx</a><br/>\n                "
     },
     "metadata": {},
     "output_type": "display_data"
    },
    {
     "name": "stderr",
     "output_type": "stream",
     "text": [
      "\u001B[34m\u001B[1mwandb\u001B[0m: Agent Starting Run: rej7kqfo with config:\n",
      "\u001B[34m\u001B[1mwandb\u001B[0m: \tlearning_rate: 0.027676849352682158\n",
      "\u001B[34m\u001B[1mwandb\u001B[0m: \tmax_depth: 12\n",
      "\u001B[34m\u001B[1mwandb\u001B[0m: \tmin_samples_split: 6\n",
      "\u001B[34m\u001B[1mwandb\u001B[0m: \tn_estimators: 1536\n",
      "\u001B[34m\u001B[1mwandb\u001B[0m: \tsubsample: 0.6794001660544112\n"
     ]
    },
    {
     "data": {
      "text/plain": "<IPython.core.display.HTML object>",
      "text/html": "\n                Tracking run with wandb version 0.11.0<br/>\n                Syncing run <strong style=\"color:#cdcd00\">grateful-sweep-69</strong> to <a href=\"https://wandb.ai\" target=\"_blank\">Weights & Biases</a> <a href=\"https://docs.wandb.com/integrations/jupyter.html\" target=\"_blank\">(Documentation)</a>.<br/>\n                Project page: <a href=\"https://wandb.ai/devcore/Metriken%20Bauwesen%20Sweeps\" target=\"_blank\">https://wandb.ai/devcore/Metriken%20Bauwesen%20Sweeps</a><br/>\n                Sweep page: <a href=\"https://wandb.ai/devcore/Metriken%20Bauwesen%20Sweeps/sweeps/461ybom6\" target=\"_blank\">https://wandb.ai/devcore/Metriken%20Bauwesen%20Sweeps/sweeps/461ybom6</a><br/>\nRun page: <a href=\"https://wandb.ai/devcore/Metriken%20Bauwesen%20Sweeps/runs/rej7kqfo\" target=\"_blank\">https://wandb.ai/devcore/Metriken%20Bauwesen%20Sweeps/runs/rej7kqfo</a><br/>\n                Run data is saved locally in <code>C:\\Daten\\Development\\FHNW\\ip5-metriken-bauwesen\\src\\weight_and_bias\\wandb\\run-20210720_164043-rej7kqfo</code><br/><br/>\n            "
     },
     "metadata": {},
     "output_type": "display_data"
    },
    {
     "name": "stdout",
     "output_type": "stream",
     "text": [
      "Location: C:\\Daten\\Development\\FHNW\\ip5-metriken-bauwesen\\export\\cluster_means.joblib\n",
      "Location: C:\\Daten\\Development\\FHNW\\ip5-metriken-bauwesen\\export\\fitted_pipeline.joblib\n"
     ]
    },
    {
     "data": {
      "text/plain": "<IPython.core.display.HTML object>",
      "text/html": "<br/>Waiting for W&B process to finish, PID 3068<br/>Program ended successfully."
     },
     "metadata": {},
     "output_type": "display_data"
    },
    {
     "data": {
      "text/plain": "VBox(children=(Label(value=' 0.00MB of 0.00MB uploaded (0.00MB deduped)\\r'), FloatProgress(value=1.0, max=1.0)…",
      "application/vnd.jupyter.widget-view+json": {
       "version_major": 2,
       "version_minor": 0,
       "model_id": "22457c9e3262408eaca547ace446a87d"
      }
     },
     "metadata": {},
     "output_type": "display_data"
    },
    {
     "data": {
      "text/plain": "<IPython.core.display.HTML object>",
      "text/html": "Find user logs for this run at: <code>C:\\Daten\\Development\\FHNW\\ip5-metriken-bauwesen\\src\\weight_and_bias\\wandb\\run-20210720_164043-rej7kqfo\\logs\\debug.log</code>"
     },
     "metadata": {},
     "output_type": "display_data"
    },
    {
     "data": {
      "text/plain": "<IPython.core.display.HTML object>",
      "text/html": "Find internal logs for this run at: <code>C:\\Daten\\Development\\FHNW\\ip5-metriken-bauwesen\\src\\weight_and_bias\\wandb\\run-20210720_164043-rej7kqfo\\logs\\debug-internal.log</code>"
     },
     "metadata": {},
     "output_type": "display_data"
    },
    {
     "data": {
      "text/plain": "<IPython.core.display.HTML object>",
      "text/html": "<h3>Run summary:</h3><br/><style>\n    table.wandb td:nth-child(1) { padding: 0 10px; text-align: right }\n    </style><table class=\"wandb\">\n<tr><td>r2</td><td>0.92478</td></tr><tr><td>_runtime</td><td>25</td></tr><tr><td>_timestamp</td><td>1626792068</td></tr><tr><td>_step</td><td>1</td></tr><tr><td>neg_mape</td><td>-0.16405</td></tr></table>"
     },
     "metadata": {},
     "output_type": "display_data"
    },
    {
     "data": {
      "text/plain": "<IPython.core.display.HTML object>",
      "text/html": "<h3>Run history:</h3><br/><style>\n    table.wandb td:nth-child(1) { padding: 0 10px; text-align: right }\n    </style><table class=\"wandb\">\n<tr><td>r2</td><td>▁</td></tr><tr><td>_runtime</td><td>▁▁</td></tr><tr><td>_timestamp</td><td>▁▁</td></tr><tr><td>_step</td><td>▁█</td></tr><tr><td>neg_mape</td><td>▁</td></tr></table><br/>"
     },
     "metadata": {},
     "output_type": "display_data"
    },
    {
     "data": {
      "text/plain": "<IPython.core.display.HTML object>",
      "text/html": "Synced 5 W&B file(s), 0 media file(s), 0 artifact file(s) and 0 other file(s)"
     },
     "metadata": {},
     "output_type": "display_data"
    },
    {
     "data": {
      "text/plain": "<IPython.core.display.HTML object>",
      "text/html": "\n                    <br/>Synced <strong style=\"color:#cdcd00\">grateful-sweep-69</strong>: <a href=\"https://wandb.ai/devcore/Metriken%20Bauwesen%20Sweeps/runs/rej7kqfo\" target=\"_blank\">https://wandb.ai/devcore/Metriken%20Bauwesen%20Sweeps/runs/rej7kqfo</a><br/>\n                "
     },
     "metadata": {},
     "output_type": "display_data"
    },
    {
     "name": "stderr",
     "output_type": "stream",
     "text": [
      "\u001B[34m\u001B[1mwandb\u001B[0m: Agent Starting Run: dz9slqza with config:\n",
      "\u001B[34m\u001B[1mwandb\u001B[0m: \tlearning_rate: 0.14931889651558675\n",
      "\u001B[34m\u001B[1mwandb\u001B[0m: \tmax_depth: 30\n",
      "\u001B[34m\u001B[1mwandb\u001B[0m: \tmin_samples_split: 6\n",
      "\u001B[34m\u001B[1mwandb\u001B[0m: \tn_estimators: 768\n",
      "\u001B[34m\u001B[1mwandb\u001B[0m: \tsubsample: 0.6769861049106496\n"
     ]
    },
    {
     "data": {
      "text/plain": "<IPython.core.display.HTML object>",
      "text/html": "\n                Tracking run with wandb version 0.11.0<br/>\n                Syncing run <strong style=\"color:#cdcd00\">soft-sweep-70</strong> to <a href=\"https://wandb.ai\" target=\"_blank\">Weights & Biases</a> <a href=\"https://docs.wandb.com/integrations/jupyter.html\" target=\"_blank\">(Documentation)</a>.<br/>\n                Project page: <a href=\"https://wandb.ai/devcore/Metriken%20Bauwesen%20Sweeps\" target=\"_blank\">https://wandb.ai/devcore/Metriken%20Bauwesen%20Sweeps</a><br/>\n                Sweep page: <a href=\"https://wandb.ai/devcore/Metriken%20Bauwesen%20Sweeps/sweeps/461ybom6\" target=\"_blank\">https://wandb.ai/devcore/Metriken%20Bauwesen%20Sweeps/sweeps/461ybom6</a><br/>\nRun page: <a href=\"https://wandb.ai/devcore/Metriken%20Bauwesen%20Sweeps/runs/dz9slqza\" target=\"_blank\">https://wandb.ai/devcore/Metriken%20Bauwesen%20Sweeps/runs/dz9slqza</a><br/>\n                Run data is saved locally in <code>C:\\Daten\\Development\\FHNW\\ip5-metriken-bauwesen\\src\\weight_and_bias\\wandb\\run-20210720_164112-dz9slqza</code><br/><br/>\n            "
     },
     "metadata": {},
     "output_type": "display_data"
    },
    {
     "name": "stdout",
     "output_type": "stream",
     "text": [
      "Location: C:\\Daten\\Development\\FHNW\\ip5-metriken-bauwesen\\export\\cluster_means.joblib\n",
      "Location: C:\\Daten\\Development\\FHNW\\ip5-metriken-bauwesen\\export\\fitted_pipeline.joblib\n"
     ]
    },
    {
     "data": {
      "text/plain": "<IPython.core.display.HTML object>",
      "text/html": "<br/>Waiting for W&B process to finish, PID 8412<br/>Program ended successfully."
     },
     "metadata": {},
     "output_type": "display_data"
    },
    {
     "data": {
      "text/plain": "VBox(children=(Label(value=' 0.00MB of 0.00MB uploaded (0.00MB deduped)\\r'), FloatProgress(value=1.0, max=1.0)…",
      "application/vnd.jupyter.widget-view+json": {
       "version_major": 2,
       "version_minor": 0,
       "model_id": "7ae4310e1f9d4e6f8b5a947c8755ed28"
      }
     },
     "metadata": {},
     "output_type": "display_data"
    },
    {
     "data": {
      "text/plain": "<IPython.core.display.HTML object>",
      "text/html": "Find user logs for this run at: <code>C:\\Daten\\Development\\FHNW\\ip5-metriken-bauwesen\\src\\weight_and_bias\\wandb\\run-20210720_164112-dz9slqza\\logs\\debug.log</code>"
     },
     "metadata": {},
     "output_type": "display_data"
    },
    {
     "data": {
      "text/plain": "<IPython.core.display.HTML object>",
      "text/html": "Find internal logs for this run at: <code>C:\\Daten\\Development\\FHNW\\ip5-metriken-bauwesen\\src\\weight_and_bias\\wandb\\run-20210720_164112-dz9slqza\\logs\\debug-internal.log</code>"
     },
     "metadata": {},
     "output_type": "display_data"
    },
    {
     "data": {
      "text/plain": "<IPython.core.display.HTML object>",
      "text/html": "<h3>Run summary:</h3><br/><style>\n    table.wandb td:nth-child(1) { padding: 0 10px; text-align: right }\n    </style><table class=\"wandb\">\n<tr><td>r2</td><td>0.9227</td></tr><tr><td>_runtime</td><td>20</td></tr><tr><td>_timestamp</td><td>1626792092</td></tr><tr><td>_step</td><td>1</td></tr><tr><td>neg_mape</td><td>-0.17243</td></tr></table>"
     },
     "metadata": {},
     "output_type": "display_data"
    },
    {
     "data": {
      "text/plain": "<IPython.core.display.HTML object>",
      "text/html": "<h3>Run history:</h3><br/><style>\n    table.wandb td:nth-child(1) { padding: 0 10px; text-align: right }\n    </style><table class=\"wandb\">\n<tr><td>r2</td><td>▁</td></tr><tr><td>_runtime</td><td>▁▁</td></tr><tr><td>_timestamp</td><td>▁▁</td></tr><tr><td>_step</td><td>▁█</td></tr><tr><td>neg_mape</td><td>▁</td></tr></table><br/>"
     },
     "metadata": {},
     "output_type": "display_data"
    },
    {
     "data": {
      "text/plain": "<IPython.core.display.HTML object>",
      "text/html": "Synced 5 W&B file(s), 0 media file(s), 0 artifact file(s) and 0 other file(s)"
     },
     "metadata": {},
     "output_type": "display_data"
    },
    {
     "data": {
      "text/plain": "<IPython.core.display.HTML object>",
      "text/html": "\n                    <br/>Synced <strong style=\"color:#cdcd00\">soft-sweep-70</strong>: <a href=\"https://wandb.ai/devcore/Metriken%20Bauwesen%20Sweeps/runs/dz9slqza\" target=\"_blank\">https://wandb.ai/devcore/Metriken%20Bauwesen%20Sweeps/runs/dz9slqza</a><br/>\n                "
     },
     "metadata": {},
     "output_type": "display_data"
    },
    {
     "name": "stderr",
     "output_type": "stream",
     "text": [
      "\u001B[34m\u001B[1mwandb\u001B[0m: Agent Starting Run: zwdof9u5 with config:\n",
      "\u001B[34m\u001B[1mwandb\u001B[0m: \tlearning_rate: 0.12155432638618797\n",
      "\u001B[34m\u001B[1mwandb\u001B[0m: \tmax_depth: 30\n",
      "\u001B[34m\u001B[1mwandb\u001B[0m: \tmin_samples_split: 10\n",
      "\u001B[34m\u001B[1mwandb\u001B[0m: \tn_estimators: 1024\n",
      "\u001B[34m\u001B[1mwandb\u001B[0m: \tsubsample: 0.5036806473501011\n"
     ]
    },
    {
     "data": {
      "text/plain": "<IPython.core.display.HTML object>",
      "text/html": "\n                Tracking run with wandb version 0.11.0<br/>\n                Syncing run <strong style=\"color:#cdcd00\">hardy-sweep-71</strong> to <a href=\"https://wandb.ai\" target=\"_blank\">Weights & Biases</a> <a href=\"https://docs.wandb.com/integrations/jupyter.html\" target=\"_blank\">(Documentation)</a>.<br/>\n                Project page: <a href=\"https://wandb.ai/devcore/Metriken%20Bauwesen%20Sweeps\" target=\"_blank\">https://wandb.ai/devcore/Metriken%20Bauwesen%20Sweeps</a><br/>\n                Sweep page: <a href=\"https://wandb.ai/devcore/Metriken%20Bauwesen%20Sweeps/sweeps/461ybom6\" target=\"_blank\">https://wandb.ai/devcore/Metriken%20Bauwesen%20Sweeps/sweeps/461ybom6</a><br/>\nRun page: <a href=\"https://wandb.ai/devcore/Metriken%20Bauwesen%20Sweeps/runs/zwdof9u5\" target=\"_blank\">https://wandb.ai/devcore/Metriken%20Bauwesen%20Sweeps/runs/zwdof9u5</a><br/>\n                Run data is saved locally in <code>C:\\Daten\\Development\\FHNW\\ip5-metriken-bauwesen\\src\\weight_and_bias\\wandb\\run-20210720_164137-zwdof9u5</code><br/><br/>\n            "
     },
     "metadata": {},
     "output_type": "display_data"
    },
    {
     "name": "stdout",
     "output_type": "stream",
     "text": [
      "Location: C:\\Daten\\Development\\FHNW\\ip5-metriken-bauwesen\\export\\cluster_means.joblib\n",
      "Location: C:\\Daten\\Development\\FHNW\\ip5-metriken-bauwesen\\export\\fitted_pipeline.joblib\n"
     ]
    },
    {
     "data": {
      "text/plain": "<IPython.core.display.HTML object>",
      "text/html": "<br/>Waiting for W&B process to finish, PID 7708<br/>Program ended successfully."
     },
     "metadata": {},
     "output_type": "display_data"
    },
    {
     "data": {
      "text/plain": "VBox(children=(Label(value=' 0.00MB of 0.00MB uploaded (0.00MB deduped)\\r'), FloatProgress(value=1.0, max=1.0)…",
      "application/vnd.jupyter.widget-view+json": {
       "version_major": 2,
       "version_minor": 0,
       "model_id": "29b3b967d0104d82abe0fc1cbd5cfe6d"
      }
     },
     "metadata": {},
     "output_type": "display_data"
    },
    {
     "data": {
      "text/plain": "<IPython.core.display.HTML object>",
      "text/html": "Find user logs for this run at: <code>C:\\Daten\\Development\\FHNW\\ip5-metriken-bauwesen\\src\\weight_and_bias\\wandb\\run-20210720_164137-zwdof9u5\\logs\\debug.log</code>"
     },
     "metadata": {},
     "output_type": "display_data"
    },
    {
     "data": {
      "text/plain": "<IPython.core.display.HTML object>",
      "text/html": "Find internal logs for this run at: <code>C:\\Daten\\Development\\FHNW\\ip5-metriken-bauwesen\\src\\weight_and_bias\\wandb\\run-20210720_164137-zwdof9u5\\logs\\debug-internal.log</code>"
     },
     "metadata": {},
     "output_type": "display_data"
    },
    {
     "data": {
      "text/plain": "<IPython.core.display.HTML object>",
      "text/html": "<h3>Run summary:</h3><br/><style>\n    table.wandb td:nth-child(1) { padding: 0 10px; text-align: right }\n    </style><table class=\"wandb\">\n<tr><td>r2</td><td>0.93522</td></tr><tr><td>_runtime</td><td>18</td></tr><tr><td>_timestamp</td><td>1626792115</td></tr><tr><td>_step</td><td>1</td></tr><tr><td>neg_mape</td><td>-0.17287</td></tr></table>"
     },
     "metadata": {},
     "output_type": "display_data"
    },
    {
     "data": {
      "text/plain": "<IPython.core.display.HTML object>",
      "text/html": "<h3>Run history:</h3><br/><style>\n    table.wandb td:nth-child(1) { padding: 0 10px; text-align: right }\n    </style><table class=\"wandb\">\n<tr><td>r2</td><td>▁</td></tr><tr><td>_runtime</td><td>▁▁</td></tr><tr><td>_timestamp</td><td>▁▁</td></tr><tr><td>_step</td><td>▁█</td></tr><tr><td>neg_mape</td><td>▁</td></tr></table><br/>"
     },
     "metadata": {},
     "output_type": "display_data"
    },
    {
     "data": {
      "text/plain": "<IPython.core.display.HTML object>",
      "text/html": "Synced 5 W&B file(s), 0 media file(s), 0 artifact file(s) and 0 other file(s)"
     },
     "metadata": {},
     "output_type": "display_data"
    },
    {
     "data": {
      "text/plain": "<IPython.core.display.HTML object>",
      "text/html": "\n                    <br/>Synced <strong style=\"color:#cdcd00\">hardy-sweep-71</strong>: <a href=\"https://wandb.ai/devcore/Metriken%20Bauwesen%20Sweeps/runs/zwdof9u5\" target=\"_blank\">https://wandb.ai/devcore/Metriken%20Bauwesen%20Sweeps/runs/zwdof9u5</a><br/>\n                "
     },
     "metadata": {},
     "output_type": "display_data"
    },
    {
     "name": "stderr",
     "output_type": "stream",
     "text": [
      "\u001B[34m\u001B[1mwandb\u001B[0m: Agent Starting Run: gggn87qe with config:\n",
      "\u001B[34m\u001B[1mwandb\u001B[0m: \tlearning_rate: 0.1138771704821858\n",
      "\u001B[34m\u001B[1mwandb\u001B[0m: \tmax_depth: 18\n",
      "\u001B[34m\u001B[1mwandb\u001B[0m: \tmin_samples_split: 8\n",
      "\u001B[34m\u001B[1mwandb\u001B[0m: \tn_estimators: 768\n",
      "\u001B[34m\u001B[1mwandb\u001B[0m: \tsubsample: 0.7971235947035201\n"
     ]
    },
    {
     "data": {
      "text/plain": "<IPython.core.display.HTML object>",
      "text/html": "\n                Tracking run with wandb version 0.11.0<br/>\n                Syncing run <strong style=\"color:#cdcd00\">solar-sweep-72</strong> to <a href=\"https://wandb.ai\" target=\"_blank\">Weights & Biases</a> <a href=\"https://docs.wandb.com/integrations/jupyter.html\" target=\"_blank\">(Documentation)</a>.<br/>\n                Project page: <a href=\"https://wandb.ai/devcore/Metriken%20Bauwesen%20Sweeps\" target=\"_blank\">https://wandb.ai/devcore/Metriken%20Bauwesen%20Sweeps</a><br/>\n                Sweep page: <a href=\"https://wandb.ai/devcore/Metriken%20Bauwesen%20Sweeps/sweeps/461ybom6\" target=\"_blank\">https://wandb.ai/devcore/Metriken%20Bauwesen%20Sweeps/sweeps/461ybom6</a><br/>\nRun page: <a href=\"https://wandb.ai/devcore/Metriken%20Bauwesen%20Sweeps/runs/gggn87qe\" target=\"_blank\">https://wandb.ai/devcore/Metriken%20Bauwesen%20Sweeps/runs/gggn87qe</a><br/>\n                Run data is saved locally in <code>C:\\Daten\\Development\\FHNW\\ip5-metriken-bauwesen\\src\\weight_and_bias\\wandb\\run-20210720_164159-gggn87qe</code><br/><br/>\n            "
     },
     "metadata": {},
     "output_type": "display_data"
    },
    {
     "name": "stdout",
     "output_type": "stream",
     "text": [
      "Location: C:\\Daten\\Development\\FHNW\\ip5-metriken-bauwesen\\export\\cluster_means.joblib\n",
      "Location: C:\\Daten\\Development\\FHNW\\ip5-metriken-bauwesen\\export\\fitted_pipeline.joblib\n"
     ]
    },
    {
     "data": {
      "text/plain": "<IPython.core.display.HTML object>",
      "text/html": "<br/>Waiting for W&B process to finish, PID 4872<br/>Program ended successfully."
     },
     "metadata": {},
     "output_type": "display_data"
    },
    {
     "data": {
      "text/plain": "VBox(children=(Label(value=' 0.00MB of 0.00MB uploaded (0.00MB deduped)\\r'), FloatProgress(value=1.0, max=1.0)…",
      "application/vnd.jupyter.widget-view+json": {
       "version_major": 2,
       "version_minor": 0,
       "model_id": "0f639c155ef44f42bdc87e3be2fa3c74"
      }
     },
     "metadata": {},
     "output_type": "display_data"
    },
    {
     "data": {
      "text/plain": "<IPython.core.display.HTML object>",
      "text/html": "Find user logs for this run at: <code>C:\\Daten\\Development\\FHNW\\ip5-metriken-bauwesen\\src\\weight_and_bias\\wandb\\run-20210720_164159-gggn87qe\\logs\\debug.log</code>"
     },
     "metadata": {},
     "output_type": "display_data"
    },
    {
     "data": {
      "text/plain": "<IPython.core.display.HTML object>",
      "text/html": "Find internal logs for this run at: <code>C:\\Daten\\Development\\FHNW\\ip5-metriken-bauwesen\\src\\weight_and_bias\\wandb\\run-20210720_164159-gggn87qe\\logs\\debug-internal.log</code>"
     },
     "metadata": {},
     "output_type": "display_data"
    },
    {
     "data": {
      "text/plain": "<IPython.core.display.HTML object>",
      "text/html": "<h3>Run summary:</h3><br/><style>\n    table.wandb td:nth-child(1) { padding: 0 10px; text-align: right }\n    </style><table class=\"wandb\">\n<tr><td>r2</td><td>0.92685</td></tr><tr><td>_runtime</td><td>18</td></tr><tr><td>_timestamp</td><td>1626792137</td></tr><tr><td>_step</td><td>1</td></tr><tr><td>neg_mape</td><td>-0.1682</td></tr></table>"
     },
     "metadata": {},
     "output_type": "display_data"
    },
    {
     "data": {
      "text/plain": "<IPython.core.display.HTML object>",
      "text/html": "<h3>Run history:</h3><br/><style>\n    table.wandb td:nth-child(1) { padding: 0 10px; text-align: right }\n    </style><table class=\"wandb\">\n<tr><td>r2</td><td>▁</td></tr><tr><td>_runtime</td><td>▁▁</td></tr><tr><td>_timestamp</td><td>▁▁</td></tr><tr><td>_step</td><td>▁█</td></tr><tr><td>neg_mape</td><td>▁</td></tr></table><br/>"
     },
     "metadata": {},
     "output_type": "display_data"
    },
    {
     "data": {
      "text/plain": "<IPython.core.display.HTML object>",
      "text/html": "Synced 5 W&B file(s), 0 media file(s), 0 artifact file(s) and 0 other file(s)"
     },
     "metadata": {},
     "output_type": "display_data"
    },
    {
     "data": {
      "text/plain": "<IPython.core.display.HTML object>",
      "text/html": "\n                    <br/>Synced <strong style=\"color:#cdcd00\">solar-sweep-72</strong>: <a href=\"https://wandb.ai/devcore/Metriken%20Bauwesen%20Sweeps/runs/gggn87qe\" target=\"_blank\">https://wandb.ai/devcore/Metriken%20Bauwesen%20Sweeps/runs/gggn87qe</a><br/>\n                "
     },
     "metadata": {},
     "output_type": "display_data"
    },
    {
     "name": "stderr",
     "output_type": "stream",
     "text": [
      "\u001B[34m\u001B[1mwandb\u001B[0m: Agent Starting Run: 7e3j1178 with config:\n",
      "\u001B[34m\u001B[1mwandb\u001B[0m: \tlearning_rate: 0.14230466175440287\n",
      "\u001B[34m\u001B[1mwandb\u001B[0m: \tmax_depth: 15\n",
      "\u001B[34m\u001B[1mwandb\u001B[0m: \tmin_samples_split: 10\n",
      "\u001B[34m\u001B[1mwandb\u001B[0m: \tn_estimators: 512\n",
      "\u001B[34m\u001B[1mwandb\u001B[0m: \tsubsample: 0.628674149868808\n"
     ]
    },
    {
     "data": {
      "text/plain": "<IPython.core.display.HTML object>",
      "text/html": "\n                Tracking run with wandb version 0.11.0<br/>\n                Syncing run <strong style=\"color:#cdcd00\">whole-sweep-73</strong> to <a href=\"https://wandb.ai\" target=\"_blank\">Weights & Biases</a> <a href=\"https://docs.wandb.com/integrations/jupyter.html\" target=\"_blank\">(Documentation)</a>.<br/>\n                Project page: <a href=\"https://wandb.ai/devcore/Metriken%20Bauwesen%20Sweeps\" target=\"_blank\">https://wandb.ai/devcore/Metriken%20Bauwesen%20Sweeps</a><br/>\n                Sweep page: <a href=\"https://wandb.ai/devcore/Metriken%20Bauwesen%20Sweeps/sweeps/461ybom6\" target=\"_blank\">https://wandb.ai/devcore/Metriken%20Bauwesen%20Sweeps/sweeps/461ybom6</a><br/>\nRun page: <a href=\"https://wandb.ai/devcore/Metriken%20Bauwesen%20Sweeps/runs/7e3j1178\" target=\"_blank\">https://wandb.ai/devcore/Metriken%20Bauwesen%20Sweeps/runs/7e3j1178</a><br/>\n                Run data is saved locally in <code>C:\\Daten\\Development\\FHNW\\ip5-metriken-bauwesen\\src\\weight_and_bias\\wandb\\run-20210720_164221-7e3j1178</code><br/><br/>\n            "
     },
     "metadata": {},
     "output_type": "display_data"
    },
    {
     "name": "stdout",
     "output_type": "stream",
     "text": [
      "Location: C:\\Daten\\Development\\FHNW\\ip5-metriken-bauwesen\\export\\cluster_means.joblib\n",
      "Location: C:\\Daten\\Development\\FHNW\\ip5-metriken-bauwesen\\export\\fitted_pipeline.joblib\n"
     ]
    },
    {
     "data": {
      "text/plain": "<IPython.core.display.HTML object>",
      "text/html": "<br/>Waiting for W&B process to finish, PID 10848<br/>Program ended successfully."
     },
     "metadata": {},
     "output_type": "display_data"
    },
    {
     "data": {
      "text/plain": "VBox(children=(Label(value=' 0.00MB of 0.00MB uploaded (0.00MB deduped)\\r'), FloatProgress(value=1.0, max=1.0)…",
      "application/vnd.jupyter.widget-view+json": {
       "version_major": 2,
       "version_minor": 0,
       "model_id": "5e99d326174a4a25aa9e8a26d092cbb2"
      }
     },
     "metadata": {},
     "output_type": "display_data"
    },
    {
     "data": {
      "text/plain": "<IPython.core.display.HTML object>",
      "text/html": "Find user logs for this run at: <code>C:\\Daten\\Development\\FHNW\\ip5-metriken-bauwesen\\src\\weight_and_bias\\wandb\\run-20210720_164221-7e3j1178\\logs\\debug.log</code>"
     },
     "metadata": {},
     "output_type": "display_data"
    },
    {
     "data": {
      "text/plain": "<IPython.core.display.HTML object>",
      "text/html": "Find internal logs for this run at: <code>C:\\Daten\\Development\\FHNW\\ip5-metriken-bauwesen\\src\\weight_and_bias\\wandb\\run-20210720_164221-7e3j1178\\logs\\debug-internal.log</code>"
     },
     "metadata": {},
     "output_type": "display_data"
    },
    {
     "data": {
      "text/plain": "<IPython.core.display.HTML object>",
      "text/html": "<h3>Run summary:</h3><br/><style>\n    table.wandb td:nth-child(1) { padding: 0 10px; text-align: right }\n    </style><table class=\"wandb\">\n<tr><td>r2</td><td>0.91988</td></tr><tr><td>_runtime</td><td>11</td></tr><tr><td>_timestamp</td><td>1626792152</td></tr><tr><td>_step</td><td>1</td></tr><tr><td>neg_mape</td><td>-0.17574</td></tr></table>"
     },
     "metadata": {},
     "output_type": "display_data"
    },
    {
     "data": {
      "text/plain": "<IPython.core.display.HTML object>",
      "text/html": "<h3>Run history:</h3><br/><style>\n    table.wandb td:nth-child(1) { padding: 0 10px; text-align: right }\n    </style><table class=\"wandb\">\n<tr><td>r2</td><td>▁</td></tr><tr><td>_runtime</td><td>▁▁</td></tr><tr><td>_timestamp</td><td>▁▁</td></tr><tr><td>_step</td><td>▁█</td></tr><tr><td>neg_mape</td><td>▁</td></tr></table><br/>"
     },
     "metadata": {},
     "output_type": "display_data"
    },
    {
     "data": {
      "text/plain": "<IPython.core.display.HTML object>",
      "text/html": "Synced 5 W&B file(s), 0 media file(s), 0 artifact file(s) and 0 other file(s)"
     },
     "metadata": {},
     "output_type": "display_data"
    },
    {
     "data": {
      "text/plain": "<IPython.core.display.HTML object>",
      "text/html": "\n                    <br/>Synced <strong style=\"color:#cdcd00\">whole-sweep-73</strong>: <a href=\"https://wandb.ai/devcore/Metriken%20Bauwesen%20Sweeps/runs/7e3j1178\" target=\"_blank\">https://wandb.ai/devcore/Metriken%20Bauwesen%20Sweeps/runs/7e3j1178</a><br/>\n                "
     },
     "metadata": {},
     "output_type": "display_data"
    },
    {
     "name": "stderr",
     "output_type": "stream",
     "text": [
      "\u001B[34m\u001B[1mwandb\u001B[0m: Agent Starting Run: qacenkjg with config:\n",
      "\u001B[34m\u001B[1mwandb\u001B[0m: \tlearning_rate: 0.05702498175483622\n",
      "\u001B[34m\u001B[1mwandb\u001B[0m: \tmax_depth: 30\n",
      "\u001B[34m\u001B[1mwandb\u001B[0m: \tmin_samples_split: 15\n",
      "\u001B[34m\u001B[1mwandb\u001B[0m: \tn_estimators: 2048\n",
      "\u001B[34m\u001B[1mwandb\u001B[0m: \tsubsample: 0.5981710432481465\n"
     ]
    },
    {
     "data": {
      "text/plain": "<IPython.core.display.HTML object>",
      "text/html": "\n                Tracking run with wandb version 0.11.0<br/>\n                Syncing run <strong style=\"color:#cdcd00\">apricot-sweep-74</strong> to <a href=\"https://wandb.ai\" target=\"_blank\">Weights & Biases</a> <a href=\"https://docs.wandb.com/integrations/jupyter.html\" target=\"_blank\">(Documentation)</a>.<br/>\n                Project page: <a href=\"https://wandb.ai/devcore/Metriken%20Bauwesen%20Sweeps\" target=\"_blank\">https://wandb.ai/devcore/Metriken%20Bauwesen%20Sweeps</a><br/>\n                Sweep page: <a href=\"https://wandb.ai/devcore/Metriken%20Bauwesen%20Sweeps/sweeps/461ybom6\" target=\"_blank\">https://wandb.ai/devcore/Metriken%20Bauwesen%20Sweeps/sweeps/461ybom6</a><br/>\nRun page: <a href=\"https://wandb.ai/devcore/Metriken%20Bauwesen%20Sweeps/runs/qacenkjg\" target=\"_blank\">https://wandb.ai/devcore/Metriken%20Bauwesen%20Sweeps/runs/qacenkjg</a><br/>\n                Run data is saved locally in <code>C:\\Daten\\Development\\FHNW\\ip5-metriken-bauwesen\\src\\weight_and_bias\\wandb\\run-20210720_164236-qacenkjg</code><br/><br/>\n            "
     },
     "metadata": {},
     "output_type": "display_data"
    },
    {
     "name": "stdout",
     "output_type": "stream",
     "text": [
      "Location: C:\\Daten\\Development\\FHNW\\ip5-metriken-bauwesen\\export\\cluster_means.joblib\n",
      "Location: C:\\Daten\\Development\\FHNW\\ip5-metriken-bauwesen\\export\\fitted_pipeline.joblib\n"
     ]
    },
    {
     "data": {
      "text/plain": "<IPython.core.display.HTML object>",
      "text/html": "<br/>Waiting for W&B process to finish, PID 10740<br/>Program ended successfully."
     },
     "metadata": {},
     "output_type": "display_data"
    },
    {
     "data": {
      "text/plain": "VBox(children=(Label(value=' 0.00MB of 0.00MB uploaded (0.00MB deduped)\\r'), FloatProgress(value=1.0, max=1.0)…",
      "application/vnd.jupyter.widget-view+json": {
       "version_major": 2,
       "version_minor": 0,
       "model_id": "d69e21969b8a419290b77d80b0ec126c"
      }
     },
     "metadata": {},
     "output_type": "display_data"
    },
    {
     "data": {
      "text/plain": "<IPython.core.display.HTML object>",
      "text/html": "Find user logs for this run at: <code>C:\\Daten\\Development\\FHNW\\ip5-metriken-bauwesen\\src\\weight_and_bias\\wandb\\run-20210720_164236-qacenkjg\\logs\\debug.log</code>"
     },
     "metadata": {},
     "output_type": "display_data"
    },
    {
     "data": {
      "text/plain": "<IPython.core.display.HTML object>",
      "text/html": "Find internal logs for this run at: <code>C:\\Daten\\Development\\FHNW\\ip5-metriken-bauwesen\\src\\weight_and_bias\\wandb\\run-20210720_164236-qacenkjg\\logs\\debug-internal.log</code>"
     },
     "metadata": {},
     "output_type": "display_data"
    },
    {
     "data": {
      "text/plain": "<IPython.core.display.HTML object>",
      "text/html": "<h3>Run summary:</h3><br/><style>\n    table.wandb td:nth-child(1) { padding: 0 10px; text-align: right }\n    </style><table class=\"wandb\">\n<tr><td>r2</td><td>0.93772</td></tr><tr><td>_runtime</td><td>47</td></tr><tr><td>_timestamp</td><td>1626792203</td></tr><tr><td>_step</td><td>1</td></tr><tr><td>neg_mape</td><td>-0.16847</td></tr></table>"
     },
     "metadata": {},
     "output_type": "display_data"
    },
    {
     "data": {
      "text/plain": "<IPython.core.display.HTML object>",
      "text/html": "<h3>Run history:</h3><br/><style>\n    table.wandb td:nth-child(1) { padding: 0 10px; text-align: right }\n    </style><table class=\"wandb\">\n<tr><td>r2</td><td>▁</td></tr><tr><td>_runtime</td><td>▁▁</td></tr><tr><td>_timestamp</td><td>▁▁</td></tr><tr><td>_step</td><td>▁█</td></tr><tr><td>neg_mape</td><td>▁</td></tr></table><br/>"
     },
     "metadata": {},
     "output_type": "display_data"
    },
    {
     "data": {
      "text/plain": "<IPython.core.display.HTML object>",
      "text/html": "Synced 5 W&B file(s), 0 media file(s), 0 artifact file(s) and 0 other file(s)"
     },
     "metadata": {},
     "output_type": "display_data"
    },
    {
     "data": {
      "text/plain": "<IPython.core.display.HTML object>",
      "text/html": "\n                    <br/>Synced <strong style=\"color:#cdcd00\">apricot-sweep-74</strong>: <a href=\"https://wandb.ai/devcore/Metriken%20Bauwesen%20Sweeps/runs/qacenkjg\" target=\"_blank\">https://wandb.ai/devcore/Metriken%20Bauwesen%20Sweeps/runs/qacenkjg</a><br/>\n                "
     },
     "metadata": {},
     "output_type": "display_data"
    },
    {
     "name": "stderr",
     "output_type": "stream",
     "text": [
      "\u001B[34m\u001B[1mwandb\u001B[0m: Agent Starting Run: cgbzkbf0 with config:\n",
      "\u001B[34m\u001B[1mwandb\u001B[0m: \tlearning_rate: 0.04507285282005039\n",
      "\u001B[34m\u001B[1mwandb\u001B[0m: \tmax_depth: 30\n",
      "\u001B[34m\u001B[1mwandb\u001B[0m: \tmin_samples_split: 8\n",
      "\u001B[34m\u001B[1mwandb\u001B[0m: \tn_estimators: 1536\n",
      "\u001B[34m\u001B[1mwandb\u001B[0m: \tsubsample: 0.6522845408934761\n"
     ]
    },
    {
     "data": {
      "text/plain": "<IPython.core.display.HTML object>",
      "text/html": "\n                Tracking run with wandb version 0.11.0<br/>\n                Syncing run <strong style=\"color:#cdcd00\">polished-sweep-75</strong> to <a href=\"https://wandb.ai\" target=\"_blank\">Weights & Biases</a> <a href=\"https://docs.wandb.com/integrations/jupyter.html\" target=\"_blank\">(Documentation)</a>.<br/>\n                Project page: <a href=\"https://wandb.ai/devcore/Metriken%20Bauwesen%20Sweeps\" target=\"_blank\">https://wandb.ai/devcore/Metriken%20Bauwesen%20Sweeps</a><br/>\n                Sweep page: <a href=\"https://wandb.ai/devcore/Metriken%20Bauwesen%20Sweeps/sweeps/461ybom6\" target=\"_blank\">https://wandb.ai/devcore/Metriken%20Bauwesen%20Sweeps/sweeps/461ybom6</a><br/>\nRun page: <a href=\"https://wandb.ai/devcore/Metriken%20Bauwesen%20Sweeps/runs/cgbzkbf0\" target=\"_blank\">https://wandb.ai/devcore/Metriken%20Bauwesen%20Sweeps/runs/cgbzkbf0</a><br/>\n                Run data is saved locally in <code>C:\\Daten\\Development\\FHNW\\ip5-metriken-bauwesen\\src\\weight_and_bias\\wandb\\run-20210720_164327-cgbzkbf0</code><br/><br/>\n            "
     },
     "metadata": {},
     "output_type": "display_data"
    },
    {
     "name": "stdout",
     "output_type": "stream",
     "text": [
      "Location: C:\\Daten\\Development\\FHNW\\ip5-metriken-bauwesen\\export\\cluster_means.joblib\n",
      "Location: C:\\Daten\\Development\\FHNW\\ip5-metriken-bauwesen\\export\\fitted_pipeline.joblib\n"
     ]
    },
    {
     "data": {
      "text/plain": "<IPython.core.display.HTML object>",
      "text/html": "<br/>Waiting for W&B process to finish, PID 8456<br/>Program ended successfully."
     },
     "metadata": {},
     "output_type": "display_data"
    },
    {
     "data": {
      "text/plain": "VBox(children=(Label(value=' 0.00MB of 0.00MB uploaded (0.00MB deduped)\\r'), FloatProgress(value=1.0, max=1.0)…",
      "application/vnd.jupyter.widget-view+json": {
       "version_major": 2,
       "version_minor": 0,
       "model_id": "100b11e6b67d4e7bb304439d571c1a2d"
      }
     },
     "metadata": {},
     "output_type": "display_data"
    },
    {
     "data": {
      "text/plain": "<IPython.core.display.HTML object>",
      "text/html": "Find user logs for this run at: <code>C:\\Daten\\Development\\FHNW\\ip5-metriken-bauwesen\\src\\weight_and_bias\\wandb\\run-20210720_164327-cgbzkbf0\\logs\\debug.log</code>"
     },
     "metadata": {},
     "output_type": "display_data"
    },
    {
     "data": {
      "text/plain": "<IPython.core.display.HTML object>",
      "text/html": "Find internal logs for this run at: <code>C:\\Daten\\Development\\FHNW\\ip5-metriken-bauwesen\\src\\weight_and_bias\\wandb\\run-20210720_164327-cgbzkbf0\\logs\\debug-internal.log</code>"
     },
     "metadata": {},
     "output_type": "display_data"
    },
    {
     "data": {
      "text/plain": "<IPython.core.display.HTML object>",
      "text/html": "<h3>Run summary:</h3><br/><style>\n    table.wandb td:nth-child(1) { padding: 0 10px; text-align: right }\n    </style><table class=\"wandb\">\n<tr><td>r2</td><td>0.93043</td></tr><tr><td>_runtime</td><td>36</td></tr><tr><td>_timestamp</td><td>1626792243</td></tr><tr><td>_step</td><td>1</td></tr><tr><td>neg_mape</td><td>-0.16452</td></tr></table>"
     },
     "metadata": {},
     "output_type": "display_data"
    },
    {
     "data": {
      "text/plain": "<IPython.core.display.HTML object>",
      "text/html": "<h3>Run history:</h3><br/><style>\n    table.wandb td:nth-child(1) { padding: 0 10px; text-align: right }\n    </style><table class=\"wandb\">\n<tr><td>r2</td><td>▁</td></tr><tr><td>_runtime</td><td>▁▁</td></tr><tr><td>_timestamp</td><td>▁▁</td></tr><tr><td>_step</td><td>▁█</td></tr><tr><td>neg_mape</td><td>▁</td></tr></table><br/>"
     },
     "metadata": {},
     "output_type": "display_data"
    },
    {
     "data": {
      "text/plain": "<IPython.core.display.HTML object>",
      "text/html": "Synced 5 W&B file(s), 0 media file(s), 0 artifact file(s) and 0 other file(s)"
     },
     "metadata": {},
     "output_type": "display_data"
    },
    {
     "data": {
      "text/plain": "<IPython.core.display.HTML object>",
      "text/html": "\n                    <br/>Synced <strong style=\"color:#cdcd00\">polished-sweep-75</strong>: <a href=\"https://wandb.ai/devcore/Metriken%20Bauwesen%20Sweeps/runs/cgbzkbf0\" target=\"_blank\">https://wandb.ai/devcore/Metriken%20Bauwesen%20Sweeps/runs/cgbzkbf0</a><br/>\n                "
     },
     "metadata": {},
     "output_type": "display_data"
    },
    {
     "name": "stderr",
     "output_type": "stream",
     "text": [
      "\u001B[34m\u001B[1mwandb\u001B[0m: Agent Starting Run: xe93t1iv with config:\n",
      "\u001B[34m\u001B[1mwandb\u001B[0m: \tlearning_rate: 0.11531613551057138\n",
      "\u001B[34m\u001B[1mwandb\u001B[0m: \tmax_depth: 11\n",
      "\u001B[34m\u001B[1mwandb\u001B[0m: \tmin_samples_split: 4\n",
      "\u001B[34m\u001B[1mwandb\u001B[0m: \tn_estimators: 512\n",
      "\u001B[34m\u001B[1mwandb\u001B[0m: \tsubsample: 0.6335918526928813\n"
     ]
    },
    {
     "data": {
      "text/plain": "<IPython.core.display.HTML object>",
      "text/html": "\n                Tracking run with wandb version 0.11.0<br/>\n                Syncing run <strong style=\"color:#cdcd00\">smart-sweep-76</strong> to <a href=\"https://wandb.ai\" target=\"_blank\">Weights & Biases</a> <a href=\"https://docs.wandb.com/integrations/jupyter.html\" target=\"_blank\">(Documentation)</a>.<br/>\n                Project page: <a href=\"https://wandb.ai/devcore/Metriken%20Bauwesen%20Sweeps\" target=\"_blank\">https://wandb.ai/devcore/Metriken%20Bauwesen%20Sweeps</a><br/>\n                Sweep page: <a href=\"https://wandb.ai/devcore/Metriken%20Bauwesen%20Sweeps/sweeps/461ybom6\" target=\"_blank\">https://wandb.ai/devcore/Metriken%20Bauwesen%20Sweeps/sweeps/461ybom6</a><br/>\nRun page: <a href=\"https://wandb.ai/devcore/Metriken%20Bauwesen%20Sweeps/runs/xe93t1iv\" target=\"_blank\">https://wandb.ai/devcore/Metriken%20Bauwesen%20Sweeps/runs/xe93t1iv</a><br/>\n                Run data is saved locally in <code>C:\\Daten\\Development\\FHNW\\ip5-metriken-bauwesen\\src\\weight_and_bias\\wandb\\run-20210720_164408-xe93t1iv</code><br/><br/>\n            "
     },
     "metadata": {},
     "output_type": "display_data"
    },
    {
     "name": "stdout",
     "output_type": "stream",
     "text": [
      "Location: C:\\Daten\\Development\\FHNW\\ip5-metriken-bauwesen\\export\\cluster_means.joblib\n",
      "Location: C:\\Daten\\Development\\FHNW\\ip5-metriken-bauwesen\\export\\fitted_pipeline.joblib\n"
     ]
    },
    {
     "data": {
      "text/plain": "<IPython.core.display.HTML object>",
      "text/html": "<br/>Waiting for W&B process to finish, PID 5292<br/>Program ended successfully."
     },
     "metadata": {},
     "output_type": "display_data"
    },
    {
     "data": {
      "text/plain": "VBox(children=(Label(value=' 0.00MB of 0.00MB uploaded (0.00MB deduped)\\r'), FloatProgress(value=1.0, max=1.0)…",
      "application/vnd.jupyter.widget-view+json": {
       "version_major": 2,
       "version_minor": 0,
       "model_id": "a5da235590c74088a233800e556d4b66"
      }
     },
     "metadata": {},
     "output_type": "display_data"
    },
    {
     "data": {
      "text/plain": "<IPython.core.display.HTML object>",
      "text/html": "Find user logs for this run at: <code>C:\\Daten\\Development\\FHNW\\ip5-metriken-bauwesen\\src\\weight_and_bias\\wandb\\run-20210720_164408-xe93t1iv\\logs\\debug.log</code>"
     },
     "metadata": {},
     "output_type": "display_data"
    },
    {
     "data": {
      "text/plain": "<IPython.core.display.HTML object>",
      "text/html": "Find internal logs for this run at: <code>C:\\Daten\\Development\\FHNW\\ip5-metriken-bauwesen\\src\\weight_and_bias\\wandb\\run-20210720_164408-xe93t1iv\\logs\\debug-internal.log</code>"
     },
     "metadata": {},
     "output_type": "display_data"
    },
    {
     "data": {
      "text/plain": "<IPython.core.display.HTML object>",
      "text/html": "<h3>Run summary:</h3><br/><style>\n    table.wandb td:nth-child(1) { padding: 0 10px; text-align: right }\n    </style><table class=\"wandb\">\n<tr><td>r2</td><td>0.92315</td></tr><tr><td>_runtime</td><td>9</td></tr><tr><td>_timestamp</td><td>1626792257</td></tr><tr><td>_step</td><td>1</td></tr><tr><td>neg_mape</td><td>-0.16736</td></tr></table>"
     },
     "metadata": {},
     "output_type": "display_data"
    },
    {
     "data": {
      "text/plain": "<IPython.core.display.HTML object>",
      "text/html": "<h3>Run history:</h3><br/><style>\n    table.wandb td:nth-child(1) { padding: 0 10px; text-align: right }\n    </style><table class=\"wandb\">\n<tr><td>r2</td><td>▁</td></tr><tr><td>_runtime</td><td>▁▁</td></tr><tr><td>_timestamp</td><td>▁▁</td></tr><tr><td>_step</td><td>▁█</td></tr><tr><td>neg_mape</td><td>▁</td></tr></table><br/>"
     },
     "metadata": {},
     "output_type": "display_data"
    },
    {
     "data": {
      "text/plain": "<IPython.core.display.HTML object>",
      "text/html": "Synced 5 W&B file(s), 0 media file(s), 0 artifact file(s) and 0 other file(s)"
     },
     "metadata": {},
     "output_type": "display_data"
    },
    {
     "data": {
      "text/plain": "<IPython.core.display.HTML object>",
      "text/html": "\n                    <br/>Synced <strong style=\"color:#cdcd00\">smart-sweep-76</strong>: <a href=\"https://wandb.ai/devcore/Metriken%20Bauwesen%20Sweeps/runs/xe93t1iv\" target=\"_blank\">https://wandb.ai/devcore/Metriken%20Bauwesen%20Sweeps/runs/xe93t1iv</a><br/>\n                "
     },
     "metadata": {},
     "output_type": "display_data"
    },
    {
     "name": "stderr",
     "output_type": "stream",
     "text": [
      "\u001B[34m\u001B[1mwandb\u001B[0m: Agent Starting Run: j0r7hux8 with config:\n",
      "\u001B[34m\u001B[1mwandb\u001B[0m: \tlearning_rate: 0.02874140898057867\n",
      "\u001B[34m\u001B[1mwandb\u001B[0m: \tmax_depth: 11\n",
      "\u001B[34m\u001B[1mwandb\u001B[0m: \tmin_samples_split: 10\n",
      "\u001B[34m\u001B[1mwandb\u001B[0m: \tn_estimators: 1024\n",
      "\u001B[34m\u001B[1mwandb\u001B[0m: \tsubsample: 0.7143945799481513\n"
     ]
    },
    {
     "data": {
      "text/plain": "<IPython.core.display.HTML object>",
      "text/html": "\n                Tracking run with wandb version 0.11.0<br/>\n                Syncing run <strong style=\"color:#cdcd00\">clean-sweep-77</strong> to <a href=\"https://wandb.ai\" target=\"_blank\">Weights & Biases</a> <a href=\"https://docs.wandb.com/integrations/jupyter.html\" target=\"_blank\">(Documentation)</a>.<br/>\n                Project page: <a href=\"https://wandb.ai/devcore/Metriken%20Bauwesen%20Sweeps\" target=\"_blank\">https://wandb.ai/devcore/Metriken%20Bauwesen%20Sweeps</a><br/>\n                Sweep page: <a href=\"https://wandb.ai/devcore/Metriken%20Bauwesen%20Sweeps/sweeps/461ybom6\" target=\"_blank\">https://wandb.ai/devcore/Metriken%20Bauwesen%20Sweeps/sweeps/461ybom6</a><br/>\nRun page: <a href=\"https://wandb.ai/devcore/Metriken%20Bauwesen%20Sweeps/runs/j0r7hux8\" target=\"_blank\">https://wandb.ai/devcore/Metriken%20Bauwesen%20Sweeps/runs/j0r7hux8</a><br/>\n                Run data is saved locally in <code>C:\\Daten\\Development\\FHNW\\ip5-metriken-bauwesen\\src\\weight_and_bias\\wandb\\run-20210720_164422-j0r7hux8</code><br/><br/>\n            "
     },
     "metadata": {},
     "output_type": "display_data"
    },
    {
     "name": "stdout",
     "output_type": "stream",
     "text": [
      "Location: C:\\Daten\\Development\\FHNW\\ip5-metriken-bauwesen\\export\\cluster_means.joblib\n",
      "Location: C:\\Daten\\Development\\FHNW\\ip5-metriken-bauwesen\\export\\fitted_pipeline.joblib\n"
     ]
    },
    {
     "data": {
      "text/plain": "<IPython.core.display.HTML object>",
      "text/html": "<br/>Waiting for W&B process to finish, PID 15944<br/>Program ended successfully."
     },
     "metadata": {},
     "output_type": "display_data"
    },
    {
     "data": {
      "text/plain": "VBox(children=(Label(value=' 0.00MB of 0.00MB uploaded (0.00MB deduped)\\r'), FloatProgress(value=1.0, max=1.0)…",
      "application/vnd.jupyter.widget-view+json": {
       "version_major": 2,
       "version_minor": 0,
       "model_id": "4159c716a1c74647a3581a8e498beda9"
      }
     },
     "metadata": {},
     "output_type": "display_data"
    },
    {
     "data": {
      "text/plain": "<IPython.core.display.HTML object>",
      "text/html": "Find user logs for this run at: <code>C:\\Daten\\Development\\FHNW\\ip5-metriken-bauwesen\\src\\weight_and_bias\\wandb\\run-20210720_164422-j0r7hux8\\logs\\debug.log</code>"
     },
     "metadata": {},
     "output_type": "display_data"
    },
    {
     "data": {
      "text/plain": "<IPython.core.display.HTML object>",
      "text/html": "Find internal logs for this run at: <code>C:\\Daten\\Development\\FHNW\\ip5-metriken-bauwesen\\src\\weight_and_bias\\wandb\\run-20210720_164422-j0r7hux8\\logs\\debug-internal.log</code>"
     },
     "metadata": {},
     "output_type": "display_data"
    },
    {
     "data": {
      "text/plain": "<IPython.core.display.HTML object>",
      "text/html": "<h3>Run summary:</h3><br/><style>\n    table.wandb td:nth-child(1) { padding: 0 10px; text-align: right }\n    </style><table class=\"wandb\">\n<tr><td>r2</td><td>0.93227</td></tr><tr><td>_runtime</td><td>17</td></tr><tr><td>_timestamp</td><td>1626792279</td></tr><tr><td>_step</td><td>1</td></tr><tr><td>neg_mape</td><td>-0.16594</td></tr></table>"
     },
     "metadata": {},
     "output_type": "display_data"
    },
    {
     "data": {
      "text/plain": "<IPython.core.display.HTML object>",
      "text/html": "<h3>Run history:</h3><br/><style>\n    table.wandb td:nth-child(1) { padding: 0 10px; text-align: right }\n    </style><table class=\"wandb\">\n<tr><td>r2</td><td>▁</td></tr><tr><td>_runtime</td><td>▁▁</td></tr><tr><td>_timestamp</td><td>▁▁</td></tr><tr><td>_step</td><td>▁█</td></tr><tr><td>neg_mape</td><td>▁</td></tr></table><br/>"
     },
     "metadata": {},
     "output_type": "display_data"
    },
    {
     "data": {
      "text/plain": "<IPython.core.display.HTML object>",
      "text/html": "Synced 5 W&B file(s), 0 media file(s), 0 artifact file(s) and 0 other file(s)"
     },
     "metadata": {},
     "output_type": "display_data"
    },
    {
     "data": {
      "text/plain": "<IPython.core.display.HTML object>",
      "text/html": "\n                    <br/>Synced <strong style=\"color:#cdcd00\">clean-sweep-77</strong>: <a href=\"https://wandb.ai/devcore/Metriken%20Bauwesen%20Sweeps/runs/j0r7hux8\" target=\"_blank\">https://wandb.ai/devcore/Metriken%20Bauwesen%20Sweeps/runs/j0r7hux8</a><br/>\n                "
     },
     "metadata": {},
     "output_type": "display_data"
    },
    {
     "name": "stderr",
     "output_type": "stream",
     "text": [
      "\u001B[34m\u001B[1mwandb\u001B[0m: Agent Starting Run: u3dlx0dw with config:\n",
      "\u001B[34m\u001B[1mwandb\u001B[0m: \tlearning_rate: 0.06987201090446467\n",
      "\u001B[34m\u001B[1mwandb\u001B[0m: \tmax_depth: 10\n",
      "\u001B[34m\u001B[1mwandb\u001B[0m: \tmin_samples_split: 15\n",
      "\u001B[34m\u001B[1mwandb\u001B[0m: \tn_estimators: 512\n",
      "\u001B[34m\u001B[1mwandb\u001B[0m: \tsubsample: 0.5780102800733518\n"
     ]
    },
    {
     "data": {
      "text/plain": "<IPython.core.display.HTML object>",
      "text/html": "\n                Tracking run with wandb version 0.11.0<br/>\n                Syncing run <strong style=\"color:#cdcd00\">eternal-sweep-78</strong> to <a href=\"https://wandb.ai\" target=\"_blank\">Weights & Biases</a> <a href=\"https://docs.wandb.com/integrations/jupyter.html\" target=\"_blank\">(Documentation)</a>.<br/>\n                Project page: <a href=\"https://wandb.ai/devcore/Metriken%20Bauwesen%20Sweeps\" target=\"_blank\">https://wandb.ai/devcore/Metriken%20Bauwesen%20Sweeps</a><br/>\n                Sweep page: <a href=\"https://wandb.ai/devcore/Metriken%20Bauwesen%20Sweeps/sweeps/461ybom6\" target=\"_blank\">https://wandb.ai/devcore/Metriken%20Bauwesen%20Sweeps/sweeps/461ybom6</a><br/>\nRun page: <a href=\"https://wandb.ai/devcore/Metriken%20Bauwesen%20Sweeps/runs/u3dlx0dw\" target=\"_blank\">https://wandb.ai/devcore/Metriken%20Bauwesen%20Sweeps/runs/u3dlx0dw</a><br/>\n                Run data is saved locally in <code>C:\\Daten\\Development\\FHNW\\ip5-metriken-bauwesen\\src\\weight_and_bias\\wandb\\run-20210720_164443-u3dlx0dw</code><br/><br/>\n            "
     },
     "metadata": {},
     "output_type": "display_data"
    },
    {
     "name": "stdout",
     "output_type": "stream",
     "text": [
      "Location: C:\\Daten\\Development\\FHNW\\ip5-metriken-bauwesen\\export\\cluster_means.joblib\n",
      "Location: C:\\Daten\\Development\\FHNW\\ip5-metriken-bauwesen\\export\\fitted_pipeline.joblib\n"
     ]
    },
    {
     "data": {
      "text/plain": "<IPython.core.display.HTML object>",
      "text/html": "<br/>Waiting for W&B process to finish, PID 2216<br/>Program ended successfully."
     },
     "metadata": {},
     "output_type": "display_data"
    },
    {
     "data": {
      "text/plain": "VBox(children=(Label(value=' 0.00MB of 0.00MB uploaded (0.00MB deduped)\\r'), FloatProgress(value=1.0, max=1.0)…",
      "application/vnd.jupyter.widget-view+json": {
       "version_major": 2,
       "version_minor": 0,
       "model_id": "6d20ed84421a470e84b6907cf44c9438"
      }
     },
     "metadata": {},
     "output_type": "display_data"
    },
    {
     "data": {
      "text/plain": "<IPython.core.display.HTML object>",
      "text/html": "Find user logs for this run at: <code>C:\\Daten\\Development\\FHNW\\ip5-metriken-bauwesen\\src\\weight_and_bias\\wandb\\run-20210720_164443-u3dlx0dw\\logs\\debug.log</code>"
     },
     "metadata": {},
     "output_type": "display_data"
    },
    {
     "data": {
      "text/plain": "<IPython.core.display.HTML object>",
      "text/html": "Find internal logs for this run at: <code>C:\\Daten\\Development\\FHNW\\ip5-metriken-bauwesen\\src\\weight_and_bias\\wandb\\run-20210720_164443-u3dlx0dw\\logs\\debug-internal.log</code>"
     },
     "metadata": {},
     "output_type": "display_data"
    },
    {
     "data": {
      "text/plain": "<IPython.core.display.HTML object>",
      "text/html": "<h3>Run summary:</h3><br/><style>\n    table.wandb td:nth-child(1) { padding: 0 10px; text-align: right }\n    </style><table class=\"wandb\">\n<tr><td>r2</td><td>0.93512</td></tr><tr><td>_runtime</td><td>9</td></tr><tr><td>_timestamp</td><td>1626792292</td></tr><tr><td>_step</td><td>1</td></tr><tr><td>neg_mape</td><td>-0.17065</td></tr></table>"
     },
     "metadata": {},
     "output_type": "display_data"
    },
    {
     "data": {
      "text/plain": "<IPython.core.display.HTML object>",
      "text/html": "<h3>Run history:</h3><br/><style>\n    table.wandb td:nth-child(1) { padding: 0 10px; text-align: right }\n    </style><table class=\"wandb\">\n<tr><td>r2</td><td>▁</td></tr><tr><td>_runtime</td><td>▁▁</td></tr><tr><td>_timestamp</td><td>▁▁</td></tr><tr><td>_step</td><td>▁█</td></tr><tr><td>neg_mape</td><td>▁</td></tr></table><br/>"
     },
     "metadata": {},
     "output_type": "display_data"
    },
    {
     "data": {
      "text/plain": "<IPython.core.display.HTML object>",
      "text/html": "Synced 5 W&B file(s), 0 media file(s), 0 artifact file(s) and 0 other file(s)"
     },
     "metadata": {},
     "output_type": "display_data"
    },
    {
     "data": {
      "text/plain": "<IPython.core.display.HTML object>",
      "text/html": "\n                    <br/>Synced <strong style=\"color:#cdcd00\">eternal-sweep-78</strong>: <a href=\"https://wandb.ai/devcore/Metriken%20Bauwesen%20Sweeps/runs/u3dlx0dw\" target=\"_blank\">https://wandb.ai/devcore/Metriken%20Bauwesen%20Sweeps/runs/u3dlx0dw</a><br/>\n                "
     },
     "metadata": {},
     "output_type": "display_data"
    },
    {
     "name": "stderr",
     "output_type": "stream",
     "text": [
      "\u001B[34m\u001B[1mwandb\u001B[0m: Agent Starting Run: q5rm5yxq with config:\n",
      "\u001B[34m\u001B[1mwandb\u001B[0m: \tlearning_rate: 0.06449191654144683\n",
      "\u001B[34m\u001B[1mwandb\u001B[0m: \tmax_depth: 15\n",
      "\u001B[34m\u001B[1mwandb\u001B[0m: \tmin_samples_split: 6\n",
      "\u001B[34m\u001B[1mwandb\u001B[0m: \tn_estimators: 1024\n",
      "\u001B[34m\u001B[1mwandb\u001B[0m: \tsubsample: 0.5591388861639299\n"
     ]
    },
    {
     "data": {
      "text/plain": "<IPython.core.display.HTML object>",
      "text/html": "\n                Tracking run with wandb version 0.11.0<br/>\n                Syncing run <strong style=\"color:#cdcd00\">scarlet-sweep-79</strong> to <a href=\"https://wandb.ai\" target=\"_blank\">Weights & Biases</a> <a href=\"https://docs.wandb.com/integrations/jupyter.html\" target=\"_blank\">(Documentation)</a>.<br/>\n                Project page: <a href=\"https://wandb.ai/devcore/Metriken%20Bauwesen%20Sweeps\" target=\"_blank\">https://wandb.ai/devcore/Metriken%20Bauwesen%20Sweeps</a><br/>\n                Sweep page: <a href=\"https://wandb.ai/devcore/Metriken%20Bauwesen%20Sweeps/sweeps/461ybom6\" target=\"_blank\">https://wandb.ai/devcore/Metriken%20Bauwesen%20Sweeps/sweeps/461ybom6</a><br/>\nRun page: <a href=\"https://wandb.ai/devcore/Metriken%20Bauwesen%20Sweeps/runs/q5rm5yxq\" target=\"_blank\">https://wandb.ai/devcore/Metriken%20Bauwesen%20Sweeps/runs/q5rm5yxq</a><br/>\n                Run data is saved locally in <code>C:\\Daten\\Development\\FHNW\\ip5-metriken-bauwesen\\src\\weight_and_bias\\wandb\\run-20210720_164457-q5rm5yxq</code><br/><br/>\n            "
     },
     "metadata": {},
     "output_type": "display_data"
    },
    {
     "name": "stdout",
     "output_type": "stream",
     "text": [
      "Location: C:\\Daten\\Development\\FHNW\\ip5-metriken-bauwesen\\export\\cluster_means.joblib\n",
      "Location: C:\\Daten\\Development\\FHNW\\ip5-metriken-bauwesen\\export\\fitted_pipeline.joblib\n"
     ]
    },
    {
     "data": {
      "text/plain": "<IPython.core.display.HTML object>",
      "text/html": "<br/>Waiting for W&B process to finish, PID 15712<br/>Program ended successfully."
     },
     "metadata": {},
     "output_type": "display_data"
    },
    {
     "data": {
      "text/plain": "VBox(children=(Label(value=' 0.00MB of 0.00MB uploaded (0.00MB deduped)\\r'), FloatProgress(value=1.0, max=1.0)…",
      "application/vnd.jupyter.widget-view+json": {
       "version_major": 2,
       "version_minor": 0,
       "model_id": "a7093922a8564170844b555e00130d81"
      }
     },
     "metadata": {},
     "output_type": "display_data"
    },
    {
     "data": {
      "text/plain": "<IPython.core.display.HTML object>",
      "text/html": "Find user logs for this run at: <code>C:\\Daten\\Development\\FHNW\\ip5-metriken-bauwesen\\src\\weight_and_bias\\wandb\\run-20210720_164457-q5rm5yxq\\logs\\debug.log</code>"
     },
     "metadata": {},
     "output_type": "display_data"
    },
    {
     "data": {
      "text/plain": "<IPython.core.display.HTML object>",
      "text/html": "Find internal logs for this run at: <code>C:\\Daten\\Development\\FHNW\\ip5-metriken-bauwesen\\src\\weight_and_bias\\wandb\\run-20210720_164457-q5rm5yxq\\logs\\debug-internal.log</code>"
     },
     "metadata": {},
     "output_type": "display_data"
    },
    {
     "data": {
      "text/plain": "<IPython.core.display.HTML object>",
      "text/html": "<h3>Run summary:</h3><br/><style>\n    table.wandb td:nth-child(1) { padding: 0 10px; text-align: right }\n    </style><table class=\"wandb\">\n<tr><td>r2</td><td>0.93209</td></tr><tr><td>_runtime</td><td>16</td></tr><tr><td>_timestamp</td><td>1626792313</td></tr><tr><td>_step</td><td>1</td></tr><tr><td>neg_mape</td><td>-0.1655</td></tr></table>"
     },
     "metadata": {},
     "output_type": "display_data"
    },
    {
     "data": {
      "text/plain": "<IPython.core.display.HTML object>",
      "text/html": "<h3>Run history:</h3><br/><style>\n    table.wandb td:nth-child(1) { padding: 0 10px; text-align: right }\n    </style><table class=\"wandb\">\n<tr><td>r2</td><td>▁</td></tr><tr><td>_runtime</td><td>▁▁</td></tr><tr><td>_timestamp</td><td>▁▁</td></tr><tr><td>_step</td><td>▁█</td></tr><tr><td>neg_mape</td><td>▁</td></tr></table><br/>"
     },
     "metadata": {},
     "output_type": "display_data"
    },
    {
     "data": {
      "text/plain": "<IPython.core.display.HTML object>",
      "text/html": "Synced 5 W&B file(s), 0 media file(s), 0 artifact file(s) and 0 other file(s)"
     },
     "metadata": {},
     "output_type": "display_data"
    },
    {
     "data": {
      "text/plain": "<IPython.core.display.HTML object>",
      "text/html": "\n                    <br/>Synced <strong style=\"color:#cdcd00\">scarlet-sweep-79</strong>: <a href=\"https://wandb.ai/devcore/Metriken%20Bauwesen%20Sweeps/runs/q5rm5yxq\" target=\"_blank\">https://wandb.ai/devcore/Metriken%20Bauwesen%20Sweeps/runs/q5rm5yxq</a><br/>\n                "
     },
     "metadata": {},
     "output_type": "display_data"
    },
    {
     "name": "stderr",
     "output_type": "stream",
     "text": [
      "\u001B[34m\u001B[1mwandb\u001B[0m: Agent Starting Run: zrasnl8w with config:\n",
      "\u001B[34m\u001B[1mwandb\u001B[0m: \tlearning_rate: 0.10038652965474801\n",
      "\u001B[34m\u001B[1mwandb\u001B[0m: \tmax_depth: 18\n",
      "\u001B[34m\u001B[1mwandb\u001B[0m: \tmin_samples_split: 4\n",
      "\u001B[34m\u001B[1mwandb\u001B[0m: \tn_estimators: 768\n",
      "\u001B[34m\u001B[1mwandb\u001B[0m: \tsubsample: 0.7742342613288361\n"
     ]
    },
    {
     "data": {
      "text/plain": "<IPython.core.display.HTML object>",
      "text/html": "\n                Tracking run with wandb version 0.11.0<br/>\n                Syncing run <strong style=\"color:#cdcd00\">vital-sweep-80</strong> to <a href=\"https://wandb.ai\" target=\"_blank\">Weights & Biases</a> <a href=\"https://docs.wandb.com/integrations/jupyter.html\" target=\"_blank\">(Documentation)</a>.<br/>\n                Project page: <a href=\"https://wandb.ai/devcore/Metriken%20Bauwesen%20Sweeps\" target=\"_blank\">https://wandb.ai/devcore/Metriken%20Bauwesen%20Sweeps</a><br/>\n                Sweep page: <a href=\"https://wandb.ai/devcore/Metriken%20Bauwesen%20Sweeps/sweeps/461ybom6\" target=\"_blank\">https://wandb.ai/devcore/Metriken%20Bauwesen%20Sweeps/sweeps/461ybom6</a><br/>\nRun page: <a href=\"https://wandb.ai/devcore/Metriken%20Bauwesen%20Sweeps/runs/zrasnl8w\" target=\"_blank\">https://wandb.ai/devcore/Metriken%20Bauwesen%20Sweeps/runs/zrasnl8w</a><br/>\n                Run data is saved locally in <code>C:\\Daten\\Development\\FHNW\\ip5-metriken-bauwesen\\src\\weight_and_bias\\wandb\\run-20210720_164517-zrasnl8w</code><br/><br/>\n            "
     },
     "metadata": {},
     "output_type": "display_data"
    },
    {
     "name": "stdout",
     "output_type": "stream",
     "text": [
      "Location: C:\\Daten\\Development\\FHNW\\ip5-metriken-bauwesen\\export\\cluster_means.joblib\n",
      "Location: C:\\Daten\\Development\\FHNW\\ip5-metriken-bauwesen\\export\\fitted_pipeline.joblib\n"
     ]
    },
    {
     "data": {
      "text/plain": "<IPython.core.display.HTML object>",
      "text/html": "<br/>Waiting for W&B process to finish, PID 5256<br/>Program ended successfully."
     },
     "metadata": {},
     "output_type": "display_data"
    },
    {
     "data": {
      "text/plain": "VBox(children=(Label(value=' 0.00MB of 0.00MB uploaded (0.00MB deduped)\\r'), FloatProgress(value=1.0, max=1.0)…",
      "application/vnd.jupyter.widget-view+json": {
       "version_major": 2,
       "version_minor": 0,
       "model_id": "4a839ba8dafd4a448976361bf45a2ede"
      }
     },
     "metadata": {},
     "output_type": "display_data"
    },
    {
     "data": {
      "text/plain": "<IPython.core.display.HTML object>",
      "text/html": "Find user logs for this run at: <code>C:\\Daten\\Development\\FHNW\\ip5-metriken-bauwesen\\src\\weight_and_bias\\wandb\\run-20210720_164517-zrasnl8w\\logs\\debug.log</code>"
     },
     "metadata": {},
     "output_type": "display_data"
    },
    {
     "data": {
      "text/plain": "<IPython.core.display.HTML object>",
      "text/html": "Find internal logs for this run at: <code>C:\\Daten\\Development\\FHNW\\ip5-metriken-bauwesen\\src\\weight_and_bias\\wandb\\run-20210720_164517-zrasnl8w\\logs\\debug-internal.log</code>"
     },
     "metadata": {},
     "output_type": "display_data"
    },
    {
     "data": {
      "text/plain": "<IPython.core.display.HTML object>",
      "text/html": "<h3>Run summary:</h3><br/><style>\n    table.wandb td:nth-child(1) { padding: 0 10px; text-align: right }\n    </style><table class=\"wandb\">\n<tr><td>r2</td><td>0.92205</td></tr><tr><td>_runtime</td><td>18</td></tr><tr><td>_timestamp</td><td>1626792335</td></tr><tr><td>_step</td><td>1</td></tr><tr><td>neg_mape</td><td>-0.17081</td></tr></table>"
     },
     "metadata": {},
     "output_type": "display_data"
    },
    {
     "data": {
      "text/plain": "<IPython.core.display.HTML object>",
      "text/html": "<h3>Run history:</h3><br/><style>\n    table.wandb td:nth-child(1) { padding: 0 10px; text-align: right }\n    </style><table class=\"wandb\">\n<tr><td>r2</td><td>▁</td></tr><tr><td>_runtime</td><td>▁▁</td></tr><tr><td>_timestamp</td><td>▁▁</td></tr><tr><td>_step</td><td>▁█</td></tr><tr><td>neg_mape</td><td>▁</td></tr></table><br/>"
     },
     "metadata": {},
     "output_type": "display_data"
    },
    {
     "data": {
      "text/plain": "<IPython.core.display.HTML object>",
      "text/html": "Synced 5 W&B file(s), 0 media file(s), 0 artifact file(s) and 0 other file(s)"
     },
     "metadata": {},
     "output_type": "display_data"
    },
    {
     "data": {
      "text/plain": "<IPython.core.display.HTML object>",
      "text/html": "\n                    <br/>Synced <strong style=\"color:#cdcd00\">vital-sweep-80</strong>: <a href=\"https://wandb.ai/devcore/Metriken%20Bauwesen%20Sweeps/runs/zrasnl8w\" target=\"_blank\">https://wandb.ai/devcore/Metriken%20Bauwesen%20Sweeps/runs/zrasnl8w</a><br/>\n                "
     },
     "metadata": {},
     "output_type": "display_data"
    },
    {
     "name": "stderr",
     "output_type": "stream",
     "text": [
      "\u001B[34m\u001B[1mwandb\u001B[0m: Agent Starting Run: zif9uyy8 with config:\n",
      "\u001B[34m\u001B[1mwandb\u001B[0m: \tlearning_rate: 0.07756977089100776\n",
      "\u001B[34m\u001B[1mwandb\u001B[0m: \tmax_depth: 20\n",
      "\u001B[34m\u001B[1mwandb\u001B[0m: \tmin_samples_split: 10\n",
      "\u001B[34m\u001B[1mwandb\u001B[0m: \tn_estimators: 1536\n",
      "\u001B[34m\u001B[1mwandb\u001B[0m: \tsubsample: 0.7767356341007849\n"
     ]
    },
    {
     "data": {
      "text/plain": "<IPython.core.display.HTML object>",
      "text/html": "\n                Tracking run with wandb version 0.11.0<br/>\n                Syncing run <strong style=\"color:#cdcd00\">faithful-sweep-81</strong> to <a href=\"https://wandb.ai\" target=\"_blank\">Weights & Biases</a> <a href=\"https://docs.wandb.com/integrations/jupyter.html\" target=\"_blank\">(Documentation)</a>.<br/>\n                Project page: <a href=\"https://wandb.ai/devcore/Metriken%20Bauwesen%20Sweeps\" target=\"_blank\">https://wandb.ai/devcore/Metriken%20Bauwesen%20Sweeps</a><br/>\n                Sweep page: <a href=\"https://wandb.ai/devcore/Metriken%20Bauwesen%20Sweeps/sweeps/461ybom6\" target=\"_blank\">https://wandb.ai/devcore/Metriken%20Bauwesen%20Sweeps/sweeps/461ybom6</a><br/>\nRun page: <a href=\"https://wandb.ai/devcore/Metriken%20Bauwesen%20Sweeps/runs/zif9uyy8\" target=\"_blank\">https://wandb.ai/devcore/Metriken%20Bauwesen%20Sweeps/runs/zif9uyy8</a><br/>\n                Run data is saved locally in <code>C:\\Daten\\Development\\FHNW\\ip5-metriken-bauwesen\\src\\weight_and_bias\\wandb\\run-20210720_164539-zif9uyy8</code><br/><br/>\n            "
     },
     "metadata": {},
     "output_type": "display_data"
    },
    {
     "name": "stdout",
     "output_type": "stream",
     "text": [
      "Location: C:\\Daten\\Development\\FHNW\\ip5-metriken-bauwesen\\export\\cluster_means.joblib\n",
      "Location: C:\\Daten\\Development\\FHNW\\ip5-metriken-bauwesen\\export\\fitted_pipeline.joblib\n"
     ]
    },
    {
     "data": {
      "text/plain": "<IPython.core.display.HTML object>",
      "text/html": "<br/>Waiting for W&B process to finish, PID 3264<br/>Program ended successfully."
     },
     "metadata": {},
     "output_type": "display_data"
    },
    {
     "data": {
      "text/plain": "VBox(children=(Label(value=' 0.00MB of 0.00MB uploaded (0.00MB deduped)\\r'), FloatProgress(value=1.0, max=1.0)…",
      "application/vnd.jupyter.widget-view+json": {
       "version_major": 2,
       "version_minor": 0,
       "model_id": "cb21b6fec9ec40f5a192f1cf3b2c04a9"
      }
     },
     "metadata": {},
     "output_type": "display_data"
    },
    {
     "data": {
      "text/plain": "<IPython.core.display.HTML object>",
      "text/html": "Find user logs for this run at: <code>C:\\Daten\\Development\\FHNW\\ip5-metriken-bauwesen\\src\\weight_and_bias\\wandb\\run-20210720_164539-zif9uyy8\\logs\\debug.log</code>"
     },
     "metadata": {},
     "output_type": "display_data"
    },
    {
     "data": {
      "text/plain": "<IPython.core.display.HTML object>",
      "text/html": "Find internal logs for this run at: <code>C:\\Daten\\Development\\FHNW\\ip5-metriken-bauwesen\\src\\weight_and_bias\\wandb\\run-20210720_164539-zif9uyy8\\logs\\debug-internal.log</code>"
     },
     "metadata": {},
     "output_type": "display_data"
    },
    {
     "data": {
      "text/plain": "<IPython.core.display.HTML object>",
      "text/html": "<h3>Run summary:</h3><br/><style>\n    table.wandb td:nth-child(1) { padding: 0 10px; text-align: right }\n    </style><table class=\"wandb\">\n<tr><td>r2</td><td>0.92716</td></tr><tr><td>_runtime</td><td>51</td></tr><tr><td>_timestamp</td><td>1626792390</td></tr><tr><td>_step</td><td>1</td></tr><tr><td>neg_mape</td><td>-0.16746</td></tr></table>"
     },
     "metadata": {},
     "output_type": "display_data"
    },
    {
     "data": {
      "text/plain": "<IPython.core.display.HTML object>",
      "text/html": "<h3>Run history:</h3><br/><style>\n    table.wandb td:nth-child(1) { padding: 0 10px; text-align: right }\n    </style><table class=\"wandb\">\n<tr><td>r2</td><td>▁</td></tr><tr><td>_runtime</td><td>▁▁</td></tr><tr><td>_timestamp</td><td>▁▁</td></tr><tr><td>_step</td><td>▁█</td></tr><tr><td>neg_mape</td><td>▁</td></tr></table><br/>"
     },
     "metadata": {},
     "output_type": "display_data"
    },
    {
     "data": {
      "text/plain": "<IPython.core.display.HTML object>",
      "text/html": "Synced 5 W&B file(s), 0 media file(s), 0 artifact file(s) and 0 other file(s)"
     },
     "metadata": {},
     "output_type": "display_data"
    },
    {
     "data": {
      "text/plain": "<IPython.core.display.HTML object>",
      "text/html": "\n                    <br/>Synced <strong style=\"color:#cdcd00\">faithful-sweep-81</strong>: <a href=\"https://wandb.ai/devcore/Metriken%20Bauwesen%20Sweeps/runs/zif9uyy8\" target=\"_blank\">https://wandb.ai/devcore/Metriken%20Bauwesen%20Sweeps/runs/zif9uyy8</a><br/>\n                "
     },
     "metadata": {},
     "output_type": "display_data"
    },
    {
     "name": "stderr",
     "output_type": "stream",
     "text": [
      "\u001B[34m\u001B[1mwandb\u001B[0m: Agent Starting Run: 7b03hj65 with config:\n",
      "\u001B[34m\u001B[1mwandb\u001B[0m: \tlearning_rate: 0.13544769857010286\n",
      "\u001B[34m\u001B[1mwandb\u001B[0m: \tmax_depth: 10\n",
      "\u001B[34m\u001B[1mwandb\u001B[0m: \tmin_samples_split: 8\n",
      "\u001B[34m\u001B[1mwandb\u001B[0m: \tn_estimators: 512\n",
      "\u001B[34m\u001B[1mwandb\u001B[0m: \tsubsample: 0.80751376433123\n"
     ]
    },
    {
     "data": {
      "text/plain": "<IPython.core.display.HTML object>",
      "text/html": "\n                Tracking run with wandb version 0.11.0<br/>\n                Syncing run <strong style=\"color:#cdcd00\">ancient-sweep-82</strong> to <a href=\"https://wandb.ai\" target=\"_blank\">Weights & Biases</a> <a href=\"https://docs.wandb.com/integrations/jupyter.html\" target=\"_blank\">(Documentation)</a>.<br/>\n                Project page: <a href=\"https://wandb.ai/devcore/Metriken%20Bauwesen%20Sweeps\" target=\"_blank\">https://wandb.ai/devcore/Metriken%20Bauwesen%20Sweeps</a><br/>\n                Sweep page: <a href=\"https://wandb.ai/devcore/Metriken%20Bauwesen%20Sweeps/sweeps/461ybom6\" target=\"_blank\">https://wandb.ai/devcore/Metriken%20Bauwesen%20Sweeps/sweeps/461ybom6</a><br/>\nRun page: <a href=\"https://wandb.ai/devcore/Metriken%20Bauwesen%20Sweeps/runs/7b03hj65\" target=\"_blank\">https://wandb.ai/devcore/Metriken%20Bauwesen%20Sweeps/runs/7b03hj65</a><br/>\n                Run data is saved locally in <code>C:\\Daten\\Development\\FHNW\\ip5-metriken-bauwesen\\src\\weight_and_bias\\wandb\\run-20210720_164635-7b03hj65</code><br/><br/>\n            "
     },
     "metadata": {},
     "output_type": "display_data"
    },
    {
     "name": "stdout",
     "output_type": "stream",
     "text": [
      "Location: C:\\Daten\\Development\\FHNW\\ip5-metriken-bauwesen\\export\\cluster_means.joblib\n",
      "Location: C:\\Daten\\Development\\FHNW\\ip5-metriken-bauwesen\\export\\fitted_pipeline.joblib\n"
     ]
    },
    {
     "data": {
      "text/plain": "<IPython.core.display.HTML object>",
      "text/html": "<br/>Waiting for W&B process to finish, PID 16028<br/>Program ended successfully."
     },
     "metadata": {},
     "output_type": "display_data"
    },
    {
     "data": {
      "text/plain": "VBox(children=(Label(value=' 0.00MB of 0.00MB uploaded (0.00MB deduped)\\r'), FloatProgress(value=1.0, max=1.0)…",
      "application/vnd.jupyter.widget-view+json": {
       "version_major": 2,
       "version_minor": 0,
       "model_id": "091bf3f8a06e4b6f9130699872096053"
      }
     },
     "metadata": {},
     "output_type": "display_data"
    },
    {
     "data": {
      "text/plain": "<IPython.core.display.HTML object>",
      "text/html": "Find user logs for this run at: <code>C:\\Daten\\Development\\FHNW\\ip5-metriken-bauwesen\\src\\weight_and_bias\\wandb\\run-20210720_164635-7b03hj65\\logs\\debug.log</code>"
     },
     "metadata": {},
     "output_type": "display_data"
    },
    {
     "data": {
      "text/plain": "<IPython.core.display.HTML object>",
      "text/html": "Find internal logs for this run at: <code>C:\\Daten\\Development\\FHNW\\ip5-metriken-bauwesen\\src\\weight_and_bias\\wandb\\run-20210720_164635-7b03hj65\\logs\\debug-internal.log</code>"
     },
     "metadata": {},
     "output_type": "display_data"
    },
    {
     "data": {
      "text/plain": "<IPython.core.display.HTML object>",
      "text/html": "<h3>Run summary:</h3><br/><style>\n    table.wandb td:nth-child(1) { padding: 0 10px; text-align: right }\n    </style><table class=\"wandb\">\n<tr><td>r2</td><td>0.92342</td></tr><tr><td>_runtime</td><td>29</td></tr><tr><td>_timestamp</td><td>1626792424</td></tr><tr><td>_step</td><td>1</td></tr><tr><td>neg_mape</td><td>-0.17035</td></tr></table>"
     },
     "metadata": {},
     "output_type": "display_data"
    },
    {
     "data": {
      "text/plain": "<IPython.core.display.HTML object>",
      "text/html": "<h3>Run history:</h3><br/><style>\n    table.wandb td:nth-child(1) { padding: 0 10px; text-align: right }\n    </style><table class=\"wandb\">\n<tr><td>r2</td><td>▁</td></tr><tr><td>_runtime</td><td>▁▁</td></tr><tr><td>_timestamp</td><td>▁▁</td></tr><tr><td>_step</td><td>▁█</td></tr><tr><td>neg_mape</td><td>▁</td></tr></table><br/>"
     },
     "metadata": {},
     "output_type": "display_data"
    },
    {
     "data": {
      "text/plain": "<IPython.core.display.HTML object>",
      "text/html": "Synced 5 W&B file(s), 0 media file(s), 0 artifact file(s) and 0 other file(s)"
     },
     "metadata": {},
     "output_type": "display_data"
    },
    {
     "data": {
      "text/plain": "<IPython.core.display.HTML object>",
      "text/html": "\n                    <br/>Synced <strong style=\"color:#cdcd00\">ancient-sweep-82</strong>: <a href=\"https://wandb.ai/devcore/Metriken%20Bauwesen%20Sweeps/runs/7b03hj65\" target=\"_blank\">https://wandb.ai/devcore/Metriken%20Bauwesen%20Sweeps/runs/7b03hj65</a><br/>\n                "
     },
     "metadata": {},
     "output_type": "display_data"
    },
    {
     "name": "stderr",
     "output_type": "stream",
     "text": [
      "\u001B[34m\u001B[1mwandb\u001B[0m: Agent Starting Run: ephmy5ww with config:\n",
      "\u001B[34m\u001B[1mwandb\u001B[0m: \tlearning_rate: 0.07085443066153355\n",
      "\u001B[34m\u001B[1mwandb\u001B[0m: \tmax_depth: 20\n",
      "\u001B[34m\u001B[1mwandb\u001B[0m: \tmin_samples_split: 8\n",
      "\u001B[34m\u001B[1mwandb\u001B[0m: \tn_estimators: 2048\n",
      "\u001B[34m\u001B[1mwandb\u001B[0m: \tsubsample: 0.6155120536809974\n"
     ]
    },
    {
     "data": {
      "text/plain": "<IPython.core.display.HTML object>",
      "text/html": "\n                Tracking run with wandb version 0.11.0<br/>\n                Syncing run <strong style=\"color:#cdcd00\">drawn-sweep-83</strong> to <a href=\"https://wandb.ai\" target=\"_blank\">Weights & Biases</a> <a href=\"https://docs.wandb.com/integrations/jupyter.html\" target=\"_blank\">(Documentation)</a>.<br/>\n                Project page: <a href=\"https://wandb.ai/devcore/Metriken%20Bauwesen%20Sweeps\" target=\"_blank\">https://wandb.ai/devcore/Metriken%20Bauwesen%20Sweeps</a><br/>\n                Sweep page: <a href=\"https://wandb.ai/devcore/Metriken%20Bauwesen%20Sweeps/sweeps/461ybom6\" target=\"_blank\">https://wandb.ai/devcore/Metriken%20Bauwesen%20Sweeps/sweeps/461ybom6</a><br/>\nRun page: <a href=\"https://wandb.ai/devcore/Metriken%20Bauwesen%20Sweeps/runs/ephmy5ww\" target=\"_blank\">https://wandb.ai/devcore/Metriken%20Bauwesen%20Sweeps/runs/ephmy5ww</a><br/>\n                Run data is saved locally in <code>C:\\Daten\\Development\\FHNW\\ip5-metriken-bauwesen\\src\\weight_and_bias\\wandb\\run-20210720_164709-ephmy5ww</code><br/><br/>\n            "
     },
     "metadata": {},
     "output_type": "display_data"
    },
    {
     "name": "stdout",
     "output_type": "stream",
     "text": [
      "Location: C:\\Daten\\Development\\FHNW\\ip5-metriken-bauwesen\\export\\cluster_means.joblib\n",
      "Location: C:\\Daten\\Development\\FHNW\\ip5-metriken-bauwesen\\export\\fitted_pipeline.joblib\n"
     ]
    }
   ],
   "source": [
    "from sklearn.ensemble import GradientBoostingRegressor\n",
    "from sklearn.model_selection import cross_validate, RepeatedKFold\n",
    "\n",
    "import src.package.consts as c\n",
    "import src.package.importer as im\n",
    "import src.package.ml_helper as ml_helper\n",
    "import src.package.importer_usages as imp_usg\n",
    "from numpy import mean\n",
    "\n",
    "def train():\n",
    "    config = {'model': 'GradientBoost', 'run': 'fanciful-snowball-68'}\n",
    "    with wandb.init(config=config):\n",
    "        # load dataset\n",
    "        df = im.get_extended_dataset('../package/datasets/train_set.csv')\n",
    "        df, usage_types = imp_usg.extract_usage_details(df, highest_only=True, combine_garages=True)\n",
    "        df = ml_helper.remove_outliers(df, factor=2.3)\n",
    "\n",
    "        X, y = ml_helper.ml_dataset_full(df, additional_features=[c.FIELD_AREA_TOTAL_FLOOR_416])\n",
    "\n",
    "        # model with hyperparameter\n",
    "        config = wandb.config\n",
    "        regr = GradientBoostingRegressor(random_state=0,\n",
    "                                         learning_rate=config.learning_rate,\n",
    "                                         subsample=config.subsample,\n",
    "                                         n_estimators=config.n_estimators,\n",
    "                                         max_depth=config.max_depth,\n",
    "                                         min_samples_split=config.min_samples_split,)\n",
    "\n",
    "        # evaluate with cv and log to wandb\n",
    "        cv=RepeatedKFold(n_splits=5, n_repeats=3, random_state=0)\n",
    "        scores = cross_validate(regr, X, y, cv=cv, scoring=['r2', 'neg_mean_absolute_percentage_error'])\n",
    "        wandb.log({'r2': mean(scores['test_r2'])})\n",
    "        wandb.log({'neg_mape': mean(scores['test_neg_mean_absolute_percentage_error'])})\n",
    "\n",
    "wandb.agent(sweep_id, train, count=200)"
   ],
   "metadata": {
    "collapsed": false,
    "pycharm": {
     "name": "#%%\n",
     "is_executing": true
    }
   }
  }
 ],
 "metadata": {
  "kernelspec": {
   "name": "python3",
   "language": "python",
   "display_name": "Python 3"
  },
  "language_info": {
   "codemirror_mode": {
    "name": "ipython",
    "version": 2
   },
   "file_extension": ".py",
   "mimetype": "text/x-python",
   "name": "python",
   "nbconvert_exporter": "python",
   "pygments_lexer": "ipython2",
   "version": "2.7.6"
  }
 },
 "nbformat": 4,
 "nbformat_minor": 0
}