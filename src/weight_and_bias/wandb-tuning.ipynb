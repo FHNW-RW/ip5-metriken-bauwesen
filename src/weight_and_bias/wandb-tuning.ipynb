{
 "cells": [
  {
   "cell_type": "markdown",
   "source": [
    "## Weight & Biases\n",
    "Hyperparameter Tuning mit wandb"
   ],
   "metadata": {
    "collapsed": false
   }
  },
  {
   "cell_type": "markdown",
   "source": [
    "### Sweep Config\n",
    "Konfiguration des wand sweep mit den gewünschten Hyperparameter"
   ],
   "metadata": {
    "collapsed": false
   }
  },
  {
   "cell_type": "code",
   "execution_count": 1,
   "outputs": [
    {
     "name": "stderr",
     "output_type": "stream",
     "text": [
      "\u001B[34m\u001B[1mwandb\u001B[0m: Currently logged in as: \u001B[33mdevcore\u001B[0m (use `wandb login --relogin` to force relogin)\n"
     ]
    },
    {
     "name": "stdout",
     "output_type": "stream",
     "text": [
      "Create sweep with ID: aslqb1cw\n",
      "Sweep URL: https://wandb.ai/devcore/Metriken%20Bauwesen%20Sweeps/sweeps/aslqb1cw\n"
     ]
    }
   ],
   "source": [
    "import wandb\n",
    "\n",
    "wandb.login()\n",
    "\n",
    "sweep_config = {\n",
    "  'name' : 'GradientBoosting-Loss-NF-LAD',\n",
    "  'method' : 'random',\n",
    "  'parameters' : {\n",
    "    'n_estimators' : {\n",
    "      'values' : [256, 512, 768, 1024]\n",
    "    },\n",
    "    'learning_rate' :{\n",
    "      'min': 0.01,\n",
    "      'max': 0.15\n",
    "    },\n",
    "    'subsample' :{\n",
    "      'min': 0.5,\n",
    "      'max': 0.85\n",
    "    },\n",
    "    'max_depth' :{\n",
    "      'values' : [4, 5, 6, 7, 8, 10, 12]\n",
    "    },\n",
    "    'min_samples_split' :{\n",
    "      'values' : [4, 5, 6, 8, 10]\n",
    "    }\n",
    "  }\n",
    "}\n",
    "\n",
    "sweep_id = wandb.sweep(sweep_config, project='Metriken Bauwesen Sweeps', entity='devcore')"
   ],
   "metadata": {
    "collapsed": false,
    "pycharm": {
     "name": "#%%\n"
    }
   }
  },
  {
   "cell_type": "markdown",
   "source": [
    "### Run Sweep\n",
    "Sweep auf Agent laufen lassen für Hyperparameter-Tuning und Logging auf wandb"
   ],
   "metadata": {
    "collapsed": false
   }
  },
  {
   "cell_type": "code",
   "execution_count": 2,
   "outputs": [
    {
     "name": "stdout",
     "output_type": "stream",
     "text": [
      "Location: D:\\Development\\FHNW\\ip5-metriken-bauwesen\\export\\cluster_means.joblib\n",
      "Location: D:\\Development\\FHNW\\ip5-metriken-bauwesen\\export\\fitted_pipeline.joblib\n"
     ]
    },
    {
     "name": "stderr",
     "output_type": "stream",
     "text": [
      "\u001B[34m\u001B[1mwandb\u001B[0m: Agent Starting Run: srevvyfg with config:\n",
      "\u001B[34m\u001B[1mwandb\u001B[0m: \tlearning_rate: 0.14790846846325825\n",
      "\u001B[34m\u001B[1mwandb\u001B[0m: \tmax_depth: 12\n",
      "\u001B[34m\u001B[1mwandb\u001B[0m: \tmin_samples_split: 5\n",
      "\u001B[34m\u001B[1mwandb\u001B[0m: \tn_estimators: 1024\n",
      "\u001B[34m\u001B[1mwandb\u001B[0m: \tsubsample: 0.7020919584449676\n",
      "\u001B[34m\u001B[1mwandb\u001B[0m: wandb version 0.12.0 is available!  To upgrade, please run:\n",
      "\u001B[34m\u001B[1mwandb\u001B[0m:  $ pip install wandb --upgrade\n",
      "\u001B[34m\u001B[1mwandb\u001B[0m: Agent Starting Run: 2x31gr6m with config:\n",
      "\u001B[34m\u001B[1mwandb\u001B[0m: \tlearning_rate: 0.03933362898842379\n",
      "\u001B[34m\u001B[1mwandb\u001B[0m: \tmax_depth: 5\n",
      "\u001B[34m\u001B[1mwandb\u001B[0m: \tmin_samples_split: 8\n",
      "\u001B[34m\u001B[1mwandb\u001B[0m: \tn_estimators: 1024\n",
      "\u001B[34m\u001B[1mwandb\u001B[0m: \tsubsample: 0.65290750857164\n",
      "\u001B[34m\u001B[1mwandb\u001B[0m: wandb version 0.12.0 is available!  To upgrade, please run:\n",
      "\u001B[34m\u001B[1mwandb\u001B[0m:  $ pip install wandb --upgrade\n",
      "\u001B[34m\u001B[1mwandb\u001B[0m: Agent Starting Run: srgqh9xh with config:\n",
      "\u001B[34m\u001B[1mwandb\u001B[0m: \tlearning_rate: 0.09923631398805503\n",
      "\u001B[34m\u001B[1mwandb\u001B[0m: \tmax_depth: 10\n",
      "\u001B[34m\u001B[1mwandb\u001B[0m: \tmin_samples_split: 4\n",
      "\u001B[34m\u001B[1mwandb\u001B[0m: \tn_estimators: 768\n",
      "\u001B[34m\u001B[1mwandb\u001B[0m: \tsubsample: 0.6823338117221608\n",
      "\u001B[34m\u001B[1mwandb\u001B[0m: wandb version 0.12.0 is available!  To upgrade, please run:\n",
      "\u001B[34m\u001B[1mwandb\u001B[0m:  $ pip install wandb --upgrade\n",
      "\u001B[34m\u001B[1mwandb\u001B[0m: Agent Starting Run: 1f7wp8ew with config:\n",
      "\u001B[34m\u001B[1mwandb\u001B[0m: \tlearning_rate: 0.05233696691916679\n",
      "\u001B[34m\u001B[1mwandb\u001B[0m: \tmax_depth: 12\n",
      "\u001B[34m\u001B[1mwandb\u001B[0m: \tmin_samples_split: 4\n",
      "\u001B[34m\u001B[1mwandb\u001B[0m: \tn_estimators: 1024\n",
      "\u001B[34m\u001B[1mwandb\u001B[0m: \tsubsample: 0.6433085243779015\n",
      "\u001B[34m\u001B[1mwandb\u001B[0m: wandb version 0.12.0 is available!  To upgrade, please run:\n",
      "\u001B[34m\u001B[1mwandb\u001B[0m:  $ pip install wandb --upgrade\n",
      "\u001B[34m\u001B[1mwandb\u001B[0m: Agent Starting Run: 7zwg9wkt with config:\n",
      "\u001B[34m\u001B[1mwandb\u001B[0m: \tlearning_rate: 0.09362893671884887\n",
      "\u001B[34m\u001B[1mwandb\u001B[0m: \tmax_depth: 7\n",
      "\u001B[34m\u001B[1mwandb\u001B[0m: \tmin_samples_split: 6\n",
      "\u001B[34m\u001B[1mwandb\u001B[0m: \tn_estimators: 1024\n",
      "\u001B[34m\u001B[1mwandb\u001B[0m: \tsubsample: 0.8064124943702049\n",
      "\u001B[34m\u001B[1mwandb\u001B[0m: wandb version 0.12.0 is available!  To upgrade, please run:\n",
      "\u001B[34m\u001B[1mwandb\u001B[0m:  $ pip install wandb --upgrade\n",
      "\u001B[34m\u001B[1mwandb\u001B[0m: Agent Starting Run: fp0h78h0 with config:\n",
      "\u001B[34m\u001B[1mwandb\u001B[0m: \tlearning_rate: 0.0899885499969442\n",
      "\u001B[34m\u001B[1mwandb\u001B[0m: \tmax_depth: 10\n",
      "\u001B[34m\u001B[1mwandb\u001B[0m: \tmin_samples_split: 5\n",
      "\u001B[34m\u001B[1mwandb\u001B[0m: \tn_estimators: 256\n",
      "\u001B[34m\u001B[1mwandb\u001B[0m: \tsubsample: 0.8432872662909124\n",
      "\u001B[34m\u001B[1mwandb\u001B[0m: wandb version 0.12.0 is available!  To upgrade, please run:\n",
      "\u001B[34m\u001B[1mwandb\u001B[0m:  $ pip install wandb --upgrade\n",
      "\u001B[34m\u001B[1mwandb\u001B[0m: Agent Starting Run: xh2fn21x with config:\n",
      "\u001B[34m\u001B[1mwandb\u001B[0m: \tlearning_rate: 0.09169654618483693\n",
      "\u001B[34m\u001B[1mwandb\u001B[0m: \tmax_depth: 6\n",
      "\u001B[34m\u001B[1mwandb\u001B[0m: \tmin_samples_split: 5\n",
      "\u001B[34m\u001B[1mwandb\u001B[0m: \tn_estimators: 768\n",
      "\u001B[34m\u001B[1mwandb\u001B[0m: \tsubsample: 0.5216200901767819\n",
      "\u001B[34m\u001B[1mwandb\u001B[0m: wandb version 0.12.0 is available!  To upgrade, please run:\n",
      "\u001B[34m\u001B[1mwandb\u001B[0m:  $ pip install wandb --upgrade\n",
      "\u001B[34m\u001B[1mwandb\u001B[0m: Agent Starting Run: kug4o2r5 with config:\n",
      "\u001B[34m\u001B[1mwandb\u001B[0m: \tlearning_rate: 0.13126061594454874\n",
      "\u001B[34m\u001B[1mwandb\u001B[0m: \tmax_depth: 10\n",
      "\u001B[34m\u001B[1mwandb\u001B[0m: \tmin_samples_split: 8\n",
      "\u001B[34m\u001B[1mwandb\u001B[0m: \tn_estimators: 512\n",
      "\u001B[34m\u001B[1mwandb\u001B[0m: \tsubsample: 0.6387122602957567\n",
      "\u001B[34m\u001B[1mwandb\u001B[0m: wandb version 0.12.0 is available!  To upgrade, please run:\n",
      "\u001B[34m\u001B[1mwandb\u001B[0m:  $ pip install wandb --upgrade\n",
      "\u001B[34m\u001B[1mwandb\u001B[0m: Agent Starting Run: 55lmioyb with config:\n",
      "\u001B[34m\u001B[1mwandb\u001B[0m: \tlearning_rate: 0.0638982569843967\n",
      "\u001B[34m\u001B[1mwandb\u001B[0m: \tmax_depth: 10\n",
      "\u001B[34m\u001B[1mwandb\u001B[0m: \tmin_samples_split: 8\n",
      "\u001B[34m\u001B[1mwandb\u001B[0m: \tn_estimators: 768\n",
      "\u001B[34m\u001B[1mwandb\u001B[0m: \tsubsample: 0.7430176621844952\n",
      "\u001B[34m\u001B[1mwandb\u001B[0m: wandb version 0.12.0 is available!  To upgrade, please run:\n",
      "\u001B[34m\u001B[1mwandb\u001B[0m:  $ pip install wandb --upgrade\n",
      "\u001B[34m\u001B[1mwandb\u001B[0m: Agent Starting Run: gi59b7dp with config:\n",
      "\u001B[34m\u001B[1mwandb\u001B[0m: \tlearning_rate: 0.09236675301377344\n",
      "\u001B[34m\u001B[1mwandb\u001B[0m: \tmax_depth: 4\n",
      "\u001B[34m\u001B[1mwandb\u001B[0m: \tmin_samples_split: 8\n",
      "\u001B[34m\u001B[1mwandb\u001B[0m: \tn_estimators: 768\n",
      "\u001B[34m\u001B[1mwandb\u001B[0m: \tsubsample: 0.5720729059033052\n",
      "\u001B[34m\u001B[1mwandb\u001B[0m: wandb version 0.12.0 is available!  To upgrade, please run:\n",
      "\u001B[34m\u001B[1mwandb\u001B[0m:  $ pip install wandb --upgrade\n",
      "\u001B[34m\u001B[1mwandb\u001B[0m: Agent Starting Run: 68xdedmu with config:\n",
      "\u001B[34m\u001B[1mwandb\u001B[0m: \tlearning_rate: 0.0643974594281043\n",
      "\u001B[34m\u001B[1mwandb\u001B[0m: \tmax_depth: 5\n",
      "\u001B[34m\u001B[1mwandb\u001B[0m: \tmin_samples_split: 4\n",
      "\u001B[34m\u001B[1mwandb\u001B[0m: \tn_estimators: 256\n",
      "\u001B[34m\u001B[1mwandb\u001B[0m: \tsubsample: 0.6125694018862582\n",
      "\u001B[34m\u001B[1mwandb\u001B[0m: wandb version 0.12.0 is available!  To upgrade, please run:\n",
      "\u001B[34m\u001B[1mwandb\u001B[0m:  $ pip install wandb --upgrade\n",
      "\u001B[34m\u001B[1mwandb\u001B[0m: Agent Starting Run: b181y6ek with config:\n",
      "\u001B[34m\u001B[1mwandb\u001B[0m: \tlearning_rate: 0.035448452479392524\n",
      "\u001B[34m\u001B[1mwandb\u001B[0m: \tmax_depth: 6\n",
      "\u001B[34m\u001B[1mwandb\u001B[0m: \tmin_samples_split: 10\n",
      "\u001B[34m\u001B[1mwandb\u001B[0m: \tn_estimators: 768\n",
      "\u001B[34m\u001B[1mwandb\u001B[0m: \tsubsample: 0.6078304687202288\n",
      "\u001B[34m\u001B[1mwandb\u001B[0m: wandb version 0.12.0 is available!  To upgrade, please run:\n",
      "\u001B[34m\u001B[1mwandb\u001B[0m:  $ pip install wandb --upgrade\n",
      "\u001B[34m\u001B[1mwandb\u001B[0m: Agent Starting Run: rtb6vx7n with config:\n",
      "\u001B[34m\u001B[1mwandb\u001B[0m: \tlearning_rate: 0.044085516055888986\n",
      "\u001B[34m\u001B[1mwandb\u001B[0m: \tmax_depth: 8\n",
      "\u001B[34m\u001B[1mwandb\u001B[0m: \tmin_samples_split: 6\n",
      "\u001B[34m\u001B[1mwandb\u001B[0m: \tn_estimators: 1024\n",
      "\u001B[34m\u001B[1mwandb\u001B[0m: \tsubsample: 0.5302208534804506\n",
      "\u001B[34m\u001B[1mwandb\u001B[0m: wandb version 0.12.0 is available!  To upgrade, please run:\n",
      "\u001B[34m\u001B[1mwandb\u001B[0m:  $ pip install wandb --upgrade\n",
      "\u001B[34m\u001B[1mwandb\u001B[0m: Agent Starting Run: 4td93n45 with config:\n",
      "\u001B[34m\u001B[1mwandb\u001B[0m: \tlearning_rate: 0.11773507343688663\n",
      "\u001B[34m\u001B[1mwandb\u001B[0m: \tmax_depth: 7\n",
      "\u001B[34m\u001B[1mwandb\u001B[0m: \tmin_samples_split: 10\n",
      "\u001B[34m\u001B[1mwandb\u001B[0m: \tn_estimators: 512\n",
      "\u001B[34m\u001B[1mwandb\u001B[0m: \tsubsample: 0.8071652651259489\n",
      "\u001B[34m\u001B[1mwandb\u001B[0m: wandb version 0.12.0 is available!  To upgrade, please run:\n",
      "\u001B[34m\u001B[1mwandb\u001B[0m:  $ pip install wandb --upgrade\n",
      "\u001B[34m\u001B[1mwandb\u001B[0m: Agent Starting Run: udtinxdj with config:\n",
      "\u001B[34m\u001B[1mwandb\u001B[0m: \tlearning_rate: 0.12409322453842334\n",
      "\u001B[34m\u001B[1mwandb\u001B[0m: \tmax_depth: 8\n",
      "\u001B[34m\u001B[1mwandb\u001B[0m: \tmin_samples_split: 10\n",
      "\u001B[34m\u001B[1mwandb\u001B[0m: \tn_estimators: 256\n",
      "\u001B[34m\u001B[1mwandb\u001B[0m: \tsubsample: 0.8106200401318616\n",
      "\u001B[34m\u001B[1mwandb\u001B[0m: wandb version 0.12.0 is available!  To upgrade, please run:\n",
      "\u001B[34m\u001B[1mwandb\u001B[0m:  $ pip install wandb --upgrade\n",
      "\u001B[34m\u001B[1mwandb\u001B[0m: Agent Starting Run: 9xptjuo4 with config:\n",
      "\u001B[34m\u001B[1mwandb\u001B[0m: \tlearning_rate: 0.08090012277170625\n",
      "\u001B[34m\u001B[1mwandb\u001B[0m: \tmax_depth: 4\n",
      "\u001B[34m\u001B[1mwandb\u001B[0m: \tmin_samples_split: 5\n",
      "\u001B[34m\u001B[1mwandb\u001B[0m: \tn_estimators: 1024\n",
      "\u001B[34m\u001B[1mwandb\u001B[0m: \tsubsample: 0.6769799223817223\n",
      "\u001B[34m\u001B[1mwandb\u001B[0m: wandb version 0.12.0 is available!  To upgrade, please run:\n",
      "\u001B[34m\u001B[1mwandb\u001B[0m:  $ pip install wandb --upgrade\n",
      "\u001B[34m\u001B[1mwandb\u001B[0m: Agent Starting Run: qg7ptdwl with config:\n",
      "\u001B[34m\u001B[1mwandb\u001B[0m: \tlearning_rate: 0.11991216814381349\n",
      "\u001B[34m\u001B[1mwandb\u001B[0m: \tmax_depth: 6\n",
      "\u001B[34m\u001B[1mwandb\u001B[0m: \tmin_samples_split: 10\n",
      "\u001B[34m\u001B[1mwandb\u001B[0m: \tn_estimators: 256\n",
      "\u001B[34m\u001B[1mwandb\u001B[0m: \tsubsample: 0.6985842803054569\n",
      "\u001B[34m\u001B[1mwandb\u001B[0m: wandb version 0.12.0 is available!  To upgrade, please run:\n",
      "\u001B[34m\u001B[1mwandb\u001B[0m:  $ pip install wandb --upgrade\n",
      "\u001B[34m\u001B[1mwandb\u001B[0m: Agent Starting Run: 3vagunet with config:\n",
      "\u001B[34m\u001B[1mwandb\u001B[0m: \tlearning_rate: 0.07890890292135068\n",
      "\u001B[34m\u001B[1mwandb\u001B[0m: \tmax_depth: 6\n",
      "\u001B[34m\u001B[1mwandb\u001B[0m: \tmin_samples_split: 5\n",
      "\u001B[34m\u001B[1mwandb\u001B[0m: \tn_estimators: 1024\n",
      "\u001B[34m\u001B[1mwandb\u001B[0m: \tsubsample: 0.8246562904877792\n",
      "\u001B[34m\u001B[1mwandb\u001B[0m: wandb version 0.12.0 is available!  To upgrade, please run:\n",
      "\u001B[34m\u001B[1mwandb\u001B[0m:  $ pip install wandb --upgrade\n",
      "\u001B[34m\u001B[1mwandb\u001B[0m: Agent Starting Run: eqi1n3qr with config:\n",
      "\u001B[34m\u001B[1mwandb\u001B[0m: \tlearning_rate: 0.12976320099071947\n",
      "\u001B[34m\u001B[1mwandb\u001B[0m: \tmax_depth: 8\n",
      "\u001B[34m\u001B[1mwandb\u001B[0m: \tmin_samples_split: 10\n",
      "\u001B[34m\u001B[1mwandb\u001B[0m: \tn_estimators: 256\n",
      "\u001B[34m\u001B[1mwandb\u001B[0m: \tsubsample: 0.7606072211835988\n",
      "\u001B[34m\u001B[1mwandb\u001B[0m: wandb version 0.12.0 is available!  To upgrade, please run:\n",
      "\u001B[34m\u001B[1mwandb\u001B[0m:  $ pip install wandb --upgrade\n",
      "\u001B[34m\u001B[1mwandb\u001B[0m: Agent Starting Run: uohu9z9f with config:\n",
      "\u001B[34m\u001B[1mwandb\u001B[0m: \tlearning_rate: 0.10204207839305833\n",
      "\u001B[34m\u001B[1mwandb\u001B[0m: \tmax_depth: 4\n",
      "\u001B[34m\u001B[1mwandb\u001B[0m: \tmin_samples_split: 6\n",
      "\u001B[34m\u001B[1mwandb\u001B[0m: \tn_estimators: 512\n",
      "\u001B[34m\u001B[1mwandb\u001B[0m: \tsubsample: 0.6247012098535426\n",
      "\u001B[34m\u001B[1mwandb\u001B[0m: wandb version 0.12.0 is available!  To upgrade, please run:\n",
      "\u001B[34m\u001B[1mwandb\u001B[0m:  $ pip install wandb --upgrade\n",
      "\u001B[34m\u001B[1mwandb\u001B[0m: Agent Starting Run: 4o0afe0s with config:\n",
      "\u001B[34m\u001B[1mwandb\u001B[0m: \tlearning_rate: 0.06085099494567432\n",
      "\u001B[34m\u001B[1mwandb\u001B[0m: \tmax_depth: 10\n",
      "\u001B[34m\u001B[1mwandb\u001B[0m: \tmin_samples_split: 8\n",
      "\u001B[34m\u001B[1mwandb\u001B[0m: \tn_estimators: 1024\n",
      "\u001B[34m\u001B[1mwandb\u001B[0m: \tsubsample: 0.7024861558409582\n",
      "\u001B[34m\u001B[1mwandb\u001B[0m: wandb version 0.12.0 is available!  To upgrade, please run:\n",
      "\u001B[34m\u001B[1mwandb\u001B[0m:  $ pip install wandb --upgrade\n",
      "\u001B[34m\u001B[1mwandb\u001B[0m: Agent Starting Run: t3jguowp with config:\n",
      "\u001B[34m\u001B[1mwandb\u001B[0m: \tlearning_rate: 0.025015244532144057\n",
      "\u001B[34m\u001B[1mwandb\u001B[0m: \tmax_depth: 8\n",
      "\u001B[34m\u001B[1mwandb\u001B[0m: \tmin_samples_split: 5\n",
      "\u001B[34m\u001B[1mwandb\u001B[0m: \tn_estimators: 1024\n",
      "\u001B[34m\u001B[1mwandb\u001B[0m: \tsubsample: 0.604954328063942\n",
      "\u001B[34m\u001B[1mwandb\u001B[0m: wandb version 0.12.0 is available!  To upgrade, please run:\n",
      "\u001B[34m\u001B[1mwandb\u001B[0m:  $ pip install wandb --upgrade\n",
      "\u001B[34m\u001B[1mwandb\u001B[0m: Agent Starting Run: m2pulhu8 with config:\n",
      "\u001B[34m\u001B[1mwandb\u001B[0m: \tlearning_rate: 0.02873170407237812\n",
      "\u001B[34m\u001B[1mwandb\u001B[0m: \tmax_depth: 5\n",
      "\u001B[34m\u001B[1mwandb\u001B[0m: \tmin_samples_split: 6\n",
      "\u001B[34m\u001B[1mwandb\u001B[0m: \tn_estimators: 1024\n",
      "\u001B[34m\u001B[1mwandb\u001B[0m: \tsubsample: 0.843006199081487\n",
      "\u001B[34m\u001B[1mwandb\u001B[0m: wandb version 0.12.0 is available!  To upgrade, please run:\n",
      "\u001B[34m\u001B[1mwandb\u001B[0m:  $ pip install wandb --upgrade\n",
      "\u001B[34m\u001B[1mwandb\u001B[0m: Agent Starting Run: tnluc1m3 with config:\n",
      "\u001B[34m\u001B[1mwandb\u001B[0m: \tlearning_rate: 0.12081817441043347\n",
      "\u001B[34m\u001B[1mwandb\u001B[0m: \tmax_depth: 4\n",
      "\u001B[34m\u001B[1mwandb\u001B[0m: \tmin_samples_split: 8\n",
      "\u001B[34m\u001B[1mwandb\u001B[0m: \tn_estimators: 256\n",
      "\u001B[34m\u001B[1mwandb\u001B[0m: \tsubsample: 0.5321299379351407\n",
      "\u001B[34m\u001B[1mwandb\u001B[0m: wandb version 0.12.0 is available!  To upgrade, please run:\n",
      "\u001B[34m\u001B[1mwandb\u001B[0m:  $ pip install wandb --upgrade\n",
      "\u001B[34m\u001B[1mwandb\u001B[0m: Agent Starting Run: 3xb93h25 with config:\n",
      "\u001B[34m\u001B[1mwandb\u001B[0m: \tlearning_rate: 0.01658075748912251\n",
      "\u001B[34m\u001B[1mwandb\u001B[0m: \tmax_depth: 12\n",
      "\u001B[34m\u001B[1mwandb\u001B[0m: \tmin_samples_split: 8\n",
      "\u001B[34m\u001B[1mwandb\u001B[0m: \tn_estimators: 512\n",
      "\u001B[34m\u001B[1mwandb\u001B[0m: \tsubsample: 0.5775713159921763\n",
      "\u001B[34m\u001B[1mwandb\u001B[0m: wandb version 0.12.0 is available!  To upgrade, please run:\n",
      "\u001B[34m\u001B[1mwandb\u001B[0m:  $ pip install wandb --upgrade\n",
      "\u001B[34m\u001B[1mwandb\u001B[0m: Agent Starting Run: v43275fi with config:\n",
      "\u001B[34m\u001B[1mwandb\u001B[0m: \tlearning_rate: 0.03660635848749896\n",
      "\u001B[34m\u001B[1mwandb\u001B[0m: \tmax_depth: 5\n",
      "\u001B[34m\u001B[1mwandb\u001B[0m: \tmin_samples_split: 10\n",
      "\u001B[34m\u001B[1mwandb\u001B[0m: \tn_estimators: 256\n",
      "\u001B[34m\u001B[1mwandb\u001B[0m: \tsubsample: 0.5093875222969813\n",
      "\u001B[34m\u001B[1mwandb\u001B[0m: wandb version 0.12.0 is available!  To upgrade, please run:\n",
      "\u001B[34m\u001B[1mwandb\u001B[0m:  $ pip install wandb --upgrade\n",
      "\u001B[34m\u001B[1mwandb\u001B[0m: Agent Starting Run: ov94cqmo with config:\n",
      "\u001B[34m\u001B[1mwandb\u001B[0m: \tlearning_rate: 0.03351895696168246\n",
      "\u001B[34m\u001B[1mwandb\u001B[0m: \tmax_depth: 7\n",
      "\u001B[34m\u001B[1mwandb\u001B[0m: \tmin_samples_split: 4\n",
      "\u001B[34m\u001B[1mwandb\u001B[0m: \tn_estimators: 768\n",
      "\u001B[34m\u001B[1mwandb\u001B[0m: \tsubsample: 0.6211988466268998\n",
      "\u001B[34m\u001B[1mwandb\u001B[0m: wandb version 0.12.0 is available!  To upgrade, please run:\n",
      "\u001B[34m\u001B[1mwandb\u001B[0m:  $ pip install wandb --upgrade\n",
      "\u001B[34m\u001B[1mwandb\u001B[0m: Agent Starting Run: 9gl9bap4 with config:\n",
      "\u001B[34m\u001B[1mwandb\u001B[0m: \tlearning_rate: 0.1497668681954322\n",
      "\u001B[34m\u001B[1mwandb\u001B[0m: \tmax_depth: 6\n",
      "\u001B[34m\u001B[1mwandb\u001B[0m: \tmin_samples_split: 8\n",
      "\u001B[34m\u001B[1mwandb\u001B[0m: \tn_estimators: 1024\n",
      "\u001B[34m\u001B[1mwandb\u001B[0m: \tsubsample: 0.5389919115138478\n",
      "\u001B[34m\u001B[1mwandb\u001B[0m: wandb version 0.12.0 is available!  To upgrade, please run:\n",
      "\u001B[34m\u001B[1mwandb\u001B[0m:  $ pip install wandb --upgrade\n",
      "\u001B[34m\u001B[1mwandb\u001B[0m: Agent Starting Run: 0e2vbr2m with config:\n",
      "\u001B[34m\u001B[1mwandb\u001B[0m: \tlearning_rate: 0.04137918133305844\n",
      "\u001B[34m\u001B[1mwandb\u001B[0m: \tmax_depth: 5\n",
      "\u001B[34m\u001B[1mwandb\u001B[0m: \tmin_samples_split: 8\n",
      "\u001B[34m\u001B[1mwandb\u001B[0m: \tn_estimators: 512\n",
      "\u001B[34m\u001B[1mwandb\u001B[0m: \tsubsample: 0.6585429902844445\n",
      "\u001B[34m\u001B[1mwandb\u001B[0m: wandb version 0.12.0 is available!  To upgrade, please run:\n",
      "\u001B[34m\u001B[1mwandb\u001B[0m:  $ pip install wandb --upgrade\n",
      "\u001B[34m\u001B[1mwandb\u001B[0m: Agent Starting Run: 12e0q5az with config:\n",
      "\u001B[34m\u001B[1mwandb\u001B[0m: \tlearning_rate: 0.14748153816755855\n",
      "\u001B[34m\u001B[1mwandb\u001B[0m: \tmax_depth: 7\n",
      "\u001B[34m\u001B[1mwandb\u001B[0m: \tmin_samples_split: 10\n",
      "\u001B[34m\u001B[1mwandb\u001B[0m: \tn_estimators: 1024\n",
      "\u001B[34m\u001B[1mwandb\u001B[0m: \tsubsample: 0.787817679226815\n",
      "\u001B[34m\u001B[1mwandb\u001B[0m: wandb version 0.12.0 is available!  To upgrade, please run:\n",
      "\u001B[34m\u001B[1mwandb\u001B[0m:  $ pip install wandb --upgrade\n",
      "\u001B[34m\u001B[1mwandb\u001B[0m: Agent Starting Run: mot6p4gw with config:\n",
      "\u001B[34m\u001B[1mwandb\u001B[0m: \tlearning_rate: 0.11883906141111335\n",
      "\u001B[34m\u001B[1mwandb\u001B[0m: \tmax_depth: 4\n",
      "\u001B[34m\u001B[1mwandb\u001B[0m: \tmin_samples_split: 5\n",
      "\u001B[34m\u001B[1mwandb\u001B[0m: \tn_estimators: 256\n",
      "\u001B[34m\u001B[1mwandb\u001B[0m: \tsubsample: 0.563649531937825\n",
      "\u001B[34m\u001B[1mwandb\u001B[0m: wandb version 0.12.0 is available!  To upgrade, please run:\n",
      "\u001B[34m\u001B[1mwandb\u001B[0m:  $ pip install wandb --upgrade\n",
      "\u001B[34m\u001B[1mwandb\u001B[0m: Agent Starting Run: rpqvup3z with config:\n",
      "\u001B[34m\u001B[1mwandb\u001B[0m: \tlearning_rate: 0.04923707959048376\n",
      "\u001B[34m\u001B[1mwandb\u001B[0m: \tmax_depth: 12\n",
      "\u001B[34m\u001B[1mwandb\u001B[0m: \tmin_samples_split: 4\n",
      "\u001B[34m\u001B[1mwandb\u001B[0m: \tn_estimators: 256\n",
      "\u001B[34m\u001B[1mwandb\u001B[0m: \tsubsample: 0.5331647411564466\n",
      "\u001B[34m\u001B[1mwandb\u001B[0m: wandb version 0.12.0 is available!  To upgrade, please run:\n",
      "\u001B[34m\u001B[1mwandb\u001B[0m:  $ pip install wandb --upgrade\n",
      "\u001B[34m\u001B[1mwandb\u001B[0m: Agent Starting Run: lw7ne7pi with config:\n",
      "\u001B[34m\u001B[1mwandb\u001B[0m: \tlearning_rate: 0.09185366068707926\n",
      "\u001B[34m\u001B[1mwandb\u001B[0m: \tmax_depth: 10\n",
      "\u001B[34m\u001B[1mwandb\u001B[0m: \tmin_samples_split: 10\n",
      "\u001B[34m\u001B[1mwandb\u001B[0m: \tn_estimators: 1024\n",
      "\u001B[34m\u001B[1mwandb\u001B[0m: \tsubsample: 0.772284393403889\n",
      "\u001B[34m\u001B[1mwandb\u001B[0m: wandb version 0.12.0 is available!  To upgrade, please run:\n",
      "\u001B[34m\u001B[1mwandb\u001B[0m:  $ pip install wandb --upgrade\n",
      "\u001B[34m\u001B[1mwandb\u001B[0m: Agent Starting Run: gk0pxl1u with config:\n",
      "\u001B[34m\u001B[1mwandb\u001B[0m: \tlearning_rate: 0.1383222523202602\n",
      "\u001B[34m\u001B[1mwandb\u001B[0m: \tmax_depth: 6\n",
      "\u001B[34m\u001B[1mwandb\u001B[0m: \tmin_samples_split: 10\n",
      "\u001B[34m\u001B[1mwandb\u001B[0m: \tn_estimators: 1024\n",
      "\u001B[34m\u001B[1mwandb\u001B[0m: \tsubsample: 0.8139846927567106\n",
      "\u001B[34m\u001B[1mwandb\u001B[0m: wandb version 0.12.0 is available!  To upgrade, please run:\n",
      "\u001B[34m\u001B[1mwandb\u001B[0m:  $ pip install wandb --upgrade\n",
      "\u001B[34m\u001B[1mwandb\u001B[0m: Agent Starting Run: 3nvhdskw with config:\n",
      "\u001B[34m\u001B[1mwandb\u001B[0m: \tlearning_rate: 0.042444430713649055\n",
      "\u001B[34m\u001B[1mwandb\u001B[0m: \tmax_depth: 7\n",
      "\u001B[34m\u001B[1mwandb\u001B[0m: \tmin_samples_split: 10\n",
      "\u001B[34m\u001B[1mwandb\u001B[0m: \tn_estimators: 1024\n",
      "\u001B[34m\u001B[1mwandb\u001B[0m: \tsubsample: 0.7578441157525534\n",
      "\u001B[34m\u001B[1mwandb\u001B[0m: wandb version 0.12.0 is available!  To upgrade, please run:\n",
      "\u001B[34m\u001B[1mwandb\u001B[0m:  $ pip install wandb --upgrade\n",
      "\u001B[34m\u001B[1mwandb\u001B[0m: Agent Starting Run: li817zzi with config:\n",
      "\u001B[34m\u001B[1mwandb\u001B[0m: \tlearning_rate: 0.10811021669596085\n",
      "\u001B[34m\u001B[1mwandb\u001B[0m: \tmax_depth: 12\n",
      "\u001B[34m\u001B[1mwandb\u001B[0m: \tmin_samples_split: 6\n",
      "\u001B[34m\u001B[1mwandb\u001B[0m: \tn_estimators: 768\n",
      "\u001B[34m\u001B[1mwandb\u001B[0m: \tsubsample: 0.8033281301543502\n",
      "\u001B[34m\u001B[1mwandb\u001B[0m: wandb version 0.12.0 is available!  To upgrade, please run:\n",
      "\u001B[34m\u001B[1mwandb\u001B[0m:  $ pip install wandb --upgrade\n",
      "\u001B[34m\u001B[1mwandb\u001B[0m: Agent Starting Run: dw5qme11 with config:\n",
      "\u001B[34m\u001B[1mwandb\u001B[0m: \tlearning_rate: 0.09377852077971255\n",
      "\u001B[34m\u001B[1mwandb\u001B[0m: \tmax_depth: 4\n",
      "\u001B[34m\u001B[1mwandb\u001B[0m: \tmin_samples_split: 5\n",
      "\u001B[34m\u001B[1mwandb\u001B[0m: \tn_estimators: 512\n",
      "\u001B[34m\u001B[1mwandb\u001B[0m: \tsubsample: 0.8094474280913873\n",
      "\u001B[34m\u001B[1mwandb\u001B[0m: wandb version 0.12.0 is available!  To upgrade, please run:\n",
      "\u001B[34m\u001B[1mwandb\u001B[0m:  $ pip install wandb --upgrade\n",
      "\u001B[34m\u001B[1mwandb\u001B[0m: Agent Starting Run: bn6yrtc8 with config:\n",
      "\u001B[34m\u001B[1mwandb\u001B[0m: \tlearning_rate: 0.06545730816437428\n",
      "\u001B[34m\u001B[1mwandb\u001B[0m: \tmax_depth: 6\n",
      "\u001B[34m\u001B[1mwandb\u001B[0m: \tmin_samples_split: 4\n",
      "\u001B[34m\u001B[1mwandb\u001B[0m: \tn_estimators: 256\n",
      "\u001B[34m\u001B[1mwandb\u001B[0m: \tsubsample: 0.8492351353351673\n",
      "\u001B[34m\u001B[1mwandb\u001B[0m: wandb version 0.12.0 is available!  To upgrade, please run:\n",
      "\u001B[34m\u001B[1mwandb\u001B[0m:  $ pip install wandb --upgrade\n",
      "\u001B[34m\u001B[1mwandb\u001B[0m: Agent Starting Run: t5bfbh9e with config:\n",
      "\u001B[34m\u001B[1mwandb\u001B[0m: \tlearning_rate: 0.11014026194891993\n",
      "\u001B[34m\u001B[1mwandb\u001B[0m: \tmax_depth: 6\n",
      "\u001B[34m\u001B[1mwandb\u001B[0m: \tmin_samples_split: 10\n",
      "\u001B[34m\u001B[1mwandb\u001B[0m: \tn_estimators: 768\n",
      "\u001B[34m\u001B[1mwandb\u001B[0m: \tsubsample: 0.6701179375199966\n",
      "\u001B[34m\u001B[1mwandb\u001B[0m: wandb version 0.12.0 is available!  To upgrade, please run:\n",
      "\u001B[34m\u001B[1mwandb\u001B[0m:  $ pip install wandb --upgrade\n",
      "\u001B[34m\u001B[1mwandb\u001B[0m: Agent Starting Run: ky1201mc with config:\n",
      "\u001B[34m\u001B[1mwandb\u001B[0m: \tlearning_rate: 0.03361653409108565\n",
      "\u001B[34m\u001B[1mwandb\u001B[0m: \tmax_depth: 8\n",
      "\u001B[34m\u001B[1mwandb\u001B[0m: \tmin_samples_split: 6\n",
      "\u001B[34m\u001B[1mwandb\u001B[0m: \tn_estimators: 256\n",
      "\u001B[34m\u001B[1mwandb\u001B[0m: \tsubsample: 0.7077852172341413\n",
      "\u001B[34m\u001B[1mwandb\u001B[0m: wandb version 0.12.0 is available!  To upgrade, please run:\n",
      "\u001B[34m\u001B[1mwandb\u001B[0m:  $ pip install wandb --upgrade\n",
      "\u001B[34m\u001B[1mwandb\u001B[0m: Agent Starting Run: x7np1u0c with config:\n",
      "\u001B[34m\u001B[1mwandb\u001B[0m: \tlearning_rate: 0.12181876268751941\n",
      "\u001B[34m\u001B[1mwandb\u001B[0m: \tmax_depth: 10\n",
      "\u001B[34m\u001B[1mwandb\u001B[0m: \tmin_samples_split: 6\n",
      "\u001B[34m\u001B[1mwandb\u001B[0m: \tn_estimators: 1024\n",
      "\u001B[34m\u001B[1mwandb\u001B[0m: \tsubsample: 0.5379514213551388\n",
      "\u001B[34m\u001B[1mwandb\u001B[0m: wandb version 0.12.0 is available!  To upgrade, please run:\n",
      "\u001B[34m\u001B[1mwandb\u001B[0m:  $ pip install wandb --upgrade\n",
      "\u001B[34m\u001B[1mwandb\u001B[0m: Agent Starting Run: uda3s5ku with config:\n",
      "\u001B[34m\u001B[1mwandb\u001B[0m: \tlearning_rate: 0.08950854027506037\n",
      "\u001B[34m\u001B[1mwandb\u001B[0m: \tmax_depth: 12\n",
      "\u001B[34m\u001B[1mwandb\u001B[0m: \tmin_samples_split: 6\n",
      "\u001B[34m\u001B[1mwandb\u001B[0m: \tn_estimators: 768\n",
      "\u001B[34m\u001B[1mwandb\u001B[0m: \tsubsample: 0.5887855840057968\n",
      "\u001B[34m\u001B[1mwandb\u001B[0m: wandb version 0.12.0 is available!  To upgrade, please run:\n",
      "\u001B[34m\u001B[1mwandb\u001B[0m:  $ pip install wandb --upgrade\n",
      "\u001B[34m\u001B[1mwandb\u001B[0m: Agent Starting Run: witlq0nb with config:\n",
      "\u001B[34m\u001B[1mwandb\u001B[0m: \tlearning_rate: 0.031346047775502144\n",
      "\u001B[34m\u001B[1mwandb\u001B[0m: \tmax_depth: 10\n",
      "\u001B[34m\u001B[1mwandb\u001B[0m: \tmin_samples_split: 6\n",
      "\u001B[34m\u001B[1mwandb\u001B[0m: \tn_estimators: 256\n",
      "\u001B[34m\u001B[1mwandb\u001B[0m: \tsubsample: 0.7425910617993061\n",
      "\u001B[34m\u001B[1mwandb\u001B[0m: wandb version 0.12.0 is available!  To upgrade, please run:\n",
      "\u001B[34m\u001B[1mwandb\u001B[0m:  $ pip install wandb --upgrade\n",
      "\u001B[34m\u001B[1mwandb\u001B[0m: Agent Starting Run: lja24gpo with config:\n",
      "\u001B[34m\u001B[1mwandb\u001B[0m: \tlearning_rate: 0.09088325831407291\n",
      "\u001B[34m\u001B[1mwandb\u001B[0m: \tmax_depth: 5\n",
      "\u001B[34m\u001B[1mwandb\u001B[0m: \tmin_samples_split: 5\n",
      "\u001B[34m\u001B[1mwandb\u001B[0m: \tn_estimators: 512\n",
      "\u001B[34m\u001B[1mwandb\u001B[0m: \tsubsample: 0.6788578752934407\n",
      "\u001B[34m\u001B[1mwandb\u001B[0m: wandb version 0.12.0 is available!  To upgrade, please run:\n",
      "\u001B[34m\u001B[1mwandb\u001B[0m:  $ pip install wandb --upgrade\n",
      "\u001B[34m\u001B[1mwandb\u001B[0m: Agent Starting Run: b04xc32t with config:\n",
      "\u001B[34m\u001B[1mwandb\u001B[0m: \tlearning_rate: 0.045359497873558176\n",
      "\u001B[34m\u001B[1mwandb\u001B[0m: \tmax_depth: 7\n",
      "\u001B[34m\u001B[1mwandb\u001B[0m: \tmin_samples_split: 10\n",
      "\u001B[34m\u001B[1mwandb\u001B[0m: \tn_estimators: 256\n",
      "\u001B[34m\u001B[1mwandb\u001B[0m: \tsubsample: 0.6983339083572263\n",
      "\u001B[34m\u001B[1mwandb\u001B[0m: wandb version 0.12.0 is available!  To upgrade, please run:\n",
      "\u001B[34m\u001B[1mwandb\u001B[0m:  $ pip install wandb --upgrade\n",
      "\u001B[34m\u001B[1mwandb\u001B[0m: Agent Starting Run: 0w5c5umt with config:\n",
      "\u001B[34m\u001B[1mwandb\u001B[0m: \tlearning_rate: 0.09557032338060364\n",
      "\u001B[34m\u001B[1mwandb\u001B[0m: \tmax_depth: 8\n",
      "\u001B[34m\u001B[1mwandb\u001B[0m: \tmin_samples_split: 5\n",
      "\u001B[34m\u001B[1mwandb\u001B[0m: \tn_estimators: 512\n",
      "\u001B[34m\u001B[1mwandb\u001B[0m: \tsubsample: 0.5703790942048426\n",
      "\u001B[34m\u001B[1mwandb\u001B[0m: wandb version 0.12.0 is available!  To upgrade, please run:\n",
      "\u001B[34m\u001B[1mwandb\u001B[0m:  $ pip install wandb --upgrade\n",
      "\u001B[34m\u001B[1mwandb\u001B[0m: Agent Starting Run: n6akcxom with config:\n",
      "\u001B[34m\u001B[1mwandb\u001B[0m: \tlearning_rate: 0.14901993058627844\n",
      "\u001B[34m\u001B[1mwandb\u001B[0m: \tmax_depth: 10\n",
      "\u001B[34m\u001B[1mwandb\u001B[0m: \tmin_samples_split: 6\n",
      "\u001B[34m\u001B[1mwandb\u001B[0m: \tn_estimators: 768\n",
      "\u001B[34m\u001B[1mwandb\u001B[0m: \tsubsample: 0.6079343123875578\n",
      "\u001B[34m\u001B[1mwandb\u001B[0m: wandb version 0.12.0 is available!  To upgrade, please run:\n",
      "\u001B[34m\u001B[1mwandb\u001B[0m:  $ pip install wandb --upgrade\n",
      "\u001B[34m\u001B[1mwandb\u001B[0m: Agent Starting Run: u7n0qiia with config:\n",
      "\u001B[34m\u001B[1mwandb\u001B[0m: \tlearning_rate: 0.07805269581896461\n",
      "\u001B[34m\u001B[1mwandb\u001B[0m: \tmax_depth: 10\n",
      "\u001B[34m\u001B[1mwandb\u001B[0m: \tmin_samples_split: 8\n",
      "\u001B[34m\u001B[1mwandb\u001B[0m: \tn_estimators: 1024\n",
      "\u001B[34m\u001B[1mwandb\u001B[0m: \tsubsample: 0.7830959878933499\n",
      "\u001B[34m\u001B[1mwandb\u001B[0m: wandb version 0.12.0 is available!  To upgrade, please run:\n",
      "\u001B[34m\u001B[1mwandb\u001B[0m:  $ pip install wandb --upgrade\n",
      "\u001B[34m\u001B[1mwandb\u001B[0m: Agent Starting Run: cabfz7ut with config:\n",
      "\u001B[34m\u001B[1mwandb\u001B[0m: \tlearning_rate: 0.11573803460356864\n",
      "\u001B[34m\u001B[1mwandb\u001B[0m: \tmax_depth: 4\n",
      "\u001B[34m\u001B[1mwandb\u001B[0m: \tmin_samples_split: 4\n",
      "\u001B[34m\u001B[1mwandb\u001B[0m: \tn_estimators: 1024\n",
      "\u001B[34m\u001B[1mwandb\u001B[0m: \tsubsample: 0.5290717254365902\n",
      "\u001B[34m\u001B[1mwandb\u001B[0m: wandb version 0.12.0 is available!  To upgrade, please run:\n",
      "\u001B[34m\u001B[1mwandb\u001B[0m:  $ pip install wandb --upgrade\n",
      "\u001B[34m\u001B[1mwandb\u001B[0m: Agent Starting Run: yn2kzosc with config:\n",
      "\u001B[34m\u001B[1mwandb\u001B[0m: \tlearning_rate: 0.048973670970999986\n",
      "\u001B[34m\u001B[1mwandb\u001B[0m: \tmax_depth: 12\n",
      "\u001B[34m\u001B[1mwandb\u001B[0m: \tmin_samples_split: 6\n",
      "\u001B[34m\u001B[1mwandb\u001B[0m: \tn_estimators: 768\n",
      "\u001B[34m\u001B[1mwandb\u001B[0m: \tsubsample: 0.6491420596096914\n",
      "\u001B[34m\u001B[1mwandb\u001B[0m: wandb version 0.12.0 is available!  To upgrade, please run:\n",
      "\u001B[34m\u001B[1mwandb\u001B[0m:  $ pip install wandb --upgrade\n",
      "\u001B[34m\u001B[1mwandb\u001B[0m: Agent Starting Run: 135hl0z0 with config:\n",
      "\u001B[34m\u001B[1mwandb\u001B[0m: \tlearning_rate: 0.058296986758728624\n",
      "\u001B[34m\u001B[1mwandb\u001B[0m: \tmax_depth: 5\n",
      "\u001B[34m\u001B[1mwandb\u001B[0m: \tmin_samples_split: 5\n",
      "\u001B[34m\u001B[1mwandb\u001B[0m: \tn_estimators: 1024\n",
      "\u001B[34m\u001B[1mwandb\u001B[0m: \tsubsample: 0.5418599837449872\n",
      "\u001B[34m\u001B[1mwandb\u001B[0m: wandb version 0.12.0 is available!  To upgrade, please run:\n",
      "\u001B[34m\u001B[1mwandb\u001B[0m:  $ pip install wandb --upgrade\n",
      "\u001B[34m\u001B[1mwandb\u001B[0m: Agent Starting Run: ezk1ez0f with config:\n",
      "\u001B[34m\u001B[1mwandb\u001B[0m: \tlearning_rate: 0.10911997451551952\n",
      "\u001B[34m\u001B[1mwandb\u001B[0m: \tmax_depth: 7\n",
      "\u001B[34m\u001B[1mwandb\u001B[0m: \tmin_samples_split: 8\n",
      "\u001B[34m\u001B[1mwandb\u001B[0m: \tn_estimators: 512\n",
      "\u001B[34m\u001B[1mwandb\u001B[0m: \tsubsample: 0.5420928421301805\n",
      "\u001B[34m\u001B[1mwandb\u001B[0m: wandb version 0.12.0 is available!  To upgrade, please run:\n",
      "\u001B[34m\u001B[1mwandb\u001B[0m:  $ pip install wandb --upgrade\n",
      "\u001B[34m\u001B[1mwandb\u001B[0m: Agent Starting Run: 81o6cv1e with config:\n",
      "\u001B[34m\u001B[1mwandb\u001B[0m: \tlearning_rate: 0.11958434190921892\n",
      "\u001B[34m\u001B[1mwandb\u001B[0m: \tmax_depth: 4\n",
      "\u001B[34m\u001B[1mwandb\u001B[0m: \tmin_samples_split: 10\n",
      "\u001B[34m\u001B[1mwandb\u001B[0m: \tn_estimators: 768\n",
      "\u001B[34m\u001B[1mwandb\u001B[0m: \tsubsample: 0.5419165753126004\n",
      "\u001B[34m\u001B[1mwandb\u001B[0m: wandb version 0.12.0 is available!  To upgrade, please run:\n",
      "\u001B[34m\u001B[1mwandb\u001B[0m:  $ pip install wandb --upgrade\n",
      "\u001B[34m\u001B[1mwandb\u001B[0m: Agent Starting Run: m9s3fi7p with config:\n",
      "\u001B[34m\u001B[1mwandb\u001B[0m: \tlearning_rate: 0.04527669017296275\n",
      "\u001B[34m\u001B[1mwandb\u001B[0m: \tmax_depth: 8\n",
      "\u001B[34m\u001B[1mwandb\u001B[0m: \tmin_samples_split: 8\n",
      "\u001B[34m\u001B[1mwandb\u001B[0m: \tn_estimators: 1024\n",
      "\u001B[34m\u001B[1mwandb\u001B[0m: \tsubsample: 0.7719327928452172\n",
      "\u001B[34m\u001B[1mwandb\u001B[0m: wandb version 0.12.0 is available!  To upgrade, please run:\n",
      "\u001B[34m\u001B[1mwandb\u001B[0m:  $ pip install wandb --upgrade\n",
      "\u001B[34m\u001B[1mwandb\u001B[0m: Agent Starting Run: vxitornp with config:\n",
      "\u001B[34m\u001B[1mwandb\u001B[0m: \tlearning_rate: 0.1362876207975846\n",
      "\u001B[34m\u001B[1mwandb\u001B[0m: \tmax_depth: 8\n",
      "\u001B[34m\u001B[1mwandb\u001B[0m: \tmin_samples_split: 6\n",
      "\u001B[34m\u001B[1mwandb\u001B[0m: \tn_estimators: 1024\n",
      "\u001B[34m\u001B[1mwandb\u001B[0m: \tsubsample: 0.832761580480772\n",
      "\u001B[34m\u001B[1mwandb\u001B[0m: wandb version 0.12.0 is available!  To upgrade, please run:\n",
      "\u001B[34m\u001B[1mwandb\u001B[0m:  $ pip install wandb --upgrade\n",
      "\u001B[34m\u001B[1mwandb\u001B[0m: Agent Starting Run: 3cv7dlx4 with config:\n",
      "\u001B[34m\u001B[1mwandb\u001B[0m: \tlearning_rate: 0.035969943383195445\n",
      "\u001B[34m\u001B[1mwandb\u001B[0m: \tmax_depth: 5\n",
      "\u001B[34m\u001B[1mwandb\u001B[0m: \tmin_samples_split: 10\n",
      "\u001B[34m\u001B[1mwandb\u001B[0m: \tn_estimators: 1024\n",
      "\u001B[34m\u001B[1mwandb\u001B[0m: \tsubsample: 0.8111672177784653\n",
      "\u001B[34m\u001B[1mwandb\u001B[0m: wandb version 0.12.0 is available!  To upgrade, please run:\n",
      "\u001B[34m\u001B[1mwandb\u001B[0m:  $ pip install wandb --upgrade\n",
      "\u001B[34m\u001B[1mwandb\u001B[0m: Agent Starting Run: 5jc6cftj with config:\n",
      "\u001B[34m\u001B[1mwandb\u001B[0m: \tlearning_rate: 0.024094202007571952\n",
      "\u001B[34m\u001B[1mwandb\u001B[0m: \tmax_depth: 8\n",
      "\u001B[34m\u001B[1mwandb\u001B[0m: \tmin_samples_split: 5\n",
      "\u001B[34m\u001B[1mwandb\u001B[0m: \tn_estimators: 512\n",
      "\u001B[34m\u001B[1mwandb\u001B[0m: \tsubsample: 0.5103653785821577\n",
      "\u001B[34m\u001B[1mwandb\u001B[0m: wandb version 0.12.0 is available!  To upgrade, please run:\n",
      "\u001B[34m\u001B[1mwandb\u001B[0m:  $ pip install wandb --upgrade\n",
      "\u001B[34m\u001B[1mwandb\u001B[0m: Agent Starting Run: vlrj1zmr with config:\n",
      "\u001B[34m\u001B[1mwandb\u001B[0m: \tlearning_rate: 0.03960088821375473\n",
      "\u001B[34m\u001B[1mwandb\u001B[0m: \tmax_depth: 12\n",
      "\u001B[34m\u001B[1mwandb\u001B[0m: \tmin_samples_split: 10\n",
      "\u001B[34m\u001B[1mwandb\u001B[0m: \tn_estimators: 512\n",
      "\u001B[34m\u001B[1mwandb\u001B[0m: \tsubsample: 0.5193629685048251\n",
      "\u001B[34m\u001B[1mwandb\u001B[0m: wandb version 0.12.0 is available!  To upgrade, please run:\n",
      "\u001B[34m\u001B[1mwandb\u001B[0m:  $ pip install wandb --upgrade\n",
      "\u001B[34m\u001B[1mwandb\u001B[0m: Agent Starting Run: ebmkzyha with config:\n",
      "\u001B[34m\u001B[1mwandb\u001B[0m: \tlearning_rate: 0.023202392573308923\n",
      "\u001B[34m\u001B[1mwandb\u001B[0m: \tmax_depth: 4\n",
      "\u001B[34m\u001B[1mwandb\u001B[0m: \tmin_samples_split: 10\n",
      "\u001B[34m\u001B[1mwandb\u001B[0m: \tn_estimators: 512\n",
      "\u001B[34m\u001B[1mwandb\u001B[0m: \tsubsample: 0.5046171763031247\n",
      "\u001B[34m\u001B[1mwandb\u001B[0m: wandb version 0.12.0 is available!  To upgrade, please run:\n",
      "\u001B[34m\u001B[1mwandb\u001B[0m:  $ pip install wandb --upgrade\n",
      "\u001B[34m\u001B[1mwandb\u001B[0m: Agent Starting Run: px3u0uou with config:\n",
      "\u001B[34m\u001B[1mwandb\u001B[0m: \tlearning_rate: 0.11997505133087473\n",
      "\u001B[34m\u001B[1mwandb\u001B[0m: \tmax_depth: 7\n",
      "\u001B[34m\u001B[1mwandb\u001B[0m: \tmin_samples_split: 4\n",
      "\u001B[34m\u001B[1mwandb\u001B[0m: \tn_estimators: 768\n",
      "\u001B[34m\u001B[1mwandb\u001B[0m: \tsubsample: 0.8451437016346834\n",
      "\u001B[34m\u001B[1mwandb\u001B[0m: wandb version 0.12.0 is available!  To upgrade, please run:\n",
      "\u001B[34m\u001B[1mwandb\u001B[0m:  $ pip install wandb --upgrade\n",
      "\u001B[34m\u001B[1mwandb\u001B[0m: Agent Starting Run: zxxqxc44 with config:\n",
      "\u001B[34m\u001B[1mwandb\u001B[0m: \tlearning_rate: 0.04748865403412854\n",
      "\u001B[34m\u001B[1mwandb\u001B[0m: \tmax_depth: 6\n",
      "\u001B[34m\u001B[1mwandb\u001B[0m: \tmin_samples_split: 5\n",
      "\u001B[34m\u001B[1mwandb\u001B[0m: \tn_estimators: 512\n",
      "\u001B[34m\u001B[1mwandb\u001B[0m: \tsubsample: 0.704101732901897\n",
      "\u001B[34m\u001B[1mwandb\u001B[0m: wandb version 0.12.0 is available!  To upgrade, please run:\n",
      "\u001B[34m\u001B[1mwandb\u001B[0m:  $ pip install wandb --upgrade\n",
      "\u001B[34m\u001B[1mwandb\u001B[0m: Agent Starting Run: qcb6ojh8 with config:\n",
      "\u001B[34m\u001B[1mwandb\u001B[0m: \tlearning_rate: 0.07732959486298271\n",
      "\u001B[34m\u001B[1mwandb\u001B[0m: \tmax_depth: 10\n",
      "\u001B[34m\u001B[1mwandb\u001B[0m: \tmin_samples_split: 6\n",
      "\u001B[34m\u001B[1mwandb\u001B[0m: \tn_estimators: 768\n",
      "\u001B[34m\u001B[1mwandb\u001B[0m: \tsubsample: 0.6456364551398196\n",
      "\u001B[34m\u001B[1mwandb\u001B[0m: wandb version 0.12.0 is available!  To upgrade, please run:\n",
      "\u001B[34m\u001B[1mwandb\u001B[0m:  $ pip install wandb --upgrade\n",
      "\u001B[34m\u001B[1mwandb\u001B[0m: Agent Starting Run: zyxxt3ga with config:\n",
      "\u001B[34m\u001B[1mwandb\u001B[0m: \tlearning_rate: 0.09361774917372521\n",
      "\u001B[34m\u001B[1mwandb\u001B[0m: \tmax_depth: 10\n",
      "\u001B[34m\u001B[1mwandb\u001B[0m: \tmin_samples_split: 10\n",
      "\u001B[34m\u001B[1mwandb\u001B[0m: \tn_estimators: 512\n",
      "\u001B[34m\u001B[1mwandb\u001B[0m: \tsubsample: 0.5638890858616641\n",
      "\u001B[34m\u001B[1mwandb\u001B[0m: wandb version 0.12.0 is available!  To upgrade, please run:\n",
      "\u001B[34m\u001B[1mwandb\u001B[0m:  $ pip install wandb --upgrade\n",
      "\u001B[34m\u001B[1mwandb\u001B[0m: Agent Starting Run: k4htdryt with config:\n",
      "\u001B[34m\u001B[1mwandb\u001B[0m: \tlearning_rate: 0.07913173629355277\n",
      "\u001B[34m\u001B[1mwandb\u001B[0m: \tmax_depth: 10\n",
      "\u001B[34m\u001B[1mwandb\u001B[0m: \tmin_samples_split: 6\n",
      "\u001B[34m\u001B[1mwandb\u001B[0m: \tn_estimators: 256\n",
      "\u001B[34m\u001B[1mwandb\u001B[0m: \tsubsample: 0.5892830205679983\n",
      "\u001B[34m\u001B[1mwandb\u001B[0m: wandb version 0.12.0 is available!  To upgrade, please run:\n",
      "\u001B[34m\u001B[1mwandb\u001B[0m:  $ pip install wandb --upgrade\n",
      "\u001B[34m\u001B[1mwandb\u001B[0m: Agent Starting Run: uhkvz1ol with config:\n",
      "\u001B[34m\u001B[1mwandb\u001B[0m: \tlearning_rate: 0.015991741399448527\n",
      "\u001B[34m\u001B[1mwandb\u001B[0m: \tmax_depth: 4\n",
      "\u001B[34m\u001B[1mwandb\u001B[0m: \tmin_samples_split: 6\n",
      "\u001B[34m\u001B[1mwandb\u001B[0m: \tn_estimators: 512\n",
      "\u001B[34m\u001B[1mwandb\u001B[0m: \tsubsample: 0.550135959569237\n",
      "\u001B[34m\u001B[1mwandb\u001B[0m: wandb version 0.12.0 is available!  To upgrade, please run:\n",
      "\u001B[34m\u001B[1mwandb\u001B[0m:  $ pip install wandb --upgrade\n",
      "\u001B[34m\u001B[1mwandb\u001B[0m: Agent Starting Run: 727tg6a3 with config:\n",
      "\u001B[34m\u001B[1mwandb\u001B[0m: \tlearning_rate: 0.12915398295643618\n",
      "\u001B[34m\u001B[1mwandb\u001B[0m: \tmax_depth: 6\n",
      "\u001B[34m\u001B[1mwandb\u001B[0m: \tmin_samples_split: 4\n",
      "\u001B[34m\u001B[1mwandb\u001B[0m: \tn_estimators: 1024\n",
      "\u001B[34m\u001B[1mwandb\u001B[0m: \tsubsample: 0.6836147109040975\n",
      "\u001B[34m\u001B[1mwandb\u001B[0m: wandb version 0.12.0 is available!  To upgrade, please run:\n",
      "\u001B[34m\u001B[1mwandb\u001B[0m:  $ pip install wandb --upgrade\n",
      "\u001B[34m\u001B[1mwandb\u001B[0m: Agent Starting Run: 3ypg7a91 with config:\n",
      "\u001B[34m\u001B[1mwandb\u001B[0m: \tlearning_rate: 0.04559944653740588\n",
      "\u001B[34m\u001B[1mwandb\u001B[0m: \tmax_depth: 7\n",
      "\u001B[34m\u001B[1mwandb\u001B[0m: \tmin_samples_split: 4\n",
      "\u001B[34m\u001B[1mwandb\u001B[0m: \tn_estimators: 256\n",
      "\u001B[34m\u001B[1mwandb\u001B[0m: \tsubsample: 0.6954778090863434\n",
      "\u001B[34m\u001B[1mwandb\u001B[0m: wandb version 0.12.0 is available!  To upgrade, please run:\n",
      "\u001B[34m\u001B[1mwandb\u001B[0m:  $ pip install wandb --upgrade\n",
      "\u001B[34m\u001B[1mwandb\u001B[0m: Agent Starting Run: mqf9bftw with config:\n",
      "\u001B[34m\u001B[1mwandb\u001B[0m: \tlearning_rate: 0.12248047408992728\n",
      "\u001B[34m\u001B[1mwandb\u001B[0m: \tmax_depth: 5\n",
      "\u001B[34m\u001B[1mwandb\u001B[0m: \tmin_samples_split: 4\n",
      "\u001B[34m\u001B[1mwandb\u001B[0m: \tn_estimators: 1024\n",
      "\u001B[34m\u001B[1mwandb\u001B[0m: \tsubsample: 0.7364616707844052\n",
      "\u001B[34m\u001B[1mwandb\u001B[0m: wandb version 0.12.0 is available!  To upgrade, please run:\n",
      "\u001B[34m\u001B[1mwandb\u001B[0m:  $ pip install wandb --upgrade\n",
      "\u001B[34m\u001B[1mwandb\u001B[0m: Agent Starting Run: kpedocqg with config:\n",
      "\u001B[34m\u001B[1mwandb\u001B[0m: \tlearning_rate: 0.11048929170829017\n",
      "\u001B[34m\u001B[1mwandb\u001B[0m: \tmax_depth: 8\n",
      "\u001B[34m\u001B[1mwandb\u001B[0m: \tmin_samples_split: 4\n",
      "\u001B[34m\u001B[1mwandb\u001B[0m: \tn_estimators: 1024\n",
      "\u001B[34m\u001B[1mwandb\u001B[0m: \tsubsample: 0.7417700100139627\n",
      "\u001B[34m\u001B[1mwandb\u001B[0m: wandb version 0.12.0 is available!  To upgrade, please run:\n",
      "\u001B[34m\u001B[1mwandb\u001B[0m:  $ pip install wandb --upgrade\n",
      "\u001B[34m\u001B[1mwandb\u001B[0m: Agent Starting Run: xq9dnljt with config:\n",
      "\u001B[34m\u001B[1mwandb\u001B[0m: \tlearning_rate: 0.011016696737489718\n",
      "\u001B[34m\u001B[1mwandb\u001B[0m: \tmax_depth: 12\n",
      "\u001B[34m\u001B[1mwandb\u001B[0m: \tmin_samples_split: 6\n",
      "\u001B[34m\u001B[1mwandb\u001B[0m: \tn_estimators: 768\n",
      "\u001B[34m\u001B[1mwandb\u001B[0m: \tsubsample: 0.6424889072295528\n",
      "\u001B[34m\u001B[1mwandb\u001B[0m: wandb version 0.12.0 is available!  To upgrade, please run:\n",
      "\u001B[34m\u001B[1mwandb\u001B[0m:  $ pip install wandb --upgrade\n",
      "\u001B[34m\u001B[1mwandb\u001B[0m: Agent Starting Run: 3a8eycfj with config:\n",
      "\u001B[34m\u001B[1mwandb\u001B[0m: \tlearning_rate: 0.14712162333550993\n",
      "\u001B[34m\u001B[1mwandb\u001B[0m: \tmax_depth: 7\n",
      "\u001B[34m\u001B[1mwandb\u001B[0m: \tmin_samples_split: 10\n",
      "\u001B[34m\u001B[1mwandb\u001B[0m: \tn_estimators: 1024\n",
      "\u001B[34m\u001B[1mwandb\u001B[0m: \tsubsample: 0.6808077960869185\n",
      "\u001B[34m\u001B[1mwandb\u001B[0m: wandb version 0.12.0 is available!  To upgrade, please run:\n",
      "\u001B[34m\u001B[1mwandb\u001B[0m:  $ pip install wandb --upgrade\n",
      "\u001B[34m\u001B[1mwandb\u001B[0m: Agent Starting Run: krgklqzv with config:\n",
      "\u001B[34m\u001B[1mwandb\u001B[0m: \tlearning_rate: 0.09757119315596921\n",
      "\u001B[34m\u001B[1mwandb\u001B[0m: \tmax_depth: 4\n",
      "\u001B[34m\u001B[1mwandb\u001B[0m: \tmin_samples_split: 5\n",
      "\u001B[34m\u001B[1mwandb\u001B[0m: \tn_estimators: 512\n",
      "\u001B[34m\u001B[1mwandb\u001B[0m: \tsubsample: 0.6484904630551743\n",
      "\u001B[34m\u001B[1mwandb\u001B[0m: wandb version 0.12.0 is available!  To upgrade, please run:\n",
      "\u001B[34m\u001B[1mwandb\u001B[0m:  $ pip install wandb --upgrade\n",
      "\u001B[34m\u001B[1mwandb\u001B[0m: Agent Starting Run: w7s919vv with config:\n",
      "\u001B[34m\u001B[1mwandb\u001B[0m: \tlearning_rate: 0.03768010231616069\n",
      "\u001B[34m\u001B[1mwandb\u001B[0m: \tmax_depth: 6\n",
      "\u001B[34m\u001B[1mwandb\u001B[0m: \tmin_samples_split: 5\n",
      "\u001B[34m\u001B[1mwandb\u001B[0m: \tn_estimators: 256\n",
      "\u001B[34m\u001B[1mwandb\u001B[0m: \tsubsample: 0.779191972507421\n",
      "\u001B[34m\u001B[1mwandb\u001B[0m: wandb version 0.12.0 is available!  To upgrade, please run:\n",
      "\u001B[34m\u001B[1mwandb\u001B[0m:  $ pip install wandb --upgrade\n",
      "\u001B[34m\u001B[1mwandb\u001B[0m: Agent Starting Run: xoz6pirn with config:\n",
      "\u001B[34m\u001B[1mwandb\u001B[0m: \tlearning_rate: 0.023722918111000024\n",
      "\u001B[34m\u001B[1mwandb\u001B[0m: \tmax_depth: 8\n",
      "\u001B[34m\u001B[1mwandb\u001B[0m: \tmin_samples_split: 5\n",
      "\u001B[34m\u001B[1mwandb\u001B[0m: \tn_estimators: 512\n",
      "\u001B[34m\u001B[1mwandb\u001B[0m: \tsubsample: 0.6772950073121586\n",
      "\u001B[34m\u001B[1mwandb\u001B[0m: wandb version 0.12.0 is available!  To upgrade, please run:\n",
      "\u001B[34m\u001B[1mwandb\u001B[0m:  $ pip install wandb --upgrade\n",
      "\u001B[34m\u001B[1mwandb\u001B[0m: Agent Starting Run: tgr5rrhn with config:\n",
      "\u001B[34m\u001B[1mwandb\u001B[0m: \tlearning_rate: 0.14090935333105928\n",
      "\u001B[34m\u001B[1mwandb\u001B[0m: \tmax_depth: 12\n",
      "\u001B[34m\u001B[1mwandb\u001B[0m: \tmin_samples_split: 4\n",
      "\u001B[34m\u001B[1mwandb\u001B[0m: \tn_estimators: 768\n",
      "\u001B[34m\u001B[1mwandb\u001B[0m: \tsubsample: 0.530411341378843\n",
      "\u001B[34m\u001B[1mwandb\u001B[0m: wandb version 0.12.0 is available!  To upgrade, please run:\n",
      "\u001B[34m\u001B[1mwandb\u001B[0m:  $ pip install wandb --upgrade\n",
      "\u001B[34m\u001B[1mwandb\u001B[0m: Agent Starting Run: dno6rwq2 with config:\n",
      "\u001B[34m\u001B[1mwandb\u001B[0m: \tlearning_rate: 0.08291285947912837\n",
      "\u001B[34m\u001B[1mwandb\u001B[0m: \tmax_depth: 4\n",
      "\u001B[34m\u001B[1mwandb\u001B[0m: \tmin_samples_split: 10\n",
      "\u001B[34m\u001B[1mwandb\u001B[0m: \tn_estimators: 768\n",
      "\u001B[34m\u001B[1mwandb\u001B[0m: \tsubsample: 0.5687315398325892\n",
      "\u001B[34m\u001B[1mwandb\u001B[0m: wandb version 0.12.0 is available!  To upgrade, please run:\n",
      "\u001B[34m\u001B[1mwandb\u001B[0m:  $ pip install wandb --upgrade\n",
      "\u001B[34m\u001B[1mwandb\u001B[0m: Agent Starting Run: zeu4ps1m with config:\n",
      "\u001B[34m\u001B[1mwandb\u001B[0m: \tlearning_rate: 0.1491194232152499\n",
      "\u001B[34m\u001B[1mwandb\u001B[0m: \tmax_depth: 6\n",
      "\u001B[34m\u001B[1mwandb\u001B[0m: \tmin_samples_split: 8\n",
      "\u001B[34m\u001B[1mwandb\u001B[0m: \tn_estimators: 256\n",
      "\u001B[34m\u001B[1mwandb\u001B[0m: \tsubsample: 0.8350632842283111\n",
      "\u001B[34m\u001B[1mwandb\u001B[0m: wandb version 0.12.0 is available!  To upgrade, please run:\n",
      "\u001B[34m\u001B[1mwandb\u001B[0m:  $ pip install wandb --upgrade\n",
      "\u001B[34m\u001B[1mwandb\u001B[0m: Agent Starting Run: xc8pcouo with config:\n",
      "\u001B[34m\u001B[1mwandb\u001B[0m: \tlearning_rate: 0.13443473295369035\n",
      "\u001B[34m\u001B[1mwandb\u001B[0m: \tmax_depth: 5\n",
      "\u001B[34m\u001B[1mwandb\u001B[0m: \tmin_samples_split: 4\n",
      "\u001B[34m\u001B[1mwandb\u001B[0m: \tn_estimators: 512\n",
      "\u001B[34m\u001B[1mwandb\u001B[0m: \tsubsample: 0.8249399780670966\n",
      "\u001B[34m\u001B[1mwandb\u001B[0m: wandb version 0.12.0 is available!  To upgrade, please run:\n",
      "\u001B[34m\u001B[1mwandb\u001B[0m:  $ pip install wandb --upgrade\n",
      "\u001B[34m\u001B[1mwandb\u001B[0m: Agent Starting Run: 5xu3bb7g with config:\n",
      "\u001B[34m\u001B[1mwandb\u001B[0m: \tlearning_rate: 0.07430699267049642\n",
      "\u001B[34m\u001B[1mwandb\u001B[0m: \tmax_depth: 6\n",
      "\u001B[34m\u001B[1mwandb\u001B[0m: \tmin_samples_split: 6\n",
      "\u001B[34m\u001B[1mwandb\u001B[0m: \tn_estimators: 768\n",
      "\u001B[34m\u001B[1mwandb\u001B[0m: \tsubsample: 0.5671598149997192\n",
      "\u001B[34m\u001B[1mwandb\u001B[0m: wandb version 0.12.0 is available!  To upgrade, please run:\n",
      "\u001B[34m\u001B[1mwandb\u001B[0m:  $ pip install wandb --upgrade\n",
      "\u001B[34m\u001B[1mwandb\u001B[0m: Agent Starting Run: mg3px9s0 with config:\n",
      "\u001B[34m\u001B[1mwandb\u001B[0m: \tlearning_rate: 0.07181397379885664\n",
      "\u001B[34m\u001B[1mwandb\u001B[0m: \tmax_depth: 5\n",
      "\u001B[34m\u001B[1mwandb\u001B[0m: \tmin_samples_split: 4\n",
      "\u001B[34m\u001B[1mwandb\u001B[0m: \tn_estimators: 512\n",
      "\u001B[34m\u001B[1mwandb\u001B[0m: \tsubsample: 0.6246394715873952\n",
      "\u001B[34m\u001B[1mwandb\u001B[0m: wandb version 0.12.0 is available!  To upgrade, please run:\n",
      "\u001B[34m\u001B[1mwandb\u001B[0m:  $ pip install wandb --upgrade\n",
      "\u001B[34m\u001B[1mwandb\u001B[0m: Agent Starting Run: 8mebu5a6 with config:\n",
      "\u001B[34m\u001B[1mwandb\u001B[0m: \tlearning_rate: 0.1273497219147249\n",
      "\u001B[34m\u001B[1mwandb\u001B[0m: \tmax_depth: 4\n",
      "\u001B[34m\u001B[1mwandb\u001B[0m: \tmin_samples_split: 8\n",
      "\u001B[34m\u001B[1mwandb\u001B[0m: \tn_estimators: 512\n",
      "\u001B[34m\u001B[1mwandb\u001B[0m: \tsubsample: 0.5199818014853157\n",
      "\u001B[34m\u001B[1mwandb\u001B[0m: wandb version 0.12.0 is available!  To upgrade, please run:\n",
      "\u001B[34m\u001B[1mwandb\u001B[0m:  $ pip install wandb --upgrade\n",
      "\u001B[34m\u001B[1mwandb\u001B[0m: Agent Starting Run: evcsuyu8 with config:\n",
      "\u001B[34m\u001B[1mwandb\u001B[0m: \tlearning_rate: 0.14951605301375967\n",
      "\u001B[34m\u001B[1mwandb\u001B[0m: \tmax_depth: 4\n",
      "\u001B[34m\u001B[1mwandb\u001B[0m: \tmin_samples_split: 4\n",
      "\u001B[34m\u001B[1mwandb\u001B[0m: \tn_estimators: 256\n",
      "\u001B[34m\u001B[1mwandb\u001B[0m: \tsubsample: 0.6399137079185231\n",
      "\u001B[34m\u001B[1mwandb\u001B[0m: wandb version 0.12.0 is available!  To upgrade, please run:\n",
      "\u001B[34m\u001B[1mwandb\u001B[0m:  $ pip install wandb --upgrade\n",
      "\u001B[34m\u001B[1mwandb\u001B[0m: Agent Starting Run: f9511mn6 with config:\n",
      "\u001B[34m\u001B[1mwandb\u001B[0m: \tlearning_rate: 0.06957116236660439\n",
      "\u001B[34m\u001B[1mwandb\u001B[0m: \tmax_depth: 8\n",
      "\u001B[34m\u001B[1mwandb\u001B[0m: \tmin_samples_split: 6\n",
      "\u001B[34m\u001B[1mwandb\u001B[0m: \tn_estimators: 512\n",
      "\u001B[34m\u001B[1mwandb\u001B[0m: \tsubsample: 0.527116495146232\n",
      "\u001B[34m\u001B[1mwandb\u001B[0m: wandb version 0.12.0 is available!  To upgrade, please run:\n",
      "\u001B[34m\u001B[1mwandb\u001B[0m:  $ pip install wandb --upgrade\n",
      "\u001B[34m\u001B[1mwandb\u001B[0m: Agent Starting Run: 7x4xa199 with config:\n",
      "\u001B[34m\u001B[1mwandb\u001B[0m: \tlearning_rate: 0.04106865363365339\n",
      "\u001B[34m\u001B[1mwandb\u001B[0m: \tmax_depth: 10\n",
      "\u001B[34m\u001B[1mwandb\u001B[0m: \tmin_samples_split: 5\n",
      "\u001B[34m\u001B[1mwandb\u001B[0m: \tn_estimators: 512\n",
      "\u001B[34m\u001B[1mwandb\u001B[0m: \tsubsample: 0.6968365050883948\n",
      "\u001B[34m\u001B[1mwandb\u001B[0m: wandb version 0.12.0 is available!  To upgrade, please run:\n",
      "\u001B[34m\u001B[1mwandb\u001B[0m:  $ pip install wandb --upgrade\n",
      "\u001B[34m\u001B[1mwandb\u001B[0m: Agent Starting Run: lmug428r with config:\n",
      "\u001B[34m\u001B[1mwandb\u001B[0m: \tlearning_rate: 0.12468250250852222\n",
      "\u001B[34m\u001B[1mwandb\u001B[0m: \tmax_depth: 7\n",
      "\u001B[34m\u001B[1mwandb\u001B[0m: \tmin_samples_split: 6\n",
      "\u001B[34m\u001B[1mwandb\u001B[0m: \tn_estimators: 512\n",
      "\u001B[34m\u001B[1mwandb\u001B[0m: \tsubsample: 0.5201828665064757\n",
      "\u001B[34m\u001B[1mwandb\u001B[0m: wandb version 0.12.0 is available!  To upgrade, please run:\n",
      "\u001B[34m\u001B[1mwandb\u001B[0m:  $ pip install wandb --upgrade\n",
      "\u001B[34m\u001B[1mwandb\u001B[0m: Agent Starting Run: 36tpwnn9 with config:\n",
      "\u001B[34m\u001B[1mwandb\u001B[0m: \tlearning_rate: 0.1391719869600364\n",
      "\u001B[34m\u001B[1mwandb\u001B[0m: \tmax_depth: 4\n",
      "\u001B[34m\u001B[1mwandb\u001B[0m: \tmin_samples_split: 5\n",
      "\u001B[34m\u001B[1mwandb\u001B[0m: \tn_estimators: 256\n",
      "\u001B[34m\u001B[1mwandb\u001B[0m: \tsubsample: 0.6386387889454127\n",
      "\u001B[34m\u001B[1mwandb\u001B[0m: wandb version 0.12.0 is available!  To upgrade, please run:\n",
      "\u001B[34m\u001B[1mwandb\u001B[0m:  $ pip install wandb --upgrade\n",
      "\u001B[34m\u001B[1mwandb\u001B[0m: Agent Starting Run: 7wo9fwd4 with config:\n",
      "\u001B[34m\u001B[1mwandb\u001B[0m: \tlearning_rate: 0.09370056092199819\n",
      "\u001B[34m\u001B[1mwandb\u001B[0m: \tmax_depth: 4\n",
      "\u001B[34m\u001B[1mwandb\u001B[0m: \tmin_samples_split: 6\n",
      "\u001B[34m\u001B[1mwandb\u001B[0m: \tn_estimators: 512\n",
      "\u001B[34m\u001B[1mwandb\u001B[0m: \tsubsample: 0.7810183749173962\n",
      "\u001B[34m\u001B[1mwandb\u001B[0m: wandb version 0.12.0 is available!  To upgrade, please run:\n",
      "\u001B[34m\u001B[1mwandb\u001B[0m:  $ pip install wandb --upgrade\n",
      "\u001B[34m\u001B[1mwandb\u001B[0m: Agent Starting Run: n86kr9et with config:\n",
      "\u001B[34m\u001B[1mwandb\u001B[0m: \tlearning_rate: 0.09681180880936058\n",
      "\u001B[34m\u001B[1mwandb\u001B[0m: \tmax_depth: 6\n",
      "\u001B[34m\u001B[1mwandb\u001B[0m: \tmin_samples_split: 4\n",
      "\u001B[34m\u001B[1mwandb\u001B[0m: \tn_estimators: 512\n",
      "\u001B[34m\u001B[1mwandb\u001B[0m: \tsubsample: 0.636138764100272\n",
      "\u001B[34m\u001B[1mwandb\u001B[0m: wandb version 0.12.0 is available!  To upgrade, please run:\n",
      "\u001B[34m\u001B[1mwandb\u001B[0m:  $ pip install wandb --upgrade\n",
      "\u001B[34m\u001B[1mwandb\u001B[0m: Agent Starting Run: vnem785z with config:\n",
      "\u001B[34m\u001B[1mwandb\u001B[0m: \tlearning_rate: 0.07170837271619773\n",
      "\u001B[34m\u001B[1mwandb\u001B[0m: \tmax_depth: 12\n",
      "\u001B[34m\u001B[1mwandb\u001B[0m: \tmin_samples_split: 8\n",
      "\u001B[34m\u001B[1mwandb\u001B[0m: \tn_estimators: 256\n",
      "\u001B[34m\u001B[1mwandb\u001B[0m: \tsubsample: 0.5570251134562283\n",
      "\u001B[34m\u001B[1mwandb\u001B[0m: wandb version 0.12.0 is available!  To upgrade, please run:\n",
      "\u001B[34m\u001B[1mwandb\u001B[0m:  $ pip install wandb --upgrade\n",
      "\u001B[34m\u001B[1mwandb\u001B[0m: Agent Starting Run: 5f6l4gzu with config:\n",
      "\u001B[34m\u001B[1mwandb\u001B[0m: \tlearning_rate: 0.07733014607802453\n",
      "\u001B[34m\u001B[1mwandb\u001B[0m: \tmax_depth: 6\n",
      "\u001B[34m\u001B[1mwandb\u001B[0m: \tmin_samples_split: 4\n",
      "\u001B[34m\u001B[1mwandb\u001B[0m: \tn_estimators: 256\n",
      "\u001B[34m\u001B[1mwandb\u001B[0m: \tsubsample: 0.5455234615198741\n",
      "\u001B[34m\u001B[1mwandb\u001B[0m: wandb version 0.12.0 is available!  To upgrade, please run:\n",
      "\u001B[34m\u001B[1mwandb\u001B[0m:  $ pip install wandb --upgrade\n",
      "\u001B[34m\u001B[1mwandb\u001B[0m: Agent Starting Run: lyfg16wv with config:\n",
      "\u001B[34m\u001B[1mwandb\u001B[0m: \tlearning_rate: 0.04840162022387632\n",
      "\u001B[34m\u001B[1mwandb\u001B[0m: \tmax_depth: 8\n",
      "\u001B[34m\u001B[1mwandb\u001B[0m: \tmin_samples_split: 4\n",
      "\u001B[34m\u001B[1mwandb\u001B[0m: \tn_estimators: 1024\n",
      "\u001B[34m\u001B[1mwandb\u001B[0m: \tsubsample: 0.5265901591078455\n",
      "\u001B[34m\u001B[1mwandb\u001B[0m: wandb version 0.12.0 is available!  To upgrade, please run:\n",
      "\u001B[34m\u001B[1mwandb\u001B[0m:  $ pip install wandb --upgrade\n",
      "\u001B[34m\u001B[1mwandb\u001B[0m: Agent Starting Run: iwds1pgl with config:\n",
      "\u001B[34m\u001B[1mwandb\u001B[0m: \tlearning_rate: 0.04109882656599203\n",
      "\u001B[34m\u001B[1mwandb\u001B[0m: \tmax_depth: 10\n",
      "\u001B[34m\u001B[1mwandb\u001B[0m: \tmin_samples_split: 10\n",
      "\u001B[34m\u001B[1mwandb\u001B[0m: \tn_estimators: 512\n",
      "\u001B[34m\u001B[1mwandb\u001B[0m: \tsubsample: 0.8175267169281945\n",
      "\u001B[34m\u001B[1mwandb\u001B[0m: wandb version 0.12.0 is available!  To upgrade, please run:\n",
      "\u001B[34m\u001B[1mwandb\u001B[0m:  $ pip install wandb --upgrade\n",
      "\u001B[34m\u001B[1mwandb\u001B[0m: Agent Starting Run: vqc8n5xg with config:\n",
      "\u001B[34m\u001B[1mwandb\u001B[0m: \tlearning_rate: 0.0805210426824522\n",
      "\u001B[34m\u001B[1mwandb\u001B[0m: \tmax_depth: 12\n",
      "\u001B[34m\u001B[1mwandb\u001B[0m: \tmin_samples_split: 6\n",
      "\u001B[34m\u001B[1mwandb\u001B[0m: \tn_estimators: 1024\n",
      "\u001B[34m\u001B[1mwandb\u001B[0m: \tsubsample: 0.6658547041267402\n",
      "\u001B[34m\u001B[1mwandb\u001B[0m: wandb version 0.12.0 is available!  To upgrade, please run:\n",
      "\u001B[34m\u001B[1mwandb\u001B[0m:  $ pip install wandb --upgrade\n",
      "\u001B[34m\u001B[1mwandb\u001B[0m: Agent Starting Run: ob4m1loj with config:\n",
      "\u001B[34m\u001B[1mwandb\u001B[0m: \tlearning_rate: 0.1213233235682907\n",
      "\u001B[34m\u001B[1mwandb\u001B[0m: \tmax_depth: 12\n",
      "\u001B[34m\u001B[1mwandb\u001B[0m: \tmin_samples_split: 8\n",
      "\u001B[34m\u001B[1mwandb\u001B[0m: \tn_estimators: 512\n",
      "\u001B[34m\u001B[1mwandb\u001B[0m: \tsubsample: 0.6670630762886461\n",
      "\u001B[34m\u001B[1mwandb\u001B[0m: wandb version 0.12.0 is available!  To upgrade, please run:\n",
      "\u001B[34m\u001B[1mwandb\u001B[0m:  $ pip install wandb --upgrade\n",
      "\u001B[34m\u001B[1mwandb\u001B[0m: Agent Starting Run: aq452j94 with config:\n",
      "\u001B[34m\u001B[1mwandb\u001B[0m: \tlearning_rate: 0.018467719699992686\n",
      "\u001B[34m\u001B[1mwandb\u001B[0m: \tmax_depth: 12\n",
      "\u001B[34m\u001B[1mwandb\u001B[0m: \tmin_samples_split: 5\n",
      "\u001B[34m\u001B[1mwandb\u001B[0m: \tn_estimators: 512\n",
      "\u001B[34m\u001B[1mwandb\u001B[0m: \tsubsample: 0.5782624780677698\n",
      "\u001B[34m\u001B[1mwandb\u001B[0m: wandb version 0.12.0 is available!  To upgrade, please run:\n",
      "\u001B[34m\u001B[1mwandb\u001B[0m:  $ pip install wandb --upgrade\n",
      "\u001B[34m\u001B[1mwandb\u001B[0m: Agent Starting Run: y9vbhzvx with config:\n",
      "\u001B[34m\u001B[1mwandb\u001B[0m: \tlearning_rate: 0.1004895310332369\n",
      "\u001B[34m\u001B[1mwandb\u001B[0m: \tmax_depth: 4\n",
      "\u001B[34m\u001B[1mwandb\u001B[0m: \tmin_samples_split: 6\n",
      "\u001B[34m\u001B[1mwandb\u001B[0m: \tn_estimators: 256\n",
      "\u001B[34m\u001B[1mwandb\u001B[0m: \tsubsample: 0.5032320951738394\n",
      "\u001B[34m\u001B[1mwandb\u001B[0m: wandb version 0.12.0 is available!  To upgrade, please run:\n",
      "\u001B[34m\u001B[1mwandb\u001B[0m:  $ pip install wandb --upgrade\n",
      "\u001B[34m\u001B[1mwandb\u001B[0m: Agent Starting Run: iowbkteu with config:\n",
      "\u001B[34m\u001B[1mwandb\u001B[0m: \tlearning_rate: 0.14337216106771633\n",
      "\u001B[34m\u001B[1mwandb\u001B[0m: \tmax_depth: 4\n",
      "\u001B[34m\u001B[1mwandb\u001B[0m: \tmin_samples_split: 4\n",
      "\u001B[34m\u001B[1mwandb\u001B[0m: \tn_estimators: 768\n",
      "\u001B[34m\u001B[1mwandb\u001B[0m: \tsubsample: 0.799093052659293\n",
      "\u001B[34m\u001B[1mwandb\u001B[0m: wandb version 0.12.0 is available!  To upgrade, please run:\n",
      "\u001B[34m\u001B[1mwandb\u001B[0m:  $ pip install wandb --upgrade\n",
      "\u001B[34m\u001B[1mwandb\u001B[0m: Agent Starting Run: f5gwjpzq with config:\n",
      "\u001B[34m\u001B[1mwandb\u001B[0m: \tlearning_rate: 0.14568755725538787\n",
      "\u001B[34m\u001B[1mwandb\u001B[0m: \tmax_depth: 10\n",
      "\u001B[34m\u001B[1mwandb\u001B[0m: \tmin_samples_split: 10\n",
      "\u001B[34m\u001B[1mwandb\u001B[0m: \tn_estimators: 768\n",
      "\u001B[34m\u001B[1mwandb\u001B[0m: \tsubsample: 0.6788063264331157\n",
      "\u001B[34m\u001B[1mwandb\u001B[0m: wandb version 0.12.0 is available!  To upgrade, please run:\n",
      "\u001B[34m\u001B[1mwandb\u001B[0m:  $ pip install wandb --upgrade\n",
      "\u001B[34m\u001B[1mwandb\u001B[0m: Agent Starting Run: nmth894b with config:\n",
      "\u001B[34m\u001B[1mwandb\u001B[0m: \tlearning_rate: 0.08928206290747703\n",
      "\u001B[34m\u001B[1mwandb\u001B[0m: \tmax_depth: 4\n",
      "\u001B[34m\u001B[1mwandb\u001B[0m: \tmin_samples_split: 10\n",
      "\u001B[34m\u001B[1mwandb\u001B[0m: \tn_estimators: 768\n",
      "\u001B[34m\u001B[1mwandb\u001B[0m: \tsubsample: 0.6644439810768742\n",
      "\u001B[34m\u001B[1mwandb\u001B[0m: wandb version 0.12.0 is available!  To upgrade, please run:\n",
      "\u001B[34m\u001B[1mwandb\u001B[0m:  $ pip install wandb --upgrade\n",
      "\u001B[34m\u001B[1mwandb\u001B[0m: Agent Starting Run: u6p0g3iq with config:\n",
      "\u001B[34m\u001B[1mwandb\u001B[0m: \tlearning_rate: 0.14919159922239938\n",
      "\u001B[34m\u001B[1mwandb\u001B[0m: \tmax_depth: 6\n",
      "\u001B[34m\u001B[1mwandb\u001B[0m: \tmin_samples_split: 6\n",
      "\u001B[34m\u001B[1mwandb\u001B[0m: \tn_estimators: 1024\n",
      "\u001B[34m\u001B[1mwandb\u001B[0m: \tsubsample: 0.6436984780666329\n",
      "\u001B[34m\u001B[1mwandb\u001B[0m: wandb version 0.12.0 is available!  To upgrade, please run:\n",
      "\u001B[34m\u001B[1mwandb\u001B[0m:  $ pip install wandb --upgrade\n"
     ]
    },
    {
     "data": {
      "text/plain": "<IPython.core.display.HTML object>",
      "text/html": "\n                Tracking run with wandb version 0.11.0<br/>\n                Syncing run <strong style=\"color:#cdcd00\">zany-sweep-1</strong> to <a href=\"https://wandb.ai\" target=\"_blank\">Weights & Biases</a> <a href=\"https://docs.wandb.com/integrations/jupyter.html\" target=\"_blank\">(Documentation)</a>.<br/>\n                Project page: <a href=\"https://wandb.ai/devcore/Metriken%20Bauwesen%20Sweeps\" target=\"_blank\">https://wandb.ai/devcore/Metriken%20Bauwesen%20Sweeps</a><br/>\n                Sweep page: <a href=\"https://wandb.ai/devcore/Metriken%20Bauwesen%20Sweeps/sweeps/aslqb1cw\" target=\"_blank\">https://wandb.ai/devcore/Metriken%20Bauwesen%20Sweeps/sweeps/aslqb1cw</a><br/>\nRun page: <a href=\"https://wandb.ai/devcore/Metriken%20Bauwesen%20Sweeps/runs/srevvyfg\" target=\"_blank\">https://wandb.ai/devcore/Metriken%20Bauwesen%20Sweeps/runs/srevvyfg</a><br/>\n                Run data is saved locally in <code>D:\\Development\\FHNW\\ip5-metriken-bauwesen\\src\\weight_and_bias\\wandb\\run-20210813_100111-srevvyfg</code><br/><br/>\n            "
     },
     "metadata": {},
     "output_type": "display_data"
    },
    {
     "data": {
      "text/plain": "<IPython.core.display.HTML object>",
      "text/html": "<br/>Waiting for W&B process to finish, PID 21460<br/>Program ended successfully."
     },
     "metadata": {},
     "output_type": "display_data"
    },
    {
     "data": {
      "text/plain": "VBox(children=(Label(value=' 0.00MB of 0.00MB uploaded (0.00MB deduped)\\r'), FloatProgress(value=1.0, max=1.0)…",
      "application/vnd.jupyter.widget-view+json": {
       "version_major": 2,
       "version_minor": 0,
       "model_id": "4ac6fd3f1afd43b9a9b36d44a7ce16a1"
      }
     },
     "metadata": {},
     "output_type": "display_data"
    },
    {
     "data": {
      "text/plain": "<IPython.core.display.HTML object>",
      "text/html": "Find user logs for this run at: <code>D:\\Development\\FHNW\\ip5-metriken-bauwesen\\src\\weight_and_bias\\wandb\\run-20210813_100111-srevvyfg\\logs\\debug.log</code>"
     },
     "metadata": {},
     "output_type": "display_data"
    },
    {
     "data": {
      "text/plain": "<IPython.core.display.HTML object>",
      "text/html": "Find internal logs for this run at: <code>D:\\Development\\FHNW\\ip5-metriken-bauwesen\\src\\weight_and_bias\\wandb\\run-20210813_100111-srevvyfg\\logs\\debug-internal.log</code>"
     },
     "metadata": {},
     "output_type": "display_data"
    },
    {
     "data": {
      "text/plain": "<IPython.core.display.HTML object>",
      "text/html": "<h3>Run summary:</h3><br/><style>\n    table.wandb td:nth-child(1) { padding: 0 10px; text-align: right }\n    </style><table class=\"wandb\">\n<tr><td>r2</td><td>0.89675</td></tr><tr><td>_runtime</td><td>95</td></tr><tr><td>_timestamp</td><td>1628841766</td></tr><tr><td>_step</td><td>3</td></tr><tr><td>neg_mape</td><td>-0.16958</td></tr><tr><td>neg_mae</td><td>-556.89095</td></tr><tr><td>neg_rmse</td><td>-1183.1857</td></tr></table>"
     },
     "metadata": {},
     "output_type": "display_data"
    },
    {
     "data": {
      "text/plain": "<IPython.core.display.HTML object>",
      "text/html": "<h3>Run history:</h3><br/><style>\n    table.wandb td:nth-child(1) { padding: 0 10px; text-align: right }\n    </style><table class=\"wandb\">\n<tr><td>r2</td><td>▁</td></tr><tr><td>_runtime</td><td>▁▁▁▁</td></tr><tr><td>_timestamp</td><td>▁▁▁▁</td></tr><tr><td>_step</td><td>▁▃▆█</td></tr><tr><td>neg_mape</td><td>▁</td></tr><tr><td>neg_mae</td><td>▁</td></tr><tr><td>neg_rmse</td><td>▁</td></tr></table><br/>"
     },
     "metadata": {},
     "output_type": "display_data"
    },
    {
     "data": {
      "text/plain": "<IPython.core.display.HTML object>",
      "text/html": "Synced 4 W&B file(s), 0 media file(s), 0 artifact file(s) and 0 other file(s)"
     },
     "metadata": {},
     "output_type": "display_data"
    },
    {
     "data": {
      "text/plain": "<IPython.core.display.HTML object>",
      "text/html": "\n                    <br/>Synced <strong style=\"color:#cdcd00\">zany-sweep-1</strong>: <a href=\"https://wandb.ai/devcore/Metriken%20Bauwesen%20Sweeps/runs/srevvyfg\" target=\"_blank\">https://wandb.ai/devcore/Metriken%20Bauwesen%20Sweeps/runs/srevvyfg</a><br/>\n                "
     },
     "metadata": {},
     "output_type": "display_data"
    },
    {
     "data": {
      "text/plain": "<IPython.core.display.HTML object>",
      "text/html": "\n                Tracking run with wandb version 0.11.0<br/>\n                Syncing run <strong style=\"color:#cdcd00\">earthy-sweep-2</strong> to <a href=\"https://wandb.ai\" target=\"_blank\">Weights & Biases</a> <a href=\"https://docs.wandb.com/integrations/jupyter.html\" target=\"_blank\">(Documentation)</a>.<br/>\n                Project page: <a href=\"https://wandb.ai/devcore/Metriken%20Bauwesen%20Sweeps\" target=\"_blank\">https://wandb.ai/devcore/Metriken%20Bauwesen%20Sweeps</a><br/>\n                Sweep page: <a href=\"https://wandb.ai/devcore/Metriken%20Bauwesen%20Sweeps/sweeps/aslqb1cw\" target=\"_blank\">https://wandb.ai/devcore/Metriken%20Bauwesen%20Sweeps/sweeps/aslqb1cw</a><br/>\nRun page: <a href=\"https://wandb.ai/devcore/Metriken%20Bauwesen%20Sweeps/runs/2x31gr6m\" target=\"_blank\">https://wandb.ai/devcore/Metriken%20Bauwesen%20Sweeps/runs/2x31gr6m</a><br/>\n                Run data is saved locally in <code>D:\\Development\\FHNW\\ip5-metriken-bauwesen\\src\\weight_and_bias\\wandb\\run-20210813_100251-2x31gr6m</code><br/><br/>\n            "
     },
     "metadata": {},
     "output_type": "display_data"
    },
    {
     "data": {
      "text/plain": "<IPython.core.display.HTML object>",
      "text/html": "<br/>Waiting for W&B process to finish, PID 15196<br/>Program ended successfully."
     },
     "metadata": {},
     "output_type": "display_data"
    },
    {
     "data": {
      "text/plain": "VBox(children=(Label(value=' 0.00MB of 0.00MB uploaded (0.00MB deduped)\\r'), FloatProgress(value=1.0, max=1.0)…",
      "application/vnd.jupyter.widget-view+json": {
       "version_major": 2,
       "version_minor": 0,
       "model_id": "c590ec295f224a6b8d0ae606eb5ce791"
      }
     },
     "metadata": {},
     "output_type": "display_data"
    },
    {
     "data": {
      "text/plain": "<IPython.core.display.HTML object>",
      "text/html": "Find user logs for this run at: <code>D:\\Development\\FHNW\\ip5-metriken-bauwesen\\src\\weight_and_bias\\wandb\\run-20210813_100251-2x31gr6m\\logs\\debug.log</code>"
     },
     "metadata": {},
     "output_type": "display_data"
    },
    {
     "data": {
      "text/plain": "<IPython.core.display.HTML object>",
      "text/html": "Find internal logs for this run at: <code>D:\\Development\\FHNW\\ip5-metriken-bauwesen\\src\\weight_and_bias\\wandb\\run-20210813_100251-2x31gr6m\\logs\\debug-internal.log</code>"
     },
     "metadata": {},
     "output_type": "display_data"
    },
    {
     "data": {
      "text/plain": "<IPython.core.display.HTML object>",
      "text/html": "<h3>Run summary:</h3><br/><style>\n    table.wandb td:nth-child(1) { padding: 0 10px; text-align: right }\n    </style><table class=\"wandb\">\n<tr><td>r2</td><td>0.91057</td></tr><tr><td>_runtime</td><td>38</td></tr><tr><td>_timestamp</td><td>1628841809</td></tr><tr><td>_step</td><td>3</td></tr><tr><td>neg_mape</td><td>-0.15834</td></tr><tr><td>neg_mae</td><td>-518.63822</td></tr><tr><td>neg_rmse</td><td>-1108.98596</td></tr></table>"
     },
     "metadata": {},
     "output_type": "display_data"
    },
    {
     "data": {
      "text/plain": "<IPython.core.display.HTML object>",
      "text/html": "<h3>Run history:</h3><br/><style>\n    table.wandb td:nth-child(1) { padding: 0 10px; text-align: right }\n    </style><table class=\"wandb\">\n<tr><td>r2</td><td>▁</td></tr><tr><td>_runtime</td><td>▁▁▁▁</td></tr><tr><td>_timestamp</td><td>▁▁▁▁</td></tr><tr><td>_step</td><td>▁▃▆█</td></tr><tr><td>neg_mape</td><td>▁</td></tr><tr><td>neg_mae</td><td>▁</td></tr><tr><td>neg_rmse</td><td>▁</td></tr></table><br/>"
     },
     "metadata": {},
     "output_type": "display_data"
    },
    {
     "data": {
      "text/plain": "<IPython.core.display.HTML object>",
      "text/html": "Synced 4 W&B file(s), 0 media file(s), 0 artifact file(s) and 0 other file(s)"
     },
     "metadata": {},
     "output_type": "display_data"
    },
    {
     "data": {
      "text/plain": "<IPython.core.display.HTML object>",
      "text/html": "\n                    <br/>Synced <strong style=\"color:#cdcd00\">earthy-sweep-2</strong>: <a href=\"https://wandb.ai/devcore/Metriken%20Bauwesen%20Sweeps/runs/2x31gr6m\" target=\"_blank\">https://wandb.ai/devcore/Metriken%20Bauwesen%20Sweeps/runs/2x31gr6m</a><br/>\n                "
     },
     "metadata": {},
     "output_type": "display_data"
    },
    {
     "data": {
      "text/plain": "<IPython.core.display.HTML object>",
      "text/html": "\n                Tracking run with wandb version 0.11.0<br/>\n                Syncing run <strong style=\"color:#cdcd00\">rare-sweep-3</strong> to <a href=\"https://wandb.ai\" target=\"_blank\">Weights & Biases</a> <a href=\"https://docs.wandb.com/integrations/jupyter.html\" target=\"_blank\">(Documentation)</a>.<br/>\n                Project page: <a href=\"https://wandb.ai/devcore/Metriken%20Bauwesen%20Sweeps\" target=\"_blank\">https://wandb.ai/devcore/Metriken%20Bauwesen%20Sweeps</a><br/>\n                Sweep page: <a href=\"https://wandb.ai/devcore/Metriken%20Bauwesen%20Sweeps/sweeps/aslqb1cw\" target=\"_blank\">https://wandb.ai/devcore/Metriken%20Bauwesen%20Sweeps/sweeps/aslqb1cw</a><br/>\nRun page: <a href=\"https://wandb.ai/devcore/Metriken%20Bauwesen%20Sweeps/runs/srgqh9xh\" target=\"_blank\">https://wandb.ai/devcore/Metriken%20Bauwesen%20Sweeps/runs/srgqh9xh</a><br/>\n                Run data is saved locally in <code>D:\\Development\\FHNW\\ip5-metriken-bauwesen\\src\\weight_and_bias\\wandb\\run-20210813_100334-srgqh9xh</code><br/><br/>\n            "
     },
     "metadata": {},
     "output_type": "display_data"
    },
    {
     "data": {
      "text/plain": "<IPython.core.display.HTML object>",
      "text/html": "<br/>Waiting for W&B process to finish, PID 8180<br/>Program ended successfully."
     },
     "metadata": {},
     "output_type": "display_data"
    },
    {
     "data": {
      "text/plain": "VBox(children=(Label(value=' 0.00MB of 0.00MB uploaded (0.00MB deduped)\\r'), FloatProgress(value=1.0, max=1.0)…",
      "application/vnd.jupyter.widget-view+json": {
       "version_major": 2,
       "version_minor": 0,
       "model_id": "3d7ca08818b34054a53fafd4cf39e819"
      }
     },
     "metadata": {},
     "output_type": "display_data"
    },
    {
     "data": {
      "text/plain": "<IPython.core.display.HTML object>",
      "text/html": "Find user logs for this run at: <code>D:\\Development\\FHNW\\ip5-metriken-bauwesen\\src\\weight_and_bias\\wandb\\run-20210813_100334-srgqh9xh\\logs\\debug.log</code>"
     },
     "metadata": {},
     "output_type": "display_data"
    },
    {
     "data": {
      "text/plain": "<IPython.core.display.HTML object>",
      "text/html": "Find internal logs for this run at: <code>D:\\Development\\FHNW\\ip5-metriken-bauwesen\\src\\weight_and_bias\\wandb\\run-20210813_100334-srgqh9xh\\logs\\debug-internal.log</code>"
     },
     "metadata": {},
     "output_type": "display_data"
    },
    {
     "data": {
      "text/plain": "<IPython.core.display.HTML object>",
      "text/html": "<h3>Run summary:</h3><br/><style>\n    table.wandb td:nth-child(1) { padding: 0 10px; text-align: right }\n    </style><table class=\"wandb\">\n<tr><td>r2</td><td>0.90556</td></tr><tr><td>_runtime</td><td>63</td></tr><tr><td>_timestamp</td><td>1628841877</td></tr><tr><td>_step</td><td>3</td></tr><tr><td>neg_mape</td><td>-0.16189</td></tr><tr><td>neg_mae</td><td>-532.53867</td></tr><tr><td>neg_rmse</td><td>-1156.88799</td></tr></table>"
     },
     "metadata": {},
     "output_type": "display_data"
    },
    {
     "data": {
      "text/plain": "<IPython.core.display.HTML object>",
      "text/html": "<h3>Run history:</h3><br/><style>\n    table.wandb td:nth-child(1) { padding: 0 10px; text-align: right }\n    </style><table class=\"wandb\">\n<tr><td>r2</td><td>▁</td></tr><tr><td>_runtime</td><td>▁▁▁▁</td></tr><tr><td>_timestamp</td><td>▁▁▁▁</td></tr><tr><td>_step</td><td>▁▃▆█</td></tr><tr><td>neg_mape</td><td>▁</td></tr><tr><td>neg_mae</td><td>▁</td></tr><tr><td>neg_rmse</td><td>▁</td></tr></table><br/>"
     },
     "metadata": {},
     "output_type": "display_data"
    },
    {
     "data": {
      "text/plain": "<IPython.core.display.HTML object>",
      "text/html": "Synced 4 W&B file(s), 0 media file(s), 0 artifact file(s) and 0 other file(s)"
     },
     "metadata": {},
     "output_type": "display_data"
    },
    {
     "data": {
      "text/plain": "<IPython.core.display.HTML object>",
      "text/html": "\n                    <br/>Synced <strong style=\"color:#cdcd00\">rare-sweep-3</strong>: <a href=\"https://wandb.ai/devcore/Metriken%20Bauwesen%20Sweeps/runs/srgqh9xh\" target=\"_blank\">https://wandb.ai/devcore/Metriken%20Bauwesen%20Sweeps/runs/srgqh9xh</a><br/>\n                "
     },
     "metadata": {},
     "output_type": "display_data"
    },
    {
     "data": {
      "text/plain": "<IPython.core.display.HTML object>",
      "text/html": "\n                Tracking run with wandb version 0.11.0<br/>\n                Syncing run <strong style=\"color:#cdcd00\">cool-sweep-4</strong> to <a href=\"https://wandb.ai\" target=\"_blank\">Weights & Biases</a> <a href=\"https://docs.wandb.com/integrations/jupyter.html\" target=\"_blank\">(Documentation)</a>.<br/>\n                Project page: <a href=\"https://wandb.ai/devcore/Metriken%20Bauwesen%20Sweeps\" target=\"_blank\">https://wandb.ai/devcore/Metriken%20Bauwesen%20Sweeps</a><br/>\n                Sweep page: <a href=\"https://wandb.ai/devcore/Metriken%20Bauwesen%20Sweeps/sweeps/aslqb1cw\" target=\"_blank\">https://wandb.ai/devcore/Metriken%20Bauwesen%20Sweeps/sweeps/aslqb1cw</a><br/>\nRun page: <a href=\"https://wandb.ai/devcore/Metriken%20Bauwesen%20Sweeps/runs/1f7wp8ew\" target=\"_blank\">https://wandb.ai/devcore/Metriken%20Bauwesen%20Sweeps/runs/1f7wp8ew</a><br/>\n                Run data is saved locally in <code>D:\\Development\\FHNW\\ip5-metriken-bauwesen\\src\\weight_and_bias\\wandb\\run-20210813_100441-1f7wp8ew</code><br/><br/>\n            "
     },
     "metadata": {},
     "output_type": "display_data"
    },
    {
     "data": {
      "text/plain": "<IPython.core.display.HTML object>",
      "text/html": "<br/>Waiting for W&B process to finish, PID 2336<br/>Program ended successfully."
     },
     "metadata": {},
     "output_type": "display_data"
    },
    {
     "data": {
      "text/plain": "VBox(children=(Label(value=' 0.00MB of 0.00MB uploaded (0.00MB deduped)\\r'), FloatProgress(value=1.0, max=1.0)…",
      "application/vnd.jupyter.widget-view+json": {
       "version_major": 2,
       "version_minor": 0,
       "model_id": "e7dcdc35933b4ae6bcb9c1fd4f0602ff"
      }
     },
     "metadata": {},
     "output_type": "display_data"
    },
    {
     "data": {
      "text/plain": "<IPython.core.display.HTML object>",
      "text/html": "Find user logs for this run at: <code>D:\\Development\\FHNW\\ip5-metriken-bauwesen\\src\\weight_and_bias\\wandb\\run-20210813_100441-1f7wp8ew\\logs\\debug.log</code>"
     },
     "metadata": {},
     "output_type": "display_data"
    },
    {
     "data": {
      "text/plain": "<IPython.core.display.HTML object>",
      "text/html": "Find internal logs for this run at: <code>D:\\Development\\FHNW\\ip5-metriken-bauwesen\\src\\weight_and_bias\\wandb\\run-20210813_100441-1f7wp8ew\\logs\\debug-internal.log</code>"
     },
     "metadata": {},
     "output_type": "display_data"
    },
    {
     "data": {
      "text/plain": "<IPython.core.display.HTML object>",
      "text/html": "<h3>Run summary:</h3><br/><style>\n    table.wandb td:nth-child(1) { padding: 0 10px; text-align: right }\n    </style><table class=\"wandb\">\n<tr><td>r2</td><td>0.90153</td></tr><tr><td>_runtime</td><td>86</td></tr><tr><td>_timestamp</td><td>1628841967</td></tr><tr><td>_step</td><td>3</td></tr><tr><td>neg_mape</td><td>-0.16128</td></tr><tr><td>neg_mae</td><td>-541.73699</td></tr><tr><td>neg_rmse</td><td>-1157.45018</td></tr></table>"
     },
     "metadata": {},
     "output_type": "display_data"
    },
    {
     "data": {
      "text/plain": "<IPython.core.display.HTML object>",
      "text/html": "<h3>Run history:</h3><br/><style>\n    table.wandb td:nth-child(1) { padding: 0 10px; text-align: right }\n    </style><table class=\"wandb\">\n<tr><td>r2</td><td>▁</td></tr><tr><td>_runtime</td><td>▁▁▁▁</td></tr><tr><td>_timestamp</td><td>▁▁▁▁</td></tr><tr><td>_step</td><td>▁▃▆█</td></tr><tr><td>neg_mape</td><td>▁</td></tr><tr><td>neg_mae</td><td>▁</td></tr><tr><td>neg_rmse</td><td>▁</td></tr></table><br/>"
     },
     "metadata": {},
     "output_type": "display_data"
    },
    {
     "data": {
      "text/plain": "<IPython.core.display.HTML object>",
      "text/html": "Synced 4 W&B file(s), 0 media file(s), 0 artifact file(s) and 0 other file(s)"
     },
     "metadata": {},
     "output_type": "display_data"
    },
    {
     "data": {
      "text/plain": "<IPython.core.display.HTML object>",
      "text/html": "\n                    <br/>Synced <strong style=\"color:#cdcd00\">cool-sweep-4</strong>: <a href=\"https://wandb.ai/devcore/Metriken%20Bauwesen%20Sweeps/runs/1f7wp8ew\" target=\"_blank\">https://wandb.ai/devcore/Metriken%20Bauwesen%20Sweeps/runs/1f7wp8ew</a><br/>\n                "
     },
     "metadata": {},
     "output_type": "display_data"
    },
    {
     "data": {
      "text/plain": "<IPython.core.display.HTML object>",
      "text/html": "\n                Tracking run with wandb version 0.11.0<br/>\n                Syncing run <strong style=\"color:#cdcd00\">twilight-sweep-5</strong> to <a href=\"https://wandb.ai\" target=\"_blank\">Weights & Biases</a> <a href=\"https://docs.wandb.com/integrations/jupyter.html\" target=\"_blank\">(Documentation)</a>.<br/>\n                Project page: <a href=\"https://wandb.ai/devcore/Metriken%20Bauwesen%20Sweeps\" target=\"_blank\">https://wandb.ai/devcore/Metriken%20Bauwesen%20Sweeps</a><br/>\n                Sweep page: <a href=\"https://wandb.ai/devcore/Metriken%20Bauwesen%20Sweeps/sweeps/aslqb1cw\" target=\"_blank\">https://wandb.ai/devcore/Metriken%20Bauwesen%20Sweeps/sweeps/aslqb1cw</a><br/>\nRun page: <a href=\"https://wandb.ai/devcore/Metriken%20Bauwesen%20Sweeps/runs/7zwg9wkt\" target=\"_blank\">https://wandb.ai/devcore/Metriken%20Bauwesen%20Sweeps/runs/7zwg9wkt</a><br/>\n                Run data is saved locally in <code>D:\\Development\\FHNW\\ip5-metriken-bauwesen\\src\\weight_and_bias\\wandb\\run-20210813_100614-7zwg9wkt</code><br/><br/>\n            "
     },
     "metadata": {},
     "output_type": "display_data"
    },
    {
     "data": {
      "text/plain": "<IPython.core.display.HTML object>",
      "text/html": "<br/>Waiting for W&B process to finish, PID 824<br/>Program ended successfully."
     },
     "metadata": {},
     "output_type": "display_data"
    },
    {
     "data": {
      "text/plain": "VBox(children=(Label(value=' 0.00MB of 0.00MB uploaded (0.00MB deduped)\\r'), FloatProgress(value=1.0, max=1.0)…",
      "application/vnd.jupyter.widget-view+json": {
       "version_major": 2,
       "version_minor": 0,
       "model_id": "c77cee01ccec43bca56445f16a29ce28"
      }
     },
     "metadata": {},
     "output_type": "display_data"
    },
    {
     "data": {
      "text/plain": "<IPython.core.display.HTML object>",
      "text/html": "Find user logs for this run at: <code>D:\\Development\\FHNW\\ip5-metriken-bauwesen\\src\\weight_and_bias\\wandb\\run-20210813_100614-7zwg9wkt\\logs\\debug.log</code>"
     },
     "metadata": {},
     "output_type": "display_data"
    },
    {
     "data": {
      "text/plain": "<IPython.core.display.HTML object>",
      "text/html": "Find internal logs for this run at: <code>D:\\Development\\FHNW\\ip5-metriken-bauwesen\\src\\weight_and_bias\\wandb\\run-20210813_100614-7zwg9wkt\\logs\\debug-internal.log</code>"
     },
     "metadata": {},
     "output_type": "display_data"
    },
    {
     "data": {
      "text/plain": "<IPython.core.display.HTML object>",
      "text/html": "<h3>Run summary:</h3><br/><style>\n    table.wandb td:nth-child(1) { padding: 0 10px; text-align: right }\n    </style><table class=\"wandb\">\n<tr><td>r2</td><td>0.91258</td></tr><tr><td>_runtime</td><td>64</td></tr><tr><td>_timestamp</td><td>1628842038</td></tr><tr><td>_step</td><td>3</td></tr><tr><td>neg_mape</td><td>-0.15915</td></tr><tr><td>neg_mae</td><td>-521.20541</td></tr><tr><td>neg_rmse</td><td>-1090.97908</td></tr></table>"
     },
     "metadata": {},
     "output_type": "display_data"
    },
    {
     "data": {
      "text/plain": "<IPython.core.display.HTML object>",
      "text/html": "<h3>Run history:</h3><br/><style>\n    table.wandb td:nth-child(1) { padding: 0 10px; text-align: right }\n    </style><table class=\"wandb\">\n<tr><td>r2</td><td>▁</td></tr><tr><td>_runtime</td><td>▁▁▁▁</td></tr><tr><td>_timestamp</td><td>▁▁▁▁</td></tr><tr><td>_step</td><td>▁▃▆█</td></tr><tr><td>neg_mape</td><td>▁</td></tr><tr><td>neg_mae</td><td>▁</td></tr><tr><td>neg_rmse</td><td>▁</td></tr></table><br/>"
     },
     "metadata": {},
     "output_type": "display_data"
    },
    {
     "data": {
      "text/plain": "<IPython.core.display.HTML object>",
      "text/html": "Synced 4 W&B file(s), 0 media file(s), 0 artifact file(s) and 0 other file(s)"
     },
     "metadata": {},
     "output_type": "display_data"
    },
    {
     "data": {
      "text/plain": "<IPython.core.display.HTML object>",
      "text/html": "\n                    <br/>Synced <strong style=\"color:#cdcd00\">twilight-sweep-5</strong>: <a href=\"https://wandb.ai/devcore/Metriken%20Bauwesen%20Sweeps/runs/7zwg9wkt\" target=\"_blank\">https://wandb.ai/devcore/Metriken%20Bauwesen%20Sweeps/runs/7zwg9wkt</a><br/>\n                "
     },
     "metadata": {},
     "output_type": "display_data"
    },
    {
     "data": {
      "text/plain": "<IPython.core.display.HTML object>",
      "text/html": "\n                Tracking run with wandb version 0.11.0<br/>\n                Syncing run <strong style=\"color:#cdcd00\">firm-sweep-6</strong> to <a href=\"https://wandb.ai\" target=\"_blank\">Weights & Biases</a> <a href=\"https://docs.wandb.com/integrations/jupyter.html\" target=\"_blank\">(Documentation)</a>.<br/>\n                Project page: <a href=\"https://wandb.ai/devcore/Metriken%20Bauwesen%20Sweeps\" target=\"_blank\">https://wandb.ai/devcore/Metriken%20Bauwesen%20Sweeps</a><br/>\n                Sweep page: <a href=\"https://wandb.ai/devcore/Metriken%20Bauwesen%20Sweeps/sweeps/aslqb1cw\" target=\"_blank\">https://wandb.ai/devcore/Metriken%20Bauwesen%20Sweeps/sweeps/aslqb1cw</a><br/>\nRun page: <a href=\"https://wandb.ai/devcore/Metriken%20Bauwesen%20Sweeps/runs/fp0h78h0\" target=\"_blank\">https://wandb.ai/devcore/Metriken%20Bauwesen%20Sweeps/runs/fp0h78h0</a><br/>\n                Run data is saved locally in <code>D:\\Development\\FHNW\\ip5-metriken-bauwesen\\src\\weight_and_bias\\wandb\\run-20210813_100723-fp0h78h0</code><br/><br/>\n            "
     },
     "metadata": {},
     "output_type": "display_data"
    },
    {
     "data": {
      "text/plain": "<IPython.core.display.HTML object>",
      "text/html": "<br/>Waiting for W&B process to finish, PID 21292<br/>Program ended successfully."
     },
     "metadata": {},
     "output_type": "display_data"
    },
    {
     "data": {
      "text/plain": "VBox(children=(Label(value=' 0.00MB of 0.00MB uploaded (0.00MB deduped)\\r'), FloatProgress(value=1.0, max=1.0)…",
      "application/vnd.jupyter.widget-view+json": {
       "version_major": 2,
       "version_minor": 0,
       "model_id": "30fe34c77fc745219b13aac77f8005a2"
      }
     },
     "metadata": {},
     "output_type": "display_data"
    },
    {
     "data": {
      "text/plain": "<IPython.core.display.HTML object>",
      "text/html": "Find user logs for this run at: <code>D:\\Development\\FHNW\\ip5-metriken-bauwesen\\src\\weight_and_bias\\wandb\\run-20210813_100723-fp0h78h0\\logs\\debug.log</code>"
     },
     "metadata": {},
     "output_type": "display_data"
    },
    {
     "data": {
      "text/plain": "<IPython.core.display.HTML object>",
      "text/html": "Find internal logs for this run at: <code>D:\\Development\\FHNW\\ip5-metriken-bauwesen\\src\\weight_and_bias\\wandb\\run-20210813_100723-fp0h78h0\\logs\\debug-internal.log</code>"
     },
     "metadata": {},
     "output_type": "display_data"
    },
    {
     "data": {
      "text/plain": "<IPython.core.display.HTML object>",
      "text/html": "<h3>Run summary:</h3><br/><style>\n    table.wandb td:nth-child(1) { padding: 0 10px; text-align: right }\n    </style><table class=\"wandb\">\n<tr><td>r2</td><td>0.90766</td></tr><tr><td>_runtime</td><td>23</td></tr><tr><td>_timestamp</td><td>1628842066</td></tr><tr><td>_step</td><td>3</td></tr><tr><td>neg_mape</td><td>-0.15743</td></tr><tr><td>neg_mae</td><td>-514.64101</td></tr><tr><td>neg_rmse</td><td>-1127.39424</td></tr></table>"
     },
     "metadata": {},
     "output_type": "display_data"
    },
    {
     "data": {
      "text/plain": "<IPython.core.display.HTML object>",
      "text/html": "<h3>Run history:</h3><br/><style>\n    table.wandb td:nth-child(1) { padding: 0 10px; text-align: right }\n    </style><table class=\"wandb\">\n<tr><td>r2</td><td>▁</td></tr><tr><td>_runtime</td><td>▁▁▁▁</td></tr><tr><td>_timestamp</td><td>▁▁▁▁</td></tr><tr><td>_step</td><td>▁▃▆█</td></tr><tr><td>neg_mape</td><td>▁</td></tr><tr><td>neg_mae</td><td>▁</td></tr><tr><td>neg_rmse</td><td>▁</td></tr></table><br/>"
     },
     "metadata": {},
     "output_type": "display_data"
    },
    {
     "data": {
      "text/plain": "<IPython.core.display.HTML object>",
      "text/html": "Synced 4 W&B file(s), 0 media file(s), 0 artifact file(s) and 0 other file(s)"
     },
     "metadata": {},
     "output_type": "display_data"
    },
    {
     "data": {
      "text/plain": "<IPython.core.display.HTML object>",
      "text/html": "\n                    <br/>Synced <strong style=\"color:#cdcd00\">firm-sweep-6</strong>: <a href=\"https://wandb.ai/devcore/Metriken%20Bauwesen%20Sweeps/runs/fp0h78h0\" target=\"_blank\">https://wandb.ai/devcore/Metriken%20Bauwesen%20Sweeps/runs/fp0h78h0</a><br/>\n                "
     },
     "metadata": {},
     "output_type": "display_data"
    },
    {
     "data": {
      "text/plain": "<IPython.core.display.HTML object>",
      "text/html": "\n                Tracking run with wandb version 0.11.0<br/>\n                Syncing run <strong style=\"color:#cdcd00\">smart-sweep-7</strong> to <a href=\"https://wandb.ai\" target=\"_blank\">Weights & Biases</a> <a href=\"https://docs.wandb.com/integrations/jupyter.html\" target=\"_blank\">(Documentation)</a>.<br/>\n                Project page: <a href=\"https://wandb.ai/devcore/Metriken%20Bauwesen%20Sweeps\" target=\"_blank\">https://wandb.ai/devcore/Metriken%20Bauwesen%20Sweeps</a><br/>\n                Sweep page: <a href=\"https://wandb.ai/devcore/Metriken%20Bauwesen%20Sweeps/sweeps/aslqb1cw\" target=\"_blank\">https://wandb.ai/devcore/Metriken%20Bauwesen%20Sweeps/sweeps/aslqb1cw</a><br/>\nRun page: <a href=\"https://wandb.ai/devcore/Metriken%20Bauwesen%20Sweeps/runs/xh2fn21x\" target=\"_blank\">https://wandb.ai/devcore/Metriken%20Bauwesen%20Sweeps/runs/xh2fn21x</a><br/>\n                Run data is saved locally in <code>D:\\Development\\FHNW\\ip5-metriken-bauwesen\\src\\weight_and_bias\\wandb\\run-20210813_100751-xh2fn21x</code><br/><br/>\n            "
     },
     "metadata": {},
     "output_type": "display_data"
    },
    {
     "data": {
      "text/plain": "<IPython.core.display.HTML object>",
      "text/html": "<br/>Waiting for W&B process to finish, PID 1584<br/>Program ended successfully."
     },
     "metadata": {},
     "output_type": "display_data"
    },
    {
     "data": {
      "text/plain": "VBox(children=(Label(value=' 0.00MB of 0.00MB uploaded (0.00MB deduped)\\r'), FloatProgress(value=1.0, max=1.0)…",
      "application/vnd.jupyter.widget-view+json": {
       "version_major": 2,
       "version_minor": 0,
       "model_id": "7a093361fb56466ab7b9c9891b203a84"
      }
     },
     "metadata": {},
     "output_type": "display_data"
    },
    {
     "data": {
      "text/plain": "<IPython.core.display.HTML object>",
      "text/html": "Find user logs for this run at: <code>D:\\Development\\FHNW\\ip5-metriken-bauwesen\\src\\weight_and_bias\\wandb\\run-20210813_100751-xh2fn21x\\logs\\debug.log</code>"
     },
     "metadata": {},
     "output_type": "display_data"
    },
    {
     "data": {
      "text/plain": "<IPython.core.display.HTML object>",
      "text/html": "Find internal logs for this run at: <code>D:\\Development\\FHNW\\ip5-metriken-bauwesen\\src\\weight_and_bias\\wandb\\run-20210813_100751-xh2fn21x\\logs\\debug-internal.log</code>"
     },
     "metadata": {},
     "output_type": "display_data"
    },
    {
     "data": {
      "text/plain": "<IPython.core.display.HTML object>",
      "text/html": "<h3>Run summary:</h3><br/><style>\n    table.wandb td:nth-child(1) { padding: 0 10px; text-align: right }\n    </style><table class=\"wandb\">\n<tr><td>r2</td><td>0.91785</td></tr><tr><td>_runtime</td><td>37</td></tr><tr><td>_timestamp</td><td>1628842108</td></tr><tr><td>_step</td><td>3</td></tr><tr><td>neg_mape</td><td>-0.16308</td></tr><tr><td>neg_mae</td><td>-527.75718</td></tr><tr><td>neg_rmse</td><td>-1082.61888</td></tr></table>"
     },
     "metadata": {},
     "output_type": "display_data"
    },
    {
     "data": {
      "text/plain": "<IPython.core.display.HTML object>",
      "text/html": "<h3>Run history:</h3><br/><style>\n    table.wandb td:nth-child(1) { padding: 0 10px; text-align: right }\n    </style><table class=\"wandb\">\n<tr><td>r2</td><td>▁</td></tr><tr><td>_runtime</td><td>▁▁▁▁</td></tr><tr><td>_timestamp</td><td>▁▁▁▁</td></tr><tr><td>_step</td><td>▁▃▆█</td></tr><tr><td>neg_mape</td><td>▁</td></tr><tr><td>neg_mae</td><td>▁</td></tr><tr><td>neg_rmse</td><td>▁</td></tr></table><br/>"
     },
     "metadata": {},
     "output_type": "display_data"
    },
    {
     "data": {
      "text/plain": "<IPython.core.display.HTML object>",
      "text/html": "Synced 4 W&B file(s), 0 media file(s), 0 artifact file(s) and 0 other file(s)"
     },
     "metadata": {},
     "output_type": "display_data"
    },
    {
     "data": {
      "text/plain": "<IPython.core.display.HTML object>",
      "text/html": "\n                    <br/>Synced <strong style=\"color:#cdcd00\">smart-sweep-7</strong>: <a href=\"https://wandb.ai/devcore/Metriken%20Bauwesen%20Sweeps/runs/xh2fn21x\" target=\"_blank\">https://wandb.ai/devcore/Metriken%20Bauwesen%20Sweeps/runs/xh2fn21x</a><br/>\n                "
     },
     "metadata": {},
     "output_type": "display_data"
    },
    {
     "data": {
      "text/plain": "<IPython.core.display.HTML object>",
      "text/html": "\n                Tracking run with wandb version 0.11.0<br/>\n                Syncing run <strong style=\"color:#cdcd00\">likely-sweep-8</strong> to <a href=\"https://wandb.ai\" target=\"_blank\">Weights & Biases</a> <a href=\"https://docs.wandb.com/integrations/jupyter.html\" target=\"_blank\">(Documentation)</a>.<br/>\n                Project page: <a href=\"https://wandb.ai/devcore/Metriken%20Bauwesen%20Sweeps\" target=\"_blank\">https://wandb.ai/devcore/Metriken%20Bauwesen%20Sweeps</a><br/>\n                Sweep page: <a href=\"https://wandb.ai/devcore/Metriken%20Bauwesen%20Sweeps/sweeps/aslqb1cw\" target=\"_blank\">https://wandb.ai/devcore/Metriken%20Bauwesen%20Sweeps/sweeps/aslqb1cw</a><br/>\nRun page: <a href=\"https://wandb.ai/devcore/Metriken%20Bauwesen%20Sweeps/runs/kug4o2r5\" target=\"_blank\">https://wandb.ai/devcore/Metriken%20Bauwesen%20Sweeps/runs/kug4o2r5</a><br/>\n                Run data is saved locally in <code>D:\\Development\\FHNW\\ip5-metriken-bauwesen\\src\\weight_and_bias\\wandb\\run-20210813_100832-kug4o2r5</code><br/><br/>\n            "
     },
     "metadata": {},
     "output_type": "display_data"
    },
    {
     "data": {
      "text/plain": "<IPython.core.display.HTML object>",
      "text/html": "<br/>Waiting for W&B process to finish, PID 20660<br/>Program ended successfully."
     },
     "metadata": {},
     "output_type": "display_data"
    },
    {
     "data": {
      "text/plain": "VBox(children=(Label(value=' 0.00MB of 0.00MB uploaded (0.00MB deduped)\\r'), FloatProgress(value=1.0, max=1.0)…",
      "application/vnd.jupyter.widget-view+json": {
       "version_major": 2,
       "version_minor": 0,
       "model_id": "c6864771a6614bf18689882d312a7fac"
      }
     },
     "metadata": {},
     "output_type": "display_data"
    },
    {
     "data": {
      "text/plain": "<IPython.core.display.HTML object>",
      "text/html": "Find user logs for this run at: <code>D:\\Development\\FHNW\\ip5-metriken-bauwesen\\src\\weight_and_bias\\wandb\\run-20210813_100832-kug4o2r5\\logs\\debug.log</code>"
     },
     "metadata": {},
     "output_type": "display_data"
    },
    {
     "data": {
      "text/plain": "<IPython.core.display.HTML object>",
      "text/html": "Find internal logs for this run at: <code>D:\\Development\\FHNW\\ip5-metriken-bauwesen\\src\\weight_and_bias\\wandb\\run-20210813_100832-kug4o2r5\\logs\\debug-internal.log</code>"
     },
     "metadata": {},
     "output_type": "display_data"
    },
    {
     "data": {
      "text/plain": "<IPython.core.display.HTML object>",
      "text/html": "<h3>Run summary:</h3><br/><style>\n    table.wandb td:nth-child(1) { padding: 0 10px; text-align: right }\n    </style><table class=\"wandb\">\n<tr><td>r2</td><td>0.89653</td></tr><tr><td>_runtime</td><td>35</td></tr><tr><td>_timestamp</td><td>1628842147</td></tr><tr><td>_step</td><td>3</td></tr><tr><td>neg_mape</td><td>-0.16513</td></tr><tr><td>neg_mae</td><td>-546.44977</td></tr><tr><td>neg_rmse</td><td>-1169.52725</td></tr></table>"
     },
     "metadata": {},
     "output_type": "display_data"
    },
    {
     "data": {
      "text/plain": "<IPython.core.display.HTML object>",
      "text/html": "<h3>Run history:</h3><br/><style>\n    table.wandb td:nth-child(1) { padding: 0 10px; text-align: right }\n    </style><table class=\"wandb\">\n<tr><td>r2</td><td>▁</td></tr><tr><td>_runtime</td><td>▁▁▁▁</td></tr><tr><td>_timestamp</td><td>▁▁▁▁</td></tr><tr><td>_step</td><td>▁▃▆█</td></tr><tr><td>neg_mape</td><td>▁</td></tr><tr><td>neg_mae</td><td>▁</td></tr><tr><td>neg_rmse</td><td>▁</td></tr></table><br/>"
     },
     "metadata": {},
     "output_type": "display_data"
    },
    {
     "data": {
      "text/plain": "<IPython.core.display.HTML object>",
      "text/html": "Synced 4 W&B file(s), 0 media file(s), 0 artifact file(s) and 0 other file(s)"
     },
     "metadata": {},
     "output_type": "display_data"
    },
    {
     "data": {
      "text/plain": "<IPython.core.display.HTML object>",
      "text/html": "\n                    <br/>Synced <strong style=\"color:#cdcd00\">likely-sweep-8</strong>: <a href=\"https://wandb.ai/devcore/Metriken%20Bauwesen%20Sweeps/runs/kug4o2r5\" target=\"_blank\">https://wandb.ai/devcore/Metriken%20Bauwesen%20Sweeps/runs/kug4o2r5</a><br/>\n                "
     },
     "metadata": {},
     "output_type": "display_data"
    },
    {
     "data": {
      "text/plain": "<IPython.core.display.HTML object>",
      "text/html": "\n                Tracking run with wandb version 0.11.0<br/>\n                Syncing run <strong style=\"color:#cdcd00\">sunny-sweep-9</strong> to <a href=\"https://wandb.ai\" target=\"_blank\">Weights & Biases</a> <a href=\"https://docs.wandb.com/integrations/jupyter.html\" target=\"_blank\">(Documentation)</a>.<br/>\n                Project page: <a href=\"https://wandb.ai/devcore/Metriken%20Bauwesen%20Sweeps\" target=\"_blank\">https://wandb.ai/devcore/Metriken%20Bauwesen%20Sweeps</a><br/>\n                Sweep page: <a href=\"https://wandb.ai/devcore/Metriken%20Bauwesen%20Sweeps/sweeps/aslqb1cw\" target=\"_blank\">https://wandb.ai/devcore/Metriken%20Bauwesen%20Sweeps/sweeps/aslqb1cw</a><br/>\nRun page: <a href=\"https://wandb.ai/devcore/Metriken%20Bauwesen%20Sweeps/runs/55lmioyb\" target=\"_blank\">https://wandb.ai/devcore/Metriken%20Bauwesen%20Sweeps/runs/55lmioyb</a><br/>\n                Run data is saved locally in <code>D:\\Development\\FHNW\\ip5-metriken-bauwesen\\src\\weight_and_bias\\wandb\\run-20210813_100911-55lmioyb</code><br/><br/>\n            "
     },
     "metadata": {},
     "output_type": "display_data"
    },
    {
     "data": {
      "text/plain": "<IPython.core.display.HTML object>",
      "text/html": "<br/>Waiting for W&B process to finish, PID 6560<br/>Program ended successfully."
     },
     "metadata": {},
     "output_type": "display_data"
    },
    {
     "data": {
      "text/plain": "VBox(children=(Label(value=' 0.00MB of 0.00MB uploaded (0.00MB deduped)\\r'), FloatProgress(value=1.0, max=1.0)…",
      "application/vnd.jupyter.widget-view+json": {
       "version_major": 2,
       "version_minor": 0,
       "model_id": "835fe9018aa64ed8b47a7639a0459c52"
      }
     },
     "metadata": {},
     "output_type": "display_data"
    },
    {
     "data": {
      "text/plain": "<IPython.core.display.HTML object>",
      "text/html": "Find user logs for this run at: <code>D:\\Development\\FHNW\\ip5-metriken-bauwesen\\src\\weight_and_bias\\wandb\\run-20210813_100911-55lmioyb\\logs\\debug.log</code>"
     },
     "metadata": {},
     "output_type": "display_data"
    },
    {
     "data": {
      "text/plain": "<IPython.core.display.HTML object>",
      "text/html": "Find internal logs for this run at: <code>D:\\Development\\FHNW\\ip5-metriken-bauwesen\\src\\weight_and_bias\\wandb\\run-20210813_100911-55lmioyb\\logs\\debug-internal.log</code>"
     },
     "metadata": {},
     "output_type": "display_data"
    },
    {
     "data": {
      "text/plain": "<IPython.core.display.HTML object>",
      "text/html": "<h3>Run summary:</h3><br/><style>\n    table.wandb td:nth-child(1) { padding: 0 10px; text-align: right }\n    </style><table class=\"wandb\">\n<tr><td>r2</td><td>0.91145</td></tr><tr><td>_runtime</td><td>56</td></tr><tr><td>_timestamp</td><td>1628842207</td></tr><tr><td>_step</td><td>3</td></tr><tr><td>neg_mape</td><td>-0.16328</td></tr><tr><td>neg_mae</td><td>-531.53641</td></tr><tr><td>neg_rmse</td><td>-1109.64775</td></tr></table>"
     },
     "metadata": {},
     "output_type": "display_data"
    },
    {
     "data": {
      "text/plain": "<IPython.core.display.HTML object>",
      "text/html": "<h3>Run history:</h3><br/><style>\n    table.wandb td:nth-child(1) { padding: 0 10px; text-align: right }\n    </style><table class=\"wandb\">\n<tr><td>r2</td><td>▁</td></tr><tr><td>_runtime</td><td>▁▁▁▁</td></tr><tr><td>_timestamp</td><td>▁▁▁▁</td></tr><tr><td>_step</td><td>▁▃▆█</td></tr><tr><td>neg_mape</td><td>▁</td></tr><tr><td>neg_mae</td><td>▁</td></tr><tr><td>neg_rmse</td><td>▁</td></tr></table><br/>"
     },
     "metadata": {},
     "output_type": "display_data"
    },
    {
     "data": {
      "text/plain": "<IPython.core.display.HTML object>",
      "text/html": "Synced 4 W&B file(s), 0 media file(s), 0 artifact file(s) and 0 other file(s)"
     },
     "metadata": {},
     "output_type": "display_data"
    },
    {
     "data": {
      "text/plain": "<IPython.core.display.HTML object>",
      "text/html": "\n                    <br/>Synced <strong style=\"color:#cdcd00\">sunny-sweep-9</strong>: <a href=\"https://wandb.ai/devcore/Metriken%20Bauwesen%20Sweeps/runs/55lmioyb\" target=\"_blank\">https://wandb.ai/devcore/Metriken%20Bauwesen%20Sweeps/runs/55lmioyb</a><br/>\n                "
     },
     "metadata": {},
     "output_type": "display_data"
    },
    {
     "data": {
      "text/plain": "<IPython.core.display.HTML object>",
      "text/html": "\n                Tracking run with wandb version 0.11.0<br/>\n                Syncing run <strong style=\"color:#cdcd00\">eager-sweep-10</strong> to <a href=\"https://wandb.ai\" target=\"_blank\">Weights & Biases</a> <a href=\"https://docs.wandb.com/integrations/jupyter.html\" target=\"_blank\">(Documentation)</a>.<br/>\n                Project page: <a href=\"https://wandb.ai/devcore/Metriken%20Bauwesen%20Sweeps\" target=\"_blank\">https://wandb.ai/devcore/Metriken%20Bauwesen%20Sweeps</a><br/>\n                Sweep page: <a href=\"https://wandb.ai/devcore/Metriken%20Bauwesen%20Sweeps/sweeps/aslqb1cw\" target=\"_blank\">https://wandb.ai/devcore/Metriken%20Bauwesen%20Sweeps/sweeps/aslqb1cw</a><br/>\nRun page: <a href=\"https://wandb.ai/devcore/Metriken%20Bauwesen%20Sweeps/runs/gi59b7dp\" target=\"_blank\">https://wandb.ai/devcore/Metriken%20Bauwesen%20Sweeps/runs/gi59b7dp</a><br/>\n                Run data is saved locally in <code>D:\\Development\\FHNW\\ip5-metriken-bauwesen\\src\\weight_and_bias\\wandb\\run-20210813_101012-gi59b7dp</code><br/><br/>\n            "
     },
     "metadata": {},
     "output_type": "display_data"
    },
    {
     "data": {
      "text/plain": "<IPython.core.display.HTML object>",
      "text/html": "<br/>Waiting for W&B process to finish, PID 18136<br/>Program ended successfully."
     },
     "metadata": {},
     "output_type": "display_data"
    },
    {
     "data": {
      "text/plain": "VBox(children=(Label(value=' 0.00MB of 0.00MB uploaded (0.00MB deduped)\\r'), FloatProgress(value=1.0, max=1.0)…",
      "application/vnd.jupyter.widget-view+json": {
       "version_major": 2,
       "version_minor": 0,
       "model_id": "2b2312aebe3841e487b9ec09389e9903"
      }
     },
     "metadata": {},
     "output_type": "display_data"
    },
    {
     "data": {
      "text/plain": "<IPython.core.display.HTML object>",
      "text/html": "Find user logs for this run at: <code>D:\\Development\\FHNW\\ip5-metriken-bauwesen\\src\\weight_and_bias\\wandb\\run-20210813_101012-gi59b7dp\\logs\\debug.log</code>"
     },
     "metadata": {},
     "output_type": "display_data"
    },
    {
     "data": {
      "text/plain": "<IPython.core.display.HTML object>",
      "text/html": "Find internal logs for this run at: <code>D:\\Development\\FHNW\\ip5-metriken-bauwesen\\src\\weight_and_bias\\wandb\\run-20210813_101012-gi59b7dp\\logs\\debug-internal.log</code>"
     },
     "metadata": {},
     "output_type": "display_data"
    },
    {
     "data": {
      "text/plain": "<IPython.core.display.HTML object>",
      "text/html": "<h3>Run summary:</h3><br/><style>\n    table.wandb td:nth-child(1) { padding: 0 10px; text-align: right }\n    </style><table class=\"wandb\">\n<tr><td>r2</td><td>0.91366</td></tr><tr><td>_runtime</td><td>24</td></tr><tr><td>_timestamp</td><td>1628842236</td></tr><tr><td>_step</td><td>3</td></tr><tr><td>neg_mape</td><td>-0.1652</td></tr><tr><td>neg_mae</td><td>-526.7311</td></tr><tr><td>neg_rmse</td><td>-1104.27656</td></tr></table>"
     },
     "metadata": {},
     "output_type": "display_data"
    },
    {
     "data": {
      "text/plain": "<IPython.core.display.HTML object>",
      "text/html": "<h3>Run history:</h3><br/><style>\n    table.wandb td:nth-child(1) { padding: 0 10px; text-align: right }\n    </style><table class=\"wandb\">\n<tr><td>r2</td><td>▁</td></tr><tr><td>_runtime</td><td>▁▁▁▁</td></tr><tr><td>_timestamp</td><td>▁▁▁▁</td></tr><tr><td>_step</td><td>▁▃▆█</td></tr><tr><td>neg_mape</td><td>▁</td></tr><tr><td>neg_mae</td><td>▁</td></tr><tr><td>neg_rmse</td><td>▁</td></tr></table><br/>"
     },
     "metadata": {},
     "output_type": "display_data"
    },
    {
     "data": {
      "text/plain": "<IPython.core.display.HTML object>",
      "text/html": "Synced 4 W&B file(s), 0 media file(s), 0 artifact file(s) and 0 other file(s)"
     },
     "metadata": {},
     "output_type": "display_data"
    },
    {
     "data": {
      "text/plain": "<IPython.core.display.HTML object>",
      "text/html": "\n                    <br/>Synced <strong style=\"color:#cdcd00\">eager-sweep-10</strong>: <a href=\"https://wandb.ai/devcore/Metriken%20Bauwesen%20Sweeps/runs/gi59b7dp\" target=\"_blank\">https://wandb.ai/devcore/Metriken%20Bauwesen%20Sweeps/runs/gi59b7dp</a><br/>\n                "
     },
     "metadata": {},
     "output_type": "display_data"
    },
    {
     "data": {
      "text/plain": "<IPython.core.display.HTML object>",
      "text/html": "\n                Tracking run with wandb version 0.11.0<br/>\n                Syncing run <strong style=\"color:#cdcd00\">sparkling-sweep-11</strong> to <a href=\"https://wandb.ai\" target=\"_blank\">Weights & Biases</a> <a href=\"https://docs.wandb.com/integrations/jupyter.html\" target=\"_blank\">(Documentation)</a>.<br/>\n                Project page: <a href=\"https://wandb.ai/devcore/Metriken%20Bauwesen%20Sweeps\" target=\"_blank\">https://wandb.ai/devcore/Metriken%20Bauwesen%20Sweeps</a><br/>\n                Sweep page: <a href=\"https://wandb.ai/devcore/Metriken%20Bauwesen%20Sweeps/sweeps/aslqb1cw\" target=\"_blank\">https://wandb.ai/devcore/Metriken%20Bauwesen%20Sweeps/sweeps/aslqb1cw</a><br/>\nRun page: <a href=\"https://wandb.ai/devcore/Metriken%20Bauwesen%20Sweeps/runs/68xdedmu\" target=\"_blank\">https://wandb.ai/devcore/Metriken%20Bauwesen%20Sweeps/runs/68xdedmu</a><br/>\n                Run data is saved locally in <code>D:\\Development\\FHNW\\ip5-metriken-bauwesen\\src\\weight_and_bias\\wandb\\run-20210813_101040-68xdedmu</code><br/><br/>\n            "
     },
     "metadata": {},
     "output_type": "display_data"
    },
    {
     "data": {
      "text/plain": "<IPython.core.display.HTML object>",
      "text/html": "<br/>Waiting for W&B process to finish, PID 15064<br/>Program ended successfully."
     },
     "metadata": {},
     "output_type": "display_data"
    },
    {
     "data": {
      "text/plain": "VBox(children=(Label(value=' 0.00MB of 0.00MB uploaded (0.00MB deduped)\\r'), FloatProgress(value=1.0, max=1.0)…",
      "application/vnd.jupyter.widget-view+json": {
       "version_major": 2,
       "version_minor": 0,
       "model_id": "28afcec1263c40c8b1079b4dc91961f8"
      }
     },
     "metadata": {},
     "output_type": "display_data"
    },
    {
     "data": {
      "text/plain": "<IPython.core.display.HTML object>",
      "text/html": "Find user logs for this run at: <code>D:\\Development\\FHNW\\ip5-metriken-bauwesen\\src\\weight_and_bias\\wandb\\run-20210813_101040-68xdedmu\\logs\\debug.log</code>"
     },
     "metadata": {},
     "output_type": "display_data"
    },
    {
     "data": {
      "text/plain": "<IPython.core.display.HTML object>",
      "text/html": "Find internal logs for this run at: <code>D:\\Development\\FHNW\\ip5-metriken-bauwesen\\src\\weight_and_bias\\wandb\\run-20210813_101040-68xdedmu\\logs\\debug-internal.log</code>"
     },
     "metadata": {},
     "output_type": "display_data"
    },
    {
     "data": {
      "text/plain": "<IPython.core.display.HTML object>",
      "text/html": "<h3>Run summary:</h3><br/><style>\n    table.wandb td:nth-child(1) { padding: 0 10px; text-align: right }\n    </style><table class=\"wandb\">\n<tr><td>r2</td><td>0.90961</td></tr><tr><td>_runtime</td><td>11</td></tr><tr><td>_timestamp</td><td>1628842251</td></tr><tr><td>_step</td><td>3</td></tr><tr><td>neg_mape</td><td>-0.15975</td></tr><tr><td>neg_mae</td><td>-529.96663</td></tr><tr><td>neg_rmse</td><td>-1135.20291</td></tr></table>"
     },
     "metadata": {},
     "output_type": "display_data"
    },
    {
     "data": {
      "text/plain": "<IPython.core.display.HTML object>",
      "text/html": "<h3>Run history:</h3><br/><style>\n    table.wandb td:nth-child(1) { padding: 0 10px; text-align: right }\n    </style><table class=\"wandb\">\n<tr><td>r2</td><td>▁</td></tr><tr><td>_runtime</td><td>▁▁▁▁</td></tr><tr><td>_timestamp</td><td>▁▁▁▁</td></tr><tr><td>_step</td><td>▁▃▆█</td></tr><tr><td>neg_mape</td><td>▁</td></tr><tr><td>neg_mae</td><td>▁</td></tr><tr><td>neg_rmse</td><td>▁</td></tr></table><br/>"
     },
     "metadata": {},
     "output_type": "display_data"
    },
    {
     "data": {
      "text/plain": "<IPython.core.display.HTML object>",
      "text/html": "Synced 4 W&B file(s), 0 media file(s), 0 artifact file(s) and 0 other file(s)"
     },
     "metadata": {},
     "output_type": "display_data"
    },
    {
     "data": {
      "text/plain": "<IPython.core.display.HTML object>",
      "text/html": "\n                    <br/>Synced <strong style=\"color:#cdcd00\">sparkling-sweep-11</strong>: <a href=\"https://wandb.ai/devcore/Metriken%20Bauwesen%20Sweeps/runs/68xdedmu\" target=\"_blank\">https://wandb.ai/devcore/Metriken%20Bauwesen%20Sweeps/runs/68xdedmu</a><br/>\n                "
     },
     "metadata": {},
     "output_type": "display_data"
    },
    {
     "data": {
      "text/plain": "<IPython.core.display.HTML object>",
      "text/html": "\n                Tracking run with wandb version 0.11.0<br/>\n                Syncing run <strong style=\"color:#cdcd00\">efficient-sweep-12</strong> to <a href=\"https://wandb.ai\" target=\"_blank\">Weights & Biases</a> <a href=\"https://docs.wandb.com/integrations/jupyter.html\" target=\"_blank\">(Documentation)</a>.<br/>\n                Project page: <a href=\"https://wandb.ai/devcore/Metriken%20Bauwesen%20Sweeps\" target=\"_blank\">https://wandb.ai/devcore/Metriken%20Bauwesen%20Sweeps</a><br/>\n                Sweep page: <a href=\"https://wandb.ai/devcore/Metriken%20Bauwesen%20Sweeps/sweeps/aslqb1cw\" target=\"_blank\">https://wandb.ai/devcore/Metriken%20Bauwesen%20Sweeps/sweeps/aslqb1cw</a><br/>\nRun page: <a href=\"https://wandb.ai/devcore/Metriken%20Bauwesen%20Sweeps/runs/b181y6ek\" target=\"_blank\">https://wandb.ai/devcore/Metriken%20Bauwesen%20Sweeps/runs/b181y6ek</a><br/>\n                Run data is saved locally in <code>D:\\Development\\FHNW\\ip5-metriken-bauwesen\\src\\weight_and_bias\\wandb\\run-20210813_101056-b181y6ek</code><br/><br/>\n            "
     },
     "metadata": {},
     "output_type": "display_data"
    },
    {
     "data": {
      "text/plain": "<IPython.core.display.HTML object>",
      "text/html": "<br/>Waiting for W&B process to finish, PID 11164<br/>Program ended successfully."
     },
     "metadata": {},
     "output_type": "display_data"
    },
    {
     "data": {
      "text/plain": "VBox(children=(Label(value=' 0.00MB of 0.00MB uploaded (0.00MB deduped)\\r'), FloatProgress(value=1.0, max=1.0)…",
      "application/vnd.jupyter.widget-view+json": {
       "version_major": 2,
       "version_minor": 0,
       "model_id": "9ffe2b81aa464d53ae6cecd808cfe085"
      }
     },
     "metadata": {},
     "output_type": "display_data"
    },
    {
     "data": {
      "text/plain": "<IPython.core.display.HTML object>",
      "text/html": "Find user logs for this run at: <code>D:\\Development\\FHNW\\ip5-metriken-bauwesen\\src\\weight_and_bias\\wandb\\run-20210813_101056-b181y6ek\\logs\\debug.log</code>"
     },
     "metadata": {},
     "output_type": "display_data"
    },
    {
     "data": {
      "text/plain": "<IPython.core.display.HTML object>",
      "text/html": "Find internal logs for this run at: <code>D:\\Development\\FHNW\\ip5-metriken-bauwesen\\src\\weight_and_bias\\wandb\\run-20210813_101056-b181y6ek\\logs\\debug-internal.log</code>"
     },
     "metadata": {},
     "output_type": "display_data"
    },
    {
     "data": {
      "text/plain": "<IPython.core.display.HTML object>",
      "text/html": "<h3>Run summary:</h3><br/><style>\n    table.wandb td:nth-child(1) { padding: 0 10px; text-align: right }\n    </style><table class=\"wandb\">\n<tr><td>r2</td><td>0.91577</td></tr><tr><td>_runtime</td><td>33</td></tr><tr><td>_timestamp</td><td>1628842289</td></tr><tr><td>_step</td><td>3</td></tr><tr><td>neg_mape</td><td>-0.15152</td></tr><tr><td>neg_mae</td><td>-499.9976</td></tr><tr><td>neg_rmse</td><td>-1084.5186</td></tr></table>"
     },
     "metadata": {},
     "output_type": "display_data"
    },
    {
     "data": {
      "text/plain": "<IPython.core.display.HTML object>",
      "text/html": "<h3>Run history:</h3><br/><style>\n    table.wandb td:nth-child(1) { padding: 0 10px; text-align: right }\n    </style><table class=\"wandb\">\n<tr><td>r2</td><td>▁</td></tr><tr><td>_runtime</td><td>▁▁▁▁</td></tr><tr><td>_timestamp</td><td>▁▁▁▁</td></tr><tr><td>_step</td><td>▁▃▆█</td></tr><tr><td>neg_mape</td><td>▁</td></tr><tr><td>neg_mae</td><td>▁</td></tr><tr><td>neg_rmse</td><td>▁</td></tr></table><br/>"
     },
     "metadata": {},
     "output_type": "display_data"
    },
    {
     "data": {
      "text/plain": "<IPython.core.display.HTML object>",
      "text/html": "Synced 4 W&B file(s), 0 media file(s), 0 artifact file(s) and 0 other file(s)"
     },
     "metadata": {},
     "output_type": "display_data"
    },
    {
     "data": {
      "text/plain": "<IPython.core.display.HTML object>",
      "text/html": "\n                    <br/>Synced <strong style=\"color:#cdcd00\">efficient-sweep-12</strong>: <a href=\"https://wandb.ai/devcore/Metriken%20Bauwesen%20Sweeps/runs/b181y6ek\" target=\"_blank\">https://wandb.ai/devcore/Metriken%20Bauwesen%20Sweeps/runs/b181y6ek</a><br/>\n                "
     },
     "metadata": {},
     "output_type": "display_data"
    },
    {
     "data": {
      "text/plain": "<IPython.core.display.HTML object>",
      "text/html": "\n                Tracking run with wandb version 0.11.0<br/>\n                Syncing run <strong style=\"color:#cdcd00\">brisk-sweep-13</strong> to <a href=\"https://wandb.ai\" target=\"_blank\">Weights & Biases</a> <a href=\"https://docs.wandb.com/integrations/jupyter.html\" target=\"_blank\">(Documentation)</a>.<br/>\n                Project page: <a href=\"https://wandb.ai/devcore/Metriken%20Bauwesen%20Sweeps\" target=\"_blank\">https://wandb.ai/devcore/Metriken%20Bauwesen%20Sweeps</a><br/>\n                Sweep page: <a href=\"https://wandb.ai/devcore/Metriken%20Bauwesen%20Sweeps/sweeps/aslqb1cw\" target=\"_blank\">https://wandb.ai/devcore/Metriken%20Bauwesen%20Sweeps/sweeps/aslqb1cw</a><br/>\nRun page: <a href=\"https://wandb.ai/devcore/Metriken%20Bauwesen%20Sweeps/runs/rtb6vx7n\" target=\"_blank\">https://wandb.ai/devcore/Metriken%20Bauwesen%20Sweeps/runs/rtb6vx7n</a><br/>\n                Run data is saved locally in <code>D:\\Development\\FHNW\\ip5-metriken-bauwesen\\src\\weight_and_bias\\wandb\\run-20210813_101134-rtb6vx7n</code><br/><br/>\n            "
     },
     "metadata": {},
     "output_type": "display_data"
    },
    {
     "data": {
      "text/plain": "<IPython.core.display.HTML object>",
      "text/html": "<br/>Waiting for W&B process to finish, PID 21688<br/>Program ended successfully."
     },
     "metadata": {},
     "output_type": "display_data"
    },
    {
     "data": {
      "text/plain": "VBox(children=(Label(value=' 0.00MB of 0.00MB uploaded (0.00MB deduped)\\r'), FloatProgress(value=1.0, max=1.0)…",
      "application/vnd.jupyter.widget-view+json": {
       "version_major": 2,
       "version_minor": 0,
       "model_id": "21795fe76c754a99a76cf30abfa7e9f9"
      }
     },
     "metadata": {},
     "output_type": "display_data"
    },
    {
     "data": {
      "text/plain": "<IPython.core.display.HTML object>",
      "text/html": "Find user logs for this run at: <code>D:\\Development\\FHNW\\ip5-metriken-bauwesen\\src\\weight_and_bias\\wandb\\run-20210813_101134-rtb6vx7n\\logs\\debug.log</code>"
     },
     "metadata": {},
     "output_type": "display_data"
    },
    {
     "data": {
      "text/plain": "<IPython.core.display.HTML object>",
      "text/html": "Find internal logs for this run at: <code>D:\\Development\\FHNW\\ip5-metriken-bauwesen\\src\\weight_and_bias\\wandb\\run-20210813_101134-rtb6vx7n\\logs\\debug-internal.log</code>"
     },
     "metadata": {},
     "output_type": "display_data"
    },
    {
     "data": {
      "text/plain": "<IPython.core.display.HTML object>",
      "text/html": "<h3>Run summary:</h3><br/><style>\n    table.wandb td:nth-child(1) { padding: 0 10px; text-align: right }\n    </style><table class=\"wandb\">\n<tr><td>r2</td><td>0.91186</td></tr><tr><td>_runtime</td><td>58</td></tr><tr><td>_timestamp</td><td>1628842352</td></tr><tr><td>_step</td><td>3</td></tr><tr><td>neg_mape</td><td>-0.15924</td></tr><tr><td>neg_mae</td><td>-512.61005</td></tr><tr><td>neg_rmse</td><td>-1114.28463</td></tr></table>"
     },
     "metadata": {},
     "output_type": "display_data"
    },
    {
     "data": {
      "text/plain": "<IPython.core.display.HTML object>",
      "text/html": "<h3>Run history:</h3><br/><style>\n    table.wandb td:nth-child(1) { padding: 0 10px; text-align: right }\n    </style><table class=\"wandb\">\n<tr><td>r2</td><td>▁</td></tr><tr><td>_runtime</td><td>▁▁▁▁</td></tr><tr><td>_timestamp</td><td>▁▁▁▁</td></tr><tr><td>_step</td><td>▁▃▆█</td></tr><tr><td>neg_mape</td><td>▁</td></tr><tr><td>neg_mae</td><td>▁</td></tr><tr><td>neg_rmse</td><td>▁</td></tr></table><br/>"
     },
     "metadata": {},
     "output_type": "display_data"
    },
    {
     "data": {
      "text/plain": "<IPython.core.display.HTML object>",
      "text/html": "Synced 4 W&B file(s), 0 media file(s), 0 artifact file(s) and 0 other file(s)"
     },
     "metadata": {},
     "output_type": "display_data"
    },
    {
     "data": {
      "text/plain": "<IPython.core.display.HTML object>",
      "text/html": "\n                    <br/>Synced <strong style=\"color:#cdcd00\">brisk-sweep-13</strong>: <a href=\"https://wandb.ai/devcore/Metriken%20Bauwesen%20Sweeps/runs/rtb6vx7n\" target=\"_blank\">https://wandb.ai/devcore/Metriken%20Bauwesen%20Sweeps/runs/rtb6vx7n</a><br/>\n                "
     },
     "metadata": {},
     "output_type": "display_data"
    },
    {
     "data": {
      "text/plain": "<IPython.core.display.HTML object>",
      "text/html": "\n                Tracking run with wandb version 0.11.0<br/>\n                Syncing run <strong style=\"color:#cdcd00\">swift-sweep-14</strong> to <a href=\"https://wandb.ai\" target=\"_blank\">Weights & Biases</a> <a href=\"https://docs.wandb.com/integrations/jupyter.html\" target=\"_blank\">(Documentation)</a>.<br/>\n                Project page: <a href=\"https://wandb.ai/devcore/Metriken%20Bauwesen%20Sweeps\" target=\"_blank\">https://wandb.ai/devcore/Metriken%20Bauwesen%20Sweeps</a><br/>\n                Sweep page: <a href=\"https://wandb.ai/devcore/Metriken%20Bauwesen%20Sweeps/sweeps/aslqb1cw\" target=\"_blank\">https://wandb.ai/devcore/Metriken%20Bauwesen%20Sweeps/sweeps/aslqb1cw</a><br/>\nRun page: <a href=\"https://wandb.ai/devcore/Metriken%20Bauwesen%20Sweeps/runs/4td93n45\" target=\"_blank\">https://wandb.ai/devcore/Metriken%20Bauwesen%20Sweeps/runs/4td93n45</a><br/>\n                Run data is saved locally in <code>D:\\Development\\FHNW\\ip5-metriken-bauwesen\\src\\weight_and_bias\\wandb\\run-20210813_101236-4td93n45</code><br/><br/>\n            "
     },
     "metadata": {},
     "output_type": "display_data"
    },
    {
     "data": {
      "text/plain": "<IPython.core.display.HTML object>",
      "text/html": "<br/>Waiting for W&B process to finish, PID 14676<br/>Program ended successfully."
     },
     "metadata": {},
     "output_type": "display_data"
    },
    {
     "data": {
      "text/plain": "VBox(children=(Label(value=' 0.00MB of 0.00MB uploaded (0.00MB deduped)\\r'), FloatProgress(value=1.0, max=1.0)…",
      "application/vnd.jupyter.widget-view+json": {
       "version_major": 2,
       "version_minor": 0,
       "model_id": "31f8817867404549a986bdb8773c9c5e"
      }
     },
     "metadata": {},
     "output_type": "display_data"
    },
    {
     "data": {
      "text/plain": "<IPython.core.display.HTML object>",
      "text/html": "Find user logs for this run at: <code>D:\\Development\\FHNW\\ip5-metriken-bauwesen\\src\\weight_and_bias\\wandb\\run-20210813_101236-4td93n45\\logs\\debug.log</code>"
     },
     "metadata": {},
     "output_type": "display_data"
    },
    {
     "data": {
      "text/plain": "<IPython.core.display.HTML object>",
      "text/html": "Find internal logs for this run at: <code>D:\\Development\\FHNW\\ip5-metriken-bauwesen\\src\\weight_and_bias\\wandb\\run-20210813_101236-4td93n45\\logs\\debug-internal.log</code>"
     },
     "metadata": {},
     "output_type": "display_data"
    },
    {
     "data": {
      "text/plain": "<IPython.core.display.HTML object>",
      "text/html": "<h3>Run summary:</h3><br/><style>\n    table.wandb td:nth-child(1) { padding: 0 10px; text-align: right }\n    </style><table class=\"wandb\">\n<tr><td>r2</td><td>0.91524</td></tr><tr><td>_runtime</td><td>28</td></tr><tr><td>_timestamp</td><td>1628842384</td></tr><tr><td>_step</td><td>3</td></tr><tr><td>neg_mape</td><td>-0.16088</td></tr><tr><td>neg_mae</td><td>-526.51896</td></tr><tr><td>neg_rmse</td><td>-1089.04958</td></tr></table>"
     },
     "metadata": {},
     "output_type": "display_data"
    },
    {
     "data": {
      "text/plain": "<IPython.core.display.HTML object>",
      "text/html": "<h3>Run history:</h3><br/><style>\n    table.wandb td:nth-child(1) { padding: 0 10px; text-align: right }\n    </style><table class=\"wandb\">\n<tr><td>r2</td><td>▁</td></tr><tr><td>_runtime</td><td>▁▁▁▁</td></tr><tr><td>_timestamp</td><td>▁▁▁▁</td></tr><tr><td>_step</td><td>▁▃▆█</td></tr><tr><td>neg_mape</td><td>▁</td></tr><tr><td>neg_mae</td><td>▁</td></tr><tr><td>neg_rmse</td><td>▁</td></tr></table><br/>"
     },
     "metadata": {},
     "output_type": "display_data"
    },
    {
     "data": {
      "text/plain": "<IPython.core.display.HTML object>",
      "text/html": "Synced 4 W&B file(s), 0 media file(s), 0 artifact file(s) and 0 other file(s)"
     },
     "metadata": {},
     "output_type": "display_data"
    },
    {
     "data": {
      "text/plain": "<IPython.core.display.HTML object>",
      "text/html": "\n                    <br/>Synced <strong style=\"color:#cdcd00\">swift-sweep-14</strong>: <a href=\"https://wandb.ai/devcore/Metriken%20Bauwesen%20Sweeps/runs/4td93n45\" target=\"_blank\">https://wandb.ai/devcore/Metriken%20Bauwesen%20Sweeps/runs/4td93n45</a><br/>\n                "
     },
     "metadata": {},
     "output_type": "display_data"
    },
    {
     "data": {
      "text/plain": "<IPython.core.display.HTML object>",
      "text/html": "\n                Tracking run with wandb version 0.11.0<br/>\n                Syncing run <strong style=\"color:#cdcd00\">zany-sweep-15</strong> to <a href=\"https://wandb.ai\" target=\"_blank\">Weights & Biases</a> <a href=\"https://docs.wandb.com/integrations/jupyter.html\" target=\"_blank\">(Documentation)</a>.<br/>\n                Project page: <a href=\"https://wandb.ai/devcore/Metriken%20Bauwesen%20Sweeps\" target=\"_blank\">https://wandb.ai/devcore/Metriken%20Bauwesen%20Sweeps</a><br/>\n                Sweep page: <a href=\"https://wandb.ai/devcore/Metriken%20Bauwesen%20Sweeps/sweeps/aslqb1cw\" target=\"_blank\">https://wandb.ai/devcore/Metriken%20Bauwesen%20Sweeps/sweeps/aslqb1cw</a><br/>\nRun page: <a href=\"https://wandb.ai/devcore/Metriken%20Bauwesen%20Sweeps/runs/udtinxdj\" target=\"_blank\">https://wandb.ai/devcore/Metriken%20Bauwesen%20Sweeps/runs/udtinxdj</a><br/>\n                Run data is saved locally in <code>D:\\Development\\FHNW\\ip5-metriken-bauwesen\\src\\weight_and_bias\\wandb\\run-20210813_101308-udtinxdj</code><br/><br/>\n            "
     },
     "metadata": {},
     "output_type": "display_data"
    },
    {
     "data": {
      "text/plain": "<IPython.core.display.HTML object>",
      "text/html": "<br/>Waiting for W&B process to finish, PID 13060<br/>Program ended successfully."
     },
     "metadata": {},
     "output_type": "display_data"
    },
    {
     "data": {
      "text/plain": "VBox(children=(Label(value=' 0.00MB of 0.00MB uploaded (0.00MB deduped)\\r'), FloatProgress(value=1.0, max=1.0)…",
      "application/vnd.jupyter.widget-view+json": {
       "version_major": 2,
       "version_minor": 0,
       "model_id": "28be0fab7a2d48b6bfec19f45192f8fc"
      }
     },
     "metadata": {},
     "output_type": "display_data"
    },
    {
     "data": {
      "text/plain": "<IPython.core.display.HTML object>",
      "text/html": "Find user logs for this run at: <code>D:\\Development\\FHNW\\ip5-metriken-bauwesen\\src\\weight_and_bias\\wandb\\run-20210813_101308-udtinxdj\\logs\\debug.log</code>"
     },
     "metadata": {},
     "output_type": "display_data"
    },
    {
     "data": {
      "text/plain": "<IPython.core.display.HTML object>",
      "text/html": "Find internal logs for this run at: <code>D:\\Development\\FHNW\\ip5-metriken-bauwesen\\src\\weight_and_bias\\wandb\\run-20210813_101308-udtinxdj\\logs\\debug-internal.log</code>"
     },
     "metadata": {},
     "output_type": "display_data"
    },
    {
     "data": {
      "text/plain": "<IPython.core.display.HTML object>",
      "text/html": "<h3>Run summary:</h3><br/><style>\n    table.wandb td:nth-child(1) { padding: 0 10px; text-align: right }\n    </style><table class=\"wandb\">\n<tr><td>r2</td><td>0.90857</td></tr><tr><td>_runtime</td><td>15</td></tr><tr><td>_timestamp</td><td>1628842403</td></tr><tr><td>_step</td><td>3</td></tr><tr><td>neg_mape</td><td>-0.15899</td></tr><tr><td>neg_mae</td><td>-522.41475</td></tr><tr><td>neg_rmse</td><td>-1108.45267</td></tr></table>"
     },
     "metadata": {},
     "output_type": "display_data"
    },
    {
     "data": {
      "text/plain": "<IPython.core.display.HTML object>",
      "text/html": "<h3>Run history:</h3><br/><style>\n    table.wandb td:nth-child(1) { padding: 0 10px; text-align: right }\n    </style><table class=\"wandb\">\n<tr><td>r2</td><td>▁</td></tr><tr><td>_runtime</td><td>▁▁▁▁</td></tr><tr><td>_timestamp</td><td>▁▁▁▁</td></tr><tr><td>_step</td><td>▁▃▆█</td></tr><tr><td>neg_mape</td><td>▁</td></tr><tr><td>neg_mae</td><td>▁</td></tr><tr><td>neg_rmse</td><td>▁</td></tr></table><br/>"
     },
     "metadata": {},
     "output_type": "display_data"
    },
    {
     "data": {
      "text/plain": "<IPython.core.display.HTML object>",
      "text/html": "Synced 4 W&B file(s), 0 media file(s), 0 artifact file(s) and 0 other file(s)"
     },
     "metadata": {},
     "output_type": "display_data"
    },
    {
     "data": {
      "text/plain": "<IPython.core.display.HTML object>",
      "text/html": "\n                    <br/>Synced <strong style=\"color:#cdcd00\">zany-sweep-15</strong>: <a href=\"https://wandb.ai/devcore/Metriken%20Bauwesen%20Sweeps/runs/udtinxdj\" target=\"_blank\">https://wandb.ai/devcore/Metriken%20Bauwesen%20Sweeps/runs/udtinxdj</a><br/>\n                "
     },
     "metadata": {},
     "output_type": "display_data"
    },
    {
     "data": {
      "text/plain": "<IPython.core.display.HTML object>",
      "text/html": "\n                Tracking run with wandb version 0.11.0<br/>\n                Syncing run <strong style=\"color:#cdcd00\">fanciful-sweep-16</strong> to <a href=\"https://wandb.ai\" target=\"_blank\">Weights & Biases</a> <a href=\"https://docs.wandb.com/integrations/jupyter.html\" target=\"_blank\">(Documentation)</a>.<br/>\n                Project page: <a href=\"https://wandb.ai/devcore/Metriken%20Bauwesen%20Sweeps\" target=\"_blank\">https://wandb.ai/devcore/Metriken%20Bauwesen%20Sweeps</a><br/>\n                Sweep page: <a href=\"https://wandb.ai/devcore/Metriken%20Bauwesen%20Sweeps/sweeps/aslqb1cw\" target=\"_blank\">https://wandb.ai/devcore/Metriken%20Bauwesen%20Sweeps/sweeps/aslqb1cw</a><br/>\nRun page: <a href=\"https://wandb.ai/devcore/Metriken%20Bauwesen%20Sweeps/runs/9xptjuo4\" target=\"_blank\">https://wandb.ai/devcore/Metriken%20Bauwesen%20Sweeps/runs/9xptjuo4</a><br/>\n                Run data is saved locally in <code>D:\\Development\\FHNW\\ip5-metriken-bauwesen\\src\\weight_and_bias\\wandb\\run-20210813_101329-9xptjuo4</code><br/><br/>\n            "
     },
     "metadata": {},
     "output_type": "display_data"
    },
    {
     "data": {
      "text/plain": "<IPython.core.display.HTML object>",
      "text/html": "<br/>Waiting for W&B process to finish, PID 17844<br/>Program ended successfully."
     },
     "metadata": {},
     "output_type": "display_data"
    },
    {
     "data": {
      "text/plain": "VBox(children=(Label(value=' 0.00MB of 0.00MB uploaded (0.00MB deduped)\\r'), FloatProgress(value=1.0, max=1.0)…",
      "application/vnd.jupyter.widget-view+json": {
       "version_major": 2,
       "version_minor": 0,
       "model_id": "1f466aa560944422b74c2d68c3e6b2a6"
      }
     },
     "metadata": {},
     "output_type": "display_data"
    },
    {
     "data": {
      "text/plain": "<IPython.core.display.HTML object>",
      "text/html": "Find user logs for this run at: <code>D:\\Development\\FHNW\\ip5-metriken-bauwesen\\src\\weight_and_bias\\wandb\\run-20210813_101329-9xptjuo4\\logs\\debug.log</code>"
     },
     "metadata": {},
     "output_type": "display_data"
    },
    {
     "data": {
      "text/plain": "<IPython.core.display.HTML object>",
      "text/html": "Find internal logs for this run at: <code>D:\\Development\\FHNW\\ip5-metriken-bauwesen\\src\\weight_and_bias\\wandb\\run-20210813_101329-9xptjuo4\\logs\\debug-internal.log</code>"
     },
     "metadata": {},
     "output_type": "display_data"
    },
    {
     "data": {
      "text/plain": "<IPython.core.display.HTML object>",
      "text/html": "<h3>Run summary:</h3><br/><style>\n    table.wandb td:nth-child(1) { padding: 0 10px; text-align: right }\n    </style><table class=\"wandb\">\n<tr><td>r2</td><td>0.92294</td></tr><tr><td>_runtime</td><td>33</td></tr><tr><td>_timestamp</td><td>1628842442</td></tr><tr><td>_step</td><td>3</td></tr><tr><td>neg_mape</td><td>-0.16267</td></tr><tr><td>neg_mae</td><td>-513.26386</td></tr><tr><td>neg_rmse</td><td>-1047.90077</td></tr></table>"
     },
     "metadata": {},
     "output_type": "display_data"
    },
    {
     "data": {
      "text/plain": "<IPython.core.display.HTML object>",
      "text/html": "<h3>Run history:</h3><br/><style>\n    table.wandb td:nth-child(1) { padding: 0 10px; text-align: right }\n    </style><table class=\"wandb\">\n<tr><td>r2</td><td>▁</td></tr><tr><td>_runtime</td><td>▁▁▁▁</td></tr><tr><td>_timestamp</td><td>▁▁▁▁</td></tr><tr><td>_step</td><td>▁▃▆█</td></tr><tr><td>neg_mape</td><td>▁</td></tr><tr><td>neg_mae</td><td>▁</td></tr><tr><td>neg_rmse</td><td>▁</td></tr></table><br/>"
     },
     "metadata": {},
     "output_type": "display_data"
    },
    {
     "data": {
      "text/plain": "<IPython.core.display.HTML object>",
      "text/html": "Synced 4 W&B file(s), 0 media file(s), 0 artifact file(s) and 0 other file(s)"
     },
     "metadata": {},
     "output_type": "display_data"
    },
    {
     "data": {
      "text/plain": "<IPython.core.display.HTML object>",
      "text/html": "\n                    <br/>Synced <strong style=\"color:#cdcd00\">fanciful-sweep-16</strong>: <a href=\"https://wandb.ai/devcore/Metriken%20Bauwesen%20Sweeps/runs/9xptjuo4\" target=\"_blank\">https://wandb.ai/devcore/Metriken%20Bauwesen%20Sweeps/runs/9xptjuo4</a><br/>\n                "
     },
     "metadata": {},
     "output_type": "display_data"
    },
    {
     "data": {
      "text/plain": "<IPython.core.display.HTML object>",
      "text/html": "\n                Tracking run with wandb version 0.11.0<br/>\n                Syncing run <strong style=\"color:#cdcd00\">fallen-sweep-17</strong> to <a href=\"https://wandb.ai\" target=\"_blank\">Weights & Biases</a> <a href=\"https://docs.wandb.com/integrations/jupyter.html\" target=\"_blank\">(Documentation)</a>.<br/>\n                Project page: <a href=\"https://wandb.ai/devcore/Metriken%20Bauwesen%20Sweeps\" target=\"_blank\">https://wandb.ai/devcore/Metriken%20Bauwesen%20Sweeps</a><br/>\n                Sweep page: <a href=\"https://wandb.ai/devcore/Metriken%20Bauwesen%20Sweeps/sweeps/aslqb1cw\" target=\"_blank\">https://wandb.ai/devcore/Metriken%20Bauwesen%20Sweeps/sweeps/aslqb1cw</a><br/>\nRun page: <a href=\"https://wandb.ai/devcore/Metriken%20Bauwesen%20Sweeps/runs/qg7ptdwl\" target=\"_blank\">https://wandb.ai/devcore/Metriken%20Bauwesen%20Sweeps/runs/qg7ptdwl</a><br/>\n                Run data is saved locally in <code>D:\\Development\\FHNW\\ip5-metriken-bauwesen\\src\\weight_and_bias\\wandb\\run-20210813_101406-qg7ptdwl</code><br/><br/>\n            "
     },
     "metadata": {},
     "output_type": "display_data"
    },
    {
     "data": {
      "text/plain": "<IPython.core.display.HTML object>",
      "text/html": "<br/>Waiting for W&B process to finish, PID 21908<br/>Program ended successfully."
     },
     "metadata": {},
     "output_type": "display_data"
    },
    {
     "data": {
      "text/plain": "VBox(children=(Label(value=' 0.00MB of 0.00MB uploaded (0.00MB deduped)\\r'), FloatProgress(value=1.0, max=1.0)…",
      "application/vnd.jupyter.widget-view+json": {
       "version_major": 2,
       "version_minor": 0,
       "model_id": "2c43c00188084a27be7ce22e0cb35510"
      }
     },
     "metadata": {},
     "output_type": "display_data"
    },
    {
     "data": {
      "text/plain": "<IPython.core.display.HTML object>",
      "text/html": "Find user logs for this run at: <code>D:\\Development\\FHNW\\ip5-metriken-bauwesen\\src\\weight_and_bias\\wandb\\run-20210813_101406-qg7ptdwl\\logs\\debug.log</code>"
     },
     "metadata": {},
     "output_type": "display_data"
    },
    {
     "data": {
      "text/plain": "<IPython.core.display.HTML object>",
      "text/html": "Find internal logs for this run at: <code>D:\\Development\\FHNW\\ip5-metriken-bauwesen\\src\\weight_and_bias\\wandb\\run-20210813_101406-qg7ptdwl\\logs\\debug-internal.log</code>"
     },
     "metadata": {},
     "output_type": "display_data"
    },
    {
     "data": {
      "text/plain": "<IPython.core.display.HTML object>",
      "text/html": "<h3>Run summary:</h3><br/><style>\n    table.wandb td:nth-child(1) { padding: 0 10px; text-align: right }\n    </style><table class=\"wandb\">\n<tr><td>r2</td><td>0.89216</td></tr><tr><td>_runtime</td><td>12</td></tr><tr><td>_timestamp</td><td>1628842458</td></tr><tr><td>_step</td><td>3</td></tr><tr><td>neg_mape</td><td>-0.16366</td></tr><tr><td>neg_mae</td><td>-550.00447</td></tr><tr><td>neg_rmse</td><td>-1204.58543</td></tr></table>"
     },
     "metadata": {},
     "output_type": "display_data"
    },
    {
     "data": {
      "text/plain": "<IPython.core.display.HTML object>",
      "text/html": "<h3>Run history:</h3><br/><style>\n    table.wandb td:nth-child(1) { padding: 0 10px; text-align: right }\n    </style><table class=\"wandb\">\n<tr><td>r2</td><td>▁</td></tr><tr><td>_runtime</td><td>▁▁▁▁</td></tr><tr><td>_timestamp</td><td>▁▁▁▁</td></tr><tr><td>_step</td><td>▁▃▆█</td></tr><tr><td>neg_mape</td><td>▁</td></tr><tr><td>neg_mae</td><td>▁</td></tr><tr><td>neg_rmse</td><td>▁</td></tr></table><br/>"
     },
     "metadata": {},
     "output_type": "display_data"
    },
    {
     "data": {
      "text/plain": "<IPython.core.display.HTML object>",
      "text/html": "Synced 4 W&B file(s), 0 media file(s), 0 artifact file(s) and 0 other file(s)"
     },
     "metadata": {},
     "output_type": "display_data"
    },
    {
     "data": {
      "text/plain": "<IPython.core.display.HTML object>",
      "text/html": "\n                    <br/>Synced <strong style=\"color:#cdcd00\">fallen-sweep-17</strong>: <a href=\"https://wandb.ai/devcore/Metriken%20Bauwesen%20Sweeps/runs/qg7ptdwl\" target=\"_blank\">https://wandb.ai/devcore/Metriken%20Bauwesen%20Sweeps/runs/qg7ptdwl</a><br/>\n                "
     },
     "metadata": {},
     "output_type": "display_data"
    },
    {
     "data": {
      "text/plain": "<IPython.core.display.HTML object>",
      "text/html": "\n                Tracking run with wandb version 0.11.0<br/>\n                Syncing run <strong style=\"color:#cdcd00\">gentle-sweep-18</strong> to <a href=\"https://wandb.ai\" target=\"_blank\">Weights & Biases</a> <a href=\"https://docs.wandb.com/integrations/jupyter.html\" target=\"_blank\">(Documentation)</a>.<br/>\n                Project page: <a href=\"https://wandb.ai/devcore/Metriken%20Bauwesen%20Sweeps\" target=\"_blank\">https://wandb.ai/devcore/Metriken%20Bauwesen%20Sweeps</a><br/>\n                Sweep page: <a href=\"https://wandb.ai/devcore/Metriken%20Bauwesen%20Sweeps/sweeps/aslqb1cw\" target=\"_blank\">https://wandb.ai/devcore/Metriken%20Bauwesen%20Sweeps/sweeps/aslqb1cw</a><br/>\nRun page: <a href=\"https://wandb.ai/devcore/Metriken%20Bauwesen%20Sweeps/runs/3vagunet\" target=\"_blank\">https://wandb.ai/devcore/Metriken%20Bauwesen%20Sweeps/runs/3vagunet</a><br/>\n                Run data is saved locally in <code>D:\\Development\\FHNW\\ip5-metriken-bauwesen\\src\\weight_and_bias\\wandb\\run-20210813_101422-3vagunet</code><br/><br/>\n            "
     },
     "metadata": {},
     "output_type": "display_data"
    },
    {
     "data": {
      "text/plain": "<IPython.core.display.HTML object>",
      "text/html": "<br/>Waiting for W&B process to finish, PID 18236<br/>Program ended successfully."
     },
     "metadata": {},
     "output_type": "display_data"
    },
    {
     "data": {
      "text/plain": "VBox(children=(Label(value=' 0.00MB of 0.00MB uploaded (0.00MB deduped)\\r'), FloatProgress(value=1.0, max=1.0)…",
      "application/vnd.jupyter.widget-view+json": {
       "version_major": 2,
       "version_minor": 0,
       "model_id": "481b8500b2aa445bb9e291677d2615e7"
      }
     },
     "metadata": {},
     "output_type": "display_data"
    },
    {
     "data": {
      "text/plain": "<IPython.core.display.HTML object>",
      "text/html": "Find user logs for this run at: <code>D:\\Development\\FHNW\\ip5-metriken-bauwesen\\src\\weight_and_bias\\wandb\\run-20210813_101422-3vagunet\\logs\\debug.log</code>"
     },
     "metadata": {},
     "output_type": "display_data"
    },
    {
     "data": {
      "text/plain": "<IPython.core.display.HTML object>",
      "text/html": "Find internal logs for this run at: <code>D:\\Development\\FHNW\\ip5-metriken-bauwesen\\src\\weight_and_bias\\wandb\\run-20210813_101422-3vagunet\\logs\\debug-internal.log</code>"
     },
     "metadata": {},
     "output_type": "display_data"
    },
    {
     "data": {
      "text/plain": "<IPython.core.display.HTML object>",
      "text/html": "<h3>Run summary:</h3><br/><style>\n    table.wandb td:nth-child(1) { padding: 0 10px; text-align: right }\n    </style><table class=\"wandb\">\n<tr><td>r2</td><td>0.91414</td></tr><tr><td>_runtime</td><td>54</td></tr><tr><td>_timestamp</td><td>1628842516</td></tr><tr><td>_step</td><td>3</td></tr><tr><td>neg_mape</td><td>-0.1584</td></tr><tr><td>neg_mae</td><td>-518.12681</td></tr><tr><td>neg_rmse</td><td>-1098.45617</td></tr></table>"
     },
     "metadata": {},
     "output_type": "display_data"
    },
    {
     "data": {
      "text/plain": "<IPython.core.display.HTML object>",
      "text/html": "<h3>Run history:</h3><br/><style>\n    table.wandb td:nth-child(1) { padding: 0 10px; text-align: right }\n    </style><table class=\"wandb\">\n<tr><td>r2</td><td>▁</td></tr><tr><td>_runtime</td><td>▁▁▁▁</td></tr><tr><td>_timestamp</td><td>▁▁▁▁</td></tr><tr><td>_step</td><td>▁▃▆█</td></tr><tr><td>neg_mape</td><td>▁</td></tr><tr><td>neg_mae</td><td>▁</td></tr><tr><td>neg_rmse</td><td>▁</td></tr></table><br/>"
     },
     "metadata": {},
     "output_type": "display_data"
    },
    {
     "data": {
      "text/plain": "<IPython.core.display.HTML object>",
      "text/html": "Synced 4 W&B file(s), 0 media file(s), 0 artifact file(s) and 0 other file(s)"
     },
     "metadata": {},
     "output_type": "display_data"
    },
    {
     "data": {
      "text/plain": "<IPython.core.display.HTML object>",
      "text/html": "\n                    <br/>Synced <strong style=\"color:#cdcd00\">gentle-sweep-18</strong>: <a href=\"https://wandb.ai/devcore/Metriken%20Bauwesen%20Sweeps/runs/3vagunet\" target=\"_blank\">https://wandb.ai/devcore/Metriken%20Bauwesen%20Sweeps/runs/3vagunet</a><br/>\n                "
     },
     "metadata": {},
     "output_type": "display_data"
    },
    {
     "data": {
      "text/plain": "<IPython.core.display.HTML object>",
      "text/html": "\n                Tracking run with wandb version 0.11.0<br/>\n                Syncing run <strong style=\"color:#cdcd00\">rosy-sweep-19</strong> to <a href=\"https://wandb.ai\" target=\"_blank\">Weights & Biases</a> <a href=\"https://docs.wandb.com/integrations/jupyter.html\" target=\"_blank\">(Documentation)</a>.<br/>\n                Project page: <a href=\"https://wandb.ai/devcore/Metriken%20Bauwesen%20Sweeps\" target=\"_blank\">https://wandb.ai/devcore/Metriken%20Bauwesen%20Sweeps</a><br/>\n                Sweep page: <a href=\"https://wandb.ai/devcore/Metriken%20Bauwesen%20Sweeps/sweeps/aslqb1cw\" target=\"_blank\">https://wandb.ai/devcore/Metriken%20Bauwesen%20Sweeps/sweeps/aslqb1cw</a><br/>\nRun page: <a href=\"https://wandb.ai/devcore/Metriken%20Bauwesen%20Sweeps/runs/eqi1n3qr\" target=\"_blank\">https://wandb.ai/devcore/Metriken%20Bauwesen%20Sweeps/runs/eqi1n3qr</a><br/>\n                Run data is saved locally in <code>D:\\Development\\FHNW\\ip5-metriken-bauwesen\\src\\weight_and_bias\\wandb\\run-20210813_101520-eqi1n3qr</code><br/><br/>\n            "
     },
     "metadata": {},
     "output_type": "display_data"
    },
    {
     "data": {
      "text/plain": "<IPython.core.display.HTML object>",
      "text/html": "<br/>Waiting for W&B process to finish, PID 21500<br/>Program ended successfully."
     },
     "metadata": {},
     "output_type": "display_data"
    },
    {
     "data": {
      "text/plain": "VBox(children=(Label(value=' 0.00MB of 0.00MB uploaded (0.00MB deduped)\\r'), FloatProgress(value=1.0, max=1.0)…",
      "application/vnd.jupyter.widget-view+json": {
       "version_major": 2,
       "version_minor": 0,
       "model_id": "8ece20ade971496ebd35a3b0ab8dcb75"
      }
     },
     "metadata": {},
     "output_type": "display_data"
    },
    {
     "data": {
      "text/plain": "<IPython.core.display.HTML object>",
      "text/html": "Find user logs for this run at: <code>D:\\Development\\FHNW\\ip5-metriken-bauwesen\\src\\weight_and_bias\\wandb\\run-20210813_101520-eqi1n3qr\\logs\\debug.log</code>"
     },
     "metadata": {},
     "output_type": "display_data"
    },
    {
     "data": {
      "text/plain": "<IPython.core.display.HTML object>",
      "text/html": "Find internal logs for this run at: <code>D:\\Development\\FHNW\\ip5-metriken-bauwesen\\src\\weight_and_bias\\wandb\\run-20210813_101520-eqi1n3qr\\logs\\debug-internal.log</code>"
     },
     "metadata": {},
     "output_type": "display_data"
    },
    {
     "data": {
      "text/plain": "<IPython.core.display.HTML object>",
      "text/html": "<h3>Run summary:</h3><br/><style>\n    table.wandb td:nth-child(1) { padding: 0 10px; text-align: right }\n    </style><table class=\"wandb\">\n<tr><td>r2</td><td>0.9077</td></tr><tr><td>_runtime</td><td>16</td></tr><tr><td>_timestamp</td><td>1628842536</td></tr><tr><td>_step</td><td>3</td></tr><tr><td>neg_mape</td><td>-0.16492</td></tr><tr><td>neg_mae</td><td>-547.63887</td></tr><tr><td>neg_rmse</td><td>-1129.79082</td></tr></table>"
     },
     "metadata": {},
     "output_type": "display_data"
    },
    {
     "data": {
      "text/plain": "<IPython.core.display.HTML object>",
      "text/html": "<h3>Run history:</h3><br/><style>\n    table.wandb td:nth-child(1) { padding: 0 10px; text-align: right }\n    </style><table class=\"wandb\">\n<tr><td>r2</td><td>▁</td></tr><tr><td>_runtime</td><td>▁▁▁▁</td></tr><tr><td>_timestamp</td><td>▁▁▁▁</td></tr><tr><td>_step</td><td>▁▃▆█</td></tr><tr><td>neg_mape</td><td>▁</td></tr><tr><td>neg_mae</td><td>▁</td></tr><tr><td>neg_rmse</td><td>▁</td></tr></table><br/>"
     },
     "metadata": {},
     "output_type": "display_data"
    },
    {
     "data": {
      "text/plain": "<IPython.core.display.HTML object>",
      "text/html": "Synced 4 W&B file(s), 0 media file(s), 0 artifact file(s) and 0 other file(s)"
     },
     "metadata": {},
     "output_type": "display_data"
    },
    {
     "data": {
      "text/plain": "<IPython.core.display.HTML object>",
      "text/html": "\n                    <br/>Synced <strong style=\"color:#cdcd00\">rosy-sweep-19</strong>: <a href=\"https://wandb.ai/devcore/Metriken%20Bauwesen%20Sweeps/runs/eqi1n3qr\" target=\"_blank\">https://wandb.ai/devcore/Metriken%20Bauwesen%20Sweeps/runs/eqi1n3qr</a><br/>\n                "
     },
     "metadata": {},
     "output_type": "display_data"
    },
    {
     "data": {
      "text/plain": "<IPython.core.display.HTML object>",
      "text/html": "\n                Tracking run with wandb version 0.11.0<br/>\n                Syncing run <strong style=\"color:#cdcd00\">silver-sweep-20</strong> to <a href=\"https://wandb.ai\" target=\"_blank\">Weights & Biases</a> <a href=\"https://docs.wandb.com/integrations/jupyter.html\" target=\"_blank\">(Documentation)</a>.<br/>\n                Project page: <a href=\"https://wandb.ai/devcore/Metriken%20Bauwesen%20Sweeps\" target=\"_blank\">https://wandb.ai/devcore/Metriken%20Bauwesen%20Sweeps</a><br/>\n                Sweep page: <a href=\"https://wandb.ai/devcore/Metriken%20Bauwesen%20Sweeps/sweeps/aslqb1cw\" target=\"_blank\">https://wandb.ai/devcore/Metriken%20Bauwesen%20Sweeps/sweeps/aslqb1cw</a><br/>\nRun page: <a href=\"https://wandb.ai/devcore/Metriken%20Bauwesen%20Sweeps/runs/uohu9z9f\" target=\"_blank\">https://wandb.ai/devcore/Metriken%20Bauwesen%20Sweeps/runs/uohu9z9f</a><br/>\n                Run data is saved locally in <code>D:\\Development\\FHNW\\ip5-metriken-bauwesen\\src\\weight_and_bias\\wandb\\run-20210813_101540-uohu9z9f</code><br/><br/>\n            "
     },
     "metadata": {},
     "output_type": "display_data"
    },
    {
     "data": {
      "text/plain": "<IPython.core.display.HTML object>",
      "text/html": "<br/>Waiting for W&B process to finish, PID 5300<br/>Program ended successfully."
     },
     "metadata": {},
     "output_type": "display_data"
    },
    {
     "data": {
      "text/plain": "VBox(children=(Label(value=' 0.00MB of 0.00MB uploaded (0.00MB deduped)\\r'), FloatProgress(value=1.0, max=1.0)…",
      "application/vnd.jupyter.widget-view+json": {
       "version_major": 2,
       "version_minor": 0,
       "model_id": "21ca7d26ee5b441683428f18595799b6"
      }
     },
     "metadata": {},
     "output_type": "display_data"
    },
    {
     "data": {
      "text/plain": "<IPython.core.display.HTML object>",
      "text/html": "Find user logs for this run at: <code>D:\\Development\\FHNW\\ip5-metriken-bauwesen\\src\\weight_and_bias\\wandb\\run-20210813_101540-uohu9z9f\\logs\\debug.log</code>"
     },
     "metadata": {},
     "output_type": "display_data"
    },
    {
     "data": {
      "text/plain": "<IPython.core.display.HTML object>",
      "text/html": "Find internal logs for this run at: <code>D:\\Development\\FHNW\\ip5-metriken-bauwesen\\src\\weight_and_bias\\wandb\\run-20210813_101540-uohu9z9f\\logs\\debug-internal.log</code>"
     },
     "metadata": {},
     "output_type": "display_data"
    },
    {
     "data": {
      "text/plain": "<IPython.core.display.HTML object>",
      "text/html": "<h3>Run summary:</h3><br/><style>\n    table.wandb td:nth-child(1) { padding: 0 10px; text-align: right }\n    </style><table class=\"wandb\">\n<tr><td>r2</td><td>0.91887</td></tr><tr><td>_runtime</td><td>18</td></tr><tr><td>_timestamp</td><td>1628842558</td></tr><tr><td>_step</td><td>3</td></tr><tr><td>neg_mape</td><td>-0.16231</td></tr><tr><td>neg_mae</td><td>-510.06106</td></tr><tr><td>neg_rmse</td><td>-1064.31697</td></tr></table>"
     },
     "metadata": {},
     "output_type": "display_data"
    },
    {
     "data": {
      "text/plain": "<IPython.core.display.HTML object>",
      "text/html": "<h3>Run history:</h3><br/><style>\n    table.wandb td:nth-child(1) { padding: 0 10px; text-align: right }\n    </style><table class=\"wandb\">\n<tr><td>r2</td><td>▁</td></tr><tr><td>_runtime</td><td>▁▁▁▁</td></tr><tr><td>_timestamp</td><td>▁▁▁▁</td></tr><tr><td>_step</td><td>▁▃▆█</td></tr><tr><td>neg_mape</td><td>▁</td></tr><tr><td>neg_mae</td><td>▁</td></tr><tr><td>neg_rmse</td><td>▁</td></tr></table><br/>"
     },
     "metadata": {},
     "output_type": "display_data"
    },
    {
     "data": {
      "text/plain": "<IPython.core.display.HTML object>",
      "text/html": "Synced 4 W&B file(s), 0 media file(s), 0 artifact file(s) and 0 other file(s)"
     },
     "metadata": {},
     "output_type": "display_data"
    },
    {
     "data": {
      "text/plain": "<IPython.core.display.HTML object>",
      "text/html": "\n                    <br/>Synced <strong style=\"color:#cdcd00\">silver-sweep-20</strong>: <a href=\"https://wandb.ai/devcore/Metriken%20Bauwesen%20Sweeps/runs/uohu9z9f\" target=\"_blank\">https://wandb.ai/devcore/Metriken%20Bauwesen%20Sweeps/runs/uohu9z9f</a><br/>\n                "
     },
     "metadata": {},
     "output_type": "display_data"
    },
    {
     "data": {
      "text/plain": "<IPython.core.display.HTML object>",
      "text/html": "\n                Tracking run with wandb version 0.11.0<br/>\n                Syncing run <strong style=\"color:#cdcd00\">gentle-sweep-21</strong> to <a href=\"https://wandb.ai\" target=\"_blank\">Weights & Biases</a> <a href=\"https://docs.wandb.com/integrations/jupyter.html\" target=\"_blank\">(Documentation)</a>.<br/>\n                Project page: <a href=\"https://wandb.ai/devcore/Metriken%20Bauwesen%20Sweeps\" target=\"_blank\">https://wandb.ai/devcore/Metriken%20Bauwesen%20Sweeps</a><br/>\n                Sweep page: <a href=\"https://wandb.ai/devcore/Metriken%20Bauwesen%20Sweeps/sweeps/aslqb1cw\" target=\"_blank\">https://wandb.ai/devcore/Metriken%20Bauwesen%20Sweeps/sweeps/aslqb1cw</a><br/>\nRun page: <a href=\"https://wandb.ai/devcore/Metriken%20Bauwesen%20Sweeps/runs/4o0afe0s\" target=\"_blank\">https://wandb.ai/devcore/Metriken%20Bauwesen%20Sweeps/runs/4o0afe0s</a><br/>\n                Run data is saved locally in <code>D:\\Development\\FHNW\\ip5-metriken-bauwesen\\src\\weight_and_bias\\wandb\\run-20210813_101603-4o0afe0s</code><br/><br/>\n            "
     },
     "metadata": {},
     "output_type": "display_data"
    },
    {
     "data": {
      "text/plain": "<IPython.core.display.HTML object>",
      "text/html": "<br/>Waiting for W&B process to finish, PID 14228<br/>Program ended successfully."
     },
     "metadata": {},
     "output_type": "display_data"
    },
    {
     "data": {
      "text/plain": "VBox(children=(Label(value=' 0.00MB of 0.00MB uploaded (0.00MB deduped)\\r'), FloatProgress(value=1.0, max=1.0)…",
      "application/vnd.jupyter.widget-view+json": {
       "version_major": 2,
       "version_minor": 0,
       "model_id": "d6ad5200820d4d00a5c164515a7783ac"
      }
     },
     "metadata": {},
     "output_type": "display_data"
    },
    {
     "data": {
      "text/plain": "<IPython.core.display.HTML object>",
      "text/html": "Find user logs for this run at: <code>D:\\Development\\FHNW\\ip5-metriken-bauwesen\\src\\weight_and_bias\\wandb\\run-20210813_101603-4o0afe0s\\logs\\debug.log</code>"
     },
     "metadata": {},
     "output_type": "display_data"
    },
    {
     "data": {
      "text/plain": "<IPython.core.display.HTML object>",
      "text/html": "Find internal logs for this run at: <code>D:\\Development\\FHNW\\ip5-metriken-bauwesen\\src\\weight_and_bias\\wandb\\run-20210813_101603-4o0afe0s\\logs\\debug-internal.log</code>"
     },
     "metadata": {},
     "output_type": "display_data"
    },
    {
     "data": {
      "text/plain": "<IPython.core.display.HTML object>",
      "text/html": "<h3>Run summary:</h3><br/><style>\n    table.wandb td:nth-child(1) { padding: 0 10px; text-align: right }\n    </style><table class=\"wandb\">\n<tr><td>r2</td><td>0.91208</td></tr><tr><td>_runtime</td><td>73</td></tr><tr><td>_timestamp</td><td>1628842636</td></tr><tr><td>_step</td><td>3</td></tr><tr><td>neg_mape</td><td>-0.16223</td></tr><tr><td>neg_mae</td><td>-526.01988</td></tr><tr><td>neg_rmse</td><td>-1103.43424</td></tr></table>"
     },
     "metadata": {},
     "output_type": "display_data"
    },
    {
     "data": {
      "text/plain": "<IPython.core.display.HTML object>",
      "text/html": "<h3>Run history:</h3><br/><style>\n    table.wandb td:nth-child(1) { padding: 0 10px; text-align: right }\n    </style><table class=\"wandb\">\n<tr><td>r2</td><td>▁</td></tr><tr><td>_runtime</td><td>▁▁▁▁</td></tr><tr><td>_timestamp</td><td>▁▁▁▁</td></tr><tr><td>_step</td><td>▁▃▆█</td></tr><tr><td>neg_mape</td><td>▁</td></tr><tr><td>neg_mae</td><td>▁</td></tr><tr><td>neg_rmse</td><td>▁</td></tr></table><br/>"
     },
     "metadata": {},
     "output_type": "display_data"
    },
    {
     "data": {
      "text/plain": "<IPython.core.display.HTML object>",
      "text/html": "Synced 4 W&B file(s), 0 media file(s), 0 artifact file(s) and 0 other file(s)"
     },
     "metadata": {},
     "output_type": "display_data"
    },
    {
     "data": {
      "text/plain": "<IPython.core.display.HTML object>",
      "text/html": "\n                    <br/>Synced <strong style=\"color:#cdcd00\">gentle-sweep-21</strong>: <a href=\"https://wandb.ai/devcore/Metriken%20Bauwesen%20Sweeps/runs/4o0afe0s\" target=\"_blank\">https://wandb.ai/devcore/Metriken%20Bauwesen%20Sweeps/runs/4o0afe0s</a><br/>\n                "
     },
     "metadata": {},
     "output_type": "display_data"
    },
    {
     "data": {
      "text/plain": "<IPython.core.display.HTML object>",
      "text/html": "\n                Tracking run with wandb version 0.11.0<br/>\n                Syncing run <strong style=\"color:#cdcd00\">fragrant-sweep-22</strong> to <a href=\"https://wandb.ai\" target=\"_blank\">Weights & Biases</a> <a href=\"https://docs.wandb.com/integrations/jupyter.html\" target=\"_blank\">(Documentation)</a>.<br/>\n                Project page: <a href=\"https://wandb.ai/devcore/Metriken%20Bauwesen%20Sweeps\" target=\"_blank\">https://wandb.ai/devcore/Metriken%20Bauwesen%20Sweeps</a><br/>\n                Sweep page: <a href=\"https://wandb.ai/devcore/Metriken%20Bauwesen%20Sweeps/sweeps/aslqb1cw\" target=\"_blank\">https://wandb.ai/devcore/Metriken%20Bauwesen%20Sweeps/sweeps/aslqb1cw</a><br/>\nRun page: <a href=\"https://wandb.ai/devcore/Metriken%20Bauwesen%20Sweeps/runs/t3jguowp\" target=\"_blank\">https://wandb.ai/devcore/Metriken%20Bauwesen%20Sweeps/runs/t3jguowp</a><br/>\n                Run data is saved locally in <code>D:\\Development\\FHNW\\ip5-metriken-bauwesen\\src\\weight_and_bias\\wandb\\run-20210813_101720-t3jguowp</code><br/><br/>\n            "
     },
     "metadata": {},
     "output_type": "display_data"
    },
    {
     "data": {
      "text/plain": "<IPython.core.display.HTML object>",
      "text/html": "<br/>Waiting for W&B process to finish, PID 22084<br/>Program ended successfully."
     },
     "metadata": {},
     "output_type": "display_data"
    },
    {
     "data": {
      "text/plain": "VBox(children=(Label(value=' 0.00MB of 0.00MB uploaded (0.00MB deduped)\\r'), FloatProgress(value=1.0, max=1.0)…",
      "application/vnd.jupyter.widget-view+json": {
       "version_major": 2,
       "version_minor": 0,
       "model_id": "5526acb30b4e483ca2ca5e08724181a3"
      }
     },
     "metadata": {},
     "output_type": "display_data"
    },
    {
     "data": {
      "text/plain": "<IPython.core.display.HTML object>",
      "text/html": "Find user logs for this run at: <code>D:\\Development\\FHNW\\ip5-metriken-bauwesen\\src\\weight_and_bias\\wandb\\run-20210813_101720-t3jguowp\\logs\\debug.log</code>"
     },
     "metadata": {},
     "output_type": "display_data"
    },
    {
     "data": {
      "text/plain": "<IPython.core.display.HTML object>",
      "text/html": "Find internal logs for this run at: <code>D:\\Development\\FHNW\\ip5-metriken-bauwesen\\src\\weight_and_bias\\wandb\\run-20210813_101720-t3jguowp\\logs\\debug-internal.log</code>"
     },
     "metadata": {},
     "output_type": "display_data"
    },
    {
     "data": {
      "text/plain": "<IPython.core.display.HTML object>",
      "text/html": "<h3>Run summary:</h3><br/><style>\n    table.wandb td:nth-child(1) { padding: 0 10px; text-align: right }\n    </style><table class=\"wandb\">\n<tr><td>r2</td><td>0.91437</td></tr><tr><td>_runtime</td><td>65</td></tr><tr><td>_timestamp</td><td>1628842706</td></tr><tr><td>_step</td><td>3</td></tr><tr><td>neg_mape</td><td>-0.15857</td></tr><tr><td>neg_mae</td><td>-520.61073</td></tr><tr><td>neg_rmse</td><td>-1092.06339</td></tr></table>"
     },
     "metadata": {},
     "output_type": "display_data"
    },
    {
     "data": {
      "text/plain": "<IPython.core.display.HTML object>",
      "text/html": "<h3>Run history:</h3><br/><style>\n    table.wandb td:nth-child(1) { padding: 0 10px; text-align: right }\n    </style><table class=\"wandb\">\n<tr><td>r2</td><td>▁</td></tr><tr><td>_runtime</td><td>▁▁▁▁</td></tr><tr><td>_timestamp</td><td>▁▁▁▁</td></tr><tr><td>_step</td><td>▁▃▆█</td></tr><tr><td>neg_mape</td><td>▁</td></tr><tr><td>neg_mae</td><td>▁</td></tr><tr><td>neg_rmse</td><td>▁</td></tr></table><br/>"
     },
     "metadata": {},
     "output_type": "display_data"
    },
    {
     "data": {
      "text/plain": "<IPython.core.display.HTML object>",
      "text/html": "Synced 4 W&B file(s), 0 media file(s), 0 artifact file(s) and 0 other file(s)"
     },
     "metadata": {},
     "output_type": "display_data"
    },
    {
     "data": {
      "text/plain": "<IPython.core.display.HTML object>",
      "text/html": "\n                    <br/>Synced <strong style=\"color:#cdcd00\">fragrant-sweep-22</strong>: <a href=\"https://wandb.ai/devcore/Metriken%20Bauwesen%20Sweeps/runs/t3jguowp\" target=\"_blank\">https://wandb.ai/devcore/Metriken%20Bauwesen%20Sweeps/runs/t3jguowp</a><br/>\n                "
     },
     "metadata": {},
     "output_type": "display_data"
    },
    {
     "data": {
      "text/plain": "<IPython.core.display.HTML object>",
      "text/html": "\n                Tracking run with wandb version 0.11.0<br/>\n                Syncing run <strong style=\"color:#cdcd00\">fine-sweep-23</strong> to <a href=\"https://wandb.ai\" target=\"_blank\">Weights & Biases</a> <a href=\"https://docs.wandb.com/integrations/jupyter.html\" target=\"_blank\">(Documentation)</a>.<br/>\n                Project page: <a href=\"https://wandb.ai/devcore/Metriken%20Bauwesen%20Sweeps\" target=\"_blank\">https://wandb.ai/devcore/Metriken%20Bauwesen%20Sweeps</a><br/>\n                Sweep page: <a href=\"https://wandb.ai/devcore/Metriken%20Bauwesen%20Sweeps/sweeps/aslqb1cw\" target=\"_blank\">https://wandb.ai/devcore/Metriken%20Bauwesen%20Sweeps/sweeps/aslqb1cw</a><br/>\nRun page: <a href=\"https://wandb.ai/devcore/Metriken%20Bauwesen%20Sweeps/runs/m2pulhu8\" target=\"_blank\">https://wandb.ai/devcore/Metriken%20Bauwesen%20Sweeps/runs/m2pulhu8</a><br/>\n                Run data is saved locally in <code>D:\\Development\\FHNW\\ip5-metriken-bauwesen\\src\\weight_and_bias\\wandb\\run-20210813_101831-m2pulhu8</code><br/><br/>\n            "
     },
     "metadata": {},
     "output_type": "display_data"
    },
    {
     "data": {
      "text/plain": "<IPython.core.display.HTML object>",
      "text/html": "<br/>Waiting for W&B process to finish, PID 13248<br/>Program ended successfully."
     },
     "metadata": {},
     "output_type": "display_data"
    },
    {
     "data": {
      "text/plain": "VBox(children=(Label(value=' 0.00MB of 0.00MB uploaded (0.00MB deduped)\\r'), FloatProgress(value=1.0, max=1.0)…",
      "application/vnd.jupyter.widget-view+json": {
       "version_major": 2,
       "version_minor": 0,
       "model_id": "fd38ff4c40df4cf1b3200c9270543e51"
      }
     },
     "metadata": {},
     "output_type": "display_data"
    },
    {
     "data": {
      "text/plain": "<IPython.core.display.HTML object>",
      "text/html": "Find user logs for this run at: <code>D:\\Development\\FHNW\\ip5-metriken-bauwesen\\src\\weight_and_bias\\wandb\\run-20210813_101831-m2pulhu8\\logs\\debug.log</code>"
     },
     "metadata": {},
     "output_type": "display_data"
    },
    {
     "data": {
      "text/plain": "<IPython.core.display.HTML object>",
      "text/html": "Find internal logs for this run at: <code>D:\\Development\\FHNW\\ip5-metriken-bauwesen\\src\\weight_and_bias\\wandb\\run-20210813_101831-m2pulhu8\\logs\\debug-internal.log</code>"
     },
     "metadata": {},
     "output_type": "display_data"
    },
    {
     "data": {
      "text/plain": "<IPython.core.display.HTML object>",
      "text/html": "<h3>Run summary:</h3><br/><style>\n    table.wandb td:nth-child(1) { padding: 0 10px; text-align: right }\n    </style><table class=\"wandb\">\n<tr><td>r2</td><td>0.9106</td></tr><tr><td>_runtime</td><td>44</td></tr><tr><td>_timestamp</td><td>1628842755</td></tr><tr><td>_step</td><td>3</td></tr><tr><td>neg_mape</td><td>-0.1545</td></tr><tr><td>neg_mae</td><td>-517.2386</td></tr><tr><td>neg_rmse</td><td>-1105.35266</td></tr></table>"
     },
     "metadata": {},
     "output_type": "display_data"
    },
    {
     "data": {
      "text/plain": "<IPython.core.display.HTML object>",
      "text/html": "<h3>Run history:</h3><br/><style>\n    table.wandb td:nth-child(1) { padding: 0 10px; text-align: right }\n    </style><table class=\"wandb\">\n<tr><td>r2</td><td>▁</td></tr><tr><td>_runtime</td><td>▁▁▁▁</td></tr><tr><td>_timestamp</td><td>▁▁▁▁</td></tr><tr><td>_step</td><td>▁▃▆█</td></tr><tr><td>neg_mape</td><td>▁</td></tr><tr><td>neg_mae</td><td>▁</td></tr><tr><td>neg_rmse</td><td>▁</td></tr></table><br/>"
     },
     "metadata": {},
     "output_type": "display_data"
    },
    {
     "data": {
      "text/plain": "<IPython.core.display.HTML object>",
      "text/html": "Synced 4 W&B file(s), 0 media file(s), 0 artifact file(s) and 0 other file(s)"
     },
     "metadata": {},
     "output_type": "display_data"
    },
    {
     "data": {
      "text/plain": "<IPython.core.display.HTML object>",
      "text/html": "\n                    <br/>Synced <strong style=\"color:#cdcd00\">fine-sweep-23</strong>: <a href=\"https://wandb.ai/devcore/Metriken%20Bauwesen%20Sweeps/runs/m2pulhu8\" target=\"_blank\">https://wandb.ai/devcore/Metriken%20Bauwesen%20Sweeps/runs/m2pulhu8</a><br/>\n                "
     },
     "metadata": {},
     "output_type": "display_data"
    },
    {
     "data": {
      "text/plain": "<IPython.core.display.HTML object>",
      "text/html": "\n                Tracking run with wandb version 0.11.0<br/>\n                Syncing run <strong style=\"color:#cdcd00\">light-sweep-24</strong> to <a href=\"https://wandb.ai\" target=\"_blank\">Weights & Biases</a> <a href=\"https://docs.wandb.com/integrations/jupyter.html\" target=\"_blank\">(Documentation)</a>.<br/>\n                Project page: <a href=\"https://wandb.ai/devcore/Metriken%20Bauwesen%20Sweeps\" target=\"_blank\">https://wandb.ai/devcore/Metriken%20Bauwesen%20Sweeps</a><br/>\n                Sweep page: <a href=\"https://wandb.ai/devcore/Metriken%20Bauwesen%20Sweeps/sweeps/aslqb1cw\" target=\"_blank\">https://wandb.ai/devcore/Metriken%20Bauwesen%20Sweeps/sweeps/aslqb1cw</a><br/>\nRun page: <a href=\"https://wandb.ai/devcore/Metriken%20Bauwesen%20Sweeps/runs/tnluc1m3\" target=\"_blank\">https://wandb.ai/devcore/Metriken%20Bauwesen%20Sweeps/runs/tnluc1m3</a><br/>\n                Run data is saved locally in <code>D:\\Development\\FHNW\\ip5-metriken-bauwesen\\src\\weight_and_bias\\wandb\\run-20210813_101919-tnluc1m3</code><br/><br/>\n            "
     },
     "metadata": {},
     "output_type": "display_data"
    },
    {
     "data": {
      "text/plain": "<IPython.core.display.HTML object>",
      "text/html": "<br/>Waiting for W&B process to finish, PID 22168<br/>Program ended successfully."
     },
     "metadata": {},
     "output_type": "display_data"
    },
    {
     "data": {
      "text/plain": "VBox(children=(Label(value=' 0.00MB of 0.00MB uploaded (0.00MB deduped)\\r'), FloatProgress(value=1.0, max=1.0)…",
      "application/vnd.jupyter.widget-view+json": {
       "version_major": 2,
       "version_minor": 0,
       "model_id": "c92b3f0f3cd24f0395873ffe1c537173"
      }
     },
     "metadata": {},
     "output_type": "display_data"
    },
    {
     "data": {
      "text/plain": "<IPython.core.display.HTML object>",
      "text/html": "Find user logs for this run at: <code>D:\\Development\\FHNW\\ip5-metriken-bauwesen\\src\\weight_and_bias\\wandb\\run-20210813_101919-tnluc1m3\\logs\\debug.log</code>"
     },
     "metadata": {},
     "output_type": "display_data"
    },
    {
     "data": {
      "text/plain": "<IPython.core.display.HTML object>",
      "text/html": "Find internal logs for this run at: <code>D:\\Development\\FHNW\\ip5-metriken-bauwesen\\src\\weight_and_bias\\wandb\\run-20210813_101919-tnluc1m3\\logs\\debug-internal.log</code>"
     },
     "metadata": {},
     "output_type": "display_data"
    },
    {
     "data": {
      "text/plain": "<IPython.core.display.HTML object>",
      "text/html": "<h3>Run summary:</h3><br/><style>\n    table.wandb td:nth-child(1) { padding: 0 10px; text-align: right }\n    </style><table class=\"wandb\">\n<tr><td>r2</td><td>0.91282</td></tr><tr><td>_runtime</td><td>8</td></tr><tr><td>_timestamp</td><td>1628842768</td></tr><tr><td>_step</td><td>3</td></tr><tr><td>neg_mape</td><td>-0.16976</td></tr><tr><td>neg_mae</td><td>-541.49854</td></tr><tr><td>neg_rmse</td><td>-1120.32039</td></tr></table>"
     },
     "metadata": {},
     "output_type": "display_data"
    },
    {
     "data": {
      "text/plain": "<IPython.core.display.HTML object>",
      "text/html": "<h3>Run history:</h3><br/><style>\n    table.wandb td:nth-child(1) { padding: 0 10px; text-align: right }\n    </style><table class=\"wandb\">\n<tr><td>r2</td><td>▁</td></tr><tr><td>_runtime</td><td>▁▁▁▁</td></tr><tr><td>_timestamp</td><td>▁▁▁▁</td></tr><tr><td>_step</td><td>▁▃▆█</td></tr><tr><td>neg_mape</td><td>▁</td></tr><tr><td>neg_mae</td><td>▁</td></tr><tr><td>neg_rmse</td><td>▁</td></tr></table><br/>"
     },
     "metadata": {},
     "output_type": "display_data"
    },
    {
     "data": {
      "text/plain": "<IPython.core.display.HTML object>",
      "text/html": "Synced 4 W&B file(s), 0 media file(s), 0 artifact file(s) and 0 other file(s)"
     },
     "metadata": {},
     "output_type": "display_data"
    },
    {
     "data": {
      "text/plain": "<IPython.core.display.HTML object>",
      "text/html": "\n                    <br/>Synced <strong style=\"color:#cdcd00\">light-sweep-24</strong>: <a href=\"https://wandb.ai/devcore/Metriken%20Bauwesen%20Sweeps/runs/tnluc1m3\" target=\"_blank\">https://wandb.ai/devcore/Metriken%20Bauwesen%20Sweeps/runs/tnluc1m3</a><br/>\n                "
     },
     "metadata": {},
     "output_type": "display_data"
    },
    {
     "data": {
      "text/plain": "<IPython.core.display.HTML object>",
      "text/html": "\n                Tracking run with wandb version 0.11.0<br/>\n                Syncing run <strong style=\"color:#cdcd00\">morning-sweep-25</strong> to <a href=\"https://wandb.ai\" target=\"_blank\">Weights & Biases</a> <a href=\"https://docs.wandb.com/integrations/jupyter.html\" target=\"_blank\">(Documentation)</a>.<br/>\n                Project page: <a href=\"https://wandb.ai/devcore/Metriken%20Bauwesen%20Sweeps\" target=\"_blank\">https://wandb.ai/devcore/Metriken%20Bauwesen%20Sweeps</a><br/>\n                Sweep page: <a href=\"https://wandb.ai/devcore/Metriken%20Bauwesen%20Sweeps/sweeps/aslqb1cw\" target=\"_blank\">https://wandb.ai/devcore/Metriken%20Bauwesen%20Sweeps/sweeps/aslqb1cw</a><br/>\nRun page: <a href=\"https://wandb.ai/devcore/Metriken%20Bauwesen%20Sweeps/runs/3xb93h25\" target=\"_blank\">https://wandb.ai/devcore/Metriken%20Bauwesen%20Sweeps/runs/3xb93h25</a><br/>\n                Run data is saved locally in <code>D:\\Development\\FHNW\\ip5-metriken-bauwesen\\src\\weight_and_bias\\wandb\\run-20210813_101932-3xb93h25</code><br/><br/>\n            "
     },
     "metadata": {},
     "output_type": "display_data"
    },
    {
     "data": {
      "text/plain": "<IPython.core.display.HTML object>",
      "text/html": "<br/>Waiting for W&B process to finish, PID 1060<br/>Program ended successfully."
     },
     "metadata": {},
     "output_type": "display_data"
    },
    {
     "data": {
      "text/plain": "VBox(children=(Label(value=' 0.00MB of 0.00MB uploaded (0.00MB deduped)\\r'), FloatProgress(value=1.0, max=1.0)…",
      "application/vnd.jupyter.widget-view+json": {
       "version_major": 2,
       "version_minor": 0,
       "model_id": "b64215a41b8c4d9d822093fbb6662d22"
      }
     },
     "metadata": {},
     "output_type": "display_data"
    },
    {
     "data": {
      "text/plain": "<IPython.core.display.HTML object>",
      "text/html": "Find user logs for this run at: <code>D:\\Development\\FHNW\\ip5-metriken-bauwesen\\src\\weight_and_bias\\wandb\\run-20210813_101932-3xb93h25\\logs\\debug.log</code>"
     },
     "metadata": {},
     "output_type": "display_data"
    },
    {
     "data": {
      "text/plain": "<IPython.core.display.HTML object>",
      "text/html": "Find internal logs for this run at: <code>D:\\Development\\FHNW\\ip5-metriken-bauwesen\\src\\weight_and_bias\\wandb\\run-20210813_101932-3xb93h25\\logs\\debug-internal.log</code>"
     },
     "metadata": {},
     "output_type": "display_data"
    },
    {
     "data": {
      "text/plain": "<IPython.core.display.HTML object>",
      "text/html": "<h3>Run summary:</h3><br/><style>\n    table.wandb td:nth-child(1) { padding: 0 10px; text-align: right }\n    </style><table class=\"wandb\">\n<tr><td>r2</td><td>0.90335</td></tr><tr><td>_runtime</td><td>30</td></tr><tr><td>_timestamp</td><td>1628842802</td></tr><tr><td>_step</td><td>3</td></tr><tr><td>neg_mape</td><td>-0.15618</td></tr><tr><td>neg_mae</td><td>-531.15245</td></tr><tr><td>neg_rmse</td><td>-1165.74308</td></tr></table>"
     },
     "metadata": {},
     "output_type": "display_data"
    },
    {
     "data": {
      "text/plain": "<IPython.core.display.HTML object>",
      "text/html": "<h3>Run history:</h3><br/><style>\n    table.wandb td:nth-child(1) { padding: 0 10px; text-align: right }\n    </style><table class=\"wandb\">\n<tr><td>r2</td><td>▁</td></tr><tr><td>_runtime</td><td>▁▁▁▁</td></tr><tr><td>_timestamp</td><td>▁▁▁▁</td></tr><tr><td>_step</td><td>▁▃▆█</td></tr><tr><td>neg_mape</td><td>▁</td></tr><tr><td>neg_mae</td><td>▁</td></tr><tr><td>neg_rmse</td><td>▁</td></tr></table><br/>"
     },
     "metadata": {},
     "output_type": "display_data"
    },
    {
     "data": {
      "text/plain": "<IPython.core.display.HTML object>",
      "text/html": "Synced 4 W&B file(s), 0 media file(s), 0 artifact file(s) and 0 other file(s)"
     },
     "metadata": {},
     "output_type": "display_data"
    },
    {
     "data": {
      "text/plain": "<IPython.core.display.HTML object>",
      "text/html": "\n                    <br/>Synced <strong style=\"color:#cdcd00\">morning-sweep-25</strong>: <a href=\"https://wandb.ai/devcore/Metriken%20Bauwesen%20Sweeps/runs/3xb93h25\" target=\"_blank\">https://wandb.ai/devcore/Metriken%20Bauwesen%20Sweeps/runs/3xb93h25</a><br/>\n                "
     },
     "metadata": {},
     "output_type": "display_data"
    },
    {
     "data": {
      "text/plain": "<IPython.core.display.HTML object>",
      "text/html": "\n                Tracking run with wandb version 0.11.0<br/>\n                Syncing run <strong style=\"color:#cdcd00\">stellar-sweep-26</strong> to <a href=\"https://wandb.ai\" target=\"_blank\">Weights & Biases</a> <a href=\"https://docs.wandb.com/integrations/jupyter.html\" target=\"_blank\">(Documentation)</a>.<br/>\n                Project page: <a href=\"https://wandb.ai/devcore/Metriken%20Bauwesen%20Sweeps\" target=\"_blank\">https://wandb.ai/devcore/Metriken%20Bauwesen%20Sweeps</a><br/>\n                Sweep page: <a href=\"https://wandb.ai/devcore/Metriken%20Bauwesen%20Sweeps/sweeps/aslqb1cw\" target=\"_blank\">https://wandb.ai/devcore/Metriken%20Bauwesen%20Sweeps/sweeps/aslqb1cw</a><br/>\nRun page: <a href=\"https://wandb.ai/devcore/Metriken%20Bauwesen%20Sweeps/runs/v43275fi\" target=\"_blank\">https://wandb.ai/devcore/Metriken%20Bauwesen%20Sweeps/runs/v43275fi</a><br/>\n                Run data is saved locally in <code>D:\\Development\\FHNW\\ip5-metriken-bauwesen\\src\\weight_and_bias\\wandb\\run-20210813_102006-v43275fi</code><br/><br/>\n            "
     },
     "metadata": {},
     "output_type": "display_data"
    },
    {
     "data": {
      "text/plain": "<IPython.core.display.HTML object>",
      "text/html": "<br/>Waiting for W&B process to finish, PID 11052<br/>Program ended successfully."
     },
     "metadata": {},
     "output_type": "display_data"
    },
    {
     "data": {
      "text/plain": "VBox(children=(Label(value=' 0.00MB of 0.00MB uploaded (0.00MB deduped)\\r'), FloatProgress(value=1.0, max=1.0)…",
      "application/vnd.jupyter.widget-view+json": {
       "version_major": 2,
       "version_minor": 0,
       "model_id": "ec2a39fc771d4b36a524af56ec7cebc3"
      }
     },
     "metadata": {},
     "output_type": "display_data"
    },
    {
     "data": {
      "text/plain": "<IPython.core.display.HTML object>",
      "text/html": "Find user logs for this run at: <code>D:\\Development\\FHNW\\ip5-metriken-bauwesen\\src\\weight_and_bias\\wandb\\run-20210813_102006-v43275fi\\logs\\debug.log</code>"
     },
     "metadata": {},
     "output_type": "display_data"
    },
    {
     "data": {
      "text/plain": "<IPython.core.display.HTML object>",
      "text/html": "Find internal logs for this run at: <code>D:\\Development\\FHNW\\ip5-metriken-bauwesen\\src\\weight_and_bias\\wandb\\run-20210813_102006-v43275fi\\logs\\debug-internal.log</code>"
     },
     "metadata": {},
     "output_type": "display_data"
    },
    {
     "data": {
      "text/plain": "<IPython.core.display.HTML object>",
      "text/html": "<h3>Run summary:</h3><br/><style>\n    table.wandb td:nth-child(1) { padding: 0 10px; text-align: right }\n    </style><table class=\"wandb\">\n<tr><td>r2</td><td>0.90341</td></tr><tr><td>_runtime</td><td>9</td></tr><tr><td>_timestamp</td><td>1628842815</td></tr><tr><td>_step</td><td>3</td></tr><tr><td>neg_mape</td><td>-0.15175</td></tr><tr><td>neg_mae</td><td>-522.69504</td></tr><tr><td>neg_rmse</td><td>-1171.97994</td></tr></table>"
     },
     "metadata": {},
     "output_type": "display_data"
    },
    {
     "data": {
      "text/plain": "<IPython.core.display.HTML object>",
      "text/html": "<h3>Run history:</h3><br/><style>\n    table.wandb td:nth-child(1) { padding: 0 10px; text-align: right }\n    </style><table class=\"wandb\">\n<tr><td>r2</td><td>▁</td></tr><tr><td>_runtime</td><td>▁▁▁▁</td></tr><tr><td>_timestamp</td><td>▁▁▁▁</td></tr><tr><td>_step</td><td>▁▃▆█</td></tr><tr><td>neg_mape</td><td>▁</td></tr><tr><td>neg_mae</td><td>▁</td></tr><tr><td>neg_rmse</td><td>▁</td></tr></table><br/>"
     },
     "metadata": {},
     "output_type": "display_data"
    },
    {
     "data": {
      "text/plain": "<IPython.core.display.HTML object>",
      "text/html": "Synced 4 W&B file(s), 0 media file(s), 0 artifact file(s) and 0 other file(s)"
     },
     "metadata": {},
     "output_type": "display_data"
    },
    {
     "data": {
      "text/plain": "<IPython.core.display.HTML object>",
      "text/html": "\n                    <br/>Synced <strong style=\"color:#cdcd00\">stellar-sweep-26</strong>: <a href=\"https://wandb.ai/devcore/Metriken%20Bauwesen%20Sweeps/runs/v43275fi\" target=\"_blank\">https://wandb.ai/devcore/Metriken%20Bauwesen%20Sweeps/runs/v43275fi</a><br/>\n                "
     },
     "metadata": {},
     "output_type": "display_data"
    },
    {
     "data": {
      "text/plain": "<IPython.core.display.HTML object>",
      "text/html": "\n                Tracking run with wandb version 0.11.0<br/>\n                Syncing run <strong style=\"color:#cdcd00\">elated-sweep-27</strong> to <a href=\"https://wandb.ai\" target=\"_blank\">Weights & Biases</a> <a href=\"https://docs.wandb.com/integrations/jupyter.html\" target=\"_blank\">(Documentation)</a>.<br/>\n                Project page: <a href=\"https://wandb.ai/devcore/Metriken%20Bauwesen%20Sweeps\" target=\"_blank\">https://wandb.ai/devcore/Metriken%20Bauwesen%20Sweeps</a><br/>\n                Sweep page: <a href=\"https://wandb.ai/devcore/Metriken%20Bauwesen%20Sweeps/sweeps/aslqb1cw\" target=\"_blank\">https://wandb.ai/devcore/Metriken%20Bauwesen%20Sweeps/sweeps/aslqb1cw</a><br/>\nRun page: <a href=\"https://wandb.ai/devcore/Metriken%20Bauwesen%20Sweeps/runs/ov94cqmo\" target=\"_blank\">https://wandb.ai/devcore/Metriken%20Bauwesen%20Sweeps/runs/ov94cqmo</a><br/>\n                Run data is saved locally in <code>D:\\Development\\FHNW\\ip5-metriken-bauwesen\\src\\weight_and_bias\\wandb\\run-20210813_102019-ov94cqmo</code><br/><br/>\n            "
     },
     "metadata": {},
     "output_type": "display_data"
    },
    {
     "data": {
      "text/plain": "<IPython.core.display.HTML object>",
      "text/html": "<br/>Waiting for W&B process to finish, PID 9240<br/>Program ended successfully."
     },
     "metadata": {},
     "output_type": "display_data"
    },
    {
     "data": {
      "text/plain": "VBox(children=(Label(value=' 0.00MB of 0.00MB uploaded (0.00MB deduped)\\r'), FloatProgress(value=1.0, max=1.0)…",
      "application/vnd.jupyter.widget-view+json": {
       "version_major": 2,
       "version_minor": 0,
       "model_id": "5aa156878bb347a4afc67fe39b680806"
      }
     },
     "metadata": {},
     "output_type": "display_data"
    },
    {
     "data": {
      "text/plain": "<IPython.core.display.HTML object>",
      "text/html": "Find user logs for this run at: <code>D:\\Development\\FHNW\\ip5-metriken-bauwesen\\src\\weight_and_bias\\wandb\\run-20210813_102019-ov94cqmo\\logs\\debug.log</code>"
     },
     "metadata": {},
     "output_type": "display_data"
    },
    {
     "data": {
      "text/plain": "<IPython.core.display.HTML object>",
      "text/html": "Find internal logs for this run at: <code>D:\\Development\\FHNW\\ip5-metriken-bauwesen\\src\\weight_and_bias\\wandb\\run-20210813_102019-ov94cqmo\\logs\\debug-internal.log</code>"
     },
     "metadata": {},
     "output_type": "display_data"
    },
    {
     "data": {
      "text/plain": "<IPython.core.display.HTML object>",
      "text/html": "<h3>Run summary:</h3><br/><style>\n    table.wandb td:nth-child(1) { padding: 0 10px; text-align: right }\n    </style><table class=\"wandb\">\n<tr><td>r2</td><td>0.91511</td></tr><tr><td>_runtime</td><td>46</td></tr><tr><td>_timestamp</td><td>1628842865</td></tr><tr><td>_step</td><td>3</td></tr><tr><td>neg_mape</td><td>-0.15683</td></tr><tr><td>neg_mae</td><td>-518.25239</td></tr><tr><td>neg_rmse</td><td>-1089.34682</td></tr></table>"
     },
     "metadata": {},
     "output_type": "display_data"
    },
    {
     "data": {
      "text/plain": "<IPython.core.display.HTML object>",
      "text/html": "<h3>Run history:</h3><br/><style>\n    table.wandb td:nth-child(1) { padding: 0 10px; text-align: right }\n    </style><table class=\"wandb\">\n<tr><td>r2</td><td>▁</td></tr><tr><td>_runtime</td><td>▁▁▁▁</td></tr><tr><td>_timestamp</td><td>▁▁▁▁</td></tr><tr><td>_step</td><td>▁▃▆█</td></tr><tr><td>neg_mape</td><td>▁</td></tr><tr><td>neg_mae</td><td>▁</td></tr><tr><td>neg_rmse</td><td>▁</td></tr></table><br/>"
     },
     "metadata": {},
     "output_type": "display_data"
    },
    {
     "data": {
      "text/plain": "<IPython.core.display.HTML object>",
      "text/html": "Synced 4 W&B file(s), 0 media file(s), 0 artifact file(s) and 0 other file(s)"
     },
     "metadata": {},
     "output_type": "display_data"
    },
    {
     "data": {
      "text/plain": "<IPython.core.display.HTML object>",
      "text/html": "\n                    <br/>Synced <strong style=\"color:#cdcd00\">elated-sweep-27</strong>: <a href=\"https://wandb.ai/devcore/Metriken%20Bauwesen%20Sweeps/runs/ov94cqmo\" target=\"_blank\">https://wandb.ai/devcore/Metriken%20Bauwesen%20Sweeps/runs/ov94cqmo</a><br/>\n                "
     },
     "metadata": {},
     "output_type": "display_data"
    },
    {
     "data": {
      "text/plain": "<IPython.core.display.HTML object>",
      "text/html": "\n                Tracking run with wandb version 0.11.0<br/>\n                Syncing run <strong style=\"color:#cdcd00\">dulcet-sweep-28</strong> to <a href=\"https://wandb.ai\" target=\"_blank\">Weights & Biases</a> <a href=\"https://docs.wandb.com/integrations/jupyter.html\" target=\"_blank\">(Documentation)</a>.<br/>\n                Project page: <a href=\"https://wandb.ai/devcore/Metriken%20Bauwesen%20Sweeps\" target=\"_blank\">https://wandb.ai/devcore/Metriken%20Bauwesen%20Sweeps</a><br/>\n                Sweep page: <a href=\"https://wandb.ai/devcore/Metriken%20Bauwesen%20Sweeps/sweeps/aslqb1cw\" target=\"_blank\">https://wandb.ai/devcore/Metriken%20Bauwesen%20Sweeps/sweeps/aslqb1cw</a><br/>\nRun page: <a href=\"https://wandb.ai/devcore/Metriken%20Bauwesen%20Sweeps/runs/9gl9bap4\" target=\"_blank\">https://wandb.ai/devcore/Metriken%20Bauwesen%20Sweeps/runs/9gl9bap4</a><br/>\n                Run data is saved locally in <code>D:\\Development\\FHNW\\ip5-metriken-bauwesen\\src\\weight_and_bias\\wandb\\run-20210813_102110-9gl9bap4</code><br/><br/>\n            "
     },
     "metadata": {},
     "output_type": "display_data"
    },
    {
     "data": {
      "text/plain": "<IPython.core.display.HTML object>",
      "text/html": "<br/>Waiting for W&B process to finish, PID 5844<br/>Program ended successfully."
     },
     "metadata": {},
     "output_type": "display_data"
    },
    {
     "data": {
      "text/plain": "VBox(children=(Label(value=' 0.00MB of 0.00MB uploaded (0.00MB deduped)\\r'), FloatProgress(value=1.0, max=1.0)…",
      "application/vnd.jupyter.widget-view+json": {
       "version_major": 2,
       "version_minor": 0,
       "model_id": "c04e87c9d514411d8389ec0f7445dbc4"
      }
     },
     "metadata": {},
     "output_type": "display_data"
    },
    {
     "data": {
      "text/plain": "<IPython.core.display.HTML object>",
      "text/html": "Find user logs for this run at: <code>D:\\Development\\FHNW\\ip5-metriken-bauwesen\\src\\weight_and_bias\\wandb\\run-20210813_102110-9gl9bap4\\logs\\debug.log</code>"
     },
     "metadata": {},
     "output_type": "display_data"
    },
    {
     "data": {
      "text/plain": "<IPython.core.display.HTML object>",
      "text/html": "Find internal logs for this run at: <code>D:\\Development\\FHNW\\ip5-metriken-bauwesen\\src\\weight_and_bias\\wandb\\run-20210813_102110-9gl9bap4\\logs\\debug-internal.log</code>"
     },
     "metadata": {},
     "output_type": "display_data"
    },
    {
     "data": {
      "text/plain": "<IPython.core.display.HTML object>",
      "text/html": "<h3>Run summary:</h3><br/><style>\n    table.wandb td:nth-child(1) { padding: 0 10px; text-align: right }\n    </style><table class=\"wandb\">\n<tr><td>r2</td><td>0.8975</td></tr><tr><td>_runtime</td><td>45</td></tr><tr><td>_timestamp</td><td>1628842915</td></tr><tr><td>_step</td><td>3</td></tr><tr><td>neg_mape</td><td>-0.17612</td></tr><tr><td>neg_mae</td><td>-587.33179</td></tr><tr><td>neg_rmse</td><td>-1210.03955</td></tr></table>"
     },
     "metadata": {},
     "output_type": "display_data"
    },
    {
     "data": {
      "text/plain": "<IPython.core.display.HTML object>",
      "text/html": "<h3>Run history:</h3><br/><style>\n    table.wandb td:nth-child(1) { padding: 0 10px; text-align: right }\n    </style><table class=\"wandb\">\n<tr><td>r2</td><td>▁</td></tr><tr><td>_runtime</td><td>▁▁▁▁</td></tr><tr><td>_timestamp</td><td>▁▁▁▁</td></tr><tr><td>_step</td><td>▁▃▆█</td></tr><tr><td>neg_mape</td><td>▁</td></tr><tr><td>neg_mae</td><td>▁</td></tr><tr><td>neg_rmse</td><td>▁</td></tr></table><br/>"
     },
     "metadata": {},
     "output_type": "display_data"
    },
    {
     "data": {
      "text/plain": "<IPython.core.display.HTML object>",
      "text/html": "Synced 4 W&B file(s), 0 media file(s), 0 artifact file(s) and 0 other file(s)"
     },
     "metadata": {},
     "output_type": "display_data"
    },
    {
     "data": {
      "text/plain": "<IPython.core.display.HTML object>",
      "text/html": "\n                    <br/>Synced <strong style=\"color:#cdcd00\">dulcet-sweep-28</strong>: <a href=\"https://wandb.ai/devcore/Metriken%20Bauwesen%20Sweeps/runs/9gl9bap4\" target=\"_blank\">https://wandb.ai/devcore/Metriken%20Bauwesen%20Sweeps/runs/9gl9bap4</a><br/>\n                "
     },
     "metadata": {},
     "output_type": "display_data"
    },
    {
     "data": {
      "text/plain": "<IPython.core.display.HTML object>",
      "text/html": "\n                Tracking run with wandb version 0.11.0<br/>\n                Syncing run <strong style=\"color:#cdcd00\">jumping-sweep-29</strong> to <a href=\"https://wandb.ai\" target=\"_blank\">Weights & Biases</a> <a href=\"https://docs.wandb.com/integrations/jupyter.html\" target=\"_blank\">(Documentation)</a>.<br/>\n                Project page: <a href=\"https://wandb.ai/devcore/Metriken%20Bauwesen%20Sweeps\" target=\"_blank\">https://wandb.ai/devcore/Metriken%20Bauwesen%20Sweeps</a><br/>\n                Sweep page: <a href=\"https://wandb.ai/devcore/Metriken%20Bauwesen%20Sweeps/sweeps/aslqb1cw\" target=\"_blank\">https://wandb.ai/devcore/Metriken%20Bauwesen%20Sweeps/sweeps/aslqb1cw</a><br/>\nRun page: <a href=\"https://wandb.ai/devcore/Metriken%20Bauwesen%20Sweeps/runs/0e2vbr2m\" target=\"_blank\">https://wandb.ai/devcore/Metriken%20Bauwesen%20Sweeps/runs/0e2vbr2m</a><br/>\n                Run data is saved locally in <code>D:\\Development\\FHNW\\ip5-metriken-bauwesen\\src\\weight_and_bias\\wandb\\run-20210813_102159-0e2vbr2m</code><br/><br/>\n            "
     },
     "metadata": {},
     "output_type": "display_data"
    },
    {
     "data": {
      "text/plain": "<IPython.core.display.HTML object>",
      "text/html": "<br/>Waiting for W&B process to finish, PID 20756<br/>Program ended successfully."
     },
     "metadata": {},
     "output_type": "display_data"
    },
    {
     "data": {
      "text/plain": "VBox(children=(Label(value=' 0.00MB of 0.00MB uploaded (0.00MB deduped)\\r'), FloatProgress(value=1.0, max=1.0)…",
      "application/vnd.jupyter.widget-view+json": {
       "version_major": 2,
       "version_minor": 0,
       "model_id": "04a556a7221348c1a28cb87bd4c322b7"
      }
     },
     "metadata": {},
     "output_type": "display_data"
    },
    {
     "data": {
      "text/plain": "<IPython.core.display.HTML object>",
      "text/html": "Find user logs for this run at: <code>D:\\Development\\FHNW\\ip5-metriken-bauwesen\\src\\weight_and_bias\\wandb\\run-20210813_102159-0e2vbr2m\\logs\\debug.log</code>"
     },
     "metadata": {},
     "output_type": "display_data"
    },
    {
     "data": {
      "text/plain": "<IPython.core.display.HTML object>",
      "text/html": "Find internal logs for this run at: <code>D:\\Development\\FHNW\\ip5-metriken-bauwesen\\src\\weight_and_bias\\wandb\\run-20210813_102159-0e2vbr2m\\logs\\debug-internal.log</code>"
     },
     "metadata": {},
     "output_type": "display_data"
    },
    {
     "data": {
      "text/plain": "<IPython.core.display.HTML object>",
      "text/html": "<h3>Run summary:</h3><br/><style>\n    table.wandb td:nth-child(1) { padding: 0 10px; text-align: right }\n    </style><table class=\"wandb\">\n<tr><td>r2</td><td>0.91242</td></tr><tr><td>_runtime</td><td>20</td></tr><tr><td>_timestamp</td><td>1628842939</td></tr><tr><td>_step</td><td>3</td></tr><tr><td>neg_mape</td><td>-0.15392</td></tr><tr><td>neg_mae</td><td>-519.70719</td></tr><tr><td>neg_rmse</td><td>-1120.34274</td></tr></table>"
     },
     "metadata": {},
     "output_type": "display_data"
    },
    {
     "data": {
      "text/plain": "<IPython.core.display.HTML object>",
      "text/html": "<h3>Run history:</h3><br/><style>\n    table.wandb td:nth-child(1) { padding: 0 10px; text-align: right }\n    </style><table class=\"wandb\">\n<tr><td>r2</td><td>▁</td></tr><tr><td>_runtime</td><td>▁▁▁▁</td></tr><tr><td>_timestamp</td><td>▁▁▁▁</td></tr><tr><td>_step</td><td>▁▃▆█</td></tr><tr><td>neg_mape</td><td>▁</td></tr><tr><td>neg_mae</td><td>▁</td></tr><tr><td>neg_rmse</td><td>▁</td></tr></table><br/>"
     },
     "metadata": {},
     "output_type": "display_data"
    },
    {
     "data": {
      "text/plain": "<IPython.core.display.HTML object>",
      "text/html": "Synced 4 W&B file(s), 0 media file(s), 0 artifact file(s) and 0 other file(s)"
     },
     "metadata": {},
     "output_type": "display_data"
    },
    {
     "data": {
      "text/plain": "<IPython.core.display.HTML object>",
      "text/html": "\n                    <br/>Synced <strong style=\"color:#cdcd00\">jumping-sweep-29</strong>: <a href=\"https://wandb.ai/devcore/Metriken%20Bauwesen%20Sweeps/runs/0e2vbr2m\" target=\"_blank\">https://wandb.ai/devcore/Metriken%20Bauwesen%20Sweeps/runs/0e2vbr2m</a><br/>\n                "
     },
     "metadata": {},
     "output_type": "display_data"
    },
    {
     "data": {
      "text/plain": "<IPython.core.display.HTML object>",
      "text/html": "\n                Tracking run with wandb version 0.11.0<br/>\n                Syncing run <strong style=\"color:#cdcd00\">exalted-sweep-30</strong> to <a href=\"https://wandb.ai\" target=\"_blank\">Weights & Biases</a> <a href=\"https://docs.wandb.com/integrations/jupyter.html\" target=\"_blank\">(Documentation)</a>.<br/>\n                Project page: <a href=\"https://wandb.ai/devcore/Metriken%20Bauwesen%20Sweeps\" target=\"_blank\">https://wandb.ai/devcore/Metriken%20Bauwesen%20Sweeps</a><br/>\n                Sweep page: <a href=\"https://wandb.ai/devcore/Metriken%20Bauwesen%20Sweeps/sweeps/aslqb1cw\" target=\"_blank\">https://wandb.ai/devcore/Metriken%20Bauwesen%20Sweeps/sweeps/aslqb1cw</a><br/>\nRun page: <a href=\"https://wandb.ai/devcore/Metriken%20Bauwesen%20Sweeps/runs/12e0q5az\" target=\"_blank\">https://wandb.ai/devcore/Metriken%20Bauwesen%20Sweeps/runs/12e0q5az</a><br/>\n                Run data is saved locally in <code>D:\\Development\\FHNW\\ip5-metriken-bauwesen\\src\\weight_and_bias\\wandb\\run-20210813_102223-12e0q5az</code><br/><br/>\n            "
     },
     "metadata": {},
     "output_type": "display_data"
    },
    {
     "data": {
      "text/plain": "<IPython.core.display.HTML object>",
      "text/html": "<br/>Waiting for W&B process to finish, PID 18676<br/>Program ended successfully."
     },
     "metadata": {},
     "output_type": "display_data"
    },
    {
     "data": {
      "text/plain": "VBox(children=(Label(value=' 0.00MB of 0.00MB uploaded (0.00MB deduped)\\r'), FloatProgress(value=1.0, max=1.0)…",
      "application/vnd.jupyter.widget-view+json": {
       "version_major": 2,
       "version_minor": 0,
       "model_id": "e8cc4d9c4ef54feba3dfdd272c422a18"
      }
     },
     "metadata": {},
     "output_type": "display_data"
    },
    {
     "data": {
      "text/plain": "<IPython.core.display.HTML object>",
      "text/html": "Find user logs for this run at: <code>D:\\Development\\FHNW\\ip5-metriken-bauwesen\\src\\weight_and_bias\\wandb\\run-20210813_102223-12e0q5az\\logs\\debug.log</code>"
     },
     "metadata": {},
     "output_type": "display_data"
    },
    {
     "data": {
      "text/plain": "<IPython.core.display.HTML object>",
      "text/html": "Find internal logs for this run at: <code>D:\\Development\\FHNW\\ip5-metriken-bauwesen\\src\\weight_and_bias\\wandb\\run-20210813_102223-12e0q5az\\logs\\debug-internal.log</code>"
     },
     "metadata": {},
     "output_type": "display_data"
    },
    {
     "data": {
      "text/plain": "<IPython.core.display.HTML object>",
      "text/html": "<h3>Run summary:</h3><br/><style>\n    table.wandb td:nth-child(1) { padding: 0 10px; text-align: right }\n    </style><table class=\"wandb\">\n<tr><td>r2</td><td>0.91247</td></tr><tr><td>_runtime</td><td>54</td></tr><tr><td>_timestamp</td><td>1628842997</td></tr><tr><td>_step</td><td>3</td></tr><tr><td>neg_mape</td><td>-0.1658</td></tr><tr><td>neg_mae</td><td>-524.43552</td></tr><tr><td>neg_rmse</td><td>-1098.70614</td></tr></table>"
     },
     "metadata": {},
     "output_type": "display_data"
    },
    {
     "data": {
      "text/plain": "<IPython.core.display.HTML object>",
      "text/html": "<h3>Run history:</h3><br/><style>\n    table.wandb td:nth-child(1) { padding: 0 10px; text-align: right }\n    </style><table class=\"wandb\">\n<tr><td>r2</td><td>▁</td></tr><tr><td>_runtime</td><td>▁▁▁▁</td></tr><tr><td>_timestamp</td><td>▁▁▁▁</td></tr><tr><td>_step</td><td>▁▃▆█</td></tr><tr><td>neg_mape</td><td>▁</td></tr><tr><td>neg_mae</td><td>▁</td></tr><tr><td>neg_rmse</td><td>▁</td></tr></table><br/>"
     },
     "metadata": {},
     "output_type": "display_data"
    },
    {
     "data": {
      "text/plain": "<IPython.core.display.HTML object>",
      "text/html": "Synced 4 W&B file(s), 0 media file(s), 0 artifact file(s) and 0 other file(s)"
     },
     "metadata": {},
     "output_type": "display_data"
    },
    {
     "data": {
      "text/plain": "<IPython.core.display.HTML object>",
      "text/html": "\n                    <br/>Synced <strong style=\"color:#cdcd00\">exalted-sweep-30</strong>: <a href=\"https://wandb.ai/devcore/Metriken%20Bauwesen%20Sweeps/runs/12e0q5az\" target=\"_blank\">https://wandb.ai/devcore/Metriken%20Bauwesen%20Sweeps/runs/12e0q5az</a><br/>\n                "
     },
     "metadata": {},
     "output_type": "display_data"
    },
    {
     "data": {
      "text/plain": "<IPython.core.display.HTML object>",
      "text/html": "\n                Tracking run with wandb version 0.11.0<br/>\n                Syncing run <strong style=\"color:#cdcd00\">dark-sweep-31</strong> to <a href=\"https://wandb.ai\" target=\"_blank\">Weights & Biases</a> <a href=\"https://docs.wandb.com/integrations/jupyter.html\" target=\"_blank\">(Documentation)</a>.<br/>\n                Project page: <a href=\"https://wandb.ai/devcore/Metriken%20Bauwesen%20Sweeps\" target=\"_blank\">https://wandb.ai/devcore/Metriken%20Bauwesen%20Sweeps</a><br/>\n                Sweep page: <a href=\"https://wandb.ai/devcore/Metriken%20Bauwesen%20Sweeps/sweeps/aslqb1cw\" target=\"_blank\">https://wandb.ai/devcore/Metriken%20Bauwesen%20Sweeps/sweeps/aslqb1cw</a><br/>\nRun page: <a href=\"https://wandb.ai/devcore/Metriken%20Bauwesen%20Sweeps/runs/mot6p4gw\" target=\"_blank\">https://wandb.ai/devcore/Metriken%20Bauwesen%20Sweeps/runs/mot6p4gw</a><br/>\n                Run data is saved locally in <code>D:\\Development\\FHNW\\ip5-metriken-bauwesen\\src\\weight_and_bias\\wandb\\run-20210813_102321-mot6p4gw</code><br/><br/>\n            "
     },
     "metadata": {},
     "output_type": "display_data"
    },
    {
     "data": {
      "text/plain": "<IPython.core.display.HTML object>",
      "text/html": "<br/>Waiting for W&B process to finish, PID 9596<br/>Program ended successfully."
     },
     "metadata": {},
     "output_type": "display_data"
    },
    {
     "data": {
      "text/plain": "VBox(children=(Label(value=' 0.00MB of 0.00MB uploaded (0.00MB deduped)\\r'), FloatProgress(value=1.0, max=1.0)…",
      "application/vnd.jupyter.widget-view+json": {
       "version_major": 2,
       "version_minor": 0,
       "model_id": "236f4bf3aff24e4aab6c004bbba41fc5"
      }
     },
     "metadata": {},
     "output_type": "display_data"
    },
    {
     "data": {
      "text/plain": "<IPython.core.display.HTML object>",
      "text/html": "Find user logs for this run at: <code>D:\\Development\\FHNW\\ip5-metriken-bauwesen\\src\\weight_and_bias\\wandb\\run-20210813_102321-mot6p4gw\\logs\\debug.log</code>"
     },
     "metadata": {},
     "output_type": "display_data"
    },
    {
     "data": {
      "text/plain": "<IPython.core.display.HTML object>",
      "text/html": "Find internal logs for this run at: <code>D:\\Development\\FHNW\\ip5-metriken-bauwesen\\src\\weight_and_bias\\wandb\\run-20210813_102321-mot6p4gw\\logs\\debug-internal.log</code>"
     },
     "metadata": {},
     "output_type": "display_data"
    },
    {
     "data": {
      "text/plain": "<IPython.core.display.HTML object>",
      "text/html": "<h3>Run summary:</h3><br/><style>\n    table.wandb td:nth-child(1) { padding: 0 10px; text-align: right }\n    </style><table class=\"wandb\">\n<tr><td>r2</td><td>0.89908</td></tr><tr><td>_runtime</td><td>8</td></tr><tr><td>_timestamp</td><td>1628843010</td></tr><tr><td>_step</td><td>3</td></tr><tr><td>neg_mape</td><td>-0.16918</td></tr><tr><td>neg_mae</td><td>-553.15104</td></tr><tr><td>neg_rmse</td><td>-1179.63607</td></tr></table>"
     },
     "metadata": {},
     "output_type": "display_data"
    },
    {
     "data": {
      "text/plain": "<IPython.core.display.HTML object>",
      "text/html": "<h3>Run history:</h3><br/><style>\n    table.wandb td:nth-child(1) { padding: 0 10px; text-align: right }\n    </style><table class=\"wandb\">\n<tr><td>r2</td><td>▁</td></tr><tr><td>_runtime</td><td>▁▁▁▁</td></tr><tr><td>_timestamp</td><td>▁▁▁▁</td></tr><tr><td>_step</td><td>▁▃▆█</td></tr><tr><td>neg_mape</td><td>▁</td></tr><tr><td>neg_mae</td><td>▁</td></tr><tr><td>neg_rmse</td><td>▁</td></tr></table><br/>"
     },
     "metadata": {},
     "output_type": "display_data"
    },
    {
     "data": {
      "text/plain": "<IPython.core.display.HTML object>",
      "text/html": "Synced 4 W&B file(s), 0 media file(s), 0 artifact file(s) and 0 other file(s)"
     },
     "metadata": {},
     "output_type": "display_data"
    },
    {
     "data": {
      "text/plain": "<IPython.core.display.HTML object>",
      "text/html": "\n                    <br/>Synced <strong style=\"color:#cdcd00\">dark-sweep-31</strong>: <a href=\"https://wandb.ai/devcore/Metriken%20Bauwesen%20Sweeps/runs/mot6p4gw\" target=\"_blank\">https://wandb.ai/devcore/Metriken%20Bauwesen%20Sweeps/runs/mot6p4gw</a><br/>\n                "
     },
     "metadata": {},
     "output_type": "display_data"
    },
    {
     "data": {
      "text/plain": "<IPython.core.display.HTML object>",
      "text/html": "\n                Tracking run with wandb version 0.11.0<br/>\n                Syncing run <strong style=\"color:#cdcd00\">soft-sweep-32</strong> to <a href=\"https://wandb.ai\" target=\"_blank\">Weights & Biases</a> <a href=\"https://docs.wandb.com/integrations/jupyter.html\" target=\"_blank\">(Documentation)</a>.<br/>\n                Project page: <a href=\"https://wandb.ai/devcore/Metriken%20Bauwesen%20Sweeps\" target=\"_blank\">https://wandb.ai/devcore/Metriken%20Bauwesen%20Sweeps</a><br/>\n                Sweep page: <a href=\"https://wandb.ai/devcore/Metriken%20Bauwesen%20Sweeps/sweeps/aslqb1cw\" target=\"_blank\">https://wandb.ai/devcore/Metriken%20Bauwesen%20Sweeps/sweeps/aslqb1cw</a><br/>\nRun page: <a href=\"https://wandb.ai/devcore/Metriken%20Bauwesen%20Sweeps/runs/rpqvup3z\" target=\"_blank\">https://wandb.ai/devcore/Metriken%20Bauwesen%20Sweeps/runs/rpqvup3z</a><br/>\n                Run data is saved locally in <code>D:\\Development\\FHNW\\ip5-metriken-bauwesen\\src\\weight_and_bias\\wandb\\run-20210813_102335-rpqvup3z</code><br/><br/>\n            "
     },
     "metadata": {},
     "output_type": "display_data"
    },
    {
     "data": {
      "text/plain": "<IPython.core.display.HTML object>",
      "text/html": "<br/>Waiting for W&B process to finish, PID 20760<br/>Program ended successfully."
     },
     "metadata": {},
     "output_type": "display_data"
    },
    {
     "data": {
      "text/plain": "VBox(children=(Label(value=' 0.00MB of 0.00MB uploaded (0.00MB deduped)\\r'), FloatProgress(value=1.0, max=1.0)…",
      "application/vnd.jupyter.widget-view+json": {
       "version_major": 2,
       "version_minor": 0,
       "model_id": "5763df76e75645febe446aa5f87d9f45"
      }
     },
     "metadata": {},
     "output_type": "display_data"
    },
    {
     "data": {
      "text/plain": "<IPython.core.display.HTML object>",
      "text/html": "Find user logs for this run at: <code>D:\\Development\\FHNW\\ip5-metriken-bauwesen\\src\\weight_and_bias\\wandb\\run-20210813_102335-rpqvup3z\\logs\\debug.log</code>"
     },
     "metadata": {},
     "output_type": "display_data"
    },
    {
     "data": {
      "text/plain": "<IPython.core.display.HTML object>",
      "text/html": "Find internal logs for this run at: <code>D:\\Development\\FHNW\\ip5-metriken-bauwesen\\src\\weight_and_bias\\wandb\\run-20210813_102335-rpqvup3z\\logs\\debug-internal.log</code>"
     },
     "metadata": {},
     "output_type": "display_data"
    },
    {
     "data": {
      "text/plain": "<IPython.core.display.HTML object>",
      "text/html": "<h3>Run summary:</h3><br/><style>\n    table.wandb td:nth-child(1) { padding: 0 10px; text-align: right }\n    </style><table class=\"wandb\">\n<tr><td>r2</td><td>0.90374</td></tr><tr><td>_runtime</td><td>18</td></tr><tr><td>_timestamp</td><td>1628843033</td></tr><tr><td>_step</td><td>3</td></tr><tr><td>neg_mape</td><td>-0.15811</td></tr><tr><td>neg_mae</td><td>-534.9854</td></tr><tr><td>neg_rmse</td><td>-1176.70165</td></tr></table>"
     },
     "metadata": {},
     "output_type": "display_data"
    },
    {
     "data": {
      "text/plain": "<IPython.core.display.HTML object>",
      "text/html": "<h3>Run history:</h3><br/><style>\n    table.wandb td:nth-child(1) { padding: 0 10px; text-align: right }\n    </style><table class=\"wandb\">\n<tr><td>r2</td><td>▁</td></tr><tr><td>_runtime</td><td>▁▁▁▁</td></tr><tr><td>_timestamp</td><td>▁▁▁▁</td></tr><tr><td>_step</td><td>▁▃▆█</td></tr><tr><td>neg_mape</td><td>▁</td></tr><tr><td>neg_mae</td><td>▁</td></tr><tr><td>neg_rmse</td><td>▁</td></tr></table><br/>"
     },
     "metadata": {},
     "output_type": "display_data"
    },
    {
     "data": {
      "text/plain": "<IPython.core.display.HTML object>",
      "text/html": "Synced 4 W&B file(s), 0 media file(s), 0 artifact file(s) and 0 other file(s)"
     },
     "metadata": {},
     "output_type": "display_data"
    },
    {
     "data": {
      "text/plain": "<IPython.core.display.HTML object>",
      "text/html": "\n                    <br/>Synced <strong style=\"color:#cdcd00\">soft-sweep-32</strong>: <a href=\"https://wandb.ai/devcore/Metriken%20Bauwesen%20Sweeps/runs/rpqvup3z\" target=\"_blank\">https://wandb.ai/devcore/Metriken%20Bauwesen%20Sweeps/runs/rpqvup3z</a><br/>\n                "
     },
     "metadata": {},
     "output_type": "display_data"
    },
    {
     "data": {
      "text/plain": "<IPython.core.display.HTML object>",
      "text/html": "\n                Tracking run with wandb version 0.11.0<br/>\n                Syncing run <strong style=\"color:#cdcd00\">stoic-sweep-33</strong> to <a href=\"https://wandb.ai\" target=\"_blank\">Weights & Biases</a> <a href=\"https://docs.wandb.com/integrations/jupyter.html\" target=\"_blank\">(Documentation)</a>.<br/>\n                Project page: <a href=\"https://wandb.ai/devcore/Metriken%20Bauwesen%20Sweeps\" target=\"_blank\">https://wandb.ai/devcore/Metriken%20Bauwesen%20Sweeps</a><br/>\n                Sweep page: <a href=\"https://wandb.ai/devcore/Metriken%20Bauwesen%20Sweeps/sweeps/aslqb1cw\" target=\"_blank\">https://wandb.ai/devcore/Metriken%20Bauwesen%20Sweeps/sweeps/aslqb1cw</a><br/>\nRun page: <a href=\"https://wandb.ai/devcore/Metriken%20Bauwesen%20Sweeps/runs/lw7ne7pi\" target=\"_blank\">https://wandb.ai/devcore/Metriken%20Bauwesen%20Sweeps/runs/lw7ne7pi</a><br/>\n                Run data is saved locally in <code>D:\\Development\\FHNW\\ip5-metriken-bauwesen\\src\\weight_and_bias\\wandb\\run-20210813_102357-lw7ne7pi</code><br/><br/>\n            "
     },
     "metadata": {},
     "output_type": "display_data"
    },
    {
     "data": {
      "text/plain": "<IPython.core.display.HTML object>",
      "text/html": "<br/>Waiting for W&B process to finish, PID 19028<br/>Program ended successfully."
     },
     "metadata": {},
     "output_type": "display_data"
    },
    {
     "data": {
      "text/plain": "VBox(children=(Label(value=' 0.00MB of 0.00MB uploaded (0.00MB deduped)\\r'), FloatProgress(value=1.0, max=1.0)…",
      "application/vnd.jupyter.widget-view+json": {
       "version_major": 2,
       "version_minor": 0,
       "model_id": "21a3943bda59459faac729a51457c912"
      }
     },
     "metadata": {},
     "output_type": "display_data"
    },
    {
     "data": {
      "text/plain": "<IPython.core.display.HTML object>",
      "text/html": "Find user logs for this run at: <code>D:\\Development\\FHNW\\ip5-metriken-bauwesen\\src\\weight_and_bias\\wandb\\run-20210813_102357-lw7ne7pi\\logs\\debug.log</code>"
     },
     "metadata": {},
     "output_type": "display_data"
    },
    {
     "data": {
      "text/plain": "<IPython.core.display.HTML object>",
      "text/html": "Find internal logs for this run at: <code>D:\\Development\\FHNW\\ip5-metriken-bauwesen\\src\\weight_and_bias\\wandb\\run-20210813_102357-lw7ne7pi\\logs\\debug-internal.log</code>"
     },
     "metadata": {},
     "output_type": "display_data"
    },
    {
     "data": {
      "text/plain": "<IPython.core.display.HTML object>",
      "text/html": "<h3>Run summary:</h3><br/><style>\n    table.wandb td:nth-child(1) { padding: 0 10px; text-align: right }\n    </style><table class=\"wandb\">\n<tr><td>r2</td><td>0.91364</td></tr><tr><td>_runtime</td><td>70</td></tr><tr><td>_timestamp</td><td>1628843107</td></tr><tr><td>_step</td><td>3</td></tr><tr><td>neg_mape</td><td>-0.15919</td></tr><tr><td>neg_mae</td><td>-528.93747</td></tr><tr><td>neg_rmse</td><td>-1095.44366</td></tr></table>"
     },
     "metadata": {},
     "output_type": "display_data"
    },
    {
     "data": {
      "text/plain": "<IPython.core.display.HTML object>",
      "text/html": "<h3>Run history:</h3><br/><style>\n    table.wandb td:nth-child(1) { padding: 0 10px; text-align: right }\n    </style><table class=\"wandb\">\n<tr><td>r2</td><td>▁</td></tr><tr><td>_runtime</td><td>▁▁▁▁</td></tr><tr><td>_timestamp</td><td>▁▁▁▁</td></tr><tr><td>_step</td><td>▁▃▆█</td></tr><tr><td>neg_mape</td><td>▁</td></tr><tr><td>neg_mae</td><td>▁</td></tr><tr><td>neg_rmse</td><td>▁</td></tr></table><br/>"
     },
     "metadata": {},
     "output_type": "display_data"
    },
    {
     "data": {
      "text/plain": "<IPython.core.display.HTML object>",
      "text/html": "Synced 4 W&B file(s), 0 media file(s), 0 artifact file(s) and 0 other file(s)"
     },
     "metadata": {},
     "output_type": "display_data"
    },
    {
     "data": {
      "text/plain": "<IPython.core.display.HTML object>",
      "text/html": "\n                    <br/>Synced <strong style=\"color:#cdcd00\">stoic-sweep-33</strong>: <a href=\"https://wandb.ai/devcore/Metriken%20Bauwesen%20Sweeps/runs/lw7ne7pi\" target=\"_blank\">https://wandb.ai/devcore/Metriken%20Bauwesen%20Sweeps/runs/lw7ne7pi</a><br/>\n                "
     },
     "metadata": {},
     "output_type": "display_data"
    },
    {
     "data": {
      "text/plain": "<IPython.core.display.HTML object>",
      "text/html": "\n                Tracking run with wandb version 0.11.0<br/>\n                Syncing run <strong style=\"color:#cdcd00\">balmy-sweep-34</strong> to <a href=\"https://wandb.ai\" target=\"_blank\">Weights & Biases</a> <a href=\"https://docs.wandb.com/integrations/jupyter.html\" target=\"_blank\">(Documentation)</a>.<br/>\n                Project page: <a href=\"https://wandb.ai/devcore/Metriken%20Bauwesen%20Sweeps\" target=\"_blank\">https://wandb.ai/devcore/Metriken%20Bauwesen%20Sweeps</a><br/>\n                Sweep page: <a href=\"https://wandb.ai/devcore/Metriken%20Bauwesen%20Sweeps/sweeps/aslqb1cw\" target=\"_blank\">https://wandb.ai/devcore/Metriken%20Bauwesen%20Sweeps/sweeps/aslqb1cw</a><br/>\nRun page: <a href=\"https://wandb.ai/devcore/Metriken%20Bauwesen%20Sweeps/runs/gk0pxl1u\" target=\"_blank\">https://wandb.ai/devcore/Metriken%20Bauwesen%20Sweeps/runs/gk0pxl1u</a><br/>\n                Run data is saved locally in <code>D:\\Development\\FHNW\\ip5-metriken-bauwesen\\src\\weight_and_bias\\wandb\\run-20210813_102512-gk0pxl1u</code><br/><br/>\n            "
     },
     "metadata": {},
     "output_type": "display_data"
    },
    {
     "data": {
      "text/plain": "<IPython.core.display.HTML object>",
      "text/html": "<br/>Waiting for W&B process to finish, PID 8464<br/>Program ended successfully."
     },
     "metadata": {},
     "output_type": "display_data"
    },
    {
     "data": {
      "text/plain": "VBox(children=(Label(value=' 0.00MB of 0.00MB uploaded (0.00MB deduped)\\r'), FloatProgress(value=1.0, max=1.0)…",
      "application/vnd.jupyter.widget-view+json": {
       "version_major": 2,
       "version_minor": 0,
       "model_id": "38dfa8d35d9042a09ff06e8800fadc84"
      }
     },
     "metadata": {},
     "output_type": "display_data"
    },
    {
     "data": {
      "text/plain": "<IPython.core.display.HTML object>",
      "text/html": "Find user logs for this run at: <code>D:\\Development\\FHNW\\ip5-metriken-bauwesen\\src\\weight_and_bias\\wandb\\run-20210813_102512-gk0pxl1u\\logs\\debug.log</code>"
     },
     "metadata": {},
     "output_type": "display_data"
    },
    {
     "data": {
      "text/plain": "<IPython.core.display.HTML object>",
      "text/html": "Find internal logs for this run at: <code>D:\\Development\\FHNW\\ip5-metriken-bauwesen\\src\\weight_and_bias\\wandb\\run-20210813_102512-gk0pxl1u\\logs\\debug-internal.log</code>"
     },
     "metadata": {},
     "output_type": "display_data"
    },
    {
     "data": {
      "text/plain": "<IPython.core.display.HTML object>",
      "text/html": "<h3>Run summary:</h3><br/><style>\n    table.wandb td:nth-child(1) { padding: 0 10px; text-align: right }\n    </style><table class=\"wandb\">\n<tr><td>r2</td><td>0.90004</td></tr><tr><td>_runtime</td><td>47</td></tr><tr><td>_timestamp</td><td>1628843159</td></tr><tr><td>_step</td><td>3</td></tr><tr><td>neg_mape</td><td>-0.16332</td></tr><tr><td>neg_mae</td><td>-542.38606</td></tr><tr><td>neg_rmse</td><td>-1169.72792</td></tr></table>"
     },
     "metadata": {},
     "output_type": "display_data"
    },
    {
     "data": {
      "text/plain": "<IPython.core.display.HTML object>",
      "text/html": "<h3>Run history:</h3><br/><style>\n    table.wandb td:nth-child(1) { padding: 0 10px; text-align: right }\n    </style><table class=\"wandb\">\n<tr><td>r2</td><td>▁</td></tr><tr><td>_runtime</td><td>▁▁▁▁</td></tr><tr><td>_timestamp</td><td>▁▁▁▁</td></tr><tr><td>_step</td><td>▁▃▆█</td></tr><tr><td>neg_mape</td><td>▁</td></tr><tr><td>neg_mae</td><td>▁</td></tr><tr><td>neg_rmse</td><td>▁</td></tr></table><br/>"
     },
     "metadata": {},
     "output_type": "display_data"
    },
    {
     "data": {
      "text/plain": "<IPython.core.display.HTML object>",
      "text/html": "Synced 4 W&B file(s), 0 media file(s), 0 artifact file(s) and 0 other file(s)"
     },
     "metadata": {},
     "output_type": "display_data"
    },
    {
     "data": {
      "text/plain": "<IPython.core.display.HTML object>",
      "text/html": "\n                    <br/>Synced <strong style=\"color:#cdcd00\">balmy-sweep-34</strong>: <a href=\"https://wandb.ai/devcore/Metriken%20Bauwesen%20Sweeps/runs/gk0pxl1u\" target=\"_blank\">https://wandb.ai/devcore/Metriken%20Bauwesen%20Sweeps/runs/gk0pxl1u</a><br/>\n                "
     },
     "metadata": {},
     "output_type": "display_data"
    },
    {
     "data": {
      "text/plain": "<IPython.core.display.HTML object>",
      "text/html": "\n                Tracking run with wandb version 0.11.0<br/>\n                Syncing run <strong style=\"color:#cdcd00\">happy-sweep-35</strong> to <a href=\"https://wandb.ai\" target=\"_blank\">Weights & Biases</a> <a href=\"https://docs.wandb.com/integrations/jupyter.html\" target=\"_blank\">(Documentation)</a>.<br/>\n                Project page: <a href=\"https://wandb.ai/devcore/Metriken%20Bauwesen%20Sweeps\" target=\"_blank\">https://wandb.ai/devcore/Metriken%20Bauwesen%20Sweeps</a><br/>\n                Sweep page: <a href=\"https://wandb.ai/devcore/Metriken%20Bauwesen%20Sweeps/sweeps/aslqb1cw\" target=\"_blank\">https://wandb.ai/devcore/Metriken%20Bauwesen%20Sweeps/sweeps/aslqb1cw</a><br/>\nRun page: <a href=\"https://wandb.ai/devcore/Metriken%20Bauwesen%20Sweeps/runs/3nvhdskw\" target=\"_blank\">https://wandb.ai/devcore/Metriken%20Bauwesen%20Sweeps/runs/3nvhdskw</a><br/>\n                Run data is saved locally in <code>D:\\Development\\FHNW\\ip5-metriken-bauwesen\\src\\weight_and_bias\\wandb\\run-20210813_102604-3nvhdskw</code><br/><br/>\n            "
     },
     "metadata": {},
     "output_type": "display_data"
    },
    {
     "data": {
      "text/plain": "<IPython.core.display.HTML object>",
      "text/html": "<br/>Waiting for W&B process to finish, PID 6716<br/>Program ended successfully."
     },
     "metadata": {},
     "output_type": "display_data"
    },
    {
     "data": {
      "text/plain": "VBox(children=(Label(value=' 0.00MB of 0.00MB uploaded (0.00MB deduped)\\r'), FloatProgress(value=1.0, max=1.0)…",
      "application/vnd.jupyter.widget-view+json": {
       "version_major": 2,
       "version_minor": 0,
       "model_id": "167ba79564ce4277818c1704436a46be"
      }
     },
     "metadata": {},
     "output_type": "display_data"
    },
    {
     "data": {
      "text/plain": "<IPython.core.display.HTML object>",
      "text/html": "Find user logs for this run at: <code>D:\\Development\\FHNW\\ip5-metriken-bauwesen\\src\\weight_and_bias\\wandb\\run-20210813_102604-3nvhdskw\\logs\\debug.log</code>"
     },
     "metadata": {},
     "output_type": "display_data"
    },
    {
     "data": {
      "text/plain": "<IPython.core.display.HTML object>",
      "text/html": "Find internal logs for this run at: <code>D:\\Development\\FHNW\\ip5-metriken-bauwesen\\src\\weight_and_bias\\wandb\\run-20210813_102604-3nvhdskw\\logs\\debug-internal.log</code>"
     },
     "metadata": {},
     "output_type": "display_data"
    },
    {
     "data": {
      "text/plain": "<IPython.core.display.HTML object>",
      "text/html": "<h3>Run summary:</h3><br/><style>\n    table.wandb td:nth-child(1) { padding: 0 10px; text-align: right }\n    </style><table class=\"wandb\">\n<tr><td>r2</td><td>0.91702</td></tr><tr><td>_runtime</td><td>54</td></tr><tr><td>_timestamp</td><td>1628843218</td></tr><tr><td>_step</td><td>3</td></tr><tr><td>neg_mape</td><td>-0.15488</td></tr><tr><td>neg_mae</td><td>-510.68069</td></tr><tr><td>neg_rmse</td><td>-1075.0608</td></tr></table>"
     },
     "metadata": {},
     "output_type": "display_data"
    },
    {
     "data": {
      "text/plain": "<IPython.core.display.HTML object>",
      "text/html": "<h3>Run history:</h3><br/><style>\n    table.wandb td:nth-child(1) { padding: 0 10px; text-align: right }\n    </style><table class=\"wandb\">\n<tr><td>r2</td><td>▁</td></tr><tr><td>_runtime</td><td>▁▁▁▁</td></tr><tr><td>_timestamp</td><td>▁▁▁▁</td></tr><tr><td>_step</td><td>▁▃▆█</td></tr><tr><td>neg_mape</td><td>▁</td></tr><tr><td>neg_mae</td><td>▁</td></tr><tr><td>neg_rmse</td><td>▁</td></tr></table><br/>"
     },
     "metadata": {},
     "output_type": "display_data"
    },
    {
     "data": {
      "text/plain": "<IPython.core.display.HTML object>",
      "text/html": "Synced 4 W&B file(s), 0 media file(s), 0 artifact file(s) and 0 other file(s)"
     },
     "metadata": {},
     "output_type": "display_data"
    },
    {
     "data": {
      "text/plain": "<IPython.core.display.HTML object>",
      "text/html": "\n                    <br/>Synced <strong style=\"color:#cdcd00\">happy-sweep-35</strong>: <a href=\"https://wandb.ai/devcore/Metriken%20Bauwesen%20Sweeps/runs/3nvhdskw\" target=\"_blank\">https://wandb.ai/devcore/Metriken%20Bauwesen%20Sweeps/runs/3nvhdskw</a><br/>\n                "
     },
     "metadata": {},
     "output_type": "display_data"
    },
    {
     "data": {
      "text/plain": "<IPython.core.display.HTML object>",
      "text/html": "\n                Tracking run with wandb version 0.11.0<br/>\n                Syncing run <strong style=\"color:#cdcd00\">prime-sweep-36</strong> to <a href=\"https://wandb.ai\" target=\"_blank\">Weights & Biases</a> <a href=\"https://docs.wandb.com/integrations/jupyter.html\" target=\"_blank\">(Documentation)</a>.<br/>\n                Project page: <a href=\"https://wandb.ai/devcore/Metriken%20Bauwesen%20Sweeps\" target=\"_blank\">https://wandb.ai/devcore/Metriken%20Bauwesen%20Sweeps</a><br/>\n                Sweep page: <a href=\"https://wandb.ai/devcore/Metriken%20Bauwesen%20Sweeps/sweeps/aslqb1cw\" target=\"_blank\">https://wandb.ai/devcore/Metriken%20Bauwesen%20Sweeps/sweeps/aslqb1cw</a><br/>\nRun page: <a href=\"https://wandb.ai/devcore/Metriken%20Bauwesen%20Sweeps/runs/li817zzi\" target=\"_blank\">https://wandb.ai/devcore/Metriken%20Bauwesen%20Sweeps/runs/li817zzi</a><br/>\n                Run data is saved locally in <code>D:\\Development\\FHNW\\ip5-metriken-bauwesen\\src\\weight_and_bias\\wandb\\run-20210813_102702-li817zzi</code><br/><br/>\n            "
     },
     "metadata": {},
     "output_type": "display_data"
    },
    {
     "data": {
      "text/plain": "<IPython.core.display.HTML object>",
      "text/html": "<br/>Waiting for W&B process to finish, PID 18776<br/>Program ended successfully."
     },
     "metadata": {},
     "output_type": "display_data"
    },
    {
     "data": {
      "text/plain": "VBox(children=(Label(value=' 0.00MB of 0.00MB uploaded (0.00MB deduped)\\r'), FloatProgress(value=1.0, max=1.0)…",
      "application/vnd.jupyter.widget-view+json": {
       "version_major": 2,
       "version_minor": 0,
       "model_id": "4e5985715ce34cd386a20163c8d6877f"
      }
     },
     "metadata": {},
     "output_type": "display_data"
    },
    {
     "data": {
      "text/plain": "<IPython.core.display.HTML object>",
      "text/html": "Find user logs for this run at: <code>D:\\Development\\FHNW\\ip5-metriken-bauwesen\\src\\weight_and_bias\\wandb\\run-20210813_102702-li817zzi\\logs\\debug.log</code>"
     },
     "metadata": {},
     "output_type": "display_data"
    },
    {
     "data": {
      "text/plain": "<IPython.core.display.HTML object>",
      "text/html": "Find internal logs for this run at: <code>D:\\Development\\FHNW\\ip5-metriken-bauwesen\\src\\weight_and_bias\\wandb\\run-20210813_102702-li817zzi\\logs\\debug-internal.log</code>"
     },
     "metadata": {},
     "output_type": "display_data"
    },
    {
     "data": {
      "text/plain": "<IPython.core.display.HTML object>",
      "text/html": "<h3>Run summary:</h3><br/><style>\n    table.wandb td:nth-child(1) { padding: 0 10px; text-align: right }\n    </style><table class=\"wandb\">\n<tr><td>r2</td><td>0.90771</td></tr><tr><td>_runtime</td><td>71</td></tr><tr><td>_timestamp</td><td>1628843293</td></tr><tr><td>_step</td><td>3</td></tr><tr><td>neg_mape</td><td>-0.16463</td></tr><tr><td>neg_mae</td><td>-538.81608</td></tr><tr><td>neg_rmse</td><td>-1135.2136</td></tr></table>"
     },
     "metadata": {},
     "output_type": "display_data"
    },
    {
     "data": {
      "text/plain": "<IPython.core.display.HTML object>",
      "text/html": "<h3>Run history:</h3><br/><style>\n    table.wandb td:nth-child(1) { padding: 0 10px; text-align: right }\n    </style><table class=\"wandb\">\n<tr><td>r2</td><td>▁</td></tr><tr><td>_runtime</td><td>▁▁▁▁</td></tr><tr><td>_timestamp</td><td>▁▁▁▁</td></tr><tr><td>_step</td><td>▁▃▆█</td></tr><tr><td>neg_mape</td><td>▁</td></tr><tr><td>neg_mae</td><td>▁</td></tr><tr><td>neg_rmse</td><td>▁</td></tr></table><br/>"
     },
     "metadata": {},
     "output_type": "display_data"
    },
    {
     "data": {
      "text/plain": "<IPython.core.display.HTML object>",
      "text/html": "Synced 4 W&B file(s), 0 media file(s), 0 artifact file(s) and 0 other file(s)"
     },
     "metadata": {},
     "output_type": "display_data"
    },
    {
     "data": {
      "text/plain": "<IPython.core.display.HTML object>",
      "text/html": "\n                    <br/>Synced <strong style=\"color:#cdcd00\">prime-sweep-36</strong>: <a href=\"https://wandb.ai/devcore/Metriken%20Bauwesen%20Sweeps/runs/li817zzi\" target=\"_blank\">https://wandb.ai/devcore/Metriken%20Bauwesen%20Sweeps/runs/li817zzi</a><br/>\n                "
     },
     "metadata": {},
     "output_type": "display_data"
    },
    {
     "data": {
      "text/plain": "<IPython.core.display.HTML object>",
      "text/html": "\n                Tracking run with wandb version 0.11.0<br/>\n                Syncing run <strong style=\"color:#cdcd00\">light-sweep-37</strong> to <a href=\"https://wandb.ai\" target=\"_blank\">Weights & Biases</a> <a href=\"https://docs.wandb.com/integrations/jupyter.html\" target=\"_blank\">(Documentation)</a>.<br/>\n                Project page: <a href=\"https://wandb.ai/devcore/Metriken%20Bauwesen%20Sweeps\" target=\"_blank\">https://wandb.ai/devcore/Metriken%20Bauwesen%20Sweeps</a><br/>\n                Sweep page: <a href=\"https://wandb.ai/devcore/Metriken%20Bauwesen%20Sweeps/sweeps/aslqb1cw\" target=\"_blank\">https://wandb.ai/devcore/Metriken%20Bauwesen%20Sweeps/sweeps/aslqb1cw</a><br/>\nRun page: <a href=\"https://wandb.ai/devcore/Metriken%20Bauwesen%20Sweeps/runs/dw5qme11\" target=\"_blank\">https://wandb.ai/devcore/Metriken%20Bauwesen%20Sweeps/runs/dw5qme11</a><br/>\n                Run data is saved locally in <code>D:\\Development\\FHNW\\ip5-metriken-bauwesen\\src\\weight_and_bias\\wandb\\run-20210813_102817-dw5qme11</code><br/><br/>\n            "
     },
     "metadata": {},
     "output_type": "display_data"
    },
    {
     "data": {
      "text/plain": "<IPython.core.display.HTML object>",
      "text/html": "<br/>Waiting for W&B process to finish, PID 18972<br/>Program ended successfully."
     },
     "metadata": {},
     "output_type": "display_data"
    },
    {
     "data": {
      "text/plain": "VBox(children=(Label(value=' 0.00MB of 0.00MB uploaded (0.00MB deduped)\\r'), FloatProgress(value=1.0, max=1.0)…",
      "application/vnd.jupyter.widget-view+json": {
       "version_major": 2,
       "version_minor": 0,
       "model_id": "56f7348b6ac9421db424d42dbda4bac8"
      }
     },
     "metadata": {},
     "output_type": "display_data"
    },
    {
     "data": {
      "text/plain": "<IPython.core.display.HTML object>",
      "text/html": "Find user logs for this run at: <code>D:\\Development\\FHNW\\ip5-metriken-bauwesen\\src\\weight_and_bias\\wandb\\run-20210813_102817-dw5qme11\\logs\\debug.log</code>"
     },
     "metadata": {},
     "output_type": "display_data"
    },
    {
     "data": {
      "text/plain": "<IPython.core.display.HTML object>",
      "text/html": "Find internal logs for this run at: <code>D:\\Development\\FHNW\\ip5-metriken-bauwesen\\src\\weight_and_bias\\wandb\\run-20210813_102817-dw5qme11\\logs\\debug-internal.log</code>"
     },
     "metadata": {},
     "output_type": "display_data"
    },
    {
     "data": {
      "text/plain": "<IPython.core.display.HTML object>",
      "text/html": "<h3>Run summary:</h3><br/><style>\n    table.wandb td:nth-child(1) { padding: 0 10px; text-align: right }\n    </style><table class=\"wandb\">\n<tr><td>r2</td><td>0.91619</td></tr><tr><td>_runtime</td><td>17</td></tr><tr><td>_timestamp</td><td>1628843314</td></tr><tr><td>_step</td><td>3</td></tr><tr><td>neg_mape</td><td>-0.15469</td></tr><tr><td>neg_mae</td><td>-521.30833</td></tr><tr><td>neg_rmse</td><td>-1085.99188</td></tr></table>"
     },
     "metadata": {},
     "output_type": "display_data"
    },
    {
     "data": {
      "text/plain": "<IPython.core.display.HTML object>",
      "text/html": "<h3>Run history:</h3><br/><style>\n    table.wandb td:nth-child(1) { padding: 0 10px; text-align: right }\n    </style><table class=\"wandb\">\n<tr><td>r2</td><td>▁</td></tr><tr><td>_runtime</td><td>▁▁▁▁</td></tr><tr><td>_timestamp</td><td>▁▁▁▁</td></tr><tr><td>_step</td><td>▁▃▆█</td></tr><tr><td>neg_mape</td><td>▁</td></tr><tr><td>neg_mae</td><td>▁</td></tr><tr><td>neg_rmse</td><td>▁</td></tr></table><br/>"
     },
     "metadata": {},
     "output_type": "display_data"
    },
    {
     "data": {
      "text/plain": "<IPython.core.display.HTML object>",
      "text/html": "Synced 4 W&B file(s), 0 media file(s), 0 artifact file(s) and 0 other file(s)"
     },
     "metadata": {},
     "output_type": "display_data"
    },
    {
     "data": {
      "text/plain": "<IPython.core.display.HTML object>",
      "text/html": "\n                    <br/>Synced <strong style=\"color:#cdcd00\">light-sweep-37</strong>: <a href=\"https://wandb.ai/devcore/Metriken%20Bauwesen%20Sweeps/runs/dw5qme11\" target=\"_blank\">https://wandb.ai/devcore/Metriken%20Bauwesen%20Sweeps/runs/dw5qme11</a><br/>\n                "
     },
     "metadata": {},
     "output_type": "display_data"
    },
    {
     "data": {
      "text/plain": "<IPython.core.display.HTML object>",
      "text/html": "\n                Tracking run with wandb version 0.11.0<br/>\n                Syncing run <strong style=\"color:#cdcd00\">devout-sweep-38</strong> to <a href=\"https://wandb.ai\" target=\"_blank\">Weights & Biases</a> <a href=\"https://docs.wandb.com/integrations/jupyter.html\" target=\"_blank\">(Documentation)</a>.<br/>\n                Project page: <a href=\"https://wandb.ai/devcore/Metriken%20Bauwesen%20Sweeps\" target=\"_blank\">https://wandb.ai/devcore/Metriken%20Bauwesen%20Sweeps</a><br/>\n                Sweep page: <a href=\"https://wandb.ai/devcore/Metriken%20Bauwesen%20Sweeps/sweeps/aslqb1cw\" target=\"_blank\">https://wandb.ai/devcore/Metriken%20Bauwesen%20Sweeps/sweeps/aslqb1cw</a><br/>\nRun page: <a href=\"https://wandb.ai/devcore/Metriken%20Bauwesen%20Sweeps/runs/bn6yrtc8\" target=\"_blank\">https://wandb.ai/devcore/Metriken%20Bauwesen%20Sweeps/runs/bn6yrtc8</a><br/>\n                Run data is saved locally in <code>D:\\Development\\FHNW\\ip5-metriken-bauwesen\\src\\weight_and_bias\\wandb\\run-20210813_102837-bn6yrtc8</code><br/><br/>\n            "
     },
     "metadata": {},
     "output_type": "display_data"
    },
    {
     "data": {
      "text/plain": "<IPython.core.display.HTML object>",
      "text/html": "<br/>Waiting for W&B process to finish, PID 5968<br/>Program ended successfully."
     },
     "metadata": {},
     "output_type": "display_data"
    },
    {
     "data": {
      "text/plain": "VBox(children=(Label(value=' 0.00MB of 0.00MB uploaded (0.00MB deduped)\\r'), FloatProgress(value=1.0, max=1.0)…",
      "application/vnd.jupyter.widget-view+json": {
       "version_major": 2,
       "version_minor": 0,
       "model_id": "8e1c72cb079c414f8e8282e26150099b"
      }
     },
     "metadata": {},
     "output_type": "display_data"
    },
    {
     "data": {
      "text/plain": "<IPython.core.display.HTML object>",
      "text/html": "Find user logs for this run at: <code>D:\\Development\\FHNW\\ip5-metriken-bauwesen\\src\\weight_and_bias\\wandb\\run-20210813_102837-bn6yrtc8\\logs\\debug.log</code>"
     },
     "metadata": {},
     "output_type": "display_data"
    },
    {
     "data": {
      "text/plain": "<IPython.core.display.HTML object>",
      "text/html": "Find internal logs for this run at: <code>D:\\Development\\FHNW\\ip5-metriken-bauwesen\\src\\weight_and_bias\\wandb\\run-20210813_102837-bn6yrtc8\\logs\\debug-internal.log</code>"
     },
     "metadata": {},
     "output_type": "display_data"
    },
    {
     "data": {
      "text/plain": "<IPython.core.display.HTML object>",
      "text/html": "<h3>Run summary:</h3><br/><style>\n    table.wandb td:nth-child(1) { padding: 0 10px; text-align: right }\n    </style><table class=\"wandb\">\n<tr><td>r2</td><td>0.90004</td></tr><tr><td>_runtime</td><td>14</td></tr><tr><td>_timestamp</td><td>1628843332</td></tr><tr><td>_step</td><td>3</td></tr><tr><td>neg_mape</td><td>-0.15712</td></tr><tr><td>neg_mae</td><td>-533.67502</td></tr><tr><td>neg_rmse</td><td>-1150.23848</td></tr></table>"
     },
     "metadata": {},
     "output_type": "display_data"
    },
    {
     "data": {
      "text/plain": "<IPython.core.display.HTML object>",
      "text/html": "<h3>Run history:</h3><br/><style>\n    table.wandb td:nth-child(1) { padding: 0 10px; text-align: right }\n    </style><table class=\"wandb\">\n<tr><td>r2</td><td>▁</td></tr><tr><td>_runtime</td><td>▁▁▁▁</td></tr><tr><td>_timestamp</td><td>▁▁▁▁</td></tr><tr><td>_step</td><td>▁▃▆█</td></tr><tr><td>neg_mape</td><td>▁</td></tr><tr><td>neg_mae</td><td>▁</td></tr><tr><td>neg_rmse</td><td>▁</td></tr></table><br/>"
     },
     "metadata": {},
     "output_type": "display_data"
    },
    {
     "data": {
      "text/plain": "<IPython.core.display.HTML object>",
      "text/html": "Synced 4 W&B file(s), 0 media file(s), 0 artifact file(s) and 0 other file(s)"
     },
     "metadata": {},
     "output_type": "display_data"
    },
    {
     "data": {
      "text/plain": "<IPython.core.display.HTML object>",
      "text/html": "\n                    <br/>Synced <strong style=\"color:#cdcd00\">devout-sweep-38</strong>: <a href=\"https://wandb.ai/devcore/Metriken%20Bauwesen%20Sweeps/runs/bn6yrtc8\" target=\"_blank\">https://wandb.ai/devcore/Metriken%20Bauwesen%20Sweeps/runs/bn6yrtc8</a><br/>\n                "
     },
     "metadata": {},
     "output_type": "display_data"
    },
    {
     "data": {
      "text/plain": "<IPython.core.display.HTML object>",
      "text/html": "\n                Tracking run with wandb version 0.11.0<br/>\n                Syncing run <strong style=\"color:#cdcd00\">balmy-sweep-39</strong> to <a href=\"https://wandb.ai\" target=\"_blank\">Weights & Biases</a> <a href=\"https://docs.wandb.com/integrations/jupyter.html\" target=\"_blank\">(Documentation)</a>.<br/>\n                Project page: <a href=\"https://wandb.ai/devcore/Metriken%20Bauwesen%20Sweeps\" target=\"_blank\">https://wandb.ai/devcore/Metriken%20Bauwesen%20Sweeps</a><br/>\n                Sweep page: <a href=\"https://wandb.ai/devcore/Metriken%20Bauwesen%20Sweeps/sweeps/aslqb1cw\" target=\"_blank\">https://wandb.ai/devcore/Metriken%20Bauwesen%20Sweeps/sweeps/aslqb1cw</a><br/>\nRun page: <a href=\"https://wandb.ai/devcore/Metriken%20Bauwesen%20Sweeps/runs/t5bfbh9e\" target=\"_blank\">https://wandb.ai/devcore/Metriken%20Bauwesen%20Sweeps/runs/t5bfbh9e</a><br/>\n                Run data is saved locally in <code>D:\\Development\\FHNW\\ip5-metriken-bauwesen\\src\\weight_and_bias\\wandb\\run-20210813_102856-t5bfbh9e</code><br/><br/>\n            "
     },
     "metadata": {},
     "output_type": "display_data"
    },
    {
     "data": {
      "text/plain": "<IPython.core.display.HTML object>",
      "text/html": "<br/>Waiting for W&B process to finish, PID 23000<br/>Program ended successfully."
     },
     "metadata": {},
     "output_type": "display_data"
    },
    {
     "data": {
      "text/plain": "VBox(children=(Label(value=' 0.00MB of 0.00MB uploaded (0.00MB deduped)\\r'), FloatProgress(value=1.0, max=1.0)…",
      "application/vnd.jupyter.widget-view+json": {
       "version_major": 2,
       "version_minor": 0,
       "model_id": "086325d624ef415fadb000f588eb8e46"
      }
     },
     "metadata": {},
     "output_type": "display_data"
    },
    {
     "data": {
      "text/plain": "<IPython.core.display.HTML object>",
      "text/html": "Find user logs for this run at: <code>D:\\Development\\FHNW\\ip5-metriken-bauwesen\\src\\weight_and_bias\\wandb\\run-20210813_102856-t5bfbh9e\\logs\\debug.log</code>"
     },
     "metadata": {},
     "output_type": "display_data"
    },
    {
     "data": {
      "text/plain": "<IPython.core.display.HTML object>",
      "text/html": "Find internal logs for this run at: <code>D:\\Development\\FHNW\\ip5-metriken-bauwesen\\src\\weight_and_bias\\wandb\\run-20210813_102856-t5bfbh9e\\logs\\debug-internal.log</code>"
     },
     "metadata": {},
     "output_type": "display_data"
    },
    {
     "data": {
      "text/plain": "<IPython.core.display.HTML object>",
      "text/html": "<h3>Run summary:</h3><br/><style>\n    table.wandb td:nth-child(1) { padding: 0 10px; text-align: right }\n    </style><table class=\"wandb\">\n<tr><td>r2</td><td>0.90901</td></tr><tr><td>_runtime</td><td>34</td></tr><tr><td>_timestamp</td><td>1628843370</td></tr><tr><td>_step</td><td>3</td></tr><tr><td>neg_mape</td><td>-0.16824</td></tr><tr><td>neg_mae</td><td>-542.4988</td></tr><tr><td>neg_rmse</td><td>-1109.17089</td></tr></table>"
     },
     "metadata": {},
     "output_type": "display_data"
    },
    {
     "data": {
      "text/plain": "<IPython.core.display.HTML object>",
      "text/html": "<h3>Run history:</h3><br/><style>\n    table.wandb td:nth-child(1) { padding: 0 10px; text-align: right }\n    </style><table class=\"wandb\">\n<tr><td>r2</td><td>▁</td></tr><tr><td>_runtime</td><td>▁▁▁▁</td></tr><tr><td>_timestamp</td><td>▁▁▁▁</td></tr><tr><td>_step</td><td>▁▃▆█</td></tr><tr><td>neg_mape</td><td>▁</td></tr><tr><td>neg_mae</td><td>▁</td></tr><tr><td>neg_rmse</td><td>▁</td></tr></table><br/>"
     },
     "metadata": {},
     "output_type": "display_data"
    },
    {
     "data": {
      "text/plain": "<IPython.core.display.HTML object>",
      "text/html": "Synced 4 W&B file(s), 0 media file(s), 0 artifact file(s) and 0 other file(s)"
     },
     "metadata": {},
     "output_type": "display_data"
    },
    {
     "data": {
      "text/plain": "<IPython.core.display.HTML object>",
      "text/html": "\n                    <br/>Synced <strong style=\"color:#cdcd00\">balmy-sweep-39</strong>: <a href=\"https://wandb.ai/devcore/Metriken%20Bauwesen%20Sweeps/runs/t5bfbh9e\" target=\"_blank\">https://wandb.ai/devcore/Metriken%20Bauwesen%20Sweeps/runs/t5bfbh9e</a><br/>\n                "
     },
     "metadata": {},
     "output_type": "display_data"
    },
    {
     "data": {
      "text/plain": "<IPython.core.display.HTML object>",
      "text/html": "\n                Tracking run with wandb version 0.11.0<br/>\n                Syncing run <strong style=\"color:#cdcd00\">deep-sweep-40</strong> to <a href=\"https://wandb.ai\" target=\"_blank\">Weights & Biases</a> <a href=\"https://docs.wandb.com/integrations/jupyter.html\" target=\"_blank\">(Documentation)</a>.<br/>\n                Project page: <a href=\"https://wandb.ai/devcore/Metriken%20Bauwesen%20Sweeps\" target=\"_blank\">https://wandb.ai/devcore/Metriken%20Bauwesen%20Sweeps</a><br/>\n                Sweep page: <a href=\"https://wandb.ai/devcore/Metriken%20Bauwesen%20Sweeps/sweeps/aslqb1cw\" target=\"_blank\">https://wandb.ai/devcore/Metriken%20Bauwesen%20Sweeps/sweeps/aslqb1cw</a><br/>\nRun page: <a href=\"https://wandb.ai/devcore/Metriken%20Bauwesen%20Sweeps/runs/ky1201mc\" target=\"_blank\">https://wandb.ai/devcore/Metriken%20Bauwesen%20Sweeps/runs/ky1201mc</a><br/>\n                Run data is saved locally in <code>D:\\Development\\FHNW\\ip5-metriken-bauwesen\\src\\weight_and_bias\\wandb\\run-20210813_102935-ky1201mc</code><br/><br/>\n            "
     },
     "metadata": {},
     "output_type": "display_data"
    },
    {
     "data": {
      "text/plain": "<IPython.core.display.HTML object>",
      "text/html": "<br/>Waiting for W&B process to finish, PID 22812<br/>Program ended successfully."
     },
     "metadata": {},
     "output_type": "display_data"
    },
    {
     "data": {
      "text/plain": "VBox(children=(Label(value=' 0.00MB of 0.00MB uploaded (0.00MB deduped)\\r'), FloatProgress(value=1.0, max=1.0)…",
      "application/vnd.jupyter.widget-view+json": {
       "version_major": 2,
       "version_minor": 0,
       "model_id": "fc790ac1031f4dac9c14f5aa2911f030"
      }
     },
     "metadata": {},
     "output_type": "display_data"
    },
    {
     "data": {
      "text/plain": "<IPython.core.display.HTML object>",
      "text/html": "Find user logs for this run at: <code>D:\\Development\\FHNW\\ip5-metriken-bauwesen\\src\\weight_and_bias\\wandb\\run-20210813_102935-ky1201mc\\logs\\debug.log</code>"
     },
     "metadata": {},
     "output_type": "display_data"
    },
    {
     "data": {
      "text/plain": "<IPython.core.display.HTML object>",
      "text/html": "Find internal logs for this run at: <code>D:\\Development\\FHNW\\ip5-metriken-bauwesen\\src\\weight_and_bias\\wandb\\run-20210813_102935-ky1201mc\\logs\\debug-internal.log</code>"
     },
     "metadata": {},
     "output_type": "display_data"
    },
    {
     "data": {
      "text/plain": "<IPython.core.display.HTML object>",
      "text/html": "<h3>Run summary:</h3><br/><style>\n    table.wandb td:nth-child(1) { padding: 0 10px; text-align: right }\n    </style><table class=\"wandb\">\n<tr><td>r2</td><td>0.91217</td></tr><tr><td>_runtime</td><td>16</td></tr><tr><td>_timestamp</td><td>1628843391</td></tr><tr><td>_step</td><td>3</td></tr><tr><td>neg_mape</td><td>-0.15258</td></tr><tr><td>neg_mae</td><td>-515.58451</td></tr><tr><td>neg_rmse</td><td>-1111.95049</td></tr></table>"
     },
     "metadata": {},
     "output_type": "display_data"
    },
    {
     "data": {
      "text/plain": "<IPython.core.display.HTML object>",
      "text/html": "<h3>Run history:</h3><br/><style>\n    table.wandb td:nth-child(1) { padding: 0 10px; text-align: right }\n    </style><table class=\"wandb\">\n<tr><td>r2</td><td>▁</td></tr><tr><td>_runtime</td><td>▁▁▁▁</td></tr><tr><td>_timestamp</td><td>▁▁▁▁</td></tr><tr><td>_step</td><td>▁▃▆█</td></tr><tr><td>neg_mape</td><td>▁</td></tr><tr><td>neg_mae</td><td>▁</td></tr><tr><td>neg_rmse</td><td>▁</td></tr></table><br/>"
     },
     "metadata": {},
     "output_type": "display_data"
    },
    {
     "data": {
      "text/plain": "<IPython.core.display.HTML object>",
      "text/html": "Synced 4 W&B file(s), 0 media file(s), 0 artifact file(s) and 0 other file(s)"
     },
     "metadata": {},
     "output_type": "display_data"
    },
    {
     "data": {
      "text/plain": "<IPython.core.display.HTML object>",
      "text/html": "\n                    <br/>Synced <strong style=\"color:#cdcd00\">deep-sweep-40</strong>: <a href=\"https://wandb.ai/devcore/Metriken%20Bauwesen%20Sweeps/runs/ky1201mc\" target=\"_blank\">https://wandb.ai/devcore/Metriken%20Bauwesen%20Sweeps/runs/ky1201mc</a><br/>\n                "
     },
     "metadata": {},
     "output_type": "display_data"
    },
    {
     "data": {
      "text/plain": "<IPython.core.display.HTML object>",
      "text/html": "\n                Tracking run with wandb version 0.11.0<br/>\n                Syncing run <strong style=\"color:#cdcd00\">olive-sweep-41</strong> to <a href=\"https://wandb.ai\" target=\"_blank\">Weights & Biases</a> <a href=\"https://docs.wandb.com/integrations/jupyter.html\" target=\"_blank\">(Documentation)</a>.<br/>\n                Project page: <a href=\"https://wandb.ai/devcore/Metriken%20Bauwesen%20Sweeps\" target=\"_blank\">https://wandb.ai/devcore/Metriken%20Bauwesen%20Sweeps</a><br/>\n                Sweep page: <a href=\"https://wandb.ai/devcore/Metriken%20Bauwesen%20Sweeps/sweeps/aslqb1cw\" target=\"_blank\">https://wandb.ai/devcore/Metriken%20Bauwesen%20Sweeps/sweeps/aslqb1cw</a><br/>\nRun page: <a href=\"https://wandb.ai/devcore/Metriken%20Bauwesen%20Sweeps/runs/x7np1u0c\" target=\"_blank\">https://wandb.ai/devcore/Metriken%20Bauwesen%20Sweeps/runs/x7np1u0c</a><br/>\n                Run data is saved locally in <code>D:\\Development\\FHNW\\ip5-metriken-bauwesen\\src\\weight_and_bias\\wandb\\run-20210813_102955-x7np1u0c</code><br/><br/>\n            "
     },
     "metadata": {},
     "output_type": "display_data"
    },
    {
     "data": {
      "text/plain": "<IPython.core.display.HTML object>",
      "text/html": "<br/>Waiting for W&B process to finish, PID 8776<br/>Program ended successfully."
     },
     "metadata": {},
     "output_type": "display_data"
    },
    {
     "data": {
      "text/plain": "VBox(children=(Label(value=' 0.00MB of 0.00MB uploaded (0.00MB deduped)\\r'), FloatProgress(value=1.0, max=1.0)…",
      "application/vnd.jupyter.widget-view+json": {
       "version_major": 2,
       "version_minor": 0,
       "model_id": "b02702f05eaa446291a5c8b12d5e19bf"
      }
     },
     "metadata": {},
     "output_type": "display_data"
    },
    {
     "data": {
      "text/plain": "<IPython.core.display.HTML object>",
      "text/html": "Find user logs for this run at: <code>D:\\Development\\FHNW\\ip5-metriken-bauwesen\\src\\weight_and_bias\\wandb\\run-20210813_102955-x7np1u0c\\logs\\debug.log</code>"
     },
     "metadata": {},
     "output_type": "display_data"
    },
    {
     "data": {
      "text/plain": "<IPython.core.display.HTML object>",
      "text/html": "Find internal logs for this run at: <code>D:\\Development\\FHNW\\ip5-metriken-bauwesen\\src\\weight_and_bias\\wandb\\run-20210813_102955-x7np1u0c\\logs\\debug-internal.log</code>"
     },
     "metadata": {},
     "output_type": "display_data"
    },
    {
     "data": {
      "text/plain": "<IPython.core.display.HTML object>",
      "text/html": "<h3>Run summary:</h3><br/><style>\n    table.wandb td:nth-child(1) { padding: 0 10px; text-align: right }\n    </style><table class=\"wandb\">\n<tr><td>r2</td><td>0.90856</td></tr><tr><td>_runtime</td><td>66</td></tr><tr><td>_timestamp</td><td>1628843461</td></tr><tr><td>_step</td><td>3</td></tr><tr><td>neg_mape</td><td>-0.16851</td></tr><tr><td>neg_mae</td><td>-546.35419</td></tr><tr><td>neg_rmse</td><td>-1138.71748</td></tr></table>"
     },
     "metadata": {},
     "output_type": "display_data"
    },
    {
     "data": {
      "text/plain": "<IPython.core.display.HTML object>",
      "text/html": "<h3>Run history:</h3><br/><style>\n    table.wandb td:nth-child(1) { padding: 0 10px; text-align: right }\n    </style><table class=\"wandb\">\n<tr><td>r2</td><td>▁</td></tr><tr><td>_runtime</td><td>▁▁▁▁</td></tr><tr><td>_timestamp</td><td>▁▁▁▁</td></tr><tr><td>_step</td><td>▁▃▆█</td></tr><tr><td>neg_mape</td><td>▁</td></tr><tr><td>neg_mae</td><td>▁</td></tr><tr><td>neg_rmse</td><td>▁</td></tr></table><br/>"
     },
     "metadata": {},
     "output_type": "display_data"
    },
    {
     "data": {
      "text/plain": "<IPython.core.display.HTML object>",
      "text/html": "Synced 4 W&B file(s), 0 media file(s), 0 artifact file(s) and 0 other file(s)"
     },
     "metadata": {},
     "output_type": "display_data"
    },
    {
     "data": {
      "text/plain": "<IPython.core.display.HTML object>",
      "text/html": "\n                    <br/>Synced <strong style=\"color:#cdcd00\">olive-sweep-41</strong>: <a href=\"https://wandb.ai/devcore/Metriken%20Bauwesen%20Sweeps/runs/x7np1u0c\" target=\"_blank\">https://wandb.ai/devcore/Metriken%20Bauwesen%20Sweeps/runs/x7np1u0c</a><br/>\n                "
     },
     "metadata": {},
     "output_type": "display_data"
    },
    {
     "data": {
      "text/plain": "<IPython.core.display.HTML object>",
      "text/html": "\n                Tracking run with wandb version 0.11.0<br/>\n                Syncing run <strong style=\"color:#cdcd00\">visionary-sweep-42</strong> to <a href=\"https://wandb.ai\" target=\"_blank\">Weights & Biases</a> <a href=\"https://docs.wandb.com/integrations/jupyter.html\" target=\"_blank\">(Documentation)</a>.<br/>\n                Project page: <a href=\"https://wandb.ai/devcore/Metriken%20Bauwesen%20Sweeps\" target=\"_blank\">https://wandb.ai/devcore/Metriken%20Bauwesen%20Sweeps</a><br/>\n                Sweep page: <a href=\"https://wandb.ai/devcore/Metriken%20Bauwesen%20Sweeps/sweeps/aslqb1cw\" target=\"_blank\">https://wandb.ai/devcore/Metriken%20Bauwesen%20Sweeps/sweeps/aslqb1cw</a><br/>\nRun page: <a href=\"https://wandb.ai/devcore/Metriken%20Bauwesen%20Sweeps/runs/uda3s5ku\" target=\"_blank\">https://wandb.ai/devcore/Metriken%20Bauwesen%20Sweeps/runs/uda3s5ku</a><br/>\n                Run data is saved locally in <code>D:\\Development\\FHNW\\ip5-metriken-bauwesen\\src\\weight_and_bias\\wandb\\run-20210813_103106-uda3s5ku</code><br/><br/>\n            "
     },
     "metadata": {},
     "output_type": "display_data"
    },
    {
     "data": {
      "text/plain": "<IPython.core.display.HTML object>",
      "text/html": "<br/>Waiting for W&B process to finish, PID 23080<br/>Program ended successfully."
     },
     "metadata": {},
     "output_type": "display_data"
    },
    {
     "data": {
      "text/plain": "VBox(children=(Label(value=' 0.00MB of 0.00MB uploaded (0.00MB deduped)\\r'), FloatProgress(value=1.0, max=1.0)…",
      "application/vnd.jupyter.widget-view+json": {
       "version_major": 2,
       "version_minor": 0,
       "model_id": "10e9c8e3a3b74837a710f295c9a9da19"
      }
     },
     "metadata": {},
     "output_type": "display_data"
    },
    {
     "data": {
      "text/plain": "<IPython.core.display.HTML object>",
      "text/html": "Find user logs for this run at: <code>D:\\Development\\FHNW\\ip5-metriken-bauwesen\\src\\weight_and_bias\\wandb\\run-20210813_103106-uda3s5ku\\logs\\debug.log</code>"
     },
     "metadata": {},
     "output_type": "display_data"
    },
    {
     "data": {
      "text/plain": "<IPython.core.display.HTML object>",
      "text/html": "Find internal logs for this run at: <code>D:\\Development\\FHNW\\ip5-metriken-bauwesen\\src\\weight_and_bias\\wandb\\run-20210813_103106-uda3s5ku\\logs\\debug-internal.log</code>"
     },
     "metadata": {},
     "output_type": "display_data"
    },
    {
     "data": {
      "text/plain": "<IPython.core.display.HTML object>",
      "text/html": "<h3>Run summary:</h3><br/><style>\n    table.wandb td:nth-child(1) { padding: 0 10px; text-align: right }\n    </style><table class=\"wandb\">\n<tr><td>r2</td><td>0.90153</td></tr><tr><td>_runtime</td><td>55</td></tr><tr><td>_timestamp</td><td>1628843521</td></tr><tr><td>_step</td><td>3</td></tr><tr><td>neg_mape</td><td>-0.16562</td></tr><tr><td>neg_mae</td><td>-547.23232</td></tr><tr><td>neg_rmse</td><td>-1174.68938</td></tr></table>"
     },
     "metadata": {},
     "output_type": "display_data"
    },
    {
     "data": {
      "text/plain": "<IPython.core.display.HTML object>",
      "text/html": "<h3>Run history:</h3><br/><style>\n    table.wandb td:nth-child(1) { padding: 0 10px; text-align: right }\n    </style><table class=\"wandb\">\n<tr><td>r2</td><td>▁</td></tr><tr><td>_runtime</td><td>▁▁▁▁</td></tr><tr><td>_timestamp</td><td>▁▁▁▁</td></tr><tr><td>_step</td><td>▁▃▆█</td></tr><tr><td>neg_mape</td><td>▁</td></tr><tr><td>neg_mae</td><td>▁</td></tr><tr><td>neg_rmse</td><td>▁</td></tr></table><br/>"
     },
     "metadata": {},
     "output_type": "display_data"
    },
    {
     "data": {
      "text/plain": "<IPython.core.display.HTML object>",
      "text/html": "Synced 4 W&B file(s), 0 media file(s), 0 artifact file(s) and 0 other file(s)"
     },
     "metadata": {},
     "output_type": "display_data"
    },
    {
     "data": {
      "text/plain": "<IPython.core.display.HTML object>",
      "text/html": "\n                    <br/>Synced <strong style=\"color:#cdcd00\">visionary-sweep-42</strong>: <a href=\"https://wandb.ai/devcore/Metriken%20Bauwesen%20Sweeps/runs/uda3s5ku\" target=\"_blank\">https://wandb.ai/devcore/Metriken%20Bauwesen%20Sweeps/runs/uda3s5ku</a><br/>\n                "
     },
     "metadata": {},
     "output_type": "display_data"
    },
    {
     "data": {
      "text/plain": "<IPython.core.display.HTML object>",
      "text/html": "\n                Tracking run with wandb version 0.11.0<br/>\n                Syncing run <strong style=\"color:#cdcd00\">playful-sweep-43</strong> to <a href=\"https://wandb.ai\" target=\"_blank\">Weights & Biases</a> <a href=\"https://docs.wandb.com/integrations/jupyter.html\" target=\"_blank\">(Documentation)</a>.<br/>\n                Project page: <a href=\"https://wandb.ai/devcore/Metriken%20Bauwesen%20Sweeps\" target=\"_blank\">https://wandb.ai/devcore/Metriken%20Bauwesen%20Sweeps</a><br/>\n                Sweep page: <a href=\"https://wandb.ai/devcore/Metriken%20Bauwesen%20Sweeps/sweeps/aslqb1cw\" target=\"_blank\">https://wandb.ai/devcore/Metriken%20Bauwesen%20Sweeps/sweeps/aslqb1cw</a><br/>\nRun page: <a href=\"https://wandb.ai/devcore/Metriken%20Bauwesen%20Sweeps/runs/witlq0nb\" target=\"_blank\">https://wandb.ai/devcore/Metriken%20Bauwesen%20Sweeps/runs/witlq0nb</a><br/>\n                Run data is saved locally in <code>D:\\Development\\FHNW\\ip5-metriken-bauwesen\\src\\weight_and_bias\\wandb\\run-20210813_103205-witlq0nb</code><br/><br/>\n            "
     },
     "metadata": {},
     "output_type": "display_data"
    },
    {
     "data": {
      "text/plain": "<IPython.core.display.HTML object>",
      "text/html": "<br/>Waiting for W&B process to finish, PID 18104<br/>Program ended successfully."
     },
     "metadata": {},
     "output_type": "display_data"
    },
    {
     "data": {
      "text/plain": "VBox(children=(Label(value=' 0.00MB of 0.00MB uploaded (0.00MB deduped)\\r'), FloatProgress(value=1.0, max=1.0)…",
      "application/vnd.jupyter.widget-view+json": {
       "version_major": 2,
       "version_minor": 0,
       "model_id": "39070b374f924e97b92f10c450731ca4"
      }
     },
     "metadata": {},
     "output_type": "display_data"
    },
    {
     "data": {
      "text/plain": "<IPython.core.display.HTML object>",
      "text/html": "Find user logs for this run at: <code>D:\\Development\\FHNW\\ip5-metriken-bauwesen\\src\\weight_and_bias\\wandb\\run-20210813_103205-witlq0nb\\logs\\debug.log</code>"
     },
     "metadata": {},
     "output_type": "display_data"
    },
    {
     "data": {
      "text/plain": "<IPython.core.display.HTML object>",
      "text/html": "Find internal logs for this run at: <code>D:\\Development\\FHNW\\ip5-metriken-bauwesen\\src\\weight_and_bias\\wandb\\run-20210813_103205-witlq0nb\\logs\\debug-internal.log</code>"
     },
     "metadata": {},
     "output_type": "display_data"
    },
    {
     "data": {
      "text/plain": "<IPython.core.display.HTML object>",
      "text/html": "<h3>Run summary:</h3><br/><style>\n    table.wandb td:nth-child(1) { padding: 0 10px; text-align: right }\n    </style><table class=\"wandb\">\n<tr><td>r2</td><td>0.911</td></tr><tr><td>_runtime</td><td>20</td></tr><tr><td>_timestamp</td><td>1628843545</td></tr><tr><td>_step</td><td>3</td></tr><tr><td>neg_mape</td><td>-0.15422</td></tr><tr><td>neg_mae</td><td>-522.08292</td></tr><tr><td>neg_rmse</td><td>-1118.52821</td></tr></table>"
     },
     "metadata": {},
     "output_type": "display_data"
    },
    {
     "data": {
      "text/plain": "<IPython.core.display.HTML object>",
      "text/html": "<h3>Run history:</h3><br/><style>\n    table.wandb td:nth-child(1) { padding: 0 10px; text-align: right }\n    </style><table class=\"wandb\">\n<tr><td>r2</td><td>▁</td></tr><tr><td>_runtime</td><td>▁▁▁▁</td></tr><tr><td>_timestamp</td><td>▁▁▁▁</td></tr><tr><td>_step</td><td>▁▃▆█</td></tr><tr><td>neg_mape</td><td>▁</td></tr><tr><td>neg_mae</td><td>▁</td></tr><tr><td>neg_rmse</td><td>▁</td></tr></table><br/>"
     },
     "metadata": {},
     "output_type": "display_data"
    },
    {
     "data": {
      "text/plain": "<IPython.core.display.HTML object>",
      "text/html": "Synced 4 W&B file(s), 0 media file(s), 0 artifact file(s) and 0 other file(s)"
     },
     "metadata": {},
     "output_type": "display_data"
    },
    {
     "data": {
      "text/plain": "<IPython.core.display.HTML object>",
      "text/html": "\n                    <br/>Synced <strong style=\"color:#cdcd00\">playful-sweep-43</strong>: <a href=\"https://wandb.ai/devcore/Metriken%20Bauwesen%20Sweeps/runs/witlq0nb\" target=\"_blank\">https://wandb.ai/devcore/Metriken%20Bauwesen%20Sweeps/runs/witlq0nb</a><br/>\n                "
     },
     "metadata": {},
     "output_type": "display_data"
    },
    {
     "data": {
      "text/plain": "<IPython.core.display.HTML object>",
      "text/html": "\n                Tracking run with wandb version 0.11.0<br/>\n                Syncing run <strong style=\"color:#cdcd00\">firm-sweep-44</strong> to <a href=\"https://wandb.ai\" target=\"_blank\">Weights & Biases</a> <a href=\"https://docs.wandb.com/integrations/jupyter.html\" target=\"_blank\">(Documentation)</a>.<br/>\n                Project page: <a href=\"https://wandb.ai/devcore/Metriken%20Bauwesen%20Sweeps\" target=\"_blank\">https://wandb.ai/devcore/Metriken%20Bauwesen%20Sweeps</a><br/>\n                Sweep page: <a href=\"https://wandb.ai/devcore/Metriken%20Bauwesen%20Sweeps/sweeps/aslqb1cw\" target=\"_blank\">https://wandb.ai/devcore/Metriken%20Bauwesen%20Sweeps/sweeps/aslqb1cw</a><br/>\nRun page: <a href=\"https://wandb.ai/devcore/Metriken%20Bauwesen%20Sweeps/runs/lja24gpo\" target=\"_blank\">https://wandb.ai/devcore/Metriken%20Bauwesen%20Sweeps/runs/lja24gpo</a><br/>\n                Run data is saved locally in <code>D:\\Development\\FHNW\\ip5-metriken-bauwesen\\src\\weight_and_bias\\wandb\\run-20210813_103230-lja24gpo</code><br/><br/>\n            "
     },
     "metadata": {},
     "output_type": "display_data"
    },
    {
     "data": {
      "text/plain": "<IPython.core.display.HTML object>",
      "text/html": "<br/>Waiting for W&B process to finish, PID 18224<br/>Program ended successfully."
     },
     "metadata": {},
     "output_type": "display_data"
    },
    {
     "data": {
      "text/plain": "VBox(children=(Label(value=' 0.00MB of 0.00MB uploaded (0.00MB deduped)\\r'), FloatProgress(value=1.0, max=1.0)…",
      "application/vnd.jupyter.widget-view+json": {
       "version_major": 2,
       "version_minor": 0,
       "model_id": "4435220761244bf6a745eaef8b2b5fe9"
      }
     },
     "metadata": {},
     "output_type": "display_data"
    },
    {
     "data": {
      "text/plain": "<IPython.core.display.HTML object>",
      "text/html": "Find user logs for this run at: <code>D:\\Development\\FHNW\\ip5-metriken-bauwesen\\src\\weight_and_bias\\wandb\\run-20210813_103230-lja24gpo\\logs\\debug.log</code>"
     },
     "metadata": {},
     "output_type": "display_data"
    },
    {
     "data": {
      "text/plain": "<IPython.core.display.HTML object>",
      "text/html": "Find internal logs for this run at: <code>D:\\Development\\FHNW\\ip5-metriken-bauwesen\\src\\weight_and_bias\\wandb\\run-20210813_103230-lja24gpo\\logs\\debug-internal.log</code>"
     },
     "metadata": {},
     "output_type": "display_data"
    },
    {
     "data": {
      "text/plain": "<IPython.core.display.HTML object>",
      "text/html": "<h3>Run summary:</h3><br/><style>\n    table.wandb td:nth-child(1) { padding: 0 10px; text-align: right }\n    </style><table class=\"wandb\">\n<tr><td>r2</td><td>0.91851</td></tr><tr><td>_runtime</td><td>21</td></tr><tr><td>_timestamp</td><td>1628843571</td></tr><tr><td>_step</td><td>3</td></tr><tr><td>neg_mape</td><td>-0.16182</td></tr><tr><td>neg_mae</td><td>-509.76242</td></tr><tr><td>neg_rmse</td><td>-1069.39285</td></tr></table>"
     },
     "metadata": {},
     "output_type": "display_data"
    },
    {
     "data": {
      "text/plain": "<IPython.core.display.HTML object>",
      "text/html": "<h3>Run history:</h3><br/><style>\n    table.wandb td:nth-child(1) { padding: 0 10px; text-align: right }\n    </style><table class=\"wandb\">\n<tr><td>r2</td><td>▁</td></tr><tr><td>_runtime</td><td>▁▁▁▁</td></tr><tr><td>_timestamp</td><td>▁▁▁▁</td></tr><tr><td>_step</td><td>▁▃▆█</td></tr><tr><td>neg_mape</td><td>▁</td></tr><tr><td>neg_mae</td><td>▁</td></tr><tr><td>neg_rmse</td><td>▁</td></tr></table><br/>"
     },
     "metadata": {},
     "output_type": "display_data"
    },
    {
     "data": {
      "text/plain": "<IPython.core.display.HTML object>",
      "text/html": "Synced 4 W&B file(s), 0 media file(s), 0 artifact file(s) and 0 other file(s)"
     },
     "metadata": {},
     "output_type": "display_data"
    },
    {
     "data": {
      "text/plain": "<IPython.core.display.HTML object>",
      "text/html": "\n                    <br/>Synced <strong style=\"color:#cdcd00\">firm-sweep-44</strong>: <a href=\"https://wandb.ai/devcore/Metriken%20Bauwesen%20Sweeps/runs/lja24gpo\" target=\"_blank\">https://wandb.ai/devcore/Metriken%20Bauwesen%20Sweeps/runs/lja24gpo</a><br/>\n                "
     },
     "metadata": {},
     "output_type": "display_data"
    },
    {
     "data": {
      "text/plain": "<IPython.core.display.HTML object>",
      "text/html": "\n                Tracking run with wandb version 0.11.0<br/>\n                Syncing run <strong style=\"color:#cdcd00\">fanciful-sweep-45</strong> to <a href=\"https://wandb.ai\" target=\"_blank\">Weights & Biases</a> <a href=\"https://docs.wandb.com/integrations/jupyter.html\" target=\"_blank\">(Documentation)</a>.<br/>\n                Project page: <a href=\"https://wandb.ai/devcore/Metriken%20Bauwesen%20Sweeps\" target=\"_blank\">https://wandb.ai/devcore/Metriken%20Bauwesen%20Sweeps</a><br/>\n                Sweep page: <a href=\"https://wandb.ai/devcore/Metriken%20Bauwesen%20Sweeps/sweeps/aslqb1cw\" target=\"_blank\">https://wandb.ai/devcore/Metriken%20Bauwesen%20Sweeps/sweeps/aslqb1cw</a><br/>\nRun page: <a href=\"https://wandb.ai/devcore/Metriken%20Bauwesen%20Sweeps/runs/b04xc32t\" target=\"_blank\">https://wandb.ai/devcore/Metriken%20Bauwesen%20Sweeps/runs/b04xc32t</a><br/>\n                Run data is saved locally in <code>D:\\Development\\FHNW\\ip5-metriken-bauwesen\\src\\weight_and_bias\\wandb\\run-20210813_103256-b04xc32t</code><br/><br/>\n            "
     },
     "metadata": {},
     "output_type": "display_data"
    },
    {
     "data": {
      "text/plain": "<IPython.core.display.HTML object>",
      "text/html": "<br/>Waiting for W&B process to finish, PID 5808<br/>Program ended successfully."
     },
     "metadata": {},
     "output_type": "display_data"
    },
    {
     "data": {
      "text/plain": "VBox(children=(Label(value=' 0.00MB of 0.00MB uploaded (0.00MB deduped)\\r'), FloatProgress(value=1.0, max=1.0)…",
      "application/vnd.jupyter.widget-view+json": {
       "version_major": 2,
       "version_minor": 0,
       "model_id": "1cde89af8b834af08354a8786cec58df"
      }
     },
     "metadata": {},
     "output_type": "display_data"
    },
    {
     "data": {
      "text/plain": "<IPython.core.display.HTML object>",
      "text/html": "Find user logs for this run at: <code>D:\\Development\\FHNW\\ip5-metriken-bauwesen\\src\\weight_and_bias\\wandb\\run-20210813_103256-b04xc32t\\logs\\debug.log</code>"
     },
     "metadata": {},
     "output_type": "display_data"
    },
    {
     "data": {
      "text/plain": "<IPython.core.display.HTML object>",
      "text/html": "Find internal logs for this run at: <code>D:\\Development\\FHNW\\ip5-metriken-bauwesen\\src\\weight_and_bias\\wandb\\run-20210813_103256-b04xc32t\\logs\\debug-internal.log</code>"
     },
     "metadata": {},
     "output_type": "display_data"
    },
    {
     "data": {
      "text/plain": "<IPython.core.display.HTML object>",
      "text/html": "<h3>Run summary:</h3><br/><style>\n    table.wandb td:nth-child(1) { padding: 0 10px; text-align: right }\n    </style><table class=\"wandb\">\n<tr><td>r2</td><td>0.90847</td></tr><tr><td>_runtime</td><td>13</td></tr><tr><td>_timestamp</td><td>1628843589</td></tr><tr><td>_step</td><td>3</td></tr><tr><td>neg_mape</td><td>-0.15522</td></tr><tr><td>neg_mae</td><td>-531.29209</td></tr><tr><td>neg_rmse</td><td>-1136.98526</td></tr></table>"
     },
     "metadata": {},
     "output_type": "display_data"
    },
    {
     "data": {
      "text/plain": "<IPython.core.display.HTML object>",
      "text/html": "<h3>Run history:</h3><br/><style>\n    table.wandb td:nth-child(1) { padding: 0 10px; text-align: right }\n    </style><table class=\"wandb\">\n<tr><td>r2</td><td>▁</td></tr><tr><td>_runtime</td><td>▁▁▁▁</td></tr><tr><td>_timestamp</td><td>▁▁▁▁</td></tr><tr><td>_step</td><td>▁▃▆█</td></tr><tr><td>neg_mape</td><td>▁</td></tr><tr><td>neg_mae</td><td>▁</td></tr><tr><td>neg_rmse</td><td>▁</td></tr></table><br/>"
     },
     "metadata": {},
     "output_type": "display_data"
    },
    {
     "data": {
      "text/plain": "<IPython.core.display.HTML object>",
      "text/html": "Synced 4 W&B file(s), 0 media file(s), 0 artifact file(s) and 0 other file(s)"
     },
     "metadata": {},
     "output_type": "display_data"
    },
    {
     "data": {
      "text/plain": "<IPython.core.display.HTML object>",
      "text/html": "\n                    <br/>Synced <strong style=\"color:#cdcd00\">fanciful-sweep-45</strong>: <a href=\"https://wandb.ai/devcore/Metriken%20Bauwesen%20Sweeps/runs/b04xc32t\" target=\"_blank\">https://wandb.ai/devcore/Metriken%20Bauwesen%20Sweeps/runs/b04xc32t</a><br/>\n                "
     },
     "metadata": {},
     "output_type": "display_data"
    },
    {
     "data": {
      "text/plain": "<IPython.core.display.HTML object>",
      "text/html": "\n                Tracking run with wandb version 0.11.0<br/>\n                Syncing run <strong style=\"color:#cdcd00\">fanciful-sweep-46</strong> to <a href=\"https://wandb.ai\" target=\"_blank\">Weights & Biases</a> <a href=\"https://docs.wandb.com/integrations/jupyter.html\" target=\"_blank\">(Documentation)</a>.<br/>\n                Project page: <a href=\"https://wandb.ai/devcore/Metriken%20Bauwesen%20Sweeps\" target=\"_blank\">https://wandb.ai/devcore/Metriken%20Bauwesen%20Sweeps</a><br/>\n                Sweep page: <a href=\"https://wandb.ai/devcore/Metriken%20Bauwesen%20Sweeps/sweeps/aslqb1cw\" target=\"_blank\">https://wandb.ai/devcore/Metriken%20Bauwesen%20Sweeps/sweeps/aslqb1cw</a><br/>\nRun page: <a href=\"https://wandb.ai/devcore/Metriken%20Bauwesen%20Sweeps/runs/0w5c5umt\" target=\"_blank\">https://wandb.ai/devcore/Metriken%20Bauwesen%20Sweeps/runs/0w5c5umt</a><br/>\n                Run data is saved locally in <code>D:\\Development\\FHNW\\ip5-metriken-bauwesen\\src\\weight_and_bias\\wandb\\run-20210813_103314-0w5c5umt</code><br/><br/>\n            "
     },
     "metadata": {},
     "output_type": "display_data"
    },
    {
     "data": {
      "text/plain": "<IPython.core.display.HTML object>",
      "text/html": "<br/>Waiting for W&B process to finish, PID 3508<br/>Program ended successfully."
     },
     "metadata": {},
     "output_type": "display_data"
    },
    {
     "data": {
      "text/plain": "VBox(children=(Label(value=' 0.00MB of 0.00MB uploaded (0.00MB deduped)\\r'), FloatProgress(value=1.0, max=1.0)…",
      "application/vnd.jupyter.widget-view+json": {
       "version_major": 2,
       "version_minor": 0,
       "model_id": "7df00782681842c7bbf817fcf0e59a3f"
      }
     },
     "metadata": {},
     "output_type": "display_data"
    },
    {
     "data": {
      "text/plain": "<IPython.core.display.HTML object>",
      "text/html": "Find user logs for this run at: <code>D:\\Development\\FHNW\\ip5-metriken-bauwesen\\src\\weight_and_bias\\wandb\\run-20210813_103314-0w5c5umt\\logs\\debug.log</code>"
     },
     "metadata": {},
     "output_type": "display_data"
    },
    {
     "data": {
      "text/plain": "<IPython.core.display.HTML object>",
      "text/html": "Find internal logs for this run at: <code>D:\\Development\\FHNW\\ip5-metriken-bauwesen\\src\\weight_and_bias\\wandb\\run-20210813_103314-0w5c5umt\\logs\\debug-internal.log</code>"
     },
     "metadata": {},
     "output_type": "display_data"
    },
    {
     "data": {
      "text/plain": "<IPython.core.display.HTML object>",
      "text/html": "<h3>Run summary:</h3><br/><style>\n    table.wandb td:nth-child(1) { padding: 0 10px; text-align: right }\n    </style><table class=\"wandb\">\n<tr><td>r2</td><td>0.91517</td></tr><tr><td>_runtime</td><td>32</td></tr><tr><td>_timestamp</td><td>1628843626</td></tr><tr><td>_step</td><td>3</td></tr><tr><td>neg_mape</td><td>-0.16495</td></tr><tr><td>neg_mae</td><td>-525.26934</td></tr><tr><td>neg_rmse</td><td>-1085.77046</td></tr></table>"
     },
     "metadata": {},
     "output_type": "display_data"
    },
    {
     "data": {
      "text/plain": "<IPython.core.display.HTML object>",
      "text/html": "<h3>Run history:</h3><br/><style>\n    table.wandb td:nth-child(1) { padding: 0 10px; text-align: right }\n    </style><table class=\"wandb\">\n<tr><td>r2</td><td>▁</td></tr><tr><td>_runtime</td><td>▁▁▁▁</td></tr><tr><td>_timestamp</td><td>▁▁▁▁</td></tr><tr><td>_step</td><td>▁▃▆█</td></tr><tr><td>neg_mape</td><td>▁</td></tr><tr><td>neg_mae</td><td>▁</td></tr><tr><td>neg_rmse</td><td>▁</td></tr></table><br/>"
     },
     "metadata": {},
     "output_type": "display_data"
    },
    {
     "data": {
      "text/plain": "<IPython.core.display.HTML object>",
      "text/html": "Synced 4 W&B file(s), 0 media file(s), 0 artifact file(s) and 0 other file(s)"
     },
     "metadata": {},
     "output_type": "display_data"
    },
    {
     "data": {
      "text/plain": "<IPython.core.display.HTML object>",
      "text/html": "\n                    <br/>Synced <strong style=\"color:#cdcd00\">fanciful-sweep-46</strong>: <a href=\"https://wandb.ai/devcore/Metriken%20Bauwesen%20Sweeps/runs/0w5c5umt\" target=\"_blank\">https://wandb.ai/devcore/Metriken%20Bauwesen%20Sweeps/runs/0w5c5umt</a><br/>\n                "
     },
     "metadata": {},
     "output_type": "display_data"
    },
    {
     "data": {
      "text/plain": "<IPython.core.display.HTML object>",
      "text/html": "\n                Tracking run with wandb version 0.11.0<br/>\n                Syncing run <strong style=\"color:#cdcd00\">earthy-sweep-47</strong> to <a href=\"https://wandb.ai\" target=\"_blank\">Weights & Biases</a> <a href=\"https://docs.wandb.com/integrations/jupyter.html\" target=\"_blank\">(Documentation)</a>.<br/>\n                Project page: <a href=\"https://wandb.ai/devcore/Metriken%20Bauwesen%20Sweeps\" target=\"_blank\">https://wandb.ai/devcore/Metriken%20Bauwesen%20Sweeps</a><br/>\n                Sweep page: <a href=\"https://wandb.ai/devcore/Metriken%20Bauwesen%20Sweeps/sweeps/aslqb1cw\" target=\"_blank\">https://wandb.ai/devcore/Metriken%20Bauwesen%20Sweeps/sweeps/aslqb1cw</a><br/>\nRun page: <a href=\"https://wandb.ai/devcore/Metriken%20Bauwesen%20Sweeps/runs/n6akcxom\" target=\"_blank\">https://wandb.ai/devcore/Metriken%20Bauwesen%20Sweeps/runs/n6akcxom</a><br/>\n                Run data is saved locally in <code>D:\\Development\\FHNW\\ip5-metriken-bauwesen\\src\\weight_and_bias\\wandb\\run-20210813_103350-n6akcxom</code><br/><br/>\n            "
     },
     "metadata": {},
     "output_type": "display_data"
    },
    {
     "data": {
      "text/plain": "<IPython.core.display.HTML object>",
      "text/html": "<br/>Waiting for W&B process to finish, PID 14784<br/>Program ended successfully."
     },
     "metadata": {},
     "output_type": "display_data"
    },
    {
     "data": {
      "text/plain": "VBox(children=(Label(value=' 0.00MB of 0.00MB uploaded (0.00MB deduped)\\r'), FloatProgress(value=1.0, max=1.0)…",
      "application/vnd.jupyter.widget-view+json": {
       "version_major": 2,
       "version_minor": 0,
       "model_id": "e33f695c67654b8498366544fe71e87b"
      }
     },
     "metadata": {},
     "output_type": "display_data"
    },
    {
     "data": {
      "text/plain": "<IPython.core.display.HTML object>",
      "text/html": "Find user logs for this run at: <code>D:\\Development\\FHNW\\ip5-metriken-bauwesen\\src\\weight_and_bias\\wandb\\run-20210813_103350-n6akcxom\\logs\\debug.log</code>"
     },
     "metadata": {},
     "output_type": "display_data"
    },
    {
     "data": {
      "text/plain": "<IPython.core.display.HTML object>",
      "text/html": "Find internal logs for this run at: <code>D:\\Development\\FHNW\\ip5-metriken-bauwesen\\src\\weight_and_bias\\wandb\\run-20210813_103350-n6akcxom\\logs\\debug-internal.log</code>"
     },
     "metadata": {},
     "output_type": "display_data"
    },
    {
     "data": {
      "text/plain": "<IPython.core.display.HTML object>",
      "text/html": "<h3>Run summary:</h3><br/><style>\n    table.wandb td:nth-child(1) { padding: 0 10px; text-align: right }\n    </style><table class=\"wandb\">\n<tr><td>r2</td><td>0.89231</td></tr><tr><td>_runtime</td><td>53</td></tr><tr><td>_timestamp</td><td>1628843683</td></tr><tr><td>_step</td><td>3</td></tr><tr><td>neg_mape</td><td>-0.17655</td></tr><tr><td>neg_mae</td><td>-585.96587</td></tr><tr><td>neg_rmse</td><td>-1239.0128</td></tr></table>"
     },
     "metadata": {},
     "output_type": "display_data"
    },
    {
     "data": {
      "text/plain": "<IPython.core.display.HTML object>",
      "text/html": "<h3>Run history:</h3><br/><style>\n    table.wandb td:nth-child(1) { padding: 0 10px; text-align: right }\n    </style><table class=\"wandb\">\n<tr><td>r2</td><td>▁</td></tr><tr><td>_runtime</td><td>▁▁▁▁</td></tr><tr><td>_timestamp</td><td>▁▁▁▁</td></tr><tr><td>_step</td><td>▁▃▆█</td></tr><tr><td>neg_mape</td><td>▁</td></tr><tr><td>neg_mae</td><td>▁</td></tr><tr><td>neg_rmse</td><td>▁</td></tr></table><br/>"
     },
     "metadata": {},
     "output_type": "display_data"
    },
    {
     "data": {
      "text/plain": "<IPython.core.display.HTML object>",
      "text/html": "Synced 4 W&B file(s), 0 media file(s), 0 artifact file(s) and 0 other file(s)"
     },
     "metadata": {},
     "output_type": "display_data"
    },
    {
     "data": {
      "text/plain": "<IPython.core.display.HTML object>",
      "text/html": "\n                    <br/>Synced <strong style=\"color:#cdcd00\">earthy-sweep-47</strong>: <a href=\"https://wandb.ai/devcore/Metriken%20Bauwesen%20Sweeps/runs/n6akcxom\" target=\"_blank\">https://wandb.ai/devcore/Metriken%20Bauwesen%20Sweeps/runs/n6akcxom</a><br/>\n                "
     },
     "metadata": {},
     "output_type": "display_data"
    },
    {
     "data": {
      "text/plain": "<IPython.core.display.HTML object>",
      "text/html": "\n                Tracking run with wandb version 0.11.0<br/>\n                Syncing run <strong style=\"color:#cdcd00\">stellar-sweep-48</strong> to <a href=\"https://wandb.ai\" target=\"_blank\">Weights & Biases</a> <a href=\"https://docs.wandb.com/integrations/jupyter.html\" target=\"_blank\">(Documentation)</a>.<br/>\n                Project page: <a href=\"https://wandb.ai/devcore/Metriken%20Bauwesen%20Sweeps\" target=\"_blank\">https://wandb.ai/devcore/Metriken%20Bauwesen%20Sweeps</a><br/>\n                Sweep page: <a href=\"https://wandb.ai/devcore/Metriken%20Bauwesen%20Sweeps/sweeps/aslqb1cw\" target=\"_blank\">https://wandb.ai/devcore/Metriken%20Bauwesen%20Sweeps/sweeps/aslqb1cw</a><br/>\nRun page: <a href=\"https://wandb.ai/devcore/Metriken%20Bauwesen%20Sweeps/runs/u7n0qiia\" target=\"_blank\">https://wandb.ai/devcore/Metriken%20Bauwesen%20Sweeps/runs/u7n0qiia</a><br/>\n                Run data is saved locally in <code>D:\\Development\\FHNW\\ip5-metriken-bauwesen\\src\\weight_and_bias\\wandb\\run-20210813_103448-u7n0qiia</code><br/><br/>\n            "
     },
     "metadata": {},
     "output_type": "display_data"
    },
    {
     "data": {
      "text/plain": "<IPython.core.display.HTML object>",
      "text/html": "<br/>Waiting for W&B process to finish, PID 23448<br/>Program ended successfully."
     },
     "metadata": {},
     "output_type": "display_data"
    },
    {
     "data": {
      "text/plain": "VBox(children=(Label(value=' 0.00MB of 0.00MB uploaded (0.00MB deduped)\\r'), FloatProgress(value=1.0, max=1.0)…",
      "application/vnd.jupyter.widget-view+json": {
       "version_major": 2,
       "version_minor": 0,
       "model_id": "62cfc733a48d43d1a4dd4649cd071c5b"
      }
     },
     "metadata": {},
     "output_type": "display_data"
    },
    {
     "data": {
      "text/plain": "<IPython.core.display.HTML object>",
      "text/html": "Find user logs for this run at: <code>D:\\Development\\FHNW\\ip5-metriken-bauwesen\\src\\weight_and_bias\\wandb\\run-20210813_103448-u7n0qiia\\logs\\debug.log</code>"
     },
     "metadata": {},
     "output_type": "display_data"
    },
    {
     "data": {
      "text/plain": "<IPython.core.display.HTML object>",
      "text/html": "Find internal logs for this run at: <code>D:\\Development\\FHNW\\ip5-metriken-bauwesen\\src\\weight_and_bias\\wandb\\run-20210813_103448-u7n0qiia\\logs\\debug-internal.log</code>"
     },
     "metadata": {},
     "output_type": "display_data"
    },
    {
     "data": {
      "text/plain": "<IPython.core.display.HTML object>",
      "text/html": "<h3>Run summary:</h3><br/><style>\n    table.wandb td:nth-child(1) { padding: 0 10px; text-align: right }\n    </style><table class=\"wandb\">\n<tr><td>r2</td><td>0.9107</td></tr><tr><td>_runtime</td><td>77</td></tr><tr><td>_timestamp</td><td>1628843765</td></tr><tr><td>_step</td><td>3</td></tr><tr><td>neg_mape</td><td>-0.15966</td></tr><tr><td>neg_mae</td><td>-532.6454</td></tr><tr><td>neg_rmse</td><td>-1118.04695</td></tr></table>"
     },
     "metadata": {},
     "output_type": "display_data"
    },
    {
     "data": {
      "text/plain": "<IPython.core.display.HTML object>",
      "text/html": "<h3>Run history:</h3><br/><style>\n    table.wandb td:nth-child(1) { padding: 0 10px; text-align: right }\n    </style><table class=\"wandb\">\n<tr><td>r2</td><td>▁</td></tr><tr><td>_runtime</td><td>▁▁▁▁</td></tr><tr><td>_timestamp</td><td>▁▁▁▁</td></tr><tr><td>_step</td><td>▁▃▆█</td></tr><tr><td>neg_mape</td><td>▁</td></tr><tr><td>neg_mae</td><td>▁</td></tr><tr><td>neg_rmse</td><td>▁</td></tr></table><br/>"
     },
     "metadata": {},
     "output_type": "display_data"
    },
    {
     "data": {
      "text/plain": "<IPython.core.display.HTML object>",
      "text/html": "Synced 4 W&B file(s), 0 media file(s), 0 artifact file(s) and 0 other file(s)"
     },
     "metadata": {},
     "output_type": "display_data"
    },
    {
     "data": {
      "text/plain": "<IPython.core.display.HTML object>",
      "text/html": "\n                    <br/>Synced <strong style=\"color:#cdcd00\">stellar-sweep-48</strong>: <a href=\"https://wandb.ai/devcore/Metriken%20Bauwesen%20Sweeps/runs/u7n0qiia\" target=\"_blank\">https://wandb.ai/devcore/Metriken%20Bauwesen%20Sweeps/runs/u7n0qiia</a><br/>\n                "
     },
     "metadata": {},
     "output_type": "display_data"
    },
    {
     "data": {
      "text/plain": "<IPython.core.display.HTML object>",
      "text/html": "\n                Tracking run with wandb version 0.11.0<br/>\n                Syncing run <strong style=\"color:#cdcd00\">lunar-sweep-49</strong> to <a href=\"https://wandb.ai\" target=\"_blank\">Weights & Biases</a> <a href=\"https://docs.wandb.com/integrations/jupyter.html\" target=\"_blank\">(Documentation)</a>.<br/>\n                Project page: <a href=\"https://wandb.ai/devcore/Metriken%20Bauwesen%20Sweeps\" target=\"_blank\">https://wandb.ai/devcore/Metriken%20Bauwesen%20Sweeps</a><br/>\n                Sweep page: <a href=\"https://wandb.ai/devcore/Metriken%20Bauwesen%20Sweeps/sweeps/aslqb1cw\" target=\"_blank\">https://wandb.ai/devcore/Metriken%20Bauwesen%20Sweeps/sweeps/aslqb1cw</a><br/>\nRun page: <a href=\"https://wandb.ai/devcore/Metriken%20Bauwesen%20Sweeps/runs/cabfz7ut\" target=\"_blank\">https://wandb.ai/devcore/Metriken%20Bauwesen%20Sweeps/runs/cabfz7ut</a><br/>\n                Run data is saved locally in <code>D:\\Development\\FHNW\\ip5-metriken-bauwesen\\src\\weight_and_bias\\wandb\\run-20210813_103609-cabfz7ut</code><br/><br/>\n            "
     },
     "metadata": {},
     "output_type": "display_data"
    },
    {
     "data": {
      "text/plain": "<IPython.core.display.HTML object>",
      "text/html": "<br/>Waiting for W&B process to finish, PID 3412<br/>Program ended successfully."
     },
     "metadata": {},
     "output_type": "display_data"
    },
    {
     "data": {
      "text/plain": "VBox(children=(Label(value=' 0.00MB of 0.00MB uploaded (0.00MB deduped)\\r'), FloatProgress(value=1.0, max=1.0)…",
      "application/vnd.jupyter.widget-view+json": {
       "version_major": 2,
       "version_minor": 0,
       "model_id": "f508b5df17cb4396b97b1636881abb0d"
      }
     },
     "metadata": {},
     "output_type": "display_data"
    },
    {
     "data": {
      "text/plain": "<IPython.core.display.HTML object>",
      "text/html": "Find user logs for this run at: <code>D:\\Development\\FHNW\\ip5-metriken-bauwesen\\src\\weight_and_bias\\wandb\\run-20210813_103609-cabfz7ut\\logs\\debug.log</code>"
     },
     "metadata": {},
     "output_type": "display_data"
    },
    {
     "data": {
      "text/plain": "<IPython.core.display.HTML object>",
      "text/html": "Find internal logs for this run at: <code>D:\\Development\\FHNW\\ip5-metriken-bauwesen\\src\\weight_and_bias\\wandb\\run-20210813_103609-cabfz7ut\\logs\\debug-internal.log</code>"
     },
     "metadata": {},
     "output_type": "display_data"
    },
    {
     "data": {
      "text/plain": "<IPython.core.display.HTML object>",
      "text/html": "<h3>Run summary:</h3><br/><style>\n    table.wandb td:nth-child(1) { padding: 0 10px; text-align: right }\n    </style><table class=\"wandb\">\n<tr><td>r2</td><td>0.90619</td></tr><tr><td>_runtime</td><td>32</td></tr><tr><td>_timestamp</td><td>1628843801</td></tr><tr><td>_step</td><td>3</td></tr><tr><td>neg_mape</td><td>-0.17224</td></tr><tr><td>neg_mae</td><td>-545.34856</td></tr><tr><td>neg_rmse</td><td>-1154.42851</td></tr></table>"
     },
     "metadata": {},
     "output_type": "display_data"
    },
    {
     "data": {
      "text/plain": "<IPython.core.display.HTML object>",
      "text/html": "<h3>Run history:</h3><br/><style>\n    table.wandb td:nth-child(1) { padding: 0 10px; text-align: right }\n    </style><table class=\"wandb\">\n<tr><td>r2</td><td>▁</td></tr><tr><td>_runtime</td><td>▁▁▁▁</td></tr><tr><td>_timestamp</td><td>▁▁▁▁</td></tr><tr><td>_step</td><td>▁▃▆█</td></tr><tr><td>neg_mape</td><td>▁</td></tr><tr><td>neg_mae</td><td>▁</td></tr><tr><td>neg_rmse</td><td>▁</td></tr></table><br/>"
     },
     "metadata": {},
     "output_type": "display_data"
    },
    {
     "data": {
      "text/plain": "<IPython.core.display.HTML object>",
      "text/html": "Synced 4 W&B file(s), 0 media file(s), 0 artifact file(s) and 0 other file(s)"
     },
     "metadata": {},
     "output_type": "display_data"
    },
    {
     "data": {
      "text/plain": "<IPython.core.display.HTML object>",
      "text/html": "\n                    <br/>Synced <strong style=\"color:#cdcd00\">lunar-sweep-49</strong>: <a href=\"https://wandb.ai/devcore/Metriken%20Bauwesen%20Sweeps/runs/cabfz7ut\" target=\"_blank\">https://wandb.ai/devcore/Metriken%20Bauwesen%20Sweeps/runs/cabfz7ut</a><br/>\n                "
     },
     "metadata": {},
     "output_type": "display_data"
    },
    {
     "data": {
      "text/plain": "<IPython.core.display.HTML object>",
      "text/html": "\n                Tracking run with wandb version 0.11.0<br/>\n                Syncing run <strong style=\"color:#cdcd00\">dauntless-sweep-50</strong> to <a href=\"https://wandb.ai\" target=\"_blank\">Weights & Biases</a> <a href=\"https://docs.wandb.com/integrations/jupyter.html\" target=\"_blank\">(Documentation)</a>.<br/>\n                Project page: <a href=\"https://wandb.ai/devcore/Metriken%20Bauwesen%20Sweeps\" target=\"_blank\">https://wandb.ai/devcore/Metriken%20Bauwesen%20Sweeps</a><br/>\n                Sweep page: <a href=\"https://wandb.ai/devcore/Metriken%20Bauwesen%20Sweeps/sweeps/aslqb1cw\" target=\"_blank\">https://wandb.ai/devcore/Metriken%20Bauwesen%20Sweeps/sweeps/aslqb1cw</a><br/>\nRun page: <a href=\"https://wandb.ai/devcore/Metriken%20Bauwesen%20Sweeps/runs/yn2kzosc\" target=\"_blank\">https://wandb.ai/devcore/Metriken%20Bauwesen%20Sweeps/runs/yn2kzosc</a><br/>\n                Run data is saved locally in <code>D:\\Development\\FHNW\\ip5-metriken-bauwesen\\src\\weight_and_bias\\wandb\\run-20210813_103645-yn2kzosc</code><br/><br/>\n            "
     },
     "metadata": {},
     "output_type": "display_data"
    },
    {
     "data": {
      "text/plain": "<IPython.core.display.HTML object>",
      "text/html": "<br/>Waiting for W&B process to finish, PID 16272<br/>Program ended successfully."
     },
     "metadata": {},
     "output_type": "display_data"
    },
    {
     "data": {
      "text/plain": "VBox(children=(Label(value=' 0.00MB of 0.00MB uploaded (0.00MB deduped)\\r'), FloatProgress(value=1.0, max=1.0)…",
      "application/vnd.jupyter.widget-view+json": {
       "version_major": 2,
       "version_minor": 0,
       "model_id": "4cec3867cccc41e68a4e21aaa1600923"
      }
     },
     "metadata": {},
     "output_type": "display_data"
    },
    {
     "data": {
      "text/plain": "<IPython.core.display.HTML object>",
      "text/html": "Find user logs for this run at: <code>D:\\Development\\FHNW\\ip5-metriken-bauwesen\\src\\weight_and_bias\\wandb\\run-20210813_103645-yn2kzosc\\logs\\debug.log</code>"
     },
     "metadata": {},
     "output_type": "display_data"
    },
    {
     "data": {
      "text/plain": "<IPython.core.display.HTML object>",
      "text/html": "Find internal logs for this run at: <code>D:\\Development\\FHNW\\ip5-metriken-bauwesen\\src\\weight_and_bias\\wandb\\run-20210813_103645-yn2kzosc\\logs\\debug-internal.log</code>"
     },
     "metadata": {},
     "output_type": "display_data"
    },
    {
     "data": {
      "text/plain": "<IPython.core.display.HTML object>",
      "text/html": "<h3>Run summary:</h3><br/><style>\n    table.wandb td:nth-child(1) { padding: 0 10px; text-align: right }\n    </style><table class=\"wandb\">\n<tr><td>r2</td><td>0.91074</td></tr><tr><td>_runtime</td><td>59</td></tr><tr><td>_timestamp</td><td>1628843864</td></tr><tr><td>_step</td><td>3</td></tr><tr><td>neg_mape</td><td>-0.15692</td></tr><tr><td>neg_mae</td><td>-513.44038</td></tr><tr><td>neg_rmse</td><td>-1102.15751</td></tr></table>"
     },
     "metadata": {},
     "output_type": "display_data"
    },
    {
     "data": {
      "text/plain": "<IPython.core.display.HTML object>",
      "text/html": "<h3>Run history:</h3><br/><style>\n    table.wandb td:nth-child(1) { padding: 0 10px; text-align: right }\n    </style><table class=\"wandb\">\n<tr><td>r2</td><td>▁</td></tr><tr><td>_runtime</td><td>▁▁▁▁</td></tr><tr><td>_timestamp</td><td>▁▁▁▁</td></tr><tr><td>_step</td><td>▁▃▆█</td></tr><tr><td>neg_mape</td><td>▁</td></tr><tr><td>neg_mae</td><td>▁</td></tr><tr><td>neg_rmse</td><td>▁</td></tr></table><br/>"
     },
     "metadata": {},
     "output_type": "display_data"
    },
    {
     "data": {
      "text/plain": "<IPython.core.display.HTML object>",
      "text/html": "Synced 4 W&B file(s), 0 media file(s), 0 artifact file(s) and 0 other file(s)"
     },
     "metadata": {},
     "output_type": "display_data"
    },
    {
     "data": {
      "text/plain": "<IPython.core.display.HTML object>",
      "text/html": "\n                    <br/>Synced <strong style=\"color:#cdcd00\">dauntless-sweep-50</strong>: <a href=\"https://wandb.ai/devcore/Metriken%20Bauwesen%20Sweeps/runs/yn2kzosc\" target=\"_blank\">https://wandb.ai/devcore/Metriken%20Bauwesen%20Sweeps/runs/yn2kzosc</a><br/>\n                "
     },
     "metadata": {},
     "output_type": "display_data"
    },
    {
     "data": {
      "text/plain": "<IPython.core.display.HTML object>",
      "text/html": "\n                Tracking run with wandb version 0.11.0<br/>\n                Syncing run <strong style=\"color:#cdcd00\">devout-sweep-51</strong> to <a href=\"https://wandb.ai\" target=\"_blank\">Weights & Biases</a> <a href=\"https://docs.wandb.com/integrations/jupyter.html\" target=\"_blank\">(Documentation)</a>.<br/>\n                Project page: <a href=\"https://wandb.ai/devcore/Metriken%20Bauwesen%20Sweeps\" target=\"_blank\">https://wandb.ai/devcore/Metriken%20Bauwesen%20Sweeps</a><br/>\n                Sweep page: <a href=\"https://wandb.ai/devcore/Metriken%20Bauwesen%20Sweeps/sweeps/aslqb1cw\" target=\"_blank\">https://wandb.ai/devcore/Metriken%20Bauwesen%20Sweeps/sweeps/aslqb1cw</a><br/>\nRun page: <a href=\"https://wandb.ai/devcore/Metriken%20Bauwesen%20Sweeps/runs/135hl0z0\" target=\"_blank\">https://wandb.ai/devcore/Metriken%20Bauwesen%20Sweeps/runs/135hl0z0</a><br/>\n                Run data is saved locally in <code>D:\\Development\\FHNW\\ip5-metriken-bauwesen\\src\\weight_and_bias\\wandb\\run-20210813_103748-135hl0z0</code><br/><br/>\n            "
     },
     "metadata": {},
     "output_type": "display_data"
    },
    {
     "data": {
      "text/plain": "<IPython.core.display.HTML object>",
      "text/html": "<br/>Waiting for W&B process to finish, PID 23664<br/>Program ended successfully."
     },
     "metadata": {},
     "output_type": "display_data"
    },
    {
     "data": {
      "text/plain": "VBox(children=(Label(value=' 0.00MB of 0.00MB uploaded (0.00MB deduped)\\r'), FloatProgress(value=1.0, max=1.0)…",
      "application/vnd.jupyter.widget-view+json": {
       "version_major": 2,
       "version_minor": 0,
       "model_id": "0379982ee1214a87bdc881253057d3a0"
      }
     },
     "metadata": {},
     "output_type": "display_data"
    },
    {
     "data": {
      "text/plain": "<IPython.core.display.HTML object>",
      "text/html": "Find user logs for this run at: <code>D:\\Development\\FHNW\\ip5-metriken-bauwesen\\src\\weight_and_bias\\wandb\\run-20210813_103748-135hl0z0\\logs\\debug.log</code>"
     },
     "metadata": {},
     "output_type": "display_data"
    },
    {
     "data": {
      "text/plain": "<IPython.core.display.HTML object>",
      "text/html": "Find internal logs for this run at: <code>D:\\Development\\FHNW\\ip5-metriken-bauwesen\\src\\weight_and_bias\\wandb\\run-20210813_103748-135hl0z0\\logs\\debug-internal.log</code>"
     },
     "metadata": {},
     "output_type": "display_data"
    },
    {
     "data": {
      "text/plain": "<IPython.core.display.HTML object>",
      "text/html": "<h3>Run summary:</h3><br/><style>\n    table.wandb td:nth-child(1) { padding: 0 10px; text-align: right }\n    </style><table class=\"wandb\">\n<tr><td>r2</td><td>0.91072</td></tr><tr><td>_runtime</td><td>41</td></tr><tr><td>_timestamp</td><td>1628843909</td></tr><tr><td>_step</td><td>3</td></tr><tr><td>neg_mape</td><td>-0.16312</td></tr><tr><td>neg_mae</td><td>-524.22412</td></tr><tr><td>neg_rmse</td><td>-1117.95641</td></tr></table>"
     },
     "metadata": {},
     "output_type": "display_data"
    },
    {
     "data": {
      "text/plain": "<IPython.core.display.HTML object>",
      "text/html": "<h3>Run history:</h3><br/><style>\n    table.wandb td:nth-child(1) { padding: 0 10px; text-align: right }\n    </style><table class=\"wandb\">\n<tr><td>r2</td><td>▁</td></tr><tr><td>_runtime</td><td>▁▁▁▁</td></tr><tr><td>_timestamp</td><td>▁▁▁▁</td></tr><tr><td>_step</td><td>▁▃▆█</td></tr><tr><td>neg_mape</td><td>▁</td></tr><tr><td>neg_mae</td><td>▁</td></tr><tr><td>neg_rmse</td><td>▁</td></tr></table><br/>"
     },
     "metadata": {},
     "output_type": "display_data"
    },
    {
     "data": {
      "text/plain": "<IPython.core.display.HTML object>",
      "text/html": "Synced 4 W&B file(s), 0 media file(s), 0 artifact file(s) and 0 other file(s)"
     },
     "metadata": {},
     "output_type": "display_data"
    },
    {
     "data": {
      "text/plain": "<IPython.core.display.HTML object>",
      "text/html": "\n                    <br/>Synced <strong style=\"color:#cdcd00\">devout-sweep-51</strong>: <a href=\"https://wandb.ai/devcore/Metriken%20Bauwesen%20Sweeps/runs/135hl0z0\" target=\"_blank\">https://wandb.ai/devcore/Metriken%20Bauwesen%20Sweeps/runs/135hl0z0</a><br/>\n                "
     },
     "metadata": {},
     "output_type": "display_data"
    },
    {
     "data": {
      "text/plain": "<IPython.core.display.HTML object>",
      "text/html": "\n                Tracking run with wandb version 0.11.0<br/>\n                Syncing run <strong style=\"color:#cdcd00\">graceful-sweep-52</strong> to <a href=\"https://wandb.ai\" target=\"_blank\">Weights & Biases</a> <a href=\"https://docs.wandb.com/integrations/jupyter.html\" target=\"_blank\">(Documentation)</a>.<br/>\n                Project page: <a href=\"https://wandb.ai/devcore/Metriken%20Bauwesen%20Sweeps\" target=\"_blank\">https://wandb.ai/devcore/Metriken%20Bauwesen%20Sweeps</a><br/>\n                Sweep page: <a href=\"https://wandb.ai/devcore/Metriken%20Bauwesen%20Sweeps/sweeps/aslqb1cw\" target=\"_blank\">https://wandb.ai/devcore/Metriken%20Bauwesen%20Sweeps/sweeps/aslqb1cw</a><br/>\nRun page: <a href=\"https://wandb.ai/devcore/Metriken%20Bauwesen%20Sweeps/runs/ezk1ez0f\" target=\"_blank\">https://wandb.ai/devcore/Metriken%20Bauwesen%20Sweeps/runs/ezk1ez0f</a><br/>\n                Run data is saved locally in <code>D:\\Development\\FHNW\\ip5-metriken-bauwesen\\src\\weight_and_bias\\wandb\\run-20210813_103834-ezk1ez0f</code><br/><br/>\n            "
     },
     "metadata": {},
     "output_type": "display_data"
    },
    {
     "data": {
      "text/plain": "<IPython.core.display.HTML object>",
      "text/html": "<br/>Waiting for W&B process to finish, PID 23248<br/>Program ended successfully."
     },
     "metadata": {},
     "output_type": "display_data"
    },
    {
     "data": {
      "text/plain": "VBox(children=(Label(value=' 0.00MB of 0.00MB uploaded (0.00MB deduped)\\r'), FloatProgress(value=1.0, max=1.0)…",
      "application/vnd.jupyter.widget-view+json": {
       "version_major": 2,
       "version_minor": 0,
       "model_id": "3906c7e11e7c44959722cb6d7f5c58a7"
      }
     },
     "metadata": {},
     "output_type": "display_data"
    },
    {
     "data": {
      "text/plain": "<IPython.core.display.HTML object>",
      "text/html": "Find user logs for this run at: <code>D:\\Development\\FHNW\\ip5-metriken-bauwesen\\src\\weight_and_bias\\wandb\\run-20210813_103834-ezk1ez0f\\logs\\debug.log</code>"
     },
     "metadata": {},
     "output_type": "display_data"
    },
    {
     "data": {
      "text/plain": "<IPython.core.display.HTML object>",
      "text/html": "Find internal logs for this run at: <code>D:\\Development\\FHNW\\ip5-metriken-bauwesen\\src\\weight_and_bias\\wandb\\run-20210813_103834-ezk1ez0f\\logs\\debug-internal.log</code>"
     },
     "metadata": {},
     "output_type": "display_data"
    },
    {
     "data": {
      "text/plain": "<IPython.core.display.HTML object>",
      "text/html": "<h3>Run summary:</h3><br/><style>\n    table.wandb td:nth-child(1) { padding: 0 10px; text-align: right }\n    </style><table class=\"wandb\">\n<tr><td>r2</td><td>0.9093</td></tr><tr><td>_runtime</td><td>26</td></tr><tr><td>_timestamp</td><td>1628843940</td></tr><tr><td>_step</td><td>3</td></tr><tr><td>neg_mape</td><td>-0.16693</td></tr><tr><td>neg_mae</td><td>-541.61745</td></tr><tr><td>neg_rmse</td><td>-1131.38912</td></tr></table>"
     },
     "metadata": {},
     "output_type": "display_data"
    },
    {
     "data": {
      "text/plain": "<IPython.core.display.HTML object>",
      "text/html": "<h3>Run history:</h3><br/><style>\n    table.wandb td:nth-child(1) { padding: 0 10px; text-align: right }\n    </style><table class=\"wandb\">\n<tr><td>r2</td><td>▁</td></tr><tr><td>_runtime</td><td>▁▁▁▁</td></tr><tr><td>_timestamp</td><td>▁▁▁▁</td></tr><tr><td>_step</td><td>▁▃▆█</td></tr><tr><td>neg_mape</td><td>▁</td></tr><tr><td>neg_mae</td><td>▁</td></tr><tr><td>neg_rmse</td><td>▁</td></tr></table><br/>"
     },
     "metadata": {},
     "output_type": "display_data"
    },
    {
     "data": {
      "text/plain": "<IPython.core.display.HTML object>",
      "text/html": "Synced 4 W&B file(s), 0 media file(s), 0 artifact file(s) and 0 other file(s)"
     },
     "metadata": {},
     "output_type": "display_data"
    },
    {
     "data": {
      "text/plain": "<IPython.core.display.HTML object>",
      "text/html": "\n                    <br/>Synced <strong style=\"color:#cdcd00\">graceful-sweep-52</strong>: <a href=\"https://wandb.ai/devcore/Metriken%20Bauwesen%20Sweeps/runs/ezk1ez0f\" target=\"_blank\">https://wandb.ai/devcore/Metriken%20Bauwesen%20Sweeps/runs/ezk1ez0f</a><br/>\n                "
     },
     "metadata": {},
     "output_type": "display_data"
    },
    {
     "data": {
      "text/plain": "<IPython.core.display.HTML object>",
      "text/html": "\n                Tracking run with wandb version 0.11.0<br/>\n                Syncing run <strong style=\"color:#cdcd00\">dazzling-sweep-53</strong> to <a href=\"https://wandb.ai\" target=\"_blank\">Weights & Biases</a> <a href=\"https://docs.wandb.com/integrations/jupyter.html\" target=\"_blank\">(Documentation)</a>.<br/>\n                Project page: <a href=\"https://wandb.ai/devcore/Metriken%20Bauwesen%20Sweeps\" target=\"_blank\">https://wandb.ai/devcore/Metriken%20Bauwesen%20Sweeps</a><br/>\n                Sweep page: <a href=\"https://wandb.ai/devcore/Metriken%20Bauwesen%20Sweeps/sweeps/aslqb1cw\" target=\"_blank\">https://wandb.ai/devcore/Metriken%20Bauwesen%20Sweeps/sweeps/aslqb1cw</a><br/>\nRun page: <a href=\"https://wandb.ai/devcore/Metriken%20Bauwesen%20Sweeps/runs/81o6cv1e\" target=\"_blank\">https://wandb.ai/devcore/Metriken%20Bauwesen%20Sweeps/runs/81o6cv1e</a><br/>\n                Run data is saved locally in <code>D:\\Development\\FHNW\\ip5-metriken-bauwesen\\src\\weight_and_bias\\wandb\\run-20210813_103905-81o6cv1e</code><br/><br/>\n            "
     },
     "metadata": {},
     "output_type": "display_data"
    },
    {
     "data": {
      "text/plain": "<IPython.core.display.HTML object>",
      "text/html": "<br/>Waiting for W&B process to finish, PID 20780<br/>Program ended successfully."
     },
     "metadata": {},
     "output_type": "display_data"
    },
    {
     "data": {
      "text/plain": "VBox(children=(Label(value=' 0.00MB of 0.00MB uploaded (0.00MB deduped)\\r'), FloatProgress(value=1.0, max=1.0)…",
      "application/vnd.jupyter.widget-view+json": {
       "version_major": 2,
       "version_minor": 0,
       "model_id": "f38afd2073c14bf08063f1a299e4a2ea"
      }
     },
     "metadata": {},
     "output_type": "display_data"
    },
    {
     "data": {
      "text/plain": "<IPython.core.display.HTML object>",
      "text/html": "Find user logs for this run at: <code>D:\\Development\\FHNW\\ip5-metriken-bauwesen\\src\\weight_and_bias\\wandb\\run-20210813_103905-81o6cv1e\\logs\\debug.log</code>"
     },
     "metadata": {},
     "output_type": "display_data"
    },
    {
     "data": {
      "text/plain": "<IPython.core.display.HTML object>",
      "text/html": "Find internal logs for this run at: <code>D:\\Development\\FHNW\\ip5-metriken-bauwesen\\src\\weight_and_bias\\wandb\\run-20210813_103905-81o6cv1e\\logs\\debug-internal.log</code>"
     },
     "metadata": {},
     "output_type": "display_data"
    },
    {
     "data": {
      "text/plain": "<IPython.core.display.HTML object>",
      "text/html": "<h3>Run summary:</h3><br/><style>\n    table.wandb td:nth-child(1) { padding: 0 10px; text-align: right }\n    </style><table class=\"wandb\">\n<tr><td>r2</td><td>0.90674</td></tr><tr><td>_runtime</td><td>23</td></tr><tr><td>_timestamp</td><td>1628843968</td></tr><tr><td>_step</td><td>3</td></tr><tr><td>neg_mape</td><td>-0.17436</td></tr><tr><td>neg_mae</td><td>-555.003</td></tr><tr><td>neg_rmse</td><td>-1148.10437</td></tr></table>"
     },
     "metadata": {},
     "output_type": "display_data"
    },
    {
     "data": {
      "text/plain": "<IPython.core.display.HTML object>",
      "text/html": "<h3>Run history:</h3><br/><style>\n    table.wandb td:nth-child(1) { padding: 0 10px; text-align: right }\n    </style><table class=\"wandb\">\n<tr><td>r2</td><td>▁</td></tr><tr><td>_runtime</td><td>▁▁▁▁</td></tr><tr><td>_timestamp</td><td>▁▁▁▁</td></tr><tr><td>_step</td><td>▁▃▆█</td></tr><tr><td>neg_mape</td><td>▁</td></tr><tr><td>neg_mae</td><td>▁</td></tr><tr><td>neg_rmse</td><td>▁</td></tr></table><br/>"
     },
     "metadata": {},
     "output_type": "display_data"
    },
    {
     "data": {
      "text/plain": "<IPython.core.display.HTML object>",
      "text/html": "Synced 4 W&B file(s), 0 media file(s), 0 artifact file(s) and 0 other file(s)"
     },
     "metadata": {},
     "output_type": "display_data"
    },
    {
     "data": {
      "text/plain": "<IPython.core.display.HTML object>",
      "text/html": "\n                    <br/>Synced <strong style=\"color:#cdcd00\">dazzling-sweep-53</strong>: <a href=\"https://wandb.ai/devcore/Metriken%20Bauwesen%20Sweeps/runs/81o6cv1e\" target=\"_blank\">https://wandb.ai/devcore/Metriken%20Bauwesen%20Sweeps/runs/81o6cv1e</a><br/>\n                "
     },
     "metadata": {},
     "output_type": "display_data"
    },
    {
     "data": {
      "text/plain": "<IPython.core.display.HTML object>",
      "text/html": "\n                Tracking run with wandb version 0.11.0<br/>\n                Syncing run <strong style=\"color:#cdcd00\">vague-sweep-54</strong> to <a href=\"https://wandb.ai\" target=\"_blank\">Weights & Biases</a> <a href=\"https://docs.wandb.com/integrations/jupyter.html\" target=\"_blank\">(Documentation)</a>.<br/>\n                Project page: <a href=\"https://wandb.ai/devcore/Metriken%20Bauwesen%20Sweeps\" target=\"_blank\">https://wandb.ai/devcore/Metriken%20Bauwesen%20Sweeps</a><br/>\n                Sweep page: <a href=\"https://wandb.ai/devcore/Metriken%20Bauwesen%20Sweeps/sweeps/aslqb1cw\" target=\"_blank\">https://wandb.ai/devcore/Metriken%20Bauwesen%20Sweeps/sweeps/aslqb1cw</a><br/>\nRun page: <a href=\"https://wandb.ai/devcore/Metriken%20Bauwesen%20Sweeps/runs/m9s3fi7p\" target=\"_blank\">https://wandb.ai/devcore/Metriken%20Bauwesen%20Sweeps/runs/m9s3fi7p</a><br/>\n                Run data is saved locally in <code>D:\\Development\\FHNW\\ip5-metriken-bauwesen\\src\\weight_and_bias\\wandb\\run-20210813_103932-m9s3fi7p</code><br/><br/>\n            "
     },
     "metadata": {},
     "output_type": "display_data"
    },
    {
     "data": {
      "text/plain": "<IPython.core.display.HTML object>",
      "text/html": "<br/>Waiting for W&B process to finish, PID 24396<br/>Program ended successfully."
     },
     "metadata": {},
     "output_type": "display_data"
    },
    {
     "data": {
      "text/plain": "VBox(children=(Label(value=' 0.00MB of 0.00MB uploaded (0.00MB deduped)\\r'), FloatProgress(value=1.0, max=1.0)…",
      "application/vnd.jupyter.widget-view+json": {
       "version_major": 2,
       "version_minor": 0,
       "model_id": "d7a2a20957fe43db9915c0f81417c915"
      }
     },
     "metadata": {},
     "output_type": "display_data"
    },
    {
     "data": {
      "text/plain": "<IPython.core.display.HTML object>",
      "text/html": "Find user logs for this run at: <code>D:\\Development\\FHNW\\ip5-metriken-bauwesen\\src\\weight_and_bias\\wandb\\run-20210813_103932-m9s3fi7p\\logs\\debug.log</code>"
     },
     "metadata": {},
     "output_type": "display_data"
    },
    {
     "data": {
      "text/plain": "<IPython.core.display.HTML object>",
      "text/html": "Find internal logs for this run at: <code>D:\\Development\\FHNW\\ip5-metriken-bauwesen\\src\\weight_and_bias\\wandb\\run-20210813_103932-m9s3fi7p\\logs\\debug-internal.log</code>"
     },
     "metadata": {},
     "output_type": "display_data"
    },
    {
     "data": {
      "text/plain": "<IPython.core.display.HTML object>",
      "text/html": "<h3>Run summary:</h3><br/><style>\n    table.wandb td:nth-child(1) { padding: 0 10px; text-align: right }\n    </style><table class=\"wandb\">\n<tr><td>r2</td><td>0.90954</td></tr><tr><td>_runtime</td><td>66</td></tr><tr><td>_timestamp</td><td>1628844038</td></tr><tr><td>_step</td><td>3</td></tr><tr><td>neg_mape</td><td>-0.15993</td></tr><tr><td>neg_mae</td><td>-528.66831</td></tr><tr><td>neg_rmse</td><td>-1127.29209</td></tr></table>"
     },
     "metadata": {},
     "output_type": "display_data"
    },
    {
     "data": {
      "text/plain": "<IPython.core.display.HTML object>",
      "text/html": "<h3>Run history:</h3><br/><style>\n    table.wandb td:nth-child(1) { padding: 0 10px; text-align: right }\n    </style><table class=\"wandb\">\n<tr><td>r2</td><td>▁</td></tr><tr><td>_runtime</td><td>▁▁▁▁</td></tr><tr><td>_timestamp</td><td>▁▁▁▁</td></tr><tr><td>_step</td><td>▁▃▆█</td></tr><tr><td>neg_mape</td><td>▁</td></tr><tr><td>neg_mae</td><td>▁</td></tr><tr><td>neg_rmse</td><td>▁</td></tr></table><br/>"
     },
     "metadata": {},
     "output_type": "display_data"
    },
    {
     "data": {
      "text/plain": "<IPython.core.display.HTML object>",
      "text/html": "Synced 4 W&B file(s), 0 media file(s), 0 artifact file(s) and 0 other file(s)"
     },
     "metadata": {},
     "output_type": "display_data"
    },
    {
     "data": {
      "text/plain": "<IPython.core.display.HTML object>",
      "text/html": "\n                    <br/>Synced <strong style=\"color:#cdcd00\">vague-sweep-54</strong>: <a href=\"https://wandb.ai/devcore/Metriken%20Bauwesen%20Sweeps/runs/m9s3fi7p\" target=\"_blank\">https://wandb.ai/devcore/Metriken%20Bauwesen%20Sweeps/runs/m9s3fi7p</a><br/>\n                "
     },
     "metadata": {},
     "output_type": "display_data"
    },
    {
     "data": {
      "text/plain": "<IPython.core.display.HTML object>",
      "text/html": "\n                Tracking run with wandb version 0.11.0<br/>\n                Syncing run <strong style=\"color:#cdcd00\">splendid-sweep-55</strong> to <a href=\"https://wandb.ai\" target=\"_blank\">Weights & Biases</a> <a href=\"https://docs.wandb.com/integrations/jupyter.html\" target=\"_blank\">(Documentation)</a>.<br/>\n                Project page: <a href=\"https://wandb.ai/devcore/Metriken%20Bauwesen%20Sweeps\" target=\"_blank\">https://wandb.ai/devcore/Metriken%20Bauwesen%20Sweeps</a><br/>\n                Sweep page: <a href=\"https://wandb.ai/devcore/Metriken%20Bauwesen%20Sweeps/sweeps/aslqb1cw\" target=\"_blank\">https://wandb.ai/devcore/Metriken%20Bauwesen%20Sweeps/sweeps/aslqb1cw</a><br/>\nRun page: <a href=\"https://wandb.ai/devcore/Metriken%20Bauwesen%20Sweeps/runs/vxitornp\" target=\"_blank\">https://wandb.ai/devcore/Metriken%20Bauwesen%20Sweeps/runs/vxitornp</a><br/>\n                Run data is saved locally in <code>D:\\Development\\FHNW\\ip5-metriken-bauwesen\\src\\weight_and_bias\\wandb\\run-20210813_104043-vxitornp</code><br/><br/>\n            "
     },
     "metadata": {},
     "output_type": "display_data"
    },
    {
     "data": {
      "text/plain": "<IPython.core.display.HTML object>",
      "text/html": "<br/>Waiting for W&B process to finish, PID 7644<br/>Program ended successfully."
     },
     "metadata": {},
     "output_type": "display_data"
    },
    {
     "data": {
      "text/plain": "VBox(children=(Label(value=' 0.00MB of 0.00MB uploaded (0.00MB deduped)\\r'), FloatProgress(value=1.0, max=1.0)…",
      "application/vnd.jupyter.widget-view+json": {
       "version_major": 2,
       "version_minor": 0,
       "model_id": "62bd84c8fa3d45b8a3b4a747a3daa12a"
      }
     },
     "metadata": {},
     "output_type": "display_data"
    },
    {
     "data": {
      "text/plain": "<IPython.core.display.HTML object>",
      "text/html": "Find user logs for this run at: <code>D:\\Development\\FHNW\\ip5-metriken-bauwesen\\src\\weight_and_bias\\wandb\\run-20210813_104043-vxitornp\\logs\\debug.log</code>"
     },
     "metadata": {},
     "output_type": "display_data"
    },
    {
     "data": {
      "text/plain": "<IPython.core.display.HTML object>",
      "text/html": "Find internal logs for this run at: <code>D:\\Development\\FHNW\\ip5-metriken-bauwesen\\src\\weight_and_bias\\wandb\\run-20210813_104043-vxitornp\\logs\\debug-internal.log</code>"
     },
     "metadata": {},
     "output_type": "display_data"
    },
    {
     "data": {
      "text/plain": "<IPython.core.display.HTML object>",
      "text/html": "<h3>Run summary:</h3><br/><style>\n    table.wandb td:nth-child(1) { padding: 0 10px; text-align: right }\n    </style><table class=\"wandb\">\n<tr><td>r2</td><td>0.90925</td></tr><tr><td>_runtime</td><td>73</td></tr><tr><td>_timestamp</td><td>1628844116</td></tr><tr><td>_step</td><td>3</td></tr><tr><td>neg_mape</td><td>-0.16398</td></tr><tr><td>neg_mae</td><td>-544.58659</td></tr><tr><td>neg_rmse</td><td>-1108.55012</td></tr></table>"
     },
     "metadata": {},
     "output_type": "display_data"
    },
    {
     "data": {
      "text/plain": "<IPython.core.display.HTML object>",
      "text/html": "<h3>Run history:</h3><br/><style>\n    table.wandb td:nth-child(1) { padding: 0 10px; text-align: right }\n    </style><table class=\"wandb\">\n<tr><td>r2</td><td>▁</td></tr><tr><td>_runtime</td><td>▁▁▁▁</td></tr><tr><td>_timestamp</td><td>▁▁▁▁</td></tr><tr><td>_step</td><td>▁▃▆█</td></tr><tr><td>neg_mape</td><td>▁</td></tr><tr><td>neg_mae</td><td>▁</td></tr><tr><td>neg_rmse</td><td>▁</td></tr></table><br/>"
     },
     "metadata": {},
     "output_type": "display_data"
    },
    {
     "data": {
      "text/plain": "<IPython.core.display.HTML object>",
      "text/html": "Synced 4 W&B file(s), 0 media file(s), 0 artifact file(s) and 0 other file(s)"
     },
     "metadata": {},
     "output_type": "display_data"
    },
    {
     "data": {
      "text/plain": "<IPython.core.display.HTML object>",
      "text/html": "\n                    <br/>Synced <strong style=\"color:#cdcd00\">splendid-sweep-55</strong>: <a href=\"https://wandb.ai/devcore/Metriken%20Bauwesen%20Sweeps/runs/vxitornp\" target=\"_blank\">https://wandb.ai/devcore/Metriken%20Bauwesen%20Sweeps/runs/vxitornp</a><br/>\n                "
     },
     "metadata": {},
     "output_type": "display_data"
    },
    {
     "data": {
      "text/plain": "<IPython.core.display.HTML object>",
      "text/html": "\n                Tracking run with wandb version 0.11.0<br/>\n                Syncing run <strong style=\"color:#cdcd00\">flowing-sweep-56</strong> to <a href=\"https://wandb.ai\" target=\"_blank\">Weights & Biases</a> <a href=\"https://docs.wandb.com/integrations/jupyter.html\" target=\"_blank\">(Documentation)</a>.<br/>\n                Project page: <a href=\"https://wandb.ai/devcore/Metriken%20Bauwesen%20Sweeps\" target=\"_blank\">https://wandb.ai/devcore/Metriken%20Bauwesen%20Sweeps</a><br/>\n                Sweep page: <a href=\"https://wandb.ai/devcore/Metriken%20Bauwesen%20Sweeps/sweeps/aslqb1cw\" target=\"_blank\">https://wandb.ai/devcore/Metriken%20Bauwesen%20Sweeps/sweeps/aslqb1cw</a><br/>\nRun page: <a href=\"https://wandb.ai/devcore/Metriken%20Bauwesen%20Sweeps/runs/3cv7dlx4\" target=\"_blank\">https://wandb.ai/devcore/Metriken%20Bauwesen%20Sweeps/runs/3cv7dlx4</a><br/>\n                Run data is saved locally in <code>D:\\Development\\FHNW\\ip5-metriken-bauwesen\\src\\weight_and_bias\\wandb\\run-20210813_104201-3cv7dlx4</code><br/><br/>\n            "
     },
     "metadata": {},
     "output_type": "display_data"
    },
    {
     "data": {
      "text/plain": "<IPython.core.display.HTML object>",
      "text/html": "<br/>Waiting for W&B process to finish, PID 17780<br/>Program ended successfully."
     },
     "metadata": {},
     "output_type": "display_data"
    },
    {
     "data": {
      "text/plain": "VBox(children=(Label(value=' 0.00MB of 0.00MB uploaded (0.00MB deduped)\\r'), FloatProgress(value=1.0, max=1.0)…",
      "application/vnd.jupyter.widget-view+json": {
       "version_major": 2,
       "version_minor": 0,
       "model_id": "73a655d9b65245bba1d46d35bd8705c9"
      }
     },
     "metadata": {},
     "output_type": "display_data"
    },
    {
     "data": {
      "text/plain": "<IPython.core.display.HTML object>",
      "text/html": "Find user logs for this run at: <code>D:\\Development\\FHNW\\ip5-metriken-bauwesen\\src\\weight_and_bias\\wandb\\run-20210813_104201-3cv7dlx4\\logs\\debug.log</code>"
     },
     "metadata": {},
     "output_type": "display_data"
    },
    {
     "data": {
      "text/plain": "<IPython.core.display.HTML object>",
      "text/html": "Find internal logs for this run at: <code>D:\\Development\\FHNW\\ip5-metriken-bauwesen\\src\\weight_and_bias\\wandb\\run-20210813_104201-3cv7dlx4\\logs\\debug-internal.log</code>"
     },
     "metadata": {},
     "output_type": "display_data"
    },
    {
     "data": {
      "text/plain": "<IPython.core.display.HTML object>",
      "text/html": "<h3>Run summary:</h3><br/><style>\n    table.wandb td:nth-child(1) { padding: 0 10px; text-align: right }\n    </style><table class=\"wandb\">\n<tr><td>r2</td><td>0.91176</td></tr><tr><td>_runtime</td><td>40</td></tr><tr><td>_timestamp</td><td>1628844161</td></tr><tr><td>_step</td><td>3</td></tr><tr><td>neg_mape</td><td>-0.15468</td></tr><tr><td>neg_mae</td><td>-529.41713</td></tr><tr><td>neg_rmse</td><td>-1113.33538</td></tr></table>"
     },
     "metadata": {},
     "output_type": "display_data"
    },
    {
     "data": {
      "text/plain": "<IPython.core.display.HTML object>",
      "text/html": "<h3>Run history:</h3><br/><style>\n    table.wandb td:nth-child(1) { padding: 0 10px; text-align: right }\n    </style><table class=\"wandb\">\n<tr><td>r2</td><td>▁</td></tr><tr><td>_runtime</td><td>▁▁▁▁</td></tr><tr><td>_timestamp</td><td>▁▁▁▁</td></tr><tr><td>_step</td><td>▁▃▆█</td></tr><tr><td>neg_mape</td><td>▁</td></tr><tr><td>neg_mae</td><td>▁</td></tr><tr><td>neg_rmse</td><td>▁</td></tr></table><br/>"
     },
     "metadata": {},
     "output_type": "display_data"
    },
    {
     "data": {
      "text/plain": "<IPython.core.display.HTML object>",
      "text/html": "Synced 4 W&B file(s), 0 media file(s), 0 artifact file(s) and 0 other file(s)"
     },
     "metadata": {},
     "output_type": "display_data"
    },
    {
     "data": {
      "text/plain": "<IPython.core.display.HTML object>",
      "text/html": "\n                    <br/>Synced <strong style=\"color:#cdcd00\">flowing-sweep-56</strong>: <a href=\"https://wandb.ai/devcore/Metriken%20Bauwesen%20Sweeps/runs/3cv7dlx4\" target=\"_blank\">https://wandb.ai/devcore/Metriken%20Bauwesen%20Sweeps/runs/3cv7dlx4</a><br/>\n                "
     },
     "metadata": {},
     "output_type": "display_data"
    },
    {
     "data": {
      "text/plain": "<IPython.core.display.HTML object>",
      "text/html": "\n                Tracking run with wandb version 0.11.0<br/>\n                Syncing run <strong style=\"color:#cdcd00\">kind-sweep-57</strong> to <a href=\"https://wandb.ai\" target=\"_blank\">Weights & Biases</a> <a href=\"https://docs.wandb.com/integrations/jupyter.html\" target=\"_blank\">(Documentation)</a>.<br/>\n                Project page: <a href=\"https://wandb.ai/devcore/Metriken%20Bauwesen%20Sweeps\" target=\"_blank\">https://wandb.ai/devcore/Metriken%20Bauwesen%20Sweeps</a><br/>\n                Sweep page: <a href=\"https://wandb.ai/devcore/Metriken%20Bauwesen%20Sweeps/sweeps/aslqb1cw\" target=\"_blank\">https://wandb.ai/devcore/Metriken%20Bauwesen%20Sweeps/sweeps/aslqb1cw</a><br/>\nRun page: <a href=\"https://wandb.ai/devcore/Metriken%20Bauwesen%20Sweeps/runs/5jc6cftj\" target=\"_blank\">https://wandb.ai/devcore/Metriken%20Bauwesen%20Sweeps/runs/5jc6cftj</a><br/>\n                Run data is saved locally in <code>D:\\Development\\FHNW\\ip5-metriken-bauwesen\\src\\weight_and_bias\\wandb\\run-20210813_104245-5jc6cftj</code><br/><br/>\n            "
     },
     "metadata": {},
     "output_type": "display_data"
    },
    {
     "data": {
      "text/plain": "<IPython.core.display.HTML object>",
      "text/html": "<br/>Waiting for W&B process to finish, PID 24036<br/>Program ended successfully."
     },
     "metadata": {},
     "output_type": "display_data"
    },
    {
     "data": {
      "text/plain": "VBox(children=(Label(value=' 0.00MB of 0.00MB uploaded (0.00MB deduped)\\r'), FloatProgress(value=1.0, max=1.0)…",
      "application/vnd.jupyter.widget-view+json": {
       "version_major": 2,
       "version_minor": 0,
       "model_id": "688b4a3df6c64d528b5681e85f457f9f"
      }
     },
     "metadata": {},
     "output_type": "display_data"
    },
    {
     "data": {
      "text/plain": "<IPython.core.display.HTML object>",
      "text/html": "Find user logs for this run at: <code>D:\\Development\\FHNW\\ip5-metriken-bauwesen\\src\\weight_and_bias\\wandb\\run-20210813_104245-5jc6cftj\\logs\\debug.log</code>"
     },
     "metadata": {},
     "output_type": "display_data"
    },
    {
     "data": {
      "text/plain": "<IPython.core.display.HTML object>",
      "text/html": "Find internal logs for this run at: <code>D:\\Development\\FHNW\\ip5-metriken-bauwesen\\src\\weight_and_bias\\wandb\\run-20210813_104245-5jc6cftj\\logs\\debug-internal.log</code>"
     },
     "metadata": {},
     "output_type": "display_data"
    },
    {
     "data": {
      "text/plain": "<IPython.core.display.HTML object>",
      "text/html": "<h3>Run summary:</h3><br/><style>\n    table.wandb td:nth-child(1) { padding: 0 10px; text-align: right }\n    </style><table class=\"wandb\">\n<tr><td>r2</td><td>0.90196</td></tr><tr><td>_runtime</td><td>28</td></tr><tr><td>_timestamp</td><td>1628844194</td></tr><tr><td>_step</td><td>3</td></tr><tr><td>neg_mape</td><td>-0.15871</td></tr><tr><td>neg_mae</td><td>-535.80672</td></tr><tr><td>neg_rmse</td><td>-1177.66858</td></tr></table>"
     },
     "metadata": {},
     "output_type": "display_data"
    },
    {
     "data": {
      "text/plain": "<IPython.core.display.HTML object>",
      "text/html": "<h3>Run history:</h3><br/><style>\n    table.wandb td:nth-child(1) { padding: 0 10px; text-align: right }\n    </style><table class=\"wandb\">\n<tr><td>r2</td><td>▁</td></tr><tr><td>_runtime</td><td>▁▁▁▁</td></tr><tr><td>_timestamp</td><td>▁▁▁▁</td></tr><tr><td>_step</td><td>▁▃▆█</td></tr><tr><td>neg_mape</td><td>▁</td></tr><tr><td>neg_mae</td><td>▁</td></tr><tr><td>neg_rmse</td><td>▁</td></tr></table><br/>"
     },
     "metadata": {},
     "output_type": "display_data"
    },
    {
     "data": {
      "text/plain": "<IPython.core.display.HTML object>",
      "text/html": "Synced 4 W&B file(s), 0 media file(s), 0 artifact file(s) and 0 other file(s)"
     },
     "metadata": {},
     "output_type": "display_data"
    },
    {
     "data": {
      "text/plain": "<IPython.core.display.HTML object>",
      "text/html": "\n                    <br/>Synced <strong style=\"color:#cdcd00\">kind-sweep-57</strong>: <a href=\"https://wandb.ai/devcore/Metriken%20Bauwesen%20Sweeps/runs/5jc6cftj\" target=\"_blank\">https://wandb.ai/devcore/Metriken%20Bauwesen%20Sweeps/runs/5jc6cftj</a><br/>\n                "
     },
     "metadata": {},
     "output_type": "display_data"
    },
    {
     "data": {
      "text/plain": "<IPython.core.display.HTML object>",
      "text/html": "\n                Tracking run with wandb version 0.11.0<br/>\n                Syncing run <strong style=\"color:#cdcd00\">young-sweep-58</strong> to <a href=\"https://wandb.ai\" target=\"_blank\">Weights & Biases</a> <a href=\"https://docs.wandb.com/integrations/jupyter.html\" target=\"_blank\">(Documentation)</a>.<br/>\n                Project page: <a href=\"https://wandb.ai/devcore/Metriken%20Bauwesen%20Sweeps\" target=\"_blank\">https://wandb.ai/devcore/Metriken%20Bauwesen%20Sweeps</a><br/>\n                Sweep page: <a href=\"https://wandb.ai/devcore/Metriken%20Bauwesen%20Sweeps/sweeps/aslqb1cw\" target=\"_blank\">https://wandb.ai/devcore/Metriken%20Bauwesen%20Sweeps/sweeps/aslqb1cw</a><br/>\nRun page: <a href=\"https://wandb.ai/devcore/Metriken%20Bauwesen%20Sweeps/runs/vlrj1zmr\" target=\"_blank\">https://wandb.ai/devcore/Metriken%20Bauwesen%20Sweeps/runs/vlrj1zmr</a><br/>\n                Run data is saved locally in <code>D:\\Development\\FHNW\\ip5-metriken-bauwesen\\src\\weight_and_bias\\wandb\\run-20210813_104319-vlrj1zmr</code><br/><br/>\n            "
     },
     "metadata": {},
     "output_type": "display_data"
    },
    {
     "data": {
      "text/plain": "<IPython.core.display.HTML object>",
      "text/html": "<br/>Waiting for W&B process to finish, PID 23944<br/>Program ended successfully."
     },
     "metadata": {},
     "output_type": "display_data"
    },
    {
     "data": {
      "text/plain": "VBox(children=(Label(value=' 0.00MB of 0.00MB uploaded (0.00MB deduped)\\r'), FloatProgress(value=1.0, max=1.0)…",
      "application/vnd.jupyter.widget-view+json": {
       "version_major": 2,
       "version_minor": 0,
       "model_id": "687ec9f30b7541ecb786ecf7697fbffc"
      }
     },
     "metadata": {},
     "output_type": "display_data"
    },
    {
     "data": {
      "text/plain": "<IPython.core.display.HTML object>",
      "text/html": "Find user logs for this run at: <code>D:\\Development\\FHNW\\ip5-metriken-bauwesen\\src\\weight_and_bias\\wandb\\run-20210813_104319-vlrj1zmr\\logs\\debug.log</code>"
     },
     "metadata": {},
     "output_type": "display_data"
    },
    {
     "data": {
      "text/plain": "<IPython.core.display.HTML object>",
      "text/html": "Find internal logs for this run at: <code>D:\\Development\\FHNW\\ip5-metriken-bauwesen\\src\\weight_and_bias\\wandb\\run-20210813_104319-vlrj1zmr\\logs\\debug-internal.log</code>"
     },
     "metadata": {},
     "output_type": "display_data"
    },
    {
     "data": {
      "text/plain": "<IPython.core.display.HTML object>",
      "text/html": "<h3>Run summary:</h3><br/><style>\n    table.wandb td:nth-child(1) { padding: 0 10px; text-align: right }\n    </style><table class=\"wandb\">\n<tr><td>r2</td><td>0.90755</td></tr><tr><td>_runtime</td><td>28</td></tr><tr><td>_timestamp</td><td>1628844227</td></tr><tr><td>_step</td><td>3</td></tr><tr><td>neg_mape</td><td>-0.15683</td></tr><tr><td>neg_mae</td><td>-520.79327</td></tr><tr><td>neg_rmse</td><td>-1139.66849</td></tr></table>"
     },
     "metadata": {},
     "output_type": "display_data"
    },
    {
     "data": {
      "text/plain": "<IPython.core.display.HTML object>",
      "text/html": "<h3>Run history:</h3><br/><style>\n    table.wandb td:nth-child(1) { padding: 0 10px; text-align: right }\n    </style><table class=\"wandb\">\n<tr><td>r2</td><td>▁</td></tr><tr><td>_runtime</td><td>▁▁▁▁</td></tr><tr><td>_timestamp</td><td>▁▁▁▁</td></tr><tr><td>_step</td><td>▁▃▆█</td></tr><tr><td>neg_mape</td><td>▁</td></tr><tr><td>neg_mae</td><td>▁</td></tr><tr><td>neg_rmse</td><td>▁</td></tr></table><br/>"
     },
     "metadata": {},
     "output_type": "display_data"
    },
    {
     "data": {
      "text/plain": "<IPython.core.display.HTML object>",
      "text/html": "Synced 4 W&B file(s), 0 media file(s), 0 artifact file(s) and 0 other file(s)"
     },
     "metadata": {},
     "output_type": "display_data"
    },
    {
     "data": {
      "text/plain": "<IPython.core.display.HTML object>",
      "text/html": "\n                    <br/>Synced <strong style=\"color:#cdcd00\">young-sweep-58</strong>: <a href=\"https://wandb.ai/devcore/Metriken%20Bauwesen%20Sweeps/runs/vlrj1zmr\" target=\"_blank\">https://wandb.ai/devcore/Metriken%20Bauwesen%20Sweeps/runs/vlrj1zmr</a><br/>\n                "
     },
     "metadata": {},
     "output_type": "display_data"
    },
    {
     "data": {
      "text/plain": "<IPython.core.display.HTML object>",
      "text/html": "\n                Tracking run with wandb version 0.11.0<br/>\n                Syncing run <strong style=\"color:#cdcd00\">gallant-sweep-59</strong> to <a href=\"https://wandb.ai\" target=\"_blank\">Weights & Biases</a> <a href=\"https://docs.wandb.com/integrations/jupyter.html\" target=\"_blank\">(Documentation)</a>.<br/>\n                Project page: <a href=\"https://wandb.ai/devcore/Metriken%20Bauwesen%20Sweeps\" target=\"_blank\">https://wandb.ai/devcore/Metriken%20Bauwesen%20Sweeps</a><br/>\n                Sweep page: <a href=\"https://wandb.ai/devcore/Metriken%20Bauwesen%20Sweeps/sweeps/aslqb1cw\" target=\"_blank\">https://wandb.ai/devcore/Metriken%20Bauwesen%20Sweeps/sweeps/aslqb1cw</a><br/>\nRun page: <a href=\"https://wandb.ai/devcore/Metriken%20Bauwesen%20Sweeps/runs/ebmkzyha\" target=\"_blank\">https://wandb.ai/devcore/Metriken%20Bauwesen%20Sweeps/runs/ebmkzyha</a><br/>\n                Run data is saved locally in <code>D:\\Development\\FHNW\\ip5-metriken-bauwesen\\src\\weight_and_bias\\wandb\\run-20210813_104351-ebmkzyha</code><br/><br/>\n            "
     },
     "metadata": {},
     "output_type": "display_data"
    },
    {
     "data": {
      "text/plain": "<IPython.core.display.HTML object>",
      "text/html": "<br/>Waiting for W&B process to finish, PID 5628<br/>Program ended successfully."
     },
     "metadata": {},
     "output_type": "display_data"
    },
    {
     "data": {
      "text/plain": "VBox(children=(Label(value=' 0.00MB of 0.00MB uploaded (0.00MB deduped)\\r'), FloatProgress(value=1.0, max=1.0)…",
      "application/vnd.jupyter.widget-view+json": {
       "version_major": 2,
       "version_minor": 0,
       "model_id": "f8d7feccb7d24599b47de0e406d617d8"
      }
     },
     "metadata": {},
     "output_type": "display_data"
    },
    {
     "data": {
      "text/plain": "<IPython.core.display.HTML object>",
      "text/html": "Find user logs for this run at: <code>D:\\Development\\FHNW\\ip5-metriken-bauwesen\\src\\weight_and_bias\\wandb\\run-20210813_104351-ebmkzyha\\logs\\debug.log</code>"
     },
     "metadata": {},
     "output_type": "display_data"
    },
    {
     "data": {
      "text/plain": "<IPython.core.display.HTML object>",
      "text/html": "Find internal logs for this run at: <code>D:\\Development\\FHNW\\ip5-metriken-bauwesen\\src\\weight_and_bias\\wandb\\run-20210813_104351-ebmkzyha\\logs\\debug-internal.log</code>"
     },
     "metadata": {},
     "output_type": "display_data"
    },
    {
     "data": {
      "text/plain": "<IPython.core.display.HTML object>",
      "text/html": "<h3>Run summary:</h3><br/><style>\n    table.wandb td:nth-child(1) { padding: 0 10px; text-align: right }\n    </style><table class=\"wandb\">\n<tr><td>r2</td><td>0.90942</td></tr><tr><td>_runtime</td><td>15</td></tr><tr><td>_timestamp</td><td>1628844246</td></tr><tr><td>_step</td><td>3</td></tr><tr><td>neg_mape</td><td>-0.15531</td></tr><tr><td>neg_mae</td><td>-515.73198</td></tr><tr><td>neg_rmse</td><td>-1142.44518</td></tr></table>"
     },
     "metadata": {},
     "output_type": "display_data"
    },
    {
     "data": {
      "text/plain": "<IPython.core.display.HTML object>",
      "text/html": "<h3>Run history:</h3><br/><style>\n    table.wandb td:nth-child(1) { padding: 0 10px; text-align: right }\n    </style><table class=\"wandb\">\n<tr><td>r2</td><td>▁</td></tr><tr><td>_runtime</td><td>▁▁▁▁</td></tr><tr><td>_timestamp</td><td>▁▁▁▁</td></tr><tr><td>_step</td><td>▁▃▆█</td></tr><tr><td>neg_mape</td><td>▁</td></tr><tr><td>neg_mae</td><td>▁</td></tr><tr><td>neg_rmse</td><td>▁</td></tr></table><br/>"
     },
     "metadata": {},
     "output_type": "display_data"
    },
    {
     "data": {
      "text/plain": "<IPython.core.display.HTML object>",
      "text/html": "Synced 4 W&B file(s), 0 media file(s), 0 artifact file(s) and 0 other file(s)"
     },
     "metadata": {},
     "output_type": "display_data"
    },
    {
     "data": {
      "text/plain": "<IPython.core.display.HTML object>",
      "text/html": "\n                    <br/>Synced <strong style=\"color:#cdcd00\">gallant-sweep-59</strong>: <a href=\"https://wandb.ai/devcore/Metriken%20Bauwesen%20Sweeps/runs/ebmkzyha\" target=\"_blank\">https://wandb.ai/devcore/Metriken%20Bauwesen%20Sweeps/runs/ebmkzyha</a><br/>\n                "
     },
     "metadata": {},
     "output_type": "display_data"
    },
    {
     "data": {
      "text/plain": "<IPython.core.display.HTML object>",
      "text/html": "\n                Tracking run with wandb version 0.11.0<br/>\n                Syncing run <strong style=\"color:#cdcd00\">daily-sweep-60</strong> to <a href=\"https://wandb.ai\" target=\"_blank\">Weights & Biases</a> <a href=\"https://docs.wandb.com/integrations/jupyter.html\" target=\"_blank\">(Documentation)</a>.<br/>\n                Project page: <a href=\"https://wandb.ai/devcore/Metriken%20Bauwesen%20Sweeps\" target=\"_blank\">https://wandb.ai/devcore/Metriken%20Bauwesen%20Sweeps</a><br/>\n                Sweep page: <a href=\"https://wandb.ai/devcore/Metriken%20Bauwesen%20Sweeps/sweeps/aslqb1cw\" target=\"_blank\">https://wandb.ai/devcore/Metriken%20Bauwesen%20Sweeps/sweeps/aslqb1cw</a><br/>\nRun page: <a href=\"https://wandb.ai/devcore/Metriken%20Bauwesen%20Sweeps/runs/px3u0uou\" target=\"_blank\">https://wandb.ai/devcore/Metriken%20Bauwesen%20Sweeps/runs/px3u0uou</a><br/>\n                Run data is saved locally in <code>D:\\Development\\FHNW\\ip5-metriken-bauwesen\\src\\weight_and_bias\\wandb\\run-20210813_104410-px3u0uou</code><br/><br/>\n            "
     },
     "metadata": {},
     "output_type": "display_data"
    },
    {
     "data": {
      "text/plain": "<IPython.core.display.HTML object>",
      "text/html": "<br/>Waiting for W&B process to finish, PID 22604<br/>Program ended successfully."
     },
     "metadata": {},
     "output_type": "display_data"
    },
    {
     "data": {
      "text/plain": "VBox(children=(Label(value=' 0.00MB of 0.00MB uploaded (0.00MB deduped)\\r'), FloatProgress(value=1.0, max=1.0)…",
      "application/vnd.jupyter.widget-view+json": {
       "version_major": 2,
       "version_minor": 0,
       "model_id": "ada749b4e5ec427db096f67a3362e340"
      }
     },
     "metadata": {},
     "output_type": "display_data"
    },
    {
     "data": {
      "text/plain": "<IPython.core.display.HTML object>",
      "text/html": "Find user logs for this run at: <code>D:\\Development\\FHNW\\ip5-metriken-bauwesen\\src\\weight_and_bias\\wandb\\run-20210813_104410-px3u0uou\\logs\\debug.log</code>"
     },
     "metadata": {},
     "output_type": "display_data"
    },
    {
     "data": {
      "text/plain": "<IPython.core.display.HTML object>",
      "text/html": "Find internal logs for this run at: <code>D:\\Development\\FHNW\\ip5-metriken-bauwesen\\src\\weight_and_bias\\wandb\\run-20210813_104410-px3u0uou\\logs\\debug-internal.log</code>"
     },
     "metadata": {},
     "output_type": "display_data"
    },
    {
     "data": {
      "text/plain": "<IPython.core.display.HTML object>",
      "text/html": "<h3>Run summary:</h3><br/><style>\n    table.wandb td:nth-child(1) { padding: 0 10px; text-align: right }\n    </style><table class=\"wandb\">\n<tr><td>r2</td><td>0.90593</td></tr><tr><td>_runtime</td><td>52</td></tr><tr><td>_timestamp</td><td>1628844302</td></tr><tr><td>_step</td><td>3</td></tr><tr><td>neg_mape</td><td>-0.16384</td></tr><tr><td>neg_mae</td><td>-523.3847</td></tr><tr><td>neg_rmse</td><td>-1121.85638</td></tr></table>"
     },
     "metadata": {},
     "output_type": "display_data"
    },
    {
     "data": {
      "text/plain": "<IPython.core.display.HTML object>",
      "text/html": "<h3>Run history:</h3><br/><style>\n    table.wandb td:nth-child(1) { padding: 0 10px; text-align: right }\n    </style><table class=\"wandb\">\n<tr><td>r2</td><td>▁</td></tr><tr><td>_runtime</td><td>▁▁▁▁</td></tr><tr><td>_timestamp</td><td>▁▁▁▁</td></tr><tr><td>_step</td><td>▁▃▆█</td></tr><tr><td>neg_mape</td><td>▁</td></tr><tr><td>neg_mae</td><td>▁</td></tr><tr><td>neg_rmse</td><td>▁</td></tr></table><br/>"
     },
     "metadata": {},
     "output_type": "display_data"
    },
    {
     "data": {
      "text/plain": "<IPython.core.display.HTML object>",
      "text/html": "Synced 4 W&B file(s), 0 media file(s), 0 artifact file(s) and 0 other file(s)"
     },
     "metadata": {},
     "output_type": "display_data"
    },
    {
     "data": {
      "text/plain": "<IPython.core.display.HTML object>",
      "text/html": "\n                    <br/>Synced <strong style=\"color:#cdcd00\">daily-sweep-60</strong>: <a href=\"https://wandb.ai/devcore/Metriken%20Bauwesen%20Sweeps/runs/px3u0uou\" target=\"_blank\">https://wandb.ai/devcore/Metriken%20Bauwesen%20Sweeps/runs/px3u0uou</a><br/>\n                "
     },
     "metadata": {},
     "output_type": "display_data"
    },
    {
     "data": {
      "text/plain": "<IPython.core.display.HTML object>",
      "text/html": "\n                Tracking run with wandb version 0.11.0<br/>\n                Syncing run <strong style=\"color:#cdcd00\">scarlet-sweep-61</strong> to <a href=\"https://wandb.ai\" target=\"_blank\">Weights & Biases</a> <a href=\"https://docs.wandb.com/integrations/jupyter.html\" target=\"_blank\">(Documentation)</a>.<br/>\n                Project page: <a href=\"https://wandb.ai/devcore/Metriken%20Bauwesen%20Sweeps\" target=\"_blank\">https://wandb.ai/devcore/Metriken%20Bauwesen%20Sweeps</a><br/>\n                Sweep page: <a href=\"https://wandb.ai/devcore/Metriken%20Bauwesen%20Sweeps/sweeps/aslqb1cw\" target=\"_blank\">https://wandb.ai/devcore/Metriken%20Bauwesen%20Sweeps/sweeps/aslqb1cw</a><br/>\nRun page: <a href=\"https://wandb.ai/devcore/Metriken%20Bauwesen%20Sweeps/runs/zxxqxc44\" target=\"_blank\">https://wandb.ai/devcore/Metriken%20Bauwesen%20Sweeps/runs/zxxqxc44</a><br/>\n                Run data is saved locally in <code>D:\\Development\\FHNW\\ip5-metriken-bauwesen\\src\\weight_and_bias\\wandb\\run-20210813_104507-zxxqxc44</code><br/><br/>\n            "
     },
     "metadata": {},
     "output_type": "display_data"
    },
    {
     "data": {
      "text/plain": "<IPython.core.display.HTML object>",
      "text/html": "<br/>Waiting for W&B process to finish, PID 21784<br/>Program ended successfully."
     },
     "metadata": {},
     "output_type": "display_data"
    },
    {
     "data": {
      "text/plain": "VBox(children=(Label(value=' 0.00MB of 0.00MB uploaded (0.00MB deduped)\\r'), FloatProgress(value=1.0, max=1.0)…",
      "application/vnd.jupyter.widget-view+json": {
       "version_major": 2,
       "version_minor": 0,
       "model_id": "283b647f5d664d20bc5b19a44b3a7e8f"
      }
     },
     "metadata": {},
     "output_type": "display_data"
    },
    {
     "data": {
      "text/plain": "<IPython.core.display.HTML object>",
      "text/html": "Find user logs for this run at: <code>D:\\Development\\FHNW\\ip5-metriken-bauwesen\\src\\weight_and_bias\\wandb\\run-20210813_104507-zxxqxc44\\logs\\debug.log</code>"
     },
     "metadata": {},
     "output_type": "display_data"
    },
    {
     "data": {
      "text/plain": "<IPython.core.display.HTML object>",
      "text/html": "Find internal logs for this run at: <code>D:\\Development\\FHNW\\ip5-metriken-bauwesen\\src\\weight_and_bias\\wandb\\run-20210813_104507-zxxqxc44\\logs\\debug-internal.log</code>"
     },
     "metadata": {},
     "output_type": "display_data"
    },
    {
     "data": {
      "text/plain": "<IPython.core.display.HTML object>",
      "text/html": "<h3>Run summary:</h3><br/><style>\n    table.wandb td:nth-child(1) { padding: 0 10px; text-align: right }\n    </style><table class=\"wandb\">\n<tr><td>r2</td><td>0.91144</td></tr><tr><td>_runtime</td><td>29</td></tr><tr><td>_timestamp</td><td>1628844336</td></tr><tr><td>_step</td><td>3</td></tr><tr><td>neg_mape</td><td>-0.15673</td></tr><tr><td>neg_mae</td><td>-517.3808</td></tr><tr><td>neg_rmse</td><td>-1102.46555</td></tr></table>"
     },
     "metadata": {},
     "output_type": "display_data"
    },
    {
     "data": {
      "text/plain": "<IPython.core.display.HTML object>",
      "text/html": "<h3>Run history:</h3><br/><style>\n    table.wandb td:nth-child(1) { padding: 0 10px; text-align: right }\n    </style><table class=\"wandb\">\n<tr><td>r2</td><td>▁</td></tr><tr><td>_runtime</td><td>▁▁▁▁</td></tr><tr><td>_timestamp</td><td>▁▁▁▁</td></tr><tr><td>_step</td><td>▁▃▆█</td></tr><tr><td>neg_mape</td><td>▁</td></tr><tr><td>neg_mae</td><td>▁</td></tr><tr><td>neg_rmse</td><td>▁</td></tr></table><br/>"
     },
     "metadata": {},
     "output_type": "display_data"
    },
    {
     "data": {
      "text/plain": "<IPython.core.display.HTML object>",
      "text/html": "Synced 4 W&B file(s), 0 media file(s), 0 artifact file(s) and 0 other file(s)"
     },
     "metadata": {},
     "output_type": "display_data"
    },
    {
     "data": {
      "text/plain": "<IPython.core.display.HTML object>",
      "text/html": "\n                    <br/>Synced <strong style=\"color:#cdcd00\">scarlet-sweep-61</strong>: <a href=\"https://wandb.ai/devcore/Metriken%20Bauwesen%20Sweeps/runs/zxxqxc44\" target=\"_blank\">https://wandb.ai/devcore/Metriken%20Bauwesen%20Sweeps/runs/zxxqxc44</a><br/>\n                "
     },
     "metadata": {},
     "output_type": "display_data"
    },
    {
     "data": {
      "text/plain": "<IPython.core.display.HTML object>",
      "text/html": "\n                Tracking run with wandb version 0.11.0<br/>\n                Syncing run <strong style=\"color:#cdcd00\">summer-sweep-62</strong> to <a href=\"https://wandb.ai\" target=\"_blank\">Weights & Biases</a> <a href=\"https://docs.wandb.com/integrations/jupyter.html\" target=\"_blank\">(Documentation)</a>.<br/>\n                Project page: <a href=\"https://wandb.ai/devcore/Metriken%20Bauwesen%20Sweeps\" target=\"_blank\">https://wandb.ai/devcore/Metriken%20Bauwesen%20Sweeps</a><br/>\n                Sweep page: <a href=\"https://wandb.ai/devcore/Metriken%20Bauwesen%20Sweeps/sweeps/aslqb1cw\" target=\"_blank\">https://wandb.ai/devcore/Metriken%20Bauwesen%20Sweeps/sweeps/aslqb1cw</a><br/>\nRun page: <a href=\"https://wandb.ai/devcore/Metriken%20Bauwesen%20Sweeps/runs/qcb6ojh8\" target=\"_blank\">https://wandb.ai/devcore/Metriken%20Bauwesen%20Sweeps/runs/qcb6ojh8</a><br/>\n                Run data is saved locally in <code>D:\\Development\\FHNW\\ip5-metriken-bauwesen\\src\\weight_and_bias\\wandb\\run-20210813_104540-qcb6ojh8</code><br/><br/>\n            "
     },
     "metadata": {},
     "output_type": "display_data"
    },
    {
     "data": {
      "text/plain": "<IPython.core.display.HTML object>",
      "text/html": "<br/>Waiting for W&B process to finish, PID 19104<br/>Program ended successfully."
     },
     "metadata": {},
     "output_type": "display_data"
    },
    {
     "data": {
      "text/plain": "VBox(children=(Label(value=' 0.00MB of 0.00MB uploaded (0.00MB deduped)\\r'), FloatProgress(value=1.0, max=1.0)…",
      "application/vnd.jupyter.widget-view+json": {
       "version_major": 2,
       "version_minor": 0,
       "model_id": "ed30819f05d24c78bac31099b51b71f7"
      }
     },
     "metadata": {},
     "output_type": "display_data"
    },
    {
     "data": {
      "text/plain": "<IPython.core.display.HTML object>",
      "text/html": "Find user logs for this run at: <code>D:\\Development\\FHNW\\ip5-metriken-bauwesen\\src\\weight_and_bias\\wandb\\run-20210813_104540-qcb6ojh8\\logs\\debug.log</code>"
     },
     "metadata": {},
     "output_type": "display_data"
    },
    {
     "data": {
      "text/plain": "<IPython.core.display.HTML object>",
      "text/html": "Find internal logs for this run at: <code>D:\\Development\\FHNW\\ip5-metriken-bauwesen\\src\\weight_and_bias\\wandb\\run-20210813_104540-qcb6ojh8\\logs\\debug-internal.log</code>"
     },
     "metadata": {},
     "output_type": "display_data"
    },
    {
     "data": {
      "text/plain": "<IPython.core.display.HTML object>",
      "text/html": "<h3>Run summary:</h3><br/><style>\n    table.wandb td:nth-child(1) { padding: 0 10px; text-align: right }\n    </style><table class=\"wandb\">\n<tr><td>r2</td><td>0.90793</td></tr><tr><td>_runtime</td><td>57</td></tr><tr><td>_timestamp</td><td>1628844397</td></tr><tr><td>_step</td><td>3</td></tr><tr><td>neg_mape</td><td>-0.15891</td></tr><tr><td>neg_mae</td><td>-529.08804</td></tr><tr><td>neg_rmse</td><td>-1116.7127</td></tr></table>"
     },
     "metadata": {},
     "output_type": "display_data"
    },
    {
     "data": {
      "text/plain": "<IPython.core.display.HTML object>",
      "text/html": "<h3>Run history:</h3><br/><style>\n    table.wandb td:nth-child(1) { padding: 0 10px; text-align: right }\n    </style><table class=\"wandb\">\n<tr><td>r2</td><td>▁</td></tr><tr><td>_runtime</td><td>▁▁▁▁</td></tr><tr><td>_timestamp</td><td>▁▁▁▁</td></tr><tr><td>_step</td><td>▁▃▆█</td></tr><tr><td>neg_mape</td><td>▁</td></tr><tr><td>neg_mae</td><td>▁</td></tr><tr><td>neg_rmse</td><td>▁</td></tr></table><br/>"
     },
     "metadata": {},
     "output_type": "display_data"
    },
    {
     "data": {
      "text/plain": "<IPython.core.display.HTML object>",
      "text/html": "Synced 4 W&B file(s), 0 media file(s), 0 artifact file(s) and 0 other file(s)"
     },
     "metadata": {},
     "output_type": "display_data"
    },
    {
     "data": {
      "text/plain": "<IPython.core.display.HTML object>",
      "text/html": "\n                    <br/>Synced <strong style=\"color:#cdcd00\">summer-sweep-62</strong>: <a href=\"https://wandb.ai/devcore/Metriken%20Bauwesen%20Sweeps/runs/qcb6ojh8\" target=\"_blank\">https://wandb.ai/devcore/Metriken%20Bauwesen%20Sweeps/runs/qcb6ojh8</a><br/>\n                "
     },
     "metadata": {},
     "output_type": "display_data"
    },
    {
     "data": {
      "text/plain": "<IPython.core.display.HTML object>",
      "text/html": "\n                Tracking run with wandb version 0.11.0<br/>\n                Syncing run <strong style=\"color:#cdcd00\">rosy-sweep-63</strong> to <a href=\"https://wandb.ai\" target=\"_blank\">Weights & Biases</a> <a href=\"https://docs.wandb.com/integrations/jupyter.html\" target=\"_blank\">(Documentation)</a>.<br/>\n                Project page: <a href=\"https://wandb.ai/devcore/Metriken%20Bauwesen%20Sweeps\" target=\"_blank\">https://wandb.ai/devcore/Metriken%20Bauwesen%20Sweeps</a><br/>\n                Sweep page: <a href=\"https://wandb.ai/devcore/Metriken%20Bauwesen%20Sweeps/sweeps/aslqb1cw\" target=\"_blank\">https://wandb.ai/devcore/Metriken%20Bauwesen%20Sweeps/sweeps/aslqb1cw</a><br/>\nRun page: <a href=\"https://wandb.ai/devcore/Metriken%20Bauwesen%20Sweeps/runs/zyxxt3ga\" target=\"_blank\">https://wandb.ai/devcore/Metriken%20Bauwesen%20Sweeps/runs/zyxxt3ga</a><br/>\n                Run data is saved locally in <code>D:\\Development\\FHNW\\ip5-metriken-bauwesen\\src\\weight_and_bias\\wandb\\run-20210813_104642-zyxxt3ga</code><br/><br/>\n            "
     },
     "metadata": {},
     "output_type": "display_data"
    },
    {
     "data": {
      "text/plain": "<IPython.core.display.HTML object>",
      "text/html": "<br/>Waiting for W&B process to finish, PID 7456<br/>Program ended successfully."
     },
     "metadata": {},
     "output_type": "display_data"
    },
    {
     "data": {
      "text/plain": "VBox(children=(Label(value=' 0.00MB of 0.00MB uploaded (0.00MB deduped)\\r'), FloatProgress(value=1.0, max=1.0)…",
      "application/vnd.jupyter.widget-view+json": {
       "version_major": 2,
       "version_minor": 0,
       "model_id": "8c25958aab0d46d1b34eff0d6645f3af"
      }
     },
     "metadata": {},
     "output_type": "display_data"
    },
    {
     "data": {
      "text/plain": "<IPython.core.display.HTML object>",
      "text/html": "Find user logs for this run at: <code>D:\\Development\\FHNW\\ip5-metriken-bauwesen\\src\\weight_and_bias\\wandb\\run-20210813_104642-zyxxt3ga\\logs\\debug.log</code>"
     },
     "metadata": {},
     "output_type": "display_data"
    },
    {
     "data": {
      "text/plain": "<IPython.core.display.HTML object>",
      "text/html": "Find internal logs for this run at: <code>D:\\Development\\FHNW\\ip5-metriken-bauwesen\\src\\weight_and_bias\\wandb\\run-20210813_104642-zyxxt3ga\\logs\\debug-internal.log</code>"
     },
     "metadata": {},
     "output_type": "display_data"
    },
    {
     "data": {
      "text/plain": "<IPython.core.display.HTML object>",
      "text/html": "<h3>Run summary:</h3><br/><style>\n    table.wandb td:nth-child(1) { padding: 0 10px; text-align: right }\n    </style><table class=\"wandb\">\n<tr><td>r2</td><td>0.92011</td></tr><tr><td>_runtime</td><td>30</td></tr><tr><td>_timestamp</td><td>1628844433</td></tr><tr><td>_step</td><td>3</td></tr><tr><td>neg_mape</td><td>-0.15927</td></tr><tr><td>neg_mae</td><td>-505.15786</td></tr><tr><td>neg_rmse</td><td>-1068.65018</td></tr></table>"
     },
     "metadata": {},
     "output_type": "display_data"
    },
    {
     "data": {
      "text/plain": "<IPython.core.display.HTML object>",
      "text/html": "<h3>Run history:</h3><br/><style>\n    table.wandb td:nth-child(1) { padding: 0 10px; text-align: right }\n    </style><table class=\"wandb\">\n<tr><td>r2</td><td>▁</td></tr><tr><td>_runtime</td><td>▁▁▁▁</td></tr><tr><td>_timestamp</td><td>▁▁▁▁</td></tr><tr><td>_step</td><td>▁▃▆█</td></tr><tr><td>neg_mape</td><td>▁</td></tr><tr><td>neg_mae</td><td>▁</td></tr><tr><td>neg_rmse</td><td>▁</td></tr></table><br/>"
     },
     "metadata": {},
     "output_type": "display_data"
    },
    {
     "data": {
      "text/plain": "<IPython.core.display.HTML object>",
      "text/html": "Synced 4 W&B file(s), 0 media file(s), 0 artifact file(s) and 0 other file(s)"
     },
     "metadata": {},
     "output_type": "display_data"
    },
    {
     "data": {
      "text/plain": "<IPython.core.display.HTML object>",
      "text/html": "\n                    <br/>Synced <strong style=\"color:#cdcd00\">rosy-sweep-63</strong>: <a href=\"https://wandb.ai/devcore/Metriken%20Bauwesen%20Sweeps/runs/zyxxt3ga\" target=\"_blank\">https://wandb.ai/devcore/Metriken%20Bauwesen%20Sweeps/runs/zyxxt3ga</a><br/>\n                "
     },
     "metadata": {},
     "output_type": "display_data"
    },
    {
     "data": {
      "text/plain": "<IPython.core.display.HTML object>",
      "text/html": "\n                Tracking run with wandb version 0.11.0<br/>\n                Syncing run <strong style=\"color:#cdcd00\">golden-sweep-64</strong> to <a href=\"https://wandb.ai\" target=\"_blank\">Weights & Biases</a> <a href=\"https://docs.wandb.com/integrations/jupyter.html\" target=\"_blank\">(Documentation)</a>.<br/>\n                Project page: <a href=\"https://wandb.ai/devcore/Metriken%20Bauwesen%20Sweeps\" target=\"_blank\">https://wandb.ai/devcore/Metriken%20Bauwesen%20Sweeps</a><br/>\n                Sweep page: <a href=\"https://wandb.ai/devcore/Metriken%20Bauwesen%20Sweeps/sweeps/aslqb1cw\" target=\"_blank\">https://wandb.ai/devcore/Metriken%20Bauwesen%20Sweeps/sweeps/aslqb1cw</a><br/>\nRun page: <a href=\"https://wandb.ai/devcore/Metriken%20Bauwesen%20Sweeps/runs/k4htdryt\" target=\"_blank\">https://wandb.ai/devcore/Metriken%20Bauwesen%20Sweeps/runs/k4htdryt</a><br/>\n                Run data is saved locally in <code>D:\\Development\\FHNW\\ip5-metriken-bauwesen\\src\\weight_and_bias\\wandb\\run-20210813_104717-k4htdryt</code><br/><br/>\n            "
     },
     "metadata": {},
     "output_type": "display_data"
    },
    {
     "data": {
      "text/plain": "<IPython.core.display.HTML object>",
      "text/html": "<br/>Waiting for W&B process to finish, PID 12168<br/>Program ended successfully."
     },
     "metadata": {},
     "output_type": "display_data"
    },
    {
     "data": {
      "text/plain": "VBox(children=(Label(value=' 0.00MB of 0.00MB uploaded (0.00MB deduped)\\r'), FloatProgress(value=1.0, max=1.0)…",
      "application/vnd.jupyter.widget-view+json": {
       "version_major": 2,
       "version_minor": 0,
       "model_id": "bc1d723976354fc0ac1e160fa86df7b2"
      }
     },
     "metadata": {},
     "output_type": "display_data"
    },
    {
     "data": {
      "text/plain": "<IPython.core.display.HTML object>",
      "text/html": "Find user logs for this run at: <code>D:\\Development\\FHNW\\ip5-metriken-bauwesen\\src\\weight_and_bias\\wandb\\run-20210813_104717-k4htdryt\\logs\\debug.log</code>"
     },
     "metadata": {},
     "output_type": "display_data"
    },
    {
     "data": {
      "text/plain": "<IPython.core.display.HTML object>",
      "text/html": "Find internal logs for this run at: <code>D:\\Development\\FHNW\\ip5-metriken-bauwesen\\src\\weight_and_bias\\wandb\\run-20210813_104717-k4htdryt\\logs\\debug-internal.log</code>"
     },
     "metadata": {},
     "output_type": "display_data"
    },
    {
     "data": {
      "text/plain": "<IPython.core.display.HTML object>",
      "text/html": "<h3>Run summary:</h3><br/><style>\n    table.wandb td:nth-child(1) { padding: 0 10px; text-align: right }\n    </style><table class=\"wandb\">\n<tr><td>r2</td><td>0.90474</td></tr><tr><td>_runtime</td><td>18</td></tr><tr><td>_timestamp</td><td>1628844455</td></tr><tr><td>_step</td><td>3</td></tr><tr><td>neg_mape</td><td>-0.16097</td></tr><tr><td>neg_mae</td><td>-533.30323</td></tr><tr><td>neg_rmse</td><td>-1149.6734</td></tr></table>"
     },
     "metadata": {},
     "output_type": "display_data"
    },
    {
     "data": {
      "text/plain": "<IPython.core.display.HTML object>",
      "text/html": "<h3>Run history:</h3><br/><style>\n    table.wandb td:nth-child(1) { padding: 0 10px; text-align: right }\n    </style><table class=\"wandb\">\n<tr><td>r2</td><td>▁</td></tr><tr><td>_runtime</td><td>▁▁▁▁</td></tr><tr><td>_timestamp</td><td>▁▁▁▁</td></tr><tr><td>_step</td><td>▁▃▆█</td></tr><tr><td>neg_mape</td><td>▁</td></tr><tr><td>neg_mae</td><td>▁</td></tr><tr><td>neg_rmse</td><td>▁</td></tr></table><br/>"
     },
     "metadata": {},
     "output_type": "display_data"
    },
    {
     "data": {
      "text/plain": "<IPython.core.display.HTML object>",
      "text/html": "Synced 4 W&B file(s), 0 media file(s), 0 artifact file(s) and 0 other file(s)"
     },
     "metadata": {},
     "output_type": "display_data"
    },
    {
     "data": {
      "text/plain": "<IPython.core.display.HTML object>",
      "text/html": "\n                    <br/>Synced <strong style=\"color:#cdcd00\">golden-sweep-64</strong>: <a href=\"https://wandb.ai/devcore/Metriken%20Bauwesen%20Sweeps/runs/k4htdryt\" target=\"_blank\">https://wandb.ai/devcore/Metriken%20Bauwesen%20Sweeps/runs/k4htdryt</a><br/>\n                "
     },
     "metadata": {},
     "output_type": "display_data"
    },
    {
     "data": {
      "text/plain": "<IPython.core.display.HTML object>",
      "text/html": "\n                Tracking run with wandb version 0.11.0<br/>\n                Syncing run <strong style=\"color:#cdcd00\">curious-sweep-65</strong> to <a href=\"https://wandb.ai\" target=\"_blank\">Weights & Biases</a> <a href=\"https://docs.wandb.com/integrations/jupyter.html\" target=\"_blank\">(Documentation)</a>.<br/>\n                Project page: <a href=\"https://wandb.ai/devcore/Metriken%20Bauwesen%20Sweeps\" target=\"_blank\">https://wandb.ai/devcore/Metriken%20Bauwesen%20Sweeps</a><br/>\n                Sweep page: <a href=\"https://wandb.ai/devcore/Metriken%20Bauwesen%20Sweeps/sweeps/aslqb1cw\" target=\"_blank\">https://wandb.ai/devcore/Metriken%20Bauwesen%20Sweeps/sweeps/aslqb1cw</a><br/>\nRun page: <a href=\"https://wandb.ai/devcore/Metriken%20Bauwesen%20Sweeps/runs/uhkvz1ol\" target=\"_blank\">https://wandb.ai/devcore/Metriken%20Bauwesen%20Sweeps/runs/uhkvz1ol</a><br/>\n                Run data is saved locally in <code>D:\\Development\\FHNW\\ip5-metriken-bauwesen\\src\\weight_and_bias\\wandb\\run-20210813_104740-uhkvz1ol</code><br/><br/>\n            "
     },
     "metadata": {},
     "output_type": "display_data"
    },
    {
     "data": {
      "text/plain": "<IPython.core.display.HTML object>",
      "text/html": "<br/>Waiting for W&B process to finish, PID 1612<br/>Program ended successfully."
     },
     "metadata": {},
     "output_type": "display_data"
    },
    {
     "data": {
      "text/plain": "VBox(children=(Label(value=' 0.00MB of 0.00MB uploaded (0.00MB deduped)\\r'), FloatProgress(value=1.0, max=1.0)…",
      "application/vnd.jupyter.widget-view+json": {
       "version_major": 2,
       "version_minor": 0,
       "model_id": "45d9a2c6898b46689812b8231779e544"
      }
     },
     "metadata": {},
     "output_type": "display_data"
    },
    {
     "data": {
      "text/plain": "<IPython.core.display.HTML object>",
      "text/html": "Find user logs for this run at: <code>D:\\Development\\FHNW\\ip5-metriken-bauwesen\\src\\weight_and_bias\\wandb\\run-20210813_104740-uhkvz1ol\\logs\\debug.log</code>"
     },
     "metadata": {},
     "output_type": "display_data"
    },
    {
     "data": {
      "text/plain": "<IPython.core.display.HTML object>",
      "text/html": "Find internal logs for this run at: <code>D:\\Development\\FHNW\\ip5-metriken-bauwesen\\src\\weight_and_bias\\wandb\\run-20210813_104740-uhkvz1ol\\logs\\debug-internal.log</code>"
     },
     "metadata": {},
     "output_type": "display_data"
    },
    {
     "data": {
      "text/plain": "<IPython.core.display.HTML object>",
      "text/html": "<h3>Run summary:</h3><br/><style>\n    table.wandb td:nth-child(1) { padding: 0 10px; text-align: right }\n    </style><table class=\"wandb\">\n<tr><td>r2</td><td>0.90123</td></tr><tr><td>_runtime</td><td>15</td></tr><tr><td>_timestamp</td><td>1628844475</td></tr><tr><td>_step</td><td>3</td></tr><tr><td>neg_mape</td><td>-0.15723</td></tr><tr><td>neg_mae</td><td>-528.96318</td></tr><tr><td>neg_rmse</td><td>-1184.53194</td></tr></table>"
     },
     "metadata": {},
     "output_type": "display_data"
    },
    {
     "data": {
      "text/plain": "<IPython.core.display.HTML object>",
      "text/html": "<h3>Run history:</h3><br/><style>\n    table.wandb td:nth-child(1) { padding: 0 10px; text-align: right }\n    </style><table class=\"wandb\">\n<tr><td>r2</td><td>▁</td></tr><tr><td>_runtime</td><td>▁▁▁▁</td></tr><tr><td>_timestamp</td><td>▁▁▁▁</td></tr><tr><td>_step</td><td>▁▃▆█</td></tr><tr><td>neg_mape</td><td>▁</td></tr><tr><td>neg_mae</td><td>▁</td></tr><tr><td>neg_rmse</td><td>▁</td></tr></table><br/>"
     },
     "metadata": {},
     "output_type": "display_data"
    },
    {
     "data": {
      "text/plain": "<IPython.core.display.HTML object>",
      "text/html": "Synced 4 W&B file(s), 0 media file(s), 0 artifact file(s) and 0 other file(s)"
     },
     "metadata": {},
     "output_type": "display_data"
    },
    {
     "data": {
      "text/plain": "<IPython.core.display.HTML object>",
      "text/html": "\n                    <br/>Synced <strong style=\"color:#cdcd00\">curious-sweep-65</strong>: <a href=\"https://wandb.ai/devcore/Metriken%20Bauwesen%20Sweeps/runs/uhkvz1ol\" target=\"_blank\">https://wandb.ai/devcore/Metriken%20Bauwesen%20Sweeps/runs/uhkvz1ol</a><br/>\n                "
     },
     "metadata": {},
     "output_type": "display_data"
    },
    {
     "data": {
      "text/plain": "<IPython.core.display.HTML object>",
      "text/html": "\n                Tracking run with wandb version 0.11.0<br/>\n                Syncing run <strong style=\"color:#cdcd00\">youthful-sweep-66</strong> to <a href=\"https://wandb.ai\" target=\"_blank\">Weights & Biases</a> <a href=\"https://docs.wandb.com/integrations/jupyter.html\" target=\"_blank\">(Documentation)</a>.<br/>\n                Project page: <a href=\"https://wandb.ai/devcore/Metriken%20Bauwesen%20Sweeps\" target=\"_blank\">https://wandb.ai/devcore/Metriken%20Bauwesen%20Sweeps</a><br/>\n                Sweep page: <a href=\"https://wandb.ai/devcore/Metriken%20Bauwesen%20Sweeps/sweeps/aslqb1cw\" target=\"_blank\">https://wandb.ai/devcore/Metriken%20Bauwesen%20Sweeps/sweeps/aslqb1cw</a><br/>\nRun page: <a href=\"https://wandb.ai/devcore/Metriken%20Bauwesen%20Sweeps/runs/727tg6a3\" target=\"_blank\">https://wandb.ai/devcore/Metriken%20Bauwesen%20Sweeps/runs/727tg6a3</a><br/>\n                Run data is saved locally in <code>D:\\Development\\FHNW\\ip5-metriken-bauwesen\\src\\weight_and_bias\\wandb\\run-20210813_104759-727tg6a3</code><br/><br/>\n            "
     },
     "metadata": {},
     "output_type": "display_data"
    },
    {
     "data": {
      "text/plain": "<IPython.core.display.HTML object>",
      "text/html": "<br/>Waiting for W&B process to finish, PID 23980<br/>Program ended successfully."
     },
     "metadata": {},
     "output_type": "display_data"
    },
    {
     "data": {
      "text/plain": "VBox(children=(Label(value=' 0.00MB of 0.00MB uploaded (0.00MB deduped)\\r'), FloatProgress(value=1.0, max=1.0)…",
      "application/vnd.jupyter.widget-view+json": {
       "version_major": 2,
       "version_minor": 0,
       "model_id": "be64a8c1161f46859338a20503e69811"
      }
     },
     "metadata": {},
     "output_type": "display_data"
    },
    {
     "data": {
      "text/plain": "<IPython.core.display.HTML object>",
      "text/html": "Find user logs for this run at: <code>D:\\Development\\FHNW\\ip5-metriken-bauwesen\\src\\weight_and_bias\\wandb\\run-20210813_104759-727tg6a3\\logs\\debug.log</code>"
     },
     "metadata": {},
     "output_type": "display_data"
    },
    {
     "data": {
      "text/plain": "<IPython.core.display.HTML object>",
      "text/html": "Find internal logs for this run at: <code>D:\\Development\\FHNW\\ip5-metriken-bauwesen\\src\\weight_and_bias\\wandb\\run-20210813_104759-727tg6a3\\logs\\debug-internal.log</code>"
     },
     "metadata": {},
     "output_type": "display_data"
    },
    {
     "data": {
      "text/plain": "<IPython.core.display.HTML object>",
      "text/html": "<h3>Run summary:</h3><br/><style>\n    table.wandb td:nth-child(1) { padding: 0 10px; text-align: right }\n    </style><table class=\"wandb\">\n<tr><td>r2</td><td>0.90166</td></tr><tr><td>_runtime</td><td>53</td></tr><tr><td>_timestamp</td><td>1628844533</td></tr><tr><td>_step</td><td>3</td></tr><tr><td>neg_mape</td><td>-0.17055</td></tr><tr><td>neg_mae</td><td>-553.78784</td></tr><tr><td>neg_rmse</td><td>-1150.45882</td></tr></table>"
     },
     "metadata": {},
     "output_type": "display_data"
    },
    {
     "data": {
      "text/plain": "<IPython.core.display.HTML object>",
      "text/html": "<h3>Run history:</h3><br/><style>\n    table.wandb td:nth-child(1) { padding: 0 10px; text-align: right }\n    </style><table class=\"wandb\">\n<tr><td>r2</td><td>▁</td></tr><tr><td>_runtime</td><td>▁▁▁▁</td></tr><tr><td>_timestamp</td><td>▁▁▁▁</td></tr><tr><td>_step</td><td>▁▃▆█</td></tr><tr><td>neg_mape</td><td>▁</td></tr><tr><td>neg_mae</td><td>▁</td></tr><tr><td>neg_rmse</td><td>▁</td></tr></table><br/>"
     },
     "metadata": {},
     "output_type": "display_data"
    },
    {
     "data": {
      "text/plain": "<IPython.core.display.HTML object>",
      "text/html": "Synced 4 W&B file(s), 0 media file(s), 0 artifact file(s) and 0 other file(s)"
     },
     "metadata": {},
     "output_type": "display_data"
    },
    {
     "data": {
      "text/plain": "<IPython.core.display.HTML object>",
      "text/html": "\n                    <br/>Synced <strong style=\"color:#cdcd00\">youthful-sweep-66</strong>: <a href=\"https://wandb.ai/devcore/Metriken%20Bauwesen%20Sweeps/runs/727tg6a3\" target=\"_blank\">https://wandb.ai/devcore/Metriken%20Bauwesen%20Sweeps/runs/727tg6a3</a><br/>\n                "
     },
     "metadata": {},
     "output_type": "display_data"
    },
    {
     "data": {
      "text/plain": "<IPython.core.display.HTML object>",
      "text/html": "\n                Tracking run with wandb version 0.11.0<br/>\n                Syncing run <strong style=\"color:#cdcd00\">denim-sweep-67</strong> to <a href=\"https://wandb.ai\" target=\"_blank\">Weights & Biases</a> <a href=\"https://docs.wandb.com/integrations/jupyter.html\" target=\"_blank\">(Documentation)</a>.<br/>\n                Project page: <a href=\"https://wandb.ai/devcore/Metriken%20Bauwesen%20Sweeps\" target=\"_blank\">https://wandb.ai/devcore/Metriken%20Bauwesen%20Sweeps</a><br/>\n                Sweep page: <a href=\"https://wandb.ai/devcore/Metriken%20Bauwesen%20Sweeps/sweeps/aslqb1cw\" target=\"_blank\">https://wandb.ai/devcore/Metriken%20Bauwesen%20Sweeps/sweeps/aslqb1cw</a><br/>\nRun page: <a href=\"https://wandb.ai/devcore/Metriken%20Bauwesen%20Sweeps/runs/3ypg7a91\" target=\"_blank\">https://wandb.ai/devcore/Metriken%20Bauwesen%20Sweeps/runs/3ypg7a91</a><br/>\n                Run data is saved locally in <code>D:\\Development\\FHNW\\ip5-metriken-bauwesen\\src\\weight_and_bias\\wandb\\run-20210813_104858-3ypg7a91</code><br/><br/>\n            "
     },
     "metadata": {},
     "output_type": "display_data"
    },
    {
     "data": {
      "text/plain": "<IPython.core.display.HTML object>",
      "text/html": "<br/>Waiting for W&B process to finish, PID 11056<br/>Program ended successfully."
     },
     "metadata": {},
     "output_type": "display_data"
    },
    {
     "data": {
      "text/plain": "VBox(children=(Label(value=' 0.00MB of 0.00MB uploaded (0.00MB deduped)\\r'), FloatProgress(value=1.0, max=1.0)…",
      "application/vnd.jupyter.widget-view+json": {
       "version_major": 2,
       "version_minor": 0,
       "model_id": "83ac5781c09b4da9bc1a851952c93292"
      }
     },
     "metadata": {},
     "output_type": "display_data"
    },
    {
     "data": {
      "text/plain": "<IPython.core.display.HTML object>",
      "text/html": "Find user logs for this run at: <code>D:\\Development\\FHNW\\ip5-metriken-bauwesen\\src\\weight_and_bias\\wandb\\run-20210813_104858-3ypg7a91\\logs\\debug.log</code>"
     },
     "metadata": {},
     "output_type": "display_data"
    },
    {
     "data": {
      "text/plain": "<IPython.core.display.HTML object>",
      "text/html": "Find internal logs for this run at: <code>D:\\Development\\FHNW\\ip5-metriken-bauwesen\\src\\weight_and_bias\\wandb\\run-20210813_104858-3ypg7a91\\logs\\debug-internal.log</code>"
     },
     "metadata": {},
     "output_type": "display_data"
    },
    {
     "data": {
      "text/plain": "<IPython.core.display.HTML object>",
      "text/html": "<h3>Run summary:</h3><br/><style>\n    table.wandb td:nth-child(1) { padding: 0 10px; text-align: right }\n    </style><table class=\"wandb\">\n<tr><td>r2</td><td>0.90926</td></tr><tr><td>_runtime</td><td>16</td></tr><tr><td>_timestamp</td><td>1628844554</td></tr><tr><td>_step</td><td>3</td></tr><tr><td>neg_mape</td><td>-0.15659</td></tr><tr><td>neg_mae</td><td>-522.23475</td></tr><tr><td>neg_rmse</td><td>-1113.79851</td></tr></table>"
     },
     "metadata": {},
     "output_type": "display_data"
    },
    {
     "data": {
      "text/plain": "<IPython.core.display.HTML object>",
      "text/html": "<h3>Run history:</h3><br/><style>\n    table.wandb td:nth-child(1) { padding: 0 10px; text-align: right }\n    </style><table class=\"wandb\">\n<tr><td>r2</td><td>▁</td></tr><tr><td>_runtime</td><td>▁▁▁▁</td></tr><tr><td>_timestamp</td><td>▁▁▁▁</td></tr><tr><td>_step</td><td>▁▃▆█</td></tr><tr><td>neg_mape</td><td>▁</td></tr><tr><td>neg_mae</td><td>▁</td></tr><tr><td>neg_rmse</td><td>▁</td></tr></table><br/>"
     },
     "metadata": {},
     "output_type": "display_data"
    },
    {
     "data": {
      "text/plain": "<IPython.core.display.HTML object>",
      "text/html": "Synced 4 W&B file(s), 0 media file(s), 0 artifact file(s) and 0 other file(s)"
     },
     "metadata": {},
     "output_type": "display_data"
    },
    {
     "data": {
      "text/plain": "<IPython.core.display.HTML object>",
      "text/html": "\n                    <br/>Synced <strong style=\"color:#cdcd00\">denim-sweep-67</strong>: <a href=\"https://wandb.ai/devcore/Metriken%20Bauwesen%20Sweeps/runs/3ypg7a91\" target=\"_blank\">https://wandb.ai/devcore/Metriken%20Bauwesen%20Sweeps/runs/3ypg7a91</a><br/>\n                "
     },
     "metadata": {},
     "output_type": "display_data"
    },
    {
     "data": {
      "text/plain": "<IPython.core.display.HTML object>",
      "text/html": "\n                Tracking run with wandb version 0.11.0<br/>\n                Syncing run <strong style=\"color:#cdcd00\">copper-sweep-68</strong> to <a href=\"https://wandb.ai\" target=\"_blank\">Weights & Biases</a> <a href=\"https://docs.wandb.com/integrations/jupyter.html\" target=\"_blank\">(Documentation)</a>.<br/>\n                Project page: <a href=\"https://wandb.ai/devcore/Metriken%20Bauwesen%20Sweeps\" target=\"_blank\">https://wandb.ai/devcore/Metriken%20Bauwesen%20Sweeps</a><br/>\n                Sweep page: <a href=\"https://wandb.ai/devcore/Metriken%20Bauwesen%20Sweeps/sweeps/aslqb1cw\" target=\"_blank\">https://wandb.ai/devcore/Metriken%20Bauwesen%20Sweeps/sweeps/aslqb1cw</a><br/>\nRun page: <a href=\"https://wandb.ai/devcore/Metriken%20Bauwesen%20Sweeps/runs/mqf9bftw\" target=\"_blank\">https://wandb.ai/devcore/Metriken%20Bauwesen%20Sweeps/runs/mqf9bftw</a><br/>\n                Run data is saved locally in <code>D:\\Development\\FHNW\\ip5-metriken-bauwesen\\src\\weight_and_bias\\wandb\\run-20210813_104918-mqf9bftw</code><br/><br/>\n            "
     },
     "metadata": {},
     "output_type": "display_data"
    },
    {
     "data": {
      "text/plain": "<IPython.core.display.HTML object>",
      "text/html": "<br/>Waiting for W&B process to finish, PID 6516<br/>Program ended successfully."
     },
     "metadata": {},
     "output_type": "display_data"
    },
    {
     "data": {
      "text/plain": "VBox(children=(Label(value=' 0.00MB of 0.00MB uploaded (0.00MB deduped)\\r'), FloatProgress(value=1.0, max=1.0)…",
      "application/vnd.jupyter.widget-view+json": {
       "version_major": 2,
       "version_minor": 0,
       "model_id": "85ac397f59c445a68c59c1430c6b2257"
      }
     },
     "metadata": {},
     "output_type": "display_data"
    },
    {
     "data": {
      "text/plain": "<IPython.core.display.HTML object>",
      "text/html": "Find user logs for this run at: <code>D:\\Development\\FHNW\\ip5-metriken-bauwesen\\src\\weight_and_bias\\wandb\\run-20210813_104918-mqf9bftw\\logs\\debug.log</code>"
     },
     "metadata": {},
     "output_type": "display_data"
    },
    {
     "data": {
      "text/plain": "<IPython.core.display.HTML object>",
      "text/html": "Find internal logs for this run at: <code>D:\\Development\\FHNW\\ip5-metriken-bauwesen\\src\\weight_and_bias\\wandb\\run-20210813_104918-mqf9bftw\\logs\\debug-internal.log</code>"
     },
     "metadata": {},
     "output_type": "display_data"
    },
    {
     "data": {
      "text/plain": "<IPython.core.display.HTML object>",
      "text/html": "<h3>Run summary:</h3><br/><style>\n    table.wandb td:nth-child(1) { padding: 0 10px; text-align: right }\n    </style><table class=\"wandb\">\n<tr><td>r2</td><td>0.90059</td></tr><tr><td>_runtime</td><td>45</td></tr><tr><td>_timestamp</td><td>1628844603</td></tr><tr><td>_step</td><td>3</td></tr><tr><td>neg_mape</td><td>-0.16481</td></tr><tr><td>neg_mae</td><td>-544.44686</td></tr><tr><td>neg_rmse</td><td>-1166.20327</td></tr></table>"
     },
     "metadata": {},
     "output_type": "display_data"
    },
    {
     "data": {
      "text/plain": "<IPython.core.display.HTML object>",
      "text/html": "<h3>Run history:</h3><br/><style>\n    table.wandb td:nth-child(1) { padding: 0 10px; text-align: right }\n    </style><table class=\"wandb\">\n<tr><td>r2</td><td>▁</td></tr><tr><td>_runtime</td><td>▁▁▁▁</td></tr><tr><td>_timestamp</td><td>▁▁▁▁</td></tr><tr><td>_step</td><td>▁▃▆█</td></tr><tr><td>neg_mape</td><td>▁</td></tr><tr><td>neg_mae</td><td>▁</td></tr><tr><td>neg_rmse</td><td>▁</td></tr></table><br/>"
     },
     "metadata": {},
     "output_type": "display_data"
    },
    {
     "data": {
      "text/plain": "<IPython.core.display.HTML object>",
      "text/html": "Synced 4 W&B file(s), 0 media file(s), 0 artifact file(s) and 0 other file(s)"
     },
     "metadata": {},
     "output_type": "display_data"
    },
    {
     "data": {
      "text/plain": "<IPython.core.display.HTML object>",
      "text/html": "\n                    <br/>Synced <strong style=\"color:#cdcd00\">copper-sweep-68</strong>: <a href=\"https://wandb.ai/devcore/Metriken%20Bauwesen%20Sweeps/runs/mqf9bftw\" target=\"_blank\">https://wandb.ai/devcore/Metriken%20Bauwesen%20Sweeps/runs/mqf9bftw</a><br/>\n                "
     },
     "metadata": {},
     "output_type": "display_data"
    },
    {
     "data": {
      "text/plain": "<IPython.core.display.HTML object>",
      "text/html": "\n                Tracking run with wandb version 0.11.0<br/>\n                Syncing run <strong style=\"color:#cdcd00\">honest-sweep-69</strong> to <a href=\"https://wandb.ai\" target=\"_blank\">Weights & Biases</a> <a href=\"https://docs.wandb.com/integrations/jupyter.html\" target=\"_blank\">(Documentation)</a>.<br/>\n                Project page: <a href=\"https://wandb.ai/devcore/Metriken%20Bauwesen%20Sweeps\" target=\"_blank\">https://wandb.ai/devcore/Metriken%20Bauwesen%20Sweeps</a><br/>\n                Sweep page: <a href=\"https://wandb.ai/devcore/Metriken%20Bauwesen%20Sweeps/sweeps/aslqb1cw\" target=\"_blank\">https://wandb.ai/devcore/Metriken%20Bauwesen%20Sweeps/sweeps/aslqb1cw</a><br/>\nRun page: <a href=\"https://wandb.ai/devcore/Metriken%20Bauwesen%20Sweeps/runs/kpedocqg\" target=\"_blank\">https://wandb.ai/devcore/Metriken%20Bauwesen%20Sweeps/runs/kpedocqg</a><br/>\n                Run data is saved locally in <code>D:\\Development\\FHNW\\ip5-metriken-bauwesen\\src\\weight_and_bias\\wandb\\run-20210813_105008-kpedocqg</code><br/><br/>\n            "
     },
     "metadata": {},
     "output_type": "display_data"
    },
    {
     "data": {
      "text/plain": "<IPython.core.display.HTML object>",
      "text/html": "<br/>Waiting for W&B process to finish, PID 2908<br/>Program ended successfully."
     },
     "metadata": {},
     "output_type": "display_data"
    },
    {
     "data": {
      "text/plain": "VBox(children=(Label(value=' 0.00MB of 0.00MB uploaded (0.00MB deduped)\\r'), FloatProgress(value=1.0, max=1.0)…",
      "application/vnd.jupyter.widget-view+json": {
       "version_major": 2,
       "version_minor": 0,
       "model_id": "302825bd3f974df3bdebe79d880034b0"
      }
     },
     "metadata": {},
     "output_type": "display_data"
    },
    {
     "data": {
      "text/plain": "<IPython.core.display.HTML object>",
      "text/html": "Find user logs for this run at: <code>D:\\Development\\FHNW\\ip5-metriken-bauwesen\\src\\weight_and_bias\\wandb\\run-20210813_105008-kpedocqg\\logs\\debug.log</code>"
     },
     "metadata": {},
     "output_type": "display_data"
    },
    {
     "data": {
      "text/plain": "<IPython.core.display.HTML object>",
      "text/html": "Find internal logs for this run at: <code>D:\\Development\\FHNW\\ip5-metriken-bauwesen\\src\\weight_and_bias\\wandb\\run-20210813_105008-kpedocqg\\logs\\debug-internal.log</code>"
     },
     "metadata": {},
     "output_type": "display_data"
    },
    {
     "data": {
      "text/plain": "<IPython.core.display.HTML object>",
      "text/html": "<h3>Run summary:</h3><br/><style>\n    table.wandb td:nth-child(1) { padding: 0 10px; text-align: right }\n    </style><table class=\"wandb\">\n<tr><td>r2</td><td>0.90562</td></tr><tr><td>_runtime</td><td>76</td></tr><tr><td>_timestamp</td><td>1628844684</td></tr><tr><td>_step</td><td>3</td></tr><tr><td>neg_mape</td><td>-0.16069</td></tr><tr><td>neg_mae</td><td>-527.32092</td></tr><tr><td>neg_rmse</td><td>-1130.96854</td></tr></table>"
     },
     "metadata": {},
     "output_type": "display_data"
    },
    {
     "data": {
      "text/plain": "<IPython.core.display.HTML object>",
      "text/html": "<h3>Run history:</h3><br/><style>\n    table.wandb td:nth-child(1) { padding: 0 10px; text-align: right }\n    </style><table class=\"wandb\">\n<tr><td>r2</td><td>▁</td></tr><tr><td>_runtime</td><td>▁▁▁▁</td></tr><tr><td>_timestamp</td><td>▁▁▁▁</td></tr><tr><td>_step</td><td>▁▃▆█</td></tr><tr><td>neg_mape</td><td>▁</td></tr><tr><td>neg_mae</td><td>▁</td></tr><tr><td>neg_rmse</td><td>▁</td></tr></table><br/>"
     },
     "metadata": {},
     "output_type": "display_data"
    },
    {
     "data": {
      "text/plain": "<IPython.core.display.HTML object>",
      "text/html": "Synced 4 W&B file(s), 0 media file(s), 0 artifact file(s) and 0 other file(s)"
     },
     "metadata": {},
     "output_type": "display_data"
    },
    {
     "data": {
      "text/plain": "<IPython.core.display.HTML object>",
      "text/html": "\n                    <br/>Synced <strong style=\"color:#cdcd00\">honest-sweep-69</strong>: <a href=\"https://wandb.ai/devcore/Metriken%20Bauwesen%20Sweeps/runs/kpedocqg\" target=\"_blank\">https://wandb.ai/devcore/Metriken%20Bauwesen%20Sweeps/runs/kpedocqg</a><br/>\n                "
     },
     "metadata": {},
     "output_type": "display_data"
    },
    {
     "data": {
      "text/plain": "<IPython.core.display.HTML object>",
      "text/html": "\n                Tracking run with wandb version 0.11.0<br/>\n                Syncing run <strong style=\"color:#cdcd00\">ethereal-sweep-70</strong> to <a href=\"https://wandb.ai\" target=\"_blank\">Weights & Biases</a> <a href=\"https://docs.wandb.com/integrations/jupyter.html\" target=\"_blank\">(Documentation)</a>.<br/>\n                Project page: <a href=\"https://wandb.ai/devcore/Metriken%20Bauwesen%20Sweeps\" target=\"_blank\">https://wandb.ai/devcore/Metriken%20Bauwesen%20Sweeps</a><br/>\n                Sweep page: <a href=\"https://wandb.ai/devcore/Metriken%20Bauwesen%20Sweeps/sweeps/aslqb1cw\" target=\"_blank\">https://wandb.ai/devcore/Metriken%20Bauwesen%20Sweeps/sweeps/aslqb1cw</a><br/>\nRun page: <a href=\"https://wandb.ai/devcore/Metriken%20Bauwesen%20Sweeps/runs/xq9dnljt\" target=\"_blank\">https://wandb.ai/devcore/Metriken%20Bauwesen%20Sweeps/runs/xq9dnljt</a><br/>\n                Run data is saved locally in <code>D:\\Development\\FHNW\\ip5-metriken-bauwesen\\src\\weight_and_bias\\wandb\\run-20210813_105129-xq9dnljt</code><br/><br/>\n            "
     },
     "metadata": {},
     "output_type": "display_data"
    },
    {
     "data": {
      "text/plain": "<IPython.core.display.HTML object>",
      "text/html": "<br/>Waiting for W&B process to finish, PID 24328<br/>Program ended successfully."
     },
     "metadata": {},
     "output_type": "display_data"
    },
    {
     "data": {
      "text/plain": "VBox(children=(Label(value=' 0.00MB of 0.00MB uploaded (0.00MB deduped)\\r'), FloatProgress(value=1.0, max=1.0)…",
      "application/vnd.jupyter.widget-view+json": {
       "version_major": 2,
       "version_minor": 0,
       "model_id": "712620c583b94fb9931c473210103d89"
      }
     },
     "metadata": {},
     "output_type": "display_data"
    },
    {
     "data": {
      "text/plain": "<IPython.core.display.HTML object>",
      "text/html": "Find user logs for this run at: <code>D:\\Development\\FHNW\\ip5-metriken-bauwesen\\src\\weight_and_bias\\wandb\\run-20210813_105129-xq9dnljt\\logs\\debug.log</code>"
     },
     "metadata": {},
     "output_type": "display_data"
    },
    {
     "data": {
      "text/plain": "<IPython.core.display.HTML object>",
      "text/html": "Find internal logs for this run at: <code>D:\\Development\\FHNW\\ip5-metriken-bauwesen\\src\\weight_and_bias\\wandb\\run-20210813_105129-xq9dnljt\\logs\\debug-internal.log</code>"
     },
     "metadata": {},
     "output_type": "display_data"
    },
    {
     "data": {
      "text/plain": "<IPython.core.display.HTML object>",
      "text/html": "<h3>Run summary:</h3><br/><style>\n    table.wandb td:nth-child(1) { padding: 0 10px; text-align: right }\n    </style><table class=\"wandb\">\n<tr><td>r2</td><td>0.90808</td></tr><tr><td>_runtime</td><td>56</td></tr><tr><td>_timestamp</td><td>1628844745</td></tr><tr><td>_step</td><td>3</td></tr><tr><td>neg_mape</td><td>-0.15519</td></tr><tr><td>neg_mae</td><td>-528.28064</td></tr><tr><td>neg_rmse</td><td>-1141.53965</td></tr></table>"
     },
     "metadata": {},
     "output_type": "display_data"
    },
    {
     "data": {
      "text/plain": "<IPython.core.display.HTML object>",
      "text/html": "<h3>Run history:</h3><br/><style>\n    table.wandb td:nth-child(1) { padding: 0 10px; text-align: right }\n    </style><table class=\"wandb\">\n<tr><td>r2</td><td>▁</td></tr><tr><td>_runtime</td><td>▁▁▁▁</td></tr><tr><td>_timestamp</td><td>▁▁▁▁</td></tr><tr><td>_step</td><td>▁▃▆█</td></tr><tr><td>neg_mape</td><td>▁</td></tr><tr><td>neg_mae</td><td>▁</td></tr><tr><td>neg_rmse</td><td>▁</td></tr></table><br/>"
     },
     "metadata": {},
     "output_type": "display_data"
    },
    {
     "data": {
      "text/plain": "<IPython.core.display.HTML object>",
      "text/html": "Synced 4 W&B file(s), 0 media file(s), 0 artifact file(s) and 0 other file(s)"
     },
     "metadata": {},
     "output_type": "display_data"
    },
    {
     "data": {
      "text/plain": "<IPython.core.display.HTML object>",
      "text/html": "\n                    <br/>Synced <strong style=\"color:#cdcd00\">ethereal-sweep-70</strong>: <a href=\"https://wandb.ai/devcore/Metriken%20Bauwesen%20Sweeps/runs/xq9dnljt\" target=\"_blank\">https://wandb.ai/devcore/Metriken%20Bauwesen%20Sweeps/runs/xq9dnljt</a><br/>\n                "
     },
     "metadata": {},
     "output_type": "display_data"
    },
    {
     "data": {
      "text/plain": "<IPython.core.display.HTML object>",
      "text/html": "\n                Tracking run with wandb version 0.11.0<br/>\n                Syncing run <strong style=\"color:#cdcd00\">genial-sweep-71</strong> to <a href=\"https://wandb.ai\" target=\"_blank\">Weights & Biases</a> <a href=\"https://docs.wandb.com/integrations/jupyter.html\" target=\"_blank\">(Documentation)</a>.<br/>\n                Project page: <a href=\"https://wandb.ai/devcore/Metriken%20Bauwesen%20Sweeps\" target=\"_blank\">https://wandb.ai/devcore/Metriken%20Bauwesen%20Sweeps</a><br/>\n                Sweep page: <a href=\"https://wandb.ai/devcore/Metriken%20Bauwesen%20Sweeps/sweeps/aslqb1cw\" target=\"_blank\">https://wandb.ai/devcore/Metriken%20Bauwesen%20Sweeps/sweeps/aslqb1cw</a><br/>\nRun page: <a href=\"https://wandb.ai/devcore/Metriken%20Bauwesen%20Sweeps/runs/3a8eycfj\" target=\"_blank\">https://wandb.ai/devcore/Metriken%20Bauwesen%20Sweeps/runs/3a8eycfj</a><br/>\n                Run data is saved locally in <code>D:\\Development\\FHNW\\ip5-metriken-bauwesen\\src\\weight_and_bias\\wandb\\run-20210813_105229-3a8eycfj</code><br/><br/>\n            "
     },
     "metadata": {},
     "output_type": "display_data"
    },
    {
     "data": {
      "text/plain": "<IPython.core.display.HTML object>",
      "text/html": "<br/>Waiting for W&B process to finish, PID 24488<br/>Program ended successfully."
     },
     "metadata": {},
     "output_type": "display_data"
    },
    {
     "data": {
      "text/plain": "VBox(children=(Label(value=' 0.00MB of 0.00MB uploaded (0.00MB deduped)\\r'), FloatProgress(value=1.0, max=1.0)…",
      "application/vnd.jupyter.widget-view+json": {
       "version_major": 2,
       "version_minor": 0,
       "model_id": "734a5ad48a484c24acf511eb35d98e74"
      }
     },
     "metadata": {},
     "output_type": "display_data"
    },
    {
     "data": {
      "text/plain": "<IPython.core.display.HTML object>",
      "text/html": "Find user logs for this run at: <code>D:\\Development\\FHNW\\ip5-metriken-bauwesen\\src\\weight_and_bias\\wandb\\run-20210813_105229-3a8eycfj\\logs\\debug.log</code>"
     },
     "metadata": {},
     "output_type": "display_data"
    },
    {
     "data": {
      "text/plain": "<IPython.core.display.HTML object>",
      "text/html": "Find internal logs for this run at: <code>D:\\Development\\FHNW\\ip5-metriken-bauwesen\\src\\weight_and_bias\\wandb\\run-20210813_105229-3a8eycfj\\logs\\debug-internal.log</code>"
     },
     "metadata": {},
     "output_type": "display_data"
    },
    {
     "data": {
      "text/plain": "<IPython.core.display.HTML object>",
      "text/html": "<h3>Run summary:</h3><br/><style>\n    table.wandb td:nth-child(1) { padding: 0 10px; text-align: right }\n    </style><table class=\"wandb\">\n<tr><td>r2</td><td>0.90567</td></tr><tr><td>_runtime</td><td>56</td></tr><tr><td>_timestamp</td><td>1628844806</td></tr><tr><td>_step</td><td>3</td></tr><tr><td>neg_mape</td><td>-0.16979</td></tr><tr><td>neg_mae</td><td>-527.48702</td></tr><tr><td>neg_rmse</td><td>-1117.62449</td></tr></table>"
     },
     "metadata": {},
     "output_type": "display_data"
    },
    {
     "data": {
      "text/plain": "<IPython.core.display.HTML object>",
      "text/html": "<h3>Run history:</h3><br/><style>\n    table.wandb td:nth-child(1) { padding: 0 10px; text-align: right }\n    </style><table class=\"wandb\">\n<tr><td>r2</td><td>▁</td></tr><tr><td>_runtime</td><td>▁▁▁▁</td></tr><tr><td>_timestamp</td><td>▁▁▁▁</td></tr><tr><td>_step</td><td>▁▃▆█</td></tr><tr><td>neg_mape</td><td>▁</td></tr><tr><td>neg_mae</td><td>▁</td></tr><tr><td>neg_rmse</td><td>▁</td></tr></table><br/>"
     },
     "metadata": {},
     "output_type": "display_data"
    },
    {
     "data": {
      "text/plain": "<IPython.core.display.HTML object>",
      "text/html": "Synced 4 W&B file(s), 0 media file(s), 0 artifact file(s) and 0 other file(s)"
     },
     "metadata": {},
     "output_type": "display_data"
    },
    {
     "data": {
      "text/plain": "<IPython.core.display.HTML object>",
      "text/html": "\n                    <br/>Synced <strong style=\"color:#cdcd00\">genial-sweep-71</strong>: <a href=\"https://wandb.ai/devcore/Metriken%20Bauwesen%20Sweeps/runs/3a8eycfj\" target=\"_blank\">https://wandb.ai/devcore/Metriken%20Bauwesen%20Sweeps/runs/3a8eycfj</a><br/>\n                "
     },
     "metadata": {},
     "output_type": "display_data"
    },
    {
     "data": {
      "text/plain": "<IPython.core.display.HTML object>",
      "text/html": "\n                Tracking run with wandb version 0.11.0<br/>\n                Syncing run <strong style=\"color:#cdcd00\">stilted-sweep-72</strong> to <a href=\"https://wandb.ai\" target=\"_blank\">Weights & Biases</a> <a href=\"https://docs.wandb.com/integrations/jupyter.html\" target=\"_blank\">(Documentation)</a>.<br/>\n                Project page: <a href=\"https://wandb.ai/devcore/Metriken%20Bauwesen%20Sweeps\" target=\"_blank\">https://wandb.ai/devcore/Metriken%20Bauwesen%20Sweeps</a><br/>\n                Sweep page: <a href=\"https://wandb.ai/devcore/Metriken%20Bauwesen%20Sweeps/sweeps/aslqb1cw\" target=\"_blank\">https://wandb.ai/devcore/Metriken%20Bauwesen%20Sweeps/sweeps/aslqb1cw</a><br/>\nRun page: <a href=\"https://wandb.ai/devcore/Metriken%20Bauwesen%20Sweeps/runs/krgklqzv\" target=\"_blank\">https://wandb.ai/devcore/Metriken%20Bauwesen%20Sweeps/runs/krgklqzv</a><br/>\n                Run data is saved locally in <code>D:\\Development\\FHNW\\ip5-metriken-bauwesen\\src\\weight_and_bias\\wandb\\run-20210813_105330-krgklqzv</code><br/><br/>\n            "
     },
     "metadata": {},
     "output_type": "display_data"
    },
    {
     "data": {
      "text/plain": "<IPython.core.display.HTML object>",
      "text/html": "<br/>Waiting for W&B process to finish, PID 24696<br/>Program ended successfully."
     },
     "metadata": {},
     "output_type": "display_data"
    },
    {
     "data": {
      "text/plain": "VBox(children=(Label(value=' 0.00MB of 0.00MB uploaded (0.00MB deduped)\\r'), FloatProgress(value=1.0, max=1.0)…",
      "application/vnd.jupyter.widget-view+json": {
       "version_major": 2,
       "version_minor": 0,
       "model_id": "c027728c1db442078208b19579e49c9f"
      }
     },
     "metadata": {},
     "output_type": "display_data"
    },
    {
     "data": {
      "text/plain": "<IPython.core.display.HTML object>",
      "text/html": "Find user logs for this run at: <code>D:\\Development\\FHNW\\ip5-metriken-bauwesen\\src\\weight_and_bias\\wandb\\run-20210813_105330-krgklqzv\\logs\\debug.log</code>"
     },
     "metadata": {},
     "output_type": "display_data"
    },
    {
     "data": {
      "text/plain": "<IPython.core.display.HTML object>",
      "text/html": "Find internal logs for this run at: <code>D:\\Development\\FHNW\\ip5-metriken-bauwesen\\src\\weight_and_bias\\wandb\\run-20210813_105330-krgklqzv\\logs\\debug-internal.log</code>"
     },
     "metadata": {},
     "output_type": "display_data"
    },
    {
     "data": {
      "text/plain": "<IPython.core.display.HTML object>",
      "text/html": "<h3>Run summary:</h3><br/><style>\n    table.wandb td:nth-child(1) { padding: 0 10px; text-align: right }\n    </style><table class=\"wandb\">\n<tr><td>r2</td><td>0.91548</td></tr><tr><td>_runtime</td><td>17</td></tr><tr><td>_timestamp</td><td>1628844827</td></tr><tr><td>_step</td><td>3</td></tr><tr><td>neg_mape</td><td>-0.15827</td></tr><tr><td>neg_mae</td><td>-517.8426</td></tr><tr><td>neg_rmse</td><td>-1085.70228</td></tr></table>"
     },
     "metadata": {},
     "output_type": "display_data"
    },
    {
     "data": {
      "text/plain": "<IPython.core.display.HTML object>",
      "text/html": "<h3>Run history:</h3><br/><style>\n    table.wandb td:nth-child(1) { padding: 0 10px; text-align: right }\n    </style><table class=\"wandb\">\n<tr><td>r2</td><td>▁</td></tr><tr><td>_runtime</td><td>▁▁▁▁</td></tr><tr><td>_timestamp</td><td>▁▁▁▁</td></tr><tr><td>_step</td><td>▁▃▆█</td></tr><tr><td>neg_mape</td><td>▁</td></tr><tr><td>neg_mae</td><td>▁</td></tr><tr><td>neg_rmse</td><td>▁</td></tr></table><br/>"
     },
     "metadata": {},
     "output_type": "display_data"
    },
    {
     "data": {
      "text/plain": "<IPython.core.display.HTML object>",
      "text/html": "Synced 4 W&B file(s), 0 media file(s), 0 artifact file(s) and 0 other file(s)"
     },
     "metadata": {},
     "output_type": "display_data"
    },
    {
     "data": {
      "text/plain": "<IPython.core.display.HTML object>",
      "text/html": "\n                    <br/>Synced <strong style=\"color:#cdcd00\">stilted-sweep-72</strong>: <a href=\"https://wandb.ai/devcore/Metriken%20Bauwesen%20Sweeps/runs/krgklqzv\" target=\"_blank\">https://wandb.ai/devcore/Metriken%20Bauwesen%20Sweeps/runs/krgklqzv</a><br/>\n                "
     },
     "metadata": {},
     "output_type": "display_data"
    },
    {
     "data": {
      "text/plain": "<IPython.core.display.HTML object>",
      "text/html": "\n                Tracking run with wandb version 0.11.0<br/>\n                Syncing run <strong style=\"color:#cdcd00\">colorful-sweep-73</strong> to <a href=\"https://wandb.ai\" target=\"_blank\">Weights & Biases</a> <a href=\"https://docs.wandb.com/integrations/jupyter.html\" target=\"_blank\">(Documentation)</a>.<br/>\n                Project page: <a href=\"https://wandb.ai/devcore/Metriken%20Bauwesen%20Sweeps\" target=\"_blank\">https://wandb.ai/devcore/Metriken%20Bauwesen%20Sweeps</a><br/>\n                Sweep page: <a href=\"https://wandb.ai/devcore/Metriken%20Bauwesen%20Sweeps/sweeps/aslqb1cw\" target=\"_blank\">https://wandb.ai/devcore/Metriken%20Bauwesen%20Sweeps/sweeps/aslqb1cw</a><br/>\nRun page: <a href=\"https://wandb.ai/devcore/Metriken%20Bauwesen%20Sweeps/runs/w7s919vv\" target=\"_blank\">https://wandb.ai/devcore/Metriken%20Bauwesen%20Sweeps/runs/w7s919vv</a><br/>\n                Run data is saved locally in <code>D:\\Development\\FHNW\\ip5-metriken-bauwesen\\src\\weight_and_bias\\wandb\\run-20210813_105351-w7s919vv</code><br/><br/>\n            "
     },
     "metadata": {},
     "output_type": "display_data"
    },
    {
     "data": {
      "text/plain": "<IPython.core.display.HTML object>",
      "text/html": "<br/>Waiting for W&B process to finish, PID 25568<br/>Program ended successfully."
     },
     "metadata": {},
     "output_type": "display_data"
    },
    {
     "data": {
      "text/plain": "VBox(children=(Label(value=' 0.00MB of 0.00MB uploaded (0.00MB deduped)\\r'), FloatProgress(value=1.0, max=1.0)…",
      "application/vnd.jupyter.widget-view+json": {
       "version_major": 2,
       "version_minor": 0,
       "model_id": "04256fdd9d3f44eca4ab545fb863c4b4"
      }
     },
     "metadata": {},
     "output_type": "display_data"
    },
    {
     "data": {
      "text/plain": "<IPython.core.display.HTML object>",
      "text/html": "Find user logs for this run at: <code>D:\\Development\\FHNW\\ip5-metriken-bauwesen\\src\\weight_and_bias\\wandb\\run-20210813_105351-w7s919vv\\logs\\debug.log</code>"
     },
     "metadata": {},
     "output_type": "display_data"
    },
    {
     "data": {
      "text/plain": "<IPython.core.display.HTML object>",
      "text/html": "Find internal logs for this run at: <code>D:\\Development\\FHNW\\ip5-metriken-bauwesen\\src\\weight_and_bias\\wandb\\run-20210813_105351-w7s919vv\\logs\\debug-internal.log</code>"
     },
     "metadata": {},
     "output_type": "display_data"
    },
    {
     "data": {
      "text/plain": "<IPython.core.display.HTML object>",
      "text/html": "<h3>Run summary:</h3><br/><style>\n    table.wandb td:nth-child(1) { padding: 0 10px; text-align: right }\n    </style><table class=\"wandb\">\n<tr><td>r2</td><td>0.91379</td></tr><tr><td>_runtime</td><td>13</td></tr><tr><td>_timestamp</td><td>1628844845</td></tr><tr><td>_step</td><td>3</td></tr><tr><td>neg_mape</td><td>-0.1523</td></tr><tr><td>neg_mae</td><td>-515.71595</td></tr><tr><td>neg_rmse</td><td>-1104.68655</td></tr></table>"
     },
     "metadata": {},
     "output_type": "display_data"
    },
    {
     "data": {
      "text/plain": "<IPython.core.display.HTML object>",
      "text/html": "<h3>Run history:</h3><br/><style>\n    table.wandb td:nth-child(1) { padding: 0 10px; text-align: right }\n    </style><table class=\"wandb\">\n<tr><td>r2</td><td>▁</td></tr><tr><td>_runtime</td><td>▁▁▁▁</td></tr><tr><td>_timestamp</td><td>▁▁▁▁</td></tr><tr><td>_step</td><td>▁▃▆█</td></tr><tr><td>neg_mape</td><td>▁</td></tr><tr><td>neg_mae</td><td>▁</td></tr><tr><td>neg_rmse</td><td>▁</td></tr></table><br/>"
     },
     "metadata": {},
     "output_type": "display_data"
    },
    {
     "data": {
      "text/plain": "<IPython.core.display.HTML object>",
      "text/html": "Synced 4 W&B file(s), 0 media file(s), 0 artifact file(s) and 0 other file(s)"
     },
     "metadata": {},
     "output_type": "display_data"
    },
    {
     "data": {
      "text/plain": "<IPython.core.display.HTML object>",
      "text/html": "\n                    <br/>Synced <strong style=\"color:#cdcd00\">colorful-sweep-73</strong>: <a href=\"https://wandb.ai/devcore/Metriken%20Bauwesen%20Sweeps/runs/w7s919vv\" target=\"_blank\">https://wandb.ai/devcore/Metriken%20Bauwesen%20Sweeps/runs/w7s919vv</a><br/>\n                "
     },
     "metadata": {},
     "output_type": "display_data"
    },
    {
     "data": {
      "text/plain": "<IPython.core.display.HTML object>",
      "text/html": "\n                Tracking run with wandb version 0.11.0<br/>\n                Syncing run <strong style=\"color:#cdcd00\">bright-sweep-74</strong> to <a href=\"https://wandb.ai\" target=\"_blank\">Weights & Biases</a> <a href=\"https://docs.wandb.com/integrations/jupyter.html\" target=\"_blank\">(Documentation)</a>.<br/>\n                Project page: <a href=\"https://wandb.ai/devcore/Metriken%20Bauwesen%20Sweeps\" target=\"_blank\">https://wandb.ai/devcore/Metriken%20Bauwesen%20Sweeps</a><br/>\n                Sweep page: <a href=\"https://wandb.ai/devcore/Metriken%20Bauwesen%20Sweeps/sweeps/aslqb1cw\" target=\"_blank\">https://wandb.ai/devcore/Metriken%20Bauwesen%20Sweeps/sweeps/aslqb1cw</a><br/>\nRun page: <a href=\"https://wandb.ai/devcore/Metriken%20Bauwesen%20Sweeps/runs/xoz6pirn\" target=\"_blank\">https://wandb.ai/devcore/Metriken%20Bauwesen%20Sweeps/runs/xoz6pirn</a><br/>\n                Run data is saved locally in <code>D:\\Development\\FHNW\\ip5-metriken-bauwesen\\src\\weight_and_bias\\wandb\\run-20210813_105410-xoz6pirn</code><br/><br/>\n            "
     },
     "metadata": {},
     "output_type": "display_data"
    },
    {
     "data": {
      "text/plain": "<IPython.core.display.HTML object>",
      "text/html": "<br/>Waiting for W&B process to finish, PID 1316<br/>Program ended successfully."
     },
     "metadata": {},
     "output_type": "display_data"
    },
    {
     "data": {
      "text/plain": "VBox(children=(Label(value=' 0.00MB of 0.00MB uploaded (0.00MB deduped)\\r'), FloatProgress(value=1.0, max=1.0)…",
      "application/vnd.jupyter.widget-view+json": {
       "version_major": 2,
       "version_minor": 0,
       "model_id": "54fcd47ff933498eb30047d25e3f24d7"
      }
     },
     "metadata": {},
     "output_type": "display_data"
    },
    {
     "data": {
      "text/plain": "<IPython.core.display.HTML object>",
      "text/html": "Find user logs for this run at: <code>D:\\Development\\FHNW\\ip5-metriken-bauwesen\\src\\weight_and_bias\\wandb\\run-20210813_105410-xoz6pirn\\logs\\debug.log</code>"
     },
     "metadata": {},
     "output_type": "display_data"
    },
    {
     "data": {
      "text/plain": "<IPython.core.display.HTML object>",
      "text/html": "Find internal logs for this run at: <code>D:\\Development\\FHNW\\ip5-metriken-bauwesen\\src\\weight_and_bias\\wandb\\run-20210813_105410-xoz6pirn\\logs\\debug-internal.log</code>"
     },
     "metadata": {},
     "output_type": "display_data"
    },
    {
     "data": {
      "text/plain": "<IPython.core.display.HTML object>",
      "text/html": "<h3>Run summary:</h3><br/><style>\n    table.wandb td:nth-child(1) { padding: 0 10px; text-align: right }\n    </style><table class=\"wandb\">\n<tr><td>r2</td><td>0.91021</td></tr><tr><td>_runtime</td><td>33</td></tr><tr><td>_timestamp</td><td>1628844883</td></tr><tr><td>_step</td><td>3</td></tr><tr><td>neg_mape</td><td>-0.15415</td></tr><tr><td>neg_mae</td><td>-522.91312</td></tr><tr><td>neg_rmse</td><td>-1131.17495</td></tr></table>"
     },
     "metadata": {},
     "output_type": "display_data"
    },
    {
     "data": {
      "text/plain": "<IPython.core.display.HTML object>",
      "text/html": "<h3>Run history:</h3><br/><style>\n    table.wandb td:nth-child(1) { padding: 0 10px; text-align: right }\n    </style><table class=\"wandb\">\n<tr><td>r2</td><td>▁</td></tr><tr><td>_runtime</td><td>▁▁▁▁</td></tr><tr><td>_timestamp</td><td>▁▁▁▁</td></tr><tr><td>_step</td><td>▁▃▆█</td></tr><tr><td>neg_mape</td><td>▁</td></tr><tr><td>neg_mae</td><td>▁</td></tr><tr><td>neg_rmse</td><td>▁</td></tr></table><br/>"
     },
     "metadata": {},
     "output_type": "display_data"
    },
    {
     "data": {
      "text/plain": "<IPython.core.display.HTML object>",
      "text/html": "Synced 4 W&B file(s), 0 media file(s), 0 artifact file(s) and 0 other file(s)"
     },
     "metadata": {},
     "output_type": "display_data"
    },
    {
     "data": {
      "text/plain": "<IPython.core.display.HTML object>",
      "text/html": "\n                    <br/>Synced <strong style=\"color:#cdcd00\">bright-sweep-74</strong>: <a href=\"https://wandb.ai/devcore/Metriken%20Bauwesen%20Sweeps/runs/xoz6pirn\" target=\"_blank\">https://wandb.ai/devcore/Metriken%20Bauwesen%20Sweeps/runs/xoz6pirn</a><br/>\n                "
     },
     "metadata": {},
     "output_type": "display_data"
    },
    {
     "data": {
      "text/plain": "<IPython.core.display.HTML object>",
      "text/html": "\n                Tracking run with wandb version 0.11.0<br/>\n                Syncing run <strong style=\"color:#cdcd00\">ethereal-sweep-75</strong> to <a href=\"https://wandb.ai\" target=\"_blank\">Weights & Biases</a> <a href=\"https://docs.wandb.com/integrations/jupyter.html\" target=\"_blank\">(Documentation)</a>.<br/>\n                Project page: <a href=\"https://wandb.ai/devcore/Metriken%20Bauwesen%20Sweeps\" target=\"_blank\">https://wandb.ai/devcore/Metriken%20Bauwesen%20Sweeps</a><br/>\n                Sweep page: <a href=\"https://wandb.ai/devcore/Metriken%20Bauwesen%20Sweeps/sweeps/aslqb1cw\" target=\"_blank\">https://wandb.ai/devcore/Metriken%20Bauwesen%20Sweeps/sweeps/aslqb1cw</a><br/>\nRun page: <a href=\"https://wandb.ai/devcore/Metriken%20Bauwesen%20Sweeps/runs/tgr5rrhn\" target=\"_blank\">https://wandb.ai/devcore/Metriken%20Bauwesen%20Sweeps/runs/tgr5rrhn</a><br/>\n                Run data is saved locally in <code>D:\\Development\\FHNW\\ip5-metriken-bauwesen\\src\\weight_and_bias\\wandb\\run-20210813_105447-tgr5rrhn</code><br/><br/>\n            "
     },
     "metadata": {},
     "output_type": "display_data"
    },
    {
     "data": {
      "text/plain": "<IPython.core.display.HTML object>",
      "text/html": "<br/>Waiting for W&B process to finish, PID 10448<br/>Program ended successfully."
     },
     "metadata": {},
     "output_type": "display_data"
    },
    {
     "data": {
      "text/plain": "VBox(children=(Label(value=' 0.00MB of 0.00MB uploaded (0.00MB deduped)\\r'), FloatProgress(value=1.0, max=1.0)…",
      "application/vnd.jupyter.widget-view+json": {
       "version_major": 2,
       "version_minor": 0,
       "model_id": "eb7cb24e9ad74dec94762ada9d38fa3b"
      }
     },
     "metadata": {},
     "output_type": "display_data"
    },
    {
     "data": {
      "text/plain": "<IPython.core.display.HTML object>",
      "text/html": "Find user logs for this run at: <code>D:\\Development\\FHNW\\ip5-metriken-bauwesen\\src\\weight_and_bias\\wandb\\run-20210813_105447-tgr5rrhn\\logs\\debug.log</code>"
     },
     "metadata": {},
     "output_type": "display_data"
    },
    {
     "data": {
      "text/plain": "<IPython.core.display.HTML object>",
      "text/html": "Find internal logs for this run at: <code>D:\\Development\\FHNW\\ip5-metriken-bauwesen\\src\\weight_and_bias\\wandb\\run-20210813_105447-tgr5rrhn\\logs\\debug-internal.log</code>"
     },
     "metadata": {},
     "output_type": "display_data"
    },
    {
     "data": {
      "text/plain": "<IPython.core.display.HTML object>",
      "text/html": "<h3>Run summary:</h3><br/><style>\n    table.wandb td:nth-child(1) { padding: 0 10px; text-align: right }\n    </style><table class=\"wandb\">\n<tr><td>r2</td><td>0.90942</td></tr><tr><td>_runtime</td><td>55</td></tr><tr><td>_timestamp</td><td>1628844942</td></tr><tr><td>_step</td><td>3</td></tr><tr><td>neg_mape</td><td>-0.18018</td></tr><tr><td>neg_mae</td><td>-536.88538</td></tr><tr><td>neg_rmse</td><td>-1095.77581</td></tr></table>"
     },
     "metadata": {},
     "output_type": "display_data"
    },
    {
     "data": {
      "text/plain": "<IPython.core.display.HTML object>",
      "text/html": "<h3>Run history:</h3><br/><style>\n    table.wandb td:nth-child(1) { padding: 0 10px; text-align: right }\n    </style><table class=\"wandb\">\n<tr><td>r2</td><td>▁</td></tr><tr><td>_runtime</td><td>▁▁▁▁</td></tr><tr><td>_timestamp</td><td>▁▁▁▁</td></tr><tr><td>_step</td><td>▁▃▆█</td></tr><tr><td>neg_mape</td><td>▁</td></tr><tr><td>neg_mae</td><td>▁</td></tr><tr><td>neg_rmse</td><td>▁</td></tr></table><br/>"
     },
     "metadata": {},
     "output_type": "display_data"
    },
    {
     "data": {
      "text/plain": "<IPython.core.display.HTML object>",
      "text/html": "Synced 4 W&B file(s), 0 media file(s), 0 artifact file(s) and 0 other file(s)"
     },
     "metadata": {},
     "output_type": "display_data"
    },
    {
     "data": {
      "text/plain": "<IPython.core.display.HTML object>",
      "text/html": "\n                    <br/>Synced <strong style=\"color:#cdcd00\">ethereal-sweep-75</strong>: <a href=\"https://wandb.ai/devcore/Metriken%20Bauwesen%20Sweeps/runs/tgr5rrhn\" target=\"_blank\">https://wandb.ai/devcore/Metriken%20Bauwesen%20Sweeps/runs/tgr5rrhn</a><br/>\n                "
     },
     "metadata": {},
     "output_type": "display_data"
    },
    {
     "data": {
      "text/plain": "<IPython.core.display.HTML object>",
      "text/html": "\n                Tracking run with wandb version 0.11.0<br/>\n                Syncing run <strong style=\"color:#cdcd00\">drawn-sweep-76</strong> to <a href=\"https://wandb.ai\" target=\"_blank\">Weights & Biases</a> <a href=\"https://docs.wandb.com/integrations/jupyter.html\" target=\"_blank\">(Documentation)</a>.<br/>\n                Project page: <a href=\"https://wandb.ai/devcore/Metriken%20Bauwesen%20Sweeps\" target=\"_blank\">https://wandb.ai/devcore/Metriken%20Bauwesen%20Sweeps</a><br/>\n                Sweep page: <a href=\"https://wandb.ai/devcore/Metriken%20Bauwesen%20Sweeps/sweeps/aslqb1cw\" target=\"_blank\">https://wandb.ai/devcore/Metriken%20Bauwesen%20Sweeps/sweeps/aslqb1cw</a><br/>\nRun page: <a href=\"https://wandb.ai/devcore/Metriken%20Bauwesen%20Sweeps/runs/dno6rwq2\" target=\"_blank\">https://wandb.ai/devcore/Metriken%20Bauwesen%20Sweeps/runs/dno6rwq2</a><br/>\n                Run data is saved locally in <code>D:\\Development\\FHNW\\ip5-metriken-bauwesen\\src\\weight_and_bias\\wandb\\run-20210813_105547-dno6rwq2</code><br/><br/>\n            "
     },
     "metadata": {},
     "output_type": "display_data"
    },
    {
     "data": {
      "text/plain": "<IPython.core.display.HTML object>",
      "text/html": "<br/>Waiting for W&B process to finish, PID 19520<br/>Program ended successfully."
     },
     "metadata": {},
     "output_type": "display_data"
    },
    {
     "data": {
      "text/plain": "VBox(children=(Label(value=' 0.00MB of 0.00MB uploaded (0.00MB deduped)\\r'), FloatProgress(value=1.0, max=1.0)…",
      "application/vnd.jupyter.widget-view+json": {
       "version_major": 2,
       "version_minor": 0,
       "model_id": "4fb4e87897444137a1b4426be4f09886"
      }
     },
     "metadata": {},
     "output_type": "display_data"
    },
    {
     "data": {
      "text/plain": "<IPython.core.display.HTML object>",
      "text/html": "Find user logs for this run at: <code>D:\\Development\\FHNW\\ip5-metriken-bauwesen\\src\\weight_and_bias\\wandb\\run-20210813_105547-dno6rwq2\\logs\\debug.log</code>"
     },
     "metadata": {},
     "output_type": "display_data"
    },
    {
     "data": {
      "text/plain": "<IPython.core.display.HTML object>",
      "text/html": "Find internal logs for this run at: <code>D:\\Development\\FHNW\\ip5-metriken-bauwesen\\src\\weight_and_bias\\wandb\\run-20210813_105547-dno6rwq2\\logs\\debug-internal.log</code>"
     },
     "metadata": {},
     "output_type": "display_data"
    },
    {
     "data": {
      "text/plain": "<IPython.core.display.HTML object>",
      "text/html": "<h3>Run summary:</h3><br/><style>\n    table.wandb td:nth-child(1) { padding: 0 10px; text-align: right }\n    </style><table class=\"wandb\">\n<tr><td>r2</td><td>0.90965</td></tr><tr><td>_runtime</td><td>22</td></tr><tr><td>_timestamp</td><td>1628844969</td></tr><tr><td>_step</td><td>3</td></tr><tr><td>neg_mape</td><td>-0.16347</td></tr><tr><td>neg_mae</td><td>-526.42517</td></tr><tr><td>neg_rmse</td><td>-1110.75243</td></tr></table>"
     },
     "metadata": {},
     "output_type": "display_data"
    },
    {
     "data": {
      "text/plain": "<IPython.core.display.HTML object>",
      "text/html": "<h3>Run history:</h3><br/><style>\n    table.wandb td:nth-child(1) { padding: 0 10px; text-align: right }\n    </style><table class=\"wandb\">\n<tr><td>r2</td><td>▁</td></tr><tr><td>_runtime</td><td>▁▁▁▁</td></tr><tr><td>_timestamp</td><td>▁▁▁▁</td></tr><tr><td>_step</td><td>▁▃▆█</td></tr><tr><td>neg_mape</td><td>▁</td></tr><tr><td>neg_mae</td><td>▁</td></tr><tr><td>neg_rmse</td><td>▁</td></tr></table><br/>"
     },
     "metadata": {},
     "output_type": "display_data"
    },
    {
     "data": {
      "text/plain": "<IPython.core.display.HTML object>",
      "text/html": "Synced 4 W&B file(s), 0 media file(s), 0 artifact file(s) and 0 other file(s)"
     },
     "metadata": {},
     "output_type": "display_data"
    },
    {
     "data": {
      "text/plain": "<IPython.core.display.HTML object>",
      "text/html": "\n                    <br/>Synced <strong style=\"color:#cdcd00\">drawn-sweep-76</strong>: <a href=\"https://wandb.ai/devcore/Metriken%20Bauwesen%20Sweeps/runs/dno6rwq2\" target=\"_blank\">https://wandb.ai/devcore/Metriken%20Bauwesen%20Sweeps/runs/dno6rwq2</a><br/>\n                "
     },
     "metadata": {},
     "output_type": "display_data"
    },
    {
     "data": {
      "text/plain": "<IPython.core.display.HTML object>",
      "text/html": "\n                Tracking run with wandb version 0.11.0<br/>\n                Syncing run <strong style=\"color:#cdcd00\">misty-sweep-77</strong> to <a href=\"https://wandb.ai\" target=\"_blank\">Weights & Biases</a> <a href=\"https://docs.wandb.com/integrations/jupyter.html\" target=\"_blank\">(Documentation)</a>.<br/>\n                Project page: <a href=\"https://wandb.ai/devcore/Metriken%20Bauwesen%20Sweeps\" target=\"_blank\">https://wandb.ai/devcore/Metriken%20Bauwesen%20Sweeps</a><br/>\n                Sweep page: <a href=\"https://wandb.ai/devcore/Metriken%20Bauwesen%20Sweeps/sweeps/aslqb1cw\" target=\"_blank\">https://wandb.ai/devcore/Metriken%20Bauwesen%20Sweeps/sweeps/aslqb1cw</a><br/>\nRun page: <a href=\"https://wandb.ai/devcore/Metriken%20Bauwesen%20Sweeps/runs/zeu4ps1m\" target=\"_blank\">https://wandb.ai/devcore/Metriken%20Bauwesen%20Sweeps/runs/zeu4ps1m</a><br/>\n                Run data is saved locally in <code>D:\\Development\\FHNW\\ip5-metriken-bauwesen\\src\\weight_and_bias\\wandb\\run-20210813_105614-zeu4ps1m</code><br/><br/>\n            "
     },
     "metadata": {},
     "output_type": "display_data"
    },
    {
     "data": {
      "text/plain": "<IPython.core.display.HTML object>",
      "text/html": "<br/>Waiting for W&B process to finish, PID 6744<br/>Program ended successfully."
     },
     "metadata": {},
     "output_type": "display_data"
    },
    {
     "data": {
      "text/plain": "VBox(children=(Label(value=' 0.00MB of 0.00MB uploaded (0.00MB deduped)\\r'), FloatProgress(value=1.0, max=1.0)…",
      "application/vnd.jupyter.widget-view+json": {
       "version_major": 2,
       "version_minor": 0,
       "model_id": "8afe72d7f35a4f0fb3965d22af920c34"
      }
     },
     "metadata": {},
     "output_type": "display_data"
    },
    {
     "data": {
      "text/plain": "<IPython.core.display.HTML object>",
      "text/html": "Find user logs for this run at: <code>D:\\Development\\FHNW\\ip5-metriken-bauwesen\\src\\weight_and_bias\\wandb\\run-20210813_105614-zeu4ps1m\\logs\\debug.log</code>"
     },
     "metadata": {},
     "output_type": "display_data"
    },
    {
     "data": {
      "text/plain": "<IPython.core.display.HTML object>",
      "text/html": "Find internal logs for this run at: <code>D:\\Development\\FHNW\\ip5-metriken-bauwesen\\src\\weight_and_bias\\wandb\\run-20210813_105614-zeu4ps1m\\logs\\debug-internal.log</code>"
     },
     "metadata": {},
     "output_type": "display_data"
    },
    {
     "data": {
      "text/plain": "<IPython.core.display.HTML object>",
      "text/html": "<h3>Run summary:</h3><br/><style>\n    table.wandb td:nth-child(1) { padding: 0 10px; text-align: right }\n    </style><table class=\"wandb\">\n<tr><td>r2</td><td>0.90793</td></tr><tr><td>_runtime</td><td>13</td></tr><tr><td>_timestamp</td><td>1628844987</td></tr><tr><td>_step</td><td>3</td></tr><tr><td>neg_mape</td><td>-0.16439</td></tr><tr><td>neg_mae</td><td>-544.80992</td></tr><tr><td>neg_rmse</td><td>-1156.83902</td></tr></table>"
     },
     "metadata": {},
     "output_type": "display_data"
    },
    {
     "data": {
      "text/plain": "<IPython.core.display.HTML object>",
      "text/html": "<h3>Run history:</h3><br/><style>\n    table.wandb td:nth-child(1) { padding: 0 10px; text-align: right }\n    </style><table class=\"wandb\">\n<tr><td>r2</td><td>▁</td></tr><tr><td>_runtime</td><td>▁▁▁▁</td></tr><tr><td>_timestamp</td><td>▁▁▁▁</td></tr><tr><td>_step</td><td>▁▃▆█</td></tr><tr><td>neg_mape</td><td>▁</td></tr><tr><td>neg_mae</td><td>▁</td></tr><tr><td>neg_rmse</td><td>▁</td></tr></table><br/>"
     },
     "metadata": {},
     "output_type": "display_data"
    },
    {
     "data": {
      "text/plain": "<IPython.core.display.HTML object>",
      "text/html": "Synced 4 W&B file(s), 0 media file(s), 0 artifact file(s) and 0 other file(s)"
     },
     "metadata": {},
     "output_type": "display_data"
    },
    {
     "data": {
      "text/plain": "<IPython.core.display.HTML object>",
      "text/html": "\n                    <br/>Synced <strong style=\"color:#cdcd00\">misty-sweep-77</strong>: <a href=\"https://wandb.ai/devcore/Metriken%20Bauwesen%20Sweeps/runs/zeu4ps1m\" target=\"_blank\">https://wandb.ai/devcore/Metriken%20Bauwesen%20Sweeps/runs/zeu4ps1m</a><br/>\n                "
     },
     "metadata": {},
     "output_type": "display_data"
    },
    {
     "data": {
      "text/plain": "<IPython.core.display.HTML object>",
      "text/html": "\n                Tracking run with wandb version 0.11.0<br/>\n                Syncing run <strong style=\"color:#cdcd00\">serene-sweep-78</strong> to <a href=\"https://wandb.ai\" target=\"_blank\">Weights & Biases</a> <a href=\"https://docs.wandb.com/integrations/jupyter.html\" target=\"_blank\">(Documentation)</a>.<br/>\n                Project page: <a href=\"https://wandb.ai/devcore/Metriken%20Bauwesen%20Sweeps\" target=\"_blank\">https://wandb.ai/devcore/Metriken%20Bauwesen%20Sweeps</a><br/>\n                Sweep page: <a href=\"https://wandb.ai/devcore/Metriken%20Bauwesen%20Sweeps/sweeps/aslqb1cw\" target=\"_blank\">https://wandb.ai/devcore/Metriken%20Bauwesen%20Sweeps/sweeps/aslqb1cw</a><br/>\nRun page: <a href=\"https://wandb.ai/devcore/Metriken%20Bauwesen%20Sweeps/runs/xc8pcouo\" target=\"_blank\">https://wandb.ai/devcore/Metriken%20Bauwesen%20Sweeps/runs/xc8pcouo</a><br/>\n                Run data is saved locally in <code>D:\\Development\\FHNW\\ip5-metriken-bauwesen\\src\\weight_and_bias\\wandb\\run-20210813_105631-xc8pcouo</code><br/><br/>\n            "
     },
     "metadata": {},
     "output_type": "display_data"
    },
    {
     "data": {
      "text/plain": "<IPython.core.display.HTML object>",
      "text/html": "<br/>Waiting for W&B process to finish, PID 23636<br/>Program ended successfully."
     },
     "metadata": {},
     "output_type": "display_data"
    },
    {
     "data": {
      "text/plain": "VBox(children=(Label(value=' 0.00MB of 0.00MB uploaded (0.00MB deduped)\\r'), FloatProgress(value=1.0, max=1.0)…",
      "application/vnd.jupyter.widget-view+json": {
       "version_major": 2,
       "version_minor": 0,
       "model_id": "695ce940dab94de7a57bebbc9e6fed53"
      }
     },
     "metadata": {},
     "output_type": "display_data"
    },
    {
     "data": {
      "text/plain": "<IPython.core.display.HTML object>",
      "text/html": "Find user logs for this run at: <code>D:\\Development\\FHNW\\ip5-metriken-bauwesen\\src\\weight_and_bias\\wandb\\run-20210813_105631-xc8pcouo\\logs\\debug.log</code>"
     },
     "metadata": {},
     "output_type": "display_data"
    },
    {
     "data": {
      "text/plain": "<IPython.core.display.HTML object>",
      "text/html": "Find internal logs for this run at: <code>D:\\Development\\FHNW\\ip5-metriken-bauwesen\\src\\weight_and_bias\\wandb\\run-20210813_105631-xc8pcouo\\logs\\debug-internal.log</code>"
     },
     "metadata": {},
     "output_type": "display_data"
    },
    {
     "data": {
      "text/plain": "<IPython.core.display.HTML object>",
      "text/html": "<h3>Run summary:</h3><br/><style>\n    table.wandb td:nth-child(1) { padding: 0 10px; text-align: right }\n    </style><table class=\"wandb\">\n<tr><td>r2</td><td>0.90321</td></tr><tr><td>_runtime</td><td>23</td></tr><tr><td>_timestamp</td><td>1628845014</td></tr><tr><td>_step</td><td>3</td></tr><tr><td>neg_mape</td><td>-0.16402</td></tr><tr><td>neg_mae</td><td>-549.84367</td></tr><tr><td>neg_rmse</td><td>-1154.69393</td></tr></table>"
     },
     "metadata": {},
     "output_type": "display_data"
    },
    {
     "data": {
      "text/plain": "<IPython.core.display.HTML object>",
      "text/html": "<h3>Run history:</h3><br/><style>\n    table.wandb td:nth-child(1) { padding: 0 10px; text-align: right }\n    </style><table class=\"wandb\">\n<tr><td>r2</td><td>▁</td></tr><tr><td>_runtime</td><td>▁▁▁▁</td></tr><tr><td>_timestamp</td><td>▁▁▁▁</td></tr><tr><td>_step</td><td>▁▃▆█</td></tr><tr><td>neg_mape</td><td>▁</td></tr><tr><td>neg_mae</td><td>▁</td></tr><tr><td>neg_rmse</td><td>▁</td></tr></table><br/>"
     },
     "metadata": {},
     "output_type": "display_data"
    },
    {
     "data": {
      "text/plain": "<IPython.core.display.HTML object>",
      "text/html": "Synced 4 W&B file(s), 0 media file(s), 0 artifact file(s) and 0 other file(s)"
     },
     "metadata": {},
     "output_type": "display_data"
    },
    {
     "data": {
      "text/plain": "<IPython.core.display.HTML object>",
      "text/html": "\n                    <br/>Synced <strong style=\"color:#cdcd00\">serene-sweep-78</strong>: <a href=\"https://wandb.ai/devcore/Metriken%20Bauwesen%20Sweeps/runs/xc8pcouo\" target=\"_blank\">https://wandb.ai/devcore/Metriken%20Bauwesen%20Sweeps/runs/xc8pcouo</a><br/>\n                "
     },
     "metadata": {},
     "output_type": "display_data"
    },
    {
     "data": {
      "text/plain": "<IPython.core.display.HTML object>",
      "text/html": "\n                Tracking run with wandb version 0.11.0<br/>\n                Syncing run <strong style=\"color:#cdcd00\">upbeat-sweep-79</strong> to <a href=\"https://wandb.ai\" target=\"_blank\">Weights & Biases</a> <a href=\"https://docs.wandb.com/integrations/jupyter.html\" target=\"_blank\">(Documentation)</a>.<br/>\n                Project page: <a href=\"https://wandb.ai/devcore/Metriken%20Bauwesen%20Sweeps\" target=\"_blank\">https://wandb.ai/devcore/Metriken%20Bauwesen%20Sweeps</a><br/>\n                Sweep page: <a href=\"https://wandb.ai/devcore/Metriken%20Bauwesen%20Sweeps/sweeps/aslqb1cw\" target=\"_blank\">https://wandb.ai/devcore/Metriken%20Bauwesen%20Sweeps/sweeps/aslqb1cw</a><br/>\nRun page: <a href=\"https://wandb.ai/devcore/Metriken%20Bauwesen%20Sweeps/runs/5xu3bb7g\" target=\"_blank\">https://wandb.ai/devcore/Metriken%20Bauwesen%20Sweeps/runs/5xu3bb7g</a><br/>\n                Run data is saved locally in <code>D:\\Development\\FHNW\\ip5-metriken-bauwesen\\src\\weight_and_bias\\wandb\\run-20210813_105658-5xu3bb7g</code><br/><br/>\n            "
     },
     "metadata": {},
     "output_type": "display_data"
    },
    {
     "data": {
      "text/plain": "<IPython.core.display.HTML object>",
      "text/html": "<br/>Waiting for W&B process to finish, PID 24412<br/>Program ended successfully."
     },
     "metadata": {},
     "output_type": "display_data"
    },
    {
     "data": {
      "text/plain": "VBox(children=(Label(value=' 0.00MB of 0.00MB uploaded (0.00MB deduped)\\r'), FloatProgress(value=1.0, max=1.0)…",
      "application/vnd.jupyter.widget-view+json": {
       "version_major": 2,
       "version_minor": 0,
       "model_id": "ac31a0f715f64e9c9764628172858c26"
      }
     },
     "metadata": {},
     "output_type": "display_data"
    },
    {
     "data": {
      "text/plain": "<IPython.core.display.HTML object>",
      "text/html": "Find user logs for this run at: <code>D:\\Development\\FHNW\\ip5-metriken-bauwesen\\src\\weight_and_bias\\wandb\\run-20210813_105658-5xu3bb7g\\logs\\debug.log</code>"
     },
     "metadata": {},
     "output_type": "display_data"
    },
    {
     "data": {
      "text/plain": "<IPython.core.display.HTML object>",
      "text/html": "Find internal logs for this run at: <code>D:\\Development\\FHNW\\ip5-metriken-bauwesen\\src\\weight_and_bias\\wandb\\run-20210813_105658-5xu3bb7g\\logs\\debug-internal.log</code>"
     },
     "metadata": {},
     "output_type": "display_data"
    },
    {
     "data": {
      "text/plain": "<IPython.core.display.HTML object>",
      "text/html": "<h3>Run summary:</h3><br/><style>\n    table.wandb td:nth-child(1) { padding: 0 10px; text-align: right }\n    </style><table class=\"wandb\">\n<tr><td>r2</td><td>0.9135</td></tr><tr><td>_runtime</td><td>36</td></tr><tr><td>_timestamp</td><td>1628845055</td></tr><tr><td>_step</td><td>3</td></tr><tr><td>neg_mape</td><td>-0.1647</td></tr><tr><td>neg_mae</td><td>-535.92163</td></tr><tr><td>neg_rmse</td><td>-1098.01136</td></tr></table>"
     },
     "metadata": {},
     "output_type": "display_data"
    },
    {
     "data": {
      "text/plain": "<IPython.core.display.HTML object>",
      "text/html": "<h3>Run history:</h3><br/><style>\n    table.wandb td:nth-child(1) { padding: 0 10px; text-align: right }\n    </style><table class=\"wandb\">\n<tr><td>r2</td><td>▁</td></tr><tr><td>_runtime</td><td>▁▁▁▁</td></tr><tr><td>_timestamp</td><td>▁▁▁▁</td></tr><tr><td>_step</td><td>▁▃▆█</td></tr><tr><td>neg_mape</td><td>▁</td></tr><tr><td>neg_mae</td><td>▁</td></tr><tr><td>neg_rmse</td><td>▁</td></tr></table><br/>"
     },
     "metadata": {},
     "output_type": "display_data"
    },
    {
     "data": {
      "text/plain": "<IPython.core.display.HTML object>",
      "text/html": "Synced 4 W&B file(s), 0 media file(s), 0 artifact file(s) and 0 other file(s)"
     },
     "metadata": {},
     "output_type": "display_data"
    },
    {
     "data": {
      "text/plain": "<IPython.core.display.HTML object>",
      "text/html": "\n                    <br/>Synced <strong style=\"color:#cdcd00\">upbeat-sweep-79</strong>: <a href=\"https://wandb.ai/devcore/Metriken%20Bauwesen%20Sweeps/runs/5xu3bb7g\" target=\"_blank\">https://wandb.ai/devcore/Metriken%20Bauwesen%20Sweeps/runs/5xu3bb7g</a><br/>\n                "
     },
     "metadata": {},
     "output_type": "display_data"
    },
    {
     "data": {
      "text/plain": "<IPython.core.display.HTML object>",
      "text/html": "\n                Tracking run with wandb version 0.11.0<br/>\n                Syncing run <strong style=\"color:#cdcd00\">daily-sweep-80</strong> to <a href=\"https://wandb.ai\" target=\"_blank\">Weights & Biases</a> <a href=\"https://docs.wandb.com/integrations/jupyter.html\" target=\"_blank\">(Documentation)</a>.<br/>\n                Project page: <a href=\"https://wandb.ai/devcore/Metriken%20Bauwesen%20Sweeps\" target=\"_blank\">https://wandb.ai/devcore/Metriken%20Bauwesen%20Sweeps</a><br/>\n                Sweep page: <a href=\"https://wandb.ai/devcore/Metriken%20Bauwesen%20Sweeps/sweeps/aslqb1cw\" target=\"_blank\">https://wandb.ai/devcore/Metriken%20Bauwesen%20Sweeps/sweeps/aslqb1cw</a><br/>\nRun page: <a href=\"https://wandb.ai/devcore/Metriken%20Bauwesen%20Sweeps/runs/mg3px9s0\" target=\"_blank\">https://wandb.ai/devcore/Metriken%20Bauwesen%20Sweeps/runs/mg3px9s0</a><br/>\n                Run data is saved locally in <code>D:\\Development\\FHNW\\ip5-metriken-bauwesen\\src\\weight_and_bias\\wandb\\run-20210813_105739-mg3px9s0</code><br/><br/>\n            "
     },
     "metadata": {},
     "output_type": "display_data"
    },
    {
     "data": {
      "text/plain": "<IPython.core.display.HTML object>",
      "text/html": "<br/>Waiting for W&B process to finish, PID 6304<br/>Program ended successfully."
     },
     "metadata": {},
     "output_type": "display_data"
    },
    {
     "data": {
      "text/plain": "VBox(children=(Label(value=' 0.00MB of 0.00MB uploaded (0.00MB deduped)\\r'), FloatProgress(value=1.0, max=1.0)…",
      "application/vnd.jupyter.widget-view+json": {
       "version_major": 2,
       "version_minor": 0,
       "model_id": "23664ba8eb4546b18d01b22bf697eb48"
      }
     },
     "metadata": {},
     "output_type": "display_data"
    },
    {
     "data": {
      "text/plain": "<IPython.core.display.HTML object>",
      "text/html": "Find user logs for this run at: <code>D:\\Development\\FHNW\\ip5-metriken-bauwesen\\src\\weight_and_bias\\wandb\\run-20210813_105739-mg3px9s0\\logs\\debug.log</code>"
     },
     "metadata": {},
     "output_type": "display_data"
    },
    {
     "data": {
      "text/plain": "<IPython.core.display.HTML object>",
      "text/html": "Find internal logs for this run at: <code>D:\\Development\\FHNW\\ip5-metriken-bauwesen\\src\\weight_and_bias\\wandb\\run-20210813_105739-mg3px9s0\\logs\\debug-internal.log</code>"
     },
     "metadata": {},
     "output_type": "display_data"
    },
    {
     "data": {
      "text/plain": "<IPython.core.display.HTML object>",
      "text/html": "<h3>Run summary:</h3><br/><style>\n    table.wandb td:nth-child(1) { padding: 0 10px; text-align: right }\n    </style><table class=\"wandb\">\n<tr><td>r2</td><td>0.91107</td></tr><tr><td>_runtime</td><td>22</td></tr><tr><td>_timestamp</td><td>1628845081</td></tr><tr><td>_step</td><td>3</td></tr><tr><td>neg_mape</td><td>-0.15736</td></tr><tr><td>neg_mae</td><td>-517.62006</td></tr><tr><td>neg_rmse</td><td>-1111.39417</td></tr></table>"
     },
     "metadata": {},
     "output_type": "display_data"
    },
    {
     "data": {
      "text/plain": "<IPython.core.display.HTML object>",
      "text/html": "<h3>Run history:</h3><br/><style>\n    table.wandb td:nth-child(1) { padding: 0 10px; text-align: right }\n    </style><table class=\"wandb\">\n<tr><td>r2</td><td>▁</td></tr><tr><td>_runtime</td><td>▁▁▁▁</td></tr><tr><td>_timestamp</td><td>▁▁▁▁</td></tr><tr><td>_step</td><td>▁▃▆█</td></tr><tr><td>neg_mape</td><td>▁</td></tr><tr><td>neg_mae</td><td>▁</td></tr><tr><td>neg_rmse</td><td>▁</td></tr></table><br/>"
     },
     "metadata": {},
     "output_type": "display_data"
    },
    {
     "data": {
      "text/plain": "<IPython.core.display.HTML object>",
      "text/html": "Synced 4 W&B file(s), 0 media file(s), 0 artifact file(s) and 0 other file(s)"
     },
     "metadata": {},
     "output_type": "display_data"
    },
    {
     "data": {
      "text/plain": "<IPython.core.display.HTML object>",
      "text/html": "\n                    <br/>Synced <strong style=\"color:#cdcd00\">daily-sweep-80</strong>: <a href=\"https://wandb.ai/devcore/Metriken%20Bauwesen%20Sweeps/runs/mg3px9s0\" target=\"_blank\">https://wandb.ai/devcore/Metriken%20Bauwesen%20Sweeps/runs/mg3px9s0</a><br/>\n                "
     },
     "metadata": {},
     "output_type": "display_data"
    },
    {
     "data": {
      "text/plain": "<IPython.core.display.HTML object>",
      "text/html": "\n                Tracking run with wandb version 0.11.0<br/>\n                Syncing run <strong style=\"color:#cdcd00\">blooming-sweep-81</strong> to <a href=\"https://wandb.ai\" target=\"_blank\">Weights & Biases</a> <a href=\"https://docs.wandb.com/integrations/jupyter.html\" target=\"_blank\">(Documentation)</a>.<br/>\n                Project page: <a href=\"https://wandb.ai/devcore/Metriken%20Bauwesen%20Sweeps\" target=\"_blank\">https://wandb.ai/devcore/Metriken%20Bauwesen%20Sweeps</a><br/>\n                Sweep page: <a href=\"https://wandb.ai/devcore/Metriken%20Bauwesen%20Sweeps/sweeps/aslqb1cw\" target=\"_blank\">https://wandb.ai/devcore/Metriken%20Bauwesen%20Sweeps/sweeps/aslqb1cw</a><br/>\nRun page: <a href=\"https://wandb.ai/devcore/Metriken%20Bauwesen%20Sweeps/runs/8mebu5a6\" target=\"_blank\">https://wandb.ai/devcore/Metriken%20Bauwesen%20Sweeps/runs/8mebu5a6</a><br/>\n                Run data is saved locally in <code>D:\\Development\\FHNW\\ip5-metriken-bauwesen\\src\\weight_and_bias\\wandb\\run-20210813_105805-8mebu5a6</code><br/><br/>\n            "
     },
     "metadata": {},
     "output_type": "display_data"
    },
    {
     "data": {
      "text/plain": "<IPython.core.display.HTML object>",
      "text/html": "<br/>Waiting for W&B process to finish, PID 14748<br/>Program ended successfully."
     },
     "metadata": {},
     "output_type": "display_data"
    },
    {
     "data": {
      "text/plain": "VBox(children=(Label(value=' 0.00MB of 0.00MB uploaded (0.00MB deduped)\\r'), FloatProgress(value=1.0, max=1.0)…",
      "application/vnd.jupyter.widget-view+json": {
       "version_major": 2,
       "version_minor": 0,
       "model_id": "714374bbab2847af88f3b6307113be8b"
      }
     },
     "metadata": {},
     "output_type": "display_data"
    },
    {
     "data": {
      "text/plain": "<IPython.core.display.HTML object>",
      "text/html": "Find user logs for this run at: <code>D:\\Development\\FHNW\\ip5-metriken-bauwesen\\src\\weight_and_bias\\wandb\\run-20210813_105805-8mebu5a6\\logs\\debug.log</code>"
     },
     "metadata": {},
     "output_type": "display_data"
    },
    {
     "data": {
      "text/plain": "<IPython.core.display.HTML object>",
      "text/html": "Find internal logs for this run at: <code>D:\\Development\\FHNW\\ip5-metriken-bauwesen\\src\\weight_and_bias\\wandb\\run-20210813_105805-8mebu5a6\\logs\\debug-internal.log</code>"
     },
     "metadata": {},
     "output_type": "display_data"
    },
    {
     "data": {
      "text/plain": "<IPython.core.display.HTML object>",
      "text/html": "<h3>Run summary:</h3><br/><style>\n    table.wandb td:nth-child(1) { padding: 0 10px; text-align: right }\n    </style><table class=\"wandb\">\n<tr><td>r2</td><td>0.89961</td></tr><tr><td>_runtime</td><td>16</td></tr><tr><td>_timestamp</td><td>1628845101</td></tr><tr><td>_step</td><td>3</td></tr><tr><td>neg_mape</td><td>-0.17451</td></tr><tr><td>neg_mae</td><td>-566.83358</td></tr><tr><td>neg_rmse</td><td>-1191.04644</td></tr></table>"
     },
     "metadata": {},
     "output_type": "display_data"
    },
    {
     "data": {
      "text/plain": "<IPython.core.display.HTML object>",
      "text/html": "<h3>Run history:</h3><br/><style>\n    table.wandb td:nth-child(1) { padding: 0 10px; text-align: right }\n    </style><table class=\"wandb\">\n<tr><td>r2</td><td>▁</td></tr><tr><td>_runtime</td><td>▁▁▁▁</td></tr><tr><td>_timestamp</td><td>▁▁▁▁</td></tr><tr><td>_step</td><td>▁▃▆█</td></tr><tr><td>neg_mape</td><td>▁</td></tr><tr><td>neg_mae</td><td>▁</td></tr><tr><td>neg_rmse</td><td>▁</td></tr></table><br/>"
     },
     "metadata": {},
     "output_type": "display_data"
    },
    {
     "data": {
      "text/plain": "<IPython.core.display.HTML object>",
      "text/html": "Synced 4 W&B file(s), 0 media file(s), 0 artifact file(s) and 0 other file(s)"
     },
     "metadata": {},
     "output_type": "display_data"
    },
    {
     "data": {
      "text/plain": "<IPython.core.display.HTML object>",
      "text/html": "\n                    <br/>Synced <strong style=\"color:#cdcd00\">blooming-sweep-81</strong>: <a href=\"https://wandb.ai/devcore/Metriken%20Bauwesen%20Sweeps/runs/8mebu5a6\" target=\"_blank\">https://wandb.ai/devcore/Metriken%20Bauwesen%20Sweeps/runs/8mebu5a6</a><br/>\n                "
     },
     "metadata": {},
     "output_type": "display_data"
    },
    {
     "data": {
      "text/plain": "<IPython.core.display.HTML object>",
      "text/html": "\n                Tracking run with wandb version 0.11.0<br/>\n                Syncing run <strong style=\"color:#cdcd00\">classic-sweep-82</strong> to <a href=\"https://wandb.ai\" target=\"_blank\">Weights & Biases</a> <a href=\"https://docs.wandb.com/integrations/jupyter.html\" target=\"_blank\">(Documentation)</a>.<br/>\n                Project page: <a href=\"https://wandb.ai/devcore/Metriken%20Bauwesen%20Sweeps\" target=\"_blank\">https://wandb.ai/devcore/Metriken%20Bauwesen%20Sweeps</a><br/>\n                Sweep page: <a href=\"https://wandb.ai/devcore/Metriken%20Bauwesen%20Sweeps/sweeps/aslqb1cw\" target=\"_blank\">https://wandb.ai/devcore/Metriken%20Bauwesen%20Sweeps/sweeps/aslqb1cw</a><br/>\nRun page: <a href=\"https://wandb.ai/devcore/Metriken%20Bauwesen%20Sweeps/runs/evcsuyu8\" target=\"_blank\">https://wandb.ai/devcore/Metriken%20Bauwesen%20Sweeps/runs/evcsuyu8</a><br/>\n                Run data is saved locally in <code>D:\\Development\\FHNW\\ip5-metriken-bauwesen\\src\\weight_and_bias\\wandb\\run-20210813_105825-evcsuyu8</code><br/><br/>\n            "
     },
     "metadata": {},
     "output_type": "display_data"
    },
    {
     "data": {
      "text/plain": "<IPython.core.display.HTML object>",
      "text/html": "<br/>Waiting for W&B process to finish, PID 18784<br/>Program ended successfully."
     },
     "metadata": {},
     "output_type": "display_data"
    },
    {
     "data": {
      "text/plain": "VBox(children=(Label(value=' 0.00MB of 0.00MB uploaded (0.00MB deduped)\\r'), FloatProgress(value=1.0, max=1.0)…",
      "application/vnd.jupyter.widget-view+json": {
       "version_major": 2,
       "version_minor": 0,
       "model_id": "2921a77875fa4e3c9c6036c84c94bf00"
      }
     },
     "metadata": {},
     "output_type": "display_data"
    },
    {
     "data": {
      "text/plain": "<IPython.core.display.HTML object>",
      "text/html": "Find user logs for this run at: <code>D:\\Development\\FHNW\\ip5-metriken-bauwesen\\src\\weight_and_bias\\wandb\\run-20210813_105825-evcsuyu8\\logs\\debug.log</code>"
     },
     "metadata": {},
     "output_type": "display_data"
    },
    {
     "data": {
      "text/plain": "<IPython.core.display.HTML object>",
      "text/html": "Find internal logs for this run at: <code>D:\\Development\\FHNW\\ip5-metriken-bauwesen\\src\\weight_and_bias\\wandb\\run-20210813_105825-evcsuyu8\\logs\\debug-internal.log</code>"
     },
     "metadata": {},
     "output_type": "display_data"
    },
    {
     "data": {
      "text/plain": "<IPython.core.display.HTML object>",
      "text/html": "<h3>Run summary:</h3><br/><style>\n    table.wandb td:nth-child(1) { padding: 0 10px; text-align: right }\n    </style><table class=\"wandb\">\n<tr><td>r2</td><td>0.9084</td></tr><tr><td>_runtime</td><td>10</td></tr><tr><td>_timestamp</td><td>1628845115</td></tr><tr><td>_step</td><td>3</td></tr><tr><td>neg_mape</td><td>-0.1756</td></tr><tr><td>neg_mae</td><td>-556.29574</td></tr><tr><td>neg_rmse</td><td>-1127.97219</td></tr></table>"
     },
     "metadata": {},
     "output_type": "display_data"
    },
    {
     "data": {
      "text/plain": "<IPython.core.display.HTML object>",
      "text/html": "<h3>Run history:</h3><br/><style>\n    table.wandb td:nth-child(1) { padding: 0 10px; text-align: right }\n    </style><table class=\"wandb\">\n<tr><td>r2</td><td>▁</td></tr><tr><td>_runtime</td><td>▁▁▁▁</td></tr><tr><td>_timestamp</td><td>▁▁▁▁</td></tr><tr><td>_step</td><td>▁▃▆█</td></tr><tr><td>neg_mape</td><td>▁</td></tr><tr><td>neg_mae</td><td>▁</td></tr><tr><td>neg_rmse</td><td>▁</td></tr></table><br/>"
     },
     "metadata": {},
     "output_type": "display_data"
    },
    {
     "data": {
      "text/plain": "<IPython.core.display.HTML object>",
      "text/html": "Synced 4 W&B file(s), 0 media file(s), 0 artifact file(s) and 0 other file(s)"
     },
     "metadata": {},
     "output_type": "display_data"
    },
    {
     "data": {
      "text/plain": "<IPython.core.display.HTML object>",
      "text/html": "\n                    <br/>Synced <strong style=\"color:#cdcd00\">classic-sweep-82</strong>: <a href=\"https://wandb.ai/devcore/Metriken%20Bauwesen%20Sweeps/runs/evcsuyu8\" target=\"_blank\">https://wandb.ai/devcore/Metriken%20Bauwesen%20Sweeps/runs/evcsuyu8</a><br/>\n                "
     },
     "metadata": {},
     "output_type": "display_data"
    },
    {
     "data": {
      "text/plain": "<IPython.core.display.HTML object>",
      "text/html": "\n                Tracking run with wandb version 0.11.0<br/>\n                Syncing run <strong style=\"color:#cdcd00\">valiant-sweep-83</strong> to <a href=\"https://wandb.ai\" target=\"_blank\">Weights & Biases</a> <a href=\"https://docs.wandb.com/integrations/jupyter.html\" target=\"_blank\">(Documentation)</a>.<br/>\n                Project page: <a href=\"https://wandb.ai/devcore/Metriken%20Bauwesen%20Sweeps\" target=\"_blank\">https://wandb.ai/devcore/Metriken%20Bauwesen%20Sweeps</a><br/>\n                Sweep page: <a href=\"https://wandb.ai/devcore/Metriken%20Bauwesen%20Sweeps/sweeps/aslqb1cw\" target=\"_blank\">https://wandb.ai/devcore/Metriken%20Bauwesen%20Sweeps/sweeps/aslqb1cw</a><br/>\nRun page: <a href=\"https://wandb.ai/devcore/Metriken%20Bauwesen%20Sweeps/runs/f9511mn6\" target=\"_blank\">https://wandb.ai/devcore/Metriken%20Bauwesen%20Sweeps/runs/f9511mn6</a><br/>\n                Run data is saved locally in <code>D:\\Development\\FHNW\\ip5-metriken-bauwesen\\src\\weight_and_bias\\wandb\\run-20210813_105839-f9511mn6</code><br/><br/>\n            "
     },
     "metadata": {},
     "output_type": "display_data"
    },
    {
     "data": {
      "text/plain": "<IPython.core.display.HTML object>",
      "text/html": "<br/>Waiting for W&B process to finish, PID 22128<br/>Program ended successfully."
     },
     "metadata": {},
     "output_type": "display_data"
    },
    {
     "data": {
      "text/plain": "VBox(children=(Label(value=' 0.00MB of 0.00MB uploaded (0.00MB deduped)\\r'), FloatProgress(value=1.0, max=1.0)…",
      "application/vnd.jupyter.widget-view+json": {
       "version_major": 2,
       "version_minor": 0,
       "model_id": "4362eb0ea7ff4859b4066d541cbbd961"
      }
     },
     "metadata": {},
     "output_type": "display_data"
    },
    {
     "data": {
      "text/plain": "<IPython.core.display.HTML object>",
      "text/html": "Find user logs for this run at: <code>D:\\Development\\FHNW\\ip5-metriken-bauwesen\\src\\weight_and_bias\\wandb\\run-20210813_105839-f9511mn6\\logs\\debug.log</code>"
     },
     "metadata": {},
     "output_type": "display_data"
    },
    {
     "data": {
      "text/plain": "<IPython.core.display.HTML object>",
      "text/html": "Find internal logs for this run at: <code>D:\\Development\\FHNW\\ip5-metriken-bauwesen\\src\\weight_and_bias\\wandb\\run-20210813_105839-f9511mn6\\logs\\debug-internal.log</code>"
     },
     "metadata": {},
     "output_type": "display_data"
    },
    {
     "data": {
      "text/plain": "<IPython.core.display.HTML object>",
      "text/html": "<h3>Run summary:</h3><br/><style>\n    table.wandb td:nth-child(1) { padding: 0 10px; text-align: right }\n    </style><table class=\"wandb\">\n<tr><td>r2</td><td>0.91094</td></tr><tr><td>_runtime</td><td>31</td></tr><tr><td>_timestamp</td><td>1628845150</td></tr><tr><td>_step</td><td>3</td></tr><tr><td>neg_mape</td><td>-0.1634</td></tr><tr><td>neg_mae</td><td>-530.99404</td></tr><tr><td>neg_rmse</td><td>-1113.94619</td></tr></table>"
     },
     "metadata": {},
     "output_type": "display_data"
    },
    {
     "data": {
      "text/plain": "<IPython.core.display.HTML object>",
      "text/html": "<h3>Run history:</h3><br/><style>\n    table.wandb td:nth-child(1) { padding: 0 10px; text-align: right }\n    </style><table class=\"wandb\">\n<tr><td>r2</td><td>▁</td></tr><tr><td>_runtime</td><td>▁▁▁▁</td></tr><tr><td>_timestamp</td><td>▁▁▁▁</td></tr><tr><td>_step</td><td>▁▃▆█</td></tr><tr><td>neg_mape</td><td>▁</td></tr><tr><td>neg_mae</td><td>▁</td></tr><tr><td>neg_rmse</td><td>▁</td></tr></table><br/>"
     },
     "metadata": {},
     "output_type": "display_data"
    },
    {
     "data": {
      "text/plain": "<IPython.core.display.HTML object>",
      "text/html": "Synced 4 W&B file(s), 0 media file(s), 0 artifact file(s) and 0 other file(s)"
     },
     "metadata": {},
     "output_type": "display_data"
    },
    {
     "data": {
      "text/plain": "<IPython.core.display.HTML object>",
      "text/html": "\n                    <br/>Synced <strong style=\"color:#cdcd00\">valiant-sweep-83</strong>: <a href=\"https://wandb.ai/devcore/Metriken%20Bauwesen%20Sweeps/runs/f9511mn6\" target=\"_blank\">https://wandb.ai/devcore/Metriken%20Bauwesen%20Sweeps/runs/f9511mn6</a><br/>\n                "
     },
     "metadata": {},
     "output_type": "display_data"
    },
    {
     "data": {
      "text/plain": "<IPython.core.display.HTML object>",
      "text/html": "\n                Tracking run with wandb version 0.11.0<br/>\n                Syncing run <strong style=\"color:#cdcd00\">ethereal-sweep-84</strong> to <a href=\"https://wandb.ai\" target=\"_blank\">Weights & Biases</a> <a href=\"https://docs.wandb.com/integrations/jupyter.html\" target=\"_blank\">(Documentation)</a>.<br/>\n                Project page: <a href=\"https://wandb.ai/devcore/Metriken%20Bauwesen%20Sweeps\" target=\"_blank\">https://wandb.ai/devcore/Metriken%20Bauwesen%20Sweeps</a><br/>\n                Sweep page: <a href=\"https://wandb.ai/devcore/Metriken%20Bauwesen%20Sweeps/sweeps/aslqb1cw\" target=\"_blank\">https://wandb.ai/devcore/Metriken%20Bauwesen%20Sweeps/sweeps/aslqb1cw</a><br/>\nRun page: <a href=\"https://wandb.ai/devcore/Metriken%20Bauwesen%20Sweeps/runs/7x4xa199\" target=\"_blank\">https://wandb.ai/devcore/Metriken%20Bauwesen%20Sweeps/runs/7x4xa199</a><br/>\n                Run data is saved locally in <code>D:\\Development\\FHNW\\ip5-metriken-bauwesen\\src\\weight_and_bias\\wandb\\run-20210813_105914-7x4xa199</code><br/><br/>\n            "
     },
     "metadata": {},
     "output_type": "display_data"
    },
    {
     "data": {
      "text/plain": "<IPython.core.display.HTML object>",
      "text/html": "<br/>Waiting for W&B process to finish, PID 21352<br/>Program ended successfully."
     },
     "metadata": {},
     "output_type": "display_data"
    },
    {
     "data": {
      "text/plain": "VBox(children=(Label(value=' 0.00MB of 0.00MB uploaded (0.00MB deduped)\\r'), FloatProgress(value=1.0, max=1.0)…",
      "application/vnd.jupyter.widget-view+json": {
       "version_major": 2,
       "version_minor": 0,
       "model_id": "02a390650a704e47b9554d618b6a6f1a"
      }
     },
     "metadata": {},
     "output_type": "display_data"
    },
    {
     "data": {
      "text/plain": "<IPython.core.display.HTML object>",
      "text/html": "Find user logs for this run at: <code>D:\\Development\\FHNW\\ip5-metriken-bauwesen\\src\\weight_and_bias\\wandb\\run-20210813_105914-7x4xa199\\logs\\debug.log</code>"
     },
     "metadata": {},
     "output_type": "display_data"
    },
    {
     "data": {
      "text/plain": "<IPython.core.display.HTML object>",
      "text/html": "Find internal logs for this run at: <code>D:\\Development\\FHNW\\ip5-metriken-bauwesen\\src\\weight_and_bias\\wandb\\run-20210813_105914-7x4xa199\\logs\\debug-internal.log</code>"
     },
     "metadata": {},
     "output_type": "display_data"
    },
    {
     "data": {
      "text/plain": "<IPython.core.display.HTML object>",
      "text/html": "<h3>Run summary:</h3><br/><style>\n    table.wandb td:nth-child(1) { padding: 0 10px; text-align: right }\n    </style><table class=\"wandb\">\n<tr><td>r2</td><td>0.91403</td></tr><tr><td>_runtime</td><td>42</td></tr><tr><td>_timestamp</td><td>1628845196</td></tr><tr><td>_step</td><td>3</td></tr><tr><td>neg_mape</td><td>-0.15494</td></tr><tr><td>neg_mae</td><td>-516.62666</td></tr><tr><td>neg_rmse</td><td>-1099.88871</td></tr></table>"
     },
     "metadata": {},
     "output_type": "display_data"
    },
    {
     "data": {
      "text/plain": "<IPython.core.display.HTML object>",
      "text/html": "<h3>Run history:</h3><br/><style>\n    table.wandb td:nth-child(1) { padding: 0 10px; text-align: right }\n    </style><table class=\"wandb\">\n<tr><td>r2</td><td>▁</td></tr><tr><td>_runtime</td><td>▁▁▁▁</td></tr><tr><td>_timestamp</td><td>▁▁▁▁</td></tr><tr><td>_step</td><td>▁▃▆█</td></tr><tr><td>neg_mape</td><td>▁</td></tr><tr><td>neg_mae</td><td>▁</td></tr><tr><td>neg_rmse</td><td>▁</td></tr></table><br/>"
     },
     "metadata": {},
     "output_type": "display_data"
    },
    {
     "data": {
      "text/plain": "<IPython.core.display.HTML object>",
      "text/html": "Synced 4 W&B file(s), 0 media file(s), 0 artifact file(s) and 0 other file(s)"
     },
     "metadata": {},
     "output_type": "display_data"
    },
    {
     "data": {
      "text/plain": "<IPython.core.display.HTML object>",
      "text/html": "\n                    <br/>Synced <strong style=\"color:#cdcd00\">ethereal-sweep-84</strong>: <a href=\"https://wandb.ai/devcore/Metriken%20Bauwesen%20Sweeps/runs/7x4xa199\" target=\"_blank\">https://wandb.ai/devcore/Metriken%20Bauwesen%20Sweeps/runs/7x4xa199</a><br/>\n                "
     },
     "metadata": {},
     "output_type": "display_data"
    },
    {
     "data": {
      "text/plain": "<IPython.core.display.HTML object>",
      "text/html": "\n                Tracking run with wandb version 0.11.0<br/>\n                Syncing run <strong style=\"color:#cdcd00\">stellar-sweep-85</strong> to <a href=\"https://wandb.ai\" target=\"_blank\">Weights & Biases</a> <a href=\"https://docs.wandb.com/integrations/jupyter.html\" target=\"_blank\">(Documentation)</a>.<br/>\n                Project page: <a href=\"https://wandb.ai/devcore/Metriken%20Bauwesen%20Sweeps\" target=\"_blank\">https://wandb.ai/devcore/Metriken%20Bauwesen%20Sweeps</a><br/>\n                Sweep page: <a href=\"https://wandb.ai/devcore/Metriken%20Bauwesen%20Sweeps/sweeps/aslqb1cw\" target=\"_blank\">https://wandb.ai/devcore/Metriken%20Bauwesen%20Sweeps/sweeps/aslqb1cw</a><br/>\nRun page: <a href=\"https://wandb.ai/devcore/Metriken%20Bauwesen%20Sweeps/runs/lmug428r\" target=\"_blank\">https://wandb.ai/devcore/Metriken%20Bauwesen%20Sweeps/runs/lmug428r</a><br/>\n                Run data is saved locally in <code>D:\\Development\\FHNW\\ip5-metriken-bauwesen\\src\\weight_and_bias\\wandb\\run-20210813_110000-lmug428r</code><br/><br/>\n            "
     },
     "metadata": {},
     "output_type": "display_data"
    },
    {
     "data": {
      "text/plain": "<IPython.core.display.HTML object>",
      "text/html": "<br/>Waiting for W&B process to finish, PID 22280<br/>Program ended successfully."
     },
     "metadata": {},
     "output_type": "display_data"
    },
    {
     "data": {
      "text/plain": "VBox(children=(Label(value=' 0.00MB of 0.00MB uploaded (0.00MB deduped)\\r'), FloatProgress(value=1.0, max=1.0)…",
      "application/vnd.jupyter.widget-view+json": {
       "version_major": 2,
       "version_minor": 0,
       "model_id": "e4e8a9ffdbe24bfd8dd40287a1aa4f61"
      }
     },
     "metadata": {},
     "output_type": "display_data"
    },
    {
     "data": {
      "text/plain": "<IPython.core.display.HTML object>",
      "text/html": "Find user logs for this run at: <code>D:\\Development\\FHNW\\ip5-metriken-bauwesen\\src\\weight_and_bias\\wandb\\run-20210813_110000-lmug428r\\logs\\debug.log</code>"
     },
     "metadata": {},
     "output_type": "display_data"
    },
    {
     "data": {
      "text/plain": "<IPython.core.display.HTML object>",
      "text/html": "Find internal logs for this run at: <code>D:\\Development\\FHNW\\ip5-metriken-bauwesen\\src\\weight_and_bias\\wandb\\run-20210813_110000-lmug428r\\logs\\debug-internal.log</code>"
     },
     "metadata": {},
     "output_type": "display_data"
    },
    {
     "data": {
      "text/plain": "<IPython.core.display.HTML object>",
      "text/html": "<h3>Run summary:</h3><br/><style>\n    table.wandb td:nth-child(1) { padding: 0 10px; text-align: right }\n    </style><table class=\"wandb\">\n<tr><td>r2</td><td>0.9023</td></tr><tr><td>_runtime</td><td>28</td></tr><tr><td>_timestamp</td><td>1628845228</td></tr><tr><td>_step</td><td>3</td></tr><tr><td>neg_mape</td><td>-0.17752</td></tr><tr><td>neg_mae</td><td>-569.88633</td></tr><tr><td>neg_rmse</td><td>-1183.84143</td></tr></table>"
     },
     "metadata": {},
     "output_type": "display_data"
    },
    {
     "data": {
      "text/plain": "<IPython.core.display.HTML object>",
      "text/html": "<h3>Run history:</h3><br/><style>\n    table.wandb td:nth-child(1) { padding: 0 10px; text-align: right }\n    </style><table class=\"wandb\">\n<tr><td>r2</td><td>▁</td></tr><tr><td>_runtime</td><td>▁▁▁▁</td></tr><tr><td>_timestamp</td><td>▁▁▁▁</td></tr><tr><td>_step</td><td>▁▃▆█</td></tr><tr><td>neg_mape</td><td>▁</td></tr><tr><td>neg_mae</td><td>▁</td></tr><tr><td>neg_rmse</td><td>▁</td></tr></table><br/>"
     },
     "metadata": {},
     "output_type": "display_data"
    },
    {
     "data": {
      "text/plain": "<IPython.core.display.HTML object>",
      "text/html": "Synced 4 W&B file(s), 0 media file(s), 0 artifact file(s) and 0 other file(s)"
     },
     "metadata": {},
     "output_type": "display_data"
    },
    {
     "data": {
      "text/plain": "<IPython.core.display.HTML object>",
      "text/html": "\n                    <br/>Synced <strong style=\"color:#cdcd00\">stellar-sweep-85</strong>: <a href=\"https://wandb.ai/devcore/Metriken%20Bauwesen%20Sweeps/runs/lmug428r\" target=\"_blank\">https://wandb.ai/devcore/Metriken%20Bauwesen%20Sweeps/runs/lmug428r</a><br/>\n                "
     },
     "metadata": {},
     "output_type": "display_data"
    },
    {
     "data": {
      "text/plain": "<IPython.core.display.HTML object>",
      "text/html": "\n                Tracking run with wandb version 0.11.0<br/>\n                Syncing run <strong style=\"color:#cdcd00\">misunderstood-sweep-86</strong> to <a href=\"https://wandb.ai\" target=\"_blank\">Weights & Biases</a> <a href=\"https://docs.wandb.com/integrations/jupyter.html\" target=\"_blank\">(Documentation)</a>.<br/>\n                Project page: <a href=\"https://wandb.ai/devcore/Metriken%20Bauwesen%20Sweeps\" target=\"_blank\">https://wandb.ai/devcore/Metriken%20Bauwesen%20Sweeps</a><br/>\n                Sweep page: <a href=\"https://wandb.ai/devcore/Metriken%20Bauwesen%20Sweeps/sweeps/aslqb1cw\" target=\"_blank\">https://wandb.ai/devcore/Metriken%20Bauwesen%20Sweeps/sweeps/aslqb1cw</a><br/>\nRun page: <a href=\"https://wandb.ai/devcore/Metriken%20Bauwesen%20Sweeps/runs/36tpwnn9\" target=\"_blank\">https://wandb.ai/devcore/Metriken%20Bauwesen%20Sweeps/runs/36tpwnn9</a><br/>\n                Run data is saved locally in <code>D:\\Development\\FHNW\\ip5-metriken-bauwesen\\src\\weight_and_bias\\wandb\\run-20210813_110031-36tpwnn9</code><br/><br/>\n            "
     },
     "metadata": {},
     "output_type": "display_data"
    },
    {
     "data": {
      "text/plain": "<IPython.core.display.HTML object>",
      "text/html": "<br/>Waiting for W&B process to finish, PID 25268<br/>Program ended successfully."
     },
     "metadata": {},
     "output_type": "display_data"
    },
    {
     "data": {
      "text/plain": "VBox(children=(Label(value=' 0.00MB of 0.00MB uploaded (0.00MB deduped)\\r'), FloatProgress(value=1.0, max=1.0)…",
      "application/vnd.jupyter.widget-view+json": {
       "version_major": 2,
       "version_minor": 0,
       "model_id": "be2a0ff0fd6b4ef0a3ab1d7e955f1547"
      }
     },
     "metadata": {},
     "output_type": "display_data"
    },
    {
     "data": {
      "text/plain": "<IPython.core.display.HTML object>",
      "text/html": "Find user logs for this run at: <code>D:\\Development\\FHNW\\ip5-metriken-bauwesen\\src\\weight_and_bias\\wandb\\run-20210813_110031-36tpwnn9\\logs\\debug.log</code>"
     },
     "metadata": {},
     "output_type": "display_data"
    },
    {
     "data": {
      "text/plain": "<IPython.core.display.HTML object>",
      "text/html": "Find internal logs for this run at: <code>D:\\Development\\FHNW\\ip5-metriken-bauwesen\\src\\weight_and_bias\\wandb\\run-20210813_110031-36tpwnn9\\logs\\debug-internal.log</code>"
     },
     "metadata": {},
     "output_type": "display_data"
    },
    {
     "data": {
      "text/plain": "<IPython.core.display.HTML object>",
      "text/html": "<h3>Run summary:</h3><br/><style>\n    table.wandb td:nth-child(1) { padding: 0 10px; text-align: right }\n    </style><table class=\"wandb\">\n<tr><td>r2</td><td>0.91053</td></tr><tr><td>_runtime</td><td>9</td></tr><tr><td>_timestamp</td><td>1628845241</td></tr><tr><td>_step</td><td>3</td></tr><tr><td>neg_mape</td><td>-0.16733</td></tr><tr><td>neg_mae</td><td>-532.72502</td></tr><tr><td>neg_rmse</td><td>-1107.12173</td></tr></table>"
     },
     "metadata": {},
     "output_type": "display_data"
    },
    {
     "data": {
      "text/plain": "<IPython.core.display.HTML object>",
      "text/html": "<h3>Run history:</h3><br/><style>\n    table.wandb td:nth-child(1) { padding: 0 10px; text-align: right }\n    </style><table class=\"wandb\">\n<tr><td>r2</td><td>▁</td></tr><tr><td>_runtime</td><td>▁▁▁▁</td></tr><tr><td>_timestamp</td><td>▁▁▁▁</td></tr><tr><td>_step</td><td>▁▃▆█</td></tr><tr><td>neg_mape</td><td>▁</td></tr><tr><td>neg_mae</td><td>▁</td></tr><tr><td>neg_rmse</td><td>▁</td></tr></table><br/>"
     },
     "metadata": {},
     "output_type": "display_data"
    },
    {
     "data": {
      "text/plain": "<IPython.core.display.HTML object>",
      "text/html": "Synced 4 W&B file(s), 0 media file(s), 0 artifact file(s) and 0 other file(s)"
     },
     "metadata": {},
     "output_type": "display_data"
    },
    {
     "data": {
      "text/plain": "<IPython.core.display.HTML object>",
      "text/html": "\n                    <br/>Synced <strong style=\"color:#cdcd00\">misunderstood-sweep-86</strong>: <a href=\"https://wandb.ai/devcore/Metriken%20Bauwesen%20Sweeps/runs/36tpwnn9\" target=\"_blank\">https://wandb.ai/devcore/Metriken%20Bauwesen%20Sweeps/runs/36tpwnn9</a><br/>\n                "
     },
     "metadata": {},
     "output_type": "display_data"
    },
    {
     "data": {
      "text/plain": "<IPython.core.display.HTML object>",
      "text/html": "\n                Tracking run with wandb version 0.11.0<br/>\n                Syncing run <strong style=\"color:#cdcd00\">lunar-sweep-87</strong> to <a href=\"https://wandb.ai\" target=\"_blank\">Weights & Biases</a> <a href=\"https://docs.wandb.com/integrations/jupyter.html\" target=\"_blank\">(Documentation)</a>.<br/>\n                Project page: <a href=\"https://wandb.ai/devcore/Metriken%20Bauwesen%20Sweeps\" target=\"_blank\">https://wandb.ai/devcore/Metriken%20Bauwesen%20Sweeps</a><br/>\n                Sweep page: <a href=\"https://wandb.ai/devcore/Metriken%20Bauwesen%20Sweeps/sweeps/aslqb1cw\" target=\"_blank\">https://wandb.ai/devcore/Metriken%20Bauwesen%20Sweeps/sweeps/aslqb1cw</a><br/>\nRun page: <a href=\"https://wandb.ai/devcore/Metriken%20Bauwesen%20Sweeps/runs/7wo9fwd4\" target=\"_blank\">https://wandb.ai/devcore/Metriken%20Bauwesen%20Sweeps/runs/7wo9fwd4</a><br/>\n                Run data is saved locally in <code>D:\\Development\\FHNW\\ip5-metriken-bauwesen\\src\\weight_and_bias\\wandb\\run-20210813_110046-7wo9fwd4</code><br/><br/>\n            "
     },
     "metadata": {},
     "output_type": "display_data"
    },
    {
     "data": {
      "text/plain": "<IPython.core.display.HTML object>",
      "text/html": "<br/>Waiting for W&B process to finish, PID 21708<br/>Program ended successfully."
     },
     "metadata": {},
     "output_type": "display_data"
    },
    {
     "data": {
      "text/plain": "VBox(children=(Label(value=' 0.00MB of 0.00MB uploaded (0.00MB deduped)\\r'), FloatProgress(value=1.0, max=1.0)…",
      "application/vnd.jupyter.widget-view+json": {
       "version_major": 2,
       "version_minor": 0,
       "model_id": "bfe0ded23e504dd0b43f15ebd7699dff"
      }
     },
     "metadata": {},
     "output_type": "display_data"
    },
    {
     "data": {
      "text/plain": "<IPython.core.display.HTML object>",
      "text/html": "Find user logs for this run at: <code>D:\\Development\\FHNW\\ip5-metriken-bauwesen\\src\\weight_and_bias\\wandb\\run-20210813_110046-7wo9fwd4\\logs\\debug.log</code>"
     },
     "metadata": {},
     "output_type": "display_data"
    },
    {
     "data": {
      "text/plain": "<IPython.core.display.HTML object>",
      "text/html": "Find internal logs for this run at: <code>D:\\Development\\FHNW\\ip5-metriken-bauwesen\\src\\weight_and_bias\\wandb\\run-20210813_110046-7wo9fwd4\\logs\\debug-internal.log</code>"
     },
     "metadata": {},
     "output_type": "display_data"
    },
    {
     "data": {
      "text/plain": "<IPython.core.display.HTML object>",
      "text/html": "<h3>Run summary:</h3><br/><style>\n    table.wandb td:nth-child(1) { padding: 0 10px; text-align: right }\n    </style><table class=\"wandb\">\n<tr><td>r2</td><td>0.91041</td></tr><tr><td>_runtime</td><td>17</td></tr><tr><td>_timestamp</td><td>1628845263</td></tr><tr><td>_step</td><td>3</td></tr><tr><td>neg_mape</td><td>-0.15816</td></tr><tr><td>neg_mae</td><td>-526.62763</td></tr><tr><td>neg_rmse</td><td>-1109.81672</td></tr></table>"
     },
     "metadata": {},
     "output_type": "display_data"
    },
    {
     "data": {
      "text/plain": "<IPython.core.display.HTML object>",
      "text/html": "<h3>Run history:</h3><br/><style>\n    table.wandb td:nth-child(1) { padding: 0 10px; text-align: right }\n    </style><table class=\"wandb\">\n<tr><td>r2</td><td>▁</td></tr><tr><td>_runtime</td><td>▁▁▁▁</td></tr><tr><td>_timestamp</td><td>▁▁▁▁</td></tr><tr><td>_step</td><td>▁▃▆█</td></tr><tr><td>neg_mape</td><td>▁</td></tr><tr><td>neg_mae</td><td>▁</td></tr><tr><td>neg_rmse</td><td>▁</td></tr></table><br/>"
     },
     "metadata": {},
     "output_type": "display_data"
    },
    {
     "data": {
      "text/plain": "<IPython.core.display.HTML object>",
      "text/html": "Synced 4 W&B file(s), 0 media file(s), 0 artifact file(s) and 0 other file(s)"
     },
     "metadata": {},
     "output_type": "display_data"
    },
    {
     "data": {
      "text/plain": "<IPython.core.display.HTML object>",
      "text/html": "\n                    <br/>Synced <strong style=\"color:#cdcd00\">lunar-sweep-87</strong>: <a href=\"https://wandb.ai/devcore/Metriken%20Bauwesen%20Sweeps/runs/7wo9fwd4\" target=\"_blank\">https://wandb.ai/devcore/Metriken%20Bauwesen%20Sweeps/runs/7wo9fwd4</a><br/>\n                "
     },
     "metadata": {},
     "output_type": "display_data"
    },
    {
     "data": {
      "text/plain": "<IPython.core.display.HTML object>",
      "text/html": "\n                Tracking run with wandb version 0.11.0<br/>\n                Syncing run <strong style=\"color:#cdcd00\">dry-sweep-88</strong> to <a href=\"https://wandb.ai\" target=\"_blank\">Weights & Biases</a> <a href=\"https://docs.wandb.com/integrations/jupyter.html\" target=\"_blank\">(Documentation)</a>.<br/>\n                Project page: <a href=\"https://wandb.ai/devcore/Metriken%20Bauwesen%20Sweeps\" target=\"_blank\">https://wandb.ai/devcore/Metriken%20Bauwesen%20Sweeps</a><br/>\n                Sweep page: <a href=\"https://wandb.ai/devcore/Metriken%20Bauwesen%20Sweeps/sweeps/aslqb1cw\" target=\"_blank\">https://wandb.ai/devcore/Metriken%20Bauwesen%20Sweeps/sweeps/aslqb1cw</a><br/>\nRun page: <a href=\"https://wandb.ai/devcore/Metriken%20Bauwesen%20Sweeps/runs/n86kr9et\" target=\"_blank\">https://wandb.ai/devcore/Metriken%20Bauwesen%20Sweeps/runs/n86kr9et</a><br/>\n                Run data is saved locally in <code>D:\\Development\\FHNW\\ip5-metriken-bauwesen\\src\\weight_and_bias\\wandb\\run-20210813_110108-n86kr9et</code><br/><br/>\n            "
     },
     "metadata": {},
     "output_type": "display_data"
    },
    {
     "data": {
      "text/plain": "<IPython.core.display.HTML object>",
      "text/html": "<br/>Waiting for W&B process to finish, PID 16500<br/>Program ended successfully."
     },
     "metadata": {},
     "output_type": "display_data"
    },
    {
     "data": {
      "text/plain": "VBox(children=(Label(value=' 0.00MB of 0.00MB uploaded (0.00MB deduped)\\r'), FloatProgress(value=1.0, max=1.0)…",
      "application/vnd.jupyter.widget-view+json": {
       "version_major": 2,
       "version_minor": 0,
       "model_id": "ba34d0cab0dd48fea407500cccd6f680"
      }
     },
     "metadata": {},
     "output_type": "display_data"
    },
    {
     "data": {
      "text/plain": "<IPython.core.display.HTML object>",
      "text/html": "Find user logs for this run at: <code>D:\\Development\\FHNW\\ip5-metriken-bauwesen\\src\\weight_and_bias\\wandb\\run-20210813_110108-n86kr9et\\logs\\debug.log</code>"
     },
     "metadata": {},
     "output_type": "display_data"
    },
    {
     "data": {
      "text/plain": "<IPython.core.display.HTML object>",
      "text/html": "Find internal logs for this run at: <code>D:\\Development\\FHNW\\ip5-metriken-bauwesen\\src\\weight_and_bias\\wandb\\run-20210813_110108-n86kr9et\\logs\\debug-internal.log</code>"
     },
     "metadata": {},
     "output_type": "display_data"
    },
    {
     "data": {
      "text/plain": "<IPython.core.display.HTML object>",
      "text/html": "<h3>Run summary:</h3><br/><style>\n    table.wandb td:nth-child(1) { padding: 0 10px; text-align: right }\n    </style><table class=\"wandb\">\n<tr><td>r2</td><td>0.89653</td></tr><tr><td>_runtime</td><td>26</td></tr><tr><td>_timestamp</td><td>1628845295</td></tr><tr><td>_step</td><td>3</td></tr><tr><td>neg_mape</td><td>-0.166</td></tr><tr><td>neg_mae</td><td>-557.14745</td></tr><tr><td>neg_rmse</td><td>-1201.98819</td></tr></table>"
     },
     "metadata": {},
     "output_type": "display_data"
    },
    {
     "data": {
      "text/plain": "<IPython.core.display.HTML object>",
      "text/html": "<h3>Run history:</h3><br/><style>\n    table.wandb td:nth-child(1) { padding: 0 10px; text-align: right }\n    </style><table class=\"wandb\">\n<tr><td>r2</td><td>▁</td></tr><tr><td>_runtime</td><td>▁▁▁▁</td></tr><tr><td>_timestamp</td><td>▁▁▁▁</td></tr><tr><td>_step</td><td>▁▃▆█</td></tr><tr><td>neg_mape</td><td>▁</td></tr><tr><td>neg_mae</td><td>▁</td></tr><tr><td>neg_rmse</td><td>▁</td></tr></table><br/>"
     },
     "metadata": {},
     "output_type": "display_data"
    },
    {
     "data": {
      "text/plain": "<IPython.core.display.HTML object>",
      "text/html": "Synced 4 W&B file(s), 0 media file(s), 0 artifact file(s) and 0 other file(s)"
     },
     "metadata": {},
     "output_type": "display_data"
    },
    {
     "data": {
      "text/plain": "<IPython.core.display.HTML object>",
      "text/html": "\n                    <br/>Synced <strong style=\"color:#cdcd00\">dry-sweep-88</strong>: <a href=\"https://wandb.ai/devcore/Metriken%20Bauwesen%20Sweeps/runs/n86kr9et\" target=\"_blank\">https://wandb.ai/devcore/Metriken%20Bauwesen%20Sweeps/runs/n86kr9et</a><br/>\n                "
     },
     "metadata": {},
     "output_type": "display_data"
    },
    {
     "data": {
      "text/plain": "<IPython.core.display.HTML object>",
      "text/html": "\n                Tracking run with wandb version 0.11.0<br/>\n                Syncing run <strong style=\"color:#cdcd00\">colorful-sweep-89</strong> to <a href=\"https://wandb.ai\" target=\"_blank\">Weights & Biases</a> <a href=\"https://docs.wandb.com/integrations/jupyter.html\" target=\"_blank\">(Documentation)</a>.<br/>\n                Project page: <a href=\"https://wandb.ai/devcore/Metriken%20Bauwesen%20Sweeps\" target=\"_blank\">https://wandb.ai/devcore/Metriken%20Bauwesen%20Sweeps</a><br/>\n                Sweep page: <a href=\"https://wandb.ai/devcore/Metriken%20Bauwesen%20Sweeps/sweeps/aslqb1cw\" target=\"_blank\">https://wandb.ai/devcore/Metriken%20Bauwesen%20Sweeps/sweeps/aslqb1cw</a><br/>\nRun page: <a href=\"https://wandb.ai/devcore/Metriken%20Bauwesen%20Sweeps/runs/vnem785z\" target=\"_blank\">https://wandb.ai/devcore/Metriken%20Bauwesen%20Sweeps/runs/vnem785z</a><br/>\n                Run data is saved locally in <code>D:\\Development\\FHNW\\ip5-metriken-bauwesen\\src\\weight_and_bias\\wandb\\run-20210813_110140-vnem785z</code><br/><br/>\n            "
     },
     "metadata": {},
     "output_type": "display_data"
    },
    {
     "data": {
      "text/plain": "<IPython.core.display.HTML object>",
      "text/html": "<br/>Waiting for W&B process to finish, PID 19992<br/>Program ended successfully."
     },
     "metadata": {},
     "output_type": "display_data"
    },
    {
     "data": {
      "text/plain": "VBox(children=(Label(value=' 0.00MB of 0.00MB uploaded (0.00MB deduped)\\r'), FloatProgress(value=1.0, max=1.0)…",
      "application/vnd.jupyter.widget-view+json": {
       "version_major": 2,
       "version_minor": 0,
       "model_id": "bc0a72c6befe43bf8cdc2a4acd241999"
      }
     },
     "metadata": {},
     "output_type": "display_data"
    },
    {
     "data": {
      "text/plain": "<IPython.core.display.HTML object>",
      "text/html": "Find user logs for this run at: <code>D:\\Development\\FHNW\\ip5-metriken-bauwesen\\src\\weight_and_bias\\wandb\\run-20210813_110140-vnem785z\\logs\\debug.log</code>"
     },
     "metadata": {},
     "output_type": "display_data"
    },
    {
     "data": {
      "text/plain": "<IPython.core.display.HTML object>",
      "text/html": "Find internal logs for this run at: <code>D:\\Development\\FHNW\\ip5-metriken-bauwesen\\src\\weight_and_bias\\wandb\\run-20210813_110140-vnem785z\\logs\\debug-internal.log</code>"
     },
     "metadata": {},
     "output_type": "display_data"
    },
    {
     "data": {
      "text/plain": "<IPython.core.display.HTML object>",
      "text/html": "<h3>Run summary:</h3><br/><style>\n    table.wandb td:nth-child(1) { padding: 0 10px; text-align: right }\n    </style><table class=\"wandb\">\n<tr><td>r2</td><td>0.9087</td></tr><tr><td>_runtime</td><td>17</td></tr><tr><td>_timestamp</td><td>1628845317</td></tr><tr><td>_step</td><td>3</td></tr><tr><td>neg_mape</td><td>-0.16074</td></tr><tr><td>neg_mae</td><td>-530.47885</td></tr><tr><td>neg_rmse</td><td>-1128.04172</td></tr></table>"
     },
     "metadata": {},
     "output_type": "display_data"
    },
    {
     "data": {
      "text/plain": "<IPython.core.display.HTML object>",
      "text/html": "<h3>Run history:</h3><br/><style>\n    table.wandb td:nth-child(1) { padding: 0 10px; text-align: right }\n    </style><table class=\"wandb\">\n<tr><td>r2</td><td>▁</td></tr><tr><td>_runtime</td><td>▁▁▁▁</td></tr><tr><td>_timestamp</td><td>▁▁▁▁</td></tr><tr><td>_step</td><td>▁▃▆█</td></tr><tr><td>neg_mape</td><td>▁</td></tr><tr><td>neg_mae</td><td>▁</td></tr><tr><td>neg_rmse</td><td>▁</td></tr></table><br/>"
     },
     "metadata": {},
     "output_type": "display_data"
    },
    {
     "data": {
      "text/plain": "<IPython.core.display.HTML object>",
      "text/html": "Synced 4 W&B file(s), 0 media file(s), 0 artifact file(s) and 0 other file(s)"
     },
     "metadata": {},
     "output_type": "display_data"
    },
    {
     "data": {
      "text/plain": "<IPython.core.display.HTML object>",
      "text/html": "\n                    <br/>Synced <strong style=\"color:#cdcd00\">colorful-sweep-89</strong>: <a href=\"https://wandb.ai/devcore/Metriken%20Bauwesen%20Sweeps/runs/vnem785z\" target=\"_blank\">https://wandb.ai/devcore/Metriken%20Bauwesen%20Sweeps/runs/vnem785z</a><br/>\n                "
     },
     "metadata": {},
     "output_type": "display_data"
    },
    {
     "data": {
      "text/plain": "<IPython.core.display.HTML object>",
      "text/html": "\n                Tracking run with wandb version 0.11.0<br/>\n                Syncing run <strong style=\"color:#cdcd00\">splendid-sweep-90</strong> to <a href=\"https://wandb.ai\" target=\"_blank\">Weights & Biases</a> <a href=\"https://docs.wandb.com/integrations/jupyter.html\" target=\"_blank\">(Documentation)</a>.<br/>\n                Project page: <a href=\"https://wandb.ai/devcore/Metriken%20Bauwesen%20Sweeps\" target=\"_blank\">https://wandb.ai/devcore/Metriken%20Bauwesen%20Sweeps</a><br/>\n                Sweep page: <a href=\"https://wandb.ai/devcore/Metriken%20Bauwesen%20Sweeps/sweeps/aslqb1cw\" target=\"_blank\">https://wandb.ai/devcore/Metriken%20Bauwesen%20Sweeps/sweeps/aslqb1cw</a><br/>\nRun page: <a href=\"https://wandb.ai/devcore/Metriken%20Bauwesen%20Sweeps/runs/5f6l4gzu\" target=\"_blank\">https://wandb.ai/devcore/Metriken%20Bauwesen%20Sweeps/runs/5f6l4gzu</a><br/>\n                Run data is saved locally in <code>D:\\Development\\FHNW\\ip5-metriken-bauwesen\\src\\weight_and_bias\\wandb\\run-20210813_110200-5f6l4gzu</code><br/><br/>\n            "
     },
     "metadata": {},
     "output_type": "display_data"
    },
    {
     "data": {
      "text/plain": "<IPython.core.display.HTML object>",
      "text/html": "<br/>Waiting for W&B process to finish, PID 24768<br/>Program ended successfully."
     },
     "metadata": {},
     "output_type": "display_data"
    },
    {
     "data": {
      "text/plain": "VBox(children=(Label(value=' 0.00MB of 0.00MB uploaded (0.00MB deduped)\\r'), FloatProgress(value=1.0, max=1.0)…",
      "application/vnd.jupyter.widget-view+json": {
       "version_major": 2,
       "version_minor": 0,
       "model_id": "62b0b09979314402a38e83212bee8b22"
      }
     },
     "metadata": {},
     "output_type": "display_data"
    },
    {
     "data": {
      "text/plain": "<IPython.core.display.HTML object>",
      "text/html": "Find user logs for this run at: <code>D:\\Development\\FHNW\\ip5-metriken-bauwesen\\src\\weight_and_bias\\wandb\\run-20210813_110200-5f6l4gzu\\logs\\debug.log</code>"
     },
     "metadata": {},
     "output_type": "display_data"
    },
    {
     "data": {
      "text/plain": "<IPython.core.display.HTML object>",
      "text/html": "Find internal logs for this run at: <code>D:\\Development\\FHNW\\ip5-metriken-bauwesen\\src\\weight_and_bias\\wandb\\run-20210813_110200-5f6l4gzu\\logs\\debug-internal.log</code>"
     },
     "metadata": {},
     "output_type": "display_data"
    },
    {
     "data": {
      "text/plain": "<IPython.core.display.HTML object>",
      "text/html": "<h3>Run summary:</h3><br/><style>\n    table.wandb td:nth-child(1) { padding: 0 10px; text-align: right }\n    </style><table class=\"wandb\">\n<tr><td>r2</td><td>0.91053</td></tr><tr><td>_runtime</td><td>13</td></tr><tr><td>_timestamp</td><td>1628845333</td></tr><tr><td>_step</td><td>3</td></tr><tr><td>neg_mape</td><td>-0.16324</td></tr><tr><td>neg_mae</td><td>-531.02037</td></tr><tr><td>neg_rmse</td><td>-1129.95172</td></tr></table>"
     },
     "metadata": {},
     "output_type": "display_data"
    },
    {
     "data": {
      "text/plain": "<IPython.core.display.HTML object>",
      "text/html": "<h3>Run history:</h3><br/><style>\n    table.wandb td:nth-child(1) { padding: 0 10px; text-align: right }\n    </style><table class=\"wandb\">\n<tr><td>r2</td><td>▁</td></tr><tr><td>_runtime</td><td>▁▁▁▁</td></tr><tr><td>_timestamp</td><td>▁▁▁▁</td></tr><tr><td>_step</td><td>▁▃▆█</td></tr><tr><td>neg_mape</td><td>▁</td></tr><tr><td>neg_mae</td><td>▁</td></tr><tr><td>neg_rmse</td><td>▁</td></tr></table><br/>"
     },
     "metadata": {},
     "output_type": "display_data"
    },
    {
     "data": {
      "text/plain": "<IPython.core.display.HTML object>",
      "text/html": "Synced 4 W&B file(s), 0 media file(s), 0 artifact file(s) and 0 other file(s)"
     },
     "metadata": {},
     "output_type": "display_data"
    },
    {
     "data": {
      "text/plain": "<IPython.core.display.HTML object>",
      "text/html": "\n                    <br/>Synced <strong style=\"color:#cdcd00\">splendid-sweep-90</strong>: <a href=\"https://wandb.ai/devcore/Metriken%20Bauwesen%20Sweeps/runs/5f6l4gzu\" target=\"_blank\">https://wandb.ai/devcore/Metriken%20Bauwesen%20Sweeps/runs/5f6l4gzu</a><br/>\n                "
     },
     "metadata": {},
     "output_type": "display_data"
    },
    {
     "data": {
      "text/plain": "<IPython.core.display.HTML object>",
      "text/html": "\n                Tracking run with wandb version 0.11.0<br/>\n                Syncing run <strong style=\"color:#cdcd00\">misty-sweep-91</strong> to <a href=\"https://wandb.ai\" target=\"_blank\">Weights & Biases</a> <a href=\"https://docs.wandb.com/integrations/jupyter.html\" target=\"_blank\">(Documentation)</a>.<br/>\n                Project page: <a href=\"https://wandb.ai/devcore/Metriken%20Bauwesen%20Sweeps\" target=\"_blank\">https://wandb.ai/devcore/Metriken%20Bauwesen%20Sweeps</a><br/>\n                Sweep page: <a href=\"https://wandb.ai/devcore/Metriken%20Bauwesen%20Sweeps/sweeps/aslqb1cw\" target=\"_blank\">https://wandb.ai/devcore/Metriken%20Bauwesen%20Sweeps/sweeps/aslqb1cw</a><br/>\nRun page: <a href=\"https://wandb.ai/devcore/Metriken%20Bauwesen%20Sweeps/runs/lyfg16wv\" target=\"_blank\">https://wandb.ai/devcore/Metriken%20Bauwesen%20Sweeps/runs/lyfg16wv</a><br/>\n                Run data is saved locally in <code>D:\\Development\\FHNW\\ip5-metriken-bauwesen\\src\\weight_and_bias\\wandb\\run-20210813_110218-lyfg16wv</code><br/><br/>\n            "
     },
     "metadata": {},
     "output_type": "display_data"
    },
    {
     "data": {
      "text/plain": "<IPython.core.display.HTML object>",
      "text/html": "<br/>Waiting for W&B process to finish, PID 9012<br/>Program ended successfully."
     },
     "metadata": {},
     "output_type": "display_data"
    },
    {
     "data": {
      "text/plain": "VBox(children=(Label(value=' 0.00MB of 0.00MB uploaded (0.00MB deduped)\\r'), FloatProgress(value=1.0, max=1.0)…",
      "application/vnd.jupyter.widget-view+json": {
       "version_major": 2,
       "version_minor": 0,
       "model_id": "bd76d1bc3dce4bd5b1ae80363db311ce"
      }
     },
     "metadata": {},
     "output_type": "display_data"
    },
    {
     "data": {
      "text/plain": "<IPython.core.display.HTML object>",
      "text/html": "Find user logs for this run at: <code>D:\\Development\\FHNW\\ip5-metriken-bauwesen\\src\\weight_and_bias\\wandb\\run-20210813_110218-lyfg16wv\\logs\\debug.log</code>"
     },
     "metadata": {},
     "output_type": "display_data"
    },
    {
     "data": {
      "text/plain": "<IPython.core.display.HTML object>",
      "text/html": "Find internal logs for this run at: <code>D:\\Development\\FHNW\\ip5-metriken-bauwesen\\src\\weight_and_bias\\wandb\\run-20210813_110218-lyfg16wv\\logs\\debug-internal.log</code>"
     },
     "metadata": {},
     "output_type": "display_data"
    },
    {
     "data": {
      "text/plain": "<IPython.core.display.HTML object>",
      "text/html": "<h3>Run summary:</h3><br/><style>\n    table.wandb td:nth-child(1) { padding: 0 10px; text-align: right }\n    </style><table class=\"wandb\">\n<tr><td>r2</td><td>0.91582</td></tr><tr><td>_runtime</td><td>61</td></tr><tr><td>_timestamp</td><td>1628845399</td></tr><tr><td>_step</td><td>3</td></tr><tr><td>neg_mape</td><td>-0.16289</td></tr><tr><td>neg_mae</td><td>-515.22243</td></tr><tr><td>neg_rmse</td><td>-1080.19721</td></tr></table>"
     },
     "metadata": {},
     "output_type": "display_data"
    },
    {
     "data": {
      "text/plain": "<IPython.core.display.HTML object>",
      "text/html": "<h3>Run history:</h3><br/><style>\n    table.wandb td:nth-child(1) { padding: 0 10px; text-align: right }\n    </style><table class=\"wandb\">\n<tr><td>r2</td><td>▁</td></tr><tr><td>_runtime</td><td>▁▁▁▁</td></tr><tr><td>_timestamp</td><td>▁▁▁▁</td></tr><tr><td>_step</td><td>▁▃▆█</td></tr><tr><td>neg_mape</td><td>▁</td></tr><tr><td>neg_mae</td><td>▁</td></tr><tr><td>neg_rmse</td><td>▁</td></tr></table><br/>"
     },
     "metadata": {},
     "output_type": "display_data"
    },
    {
     "data": {
      "text/plain": "<IPython.core.display.HTML object>",
      "text/html": "Synced 4 W&B file(s), 0 media file(s), 0 artifact file(s) and 0 other file(s)"
     },
     "metadata": {},
     "output_type": "display_data"
    },
    {
     "data": {
      "text/plain": "<IPython.core.display.HTML object>",
      "text/html": "\n                    <br/>Synced <strong style=\"color:#cdcd00\">misty-sweep-91</strong>: <a href=\"https://wandb.ai/devcore/Metriken%20Bauwesen%20Sweeps/runs/lyfg16wv\" target=\"_blank\">https://wandb.ai/devcore/Metriken%20Bauwesen%20Sweeps/runs/lyfg16wv</a><br/>\n                "
     },
     "metadata": {},
     "output_type": "display_data"
    },
    {
     "data": {
      "text/plain": "<IPython.core.display.HTML object>",
      "text/html": "\n                Tracking run with wandb version 0.11.0<br/>\n                Syncing run <strong style=\"color:#cdcd00\">volcanic-sweep-92</strong> to <a href=\"https://wandb.ai\" target=\"_blank\">Weights & Biases</a> <a href=\"https://docs.wandb.com/integrations/jupyter.html\" target=\"_blank\">(Documentation)</a>.<br/>\n                Project page: <a href=\"https://wandb.ai/devcore/Metriken%20Bauwesen%20Sweeps\" target=\"_blank\">https://wandb.ai/devcore/Metriken%20Bauwesen%20Sweeps</a><br/>\n                Sweep page: <a href=\"https://wandb.ai/devcore/Metriken%20Bauwesen%20Sweeps/sweeps/aslqb1cw\" target=\"_blank\">https://wandb.ai/devcore/Metriken%20Bauwesen%20Sweeps/sweeps/aslqb1cw</a><br/>\nRun page: <a href=\"https://wandb.ai/devcore/Metriken%20Bauwesen%20Sweeps/runs/iwds1pgl\" target=\"_blank\">https://wandb.ai/devcore/Metriken%20Bauwesen%20Sweeps/runs/iwds1pgl</a><br/>\n                Run data is saved locally in <code>D:\\Development\\FHNW\\ip5-metriken-bauwesen\\src\\weight_and_bias\\wandb\\run-20210813_110323-iwds1pgl</code><br/><br/>\n            "
     },
     "metadata": {},
     "output_type": "display_data"
    },
    {
     "data": {
      "text/plain": "<IPython.core.display.HTML object>",
      "text/html": "<br/>Waiting for W&B process to finish, PID 23600<br/>Program ended successfully."
     },
     "metadata": {},
     "output_type": "display_data"
    },
    {
     "data": {
      "text/plain": "VBox(children=(Label(value=' 0.00MB of 0.00MB uploaded (0.00MB deduped)\\r'), FloatProgress(value=1.0, max=1.0)…",
      "application/vnd.jupyter.widget-view+json": {
       "version_major": 2,
       "version_minor": 0,
       "model_id": "f0866922360d4e81b72b2d1534d42c5a"
      }
     },
     "metadata": {},
     "output_type": "display_data"
    },
    {
     "data": {
      "text/plain": "<IPython.core.display.HTML object>",
      "text/html": "Find user logs for this run at: <code>D:\\Development\\FHNW\\ip5-metriken-bauwesen\\src\\weight_and_bias\\wandb\\run-20210813_110323-iwds1pgl\\logs\\debug.log</code>"
     },
     "metadata": {},
     "output_type": "display_data"
    },
    {
     "data": {
      "text/plain": "<IPython.core.display.HTML object>",
      "text/html": "Find internal logs for this run at: <code>D:\\Development\\FHNW\\ip5-metriken-bauwesen\\src\\weight_and_bias\\wandb\\run-20210813_110323-iwds1pgl\\logs\\debug-internal.log</code>"
     },
     "metadata": {},
     "output_type": "display_data"
    },
    {
     "data": {
      "text/plain": "<IPython.core.display.HTML object>",
      "text/html": "<h3>Run summary:</h3><br/><style>\n    table.wandb td:nth-child(1) { padding: 0 10px; text-align: right }\n    </style><table class=\"wandb\">\n<tr><td>r2</td><td>0.91371</td></tr><tr><td>_runtime</td><td>37</td></tr><tr><td>_timestamp</td><td>1628845440</td></tr><tr><td>_step</td><td>3</td></tr><tr><td>neg_mape</td><td>-0.15365</td></tr><tr><td>neg_mae</td><td>-520.37819</td></tr><tr><td>neg_rmse</td><td>-1110.29458</td></tr></table>"
     },
     "metadata": {},
     "output_type": "display_data"
    },
    {
     "data": {
      "text/plain": "<IPython.core.display.HTML object>",
      "text/html": "<h3>Run history:</h3><br/><style>\n    table.wandb td:nth-child(1) { padding: 0 10px; text-align: right }\n    </style><table class=\"wandb\">\n<tr><td>r2</td><td>▁</td></tr><tr><td>_runtime</td><td>▁▁▁▁</td></tr><tr><td>_timestamp</td><td>▁▁▁▁</td></tr><tr><td>_step</td><td>▁▃▆█</td></tr><tr><td>neg_mape</td><td>▁</td></tr><tr><td>neg_mae</td><td>▁</td></tr><tr><td>neg_rmse</td><td>▁</td></tr></table><br/>"
     },
     "metadata": {},
     "output_type": "display_data"
    },
    {
     "data": {
      "text/plain": "<IPython.core.display.HTML object>",
      "text/html": "Synced 4 W&B file(s), 0 media file(s), 0 artifact file(s) and 0 other file(s)"
     },
     "metadata": {},
     "output_type": "display_data"
    },
    {
     "data": {
      "text/plain": "<IPython.core.display.HTML object>",
      "text/html": "\n                    <br/>Synced <strong style=\"color:#cdcd00\">volcanic-sweep-92</strong>: <a href=\"https://wandb.ai/devcore/Metriken%20Bauwesen%20Sweeps/runs/iwds1pgl\" target=\"_blank\">https://wandb.ai/devcore/Metriken%20Bauwesen%20Sweeps/runs/iwds1pgl</a><br/>\n                "
     },
     "metadata": {},
     "output_type": "display_data"
    },
    {
     "data": {
      "text/plain": "<IPython.core.display.HTML object>",
      "text/html": "\n                Tracking run with wandb version 0.11.0<br/>\n                Syncing run <strong style=\"color:#cdcd00\">worldly-sweep-93</strong> to <a href=\"https://wandb.ai\" target=\"_blank\">Weights & Biases</a> <a href=\"https://docs.wandb.com/integrations/jupyter.html\" target=\"_blank\">(Documentation)</a>.<br/>\n                Project page: <a href=\"https://wandb.ai/devcore/Metriken%20Bauwesen%20Sweeps\" target=\"_blank\">https://wandb.ai/devcore/Metriken%20Bauwesen%20Sweeps</a><br/>\n                Sweep page: <a href=\"https://wandb.ai/devcore/Metriken%20Bauwesen%20Sweeps/sweeps/aslqb1cw\" target=\"_blank\">https://wandb.ai/devcore/Metriken%20Bauwesen%20Sweeps/sweeps/aslqb1cw</a><br/>\nRun page: <a href=\"https://wandb.ai/devcore/Metriken%20Bauwesen%20Sweeps/runs/vqc8n5xg\" target=\"_blank\">https://wandb.ai/devcore/Metriken%20Bauwesen%20Sweeps/runs/vqc8n5xg</a><br/>\n                Run data is saved locally in <code>D:\\Development\\FHNW\\ip5-metriken-bauwesen\\src\\weight_and_bias\\wandb\\run-20210813_110404-vqc8n5xg</code><br/><br/>\n            "
     },
     "metadata": {},
     "output_type": "display_data"
    },
    {
     "data": {
      "text/plain": "<IPython.core.display.HTML object>",
      "text/html": "<br/>Waiting for W&B process to finish, PID 25204<br/>Program ended successfully."
     },
     "metadata": {},
     "output_type": "display_data"
    },
    {
     "data": {
      "text/plain": "VBox(children=(Label(value=' 0.00MB of 0.00MB uploaded (0.00MB deduped)\\r'), FloatProgress(value=1.0, max=1.0)…",
      "application/vnd.jupyter.widget-view+json": {
       "version_major": 2,
       "version_minor": 0,
       "model_id": "5a2cb5d595b64ec19fc9da7ff31db84a"
      }
     },
     "metadata": {},
     "output_type": "display_data"
    },
    {
     "data": {
      "text/plain": "<IPython.core.display.HTML object>",
      "text/html": "Find user logs for this run at: <code>D:\\Development\\FHNW\\ip5-metriken-bauwesen\\src\\weight_and_bias\\wandb\\run-20210813_110404-vqc8n5xg\\logs\\debug.log</code>"
     },
     "metadata": {},
     "output_type": "display_data"
    },
    {
     "data": {
      "text/plain": "<IPython.core.display.HTML object>",
      "text/html": "Find internal logs for this run at: <code>D:\\Development\\FHNW\\ip5-metriken-bauwesen\\src\\weight_and_bias\\wandb\\run-20210813_110404-vqc8n5xg\\logs\\debug-internal.log</code>"
     },
     "metadata": {},
     "output_type": "display_data"
    },
    {
     "data": {
      "text/plain": "<IPython.core.display.HTML object>",
      "text/html": "<h3>Run summary:</h3><br/><style>\n    table.wandb td:nth-child(1) { padding: 0 10px; text-align: right }\n    </style><table class=\"wandb\">\n<tr><td>r2</td><td>0.90173</td></tr><tr><td>_runtime</td><td>81</td></tr><tr><td>_timestamp</td><td>1628845525</td></tr><tr><td>_step</td><td>3</td></tr><tr><td>neg_mape</td><td>-0.16374</td></tr><tr><td>neg_mae</td><td>-539.86768</td></tr><tr><td>neg_rmse</td><td>-1146.56468</td></tr></table>"
     },
     "metadata": {},
     "output_type": "display_data"
    },
    {
     "data": {
      "text/plain": "<IPython.core.display.HTML object>",
      "text/html": "<h3>Run history:</h3><br/><style>\n    table.wandb td:nth-child(1) { padding: 0 10px; text-align: right }\n    </style><table class=\"wandb\">\n<tr><td>r2</td><td>▁</td></tr><tr><td>_runtime</td><td>▁▁▁▁</td></tr><tr><td>_timestamp</td><td>▁▁▁▁</td></tr><tr><td>_step</td><td>▁▃▆█</td></tr><tr><td>neg_mape</td><td>▁</td></tr><tr><td>neg_mae</td><td>▁</td></tr><tr><td>neg_rmse</td><td>▁</td></tr></table><br/>"
     },
     "metadata": {},
     "output_type": "display_data"
    },
    {
     "data": {
      "text/plain": "<IPython.core.display.HTML object>",
      "text/html": "Synced 4 W&B file(s), 0 media file(s), 0 artifact file(s) and 0 other file(s)"
     },
     "metadata": {},
     "output_type": "display_data"
    },
    {
     "data": {
      "text/plain": "<IPython.core.display.HTML object>",
      "text/html": "\n                    <br/>Synced <strong style=\"color:#cdcd00\">worldly-sweep-93</strong>: <a href=\"https://wandb.ai/devcore/Metriken%20Bauwesen%20Sweeps/runs/vqc8n5xg\" target=\"_blank\">https://wandb.ai/devcore/Metriken%20Bauwesen%20Sweeps/runs/vqc8n5xg</a><br/>\n                "
     },
     "metadata": {},
     "output_type": "display_data"
    },
    {
     "data": {
      "text/plain": "<IPython.core.display.HTML object>",
      "text/html": "\n                Tracking run with wandb version 0.11.0<br/>\n                Syncing run <strong style=\"color:#cdcd00\">dry-sweep-94</strong> to <a href=\"https://wandb.ai\" target=\"_blank\">Weights & Biases</a> <a href=\"https://docs.wandb.com/integrations/jupyter.html\" target=\"_blank\">(Documentation)</a>.<br/>\n                Project page: <a href=\"https://wandb.ai/devcore/Metriken%20Bauwesen%20Sweeps\" target=\"_blank\">https://wandb.ai/devcore/Metriken%20Bauwesen%20Sweeps</a><br/>\n                Sweep page: <a href=\"https://wandb.ai/devcore/Metriken%20Bauwesen%20Sweeps/sweeps/aslqb1cw\" target=\"_blank\">https://wandb.ai/devcore/Metriken%20Bauwesen%20Sweeps/sweeps/aslqb1cw</a><br/>\nRun page: <a href=\"https://wandb.ai/devcore/Metriken%20Bauwesen%20Sweeps/runs/ob4m1loj\" target=\"_blank\">https://wandb.ai/devcore/Metriken%20Bauwesen%20Sweeps/runs/ob4m1loj</a><br/>\n                Run data is saved locally in <code>D:\\Development\\FHNW\\ip5-metriken-bauwesen\\src\\weight_and_bias\\wandb\\run-20210813_110529-ob4m1loj</code><br/><br/>\n            "
     },
     "metadata": {},
     "output_type": "display_data"
    },
    {
     "data": {
      "text/plain": "<IPython.core.display.HTML object>",
      "text/html": "<br/>Waiting for W&B process to finish, PID 15260<br/>Program ended successfully."
     },
     "metadata": {},
     "output_type": "display_data"
    },
    {
     "data": {
      "text/plain": "VBox(children=(Label(value=' 0.00MB of 0.00MB uploaded (0.00MB deduped)\\r'), FloatProgress(value=1.0, max=1.0)…",
      "application/vnd.jupyter.widget-view+json": {
       "version_major": 2,
       "version_minor": 0,
       "model_id": "498ed334f9674dcc84247bb14cb92756"
      }
     },
     "metadata": {},
     "output_type": "display_data"
    },
    {
     "data": {
      "text/plain": "<IPython.core.display.HTML object>",
      "text/html": "Find user logs for this run at: <code>D:\\Development\\FHNW\\ip5-metriken-bauwesen\\src\\weight_and_bias\\wandb\\run-20210813_110529-ob4m1loj\\logs\\debug.log</code>"
     },
     "metadata": {},
     "output_type": "display_data"
    },
    {
     "data": {
      "text/plain": "<IPython.core.display.HTML object>",
      "text/html": "Find internal logs for this run at: <code>D:\\Development\\FHNW\\ip5-metriken-bauwesen\\src\\weight_and_bias\\wandb\\run-20210813_110529-ob4m1loj\\logs\\debug-internal.log</code>"
     },
     "metadata": {},
     "output_type": "display_data"
    },
    {
     "data": {
      "text/plain": "<IPython.core.display.HTML object>",
      "text/html": "<h3>Run summary:</h3><br/><style>\n    table.wandb td:nth-child(1) { padding: 0 10px; text-align: right }\n    </style><table class=\"wandb\">\n<tr><td>r2</td><td>0.90543</td></tr><tr><td>_runtime</td><td>40</td></tr><tr><td>_timestamp</td><td>1628845569</td></tr><tr><td>_step</td><td>3</td></tr><tr><td>neg_mape</td><td>-0.16746</td></tr><tr><td>neg_mae</td><td>-554.78935</td></tr><tr><td>neg_rmse</td><td>-1152.36425</td></tr></table>"
     },
     "metadata": {},
     "output_type": "display_data"
    },
    {
     "data": {
      "text/plain": "<IPython.core.display.HTML object>",
      "text/html": "<h3>Run history:</h3><br/><style>\n    table.wandb td:nth-child(1) { padding: 0 10px; text-align: right }\n    </style><table class=\"wandb\">\n<tr><td>r2</td><td>▁</td></tr><tr><td>_runtime</td><td>▁▁▁▁</td></tr><tr><td>_timestamp</td><td>▁▁▁▁</td></tr><tr><td>_step</td><td>▁▃▆█</td></tr><tr><td>neg_mape</td><td>▁</td></tr><tr><td>neg_mae</td><td>▁</td></tr><tr><td>neg_rmse</td><td>▁</td></tr></table><br/>"
     },
     "metadata": {},
     "output_type": "display_data"
    },
    {
     "data": {
      "text/plain": "<IPython.core.display.HTML object>",
      "text/html": "Synced 4 W&B file(s), 0 media file(s), 0 artifact file(s) and 0 other file(s)"
     },
     "metadata": {},
     "output_type": "display_data"
    },
    {
     "data": {
      "text/plain": "<IPython.core.display.HTML object>",
      "text/html": "\n                    <br/>Synced <strong style=\"color:#cdcd00\">dry-sweep-94</strong>: <a href=\"https://wandb.ai/devcore/Metriken%20Bauwesen%20Sweeps/runs/ob4m1loj\" target=\"_blank\">https://wandb.ai/devcore/Metriken%20Bauwesen%20Sweeps/runs/ob4m1loj</a><br/>\n                "
     },
     "metadata": {},
     "output_type": "display_data"
    },
    {
     "data": {
      "text/plain": "<IPython.core.display.HTML object>",
      "text/html": "\n                Tracking run with wandb version 0.11.0<br/>\n                Syncing run <strong style=\"color:#cdcd00\">dauntless-sweep-95</strong> to <a href=\"https://wandb.ai\" target=\"_blank\">Weights & Biases</a> <a href=\"https://docs.wandb.com/integrations/jupyter.html\" target=\"_blank\">(Documentation)</a>.<br/>\n                Project page: <a href=\"https://wandb.ai/devcore/Metriken%20Bauwesen%20Sweeps\" target=\"_blank\">https://wandb.ai/devcore/Metriken%20Bauwesen%20Sweeps</a><br/>\n                Sweep page: <a href=\"https://wandb.ai/devcore/Metriken%20Bauwesen%20Sweeps/sweeps/aslqb1cw\" target=\"_blank\">https://wandb.ai/devcore/Metriken%20Bauwesen%20Sweeps/sweeps/aslqb1cw</a><br/>\nRun page: <a href=\"https://wandb.ai/devcore/Metriken%20Bauwesen%20Sweeps/runs/aq452j94\" target=\"_blank\">https://wandb.ai/devcore/Metriken%20Bauwesen%20Sweeps/runs/aq452j94</a><br/>\n                Run data is saved locally in <code>D:\\Development\\FHNW\\ip5-metriken-bauwesen\\src\\weight_and_bias\\wandb\\run-20210813_110614-aq452j94</code><br/><br/>\n            "
     },
     "metadata": {},
     "output_type": "display_data"
    },
    {
     "data": {
      "text/plain": "<IPython.core.display.HTML object>",
      "text/html": "<br/>Waiting for W&B process to finish, PID 22360<br/>Program ended successfully."
     },
     "metadata": {},
     "output_type": "display_data"
    },
    {
     "data": {
      "text/plain": "VBox(children=(Label(value=' 0.00MB of 0.00MB uploaded (0.00MB deduped)\\r'), FloatProgress(value=1.0, max=1.0)…",
      "application/vnd.jupyter.widget-view+json": {
       "version_major": 2,
       "version_minor": 0,
       "model_id": "e3f21c49ba064b759a2ba18b80a73862"
      }
     },
     "metadata": {},
     "output_type": "display_data"
    },
    {
     "data": {
      "text/plain": "<IPython.core.display.HTML object>",
      "text/html": "Find user logs for this run at: <code>D:\\Development\\FHNW\\ip5-metriken-bauwesen\\src\\weight_and_bias\\wandb\\run-20210813_110614-aq452j94\\logs\\debug.log</code>"
     },
     "metadata": {},
     "output_type": "display_data"
    },
    {
     "data": {
      "text/plain": "<IPython.core.display.HTML object>",
      "text/html": "Find internal logs for this run at: <code>D:\\Development\\FHNW\\ip5-metriken-bauwesen\\src\\weight_and_bias\\wandb\\run-20210813_110614-aq452j94\\logs\\debug-internal.log</code>"
     },
     "metadata": {},
     "output_type": "display_data"
    },
    {
     "data": {
      "text/plain": "<IPython.core.display.HTML object>",
      "text/html": "<h3>Run summary:</h3><br/><style>\n    table.wandb td:nth-child(1) { padding: 0 10px; text-align: right }\n    </style><table class=\"wandb\">\n<tr><td>r2</td><td>0.90568</td></tr><tr><td>_runtime</td><td>37</td></tr><tr><td>_timestamp</td><td>1628845611</td></tr><tr><td>_step</td><td>3</td></tr><tr><td>neg_mape</td><td>-0.15576</td></tr><tr><td>neg_mae</td><td>-529.45458</td></tr><tr><td>neg_rmse</td><td>-1154.33596</td></tr></table>"
     },
     "metadata": {},
     "output_type": "display_data"
    },
    {
     "data": {
      "text/plain": "<IPython.core.display.HTML object>",
      "text/html": "<h3>Run history:</h3><br/><style>\n    table.wandb td:nth-child(1) { padding: 0 10px; text-align: right }\n    </style><table class=\"wandb\">\n<tr><td>r2</td><td>▁</td></tr><tr><td>_runtime</td><td>▁▁▁▁</td></tr><tr><td>_timestamp</td><td>▁▁▁▁</td></tr><tr><td>_step</td><td>▁▃▆█</td></tr><tr><td>neg_mape</td><td>▁</td></tr><tr><td>neg_mae</td><td>▁</td></tr><tr><td>neg_rmse</td><td>▁</td></tr></table><br/>"
     },
     "metadata": {},
     "output_type": "display_data"
    },
    {
     "data": {
      "text/plain": "<IPython.core.display.HTML object>",
      "text/html": "Synced 4 W&B file(s), 0 media file(s), 0 artifact file(s) and 0 other file(s)"
     },
     "metadata": {},
     "output_type": "display_data"
    },
    {
     "data": {
      "text/plain": "<IPython.core.display.HTML object>",
      "text/html": "\n                    <br/>Synced <strong style=\"color:#cdcd00\">dauntless-sweep-95</strong>: <a href=\"https://wandb.ai/devcore/Metriken%20Bauwesen%20Sweeps/runs/aq452j94\" target=\"_blank\">https://wandb.ai/devcore/Metriken%20Bauwesen%20Sweeps/runs/aq452j94</a><br/>\n                "
     },
     "metadata": {},
     "output_type": "display_data"
    },
    {
     "data": {
      "text/plain": "<IPython.core.display.HTML object>",
      "text/html": "\n                Tracking run with wandb version 0.11.0<br/>\n                Syncing run <strong style=\"color:#cdcd00\">pleasant-sweep-96</strong> to <a href=\"https://wandb.ai\" target=\"_blank\">Weights & Biases</a> <a href=\"https://docs.wandb.com/integrations/jupyter.html\" target=\"_blank\">(Documentation)</a>.<br/>\n                Project page: <a href=\"https://wandb.ai/devcore/Metriken%20Bauwesen%20Sweeps\" target=\"_blank\">https://wandb.ai/devcore/Metriken%20Bauwesen%20Sweeps</a><br/>\n                Sweep page: <a href=\"https://wandb.ai/devcore/Metriken%20Bauwesen%20Sweeps/sweeps/aslqb1cw\" target=\"_blank\">https://wandb.ai/devcore/Metriken%20Bauwesen%20Sweeps/sweeps/aslqb1cw</a><br/>\nRun page: <a href=\"https://wandb.ai/devcore/Metriken%20Bauwesen%20Sweeps/runs/y9vbhzvx\" target=\"_blank\">https://wandb.ai/devcore/Metriken%20Bauwesen%20Sweeps/runs/y9vbhzvx</a><br/>\n                Run data is saved locally in <code>D:\\Development\\FHNW\\ip5-metriken-bauwesen\\src\\weight_and_bias\\wandb\\run-20210813_110654-y9vbhzvx</code><br/><br/>\n            "
     },
     "metadata": {},
     "output_type": "display_data"
    },
    {
     "data": {
      "text/plain": "<IPython.core.display.HTML object>",
      "text/html": "<br/>Waiting for W&B process to finish, PID 26408<br/>Program ended successfully."
     },
     "metadata": {},
     "output_type": "display_data"
    },
    {
     "data": {
      "text/plain": "VBox(children=(Label(value=' 0.00MB of 0.00MB uploaded (0.00MB deduped)\\r'), FloatProgress(value=1.0, max=1.0)…",
      "application/vnd.jupyter.widget-view+json": {
       "version_major": 2,
       "version_minor": 0,
       "model_id": "1c9452bb03c842cebde7dd11ad829219"
      }
     },
     "metadata": {},
     "output_type": "display_data"
    },
    {
     "data": {
      "text/plain": "<IPython.core.display.HTML object>",
      "text/html": "Find user logs for this run at: <code>D:\\Development\\FHNW\\ip5-metriken-bauwesen\\src\\weight_and_bias\\wandb\\run-20210813_110654-y9vbhzvx\\logs\\debug.log</code>"
     },
     "metadata": {},
     "output_type": "display_data"
    },
    {
     "data": {
      "text/plain": "<IPython.core.display.HTML object>",
      "text/html": "Find internal logs for this run at: <code>D:\\Development\\FHNW\\ip5-metriken-bauwesen\\src\\weight_and_bias\\wandb\\run-20210813_110654-y9vbhzvx\\logs\\debug-internal.log</code>"
     },
     "metadata": {},
     "output_type": "display_data"
    },
    {
     "data": {
      "text/plain": "<IPython.core.display.HTML object>",
      "text/html": "<h3>Run summary:</h3><br/><style>\n    table.wandb td:nth-child(1) { padding: 0 10px; text-align: right }\n    </style><table class=\"wandb\">\n<tr><td>r2</td><td>0.91735</td></tr><tr><td>_runtime</td><td>9</td></tr><tr><td>_timestamp</td><td>1628845623</td></tr><tr><td>_step</td><td>3</td></tr><tr><td>neg_mape</td><td>-0.16064</td></tr><tr><td>neg_mae</td><td>-514.52679</td></tr><tr><td>neg_rmse</td><td>-1093.65048</td></tr></table>"
     },
     "metadata": {},
     "output_type": "display_data"
    },
    {
     "data": {
      "text/plain": "<IPython.core.display.HTML object>",
      "text/html": "<h3>Run history:</h3><br/><style>\n    table.wandb td:nth-child(1) { padding: 0 10px; text-align: right }\n    </style><table class=\"wandb\">\n<tr><td>r2</td><td>▁</td></tr><tr><td>_runtime</td><td>▁▁▁▁</td></tr><tr><td>_timestamp</td><td>▁▁▁▁</td></tr><tr><td>_step</td><td>▁▃▆█</td></tr><tr><td>neg_mape</td><td>▁</td></tr><tr><td>neg_mae</td><td>▁</td></tr><tr><td>neg_rmse</td><td>▁</td></tr></table><br/>"
     },
     "metadata": {},
     "output_type": "display_data"
    },
    {
     "data": {
      "text/plain": "<IPython.core.display.HTML object>",
      "text/html": "Synced 4 W&B file(s), 0 media file(s), 0 artifact file(s) and 0 other file(s)"
     },
     "metadata": {},
     "output_type": "display_data"
    },
    {
     "data": {
      "text/plain": "<IPython.core.display.HTML object>",
      "text/html": "\n                    <br/>Synced <strong style=\"color:#cdcd00\">pleasant-sweep-96</strong>: <a href=\"https://wandb.ai/devcore/Metriken%20Bauwesen%20Sweeps/runs/y9vbhzvx\" target=\"_blank\">https://wandb.ai/devcore/Metriken%20Bauwesen%20Sweeps/runs/y9vbhzvx</a><br/>\n                "
     },
     "metadata": {},
     "output_type": "display_data"
    },
    {
     "data": {
      "text/plain": "<IPython.core.display.HTML object>",
      "text/html": "\n                Tracking run with wandb version 0.11.0<br/>\n                Syncing run <strong style=\"color:#cdcd00\">helpful-sweep-97</strong> to <a href=\"https://wandb.ai\" target=\"_blank\">Weights & Biases</a> <a href=\"https://docs.wandb.com/integrations/jupyter.html\" target=\"_blank\">(Documentation)</a>.<br/>\n                Project page: <a href=\"https://wandb.ai/devcore/Metriken%20Bauwesen%20Sweeps\" target=\"_blank\">https://wandb.ai/devcore/Metriken%20Bauwesen%20Sweeps</a><br/>\n                Sweep page: <a href=\"https://wandb.ai/devcore/Metriken%20Bauwesen%20Sweeps/sweeps/aslqb1cw\" target=\"_blank\">https://wandb.ai/devcore/Metriken%20Bauwesen%20Sweeps/sweeps/aslqb1cw</a><br/>\nRun page: <a href=\"https://wandb.ai/devcore/Metriken%20Bauwesen%20Sweeps/runs/iowbkteu\" target=\"_blank\">https://wandb.ai/devcore/Metriken%20Bauwesen%20Sweeps/runs/iowbkteu</a><br/>\n                Run data is saved locally in <code>D:\\Development\\FHNW\\ip5-metriken-bauwesen\\src\\weight_and_bias\\wandb\\run-20210813_110708-iowbkteu</code><br/><br/>\n            "
     },
     "metadata": {},
     "output_type": "display_data"
    },
    {
     "data": {
      "text/plain": "<IPython.core.display.HTML object>",
      "text/html": "<br/>Waiting for W&B process to finish, PID 25992<br/>Program ended successfully."
     },
     "metadata": {},
     "output_type": "display_data"
    },
    {
     "data": {
      "text/plain": "VBox(children=(Label(value=' 0.00MB of 0.00MB uploaded (0.00MB deduped)\\r'), FloatProgress(value=1.0, max=1.0)…",
      "application/vnd.jupyter.widget-view+json": {
       "version_major": 2,
       "version_minor": 0,
       "model_id": "82324309c4584d019974a6bdc8f6bb01"
      }
     },
     "metadata": {},
     "output_type": "display_data"
    },
    {
     "data": {
      "text/plain": "<IPython.core.display.HTML object>",
      "text/html": "Find user logs for this run at: <code>D:\\Development\\FHNW\\ip5-metriken-bauwesen\\src\\weight_and_bias\\wandb\\run-20210813_110708-iowbkteu\\logs\\debug.log</code>"
     },
     "metadata": {},
     "output_type": "display_data"
    },
    {
     "data": {
      "text/plain": "<IPython.core.display.HTML object>",
      "text/html": "Find internal logs for this run at: <code>D:\\Development\\FHNW\\ip5-metriken-bauwesen\\src\\weight_and_bias\\wandb\\run-20210813_110708-iowbkteu\\logs\\debug-internal.log</code>"
     },
     "metadata": {},
     "output_type": "display_data"
    },
    {
     "data": {
      "text/plain": "<IPython.core.display.HTML object>",
      "text/html": "<h3>Run summary:</h3><br/><style>\n    table.wandb td:nth-child(1) { padding: 0 10px; text-align: right }\n    </style><table class=\"wandb\">\n<tr><td>r2</td><td>0.89209</td></tr><tr><td>_runtime</td><td>26</td></tr><tr><td>_timestamp</td><td>1628845654</td></tr><tr><td>_step</td><td>3</td></tr><tr><td>neg_mape</td><td>-0.16574</td></tr><tr><td>neg_mae</td><td>-562.30136</td></tr><tr><td>neg_rmse</td><td>-1199.23199</td></tr></table>"
     },
     "metadata": {},
     "output_type": "display_data"
    },
    {
     "data": {
      "text/plain": "<IPython.core.display.HTML object>",
      "text/html": "<h3>Run history:</h3><br/><style>\n    table.wandb td:nth-child(1) { padding: 0 10px; text-align: right }\n    </style><table class=\"wandb\">\n<tr><td>r2</td><td>▁</td></tr><tr><td>_runtime</td><td>▁▁▁▁</td></tr><tr><td>_timestamp</td><td>▁▁▁▁</td></tr><tr><td>_step</td><td>▁▃▆█</td></tr><tr><td>neg_mape</td><td>▁</td></tr><tr><td>neg_mae</td><td>▁</td></tr><tr><td>neg_rmse</td><td>▁</td></tr></table><br/>"
     },
     "metadata": {},
     "output_type": "display_data"
    },
    {
     "data": {
      "text/plain": "<IPython.core.display.HTML object>",
      "text/html": "Synced 4 W&B file(s), 0 media file(s), 0 artifact file(s) and 0 other file(s)"
     },
     "metadata": {},
     "output_type": "display_data"
    },
    {
     "data": {
      "text/plain": "<IPython.core.display.HTML object>",
      "text/html": "\n                    <br/>Synced <strong style=\"color:#cdcd00\">helpful-sweep-97</strong>: <a href=\"https://wandb.ai/devcore/Metriken%20Bauwesen%20Sweeps/runs/iowbkteu\" target=\"_blank\">https://wandb.ai/devcore/Metriken%20Bauwesen%20Sweeps/runs/iowbkteu</a><br/>\n                "
     },
     "metadata": {},
     "output_type": "display_data"
    },
    {
     "data": {
      "text/plain": "<IPython.core.display.HTML object>",
      "text/html": "\n                Tracking run with wandb version 0.11.0<br/>\n                Syncing run <strong style=\"color:#cdcd00\">gentle-sweep-98</strong> to <a href=\"https://wandb.ai\" target=\"_blank\">Weights & Biases</a> <a href=\"https://docs.wandb.com/integrations/jupyter.html\" target=\"_blank\">(Documentation)</a>.<br/>\n                Project page: <a href=\"https://wandb.ai/devcore/Metriken%20Bauwesen%20Sweeps\" target=\"_blank\">https://wandb.ai/devcore/Metriken%20Bauwesen%20Sweeps</a><br/>\n                Sweep page: <a href=\"https://wandb.ai/devcore/Metriken%20Bauwesen%20Sweeps/sweeps/aslqb1cw\" target=\"_blank\">https://wandb.ai/devcore/Metriken%20Bauwesen%20Sweeps/sweeps/aslqb1cw</a><br/>\nRun page: <a href=\"https://wandb.ai/devcore/Metriken%20Bauwesen%20Sweeps/runs/f5gwjpzq\" target=\"_blank\">https://wandb.ai/devcore/Metriken%20Bauwesen%20Sweeps/runs/f5gwjpzq</a><br/>\n                Run data is saved locally in <code>D:\\Development\\FHNW\\ip5-metriken-bauwesen\\src\\weight_and_bias\\wandb\\run-20210813_110739-f5gwjpzq</code><br/><br/>\n            "
     },
     "metadata": {},
     "output_type": "display_data"
    },
    {
     "data": {
      "text/plain": "<IPython.core.display.HTML object>",
      "text/html": "<br/>Waiting for W&B process to finish, PID 20732<br/>Program ended successfully."
     },
     "metadata": {},
     "output_type": "display_data"
    },
    {
     "data": {
      "text/plain": "VBox(children=(Label(value=' 0.00MB of 0.00MB uploaded (0.00MB deduped)\\r'), FloatProgress(value=1.0, max=1.0)…",
      "application/vnd.jupyter.widget-view+json": {
       "version_major": 2,
       "version_minor": 0,
       "model_id": "35f2da4087744947857aac3103155127"
      }
     },
     "metadata": {},
     "output_type": "display_data"
    },
    {
     "data": {
      "text/plain": "<IPython.core.display.HTML object>",
      "text/html": "Find user logs for this run at: <code>D:\\Development\\FHNW\\ip5-metriken-bauwesen\\src\\weight_and_bias\\wandb\\run-20210813_110739-f5gwjpzq\\logs\\debug.log</code>"
     },
     "metadata": {},
     "output_type": "display_data"
    },
    {
     "data": {
      "text/plain": "<IPython.core.display.HTML object>",
      "text/html": "Find internal logs for this run at: <code>D:\\Development\\FHNW\\ip5-metriken-bauwesen\\src\\weight_and_bias\\wandb\\run-20210813_110739-f5gwjpzq\\logs\\debug-internal.log</code>"
     },
     "metadata": {},
     "output_type": "display_data"
    },
    {
     "data": {
      "text/plain": "<IPython.core.display.HTML object>",
      "text/html": "<h3>Run summary:</h3><br/><style>\n    table.wandb td:nth-child(1) { padding: 0 10px; text-align: right }\n    </style><table class=\"wandb\">\n<tr><td>r2</td><td>0.90202</td></tr><tr><td>_runtime</td><td>52</td></tr><tr><td>_timestamp</td><td>1628845711</td></tr><tr><td>_step</td><td>3</td></tr><tr><td>neg_mape</td><td>-0.16916</td></tr><tr><td>neg_mae</td><td>-550.87614</td></tr><tr><td>neg_rmse</td><td>-1169.00792</td></tr></table>"
     },
     "metadata": {},
     "output_type": "display_data"
    },
    {
     "data": {
      "text/plain": "<IPython.core.display.HTML object>",
      "text/html": "<h3>Run history:</h3><br/><style>\n    table.wandb td:nth-child(1) { padding: 0 10px; text-align: right }\n    </style><table class=\"wandb\">\n<tr><td>r2</td><td>▁</td></tr><tr><td>_runtime</td><td>▁▁▁▁</td></tr><tr><td>_timestamp</td><td>▁▁▁▁</td></tr><tr><td>_step</td><td>▁▃▆█</td></tr><tr><td>neg_mape</td><td>▁</td></tr><tr><td>neg_mae</td><td>▁</td></tr><tr><td>neg_rmse</td><td>▁</td></tr></table><br/>"
     },
     "metadata": {},
     "output_type": "display_data"
    },
    {
     "data": {
      "text/plain": "<IPython.core.display.HTML object>",
      "text/html": "Synced 4 W&B file(s), 0 media file(s), 0 artifact file(s) and 0 other file(s)"
     },
     "metadata": {},
     "output_type": "display_data"
    },
    {
     "data": {
      "text/plain": "<IPython.core.display.HTML object>",
      "text/html": "\n                    <br/>Synced <strong style=\"color:#cdcd00\">gentle-sweep-98</strong>: <a href=\"https://wandb.ai/devcore/Metriken%20Bauwesen%20Sweeps/runs/f5gwjpzq\" target=\"_blank\">https://wandb.ai/devcore/Metriken%20Bauwesen%20Sweeps/runs/f5gwjpzq</a><br/>\n                "
     },
     "metadata": {},
     "output_type": "display_data"
    },
    {
     "data": {
      "text/plain": "<IPython.core.display.HTML object>",
      "text/html": "\n                Tracking run with wandb version 0.11.0<br/>\n                Syncing run <strong style=\"color:#cdcd00\">usual-sweep-99</strong> to <a href=\"https://wandb.ai\" target=\"_blank\">Weights & Biases</a> <a href=\"https://docs.wandb.com/integrations/jupyter.html\" target=\"_blank\">(Documentation)</a>.<br/>\n                Project page: <a href=\"https://wandb.ai/devcore/Metriken%20Bauwesen%20Sweeps\" target=\"_blank\">https://wandb.ai/devcore/Metriken%20Bauwesen%20Sweeps</a><br/>\n                Sweep page: <a href=\"https://wandb.ai/devcore/Metriken%20Bauwesen%20Sweeps/sweeps/aslqb1cw\" target=\"_blank\">https://wandb.ai/devcore/Metriken%20Bauwesen%20Sweeps/sweeps/aslqb1cw</a><br/>\nRun page: <a href=\"https://wandb.ai/devcore/Metriken%20Bauwesen%20Sweeps/runs/nmth894b\" target=\"_blank\">https://wandb.ai/devcore/Metriken%20Bauwesen%20Sweeps/runs/nmth894b</a><br/>\n                Run data is saved locally in <code>D:\\Development\\FHNW\\ip5-metriken-bauwesen\\src\\weight_and_bias\\wandb\\run-20210813_110836-nmth894b</code><br/><br/>\n            "
     },
     "metadata": {},
     "output_type": "display_data"
    },
    {
     "data": {
      "text/plain": "<IPython.core.display.HTML object>",
      "text/html": "<br/>Waiting for W&B process to finish, PID 24744<br/>Program ended successfully."
     },
     "metadata": {},
     "output_type": "display_data"
    },
    {
     "data": {
      "text/plain": "VBox(children=(Label(value=' 0.00MB of 0.00MB uploaded (0.00MB deduped)\\r'), FloatProgress(value=1.0, max=1.0)…",
      "application/vnd.jupyter.widget-view+json": {
       "version_major": 2,
       "version_minor": 0,
       "model_id": "78130b020c38461b952fd9c93dc2e09b"
      }
     },
     "metadata": {},
     "output_type": "display_data"
    },
    {
     "data": {
      "text/plain": "<IPython.core.display.HTML object>",
      "text/html": "Find user logs for this run at: <code>D:\\Development\\FHNW\\ip5-metriken-bauwesen\\src\\weight_and_bias\\wandb\\run-20210813_110836-nmth894b\\logs\\debug.log</code>"
     },
     "metadata": {},
     "output_type": "display_data"
    },
    {
     "data": {
      "text/plain": "<IPython.core.display.HTML object>",
      "text/html": "Find internal logs for this run at: <code>D:\\Development\\FHNW\\ip5-metriken-bauwesen\\src\\weight_and_bias\\wandb\\run-20210813_110836-nmth894b\\logs\\debug-internal.log</code>"
     },
     "metadata": {},
     "output_type": "display_data"
    },
    {
     "data": {
      "text/plain": "<IPython.core.display.HTML object>",
      "text/html": "<h3>Run summary:</h3><br/><style>\n    table.wandb td:nth-child(1) { padding: 0 10px; text-align: right }\n    </style><table class=\"wandb\">\n<tr><td>r2</td><td>0.92076</td></tr><tr><td>_runtime</td><td>23</td></tr><tr><td>_timestamp</td><td>1628845739</td></tr><tr><td>_step</td><td>3</td></tr><tr><td>neg_mape</td><td>-0.16004</td></tr><tr><td>neg_mae</td><td>-511.43942</td></tr><tr><td>neg_rmse</td><td>-1054.59963</td></tr></table>"
     },
     "metadata": {},
     "output_type": "display_data"
    },
    {
     "data": {
      "text/plain": "<IPython.core.display.HTML object>",
      "text/html": "<h3>Run history:</h3><br/><style>\n    table.wandb td:nth-child(1) { padding: 0 10px; text-align: right }\n    </style><table class=\"wandb\">\n<tr><td>r2</td><td>▁</td></tr><tr><td>_runtime</td><td>▁▁▁▁</td></tr><tr><td>_timestamp</td><td>▁▁▁▁</td></tr><tr><td>_step</td><td>▁▃▆█</td></tr><tr><td>neg_mape</td><td>▁</td></tr><tr><td>neg_mae</td><td>▁</td></tr><tr><td>neg_rmse</td><td>▁</td></tr></table><br/>"
     },
     "metadata": {},
     "output_type": "display_data"
    },
    {
     "data": {
      "text/plain": "<IPython.core.display.HTML object>",
      "text/html": "Synced 4 W&B file(s), 0 media file(s), 0 artifact file(s) and 0 other file(s)"
     },
     "metadata": {},
     "output_type": "display_data"
    },
    {
     "data": {
      "text/plain": "<IPython.core.display.HTML object>",
      "text/html": "\n                    <br/>Synced <strong style=\"color:#cdcd00\">usual-sweep-99</strong>: <a href=\"https://wandb.ai/devcore/Metriken%20Bauwesen%20Sweeps/runs/nmth894b\" target=\"_blank\">https://wandb.ai/devcore/Metriken%20Bauwesen%20Sweeps/runs/nmth894b</a><br/>\n                "
     },
     "metadata": {},
     "output_type": "display_data"
    },
    {
     "data": {
      "text/plain": "<IPython.core.display.HTML object>",
      "text/html": "\n                Tracking run with wandb version 0.11.0<br/>\n                Syncing run <strong style=\"color:#cdcd00\">autumn-sweep-100</strong> to <a href=\"https://wandb.ai\" target=\"_blank\">Weights & Biases</a> <a href=\"https://docs.wandb.com/integrations/jupyter.html\" target=\"_blank\">(Documentation)</a>.<br/>\n                Project page: <a href=\"https://wandb.ai/devcore/Metriken%20Bauwesen%20Sweeps\" target=\"_blank\">https://wandb.ai/devcore/Metriken%20Bauwesen%20Sweeps</a><br/>\n                Sweep page: <a href=\"https://wandb.ai/devcore/Metriken%20Bauwesen%20Sweeps/sweeps/aslqb1cw\" target=\"_blank\">https://wandb.ai/devcore/Metriken%20Bauwesen%20Sweeps/sweeps/aslqb1cw</a><br/>\nRun page: <a href=\"https://wandb.ai/devcore/Metriken%20Bauwesen%20Sweeps/runs/u6p0g3iq\" target=\"_blank\">https://wandb.ai/devcore/Metriken%20Bauwesen%20Sweeps/runs/u6p0g3iq</a><br/>\n                Run data is saved locally in <code>D:\\Development\\FHNW\\ip5-metriken-bauwesen\\src\\weight_and_bias\\wandb\\run-20210813_110904-u6p0g3iq</code><br/><br/>\n            "
     },
     "metadata": {},
     "output_type": "display_data"
    },
    {
     "data": {
      "text/plain": "<IPython.core.display.HTML object>",
      "text/html": "<br/>Waiting for W&B process to finish, PID 23208<br/>Program ended successfully."
     },
     "metadata": {},
     "output_type": "display_data"
    },
    {
     "data": {
      "text/plain": "VBox(children=(Label(value=' 0.00MB of 0.00MB uploaded (0.00MB deduped)\\r'), FloatProgress(value=1.0, max=1.0)…",
      "application/vnd.jupyter.widget-view+json": {
       "version_major": 2,
       "version_minor": 0,
       "model_id": "779ebb843b6f42b28cbe9e5a78d7893c"
      }
     },
     "metadata": {},
     "output_type": "display_data"
    },
    {
     "data": {
      "text/plain": "<IPython.core.display.HTML object>",
      "text/html": "Find user logs for this run at: <code>D:\\Development\\FHNW\\ip5-metriken-bauwesen\\src\\weight_and_bias\\wandb\\run-20210813_110904-u6p0g3iq\\logs\\debug.log</code>"
     },
     "metadata": {},
     "output_type": "display_data"
    },
    {
     "data": {
      "text/plain": "<IPython.core.display.HTML object>",
      "text/html": "Find internal logs for this run at: <code>D:\\Development\\FHNW\\ip5-metriken-bauwesen\\src\\weight_and_bias\\wandb\\run-20210813_110904-u6p0g3iq\\logs\\debug-internal.log</code>"
     },
     "metadata": {},
     "output_type": "display_data"
    },
    {
     "data": {
      "text/plain": "<IPython.core.display.HTML object>",
      "text/html": "<h3>Run summary:</h3><br/><style>\n    table.wandb td:nth-child(1) { padding: 0 10px; text-align: right }\n    </style><table class=\"wandb\">\n<tr><td>r2</td><td>0.89319</td></tr><tr><td>_runtime</td><td>52</td></tr><tr><td>_timestamp</td><td>1628845796</td></tr><tr><td>_step</td><td>3</td></tr><tr><td>neg_mape</td><td>-0.17198</td></tr><tr><td>neg_mae</td><td>-560.9228</td></tr><tr><td>neg_rmse</td><td>-1206.57071</td></tr></table>"
     },
     "metadata": {},
     "output_type": "display_data"
    },
    {
     "data": {
      "text/plain": "<IPython.core.display.HTML object>",
      "text/html": "<h3>Run history:</h3><br/><style>\n    table.wandb td:nth-child(1) { padding: 0 10px; text-align: right }\n    </style><table class=\"wandb\">\n<tr><td>r2</td><td>▁</td></tr><tr><td>_runtime</td><td>▁▁▁▁</td></tr><tr><td>_timestamp</td><td>▁▁▁▁</td></tr><tr><td>_step</td><td>▁▃▆█</td></tr><tr><td>neg_mape</td><td>▁</td></tr><tr><td>neg_mae</td><td>▁</td></tr><tr><td>neg_rmse</td><td>▁</td></tr></table><br/>"
     },
     "metadata": {},
     "output_type": "display_data"
    },
    {
     "data": {
      "text/plain": "<IPython.core.display.HTML object>",
      "text/html": "Synced 4 W&B file(s), 0 media file(s), 0 artifact file(s) and 0 other file(s)"
     },
     "metadata": {},
     "output_type": "display_data"
    },
    {
     "data": {
      "text/plain": "<IPython.core.display.HTML object>",
      "text/html": "\n                    <br/>Synced <strong style=\"color:#cdcd00\">autumn-sweep-100</strong>: <a href=\"https://wandb.ai/devcore/Metriken%20Bauwesen%20Sweeps/runs/u6p0g3iq\" target=\"_blank\">https://wandb.ai/devcore/Metriken%20Bauwesen%20Sweeps/runs/u6p0g3iq</a><br/>\n                "
     },
     "metadata": {},
     "output_type": "display_data"
    }
   ],
   "source": [
    "from sklearn.ensemble import GradientBoostingRegressor\n",
    "from sklearn.model_selection import cross_validate, RepeatedKFold\n",
    "\n",
    "import src.package.consts as c\n",
    "import src.package.importer as im\n",
    "import src.package.ml_helper as ml_helper\n",
    "import src.package.importer_usages as imp_usg\n",
    "from numpy import mean\n",
    "\n",
    "# load dataset\n",
    "df = im.get_extended_dataset('../package/datasets/train_set.csv')\n",
    "df, usage_types = imp_usg.extract_usage_details(df, highest_only=True, combine_garages=True)\n",
    "df = ml_helper.remove_outliers(df, factor=2.3)\n",
    "\n",
    "X, y = ml_helper.ml_dataset_full(df, field_to_predict=c.FIELD_AREA_USAGE, additional_features=[c.FIELD_AREA_TOTAL_FLOOR_416])\n",
    "\n",
    "def train():\n",
    "    config = {'model': 'GradientBoost', 'run': 'none'}\n",
    "    with wandb.init(config=config):\n",
    "\n",
    "        # model with hyperparameter\n",
    "        config = wandb.config\n",
    "        regr = GradientBoostingRegressor(random_state=0,\n",
    "                                         learning_rate=config.learning_rate,\n",
    "                                         subsample=config.subsample,\n",
    "                                         n_estimators=config.n_estimators,\n",
    "                                         max_depth=config.max_depth,\n",
    "                                         min_samples_split=config.min_samples_split,\n",
    "                                         loss='lad')\n",
    "\n",
    "        # evaluate with cv and log to wandb\n",
    "        cv=RepeatedKFold(n_splits=5, n_repeats=3, random_state=0)\n",
    "        scores = cross_validate(regr, X, y, cv=cv, scoring=['r2', 'neg_mean_absolute_percentage_error', 'neg_mean_absolute_error', 'neg_root_mean_squared_error'])\n",
    "        wandb.log({'r2': mean(scores['test_r2'])})\n",
    "        wandb.log({'neg_mape': mean(scores['test_neg_mean_absolute_percentage_error'])})\n",
    "        wandb.log({'neg_mae': mean(scores['test_neg_mean_absolute_error'])})\n",
    "        wandb.log({'neg_rmse': mean(scores['test_neg_root_mean_squared_error'])})\n",
    "\n",
    "wandb.agent(sweep_id, train, count=100)"
   ],
   "metadata": {
    "collapsed": false,
    "pycharm": {
     "name": "#%%\n"
    }
   }
  }
 ],
 "metadata": {
  "kernelspec": {
   "name": "python3",
   "language": "python",
   "display_name": "Python 3"
  },
  "language_info": {
   "codemirror_mode": {
    "name": "ipython",
    "version": 2
   },
   "file_extension": ".py",
   "mimetype": "text/x-python",
   "name": "python",
   "nbconvert_exporter": "python",
   "pygments_lexer": "ipython2",
   "version": "2.7.6"
  }
 },
 "nbformat": 4,
 "nbformat_minor": 0
}