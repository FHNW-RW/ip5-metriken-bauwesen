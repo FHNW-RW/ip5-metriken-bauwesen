{
 "cells": [
  {
   "cell_type": "markdown",
   "source": [
    "## Weight & Biases\n",
    "Hyperparameter Tuning mit wandb"
   ],
   "metadata": {
    "collapsed": false
   }
  },
  {
   "cell_type": "markdown",
   "source": [
    "### Sweep Config\n",
    "Konfiguration des wand sweep mit den gewünschten Hyperparameter"
   ],
   "metadata": {
    "collapsed": false
   }
  },
  {
   "cell_type": "code",
   "execution_count": 1,
   "outputs": [
    {
     "name": "stderr",
     "output_type": "stream",
     "text": [
      "\u001B[34m\u001B[1mwandb\u001B[0m: Currently logged in as: \u001B[33mdevcore\u001B[0m (use `wandb login --relogin` to force relogin)\n",
      "\u001B[34m\u001B[1mwandb\u001B[0m: \u001B[33mWARNING\u001B[0m Malformed sweep config detected! This may cause your sweep to behave in unexpected ways.\n",
      "\u001B[34m\u001B[1mwandb\u001B[0m: \u001B[33mWARNING\u001B[0m To avoid this, please fix the sweep config schema violations below:\n",
      "\u001B[34m\u001B[1mwandb\u001B[0m: \u001B[33mWARNING\u001B[0m   Violation 1. {'min': 0.5, 'max': 1} is not valid under any of the given schemas\n"
     ]
    },
    {
     "name": "stdout",
     "output_type": "stream",
     "text": [
      "Create sweep with ID: mkxhrc96\n",
      "Sweep URL: https://wandb.ai/devcore/Metriken%20Bauwesen%20Sweeps/sweeps/mkxhrc96\n"
     ]
    }
   ],
   "source": [
    "import wandb\n",
    "\n",
    "wandb.login()\n",
    "\n",
    "sweep_config = {\n",
    "  'name' : 'GradientBoosting-soft-rain-64',\n",
    "  'method' : 'random',\n",
    "  'parameters' : {\n",
    "    'n_estimators' : {\n",
    "      'values' : [16, 32, 64, 128]\n",
    "    },\n",
    "    'learning_rate' :{\n",
    "      'min': 0.05,\n",
    "      'max': 0.2\n",
    "    },\n",
    "    'subsample' :{\n",
    "      'min': 0.5,\n",
    "      'max': 1.0\n",
    "    },\n",
    "    'max_depth' :{\n",
    "      'values' : [2, 3, 4, 8]\n",
    "    },\n",
    "    'min_samples_split' :{\n",
    "      'values' : [2, 4]\n",
    "    }\n",
    "  }\n",
    "}\n",
    "\n",
    "sweep_id = wandb.sweep(sweep_config, project='Metriken Bauwesen Sweeps', entity='devcore')"
   ],
   "metadata": {
    "collapsed": false,
    "pycharm": {
     "name": "#%%\n"
    }
   }
  },
  {
   "cell_type": "markdown",
   "source": [
    "### Run Sweep\n",
    "Sweep auf Agent laufen lassen für Hyperparameter-Tuning und Logging auf wandb"
   ],
   "metadata": {
    "collapsed": false
   }
  },
  {
   "cell_type": "code",
   "execution_count": 2,
   "outputs": [
    {
     "name": "stderr",
     "output_type": "stream",
     "text": [
      "\u001B[34m\u001B[1mwandb\u001B[0m: Agent Starting Run: xupga44j with config:\n",
      "\u001B[34m\u001B[1mwandb\u001B[0m: \tlearning_rate: 0.19370257214729453\n",
      "\u001B[34m\u001B[1mwandb\u001B[0m: \tmax_depth: 3\n",
      "\u001B[34m\u001B[1mwandb\u001B[0m: \tmin_samples_split: 4\n",
      "\u001B[34m\u001B[1mwandb\u001B[0m: \tn_estimators: 128\n",
      "\u001B[34m\u001B[1mwandb\u001B[0m: \tsubsample: 0.8063601064757892\n",
      "\u001B[34m\u001B[1mwandb\u001B[0m: Agent Starting Run: a3stldt9 with config:\n",
      "\u001B[34m\u001B[1mwandb\u001B[0m: \tlearning_rate: 0.18569948777175427\n",
      "\u001B[34m\u001B[1mwandb\u001B[0m: \tmax_depth: 4\n",
      "\u001B[34m\u001B[1mwandb\u001B[0m: \tmin_samples_split: 4\n",
      "\u001B[34m\u001B[1mwandb\u001B[0m: \tn_estimators: 16\n",
      "\u001B[34m\u001B[1mwandb\u001B[0m: \tsubsample: 0.6238172005750426\n",
      "\u001B[34m\u001B[1mwandb\u001B[0m: Agent Starting Run: 1islracz with config:\n",
      "\u001B[34m\u001B[1mwandb\u001B[0m: \tlearning_rate: 0.12156237106177313\n",
      "\u001B[34m\u001B[1mwandb\u001B[0m: \tmax_depth: 4\n",
      "\u001B[34m\u001B[1mwandb\u001B[0m: \tmin_samples_split: 2\n",
      "\u001B[34m\u001B[1mwandb\u001B[0m: \tn_estimators: 128\n",
      "\u001B[34m\u001B[1mwandb\u001B[0m: \tsubsample: 0.6441243479406173\n",
      "\u001B[34m\u001B[1mwandb\u001B[0m: Agent Starting Run: fq94rr9s with config:\n",
      "\u001B[34m\u001B[1mwandb\u001B[0m: \tlearning_rate: 0.17538038251053245\n",
      "\u001B[34m\u001B[1mwandb\u001B[0m: \tmax_depth: 2\n",
      "\u001B[34m\u001B[1mwandb\u001B[0m: \tmin_samples_split: 2\n",
      "\u001B[34m\u001B[1mwandb\u001B[0m: \tn_estimators: 16\n",
      "\u001B[34m\u001B[1mwandb\u001B[0m: \tsubsample: 0.7324948562671731\n",
      "\u001B[34m\u001B[1mwandb\u001B[0m: Agent Starting Run: t1ych05d with config:\n",
      "\u001B[34m\u001B[1mwandb\u001B[0m: \tlearning_rate: 0.11541919700331116\n",
      "\u001B[34m\u001B[1mwandb\u001B[0m: \tmax_depth: 4\n",
      "\u001B[34m\u001B[1mwandb\u001B[0m: \tmin_samples_split: 2\n",
      "\u001B[34m\u001B[1mwandb\u001B[0m: \tn_estimators: 64\n",
      "\u001B[34m\u001B[1mwandb\u001B[0m: \tsubsample: 0.8984030115951755\n",
      "\u001B[34m\u001B[1mwandb\u001B[0m: Agent Starting Run: 6q16b2hy with config:\n",
      "\u001B[34m\u001B[1mwandb\u001B[0m: \tlearning_rate: 0.1331580463298847\n",
      "\u001B[34m\u001B[1mwandb\u001B[0m: \tmax_depth: 2\n",
      "\u001B[34m\u001B[1mwandb\u001B[0m: \tmin_samples_split: 4\n",
      "\u001B[34m\u001B[1mwandb\u001B[0m: \tn_estimators: 128\n",
      "\u001B[34m\u001B[1mwandb\u001B[0m: \tsubsample: 0.5515724805089385\n",
      "\u001B[34m\u001B[1mwandb\u001B[0m: Agent Starting Run: 3cptvg0b with config:\n",
      "\u001B[34m\u001B[1mwandb\u001B[0m: \tlearning_rate: 0.17716833015679795\n",
      "\u001B[34m\u001B[1mwandb\u001B[0m: \tmax_depth: 8\n",
      "\u001B[34m\u001B[1mwandb\u001B[0m: \tmin_samples_split: 2\n",
      "\u001B[34m\u001B[1mwandb\u001B[0m: \tn_estimators: 32\n",
      "\u001B[34m\u001B[1mwandb\u001B[0m: \tsubsample: 0.5492049606507734\n",
      "\u001B[34m\u001B[1mwandb\u001B[0m: Agent Starting Run: lagxxttw with config:\n",
      "\u001B[34m\u001B[1mwandb\u001B[0m: \tlearning_rate: 0.1927242190403612\n",
      "\u001B[34m\u001B[1mwandb\u001B[0m: \tmax_depth: 3\n",
      "\u001B[34m\u001B[1mwandb\u001B[0m: \tmin_samples_split: 4\n",
      "\u001B[34m\u001B[1mwandb\u001B[0m: \tn_estimators: 128\n",
      "\u001B[34m\u001B[1mwandb\u001B[0m: \tsubsample: 0.7311481910043914\n",
      "\u001B[34m\u001B[1mwandb\u001B[0m: Agent Starting Run: 4giatff4 with config:\n",
      "\u001B[34m\u001B[1mwandb\u001B[0m: \tlearning_rate: 0.1517690330838779\n",
      "\u001B[34m\u001B[1mwandb\u001B[0m: \tmax_depth: 4\n",
      "\u001B[34m\u001B[1mwandb\u001B[0m: \tmin_samples_split: 2\n",
      "\u001B[34m\u001B[1mwandb\u001B[0m: \tn_estimators: 16\n",
      "\u001B[34m\u001B[1mwandb\u001B[0m: \tsubsample: 0.6183533798467145\n",
      "\u001B[34m\u001B[1mwandb\u001B[0m: Agent Starting Run: 4wozmzja with config:\n",
      "\u001B[34m\u001B[1mwandb\u001B[0m: \tlearning_rate: 0.12145388756424565\n",
      "\u001B[34m\u001B[1mwandb\u001B[0m: \tmax_depth: 3\n",
      "\u001B[34m\u001B[1mwandb\u001B[0m: \tmin_samples_split: 2\n",
      "\u001B[34m\u001B[1mwandb\u001B[0m: \tn_estimators: 16\n",
      "\u001B[34m\u001B[1mwandb\u001B[0m: \tsubsample: 0.8882248320934956\n",
      "\u001B[34m\u001B[1mwandb\u001B[0m: Agent Starting Run: sm17b9ro with config:\n",
      "\u001B[34m\u001B[1mwandb\u001B[0m: \tlearning_rate: 0.19210800173086284\n",
      "\u001B[34m\u001B[1mwandb\u001B[0m: \tmax_depth: 3\n",
      "\u001B[34m\u001B[1mwandb\u001B[0m: \tmin_samples_split: 4\n",
      "\u001B[34m\u001B[1mwandb\u001B[0m: \tn_estimators: 128\n",
      "\u001B[34m\u001B[1mwandb\u001B[0m: \tsubsample: 0.7846442322434568\n",
      "\u001B[34m\u001B[1mwandb\u001B[0m: Agent Starting Run: 7g57fgud with config:\n",
      "\u001B[34m\u001B[1mwandb\u001B[0m: \tlearning_rate: 0.19941354218996343\n",
      "\u001B[34m\u001B[1mwandb\u001B[0m: \tmax_depth: 2\n",
      "\u001B[34m\u001B[1mwandb\u001B[0m: \tmin_samples_split: 2\n",
      "\u001B[34m\u001B[1mwandb\u001B[0m: \tn_estimators: 32\n",
      "\u001B[34m\u001B[1mwandb\u001B[0m: \tsubsample: 0.789610411798781\n",
      "\u001B[34m\u001B[1mwandb\u001B[0m: Agent Starting Run: qpnvmlj1 with config:\n",
      "\u001B[34m\u001B[1mwandb\u001B[0m: \tlearning_rate: 0.13074434852500527\n",
      "\u001B[34m\u001B[1mwandb\u001B[0m: \tmax_depth: 4\n",
      "\u001B[34m\u001B[1mwandb\u001B[0m: \tmin_samples_split: 2\n",
      "\u001B[34m\u001B[1mwandb\u001B[0m: \tn_estimators: 16\n",
      "\u001B[34m\u001B[1mwandb\u001B[0m: \tsubsample: 0.5322153164577336\n",
      "\u001B[34m\u001B[1mwandb\u001B[0m: Agent Starting Run: bc7ap94i with config:\n",
      "\u001B[34m\u001B[1mwandb\u001B[0m: \tlearning_rate: 0.18185672379218748\n",
      "\u001B[34m\u001B[1mwandb\u001B[0m: \tmax_depth: 8\n",
      "\u001B[34m\u001B[1mwandb\u001B[0m: \tmin_samples_split: 4\n",
      "\u001B[34m\u001B[1mwandb\u001B[0m: \tn_estimators: 16\n",
      "\u001B[34m\u001B[1mwandb\u001B[0m: \tsubsample: 0.5883878897794796\n",
      "\u001B[34m\u001B[1mwandb\u001B[0m: Agent Starting Run: b181lx67 with config:\n",
      "\u001B[34m\u001B[1mwandb\u001B[0m: \tlearning_rate: 0.05032326143582521\n",
      "\u001B[34m\u001B[1mwandb\u001B[0m: \tmax_depth: 4\n",
      "\u001B[34m\u001B[1mwandb\u001B[0m: \tmin_samples_split: 4\n",
      "\u001B[34m\u001B[1mwandb\u001B[0m: \tn_estimators: 32\n",
      "\u001B[34m\u001B[1mwandb\u001B[0m: \tsubsample: 0.7890474098768994\n",
      "\u001B[34m\u001B[1mwandb\u001B[0m: Agent Starting Run: tpfktzlq with config:\n",
      "\u001B[34m\u001B[1mwandb\u001B[0m: \tlearning_rate: 0.14134893164053552\n",
      "\u001B[34m\u001B[1mwandb\u001B[0m: \tmax_depth: 4\n",
      "\u001B[34m\u001B[1mwandb\u001B[0m: \tmin_samples_split: 2\n",
      "\u001B[34m\u001B[1mwandb\u001B[0m: \tn_estimators: 128\n",
      "\u001B[34m\u001B[1mwandb\u001B[0m: \tsubsample: 0.5755331425486607\n",
      "\u001B[34m\u001B[1mwandb\u001B[0m: Agent Starting Run: hv7okm9o with config:\n",
      "\u001B[34m\u001B[1mwandb\u001B[0m: \tlearning_rate: 0.15506196670968359\n",
      "\u001B[34m\u001B[1mwandb\u001B[0m: \tmax_depth: 2\n",
      "\u001B[34m\u001B[1mwandb\u001B[0m: \tmin_samples_split: 4\n",
      "\u001B[34m\u001B[1mwandb\u001B[0m: \tn_estimators: 16\n",
      "\u001B[34m\u001B[1mwandb\u001B[0m: \tsubsample: 0.9757976297807156\n",
      "\u001B[34m\u001B[1mwandb\u001B[0m: Agent Starting Run: 3tmvoti9 with config:\n",
      "\u001B[34m\u001B[1mwandb\u001B[0m: \tlearning_rate: 0.17259554609747935\n",
      "\u001B[34m\u001B[1mwandb\u001B[0m: \tmax_depth: 3\n",
      "\u001B[34m\u001B[1mwandb\u001B[0m: \tmin_samples_split: 2\n",
      "\u001B[34m\u001B[1mwandb\u001B[0m: \tn_estimators: 16\n",
      "\u001B[34m\u001B[1mwandb\u001B[0m: \tsubsample: 0.9045798197711417\n",
      "\u001B[34m\u001B[1mwandb\u001B[0m: Agent Starting Run: xbd1ji75 with config:\n",
      "\u001B[34m\u001B[1mwandb\u001B[0m: \tlearning_rate: 0.136220007715465\n",
      "\u001B[34m\u001B[1mwandb\u001B[0m: \tmax_depth: 2\n",
      "\u001B[34m\u001B[1mwandb\u001B[0m: \tmin_samples_split: 4\n",
      "\u001B[34m\u001B[1mwandb\u001B[0m: \tn_estimators: 32\n",
      "\u001B[34m\u001B[1mwandb\u001B[0m: \tsubsample: 0.8356862492301529\n",
      "\u001B[34m\u001B[1mwandb\u001B[0m: Agent Starting Run: onwgfu4s with config:\n",
      "\u001B[34m\u001B[1mwandb\u001B[0m: \tlearning_rate: 0.11696980053452416\n",
      "\u001B[34m\u001B[1mwandb\u001B[0m: \tmax_depth: 4\n",
      "\u001B[34m\u001B[1mwandb\u001B[0m: \tmin_samples_split: 4\n",
      "\u001B[34m\u001B[1mwandb\u001B[0m: \tn_estimators: 128\n",
      "\u001B[34m\u001B[1mwandb\u001B[0m: \tsubsample: 0.9173235547063707\n",
      "\u001B[34m\u001B[1mwandb\u001B[0m: Agent Starting Run: zonl9zpt with config:\n",
      "\u001B[34m\u001B[1mwandb\u001B[0m: \tlearning_rate: 0.09584742869292803\n",
      "\u001B[34m\u001B[1mwandb\u001B[0m: \tmax_depth: 3\n",
      "\u001B[34m\u001B[1mwandb\u001B[0m: \tmin_samples_split: 2\n",
      "\u001B[34m\u001B[1mwandb\u001B[0m: \tn_estimators: 16\n",
      "\u001B[34m\u001B[1mwandb\u001B[0m: \tsubsample: 0.6260121850595912\n",
      "\u001B[34m\u001B[1mwandb\u001B[0m: Agent Starting Run: 1dvxnibi with config:\n",
      "\u001B[34m\u001B[1mwandb\u001B[0m: \tlearning_rate: 0.15162154795753485\n",
      "\u001B[34m\u001B[1mwandb\u001B[0m: \tmax_depth: 8\n",
      "\u001B[34m\u001B[1mwandb\u001B[0m: \tmin_samples_split: 4\n",
      "\u001B[34m\u001B[1mwandb\u001B[0m: \tn_estimators: 64\n",
      "\u001B[34m\u001B[1mwandb\u001B[0m: \tsubsample: 0.8816442119853822\n",
      "\u001B[34m\u001B[1mwandb\u001B[0m: Agent Starting Run: qzegecfj with config:\n",
      "\u001B[34m\u001B[1mwandb\u001B[0m: \tlearning_rate: 0.17033104079838274\n",
      "\u001B[34m\u001B[1mwandb\u001B[0m: \tmax_depth: 8\n",
      "\u001B[34m\u001B[1mwandb\u001B[0m: \tmin_samples_split: 4\n",
      "\u001B[34m\u001B[1mwandb\u001B[0m: \tn_estimators: 16\n",
      "\u001B[34m\u001B[1mwandb\u001B[0m: \tsubsample: 0.5887626999683209\n",
      "\u001B[34m\u001B[1mwandb\u001B[0m: Agent Starting Run: zzrv5f4u with config:\n",
      "\u001B[34m\u001B[1mwandb\u001B[0m: \tlearning_rate: 0.10003263299317103\n",
      "\u001B[34m\u001B[1mwandb\u001B[0m: \tmax_depth: 4\n",
      "\u001B[34m\u001B[1mwandb\u001B[0m: \tmin_samples_split: 2\n",
      "\u001B[34m\u001B[1mwandb\u001B[0m: \tn_estimators: 32\n",
      "\u001B[34m\u001B[1mwandb\u001B[0m: \tsubsample: 0.5258070499025831\n",
      "\u001B[34m\u001B[1mwandb\u001B[0m: Agent Starting Run: uplsfyvr with config:\n",
      "\u001B[34m\u001B[1mwandb\u001B[0m: \tlearning_rate: 0.07982043407859632\n",
      "\u001B[34m\u001B[1mwandb\u001B[0m: \tmax_depth: 3\n",
      "\u001B[34m\u001B[1mwandb\u001B[0m: \tmin_samples_split: 2\n",
      "\u001B[34m\u001B[1mwandb\u001B[0m: \tn_estimators: 128\n",
      "\u001B[34m\u001B[1mwandb\u001B[0m: \tsubsample: 0.982368749537754\n",
      "\u001B[34m\u001B[1mwandb\u001B[0m: Agent Starting Run: xy7lcedr with config:\n",
      "\u001B[34m\u001B[1mwandb\u001B[0m: \tlearning_rate: 0.09490919315708149\n",
      "\u001B[34m\u001B[1mwandb\u001B[0m: \tmax_depth: 8\n",
      "\u001B[34m\u001B[1mwandb\u001B[0m: \tmin_samples_split: 4\n",
      "\u001B[34m\u001B[1mwandb\u001B[0m: \tn_estimators: 64\n",
      "\u001B[34m\u001B[1mwandb\u001B[0m: \tsubsample: 0.589266424782859\n",
      "\u001B[34m\u001B[1mwandb\u001B[0m: Agent Starting Run: txuipo87 with config:\n",
      "\u001B[34m\u001B[1mwandb\u001B[0m: \tlearning_rate: 0.09538801593499655\n",
      "\u001B[34m\u001B[1mwandb\u001B[0m: \tmax_depth: 3\n",
      "\u001B[34m\u001B[1mwandb\u001B[0m: \tmin_samples_split: 2\n",
      "\u001B[34m\u001B[1mwandb\u001B[0m: \tn_estimators: 32\n",
      "\u001B[34m\u001B[1mwandb\u001B[0m: \tsubsample: 0.9487285728491603\n",
      "\u001B[34m\u001B[1mwandb\u001B[0m: Agent Starting Run: 4cdubhqm with config:\n",
      "\u001B[34m\u001B[1mwandb\u001B[0m: \tlearning_rate: 0.14748830067473406\n",
      "\u001B[34m\u001B[1mwandb\u001B[0m: \tmax_depth: 2\n",
      "\u001B[34m\u001B[1mwandb\u001B[0m: \tmin_samples_split: 2\n",
      "\u001B[34m\u001B[1mwandb\u001B[0m: \tn_estimators: 64\n",
      "\u001B[34m\u001B[1mwandb\u001B[0m: \tsubsample: 0.5601547638698945\n",
      "\u001B[34m\u001B[1mwandb\u001B[0m: Agent Starting Run: 4sw53xc1 with config:\n",
      "\u001B[34m\u001B[1mwandb\u001B[0m: \tlearning_rate: 0.10104133862001838\n",
      "\u001B[34m\u001B[1mwandb\u001B[0m: \tmax_depth: 2\n",
      "\u001B[34m\u001B[1mwandb\u001B[0m: \tmin_samples_split: 2\n",
      "\u001B[34m\u001B[1mwandb\u001B[0m: \tn_estimators: 32\n",
      "\u001B[34m\u001B[1mwandb\u001B[0m: \tsubsample: 0.7132177174146039\n",
      "\u001B[34m\u001B[1mwandb\u001B[0m: Agent Starting Run: wafdg8pk with config:\n",
      "\u001B[34m\u001B[1mwandb\u001B[0m: \tlearning_rate: 0.14973172068249294\n",
      "\u001B[34m\u001B[1mwandb\u001B[0m: \tmax_depth: 3\n",
      "\u001B[34m\u001B[1mwandb\u001B[0m: \tmin_samples_split: 4\n",
      "\u001B[34m\u001B[1mwandb\u001B[0m: \tn_estimators: 64\n",
      "\u001B[34m\u001B[1mwandb\u001B[0m: \tsubsample: 0.8252925023760171\n",
      "\u001B[34m\u001B[1mwandb\u001B[0m: Agent Starting Run: gma0sg9y with config:\n",
      "\u001B[34m\u001B[1mwandb\u001B[0m: \tlearning_rate: 0.0616229084648343\n",
      "\u001B[34m\u001B[1mwandb\u001B[0m: \tmax_depth: 3\n",
      "\u001B[34m\u001B[1mwandb\u001B[0m: \tmin_samples_split: 2\n",
      "\u001B[34m\u001B[1mwandb\u001B[0m: \tn_estimators: 64\n",
      "\u001B[34m\u001B[1mwandb\u001B[0m: \tsubsample: 0.7055259337540254\n",
      "\u001B[34m\u001B[1mwandb\u001B[0m: Agent Starting Run: vdn3ycxk with config:\n",
      "\u001B[34m\u001B[1mwandb\u001B[0m: \tlearning_rate: 0.08867324106693539\n",
      "\u001B[34m\u001B[1mwandb\u001B[0m: \tmax_depth: 3\n",
      "\u001B[34m\u001B[1mwandb\u001B[0m: \tmin_samples_split: 4\n",
      "\u001B[34m\u001B[1mwandb\u001B[0m: \tn_estimators: 16\n",
      "\u001B[34m\u001B[1mwandb\u001B[0m: \tsubsample: 0.5874171754585849\n",
      "\u001B[34m\u001B[1mwandb\u001B[0m: Agent Starting Run: m9vgrjck with config:\n",
      "\u001B[34m\u001B[1mwandb\u001B[0m: \tlearning_rate: 0.08290696484721138\n",
      "\u001B[34m\u001B[1mwandb\u001B[0m: \tmax_depth: 2\n",
      "\u001B[34m\u001B[1mwandb\u001B[0m: \tmin_samples_split: 2\n",
      "\u001B[34m\u001B[1mwandb\u001B[0m: \tn_estimators: 128\n",
      "\u001B[34m\u001B[1mwandb\u001B[0m: \tsubsample: 0.7577463492326237\n",
      "\u001B[34m\u001B[1mwandb\u001B[0m: Agent Starting Run: ye9skrmy with config:\n",
      "\u001B[34m\u001B[1mwandb\u001B[0m: \tlearning_rate: 0.19083245959777861\n",
      "\u001B[34m\u001B[1mwandb\u001B[0m: \tmax_depth: 3\n",
      "\u001B[34m\u001B[1mwandb\u001B[0m: \tmin_samples_split: 4\n",
      "\u001B[34m\u001B[1mwandb\u001B[0m: \tn_estimators: 128\n",
      "\u001B[34m\u001B[1mwandb\u001B[0m: \tsubsample: 0.6685735048278849\n",
      "\u001B[34m\u001B[1mwandb\u001B[0m: Agent Starting Run: za5gi8wh with config:\n",
      "\u001B[34m\u001B[1mwandb\u001B[0m: \tlearning_rate: 0.13076577415636148\n",
      "\u001B[34m\u001B[1mwandb\u001B[0m: \tmax_depth: 3\n",
      "\u001B[34m\u001B[1mwandb\u001B[0m: \tmin_samples_split: 2\n",
      "\u001B[34m\u001B[1mwandb\u001B[0m: \tn_estimators: 64\n",
      "\u001B[34m\u001B[1mwandb\u001B[0m: \tsubsample: 0.6843700103598791\n",
      "\u001B[34m\u001B[1mwandb\u001B[0m: Agent Starting Run: i7nc8zjh with config:\n",
      "\u001B[34m\u001B[1mwandb\u001B[0m: \tlearning_rate: 0.14542054669615478\n",
      "\u001B[34m\u001B[1mwandb\u001B[0m: \tmax_depth: 3\n",
      "\u001B[34m\u001B[1mwandb\u001B[0m: \tmin_samples_split: 4\n",
      "\u001B[34m\u001B[1mwandb\u001B[0m: \tn_estimators: 64\n",
      "\u001B[34m\u001B[1mwandb\u001B[0m: \tsubsample: 0.9062022799067273\n",
      "\u001B[34m\u001B[1mwandb\u001B[0m: Agent Starting Run: 0f6r0xi9 with config:\n",
      "\u001B[34m\u001B[1mwandb\u001B[0m: \tlearning_rate: 0.09292578917848797\n",
      "\u001B[34m\u001B[1mwandb\u001B[0m: \tmax_depth: 3\n",
      "\u001B[34m\u001B[1mwandb\u001B[0m: \tmin_samples_split: 2\n",
      "\u001B[34m\u001B[1mwandb\u001B[0m: \tn_estimators: 16\n",
      "\u001B[34m\u001B[1mwandb\u001B[0m: \tsubsample: 0.5958790598046622\n",
      "\u001B[34m\u001B[1mwandb\u001B[0m: Agent Starting Run: cli9kjyx with config:\n",
      "\u001B[34m\u001B[1mwandb\u001B[0m: \tlearning_rate: 0.07813400173013917\n",
      "\u001B[34m\u001B[1mwandb\u001B[0m: \tmax_depth: 3\n",
      "\u001B[34m\u001B[1mwandb\u001B[0m: \tmin_samples_split: 4\n",
      "\u001B[34m\u001B[1mwandb\u001B[0m: \tn_estimators: 64\n",
      "\u001B[34m\u001B[1mwandb\u001B[0m: \tsubsample: 0.794817914605397\n",
      "\u001B[34m\u001B[1mwandb\u001B[0m: Agent Starting Run: w4ptoo4y with config:\n",
      "\u001B[34m\u001B[1mwandb\u001B[0m: \tlearning_rate: 0.16864836650397674\n",
      "\u001B[34m\u001B[1mwandb\u001B[0m: \tmax_depth: 8\n",
      "\u001B[34m\u001B[1mwandb\u001B[0m: \tmin_samples_split: 4\n",
      "\u001B[34m\u001B[1mwandb\u001B[0m: \tn_estimators: 16\n",
      "\u001B[34m\u001B[1mwandb\u001B[0m: \tsubsample: 0.5874592622443866\n",
      "\u001B[34m\u001B[1mwandb\u001B[0m: Agent Starting Run: 7y9f72jr with config:\n",
      "\u001B[34m\u001B[1mwandb\u001B[0m: \tlearning_rate: 0.13880849560629974\n",
      "\u001B[34m\u001B[1mwandb\u001B[0m: \tmax_depth: 4\n",
      "\u001B[34m\u001B[1mwandb\u001B[0m: \tmin_samples_split: 4\n",
      "\u001B[34m\u001B[1mwandb\u001B[0m: \tn_estimators: 64\n",
      "\u001B[34m\u001B[1mwandb\u001B[0m: \tsubsample: 0.8929386851721659\n",
      "\u001B[34m\u001B[1mwandb\u001B[0m: Agent Starting Run: 596eupls with config:\n",
      "\u001B[34m\u001B[1mwandb\u001B[0m: \tlearning_rate: 0.10917678194248807\n",
      "\u001B[34m\u001B[1mwandb\u001B[0m: \tmax_depth: 4\n",
      "\u001B[34m\u001B[1mwandb\u001B[0m: \tmin_samples_split: 2\n",
      "\u001B[34m\u001B[1mwandb\u001B[0m: \tn_estimators: 16\n",
      "\u001B[34m\u001B[1mwandb\u001B[0m: \tsubsample: 0.65857671472066\n",
      "\u001B[34m\u001B[1mwandb\u001B[0m: Agent Starting Run: 5etbtlqt with config:\n",
      "\u001B[34m\u001B[1mwandb\u001B[0m: \tlearning_rate: 0.168671157431054\n",
      "\u001B[34m\u001B[1mwandb\u001B[0m: \tmax_depth: 4\n",
      "\u001B[34m\u001B[1mwandb\u001B[0m: \tmin_samples_split: 2\n",
      "\u001B[34m\u001B[1mwandb\u001B[0m: \tn_estimators: 32\n",
      "\u001B[34m\u001B[1mwandb\u001B[0m: \tsubsample: 0.7674520175047057\n",
      "\u001B[34m\u001B[1mwandb\u001B[0m: Agent Starting Run: g37zuik2 with config:\n",
      "\u001B[34m\u001B[1mwandb\u001B[0m: \tlearning_rate: 0.16071963744918732\n",
      "\u001B[34m\u001B[1mwandb\u001B[0m: \tmax_depth: 4\n",
      "\u001B[34m\u001B[1mwandb\u001B[0m: \tmin_samples_split: 4\n",
      "\u001B[34m\u001B[1mwandb\u001B[0m: \tn_estimators: 64\n",
      "\u001B[34m\u001B[1mwandb\u001B[0m: \tsubsample: 0.6723882739399563\n",
      "\u001B[34m\u001B[1mwandb\u001B[0m: Agent Starting Run: ykr13a7b with config:\n",
      "\u001B[34m\u001B[1mwandb\u001B[0m: \tlearning_rate: 0.1912589798186119\n",
      "\u001B[34m\u001B[1mwandb\u001B[0m: \tmax_depth: 2\n",
      "\u001B[34m\u001B[1mwandb\u001B[0m: \tmin_samples_split: 4\n",
      "\u001B[34m\u001B[1mwandb\u001B[0m: \tn_estimators: 16\n",
      "\u001B[34m\u001B[1mwandb\u001B[0m: \tsubsample: 0.8889729398335711\n",
      "\u001B[34m\u001B[1mwandb\u001B[0m: Agent Starting Run: w5osmacl with config:\n",
      "\u001B[34m\u001B[1mwandb\u001B[0m: \tlearning_rate: 0.10309129595261986\n",
      "\u001B[34m\u001B[1mwandb\u001B[0m: \tmax_depth: 8\n",
      "\u001B[34m\u001B[1mwandb\u001B[0m: \tmin_samples_split: 4\n",
      "\u001B[34m\u001B[1mwandb\u001B[0m: \tn_estimators: 64\n",
      "\u001B[34m\u001B[1mwandb\u001B[0m: \tsubsample: 0.7293558981448147\n",
      "\u001B[34m\u001B[1mwandb\u001B[0m: Agent Starting Run: bhjkxu1g with config:\n",
      "\u001B[34m\u001B[1mwandb\u001B[0m: \tlearning_rate: 0.1358041446615174\n",
      "\u001B[34m\u001B[1mwandb\u001B[0m: \tmax_depth: 8\n",
      "\u001B[34m\u001B[1mwandb\u001B[0m: \tmin_samples_split: 4\n",
      "\u001B[34m\u001B[1mwandb\u001B[0m: \tn_estimators: 128\n",
      "\u001B[34m\u001B[1mwandb\u001B[0m: \tsubsample: 0.5463194019189694\n",
      "\u001B[34m\u001B[1mwandb\u001B[0m: Agent Starting Run: ybxm90lg with config:\n",
      "\u001B[34m\u001B[1mwandb\u001B[0m: \tlearning_rate: 0.1372775709261057\n",
      "\u001B[34m\u001B[1mwandb\u001B[0m: \tmax_depth: 3\n",
      "\u001B[34m\u001B[1mwandb\u001B[0m: \tmin_samples_split: 2\n",
      "\u001B[34m\u001B[1mwandb\u001B[0m: \tn_estimators: 16\n",
      "\u001B[34m\u001B[1mwandb\u001B[0m: \tsubsample: 0.5885951390818879\n",
      "\u001B[34m\u001B[1mwandb\u001B[0m: Agent Starting Run: q758due4 with config:\n",
      "\u001B[34m\u001B[1mwandb\u001B[0m: \tlearning_rate: 0.10104742431600819\n",
      "\u001B[34m\u001B[1mwandb\u001B[0m: \tmax_depth: 4\n",
      "\u001B[34m\u001B[1mwandb\u001B[0m: \tmin_samples_split: 2\n",
      "\u001B[34m\u001B[1mwandb\u001B[0m: \tn_estimators: 64\n",
      "\u001B[34m\u001B[1mwandb\u001B[0m: \tsubsample: 0.8403627667824592\n",
      "\u001B[34m\u001B[1mwandb\u001B[0m: Agent Starting Run: 8wm7nn8a with config:\n",
      "\u001B[34m\u001B[1mwandb\u001B[0m: \tlearning_rate: 0.06640920420080168\n",
      "\u001B[34m\u001B[1mwandb\u001B[0m: \tmax_depth: 3\n",
      "\u001B[34m\u001B[1mwandb\u001B[0m: \tmin_samples_split: 4\n",
      "\u001B[34m\u001B[1mwandb\u001B[0m: \tn_estimators: 32\n",
      "\u001B[34m\u001B[1mwandb\u001B[0m: \tsubsample: 0.6505232357631313\n",
      "\u001B[34m\u001B[1mwandb\u001B[0m: Agent Starting Run: hxid71h0 with config:\n",
      "\u001B[34m\u001B[1mwandb\u001B[0m: \tlearning_rate: 0.08164043306841864\n",
      "\u001B[34m\u001B[1mwandb\u001B[0m: \tmax_depth: 2\n",
      "\u001B[34m\u001B[1mwandb\u001B[0m: \tmin_samples_split: 2\n",
      "\u001B[34m\u001B[1mwandb\u001B[0m: \tn_estimators: 128\n",
      "\u001B[34m\u001B[1mwandb\u001B[0m: \tsubsample: 0.8584693173554452\n",
      "\u001B[34m\u001B[1mwandb\u001B[0m: Agent Starting Run: f1n4tw9y with config:\n",
      "\u001B[34m\u001B[1mwandb\u001B[0m: \tlearning_rate: 0.16407267597501757\n",
      "\u001B[34m\u001B[1mwandb\u001B[0m: \tmax_depth: 8\n",
      "\u001B[34m\u001B[1mwandb\u001B[0m: \tmin_samples_split: 4\n",
      "\u001B[34m\u001B[1mwandb\u001B[0m: \tn_estimators: 64\n",
      "\u001B[34m\u001B[1mwandb\u001B[0m: \tsubsample: 0.5557528507268626\n",
      "\u001B[34m\u001B[1mwandb\u001B[0m: Agent Starting Run: i0bhifuc with config:\n",
      "\u001B[34m\u001B[1mwandb\u001B[0m: \tlearning_rate: 0.1314171926240991\n",
      "\u001B[34m\u001B[1mwandb\u001B[0m: \tmax_depth: 4\n",
      "\u001B[34m\u001B[1mwandb\u001B[0m: \tmin_samples_split: 2\n",
      "\u001B[34m\u001B[1mwandb\u001B[0m: \tn_estimators: 32\n",
      "\u001B[34m\u001B[1mwandb\u001B[0m: \tsubsample: 0.6015980198619955\n",
      "\u001B[34m\u001B[1mwandb\u001B[0m: Agent Starting Run: rqs9b8qt with config:\n",
      "\u001B[34m\u001B[1mwandb\u001B[0m: \tlearning_rate: 0.17972675575764885\n",
      "\u001B[34m\u001B[1mwandb\u001B[0m: \tmax_depth: 4\n",
      "\u001B[34m\u001B[1mwandb\u001B[0m: \tmin_samples_split: 4\n",
      "\u001B[34m\u001B[1mwandb\u001B[0m: \tn_estimators: 32\n",
      "\u001B[34m\u001B[1mwandb\u001B[0m: \tsubsample: 0.7335997272304834\n",
      "\u001B[34m\u001B[1mwandb\u001B[0m: Agent Starting Run: chov16bc with config:\n",
      "\u001B[34m\u001B[1mwandb\u001B[0m: \tlearning_rate: 0.08177593770684974\n",
      "\u001B[34m\u001B[1mwandb\u001B[0m: \tmax_depth: 4\n",
      "\u001B[34m\u001B[1mwandb\u001B[0m: \tmin_samples_split: 4\n",
      "\u001B[34m\u001B[1mwandb\u001B[0m: \tn_estimators: 128\n",
      "\u001B[34m\u001B[1mwandb\u001B[0m: \tsubsample: 0.7600612494506684\n",
      "\u001B[34m\u001B[1mwandb\u001B[0m: Agent Starting Run: zdl7mtrq with config:\n",
      "\u001B[34m\u001B[1mwandb\u001B[0m: \tlearning_rate: 0.053226542370656806\n",
      "\u001B[34m\u001B[1mwandb\u001B[0m: \tmax_depth: 4\n",
      "\u001B[34m\u001B[1mwandb\u001B[0m: \tmin_samples_split: 4\n",
      "\u001B[34m\u001B[1mwandb\u001B[0m: \tn_estimators: 32\n",
      "\u001B[34m\u001B[1mwandb\u001B[0m: \tsubsample: 0.5350425801324314\n",
      "\u001B[34m\u001B[1mwandb\u001B[0m: Agent Starting Run: jkmwkmqh with config:\n",
      "\u001B[34m\u001B[1mwandb\u001B[0m: \tlearning_rate: 0.05434175813373182\n",
      "\u001B[34m\u001B[1mwandb\u001B[0m: \tmax_depth: 2\n",
      "\u001B[34m\u001B[1mwandb\u001B[0m: \tmin_samples_split: 4\n",
      "\u001B[34m\u001B[1mwandb\u001B[0m: \tn_estimators: 16\n",
      "\u001B[34m\u001B[1mwandb\u001B[0m: \tsubsample: 0.7669165124256205\n",
      "\u001B[34m\u001B[1mwandb\u001B[0m: Agent Starting Run: k41uvqop with config:\n",
      "\u001B[34m\u001B[1mwandb\u001B[0m: \tlearning_rate: 0.12067905837255515\n",
      "\u001B[34m\u001B[1mwandb\u001B[0m: \tmax_depth: 8\n",
      "\u001B[34m\u001B[1mwandb\u001B[0m: \tmin_samples_split: 2\n",
      "\u001B[34m\u001B[1mwandb\u001B[0m: \tn_estimators: 32\n",
      "\u001B[34m\u001B[1mwandb\u001B[0m: \tsubsample: 0.5784408030165766\n",
      "\u001B[34m\u001B[1mwandb\u001B[0m: Agent Starting Run: whjxln8m with config:\n",
      "\u001B[34m\u001B[1mwandb\u001B[0m: \tlearning_rate: 0.16399787549100053\n",
      "\u001B[34m\u001B[1mwandb\u001B[0m: \tmax_depth: 8\n",
      "\u001B[34m\u001B[1mwandb\u001B[0m: \tmin_samples_split: 2\n",
      "\u001B[34m\u001B[1mwandb\u001B[0m: \tn_estimators: 32\n",
      "\u001B[34m\u001B[1mwandb\u001B[0m: \tsubsample: 0.5621550759760835\n",
      "\u001B[34m\u001B[1mwandb\u001B[0m: Agent Starting Run: 7pqahbbx with config:\n",
      "\u001B[34m\u001B[1mwandb\u001B[0m: \tlearning_rate: 0.17963558410367308\n",
      "\u001B[34m\u001B[1mwandb\u001B[0m: \tmax_depth: 3\n",
      "\u001B[34m\u001B[1mwandb\u001B[0m: \tmin_samples_split: 2\n",
      "\u001B[34m\u001B[1mwandb\u001B[0m: \tn_estimators: 32\n",
      "\u001B[34m\u001B[1mwandb\u001B[0m: \tsubsample: 0.7548921203870804\n",
      "\u001B[34m\u001B[1mwandb\u001B[0m: Agent Starting Run: hvs5crww with config:\n",
      "\u001B[34m\u001B[1mwandb\u001B[0m: \tlearning_rate: 0.05489437299171614\n",
      "\u001B[34m\u001B[1mwandb\u001B[0m: \tmax_depth: 2\n",
      "\u001B[34m\u001B[1mwandb\u001B[0m: \tmin_samples_split: 2\n",
      "\u001B[34m\u001B[1mwandb\u001B[0m: \tn_estimators: 32\n",
      "\u001B[34m\u001B[1mwandb\u001B[0m: \tsubsample: 0.6548428968123309\n"
     ]
    },
    {
     "data": {
      "text/plain": "<IPython.core.display.HTML object>",
      "text/html": "\n                Tracking run with wandb version 0.10.32<br/>\n                Syncing run <strong style=\"color:#cdcd00\">azure-sweep-1</strong> to <a href=\"https://wandb.ai\" target=\"_blank\">Weights & Biases</a> <a href=\"https://docs.wandb.com/integrations/jupyter.html\" target=\"_blank\">(Documentation)</a>.<br/>\n                Project page: <a href=\"https://wandb.ai/devcore/Metriken%20Bauwesen%20Sweeps\" target=\"_blank\">https://wandb.ai/devcore/Metriken%20Bauwesen%20Sweeps</a><br/>\n                Sweep page: <a href=\"https://wandb.ai/devcore/Metriken%20Bauwesen%20Sweeps/sweeps/mkxhrc96\" target=\"_blank\">https://wandb.ai/devcore/Metriken%20Bauwesen%20Sweeps/sweeps/mkxhrc96</a><br/>\nRun page: <a href=\"https://wandb.ai/devcore/Metriken%20Bauwesen%20Sweeps/runs/xupga44j\" target=\"_blank\">https://wandb.ai/devcore/Metriken%20Bauwesen%20Sweeps/runs/xupga44j</a><br/>\n                Run data is saved locally in <code>D:\\Development\\FHNW\\ip5-metriken-bauwesen\\src\\weight_and_bias\\wandb\\run-20210622_174329-xupga44j</code><br/><br/>\n            "
     },
     "metadata": {},
     "output_type": "display_data"
    },
    {
     "name": "stdout",
     "output_type": "stream",
     "text": [
      "{'fit_time': array([0.04800415, 0.05702233, 0.05103016, 0.047997  , 0.047997  ,\n",
      "       0.047997  , 0.04699254, 0.04599214, 0.0460012 , 0.04700518,\n",
      "       0.04600072, 0.0479722 , 0.04599881, 0.04702854, 0.04697466]), 'score_time': array([0.00197339, 0.00096965, 0.00100374, 0.00200224, 0.00200272,\n",
      "       0.00200057, 0.00099969, 0.00200009, 0.00200129, 0.00100088,\n",
      "       0.00199866, 0.00199986, 0.00199986, 0.00099206, 0.00199986]), 'test_r2': array([0.95087467, 0.95106688, 0.96372886, 0.93077058, 0.88066625,\n",
      "       0.95596745, 0.95539413, 0.98381326, 0.93973221, 0.90603569,\n",
      "       0.94517859, 0.97002975, 0.95901264, 0.97221447, 0.92868023])}\n",
      "{'fit_time': array([0.00699997, 0.00799942, 0.0079999 , 0.00699973, 0.00800014,\n",
      "       0.0079999 , 0.00900149, 0.00799322, 0.00899816, 0.00800109,\n",
      "       0.00797057, 0.00803065, 0.00699973, 0.00799036, 0.01101589]), 'score_time': array([0.00200009, 0.0010004 , 0.00100017, 0.00200009, 0.00100017,\n",
      "       0.00099993, 0.00100136, 0.00200057, 0.00099897, 0.00202942,\n",
      "       0.00199986, 0.00099969, 0.00200319, 0.00099945, 0.00199366]), 'test_r2': array([0.95662465, 0.94212394, 0.96301668, 0.93897916, 0.90962144,\n",
      "       0.94196593, 0.95454747, 0.97299795, 0.93289792, 0.91362002,\n",
      "       0.96516157, 0.93760899, 0.9223227 , 0.97673721, 0.92388955])}\n",
      "{'fit_time': array([0.04799938, 0.04899836, 0.04902482, 0.04999924, 0.04899979,\n",
      "       0.04902887, 0.04999304, 0.04802823, 0.04900026, 0.04799986,\n",
      "       0.04900312, 0.04902816, 0.04799128, 0.04899979, 0.04801989]), 'score_time': array([0.00200057, 0.00099993, 0.00199962, 0.00100017, 0.00200009,\n",
      "       0.00200009, 0.00197816, 0.00200033, 0.00099945, 0.00196981,\n",
      "       0.00200033, 0.00099397, 0.00198889, 0.00100017, 0.00200033]), 'test_r2': array([0.94128635, 0.94789193, 0.9755697 , 0.95906629, 0.8843402 ,\n",
      "       0.94504196, 0.93679649, 0.98641797, 0.94759055, 0.88027779,\n",
      "       0.94433788, 0.95011836, 0.94176703, 0.96681618, 0.93993098])}\n",
      "{'fit_time': array([0.00699973, 0.00699973, 0.00700021, 0.00699997, 0.00699973,\n",
      "       0.00699997, 0.00699711, 0.00699973, 0.00699973, 0.00599957,\n",
      "       0.00699949, 0.00700068, 0.00799894, 0.0070281 , 0.00600028]), 'score_time': array([0.00200033, 0.00100017, 0.00199962, 0.00100017, 0.00200033,\n",
      "       0.00100017, 0.00200009, 0.00100017, 0.0010004 , 0.00200033,\n",
      "       0.00100064, 0.00099993, 0.00200152, 0.00100112, 0.00199676]), 'test_r2': array([0.94929444, 0.92136388, 0.94774021, 0.94607262, 0.92381854,\n",
      "       0.94478638, 0.94203717, 0.96859713, 0.93260988, 0.91350549,\n",
      "       0.95407575, 0.91502233, 0.94919207, 0.97116378, 0.92493532])}\n",
      "{'fit_time': array([0.02900696, 0.02899742, 0.02897191, 0.02997375, 0.02999759,\n",
      "       0.02900004, 0.02900004, 0.02799916, 0.02900076, 0.02900004,\n",
      "       0.02900863, 0.04101515, 0.03102684, 0.02799964, 0.02897215]), 'score_time': array([0.00200224, 0.00097156, 0.00202847, 0.00202894, 0.00099897,\n",
      "       0.00100279, 0.00100064, 0.00100017, 0.00099969, 0.0019927 ,\n",
      "       0.0019691 , 0.00198793, 0.00199986, 0.00199914, 0.00202847]), 'test_r2': array([0.95200969, 0.93612679, 0.95316252, 0.93751394, 0.87163675,\n",
      "       0.94057395, 0.94203436, 0.98138603, 0.92116148, 0.90799865,\n",
      "       0.93037264, 0.94513286, 0.9460042 , 0.97132497, 0.93084433])}\n",
      "{'fit_time': array([0.0370028 , 0.03697109, 0.04104733, 0.03800058, 0.03697014,\n",
      "       0.03702307, 0.03700995, 0.03699827, 0.03800058, 0.03699732,\n",
      "       0.0370295 , 0.03697371, 0.03696394, 0.03700161, 0.03599215]), 'score_time': array([0.00099754, 0.00199962, 0.00098205, 0.00099921, 0.00100017,\n",
      "       0.00199914, 0.00197291, 0.00199914, 0.00199962, 0.00200009,\n",
      "       0.0010004 , 0.002033  , 0.00099969, 0.00102925, 0.00199986]), 'test_r2': array([0.94547102, 0.94692737, 0.97696741, 0.94648815, 0.91425678,\n",
      "       0.95310377, 0.95603653, 0.97933644, 0.94600472, 0.90917827,\n",
      "       0.94413612, 0.96468651, 0.96073712, 0.97099498, 0.93374917])}\n",
      "{'fit_time': array([0.01710248, 0.0169971 , 0.01706314, 0.01699972, 0.01799226,\n",
      "       0.01901078, 0.01699996, 0.01799965, 0.01599312, 0.01800776,\n",
      "       0.01798511, 0.01702762, 0.01697302, 0.01702762, 0.01697278]), 'score_time': array([0.00199962, 0.0010004 , 0.00100017, 0.0020082 , 0.00200891,\n",
      "       0.00100017, 0.00200033, 0.00100064, 0.0019989 , 0.00099969,\n",
      "       0.00100017, 0.0010004 , 0.00100017, 0.00200009, 0.00199938]), 'test_r2': array([0.95071556, 0.95473461, 0.97120053, 0.94290145, 0.87940589,\n",
      "       0.91918636, 0.94493121, 0.97882746, 0.93927067, 0.9043272 ,\n",
      "       0.93871523, 0.94013824, 0.95198243, 0.97149303, 0.92546467])}\n",
      "{'fit_time': array([0.04499578, 0.04603648, 0.05000448, 0.04503393, 0.04599786,\n",
      "       0.04649591, 0.046     , 0.04501629, 0.04500079, 0.04603958,\n",
      "       0.04499912, 0.04399228, 0.04393601, 0.04499865, 0.0451026 ]), 'score_time': array([0.00200009, 0.0010004 , 0.002002  , 0.00196886, 0.00199986,\n",
      "       0.00200009, 0.00100112, 0.00098991, 0.00200009, 0.00102615,\n",
      "       0.00099993, 0.00200105, 0.00202274, 0.00199962, 0.00202823]), 'test_r2': array([0.94954509, 0.94587827, 0.94993112, 0.95110626, 0.90650703,\n",
      "       0.94623712, 0.94274856, 0.96541417, 0.93863677, 0.92773114,\n",
      "       0.94166053, 0.95019843, 0.94381962, 0.97080455, 0.93514893])}\n",
      "{'fit_time': array([0.00799966, 0.00800157, 0.00800395, 0.00800037, 0.00700212,\n",
      "       0.00800157, 0.00800228, 0.00799942, 0.00799274, 0.00694323,\n",
      "       0.00797343, 0.00900173, 0.00899935, 0.00897312, 0.00803089]), 'score_time': array([0.00199962, 0.00099874, 0.00199914, 0.00202703, 0.00199747,\n",
      "       0.00099897, 0.00099754, 0.00100017, 0.00100017, 0.00099969,\n",
      "       0.0010004 , 0.00199747, 0.00102758, 0.00199962, 0.00199604]), 'test_r2': array([0.95534297, 0.92803904, 0.9372443 , 0.94965265, 0.92196783,\n",
      "       0.93701031, 0.94921298, 0.97921961, 0.93986662, 0.90920022,\n",
      "       0.94977856, 0.93883158, 0.95117891, 0.97700066, 0.92599466])}\n",
      "{'fit_time': array([0.00799918, 0.00699306, 0.0079782 , 0.00700712, 0.00799227,\n",
      "       0.00699782, 0.00800014, 0.00800014, 0.00700021, 0.00799775,\n",
      "       0.00699973, 0.00800681, 0.00997019, 0.00899887, 0.00800705]), 'score_time': array([0.0010004 , 0.00200033, 0.00102282, 0.00200081, 0.0010004 ,\n",
      "       0.00199986, 0.0010004 , 0.00099945, 0.00200224, 0.0010078 ,\n",
      "       0.0010004 , 0.00200057, 0.00200224, 0.0020237 , 0.00199938]), 'test_r2': array([0.94099747, 0.91456135, 0.88889067, 0.94177183, 0.94544601,\n",
      "       0.93430691, 0.92692385, 0.97091585, 0.90189584, 0.91474099,\n",
      "       0.95221269, 0.89880314, 0.94305157, 0.96716806, 0.88805541])}\n",
      "{'fit_time': array([0.04700112, 0.04699874, 0.04901361, 0.04702711, 0.04699826,\n",
      "       0.046     , 0.04602075, 0.04500103, 0.04500008, 0.04600692,\n",
      "       0.04600048, 0.04599285, 0.04699802, 0.04699707, 0.04799962]), 'score_time': array([0.00100017, 0.00200033, 0.00198889, 0.00297165, 0.00200033,\n",
      "       0.00200033, 0.00099993, 0.00200009, 0.00200057, 0.00199962,\n",
      "       0.00199938, 0.00098228, 0.00199986, 0.0010004 , 0.00100064]), 'test_r2': array([0.94196034, 0.95085677, 0.96545504, 0.92996729, 0.88671071,\n",
      "       0.94889143, 0.95136458, 0.98315161, 0.93971334, 0.90931838,\n",
      "       0.94790372, 0.96480486, 0.951063  , 0.95955092, 0.92870744])}\n",
      "{'fit_time': array([0.01199818, 0.01397824, 0.01200008, 0.01199579, 0.01200008,\n",
      "       0.01297355, 0.01201105, 0.01202655, 0.01199722, 0.01300335,\n",
      "       0.01199985, 0.01199841, 0.01198936, 0.01103711, 0.01200175]), 'score_time': array([0.00099969, 0.0020287 , 0.00100446, 0.00099206, 0.00100732,\n",
      "       0.00099993, 0.00100017, 0.0019691 , 0.00200009, 0.00100017,\n",
      "       0.00100017, 0.00202847, 0.00101089, 0.00100112, 0.00200057]), 'test_r2': array([0.9554828 , 0.95030927, 0.98068935, 0.94162599, 0.90866268,\n",
      "       0.95821667, 0.95943777, 0.9792699 , 0.93444912, 0.88816774,\n",
      "       0.95008291, 0.94758416, 0.95662318, 0.97346166, 0.93496339])}\n",
      "{'fit_time': array([0.00697732, 0.00700808, 0.00699282, 0.00699472, 0.00697732,\n",
      "       0.00699949, 0.00802231, 0.00800133, 0.0079999 , 0.00899982,\n",
      "       0.00700378, 0.00799918, 0.00802851, 0.01200175, 0.00900078]), 'score_time': array([0.00102305, 0.00099921, 0.00200486, 0.00200009, 0.00200033,\n",
      "       0.00200033, 0.00099993, 0.00099969, 0.00099993, 0.00100756,\n",
      "       0.00099635, 0.00197244, 0.00300002, 0.00299788, 0.00099921]), 'test_r2': array([0.94669561, 0.92438312, 0.95165557, 0.95046969, 0.96339178,\n",
      "       0.92503668, 0.92562691, 0.97990284, 0.93059662, 0.92370358,\n",
      "       0.9609535 , 0.92744969, 0.94510224, 0.97247498, 0.9151152 ])}\n",
      "{'fit_time': array([0.0099988 , 0.00999999, 0.00999951, 0.00900126, 0.01002336,\n",
      "       0.00999713, 0.01002097, 0.01000166, 0.00900555, 0.0099721 ,\n",
      "       0.01199961, 0.01002908, 0.0090003 , 0.00999975, 0.01001096]), 'score_time': array([0.00099993, 0.00100017, 0.00100017, 0.00199986, 0.00100231,\n",
      "       0.00199723, 0.00200343, 0.0019989 , 0.00199556, 0.00200009,\n",
      "       0.00100017, 0.00099897, 0.00199962, 0.0010004 , 0.00200057]), 'test_r2': array([0.95577535, 0.94587176, 0.94762308, 0.93635028, 0.92319275,\n",
      "       0.934121  , 0.95852746, 0.97810741, 0.92621237, 0.89717287,\n",
      "       0.95999162, 0.95983162, 0.93616996, 0.96516878, 0.93684633])}\n",
      "{'fit_time': array([0.01498866, 0.01497841, 0.01599979, 0.01399994, 0.01499987,\n",
      "       0.01600051, 0.01600075, 0.01600003, 0.01599526, 0.01599979,\n",
      "       0.01499963, 0.01500034, 0.01499987, 0.01502919, 0.01499057]), 'score_time': array([0.00099945, 0.00100017, 0.00100017, 0.00200033, 0.00199962,\n",
      "       0.00099969, 0.00199962, 0.00200176, 0.00100017, 0.00100017,\n",
      "       0.00099993, 0.00200009, 0.00100017, 0.00200129, 0.00100064]), 'test_r2': array([0.92893577, 0.88224558, 0.88778434, 0.92513268, 0.95595681,\n",
      "       0.92142485, 0.91353085, 0.95737307, 0.87348854, 0.89447465,\n",
      "       0.94216074, 0.89236543, 0.92875729, 0.94685964, 0.86894257])}\n",
      "{'fit_time': array([0.04599309, 0.04699874, 0.04997325, 0.04799962, 0.04702282,\n",
      "       0.04599905, 0.04700994, 0.04797053, 0.0470295 , 0.04597259,\n",
      "       0.04700041, 0.04700041, 0.04702091, 0.04700708, 0.0459919 ]), 'score_time': array([0.00099802, 0.00200105, 0.00199938, 0.00199771, 0.00200009,\n",
      "       0.00200033, 0.00199699, 0.00100017, 0.00100017, 0.00199986,\n",
      "       0.00199986, 0.00099969, 0.00199914, 0.00100088, 0.00099969]), 'test_r2': array([0.94570092, 0.95190329, 0.96522632, 0.94534099, 0.87658279,\n",
      "       0.93833482, 0.93905736, 0.9822172 , 0.96082204, 0.89334082,\n",
      "       0.94636895, 0.95571345, 0.9652519 , 0.96943959, 0.93873592])}\n",
      "{'fit_time': array([0.00699973, 0.0079999 , 0.00699997, 0.00697923, 0.00700021,\n",
      "       0.00700665, 0.00700474, 0.00699925, 0.00800705, 0.00699878,\n",
      "       0.00800085, 0.00797415, 0.00796866, 0.00798535, 0.00697207]), 'score_time': array([0.00099993, 0.0010004 , 0.00201988, 0.00102043, 0.0010004 ,\n",
      "       0.00100017, 0.00198913, 0.00099945, 0.00100207, 0.00199246,\n",
      "       0.00100636, 0.00102925, 0.00201488, 0.00202751, 0.00202227]), 'test_r2': array([0.93969155, 0.92296225, 0.93196196, 0.93705855, 0.94550776,\n",
      "       0.94245108, 0.92469246, 0.97596763, 0.92246638, 0.91557676,\n",
      "       0.95316935, 0.91337276, 0.94930083, 0.96573292, 0.91829921])}\n",
      "{'fit_time': array([0.00800061, 0.00800133, 0.00791645, 0.00701833, 0.008008  ,\n",
      "       0.00800061, 0.00800419, 0.00797129, 0.00800705, 0.00699282,\n",
      "       0.00900173, 0.0079906 , 0.00900006, 0.00799966, 0.00899649]), 'score_time': array([0.00100112, 0.00208044, 0.00100708, 0.00199962, 0.00099826,\n",
      "       0.00099778, 0.00099611, 0.00202107, 0.00099993, 0.00200725,\n",
      "       0.0009985 , 0.00199914, 0.00200009, 0.00200438, 0.00200176]), 'test_r2': array([0.95769745, 0.93629938, 0.93270196, 0.94067717, 0.91012138,\n",
      "       0.94389942, 0.91362926, 0.97778802, 0.92768622, 0.92162897,\n",
      "       0.94934423, 0.94516645, 0.95361243, 0.97785166, 0.91968564])}\n",
      "{'fit_time': array([0.01203156, 0.01197338, 0.01099992, 0.01102901, 0.01202846,\n",
      "       0.01199269, 0.01102233, 0.0119698 , 0.01402283, 0.0120008 ,\n",
      "       0.01200199, 0.01200151, 0.01200247, 0.01100016, 0.01196957]), 'score_time': array([0.00099754, 0.00102854, 0.00197124, 0.00197101, 0.00100017,\n",
      "       0.0010004 , 0.00200701, 0.00200105, 0.00100684, 0.00200009,\n",
      "       0.00199819, 0.00099802, 0.00199699, 0.00200081, 0.0010004 ]), 'test_r2': array([0.95734891, 0.93785619, 0.95417819, 0.94251777, 0.91343681,\n",
      "       0.94954307, 0.95017467, 0.97786537, 0.93672557, 0.91256915,\n",
      "       0.94267374, 0.95000439, 0.95548945, 0.96887432, 0.93256658])}\n",
      "{'fit_time': array([0.05502129, 0.05700231, 0.06100512, 0.05702972, 0.05599785,\n",
      "       0.05499244, 0.05600071, 0.05400014, 0.05600047, 0.05500722,\n",
      "       0.05499172, 0.05498409, 0.05502844, 0.05499339, 0.05500627]), 'score_time': array([0.00200033, 0.00197768, 0.00197172, 0.00200105, 0.00100183,\n",
      "       0.00197816, 0.00102162, 0.00199962, 0.00200009, 0.00099969,\n",
      "       0.00100064, 0.00100017, 0.00100017, 0.00200081, 0.00297356]), 'test_r2': array([0.9460605 , 0.9399045 , 0.95211673, 0.93336073, 0.86923552,\n",
      "       0.95202003, 0.93898302, 0.98252444, 0.92842222, 0.89867426,\n",
      "       0.93952481, 0.94569353, 0.94815678, 0.96771161, 0.93146061])}\n",
      "{'fit_time': array([0.00699997, 0.00699949, 0.00800014, 0.00699973, 0.00699973,\n",
      "       0.00699997, 0.00799966, 0.00699973, 0.00699997, 0.00699997,\n",
      "       0.00699973, 0.00700021, 0.00699925, 0.01000166, 0.00699949]), 'score_time': array([0.00200033, 0.00100017, 0.00099993, 0.00200009, 0.0010004 ,\n",
      "       0.00100017, 0.0010004 , 0.00099993, 0.00100017, 0.00200009,\n",
      "       0.00200009, 0.00100017, 0.00200105, 0.00099945, 0.00200009]), 'test_r2': array([0.91720783, 0.88298069, 0.87728463, 0.92012456, 0.959479  ,\n",
      "       0.9179448 , 0.89890987, 0.95459829, 0.8790577 , 0.89799176,\n",
      "       0.93026185, 0.89142367, 0.91882512, 0.94900094, 0.87094298])}\n",
      "{'fit_time': array([0.04200268, 0.0400579 , 0.05199957, 0.04300785, 0.0420022 ,\n",
      "       0.03999972, 0.04003835, 0.03898144, 0.04001164, 0.04099703,\n",
      "       0.03999925, 0.03899956, 0.03899932, 0.03999972, 0.03999949]), 'score_time': array([0.00099945, 0.00099993, 0.00199986, 0.00200009, 0.00200009,\n",
      "       0.00200129, 0.00100112, 0.00198603, 0.00199986, 0.00099969,\n",
      "       0.00200033, 0.00200057, 0.00200033, 0.0010004 , 0.00200057]), 'test_r2': array([0.94623808, 0.93291866, 0.96528082, 0.91790191, 0.86251845,\n",
      "       0.94103068, 0.94913303, 0.97328385, 0.93361713, 0.90370527,\n",
      "       0.94290984, 0.93325759, 0.95507731, 0.96366573, 0.92633908])}\n",
      "{'fit_time': array([0.01000977, 0.00900578, 0.01002884, 0.0089879 , 0.00900769,\n",
      "       0.01000118, 0.01000977, 0.00899339, 0.01000595, 0.01097012,\n",
      "       0.01199889, 0.01002836, 0.00997281, 0.01000023, 0.01002693]), 'score_time': array([0.00099087, 0.00100064, 0.00100183, 0.00200057, 0.00199127,\n",
      "       0.00099921, 0.00099897, 0.00199986, 0.00100088, 0.00100064,\n",
      "       0.0010004 , 0.0010004 , 0.00199986, 0.00099993, 0.00100207]), 'test_r2': array([0.95435433, 0.92464144, 0.95076448, 0.96137852, 0.92557251,\n",
      "       0.94381339, 0.95638003, 0.98434916, 0.9293694 , 0.92828111,\n",
      "       0.94250981, 0.93802587, 0.93336353, 0.97607036, 0.92892937])}\n",
      "{'fit_time': array([0.01300502, 0.01299214, 0.01300049, 0.01300669, 0.01299977,\n",
      "       0.01299381, 0.0130012 , 0.01299953, 0.01497269, 0.01400018,\n",
      "       0.01302958, 0.01300001, 0.01200008, 0.01300359, 0.01297259]), 'score_time': array([0.00199533, 0.00100064, 0.00099969, 0.00200105, 0.00100183,\n",
      "       0.00100088, 0.00199842, 0.00199986, 0.00199986, 0.00099993,\n",
      "       0.00199699, 0.00100279, 0.00199986, 0.00199652, 0.00202823]), 'test_r2': array([0.9637358 , 0.94211207, 0.95076446, 0.94990214, 0.92043674,\n",
      "       0.93361327, 0.96354447, 0.98471858, 0.95364538, 0.92689556,\n",
      "       0.94375876, 0.9311641 , 0.93821614, 0.97861094, 0.92146845])}\n",
      "{'fit_time': array([0.05000114, 0.05197215, 0.06400037, 0.06499672, 0.066998  ,\n",
      "       0.05199862, 0.04901934, 0.05000329, 0.04900742, 0.05097246,\n",
      "       0.05199766, 0.04902959, 0.04899883, 0.04999948, 0.04997277]), 'score_time': array([0.00199986, 0.00300002, 0.00300312, 0.002002  , 0.00200105,\n",
      "       0.00099993, 0.00200009, 0.00099683, 0.00199962, 0.00100017,\n",
      "       0.00200009, 0.00200152, 0.00100112, 0.00100207, 0.00199986]), 'test_r2': array([0.94698062, 0.94712799, 0.94921638, 0.93648347, 0.88265963,\n",
      "       0.95175518, 0.92833916, 0.98076887, 0.9381672 , 0.90447187,\n",
      "       0.9409731 , 0.92782471, 0.95358556, 0.97109292, 0.93427988])}\n",
      "{'fit_time': array([0.03302503, 0.03200746, 0.0329771 , 0.03500247, 0.03302646,\n",
      "       0.03300023, 0.0322752 , 0.03199697, 0.03200197, 0.03299165,\n",
      "       0.03202724, 0.03299689, 0.03200245, 0.03199744, 0.03199983]), 'score_time': array([0.00199938, 0.00197339, 0.00100017, 0.00100017, 0.00200009,\n",
      "       0.00200105, 0.00099993, 0.00100803, 0.00199842, 0.00200009,\n",
      "       0.00200343, 0.00100255, 0.00199986, 0.00100017, 0.00200009]), 'test_r2': array([0.94814197, 0.94444364, 0.96426711, 0.94507424, 0.87329694,\n",
      "       0.94854929, 0.95401092, 0.9826873 , 0.94436496, 0.90844531,\n",
      "       0.93346345, 0.96004555, 0.94852985, 0.96740594, 0.93932666])}\n",
      "{'fit_time': array([0.01400495, 0.01399922, 0.01399994, 0.01400208, 0.01399159,\n",
      "       0.01399922, 0.01400661, 0.02203107, 0.01499939, 0.01400089,\n",
      "       0.01399493, 0.01400328, 0.01497269, 0.01502585, 0.01500511]), 'score_time': array([0.00099611, 0.00199938, 0.00100017, 0.00099754, 0.00100017,\n",
      "       0.00200105, 0.00197124, 0.00096846, 0.00099969, 0.00102949,\n",
      "       0.00099945, 0.00199986, 0.00199938, 0.0019989 , 0.00199556]), 'test_r2': array([0.95613957, 0.93881673, 0.9357272 , 0.9390551 , 0.91294856,\n",
      "       0.94612388, 0.92968691, 0.98027911, 0.92703146, 0.90779082,\n",
      "       0.94405691, 0.91854757, 0.95751795, 0.97820556, 0.92174446])}\n",
      "{'fit_time': array([0.01997995, 0.0199995 , 0.01899981, 0.01900005, 0.02102757,\n",
      "       0.02097011, 0.02203202, 0.01902795, 0.01997089, 0.0199666 ,\n",
      "       0.0199995 , 0.01899981, 0.02300334, 0.02098894, 0.01900887]), 'score_time': array([0.0010004 , 0.00100017, 0.00200009, 0.00199986, 0.00099945,\n",
      "       0.00200105, 0.00099683, 0.00200081, 0.00203228, 0.0010004 ,\n",
      "       0.00100017, 0.00200009, 0.00199795, 0.00099921, 0.00100255]), 'test_r2': array([0.95886678, 0.94251077, 0.98383916, 0.95787932, 0.92152669,\n",
      "       0.95215901, 0.9678085 , 0.98405848, 0.95359294, 0.91553367,\n",
      "       0.93195178, 0.97302617, 0.95927884, 0.96971536, 0.93699772])}\n",
      "{'fit_time': array([0.01099181, 0.01200032, 0.01100683, 0.01100326, 0.01100183,\n",
      "       0.01099181, 0.01202035, 0.01297736, 0.01302695, 0.01199841,\n",
      "       0.01596904, 0.01199985, 0.01099968, 0.01099968, 0.01203442]), 'score_time': array([0.00200009, 0.00099945, 0.00200248, 0.00199485, 0.00199866,\n",
      "       0.00197983, 0.00100017, 0.00199938, 0.00199819, 0.00300694,\n",
      "       0.0010004 , 0.00100017, 0.00200033, 0.00200009, 0.00096774]), 'test_r2': array([0.95930414, 0.93109245, 0.93820369, 0.94866921, 0.93101579,\n",
      "       0.94616512, 0.95197334, 0.974427  , 0.9368419 , 0.91706485,\n",
      "       0.95907253, 0.93780738, 0.95110611, 0.97224079, 0.93383356])}\n",
      "{'fit_time': array([0.02399969, 0.02499819, 0.02400112, 0.02497745, 0.0340004 ,\n",
      "       0.02599931, 0.02602339, 0.02400017, 0.02410817, 0.02400088,\n",
      "       0.02496934, 0.02603006, 0.02496934, 0.02500772, 0.02499294]), 'score_time': array([0.00200009, 0.00099993, 0.00202322, 0.00200057, 0.00199986,\n",
      "       0.0019989 , 0.00200748, 0.00200009, 0.00200653, 0.00200057,\n",
      "       0.00199914, 0.00100136, 0.00202227, 0.00099969, 0.00099969]), 'test_r2': array([0.94734036, 0.94625517, 0.95534676, 0.95303791, 0.88988585,\n",
      "       0.95784808, 0.93545757, 0.98449531, 0.9419944 , 0.92036526,\n",
      "       0.93316513, 0.93261512, 0.95952249, 0.97070287, 0.93690047])}\n",
      "{'fit_time': array([0.02299953, 0.02399731, 0.02402425, 0.02400851, 0.02497149,\n",
      "       0.02502823, 0.02400613, 0.02296996, 0.02403665, 0.0239985 ,\n",
      "       0.02399254, 0.02300882, 0.02399015, 0.02400112, 0.0230267 ]), 'score_time': array([0.00200033, 0.00200033, 0.0009985 , 0.00199914, 0.00199986,\n",
      "       0.00199938, 0.00099373, 0.00200033, 0.00099277, 0.0010004 ,\n",
      "       0.00100017, 0.00200248, 0.00099921, 0.00099921, 0.00200248]), 'test_r2': array([0.96010582, 0.94289157, 0.95467202, 0.95022648, 0.90027857,\n",
      "       0.94986152, 0.94338101, 0.98273826, 0.94272438, 0.90564715,\n",
      "       0.95760753, 0.94217786, 0.94855857, 0.97987228, 0.93102891])}\n",
      "{'fit_time': array([0.00700092, 0.00802827, 0.00700164, 0.00699925, 0.00700068,\n",
      "       0.00700235, 0.00599265, 0.00699186, 0.00699973, 0.00700808,\n",
      "       0.00697017, 0.00803804, 0.00797224, 0.00800157, 0.00697756]), 'score_time': array([0.00196934, 0.00099969, 0.00199938, 0.00099993, 0.00199986,\n",
      "       0.00099874, 0.00200796, 0.00099969, 0.00099969, 0.00100183,\n",
      "       0.0020225 , 0.00099945, 0.00103164, 0.00099874, 0.00300503]), 'test_r2': array([0.90100375, 0.87015623, 0.86435353, 0.92661371, 0.96522142,\n",
      "       0.90511103, 0.87207106, 0.94443649, 0.86854445, 0.88380969,\n",
      "       0.92209564, 0.85071628, 0.91113755, 0.93410889, 0.85807837])}\n",
      "{'fit_time': array([0.04097986, 0.04199672, 0.05000186, 0.04099894, 0.04099822,\n",
      "       0.04002166, 0.04097772, 0.04602933, 0.04197001, 0.0399673 ,\n",
      "       0.04097271, 0.04200029, 0.04101992, 0.04098058, 0.04200006]), 'score_time': array([0.00200057, 0.00100136, 0.00200224, 0.00199986, 0.00200129,\n",
      "       0.00200033, 0.00299954, 0.00200081, 0.00102949, 0.00200152,\n",
      "       0.00099993, 0.00099969, 0.00199986, 0.0010004 , 0.00199938]), 'test_r2': array([0.95387141, 0.94680021, 0.96572017, 0.94020003, 0.9149832 ,\n",
      "       0.95614889, 0.95222069, 0.98164256, 0.9466247 , 0.90560387,\n",
      "       0.94045356, 0.94744861, 0.96122401, 0.97632071, 0.93749655])}\n",
      "{'fit_time': array([0.043993  , 0.0449717 , 0.05000043, 0.04501629, 0.04597592,\n",
      "       0.0429728 , 0.04499936, 0.04400086, 0.04302049, 0.0440073 ,\n",
      "       0.04499245, 0.0439992 , 0.04400086, 0.04299474, 0.0439992 ]), 'score_time': array([0.00200748, 0.00200009, 0.00301313, 0.00199986, 0.00102377,\n",
      "       0.00200057, 0.00199986, 0.00099969, 0.00199986, 0.00199962,\n",
      "       0.00100803, 0.00100112, 0.0019989 , 0.00199866, 0.00100088]), 'test_r2': array([0.95128319, 0.95274885, 0.97564538, 0.95152523, 0.87331423,\n",
      "       0.94971071, 0.95195645, 0.9682634 , 0.94502273, 0.90188386,\n",
      "       0.94812476, 0.95970545, 0.95824864, 0.9685557 , 0.93056121])}\n",
      "{'fit_time': array([0.02399111, 0.02299953, 0.023     , 0.02300715, 0.02497029,\n",
      "       0.02703214, 0.02497292, 0.02302814, 0.0239954 , 0.02300739,\n",
      "       0.02301502, 0.02300501, 0.02399898, 0.02400851, 0.02396965]), 'score_time': array([0.00099993, 0.00199986, 0.00200009, 0.00200105, 0.00199962,\n",
      "       0.0009973 , 0.0010004 , 0.00100112, 0.00199485, 0.00100017,\n",
      "       0.00099206, 0.00099254, 0.00099349, 0.00099921, 0.00100017]), 'test_r2': array([0.94666001, 0.94782796, 0.96700666, 0.94481531, 0.89074101,\n",
      "       0.95287242, 0.9480999 , 0.97505413, 0.93845534, 0.88898074,\n",
      "       0.93022913, 0.93629331, 0.96112419, 0.97289344, 0.93215147])}\n",
      "{'fit_time': array([0.02599263, 0.02600098, 0.02599931, 0.02600288, 0.02900696,\n",
      "       0.025985  , 0.03300142, 0.02499938, 0.02499962, 0.02499938,\n",
      "       0.02499819, 0.02499914, 0.02600074, 0.02597904, 0.02502108]), 'score_time': array([0.0010004 , 0.00199962, 0.00100851, 0.00198841, 0.00097132,\n",
      "       0.00200057, 0.00199938, 0.00200033, 0.00200057, 0.0010004 ,\n",
      "       0.00200057, 0.00100017, 0.00200176, 0.00100064, 0.00099826]), 'test_r2': array([0.95289554, 0.95152395, 0.95065713, 0.93129784, 0.90112707,\n",
      "       0.94863258, 0.91321981, 0.9798116 , 0.94369332, 0.89645336,\n",
      "       0.93893206, 0.95807738, 0.95916851, 0.97122195, 0.93615301])}\n",
      "{'fit_time': array([0.00699997, 0.00699997, 0.00700712, 0.00699902, 0.00699973,\n",
      "       0.00700498, 0.00799966, 0.00699949, 0.00699973, 0.00802088,\n",
      "       0.00799918, 0.00699949, 0.00702786, 0.00800538, 0.00802135]), 'score_time': array([0.0010004 , 0.00199986, 0.00099969, 0.00099993, 0.00200057,\n",
      "       0.00099492, 0.0010004 , 0.00200033, 0.00100017, 0.00099993,\n",
      "       0.00099993, 0.00099993, 0.00099993, 0.00196695, 0.0010066 ]), 'test_r2': array([0.90821538, 0.88026932, 0.88980138, 0.9272512 , 0.95939469,\n",
      "       0.91262998, 0.88819624, 0.95098407, 0.87199076, 0.89271035,\n",
      "       0.91852493, 0.88125434, 0.91526593, 0.93963173, 0.87246983])}\n",
      "{'fit_time': array([0.02400208, 0.02399969, 0.02403808, 0.02400899, 0.02596974,\n",
      "       0.02599645, 0.02500033, 0.02502942, 0.02399993, 0.02409506,\n",
      "       0.02397275, 0.0239985 , 0.02399015, 0.02406812, 0.0250082 ]), 'score_time': array([0.00199819, 0.00199294, 0.00199962, 0.00099778, 0.00200105,\n",
      "       0.00200009, 0.00200057, 0.00099945, 0.0010016 , 0.00194144,\n",
      "       0.00199962, 0.00103045, 0.0019784 , 0.00199246, 0.00100136]), 'test_r2': array([0.95995685, 0.94331184, 0.95880477, 0.94800461, 0.89634952,\n",
      "       0.9443546 , 0.93543753, 0.98106678, 0.93956439, 0.90689958,\n",
      "       0.95018942, 0.93002598, 0.95206145, 0.9754853 , 0.92535969])}\n",
      "{'fit_time': array([0.0090003 , 0.01000071, 0.01000071, 0.0089922 , 0.00900006,\n",
      "       0.01000619, 0.00903678, 0.00902319, 0.00900865, 0.01097727,\n",
      "       0.01100016, 0.01100183, 0.0110395 , 0.00999928, 0.01002908]), 'score_time': array([0.00200033, 0.00099897, 0.00100327, 0.00099993, 0.00200057,\n",
      "       0.00100088, 0.00099754, 0.00099969, 0.00203085, 0.00100017,\n",
      "       0.00200129, 0.00199986, 0.00100231, 0.00099993, 0.00099993]), 'test_r2': array([0.95443985, 0.92256643, 0.94937146, 0.94599196, 0.93403219,\n",
      "       0.93889229, 0.9624694 , 0.98177614, 0.92519158, 0.90845994,\n",
      "       0.96079417, 0.94669451, 0.94015105, 0.97692312, 0.93060567])}\n",
      "{'fit_time': array([0.02899933, 0.02899981, 0.02799988, 0.03002238, 0.03100228,\n",
      "       0.02999949, 0.02999687, 0.0280025 , 0.0289979 , 0.02899957,\n",
      "       0.02802229, 0.02800798, 0.02799988, 0.02800059, 0.02900028]), 'score_time': array([0.0010004 , 0.00100017, 0.00200033, 0.00198317, 0.00200033,\n",
      "       0.00200009, 0.00100136, 0.00200009, 0.00099993, 0.00099993,\n",
      "       0.00199986, 0.00199938, 0.00200009, 0.00199914, 0.00200081]), 'test_r2': array([0.94485304, 0.94549064, 0.9670396 , 0.92333318, 0.87688134,\n",
      "       0.94753242, 0.92214329, 0.97425457, 0.93490201, 0.90186085,\n",
      "       0.9395818 , 0.95278481, 0.94510921, 0.96151026, 0.93012713])}\n",
      "{'fit_time': array([0.00799918, 0.00899959, 0.00900102, 0.00800109, 0.00803089,\n",
      "       0.01000071, 0.00897121, 0.0100534 , 0.00797319, 0.00897264,\n",
      "       0.01199961, 0.01200199, 0.01199841, 0.01197648, 0.01300025]), 'score_time': array([0.00199962, 0.00099897, 0.00100017, 0.00099921, 0.00200081,\n",
      "       0.00100136, 0.00199962, 0.00096989, 0.0020268 , 0.00200129,\n",
      "       0.00300002, 0.00200033, 0.00100565, 0.00300002, 0.00299907]), 'test_r2': array([0.93767046, 0.90578576, 0.92132779, 0.93740801, 0.95152663,\n",
      "       0.92806302, 0.94030861, 0.96645589, 0.88589945, 0.90335188,\n",
      "       0.9408834 , 0.88222612, 0.93358952, 0.96309938, 0.88999321])}\n",
      "{'fit_time': array([0.01600003, 0.01599979, 0.01599574, 0.01599765, 0.01499987,\n",
      "       0.01599956, 0.01502776, 0.01999784, 0.01503563, 0.01600146,\n",
      "       0.01402879, 0.01500034, 0.01502776, 0.01499939, 0.01500058]), 'score_time': array([0.00100017, 0.00199747, 0.00097752, 0.00099969, 0.00200009,\n",
      "       0.00197244, 0.00197363, 0.00199795, 0.00196552, 0.00099969,\n",
      "       0.00199962, 0.0019722 , 0.00099993, 0.00200033, 0.00197148]), 'test_r2': array([0.95034755, 0.94325142, 0.97084413, 0.95477456, 0.87337009,\n",
      "       0.93815239, 0.9510711 , 0.97588014, 0.92974817, 0.87720455,\n",
      "       0.95594118, 0.93456442, 0.95406738, 0.97292772, 0.92604789])}\n",
      "{'fit_time': array([0.02596951, 0.02600002, 0.02599907, 0.03000164, 0.029001  ,\n",
      "       0.02699518, 0.02503181, 0.02499437, 0.02597666, 0.02499652,\n",
      "       0.02600026, 0.02499199, 0.02500725, 0.02599955, 0.02602744]), 'score_time': array([0.00202966, 0.00100088, 0.00200057, 0.00099802, 0.00196981,\n",
      "       0.00099993, 0.00200057, 0.0019958 , 0.00100183, 0.00199986,\n",
      "       0.00100017, 0.00200033, 0.00200129, 0.00100207, 0.00100017]), 'test_r2': array([0.95354819, 0.94450966, 0.96864788, 0.95593976, 0.86864377,\n",
      "       0.94949445, 0.93591715, 0.98045001, 0.9424216 , 0.92623286,\n",
      "       0.9211585 , 0.94424355, 0.94794553, 0.97260285, 0.93323063])}\n",
      "{'fit_time': array([0.00699997, 0.00702906, 0.00699973, 0.00697303, 0.00700021,\n",
      "       0.00699973, 0.00700092, 0.0059967 , 0.00699949, 0.00598979,\n",
      "       0.0070076 , 0.00699997, 0.00696993, 0.00700116, 0.009974  ]), 'score_time': array([0.00099921, 0.00099969, 0.0010035 , 0.00099993, 0.00199986,\n",
      "       0.00199986, 0.00099969, 0.00200033, 0.00099993, 0.00199914,\n",
      "       0.00099969, 0.00100017, 0.00099921, 0.00203013, 0.00199842]), 'test_r2': array([0.95513602, 0.92399934, 0.92009357, 0.93873394, 0.92611605,\n",
      "       0.95404031, 0.94209706, 0.97676012, 0.93260478, 0.92341705,\n",
      "       0.94612523, 0.94911938, 0.95257566, 0.97216918, 0.92321155])}\n",
      "{'fit_time': array([0.03699946, 0.03599977, 0.03699875, 0.04199743, 0.03799939,\n",
      "       0.03800035, 0.03702497, 0.03600168, 0.03698015, 0.03700018,\n",
      "       0.03599715, 0.03602123, 0.03600979, 0.03597498, 0.03600025]), 'score_time': array([0.0010004 , 0.00100017, 0.00200129, 0.00200033, 0.0010004 ,\n",
      "       0.00100017, 0.00199556, 0.00200009, 0.00199986, 0.00099969,\n",
      "       0.00200057, 0.00199962, 0.00199747, 0.00202584, 0.00100017]), 'test_r2': array([0.95073691, 0.94320564, 0.96311923, 0.9538974 , 0.86772493,\n",
      "       0.94487414, 0.93868634, 0.97891119, 0.93845518, 0.89987474,\n",
      "       0.94899512, 0.93375591, 0.94837379, 0.96297301, 0.93361059])}\n",
      "{'fit_time': array([0.06300187, 0.06097102, 0.06100178, 0.06002092, 0.06000113,\n",
      "       0.06000972, 0.0599997 , 0.05900121, 0.06000137, 0.05999923,\n",
      "       0.05897164, 0.0600276 , 0.05897021, 0.06002784, 0.06200194]), 'score_time': array([0.00199771, 0.00201488, 0.00199986, 0.00199986, 0.00199914,\n",
      "       0.00199795, 0.00199962, 0.0019989 , 0.00199962, 0.00200057,\n",
      "       0.00200009, 0.00199938, 0.00200033, 0.00199962, 0.00199986]), 'test_r2': array([0.94136821, 0.94095364, 0.97057378, 0.96051809, 0.86767529,\n",
      "       0.92809933, 0.94111319, 0.98441019, 0.9531885 , 0.88571298,\n",
      "       0.95338678, 0.92559143, 0.94956552, 0.95893172, 0.93541695])}\n",
      "{'fit_time': array([0.00699997, 0.00697088, 0.00700045, 0.00699973, 0.00699949,\n",
      "       0.00697088, 0.00700021, 0.00699973, 0.00701976, 0.00699735,\n",
      "       0.00599933, 0.00699973, 0.00699854, 0.00903106, 0.00797296]), 'score_time': array([0.00099993, 0.00100017, 0.00099969, 0.00200057, 0.00204039,\n",
      "       0.00199986, 0.00100017, 0.00100017, 0.00200319, 0.0010004 ,\n",
      "       0.00200009, 0.00100756, 0.00099993, 0.00199962, 0.00199986]), 'test_r2': array([0.95381542, 0.93045455, 0.90549732, 0.94491785, 0.95125927,\n",
      "       0.93924862, 0.92990909, 0.97958574, 0.92832624, 0.91813481,\n",
      "       0.94984856, 0.91040228, 0.94219056, 0.97369319, 0.91424498])}\n",
      "{'fit_time': array([0.02799153, 0.02800155, 0.02799988, 0.02797294, 0.03099823,\n",
      "       0.0320003 , 0.02899957, 0.02699971, 0.02902102, 0.02800155,\n",
      "       0.02800012, 0.02800775, 0.02700233, 0.02902794, 0.02799988]), 'score_time': array([0.00100064, 0.00099826, 0.00199771, 0.00199866, 0.00200009,\n",
      "       0.00200033, 0.0010004 , 0.00200033, 0.00099993, 0.00099993,\n",
      "       0.00100064, 0.00099921, 0.00196934, 0.00100088, 0.00200438]), 'test_r2': array([0.95271011, 0.94185087, 0.97182786, 0.93977014, 0.88618797,\n",
      "       0.94036074, 0.94998562, 0.98195794, 0.9371182 , 0.90172801,\n",
      "       0.93248791, 0.95220303, 0.95260982, 0.97095227, 0.93475583])}\n",
      "{'fit_time': array([0.01299953, 0.01199985, 0.01199961, 0.01299977, 0.01199985,\n",
      "       0.01199985, 0.01500082, 0.02600384, 0.02199745, 0.02199936,\n",
      "       0.02099609, 0.01999998, 0.02200198, 0.01700163, 0.02199602]), 'score_time': array([0.00200033, 0.00200009, 0.0010004 , 0.00100017, 0.0010004 ,\n",
      "       0.0010004 , 0.00400043, 0.00300097, 0.00300145, 0.00300407,\n",
      "       0.00300002, 0.00299931, 0.00099969, 0.00100064, 0.00199819]), 'test_r2': array([0.95173006, 0.90931469, 0.92200548, 0.9509135 , 0.94729626,\n",
      "       0.93987464, 0.92517688, 0.97867616, 0.91464306, 0.91476959,\n",
      "       0.9521689 , 0.9061321 , 0.9473455 , 0.97177052, 0.90409617])}\n",
      "{'fit_time': array([0.04199982, 0.04202056, 0.04397869, 0.04599881, 0.04202986,\n",
      "       0.04202676, 0.04196858, 0.04999709, 0.0460012 , 0.04199958,\n",
      "       0.04399729, 0.04300046, 0.0420289 , 0.06000209, 0.11197138]), 'score_time': array([0.00100064, 0.0019989 , 0.00300169, 0.0010016 , 0.00197339,\n",
      "       0.00200295, 0.002002  , 0.00199986, 0.00100064, 0.00200176,\n",
      "       0.00100017, 0.00100088, 0.0009973 , 0.00100183, 0.00199819]), 'test_r2': array([0.95166496, 0.94791322, 0.96808279, 0.95376097, 0.91598436,\n",
      "       0.95171262, 0.94432426, 0.97892669, 0.94265106, 0.90051779,\n",
      "       0.93366834, 0.94928502, 0.96008031, 0.97597049, 0.93823791])}\n",
      "{'fit_time': array([0.03099918, 0.0320003 , 0.03300619, 0.03599072, 0.0340004 ,\n",
      "       0.03702068, 0.03296995, 0.03200102, 0.03199983, 0.0310204 ,\n",
      "       0.03097606, 0.03100634, 0.03197241, 0.03202724, 0.03099346]), 'score_time': array([0.00200009, 0.00197077, 0.00099063, 0.00099993, 0.00300694,\n",
      "       0.00199938, 0.00200057, 0.0010016 , 0.00200009, 0.00199986,\n",
      "       0.00202394, 0.00200057, 0.0010004 , 0.00100207, 0.00200009]), 'test_r2': array([0.94397911, 0.94122977, 0.9748859 , 0.94745758, 0.86334926,\n",
      "       0.93822071, 0.94625249, 0.97737554, 0.93695562, 0.89647128,\n",
      "       0.94284688, 0.94792921, 0.95124591, 0.96625233, 0.93381385])}\n",
      "{'fit_time': array([0.01402688, 0.01399899, 0.0139699 , 0.01300001, 0.01302218,\n",
      "       0.01400709, 0.01397204, 0.01803041, 0.0139966 , 0.0129993 ,\n",
      "       0.0139997 , 0.01799893, 0.01302195, 0.01299953, 0.01299286]), 'score_time': array([0.00100064, 0.00099993, 0.00100017, 0.00200009, 0.00200057,\n",
      "       0.00199962, 0.0019989 , 0.00197244, 0.00200057, 0.00200057,\n",
      "       0.00200057, 0.00100017, 0.00200725, 0.00200009, 0.00200868]), 'test_r2': array([0.95402022, 0.93382466, 0.97003443, 0.95915561, 0.88655307,\n",
      "       0.94255157, 0.95524795, 0.98307428, 0.94332143, 0.88933361,\n",
      "       0.96493662, 0.95306271, 0.94933813, 0.97689724, 0.93406457])}\n",
      "{'fit_time': array([0.01399565, 0.01396799, 0.01399112, 0.01397824, 0.01397061,\n",
      "       0.01500869, 0.0150001 , 0.01602697, 0.01802897, 0.01602745,\n",
      "       0.01497149, 0.01600075, 0.01502681, 0.01500082, 0.01499534]), 'score_time': array([0.00200319, 0.00203037, 0.00100183, 0.00102854, 0.00199962,\n",
      "       0.00099444, 0.00200033, 0.0010016 , 0.0019722 , 0.00100064,\n",
      "       0.00202847, 0.00197268, 0.00197053, 0.0010345 , 0.00100613]), 'test_r2': array([0.94458889, 0.92872646, 0.96227949, 0.95332863, 0.88085407,\n",
      "       0.94451443, 0.94185022, 0.97875816, 0.93563392, 0.88871427,\n",
      "       0.9628087 , 0.94062068, 0.95764685, 0.97612128, 0.93214318])}\n",
      "{'fit_time': array([0.05599856, 0.05900121, 0.0714047 , 0.05700159, 0.05499792,\n",
      "       0.05299926, 0.0510211 , 0.05101228, 0.05559063, 0.05299687,\n",
      "       0.05464196, 0.05297208, 0.05202675, 0.05299854, 0.05499935]), 'score_time': array([0.00200009, 0.0030036 , 0.00200009, 0.00199986, 0.00200009,\n",
      "       0.00100017, 0.00199986, 0.00199699, 0.0010035 , 0.00197577,\n",
      "       0.00097275, 0.00100064, 0.00197029, 0.00200033, 0.00199938]), 'test_r2': array([0.95154155, 0.94469276, 0.96116529, 0.95234857, 0.87357642,\n",
      "       0.94789011, 0.93561022, 0.98431132, 0.94023901, 0.90634747,\n",
      "       0.9560822 , 0.94683606, 0.9582432 , 0.96877756, 0.93391243])}\n",
      "{'fit_time': array([0.01399922, 0.01302695, 0.01299334, 0.01299977, 0.0129962 ,\n",
      "       0.01300693, 0.01299691, 0.01301003, 0.01397109, 0.01396894,\n",
      "       0.02003002, 0.0130024 , 0.01400042, 0.01497102, 0.01802945]), 'score_time': array([0.00099993, 0.00199962, 0.00099969, 0.00100493, 0.00099969,\n",
      "       0.00200057, 0.00199533, 0.00199723, 0.00403047, 0.00200009,\n",
      "       0.00199938, 0.00199819, 0.00199914, 0.0079999 , 0.00100183]), 'test_r2': array([0.9223796 , 0.88468367, 0.89520669, 0.94013032, 0.9649877 ,\n",
      "       0.92767842, 0.91623282, 0.96523238, 0.89847164, 0.91072355,\n",
      "       0.94072112, 0.89615463, 0.92565216, 0.95437845, 0.87446543])}\n",
      "{'fit_time': array([0.00701118, 0.00599313, 0.00700736, 0.00699997, 0.00700021,\n",
      "       0.00600028, 0.00699973, 0.00700688, 0.00599265, 0.00700021,\n",
      "       0.00700045, 0.00602174, 0.00600719, 0.00697708, 0.0070014 ]), 'score_time': array([0.00099659, 0.00199962, 0.00100231, 0.00099754, 0.00100613,\n",
      "       0.00200033, 0.00099969, 0.00100112, 0.00100017, 0.00099921,\n",
      "       0.00102401, 0.00199962, 0.00197148, 0.00099969, 0.0019989 ]), 'test_r2': array([0.74027627, 0.72433812, 0.72912232, 0.76179287, 0.84360682,\n",
      "       0.79536092, 0.73416592, 0.81044656, 0.71566243, 0.74478371,\n",
      "       0.79760136, 0.73805228, 0.80933285, 0.76967742, 0.71870329])}\n",
      "{'fit_time': array([0.01799989, 0.01699495, 0.01707554, 0.01799273, 0.01797271,\n",
      "       0.01900125, 0.02199817, 0.02201223, 0.01900101, 0.01999807,\n",
      "       0.02000046, 0.01902652, 0.0170393 , 0.01699972, 0.01800179]), 'score_time': array([0.00099993, 0.00200105, 0.00196028, 0.00097823, 0.00199986,\n",
      "       0.00199938, 0.0030005 , 0.00199962, 0.00199986, 0.00200033,\n",
      "       0.00100279, 0.0010004 , 0.00099802, 0.00199914, 0.00099969]), 'test_r2': array([0.95235828, 0.94145157, 0.96181906, 0.95372354, 0.87402989,\n",
      "       0.93223241, 0.95008758, 0.98280856, 0.94756993, 0.90013368,\n",
      "       0.94764228, 0.9500152 , 0.94917397, 0.97410578, 0.93153701])}\n",
      "{'fit_time': array([0.01799941, 0.01799965, 0.01800036, 0.01699018, 0.01700783,\n",
      "       0.01799965, 0.02396703, 0.02002954, 0.01696944, 0.01802897,\n",
      "       0.01800013, 0.01897669, 0.01699972, 0.01700115, 0.01800013]), 'score_time': array([0.00099993, 0.00100017, 0.00100017, 0.0010004 , 0.00199938,\n",
      "       0.0020051 , 0.00299931, 0.00099874, 0.00199986, 0.00199986,\n",
      "       0.00199485, 0.00200033, 0.00200033, 0.00199986, 0.00099993]), 'test_r2': array([0.94706455, 0.94767906, 0.97115744, 0.94812134, 0.8807156 ,\n",
      "       0.93985845, 0.95187316, 0.97737324, 0.95184472, 0.91988978,\n",
      "       0.94075193, 0.96604563, 0.94825828, 0.95973003, 0.93634309])}\n",
      "{'fit_time': array([0.01299715, 0.01300383, 0.01299238, 0.01300812, 0.01397276,\n",
      "       0.02299953, 0.0190227 , 0.01800704, 0.01796818, 0.01699758,\n",
      "       0.01296949, 0.01400185, 0.01299906, 0.01302981, 0.01298761]), 'score_time': array([0.00199819, 0.0010004 , 0.0010004 , 0.00199699, 0.00200009,\n",
      "       0.00199962, 0.00299954, 0.00200319, 0.00202084, 0.00100112,\n",
      "       0.00199986, 0.00200009, 0.00200009, 0.00101066, 0.00100088]), 'test_r2': array([0.94633399, 0.94824669, 0.953492  , 0.95503642, 0.88796279,\n",
      "       0.95513957, 0.94743236, 0.96207032, 0.94241946, 0.91242489,\n",
      "       0.94662614, 0.96268889, 0.94388653, 0.9751094 , 0.92735784])}\n",
      "{'fit_time': array([0.01099896, 0.01199675, 0.01200294, 0.01200008, 0.01199985,\n",
      "       0.01100016, 0.01099992, 0.01199985, 0.0119977 , 0.01300073,\n",
      "       0.01500082, 0.01300025, 0.01102972, 0.01300025, 0.0119729 ]), 'score_time': array([0.00100017, 0.00099993, 0.0010004 , 0.00099969, 0.00099993,\n",
      "       0.00200033, 0.00099969, 0.00200009, 0.00200009, 0.00200009,\n",
      "       0.00199795, 0.0010004 , 0.00200009, 0.00100064, 0.00100017]), 'test_r2': array([0.91976501, 0.88133891, 0.89396442, 0.93372568, 0.96038811,\n",
      "       0.92411212, 0.90334125, 0.95734627, 0.89098983, 0.8941364 ,\n",
      "       0.9338099 , 0.89974784, 0.92961057, 0.93333071, 0.87930448])}\n"
     ]
    },
    {
     "data": {
      "text/plain": "<IPython.core.display.HTML object>",
      "text/html": "<br/>Waiting for W&B process to finish, PID 7192<br/>Program ended successfully."
     },
     "metadata": {},
     "output_type": "display_data"
    },
    {
     "data": {
      "text/plain": "VBox(children=(Label(value=' 0.00MB of 0.00MB uploaded (0.00MB deduped)\\r'), FloatProgress(value=1.0, max=1.0)…",
      "application/vnd.jupyter.widget-view+json": {
       "version_major": 2,
       "version_minor": 0,
       "model_id": "b5da36d8f0ba434e95c392fc3496caca"
      }
     },
     "metadata": {},
     "output_type": "display_data"
    },
    {
     "data": {
      "text/plain": "<IPython.core.display.HTML object>",
      "text/html": "Find user logs for this run at: <code>D:\\Development\\FHNW\\ip5-metriken-bauwesen\\src\\weight_and_bias\\wandb\\run-20210622_174329-xupga44j\\logs\\debug.log</code>"
     },
     "metadata": {},
     "output_type": "display_data"
    },
    {
     "data": {
      "text/plain": "<IPython.core.display.HTML object>",
      "text/html": "Find internal logs for this run at: <code>D:\\Development\\FHNW\\ip5-metriken-bauwesen\\src\\weight_and_bias\\wandb\\run-20210622_174329-xupga44j\\logs\\debug-internal.log</code>"
     },
     "metadata": {},
     "output_type": "display_data"
    },
    {
     "data": {
      "text/plain": "<IPython.core.display.HTML object>",
      "text/html": "<h3>Run summary:</h3><br/><style>\n    table.wandb td:nth-child(1) { padding: 0 10px; text-align: right }\n    </style><table class=\"wandb\">\n<tr><td>r2</td><td>0.94621</td></tr><tr><td>_runtime</td><td>2</td></tr><tr><td>_timestamp</td><td>1624376611</td></tr><tr><td>_step</td><td>0</td></tr></table>"
     },
     "metadata": {},
     "output_type": "display_data"
    },
    {
     "data": {
      "text/plain": "<IPython.core.display.HTML object>",
      "text/html": "<h3>Run history:</h3><br/><style>\n    table.wandb td:nth-child(1) { padding: 0 10px; text-align: right }\n    </style><table class=\"wandb\">\n<tr><td>r2</td><td>▁</td></tr><tr><td>_runtime</td><td>▁</td></tr><tr><td>_timestamp</td><td>▁</td></tr><tr><td>_step</td><td>▁</td></tr></table><br/>"
     },
     "metadata": {},
     "output_type": "display_data"
    },
    {
     "data": {
      "text/plain": "<IPython.core.display.HTML object>",
      "text/html": "Synced 5 W&B file(s), 0 media file(s), 0 artifact file(s) and 0 other file(s)"
     },
     "metadata": {},
     "output_type": "display_data"
    },
    {
     "data": {
      "text/plain": "<IPython.core.display.HTML object>",
      "text/html": "\n                    <br/>Synced <strong style=\"color:#cdcd00\">azure-sweep-1</strong>: <a href=\"https://wandb.ai/devcore/Metriken%20Bauwesen%20Sweeps/runs/xupga44j\" target=\"_blank\">https://wandb.ai/devcore/Metriken%20Bauwesen%20Sweeps/runs/xupga44j</a><br/>\n                "
     },
     "metadata": {},
     "output_type": "display_data"
    },
    {
     "data": {
      "text/plain": "<IPython.core.display.HTML object>",
      "text/html": "\n                Tracking run with wandb version 0.10.32<br/>\n                Syncing run <strong style=\"color:#cdcd00\">devoted-sweep-2</strong> to <a href=\"https://wandb.ai\" target=\"_blank\">Weights & Biases</a> <a href=\"https://docs.wandb.com/integrations/jupyter.html\" target=\"_blank\">(Documentation)</a>.<br/>\n                Project page: <a href=\"https://wandb.ai/devcore/Metriken%20Bauwesen%20Sweeps\" target=\"_blank\">https://wandb.ai/devcore/Metriken%20Bauwesen%20Sweeps</a><br/>\n                Sweep page: <a href=\"https://wandb.ai/devcore/Metriken%20Bauwesen%20Sweeps/sweeps/mkxhrc96\" target=\"_blank\">https://wandb.ai/devcore/Metriken%20Bauwesen%20Sweeps/sweeps/mkxhrc96</a><br/>\nRun page: <a href=\"https://wandb.ai/devcore/Metriken%20Bauwesen%20Sweeps/runs/a3stldt9\" target=\"_blank\">https://wandb.ai/devcore/Metriken%20Bauwesen%20Sweeps/runs/a3stldt9</a><br/>\n                Run data is saved locally in <code>D:\\Development\\FHNW\\ip5-metriken-bauwesen\\src\\weight_and_bias\\wandb\\run-20210622_174335-a3stldt9</code><br/><br/>\n            "
     },
     "metadata": {},
     "output_type": "display_data"
    },
    {
     "data": {
      "text/plain": "<IPython.core.display.HTML object>",
      "text/html": "<br/>Waiting for W&B process to finish, PID 8624<br/>Program ended successfully."
     },
     "metadata": {},
     "output_type": "display_data"
    },
    {
     "data": {
      "text/plain": "VBox(children=(Label(value=' 0.00MB of 0.00MB uploaded (0.00MB deduped)\\r'), FloatProgress(value=1.0, max=1.0)…",
      "application/vnd.jupyter.widget-view+json": {
       "version_major": 2,
       "version_minor": 0,
       "model_id": "4b207211c1b044fab635dffbfca134de"
      }
     },
     "metadata": {},
     "output_type": "display_data"
    },
    {
     "data": {
      "text/plain": "<IPython.core.display.HTML object>",
      "text/html": "Find user logs for this run at: <code>D:\\Development\\FHNW\\ip5-metriken-bauwesen\\src\\weight_and_bias\\wandb\\run-20210622_174335-a3stldt9\\logs\\debug.log</code>"
     },
     "metadata": {},
     "output_type": "display_data"
    },
    {
     "data": {
      "text/plain": "<IPython.core.display.HTML object>",
      "text/html": "Find internal logs for this run at: <code>D:\\Development\\FHNW\\ip5-metriken-bauwesen\\src\\weight_and_bias\\wandb\\run-20210622_174335-a3stldt9\\logs\\debug-internal.log</code>"
     },
     "metadata": {},
     "output_type": "display_data"
    },
    {
     "data": {
      "text/plain": "<IPython.core.display.HTML object>",
      "text/html": "<h3>Run summary:</h3><br/><style>\n    table.wandb td:nth-child(1) { padding: 0 10px; text-align: right }\n    </style><table class=\"wandb\">\n<tr><td>r2</td><td>0.94347</td></tr><tr><td>_runtime</td><td>1</td></tr><tr><td>_timestamp</td><td>1624376616</td></tr><tr><td>_step</td><td>0</td></tr></table>"
     },
     "metadata": {},
     "output_type": "display_data"
    },
    {
     "data": {
      "text/plain": "<IPython.core.display.HTML object>",
      "text/html": "<h3>Run history:</h3><br/><style>\n    table.wandb td:nth-child(1) { padding: 0 10px; text-align: right }\n    </style><table class=\"wandb\">\n<tr><td>r2</td><td>▁</td></tr><tr><td>_runtime</td><td>▁</td></tr><tr><td>_timestamp</td><td>▁</td></tr><tr><td>_step</td><td>▁</td></tr></table><br/>"
     },
     "metadata": {},
     "output_type": "display_data"
    },
    {
     "data": {
      "text/plain": "<IPython.core.display.HTML object>",
      "text/html": "Synced 5 W&B file(s), 0 media file(s), 0 artifact file(s) and 0 other file(s)"
     },
     "metadata": {},
     "output_type": "display_data"
    },
    {
     "data": {
      "text/plain": "<IPython.core.display.HTML object>",
      "text/html": "\n                    <br/>Synced <strong style=\"color:#cdcd00\">devoted-sweep-2</strong>: <a href=\"https://wandb.ai/devcore/Metriken%20Bauwesen%20Sweeps/runs/a3stldt9\" target=\"_blank\">https://wandb.ai/devcore/Metriken%20Bauwesen%20Sweeps/runs/a3stldt9</a><br/>\n                "
     },
     "metadata": {},
     "output_type": "display_data"
    },
    {
     "data": {
      "text/plain": "<IPython.core.display.HTML object>",
      "text/html": "\n                Tracking run with wandb version 0.10.32<br/>\n                Syncing run <strong style=\"color:#cdcd00\">balmy-sweep-3</strong> to <a href=\"https://wandb.ai\" target=\"_blank\">Weights & Biases</a> <a href=\"https://docs.wandb.com/integrations/jupyter.html\" target=\"_blank\">(Documentation)</a>.<br/>\n                Project page: <a href=\"https://wandb.ai/devcore/Metriken%20Bauwesen%20Sweeps\" target=\"_blank\">https://wandb.ai/devcore/Metriken%20Bauwesen%20Sweeps</a><br/>\n                Sweep page: <a href=\"https://wandb.ai/devcore/Metriken%20Bauwesen%20Sweeps/sweeps/mkxhrc96\" target=\"_blank\">https://wandb.ai/devcore/Metriken%20Bauwesen%20Sweeps/sweeps/mkxhrc96</a><br/>\nRun page: <a href=\"https://wandb.ai/devcore/Metriken%20Bauwesen%20Sweeps/runs/1islracz\" target=\"_blank\">https://wandb.ai/devcore/Metriken%20Bauwesen%20Sweeps/runs/1islracz</a><br/>\n                Run data is saved locally in <code>D:\\Development\\FHNW\\ip5-metriken-bauwesen\\src\\weight_and_bias\\wandb\\run-20210622_174341-1islracz</code><br/><br/>\n            "
     },
     "metadata": {},
     "output_type": "display_data"
    },
    {
     "data": {
      "text/plain": "<IPython.core.display.HTML object>",
      "text/html": "<br/>Waiting for W&B process to finish, PID 17188<br/>Program ended successfully."
     },
     "metadata": {},
     "output_type": "display_data"
    },
    {
     "data": {
      "text/plain": "VBox(children=(Label(value=' 0.00MB of 0.00MB uploaded (0.00MB deduped)\\r'), FloatProgress(value=1.0, max=1.0)…",
      "application/vnd.jupyter.widget-view+json": {
       "version_major": 2,
       "version_minor": 0,
       "model_id": "fce8cbe52fd84f16bbd065116198890c"
      }
     },
     "metadata": {},
     "output_type": "display_data"
    },
    {
     "data": {
      "text/plain": "<IPython.core.display.HTML object>",
      "text/html": "Find user logs for this run at: <code>D:\\Development\\FHNW\\ip5-metriken-bauwesen\\src\\weight_and_bias\\wandb\\run-20210622_174341-1islracz\\logs\\debug.log</code>"
     },
     "metadata": {},
     "output_type": "display_data"
    },
    {
     "data": {
      "text/plain": "<IPython.core.display.HTML object>",
      "text/html": "Find internal logs for this run at: <code>D:\\Development\\FHNW\\ip5-metriken-bauwesen\\src\\weight_and_bias\\wandb\\run-20210622_174341-1islracz\\logs\\debug-internal.log</code>"
     },
     "metadata": {},
     "output_type": "display_data"
    },
    {
     "data": {
      "text/plain": "<IPython.core.display.HTML object>",
      "text/html": "<h3>Run summary:</h3><br/><style>\n    table.wandb td:nth-child(1) { padding: 0 10px; text-align: right }\n    </style><table class=\"wandb\">\n<tr><td>r2</td><td>0.94315</td></tr><tr><td>_runtime</td><td>2</td></tr><tr><td>_timestamp</td><td>1624376623</td></tr><tr><td>_step</td><td>0</td></tr></table>"
     },
     "metadata": {},
     "output_type": "display_data"
    },
    {
     "data": {
      "text/plain": "<IPython.core.display.HTML object>",
      "text/html": "<h3>Run history:</h3><br/><style>\n    table.wandb td:nth-child(1) { padding: 0 10px; text-align: right }\n    </style><table class=\"wandb\">\n<tr><td>r2</td><td>▁</td></tr><tr><td>_runtime</td><td>▁</td></tr><tr><td>_timestamp</td><td>▁</td></tr><tr><td>_step</td><td>▁</td></tr></table><br/>"
     },
     "metadata": {},
     "output_type": "display_data"
    },
    {
     "data": {
      "text/plain": "<IPython.core.display.HTML object>",
      "text/html": "Synced 5 W&B file(s), 0 media file(s), 0 artifact file(s) and 0 other file(s)"
     },
     "metadata": {},
     "output_type": "display_data"
    },
    {
     "data": {
      "text/plain": "<IPython.core.display.HTML object>",
      "text/html": "\n                    <br/>Synced <strong style=\"color:#cdcd00\">balmy-sweep-3</strong>: <a href=\"https://wandb.ai/devcore/Metriken%20Bauwesen%20Sweeps/runs/1islracz\" target=\"_blank\">https://wandb.ai/devcore/Metriken%20Bauwesen%20Sweeps/runs/1islracz</a><br/>\n                "
     },
     "metadata": {},
     "output_type": "display_data"
    },
    {
     "data": {
      "text/plain": "<IPython.core.display.HTML object>",
      "text/html": "\n                Tracking run with wandb version 0.10.32<br/>\n                Syncing run <strong style=\"color:#cdcd00\">fragrant-sweep-4</strong> to <a href=\"https://wandb.ai\" target=\"_blank\">Weights & Biases</a> <a href=\"https://docs.wandb.com/integrations/jupyter.html\" target=\"_blank\">(Documentation)</a>.<br/>\n                Project page: <a href=\"https://wandb.ai/devcore/Metriken%20Bauwesen%20Sweeps\" target=\"_blank\">https://wandb.ai/devcore/Metriken%20Bauwesen%20Sweeps</a><br/>\n                Sweep page: <a href=\"https://wandb.ai/devcore/Metriken%20Bauwesen%20Sweeps/sweeps/mkxhrc96\" target=\"_blank\">https://wandb.ai/devcore/Metriken%20Bauwesen%20Sweeps/sweeps/mkxhrc96</a><br/>\nRun page: <a href=\"https://wandb.ai/devcore/Metriken%20Bauwesen%20Sweeps/runs/fq94rr9s\" target=\"_blank\">https://wandb.ai/devcore/Metriken%20Bauwesen%20Sweeps/runs/fq94rr9s</a><br/>\n                Run data is saved locally in <code>D:\\Development\\FHNW\\ip5-metriken-bauwesen\\src\\weight_and_bias\\wandb\\run-20210622_174347-fq94rr9s</code><br/><br/>\n            "
     },
     "metadata": {},
     "output_type": "display_data"
    },
    {
     "data": {
      "text/plain": "<IPython.core.display.HTML object>",
      "text/html": "<br/>Waiting for W&B process to finish, PID 13972<br/>Program ended successfully."
     },
     "metadata": {},
     "output_type": "display_data"
    },
    {
     "data": {
      "text/plain": "VBox(children=(Label(value=' 0.00MB of 0.00MB uploaded (0.00MB deduped)\\r'), FloatProgress(value=1.0, max=1.0)…",
      "application/vnd.jupyter.widget-view+json": {
       "version_major": 2,
       "version_minor": 0,
       "model_id": "ac6b7888cfd84e7b89db562a65d51d46"
      }
     },
     "metadata": {},
     "output_type": "display_data"
    },
    {
     "data": {
      "text/plain": "<IPython.core.display.HTML object>",
      "text/html": "Find user logs for this run at: <code>D:\\Development\\FHNW\\ip5-metriken-bauwesen\\src\\weight_and_bias\\wandb\\run-20210622_174347-fq94rr9s\\logs\\debug.log</code>"
     },
     "metadata": {},
     "output_type": "display_data"
    },
    {
     "data": {
      "text/plain": "<IPython.core.display.HTML object>",
      "text/html": "Find internal logs for this run at: <code>D:\\Development\\FHNW\\ip5-metriken-bauwesen\\src\\weight_and_bias\\wandb\\run-20210622_174347-fq94rr9s\\logs\\debug-internal.log</code>"
     },
     "metadata": {},
     "output_type": "display_data"
    },
    {
     "data": {
      "text/plain": "<IPython.core.display.HTML object>",
      "text/html": "<h3>Run summary:</h3><br/><style>\n    table.wandb td:nth-child(1) { padding: 0 10px; text-align: right }\n    </style><table class=\"wandb\">\n<tr><td>r2</td><td>0.94028</td></tr><tr><td>_runtime</td><td>1</td></tr><tr><td>_timestamp</td><td>1624376628</td></tr><tr><td>_step</td><td>0</td></tr></table>"
     },
     "metadata": {},
     "output_type": "display_data"
    },
    {
     "data": {
      "text/plain": "<IPython.core.display.HTML object>",
      "text/html": "<h3>Run history:</h3><br/><style>\n    table.wandb td:nth-child(1) { padding: 0 10px; text-align: right }\n    </style><table class=\"wandb\">\n<tr><td>r2</td><td>▁</td></tr><tr><td>_runtime</td><td>▁</td></tr><tr><td>_timestamp</td><td>▁</td></tr><tr><td>_step</td><td>▁</td></tr></table><br/>"
     },
     "metadata": {},
     "output_type": "display_data"
    },
    {
     "data": {
      "text/plain": "<IPython.core.display.HTML object>",
      "text/html": "Synced 5 W&B file(s), 0 media file(s), 0 artifact file(s) and 0 other file(s)"
     },
     "metadata": {},
     "output_type": "display_data"
    },
    {
     "data": {
      "text/plain": "<IPython.core.display.HTML object>",
      "text/html": "\n                    <br/>Synced <strong style=\"color:#cdcd00\">fragrant-sweep-4</strong>: <a href=\"https://wandb.ai/devcore/Metriken%20Bauwesen%20Sweeps/runs/fq94rr9s\" target=\"_blank\">https://wandb.ai/devcore/Metriken%20Bauwesen%20Sweeps/runs/fq94rr9s</a><br/>\n                "
     },
     "metadata": {},
     "output_type": "display_data"
    },
    {
     "data": {
      "text/plain": "<IPython.core.display.HTML object>",
      "text/html": "\n                Tracking run with wandb version 0.10.32<br/>\n                Syncing run <strong style=\"color:#cdcd00\">genial-sweep-5</strong> to <a href=\"https://wandb.ai\" target=\"_blank\">Weights & Biases</a> <a href=\"https://docs.wandb.com/integrations/jupyter.html\" target=\"_blank\">(Documentation)</a>.<br/>\n                Project page: <a href=\"https://wandb.ai/devcore/Metriken%20Bauwesen%20Sweeps\" target=\"_blank\">https://wandb.ai/devcore/Metriken%20Bauwesen%20Sweeps</a><br/>\n                Sweep page: <a href=\"https://wandb.ai/devcore/Metriken%20Bauwesen%20Sweeps/sweeps/mkxhrc96\" target=\"_blank\">https://wandb.ai/devcore/Metriken%20Bauwesen%20Sweeps/sweeps/mkxhrc96</a><br/>\nRun page: <a href=\"https://wandb.ai/devcore/Metriken%20Bauwesen%20Sweeps/runs/t1ych05d\" target=\"_blank\">https://wandb.ai/devcore/Metriken%20Bauwesen%20Sweeps/runs/t1ych05d</a><br/>\n                Run data is saved locally in <code>D:\\Development\\FHNW\\ip5-metriken-bauwesen\\src\\weight_and_bias\\wandb\\run-20210622_174352-t1ych05d</code><br/><br/>\n            "
     },
     "metadata": {},
     "output_type": "display_data"
    },
    {
     "data": {
      "text/plain": "<IPython.core.display.HTML object>",
      "text/html": "<br/>Waiting for W&B process to finish, PID 3344<br/>Program ended successfully."
     },
     "metadata": {},
     "output_type": "display_data"
    },
    {
     "data": {
      "text/plain": "VBox(children=(Label(value=' 0.00MB of 0.00MB uploaded (0.00MB deduped)\\r'), FloatProgress(value=1.0, max=1.0)…",
      "application/vnd.jupyter.widget-view+json": {
       "version_major": 2,
       "version_minor": 0,
       "model_id": "387cf75de24344e8855518c741dc2233"
      }
     },
     "metadata": {},
     "output_type": "display_data"
    },
    {
     "data": {
      "text/plain": "<IPython.core.display.HTML object>",
      "text/html": "Find user logs for this run at: <code>D:\\Development\\FHNW\\ip5-metriken-bauwesen\\src\\weight_and_bias\\wandb\\run-20210622_174352-t1ych05d\\logs\\debug.log</code>"
     },
     "metadata": {},
     "output_type": "display_data"
    },
    {
     "data": {
      "text/plain": "<IPython.core.display.HTML object>",
      "text/html": "Find internal logs for this run at: <code>D:\\Development\\FHNW\\ip5-metriken-bauwesen\\src\\weight_and_bias\\wandb\\run-20210622_174352-t1ych05d\\logs\\debug-internal.log</code>"
     },
     "metadata": {},
     "output_type": "display_data"
    },
    {
     "data": {
      "text/plain": "<IPython.core.display.HTML object>",
      "text/html": "<h3>Run summary:</h3><br/><style>\n    table.wandb td:nth-child(1) { padding: 0 10px; text-align: right }\n    </style><table class=\"wandb\">\n<tr><td>r2</td><td>0.93782</td></tr><tr><td>_runtime</td><td>2</td></tr><tr><td>_timestamp</td><td>1624376634</td></tr><tr><td>_step</td><td>0</td></tr></table>"
     },
     "metadata": {},
     "output_type": "display_data"
    },
    {
     "data": {
      "text/plain": "<IPython.core.display.HTML object>",
      "text/html": "<h3>Run history:</h3><br/><style>\n    table.wandb td:nth-child(1) { padding: 0 10px; text-align: right }\n    </style><table class=\"wandb\">\n<tr><td>r2</td><td>▁</td></tr><tr><td>_runtime</td><td>▁</td></tr><tr><td>_timestamp</td><td>▁</td></tr><tr><td>_step</td><td>▁</td></tr></table><br/>"
     },
     "metadata": {},
     "output_type": "display_data"
    },
    {
     "data": {
      "text/plain": "<IPython.core.display.HTML object>",
      "text/html": "Synced 5 W&B file(s), 0 media file(s), 0 artifact file(s) and 0 other file(s)"
     },
     "metadata": {},
     "output_type": "display_data"
    },
    {
     "data": {
      "text/plain": "<IPython.core.display.HTML object>",
      "text/html": "\n                    <br/>Synced <strong style=\"color:#cdcd00\">genial-sweep-5</strong>: <a href=\"https://wandb.ai/devcore/Metriken%20Bauwesen%20Sweeps/runs/t1ych05d\" target=\"_blank\">https://wandb.ai/devcore/Metriken%20Bauwesen%20Sweeps/runs/t1ych05d</a><br/>\n                "
     },
     "metadata": {},
     "output_type": "display_data"
    },
    {
     "data": {
      "text/plain": "<IPython.core.display.HTML object>",
      "text/html": "\n                Tracking run with wandb version 0.10.32<br/>\n                Syncing run <strong style=\"color:#cdcd00\">pretty-sweep-6</strong> to <a href=\"https://wandb.ai\" target=\"_blank\">Weights & Biases</a> <a href=\"https://docs.wandb.com/integrations/jupyter.html\" target=\"_blank\">(Documentation)</a>.<br/>\n                Project page: <a href=\"https://wandb.ai/devcore/Metriken%20Bauwesen%20Sweeps\" target=\"_blank\">https://wandb.ai/devcore/Metriken%20Bauwesen%20Sweeps</a><br/>\n                Sweep page: <a href=\"https://wandb.ai/devcore/Metriken%20Bauwesen%20Sweeps/sweeps/mkxhrc96\" target=\"_blank\">https://wandb.ai/devcore/Metriken%20Bauwesen%20Sweeps/sweeps/mkxhrc96</a><br/>\nRun page: <a href=\"https://wandb.ai/devcore/Metriken%20Bauwesen%20Sweeps/runs/6q16b2hy\" target=\"_blank\">https://wandb.ai/devcore/Metriken%20Bauwesen%20Sweeps/runs/6q16b2hy</a><br/>\n                Run data is saved locally in <code>D:\\Development\\FHNW\\ip5-metriken-bauwesen\\src\\weight_and_bias\\wandb\\run-20210622_174358-6q16b2hy</code><br/><br/>\n            "
     },
     "metadata": {},
     "output_type": "display_data"
    },
    {
     "data": {
      "text/plain": "<IPython.core.display.HTML object>",
      "text/html": "<br/>Waiting for W&B process to finish, PID 12728<br/>Program ended successfully."
     },
     "metadata": {},
     "output_type": "display_data"
    },
    {
     "data": {
      "text/plain": "VBox(children=(Label(value=' 0.00MB of 0.00MB uploaded (0.00MB deduped)\\r'), FloatProgress(value=1.0, max=1.0)…",
      "application/vnd.jupyter.widget-view+json": {
       "version_major": 2,
       "version_minor": 0,
       "model_id": "0be155c8f12a4058abc95cc914f3763e"
      }
     },
     "metadata": {},
     "output_type": "display_data"
    },
    {
     "data": {
      "text/plain": "<IPython.core.display.HTML object>",
      "text/html": "Find user logs for this run at: <code>D:\\Development\\FHNW\\ip5-metriken-bauwesen\\src\\weight_and_bias\\wandb\\run-20210622_174358-6q16b2hy\\logs\\debug.log</code>"
     },
     "metadata": {},
     "output_type": "display_data"
    },
    {
     "data": {
      "text/plain": "<IPython.core.display.HTML object>",
      "text/html": "Find internal logs for this run at: <code>D:\\Development\\FHNW\\ip5-metriken-bauwesen\\src\\weight_and_bias\\wandb\\run-20210622_174358-6q16b2hy\\logs\\debug-internal.log</code>"
     },
     "metadata": {},
     "output_type": "display_data"
    },
    {
     "data": {
      "text/plain": "<IPython.core.display.HTML object>",
      "text/html": "<h3>Run summary:</h3><br/><style>\n    table.wandb td:nth-child(1) { padding: 0 10px; text-align: right }\n    </style><table class=\"wandb\">\n<tr><td>r2</td><td>0.94987</td></tr><tr><td>_runtime</td><td>2</td></tr><tr><td>_timestamp</td><td>1624376640</td></tr><tr><td>_step</td><td>0</td></tr></table>"
     },
     "metadata": {},
     "output_type": "display_data"
    },
    {
     "data": {
      "text/plain": "<IPython.core.display.HTML object>",
      "text/html": "<h3>Run history:</h3><br/><style>\n    table.wandb td:nth-child(1) { padding: 0 10px; text-align: right }\n    </style><table class=\"wandb\">\n<tr><td>r2</td><td>▁</td></tr><tr><td>_runtime</td><td>▁</td></tr><tr><td>_timestamp</td><td>▁</td></tr><tr><td>_step</td><td>▁</td></tr></table><br/>"
     },
     "metadata": {},
     "output_type": "display_data"
    },
    {
     "data": {
      "text/plain": "<IPython.core.display.HTML object>",
      "text/html": "Synced 5 W&B file(s), 0 media file(s), 0 artifact file(s) and 0 other file(s)"
     },
     "metadata": {},
     "output_type": "display_data"
    },
    {
     "data": {
      "text/plain": "<IPython.core.display.HTML object>",
      "text/html": "\n                    <br/>Synced <strong style=\"color:#cdcd00\">pretty-sweep-6</strong>: <a href=\"https://wandb.ai/devcore/Metriken%20Bauwesen%20Sweeps/runs/6q16b2hy\" target=\"_blank\">https://wandb.ai/devcore/Metriken%20Bauwesen%20Sweeps/runs/6q16b2hy</a><br/>\n                "
     },
     "metadata": {},
     "output_type": "display_data"
    },
    {
     "data": {
      "text/plain": "<IPython.core.display.HTML object>",
      "text/html": "\n                Tracking run with wandb version 0.10.32<br/>\n                Syncing run <strong style=\"color:#cdcd00\">zesty-sweep-7</strong> to <a href=\"https://wandb.ai\" target=\"_blank\">Weights & Biases</a> <a href=\"https://docs.wandb.com/integrations/jupyter.html\" target=\"_blank\">(Documentation)</a>.<br/>\n                Project page: <a href=\"https://wandb.ai/devcore/Metriken%20Bauwesen%20Sweeps\" target=\"_blank\">https://wandb.ai/devcore/Metriken%20Bauwesen%20Sweeps</a><br/>\n                Sweep page: <a href=\"https://wandb.ai/devcore/Metriken%20Bauwesen%20Sweeps/sweeps/mkxhrc96\" target=\"_blank\">https://wandb.ai/devcore/Metriken%20Bauwesen%20Sweeps/sweeps/mkxhrc96</a><br/>\nRun page: <a href=\"https://wandb.ai/devcore/Metriken%20Bauwesen%20Sweeps/runs/3cptvg0b\" target=\"_blank\">https://wandb.ai/devcore/Metriken%20Bauwesen%20Sweeps/runs/3cptvg0b</a><br/>\n                Run data is saved locally in <code>D:\\Development\\FHNW\\ip5-metriken-bauwesen\\src\\weight_and_bias\\wandb\\run-20210622_174404-3cptvg0b</code><br/><br/>\n            "
     },
     "metadata": {},
     "output_type": "display_data"
    },
    {
     "data": {
      "text/plain": "<IPython.core.display.HTML object>",
      "text/html": "<br/>Waiting for W&B process to finish, PID 11928<br/>Program ended successfully."
     },
     "metadata": {},
     "output_type": "display_data"
    },
    {
     "data": {
      "text/plain": "VBox(children=(Label(value=' 0.00MB of 0.00MB uploaded (0.00MB deduped)\\r'), FloatProgress(value=1.0, max=1.0)…",
      "application/vnd.jupyter.widget-view+json": {
       "version_major": 2,
       "version_minor": 0,
       "model_id": "4dc37a488dee48d4beb98092a0dd3445"
      }
     },
     "metadata": {},
     "output_type": "display_data"
    },
    {
     "data": {
      "text/plain": "<IPython.core.display.HTML object>",
      "text/html": "Find user logs for this run at: <code>D:\\Development\\FHNW\\ip5-metriken-bauwesen\\src\\weight_and_bias\\wandb\\run-20210622_174404-3cptvg0b\\logs\\debug.log</code>"
     },
     "metadata": {},
     "output_type": "display_data"
    },
    {
     "data": {
      "text/plain": "<IPython.core.display.HTML object>",
      "text/html": "Find internal logs for this run at: <code>D:\\Development\\FHNW\\ip5-metriken-bauwesen\\src\\weight_and_bias\\wandb\\run-20210622_174404-3cptvg0b\\logs\\debug-internal.log</code>"
     },
     "metadata": {},
     "output_type": "display_data"
    },
    {
     "data": {
      "text/plain": "<IPython.core.display.HTML object>",
      "text/html": "<h3>Run summary:</h3><br/><style>\n    table.wandb td:nth-child(1) { padding: 0 10px; text-align: right }\n    </style><table class=\"wandb\">\n<tr><td>r2</td><td>0.94089</td></tr><tr><td>_runtime</td><td>2</td></tr><tr><td>_timestamp</td><td>1624376646</td></tr><tr><td>_step</td><td>0</td></tr></table>"
     },
     "metadata": {},
     "output_type": "display_data"
    },
    {
     "data": {
      "text/plain": "<IPython.core.display.HTML object>",
      "text/html": "<h3>Run history:</h3><br/><style>\n    table.wandb td:nth-child(1) { padding: 0 10px; text-align: right }\n    </style><table class=\"wandb\">\n<tr><td>r2</td><td>▁</td></tr><tr><td>_runtime</td><td>▁</td></tr><tr><td>_timestamp</td><td>▁</td></tr><tr><td>_step</td><td>▁</td></tr></table><br/>"
     },
     "metadata": {},
     "output_type": "display_data"
    },
    {
     "data": {
      "text/plain": "<IPython.core.display.HTML object>",
      "text/html": "Synced 5 W&B file(s), 0 media file(s), 0 artifact file(s) and 0 other file(s)"
     },
     "metadata": {},
     "output_type": "display_data"
    },
    {
     "data": {
      "text/plain": "<IPython.core.display.HTML object>",
      "text/html": "\n                    <br/>Synced <strong style=\"color:#cdcd00\">zesty-sweep-7</strong>: <a href=\"https://wandb.ai/devcore/Metriken%20Bauwesen%20Sweeps/runs/3cptvg0b\" target=\"_blank\">https://wandb.ai/devcore/Metriken%20Bauwesen%20Sweeps/runs/3cptvg0b</a><br/>\n                "
     },
     "metadata": {},
     "output_type": "display_data"
    },
    {
     "data": {
      "text/plain": "<IPython.core.display.HTML object>",
      "text/html": "\n                Tracking run with wandb version 0.10.32<br/>\n                Syncing run <strong style=\"color:#cdcd00\">astral-sweep-8</strong> to <a href=\"https://wandb.ai\" target=\"_blank\">Weights & Biases</a> <a href=\"https://docs.wandb.com/integrations/jupyter.html\" target=\"_blank\">(Documentation)</a>.<br/>\n                Project page: <a href=\"https://wandb.ai/devcore/Metriken%20Bauwesen%20Sweeps\" target=\"_blank\">https://wandb.ai/devcore/Metriken%20Bauwesen%20Sweeps</a><br/>\n                Sweep page: <a href=\"https://wandb.ai/devcore/Metriken%20Bauwesen%20Sweeps/sweeps/mkxhrc96\" target=\"_blank\">https://wandb.ai/devcore/Metriken%20Bauwesen%20Sweeps/sweeps/mkxhrc96</a><br/>\nRun page: <a href=\"https://wandb.ai/devcore/Metriken%20Bauwesen%20Sweeps/runs/lagxxttw\" target=\"_blank\">https://wandb.ai/devcore/Metriken%20Bauwesen%20Sweeps/runs/lagxxttw</a><br/>\n                Run data is saved locally in <code>D:\\Development\\FHNW\\ip5-metriken-bauwesen\\src\\weight_and_bias\\wandb\\run-20210622_174410-lagxxttw</code><br/><br/>\n            "
     },
     "metadata": {},
     "output_type": "display_data"
    },
    {
     "data": {
      "text/plain": "<IPython.core.display.HTML object>",
      "text/html": "<br/>Waiting for W&B process to finish, PID 22620<br/>Program ended successfully."
     },
     "metadata": {},
     "output_type": "display_data"
    },
    {
     "data": {
      "text/plain": "VBox(children=(Label(value=' 0.00MB of 0.00MB uploaded (0.00MB deduped)\\r'), FloatProgress(value=1.0, max=1.0)…",
      "application/vnd.jupyter.widget-view+json": {
       "version_major": 2,
       "version_minor": 0,
       "model_id": "f4f6762ed22947aeaa1d044ea38a3e11"
      }
     },
     "metadata": {},
     "output_type": "display_data"
    },
    {
     "data": {
      "text/plain": "<IPython.core.display.HTML object>",
      "text/html": "Find user logs for this run at: <code>D:\\Development\\FHNW\\ip5-metriken-bauwesen\\src\\weight_and_bias\\wandb\\run-20210622_174410-lagxxttw\\logs\\debug.log</code>"
     },
     "metadata": {},
     "output_type": "display_data"
    },
    {
     "data": {
      "text/plain": "<IPython.core.display.HTML object>",
      "text/html": "Find internal logs for this run at: <code>D:\\Development\\FHNW\\ip5-metriken-bauwesen\\src\\weight_and_bias\\wandb\\run-20210622_174410-lagxxttw\\logs\\debug-internal.log</code>"
     },
     "metadata": {},
     "output_type": "display_data"
    },
    {
     "data": {
      "text/plain": "<IPython.core.display.HTML object>",
      "text/html": "<h3>Run summary:</h3><br/><style>\n    table.wandb td:nth-child(1) { padding: 0 10px; text-align: right }\n    </style><table class=\"wandb\">\n<tr><td>r2</td><td>0.94436</td></tr><tr><td>_runtime</td><td>2</td></tr><tr><td>_timestamp</td><td>1624376652</td></tr><tr><td>_step</td><td>0</td></tr></table>"
     },
     "metadata": {},
     "output_type": "display_data"
    },
    {
     "data": {
      "text/plain": "<IPython.core.display.HTML object>",
      "text/html": "<h3>Run history:</h3><br/><style>\n    table.wandb td:nth-child(1) { padding: 0 10px; text-align: right }\n    </style><table class=\"wandb\">\n<tr><td>r2</td><td>▁</td></tr><tr><td>_runtime</td><td>▁</td></tr><tr><td>_timestamp</td><td>▁</td></tr><tr><td>_step</td><td>▁</td></tr></table><br/>"
     },
     "metadata": {},
     "output_type": "display_data"
    },
    {
     "data": {
      "text/plain": "<IPython.core.display.HTML object>",
      "text/html": "Synced 5 W&B file(s), 0 media file(s), 0 artifact file(s) and 0 other file(s)"
     },
     "metadata": {},
     "output_type": "display_data"
    },
    {
     "data": {
      "text/plain": "<IPython.core.display.HTML object>",
      "text/html": "\n                    <br/>Synced <strong style=\"color:#cdcd00\">astral-sweep-8</strong>: <a href=\"https://wandb.ai/devcore/Metriken%20Bauwesen%20Sweeps/runs/lagxxttw\" target=\"_blank\">https://wandb.ai/devcore/Metriken%20Bauwesen%20Sweeps/runs/lagxxttw</a><br/>\n                "
     },
     "metadata": {},
     "output_type": "display_data"
    },
    {
     "data": {
      "text/plain": "<IPython.core.display.HTML object>",
      "text/html": "\n                Tracking run with wandb version 0.10.32<br/>\n                Syncing run <strong style=\"color:#cdcd00\">glad-sweep-9</strong> to <a href=\"https://wandb.ai\" target=\"_blank\">Weights & Biases</a> <a href=\"https://docs.wandb.com/integrations/jupyter.html\" target=\"_blank\">(Documentation)</a>.<br/>\n                Project page: <a href=\"https://wandb.ai/devcore/Metriken%20Bauwesen%20Sweeps\" target=\"_blank\">https://wandb.ai/devcore/Metriken%20Bauwesen%20Sweeps</a><br/>\n                Sweep page: <a href=\"https://wandb.ai/devcore/Metriken%20Bauwesen%20Sweeps/sweeps/mkxhrc96\" target=\"_blank\">https://wandb.ai/devcore/Metriken%20Bauwesen%20Sweeps/sweeps/mkxhrc96</a><br/>\nRun page: <a href=\"https://wandb.ai/devcore/Metriken%20Bauwesen%20Sweeps/runs/4giatff4\" target=\"_blank\">https://wandb.ai/devcore/Metriken%20Bauwesen%20Sweeps/runs/4giatff4</a><br/>\n                Run data is saved locally in <code>D:\\Development\\FHNW\\ip5-metriken-bauwesen\\src\\weight_and_bias\\wandb\\run-20210622_174415-4giatff4</code><br/><br/>\n            "
     },
     "metadata": {},
     "output_type": "display_data"
    },
    {
     "data": {
      "text/plain": "<IPython.core.display.HTML object>",
      "text/html": "<br/>Waiting for W&B process to finish, PID 17016<br/>Program ended successfully."
     },
     "metadata": {},
     "output_type": "display_data"
    },
    {
     "data": {
      "text/plain": "VBox(children=(Label(value=' 0.00MB of 0.00MB uploaded (0.00MB deduped)\\r'), FloatProgress(value=1.0, max=1.0)…",
      "application/vnd.jupyter.widget-view+json": {
       "version_major": 2,
       "version_minor": 0,
       "model_id": "52eeb25acb714aeaabc0406d0be93d71"
      }
     },
     "metadata": {},
     "output_type": "display_data"
    },
    {
     "data": {
      "text/plain": "<IPython.core.display.HTML object>",
      "text/html": "Find user logs for this run at: <code>D:\\Development\\FHNW\\ip5-metriken-bauwesen\\src\\weight_and_bias\\wandb\\run-20210622_174415-4giatff4\\logs\\debug.log</code>"
     },
     "metadata": {},
     "output_type": "display_data"
    },
    {
     "data": {
      "text/plain": "<IPython.core.display.HTML object>",
      "text/html": "Find internal logs for this run at: <code>D:\\Development\\FHNW\\ip5-metriken-bauwesen\\src\\weight_and_bias\\wandb\\run-20210622_174415-4giatff4\\logs\\debug-internal.log</code>"
     },
     "metadata": {},
     "output_type": "display_data"
    },
    {
     "data": {
      "text/plain": "<IPython.core.display.HTML object>",
      "text/html": "<h3>Run summary:</h3><br/><style>\n    table.wandb td:nth-child(1) { padding: 0 10px; text-align: right }\n    </style><table class=\"wandb\">\n<tr><td>r2</td><td>0.9433</td></tr><tr><td>_runtime</td><td>2</td></tr><tr><td>_timestamp</td><td>1624376657</td></tr><tr><td>_step</td><td>0</td></tr></table>"
     },
     "metadata": {},
     "output_type": "display_data"
    },
    {
     "data": {
      "text/plain": "<IPython.core.display.HTML object>",
      "text/html": "<h3>Run history:</h3><br/><style>\n    table.wandb td:nth-child(1) { padding: 0 10px; text-align: right }\n    </style><table class=\"wandb\">\n<tr><td>r2</td><td>▁</td></tr><tr><td>_runtime</td><td>▁</td></tr><tr><td>_timestamp</td><td>▁</td></tr><tr><td>_step</td><td>▁</td></tr></table><br/>"
     },
     "metadata": {},
     "output_type": "display_data"
    },
    {
     "data": {
      "text/plain": "<IPython.core.display.HTML object>",
      "text/html": "Synced 5 W&B file(s), 0 media file(s), 0 artifact file(s) and 0 other file(s)"
     },
     "metadata": {},
     "output_type": "display_data"
    },
    {
     "data": {
      "text/plain": "<IPython.core.display.HTML object>",
      "text/html": "\n                    <br/>Synced <strong style=\"color:#cdcd00\">glad-sweep-9</strong>: <a href=\"https://wandb.ai/devcore/Metriken%20Bauwesen%20Sweeps/runs/4giatff4\" target=\"_blank\">https://wandb.ai/devcore/Metriken%20Bauwesen%20Sweeps/runs/4giatff4</a><br/>\n                "
     },
     "metadata": {},
     "output_type": "display_data"
    },
    {
     "data": {
      "text/plain": "<IPython.core.display.HTML object>",
      "text/html": "\n                Tracking run with wandb version 0.10.32<br/>\n                Syncing run <strong style=\"color:#cdcd00\">faithful-sweep-10</strong> to <a href=\"https://wandb.ai\" target=\"_blank\">Weights & Biases</a> <a href=\"https://docs.wandb.com/integrations/jupyter.html\" target=\"_blank\">(Documentation)</a>.<br/>\n                Project page: <a href=\"https://wandb.ai/devcore/Metriken%20Bauwesen%20Sweeps\" target=\"_blank\">https://wandb.ai/devcore/Metriken%20Bauwesen%20Sweeps</a><br/>\n                Sweep page: <a href=\"https://wandb.ai/devcore/Metriken%20Bauwesen%20Sweeps/sweeps/mkxhrc96\" target=\"_blank\">https://wandb.ai/devcore/Metriken%20Bauwesen%20Sweeps/sweeps/mkxhrc96</a><br/>\nRun page: <a href=\"https://wandb.ai/devcore/Metriken%20Bauwesen%20Sweeps/runs/4wozmzja\" target=\"_blank\">https://wandb.ai/devcore/Metriken%20Bauwesen%20Sweeps/runs/4wozmzja</a><br/>\n                Run data is saved locally in <code>D:\\Development\\FHNW\\ip5-metriken-bauwesen\\src\\weight_and_bias\\wandb\\run-20210622_174421-4wozmzja</code><br/><br/>\n            "
     },
     "metadata": {},
     "output_type": "display_data"
    },
    {
     "data": {
      "text/plain": "<IPython.core.display.HTML object>",
      "text/html": "<br/>Waiting for W&B process to finish, PID 4192<br/>Program ended successfully."
     },
     "metadata": {},
     "output_type": "display_data"
    },
    {
     "data": {
      "text/plain": "VBox(children=(Label(value=' 0.00MB of 0.00MB uploaded (0.00MB deduped)\\r'), FloatProgress(value=1.0, max=1.0)…",
      "application/vnd.jupyter.widget-view+json": {
       "version_major": 2,
       "version_minor": 0,
       "model_id": "aebd5c85d91541b1ae4114f2c349dc8d"
      }
     },
     "metadata": {},
     "output_type": "display_data"
    },
    {
     "data": {
      "text/plain": "<IPython.core.display.HTML object>",
      "text/html": "Find user logs for this run at: <code>D:\\Development\\FHNW\\ip5-metriken-bauwesen\\src\\weight_and_bias\\wandb\\run-20210622_174421-4wozmzja\\logs\\debug.log</code>"
     },
     "metadata": {},
     "output_type": "display_data"
    },
    {
     "data": {
      "text/plain": "<IPython.core.display.HTML object>",
      "text/html": "Find internal logs for this run at: <code>D:\\Development\\FHNW\\ip5-metriken-bauwesen\\src\\weight_and_bias\\wandb\\run-20210622_174421-4wozmzja\\logs\\debug-internal.log</code>"
     },
     "metadata": {},
     "output_type": "display_data"
    },
    {
     "data": {
      "text/plain": "<IPython.core.display.HTML object>",
      "text/html": "<h3>Run summary:</h3><br/><style>\n    table.wandb td:nth-child(1) { padding: 0 10px; text-align: right }\n    </style><table class=\"wandb\">\n<tr><td>r2</td><td>0.92865</td></tr><tr><td>_runtime</td><td>2</td></tr><tr><td>_timestamp</td><td>1624376663</td></tr><tr><td>_step</td><td>0</td></tr></table>"
     },
     "metadata": {},
     "output_type": "display_data"
    },
    {
     "data": {
      "text/plain": "<IPython.core.display.HTML object>",
      "text/html": "<h3>Run history:</h3><br/><style>\n    table.wandb td:nth-child(1) { padding: 0 10px; text-align: right }\n    </style><table class=\"wandb\">\n<tr><td>r2</td><td>▁</td></tr><tr><td>_runtime</td><td>▁</td></tr><tr><td>_timestamp</td><td>▁</td></tr><tr><td>_step</td><td>▁</td></tr></table><br/>"
     },
     "metadata": {},
     "output_type": "display_data"
    },
    {
     "data": {
      "text/plain": "<IPython.core.display.HTML object>",
      "text/html": "Synced 5 W&B file(s), 0 media file(s), 0 artifact file(s) and 0 other file(s)"
     },
     "metadata": {},
     "output_type": "display_data"
    },
    {
     "data": {
      "text/plain": "<IPython.core.display.HTML object>",
      "text/html": "\n                    <br/>Synced <strong style=\"color:#cdcd00\">faithful-sweep-10</strong>: <a href=\"https://wandb.ai/devcore/Metriken%20Bauwesen%20Sweeps/runs/4wozmzja\" target=\"_blank\">https://wandb.ai/devcore/Metriken%20Bauwesen%20Sweeps/runs/4wozmzja</a><br/>\n                "
     },
     "metadata": {},
     "output_type": "display_data"
    },
    {
     "data": {
      "text/plain": "<IPython.core.display.HTML object>",
      "text/html": "\n                Tracking run with wandb version 0.10.32<br/>\n                Syncing run <strong style=\"color:#cdcd00\">copper-sweep-11</strong> to <a href=\"https://wandb.ai\" target=\"_blank\">Weights & Biases</a> <a href=\"https://docs.wandb.com/integrations/jupyter.html\" target=\"_blank\">(Documentation)</a>.<br/>\n                Project page: <a href=\"https://wandb.ai/devcore/Metriken%20Bauwesen%20Sweeps\" target=\"_blank\">https://wandb.ai/devcore/Metriken%20Bauwesen%20Sweeps</a><br/>\n                Sweep page: <a href=\"https://wandb.ai/devcore/Metriken%20Bauwesen%20Sweeps/sweeps/mkxhrc96\" target=\"_blank\">https://wandb.ai/devcore/Metriken%20Bauwesen%20Sweeps/sweeps/mkxhrc96</a><br/>\nRun page: <a href=\"https://wandb.ai/devcore/Metriken%20Bauwesen%20Sweeps/runs/sm17b9ro\" target=\"_blank\">https://wandb.ai/devcore/Metriken%20Bauwesen%20Sweeps/runs/sm17b9ro</a><br/>\n                Run data is saved locally in <code>D:\\Development\\FHNW\\ip5-metriken-bauwesen\\src\\weight_and_bias\\wandb\\run-20210622_174427-sm17b9ro</code><br/><br/>\n            "
     },
     "metadata": {},
     "output_type": "display_data"
    },
    {
     "data": {
      "text/plain": "<IPython.core.display.HTML object>",
      "text/html": "<br/>Waiting for W&B process to finish, PID 20904<br/>Program ended successfully."
     },
     "metadata": {},
     "output_type": "display_data"
    },
    {
     "data": {
      "text/plain": "VBox(children=(Label(value=' 0.00MB of 0.00MB uploaded (0.00MB deduped)\\r'), FloatProgress(value=1.0, max=1.0)…",
      "application/vnd.jupyter.widget-view+json": {
       "version_major": 2,
       "version_minor": 0,
       "model_id": "d8dcd32b5a414df39a8daf7f00a2eec3"
      }
     },
     "metadata": {},
     "output_type": "display_data"
    },
    {
     "data": {
      "text/plain": "<IPython.core.display.HTML object>",
      "text/html": "Find user logs for this run at: <code>D:\\Development\\FHNW\\ip5-metriken-bauwesen\\src\\weight_and_bias\\wandb\\run-20210622_174427-sm17b9ro\\logs\\debug.log</code>"
     },
     "metadata": {},
     "output_type": "display_data"
    },
    {
     "data": {
      "text/plain": "<IPython.core.display.HTML object>",
      "text/html": "Find internal logs for this run at: <code>D:\\Development\\FHNW\\ip5-metriken-bauwesen\\src\\weight_and_bias\\wandb\\run-20210622_174427-sm17b9ro\\logs\\debug-internal.log</code>"
     },
     "metadata": {},
     "output_type": "display_data"
    },
    {
     "data": {
      "text/plain": "<IPython.core.display.HTML object>",
      "text/html": "<h3>Run summary:</h3><br/><style>\n    table.wandb td:nth-child(1) { padding: 0 10px; text-align: right }\n    </style><table class=\"wandb\">\n<tr><td>r2</td><td>0.94396</td></tr><tr><td>_runtime</td><td>2</td></tr><tr><td>_timestamp</td><td>1624376669</td></tr><tr><td>_step</td><td>0</td></tr></table>"
     },
     "metadata": {},
     "output_type": "display_data"
    },
    {
     "data": {
      "text/plain": "<IPython.core.display.HTML object>",
      "text/html": "<h3>Run history:</h3><br/><style>\n    table.wandb td:nth-child(1) { padding: 0 10px; text-align: right }\n    </style><table class=\"wandb\">\n<tr><td>r2</td><td>▁</td></tr><tr><td>_runtime</td><td>▁</td></tr><tr><td>_timestamp</td><td>▁</td></tr><tr><td>_step</td><td>▁</td></tr></table><br/>"
     },
     "metadata": {},
     "output_type": "display_data"
    },
    {
     "data": {
      "text/plain": "<IPython.core.display.HTML object>",
      "text/html": "Synced 5 W&B file(s), 0 media file(s), 0 artifact file(s) and 0 other file(s)"
     },
     "metadata": {},
     "output_type": "display_data"
    },
    {
     "data": {
      "text/plain": "<IPython.core.display.HTML object>",
      "text/html": "\n                    <br/>Synced <strong style=\"color:#cdcd00\">copper-sweep-11</strong>: <a href=\"https://wandb.ai/devcore/Metriken%20Bauwesen%20Sweeps/runs/sm17b9ro\" target=\"_blank\">https://wandb.ai/devcore/Metriken%20Bauwesen%20Sweeps/runs/sm17b9ro</a><br/>\n                "
     },
     "metadata": {},
     "output_type": "display_data"
    },
    {
     "data": {
      "text/plain": "<IPython.core.display.HTML object>",
      "text/html": "\n                Tracking run with wandb version 0.10.32<br/>\n                Syncing run <strong style=\"color:#cdcd00\">prime-sweep-12</strong> to <a href=\"https://wandb.ai\" target=\"_blank\">Weights & Biases</a> <a href=\"https://docs.wandb.com/integrations/jupyter.html\" target=\"_blank\">(Documentation)</a>.<br/>\n                Project page: <a href=\"https://wandb.ai/devcore/Metriken%20Bauwesen%20Sweeps\" target=\"_blank\">https://wandb.ai/devcore/Metriken%20Bauwesen%20Sweeps</a><br/>\n                Sweep page: <a href=\"https://wandb.ai/devcore/Metriken%20Bauwesen%20Sweeps/sweeps/mkxhrc96\" target=\"_blank\">https://wandb.ai/devcore/Metriken%20Bauwesen%20Sweeps/sweeps/mkxhrc96</a><br/>\nRun page: <a href=\"https://wandb.ai/devcore/Metriken%20Bauwesen%20Sweeps/runs/7g57fgud\" target=\"_blank\">https://wandb.ai/devcore/Metriken%20Bauwesen%20Sweeps/runs/7g57fgud</a><br/>\n                Run data is saved locally in <code>D:\\Development\\FHNW\\ip5-metriken-bauwesen\\src\\weight_and_bias\\wandb\\run-20210622_174434-7g57fgud</code><br/><br/>\n            "
     },
     "metadata": {},
     "output_type": "display_data"
    },
    {
     "data": {
      "text/plain": "<IPython.core.display.HTML object>",
      "text/html": "<br/>Waiting for W&B process to finish, PID 9624<br/>Program ended successfully."
     },
     "metadata": {},
     "output_type": "display_data"
    },
    {
     "data": {
      "text/plain": "VBox(children=(Label(value=' 0.00MB of 0.00MB uploaded (0.00MB deduped)\\r'), FloatProgress(value=1.0, max=1.0)…",
      "application/vnd.jupyter.widget-view+json": {
       "version_major": 2,
       "version_minor": 0,
       "model_id": "84d7700f491240c2806ed02aa9b9b179"
      }
     },
     "metadata": {},
     "output_type": "display_data"
    },
    {
     "data": {
      "text/plain": "<IPython.core.display.HTML object>",
      "text/html": "Find user logs for this run at: <code>D:\\Development\\FHNW\\ip5-metriken-bauwesen\\src\\weight_and_bias\\wandb\\run-20210622_174434-7g57fgud\\logs\\debug.log</code>"
     },
     "metadata": {},
     "output_type": "display_data"
    },
    {
     "data": {
      "text/plain": "<IPython.core.display.HTML object>",
      "text/html": "Find internal logs for this run at: <code>D:\\Development\\FHNW\\ip5-metriken-bauwesen\\src\\weight_and_bias\\wandb\\run-20210622_174434-7g57fgud\\logs\\debug-internal.log</code>"
     },
     "metadata": {},
     "output_type": "display_data"
    },
    {
     "data": {
      "text/plain": "<IPython.core.display.HTML object>",
      "text/html": "<h3>Run summary:</h3><br/><style>\n    table.wandb td:nth-child(1) { padding: 0 10px; text-align: right }\n    </style><table class=\"wandb\">\n<tr><td>r2</td><td>0.94794</td></tr><tr><td>_runtime</td><td>2</td></tr><tr><td>_timestamp</td><td>1624376676</td></tr><tr><td>_step</td><td>0</td></tr></table>"
     },
     "metadata": {},
     "output_type": "display_data"
    },
    {
     "data": {
      "text/plain": "<IPython.core.display.HTML object>",
      "text/html": "<h3>Run history:</h3><br/><style>\n    table.wandb td:nth-child(1) { padding: 0 10px; text-align: right }\n    </style><table class=\"wandb\">\n<tr><td>r2</td><td>▁</td></tr><tr><td>_runtime</td><td>▁</td></tr><tr><td>_timestamp</td><td>▁</td></tr><tr><td>_step</td><td>▁</td></tr></table><br/>"
     },
     "metadata": {},
     "output_type": "display_data"
    },
    {
     "data": {
      "text/plain": "<IPython.core.display.HTML object>",
      "text/html": "Synced 5 W&B file(s), 0 media file(s), 0 artifact file(s) and 0 other file(s)"
     },
     "metadata": {},
     "output_type": "display_data"
    },
    {
     "data": {
      "text/plain": "<IPython.core.display.HTML object>",
      "text/html": "\n                    <br/>Synced <strong style=\"color:#cdcd00\">prime-sweep-12</strong>: <a href=\"https://wandb.ai/devcore/Metriken%20Bauwesen%20Sweeps/runs/7g57fgud\" target=\"_blank\">https://wandb.ai/devcore/Metriken%20Bauwesen%20Sweeps/runs/7g57fgud</a><br/>\n                "
     },
     "metadata": {},
     "output_type": "display_data"
    },
    {
     "data": {
      "text/plain": "<IPython.core.display.HTML object>",
      "text/html": "\n                Tracking run with wandb version 0.10.32<br/>\n                Syncing run <strong style=\"color:#cdcd00\">vital-sweep-13</strong> to <a href=\"https://wandb.ai\" target=\"_blank\">Weights & Biases</a> <a href=\"https://docs.wandb.com/integrations/jupyter.html\" target=\"_blank\">(Documentation)</a>.<br/>\n                Project page: <a href=\"https://wandb.ai/devcore/Metriken%20Bauwesen%20Sweeps\" target=\"_blank\">https://wandb.ai/devcore/Metriken%20Bauwesen%20Sweeps</a><br/>\n                Sweep page: <a href=\"https://wandb.ai/devcore/Metriken%20Bauwesen%20Sweeps/sweeps/mkxhrc96\" target=\"_blank\">https://wandb.ai/devcore/Metriken%20Bauwesen%20Sweeps/sweeps/mkxhrc96</a><br/>\nRun page: <a href=\"https://wandb.ai/devcore/Metriken%20Bauwesen%20Sweeps/runs/qpnvmlj1\" target=\"_blank\">https://wandb.ai/devcore/Metriken%20Bauwesen%20Sweeps/runs/qpnvmlj1</a><br/>\n                Run data is saved locally in <code>D:\\Development\\FHNW\\ip5-metriken-bauwesen\\src\\weight_and_bias\\wandb\\run-20210622_174441-qpnvmlj1</code><br/><br/>\n            "
     },
     "metadata": {},
     "output_type": "display_data"
    },
    {
     "data": {
      "text/plain": "<IPython.core.display.HTML object>",
      "text/html": "<br/>Waiting for W&B process to finish, PID 19084<br/>Program ended successfully."
     },
     "metadata": {},
     "output_type": "display_data"
    },
    {
     "data": {
      "text/plain": "VBox(children=(Label(value=' 0.00MB of 0.00MB uploaded (0.00MB deduped)\\r'), FloatProgress(value=1.0, max=1.0)…",
      "application/vnd.jupyter.widget-view+json": {
       "version_major": 2,
       "version_minor": 0,
       "model_id": "f90c07d7bca742cbbef7171bcf70d934"
      }
     },
     "metadata": {},
     "output_type": "display_data"
    },
    {
     "data": {
      "text/plain": "<IPython.core.display.HTML object>",
      "text/html": "Find user logs for this run at: <code>D:\\Development\\FHNW\\ip5-metriken-bauwesen\\src\\weight_and_bias\\wandb\\run-20210622_174441-qpnvmlj1\\logs\\debug.log</code>"
     },
     "metadata": {},
     "output_type": "display_data"
    },
    {
     "data": {
      "text/plain": "<IPython.core.display.HTML object>",
      "text/html": "Find internal logs for this run at: <code>D:\\Development\\FHNW\\ip5-metriken-bauwesen\\src\\weight_and_bias\\wandb\\run-20210622_174441-qpnvmlj1\\logs\\debug-internal.log</code>"
     },
     "metadata": {},
     "output_type": "display_data"
    },
    {
     "data": {
      "text/plain": "<IPython.core.display.HTML object>",
      "text/html": "<h3>Run summary:</h3><br/><style>\n    table.wandb td:nth-child(1) { padding: 0 10px; text-align: right }\n    </style><table class=\"wandb\">\n<tr><td>r2</td><td>0.94284</td></tr><tr><td>_runtime</td><td>1</td></tr><tr><td>_timestamp</td><td>1624376682</td></tr><tr><td>_step</td><td>0</td></tr></table>"
     },
     "metadata": {},
     "output_type": "display_data"
    },
    {
     "data": {
      "text/plain": "<IPython.core.display.HTML object>",
      "text/html": "<h3>Run history:</h3><br/><style>\n    table.wandb td:nth-child(1) { padding: 0 10px; text-align: right }\n    </style><table class=\"wandb\">\n<tr><td>r2</td><td>▁</td></tr><tr><td>_runtime</td><td>▁</td></tr><tr><td>_timestamp</td><td>▁</td></tr><tr><td>_step</td><td>▁</td></tr></table><br/>"
     },
     "metadata": {},
     "output_type": "display_data"
    },
    {
     "data": {
      "text/plain": "<IPython.core.display.HTML object>",
      "text/html": "Synced 5 W&B file(s), 0 media file(s), 0 artifact file(s) and 0 other file(s)"
     },
     "metadata": {},
     "output_type": "display_data"
    },
    {
     "data": {
      "text/plain": "<IPython.core.display.HTML object>",
      "text/html": "\n                    <br/>Synced <strong style=\"color:#cdcd00\">vital-sweep-13</strong>: <a href=\"https://wandb.ai/devcore/Metriken%20Bauwesen%20Sweeps/runs/qpnvmlj1\" target=\"_blank\">https://wandb.ai/devcore/Metriken%20Bauwesen%20Sweeps/runs/qpnvmlj1</a><br/>\n                "
     },
     "metadata": {},
     "output_type": "display_data"
    },
    {
     "data": {
      "text/plain": "<IPython.core.display.HTML object>",
      "text/html": "\n                Tracking run with wandb version 0.10.32<br/>\n                Syncing run <strong style=\"color:#cdcd00\">hardy-sweep-14</strong> to <a href=\"https://wandb.ai\" target=\"_blank\">Weights & Biases</a> <a href=\"https://docs.wandb.com/integrations/jupyter.html\" target=\"_blank\">(Documentation)</a>.<br/>\n                Project page: <a href=\"https://wandb.ai/devcore/Metriken%20Bauwesen%20Sweeps\" target=\"_blank\">https://wandb.ai/devcore/Metriken%20Bauwesen%20Sweeps</a><br/>\n                Sweep page: <a href=\"https://wandb.ai/devcore/Metriken%20Bauwesen%20Sweeps/sweeps/mkxhrc96\" target=\"_blank\">https://wandb.ai/devcore/Metriken%20Bauwesen%20Sweeps/sweeps/mkxhrc96</a><br/>\nRun page: <a href=\"https://wandb.ai/devcore/Metriken%20Bauwesen%20Sweeps/runs/bc7ap94i\" target=\"_blank\">https://wandb.ai/devcore/Metriken%20Bauwesen%20Sweeps/runs/bc7ap94i</a><br/>\n                Run data is saved locally in <code>D:\\Development\\FHNW\\ip5-metriken-bauwesen\\src\\weight_and_bias\\wandb\\run-20210622_174447-bc7ap94i</code><br/><br/>\n            "
     },
     "metadata": {},
     "output_type": "display_data"
    },
    {
     "data": {
      "text/plain": "<IPython.core.display.HTML object>",
      "text/html": "<br/>Waiting for W&B process to finish, PID 22588<br/>Program ended successfully."
     },
     "metadata": {},
     "output_type": "display_data"
    },
    {
     "data": {
      "text/plain": "VBox(children=(Label(value=' 0.00MB of 0.00MB uploaded (0.00MB deduped)\\r'), FloatProgress(value=1.0, max=1.0)…",
      "application/vnd.jupyter.widget-view+json": {
       "version_major": 2,
       "version_minor": 0,
       "model_id": "fb31bf7d2e55442aa5beedbe876b68b0"
      }
     },
     "metadata": {},
     "output_type": "display_data"
    },
    {
     "data": {
      "text/plain": "<IPython.core.display.HTML object>",
      "text/html": "Find user logs for this run at: <code>D:\\Development\\FHNW\\ip5-metriken-bauwesen\\src\\weight_and_bias\\wandb\\run-20210622_174447-bc7ap94i\\logs\\debug.log</code>"
     },
     "metadata": {},
     "output_type": "display_data"
    },
    {
     "data": {
      "text/plain": "<IPython.core.display.HTML object>",
      "text/html": "Find internal logs for this run at: <code>D:\\Development\\FHNW\\ip5-metriken-bauwesen\\src\\weight_and_bias\\wandb\\run-20210622_174447-bc7ap94i\\logs\\debug-internal.log</code>"
     },
     "metadata": {},
     "output_type": "display_data"
    },
    {
     "data": {
      "text/plain": "<IPython.core.display.HTML object>",
      "text/html": "<h3>Run summary:</h3><br/><style>\n    table.wandb td:nth-child(1) { padding: 0 10px; text-align: right }\n    </style><table class=\"wandb\">\n<tr><td>r2</td><td>0.94406</td></tr><tr><td>_runtime</td><td>2</td></tr><tr><td>_timestamp</td><td>1624376689</td></tr><tr><td>_step</td><td>0</td></tr></table>"
     },
     "metadata": {},
     "output_type": "display_data"
    },
    {
     "data": {
      "text/plain": "<IPython.core.display.HTML object>",
      "text/html": "<h3>Run history:</h3><br/><style>\n    table.wandb td:nth-child(1) { padding: 0 10px; text-align: right }\n    </style><table class=\"wandb\">\n<tr><td>r2</td><td>▁</td></tr><tr><td>_runtime</td><td>▁</td></tr><tr><td>_timestamp</td><td>▁</td></tr><tr><td>_step</td><td>▁</td></tr></table><br/>"
     },
     "metadata": {},
     "output_type": "display_data"
    },
    {
     "data": {
      "text/plain": "<IPython.core.display.HTML object>",
      "text/html": "Synced 5 W&B file(s), 0 media file(s), 0 artifact file(s) and 0 other file(s)"
     },
     "metadata": {},
     "output_type": "display_data"
    },
    {
     "data": {
      "text/plain": "<IPython.core.display.HTML object>",
      "text/html": "\n                    <br/>Synced <strong style=\"color:#cdcd00\">hardy-sweep-14</strong>: <a href=\"https://wandb.ai/devcore/Metriken%20Bauwesen%20Sweeps/runs/bc7ap94i\" target=\"_blank\">https://wandb.ai/devcore/Metriken%20Bauwesen%20Sweeps/runs/bc7ap94i</a><br/>\n                "
     },
     "metadata": {},
     "output_type": "display_data"
    },
    {
     "data": {
      "text/plain": "<IPython.core.display.HTML object>",
      "text/html": "\n                Tracking run with wandb version 0.10.32<br/>\n                Syncing run <strong style=\"color:#cdcd00\">genial-sweep-15</strong> to <a href=\"https://wandb.ai\" target=\"_blank\">Weights & Biases</a> <a href=\"https://docs.wandb.com/integrations/jupyter.html\" target=\"_blank\">(Documentation)</a>.<br/>\n                Project page: <a href=\"https://wandb.ai/devcore/Metriken%20Bauwesen%20Sweeps\" target=\"_blank\">https://wandb.ai/devcore/Metriken%20Bauwesen%20Sweeps</a><br/>\n                Sweep page: <a href=\"https://wandb.ai/devcore/Metriken%20Bauwesen%20Sweeps/sweeps/mkxhrc96\" target=\"_blank\">https://wandb.ai/devcore/Metriken%20Bauwesen%20Sweeps/sweeps/mkxhrc96</a><br/>\nRun page: <a href=\"https://wandb.ai/devcore/Metriken%20Bauwesen%20Sweeps/runs/b181lx67\" target=\"_blank\">https://wandb.ai/devcore/Metriken%20Bauwesen%20Sweeps/runs/b181lx67</a><br/>\n                Run data is saved locally in <code>D:\\Development\\FHNW\\ip5-metriken-bauwesen\\src\\weight_and_bias\\wandb\\run-20210622_174453-b181lx67</code><br/><br/>\n            "
     },
     "metadata": {},
     "output_type": "display_data"
    },
    {
     "data": {
      "text/plain": "<IPython.core.display.HTML object>",
      "text/html": "<br/>Waiting for W&B process to finish, PID 17592<br/>Program ended successfully."
     },
     "metadata": {},
     "output_type": "display_data"
    },
    {
     "data": {
      "text/plain": "VBox(children=(Label(value=' 0.00MB of 0.00MB uploaded (0.00MB deduped)\\r'), FloatProgress(value=1.0, max=1.0)…",
      "application/vnd.jupyter.widget-view+json": {
       "version_major": 2,
       "version_minor": 0,
       "model_id": "cf82867492ce430ab34694369a7481f9"
      }
     },
     "metadata": {},
     "output_type": "display_data"
    },
    {
     "data": {
      "text/plain": "<IPython.core.display.HTML object>",
      "text/html": "Find user logs for this run at: <code>D:\\Development\\FHNW\\ip5-metriken-bauwesen\\src\\weight_and_bias\\wandb\\run-20210622_174453-b181lx67\\logs\\debug.log</code>"
     },
     "metadata": {},
     "output_type": "display_data"
    },
    {
     "data": {
      "text/plain": "<IPython.core.display.HTML object>",
      "text/html": "Find internal logs for this run at: <code>D:\\Development\\FHNW\\ip5-metriken-bauwesen\\src\\weight_and_bias\\wandb\\run-20210622_174453-b181lx67\\logs\\debug-internal.log</code>"
     },
     "metadata": {},
     "output_type": "display_data"
    },
    {
     "data": {
      "text/plain": "<IPython.core.display.HTML object>",
      "text/html": "<h3>Run summary:</h3><br/><style>\n    table.wandb td:nth-child(1) { padding: 0 10px; text-align: right }\n    </style><table class=\"wandb\">\n<tr><td>r2</td><td>0.91463</td></tr><tr><td>_runtime</td><td>2</td></tr><tr><td>_timestamp</td><td>1624376695</td></tr><tr><td>_step</td><td>0</td></tr></table>"
     },
     "metadata": {},
     "output_type": "display_data"
    },
    {
     "data": {
      "text/plain": "<IPython.core.display.HTML object>",
      "text/html": "<h3>Run history:</h3><br/><style>\n    table.wandb td:nth-child(1) { padding: 0 10px; text-align: right }\n    </style><table class=\"wandb\">\n<tr><td>r2</td><td>▁</td></tr><tr><td>_runtime</td><td>▁</td></tr><tr><td>_timestamp</td><td>▁</td></tr><tr><td>_step</td><td>▁</td></tr></table><br/>"
     },
     "metadata": {},
     "output_type": "display_data"
    },
    {
     "data": {
      "text/plain": "<IPython.core.display.HTML object>",
      "text/html": "Synced 5 W&B file(s), 0 media file(s), 0 artifact file(s) and 0 other file(s)"
     },
     "metadata": {},
     "output_type": "display_data"
    },
    {
     "data": {
      "text/plain": "<IPython.core.display.HTML object>",
      "text/html": "\n                    <br/>Synced <strong style=\"color:#cdcd00\">genial-sweep-15</strong>: <a href=\"https://wandb.ai/devcore/Metriken%20Bauwesen%20Sweeps/runs/b181lx67\" target=\"_blank\">https://wandb.ai/devcore/Metriken%20Bauwesen%20Sweeps/runs/b181lx67</a><br/>\n                "
     },
     "metadata": {},
     "output_type": "display_data"
    },
    {
     "data": {
      "text/plain": "<IPython.core.display.HTML object>",
      "text/html": "\n                Tracking run with wandb version 0.10.32<br/>\n                Syncing run <strong style=\"color:#cdcd00\">pious-sweep-16</strong> to <a href=\"https://wandb.ai\" target=\"_blank\">Weights & Biases</a> <a href=\"https://docs.wandb.com/integrations/jupyter.html\" target=\"_blank\">(Documentation)</a>.<br/>\n                Project page: <a href=\"https://wandb.ai/devcore/Metriken%20Bauwesen%20Sweeps\" target=\"_blank\">https://wandb.ai/devcore/Metriken%20Bauwesen%20Sweeps</a><br/>\n                Sweep page: <a href=\"https://wandb.ai/devcore/Metriken%20Bauwesen%20Sweeps/sweeps/mkxhrc96\" target=\"_blank\">https://wandb.ai/devcore/Metriken%20Bauwesen%20Sweeps/sweeps/mkxhrc96</a><br/>\nRun page: <a href=\"https://wandb.ai/devcore/Metriken%20Bauwesen%20Sweeps/runs/tpfktzlq\" target=\"_blank\">https://wandb.ai/devcore/Metriken%20Bauwesen%20Sweeps/runs/tpfktzlq</a><br/>\n                Run data is saved locally in <code>D:\\Development\\FHNW\\ip5-metriken-bauwesen\\src\\weight_and_bias\\wandb\\run-20210622_174503-tpfktzlq</code><br/><br/>\n            "
     },
     "metadata": {},
     "output_type": "display_data"
    },
    {
     "data": {
      "text/plain": "<IPython.core.display.HTML object>",
      "text/html": "<br/>Waiting for W&B process to finish, PID 23372<br/>Program ended successfully."
     },
     "metadata": {},
     "output_type": "display_data"
    },
    {
     "data": {
      "text/plain": "VBox(children=(Label(value=' 0.00MB of 0.00MB uploaded (0.00MB deduped)\\r'), FloatProgress(value=1.0, max=1.0)…",
      "application/vnd.jupyter.widget-view+json": {
       "version_major": 2,
       "version_minor": 0,
       "model_id": "112080c924bc48858869d2b05118a296"
      }
     },
     "metadata": {},
     "output_type": "display_data"
    },
    {
     "data": {
      "text/plain": "<IPython.core.display.HTML object>",
      "text/html": "Find user logs for this run at: <code>D:\\Development\\FHNW\\ip5-metriken-bauwesen\\src\\weight_and_bias\\wandb\\run-20210622_174503-tpfktzlq\\logs\\debug.log</code>"
     },
     "metadata": {},
     "output_type": "display_data"
    },
    {
     "data": {
      "text/plain": "<IPython.core.display.HTML object>",
      "text/html": "Find internal logs for this run at: <code>D:\\Development\\FHNW\\ip5-metriken-bauwesen\\src\\weight_and_bias\\wandb\\run-20210622_174503-tpfktzlq\\logs\\debug-internal.log</code>"
     },
     "metadata": {},
     "output_type": "display_data"
    },
    {
     "data": {
      "text/plain": "<IPython.core.display.HTML object>",
      "text/html": "<h3>Run summary:</h3><br/><style>\n    table.wandb td:nth-child(1) { padding: 0 10px; text-align: right }\n    </style><table class=\"wandb\">\n<tr><td>r2</td><td>0.94494</td></tr><tr><td>_runtime</td><td>2</td></tr><tr><td>_timestamp</td><td>1624376705</td></tr><tr><td>_step</td><td>0</td></tr></table>"
     },
     "metadata": {},
     "output_type": "display_data"
    },
    {
     "data": {
      "text/plain": "<IPython.core.display.HTML object>",
      "text/html": "<h3>Run history:</h3><br/><style>\n    table.wandb td:nth-child(1) { padding: 0 10px; text-align: right }\n    </style><table class=\"wandb\">\n<tr><td>r2</td><td>▁</td></tr><tr><td>_runtime</td><td>▁</td></tr><tr><td>_timestamp</td><td>▁</td></tr><tr><td>_step</td><td>▁</td></tr></table><br/>"
     },
     "metadata": {},
     "output_type": "display_data"
    },
    {
     "data": {
      "text/plain": "<IPython.core.display.HTML object>",
      "text/html": "Synced 5 W&B file(s), 0 media file(s), 0 artifact file(s) and 0 other file(s)"
     },
     "metadata": {},
     "output_type": "display_data"
    },
    {
     "data": {
      "text/plain": "<IPython.core.display.HTML object>",
      "text/html": "\n                    <br/>Synced <strong style=\"color:#cdcd00\">pious-sweep-16</strong>: <a href=\"https://wandb.ai/devcore/Metriken%20Bauwesen%20Sweeps/runs/tpfktzlq\" target=\"_blank\">https://wandb.ai/devcore/Metriken%20Bauwesen%20Sweeps/runs/tpfktzlq</a><br/>\n                "
     },
     "metadata": {},
     "output_type": "display_data"
    },
    {
     "data": {
      "text/plain": "<IPython.core.display.HTML object>",
      "text/html": "\n                Tracking run with wandb version 0.10.32<br/>\n                Syncing run <strong style=\"color:#cdcd00\">tough-sweep-17</strong> to <a href=\"https://wandb.ai\" target=\"_blank\">Weights & Biases</a> <a href=\"https://docs.wandb.com/integrations/jupyter.html\" target=\"_blank\">(Documentation)</a>.<br/>\n                Project page: <a href=\"https://wandb.ai/devcore/Metriken%20Bauwesen%20Sweeps\" target=\"_blank\">https://wandb.ai/devcore/Metriken%20Bauwesen%20Sweeps</a><br/>\n                Sweep page: <a href=\"https://wandb.ai/devcore/Metriken%20Bauwesen%20Sweeps/sweeps/mkxhrc96\" target=\"_blank\">https://wandb.ai/devcore/Metriken%20Bauwesen%20Sweeps/sweeps/mkxhrc96</a><br/>\nRun page: <a href=\"https://wandb.ai/devcore/Metriken%20Bauwesen%20Sweeps/runs/hv7okm9o\" target=\"_blank\">https://wandb.ai/devcore/Metriken%20Bauwesen%20Sweeps/runs/hv7okm9o</a><br/>\n                Run data is saved locally in <code>D:\\Development\\FHNW\\ip5-metriken-bauwesen\\src\\weight_and_bias\\wandb\\run-20210622_174509-hv7okm9o</code><br/><br/>\n            "
     },
     "metadata": {},
     "output_type": "display_data"
    },
    {
     "data": {
      "text/plain": "<IPython.core.display.HTML object>",
      "text/html": "<br/>Waiting for W&B process to finish, PID 3916<br/>Program ended successfully."
     },
     "metadata": {},
     "output_type": "display_data"
    },
    {
     "data": {
      "text/plain": "VBox(children=(Label(value=' 0.00MB of 0.00MB uploaded (0.00MB deduped)\\r'), FloatProgress(value=1.0, max=1.0)…",
      "application/vnd.jupyter.widget-view+json": {
       "version_major": 2,
       "version_minor": 0,
       "model_id": "1483336b0bef4c84b741965a5e3f9c80"
      }
     },
     "metadata": {},
     "output_type": "display_data"
    },
    {
     "data": {
      "text/plain": "<IPython.core.display.HTML object>",
      "text/html": "Find user logs for this run at: <code>D:\\Development\\FHNW\\ip5-metriken-bauwesen\\src\\weight_and_bias\\wandb\\run-20210622_174509-hv7okm9o\\logs\\debug.log</code>"
     },
     "metadata": {},
     "output_type": "display_data"
    },
    {
     "data": {
      "text/plain": "<IPython.core.display.HTML object>",
      "text/html": "Find internal logs for this run at: <code>D:\\Development\\FHNW\\ip5-metriken-bauwesen\\src\\weight_and_bias\\wandb\\run-20210622_174509-hv7okm9o\\logs\\debug-internal.log</code>"
     },
     "metadata": {},
     "output_type": "display_data"
    },
    {
     "data": {
      "text/plain": "<IPython.core.display.HTML object>",
      "text/html": "<h3>Run summary:</h3><br/><style>\n    table.wandb td:nth-child(1) { padding: 0 10px; text-align: right }\n    </style><table class=\"wandb\">\n<tr><td>r2</td><td>0.93721</td></tr><tr><td>_runtime</td><td>1</td></tr><tr><td>_timestamp</td><td>1624376710</td></tr><tr><td>_step</td><td>0</td></tr></table>"
     },
     "metadata": {},
     "output_type": "display_data"
    },
    {
     "data": {
      "text/plain": "<IPython.core.display.HTML object>",
      "text/html": "<h3>Run history:</h3><br/><style>\n    table.wandb td:nth-child(1) { padding: 0 10px; text-align: right }\n    </style><table class=\"wandb\">\n<tr><td>r2</td><td>▁</td></tr><tr><td>_runtime</td><td>▁</td></tr><tr><td>_timestamp</td><td>▁</td></tr><tr><td>_step</td><td>▁</td></tr></table><br/>"
     },
     "metadata": {},
     "output_type": "display_data"
    },
    {
     "data": {
      "text/plain": "<IPython.core.display.HTML object>",
      "text/html": "Synced 5 W&B file(s), 0 media file(s), 0 artifact file(s) and 0 other file(s)"
     },
     "metadata": {},
     "output_type": "display_data"
    },
    {
     "data": {
      "text/plain": "<IPython.core.display.HTML object>",
      "text/html": "\n                    <br/>Synced <strong style=\"color:#cdcd00\">tough-sweep-17</strong>: <a href=\"https://wandb.ai/devcore/Metriken%20Bauwesen%20Sweeps/runs/hv7okm9o\" target=\"_blank\">https://wandb.ai/devcore/Metriken%20Bauwesen%20Sweeps/runs/hv7okm9o</a><br/>\n                "
     },
     "metadata": {},
     "output_type": "display_data"
    },
    {
     "data": {
      "text/plain": "<IPython.core.display.HTML object>",
      "text/html": "\n                Tracking run with wandb version 0.10.32<br/>\n                Syncing run <strong style=\"color:#cdcd00\">toasty-sweep-18</strong> to <a href=\"https://wandb.ai\" target=\"_blank\">Weights & Biases</a> <a href=\"https://docs.wandb.com/integrations/jupyter.html\" target=\"_blank\">(Documentation)</a>.<br/>\n                Project page: <a href=\"https://wandb.ai/devcore/Metriken%20Bauwesen%20Sweeps\" target=\"_blank\">https://wandb.ai/devcore/Metriken%20Bauwesen%20Sweeps</a><br/>\n                Sweep page: <a href=\"https://wandb.ai/devcore/Metriken%20Bauwesen%20Sweeps/sweeps/mkxhrc96\" target=\"_blank\">https://wandb.ai/devcore/Metriken%20Bauwesen%20Sweeps/sweeps/mkxhrc96</a><br/>\nRun page: <a href=\"https://wandb.ai/devcore/Metriken%20Bauwesen%20Sweeps/runs/3tmvoti9\" target=\"_blank\">https://wandb.ai/devcore/Metriken%20Bauwesen%20Sweeps/runs/3tmvoti9</a><br/>\n                Run data is saved locally in <code>D:\\Development\\FHNW\\ip5-metriken-bauwesen\\src\\weight_and_bias\\wandb\\run-20210622_174517-3tmvoti9</code><br/><br/>\n            "
     },
     "metadata": {},
     "output_type": "display_data"
    },
    {
     "data": {
      "text/plain": "<IPython.core.display.HTML object>",
      "text/html": "<br/>Waiting for W&B process to finish, PID 20132<br/>Program ended successfully."
     },
     "metadata": {},
     "output_type": "display_data"
    },
    {
     "data": {
      "text/plain": "VBox(children=(Label(value=' 0.00MB of 0.00MB uploaded (0.00MB deduped)\\r'), FloatProgress(value=1.0, max=1.0)…",
      "application/vnd.jupyter.widget-view+json": {
       "version_major": 2,
       "version_minor": 0,
       "model_id": "555b9eaa86524a22a4e36d686728536a"
      }
     },
     "metadata": {},
     "output_type": "display_data"
    },
    {
     "data": {
      "text/plain": "<IPython.core.display.HTML object>",
      "text/html": "Find user logs for this run at: <code>D:\\Development\\FHNW\\ip5-metriken-bauwesen\\src\\weight_and_bias\\wandb\\run-20210622_174517-3tmvoti9\\logs\\debug.log</code>"
     },
     "metadata": {},
     "output_type": "display_data"
    },
    {
     "data": {
      "text/plain": "<IPython.core.display.HTML object>",
      "text/html": "Find internal logs for this run at: <code>D:\\Development\\FHNW\\ip5-metriken-bauwesen\\src\\weight_and_bias\\wandb\\run-20210622_174517-3tmvoti9\\logs\\debug-internal.log</code>"
     },
     "metadata": {},
     "output_type": "display_data"
    },
    {
     "data": {
      "text/plain": "<IPython.core.display.HTML object>",
      "text/html": "<h3>Run summary:</h3><br/><style>\n    table.wandb td:nth-child(1) { padding: 0 10px; text-align: right }\n    </style><table class=\"wandb\">\n<tr><td>r2</td><td>0.94052</td></tr><tr><td>_runtime</td><td>2</td></tr><tr><td>_timestamp</td><td>1624376719</td></tr><tr><td>_step</td><td>0</td></tr></table>"
     },
     "metadata": {},
     "output_type": "display_data"
    },
    {
     "data": {
      "text/plain": "<IPython.core.display.HTML object>",
      "text/html": "<h3>Run history:</h3><br/><style>\n    table.wandb td:nth-child(1) { padding: 0 10px; text-align: right }\n    </style><table class=\"wandb\">\n<tr><td>r2</td><td>▁</td></tr><tr><td>_runtime</td><td>▁</td></tr><tr><td>_timestamp</td><td>▁</td></tr><tr><td>_step</td><td>▁</td></tr></table><br/>"
     },
     "metadata": {},
     "output_type": "display_data"
    },
    {
     "data": {
      "text/plain": "<IPython.core.display.HTML object>",
      "text/html": "Synced 5 W&B file(s), 0 media file(s), 0 artifact file(s) and 0 other file(s)"
     },
     "metadata": {},
     "output_type": "display_data"
    },
    {
     "data": {
      "text/plain": "<IPython.core.display.HTML object>",
      "text/html": "\n                    <br/>Synced <strong style=\"color:#cdcd00\">toasty-sweep-18</strong>: <a href=\"https://wandb.ai/devcore/Metriken%20Bauwesen%20Sweeps/runs/3tmvoti9\" target=\"_blank\">https://wandb.ai/devcore/Metriken%20Bauwesen%20Sweeps/runs/3tmvoti9</a><br/>\n                "
     },
     "metadata": {},
     "output_type": "display_data"
    },
    {
     "data": {
      "text/plain": "<IPython.core.display.HTML object>",
      "text/html": "\n                Tracking run with wandb version 0.10.32<br/>\n                Syncing run <strong style=\"color:#cdcd00\">stellar-sweep-19</strong> to <a href=\"https://wandb.ai\" target=\"_blank\">Weights & Biases</a> <a href=\"https://docs.wandb.com/integrations/jupyter.html\" target=\"_blank\">(Documentation)</a>.<br/>\n                Project page: <a href=\"https://wandb.ai/devcore/Metriken%20Bauwesen%20Sweeps\" target=\"_blank\">https://wandb.ai/devcore/Metriken%20Bauwesen%20Sweeps</a><br/>\n                Sweep page: <a href=\"https://wandb.ai/devcore/Metriken%20Bauwesen%20Sweeps/sweeps/mkxhrc96\" target=\"_blank\">https://wandb.ai/devcore/Metriken%20Bauwesen%20Sweeps/sweeps/mkxhrc96</a><br/>\nRun page: <a href=\"https://wandb.ai/devcore/Metriken%20Bauwesen%20Sweeps/runs/xbd1ji75\" target=\"_blank\">https://wandb.ai/devcore/Metriken%20Bauwesen%20Sweeps/runs/xbd1ji75</a><br/>\n                Run data is saved locally in <code>D:\\Development\\FHNW\\ip5-metriken-bauwesen\\src\\weight_and_bias\\wandb\\run-20210622_174525-xbd1ji75</code><br/><br/>\n            "
     },
     "metadata": {},
     "output_type": "display_data"
    },
    {
     "data": {
      "text/plain": "<IPython.core.display.HTML object>",
      "text/html": "<br/>Waiting for W&B process to finish, PID 18388<br/>Program ended successfully."
     },
     "metadata": {},
     "output_type": "display_data"
    },
    {
     "data": {
      "text/plain": "VBox(children=(Label(value=' 0.00MB of 0.00MB uploaded (0.00MB deduped)\\r'), FloatProgress(value=1.0, max=1.0)…",
      "application/vnd.jupyter.widget-view+json": {
       "version_major": 2,
       "version_minor": 0,
       "model_id": "7e24ab3344eb496caec0f76a83bbe83e"
      }
     },
     "metadata": {},
     "output_type": "display_data"
    },
    {
     "data": {
      "text/plain": "<IPython.core.display.HTML object>",
      "text/html": "Find user logs for this run at: <code>D:\\Development\\FHNW\\ip5-metriken-bauwesen\\src\\weight_and_bias\\wandb\\run-20210622_174525-xbd1ji75\\logs\\debug.log</code>"
     },
     "metadata": {},
     "output_type": "display_data"
    },
    {
     "data": {
      "text/plain": "<IPython.core.display.HTML object>",
      "text/html": "Find internal logs for this run at: <code>D:\\Development\\FHNW\\ip5-metriken-bauwesen\\src\\weight_and_bias\\wandb\\run-20210622_174525-xbd1ji75\\logs\\debug-internal.log</code>"
     },
     "metadata": {},
     "output_type": "display_data"
    },
    {
     "data": {
      "text/plain": "<IPython.core.display.HTML object>",
      "text/html": "<h3>Run summary:</h3><br/><style>\n    table.wandb td:nth-child(1) { padding: 0 10px; text-align: right }\n    </style><table class=\"wandb\">\n<tr><td>r2</td><td>0.94545</td></tr><tr><td>_runtime</td><td>1</td></tr><tr><td>_timestamp</td><td>1624376726</td></tr><tr><td>_step</td><td>0</td></tr></table>"
     },
     "metadata": {},
     "output_type": "display_data"
    },
    {
     "data": {
      "text/plain": "<IPython.core.display.HTML object>",
      "text/html": "<h3>Run history:</h3><br/><style>\n    table.wandb td:nth-child(1) { padding: 0 10px; text-align: right }\n    </style><table class=\"wandb\">\n<tr><td>r2</td><td>▁</td></tr><tr><td>_runtime</td><td>▁</td></tr><tr><td>_timestamp</td><td>▁</td></tr><tr><td>_step</td><td>▁</td></tr></table><br/>"
     },
     "metadata": {},
     "output_type": "display_data"
    },
    {
     "data": {
      "text/plain": "<IPython.core.display.HTML object>",
      "text/html": "Synced 5 W&B file(s), 0 media file(s), 0 artifact file(s) and 0 other file(s)"
     },
     "metadata": {},
     "output_type": "display_data"
    },
    {
     "data": {
      "text/plain": "<IPython.core.display.HTML object>",
      "text/html": "\n                    <br/>Synced <strong style=\"color:#cdcd00\">stellar-sweep-19</strong>: <a href=\"https://wandb.ai/devcore/Metriken%20Bauwesen%20Sweeps/runs/xbd1ji75\" target=\"_blank\">https://wandb.ai/devcore/Metriken%20Bauwesen%20Sweeps/runs/xbd1ji75</a><br/>\n                "
     },
     "metadata": {},
     "output_type": "display_data"
    },
    {
     "data": {
      "text/plain": "<IPython.core.display.HTML object>",
      "text/html": "\n                Tracking run with wandb version 0.10.32<br/>\n                Syncing run <strong style=\"color:#cdcd00\">grateful-sweep-20</strong> to <a href=\"https://wandb.ai\" target=\"_blank\">Weights & Biases</a> <a href=\"https://docs.wandb.com/integrations/jupyter.html\" target=\"_blank\">(Documentation)</a>.<br/>\n                Project page: <a href=\"https://wandb.ai/devcore/Metriken%20Bauwesen%20Sweeps\" target=\"_blank\">https://wandb.ai/devcore/Metriken%20Bauwesen%20Sweeps</a><br/>\n                Sweep page: <a href=\"https://wandb.ai/devcore/Metriken%20Bauwesen%20Sweeps/sweeps/mkxhrc96\" target=\"_blank\">https://wandb.ai/devcore/Metriken%20Bauwesen%20Sweeps/sweeps/mkxhrc96</a><br/>\nRun page: <a href=\"https://wandb.ai/devcore/Metriken%20Bauwesen%20Sweeps/runs/onwgfu4s\" target=\"_blank\">https://wandb.ai/devcore/Metriken%20Bauwesen%20Sweeps/runs/onwgfu4s</a><br/>\n                Run data is saved locally in <code>D:\\Development\\FHNW\\ip5-metriken-bauwesen\\src\\weight_and_bias\\wandb\\run-20210622_174531-onwgfu4s</code><br/><br/>\n            "
     },
     "metadata": {},
     "output_type": "display_data"
    },
    {
     "data": {
      "text/plain": "<IPython.core.display.HTML object>",
      "text/html": "<br/>Waiting for W&B process to finish, PID 19636<br/>Program ended successfully."
     },
     "metadata": {},
     "output_type": "display_data"
    },
    {
     "data": {
      "text/plain": "VBox(children=(Label(value=' 0.00MB of 0.00MB uploaded (0.00MB deduped)\\r'), FloatProgress(value=1.0, max=1.0)…",
      "application/vnd.jupyter.widget-view+json": {
       "version_major": 2,
       "version_minor": 0,
       "model_id": "bc65eeb4f6824d04b553a060d075254d"
      }
     },
     "metadata": {},
     "output_type": "display_data"
    },
    {
     "data": {
      "text/plain": "<IPython.core.display.HTML object>",
      "text/html": "Find user logs for this run at: <code>D:\\Development\\FHNW\\ip5-metriken-bauwesen\\src\\weight_and_bias\\wandb\\run-20210622_174531-onwgfu4s\\logs\\debug.log</code>"
     },
     "metadata": {},
     "output_type": "display_data"
    },
    {
     "data": {
      "text/plain": "<IPython.core.display.HTML object>",
      "text/html": "Find internal logs for this run at: <code>D:\\Development\\FHNW\\ip5-metriken-bauwesen\\src\\weight_and_bias\\wandb\\run-20210622_174531-onwgfu4s\\logs\\debug-internal.log</code>"
     },
     "metadata": {},
     "output_type": "display_data"
    },
    {
     "data": {
      "text/plain": "<IPython.core.display.HTML object>",
      "text/html": "<h3>Run summary:</h3><br/><style>\n    table.wandb td:nth-child(1) { padding: 0 10px; text-align: right }\n    </style><table class=\"wandb\">\n<tr><td>r2</td><td>0.93826</td></tr><tr><td>_runtime</td><td>2</td></tr><tr><td>_timestamp</td><td>1624376733</td></tr><tr><td>_step</td><td>0</td></tr></table>"
     },
     "metadata": {},
     "output_type": "display_data"
    },
    {
     "data": {
      "text/plain": "<IPython.core.display.HTML object>",
      "text/html": "<h3>Run history:</h3><br/><style>\n    table.wandb td:nth-child(1) { padding: 0 10px; text-align: right }\n    </style><table class=\"wandb\">\n<tr><td>r2</td><td>▁</td></tr><tr><td>_runtime</td><td>▁</td></tr><tr><td>_timestamp</td><td>▁</td></tr><tr><td>_step</td><td>▁</td></tr></table><br/>"
     },
     "metadata": {},
     "output_type": "display_data"
    },
    {
     "data": {
      "text/plain": "<IPython.core.display.HTML object>",
      "text/html": "Synced 5 W&B file(s), 0 media file(s), 0 artifact file(s) and 0 other file(s)"
     },
     "metadata": {},
     "output_type": "display_data"
    },
    {
     "data": {
      "text/plain": "<IPython.core.display.HTML object>",
      "text/html": "\n                    <br/>Synced <strong style=\"color:#cdcd00\">grateful-sweep-20</strong>: <a href=\"https://wandb.ai/devcore/Metriken%20Bauwesen%20Sweeps/runs/onwgfu4s\" target=\"_blank\">https://wandb.ai/devcore/Metriken%20Bauwesen%20Sweeps/runs/onwgfu4s</a><br/>\n                "
     },
     "metadata": {},
     "output_type": "display_data"
    },
    {
     "data": {
      "text/plain": "<IPython.core.display.HTML object>",
      "text/html": "\n                Tracking run with wandb version 0.10.32<br/>\n                Syncing run <strong style=\"color:#cdcd00\">fallen-sweep-21</strong> to <a href=\"https://wandb.ai\" target=\"_blank\">Weights & Biases</a> <a href=\"https://docs.wandb.com/integrations/jupyter.html\" target=\"_blank\">(Documentation)</a>.<br/>\n                Project page: <a href=\"https://wandb.ai/devcore/Metriken%20Bauwesen%20Sweeps\" target=\"_blank\">https://wandb.ai/devcore/Metriken%20Bauwesen%20Sweeps</a><br/>\n                Sweep page: <a href=\"https://wandb.ai/devcore/Metriken%20Bauwesen%20Sweeps/sweeps/mkxhrc96\" target=\"_blank\">https://wandb.ai/devcore/Metriken%20Bauwesen%20Sweeps/sweeps/mkxhrc96</a><br/>\nRun page: <a href=\"https://wandb.ai/devcore/Metriken%20Bauwesen%20Sweeps/runs/zonl9zpt\" target=\"_blank\">https://wandb.ai/devcore/Metriken%20Bauwesen%20Sweeps/runs/zonl9zpt</a><br/>\n                Run data is saved locally in <code>D:\\Development\\FHNW\\ip5-metriken-bauwesen\\src\\weight_and_bias\\wandb\\run-20210622_174536-zonl9zpt</code><br/><br/>\n            "
     },
     "metadata": {},
     "output_type": "display_data"
    },
    {
     "data": {
      "text/plain": "<IPython.core.display.HTML object>",
      "text/html": "<br/>Waiting for W&B process to finish, PID 3784<br/>Program ended successfully."
     },
     "metadata": {},
     "output_type": "display_data"
    },
    {
     "data": {
      "text/plain": "VBox(children=(Label(value=' 0.00MB of 0.00MB uploaded (0.00MB deduped)\\r'), FloatProgress(value=1.0, max=1.0)…",
      "application/vnd.jupyter.widget-view+json": {
       "version_major": 2,
       "version_minor": 0,
       "model_id": "e191529d5c5e4f3c881696c7a7b9ef91"
      }
     },
     "metadata": {},
     "output_type": "display_data"
    },
    {
     "data": {
      "text/plain": "<IPython.core.display.HTML object>",
      "text/html": "Find user logs for this run at: <code>D:\\Development\\FHNW\\ip5-metriken-bauwesen\\src\\weight_and_bias\\wandb\\run-20210622_174536-zonl9zpt\\logs\\debug.log</code>"
     },
     "metadata": {},
     "output_type": "display_data"
    },
    {
     "data": {
      "text/plain": "<IPython.core.display.HTML object>",
      "text/html": "Find internal logs for this run at: <code>D:\\Development\\FHNW\\ip5-metriken-bauwesen\\src\\weight_and_bias\\wandb\\run-20210622_174536-zonl9zpt\\logs\\debug-internal.log</code>"
     },
     "metadata": {},
     "output_type": "display_data"
    },
    {
     "data": {
      "text/plain": "<IPython.core.display.HTML object>",
      "text/html": "<h3>Run summary:</h3><br/><style>\n    table.wandb td:nth-child(1) { padding: 0 10px; text-align: right }\n    </style><table class=\"wandb\">\n<tr><td>r2</td><td>0.91107</td></tr><tr><td>_runtime</td><td>1</td></tr><tr><td>_timestamp</td><td>1624376738</td></tr><tr><td>_step</td><td>0</td></tr></table>"
     },
     "metadata": {},
     "output_type": "display_data"
    },
    {
     "data": {
      "text/plain": "<IPython.core.display.HTML object>",
      "text/html": "<h3>Run history:</h3><br/><style>\n    table.wandb td:nth-child(1) { padding: 0 10px; text-align: right }\n    </style><table class=\"wandb\">\n<tr><td>r2</td><td>▁</td></tr><tr><td>_runtime</td><td>▁</td></tr><tr><td>_timestamp</td><td>▁</td></tr><tr><td>_step</td><td>▁</td></tr></table><br/>"
     },
     "metadata": {},
     "output_type": "display_data"
    },
    {
     "data": {
      "text/plain": "<IPython.core.display.HTML object>",
      "text/html": "Synced 5 W&B file(s), 0 media file(s), 0 artifact file(s) and 0 other file(s)"
     },
     "metadata": {},
     "output_type": "display_data"
    },
    {
     "data": {
      "text/plain": "<IPython.core.display.HTML object>",
      "text/html": "\n                    <br/>Synced <strong style=\"color:#cdcd00\">fallen-sweep-21</strong>: <a href=\"https://wandb.ai/devcore/Metriken%20Bauwesen%20Sweeps/runs/zonl9zpt\" target=\"_blank\">https://wandb.ai/devcore/Metriken%20Bauwesen%20Sweeps/runs/zonl9zpt</a><br/>\n                "
     },
     "metadata": {},
     "output_type": "display_data"
    },
    {
     "data": {
      "text/plain": "<IPython.core.display.HTML object>",
      "text/html": "\n                Tracking run with wandb version 0.10.32<br/>\n                Syncing run <strong style=\"color:#cdcd00\">colorful-sweep-22</strong> to <a href=\"https://wandb.ai\" target=\"_blank\">Weights & Biases</a> <a href=\"https://docs.wandb.com/integrations/jupyter.html\" target=\"_blank\">(Documentation)</a>.<br/>\n                Project page: <a href=\"https://wandb.ai/devcore/Metriken%20Bauwesen%20Sweeps\" target=\"_blank\">https://wandb.ai/devcore/Metriken%20Bauwesen%20Sweeps</a><br/>\n                Sweep page: <a href=\"https://wandb.ai/devcore/Metriken%20Bauwesen%20Sweeps/sweeps/mkxhrc96\" target=\"_blank\">https://wandb.ai/devcore/Metriken%20Bauwesen%20Sweeps/sweeps/mkxhrc96</a><br/>\nRun page: <a href=\"https://wandb.ai/devcore/Metriken%20Bauwesen%20Sweeps/runs/1dvxnibi\" target=\"_blank\">https://wandb.ai/devcore/Metriken%20Bauwesen%20Sweeps/runs/1dvxnibi</a><br/>\n                Run data is saved locally in <code>D:\\Development\\FHNW\\ip5-metriken-bauwesen\\src\\weight_and_bias\\wandb\\run-20210622_174542-1dvxnibi</code><br/><br/>\n            "
     },
     "metadata": {},
     "output_type": "display_data"
    },
    {
     "data": {
      "text/plain": "<IPython.core.display.HTML object>",
      "text/html": "<br/>Waiting for W&B process to finish, PID 12224<br/>Program ended successfully."
     },
     "metadata": {},
     "output_type": "display_data"
    },
    {
     "data": {
      "text/plain": "VBox(children=(Label(value=' 0.00MB of 0.00MB uploaded (0.00MB deduped)\\r'), FloatProgress(value=1.0, max=1.0)…",
      "application/vnd.jupyter.widget-view+json": {
       "version_major": 2,
       "version_minor": 0,
       "model_id": "d0a4ce2644944a92986cd237cd073759"
      }
     },
     "metadata": {},
     "output_type": "display_data"
    },
    {
     "data": {
      "text/plain": "<IPython.core.display.HTML object>",
      "text/html": "Find user logs for this run at: <code>D:\\Development\\FHNW\\ip5-metriken-bauwesen\\src\\weight_and_bias\\wandb\\run-20210622_174542-1dvxnibi\\logs\\debug.log</code>"
     },
     "metadata": {},
     "output_type": "display_data"
    },
    {
     "data": {
      "text/plain": "<IPython.core.display.HTML object>",
      "text/html": "Find internal logs for this run at: <code>D:\\Development\\FHNW\\ip5-metriken-bauwesen\\src\\weight_and_bias\\wandb\\run-20210622_174542-1dvxnibi\\logs\\debug-internal.log</code>"
     },
     "metadata": {},
     "output_type": "display_data"
    },
    {
     "data": {
      "text/plain": "<IPython.core.display.HTML object>",
      "text/html": "<h3>Run summary:</h3><br/><style>\n    table.wandb td:nth-child(1) { padding: 0 10px; text-align: right }\n    </style><table class=\"wandb\">\n<tr><td>r2</td><td>0.93646</td></tr><tr><td>_runtime</td><td>2</td></tr><tr><td>_timestamp</td><td>1624376744</td></tr><tr><td>_step</td><td>0</td></tr></table>"
     },
     "metadata": {},
     "output_type": "display_data"
    },
    {
     "data": {
      "text/plain": "<IPython.core.display.HTML object>",
      "text/html": "<h3>Run history:</h3><br/><style>\n    table.wandb td:nth-child(1) { padding: 0 10px; text-align: right }\n    </style><table class=\"wandb\">\n<tr><td>r2</td><td>▁</td></tr><tr><td>_runtime</td><td>▁</td></tr><tr><td>_timestamp</td><td>▁</td></tr><tr><td>_step</td><td>▁</td></tr></table><br/>"
     },
     "metadata": {},
     "output_type": "display_data"
    },
    {
     "data": {
      "text/plain": "<IPython.core.display.HTML object>",
      "text/html": "Synced 5 W&B file(s), 0 media file(s), 0 artifact file(s) and 0 other file(s)"
     },
     "metadata": {},
     "output_type": "display_data"
    },
    {
     "data": {
      "text/plain": "<IPython.core.display.HTML object>",
      "text/html": "\n                    <br/>Synced <strong style=\"color:#cdcd00\">colorful-sweep-22</strong>: <a href=\"https://wandb.ai/devcore/Metriken%20Bauwesen%20Sweeps/runs/1dvxnibi\" target=\"_blank\">https://wandb.ai/devcore/Metriken%20Bauwesen%20Sweeps/runs/1dvxnibi</a><br/>\n                "
     },
     "metadata": {},
     "output_type": "display_data"
    },
    {
     "data": {
      "text/plain": "<IPython.core.display.HTML object>",
      "text/html": "\n                Tracking run with wandb version 0.10.32<br/>\n                Syncing run <strong style=\"color:#cdcd00\">vital-sweep-23</strong> to <a href=\"https://wandb.ai\" target=\"_blank\">Weights & Biases</a> <a href=\"https://docs.wandb.com/integrations/jupyter.html\" target=\"_blank\">(Documentation)</a>.<br/>\n                Project page: <a href=\"https://wandb.ai/devcore/Metriken%20Bauwesen%20Sweeps\" target=\"_blank\">https://wandb.ai/devcore/Metriken%20Bauwesen%20Sweeps</a><br/>\n                Sweep page: <a href=\"https://wandb.ai/devcore/Metriken%20Bauwesen%20Sweeps/sweeps/mkxhrc96\" target=\"_blank\">https://wandb.ai/devcore/Metriken%20Bauwesen%20Sweeps/sweeps/mkxhrc96</a><br/>\nRun page: <a href=\"https://wandb.ai/devcore/Metriken%20Bauwesen%20Sweeps/runs/qzegecfj\" target=\"_blank\">https://wandb.ai/devcore/Metriken%20Bauwesen%20Sweeps/runs/qzegecfj</a><br/>\n                Run data is saved locally in <code>D:\\Development\\FHNW\\ip5-metriken-bauwesen\\src\\weight_and_bias\\wandb\\run-20210622_174548-qzegecfj</code><br/><br/>\n            "
     },
     "metadata": {},
     "output_type": "display_data"
    },
    {
     "data": {
      "text/plain": "<IPython.core.display.HTML object>",
      "text/html": "<br/>Waiting for W&B process to finish, PID 14064<br/>Program ended successfully."
     },
     "metadata": {},
     "output_type": "display_data"
    },
    {
     "data": {
      "text/plain": "VBox(children=(Label(value=' 0.00MB of 0.00MB uploaded (0.00MB deduped)\\r'), FloatProgress(value=1.0, max=1.0)…",
      "application/vnd.jupyter.widget-view+json": {
       "version_major": 2,
       "version_minor": 0,
       "model_id": "edc107261dc74ce4bde662f9d1fa3009"
      }
     },
     "metadata": {},
     "output_type": "display_data"
    },
    {
     "data": {
      "text/plain": "<IPython.core.display.HTML object>",
      "text/html": "Find user logs for this run at: <code>D:\\Development\\FHNW\\ip5-metriken-bauwesen\\src\\weight_and_bias\\wandb\\run-20210622_174548-qzegecfj\\logs\\debug.log</code>"
     },
     "metadata": {},
     "output_type": "display_data"
    },
    {
     "data": {
      "text/plain": "<IPython.core.display.HTML object>",
      "text/html": "Find internal logs for this run at: <code>D:\\Development\\FHNW\\ip5-metriken-bauwesen\\src\\weight_and_bias\\wandb\\run-20210622_174548-qzegecfj\\logs\\debug-internal.log</code>"
     },
     "metadata": {},
     "output_type": "display_data"
    },
    {
     "data": {
      "text/plain": "<IPython.core.display.HTML object>",
      "text/html": "<h3>Run summary:</h3><br/><style>\n    table.wandb td:nth-child(1) { padding: 0 10px; text-align: right }\n    </style><table class=\"wandb\">\n<tr><td>r2</td><td>0.94519</td></tr><tr><td>_runtime</td><td>2</td></tr><tr><td>_timestamp</td><td>1624376750</td></tr><tr><td>_step</td><td>0</td></tr></table>"
     },
     "metadata": {},
     "output_type": "display_data"
    },
    {
     "data": {
      "text/plain": "<IPython.core.display.HTML object>",
      "text/html": "<h3>Run history:</h3><br/><style>\n    table.wandb td:nth-child(1) { padding: 0 10px; text-align: right }\n    </style><table class=\"wandb\">\n<tr><td>r2</td><td>▁</td></tr><tr><td>_runtime</td><td>▁</td></tr><tr><td>_timestamp</td><td>▁</td></tr><tr><td>_step</td><td>▁</td></tr></table><br/>"
     },
     "metadata": {},
     "output_type": "display_data"
    },
    {
     "data": {
      "text/plain": "<IPython.core.display.HTML object>",
      "text/html": "Synced 5 W&B file(s), 0 media file(s), 0 artifact file(s) and 0 other file(s)"
     },
     "metadata": {},
     "output_type": "display_data"
    },
    {
     "data": {
      "text/plain": "<IPython.core.display.HTML object>",
      "text/html": "\n                    <br/>Synced <strong style=\"color:#cdcd00\">vital-sweep-23</strong>: <a href=\"https://wandb.ai/devcore/Metriken%20Bauwesen%20Sweeps/runs/qzegecfj\" target=\"_blank\">https://wandb.ai/devcore/Metriken%20Bauwesen%20Sweeps/runs/qzegecfj</a><br/>\n                "
     },
     "metadata": {},
     "output_type": "display_data"
    },
    {
     "data": {
      "text/plain": "<IPython.core.display.HTML object>",
      "text/html": "\n                Tracking run with wandb version 0.10.32<br/>\n                Syncing run <strong style=\"color:#cdcd00\">snowy-sweep-24</strong> to <a href=\"https://wandb.ai\" target=\"_blank\">Weights & Biases</a> <a href=\"https://docs.wandb.com/integrations/jupyter.html\" target=\"_blank\">(Documentation)</a>.<br/>\n                Project page: <a href=\"https://wandb.ai/devcore/Metriken%20Bauwesen%20Sweeps\" target=\"_blank\">https://wandb.ai/devcore/Metriken%20Bauwesen%20Sweeps</a><br/>\n                Sweep page: <a href=\"https://wandb.ai/devcore/Metriken%20Bauwesen%20Sweeps/sweeps/mkxhrc96\" target=\"_blank\">https://wandb.ai/devcore/Metriken%20Bauwesen%20Sweeps/sweeps/mkxhrc96</a><br/>\nRun page: <a href=\"https://wandb.ai/devcore/Metriken%20Bauwesen%20Sweeps/runs/zzrv5f4u\" target=\"_blank\">https://wandb.ai/devcore/Metriken%20Bauwesen%20Sweeps/runs/zzrv5f4u</a><br/>\n                Run data is saved locally in <code>D:\\Development\\FHNW\\ip5-metriken-bauwesen\\src\\weight_and_bias\\wandb\\run-20210622_174556-zzrv5f4u</code><br/><br/>\n            "
     },
     "metadata": {},
     "output_type": "display_data"
    },
    {
     "data": {
      "text/plain": "<IPython.core.display.HTML object>",
      "text/html": "<br/>Waiting for W&B process to finish, PID 14392<br/>Program ended successfully."
     },
     "metadata": {},
     "output_type": "display_data"
    },
    {
     "data": {
      "text/plain": "VBox(children=(Label(value=' 0.00MB of 0.00MB uploaded (0.00MB deduped)\\r'), FloatProgress(value=1.0, max=1.0)…",
      "application/vnd.jupyter.widget-view+json": {
       "version_major": 2,
       "version_minor": 0,
       "model_id": "dfb986d742244447983ab3ae2753d5e2"
      }
     },
     "metadata": {},
     "output_type": "display_data"
    },
    {
     "data": {
      "text/plain": "<IPython.core.display.HTML object>",
      "text/html": "Find user logs for this run at: <code>D:\\Development\\FHNW\\ip5-metriken-bauwesen\\src\\weight_and_bias\\wandb\\run-20210622_174556-zzrv5f4u\\logs\\debug.log</code>"
     },
     "metadata": {},
     "output_type": "display_data"
    },
    {
     "data": {
      "text/plain": "<IPython.core.display.HTML object>",
      "text/html": "Find internal logs for this run at: <code>D:\\Development\\FHNW\\ip5-metriken-bauwesen\\src\\weight_and_bias\\wandb\\run-20210622_174556-zzrv5f4u\\logs\\debug-internal.log</code>"
     },
     "metadata": {},
     "output_type": "display_data"
    },
    {
     "data": {
      "text/plain": "<IPython.core.display.HTML object>",
      "text/html": "<h3>Run summary:</h3><br/><style>\n    table.wandb td:nth-child(1) { padding: 0 10px; text-align: right }\n    </style><table class=\"wandb\">\n<tr><td>r2</td><td>0.94684</td></tr><tr><td>_runtime</td><td>1</td></tr><tr><td>_timestamp</td><td>1624376757</td></tr><tr><td>_step</td><td>0</td></tr></table>"
     },
     "metadata": {},
     "output_type": "display_data"
    },
    {
     "data": {
      "text/plain": "<IPython.core.display.HTML object>",
      "text/html": "<h3>Run history:</h3><br/><style>\n    table.wandb td:nth-child(1) { padding: 0 10px; text-align: right }\n    </style><table class=\"wandb\">\n<tr><td>r2</td><td>▁</td></tr><tr><td>_runtime</td><td>▁</td></tr><tr><td>_timestamp</td><td>▁</td></tr><tr><td>_step</td><td>▁</td></tr></table><br/>"
     },
     "metadata": {},
     "output_type": "display_data"
    },
    {
     "data": {
      "text/plain": "<IPython.core.display.HTML object>",
      "text/html": "Synced 5 W&B file(s), 0 media file(s), 0 artifact file(s) and 0 other file(s)"
     },
     "metadata": {},
     "output_type": "display_data"
    },
    {
     "data": {
      "text/plain": "<IPython.core.display.HTML object>",
      "text/html": "\n                    <br/>Synced <strong style=\"color:#cdcd00\">snowy-sweep-24</strong>: <a href=\"https://wandb.ai/devcore/Metriken%20Bauwesen%20Sweeps/runs/zzrv5f4u\" target=\"_blank\">https://wandb.ai/devcore/Metriken%20Bauwesen%20Sweeps/runs/zzrv5f4u</a><br/>\n                "
     },
     "metadata": {},
     "output_type": "display_data"
    },
    {
     "data": {
      "text/plain": "<IPython.core.display.HTML object>",
      "text/html": "\n                Tracking run with wandb version 0.10.32<br/>\n                Syncing run <strong style=\"color:#cdcd00\">brisk-sweep-25</strong> to <a href=\"https://wandb.ai\" target=\"_blank\">Weights & Biases</a> <a href=\"https://docs.wandb.com/integrations/jupyter.html\" target=\"_blank\">(Documentation)</a>.<br/>\n                Project page: <a href=\"https://wandb.ai/devcore/Metriken%20Bauwesen%20Sweeps\" target=\"_blank\">https://wandb.ai/devcore/Metriken%20Bauwesen%20Sweeps</a><br/>\n                Sweep page: <a href=\"https://wandb.ai/devcore/Metriken%20Bauwesen%20Sweeps/sweeps/mkxhrc96\" target=\"_blank\">https://wandb.ai/devcore/Metriken%20Bauwesen%20Sweeps/sweeps/mkxhrc96</a><br/>\nRun page: <a href=\"https://wandb.ai/devcore/Metriken%20Bauwesen%20Sweeps/runs/uplsfyvr\" target=\"_blank\">https://wandb.ai/devcore/Metriken%20Bauwesen%20Sweeps/runs/uplsfyvr</a><br/>\n                Run data is saved locally in <code>D:\\Development\\FHNW\\ip5-metriken-bauwesen\\src\\weight_and_bias\\wandb\\run-20210622_174601-uplsfyvr</code><br/><br/>\n            "
     },
     "metadata": {},
     "output_type": "display_data"
    },
    {
     "data": {
      "text/plain": "<IPython.core.display.HTML object>",
      "text/html": "<br/>Waiting for W&B process to finish, PID 3156<br/>Program ended successfully."
     },
     "metadata": {},
     "output_type": "display_data"
    },
    {
     "data": {
      "text/plain": "VBox(children=(Label(value=' 0.00MB of 0.00MB uploaded (0.00MB deduped)\\r'), FloatProgress(value=1.0, max=1.0)…",
      "application/vnd.jupyter.widget-view+json": {
       "version_major": 2,
       "version_minor": 0,
       "model_id": "602ba609b40b4a83a9201308ca3317e8"
      }
     },
     "metadata": {},
     "output_type": "display_data"
    },
    {
     "data": {
      "text/plain": "<IPython.core.display.HTML object>",
      "text/html": "Find user logs for this run at: <code>D:\\Development\\FHNW\\ip5-metriken-bauwesen\\src\\weight_and_bias\\wandb\\run-20210622_174601-uplsfyvr\\logs\\debug.log</code>"
     },
     "metadata": {},
     "output_type": "display_data"
    },
    {
     "data": {
      "text/plain": "<IPython.core.display.HTML object>",
      "text/html": "Find internal logs for this run at: <code>D:\\Development\\FHNW\\ip5-metriken-bauwesen\\src\\weight_and_bias\\wandb\\run-20210622_174601-uplsfyvr\\logs\\debug-internal.log</code>"
     },
     "metadata": {},
     "output_type": "display_data"
    },
    {
     "data": {
      "text/plain": "<IPython.core.display.HTML object>",
      "text/html": "<h3>Run summary:</h3><br/><style>\n    table.wandb td:nth-child(1) { padding: 0 10px; text-align: right }\n    </style><table class=\"wandb\">\n<tr><td>r2</td><td>0.93958</td></tr><tr><td>_runtime</td><td>2</td></tr><tr><td>_timestamp</td><td>1624376764</td></tr><tr><td>_step</td><td>0</td></tr></table>"
     },
     "metadata": {},
     "output_type": "display_data"
    },
    {
     "data": {
      "text/plain": "<IPython.core.display.HTML object>",
      "text/html": "<h3>Run history:</h3><br/><style>\n    table.wandb td:nth-child(1) { padding: 0 10px; text-align: right }\n    </style><table class=\"wandb\">\n<tr><td>r2</td><td>▁</td></tr><tr><td>_runtime</td><td>▁</td></tr><tr><td>_timestamp</td><td>▁</td></tr><tr><td>_step</td><td>▁</td></tr></table><br/>"
     },
     "metadata": {},
     "output_type": "display_data"
    },
    {
     "data": {
      "text/plain": "<IPython.core.display.HTML object>",
      "text/html": "Synced 5 W&B file(s), 0 media file(s), 0 artifact file(s) and 0 other file(s)"
     },
     "metadata": {},
     "output_type": "display_data"
    },
    {
     "data": {
      "text/plain": "<IPython.core.display.HTML object>",
      "text/html": "\n                    <br/>Synced <strong style=\"color:#cdcd00\">brisk-sweep-25</strong>: <a href=\"https://wandb.ai/devcore/Metriken%20Bauwesen%20Sweeps/runs/uplsfyvr\" target=\"_blank\">https://wandb.ai/devcore/Metriken%20Bauwesen%20Sweeps/runs/uplsfyvr</a><br/>\n                "
     },
     "metadata": {},
     "output_type": "display_data"
    },
    {
     "data": {
      "text/plain": "<IPython.core.display.HTML object>",
      "text/html": "\n                Tracking run with wandb version 0.10.32<br/>\n                Syncing run <strong style=\"color:#cdcd00\">distinctive-sweep-26</strong> to <a href=\"https://wandb.ai\" target=\"_blank\">Weights & Biases</a> <a href=\"https://docs.wandb.com/integrations/jupyter.html\" target=\"_blank\">(Documentation)</a>.<br/>\n                Project page: <a href=\"https://wandb.ai/devcore/Metriken%20Bauwesen%20Sweeps\" target=\"_blank\">https://wandb.ai/devcore/Metriken%20Bauwesen%20Sweeps</a><br/>\n                Sweep page: <a href=\"https://wandb.ai/devcore/Metriken%20Bauwesen%20Sweeps/sweeps/mkxhrc96\" target=\"_blank\">https://wandb.ai/devcore/Metriken%20Bauwesen%20Sweeps/sweeps/mkxhrc96</a><br/>\nRun page: <a href=\"https://wandb.ai/devcore/Metriken%20Bauwesen%20Sweeps/runs/xy7lcedr\" target=\"_blank\">https://wandb.ai/devcore/Metriken%20Bauwesen%20Sweeps/runs/xy7lcedr</a><br/>\n                Run data is saved locally in <code>D:\\Development\\FHNW\\ip5-metriken-bauwesen\\src\\weight_and_bias\\wandb\\run-20210622_174607-xy7lcedr</code><br/><br/>\n            "
     },
     "metadata": {},
     "output_type": "display_data"
    },
    {
     "data": {
      "text/plain": "<IPython.core.display.HTML object>",
      "text/html": "<br/>Waiting for W&B process to finish, PID 16824<br/>Program ended successfully."
     },
     "metadata": {},
     "output_type": "display_data"
    },
    {
     "data": {
      "text/plain": "VBox(children=(Label(value=' 0.00MB of 0.00MB uploaded (0.00MB deduped)\\r'), FloatProgress(value=1.0, max=1.0)…",
      "application/vnd.jupyter.widget-view+json": {
       "version_major": 2,
       "version_minor": 0,
       "model_id": "12e6feffefb24d59b0cf93b6fca5ab71"
      }
     },
     "metadata": {},
     "output_type": "display_data"
    },
    {
     "data": {
      "text/plain": "<IPython.core.display.HTML object>",
      "text/html": "Find user logs for this run at: <code>D:\\Development\\FHNW\\ip5-metriken-bauwesen\\src\\weight_and_bias\\wandb\\run-20210622_174607-xy7lcedr\\logs\\debug.log</code>"
     },
     "metadata": {},
     "output_type": "display_data"
    },
    {
     "data": {
      "text/plain": "<IPython.core.display.HTML object>",
      "text/html": "Find internal logs for this run at: <code>D:\\Development\\FHNW\\ip5-metriken-bauwesen\\src\\weight_and_bias\\wandb\\run-20210622_174607-xy7lcedr\\logs\\debug-internal.log</code>"
     },
     "metadata": {},
     "output_type": "display_data"
    },
    {
     "data": {
      "text/plain": "<IPython.core.display.HTML object>",
      "text/html": "<h3>Run summary:</h3><br/><style>\n    table.wandb td:nth-child(1) { padding: 0 10px; text-align: right }\n    </style><table class=\"wandb\">\n<tr><td>r2</td><td>0.94414</td></tr><tr><td>_runtime</td><td>1</td></tr><tr><td>_timestamp</td><td>1624376769</td></tr><tr><td>_step</td><td>0</td></tr></table>"
     },
     "metadata": {},
     "output_type": "display_data"
    },
    {
     "data": {
      "text/plain": "<IPython.core.display.HTML object>",
      "text/html": "<h3>Run history:</h3><br/><style>\n    table.wandb td:nth-child(1) { padding: 0 10px; text-align: right }\n    </style><table class=\"wandb\">\n<tr><td>r2</td><td>▁</td></tr><tr><td>_runtime</td><td>▁</td></tr><tr><td>_timestamp</td><td>▁</td></tr><tr><td>_step</td><td>▁</td></tr></table><br/>"
     },
     "metadata": {},
     "output_type": "display_data"
    },
    {
     "data": {
      "text/plain": "<IPython.core.display.HTML object>",
      "text/html": "Synced 5 W&B file(s), 0 media file(s), 0 artifact file(s) and 0 other file(s)"
     },
     "metadata": {},
     "output_type": "display_data"
    },
    {
     "data": {
      "text/plain": "<IPython.core.display.HTML object>",
      "text/html": "\n                    <br/>Synced <strong style=\"color:#cdcd00\">distinctive-sweep-26</strong>: <a href=\"https://wandb.ai/devcore/Metriken%20Bauwesen%20Sweeps/runs/xy7lcedr\" target=\"_blank\">https://wandb.ai/devcore/Metriken%20Bauwesen%20Sweeps/runs/xy7lcedr</a><br/>\n                "
     },
     "metadata": {},
     "output_type": "display_data"
    },
    {
     "data": {
      "text/plain": "<IPython.core.display.HTML object>",
      "text/html": "\n                Tracking run with wandb version 0.10.32<br/>\n                Syncing run <strong style=\"color:#cdcd00\">legendary-sweep-27</strong> to <a href=\"https://wandb.ai\" target=\"_blank\">Weights & Biases</a> <a href=\"https://docs.wandb.com/integrations/jupyter.html\" target=\"_blank\">(Documentation)</a>.<br/>\n                Project page: <a href=\"https://wandb.ai/devcore/Metriken%20Bauwesen%20Sweeps\" target=\"_blank\">https://wandb.ai/devcore/Metriken%20Bauwesen%20Sweeps</a><br/>\n                Sweep page: <a href=\"https://wandb.ai/devcore/Metriken%20Bauwesen%20Sweeps/sweeps/mkxhrc96\" target=\"_blank\">https://wandb.ai/devcore/Metriken%20Bauwesen%20Sweeps/sweeps/mkxhrc96</a><br/>\nRun page: <a href=\"https://wandb.ai/devcore/Metriken%20Bauwesen%20Sweeps/runs/txuipo87\" target=\"_blank\">https://wandb.ai/devcore/Metriken%20Bauwesen%20Sweeps/runs/txuipo87</a><br/>\n                Run data is saved locally in <code>D:\\Development\\FHNW\\ip5-metriken-bauwesen\\src\\weight_and_bias\\wandb\\run-20210622_174614-txuipo87</code><br/><br/>\n            "
     },
     "metadata": {},
     "output_type": "display_data"
    },
    {
     "data": {
      "text/plain": "<IPython.core.display.HTML object>",
      "text/html": "<br/>Waiting for W&B process to finish, PID 22388<br/>Program ended successfully."
     },
     "metadata": {},
     "output_type": "display_data"
    },
    {
     "data": {
      "text/plain": "VBox(children=(Label(value=' 0.00MB of 0.00MB uploaded (0.00MB deduped)\\r'), FloatProgress(value=1.0, max=1.0)…",
      "application/vnd.jupyter.widget-view+json": {
       "version_major": 2,
       "version_minor": 0,
       "model_id": "9efe0a5b76414f97bd7f5bfcfd35f6e5"
      }
     },
     "metadata": {},
     "output_type": "display_data"
    },
    {
     "data": {
      "text/plain": "<IPython.core.display.HTML object>",
      "text/html": "Find user logs for this run at: <code>D:\\Development\\FHNW\\ip5-metriken-bauwesen\\src\\weight_and_bias\\wandb\\run-20210622_174614-txuipo87\\logs\\debug.log</code>"
     },
     "metadata": {},
     "output_type": "display_data"
    },
    {
     "data": {
      "text/plain": "<IPython.core.display.HTML object>",
      "text/html": "Find internal logs for this run at: <code>D:\\Development\\FHNW\\ip5-metriken-bauwesen\\src\\weight_and_bias\\wandb\\run-20210622_174614-txuipo87\\logs\\debug-internal.log</code>"
     },
     "metadata": {},
     "output_type": "display_data"
    },
    {
     "data": {
      "text/plain": "<IPython.core.display.HTML object>",
      "text/html": "<h3>Run summary:</h3><br/><style>\n    table.wandb td:nth-child(1) { padding: 0 10px; text-align: right }\n    </style><table class=\"wandb\">\n<tr><td>r2</td><td>0.93958</td></tr><tr><td>_runtime</td><td>1</td></tr><tr><td>_timestamp</td><td>1624376775</td></tr><tr><td>_step</td><td>0</td></tr></table>"
     },
     "metadata": {},
     "output_type": "display_data"
    },
    {
     "data": {
      "text/plain": "<IPython.core.display.HTML object>",
      "text/html": "<h3>Run history:</h3><br/><style>\n    table.wandb td:nth-child(1) { padding: 0 10px; text-align: right }\n    </style><table class=\"wandb\">\n<tr><td>r2</td><td>▁</td></tr><tr><td>_runtime</td><td>▁</td></tr><tr><td>_timestamp</td><td>▁</td></tr><tr><td>_step</td><td>▁</td></tr></table><br/>"
     },
     "metadata": {},
     "output_type": "display_data"
    },
    {
     "data": {
      "text/plain": "<IPython.core.display.HTML object>",
      "text/html": "Synced 5 W&B file(s), 0 media file(s), 0 artifact file(s) and 0 other file(s)"
     },
     "metadata": {},
     "output_type": "display_data"
    },
    {
     "data": {
      "text/plain": "<IPython.core.display.HTML object>",
      "text/html": "\n                    <br/>Synced <strong style=\"color:#cdcd00\">legendary-sweep-27</strong>: <a href=\"https://wandb.ai/devcore/Metriken%20Bauwesen%20Sweeps/runs/txuipo87\" target=\"_blank\">https://wandb.ai/devcore/Metriken%20Bauwesen%20Sweeps/runs/txuipo87</a><br/>\n                "
     },
     "metadata": {},
     "output_type": "display_data"
    },
    {
     "data": {
      "text/plain": "<IPython.core.display.HTML object>",
      "text/html": "\n                Tracking run with wandb version 0.10.32<br/>\n                Syncing run <strong style=\"color:#cdcd00\">leafy-sweep-28</strong> to <a href=\"https://wandb.ai\" target=\"_blank\">Weights & Biases</a> <a href=\"https://docs.wandb.com/integrations/jupyter.html\" target=\"_blank\">(Documentation)</a>.<br/>\n                Project page: <a href=\"https://wandb.ai/devcore/Metriken%20Bauwesen%20Sweeps\" target=\"_blank\">https://wandb.ai/devcore/Metriken%20Bauwesen%20Sweeps</a><br/>\n                Sweep page: <a href=\"https://wandb.ai/devcore/Metriken%20Bauwesen%20Sweeps/sweeps/mkxhrc96\" target=\"_blank\">https://wandb.ai/devcore/Metriken%20Bauwesen%20Sweeps/sweeps/mkxhrc96</a><br/>\nRun page: <a href=\"https://wandb.ai/devcore/Metriken%20Bauwesen%20Sweeps/runs/4cdubhqm\" target=\"_blank\">https://wandb.ai/devcore/Metriken%20Bauwesen%20Sweeps/runs/4cdubhqm</a><br/>\n                Run data is saved locally in <code>D:\\Development\\FHNW\\ip5-metriken-bauwesen\\src\\weight_and_bias\\wandb\\run-20210622_174622-4cdubhqm</code><br/><br/>\n            "
     },
     "metadata": {},
     "output_type": "display_data"
    },
    {
     "data": {
      "text/plain": "<IPython.core.display.HTML object>",
      "text/html": "<br/>Waiting for W&B process to finish, PID 17260<br/>Program ended successfully."
     },
     "metadata": {},
     "output_type": "display_data"
    },
    {
     "data": {
      "text/plain": "VBox(children=(Label(value=' 0.00MB of 0.00MB uploaded (0.00MB deduped)\\r'), FloatProgress(value=1.0, max=1.0)…",
      "application/vnd.jupyter.widget-view+json": {
       "version_major": 2,
       "version_minor": 0,
       "model_id": "411b299ba2c049a884d2085b4dc7971a"
      }
     },
     "metadata": {},
     "output_type": "display_data"
    },
    {
     "data": {
      "text/plain": "<IPython.core.display.HTML object>",
      "text/html": "Find user logs for this run at: <code>D:\\Development\\FHNW\\ip5-metriken-bauwesen\\src\\weight_and_bias\\wandb\\run-20210622_174622-4cdubhqm\\logs\\debug.log</code>"
     },
     "metadata": {},
     "output_type": "display_data"
    },
    {
     "data": {
      "text/plain": "<IPython.core.display.HTML object>",
      "text/html": "Find internal logs for this run at: <code>D:\\Development\\FHNW\\ip5-metriken-bauwesen\\src\\weight_and_bias\\wandb\\run-20210622_174622-4cdubhqm\\logs\\debug-internal.log</code>"
     },
     "metadata": {},
     "output_type": "display_data"
    },
    {
     "data": {
      "text/plain": "<IPython.core.display.HTML object>",
      "text/html": "<h3>Run summary:</h3><br/><style>\n    table.wandb td:nth-child(1) { padding: 0 10px; text-align: right }\n    </style><table class=\"wandb\">\n<tr><td>r2</td><td>0.95392</td></tr><tr><td>_runtime</td><td>2</td></tr><tr><td>_timestamp</td><td>1624376784</td></tr><tr><td>_step</td><td>0</td></tr></table>"
     },
     "metadata": {},
     "output_type": "display_data"
    },
    {
     "data": {
      "text/plain": "<IPython.core.display.HTML object>",
      "text/html": "<h3>Run history:</h3><br/><style>\n    table.wandb td:nth-child(1) { padding: 0 10px; text-align: right }\n    </style><table class=\"wandb\">\n<tr><td>r2</td><td>▁</td></tr><tr><td>_runtime</td><td>▁</td></tr><tr><td>_timestamp</td><td>▁</td></tr><tr><td>_step</td><td>▁</td></tr></table><br/>"
     },
     "metadata": {},
     "output_type": "display_data"
    },
    {
     "data": {
      "text/plain": "<IPython.core.display.HTML object>",
      "text/html": "Synced 5 W&B file(s), 0 media file(s), 0 artifact file(s) and 0 other file(s)"
     },
     "metadata": {},
     "output_type": "display_data"
    },
    {
     "data": {
      "text/plain": "<IPython.core.display.HTML object>",
      "text/html": "\n                    <br/>Synced <strong style=\"color:#cdcd00\">leafy-sweep-28</strong>: <a href=\"https://wandb.ai/devcore/Metriken%20Bauwesen%20Sweeps/runs/4cdubhqm\" target=\"_blank\">https://wandb.ai/devcore/Metriken%20Bauwesen%20Sweeps/runs/4cdubhqm</a><br/>\n                "
     },
     "metadata": {},
     "output_type": "display_data"
    },
    {
     "data": {
      "text/plain": "<IPython.core.display.HTML object>",
      "text/html": "\n                Tracking run with wandb version 0.10.32<br/>\n                Syncing run <strong style=\"color:#cdcd00\">revived-sweep-29</strong> to <a href=\"https://wandb.ai\" target=\"_blank\">Weights & Biases</a> <a href=\"https://docs.wandb.com/integrations/jupyter.html\" target=\"_blank\">(Documentation)</a>.<br/>\n                Project page: <a href=\"https://wandb.ai/devcore/Metriken%20Bauwesen%20Sweeps\" target=\"_blank\">https://wandb.ai/devcore/Metriken%20Bauwesen%20Sweeps</a><br/>\n                Sweep page: <a href=\"https://wandb.ai/devcore/Metriken%20Bauwesen%20Sweeps/sweeps/mkxhrc96\" target=\"_blank\">https://wandb.ai/devcore/Metriken%20Bauwesen%20Sweeps/sweeps/mkxhrc96</a><br/>\nRun page: <a href=\"https://wandb.ai/devcore/Metriken%20Bauwesen%20Sweeps/runs/4sw53xc1\" target=\"_blank\">https://wandb.ai/devcore/Metriken%20Bauwesen%20Sweeps/runs/4sw53xc1</a><br/>\n                Run data is saved locally in <code>D:\\Development\\FHNW\\ip5-metriken-bauwesen\\src\\weight_and_bias\\wandb\\run-20210622_174628-4sw53xc1</code><br/><br/>\n            "
     },
     "metadata": {},
     "output_type": "display_data"
    },
    {
     "data": {
      "text/plain": "<IPython.core.display.HTML object>",
      "text/html": "<br/>Waiting for W&B process to finish, PID 11868<br/>Program ended successfully."
     },
     "metadata": {},
     "output_type": "display_data"
    },
    {
     "data": {
      "text/plain": "VBox(children=(Label(value=' 0.00MB of 0.00MB uploaded (0.00MB deduped)\\r'), FloatProgress(value=1.0, max=1.0)…",
      "application/vnd.jupyter.widget-view+json": {
       "version_major": 2,
       "version_minor": 0,
       "model_id": "aed03447eea94087ac82b8bbb6ad324b"
      }
     },
     "metadata": {},
     "output_type": "display_data"
    },
    {
     "data": {
      "text/plain": "<IPython.core.display.HTML object>",
      "text/html": "Find user logs for this run at: <code>D:\\Development\\FHNW\\ip5-metriken-bauwesen\\src\\weight_and_bias\\wandb\\run-20210622_174628-4sw53xc1\\logs\\debug.log</code>"
     },
     "metadata": {},
     "output_type": "display_data"
    },
    {
     "data": {
      "text/plain": "<IPython.core.display.HTML object>",
      "text/html": "Find internal logs for this run at: <code>D:\\Development\\FHNW\\ip5-metriken-bauwesen\\src\\weight_and_bias\\wandb\\run-20210622_174628-4sw53xc1\\logs\\debug-internal.log</code>"
     },
     "metadata": {},
     "output_type": "display_data"
    },
    {
     "data": {
      "text/plain": "<IPython.core.display.HTML object>",
      "text/html": "<h3>Run summary:</h3><br/><style>\n    table.wandb td:nth-child(1) { padding: 0 10px; text-align: right }\n    </style><table class=\"wandb\">\n<tr><td>r2</td><td>0.94592</td></tr><tr><td>_runtime</td><td>1</td></tr><tr><td>_timestamp</td><td>1624376789</td></tr><tr><td>_step</td><td>0</td></tr></table>"
     },
     "metadata": {},
     "output_type": "display_data"
    },
    {
     "data": {
      "text/plain": "<IPython.core.display.HTML object>",
      "text/html": "<h3>Run history:</h3><br/><style>\n    table.wandb td:nth-child(1) { padding: 0 10px; text-align: right }\n    </style><table class=\"wandb\">\n<tr><td>r2</td><td>▁</td></tr><tr><td>_runtime</td><td>▁</td></tr><tr><td>_timestamp</td><td>▁</td></tr><tr><td>_step</td><td>▁</td></tr></table><br/>"
     },
     "metadata": {},
     "output_type": "display_data"
    },
    {
     "data": {
      "text/plain": "<IPython.core.display.HTML object>",
      "text/html": "Synced 5 W&B file(s), 0 media file(s), 0 artifact file(s) and 0 other file(s)"
     },
     "metadata": {},
     "output_type": "display_data"
    },
    {
     "data": {
      "text/plain": "<IPython.core.display.HTML object>",
      "text/html": "\n                    <br/>Synced <strong style=\"color:#cdcd00\">revived-sweep-29</strong>: <a href=\"https://wandb.ai/devcore/Metriken%20Bauwesen%20Sweeps/runs/4sw53xc1\" target=\"_blank\">https://wandb.ai/devcore/Metriken%20Bauwesen%20Sweeps/runs/4sw53xc1</a><br/>\n                "
     },
     "metadata": {},
     "output_type": "display_data"
    },
    {
     "data": {
      "text/plain": "<IPython.core.display.HTML object>",
      "text/html": "\n                Tracking run with wandb version 0.10.32<br/>\n                Syncing run <strong style=\"color:#cdcd00\">cool-sweep-30</strong> to <a href=\"https://wandb.ai\" target=\"_blank\">Weights & Biases</a> <a href=\"https://docs.wandb.com/integrations/jupyter.html\" target=\"_blank\">(Documentation)</a>.<br/>\n                Project page: <a href=\"https://wandb.ai/devcore/Metriken%20Bauwesen%20Sweeps\" target=\"_blank\">https://wandb.ai/devcore/Metriken%20Bauwesen%20Sweeps</a><br/>\n                Sweep page: <a href=\"https://wandb.ai/devcore/Metriken%20Bauwesen%20Sweeps/sweeps/mkxhrc96\" target=\"_blank\">https://wandb.ai/devcore/Metriken%20Bauwesen%20Sweeps/sweeps/mkxhrc96</a><br/>\nRun page: <a href=\"https://wandb.ai/devcore/Metriken%20Bauwesen%20Sweeps/runs/wafdg8pk\" target=\"_blank\">https://wandb.ai/devcore/Metriken%20Bauwesen%20Sweeps/runs/wafdg8pk</a><br/>\n                Run data is saved locally in <code>D:\\Development\\FHNW\\ip5-metriken-bauwesen\\src\\weight_and_bias\\wandb\\run-20210622_174634-wafdg8pk</code><br/><br/>\n            "
     },
     "metadata": {},
     "output_type": "display_data"
    },
    {
     "data": {
      "text/plain": "<IPython.core.display.HTML object>",
      "text/html": "<br/>Waiting for W&B process to finish, PID 3028<br/>Program ended successfully."
     },
     "metadata": {},
     "output_type": "display_data"
    },
    {
     "data": {
      "text/plain": "VBox(children=(Label(value=' 0.00MB of 0.00MB uploaded (0.00MB deduped)\\r'), FloatProgress(value=1.0, max=1.0)…",
      "application/vnd.jupyter.widget-view+json": {
       "version_major": 2,
       "version_minor": 0,
       "model_id": "e7ec91533cc64a528c56b3d1f4c1f473"
      }
     },
     "metadata": {},
     "output_type": "display_data"
    },
    {
     "data": {
      "text/plain": "<IPython.core.display.HTML object>",
      "text/html": "Find user logs for this run at: <code>D:\\Development\\FHNW\\ip5-metriken-bauwesen\\src\\weight_and_bias\\wandb\\run-20210622_174634-wafdg8pk\\logs\\debug.log</code>"
     },
     "metadata": {},
     "output_type": "display_data"
    },
    {
     "data": {
      "text/plain": "<IPython.core.display.HTML object>",
      "text/html": "Find internal logs for this run at: <code>D:\\Development\\FHNW\\ip5-metriken-bauwesen\\src\\weight_and_bias\\wandb\\run-20210622_174634-wafdg8pk\\logs\\debug-internal.log</code>"
     },
     "metadata": {},
     "output_type": "display_data"
    },
    {
     "data": {
      "text/plain": "<IPython.core.display.HTML object>",
      "text/html": "<h3>Run summary:</h3><br/><style>\n    table.wandb td:nth-child(1) { padding: 0 10px; text-align: right }\n    </style><table class=\"wandb\">\n<tr><td>r2</td><td>0.94433</td></tr><tr><td>_runtime</td><td>1</td></tr><tr><td>_timestamp</td><td>1624376795</td></tr><tr><td>_step</td><td>0</td></tr></table>"
     },
     "metadata": {},
     "output_type": "display_data"
    },
    {
     "data": {
      "text/plain": "<IPython.core.display.HTML object>",
      "text/html": "<h3>Run history:</h3><br/><style>\n    table.wandb td:nth-child(1) { padding: 0 10px; text-align: right }\n    </style><table class=\"wandb\">\n<tr><td>r2</td><td>▁</td></tr><tr><td>_runtime</td><td>▁</td></tr><tr><td>_timestamp</td><td>▁</td></tr><tr><td>_step</td><td>▁</td></tr></table><br/>"
     },
     "metadata": {},
     "output_type": "display_data"
    },
    {
     "data": {
      "text/plain": "<IPython.core.display.HTML object>",
      "text/html": "Synced 5 W&B file(s), 0 media file(s), 0 artifact file(s) and 0 other file(s)"
     },
     "metadata": {},
     "output_type": "display_data"
    },
    {
     "data": {
      "text/plain": "<IPython.core.display.HTML object>",
      "text/html": "\n                    <br/>Synced <strong style=\"color:#cdcd00\">cool-sweep-30</strong>: <a href=\"https://wandb.ai/devcore/Metriken%20Bauwesen%20Sweeps/runs/wafdg8pk\" target=\"_blank\">https://wandb.ai/devcore/Metriken%20Bauwesen%20Sweeps/runs/wafdg8pk</a><br/>\n                "
     },
     "metadata": {},
     "output_type": "display_data"
    },
    {
     "data": {
      "text/plain": "<IPython.core.display.HTML object>",
      "text/html": "\n                Tracking run with wandb version 0.10.32<br/>\n                Syncing run <strong style=\"color:#cdcd00\">warm-sweep-31</strong> to <a href=\"https://wandb.ai\" target=\"_blank\">Weights & Biases</a> <a href=\"https://docs.wandb.com/integrations/jupyter.html\" target=\"_blank\">(Documentation)</a>.<br/>\n                Project page: <a href=\"https://wandb.ai/devcore/Metriken%20Bauwesen%20Sweeps\" target=\"_blank\">https://wandb.ai/devcore/Metriken%20Bauwesen%20Sweeps</a><br/>\n                Sweep page: <a href=\"https://wandb.ai/devcore/Metriken%20Bauwesen%20Sweeps/sweeps/mkxhrc96\" target=\"_blank\">https://wandb.ai/devcore/Metriken%20Bauwesen%20Sweeps/sweeps/mkxhrc96</a><br/>\nRun page: <a href=\"https://wandb.ai/devcore/Metriken%20Bauwesen%20Sweeps/runs/gma0sg9y\" target=\"_blank\">https://wandb.ai/devcore/Metriken%20Bauwesen%20Sweeps/runs/gma0sg9y</a><br/>\n                Run data is saved locally in <code>D:\\Development\\FHNW\\ip5-metriken-bauwesen\\src\\weight_and_bias\\wandb\\run-20210622_174641-gma0sg9y</code><br/><br/>\n            "
     },
     "metadata": {},
     "output_type": "display_data"
    },
    {
     "data": {
      "text/plain": "<IPython.core.display.HTML object>",
      "text/html": "<br/>Waiting for W&B process to finish, PID 6764<br/>Program ended successfully."
     },
     "metadata": {},
     "output_type": "display_data"
    },
    {
     "data": {
      "text/plain": "VBox(children=(Label(value=' 0.00MB of 0.00MB uploaded (0.00MB deduped)\\r'), FloatProgress(value=1.0, max=1.0)…",
      "application/vnd.jupyter.widget-view+json": {
       "version_major": 2,
       "version_minor": 0,
       "model_id": "a3da6f05ec984b9194a3beaf4e88107f"
      }
     },
     "metadata": {},
     "output_type": "display_data"
    },
    {
     "data": {
      "text/plain": "<IPython.core.display.HTML object>",
      "text/html": "Find user logs for this run at: <code>D:\\Development\\FHNW\\ip5-metriken-bauwesen\\src\\weight_and_bias\\wandb\\run-20210622_174641-gma0sg9y\\logs\\debug.log</code>"
     },
     "metadata": {},
     "output_type": "display_data"
    },
    {
     "data": {
      "text/plain": "<IPython.core.display.HTML object>",
      "text/html": "Find internal logs for this run at: <code>D:\\Development\\FHNW\\ip5-metriken-bauwesen\\src\\weight_and_bias\\wandb\\run-20210622_174641-gma0sg9y\\logs\\debug-internal.log</code>"
     },
     "metadata": {},
     "output_type": "display_data"
    },
    {
     "data": {
      "text/plain": "<IPython.core.display.HTML object>",
      "text/html": "<h3>Run summary:</h3><br/><style>\n    table.wandb td:nth-child(1) { padding: 0 10px; text-align: right }\n    </style><table class=\"wandb\">\n<tr><td>r2</td><td>0.94612</td></tr><tr><td>_runtime</td><td>2</td></tr><tr><td>_timestamp</td><td>1624376803</td></tr><tr><td>_step</td><td>0</td></tr></table>"
     },
     "metadata": {},
     "output_type": "display_data"
    },
    {
     "data": {
      "text/plain": "<IPython.core.display.HTML object>",
      "text/html": "<h3>Run history:</h3><br/><style>\n    table.wandb td:nth-child(1) { padding: 0 10px; text-align: right }\n    </style><table class=\"wandb\">\n<tr><td>r2</td><td>▁</td></tr><tr><td>_runtime</td><td>▁</td></tr><tr><td>_timestamp</td><td>▁</td></tr><tr><td>_step</td><td>▁</td></tr></table><br/>"
     },
     "metadata": {},
     "output_type": "display_data"
    },
    {
     "data": {
      "text/plain": "<IPython.core.display.HTML object>",
      "text/html": "Synced 5 W&B file(s), 0 media file(s), 0 artifact file(s) and 0 other file(s)"
     },
     "metadata": {},
     "output_type": "display_data"
    },
    {
     "data": {
      "text/plain": "<IPython.core.display.HTML object>",
      "text/html": "\n                    <br/>Synced <strong style=\"color:#cdcd00\">warm-sweep-31</strong>: <a href=\"https://wandb.ai/devcore/Metriken%20Bauwesen%20Sweeps/runs/gma0sg9y\" target=\"_blank\">https://wandb.ai/devcore/Metriken%20Bauwesen%20Sweeps/runs/gma0sg9y</a><br/>\n                "
     },
     "metadata": {},
     "output_type": "display_data"
    },
    {
     "data": {
      "text/plain": "<IPython.core.display.HTML object>",
      "text/html": "\n                Tracking run with wandb version 0.10.32<br/>\n                Syncing run <strong style=\"color:#cdcd00\">magic-sweep-32</strong> to <a href=\"https://wandb.ai\" target=\"_blank\">Weights & Biases</a> <a href=\"https://docs.wandb.com/integrations/jupyter.html\" target=\"_blank\">(Documentation)</a>.<br/>\n                Project page: <a href=\"https://wandb.ai/devcore/Metriken%20Bauwesen%20Sweeps\" target=\"_blank\">https://wandb.ai/devcore/Metriken%20Bauwesen%20Sweeps</a><br/>\n                Sweep page: <a href=\"https://wandb.ai/devcore/Metriken%20Bauwesen%20Sweeps/sweeps/mkxhrc96\" target=\"_blank\">https://wandb.ai/devcore/Metriken%20Bauwesen%20Sweeps/sweeps/mkxhrc96</a><br/>\nRun page: <a href=\"https://wandb.ai/devcore/Metriken%20Bauwesen%20Sweeps/runs/vdn3ycxk\" target=\"_blank\">https://wandb.ai/devcore/Metriken%20Bauwesen%20Sweeps/runs/vdn3ycxk</a><br/>\n                Run data is saved locally in <code>D:\\Development\\FHNW\\ip5-metriken-bauwesen\\src\\weight_and_bias\\wandb\\run-20210622_174647-vdn3ycxk</code><br/><br/>\n            "
     },
     "metadata": {},
     "output_type": "display_data"
    },
    {
     "data": {
      "text/plain": "<IPython.core.display.HTML object>",
      "text/html": "<br/>Waiting for W&B process to finish, PID 1128<br/>Program ended successfully."
     },
     "metadata": {},
     "output_type": "display_data"
    },
    {
     "data": {
      "text/plain": "VBox(children=(Label(value=' 0.00MB of 0.00MB uploaded (0.00MB deduped)\\r'), FloatProgress(value=1.0, max=1.0)…",
      "application/vnd.jupyter.widget-view+json": {
       "version_major": 2,
       "version_minor": 0,
       "model_id": "69ef342ad5724647b86c01a24268f38d"
      }
     },
     "metadata": {},
     "output_type": "display_data"
    },
    {
     "data": {
      "text/plain": "<IPython.core.display.HTML object>",
      "text/html": "Find user logs for this run at: <code>D:\\Development\\FHNW\\ip5-metriken-bauwesen\\src\\weight_and_bias\\wandb\\run-20210622_174647-vdn3ycxk\\logs\\debug.log</code>"
     },
     "metadata": {},
     "output_type": "display_data"
    },
    {
     "data": {
      "text/plain": "<IPython.core.display.HTML object>",
      "text/html": "Find internal logs for this run at: <code>D:\\Development\\FHNW\\ip5-metriken-bauwesen\\src\\weight_and_bias\\wandb\\run-20210622_174647-vdn3ycxk\\logs\\debug-internal.log</code>"
     },
     "metadata": {},
     "output_type": "display_data"
    },
    {
     "data": {
      "text/plain": "<IPython.core.display.HTML object>",
      "text/html": "<h3>Run summary:</h3><br/><style>\n    table.wandb td:nth-child(1) { padding: 0 10px; text-align: right }\n    </style><table class=\"wandb\">\n<tr><td>r2</td><td>0.8985</td></tr><tr><td>_runtime</td><td>1</td></tr><tr><td>_timestamp</td><td>1624376808</td></tr><tr><td>_step</td><td>0</td></tr></table>"
     },
     "metadata": {},
     "output_type": "display_data"
    },
    {
     "data": {
      "text/plain": "<IPython.core.display.HTML object>",
      "text/html": "<h3>Run history:</h3><br/><style>\n    table.wandb td:nth-child(1) { padding: 0 10px; text-align: right }\n    </style><table class=\"wandb\">\n<tr><td>r2</td><td>▁</td></tr><tr><td>_runtime</td><td>▁</td></tr><tr><td>_timestamp</td><td>▁</td></tr><tr><td>_step</td><td>▁</td></tr></table><br/>"
     },
     "metadata": {},
     "output_type": "display_data"
    },
    {
     "data": {
      "text/plain": "<IPython.core.display.HTML object>",
      "text/html": "Synced 5 W&B file(s), 0 media file(s), 0 artifact file(s) and 0 other file(s)"
     },
     "metadata": {},
     "output_type": "display_data"
    },
    {
     "data": {
      "text/plain": "<IPython.core.display.HTML object>",
      "text/html": "\n                    <br/>Synced <strong style=\"color:#cdcd00\">magic-sweep-32</strong>: <a href=\"https://wandb.ai/devcore/Metriken%20Bauwesen%20Sweeps/runs/vdn3ycxk\" target=\"_blank\">https://wandb.ai/devcore/Metriken%20Bauwesen%20Sweeps/runs/vdn3ycxk</a><br/>\n                "
     },
     "metadata": {},
     "output_type": "display_data"
    },
    {
     "data": {
      "text/plain": "<IPython.core.display.HTML object>",
      "text/html": "\n                Tracking run with wandb version 0.10.32<br/>\n                Syncing run <strong style=\"color:#cdcd00\">jolly-sweep-33</strong> to <a href=\"https://wandb.ai\" target=\"_blank\">Weights & Biases</a> <a href=\"https://docs.wandb.com/integrations/jupyter.html\" target=\"_blank\">(Documentation)</a>.<br/>\n                Project page: <a href=\"https://wandb.ai/devcore/Metriken%20Bauwesen%20Sweeps\" target=\"_blank\">https://wandb.ai/devcore/Metriken%20Bauwesen%20Sweeps</a><br/>\n                Sweep page: <a href=\"https://wandb.ai/devcore/Metriken%20Bauwesen%20Sweeps/sweeps/mkxhrc96\" target=\"_blank\">https://wandb.ai/devcore/Metriken%20Bauwesen%20Sweeps/sweeps/mkxhrc96</a><br/>\nRun page: <a href=\"https://wandb.ai/devcore/Metriken%20Bauwesen%20Sweeps/runs/m9vgrjck\" target=\"_blank\">https://wandb.ai/devcore/Metriken%20Bauwesen%20Sweeps/runs/m9vgrjck</a><br/>\n                Run data is saved locally in <code>D:\\Development\\FHNW\\ip5-metriken-bauwesen\\src\\weight_and_bias\\wandb\\run-20210622_174653-m9vgrjck</code><br/><br/>\n            "
     },
     "metadata": {},
     "output_type": "display_data"
    },
    {
     "data": {
      "text/plain": "<IPython.core.display.HTML object>",
      "text/html": "<br/>Waiting for W&B process to finish, PID 4308<br/>Program ended successfully."
     },
     "metadata": {},
     "output_type": "display_data"
    },
    {
     "data": {
      "text/plain": "VBox(children=(Label(value=' 0.00MB of 0.00MB uploaded (0.00MB deduped)\\r'), FloatProgress(value=1.0, max=1.0)…",
      "application/vnd.jupyter.widget-view+json": {
       "version_major": 2,
       "version_minor": 0,
       "model_id": "fcd5757460044205afc591029e170091"
      }
     },
     "metadata": {},
     "output_type": "display_data"
    },
    {
     "data": {
      "text/plain": "<IPython.core.display.HTML object>",
      "text/html": "Find user logs for this run at: <code>D:\\Development\\FHNW\\ip5-metriken-bauwesen\\src\\weight_and_bias\\wandb\\run-20210622_174653-m9vgrjck\\logs\\debug.log</code>"
     },
     "metadata": {},
     "output_type": "display_data"
    },
    {
     "data": {
      "text/plain": "<IPython.core.display.HTML object>",
      "text/html": "Find internal logs for this run at: <code>D:\\Development\\FHNW\\ip5-metriken-bauwesen\\src\\weight_and_bias\\wandb\\run-20210622_174653-m9vgrjck\\logs\\debug-internal.log</code>"
     },
     "metadata": {},
     "output_type": "display_data"
    },
    {
     "data": {
      "text/plain": "<IPython.core.display.HTML object>",
      "text/html": "<h3>Run summary:</h3><br/><style>\n    table.wandb td:nth-child(1) { padding: 0 10px; text-align: right }\n    </style><table class=\"wandb\">\n<tr><td>r2</td><td>0.94845</td></tr><tr><td>_runtime</td><td>2</td></tr><tr><td>_timestamp</td><td>1624376815</td></tr><tr><td>_step</td><td>0</td></tr></table>"
     },
     "metadata": {},
     "output_type": "display_data"
    },
    {
     "data": {
      "text/plain": "<IPython.core.display.HTML object>",
      "text/html": "<h3>Run history:</h3><br/><style>\n    table.wandb td:nth-child(1) { padding: 0 10px; text-align: right }\n    </style><table class=\"wandb\">\n<tr><td>r2</td><td>▁</td></tr><tr><td>_runtime</td><td>▁</td></tr><tr><td>_timestamp</td><td>▁</td></tr><tr><td>_step</td><td>▁</td></tr></table><br/>"
     },
     "metadata": {},
     "output_type": "display_data"
    },
    {
     "data": {
      "text/plain": "<IPython.core.display.HTML object>",
      "text/html": "Synced 5 W&B file(s), 0 media file(s), 0 artifact file(s) and 0 other file(s)"
     },
     "metadata": {},
     "output_type": "display_data"
    },
    {
     "data": {
      "text/plain": "<IPython.core.display.HTML object>",
      "text/html": "\n                    <br/>Synced <strong style=\"color:#cdcd00\">jolly-sweep-33</strong>: <a href=\"https://wandb.ai/devcore/Metriken%20Bauwesen%20Sweeps/runs/m9vgrjck\" target=\"_blank\">https://wandb.ai/devcore/Metriken%20Bauwesen%20Sweeps/runs/m9vgrjck</a><br/>\n                "
     },
     "metadata": {},
     "output_type": "display_data"
    },
    {
     "data": {
      "text/plain": "<IPython.core.display.HTML object>",
      "text/html": "\n                Tracking run with wandb version 0.10.32<br/>\n                Syncing run <strong style=\"color:#cdcd00\">gentle-sweep-34</strong> to <a href=\"https://wandb.ai\" target=\"_blank\">Weights & Biases</a> <a href=\"https://docs.wandb.com/integrations/jupyter.html\" target=\"_blank\">(Documentation)</a>.<br/>\n                Project page: <a href=\"https://wandb.ai/devcore/Metriken%20Bauwesen%20Sweeps\" target=\"_blank\">https://wandb.ai/devcore/Metriken%20Bauwesen%20Sweeps</a><br/>\n                Sweep page: <a href=\"https://wandb.ai/devcore/Metriken%20Bauwesen%20Sweeps/sweeps/mkxhrc96\" target=\"_blank\">https://wandb.ai/devcore/Metriken%20Bauwesen%20Sweeps/sweeps/mkxhrc96</a><br/>\nRun page: <a href=\"https://wandb.ai/devcore/Metriken%20Bauwesen%20Sweeps/runs/ye9skrmy\" target=\"_blank\">https://wandb.ai/devcore/Metriken%20Bauwesen%20Sweeps/runs/ye9skrmy</a><br/>\n                Run data is saved locally in <code>D:\\Development\\FHNW\\ip5-metriken-bauwesen\\src\\weight_and_bias\\wandb\\run-20210622_174659-ye9skrmy</code><br/><br/>\n            "
     },
     "metadata": {},
     "output_type": "display_data"
    },
    {
     "data": {
      "text/plain": "<IPython.core.display.HTML object>",
      "text/html": "<br/>Waiting for W&B process to finish, PID 15840<br/>Program ended successfully."
     },
     "metadata": {},
     "output_type": "display_data"
    },
    {
     "data": {
      "text/plain": "VBox(children=(Label(value=' 0.00MB of 0.00MB uploaded (0.00MB deduped)\\r'), FloatProgress(value=1.0, max=1.0)…",
      "application/vnd.jupyter.widget-view+json": {
       "version_major": 2,
       "version_minor": 0,
       "model_id": "2aa96e14e72840f591aecf7e3f90a653"
      }
     },
     "metadata": {},
     "output_type": "display_data"
    },
    {
     "data": {
      "text/plain": "<IPython.core.display.HTML object>",
      "text/html": "Find user logs for this run at: <code>D:\\Development\\FHNW\\ip5-metriken-bauwesen\\src\\weight_and_bias\\wandb\\run-20210622_174659-ye9skrmy\\logs\\debug.log</code>"
     },
     "metadata": {},
     "output_type": "display_data"
    },
    {
     "data": {
      "text/plain": "<IPython.core.display.HTML object>",
      "text/html": "Find internal logs for this run at: <code>D:\\Development\\FHNW\\ip5-metriken-bauwesen\\src\\weight_and_bias\\wandb\\run-20210622_174659-ye9skrmy\\logs\\debug-internal.log</code>"
     },
     "metadata": {},
     "output_type": "display_data"
    },
    {
     "data": {
      "text/plain": "<IPython.core.display.HTML object>",
      "text/html": "<h3>Run summary:</h3><br/><style>\n    table.wandb td:nth-child(1) { padding: 0 10px; text-align: right }\n    </style><table class=\"wandb\">\n<tr><td>r2</td><td>0.94577</td></tr><tr><td>_runtime</td><td>2</td></tr><tr><td>_timestamp</td><td>1624376821</td></tr><tr><td>_step</td><td>0</td></tr></table>"
     },
     "metadata": {},
     "output_type": "display_data"
    },
    {
     "data": {
      "text/plain": "<IPython.core.display.HTML object>",
      "text/html": "<h3>Run history:</h3><br/><style>\n    table.wandb td:nth-child(1) { padding: 0 10px; text-align: right }\n    </style><table class=\"wandb\">\n<tr><td>r2</td><td>▁</td></tr><tr><td>_runtime</td><td>▁</td></tr><tr><td>_timestamp</td><td>▁</td></tr><tr><td>_step</td><td>▁</td></tr></table><br/>"
     },
     "metadata": {},
     "output_type": "display_data"
    },
    {
     "data": {
      "text/plain": "<IPython.core.display.HTML object>",
      "text/html": "Synced 5 W&B file(s), 0 media file(s), 0 artifact file(s) and 0 other file(s)"
     },
     "metadata": {},
     "output_type": "display_data"
    },
    {
     "data": {
      "text/plain": "<IPython.core.display.HTML object>",
      "text/html": "\n                    <br/>Synced <strong style=\"color:#cdcd00\">gentle-sweep-34</strong>: <a href=\"https://wandb.ai/devcore/Metriken%20Bauwesen%20Sweeps/runs/ye9skrmy\" target=\"_blank\">https://wandb.ai/devcore/Metriken%20Bauwesen%20Sweeps/runs/ye9skrmy</a><br/>\n                "
     },
     "metadata": {},
     "output_type": "display_data"
    },
    {
     "data": {
      "text/plain": "<IPython.core.display.HTML object>",
      "text/html": "\n                Tracking run with wandb version 0.10.32<br/>\n                Syncing run <strong style=\"color:#cdcd00\">avid-sweep-35</strong> to <a href=\"https://wandb.ai\" target=\"_blank\">Weights & Biases</a> <a href=\"https://docs.wandb.com/integrations/jupyter.html\" target=\"_blank\">(Documentation)</a>.<br/>\n                Project page: <a href=\"https://wandb.ai/devcore/Metriken%20Bauwesen%20Sweeps\" target=\"_blank\">https://wandb.ai/devcore/Metriken%20Bauwesen%20Sweeps</a><br/>\n                Sweep page: <a href=\"https://wandb.ai/devcore/Metriken%20Bauwesen%20Sweeps/sweeps/mkxhrc96\" target=\"_blank\">https://wandb.ai/devcore/Metriken%20Bauwesen%20Sweeps/sweeps/mkxhrc96</a><br/>\nRun page: <a href=\"https://wandb.ai/devcore/Metriken%20Bauwesen%20Sweeps/runs/za5gi8wh\" target=\"_blank\">https://wandb.ai/devcore/Metriken%20Bauwesen%20Sweeps/runs/za5gi8wh</a><br/>\n                Run data is saved locally in <code>D:\\Development\\FHNW\\ip5-metriken-bauwesen\\src\\weight_and_bias\\wandb\\run-20210622_174705-za5gi8wh</code><br/><br/>\n            "
     },
     "metadata": {},
     "output_type": "display_data"
    },
    {
     "data": {
      "text/plain": "<IPython.core.display.HTML object>",
      "text/html": "<br/>Waiting for W&B process to finish, PID 20144<br/>Program ended successfully."
     },
     "metadata": {},
     "output_type": "display_data"
    },
    {
     "data": {
      "text/plain": "VBox(children=(Label(value=' 0.00MB of 0.00MB uploaded (0.00MB deduped)\\r'), FloatProgress(value=1.0, max=1.0)…",
      "application/vnd.jupyter.widget-view+json": {
       "version_major": 2,
       "version_minor": 0,
       "model_id": "af4129da9fb04c0c8671f7474983ab05"
      }
     },
     "metadata": {},
     "output_type": "display_data"
    },
    {
     "data": {
      "text/plain": "<IPython.core.display.HTML object>",
      "text/html": "Find user logs for this run at: <code>D:\\Development\\FHNW\\ip5-metriken-bauwesen\\src\\weight_and_bias\\wandb\\run-20210622_174705-za5gi8wh\\logs\\debug.log</code>"
     },
     "metadata": {},
     "output_type": "display_data"
    },
    {
     "data": {
      "text/plain": "<IPython.core.display.HTML object>",
      "text/html": "Find internal logs for this run at: <code>D:\\Development\\FHNW\\ip5-metriken-bauwesen\\src\\weight_and_bias\\wandb\\run-20210622_174705-za5gi8wh\\logs\\debug-internal.log</code>"
     },
     "metadata": {},
     "output_type": "display_data"
    },
    {
     "data": {
      "text/plain": "<IPython.core.display.HTML object>",
      "text/html": "<h3>Run summary:</h3><br/><style>\n    table.wandb td:nth-child(1) { padding: 0 10px; text-align: right }\n    </style><table class=\"wandb\">\n<tr><td>r2</td><td>0.94221</td></tr><tr><td>_runtime</td><td>1</td></tr><tr><td>_timestamp</td><td>1624376826</td></tr><tr><td>_step</td><td>0</td></tr></table>"
     },
     "metadata": {},
     "output_type": "display_data"
    },
    {
     "data": {
      "text/plain": "<IPython.core.display.HTML object>",
      "text/html": "<h3>Run history:</h3><br/><style>\n    table.wandb td:nth-child(1) { padding: 0 10px; text-align: right }\n    </style><table class=\"wandb\">\n<tr><td>r2</td><td>▁</td></tr><tr><td>_runtime</td><td>▁</td></tr><tr><td>_timestamp</td><td>▁</td></tr><tr><td>_step</td><td>▁</td></tr></table><br/>"
     },
     "metadata": {},
     "output_type": "display_data"
    },
    {
     "data": {
      "text/plain": "<IPython.core.display.HTML object>",
      "text/html": "Synced 5 W&B file(s), 0 media file(s), 0 artifact file(s) and 0 other file(s)"
     },
     "metadata": {},
     "output_type": "display_data"
    },
    {
     "data": {
      "text/plain": "<IPython.core.display.HTML object>",
      "text/html": "\n                    <br/>Synced <strong style=\"color:#cdcd00\">avid-sweep-35</strong>: <a href=\"https://wandb.ai/devcore/Metriken%20Bauwesen%20Sweeps/runs/za5gi8wh\" target=\"_blank\">https://wandb.ai/devcore/Metriken%20Bauwesen%20Sweeps/runs/za5gi8wh</a><br/>\n                "
     },
     "metadata": {},
     "output_type": "display_data"
    },
    {
     "data": {
      "text/plain": "<IPython.core.display.HTML object>",
      "text/html": "\n                Tracking run with wandb version 0.10.32<br/>\n                Syncing run <strong style=\"color:#cdcd00\">resilient-sweep-36</strong> to <a href=\"https://wandb.ai\" target=\"_blank\">Weights & Biases</a> <a href=\"https://docs.wandb.com/integrations/jupyter.html\" target=\"_blank\">(Documentation)</a>.<br/>\n                Project page: <a href=\"https://wandb.ai/devcore/Metriken%20Bauwesen%20Sweeps\" target=\"_blank\">https://wandb.ai/devcore/Metriken%20Bauwesen%20Sweeps</a><br/>\n                Sweep page: <a href=\"https://wandb.ai/devcore/Metriken%20Bauwesen%20Sweeps/sweeps/mkxhrc96\" target=\"_blank\">https://wandb.ai/devcore/Metriken%20Bauwesen%20Sweeps/sweeps/mkxhrc96</a><br/>\nRun page: <a href=\"https://wandb.ai/devcore/Metriken%20Bauwesen%20Sweeps/runs/i7nc8zjh\" target=\"_blank\">https://wandb.ai/devcore/Metriken%20Bauwesen%20Sweeps/runs/i7nc8zjh</a><br/>\n                Run data is saved locally in <code>D:\\Development\\FHNW\\ip5-metriken-bauwesen\\src\\weight_and_bias\\wandb\\run-20210622_174711-i7nc8zjh</code><br/><br/>\n            "
     },
     "metadata": {},
     "output_type": "display_data"
    },
    {
     "data": {
      "text/plain": "<IPython.core.display.HTML object>",
      "text/html": "<br/>Waiting for W&B process to finish, PID 1040<br/>Program ended successfully."
     },
     "metadata": {},
     "output_type": "display_data"
    },
    {
     "data": {
      "text/plain": "VBox(children=(Label(value=' 0.00MB of 0.00MB uploaded (0.00MB deduped)\\r'), FloatProgress(value=1.0, max=1.0)…",
      "application/vnd.jupyter.widget-view+json": {
       "version_major": 2,
       "version_minor": 0,
       "model_id": "54b2ac18c95d469688bc3a1c7829e0fc"
      }
     },
     "metadata": {},
     "output_type": "display_data"
    },
    {
     "data": {
      "text/plain": "<IPython.core.display.HTML object>",
      "text/html": "Find user logs for this run at: <code>D:\\Development\\FHNW\\ip5-metriken-bauwesen\\src\\weight_and_bias\\wandb\\run-20210622_174711-i7nc8zjh\\logs\\debug.log</code>"
     },
     "metadata": {},
     "output_type": "display_data"
    },
    {
     "data": {
      "text/plain": "<IPython.core.display.HTML object>",
      "text/html": "Find internal logs for this run at: <code>D:\\Development\\FHNW\\ip5-metriken-bauwesen\\src\\weight_and_bias\\wandb\\run-20210622_174711-i7nc8zjh\\logs\\debug-internal.log</code>"
     },
     "metadata": {},
     "output_type": "display_data"
    },
    {
     "data": {
      "text/plain": "<IPython.core.display.HTML object>",
      "text/html": "<h3>Run summary:</h3><br/><style>\n    table.wandb td:nth-child(1) { padding: 0 10px; text-align: right }\n    </style><table class=\"wandb\">\n<tr><td>r2</td><td>0.94219</td></tr><tr><td>_runtime</td><td>1</td></tr><tr><td>_timestamp</td><td>1624376832</td></tr><tr><td>_step</td><td>0</td></tr></table>"
     },
     "metadata": {},
     "output_type": "display_data"
    },
    {
     "data": {
      "text/plain": "<IPython.core.display.HTML object>",
      "text/html": "<h3>Run history:</h3><br/><style>\n    table.wandb td:nth-child(1) { padding: 0 10px; text-align: right }\n    </style><table class=\"wandb\">\n<tr><td>r2</td><td>▁</td></tr><tr><td>_runtime</td><td>▁</td></tr><tr><td>_timestamp</td><td>▁</td></tr><tr><td>_step</td><td>▁</td></tr></table><br/>"
     },
     "metadata": {},
     "output_type": "display_data"
    },
    {
     "data": {
      "text/plain": "<IPython.core.display.HTML object>",
      "text/html": "Synced 5 W&B file(s), 0 media file(s), 0 artifact file(s) and 0 other file(s)"
     },
     "metadata": {},
     "output_type": "display_data"
    },
    {
     "data": {
      "text/plain": "<IPython.core.display.HTML object>",
      "text/html": "\n                    <br/>Synced <strong style=\"color:#cdcd00\">resilient-sweep-36</strong>: <a href=\"https://wandb.ai/devcore/Metriken%20Bauwesen%20Sweeps/runs/i7nc8zjh\" target=\"_blank\">https://wandb.ai/devcore/Metriken%20Bauwesen%20Sweeps/runs/i7nc8zjh</a><br/>\n                "
     },
     "metadata": {},
     "output_type": "display_data"
    },
    {
     "data": {
      "text/plain": "<IPython.core.display.HTML object>",
      "text/html": "\n                Tracking run with wandb version 0.10.32<br/>\n                Syncing run <strong style=\"color:#cdcd00\">comic-sweep-37</strong> to <a href=\"https://wandb.ai\" target=\"_blank\">Weights & Biases</a> <a href=\"https://docs.wandb.com/integrations/jupyter.html\" target=\"_blank\">(Documentation)</a>.<br/>\n                Project page: <a href=\"https://wandb.ai/devcore/Metriken%20Bauwesen%20Sweeps\" target=\"_blank\">https://wandb.ai/devcore/Metriken%20Bauwesen%20Sweeps</a><br/>\n                Sweep page: <a href=\"https://wandb.ai/devcore/Metriken%20Bauwesen%20Sweeps/sweeps/mkxhrc96\" target=\"_blank\">https://wandb.ai/devcore/Metriken%20Bauwesen%20Sweeps/sweeps/mkxhrc96</a><br/>\nRun page: <a href=\"https://wandb.ai/devcore/Metriken%20Bauwesen%20Sweeps/runs/0f6r0xi9\" target=\"_blank\">https://wandb.ai/devcore/Metriken%20Bauwesen%20Sweeps/runs/0f6r0xi9</a><br/>\n                Run data is saved locally in <code>D:\\Development\\FHNW\\ip5-metriken-bauwesen\\src\\weight_and_bias\\wandb\\run-20210622_174716-0f6r0xi9</code><br/><br/>\n            "
     },
     "metadata": {},
     "output_type": "display_data"
    },
    {
     "data": {
      "text/plain": "<IPython.core.display.HTML object>",
      "text/html": "<br/>Waiting for W&B process to finish, PID 6136<br/>Program ended successfully."
     },
     "metadata": {},
     "output_type": "display_data"
    },
    {
     "data": {
      "text/plain": "VBox(children=(Label(value=' 0.00MB of 0.00MB uploaded (0.00MB deduped)\\r'), FloatProgress(value=1.0, max=1.0)…",
      "application/vnd.jupyter.widget-view+json": {
       "version_major": 2,
       "version_minor": 0,
       "model_id": "55a7295e2b8f49b4ade0bc75525309ca"
      }
     },
     "metadata": {},
     "output_type": "display_data"
    },
    {
     "data": {
      "text/plain": "<IPython.core.display.HTML object>",
      "text/html": "Find user logs for this run at: <code>D:\\Development\\FHNW\\ip5-metriken-bauwesen\\src\\weight_and_bias\\wandb\\run-20210622_174716-0f6r0xi9\\logs\\debug.log</code>"
     },
     "metadata": {},
     "output_type": "display_data"
    },
    {
     "data": {
      "text/plain": "<IPython.core.display.HTML object>",
      "text/html": "Find internal logs for this run at: <code>D:\\Development\\FHNW\\ip5-metriken-bauwesen\\src\\weight_and_bias\\wandb\\run-20210622_174716-0f6r0xi9\\logs\\debug-internal.log</code>"
     },
     "metadata": {},
     "output_type": "display_data"
    },
    {
     "data": {
      "text/plain": "<IPython.core.display.HTML object>",
      "text/html": "<h3>Run summary:</h3><br/><style>\n    table.wandb td:nth-child(1) { padding: 0 10px; text-align: right }\n    </style><table class=\"wandb\">\n<tr><td>r2</td><td>0.90724</td></tr><tr><td>_runtime</td><td>1</td></tr><tr><td>_timestamp</td><td>1624376838</td></tr><tr><td>_step</td><td>0</td></tr></table>"
     },
     "metadata": {},
     "output_type": "display_data"
    },
    {
     "data": {
      "text/plain": "<IPython.core.display.HTML object>",
      "text/html": "<h3>Run history:</h3><br/><style>\n    table.wandb td:nth-child(1) { padding: 0 10px; text-align: right }\n    </style><table class=\"wandb\">\n<tr><td>r2</td><td>▁</td></tr><tr><td>_runtime</td><td>▁</td></tr><tr><td>_timestamp</td><td>▁</td></tr><tr><td>_step</td><td>▁</td></tr></table><br/>"
     },
     "metadata": {},
     "output_type": "display_data"
    },
    {
     "data": {
      "text/plain": "<IPython.core.display.HTML object>",
      "text/html": "Synced 5 W&B file(s), 0 media file(s), 0 artifact file(s) and 0 other file(s)"
     },
     "metadata": {},
     "output_type": "display_data"
    },
    {
     "data": {
      "text/plain": "<IPython.core.display.HTML object>",
      "text/html": "\n                    <br/>Synced <strong style=\"color:#cdcd00\">comic-sweep-37</strong>: <a href=\"https://wandb.ai/devcore/Metriken%20Bauwesen%20Sweeps/runs/0f6r0xi9\" target=\"_blank\">https://wandb.ai/devcore/Metriken%20Bauwesen%20Sweeps/runs/0f6r0xi9</a><br/>\n                "
     },
     "metadata": {},
     "output_type": "display_data"
    },
    {
     "data": {
      "text/plain": "<IPython.core.display.HTML object>",
      "text/html": "\n                Tracking run with wandb version 0.10.32<br/>\n                Syncing run <strong style=\"color:#cdcd00\">magic-sweep-38</strong> to <a href=\"https://wandb.ai\" target=\"_blank\">Weights & Biases</a> <a href=\"https://docs.wandb.com/integrations/jupyter.html\" target=\"_blank\">(Documentation)</a>.<br/>\n                Project page: <a href=\"https://wandb.ai/devcore/Metriken%20Bauwesen%20Sweeps\" target=\"_blank\">https://wandb.ai/devcore/Metriken%20Bauwesen%20Sweeps</a><br/>\n                Sweep page: <a href=\"https://wandb.ai/devcore/Metriken%20Bauwesen%20Sweeps/sweeps/mkxhrc96\" target=\"_blank\">https://wandb.ai/devcore/Metriken%20Bauwesen%20Sweeps/sweeps/mkxhrc96</a><br/>\nRun page: <a href=\"https://wandb.ai/devcore/Metriken%20Bauwesen%20Sweeps/runs/cli9kjyx\" target=\"_blank\">https://wandb.ai/devcore/Metriken%20Bauwesen%20Sweeps/runs/cli9kjyx</a><br/>\n                Run data is saved locally in <code>D:\\Development\\FHNW\\ip5-metriken-bauwesen\\src\\weight_and_bias\\wandb\\run-20210622_174722-cli9kjyx</code><br/><br/>\n            "
     },
     "metadata": {},
     "output_type": "display_data"
    },
    {
     "data": {
      "text/plain": "<IPython.core.display.HTML object>",
      "text/html": "<br/>Waiting for W&B process to finish, PID 3264<br/>Program ended successfully."
     },
     "metadata": {},
     "output_type": "display_data"
    },
    {
     "data": {
      "text/plain": "VBox(children=(Label(value=' 0.00MB of 0.00MB uploaded (0.00MB deduped)\\r'), FloatProgress(value=1.0, max=1.0)…",
      "application/vnd.jupyter.widget-view+json": {
       "version_major": 2,
       "version_minor": 0,
       "model_id": "8be82fe6b0d14732b2d3f8791ed861f1"
      }
     },
     "metadata": {},
     "output_type": "display_data"
    },
    {
     "data": {
      "text/plain": "<IPython.core.display.HTML object>",
      "text/html": "Find user logs for this run at: <code>D:\\Development\\FHNW\\ip5-metriken-bauwesen\\src\\weight_and_bias\\wandb\\run-20210622_174722-cli9kjyx\\logs\\debug.log</code>"
     },
     "metadata": {},
     "output_type": "display_data"
    },
    {
     "data": {
      "text/plain": "<IPython.core.display.HTML object>",
      "text/html": "Find internal logs for this run at: <code>D:\\Development\\FHNW\\ip5-metriken-bauwesen\\src\\weight_and_bias\\wandb\\run-20210622_174722-cli9kjyx\\logs\\debug-internal.log</code>"
     },
     "metadata": {},
     "output_type": "display_data"
    },
    {
     "data": {
      "text/plain": "<IPython.core.display.HTML object>",
      "text/html": "<h3>Run summary:</h3><br/><style>\n    table.wandb td:nth-child(1) { padding: 0 10px; text-align: right }\n    </style><table class=\"wandb\">\n<tr><td>r2</td><td>0.94312</td></tr><tr><td>_runtime</td><td>2</td></tr><tr><td>_timestamp</td><td>1624376844</td></tr><tr><td>_step</td><td>0</td></tr></table>"
     },
     "metadata": {},
     "output_type": "display_data"
    },
    {
     "data": {
      "text/plain": "<IPython.core.display.HTML object>",
      "text/html": "<h3>Run history:</h3><br/><style>\n    table.wandb td:nth-child(1) { padding: 0 10px; text-align: right }\n    </style><table class=\"wandb\">\n<tr><td>r2</td><td>▁</td></tr><tr><td>_runtime</td><td>▁</td></tr><tr><td>_timestamp</td><td>▁</td></tr><tr><td>_step</td><td>▁</td></tr></table><br/>"
     },
     "metadata": {},
     "output_type": "display_data"
    },
    {
     "data": {
      "text/plain": "<IPython.core.display.HTML object>",
      "text/html": "Synced 5 W&B file(s), 0 media file(s), 0 artifact file(s) and 0 other file(s)"
     },
     "metadata": {},
     "output_type": "display_data"
    },
    {
     "data": {
      "text/plain": "<IPython.core.display.HTML object>",
      "text/html": "\n                    <br/>Synced <strong style=\"color:#cdcd00\">magic-sweep-38</strong>: <a href=\"https://wandb.ai/devcore/Metriken%20Bauwesen%20Sweeps/runs/cli9kjyx\" target=\"_blank\">https://wandb.ai/devcore/Metriken%20Bauwesen%20Sweeps/runs/cli9kjyx</a><br/>\n                "
     },
     "metadata": {},
     "output_type": "display_data"
    },
    {
     "data": {
      "text/plain": "<IPython.core.display.HTML object>",
      "text/html": "\n                Tracking run with wandb version 0.10.32<br/>\n                Syncing run <strong style=\"color:#cdcd00\">blooming-sweep-39</strong> to <a href=\"https://wandb.ai\" target=\"_blank\">Weights & Biases</a> <a href=\"https://docs.wandb.com/integrations/jupyter.html\" target=\"_blank\">(Documentation)</a>.<br/>\n                Project page: <a href=\"https://wandb.ai/devcore/Metriken%20Bauwesen%20Sweeps\" target=\"_blank\">https://wandb.ai/devcore/Metriken%20Bauwesen%20Sweeps</a><br/>\n                Sweep page: <a href=\"https://wandb.ai/devcore/Metriken%20Bauwesen%20Sweeps/sweeps/mkxhrc96\" target=\"_blank\">https://wandb.ai/devcore/Metriken%20Bauwesen%20Sweeps/sweeps/mkxhrc96</a><br/>\nRun page: <a href=\"https://wandb.ai/devcore/Metriken%20Bauwesen%20Sweeps/runs/w4ptoo4y\" target=\"_blank\">https://wandb.ai/devcore/Metriken%20Bauwesen%20Sweeps/runs/w4ptoo4y</a><br/>\n                Run data is saved locally in <code>D:\\Development\\FHNW\\ip5-metriken-bauwesen\\src\\weight_and_bias\\wandb\\run-20210622_174728-w4ptoo4y</code><br/><br/>\n            "
     },
     "metadata": {},
     "output_type": "display_data"
    },
    {
     "data": {
      "text/plain": "<IPython.core.display.HTML object>",
      "text/html": "<br/>Waiting for W&B process to finish, PID 3644<br/>Program ended successfully."
     },
     "metadata": {},
     "output_type": "display_data"
    },
    {
     "data": {
      "text/plain": "VBox(children=(Label(value=' 0.00MB of 0.00MB uploaded (0.00MB deduped)\\r'), FloatProgress(value=1.0, max=1.0)…",
      "application/vnd.jupyter.widget-view+json": {
       "version_major": 2,
       "version_minor": 0,
       "model_id": "dd32a36d886345d88946a14e418c51f5"
      }
     },
     "metadata": {},
     "output_type": "display_data"
    },
    {
     "data": {
      "text/plain": "<IPython.core.display.HTML object>",
      "text/html": "Find user logs for this run at: <code>D:\\Development\\FHNW\\ip5-metriken-bauwesen\\src\\weight_and_bias\\wandb\\run-20210622_174728-w4ptoo4y\\logs\\debug.log</code>"
     },
     "metadata": {},
     "output_type": "display_data"
    },
    {
     "data": {
      "text/plain": "<IPython.core.display.HTML object>",
      "text/html": "Find internal logs for this run at: <code>D:\\Development\\FHNW\\ip5-metriken-bauwesen\\src\\weight_and_bias\\wandb\\run-20210622_174728-w4ptoo4y\\logs\\debug-internal.log</code>"
     },
     "metadata": {},
     "output_type": "display_data"
    },
    {
     "data": {
      "text/plain": "<IPython.core.display.HTML object>",
      "text/html": "<h3>Run summary:</h3><br/><style>\n    table.wandb td:nth-child(1) { padding: 0 10px; text-align: right }\n    </style><table class=\"wandb\">\n<tr><td>r2</td><td>0.94522</td></tr><tr><td>_runtime</td><td>2</td></tr><tr><td>_timestamp</td><td>1624376850</td></tr><tr><td>_step</td><td>0</td></tr></table>"
     },
     "metadata": {},
     "output_type": "display_data"
    },
    {
     "data": {
      "text/plain": "<IPython.core.display.HTML object>",
      "text/html": "<h3>Run history:</h3><br/><style>\n    table.wandb td:nth-child(1) { padding: 0 10px; text-align: right }\n    </style><table class=\"wandb\">\n<tr><td>r2</td><td>▁</td></tr><tr><td>_runtime</td><td>▁</td></tr><tr><td>_timestamp</td><td>▁</td></tr><tr><td>_step</td><td>▁</td></tr></table><br/>"
     },
     "metadata": {},
     "output_type": "display_data"
    },
    {
     "data": {
      "text/plain": "<IPython.core.display.HTML object>",
      "text/html": "Synced 5 W&B file(s), 0 media file(s), 0 artifact file(s) and 0 other file(s)"
     },
     "metadata": {},
     "output_type": "display_data"
    },
    {
     "data": {
      "text/plain": "<IPython.core.display.HTML object>",
      "text/html": "\n                    <br/>Synced <strong style=\"color:#cdcd00\">blooming-sweep-39</strong>: <a href=\"https://wandb.ai/devcore/Metriken%20Bauwesen%20Sweeps/runs/w4ptoo4y\" target=\"_blank\">https://wandb.ai/devcore/Metriken%20Bauwesen%20Sweeps/runs/w4ptoo4y</a><br/>\n                "
     },
     "metadata": {},
     "output_type": "display_data"
    },
    {
     "data": {
      "text/plain": "<IPython.core.display.HTML object>",
      "text/html": "\n                Tracking run with wandb version 0.10.32<br/>\n                Syncing run <strong style=\"color:#cdcd00\">toasty-sweep-40</strong> to <a href=\"https://wandb.ai\" target=\"_blank\">Weights & Biases</a> <a href=\"https://docs.wandb.com/integrations/jupyter.html\" target=\"_blank\">(Documentation)</a>.<br/>\n                Project page: <a href=\"https://wandb.ai/devcore/Metriken%20Bauwesen%20Sweeps\" target=\"_blank\">https://wandb.ai/devcore/Metriken%20Bauwesen%20Sweeps</a><br/>\n                Sweep page: <a href=\"https://wandb.ai/devcore/Metriken%20Bauwesen%20Sweeps/sweeps/mkxhrc96\" target=\"_blank\">https://wandb.ai/devcore/Metriken%20Bauwesen%20Sweeps/sweeps/mkxhrc96</a><br/>\nRun page: <a href=\"https://wandb.ai/devcore/Metriken%20Bauwesen%20Sweeps/runs/7y9f72jr\" target=\"_blank\">https://wandb.ai/devcore/Metriken%20Bauwesen%20Sweeps/runs/7y9f72jr</a><br/>\n                Run data is saved locally in <code>D:\\Development\\FHNW\\ip5-metriken-bauwesen\\src\\weight_and_bias\\wandb\\run-20210622_174734-7y9f72jr</code><br/><br/>\n            "
     },
     "metadata": {},
     "output_type": "display_data"
    },
    {
     "data": {
      "text/plain": "<IPython.core.display.HTML object>",
      "text/html": "<br/>Waiting for W&B process to finish, PID 3820<br/>Program ended successfully."
     },
     "metadata": {},
     "output_type": "display_data"
    },
    {
     "data": {
      "text/plain": "VBox(children=(Label(value=' 0.00MB of 0.00MB uploaded (0.00MB deduped)\\r'), FloatProgress(value=1.0, max=1.0)…",
      "application/vnd.jupyter.widget-view+json": {
       "version_major": 2,
       "version_minor": 0,
       "model_id": "b0c00a4bedef46f59412e52acc2a9723"
      }
     },
     "metadata": {},
     "output_type": "display_data"
    },
    {
     "data": {
      "text/plain": "<IPython.core.display.HTML object>",
      "text/html": "Find user logs for this run at: <code>D:\\Development\\FHNW\\ip5-metriken-bauwesen\\src\\weight_and_bias\\wandb\\run-20210622_174734-7y9f72jr\\logs\\debug.log</code>"
     },
     "metadata": {},
     "output_type": "display_data"
    },
    {
     "data": {
      "text/plain": "<IPython.core.display.HTML object>",
      "text/html": "Find internal logs for this run at: <code>D:\\Development\\FHNW\\ip5-metriken-bauwesen\\src\\weight_and_bias\\wandb\\run-20210622_174734-7y9f72jr\\logs\\debug-internal.log</code>"
     },
     "metadata": {},
     "output_type": "display_data"
    },
    {
     "data": {
      "text/plain": "<IPython.core.display.HTML object>",
      "text/html": "<h3>Run summary:</h3><br/><style>\n    table.wandb td:nth-child(1) { padding: 0 10px; text-align: right }\n    </style><table class=\"wandb\">\n<tr><td>r2</td><td>0.93783</td></tr><tr><td>_runtime</td><td>2</td></tr><tr><td>_timestamp</td><td>1624376856</td></tr><tr><td>_step</td><td>0</td></tr></table>"
     },
     "metadata": {},
     "output_type": "display_data"
    },
    {
     "data": {
      "text/plain": "<IPython.core.display.HTML object>",
      "text/html": "<h3>Run history:</h3><br/><style>\n    table.wandb td:nth-child(1) { padding: 0 10px; text-align: right }\n    </style><table class=\"wandb\">\n<tr><td>r2</td><td>▁</td></tr><tr><td>_runtime</td><td>▁</td></tr><tr><td>_timestamp</td><td>▁</td></tr><tr><td>_step</td><td>▁</td></tr></table><br/>"
     },
     "metadata": {},
     "output_type": "display_data"
    },
    {
     "data": {
      "text/plain": "<IPython.core.display.HTML object>",
      "text/html": "Synced 5 W&B file(s), 0 media file(s), 0 artifact file(s) and 0 other file(s)"
     },
     "metadata": {},
     "output_type": "display_data"
    },
    {
     "data": {
      "text/plain": "<IPython.core.display.HTML object>",
      "text/html": "\n                    <br/>Synced <strong style=\"color:#cdcd00\">toasty-sweep-40</strong>: <a href=\"https://wandb.ai/devcore/Metriken%20Bauwesen%20Sweeps/runs/7y9f72jr\" target=\"_blank\">https://wandb.ai/devcore/Metriken%20Bauwesen%20Sweeps/runs/7y9f72jr</a><br/>\n                "
     },
     "metadata": {},
     "output_type": "display_data"
    },
    {
     "data": {
      "text/plain": "<IPython.core.display.HTML object>",
      "text/html": "\n                Tracking run with wandb version 0.10.32<br/>\n                Syncing run <strong style=\"color:#cdcd00\">polar-sweep-41</strong> to <a href=\"https://wandb.ai\" target=\"_blank\">Weights & Biases</a> <a href=\"https://docs.wandb.com/integrations/jupyter.html\" target=\"_blank\">(Documentation)</a>.<br/>\n                Project page: <a href=\"https://wandb.ai/devcore/Metriken%20Bauwesen%20Sweeps\" target=\"_blank\">https://wandb.ai/devcore/Metriken%20Bauwesen%20Sweeps</a><br/>\n                Sweep page: <a href=\"https://wandb.ai/devcore/Metriken%20Bauwesen%20Sweeps/sweeps/mkxhrc96\" target=\"_blank\">https://wandb.ai/devcore/Metriken%20Bauwesen%20Sweeps/sweeps/mkxhrc96</a><br/>\nRun page: <a href=\"https://wandb.ai/devcore/Metriken%20Bauwesen%20Sweeps/runs/596eupls\" target=\"_blank\">https://wandb.ai/devcore/Metriken%20Bauwesen%20Sweeps/runs/596eupls</a><br/>\n                Run data is saved locally in <code>D:\\Development\\FHNW\\ip5-metriken-bauwesen\\src\\weight_and_bias\\wandb\\run-20210622_174740-596eupls</code><br/><br/>\n            "
     },
     "metadata": {},
     "output_type": "display_data"
    },
    {
     "data": {
      "text/plain": "<IPython.core.display.HTML object>",
      "text/html": "<br/>Waiting for W&B process to finish, PID 2232<br/>Program ended successfully."
     },
     "metadata": {},
     "output_type": "display_data"
    },
    {
     "data": {
      "text/plain": "VBox(children=(Label(value=' 0.00MB of 0.00MB uploaded (0.00MB deduped)\\r'), FloatProgress(value=1.0, max=1.0)…",
      "application/vnd.jupyter.widget-view+json": {
       "version_major": 2,
       "version_minor": 0,
       "model_id": "6f6baccee7534ebba71f2f876e99ffdc"
      }
     },
     "metadata": {},
     "output_type": "display_data"
    },
    {
     "data": {
      "text/plain": "<IPython.core.display.HTML object>",
      "text/html": "Find user logs for this run at: <code>D:\\Development\\FHNW\\ip5-metriken-bauwesen\\src\\weight_and_bias\\wandb\\run-20210622_174740-596eupls\\logs\\debug.log</code>"
     },
     "metadata": {},
     "output_type": "display_data"
    },
    {
     "data": {
      "text/plain": "<IPython.core.display.HTML object>",
      "text/html": "Find internal logs for this run at: <code>D:\\Development\\FHNW\\ip5-metriken-bauwesen\\src\\weight_and_bias\\wandb\\run-20210622_174740-596eupls\\logs\\debug-internal.log</code>"
     },
     "metadata": {},
     "output_type": "display_data"
    },
    {
     "data": {
      "text/plain": "<IPython.core.display.HTML object>",
      "text/html": "<h3>Run summary:</h3><br/><style>\n    table.wandb td:nth-child(1) { padding: 0 10px; text-align: right }\n    </style><table class=\"wandb\">\n<tr><td>r2</td><td>0.92584</td></tr><tr><td>_runtime</td><td>2</td></tr><tr><td>_timestamp</td><td>1624376862</td></tr><tr><td>_step</td><td>0</td></tr></table>"
     },
     "metadata": {},
     "output_type": "display_data"
    },
    {
     "data": {
      "text/plain": "<IPython.core.display.HTML object>",
      "text/html": "<h3>Run history:</h3><br/><style>\n    table.wandb td:nth-child(1) { padding: 0 10px; text-align: right }\n    </style><table class=\"wandb\">\n<tr><td>r2</td><td>▁</td></tr><tr><td>_runtime</td><td>▁</td></tr><tr><td>_timestamp</td><td>▁</td></tr><tr><td>_step</td><td>▁</td></tr></table><br/>"
     },
     "metadata": {},
     "output_type": "display_data"
    },
    {
     "data": {
      "text/plain": "<IPython.core.display.HTML object>",
      "text/html": "Synced 5 W&B file(s), 0 media file(s), 0 artifact file(s) and 0 other file(s)"
     },
     "metadata": {},
     "output_type": "display_data"
    },
    {
     "data": {
      "text/plain": "<IPython.core.display.HTML object>",
      "text/html": "\n                    <br/>Synced <strong style=\"color:#cdcd00\">polar-sweep-41</strong>: <a href=\"https://wandb.ai/devcore/Metriken%20Bauwesen%20Sweeps/runs/596eupls\" target=\"_blank\">https://wandb.ai/devcore/Metriken%20Bauwesen%20Sweeps/runs/596eupls</a><br/>\n                "
     },
     "metadata": {},
     "output_type": "display_data"
    },
    {
     "data": {
      "text/plain": "<IPython.core.display.HTML object>",
      "text/html": "\n                Tracking run with wandb version 0.10.32<br/>\n                Syncing run <strong style=\"color:#cdcd00\">vivid-sweep-42</strong> to <a href=\"https://wandb.ai\" target=\"_blank\">Weights & Biases</a> <a href=\"https://docs.wandb.com/integrations/jupyter.html\" target=\"_blank\">(Documentation)</a>.<br/>\n                Project page: <a href=\"https://wandb.ai/devcore/Metriken%20Bauwesen%20Sweeps\" target=\"_blank\">https://wandb.ai/devcore/Metriken%20Bauwesen%20Sweeps</a><br/>\n                Sweep page: <a href=\"https://wandb.ai/devcore/Metriken%20Bauwesen%20Sweeps/sweeps/mkxhrc96\" target=\"_blank\">https://wandb.ai/devcore/Metriken%20Bauwesen%20Sweeps/sweeps/mkxhrc96</a><br/>\nRun page: <a href=\"https://wandb.ai/devcore/Metriken%20Bauwesen%20Sweeps/runs/5etbtlqt\" target=\"_blank\">https://wandb.ai/devcore/Metriken%20Bauwesen%20Sweeps/runs/5etbtlqt</a><br/>\n                Run data is saved locally in <code>D:\\Development\\FHNW\\ip5-metriken-bauwesen\\src\\weight_and_bias\\wandb\\run-20210622_174746-5etbtlqt</code><br/><br/>\n            "
     },
     "metadata": {},
     "output_type": "display_data"
    },
    {
     "data": {
      "text/plain": "<IPython.core.display.HTML object>",
      "text/html": "<br/>Waiting for W&B process to finish, PID 14504<br/>Program ended successfully."
     },
     "metadata": {},
     "output_type": "display_data"
    },
    {
     "data": {
      "text/plain": "VBox(children=(Label(value=' 0.00MB of 0.00MB uploaded (0.00MB deduped)\\r'), FloatProgress(value=1.0, max=1.0)…",
      "application/vnd.jupyter.widget-view+json": {
       "version_major": 2,
       "version_minor": 0,
       "model_id": "09b3c202380d47d6be8f60d0df21f017"
      }
     },
     "metadata": {},
     "output_type": "display_data"
    },
    {
     "data": {
      "text/plain": "<IPython.core.display.HTML object>",
      "text/html": "Find user logs for this run at: <code>D:\\Development\\FHNW\\ip5-metriken-bauwesen\\src\\weight_and_bias\\wandb\\run-20210622_174746-5etbtlqt\\logs\\debug.log</code>"
     },
     "metadata": {},
     "output_type": "display_data"
    },
    {
     "data": {
      "text/plain": "<IPython.core.display.HTML object>",
      "text/html": "Find internal logs for this run at: <code>D:\\Development\\FHNW\\ip5-metriken-bauwesen\\src\\weight_and_bias\\wandb\\run-20210622_174746-5etbtlqt\\logs\\debug-internal.log</code>"
     },
     "metadata": {},
     "output_type": "display_data"
    },
    {
     "data": {
      "text/plain": "<IPython.core.display.HTML object>",
      "text/html": "<h3>Run summary:</h3><br/><style>\n    table.wandb td:nth-child(1) { padding: 0 10px; text-align: right }\n    </style><table class=\"wandb\">\n<tr><td>r2</td><td>0.94055</td></tr><tr><td>_runtime</td><td>2</td></tr><tr><td>_timestamp</td><td>1624376868</td></tr><tr><td>_step</td><td>0</td></tr></table>"
     },
     "metadata": {},
     "output_type": "display_data"
    },
    {
     "data": {
      "text/plain": "<IPython.core.display.HTML object>",
      "text/html": "<h3>Run history:</h3><br/><style>\n    table.wandb td:nth-child(1) { padding: 0 10px; text-align: right }\n    </style><table class=\"wandb\">\n<tr><td>r2</td><td>▁</td></tr><tr><td>_runtime</td><td>▁</td></tr><tr><td>_timestamp</td><td>▁</td></tr><tr><td>_step</td><td>▁</td></tr></table><br/>"
     },
     "metadata": {},
     "output_type": "display_data"
    },
    {
     "data": {
      "text/plain": "<IPython.core.display.HTML object>",
      "text/html": "Synced 5 W&B file(s), 0 media file(s), 0 artifact file(s) and 0 other file(s)"
     },
     "metadata": {},
     "output_type": "display_data"
    },
    {
     "data": {
      "text/plain": "<IPython.core.display.HTML object>",
      "text/html": "\n                    <br/>Synced <strong style=\"color:#cdcd00\">vivid-sweep-42</strong>: <a href=\"https://wandb.ai/devcore/Metriken%20Bauwesen%20Sweeps/runs/5etbtlqt\" target=\"_blank\">https://wandb.ai/devcore/Metriken%20Bauwesen%20Sweeps/runs/5etbtlqt</a><br/>\n                "
     },
     "metadata": {},
     "output_type": "display_data"
    },
    {
     "data": {
      "text/plain": "<IPython.core.display.HTML object>",
      "text/html": "\n                Tracking run with wandb version 0.10.32<br/>\n                Syncing run <strong style=\"color:#cdcd00\">colorful-sweep-43</strong> to <a href=\"https://wandb.ai\" target=\"_blank\">Weights & Biases</a> <a href=\"https://docs.wandb.com/integrations/jupyter.html\" target=\"_blank\">(Documentation)</a>.<br/>\n                Project page: <a href=\"https://wandb.ai/devcore/Metriken%20Bauwesen%20Sweeps\" target=\"_blank\">https://wandb.ai/devcore/Metriken%20Bauwesen%20Sweeps</a><br/>\n                Sweep page: <a href=\"https://wandb.ai/devcore/Metriken%20Bauwesen%20Sweeps/sweeps/mkxhrc96\" target=\"_blank\">https://wandb.ai/devcore/Metriken%20Bauwesen%20Sweeps/sweeps/mkxhrc96</a><br/>\nRun page: <a href=\"https://wandb.ai/devcore/Metriken%20Bauwesen%20Sweeps/runs/g37zuik2\" target=\"_blank\">https://wandb.ai/devcore/Metriken%20Bauwesen%20Sweeps/runs/g37zuik2</a><br/>\n                Run data is saved locally in <code>D:\\Development\\FHNW\\ip5-metriken-bauwesen\\src\\weight_and_bias\\wandb\\run-20210622_174752-g37zuik2</code><br/><br/>\n            "
     },
     "metadata": {},
     "output_type": "display_data"
    },
    {
     "data": {
      "text/plain": "<IPython.core.display.HTML object>",
      "text/html": "<br/>Waiting for W&B process to finish, PID 17336<br/>Program ended successfully."
     },
     "metadata": {},
     "output_type": "display_data"
    },
    {
     "data": {
      "text/plain": "VBox(children=(Label(value=' 0.00MB of 0.00MB uploaded (0.00MB deduped)\\r'), FloatProgress(value=1.0, max=1.0)…",
      "application/vnd.jupyter.widget-view+json": {
       "version_major": 2,
       "version_minor": 0,
       "model_id": "deb378cb62434d12802c78f35546e0b2"
      }
     },
     "metadata": {},
     "output_type": "display_data"
    },
    {
     "data": {
      "text/plain": "<IPython.core.display.HTML object>",
      "text/html": "Find user logs for this run at: <code>D:\\Development\\FHNW\\ip5-metriken-bauwesen\\src\\weight_and_bias\\wandb\\run-20210622_174752-g37zuik2\\logs\\debug.log</code>"
     },
     "metadata": {},
     "output_type": "display_data"
    },
    {
     "data": {
      "text/plain": "<IPython.core.display.HTML object>",
      "text/html": "Find internal logs for this run at: <code>D:\\Development\\FHNW\\ip5-metriken-bauwesen\\src\\weight_and_bias\\wandb\\run-20210622_174752-g37zuik2\\logs\\debug-internal.log</code>"
     },
     "metadata": {},
     "output_type": "display_data"
    },
    {
     "data": {
      "text/plain": "<IPython.core.display.HTML object>",
      "text/html": "<h3>Run summary:</h3><br/><style>\n    table.wandb td:nth-child(1) { padding: 0 10px; text-align: right }\n    </style><table class=\"wandb\">\n<tr><td>r2</td><td>0.943</td></tr><tr><td>_runtime</td><td>2</td></tr><tr><td>_timestamp</td><td>1624376874</td></tr><tr><td>_step</td><td>0</td></tr></table>"
     },
     "metadata": {},
     "output_type": "display_data"
    },
    {
     "data": {
      "text/plain": "<IPython.core.display.HTML object>",
      "text/html": "<h3>Run history:</h3><br/><style>\n    table.wandb td:nth-child(1) { padding: 0 10px; text-align: right }\n    </style><table class=\"wandb\">\n<tr><td>r2</td><td>▁</td></tr><tr><td>_runtime</td><td>▁</td></tr><tr><td>_timestamp</td><td>▁</td></tr><tr><td>_step</td><td>▁</td></tr></table><br/>"
     },
     "metadata": {},
     "output_type": "display_data"
    },
    {
     "data": {
      "text/plain": "<IPython.core.display.HTML object>",
      "text/html": "Synced 5 W&B file(s), 0 media file(s), 0 artifact file(s) and 0 other file(s)"
     },
     "metadata": {},
     "output_type": "display_data"
    },
    {
     "data": {
      "text/plain": "<IPython.core.display.HTML object>",
      "text/html": "\n                    <br/>Synced <strong style=\"color:#cdcd00\">colorful-sweep-43</strong>: <a href=\"https://wandb.ai/devcore/Metriken%20Bauwesen%20Sweeps/runs/g37zuik2\" target=\"_blank\">https://wandb.ai/devcore/Metriken%20Bauwesen%20Sweeps/runs/g37zuik2</a><br/>\n                "
     },
     "metadata": {},
     "output_type": "display_data"
    },
    {
     "data": {
      "text/plain": "<IPython.core.display.HTML object>",
      "text/html": "\n                Tracking run with wandb version 0.10.32<br/>\n                Syncing run <strong style=\"color:#cdcd00\">eager-sweep-44</strong> to <a href=\"https://wandb.ai\" target=\"_blank\">Weights & Biases</a> <a href=\"https://docs.wandb.com/integrations/jupyter.html\" target=\"_blank\">(Documentation)</a>.<br/>\n                Project page: <a href=\"https://wandb.ai/devcore/Metriken%20Bauwesen%20Sweeps\" target=\"_blank\">https://wandb.ai/devcore/Metriken%20Bauwesen%20Sweeps</a><br/>\n                Sweep page: <a href=\"https://wandb.ai/devcore/Metriken%20Bauwesen%20Sweeps/sweeps/mkxhrc96\" target=\"_blank\">https://wandb.ai/devcore/Metriken%20Bauwesen%20Sweeps/sweeps/mkxhrc96</a><br/>\nRun page: <a href=\"https://wandb.ai/devcore/Metriken%20Bauwesen%20Sweeps/runs/ykr13a7b\" target=\"_blank\">https://wandb.ai/devcore/Metriken%20Bauwesen%20Sweeps/runs/ykr13a7b</a><br/>\n                Run data is saved locally in <code>D:\\Development\\FHNW\\ip5-metriken-bauwesen\\src\\weight_and_bias\\wandb\\run-20210622_174758-ykr13a7b</code><br/><br/>\n            "
     },
     "metadata": {},
     "output_type": "display_data"
    },
    {
     "data": {
      "text/plain": "<IPython.core.display.HTML object>",
      "text/html": "<br/>Waiting for W&B process to finish, PID 6604<br/>Program ended successfully."
     },
     "metadata": {},
     "output_type": "display_data"
    },
    {
     "data": {
      "text/plain": "VBox(children=(Label(value=' 0.00MB of 0.00MB uploaded (0.00MB deduped)\\r'), FloatProgress(value=1.0, max=1.0)…",
      "application/vnd.jupyter.widget-view+json": {
       "version_major": 2,
       "version_minor": 0,
       "model_id": "3ba52f559a8d4cb6b70cd950f3186814"
      }
     },
     "metadata": {},
     "output_type": "display_data"
    },
    {
     "data": {
      "text/plain": "<IPython.core.display.HTML object>",
      "text/html": "Find user logs for this run at: <code>D:\\Development\\FHNW\\ip5-metriken-bauwesen\\src\\weight_and_bias\\wandb\\run-20210622_174758-ykr13a7b\\logs\\debug.log</code>"
     },
     "metadata": {},
     "output_type": "display_data"
    },
    {
     "data": {
      "text/plain": "<IPython.core.display.HTML object>",
      "text/html": "Find internal logs for this run at: <code>D:\\Development\\FHNW\\ip5-metriken-bauwesen\\src\\weight_and_bias\\wandb\\run-20210622_174758-ykr13a7b\\logs\\debug-internal.log</code>"
     },
     "metadata": {},
     "output_type": "display_data"
    },
    {
     "data": {
      "text/plain": "<IPython.core.display.HTML object>",
      "text/html": "<h3>Run summary:</h3><br/><style>\n    table.wandb td:nth-child(1) { padding: 0 10px; text-align: right }\n    </style><table class=\"wandb\">\n<tr><td>r2</td><td>0.94241</td></tr><tr><td>_runtime</td><td>1</td></tr><tr><td>_timestamp</td><td>1624376879</td></tr><tr><td>_step</td><td>0</td></tr></table>"
     },
     "metadata": {},
     "output_type": "display_data"
    },
    {
     "data": {
      "text/plain": "<IPython.core.display.HTML object>",
      "text/html": "<h3>Run history:</h3><br/><style>\n    table.wandb td:nth-child(1) { padding: 0 10px; text-align: right }\n    </style><table class=\"wandb\">\n<tr><td>r2</td><td>▁</td></tr><tr><td>_runtime</td><td>▁</td></tr><tr><td>_timestamp</td><td>▁</td></tr><tr><td>_step</td><td>▁</td></tr></table><br/>"
     },
     "metadata": {},
     "output_type": "display_data"
    },
    {
     "data": {
      "text/plain": "<IPython.core.display.HTML object>",
      "text/html": "Synced 5 W&B file(s), 0 media file(s), 0 artifact file(s) and 0 other file(s)"
     },
     "metadata": {},
     "output_type": "display_data"
    },
    {
     "data": {
      "text/plain": "<IPython.core.display.HTML object>",
      "text/html": "\n                    <br/>Synced <strong style=\"color:#cdcd00\">eager-sweep-44</strong>: <a href=\"https://wandb.ai/devcore/Metriken%20Bauwesen%20Sweeps/runs/ykr13a7b\" target=\"_blank\">https://wandb.ai/devcore/Metriken%20Bauwesen%20Sweeps/runs/ykr13a7b</a><br/>\n                "
     },
     "metadata": {},
     "output_type": "display_data"
    },
    {
     "data": {
      "text/plain": "<IPython.core.display.HTML object>",
      "text/html": "\n                Tracking run with wandb version 0.10.32<br/>\n                Syncing run <strong style=\"color:#cdcd00\">effortless-sweep-45</strong> to <a href=\"https://wandb.ai\" target=\"_blank\">Weights & Biases</a> <a href=\"https://docs.wandb.com/integrations/jupyter.html\" target=\"_blank\">(Documentation)</a>.<br/>\n                Project page: <a href=\"https://wandb.ai/devcore/Metriken%20Bauwesen%20Sweeps\" target=\"_blank\">https://wandb.ai/devcore/Metriken%20Bauwesen%20Sweeps</a><br/>\n                Sweep page: <a href=\"https://wandb.ai/devcore/Metriken%20Bauwesen%20Sweeps/sweeps/mkxhrc96\" target=\"_blank\">https://wandb.ai/devcore/Metriken%20Bauwesen%20Sweeps/sweeps/mkxhrc96</a><br/>\nRun page: <a href=\"https://wandb.ai/devcore/Metriken%20Bauwesen%20Sweeps/runs/w5osmacl\" target=\"_blank\">https://wandb.ai/devcore/Metriken%20Bauwesen%20Sweeps/runs/w5osmacl</a><br/>\n                Run data is saved locally in <code>D:\\Development\\FHNW\\ip5-metriken-bauwesen\\src\\weight_and_bias\\wandb\\run-20210622_174803-w5osmacl</code><br/><br/>\n            "
     },
     "metadata": {},
     "output_type": "display_data"
    },
    {
     "data": {
      "text/plain": "<IPython.core.display.HTML object>",
      "text/html": "<br/>Waiting for W&B process to finish, PID 3960<br/>Program ended successfully."
     },
     "metadata": {},
     "output_type": "display_data"
    },
    {
     "data": {
      "text/plain": "VBox(children=(Label(value=' 0.00MB of 0.00MB uploaded (0.00MB deduped)\\r'), FloatProgress(value=1.0, max=1.0)…",
      "application/vnd.jupyter.widget-view+json": {
       "version_major": 2,
       "version_minor": 0,
       "model_id": "4adebb5438814cd09332d0111636f0b8"
      }
     },
     "metadata": {},
     "output_type": "display_data"
    },
    {
     "data": {
      "text/plain": "<IPython.core.display.HTML object>",
      "text/html": "Find user logs for this run at: <code>D:\\Development\\FHNW\\ip5-metriken-bauwesen\\src\\weight_and_bias\\wandb\\run-20210622_174803-w5osmacl\\logs\\debug.log</code>"
     },
     "metadata": {},
     "output_type": "display_data"
    },
    {
     "data": {
      "text/plain": "<IPython.core.display.HTML object>",
      "text/html": "Find internal logs for this run at: <code>D:\\Development\\FHNW\\ip5-metriken-bauwesen\\src\\weight_and_bias\\wandb\\run-20210622_174803-w5osmacl\\logs\\debug-internal.log</code>"
     },
     "metadata": {},
     "output_type": "display_data"
    },
    {
     "data": {
      "text/plain": "<IPython.core.display.HTML object>",
      "text/html": "<h3>Run summary:</h3><br/><style>\n    table.wandb td:nth-child(1) { padding: 0 10px; text-align: right }\n    </style><table class=\"wandb\">\n<tr><td>r2</td><td>0.94048</td></tr><tr><td>_runtime</td><td>1</td></tr><tr><td>_timestamp</td><td>1624376885</td></tr><tr><td>_step</td><td>0</td></tr></table>"
     },
     "metadata": {},
     "output_type": "display_data"
    },
    {
     "data": {
      "text/plain": "<IPython.core.display.HTML object>",
      "text/html": "<h3>Run history:</h3><br/><style>\n    table.wandb td:nth-child(1) { padding: 0 10px; text-align: right }\n    </style><table class=\"wandb\">\n<tr><td>r2</td><td>▁</td></tr><tr><td>_runtime</td><td>▁</td></tr><tr><td>_timestamp</td><td>▁</td></tr><tr><td>_step</td><td>▁</td></tr></table><br/>"
     },
     "metadata": {},
     "output_type": "display_data"
    },
    {
     "data": {
      "text/plain": "<IPython.core.display.HTML object>",
      "text/html": "Synced 5 W&B file(s), 0 media file(s), 0 artifact file(s) and 0 other file(s)"
     },
     "metadata": {},
     "output_type": "display_data"
    },
    {
     "data": {
      "text/plain": "<IPython.core.display.HTML object>",
      "text/html": "\n                    <br/>Synced <strong style=\"color:#cdcd00\">effortless-sweep-45</strong>: <a href=\"https://wandb.ai/devcore/Metriken%20Bauwesen%20Sweeps/runs/w5osmacl\" target=\"_blank\">https://wandb.ai/devcore/Metriken%20Bauwesen%20Sweeps/runs/w5osmacl</a><br/>\n                "
     },
     "metadata": {},
     "output_type": "display_data"
    },
    {
     "data": {
      "text/plain": "<IPython.core.display.HTML object>",
      "text/html": "\n                Tracking run with wandb version 0.10.32<br/>\n                Syncing run <strong style=\"color:#cdcd00\">upbeat-sweep-46</strong> to <a href=\"https://wandb.ai\" target=\"_blank\">Weights & Biases</a> <a href=\"https://docs.wandb.com/integrations/jupyter.html\" target=\"_blank\">(Documentation)</a>.<br/>\n                Project page: <a href=\"https://wandb.ai/devcore/Metriken%20Bauwesen%20Sweeps\" target=\"_blank\">https://wandb.ai/devcore/Metriken%20Bauwesen%20Sweeps</a><br/>\n                Sweep page: <a href=\"https://wandb.ai/devcore/Metriken%20Bauwesen%20Sweeps/sweeps/mkxhrc96\" target=\"_blank\">https://wandb.ai/devcore/Metriken%20Bauwesen%20Sweeps/sweeps/mkxhrc96</a><br/>\nRun page: <a href=\"https://wandb.ai/devcore/Metriken%20Bauwesen%20Sweeps/runs/bhjkxu1g\" target=\"_blank\">https://wandb.ai/devcore/Metriken%20Bauwesen%20Sweeps/runs/bhjkxu1g</a><br/>\n                Run data is saved locally in <code>D:\\Development\\FHNW\\ip5-metriken-bauwesen\\src\\weight_and_bias\\wandb\\run-20210622_174809-bhjkxu1g</code><br/><br/>\n            "
     },
     "metadata": {},
     "output_type": "display_data"
    },
    {
     "data": {
      "text/plain": "<IPython.core.display.HTML object>",
      "text/html": "<br/>Waiting for W&B process to finish, PID 1812<br/>Program ended successfully."
     },
     "metadata": {},
     "output_type": "display_data"
    },
    {
     "data": {
      "text/plain": "VBox(children=(Label(value=' 0.00MB of 0.00MB uploaded (0.00MB deduped)\\r'), FloatProgress(value=1.0, max=1.0)…",
      "application/vnd.jupyter.widget-view+json": {
       "version_major": 2,
       "version_minor": 0,
       "model_id": "043c245aed47407cbbf7b5603d29cad1"
      }
     },
     "metadata": {},
     "output_type": "display_data"
    },
    {
     "data": {
      "text/plain": "<IPython.core.display.HTML object>",
      "text/html": "Find user logs for this run at: <code>D:\\Development\\FHNW\\ip5-metriken-bauwesen\\src\\weight_and_bias\\wandb\\run-20210622_174809-bhjkxu1g\\logs\\debug.log</code>"
     },
     "metadata": {},
     "output_type": "display_data"
    },
    {
     "data": {
      "text/plain": "<IPython.core.display.HTML object>",
      "text/html": "Find internal logs for this run at: <code>D:\\Development\\FHNW\\ip5-metriken-bauwesen\\src\\weight_and_bias\\wandb\\run-20210622_174809-bhjkxu1g\\logs\\debug-internal.log</code>"
     },
     "metadata": {},
     "output_type": "display_data"
    },
    {
     "data": {
      "text/plain": "<IPython.core.display.HTML object>",
      "text/html": "<h3>Run summary:</h3><br/><style>\n    table.wandb td:nth-child(1) { padding: 0 10px; text-align: right }\n    </style><table class=\"wandb\">\n<tr><td>r2</td><td>0.93977</td></tr><tr><td>_runtime</td><td>3</td></tr><tr><td>_timestamp</td><td>1624376892</td></tr><tr><td>_step</td><td>0</td></tr></table>"
     },
     "metadata": {},
     "output_type": "display_data"
    },
    {
     "data": {
      "text/plain": "<IPython.core.display.HTML object>",
      "text/html": "<h3>Run history:</h3><br/><style>\n    table.wandb td:nth-child(1) { padding: 0 10px; text-align: right }\n    </style><table class=\"wandb\">\n<tr><td>r2</td><td>▁</td></tr><tr><td>_runtime</td><td>▁</td></tr><tr><td>_timestamp</td><td>▁</td></tr><tr><td>_step</td><td>▁</td></tr></table><br/>"
     },
     "metadata": {},
     "output_type": "display_data"
    },
    {
     "data": {
      "text/plain": "<IPython.core.display.HTML object>",
      "text/html": "Synced 5 W&B file(s), 0 media file(s), 0 artifact file(s) and 0 other file(s)"
     },
     "metadata": {},
     "output_type": "display_data"
    },
    {
     "data": {
      "text/plain": "<IPython.core.display.HTML object>",
      "text/html": "\n                    <br/>Synced <strong style=\"color:#cdcd00\">upbeat-sweep-46</strong>: <a href=\"https://wandb.ai/devcore/Metriken%20Bauwesen%20Sweeps/runs/bhjkxu1g\" target=\"_blank\">https://wandb.ai/devcore/Metriken%20Bauwesen%20Sweeps/runs/bhjkxu1g</a><br/>\n                "
     },
     "metadata": {},
     "output_type": "display_data"
    },
    {
     "data": {
      "text/plain": "<IPython.core.display.HTML object>",
      "text/html": "\n                Tracking run with wandb version 0.10.32<br/>\n                Syncing run <strong style=\"color:#cdcd00\">unique-sweep-47</strong> to <a href=\"https://wandb.ai\" target=\"_blank\">Weights & Biases</a> <a href=\"https://docs.wandb.com/integrations/jupyter.html\" target=\"_blank\">(Documentation)</a>.<br/>\n                Project page: <a href=\"https://wandb.ai/devcore/Metriken%20Bauwesen%20Sweeps\" target=\"_blank\">https://wandb.ai/devcore/Metriken%20Bauwesen%20Sweeps</a><br/>\n                Sweep page: <a href=\"https://wandb.ai/devcore/Metriken%20Bauwesen%20Sweeps/sweeps/mkxhrc96\" target=\"_blank\">https://wandb.ai/devcore/Metriken%20Bauwesen%20Sweeps/sweeps/mkxhrc96</a><br/>\nRun page: <a href=\"https://wandb.ai/devcore/Metriken%20Bauwesen%20Sweeps/runs/ybxm90lg\" target=\"_blank\">https://wandb.ai/devcore/Metriken%20Bauwesen%20Sweeps/runs/ybxm90lg</a><br/>\n                Run data is saved locally in <code>D:\\Development\\FHNW\\ip5-metriken-bauwesen\\src\\weight_and_bias\\wandb\\run-20210622_174816-ybxm90lg</code><br/><br/>\n            "
     },
     "metadata": {},
     "output_type": "display_data"
    },
    {
     "data": {
      "text/plain": "<IPython.core.display.HTML object>",
      "text/html": "<br/>Waiting for W&B process to finish, PID 10324<br/>Program ended successfully."
     },
     "metadata": {},
     "output_type": "display_data"
    },
    {
     "data": {
      "text/plain": "VBox(children=(Label(value=' 0.00MB of 0.00MB uploaded (0.00MB deduped)\\r'), FloatProgress(value=1.0, max=1.0)…",
      "application/vnd.jupyter.widget-view+json": {
       "version_major": 2,
       "version_minor": 0,
       "model_id": "94fa6bb4049b4f048db9e29911e6c2ca"
      }
     },
     "metadata": {},
     "output_type": "display_data"
    },
    {
     "data": {
      "text/plain": "<IPython.core.display.HTML object>",
      "text/html": "Find user logs for this run at: <code>D:\\Development\\FHNW\\ip5-metriken-bauwesen\\src\\weight_and_bias\\wandb\\run-20210622_174816-ybxm90lg\\logs\\debug.log</code>"
     },
     "metadata": {},
     "output_type": "display_data"
    },
    {
     "data": {
      "text/plain": "<IPython.core.display.HTML object>",
      "text/html": "Find internal logs for this run at: <code>D:\\Development\\FHNW\\ip5-metriken-bauwesen\\src\\weight_and_bias\\wandb\\run-20210622_174816-ybxm90lg\\logs\\debug-internal.log</code>"
     },
     "metadata": {},
     "output_type": "display_data"
    },
    {
     "data": {
      "text/plain": "<IPython.core.display.HTML object>",
      "text/html": "<h3>Run summary:</h3><br/><style>\n    table.wandb td:nth-child(1) { padding: 0 10px; text-align: right }\n    </style><table class=\"wandb\">\n<tr><td>r2</td><td>0.9381</td></tr><tr><td>_runtime</td><td>2</td></tr><tr><td>_timestamp</td><td>1624376898</td></tr><tr><td>_step</td><td>0</td></tr></table>"
     },
     "metadata": {},
     "output_type": "display_data"
    },
    {
     "data": {
      "text/plain": "<IPython.core.display.HTML object>",
      "text/html": "<h3>Run history:</h3><br/><style>\n    table.wandb td:nth-child(1) { padding: 0 10px; text-align: right }\n    </style><table class=\"wandb\">\n<tr><td>r2</td><td>▁</td></tr><tr><td>_runtime</td><td>▁</td></tr><tr><td>_timestamp</td><td>▁</td></tr><tr><td>_step</td><td>▁</td></tr></table><br/>"
     },
     "metadata": {},
     "output_type": "display_data"
    },
    {
     "data": {
      "text/plain": "<IPython.core.display.HTML object>",
      "text/html": "Synced 5 W&B file(s), 0 media file(s), 0 artifact file(s) and 0 other file(s)"
     },
     "metadata": {},
     "output_type": "display_data"
    },
    {
     "data": {
      "text/plain": "<IPython.core.display.HTML object>",
      "text/html": "\n                    <br/>Synced <strong style=\"color:#cdcd00\">unique-sweep-47</strong>: <a href=\"https://wandb.ai/devcore/Metriken%20Bauwesen%20Sweeps/runs/ybxm90lg\" target=\"_blank\">https://wandb.ai/devcore/Metriken%20Bauwesen%20Sweeps/runs/ybxm90lg</a><br/>\n                "
     },
     "metadata": {},
     "output_type": "display_data"
    },
    {
     "data": {
      "text/plain": "<IPython.core.display.HTML object>",
      "text/html": "\n                Tracking run with wandb version 0.10.32<br/>\n                Syncing run <strong style=\"color:#cdcd00\">smart-sweep-48</strong> to <a href=\"https://wandb.ai\" target=\"_blank\">Weights & Biases</a> <a href=\"https://docs.wandb.com/integrations/jupyter.html\" target=\"_blank\">(Documentation)</a>.<br/>\n                Project page: <a href=\"https://wandb.ai/devcore/Metriken%20Bauwesen%20Sweeps\" target=\"_blank\">https://wandb.ai/devcore/Metriken%20Bauwesen%20Sweeps</a><br/>\n                Sweep page: <a href=\"https://wandb.ai/devcore/Metriken%20Bauwesen%20Sweeps/sweeps/mkxhrc96\" target=\"_blank\">https://wandb.ai/devcore/Metriken%20Bauwesen%20Sweeps/sweeps/mkxhrc96</a><br/>\nRun page: <a href=\"https://wandb.ai/devcore/Metriken%20Bauwesen%20Sweeps/runs/q758due4\" target=\"_blank\">https://wandb.ai/devcore/Metriken%20Bauwesen%20Sweeps/runs/q758due4</a><br/>\n                Run data is saved locally in <code>D:\\Development\\FHNW\\ip5-metriken-bauwesen\\src\\weight_and_bias\\wandb\\run-20210622_174822-q758due4</code><br/><br/>\n            "
     },
     "metadata": {},
     "output_type": "display_data"
    },
    {
     "data": {
      "text/plain": "<IPython.core.display.HTML object>",
      "text/html": "<br/>Waiting for W&B process to finish, PID 7012<br/>Program ended successfully."
     },
     "metadata": {},
     "output_type": "display_data"
    },
    {
     "data": {
      "text/plain": "VBox(children=(Label(value=' 0.00MB of 0.00MB uploaded (0.00MB deduped)\\r'), FloatProgress(value=1.0, max=1.0)…",
      "application/vnd.jupyter.widget-view+json": {
       "version_major": 2,
       "version_minor": 0,
       "model_id": "b62f82a4523f4fab945b35070b60aeb8"
      }
     },
     "metadata": {},
     "output_type": "display_data"
    },
    {
     "data": {
      "text/plain": "<IPython.core.display.HTML object>",
      "text/html": "Find user logs for this run at: <code>D:\\Development\\FHNW\\ip5-metriken-bauwesen\\src\\weight_and_bias\\wandb\\run-20210622_174822-q758due4\\logs\\debug.log</code>"
     },
     "metadata": {},
     "output_type": "display_data"
    },
    {
     "data": {
      "text/plain": "<IPython.core.display.HTML object>",
      "text/html": "Find internal logs for this run at: <code>D:\\Development\\FHNW\\ip5-metriken-bauwesen\\src\\weight_and_bias\\wandb\\run-20210622_174822-q758due4\\logs\\debug-internal.log</code>"
     },
     "metadata": {},
     "output_type": "display_data"
    },
    {
     "data": {
      "text/plain": "<IPython.core.display.HTML object>",
      "text/html": "<h3>Run summary:</h3><br/><style>\n    table.wandb td:nth-child(1) { padding: 0 10px; text-align: right }\n    </style><table class=\"wandb\">\n<tr><td>r2</td><td>0.9431</td></tr><tr><td>_runtime</td><td>1</td></tr><tr><td>_timestamp</td><td>1624376903</td></tr><tr><td>_step</td><td>0</td></tr></table>"
     },
     "metadata": {},
     "output_type": "display_data"
    },
    {
     "data": {
      "text/plain": "<IPython.core.display.HTML object>",
      "text/html": "<h3>Run history:</h3><br/><style>\n    table.wandb td:nth-child(1) { padding: 0 10px; text-align: right }\n    </style><table class=\"wandb\">\n<tr><td>r2</td><td>▁</td></tr><tr><td>_runtime</td><td>▁</td></tr><tr><td>_timestamp</td><td>▁</td></tr><tr><td>_step</td><td>▁</td></tr></table><br/>"
     },
     "metadata": {},
     "output_type": "display_data"
    },
    {
     "data": {
      "text/plain": "<IPython.core.display.HTML object>",
      "text/html": "Synced 5 W&B file(s), 0 media file(s), 0 artifact file(s) and 0 other file(s)"
     },
     "metadata": {},
     "output_type": "display_data"
    },
    {
     "data": {
      "text/plain": "<IPython.core.display.HTML object>",
      "text/html": "\n                    <br/>Synced <strong style=\"color:#cdcd00\">smart-sweep-48</strong>: <a href=\"https://wandb.ai/devcore/Metriken%20Bauwesen%20Sweeps/runs/q758due4\" target=\"_blank\">https://wandb.ai/devcore/Metriken%20Bauwesen%20Sweeps/runs/q758due4</a><br/>\n                "
     },
     "metadata": {},
     "output_type": "display_data"
    },
    {
     "data": {
      "text/plain": "<IPython.core.display.HTML object>",
      "text/html": "\n                Tracking run with wandb version 0.10.32<br/>\n                Syncing run <strong style=\"color:#cdcd00\">gallant-sweep-49</strong> to <a href=\"https://wandb.ai\" target=\"_blank\">Weights & Biases</a> <a href=\"https://docs.wandb.com/integrations/jupyter.html\" target=\"_blank\">(Documentation)</a>.<br/>\n                Project page: <a href=\"https://wandb.ai/devcore/Metriken%20Bauwesen%20Sweeps\" target=\"_blank\">https://wandb.ai/devcore/Metriken%20Bauwesen%20Sweeps</a><br/>\n                Sweep page: <a href=\"https://wandb.ai/devcore/Metriken%20Bauwesen%20Sweeps/sweeps/mkxhrc96\" target=\"_blank\">https://wandb.ai/devcore/Metriken%20Bauwesen%20Sweeps/sweeps/mkxhrc96</a><br/>\nRun page: <a href=\"https://wandb.ai/devcore/Metriken%20Bauwesen%20Sweeps/runs/8wm7nn8a\" target=\"_blank\">https://wandb.ai/devcore/Metriken%20Bauwesen%20Sweeps/runs/8wm7nn8a</a><br/>\n                Run data is saved locally in <code>D:\\Development\\FHNW\\ip5-metriken-bauwesen\\src\\weight_and_bias\\wandb\\run-20210622_174828-8wm7nn8a</code><br/><br/>\n            "
     },
     "metadata": {},
     "output_type": "display_data"
    },
    {
     "data": {
      "text/plain": "<IPython.core.display.HTML object>",
      "text/html": "<br/>Waiting for W&B process to finish, PID 12404<br/>Program ended successfully."
     },
     "metadata": {},
     "output_type": "display_data"
    },
    {
     "data": {
      "text/plain": "VBox(children=(Label(value=' 0.00MB of 0.00MB uploaded (0.00MB deduped)\\r'), FloatProgress(value=1.0, max=1.0)…",
      "application/vnd.jupyter.widget-view+json": {
       "version_major": 2,
       "version_minor": 0,
       "model_id": "997a629c50114398b43827fcb4c587b8"
      }
     },
     "metadata": {},
     "output_type": "display_data"
    },
    {
     "data": {
      "text/plain": "<IPython.core.display.HTML object>",
      "text/html": "Find user logs for this run at: <code>D:\\Development\\FHNW\\ip5-metriken-bauwesen\\src\\weight_and_bias\\wandb\\run-20210622_174828-8wm7nn8a\\logs\\debug.log</code>"
     },
     "metadata": {},
     "output_type": "display_data"
    },
    {
     "data": {
      "text/plain": "<IPython.core.display.HTML object>",
      "text/html": "Find internal logs for this run at: <code>D:\\Development\\FHNW\\ip5-metriken-bauwesen\\src\\weight_and_bias\\wandb\\run-20210622_174828-8wm7nn8a\\logs\\debug-internal.log</code>"
     },
     "metadata": {},
     "output_type": "display_data"
    },
    {
     "data": {
      "text/plain": "<IPython.core.display.HTML object>",
      "text/html": "<h3>Run summary:</h3><br/><style>\n    table.wandb td:nth-child(1) { padding: 0 10px; text-align: right }\n    </style><table class=\"wandb\">\n<tr><td>r2</td><td>0.93573</td></tr><tr><td>_runtime</td><td>2</td></tr><tr><td>_timestamp</td><td>1624376910</td></tr><tr><td>_step</td><td>0</td></tr></table>"
     },
     "metadata": {},
     "output_type": "display_data"
    },
    {
     "data": {
      "text/plain": "<IPython.core.display.HTML object>",
      "text/html": "<h3>Run history:</h3><br/><style>\n    table.wandb td:nth-child(1) { padding: 0 10px; text-align: right }\n    </style><table class=\"wandb\">\n<tr><td>r2</td><td>▁</td></tr><tr><td>_runtime</td><td>▁</td></tr><tr><td>_timestamp</td><td>▁</td></tr><tr><td>_step</td><td>▁</td></tr></table><br/>"
     },
     "metadata": {},
     "output_type": "display_data"
    },
    {
     "data": {
      "text/plain": "<IPython.core.display.HTML object>",
      "text/html": "Synced 5 W&B file(s), 0 media file(s), 0 artifact file(s) and 0 other file(s)"
     },
     "metadata": {},
     "output_type": "display_data"
    },
    {
     "data": {
      "text/plain": "<IPython.core.display.HTML object>",
      "text/html": "\n                    <br/>Synced <strong style=\"color:#cdcd00\">gallant-sweep-49</strong>: <a href=\"https://wandb.ai/devcore/Metriken%20Bauwesen%20Sweeps/runs/8wm7nn8a\" target=\"_blank\">https://wandb.ai/devcore/Metriken%20Bauwesen%20Sweeps/runs/8wm7nn8a</a><br/>\n                "
     },
     "metadata": {},
     "output_type": "display_data"
    },
    {
     "data": {
      "text/plain": "<IPython.core.display.HTML object>",
      "text/html": "\n                Tracking run with wandb version 0.10.32<br/>\n                Syncing run <strong style=\"color:#cdcd00\">vital-sweep-50</strong> to <a href=\"https://wandb.ai\" target=\"_blank\">Weights & Biases</a> <a href=\"https://docs.wandb.com/integrations/jupyter.html\" target=\"_blank\">(Documentation)</a>.<br/>\n                Project page: <a href=\"https://wandb.ai/devcore/Metriken%20Bauwesen%20Sweeps\" target=\"_blank\">https://wandb.ai/devcore/Metriken%20Bauwesen%20Sweeps</a><br/>\n                Sweep page: <a href=\"https://wandb.ai/devcore/Metriken%20Bauwesen%20Sweeps/sweeps/mkxhrc96\" target=\"_blank\">https://wandb.ai/devcore/Metriken%20Bauwesen%20Sweeps/sweeps/mkxhrc96</a><br/>\nRun page: <a href=\"https://wandb.ai/devcore/Metriken%20Bauwesen%20Sweeps/runs/hxid71h0\" target=\"_blank\">https://wandb.ai/devcore/Metriken%20Bauwesen%20Sweeps/runs/hxid71h0</a><br/>\n                Run data is saved locally in <code>D:\\Development\\FHNW\\ip5-metriken-bauwesen\\src\\weight_and_bias\\wandb\\run-20210622_174834-hxid71h0</code><br/><br/>\n            "
     },
     "metadata": {},
     "output_type": "display_data"
    },
    {
     "data": {
      "text/plain": "<IPython.core.display.HTML object>",
      "text/html": "<br/>Waiting for W&B process to finish, PID 15520<br/>Program ended successfully."
     },
     "metadata": {},
     "output_type": "display_data"
    },
    {
     "data": {
      "text/plain": "VBox(children=(Label(value=' 0.00MB of 0.00MB uploaded (0.00MB deduped)\\r'), FloatProgress(value=1.0, max=1.0)…",
      "application/vnd.jupyter.widget-view+json": {
       "version_major": 2,
       "version_minor": 0,
       "model_id": "27f1a945b80a40528b12f80d5950aee9"
      }
     },
     "metadata": {},
     "output_type": "display_data"
    },
    {
     "data": {
      "text/plain": "<IPython.core.display.HTML object>",
      "text/html": "Find user logs for this run at: <code>D:\\Development\\FHNW\\ip5-metriken-bauwesen\\src\\weight_and_bias\\wandb\\run-20210622_174834-hxid71h0\\logs\\debug.log</code>"
     },
     "metadata": {},
     "output_type": "display_data"
    },
    {
     "data": {
      "text/plain": "<IPython.core.display.HTML object>",
      "text/html": "Find internal logs for this run at: <code>D:\\Development\\FHNW\\ip5-metriken-bauwesen\\src\\weight_and_bias\\wandb\\run-20210622_174834-hxid71h0\\logs\\debug-internal.log</code>"
     },
     "metadata": {},
     "output_type": "display_data"
    },
    {
     "data": {
      "text/plain": "<IPython.core.display.HTML object>",
      "text/html": "<h3>Run summary:</h3><br/><style>\n    table.wandb td:nth-child(1) { padding: 0 10px; text-align: right }\n    </style><table class=\"wandb\">\n<tr><td>r2</td><td>0.94752</td></tr><tr><td>_runtime</td><td>2</td></tr><tr><td>_timestamp</td><td>1624376916</td></tr><tr><td>_step</td><td>0</td></tr></table>"
     },
     "metadata": {},
     "output_type": "display_data"
    },
    {
     "data": {
      "text/plain": "<IPython.core.display.HTML object>",
      "text/html": "<h3>Run history:</h3><br/><style>\n    table.wandb td:nth-child(1) { padding: 0 10px; text-align: right }\n    </style><table class=\"wandb\">\n<tr><td>r2</td><td>▁</td></tr><tr><td>_runtime</td><td>▁</td></tr><tr><td>_timestamp</td><td>▁</td></tr><tr><td>_step</td><td>▁</td></tr></table><br/>"
     },
     "metadata": {},
     "output_type": "display_data"
    },
    {
     "data": {
      "text/plain": "<IPython.core.display.HTML object>",
      "text/html": "Synced 5 W&B file(s), 0 media file(s), 0 artifact file(s) and 0 other file(s)"
     },
     "metadata": {},
     "output_type": "display_data"
    },
    {
     "data": {
      "text/plain": "<IPython.core.display.HTML object>",
      "text/html": "\n                    <br/>Synced <strong style=\"color:#cdcd00\">vital-sweep-50</strong>: <a href=\"https://wandb.ai/devcore/Metriken%20Bauwesen%20Sweeps/runs/hxid71h0\" target=\"_blank\">https://wandb.ai/devcore/Metriken%20Bauwesen%20Sweeps/runs/hxid71h0</a><br/>\n                "
     },
     "metadata": {},
     "output_type": "display_data"
    },
    {
     "data": {
      "text/plain": "<IPython.core.display.HTML object>",
      "text/html": "\n                Tracking run with wandb version 0.10.32<br/>\n                Syncing run <strong style=\"color:#cdcd00\">faithful-sweep-51</strong> to <a href=\"https://wandb.ai\" target=\"_blank\">Weights & Biases</a> <a href=\"https://docs.wandb.com/integrations/jupyter.html\" target=\"_blank\">(Documentation)</a>.<br/>\n                Project page: <a href=\"https://wandb.ai/devcore/Metriken%20Bauwesen%20Sweeps\" target=\"_blank\">https://wandb.ai/devcore/Metriken%20Bauwesen%20Sweeps</a><br/>\n                Sweep page: <a href=\"https://wandb.ai/devcore/Metriken%20Bauwesen%20Sweeps/sweeps/mkxhrc96\" target=\"_blank\">https://wandb.ai/devcore/Metriken%20Bauwesen%20Sweeps/sweeps/mkxhrc96</a><br/>\nRun page: <a href=\"https://wandb.ai/devcore/Metriken%20Bauwesen%20Sweeps/runs/f1n4tw9y\" target=\"_blank\">https://wandb.ai/devcore/Metriken%20Bauwesen%20Sweeps/runs/f1n4tw9y</a><br/>\n                Run data is saved locally in <code>D:\\Development\\FHNW\\ip5-metriken-bauwesen\\src\\weight_and_bias\\wandb\\run-20210622_174840-f1n4tw9y</code><br/><br/>\n            "
     },
     "metadata": {},
     "output_type": "display_data"
    },
    {
     "data": {
      "text/plain": "<IPython.core.display.HTML object>",
      "text/html": "<br/>Waiting for W&B process to finish, PID 22512<br/>Program ended successfully."
     },
     "metadata": {},
     "output_type": "display_data"
    },
    {
     "data": {
      "text/plain": "VBox(children=(Label(value=' 0.00MB of 0.00MB uploaded (0.00MB deduped)\\r'), FloatProgress(value=1.0, max=1.0)…",
      "application/vnd.jupyter.widget-view+json": {
       "version_major": 2,
       "version_minor": 0,
       "model_id": "4ed5b258f8a748168f092e552b0f265c"
      }
     },
     "metadata": {},
     "output_type": "display_data"
    },
    {
     "data": {
      "text/plain": "<IPython.core.display.HTML object>",
      "text/html": "Find user logs for this run at: <code>D:\\Development\\FHNW\\ip5-metriken-bauwesen\\src\\weight_and_bias\\wandb\\run-20210622_174840-f1n4tw9y\\logs\\debug.log</code>"
     },
     "metadata": {},
     "output_type": "display_data"
    },
    {
     "data": {
      "text/plain": "<IPython.core.display.HTML object>",
      "text/html": "Find internal logs for this run at: <code>D:\\Development\\FHNW\\ip5-metriken-bauwesen\\src\\weight_and_bias\\wandb\\run-20210622_174840-f1n4tw9y\\logs\\debug-internal.log</code>"
     },
     "metadata": {},
     "output_type": "display_data"
    },
    {
     "data": {
      "text/plain": "<IPython.core.display.HTML object>",
      "text/html": "<h3>Run summary:</h3><br/><style>\n    table.wandb td:nth-child(1) { padding: 0 10px; text-align: right }\n    </style><table class=\"wandb\">\n<tr><td>r2</td><td>0.94055</td></tr><tr><td>_runtime</td><td>2</td></tr><tr><td>_timestamp</td><td>1624376922</td></tr><tr><td>_step</td><td>0</td></tr></table>"
     },
     "metadata": {},
     "output_type": "display_data"
    },
    {
     "data": {
      "text/plain": "<IPython.core.display.HTML object>",
      "text/html": "<h3>Run history:</h3><br/><style>\n    table.wandb td:nth-child(1) { padding: 0 10px; text-align: right }\n    </style><table class=\"wandb\">\n<tr><td>r2</td><td>▁</td></tr><tr><td>_runtime</td><td>▁</td></tr><tr><td>_timestamp</td><td>▁</td></tr><tr><td>_step</td><td>▁</td></tr></table><br/>"
     },
     "metadata": {},
     "output_type": "display_data"
    },
    {
     "data": {
      "text/plain": "<IPython.core.display.HTML object>",
      "text/html": "Synced 5 W&B file(s), 0 media file(s), 0 artifact file(s) and 0 other file(s)"
     },
     "metadata": {},
     "output_type": "display_data"
    },
    {
     "data": {
      "text/plain": "<IPython.core.display.HTML object>",
      "text/html": "\n                    <br/>Synced <strong style=\"color:#cdcd00\">faithful-sweep-51</strong>: <a href=\"https://wandb.ai/devcore/Metriken%20Bauwesen%20Sweeps/runs/f1n4tw9y\" target=\"_blank\">https://wandb.ai/devcore/Metriken%20Bauwesen%20Sweeps/runs/f1n4tw9y</a><br/>\n                "
     },
     "metadata": {},
     "output_type": "display_data"
    },
    {
     "data": {
      "text/plain": "<IPython.core.display.HTML object>",
      "text/html": "\n                Tracking run with wandb version 0.10.32<br/>\n                Syncing run <strong style=\"color:#cdcd00\">glad-sweep-52</strong> to <a href=\"https://wandb.ai\" target=\"_blank\">Weights & Biases</a> <a href=\"https://docs.wandb.com/integrations/jupyter.html\" target=\"_blank\">(Documentation)</a>.<br/>\n                Project page: <a href=\"https://wandb.ai/devcore/Metriken%20Bauwesen%20Sweeps\" target=\"_blank\">https://wandb.ai/devcore/Metriken%20Bauwesen%20Sweeps</a><br/>\n                Sweep page: <a href=\"https://wandb.ai/devcore/Metriken%20Bauwesen%20Sweeps/sweeps/mkxhrc96\" target=\"_blank\">https://wandb.ai/devcore/Metriken%20Bauwesen%20Sweeps/sweeps/mkxhrc96</a><br/>\nRun page: <a href=\"https://wandb.ai/devcore/Metriken%20Bauwesen%20Sweeps/runs/i0bhifuc\" target=\"_blank\">https://wandb.ai/devcore/Metriken%20Bauwesen%20Sweeps/runs/i0bhifuc</a><br/>\n                Run data is saved locally in <code>D:\\Development\\FHNW\\ip5-metriken-bauwesen\\src\\weight_and_bias\\wandb\\run-20210622_174846-i0bhifuc</code><br/><br/>\n            "
     },
     "metadata": {},
     "output_type": "display_data"
    },
    {
     "data": {
      "text/plain": "<IPython.core.display.HTML object>",
      "text/html": "<br/>Waiting for W&B process to finish, PID 15884<br/>Program ended successfully."
     },
     "metadata": {},
     "output_type": "display_data"
    },
    {
     "data": {
      "text/plain": "VBox(children=(Label(value=' 0.00MB of 0.00MB uploaded (0.00MB deduped)\\r'), FloatProgress(value=1.0, max=1.0)…",
      "application/vnd.jupyter.widget-view+json": {
       "version_major": 2,
       "version_minor": 0,
       "model_id": "1c960f368f8749eeac5f0e4c5b1be0cc"
      }
     },
     "metadata": {},
     "output_type": "display_data"
    },
    {
     "data": {
      "text/plain": "<IPython.core.display.HTML object>",
      "text/html": "Find user logs for this run at: <code>D:\\Development\\FHNW\\ip5-metriken-bauwesen\\src\\weight_and_bias\\wandb\\run-20210622_174846-i0bhifuc\\logs\\debug.log</code>"
     },
     "metadata": {},
     "output_type": "display_data"
    },
    {
     "data": {
      "text/plain": "<IPython.core.display.HTML object>",
      "text/html": "Find internal logs for this run at: <code>D:\\Development\\FHNW\\ip5-metriken-bauwesen\\src\\weight_and_bias\\wandb\\run-20210622_174846-i0bhifuc\\logs\\debug-internal.log</code>"
     },
     "metadata": {},
     "output_type": "display_data"
    },
    {
     "data": {
      "text/plain": "<IPython.core.display.HTML object>",
      "text/html": "<h3>Run summary:</h3><br/><style>\n    table.wandb td:nth-child(1) { padding: 0 10px; text-align: right }\n    </style><table class=\"wandb\">\n<tr><td>r2</td><td>0.94636</td></tr><tr><td>_runtime</td><td>1</td></tr><tr><td>_timestamp</td><td>1624376927</td></tr><tr><td>_step</td><td>0</td></tr></table>"
     },
     "metadata": {},
     "output_type": "display_data"
    },
    {
     "data": {
      "text/plain": "<IPython.core.display.HTML object>",
      "text/html": "<h3>Run history:</h3><br/><style>\n    table.wandb td:nth-child(1) { padding: 0 10px; text-align: right }\n    </style><table class=\"wandb\">\n<tr><td>r2</td><td>▁</td></tr><tr><td>_runtime</td><td>▁</td></tr><tr><td>_timestamp</td><td>▁</td></tr><tr><td>_step</td><td>▁</td></tr></table><br/>"
     },
     "metadata": {},
     "output_type": "display_data"
    },
    {
     "data": {
      "text/plain": "<IPython.core.display.HTML object>",
      "text/html": "Synced 5 W&B file(s), 0 media file(s), 0 artifact file(s) and 0 other file(s)"
     },
     "metadata": {},
     "output_type": "display_data"
    },
    {
     "data": {
      "text/plain": "<IPython.core.display.HTML object>",
      "text/html": "\n                    <br/>Synced <strong style=\"color:#cdcd00\">glad-sweep-52</strong>: <a href=\"https://wandb.ai/devcore/Metriken%20Bauwesen%20Sweeps/runs/i0bhifuc\" target=\"_blank\">https://wandb.ai/devcore/Metriken%20Bauwesen%20Sweeps/runs/i0bhifuc</a><br/>\n                "
     },
     "metadata": {},
     "output_type": "display_data"
    },
    {
     "data": {
      "text/plain": "<IPython.core.display.HTML object>",
      "text/html": "\n                Tracking run with wandb version 0.10.32<br/>\n                Syncing run <strong style=\"color:#cdcd00\">cerulean-sweep-53</strong> to <a href=\"https://wandb.ai\" target=\"_blank\">Weights & Biases</a> <a href=\"https://docs.wandb.com/integrations/jupyter.html\" target=\"_blank\">(Documentation)</a>.<br/>\n                Project page: <a href=\"https://wandb.ai/devcore/Metriken%20Bauwesen%20Sweeps\" target=\"_blank\">https://wandb.ai/devcore/Metriken%20Bauwesen%20Sweeps</a><br/>\n                Sweep page: <a href=\"https://wandb.ai/devcore/Metriken%20Bauwesen%20Sweeps/sweeps/mkxhrc96\" target=\"_blank\">https://wandb.ai/devcore/Metriken%20Bauwesen%20Sweeps/sweeps/mkxhrc96</a><br/>\nRun page: <a href=\"https://wandb.ai/devcore/Metriken%20Bauwesen%20Sweeps/runs/rqs9b8qt\" target=\"_blank\">https://wandb.ai/devcore/Metriken%20Bauwesen%20Sweeps/runs/rqs9b8qt</a><br/>\n                Run data is saved locally in <code>D:\\Development\\FHNW\\ip5-metriken-bauwesen\\src\\weight_and_bias\\wandb\\run-20210622_174851-rqs9b8qt</code><br/><br/>\n            "
     },
     "metadata": {},
     "output_type": "display_data"
    },
    {
     "data": {
      "text/plain": "<IPython.core.display.HTML object>",
      "text/html": "<br/>Waiting for W&B process to finish, PID 8308<br/>Program ended successfully."
     },
     "metadata": {},
     "output_type": "display_data"
    },
    {
     "data": {
      "text/plain": "VBox(children=(Label(value=' 0.00MB of 0.00MB uploaded (0.00MB deduped)\\r'), FloatProgress(value=1.0, max=1.0)…",
      "application/vnd.jupyter.widget-view+json": {
       "version_major": 2,
       "version_minor": 0,
       "model_id": "07c8f53a554148e0a0fb6bbbdb43792f"
      }
     },
     "metadata": {},
     "output_type": "display_data"
    },
    {
     "data": {
      "text/plain": "<IPython.core.display.HTML object>",
      "text/html": "Find user logs for this run at: <code>D:\\Development\\FHNW\\ip5-metriken-bauwesen\\src\\weight_and_bias\\wandb\\run-20210622_174851-rqs9b8qt\\logs\\debug.log</code>"
     },
     "metadata": {},
     "output_type": "display_data"
    },
    {
     "data": {
      "text/plain": "<IPython.core.display.HTML object>",
      "text/html": "Find internal logs for this run at: <code>D:\\Development\\FHNW\\ip5-metriken-bauwesen\\src\\weight_and_bias\\wandb\\run-20210622_174851-rqs9b8qt\\logs\\debug-internal.log</code>"
     },
     "metadata": {},
     "output_type": "display_data"
    },
    {
     "data": {
      "text/plain": "<IPython.core.display.HTML object>",
      "text/html": "<h3>Run summary:</h3><br/><style>\n    table.wandb td:nth-child(1) { padding: 0 10px; text-align: right }\n    </style><table class=\"wandb\">\n<tr><td>r2</td><td>0.94191</td></tr><tr><td>_runtime</td><td>1</td></tr><tr><td>_timestamp</td><td>1624376933</td></tr><tr><td>_step</td><td>0</td></tr></table>"
     },
     "metadata": {},
     "output_type": "display_data"
    },
    {
     "data": {
      "text/plain": "<IPython.core.display.HTML object>",
      "text/html": "<h3>Run history:</h3><br/><style>\n    table.wandb td:nth-child(1) { padding: 0 10px; text-align: right }\n    </style><table class=\"wandb\">\n<tr><td>r2</td><td>▁</td></tr><tr><td>_runtime</td><td>▁</td></tr><tr><td>_timestamp</td><td>▁</td></tr><tr><td>_step</td><td>▁</td></tr></table><br/>"
     },
     "metadata": {},
     "output_type": "display_data"
    },
    {
     "data": {
      "text/plain": "<IPython.core.display.HTML object>",
      "text/html": "Synced 5 W&B file(s), 0 media file(s), 0 artifact file(s) and 0 other file(s)"
     },
     "metadata": {},
     "output_type": "display_data"
    },
    {
     "data": {
      "text/plain": "<IPython.core.display.HTML object>",
      "text/html": "\n                    <br/>Synced <strong style=\"color:#cdcd00\">cerulean-sweep-53</strong>: <a href=\"https://wandb.ai/devcore/Metriken%20Bauwesen%20Sweeps/runs/rqs9b8qt\" target=\"_blank\">https://wandb.ai/devcore/Metriken%20Bauwesen%20Sweeps/runs/rqs9b8qt</a><br/>\n                "
     },
     "metadata": {},
     "output_type": "display_data"
    },
    {
     "data": {
      "text/plain": "<IPython.core.display.HTML object>",
      "text/html": "\n                Tracking run with wandb version 0.10.32<br/>\n                Syncing run <strong style=\"color:#cdcd00\">light-sweep-54</strong> to <a href=\"https://wandb.ai\" target=\"_blank\">Weights & Biases</a> <a href=\"https://docs.wandb.com/integrations/jupyter.html\" target=\"_blank\">(Documentation)</a>.<br/>\n                Project page: <a href=\"https://wandb.ai/devcore/Metriken%20Bauwesen%20Sweeps\" target=\"_blank\">https://wandb.ai/devcore/Metriken%20Bauwesen%20Sweeps</a><br/>\n                Sweep page: <a href=\"https://wandb.ai/devcore/Metriken%20Bauwesen%20Sweeps/sweeps/mkxhrc96\" target=\"_blank\">https://wandb.ai/devcore/Metriken%20Bauwesen%20Sweeps/sweeps/mkxhrc96</a><br/>\nRun page: <a href=\"https://wandb.ai/devcore/Metriken%20Bauwesen%20Sweeps/runs/chov16bc\" target=\"_blank\">https://wandb.ai/devcore/Metriken%20Bauwesen%20Sweeps/runs/chov16bc</a><br/>\n                Run data is saved locally in <code>D:\\Development\\FHNW\\ip5-metriken-bauwesen\\src\\weight_and_bias\\wandb\\run-20210622_174857-chov16bc</code><br/><br/>\n            "
     },
     "metadata": {},
     "output_type": "display_data"
    },
    {
     "data": {
      "text/plain": "<IPython.core.display.HTML object>",
      "text/html": "<br/>Waiting for W&B process to finish, PID 5332<br/>Program ended successfully."
     },
     "metadata": {},
     "output_type": "display_data"
    },
    {
     "data": {
      "text/plain": "VBox(children=(Label(value=' 0.00MB of 0.00MB uploaded (0.00MB deduped)\\r'), FloatProgress(value=1.0, max=1.0)…",
      "application/vnd.jupyter.widget-view+json": {
       "version_major": 2,
       "version_minor": 0,
       "model_id": "ce97996fac1845c386647cb3ad9e0fdb"
      }
     },
     "metadata": {},
     "output_type": "display_data"
    },
    {
     "data": {
      "text/plain": "<IPython.core.display.HTML object>",
      "text/html": "Find user logs for this run at: <code>D:\\Development\\FHNW\\ip5-metriken-bauwesen\\src\\weight_and_bias\\wandb\\run-20210622_174857-chov16bc\\logs\\debug.log</code>"
     },
     "metadata": {},
     "output_type": "display_data"
    },
    {
     "data": {
      "text/plain": "<IPython.core.display.HTML object>",
      "text/html": "Find internal logs for this run at: <code>D:\\Development\\FHNW\\ip5-metriken-bauwesen\\src\\weight_and_bias\\wandb\\run-20210622_174857-chov16bc\\logs\\debug-internal.log</code>"
     },
     "metadata": {},
     "output_type": "display_data"
    },
    {
     "data": {
      "text/plain": "<IPython.core.display.HTML object>",
      "text/html": "<h3>Run summary:</h3><br/><style>\n    table.wandb td:nth-child(1) { padding: 0 10px; text-align: right }\n    </style><table class=\"wandb\">\n<tr><td>r2</td><td>0.9441</td></tr><tr><td>_runtime</td><td>3</td></tr><tr><td>_timestamp</td><td>1624376940</td></tr><tr><td>_step</td><td>0</td></tr></table>"
     },
     "metadata": {},
     "output_type": "display_data"
    },
    {
     "data": {
      "text/plain": "<IPython.core.display.HTML object>",
      "text/html": "<h3>Run history:</h3><br/><style>\n    table.wandb td:nth-child(1) { padding: 0 10px; text-align: right }\n    </style><table class=\"wandb\">\n<tr><td>r2</td><td>▁</td></tr><tr><td>_runtime</td><td>▁</td></tr><tr><td>_timestamp</td><td>▁</td></tr><tr><td>_step</td><td>▁</td></tr></table><br/>"
     },
     "metadata": {},
     "output_type": "display_data"
    },
    {
     "data": {
      "text/plain": "<IPython.core.display.HTML object>",
      "text/html": "Synced 5 W&B file(s), 0 media file(s), 0 artifact file(s) and 0 other file(s)"
     },
     "metadata": {},
     "output_type": "display_data"
    },
    {
     "data": {
      "text/plain": "<IPython.core.display.HTML object>",
      "text/html": "\n                    <br/>Synced <strong style=\"color:#cdcd00\">light-sweep-54</strong>: <a href=\"https://wandb.ai/devcore/Metriken%20Bauwesen%20Sweeps/runs/chov16bc\" target=\"_blank\">https://wandb.ai/devcore/Metriken%20Bauwesen%20Sweeps/runs/chov16bc</a><br/>\n                "
     },
     "metadata": {},
     "output_type": "display_data"
    },
    {
     "data": {
      "text/plain": "<IPython.core.display.HTML object>",
      "text/html": "\n                Tracking run with wandb version 0.10.32<br/>\n                Syncing run <strong style=\"color:#cdcd00\">dulcet-sweep-55</strong> to <a href=\"https://wandb.ai\" target=\"_blank\">Weights & Biases</a> <a href=\"https://docs.wandb.com/integrations/jupyter.html\" target=\"_blank\">(Documentation)</a>.<br/>\n                Project page: <a href=\"https://wandb.ai/devcore/Metriken%20Bauwesen%20Sweeps\" target=\"_blank\">https://wandb.ai/devcore/Metriken%20Bauwesen%20Sweeps</a><br/>\n                Sweep page: <a href=\"https://wandb.ai/devcore/Metriken%20Bauwesen%20Sweeps/sweeps/mkxhrc96\" target=\"_blank\">https://wandb.ai/devcore/Metriken%20Bauwesen%20Sweeps/sweeps/mkxhrc96</a><br/>\nRun page: <a href=\"https://wandb.ai/devcore/Metriken%20Bauwesen%20Sweeps/runs/zdl7mtrq\" target=\"_blank\">https://wandb.ai/devcore/Metriken%20Bauwesen%20Sweeps/runs/zdl7mtrq</a><br/>\n                Run data is saved locally in <code>D:\\Development\\FHNW\\ip5-metriken-bauwesen\\src\\weight_and_bias\\wandb\\run-20210622_174903-zdl7mtrq</code><br/><br/>\n            "
     },
     "metadata": {},
     "output_type": "display_data"
    },
    {
     "data": {
      "text/plain": "<IPython.core.display.HTML object>",
      "text/html": "<br/>Waiting for W&B process to finish, PID 18004<br/>Program ended successfully."
     },
     "metadata": {},
     "output_type": "display_data"
    },
    {
     "data": {
      "text/plain": "VBox(children=(Label(value=' 0.00MB of 0.00MB uploaded (0.00MB deduped)\\r'), FloatProgress(value=1.0, max=1.0)…",
      "application/vnd.jupyter.widget-view+json": {
       "version_major": 2,
       "version_minor": 0,
       "model_id": "c6b337d7e7434776862ea8667a78202e"
      }
     },
     "metadata": {},
     "output_type": "display_data"
    },
    {
     "data": {
      "text/plain": "<IPython.core.display.HTML object>",
      "text/html": "Find user logs for this run at: <code>D:\\Development\\FHNW\\ip5-metriken-bauwesen\\src\\weight_and_bias\\wandb\\run-20210622_174903-zdl7mtrq\\logs\\debug.log</code>"
     },
     "metadata": {},
     "output_type": "display_data"
    },
    {
     "data": {
      "text/plain": "<IPython.core.display.HTML object>",
      "text/html": "Find internal logs for this run at: <code>D:\\Development\\FHNW\\ip5-metriken-bauwesen\\src\\weight_and_bias\\wandb\\run-20210622_174903-zdl7mtrq\\logs\\debug-internal.log</code>"
     },
     "metadata": {},
     "output_type": "display_data"
    },
    {
     "data": {
      "text/plain": "<IPython.core.display.HTML object>",
      "text/html": "<h3>Run summary:</h3><br/><style>\n    table.wandb td:nth-child(1) { padding: 0 10px; text-align: right }\n    </style><table class=\"wandb\">\n<tr><td>r2</td><td>0.92114</td></tr><tr><td>_runtime</td><td>2</td></tr><tr><td>_timestamp</td><td>1624376945</td></tr><tr><td>_step</td><td>0</td></tr></table>"
     },
     "metadata": {},
     "output_type": "display_data"
    },
    {
     "data": {
      "text/plain": "<IPython.core.display.HTML object>",
      "text/html": "<h3>Run history:</h3><br/><style>\n    table.wandb td:nth-child(1) { padding: 0 10px; text-align: right }\n    </style><table class=\"wandb\">\n<tr><td>r2</td><td>▁</td></tr><tr><td>_runtime</td><td>▁</td></tr><tr><td>_timestamp</td><td>▁</td></tr><tr><td>_step</td><td>▁</td></tr></table><br/>"
     },
     "metadata": {},
     "output_type": "display_data"
    },
    {
     "data": {
      "text/plain": "<IPython.core.display.HTML object>",
      "text/html": "Synced 5 W&B file(s), 0 media file(s), 0 artifact file(s) and 0 other file(s)"
     },
     "metadata": {},
     "output_type": "display_data"
    },
    {
     "data": {
      "text/plain": "<IPython.core.display.HTML object>",
      "text/html": "\n                    <br/>Synced <strong style=\"color:#cdcd00\">dulcet-sweep-55</strong>: <a href=\"https://wandb.ai/devcore/Metriken%20Bauwesen%20Sweeps/runs/zdl7mtrq\" target=\"_blank\">https://wandb.ai/devcore/Metriken%20Bauwesen%20Sweeps/runs/zdl7mtrq</a><br/>\n                "
     },
     "metadata": {},
     "output_type": "display_data"
    },
    {
     "data": {
      "text/plain": "<IPython.core.display.HTML object>",
      "text/html": "\n                Tracking run with wandb version 0.10.32<br/>\n                Syncing run <strong style=\"color:#cdcd00\">playful-sweep-56</strong> to <a href=\"https://wandb.ai\" target=\"_blank\">Weights & Biases</a> <a href=\"https://docs.wandb.com/integrations/jupyter.html\" target=\"_blank\">(Documentation)</a>.<br/>\n                Project page: <a href=\"https://wandb.ai/devcore/Metriken%20Bauwesen%20Sweeps\" target=\"_blank\">https://wandb.ai/devcore/Metriken%20Bauwesen%20Sweeps</a><br/>\n                Sweep page: <a href=\"https://wandb.ai/devcore/Metriken%20Bauwesen%20Sweeps/sweeps/mkxhrc96\" target=\"_blank\">https://wandb.ai/devcore/Metriken%20Bauwesen%20Sweeps/sweeps/mkxhrc96</a><br/>\nRun page: <a href=\"https://wandb.ai/devcore/Metriken%20Bauwesen%20Sweeps/runs/jkmwkmqh\" target=\"_blank\">https://wandb.ai/devcore/Metriken%20Bauwesen%20Sweeps/runs/jkmwkmqh</a><br/>\n                Run data is saved locally in <code>D:\\Development\\FHNW\\ip5-metriken-bauwesen\\src\\weight_and_bias\\wandb\\run-20210622_174909-jkmwkmqh</code><br/><br/>\n            "
     },
     "metadata": {},
     "output_type": "display_data"
    },
    {
     "data": {
      "text/plain": "<IPython.core.display.HTML object>",
      "text/html": "<br/>Waiting for W&B process to finish, PID 9736<br/>Program ended successfully."
     },
     "metadata": {},
     "output_type": "display_data"
    },
    {
     "data": {
      "text/plain": "VBox(children=(Label(value=' 0.00MB of 0.00MB uploaded (0.00MB deduped)\\r'), FloatProgress(value=1.0, max=1.0)…",
      "application/vnd.jupyter.widget-view+json": {
       "version_major": 2,
       "version_minor": 0,
       "model_id": "8575898fa9474ef4972704cef0e0514c"
      }
     },
     "metadata": {},
     "output_type": "display_data"
    },
    {
     "data": {
      "text/plain": "<IPython.core.display.HTML object>",
      "text/html": "Find user logs for this run at: <code>D:\\Development\\FHNW\\ip5-metriken-bauwesen\\src\\weight_and_bias\\wandb\\run-20210622_174909-jkmwkmqh\\logs\\debug.log</code>"
     },
     "metadata": {},
     "output_type": "display_data"
    },
    {
     "data": {
      "text/plain": "<IPython.core.display.HTML object>",
      "text/html": "Find internal logs for this run at: <code>D:\\Development\\FHNW\\ip5-metriken-bauwesen\\src\\weight_and_bias\\wandb\\run-20210622_174909-jkmwkmqh\\logs\\debug-internal.log</code>"
     },
     "metadata": {},
     "output_type": "display_data"
    },
    {
     "data": {
      "text/plain": "<IPython.core.display.HTML object>",
      "text/html": "<h3>Run summary:</h3><br/><style>\n    table.wandb td:nth-child(1) { padding: 0 10px; text-align: right }\n    </style><table class=\"wandb\">\n<tr><td>r2</td><td>0.76219</td></tr><tr><td>_runtime</td><td>1</td></tr><tr><td>_timestamp</td><td>1624376950</td></tr><tr><td>_step</td><td>0</td></tr></table>"
     },
     "metadata": {},
     "output_type": "display_data"
    },
    {
     "data": {
      "text/plain": "<IPython.core.display.HTML object>",
      "text/html": "<h3>Run history:</h3><br/><style>\n    table.wandb td:nth-child(1) { padding: 0 10px; text-align: right }\n    </style><table class=\"wandb\">\n<tr><td>r2</td><td>▁</td></tr><tr><td>_runtime</td><td>▁</td></tr><tr><td>_timestamp</td><td>▁</td></tr><tr><td>_step</td><td>▁</td></tr></table><br/>"
     },
     "metadata": {},
     "output_type": "display_data"
    },
    {
     "data": {
      "text/plain": "<IPython.core.display.HTML object>",
      "text/html": "Synced 5 W&B file(s), 0 media file(s), 0 artifact file(s) and 0 other file(s)"
     },
     "metadata": {},
     "output_type": "display_data"
    },
    {
     "data": {
      "text/plain": "<IPython.core.display.HTML object>",
      "text/html": "\n                    <br/>Synced <strong style=\"color:#cdcd00\">playful-sweep-56</strong>: <a href=\"https://wandb.ai/devcore/Metriken%20Bauwesen%20Sweeps/runs/jkmwkmqh\" target=\"_blank\">https://wandb.ai/devcore/Metriken%20Bauwesen%20Sweeps/runs/jkmwkmqh</a><br/>\n                "
     },
     "metadata": {},
     "output_type": "display_data"
    },
    {
     "data": {
      "text/plain": "<IPython.core.display.HTML object>",
      "text/html": "\n                Tracking run with wandb version 0.10.32<br/>\n                Syncing run <strong style=\"color:#cdcd00\">prime-sweep-57</strong> to <a href=\"https://wandb.ai\" target=\"_blank\">Weights & Biases</a> <a href=\"https://docs.wandb.com/integrations/jupyter.html\" target=\"_blank\">(Documentation)</a>.<br/>\n                Project page: <a href=\"https://wandb.ai/devcore/Metriken%20Bauwesen%20Sweeps\" target=\"_blank\">https://wandb.ai/devcore/Metriken%20Bauwesen%20Sweeps</a><br/>\n                Sweep page: <a href=\"https://wandb.ai/devcore/Metriken%20Bauwesen%20Sweeps/sweeps/mkxhrc96\" target=\"_blank\">https://wandb.ai/devcore/Metriken%20Bauwesen%20Sweeps/sweeps/mkxhrc96</a><br/>\nRun page: <a href=\"https://wandb.ai/devcore/Metriken%20Bauwesen%20Sweeps/runs/k41uvqop\" target=\"_blank\">https://wandb.ai/devcore/Metriken%20Bauwesen%20Sweeps/runs/k41uvqop</a><br/>\n                Run data is saved locally in <code>D:\\Development\\FHNW\\ip5-metriken-bauwesen\\src\\weight_and_bias\\wandb\\run-20210622_174915-k41uvqop</code><br/><br/>\n            "
     },
     "metadata": {},
     "output_type": "display_data"
    },
    {
     "data": {
      "text/plain": "<IPython.core.display.HTML object>",
      "text/html": "<br/>Waiting for W&B process to finish, PID 20892<br/>Program ended successfully."
     },
     "metadata": {},
     "output_type": "display_data"
    },
    {
     "data": {
      "text/plain": "VBox(children=(Label(value=' 0.00MB of 0.00MB uploaded (0.00MB deduped)\\r'), FloatProgress(value=1.0, max=1.0)…",
      "application/vnd.jupyter.widget-view+json": {
       "version_major": 2,
       "version_minor": 0,
       "model_id": "e3dcb80168564b91b9736d0ec2e78fe8"
      }
     },
     "metadata": {},
     "output_type": "display_data"
    },
    {
     "data": {
      "text/plain": "<IPython.core.display.HTML object>",
      "text/html": "Find user logs for this run at: <code>D:\\Development\\FHNW\\ip5-metriken-bauwesen\\src\\weight_and_bias\\wandb\\run-20210622_174915-k41uvqop\\logs\\debug.log</code>"
     },
     "metadata": {},
     "output_type": "display_data"
    },
    {
     "data": {
      "text/plain": "<IPython.core.display.HTML object>",
      "text/html": "Find internal logs for this run at: <code>D:\\Development\\FHNW\\ip5-metriken-bauwesen\\src\\weight_and_bias\\wandb\\run-20210622_174915-k41uvqop\\logs\\debug-internal.log</code>"
     },
     "metadata": {},
     "output_type": "display_data"
    },
    {
     "data": {
      "text/plain": "<IPython.core.display.HTML object>",
      "text/html": "<h3>Run summary:</h3><br/><style>\n    table.wandb td:nth-child(1) { padding: 0 10px; text-align: right }\n    </style><table class=\"wandb\">\n<tr><td>r2</td><td>0.94325</td></tr><tr><td>_runtime</td><td>2</td></tr><tr><td>_timestamp</td><td>1624376957</td></tr><tr><td>_step</td><td>0</td></tr></table>"
     },
     "metadata": {},
     "output_type": "display_data"
    },
    {
     "data": {
      "text/plain": "<IPython.core.display.HTML object>",
      "text/html": "<h3>Run history:</h3><br/><style>\n    table.wandb td:nth-child(1) { padding: 0 10px; text-align: right }\n    </style><table class=\"wandb\">\n<tr><td>r2</td><td>▁</td></tr><tr><td>_runtime</td><td>▁</td></tr><tr><td>_timestamp</td><td>▁</td></tr><tr><td>_step</td><td>▁</td></tr></table><br/>"
     },
     "metadata": {},
     "output_type": "display_data"
    },
    {
     "data": {
      "text/plain": "<IPython.core.display.HTML object>",
      "text/html": "Synced 5 W&B file(s), 0 media file(s), 0 artifact file(s) and 0 other file(s)"
     },
     "metadata": {},
     "output_type": "display_data"
    },
    {
     "data": {
      "text/plain": "<IPython.core.display.HTML object>",
      "text/html": "\n                    <br/>Synced <strong style=\"color:#cdcd00\">prime-sweep-57</strong>: <a href=\"https://wandb.ai/devcore/Metriken%20Bauwesen%20Sweeps/runs/k41uvqop\" target=\"_blank\">https://wandb.ai/devcore/Metriken%20Bauwesen%20Sweeps/runs/k41uvqop</a><br/>\n                "
     },
     "metadata": {},
     "output_type": "display_data"
    },
    {
     "data": {
      "text/plain": "<IPython.core.display.HTML object>",
      "text/html": "\n                Tracking run with wandb version 0.10.32<br/>\n                Syncing run <strong style=\"color:#cdcd00\">vocal-sweep-58</strong> to <a href=\"https://wandb.ai\" target=\"_blank\">Weights & Biases</a> <a href=\"https://docs.wandb.com/integrations/jupyter.html\" target=\"_blank\">(Documentation)</a>.<br/>\n                Project page: <a href=\"https://wandb.ai/devcore/Metriken%20Bauwesen%20Sweeps\" target=\"_blank\">https://wandb.ai/devcore/Metriken%20Bauwesen%20Sweeps</a><br/>\n                Sweep page: <a href=\"https://wandb.ai/devcore/Metriken%20Bauwesen%20Sweeps/sweeps/mkxhrc96\" target=\"_blank\">https://wandb.ai/devcore/Metriken%20Bauwesen%20Sweeps/sweeps/mkxhrc96</a><br/>\nRun page: <a href=\"https://wandb.ai/devcore/Metriken%20Bauwesen%20Sweeps/runs/whjxln8m\" target=\"_blank\">https://wandb.ai/devcore/Metriken%20Bauwesen%20Sweeps/runs/whjxln8m</a><br/>\n                Run data is saved locally in <code>D:\\Development\\FHNW\\ip5-metriken-bauwesen\\src\\weight_and_bias\\wandb\\run-20210622_174921-whjxln8m</code><br/><br/>\n            "
     },
     "metadata": {},
     "output_type": "display_data"
    },
    {
     "data": {
      "text/plain": "<IPython.core.display.HTML object>",
      "text/html": "<br/>Waiting for W&B process to finish, PID 21752<br/>Program ended successfully."
     },
     "metadata": {},
     "output_type": "display_data"
    },
    {
     "data": {
      "text/plain": "VBox(children=(Label(value=' 0.00MB of 0.00MB uploaded (0.00MB deduped)\\r'), FloatProgress(value=1.0, max=1.0)…",
      "application/vnd.jupyter.widget-view+json": {
       "version_major": 2,
       "version_minor": 0,
       "model_id": "776c3844fbd9427bb0f9f00b55f40751"
      }
     },
     "metadata": {},
     "output_type": "display_data"
    },
    {
     "data": {
      "text/plain": "<IPython.core.display.HTML object>",
      "text/html": "Find user logs for this run at: <code>D:\\Development\\FHNW\\ip5-metriken-bauwesen\\src\\weight_and_bias\\wandb\\run-20210622_174921-whjxln8m\\logs\\debug.log</code>"
     },
     "metadata": {},
     "output_type": "display_data"
    },
    {
     "data": {
      "text/plain": "<IPython.core.display.HTML object>",
      "text/html": "Find internal logs for this run at: <code>D:\\Development\\FHNW\\ip5-metriken-bauwesen\\src\\weight_and_bias\\wandb\\run-20210622_174921-whjxln8m\\logs\\debug-internal.log</code>"
     },
     "metadata": {},
     "output_type": "display_data"
    },
    {
     "data": {
      "text/plain": "<IPython.core.display.HTML object>",
      "text/html": "<h3>Run summary:</h3><br/><style>\n    table.wandb td:nth-child(1) { padding: 0 10px; text-align: right }\n    </style><table class=\"wandb\">\n<tr><td>r2</td><td>0.94578</td></tr><tr><td>_runtime</td><td>2</td></tr><tr><td>_timestamp</td><td>1624376963</td></tr><tr><td>_step</td><td>0</td></tr></table>"
     },
     "metadata": {},
     "output_type": "display_data"
    },
    {
     "data": {
      "text/plain": "<IPython.core.display.HTML object>",
      "text/html": "<h3>Run history:</h3><br/><style>\n    table.wandb td:nth-child(1) { padding: 0 10px; text-align: right }\n    </style><table class=\"wandb\">\n<tr><td>r2</td><td>▁</td></tr><tr><td>_runtime</td><td>▁</td></tr><tr><td>_timestamp</td><td>▁</td></tr><tr><td>_step</td><td>▁</td></tr></table><br/>"
     },
     "metadata": {},
     "output_type": "display_data"
    },
    {
     "data": {
      "text/plain": "<IPython.core.display.HTML object>",
      "text/html": "Synced 5 W&B file(s), 0 media file(s), 0 artifact file(s) and 0 other file(s)"
     },
     "metadata": {},
     "output_type": "display_data"
    },
    {
     "data": {
      "text/plain": "<IPython.core.display.HTML object>",
      "text/html": "\n                    <br/>Synced <strong style=\"color:#cdcd00\">vocal-sweep-58</strong>: <a href=\"https://wandb.ai/devcore/Metriken%20Bauwesen%20Sweeps/runs/whjxln8m\" target=\"_blank\">https://wandb.ai/devcore/Metriken%20Bauwesen%20Sweeps/runs/whjxln8m</a><br/>\n                "
     },
     "metadata": {},
     "output_type": "display_data"
    },
    {
     "data": {
      "text/plain": "<IPython.core.display.HTML object>",
      "text/html": "\n                Tracking run with wandb version 0.10.32<br/>\n                Syncing run <strong style=\"color:#cdcd00\">earnest-sweep-59</strong> to <a href=\"https://wandb.ai\" target=\"_blank\">Weights & Biases</a> <a href=\"https://docs.wandb.com/integrations/jupyter.html\" target=\"_blank\">(Documentation)</a>.<br/>\n                Project page: <a href=\"https://wandb.ai/devcore/Metriken%20Bauwesen%20Sweeps\" target=\"_blank\">https://wandb.ai/devcore/Metriken%20Bauwesen%20Sweeps</a><br/>\n                Sweep page: <a href=\"https://wandb.ai/devcore/Metriken%20Bauwesen%20Sweeps/sweeps/mkxhrc96\" target=\"_blank\">https://wandb.ai/devcore/Metriken%20Bauwesen%20Sweeps/sweeps/mkxhrc96</a><br/>\nRun page: <a href=\"https://wandb.ai/devcore/Metriken%20Bauwesen%20Sweeps/runs/7pqahbbx\" target=\"_blank\">https://wandb.ai/devcore/Metriken%20Bauwesen%20Sweeps/runs/7pqahbbx</a><br/>\n                Run data is saved locally in <code>D:\\Development\\FHNW\\ip5-metriken-bauwesen\\src\\weight_and_bias\\wandb\\run-20210622_174927-7pqahbbx</code><br/><br/>\n            "
     },
     "metadata": {},
     "output_type": "display_data"
    },
    {
     "data": {
      "text/plain": "<IPython.core.display.HTML object>",
      "text/html": "<br/>Waiting for W&B process to finish, PID 16532<br/>Program ended successfully."
     },
     "metadata": {},
     "output_type": "display_data"
    },
    {
     "data": {
      "text/plain": "VBox(children=(Label(value=' 0.00MB of 0.00MB uploaded (0.00MB deduped)\\r'), FloatProgress(value=1.0, max=1.0)…",
      "application/vnd.jupyter.widget-view+json": {
       "version_major": 2,
       "version_minor": 0,
       "model_id": "fc7b018ae7a74e039d2bc54c0b52f257"
      }
     },
     "metadata": {},
     "output_type": "display_data"
    },
    {
     "data": {
      "text/plain": "<IPython.core.display.HTML object>",
      "text/html": "Find user logs for this run at: <code>D:\\Development\\FHNW\\ip5-metriken-bauwesen\\src\\weight_and_bias\\wandb\\run-20210622_174927-7pqahbbx\\logs\\debug.log</code>"
     },
     "metadata": {},
     "output_type": "display_data"
    },
    {
     "data": {
      "text/plain": "<IPython.core.display.HTML object>",
      "text/html": "Find internal logs for this run at: <code>D:\\Development\\FHNW\\ip5-metriken-bauwesen\\src\\weight_and_bias\\wandb\\run-20210622_174927-7pqahbbx\\logs\\debug-internal.log</code>"
     },
     "metadata": {},
     "output_type": "display_data"
    },
    {
     "data": {
      "text/plain": "<IPython.core.display.HTML object>",
      "text/html": "<h3>Run summary:</h3><br/><style>\n    table.wandb td:nth-child(1) { padding: 0 10px; text-align: right }\n    </style><table class=\"wandb\">\n<tr><td>r2</td><td>0.94442</td></tr><tr><td>_runtime</td><td>1</td></tr><tr><td>_timestamp</td><td>1624376968</td></tr><tr><td>_step</td><td>0</td></tr></table>"
     },
     "metadata": {},
     "output_type": "display_data"
    },
    {
     "data": {
      "text/plain": "<IPython.core.display.HTML object>",
      "text/html": "<h3>Run history:</h3><br/><style>\n    table.wandb td:nth-child(1) { padding: 0 10px; text-align: right }\n    </style><table class=\"wandb\">\n<tr><td>r2</td><td>▁</td></tr><tr><td>_runtime</td><td>▁</td></tr><tr><td>_timestamp</td><td>▁</td></tr><tr><td>_step</td><td>▁</td></tr></table><br/>"
     },
     "metadata": {},
     "output_type": "display_data"
    },
    {
     "data": {
      "text/plain": "<IPython.core.display.HTML object>",
      "text/html": "Synced 5 W&B file(s), 0 media file(s), 0 artifact file(s) and 0 other file(s)"
     },
     "metadata": {},
     "output_type": "display_data"
    },
    {
     "data": {
      "text/plain": "<IPython.core.display.HTML object>",
      "text/html": "\n                    <br/>Synced <strong style=\"color:#cdcd00\">earnest-sweep-59</strong>: <a href=\"https://wandb.ai/devcore/Metriken%20Bauwesen%20Sweeps/runs/7pqahbbx\" target=\"_blank\">https://wandb.ai/devcore/Metriken%20Bauwesen%20Sweeps/runs/7pqahbbx</a><br/>\n                "
     },
     "metadata": {},
     "output_type": "display_data"
    },
    {
     "data": {
      "text/plain": "<IPython.core.display.HTML object>",
      "text/html": "\n                Tracking run with wandb version 0.10.32<br/>\n                Syncing run <strong style=\"color:#cdcd00\">fancy-sweep-60</strong> to <a href=\"https://wandb.ai\" target=\"_blank\">Weights & Biases</a> <a href=\"https://docs.wandb.com/integrations/jupyter.html\" target=\"_blank\">(Documentation)</a>.<br/>\n                Project page: <a href=\"https://wandb.ai/devcore/Metriken%20Bauwesen%20Sweeps\" target=\"_blank\">https://wandb.ai/devcore/Metriken%20Bauwesen%20Sweeps</a><br/>\n                Sweep page: <a href=\"https://wandb.ai/devcore/Metriken%20Bauwesen%20Sweeps/sweeps/mkxhrc96\" target=\"_blank\">https://wandb.ai/devcore/Metriken%20Bauwesen%20Sweeps/sweeps/mkxhrc96</a><br/>\nRun page: <a href=\"https://wandb.ai/devcore/Metriken%20Bauwesen%20Sweeps/runs/hvs5crww\" target=\"_blank\">https://wandb.ai/devcore/Metriken%20Bauwesen%20Sweeps/runs/hvs5crww</a><br/>\n                Run data is saved locally in <code>D:\\Development\\FHNW\\ip5-metriken-bauwesen\\src\\weight_and_bias\\wandb\\run-20210622_174932-hvs5crww</code><br/><br/>\n            "
     },
     "metadata": {},
     "output_type": "display_data"
    },
    {
     "data": {
      "text/plain": "<IPython.core.display.HTML object>",
      "text/html": "<br/>Waiting for W&B process to finish, PID 3196<br/>Program ended successfully."
     },
     "metadata": {},
     "output_type": "display_data"
    },
    {
     "data": {
      "text/plain": "VBox(children=(Label(value=' 0.00MB of 0.00MB uploaded (0.00MB deduped)\\r'), FloatProgress(value=1.0, max=1.0)…",
      "application/vnd.jupyter.widget-view+json": {
       "version_major": 2,
       "version_minor": 0,
       "model_id": "ab3f98ee2f2a4d42871a5719d76d2b35"
      }
     },
     "metadata": {},
     "output_type": "display_data"
    },
    {
     "data": {
      "text/plain": "<IPython.core.display.HTML object>",
      "text/html": "Find user logs for this run at: <code>D:\\Development\\FHNW\\ip5-metriken-bauwesen\\src\\weight_and_bias\\wandb\\run-20210622_174932-hvs5crww\\logs\\debug.log</code>"
     },
     "metadata": {},
     "output_type": "display_data"
    },
    {
     "data": {
      "text/plain": "<IPython.core.display.HTML object>",
      "text/html": "Find internal logs for this run at: <code>D:\\Development\\FHNW\\ip5-metriken-bauwesen\\src\\weight_and_bias\\wandb\\run-20210622_174932-hvs5crww\\logs\\debug-internal.log</code>"
     },
     "metadata": {},
     "output_type": "display_data"
    },
    {
     "data": {
      "text/plain": "<IPython.core.display.HTML object>",
      "text/html": "<h3>Run summary:</h3><br/><style>\n    table.wandb td:nth-child(1) { padding: 0 10px; text-align: right }\n    </style><table class=\"wandb\">\n<tr><td>r2</td><td>0.91566</td></tr><tr><td>_runtime</td><td>2</td></tr><tr><td>_timestamp</td><td>1624376974</td></tr><tr><td>_step</td><td>0</td></tr></table>"
     },
     "metadata": {},
     "output_type": "display_data"
    },
    {
     "data": {
      "text/plain": "<IPython.core.display.HTML object>",
      "text/html": "<h3>Run history:</h3><br/><style>\n    table.wandb td:nth-child(1) { padding: 0 10px; text-align: right }\n    </style><table class=\"wandb\">\n<tr><td>r2</td><td>▁</td></tr><tr><td>_runtime</td><td>▁</td></tr><tr><td>_timestamp</td><td>▁</td></tr><tr><td>_step</td><td>▁</td></tr></table><br/>"
     },
     "metadata": {},
     "output_type": "display_data"
    },
    {
     "data": {
      "text/plain": "<IPython.core.display.HTML object>",
      "text/html": "Synced 5 W&B file(s), 0 media file(s), 0 artifact file(s) and 0 other file(s)"
     },
     "metadata": {},
     "output_type": "display_data"
    },
    {
     "data": {
      "text/plain": "<IPython.core.display.HTML object>",
      "text/html": "\n                    <br/>Synced <strong style=\"color:#cdcd00\">fancy-sweep-60</strong>: <a href=\"https://wandb.ai/devcore/Metriken%20Bauwesen%20Sweeps/runs/hvs5crww\" target=\"_blank\">https://wandb.ai/devcore/Metriken%20Bauwesen%20Sweeps/runs/hvs5crww</a><br/>\n                "
     },
     "metadata": {},
     "output_type": "display_data"
    }
   ],
   "source": [
    "from sklearn.ensemble import GradientBoostingRegressor\n",
    "from sklearn.model_selection import cross_validate, RepeatedKFold\n",
    "\n",
    "import src.package.importer as im\n",
    "import src.package.ml_helper as ml_helper\n",
    "from numpy import mean\n",
    "\n",
    "def train():\n",
    "    config = {'model': 'GradientBoost', 'run': 'soft-rain-64'}\n",
    "    with wandb.init(config=config):\n",
    "        # load dataset\n",
    "        df = im.get_extended_dataset('../package/datasets/train_set.csv')\n",
    "        df = ml_helper.remove_outliers(df, factor=2.3)\n",
    "        X, y = ml_helper.hnf_dataset_full(df)\n",
    "\n",
    "        # model with hyperparameter\n",
    "        config = wandb.config\n",
    "        regr = GradientBoostingRegressor(random_state=0,\n",
    "                                         learning_rate=config.learning_rate,\n",
    "                                         subsample=config.subsample,\n",
    "                                         n_estimators=config.n_estimators,\n",
    "                                         max_depth=config.max_depth,\n",
    "                                         min_samples_split=config.min_samples_split,)\n",
    "\n",
    "        # evaluate with cv and log to wandb\n",
    "        cv=RepeatedKFold(n_splits=5, n_repeats=3, random_state=0)\n",
    "        scores = cross_validate(regr, X, y, cv=cv, scoring=['r2'])\n",
    "        print(scores)\n",
    "        wandb.log({'r2': mean(scores['test_r2'])})\n",
    "\n",
    "wandb.agent(sweep_id, train, count=60)"
   ],
   "metadata": {
    "collapsed": false,
    "pycharm": {
     "name": "#%%\n"
    }
   }
  }
 ],
 "metadata": {
  "kernelspec": {
   "name": "python3",
   "language": "python",
   "display_name": "Python 3"
  },
  "language_info": {
   "codemirror_mode": {
    "name": "ipython",
    "version": 2
   },
   "file_extension": ".py",
   "mimetype": "text/x-python",
   "name": "python",
   "nbconvert_exporter": "python",
   "pygments_lexer": "ipython2",
   "version": "2.7.6"
  }
 },
 "nbformat": 4,
 "nbformat_minor": 0
}