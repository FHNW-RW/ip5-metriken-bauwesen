{
 "cells": [
  {
   "cell_type": "markdown",
   "source": [
    "## Weight & Biases\n",
    "Hyperparameter Tuning mit wandb"
   ],
   "metadata": {
    "collapsed": false
   }
  },
  {
   "cell_type": "markdown",
   "source": [
    "### Sweep Config\n",
    "Konfiguration des wand sweep mit den gewünschten Hyperparameter"
   ],
   "metadata": {
    "collapsed": false
   }
  },
  {
   "cell_type": "code",
   "execution_count": 1,
   "outputs": [
    {
     "name": "stderr",
     "output_type": "stream",
     "text": [
      "\u001B[34m\u001B[1mwandb\u001B[0m: Currently logged in as: \u001B[33mdevcore\u001B[0m (use `wandb login --relogin` to force relogin)\n"
     ]
    },
    {
     "name": "stdout",
     "output_type": "stream",
     "text": [
      "Create sweep with ID: u3louhfl\n",
      "Sweep URL: https://wandb.ai/devcore/Metriken%20Bauwesen%20Sweeps/sweeps/u3louhfl\n"
     ]
    }
   ],
   "source": [
    "import wandb\n",
    "\n",
    "wandb.login()\n",
    "\n",
    "sweep_config = {\n",
    "  'name' : 'GradientBoosting-Loss-GF-LAD',\n",
    "  'method' : 'random',\n",
    "  'parameters' : {\n",
    "    'n_estimators' : {\n",
    "      'values' : [256, 512, 768, 1024]\n",
    "    },\n",
    "    'learning_rate' :{\n",
    "      'min': 0.01,\n",
    "      'max': 0.15\n",
    "    },\n",
    "    'subsample' :{\n",
    "      'min': 0.5,\n",
    "      'max': 0.85\n",
    "    },\n",
    "    'max_depth' :{\n",
    "      'values' : [4, 5, 6, 7, 8, 10, 12]\n",
    "    },\n",
    "    'min_samples_split' :{\n",
    "      'values' : [4, 5, 6, 8, 10]\n",
    "    }\n",
    "  }\n",
    "}\n",
    "\n",
    "sweep_id = wandb.sweep(sweep_config, project='Metriken Bauwesen Sweeps', entity='devcore')"
   ],
   "metadata": {
    "collapsed": false,
    "pycharm": {
     "name": "#%%\n"
    }
   }
  },
  {
   "cell_type": "markdown",
   "source": [
    "### Run Sweep\n",
    "Sweep auf Agent laufen lassen für Hyperparameter-Tuning und Logging auf wandb"
   ],
   "metadata": {
    "collapsed": false
   }
  },
  {
   "cell_type": "code",
   "execution_count": 2,
   "outputs": [
    {
     "name": "stdout",
     "output_type": "stream",
     "text": [
      "Location: D:\\Development\\FHNW\\ip5-metriken-bauwesen\\export\\cluster_means.joblib\n",
      "Location: D:\\Development\\FHNW\\ip5-metriken-bauwesen\\export\\fitted_pipeline.joblib\n"
     ]
    },
    {
     "name": "stderr",
     "output_type": "stream",
     "text": [
      "\u001B[34m\u001B[1mwandb\u001B[0m: Agent Starting Run: 90okubuo with config:\n",
      "\u001B[34m\u001B[1mwandb\u001B[0m: \tlearning_rate: 0.07514669200842505\n",
      "\u001B[34m\u001B[1mwandb\u001B[0m: \tmax_depth: 6\n",
      "\u001B[34m\u001B[1mwandb\u001B[0m: \tmin_samples_split: 10\n",
      "\u001B[34m\u001B[1mwandb\u001B[0m: \tn_estimators: 512\n",
      "\u001B[34m\u001B[1mwandb\u001B[0m: \tsubsample: 0.5981791615951815\n",
      "\u001B[34m\u001B[1mwandb\u001B[0m: wandb version 0.12.0 is available!  To upgrade, please run:\n",
      "\u001B[34m\u001B[1mwandb\u001B[0m:  $ pip install wandb --upgrade\n",
      "\u001B[34m\u001B[1mwandb\u001B[0m: Agent Starting Run: mpe241al with config:\n",
      "\u001B[34m\u001B[1mwandb\u001B[0m: \tlearning_rate: 0.03551437250733531\n",
      "\u001B[34m\u001B[1mwandb\u001B[0m: \tmax_depth: 8\n",
      "\u001B[34m\u001B[1mwandb\u001B[0m: \tmin_samples_split: 5\n",
      "\u001B[34m\u001B[1mwandb\u001B[0m: \tn_estimators: 1024\n",
      "\u001B[34m\u001B[1mwandb\u001B[0m: \tsubsample: 0.5279522934661188\n",
      "\u001B[34m\u001B[1mwandb\u001B[0m: wandb version 0.12.0 is available!  To upgrade, please run:\n",
      "\u001B[34m\u001B[1mwandb\u001B[0m:  $ pip install wandb --upgrade\n",
      "\u001B[34m\u001B[1mwandb\u001B[0m: Agent Starting Run: ut14wyfd with config:\n",
      "\u001B[34m\u001B[1mwandb\u001B[0m: \tlearning_rate: 0.12018630867620815\n",
      "\u001B[34m\u001B[1mwandb\u001B[0m: \tmax_depth: 5\n",
      "\u001B[34m\u001B[1mwandb\u001B[0m: \tmin_samples_split: 8\n",
      "\u001B[34m\u001B[1mwandb\u001B[0m: \tn_estimators: 1024\n",
      "\u001B[34m\u001B[1mwandb\u001B[0m: \tsubsample: 0.5485592573706465\n",
      "\u001B[34m\u001B[1mwandb\u001B[0m: wandb version 0.12.0 is available!  To upgrade, please run:\n",
      "\u001B[34m\u001B[1mwandb\u001B[0m:  $ pip install wandb --upgrade\n",
      "\u001B[34m\u001B[1mwandb\u001B[0m: Agent Starting Run: jk7optah with config:\n",
      "\u001B[34m\u001B[1mwandb\u001B[0m: \tlearning_rate: 0.062062574712723965\n",
      "\u001B[34m\u001B[1mwandb\u001B[0m: \tmax_depth: 6\n",
      "\u001B[34m\u001B[1mwandb\u001B[0m: \tmin_samples_split: 10\n",
      "\u001B[34m\u001B[1mwandb\u001B[0m: \tn_estimators: 1024\n",
      "\u001B[34m\u001B[1mwandb\u001B[0m: \tsubsample: 0.7153353106611366\n",
      "\u001B[34m\u001B[1mwandb\u001B[0m: wandb version 0.12.0 is available!  To upgrade, please run:\n",
      "\u001B[34m\u001B[1mwandb\u001B[0m:  $ pip install wandb --upgrade\n",
      "\u001B[34m\u001B[1mwandb\u001B[0m: Agent Starting Run: fmsmad59 with config:\n",
      "\u001B[34m\u001B[1mwandb\u001B[0m: \tlearning_rate: 0.08447153752959487\n",
      "\u001B[34m\u001B[1mwandb\u001B[0m: \tmax_depth: 7\n",
      "\u001B[34m\u001B[1mwandb\u001B[0m: \tmin_samples_split: 8\n",
      "\u001B[34m\u001B[1mwandb\u001B[0m: \tn_estimators: 1024\n",
      "\u001B[34m\u001B[1mwandb\u001B[0m: \tsubsample: 0.8250096202862003\n",
      "\u001B[34m\u001B[1mwandb\u001B[0m: wandb version 0.12.0 is available!  To upgrade, please run:\n",
      "\u001B[34m\u001B[1mwandb\u001B[0m:  $ pip install wandb --upgrade\n",
      "\u001B[34m\u001B[1mwandb\u001B[0m: Agent Starting Run: qi6yb1d9 with config:\n",
      "\u001B[34m\u001B[1mwandb\u001B[0m: \tlearning_rate: 0.125357568625655\n",
      "\u001B[34m\u001B[1mwandb\u001B[0m: \tmax_depth: 4\n",
      "\u001B[34m\u001B[1mwandb\u001B[0m: \tmin_samples_split: 8\n",
      "\u001B[34m\u001B[1mwandb\u001B[0m: \tn_estimators: 768\n",
      "\u001B[34m\u001B[1mwandb\u001B[0m: \tsubsample: 0.7896114551012412\n",
      "\u001B[34m\u001B[1mwandb\u001B[0m: wandb version 0.12.0 is available!  To upgrade, please run:\n",
      "\u001B[34m\u001B[1mwandb\u001B[0m:  $ pip install wandb --upgrade\n",
      "\u001B[34m\u001B[1mwandb\u001B[0m: Agent Starting Run: rc3tx9rz with config:\n",
      "\u001B[34m\u001B[1mwandb\u001B[0m: \tlearning_rate: 0.045517569863856175\n",
      "\u001B[34m\u001B[1mwandb\u001B[0m: \tmax_depth: 7\n",
      "\u001B[34m\u001B[1mwandb\u001B[0m: \tmin_samples_split: 4\n",
      "\u001B[34m\u001B[1mwandb\u001B[0m: \tn_estimators: 256\n",
      "\u001B[34m\u001B[1mwandb\u001B[0m: \tsubsample: 0.5910187538297156\n",
      "\u001B[34m\u001B[1mwandb\u001B[0m: wandb version 0.12.0 is available!  To upgrade, please run:\n",
      "\u001B[34m\u001B[1mwandb\u001B[0m:  $ pip install wandb --upgrade\n",
      "\u001B[34m\u001B[1mwandb\u001B[0m: Agent Starting Run: 86emhjbk with config:\n",
      "\u001B[34m\u001B[1mwandb\u001B[0m: \tlearning_rate: 0.01558561801407278\n",
      "\u001B[34m\u001B[1mwandb\u001B[0m: \tmax_depth: 6\n",
      "\u001B[34m\u001B[1mwandb\u001B[0m: \tmin_samples_split: 5\n",
      "\u001B[34m\u001B[1mwandb\u001B[0m: \tn_estimators: 768\n",
      "\u001B[34m\u001B[1mwandb\u001B[0m: \tsubsample: 0.7608941060342875\n",
      "\u001B[34m\u001B[1mwandb\u001B[0m: wandb version 0.12.0 is available!  To upgrade, please run:\n",
      "\u001B[34m\u001B[1mwandb\u001B[0m:  $ pip install wandb --upgrade\n",
      "\u001B[34m\u001B[1mwandb\u001B[0m: Agent Starting Run: zfko0zxb with config:\n",
      "\u001B[34m\u001B[1mwandb\u001B[0m: \tlearning_rate: 0.012685119806791427\n",
      "\u001B[34m\u001B[1mwandb\u001B[0m: \tmax_depth: 10\n",
      "\u001B[34m\u001B[1mwandb\u001B[0m: \tmin_samples_split: 8\n",
      "\u001B[34m\u001B[1mwandb\u001B[0m: \tn_estimators: 512\n",
      "\u001B[34m\u001B[1mwandb\u001B[0m: \tsubsample: 0.7755653171801877\n",
      "\u001B[34m\u001B[1mwandb\u001B[0m: wandb version 0.12.0 is available!  To upgrade, please run:\n",
      "\u001B[34m\u001B[1mwandb\u001B[0m:  $ pip install wandb --upgrade\n",
      "\u001B[34m\u001B[1mwandb\u001B[0m: Agent Starting Run: q8gbpmyx with config:\n",
      "\u001B[34m\u001B[1mwandb\u001B[0m: \tlearning_rate: 0.09475642046800478\n",
      "\u001B[34m\u001B[1mwandb\u001B[0m: \tmax_depth: 10\n",
      "\u001B[34m\u001B[1mwandb\u001B[0m: \tmin_samples_split: 6\n",
      "\u001B[34m\u001B[1mwandb\u001B[0m: \tn_estimators: 1024\n",
      "\u001B[34m\u001B[1mwandb\u001B[0m: \tsubsample: 0.535695232779507\n",
      "\u001B[34m\u001B[1mwandb\u001B[0m: wandb version 0.12.0 is available!  To upgrade, please run:\n",
      "\u001B[34m\u001B[1mwandb\u001B[0m:  $ pip install wandb --upgrade\n",
      "\u001B[34m\u001B[1mwandb\u001B[0m: Agent Starting Run: 9pxudeso with config:\n",
      "\u001B[34m\u001B[1mwandb\u001B[0m: \tlearning_rate: 0.055157870468239986\n",
      "\u001B[34m\u001B[1mwandb\u001B[0m: \tmax_depth: 10\n",
      "\u001B[34m\u001B[1mwandb\u001B[0m: \tmin_samples_split: 5\n",
      "\u001B[34m\u001B[1mwandb\u001B[0m: \tn_estimators: 768\n",
      "\u001B[34m\u001B[1mwandb\u001B[0m: \tsubsample: 0.6084185380194193\n",
      "\u001B[34m\u001B[1mwandb\u001B[0m: wandb version 0.12.0 is available!  To upgrade, please run:\n",
      "\u001B[34m\u001B[1mwandb\u001B[0m:  $ pip install wandb --upgrade\n",
      "\u001B[34m\u001B[1mwandb\u001B[0m: Agent Starting Run: 84irrblf with config:\n",
      "\u001B[34m\u001B[1mwandb\u001B[0m: \tlearning_rate: 0.1357384864283616\n",
      "\u001B[34m\u001B[1mwandb\u001B[0m: \tmax_depth: 6\n",
      "\u001B[34m\u001B[1mwandb\u001B[0m: \tmin_samples_split: 5\n",
      "\u001B[34m\u001B[1mwandb\u001B[0m: \tn_estimators: 1024\n",
      "\u001B[34m\u001B[1mwandb\u001B[0m: \tsubsample: 0.5384471030466964\n",
      "\u001B[34m\u001B[1mwandb\u001B[0m: wandb version 0.12.0 is available!  To upgrade, please run:\n",
      "\u001B[34m\u001B[1mwandb\u001B[0m:  $ pip install wandb --upgrade\n",
      "\u001B[34m\u001B[1mwandb\u001B[0m: Agent Starting Run: qqdgoxvw with config:\n",
      "\u001B[34m\u001B[1mwandb\u001B[0m: \tlearning_rate: 0.1301180975960925\n",
      "\u001B[34m\u001B[1mwandb\u001B[0m: \tmax_depth: 12\n",
      "\u001B[34m\u001B[1mwandb\u001B[0m: \tmin_samples_split: 4\n",
      "\u001B[34m\u001B[1mwandb\u001B[0m: \tn_estimators: 256\n",
      "\u001B[34m\u001B[1mwandb\u001B[0m: \tsubsample: 0.6559678711676655\n",
      "\u001B[34m\u001B[1mwandb\u001B[0m: wandb version 0.12.0 is available!  To upgrade, please run:\n",
      "\u001B[34m\u001B[1mwandb\u001B[0m:  $ pip install wandb --upgrade\n",
      "\u001B[34m\u001B[1mwandb\u001B[0m: Agent Starting Run: yjxgozy3 with config:\n",
      "\u001B[34m\u001B[1mwandb\u001B[0m: \tlearning_rate: 0.06109110030572428\n",
      "\u001B[34m\u001B[1mwandb\u001B[0m: \tmax_depth: 5\n",
      "\u001B[34m\u001B[1mwandb\u001B[0m: \tmin_samples_split: 10\n",
      "\u001B[34m\u001B[1mwandb\u001B[0m: \tn_estimators: 1024\n",
      "\u001B[34m\u001B[1mwandb\u001B[0m: \tsubsample: 0.6965437272848853\n",
      "\u001B[34m\u001B[1mwandb\u001B[0m: wandb version 0.12.0 is available!  To upgrade, please run:\n",
      "\u001B[34m\u001B[1mwandb\u001B[0m:  $ pip install wandb --upgrade\n",
      "\u001B[34m\u001B[1mwandb\u001B[0m: Agent Starting Run: v84h9oon with config:\n",
      "\u001B[34m\u001B[1mwandb\u001B[0m: \tlearning_rate: 0.013840281007773696\n",
      "\u001B[34m\u001B[1mwandb\u001B[0m: \tmax_depth: 4\n",
      "\u001B[34m\u001B[1mwandb\u001B[0m: \tmin_samples_split: 8\n",
      "\u001B[34m\u001B[1mwandb\u001B[0m: \tn_estimators: 768\n",
      "\u001B[34m\u001B[1mwandb\u001B[0m: \tsubsample: 0.6748086401626423\n",
      "\u001B[34m\u001B[1mwandb\u001B[0m: wandb version 0.12.0 is available!  To upgrade, please run:\n",
      "\u001B[34m\u001B[1mwandb\u001B[0m:  $ pip install wandb --upgrade\n",
      "\u001B[34m\u001B[1mwandb\u001B[0m: Agent Starting Run: 5nmhu0ev with config:\n",
      "\u001B[34m\u001B[1mwandb\u001B[0m: \tlearning_rate: 0.022347416764394147\n",
      "\u001B[34m\u001B[1mwandb\u001B[0m: \tmax_depth: 10\n",
      "\u001B[34m\u001B[1mwandb\u001B[0m: \tmin_samples_split: 8\n",
      "\u001B[34m\u001B[1mwandb\u001B[0m: \tn_estimators: 512\n",
      "\u001B[34m\u001B[1mwandb\u001B[0m: \tsubsample: 0.5719675847795569\n",
      "\u001B[34m\u001B[1mwandb\u001B[0m: wandb version 0.12.0 is available!  To upgrade, please run:\n",
      "\u001B[34m\u001B[1mwandb\u001B[0m:  $ pip install wandb --upgrade\n",
      "\u001B[34m\u001B[1mwandb\u001B[0m: Agent Starting Run: rj8tht3k with config:\n",
      "\u001B[34m\u001B[1mwandb\u001B[0m: \tlearning_rate: 0.07663724534029309\n",
      "\u001B[34m\u001B[1mwandb\u001B[0m: \tmax_depth: 5\n",
      "\u001B[34m\u001B[1mwandb\u001B[0m: \tmin_samples_split: 10\n",
      "\u001B[34m\u001B[1mwandb\u001B[0m: \tn_estimators: 1024\n",
      "\u001B[34m\u001B[1mwandb\u001B[0m: \tsubsample: 0.5726511167688745\n",
      "\u001B[34m\u001B[1mwandb\u001B[0m: wandb version 0.12.0 is available!  To upgrade, please run:\n",
      "\u001B[34m\u001B[1mwandb\u001B[0m:  $ pip install wandb --upgrade\n",
      "\u001B[34m\u001B[1mwandb\u001B[0m: Agent Starting Run: 6n7g54r6 with config:\n",
      "\u001B[34m\u001B[1mwandb\u001B[0m: \tlearning_rate: 0.06852759651168963\n",
      "\u001B[34m\u001B[1mwandb\u001B[0m: \tmax_depth: 5\n",
      "\u001B[34m\u001B[1mwandb\u001B[0m: \tmin_samples_split: 4\n",
      "\u001B[34m\u001B[1mwandb\u001B[0m: \tn_estimators: 1024\n",
      "\u001B[34m\u001B[1mwandb\u001B[0m: \tsubsample: 0.5522524919569054\n",
      "\u001B[34m\u001B[1mwandb\u001B[0m: wandb version 0.12.0 is available!  To upgrade, please run:\n",
      "\u001B[34m\u001B[1mwandb\u001B[0m:  $ pip install wandb --upgrade\n",
      "\u001B[34m\u001B[1mwandb\u001B[0m: Agent Starting Run: 7c42uhnd with config:\n",
      "\u001B[34m\u001B[1mwandb\u001B[0m: \tlearning_rate: 0.06826444147325983\n",
      "\u001B[34m\u001B[1mwandb\u001B[0m: \tmax_depth: 5\n",
      "\u001B[34m\u001B[1mwandb\u001B[0m: \tmin_samples_split: 4\n",
      "\u001B[34m\u001B[1mwandb\u001B[0m: \tn_estimators: 256\n",
      "\u001B[34m\u001B[1mwandb\u001B[0m: \tsubsample: 0.8457242769557582\n",
      "\u001B[34m\u001B[1mwandb\u001B[0m: wandb version 0.12.0 is available!  To upgrade, please run:\n",
      "\u001B[34m\u001B[1mwandb\u001B[0m:  $ pip install wandb --upgrade\n",
      "\u001B[34m\u001B[1mwandb\u001B[0m: Agent Starting Run: zg7mme76 with config:\n",
      "\u001B[34m\u001B[1mwandb\u001B[0m: \tlearning_rate: 0.07519408382293623\n",
      "\u001B[34m\u001B[1mwandb\u001B[0m: \tmax_depth: 7\n",
      "\u001B[34m\u001B[1mwandb\u001B[0m: \tmin_samples_split: 8\n",
      "\u001B[34m\u001B[1mwandb\u001B[0m: \tn_estimators: 512\n",
      "\u001B[34m\u001B[1mwandb\u001B[0m: \tsubsample: 0.707869451121214\n",
      "\u001B[34m\u001B[1mwandb\u001B[0m: wandb version 0.12.0 is available!  To upgrade, please run:\n",
      "\u001B[34m\u001B[1mwandb\u001B[0m:  $ pip install wandb --upgrade\n",
      "\u001B[34m\u001B[1mwandb\u001B[0m: Agent Starting Run: hweczlcy with config:\n",
      "\u001B[34m\u001B[1mwandb\u001B[0m: \tlearning_rate: 0.032434484790767854\n",
      "\u001B[34m\u001B[1mwandb\u001B[0m: \tmax_depth: 6\n",
      "\u001B[34m\u001B[1mwandb\u001B[0m: \tmin_samples_split: 5\n",
      "\u001B[34m\u001B[1mwandb\u001B[0m: \tn_estimators: 768\n",
      "\u001B[34m\u001B[1mwandb\u001B[0m: \tsubsample: 0.5088131552272692\n",
      "\u001B[34m\u001B[1mwandb\u001B[0m: wandb version 0.12.0 is available!  To upgrade, please run:\n",
      "\u001B[34m\u001B[1mwandb\u001B[0m:  $ pip install wandb --upgrade\n",
      "\u001B[34m\u001B[1mwandb\u001B[0m: Agent Starting Run: nwtct052 with config:\n",
      "\u001B[34m\u001B[1mwandb\u001B[0m: \tlearning_rate: 0.14504855629180358\n",
      "\u001B[34m\u001B[1mwandb\u001B[0m: \tmax_depth: 8\n",
      "\u001B[34m\u001B[1mwandb\u001B[0m: \tmin_samples_split: 5\n",
      "\u001B[34m\u001B[1mwandb\u001B[0m: \tn_estimators: 1024\n",
      "\u001B[34m\u001B[1mwandb\u001B[0m: \tsubsample: 0.8409628235994644\n",
      "\u001B[34m\u001B[1mwandb\u001B[0m: wandb version 0.12.0 is available!  To upgrade, please run:\n",
      "\u001B[34m\u001B[1mwandb\u001B[0m:  $ pip install wandb --upgrade\n",
      "\u001B[34m\u001B[1mwandb\u001B[0m: Agent Starting Run: shsk9btz with config:\n",
      "\u001B[34m\u001B[1mwandb\u001B[0m: \tlearning_rate: 0.06560950094688102\n",
      "\u001B[34m\u001B[1mwandb\u001B[0m: \tmax_depth: 5\n",
      "\u001B[34m\u001B[1mwandb\u001B[0m: \tmin_samples_split: 4\n",
      "\u001B[34m\u001B[1mwandb\u001B[0m: \tn_estimators: 768\n",
      "\u001B[34m\u001B[1mwandb\u001B[0m: \tsubsample: 0.7848719134585663\n",
      "\u001B[34m\u001B[1mwandb\u001B[0m: wandb version 0.12.0 is available!  To upgrade, please run:\n",
      "\u001B[34m\u001B[1mwandb\u001B[0m:  $ pip install wandb --upgrade\n",
      "\u001B[34m\u001B[1mwandb\u001B[0m: Agent Starting Run: 26z8s7ho with config:\n",
      "\u001B[34m\u001B[1mwandb\u001B[0m: \tlearning_rate: 0.10436895648350322\n",
      "\u001B[34m\u001B[1mwandb\u001B[0m: \tmax_depth: 10\n",
      "\u001B[34m\u001B[1mwandb\u001B[0m: \tmin_samples_split: 5\n",
      "\u001B[34m\u001B[1mwandb\u001B[0m: \tn_estimators: 1024\n",
      "\u001B[34m\u001B[1mwandb\u001B[0m: \tsubsample: 0.8435828690960299\n",
      "\u001B[34m\u001B[1mwandb\u001B[0m: wandb version 0.12.0 is available!  To upgrade, please run:\n",
      "\u001B[34m\u001B[1mwandb\u001B[0m:  $ pip install wandb --upgrade\n",
      "\u001B[34m\u001B[1mwandb\u001B[0m: Agent Starting Run: fy04g44e with config:\n",
      "\u001B[34m\u001B[1mwandb\u001B[0m: \tlearning_rate: 0.02320556147214395\n",
      "\u001B[34m\u001B[1mwandb\u001B[0m: \tmax_depth: 6\n",
      "\u001B[34m\u001B[1mwandb\u001B[0m: \tmin_samples_split: 8\n",
      "\u001B[34m\u001B[1mwandb\u001B[0m: \tn_estimators: 512\n",
      "\u001B[34m\u001B[1mwandb\u001B[0m: \tsubsample: 0.5796656084988301\n",
      "\u001B[34m\u001B[1mwandb\u001B[0m: wandb version 0.12.0 is available!  To upgrade, please run:\n",
      "\u001B[34m\u001B[1mwandb\u001B[0m:  $ pip install wandb --upgrade\n",
      "\u001B[34m\u001B[1mwandb\u001B[0m: Agent Starting Run: gv5dg116 with config:\n",
      "\u001B[34m\u001B[1mwandb\u001B[0m: \tlearning_rate: 0.032321300383067776\n",
      "\u001B[34m\u001B[1mwandb\u001B[0m: \tmax_depth: 6\n",
      "\u001B[34m\u001B[1mwandb\u001B[0m: \tmin_samples_split: 8\n",
      "\u001B[34m\u001B[1mwandb\u001B[0m: \tn_estimators: 256\n",
      "\u001B[34m\u001B[1mwandb\u001B[0m: \tsubsample: 0.7457612175229532\n",
      "\u001B[34m\u001B[1mwandb\u001B[0m: wandb version 0.12.0 is available!  To upgrade, please run:\n",
      "\u001B[34m\u001B[1mwandb\u001B[0m:  $ pip install wandb --upgrade\n",
      "\u001B[34m\u001B[1mwandb\u001B[0m: Agent Starting Run: hgqg4cay with config:\n",
      "\u001B[34m\u001B[1mwandb\u001B[0m: \tlearning_rate: 0.04684966819202869\n",
      "\u001B[34m\u001B[1mwandb\u001B[0m: \tmax_depth: 4\n",
      "\u001B[34m\u001B[1mwandb\u001B[0m: \tmin_samples_split: 5\n",
      "\u001B[34m\u001B[1mwandb\u001B[0m: \tn_estimators: 768\n",
      "\u001B[34m\u001B[1mwandb\u001B[0m: \tsubsample: 0.7465756465760955\n",
      "\u001B[34m\u001B[1mwandb\u001B[0m: wandb version 0.12.0 is available!  To upgrade, please run:\n",
      "\u001B[34m\u001B[1mwandb\u001B[0m:  $ pip install wandb --upgrade\n",
      "\u001B[34m\u001B[1mwandb\u001B[0m: Agent Starting Run: byftshor with config:\n",
      "\u001B[34m\u001B[1mwandb\u001B[0m: \tlearning_rate: 0.08752713488013562\n",
      "\u001B[34m\u001B[1mwandb\u001B[0m: \tmax_depth: 8\n",
      "\u001B[34m\u001B[1mwandb\u001B[0m: \tmin_samples_split: 5\n",
      "\u001B[34m\u001B[1mwandb\u001B[0m: \tn_estimators: 256\n",
      "\u001B[34m\u001B[1mwandb\u001B[0m: \tsubsample: 0.7496233026842509\n",
      "\u001B[34m\u001B[1mwandb\u001B[0m: wandb version 0.12.0 is available!  To upgrade, please run:\n",
      "\u001B[34m\u001B[1mwandb\u001B[0m:  $ pip install wandb --upgrade\n",
      "\u001B[34m\u001B[1mwandb\u001B[0m: Agent Starting Run: im7j8x3v with config:\n",
      "\u001B[34m\u001B[1mwandb\u001B[0m: \tlearning_rate: 0.09749735807618187\n",
      "\u001B[34m\u001B[1mwandb\u001B[0m: \tmax_depth: 10\n",
      "\u001B[34m\u001B[1mwandb\u001B[0m: \tmin_samples_split: 4\n",
      "\u001B[34m\u001B[1mwandb\u001B[0m: \tn_estimators: 768\n",
      "\u001B[34m\u001B[1mwandb\u001B[0m: \tsubsample: 0.8005239419217919\n",
      "\u001B[34m\u001B[1mwandb\u001B[0m: wandb version 0.12.0 is available!  To upgrade, please run:\n",
      "\u001B[34m\u001B[1mwandb\u001B[0m:  $ pip install wandb --upgrade\n",
      "\u001B[34m\u001B[1mwandb\u001B[0m: Agent Starting Run: 4u0pm8nq with config:\n",
      "\u001B[34m\u001B[1mwandb\u001B[0m: \tlearning_rate: 0.09258006591725762\n",
      "\u001B[34m\u001B[1mwandb\u001B[0m: \tmax_depth: 7\n",
      "\u001B[34m\u001B[1mwandb\u001B[0m: \tmin_samples_split: 4\n",
      "\u001B[34m\u001B[1mwandb\u001B[0m: \tn_estimators: 512\n",
      "\u001B[34m\u001B[1mwandb\u001B[0m: \tsubsample: 0.6550472900340151\n",
      "\u001B[34m\u001B[1mwandb\u001B[0m: wandb version 0.12.0 is available!  To upgrade, please run:\n",
      "\u001B[34m\u001B[1mwandb\u001B[0m:  $ pip install wandb --upgrade\n",
      "\u001B[34m\u001B[1mwandb\u001B[0m: Agent Starting Run: a1xp4cij with config:\n",
      "\u001B[34m\u001B[1mwandb\u001B[0m: \tlearning_rate: 0.030189423908354808\n",
      "\u001B[34m\u001B[1mwandb\u001B[0m: \tmax_depth: 10\n",
      "\u001B[34m\u001B[1mwandb\u001B[0m: \tmin_samples_split: 4\n",
      "\u001B[34m\u001B[1mwandb\u001B[0m: \tn_estimators: 1024\n",
      "\u001B[34m\u001B[1mwandb\u001B[0m: \tsubsample: 0.7758274848086828\n",
      "\u001B[34m\u001B[1mwandb\u001B[0m: wandb version 0.12.0 is available!  To upgrade, please run:\n",
      "\u001B[34m\u001B[1mwandb\u001B[0m:  $ pip install wandb --upgrade\n",
      "\u001B[34m\u001B[1mwandb\u001B[0m: Agent Starting Run: sieyu9f2 with config:\n",
      "\u001B[34m\u001B[1mwandb\u001B[0m: \tlearning_rate: 0.0850645068991783\n",
      "\u001B[34m\u001B[1mwandb\u001B[0m: \tmax_depth: 6\n",
      "\u001B[34m\u001B[1mwandb\u001B[0m: \tmin_samples_split: 4\n",
      "\u001B[34m\u001B[1mwandb\u001B[0m: \tn_estimators: 256\n",
      "\u001B[34m\u001B[1mwandb\u001B[0m: \tsubsample: 0.5335872355056276\n",
      "\u001B[34m\u001B[1mwandb\u001B[0m: wandb version 0.12.0 is available!  To upgrade, please run:\n",
      "\u001B[34m\u001B[1mwandb\u001B[0m:  $ pip install wandb --upgrade\n",
      "\u001B[34m\u001B[1mwandb\u001B[0m: Agent Starting Run: ojw8yghp with config:\n",
      "\u001B[34m\u001B[1mwandb\u001B[0m: \tlearning_rate: 0.05276735333311967\n",
      "\u001B[34m\u001B[1mwandb\u001B[0m: \tmax_depth: 4\n",
      "\u001B[34m\u001B[1mwandb\u001B[0m: \tmin_samples_split: 5\n",
      "\u001B[34m\u001B[1mwandb\u001B[0m: \tn_estimators: 1024\n",
      "\u001B[34m\u001B[1mwandb\u001B[0m: \tsubsample: 0.5668448159386865\n",
      "\u001B[34m\u001B[1mwandb\u001B[0m: wandb version 0.12.0 is available!  To upgrade, please run:\n",
      "\u001B[34m\u001B[1mwandb\u001B[0m:  $ pip install wandb --upgrade\n",
      "\u001B[34m\u001B[1mwandb\u001B[0m: Agent Starting Run: kq3kcx32 with config:\n",
      "\u001B[34m\u001B[1mwandb\u001B[0m: \tlearning_rate: 0.08977666155640598\n",
      "\u001B[34m\u001B[1mwandb\u001B[0m: \tmax_depth: 12\n",
      "\u001B[34m\u001B[1mwandb\u001B[0m: \tmin_samples_split: 10\n",
      "\u001B[34m\u001B[1mwandb\u001B[0m: \tn_estimators: 1024\n",
      "\u001B[34m\u001B[1mwandb\u001B[0m: \tsubsample: 0.6988912928487101\n",
      "\u001B[34m\u001B[1mwandb\u001B[0m: wandb version 0.12.0 is available!  To upgrade, please run:\n",
      "\u001B[34m\u001B[1mwandb\u001B[0m:  $ pip install wandb --upgrade\n",
      "\u001B[34m\u001B[1mwandb\u001B[0m: Agent Starting Run: oygppcaq with config:\n",
      "\u001B[34m\u001B[1mwandb\u001B[0m: \tlearning_rate: 0.11291052422692593\n",
      "\u001B[34m\u001B[1mwandb\u001B[0m: \tmax_depth: 6\n",
      "\u001B[34m\u001B[1mwandb\u001B[0m: \tmin_samples_split: 6\n",
      "\u001B[34m\u001B[1mwandb\u001B[0m: \tn_estimators: 256\n",
      "\u001B[34m\u001B[1mwandb\u001B[0m: \tsubsample: 0.8313904501009817\n",
      "\u001B[34m\u001B[1mwandb\u001B[0m: wandb version 0.12.0 is available!  To upgrade, please run:\n",
      "\u001B[34m\u001B[1mwandb\u001B[0m:  $ pip install wandb --upgrade\n",
      "\u001B[34m\u001B[1mwandb\u001B[0m: Agent Starting Run: p1sqk39g with config:\n",
      "\u001B[34m\u001B[1mwandb\u001B[0m: \tlearning_rate: 0.023979887451432678\n",
      "\u001B[34m\u001B[1mwandb\u001B[0m: \tmax_depth: 12\n",
      "\u001B[34m\u001B[1mwandb\u001B[0m: \tmin_samples_split: 4\n",
      "\u001B[34m\u001B[1mwandb\u001B[0m: \tn_estimators: 512\n",
      "\u001B[34m\u001B[1mwandb\u001B[0m: \tsubsample: 0.6710696089831194\n",
      "\u001B[34m\u001B[1mwandb\u001B[0m: wandb version 0.12.0 is available!  To upgrade, please run:\n",
      "\u001B[34m\u001B[1mwandb\u001B[0m:  $ pip install wandb --upgrade\n",
      "\u001B[34m\u001B[1mwandb\u001B[0m: Agent Starting Run: 47f3x7zh with config:\n",
      "\u001B[34m\u001B[1mwandb\u001B[0m: \tlearning_rate: 0.12955339827465442\n",
      "\u001B[34m\u001B[1mwandb\u001B[0m: \tmax_depth: 8\n",
      "\u001B[34m\u001B[1mwandb\u001B[0m: \tmin_samples_split: 4\n",
      "\u001B[34m\u001B[1mwandb\u001B[0m: \tn_estimators: 512\n",
      "\u001B[34m\u001B[1mwandb\u001B[0m: \tsubsample: 0.5926618634248454\n",
      "\u001B[34m\u001B[1mwandb\u001B[0m: wandb version 0.12.0 is available!  To upgrade, please run:\n",
      "\u001B[34m\u001B[1mwandb\u001B[0m:  $ pip install wandb --upgrade\n",
      "\u001B[34m\u001B[1mwandb\u001B[0m: Agent Starting Run: 1kvfp9bv with config:\n",
      "\u001B[34m\u001B[1mwandb\u001B[0m: \tlearning_rate: 0.0940410762123554\n",
      "\u001B[34m\u001B[1mwandb\u001B[0m: \tmax_depth: 6\n",
      "\u001B[34m\u001B[1mwandb\u001B[0m: \tmin_samples_split: 4\n",
      "\u001B[34m\u001B[1mwandb\u001B[0m: \tn_estimators: 512\n",
      "\u001B[34m\u001B[1mwandb\u001B[0m: \tsubsample: 0.8168209341874078\n",
      "\u001B[34m\u001B[1mwandb\u001B[0m: wandb version 0.12.0 is available!  To upgrade, please run:\n",
      "\u001B[34m\u001B[1mwandb\u001B[0m:  $ pip install wandb --upgrade\n",
      "\u001B[34m\u001B[1mwandb\u001B[0m: Agent Starting Run: akvgu0gt with config:\n",
      "\u001B[34m\u001B[1mwandb\u001B[0m: \tlearning_rate: 0.0320117158100496\n",
      "\u001B[34m\u001B[1mwandb\u001B[0m: \tmax_depth: 7\n",
      "\u001B[34m\u001B[1mwandb\u001B[0m: \tmin_samples_split: 5\n",
      "\u001B[34m\u001B[1mwandb\u001B[0m: \tn_estimators: 256\n",
      "\u001B[34m\u001B[1mwandb\u001B[0m: \tsubsample: 0.7232816345175026\n",
      "\u001B[34m\u001B[1mwandb\u001B[0m: wandb version 0.12.0 is available!  To upgrade, please run:\n",
      "\u001B[34m\u001B[1mwandb\u001B[0m:  $ pip install wandb --upgrade\n",
      "\u001B[34m\u001B[1mwandb\u001B[0m: Agent Starting Run: jaccg0az with config:\n",
      "\u001B[34m\u001B[1mwandb\u001B[0m: \tlearning_rate: 0.1391404632761979\n",
      "\u001B[34m\u001B[1mwandb\u001B[0m: \tmax_depth: 7\n",
      "\u001B[34m\u001B[1mwandb\u001B[0m: \tmin_samples_split: 4\n",
      "\u001B[34m\u001B[1mwandb\u001B[0m: \tn_estimators: 256\n",
      "\u001B[34m\u001B[1mwandb\u001B[0m: \tsubsample: 0.6886050930384356\n",
      "\u001B[34m\u001B[1mwandb\u001B[0m: wandb version 0.12.0 is available!  To upgrade, please run:\n",
      "\u001B[34m\u001B[1mwandb\u001B[0m:  $ pip install wandb --upgrade\n",
      "\u001B[34m\u001B[1mwandb\u001B[0m: Agent Starting Run: hdj9sunp with config:\n",
      "\u001B[34m\u001B[1mwandb\u001B[0m: \tlearning_rate: 0.0669392277349286\n",
      "\u001B[34m\u001B[1mwandb\u001B[0m: \tmax_depth: 6\n",
      "\u001B[34m\u001B[1mwandb\u001B[0m: \tmin_samples_split: 10\n",
      "\u001B[34m\u001B[1mwandb\u001B[0m: \tn_estimators: 512\n",
      "\u001B[34m\u001B[1mwandb\u001B[0m: \tsubsample: 0.5333999389199546\n",
      "\u001B[34m\u001B[1mwandb\u001B[0m: wandb version 0.12.0 is available!  To upgrade, please run:\n",
      "\u001B[34m\u001B[1mwandb\u001B[0m:  $ pip install wandb --upgrade\n",
      "\u001B[34m\u001B[1mwandb\u001B[0m: Agent Starting Run: zxpdpbpl with config:\n",
      "\u001B[34m\u001B[1mwandb\u001B[0m: \tlearning_rate: 0.13700499455819878\n",
      "\u001B[34m\u001B[1mwandb\u001B[0m: \tmax_depth: 7\n",
      "\u001B[34m\u001B[1mwandb\u001B[0m: \tmin_samples_split: 10\n",
      "\u001B[34m\u001B[1mwandb\u001B[0m: \tn_estimators: 1024\n",
      "\u001B[34m\u001B[1mwandb\u001B[0m: \tsubsample: 0.6447308035355022\n",
      "\u001B[34m\u001B[1mwandb\u001B[0m: wandb version 0.12.0 is available!  To upgrade, please run:\n",
      "\u001B[34m\u001B[1mwandb\u001B[0m:  $ pip install wandb --upgrade\n",
      "\u001B[34m\u001B[1mwandb\u001B[0m: Agent Starting Run: f56rvp2p with config:\n",
      "\u001B[34m\u001B[1mwandb\u001B[0m: \tlearning_rate: 0.05439908553016054\n",
      "\u001B[34m\u001B[1mwandb\u001B[0m: \tmax_depth: 7\n",
      "\u001B[34m\u001B[1mwandb\u001B[0m: \tmin_samples_split: 4\n",
      "\u001B[34m\u001B[1mwandb\u001B[0m: \tn_estimators: 1024\n",
      "\u001B[34m\u001B[1mwandb\u001B[0m: \tsubsample: 0.6412683072030896\n",
      "\u001B[34m\u001B[1mwandb\u001B[0m: wandb version 0.12.0 is available!  To upgrade, please run:\n",
      "\u001B[34m\u001B[1mwandb\u001B[0m:  $ pip install wandb --upgrade\n",
      "\u001B[34m\u001B[1mwandb\u001B[0m: Agent Starting Run: qzvxi6jf with config:\n",
      "\u001B[34m\u001B[1mwandb\u001B[0m: \tlearning_rate: 0.023411613459078343\n",
      "\u001B[34m\u001B[1mwandb\u001B[0m: \tmax_depth: 4\n",
      "\u001B[34m\u001B[1mwandb\u001B[0m: \tmin_samples_split: 8\n",
      "\u001B[34m\u001B[1mwandb\u001B[0m: \tn_estimators: 256\n",
      "\u001B[34m\u001B[1mwandb\u001B[0m: \tsubsample: 0.5315187950980131\n",
      "\u001B[34m\u001B[1mwandb\u001B[0m: wandb version 0.12.0 is available!  To upgrade, please run:\n",
      "\u001B[34m\u001B[1mwandb\u001B[0m:  $ pip install wandb --upgrade\n",
      "\u001B[34m\u001B[1mwandb\u001B[0m: Agent Starting Run: jfus4ibj with config:\n",
      "\u001B[34m\u001B[1mwandb\u001B[0m: \tlearning_rate: 0.11036380514972902\n",
      "\u001B[34m\u001B[1mwandb\u001B[0m: \tmax_depth: 4\n",
      "\u001B[34m\u001B[1mwandb\u001B[0m: \tmin_samples_split: 8\n",
      "\u001B[34m\u001B[1mwandb\u001B[0m: \tn_estimators: 1024\n",
      "\u001B[34m\u001B[1mwandb\u001B[0m: \tsubsample: 0.7260354347352026\n",
      "\u001B[34m\u001B[1mwandb\u001B[0m: wandb version 0.12.0 is available!  To upgrade, please run:\n",
      "\u001B[34m\u001B[1mwandb\u001B[0m:  $ pip install wandb --upgrade\n",
      "\u001B[34m\u001B[1mwandb\u001B[0m: Agent Starting Run: zbfwsfnw with config:\n",
      "\u001B[34m\u001B[1mwandb\u001B[0m: \tlearning_rate: 0.14577318053868263\n",
      "\u001B[34m\u001B[1mwandb\u001B[0m: \tmax_depth: 4\n",
      "\u001B[34m\u001B[1mwandb\u001B[0m: \tmin_samples_split: 8\n",
      "\u001B[34m\u001B[1mwandb\u001B[0m: \tn_estimators: 512\n",
      "\u001B[34m\u001B[1mwandb\u001B[0m: \tsubsample: 0.7167335775382333\n",
      "\u001B[34m\u001B[1mwandb\u001B[0m: wandb version 0.12.0 is available!  To upgrade, please run:\n",
      "\u001B[34m\u001B[1mwandb\u001B[0m:  $ pip install wandb --upgrade\n",
      "\u001B[34m\u001B[1mwandb\u001B[0m: Agent Starting Run: 91uplp1l with config:\n",
      "\u001B[34m\u001B[1mwandb\u001B[0m: \tlearning_rate: 0.07758754930069878\n",
      "\u001B[34m\u001B[1mwandb\u001B[0m: \tmax_depth: 4\n",
      "\u001B[34m\u001B[1mwandb\u001B[0m: \tmin_samples_split: 4\n",
      "\u001B[34m\u001B[1mwandb\u001B[0m: \tn_estimators: 768\n",
      "\u001B[34m\u001B[1mwandb\u001B[0m: \tsubsample: 0.570891971534255\n",
      "\u001B[34m\u001B[1mwandb\u001B[0m: wandb version 0.12.0 is available!  To upgrade, please run:\n",
      "\u001B[34m\u001B[1mwandb\u001B[0m:  $ pip install wandb --upgrade\n",
      "\u001B[34m\u001B[1mwandb\u001B[0m: Agent Starting Run: iuiblu10 with config:\n",
      "\u001B[34m\u001B[1mwandb\u001B[0m: \tlearning_rate: 0.037979565710899936\n",
      "\u001B[34m\u001B[1mwandb\u001B[0m: \tmax_depth: 6\n",
      "\u001B[34m\u001B[1mwandb\u001B[0m: \tmin_samples_split: 8\n",
      "\u001B[34m\u001B[1mwandb\u001B[0m: \tn_estimators: 1024\n",
      "\u001B[34m\u001B[1mwandb\u001B[0m: \tsubsample: 0.8328326596356008\n",
      "\u001B[34m\u001B[1mwandb\u001B[0m: wandb version 0.12.0 is available!  To upgrade, please run:\n",
      "\u001B[34m\u001B[1mwandb\u001B[0m:  $ pip install wandb --upgrade\n",
      "\u001B[34m\u001B[1mwandb\u001B[0m: Agent Starting Run: v7tswn0q with config:\n",
      "\u001B[34m\u001B[1mwandb\u001B[0m: \tlearning_rate: 0.05604318953105896\n",
      "\u001B[34m\u001B[1mwandb\u001B[0m: \tmax_depth: 12\n",
      "\u001B[34m\u001B[1mwandb\u001B[0m: \tmin_samples_split: 4\n",
      "\u001B[34m\u001B[1mwandb\u001B[0m: \tn_estimators: 256\n",
      "\u001B[34m\u001B[1mwandb\u001B[0m: \tsubsample: 0.67405008738341\n",
      "\u001B[34m\u001B[1mwandb\u001B[0m: wandb version 0.12.0 is available!  To upgrade, please run:\n",
      "\u001B[34m\u001B[1mwandb\u001B[0m:  $ pip install wandb --upgrade\n",
      "\u001B[34m\u001B[1mwandb\u001B[0m: Agent Starting Run: u8oe8l4n with config:\n",
      "\u001B[34m\u001B[1mwandb\u001B[0m: \tlearning_rate: 0.12149487946477436\n",
      "\u001B[34m\u001B[1mwandb\u001B[0m: \tmax_depth: 7\n",
      "\u001B[34m\u001B[1mwandb\u001B[0m: \tmin_samples_split: 8\n",
      "\u001B[34m\u001B[1mwandb\u001B[0m: \tn_estimators: 768\n",
      "\u001B[34m\u001B[1mwandb\u001B[0m: \tsubsample: 0.6284909890680038\n",
      "\u001B[34m\u001B[1mwandb\u001B[0m: wandb version 0.12.0 is available!  To upgrade, please run:\n",
      "\u001B[34m\u001B[1mwandb\u001B[0m:  $ pip install wandb --upgrade\n",
      "\u001B[34m\u001B[1mwandb\u001B[0m: Agent Starting Run: vgaxrvxq with config:\n",
      "\u001B[34m\u001B[1mwandb\u001B[0m: \tlearning_rate: 0.12813618579438943\n",
      "\u001B[34m\u001B[1mwandb\u001B[0m: \tmax_depth: 4\n",
      "\u001B[34m\u001B[1mwandb\u001B[0m: \tmin_samples_split: 4\n",
      "\u001B[34m\u001B[1mwandb\u001B[0m: \tn_estimators: 768\n",
      "\u001B[34m\u001B[1mwandb\u001B[0m: \tsubsample: 0.5736495557285318\n",
      "\u001B[34m\u001B[1mwandb\u001B[0m: wandb version 0.12.0 is available!  To upgrade, please run:\n",
      "\u001B[34m\u001B[1mwandb\u001B[0m:  $ pip install wandb --upgrade\n",
      "\u001B[34m\u001B[1mwandb\u001B[0m: Agent Starting Run: 6fdv5a8a with config:\n",
      "\u001B[34m\u001B[1mwandb\u001B[0m: \tlearning_rate: 0.06289715347245352\n",
      "\u001B[34m\u001B[1mwandb\u001B[0m: \tmax_depth: 6\n",
      "\u001B[34m\u001B[1mwandb\u001B[0m: \tmin_samples_split: 8\n",
      "\u001B[34m\u001B[1mwandb\u001B[0m: \tn_estimators: 768\n",
      "\u001B[34m\u001B[1mwandb\u001B[0m: \tsubsample: 0.5081430724532167\n",
      "\u001B[34m\u001B[1mwandb\u001B[0m: wandb version 0.12.0 is available!  To upgrade, please run:\n",
      "\u001B[34m\u001B[1mwandb\u001B[0m:  $ pip install wandb --upgrade\n",
      "\u001B[34m\u001B[1mwandb\u001B[0m: Agent Starting Run: 4t8m5v9x with config:\n",
      "\u001B[34m\u001B[1mwandb\u001B[0m: \tlearning_rate: 0.014361893268123638\n",
      "\u001B[34m\u001B[1mwandb\u001B[0m: \tmax_depth: 7\n",
      "\u001B[34m\u001B[1mwandb\u001B[0m: \tmin_samples_split: 6\n",
      "\u001B[34m\u001B[1mwandb\u001B[0m: \tn_estimators: 512\n",
      "\u001B[34m\u001B[1mwandb\u001B[0m: \tsubsample: 0.6048228543936603\n",
      "\u001B[34m\u001B[1mwandb\u001B[0m: wandb version 0.12.0 is available!  To upgrade, please run:\n",
      "\u001B[34m\u001B[1mwandb\u001B[0m:  $ pip install wandb --upgrade\n",
      "\u001B[34m\u001B[1mwandb\u001B[0m: Agent Starting Run: tt58rfhl with config:\n",
      "\u001B[34m\u001B[1mwandb\u001B[0m: \tlearning_rate: 0.09516008068519946\n",
      "\u001B[34m\u001B[1mwandb\u001B[0m: \tmax_depth: 10\n",
      "\u001B[34m\u001B[1mwandb\u001B[0m: \tmin_samples_split: 5\n",
      "\u001B[34m\u001B[1mwandb\u001B[0m: \tn_estimators: 512\n",
      "\u001B[34m\u001B[1mwandb\u001B[0m: \tsubsample: 0.5352832518455503\n",
      "\u001B[34m\u001B[1mwandb\u001B[0m: wandb version 0.12.0 is available!  To upgrade, please run:\n",
      "\u001B[34m\u001B[1mwandb\u001B[0m:  $ pip install wandb --upgrade\n",
      "\u001B[34m\u001B[1mwandb\u001B[0m: Agent Starting Run: 7khnm35d with config:\n",
      "\u001B[34m\u001B[1mwandb\u001B[0m: \tlearning_rate: 0.12564017736853467\n",
      "\u001B[34m\u001B[1mwandb\u001B[0m: \tmax_depth: 5\n",
      "\u001B[34m\u001B[1mwandb\u001B[0m: \tmin_samples_split: 6\n",
      "\u001B[34m\u001B[1mwandb\u001B[0m: \tn_estimators: 512\n",
      "\u001B[34m\u001B[1mwandb\u001B[0m: \tsubsample: 0.5636447062551053\n",
      "\u001B[34m\u001B[1mwandb\u001B[0m: wandb version 0.12.0 is available!  To upgrade, please run:\n",
      "\u001B[34m\u001B[1mwandb\u001B[0m:  $ pip install wandb --upgrade\n",
      "\u001B[34m\u001B[1mwandb\u001B[0m: Agent Starting Run: 8kxr0rsd with config:\n",
      "\u001B[34m\u001B[1mwandb\u001B[0m: \tlearning_rate: 0.07431248014701862\n",
      "\u001B[34m\u001B[1mwandb\u001B[0m: \tmax_depth: 12\n",
      "\u001B[34m\u001B[1mwandb\u001B[0m: \tmin_samples_split: 8\n",
      "\u001B[34m\u001B[1mwandb\u001B[0m: \tn_estimators: 256\n",
      "\u001B[34m\u001B[1mwandb\u001B[0m: \tsubsample: 0.6161514545987176\n",
      "\u001B[34m\u001B[1mwandb\u001B[0m: wandb version 0.12.0 is available!  To upgrade, please run:\n",
      "\u001B[34m\u001B[1mwandb\u001B[0m:  $ pip install wandb --upgrade\n",
      "\u001B[34m\u001B[1mwandb\u001B[0m: Agent Starting Run: 4ne0yhko with config:\n",
      "\u001B[34m\u001B[1mwandb\u001B[0m: \tlearning_rate: 0.1355580594704004\n",
      "\u001B[34m\u001B[1mwandb\u001B[0m: \tmax_depth: 4\n",
      "\u001B[34m\u001B[1mwandb\u001B[0m: \tmin_samples_split: 4\n",
      "\u001B[34m\u001B[1mwandb\u001B[0m: \tn_estimators: 768\n",
      "\u001B[34m\u001B[1mwandb\u001B[0m: \tsubsample: 0.7056887805259435\n",
      "\u001B[34m\u001B[1mwandb\u001B[0m: wandb version 0.12.0 is available!  To upgrade, please run:\n",
      "\u001B[34m\u001B[1mwandb\u001B[0m:  $ pip install wandb --upgrade\n",
      "\u001B[34m\u001B[1mwandb\u001B[0m: Agent Starting Run: wpiv18ng with config:\n",
      "\u001B[34m\u001B[1mwandb\u001B[0m: \tlearning_rate: 0.08495377018145508\n",
      "\u001B[34m\u001B[1mwandb\u001B[0m: \tmax_depth: 5\n",
      "\u001B[34m\u001B[1mwandb\u001B[0m: \tmin_samples_split: 8\n",
      "\u001B[34m\u001B[1mwandb\u001B[0m: \tn_estimators: 512\n",
      "\u001B[34m\u001B[1mwandb\u001B[0m: \tsubsample: 0.8179010986458948\n",
      "\u001B[34m\u001B[1mwandb\u001B[0m: wandb version 0.12.0 is available!  To upgrade, please run:\n",
      "\u001B[34m\u001B[1mwandb\u001B[0m:  $ pip install wandb --upgrade\n",
      "\u001B[34m\u001B[1mwandb\u001B[0m: Agent Starting Run: ftxhdpmx with config:\n",
      "\u001B[34m\u001B[1mwandb\u001B[0m: \tlearning_rate: 0.09001949617379797\n",
      "\u001B[34m\u001B[1mwandb\u001B[0m: \tmax_depth: 10\n",
      "\u001B[34m\u001B[1mwandb\u001B[0m: \tmin_samples_split: 4\n",
      "\u001B[34m\u001B[1mwandb\u001B[0m: \tn_estimators: 256\n",
      "\u001B[34m\u001B[1mwandb\u001B[0m: \tsubsample: 0.6584502229378517\n",
      "\u001B[34m\u001B[1mwandb\u001B[0m: wandb version 0.12.0 is available!  To upgrade, please run:\n",
      "\u001B[34m\u001B[1mwandb\u001B[0m:  $ pip install wandb --upgrade\n",
      "\u001B[34m\u001B[1mwandb\u001B[0m: Agent Starting Run: 22jic0d0 with config:\n",
      "\u001B[34m\u001B[1mwandb\u001B[0m: \tlearning_rate: 0.031198972544235433\n",
      "\u001B[34m\u001B[1mwandb\u001B[0m: \tmax_depth: 8\n",
      "\u001B[34m\u001B[1mwandb\u001B[0m: \tmin_samples_split: 8\n",
      "\u001B[34m\u001B[1mwandb\u001B[0m: \tn_estimators: 256\n",
      "\u001B[34m\u001B[1mwandb\u001B[0m: \tsubsample: 0.7435201428928682\n",
      "\u001B[34m\u001B[1mwandb\u001B[0m: wandb version 0.12.0 is available!  To upgrade, please run:\n",
      "\u001B[34m\u001B[1mwandb\u001B[0m:  $ pip install wandb --upgrade\n",
      "\u001B[34m\u001B[1mwandb\u001B[0m: Agent Starting Run: wytyw22t with config:\n",
      "\u001B[34m\u001B[1mwandb\u001B[0m: \tlearning_rate: 0.10787399927375878\n",
      "\u001B[34m\u001B[1mwandb\u001B[0m: \tmax_depth: 6\n",
      "\u001B[34m\u001B[1mwandb\u001B[0m: \tmin_samples_split: 8\n",
      "\u001B[34m\u001B[1mwandb\u001B[0m: \tn_estimators: 768\n",
      "\u001B[34m\u001B[1mwandb\u001B[0m: \tsubsample: 0.5481293406097858\n",
      "\u001B[34m\u001B[1mwandb\u001B[0m: wandb version 0.12.0 is available!  To upgrade, please run:\n",
      "\u001B[34m\u001B[1mwandb\u001B[0m:  $ pip install wandb --upgrade\n",
      "\u001B[34m\u001B[1mwandb\u001B[0m: Agent Starting Run: krejre05 with config:\n",
      "\u001B[34m\u001B[1mwandb\u001B[0m: \tlearning_rate: 0.075540502647598\n",
      "\u001B[34m\u001B[1mwandb\u001B[0m: \tmax_depth: 5\n",
      "\u001B[34m\u001B[1mwandb\u001B[0m: \tmin_samples_split: 10\n",
      "\u001B[34m\u001B[1mwandb\u001B[0m: \tn_estimators: 256\n",
      "\u001B[34m\u001B[1mwandb\u001B[0m: \tsubsample: 0.7080746532299839\n",
      "\u001B[34m\u001B[1mwandb\u001B[0m: wandb version 0.12.0 is available!  To upgrade, please run:\n",
      "\u001B[34m\u001B[1mwandb\u001B[0m:  $ pip install wandb --upgrade\n",
      "\u001B[34m\u001B[1mwandb\u001B[0m: Agent Starting Run: p2k8upvk with config:\n",
      "\u001B[34m\u001B[1mwandb\u001B[0m: \tlearning_rate: 0.1066140194913904\n",
      "\u001B[34m\u001B[1mwandb\u001B[0m: \tmax_depth: 4\n",
      "\u001B[34m\u001B[1mwandb\u001B[0m: \tmin_samples_split: 6\n",
      "\u001B[34m\u001B[1mwandb\u001B[0m: \tn_estimators: 1024\n",
      "\u001B[34m\u001B[1mwandb\u001B[0m: \tsubsample: 0.7990393869193602\n",
      "\u001B[34m\u001B[1mwandb\u001B[0m: wandb version 0.12.0 is available!  To upgrade, please run:\n",
      "\u001B[34m\u001B[1mwandb\u001B[0m:  $ pip install wandb --upgrade\n",
      "\u001B[34m\u001B[1mwandb\u001B[0m: Agent Starting Run: tppu5imb with config:\n",
      "\u001B[34m\u001B[1mwandb\u001B[0m: \tlearning_rate: 0.11842206058989034\n",
      "\u001B[34m\u001B[1mwandb\u001B[0m: \tmax_depth: 6\n",
      "\u001B[34m\u001B[1mwandb\u001B[0m: \tmin_samples_split: 5\n",
      "\u001B[34m\u001B[1mwandb\u001B[0m: \tn_estimators: 1024\n",
      "\u001B[34m\u001B[1mwandb\u001B[0m: \tsubsample: 0.8061106146496979\n",
      "\u001B[34m\u001B[1mwandb\u001B[0m: wandb version 0.12.0 is available!  To upgrade, please run:\n",
      "\u001B[34m\u001B[1mwandb\u001B[0m:  $ pip install wandb --upgrade\n",
      "\u001B[34m\u001B[1mwandb\u001B[0m: Agent Starting Run: 5w9wb1gi with config:\n",
      "\u001B[34m\u001B[1mwandb\u001B[0m: \tlearning_rate: 0.04744688086895305\n",
      "\u001B[34m\u001B[1mwandb\u001B[0m: \tmax_depth: 7\n",
      "\u001B[34m\u001B[1mwandb\u001B[0m: \tmin_samples_split: 10\n",
      "\u001B[34m\u001B[1mwandb\u001B[0m: \tn_estimators: 256\n",
      "\u001B[34m\u001B[1mwandb\u001B[0m: \tsubsample: 0.610609043244951\n",
      "\u001B[34m\u001B[1mwandb\u001B[0m: wandb version 0.12.0 is available!  To upgrade, please run:\n",
      "\u001B[34m\u001B[1mwandb\u001B[0m:  $ pip install wandb --upgrade\n",
      "\u001B[34m\u001B[1mwandb\u001B[0m: Agent Starting Run: ynxdkm4v with config:\n",
      "\u001B[34m\u001B[1mwandb\u001B[0m: \tlearning_rate: 0.09377203109209106\n",
      "\u001B[34m\u001B[1mwandb\u001B[0m: \tmax_depth: 10\n",
      "\u001B[34m\u001B[1mwandb\u001B[0m: \tmin_samples_split: 6\n",
      "\u001B[34m\u001B[1mwandb\u001B[0m: \tn_estimators: 1024\n",
      "\u001B[34m\u001B[1mwandb\u001B[0m: \tsubsample: 0.59445792333592\n",
      "\u001B[34m\u001B[1mwandb\u001B[0m: wandb version 0.12.0 is available!  To upgrade, please run:\n",
      "\u001B[34m\u001B[1mwandb\u001B[0m:  $ pip install wandb --upgrade\n",
      "\u001B[34m\u001B[1mwandb\u001B[0m: Agent Starting Run: 7anttqju with config:\n",
      "\u001B[34m\u001B[1mwandb\u001B[0m: \tlearning_rate: 0.08157490259359997\n",
      "\u001B[34m\u001B[1mwandb\u001B[0m: \tmax_depth: 5\n",
      "\u001B[34m\u001B[1mwandb\u001B[0m: \tmin_samples_split: 8\n",
      "\u001B[34m\u001B[1mwandb\u001B[0m: \tn_estimators: 256\n",
      "\u001B[34m\u001B[1mwandb\u001B[0m: \tsubsample: 0.7513361365751964\n",
      "\u001B[34m\u001B[1mwandb\u001B[0m: wandb version 0.12.0 is available!  To upgrade, please run:\n",
      "\u001B[34m\u001B[1mwandb\u001B[0m:  $ pip install wandb --upgrade\n",
      "\u001B[34m\u001B[1mwandb\u001B[0m: Agent Starting Run: 59dd1bm8 with config:\n",
      "\u001B[34m\u001B[1mwandb\u001B[0m: \tlearning_rate: 0.10016229113146347\n",
      "\u001B[34m\u001B[1mwandb\u001B[0m: \tmax_depth: 4\n",
      "\u001B[34m\u001B[1mwandb\u001B[0m: \tmin_samples_split: 8\n",
      "\u001B[34m\u001B[1mwandb\u001B[0m: \tn_estimators: 512\n",
      "\u001B[34m\u001B[1mwandb\u001B[0m: \tsubsample: 0.6902293462274562\n",
      "\u001B[34m\u001B[1mwandb\u001B[0m: wandb version 0.12.0 is available!  To upgrade, please run:\n",
      "\u001B[34m\u001B[1mwandb\u001B[0m:  $ pip install wandb --upgrade\n",
      "\u001B[34m\u001B[1mwandb\u001B[0m: Agent Starting Run: p7vqcjtg with config:\n",
      "\u001B[34m\u001B[1mwandb\u001B[0m: \tlearning_rate: 0.10901691079985129\n",
      "\u001B[34m\u001B[1mwandb\u001B[0m: \tmax_depth: 4\n",
      "\u001B[34m\u001B[1mwandb\u001B[0m: \tmin_samples_split: 10\n",
      "\u001B[34m\u001B[1mwandb\u001B[0m: \tn_estimators: 768\n",
      "\u001B[34m\u001B[1mwandb\u001B[0m: \tsubsample: 0.6784525404032729\n",
      "\u001B[34m\u001B[1mwandb\u001B[0m: wandb version 0.12.0 is available!  To upgrade, please run:\n",
      "\u001B[34m\u001B[1mwandb\u001B[0m:  $ pip install wandb --upgrade\n",
      "\u001B[34m\u001B[1mwandb\u001B[0m: Agent Starting Run: s8bqzvfg with config:\n",
      "\u001B[34m\u001B[1mwandb\u001B[0m: \tlearning_rate: 0.13911767618544693\n",
      "\u001B[34m\u001B[1mwandb\u001B[0m: \tmax_depth: 6\n",
      "\u001B[34m\u001B[1mwandb\u001B[0m: \tmin_samples_split: 6\n",
      "\u001B[34m\u001B[1mwandb\u001B[0m: \tn_estimators: 256\n",
      "\u001B[34m\u001B[1mwandb\u001B[0m: \tsubsample: 0.7113592162960425\n",
      "\u001B[34m\u001B[1mwandb\u001B[0m: wandb version 0.12.0 is available!  To upgrade, please run:\n",
      "\u001B[34m\u001B[1mwandb\u001B[0m:  $ pip install wandb --upgrade\n",
      "\u001B[34m\u001B[1mwandb\u001B[0m: Agent Starting Run: exoop4v5 with config:\n",
      "\u001B[34m\u001B[1mwandb\u001B[0m: \tlearning_rate: 0.030997158236525685\n",
      "\u001B[34m\u001B[1mwandb\u001B[0m: \tmax_depth: 7\n",
      "\u001B[34m\u001B[1mwandb\u001B[0m: \tmin_samples_split: 4\n",
      "\u001B[34m\u001B[1mwandb\u001B[0m: \tn_estimators: 256\n",
      "\u001B[34m\u001B[1mwandb\u001B[0m: \tsubsample: 0.5272829594105756\n",
      "\u001B[34m\u001B[1mwandb\u001B[0m: wandb version 0.12.0 is available!  To upgrade, please run:\n",
      "\u001B[34m\u001B[1mwandb\u001B[0m:  $ pip install wandb --upgrade\n",
      "\u001B[34m\u001B[1mwandb\u001B[0m: Agent Starting Run: xjw44w0s with config:\n",
      "\u001B[34m\u001B[1mwandb\u001B[0m: \tlearning_rate: 0.017209022660668653\n",
      "\u001B[34m\u001B[1mwandb\u001B[0m: \tmax_depth: 12\n",
      "\u001B[34m\u001B[1mwandb\u001B[0m: \tmin_samples_split: 6\n",
      "\u001B[34m\u001B[1mwandb\u001B[0m: \tn_estimators: 512\n",
      "\u001B[34m\u001B[1mwandb\u001B[0m: \tsubsample: 0.6865659932072885\n",
      "\u001B[34m\u001B[1mwandb\u001B[0m: wandb version 0.12.0 is available!  To upgrade, please run:\n",
      "\u001B[34m\u001B[1mwandb\u001B[0m:  $ pip install wandb --upgrade\n",
      "\u001B[34m\u001B[1mwandb\u001B[0m: Agent Starting Run: r39ez4yf with config:\n",
      "\u001B[34m\u001B[1mwandb\u001B[0m: \tlearning_rate: 0.04862189032541691\n",
      "\u001B[34m\u001B[1mwandb\u001B[0m: \tmax_depth: 10\n",
      "\u001B[34m\u001B[1mwandb\u001B[0m: \tmin_samples_split: 10\n",
      "\u001B[34m\u001B[1mwandb\u001B[0m: \tn_estimators: 1024\n",
      "\u001B[34m\u001B[1mwandb\u001B[0m: \tsubsample: 0.5500223093851692\n",
      "\u001B[34m\u001B[1mwandb\u001B[0m: wandb version 0.12.0 is available!  To upgrade, please run:\n",
      "\u001B[34m\u001B[1mwandb\u001B[0m:  $ pip install wandb --upgrade\n",
      "\u001B[34m\u001B[1mwandb\u001B[0m: Agent Starting Run: 32r783uv with config:\n",
      "\u001B[34m\u001B[1mwandb\u001B[0m: \tlearning_rate: 0.11386131049020204\n",
      "\u001B[34m\u001B[1mwandb\u001B[0m: \tmax_depth: 6\n",
      "\u001B[34m\u001B[1mwandb\u001B[0m: \tmin_samples_split: 4\n",
      "\u001B[34m\u001B[1mwandb\u001B[0m: \tn_estimators: 768\n",
      "\u001B[34m\u001B[1mwandb\u001B[0m: \tsubsample: 0.6847507687718696\n",
      "\u001B[34m\u001B[1mwandb\u001B[0m: wandb version 0.12.0 is available!  To upgrade, please run:\n",
      "\u001B[34m\u001B[1mwandb\u001B[0m:  $ pip install wandb --upgrade\n",
      "\u001B[34m\u001B[1mwandb\u001B[0m: Agent Starting Run: v1zukagr with config:\n",
      "\u001B[34m\u001B[1mwandb\u001B[0m: \tlearning_rate: 0.018695058309100735\n",
      "\u001B[34m\u001B[1mwandb\u001B[0m: \tmax_depth: 10\n",
      "\u001B[34m\u001B[1mwandb\u001B[0m: \tmin_samples_split: 10\n",
      "\u001B[34m\u001B[1mwandb\u001B[0m: \tn_estimators: 512\n",
      "\u001B[34m\u001B[1mwandb\u001B[0m: \tsubsample: 0.7508236260809507\n",
      "\u001B[34m\u001B[1mwandb\u001B[0m: wandb version 0.12.0 is available!  To upgrade, please run:\n",
      "\u001B[34m\u001B[1mwandb\u001B[0m:  $ pip install wandb --upgrade\n",
      "\u001B[34m\u001B[1mwandb\u001B[0m: Agent Starting Run: 58kfdfr2 with config:\n",
      "\u001B[34m\u001B[1mwandb\u001B[0m: \tlearning_rate: 0.10570598781002083\n",
      "\u001B[34m\u001B[1mwandb\u001B[0m: \tmax_depth: 8\n",
      "\u001B[34m\u001B[1mwandb\u001B[0m: \tmin_samples_split: 4\n",
      "\u001B[34m\u001B[1mwandb\u001B[0m: \tn_estimators: 256\n",
      "\u001B[34m\u001B[1mwandb\u001B[0m: \tsubsample: 0.5491522730603258\n",
      "\u001B[34m\u001B[1mwandb\u001B[0m: wandb version 0.12.0 is available!  To upgrade, please run:\n",
      "\u001B[34m\u001B[1mwandb\u001B[0m:  $ pip install wandb --upgrade\n",
      "\u001B[34m\u001B[1mwandb\u001B[0m: Agent Starting Run: x1hzsuco with config:\n",
      "\u001B[34m\u001B[1mwandb\u001B[0m: \tlearning_rate: 0.12952393689908082\n",
      "\u001B[34m\u001B[1mwandb\u001B[0m: \tmax_depth: 6\n",
      "\u001B[34m\u001B[1mwandb\u001B[0m: \tmin_samples_split: 10\n",
      "\u001B[34m\u001B[1mwandb\u001B[0m: \tn_estimators: 512\n",
      "\u001B[34m\u001B[1mwandb\u001B[0m: \tsubsample: 0.8429277397660953\n",
      "\u001B[34m\u001B[1mwandb\u001B[0m: wandb version 0.12.0 is available!  To upgrade, please run:\n",
      "\u001B[34m\u001B[1mwandb\u001B[0m:  $ pip install wandb --upgrade\n",
      "\u001B[34m\u001B[1mwandb\u001B[0m: Agent Starting Run: 5qn12qto with config:\n",
      "\u001B[34m\u001B[1mwandb\u001B[0m: \tlearning_rate: 0.03137055614532952\n",
      "\u001B[34m\u001B[1mwandb\u001B[0m: \tmax_depth: 6\n",
      "\u001B[34m\u001B[1mwandb\u001B[0m: \tmin_samples_split: 4\n",
      "\u001B[34m\u001B[1mwandb\u001B[0m: \tn_estimators: 768\n",
      "\u001B[34m\u001B[1mwandb\u001B[0m: \tsubsample: 0.7389733997320033\n",
      "\u001B[34m\u001B[1mwandb\u001B[0m: wandb version 0.12.0 is available!  To upgrade, please run:\n",
      "\u001B[34m\u001B[1mwandb\u001B[0m:  $ pip install wandb --upgrade\n",
      "\u001B[34m\u001B[1mwandb\u001B[0m: Agent Starting Run: 4xxdldyw with config:\n",
      "\u001B[34m\u001B[1mwandb\u001B[0m: \tlearning_rate: 0.11360496061187336\n",
      "\u001B[34m\u001B[1mwandb\u001B[0m: \tmax_depth: 8\n",
      "\u001B[34m\u001B[1mwandb\u001B[0m: \tmin_samples_split: 8\n",
      "\u001B[34m\u001B[1mwandb\u001B[0m: \tn_estimators: 256\n",
      "\u001B[34m\u001B[1mwandb\u001B[0m: \tsubsample: 0.7718809569044065\n",
      "\u001B[34m\u001B[1mwandb\u001B[0m: wandb version 0.12.0 is available!  To upgrade, please run:\n",
      "\u001B[34m\u001B[1mwandb\u001B[0m:  $ pip install wandb --upgrade\n",
      "\u001B[34m\u001B[1mwandb\u001B[0m: Agent Starting Run: 35q6f9uu with config:\n",
      "\u001B[34m\u001B[1mwandb\u001B[0m: \tlearning_rate: 0.10877989971526748\n",
      "\u001B[34m\u001B[1mwandb\u001B[0m: \tmax_depth: 10\n",
      "\u001B[34m\u001B[1mwandb\u001B[0m: \tmin_samples_split: 5\n",
      "\u001B[34m\u001B[1mwandb\u001B[0m: \tn_estimators: 256\n",
      "\u001B[34m\u001B[1mwandb\u001B[0m: \tsubsample: 0.6187426031788337\n",
      "\u001B[34m\u001B[1mwandb\u001B[0m: wandb version 0.12.0 is available!  To upgrade, please run:\n",
      "\u001B[34m\u001B[1mwandb\u001B[0m:  $ pip install wandb --upgrade\n",
      "\u001B[34m\u001B[1mwandb\u001B[0m: Agent Starting Run: shy0a3lt with config:\n",
      "\u001B[34m\u001B[1mwandb\u001B[0m: \tlearning_rate: 0.043182450826036875\n",
      "\u001B[34m\u001B[1mwandb\u001B[0m: \tmax_depth: 7\n",
      "\u001B[34m\u001B[1mwandb\u001B[0m: \tmin_samples_split: 6\n",
      "\u001B[34m\u001B[1mwandb\u001B[0m: \tn_estimators: 256\n",
      "\u001B[34m\u001B[1mwandb\u001B[0m: \tsubsample: 0.5906380643916428\n",
      "\u001B[34m\u001B[1mwandb\u001B[0m: wandb version 0.12.0 is available!  To upgrade, please run:\n",
      "\u001B[34m\u001B[1mwandb\u001B[0m:  $ pip install wandb --upgrade\n",
      "\u001B[34m\u001B[1mwandb\u001B[0m: Agent Starting Run: ow0p664n with config:\n",
      "\u001B[34m\u001B[1mwandb\u001B[0m: \tlearning_rate: 0.14174600918217117\n",
      "\u001B[34m\u001B[1mwandb\u001B[0m: \tmax_depth: 4\n",
      "\u001B[34m\u001B[1mwandb\u001B[0m: \tmin_samples_split: 5\n",
      "\u001B[34m\u001B[1mwandb\u001B[0m: \tn_estimators: 1024\n",
      "\u001B[34m\u001B[1mwandb\u001B[0m: \tsubsample: 0.5515662280981103\n",
      "\u001B[34m\u001B[1mwandb\u001B[0m: wandb version 0.12.0 is available!  To upgrade, please run:\n",
      "\u001B[34m\u001B[1mwandb\u001B[0m:  $ pip install wandb --upgrade\n",
      "\u001B[34m\u001B[1mwandb\u001B[0m: Agent Starting Run: gaebehfr with config:\n",
      "\u001B[34m\u001B[1mwandb\u001B[0m: \tlearning_rate: 0.14474512437797032\n",
      "\u001B[34m\u001B[1mwandb\u001B[0m: \tmax_depth: 10\n",
      "\u001B[34m\u001B[1mwandb\u001B[0m: \tmin_samples_split: 6\n",
      "\u001B[34m\u001B[1mwandb\u001B[0m: \tn_estimators: 1024\n",
      "\u001B[34m\u001B[1mwandb\u001B[0m: \tsubsample: 0.5023443266689221\n",
      "\u001B[34m\u001B[1mwandb\u001B[0m: wandb version 0.12.0 is available!  To upgrade, please run:\n",
      "\u001B[34m\u001B[1mwandb\u001B[0m:  $ pip install wandb --upgrade\n",
      "\u001B[34m\u001B[1mwandb\u001B[0m: Agent Starting Run: f6vd4ewl with config:\n",
      "\u001B[34m\u001B[1mwandb\u001B[0m: \tlearning_rate: 0.022886179340048017\n",
      "\u001B[34m\u001B[1mwandb\u001B[0m: \tmax_depth: 10\n",
      "\u001B[34m\u001B[1mwandb\u001B[0m: \tmin_samples_split: 8\n",
      "\u001B[34m\u001B[1mwandb\u001B[0m: \tn_estimators: 768\n",
      "\u001B[34m\u001B[1mwandb\u001B[0m: \tsubsample: 0.8466654272895631\n",
      "\u001B[34m\u001B[1mwandb\u001B[0m: wandb version 0.12.0 is available!  To upgrade, please run:\n",
      "\u001B[34m\u001B[1mwandb\u001B[0m:  $ pip install wandb --upgrade\n",
      "\u001B[34m\u001B[1mwandb\u001B[0m: Agent Starting Run: x12zhpa4 with config:\n",
      "\u001B[34m\u001B[1mwandb\u001B[0m: \tlearning_rate: 0.13775425384552298\n",
      "\u001B[34m\u001B[1mwandb\u001B[0m: \tmax_depth: 10\n",
      "\u001B[34m\u001B[1mwandb\u001B[0m: \tmin_samples_split: 4\n",
      "\u001B[34m\u001B[1mwandb\u001B[0m: \tn_estimators: 768\n",
      "\u001B[34m\u001B[1mwandb\u001B[0m: \tsubsample: 0.5233598224429729\n",
      "\u001B[34m\u001B[1mwandb\u001B[0m: wandb version 0.12.0 is available!  To upgrade, please run:\n",
      "\u001B[34m\u001B[1mwandb\u001B[0m:  $ pip install wandb --upgrade\n",
      "\u001B[34m\u001B[1mwandb\u001B[0m: Agent Starting Run: unfvufol with config:\n",
      "\u001B[34m\u001B[1mwandb\u001B[0m: \tlearning_rate: 0.12971846063341566\n",
      "\u001B[34m\u001B[1mwandb\u001B[0m: \tmax_depth: 10\n",
      "\u001B[34m\u001B[1mwandb\u001B[0m: \tmin_samples_split: 6\n",
      "\u001B[34m\u001B[1mwandb\u001B[0m: \tn_estimators: 1024\n",
      "\u001B[34m\u001B[1mwandb\u001B[0m: \tsubsample: 0.7490831410443306\n",
      "\u001B[34m\u001B[1mwandb\u001B[0m: wandb version 0.12.0 is available!  To upgrade, please run:\n",
      "\u001B[34m\u001B[1mwandb\u001B[0m:  $ pip install wandb --upgrade\n",
      "\u001B[34m\u001B[1mwandb\u001B[0m: Agent Starting Run: 64ysqa10 with config:\n",
      "\u001B[34m\u001B[1mwandb\u001B[0m: \tlearning_rate: 0.12103680881228383\n",
      "\u001B[34m\u001B[1mwandb\u001B[0m: \tmax_depth: 4\n",
      "\u001B[34m\u001B[1mwandb\u001B[0m: \tmin_samples_split: 4\n",
      "\u001B[34m\u001B[1mwandb\u001B[0m: \tn_estimators: 512\n",
      "\u001B[34m\u001B[1mwandb\u001B[0m: \tsubsample: 0.7352909913749409\n",
      "\u001B[34m\u001B[1mwandb\u001B[0m: wandb version 0.12.0 is available!  To upgrade, please run:\n",
      "\u001B[34m\u001B[1mwandb\u001B[0m:  $ pip install wandb --upgrade\n",
      "\u001B[34m\u001B[1mwandb\u001B[0m: Agent Starting Run: vqwjugwp with config:\n",
      "\u001B[34m\u001B[1mwandb\u001B[0m: \tlearning_rate: 0.03512469686865437\n",
      "\u001B[34m\u001B[1mwandb\u001B[0m: \tmax_depth: 8\n",
      "\u001B[34m\u001B[1mwandb\u001B[0m: \tmin_samples_split: 10\n",
      "\u001B[34m\u001B[1mwandb\u001B[0m: \tn_estimators: 768\n",
      "\u001B[34m\u001B[1mwandb\u001B[0m: \tsubsample: 0.8388576483762027\n",
      "\u001B[34m\u001B[1mwandb\u001B[0m: wandb version 0.12.0 is available!  To upgrade, please run:\n",
      "\u001B[34m\u001B[1mwandb\u001B[0m:  $ pip install wandb --upgrade\n",
      "\u001B[34m\u001B[1mwandb\u001B[0m: Agent Starting Run: eontisof with config:\n",
      "\u001B[34m\u001B[1mwandb\u001B[0m: \tlearning_rate: 0.045675093676788674\n",
      "\u001B[34m\u001B[1mwandb\u001B[0m: \tmax_depth: 5\n",
      "\u001B[34m\u001B[1mwandb\u001B[0m: \tmin_samples_split: 10\n",
      "\u001B[34m\u001B[1mwandb\u001B[0m: \tn_estimators: 1024\n",
      "\u001B[34m\u001B[1mwandb\u001B[0m: \tsubsample: 0.801297246280414\n",
      "\u001B[34m\u001B[1mwandb\u001B[0m: wandb version 0.12.0 is available!  To upgrade, please run:\n",
      "\u001B[34m\u001B[1mwandb\u001B[0m:  $ pip install wandb --upgrade\n",
      "\u001B[34m\u001B[1mwandb\u001B[0m: Agent Starting Run: 58y1ec5w with config:\n",
      "\u001B[34m\u001B[1mwandb\u001B[0m: \tlearning_rate: 0.07933429034117548\n",
      "\u001B[34m\u001B[1mwandb\u001B[0m: \tmax_depth: 5\n",
      "\u001B[34m\u001B[1mwandb\u001B[0m: \tmin_samples_split: 6\n",
      "\u001B[34m\u001B[1mwandb\u001B[0m: \tn_estimators: 768\n",
      "\u001B[34m\u001B[1mwandb\u001B[0m: \tsubsample: 0.5546397788229148\n",
      "\u001B[34m\u001B[1mwandb\u001B[0m: wandb version 0.12.0 is available!  To upgrade, please run:\n",
      "\u001B[34m\u001B[1mwandb\u001B[0m:  $ pip install wandb --upgrade\n",
      "\u001B[34m\u001B[1mwandb\u001B[0m: Agent Starting Run: 8r4vopep with config:\n",
      "\u001B[34m\u001B[1mwandb\u001B[0m: \tlearning_rate: 0.1149734138387801\n",
      "\u001B[34m\u001B[1mwandb\u001B[0m: \tmax_depth: 10\n",
      "\u001B[34m\u001B[1mwandb\u001B[0m: \tmin_samples_split: 8\n",
      "\u001B[34m\u001B[1mwandb\u001B[0m: \tn_estimators: 1024\n",
      "\u001B[34m\u001B[1mwandb\u001B[0m: \tsubsample: 0.7559252801663542\n",
      "\u001B[34m\u001B[1mwandb\u001B[0m: wandb version 0.12.0 is available!  To upgrade, please run:\n",
      "\u001B[34m\u001B[1mwandb\u001B[0m:  $ pip install wandb --upgrade\n",
      "\u001B[34m\u001B[1mwandb\u001B[0m: Agent Starting Run: gaglxawz with config:\n",
      "\u001B[34m\u001B[1mwandb\u001B[0m: \tlearning_rate: 0.022974083393493386\n",
      "\u001B[34m\u001B[1mwandb\u001B[0m: \tmax_depth: 7\n",
      "\u001B[34m\u001B[1mwandb\u001B[0m: \tmin_samples_split: 8\n",
      "\u001B[34m\u001B[1mwandb\u001B[0m: \tn_estimators: 256\n",
      "\u001B[34m\u001B[1mwandb\u001B[0m: \tsubsample: 0.6174638600379905\n",
      "\u001B[34m\u001B[1mwandb\u001B[0m: wandb version 0.12.0 is available!  To upgrade, please run:\n",
      "\u001B[34m\u001B[1mwandb\u001B[0m:  $ pip install wandb --upgrade\n",
      "\u001B[34m\u001B[1mwandb\u001B[0m: Agent Starting Run: cng5uv6u with config:\n",
      "\u001B[34m\u001B[1mwandb\u001B[0m: \tlearning_rate: 0.140275639093324\n",
      "\u001B[34m\u001B[1mwandb\u001B[0m: \tmax_depth: 6\n",
      "\u001B[34m\u001B[1mwandb\u001B[0m: \tmin_samples_split: 10\n",
      "\u001B[34m\u001B[1mwandb\u001B[0m: \tn_estimators: 256\n",
      "\u001B[34m\u001B[1mwandb\u001B[0m: \tsubsample: 0.6149154122756272\n",
      "\u001B[34m\u001B[1mwandb\u001B[0m: wandb version 0.12.0 is available!  To upgrade, please run:\n",
      "\u001B[34m\u001B[1mwandb\u001B[0m:  $ pip install wandb --upgrade\n",
      "\u001B[34m\u001B[1mwandb\u001B[0m: Agent Starting Run: 3coftp7x with config:\n",
      "\u001B[34m\u001B[1mwandb\u001B[0m: \tlearning_rate: 0.06333134085343843\n",
      "\u001B[34m\u001B[1mwandb\u001B[0m: \tmax_depth: 4\n",
      "\u001B[34m\u001B[1mwandb\u001B[0m: \tmin_samples_split: 5\n",
      "\u001B[34m\u001B[1mwandb\u001B[0m: \tn_estimators: 1024\n",
      "\u001B[34m\u001B[1mwandb\u001B[0m: \tsubsample: 0.7415482342059301\n",
      "\u001B[34m\u001B[1mwandb\u001B[0m: wandb version 0.12.0 is available!  To upgrade, please run:\n",
      "\u001B[34m\u001B[1mwandb\u001B[0m:  $ pip install wandb --upgrade\n",
      "\u001B[34m\u001B[1mwandb\u001B[0m: Agent Starting Run: pt2722e5 with config:\n",
      "\u001B[34m\u001B[1mwandb\u001B[0m: \tlearning_rate: 0.07152592156367593\n",
      "\u001B[34m\u001B[1mwandb\u001B[0m: \tmax_depth: 5\n",
      "\u001B[34m\u001B[1mwandb\u001B[0m: \tmin_samples_split: 4\n",
      "\u001B[34m\u001B[1mwandb\u001B[0m: \tn_estimators: 768\n",
      "\u001B[34m\u001B[1mwandb\u001B[0m: \tsubsample: 0.7047386330852088\n",
      "\u001B[34m\u001B[1mwandb\u001B[0m: wandb version 0.12.0 is available!  To upgrade, please run:\n",
      "\u001B[34m\u001B[1mwandb\u001B[0m:  $ pip install wandb --upgrade\n",
      "\u001B[34m\u001B[1mwandb\u001B[0m: Agent Starting Run: 96xnuacq with config:\n",
      "\u001B[34m\u001B[1mwandb\u001B[0m: \tlearning_rate: 0.03722310641123482\n",
      "\u001B[34m\u001B[1mwandb\u001B[0m: \tmax_depth: 6\n",
      "\u001B[34m\u001B[1mwandb\u001B[0m: \tmin_samples_split: 5\n",
      "\u001B[34m\u001B[1mwandb\u001B[0m: \tn_estimators: 512\n",
      "\u001B[34m\u001B[1mwandb\u001B[0m: \tsubsample: 0.6504034312998201\n",
      "\u001B[34m\u001B[1mwandb\u001B[0m: wandb version 0.12.0 is available!  To upgrade, please run:\n",
      "\u001B[34m\u001B[1mwandb\u001B[0m:  $ pip install wandb --upgrade\n",
      "\u001B[34m\u001B[1mwandb\u001B[0m: Agent Starting Run: t9iw8c7d with config:\n",
      "\u001B[34m\u001B[1mwandb\u001B[0m: \tlearning_rate: 0.14659891751590004\n",
      "\u001B[34m\u001B[1mwandb\u001B[0m: \tmax_depth: 5\n",
      "\u001B[34m\u001B[1mwandb\u001B[0m: \tmin_samples_split: 4\n",
      "\u001B[34m\u001B[1mwandb\u001B[0m: \tn_estimators: 1024\n",
      "\u001B[34m\u001B[1mwandb\u001B[0m: \tsubsample: 0.5999249788891171\n",
      "\u001B[34m\u001B[1mwandb\u001B[0m: wandb version 0.12.0 is available!  To upgrade, please run:\n",
      "\u001B[34m\u001B[1mwandb\u001B[0m:  $ pip install wandb --upgrade\n",
      "\u001B[34m\u001B[1mwandb\u001B[0m: Agent Starting Run: k1ywppc2 with config:\n",
      "\u001B[34m\u001B[1mwandb\u001B[0m: \tlearning_rate: 0.11139726862000249\n",
      "\u001B[34m\u001B[1mwandb\u001B[0m: \tmax_depth: 6\n",
      "\u001B[34m\u001B[1mwandb\u001B[0m: \tmin_samples_split: 5\n",
      "\u001B[34m\u001B[1mwandb\u001B[0m: \tn_estimators: 1024\n",
      "\u001B[34m\u001B[1mwandb\u001B[0m: \tsubsample: 0.5732516767913719\n",
      "\u001B[34m\u001B[1mwandb\u001B[0m: wandb version 0.12.0 is available!  To upgrade, please run:\n",
      "\u001B[34m\u001B[1mwandb\u001B[0m:  $ pip install wandb --upgrade\n",
      "\u001B[34m\u001B[1mwandb\u001B[0m: Agent Starting Run: pgfvqnop with config:\n",
      "\u001B[34m\u001B[1mwandb\u001B[0m: \tlearning_rate: 0.14272361829431252\n",
      "\u001B[34m\u001B[1mwandb\u001B[0m: \tmax_depth: 12\n",
      "\u001B[34m\u001B[1mwandb\u001B[0m: \tmin_samples_split: 8\n",
      "\u001B[34m\u001B[1mwandb\u001B[0m: \tn_estimators: 512\n",
      "\u001B[34m\u001B[1mwandb\u001B[0m: \tsubsample: 0.5888743353182434\n",
      "\u001B[34m\u001B[1mwandb\u001B[0m: wandb version 0.12.0 is available!  To upgrade, please run:\n",
      "\u001B[34m\u001B[1mwandb\u001B[0m:  $ pip install wandb --upgrade\n",
      "\u001B[34m\u001B[1mwandb\u001B[0m: Agent Starting Run: 438gf880 with config:\n",
      "\u001B[34m\u001B[1mwandb\u001B[0m: \tlearning_rate: 0.017888678226798384\n",
      "\u001B[34m\u001B[1mwandb\u001B[0m: \tmax_depth: 12\n",
      "\u001B[34m\u001B[1mwandb\u001B[0m: \tmin_samples_split: 8\n",
      "\u001B[34m\u001B[1mwandb\u001B[0m: \tn_estimators: 1024\n",
      "\u001B[34m\u001B[1mwandb\u001B[0m: \tsubsample: 0.8090186706700833\n",
      "\u001B[34m\u001B[1mwandb\u001B[0m: wandb version 0.12.0 is available!  To upgrade, please run:\n",
      "\u001B[34m\u001B[1mwandb\u001B[0m:  $ pip install wandb --upgrade\n"
     ]
    },
    {
     "data": {
      "text/plain": "<IPython.core.display.HTML object>",
      "text/html": "\n                Tracking run with wandb version 0.11.0<br/>\n                Syncing run <strong style=\"color:#cdcd00\">eager-sweep-1</strong> to <a href=\"https://wandb.ai\" target=\"_blank\">Weights & Biases</a> <a href=\"https://docs.wandb.com/integrations/jupyter.html\" target=\"_blank\">(Documentation)</a>.<br/>\n                Project page: <a href=\"https://wandb.ai/devcore/Metriken%20Bauwesen%20Sweeps\" target=\"_blank\">https://wandb.ai/devcore/Metriken%20Bauwesen%20Sweeps</a><br/>\n                Sweep page: <a href=\"https://wandb.ai/devcore/Metriken%20Bauwesen%20Sweeps/sweeps/u3louhfl\" target=\"_blank\">https://wandb.ai/devcore/Metriken%20Bauwesen%20Sweeps/sweeps/u3louhfl</a><br/>\nRun page: <a href=\"https://wandb.ai/devcore/Metriken%20Bauwesen%20Sweeps/runs/90okubuo\" target=\"_blank\">https://wandb.ai/devcore/Metriken%20Bauwesen%20Sweeps/runs/90okubuo</a><br/>\n                Run data is saved locally in <code>D:\\Development\\FHNW\\ip5-metriken-bauwesen\\src\\weight_and_bias\\wandb\\run-20210817_115834-90okubuo</code><br/><br/>\n            "
     },
     "metadata": {},
     "output_type": "display_data"
    },
    {
     "data": {
      "text/plain": "<IPython.core.display.HTML object>",
      "text/html": "<br/>Waiting for W&B process to finish, PID 20436<br/>Program ended successfully."
     },
     "metadata": {},
     "output_type": "display_data"
    },
    {
     "data": {
      "text/plain": "VBox(children=(Label(value=' 0.00MB of 0.00MB uploaded (0.00MB deduped)\\r'), FloatProgress(value=1.0, max=1.0)…",
      "application/vnd.jupyter.widget-view+json": {
       "version_major": 2,
       "version_minor": 0,
       "model_id": "58b2c6edc860402087f3a60ee55bcd3c"
      }
     },
     "metadata": {},
     "output_type": "display_data"
    },
    {
     "data": {
      "text/plain": "<IPython.core.display.HTML object>",
      "text/html": "Find user logs for this run at: <code>D:\\Development\\FHNW\\ip5-metriken-bauwesen\\src\\weight_and_bias\\wandb\\run-20210817_115834-90okubuo\\logs\\debug.log</code>"
     },
     "metadata": {},
     "output_type": "display_data"
    },
    {
     "data": {
      "text/plain": "<IPython.core.display.HTML object>",
      "text/html": "Find internal logs for this run at: <code>D:\\Development\\FHNW\\ip5-metriken-bauwesen\\src\\weight_and_bias\\wandb\\run-20210817_115834-90okubuo\\logs\\debug-internal.log</code>"
     },
     "metadata": {},
     "output_type": "display_data"
    },
    {
     "data": {
      "text/plain": "<IPython.core.display.HTML object>",
      "text/html": "<h3>Run summary:</h3><br/><style>\n    table.wandb td:nth-child(1) { padding: 0 10px; text-align: right }\n    </style><table class=\"wandb\">\n<tr><td>r2</td><td>0.95018</td></tr><tr><td>_runtime</td><td>24</td></tr><tr><td>_timestamp</td><td>1629194338</td></tr><tr><td>_step</td><td>3</td></tr><tr><td>neg_mape</td><td>-0.12918</td></tr><tr><td>neg_mae</td><td>-677.31669</td></tr><tr><td>neg_rmse</td><td>-1344.05372</td></tr></table>"
     },
     "metadata": {},
     "output_type": "display_data"
    },
    {
     "data": {
      "text/plain": "<IPython.core.display.HTML object>",
      "text/html": "<h3>Run history:</h3><br/><style>\n    table.wandb td:nth-child(1) { padding: 0 10px; text-align: right }\n    </style><table class=\"wandb\">\n<tr><td>r2</td><td>▁</td></tr><tr><td>_runtime</td><td>▁▁▁▁</td></tr><tr><td>_timestamp</td><td>▁▁▁▁</td></tr><tr><td>_step</td><td>▁▃▆█</td></tr><tr><td>neg_mape</td><td>▁</td></tr><tr><td>neg_mae</td><td>▁</td></tr><tr><td>neg_rmse</td><td>▁</td></tr></table><br/>"
     },
     "metadata": {},
     "output_type": "display_data"
    },
    {
     "data": {
      "text/plain": "<IPython.core.display.HTML object>",
      "text/html": "Synced 4 W&B file(s), 0 media file(s), 0 artifact file(s) and 0 other file(s)"
     },
     "metadata": {},
     "output_type": "display_data"
    },
    {
     "data": {
      "text/plain": "<IPython.core.display.HTML object>",
      "text/html": "\n                    <br/>Synced <strong style=\"color:#cdcd00\">eager-sweep-1</strong>: <a href=\"https://wandb.ai/devcore/Metriken%20Bauwesen%20Sweeps/runs/90okubuo\" target=\"_blank\">https://wandb.ai/devcore/Metriken%20Bauwesen%20Sweeps/runs/90okubuo</a><br/>\n                "
     },
     "metadata": {},
     "output_type": "display_data"
    },
    {
     "data": {
      "text/plain": "<IPython.core.display.HTML object>",
      "text/html": "\n                Tracking run with wandb version 0.11.0<br/>\n                Syncing run <strong style=\"color:#cdcd00\">flowing-sweep-2</strong> to <a href=\"https://wandb.ai\" target=\"_blank\">Weights & Biases</a> <a href=\"https://docs.wandb.com/integrations/jupyter.html\" target=\"_blank\">(Documentation)</a>.<br/>\n                Project page: <a href=\"https://wandb.ai/devcore/Metriken%20Bauwesen%20Sweeps\" target=\"_blank\">https://wandb.ai/devcore/Metriken%20Bauwesen%20Sweeps</a><br/>\n                Sweep page: <a href=\"https://wandb.ai/devcore/Metriken%20Bauwesen%20Sweeps/sweeps/u3louhfl\" target=\"_blank\">https://wandb.ai/devcore/Metriken%20Bauwesen%20Sweeps/sweeps/u3louhfl</a><br/>\nRun page: <a href=\"https://wandb.ai/devcore/Metriken%20Bauwesen%20Sweeps/runs/mpe241al\" target=\"_blank\">https://wandb.ai/devcore/Metriken%20Bauwesen%20Sweeps/runs/mpe241al</a><br/>\n                Run data is saved locally in <code>D:\\Development\\FHNW\\ip5-metriken-bauwesen\\src\\weight_and_bias\\wandb\\run-20210817_115902-mpe241al</code><br/><br/>\n            "
     },
     "metadata": {},
     "output_type": "display_data"
    },
    {
     "data": {
      "text/plain": "<IPython.core.display.HTML object>",
      "text/html": "<br/>Waiting for W&B process to finish, PID 17080<br/>Program ended successfully."
     },
     "metadata": {},
     "output_type": "display_data"
    },
    {
     "data": {
      "text/plain": "VBox(children=(Label(value=' 0.00MB of 0.00MB uploaded (0.00MB deduped)\\r'), FloatProgress(value=1.0, max=1.0)…",
      "application/vnd.jupyter.widget-view+json": {
       "version_major": 2,
       "version_minor": 0,
       "model_id": "29e9f5bb86d44a1c9531fe1aadc15db3"
      }
     },
     "metadata": {},
     "output_type": "display_data"
    },
    {
     "data": {
      "text/plain": "<IPython.core.display.HTML object>",
      "text/html": "Find user logs for this run at: <code>D:\\Development\\FHNW\\ip5-metriken-bauwesen\\src\\weight_and_bias\\wandb\\run-20210817_115902-mpe241al\\logs\\debug.log</code>"
     },
     "metadata": {},
     "output_type": "display_data"
    },
    {
     "data": {
      "text/plain": "<IPython.core.display.HTML object>",
      "text/html": "Find internal logs for this run at: <code>D:\\Development\\FHNW\\ip5-metriken-bauwesen\\src\\weight_and_bias\\wandb\\run-20210817_115902-mpe241al\\logs\\debug-internal.log</code>"
     },
     "metadata": {},
     "output_type": "display_data"
    },
    {
     "data": {
      "text/plain": "<IPython.core.display.HTML object>",
      "text/html": "<h3>Run summary:</h3><br/><style>\n    table.wandb td:nth-child(1) { padding: 0 10px; text-align: right }\n    </style><table class=\"wandb\">\n<tr><td>r2</td><td>0.9496</td></tr><tr><td>_runtime</td><td>67</td></tr><tr><td>_timestamp</td><td>1629194409</td></tr><tr><td>_step</td><td>3</td></tr><tr><td>neg_mape</td><td>-0.12262</td></tr><tr><td>neg_mae</td><td>-661.21669</td></tr><tr><td>neg_rmse</td><td>-1340.06756</td></tr></table>"
     },
     "metadata": {},
     "output_type": "display_data"
    },
    {
     "data": {
      "text/plain": "<IPython.core.display.HTML object>",
      "text/html": "<h3>Run history:</h3><br/><style>\n    table.wandb td:nth-child(1) { padding: 0 10px; text-align: right }\n    </style><table class=\"wandb\">\n<tr><td>r2</td><td>▁</td></tr><tr><td>_runtime</td><td>▁▁▁▁</td></tr><tr><td>_timestamp</td><td>▁▁▁▁</td></tr><tr><td>_step</td><td>▁▃▆█</td></tr><tr><td>neg_mape</td><td>▁</td></tr><tr><td>neg_mae</td><td>▁</td></tr><tr><td>neg_rmse</td><td>▁</td></tr></table><br/>"
     },
     "metadata": {},
     "output_type": "display_data"
    },
    {
     "data": {
      "text/plain": "<IPython.core.display.HTML object>",
      "text/html": "Synced 4 W&B file(s), 0 media file(s), 0 artifact file(s) and 0 other file(s)"
     },
     "metadata": {},
     "output_type": "display_data"
    },
    {
     "data": {
      "text/plain": "<IPython.core.display.HTML object>",
      "text/html": "\n                    <br/>Synced <strong style=\"color:#cdcd00\">flowing-sweep-2</strong>: <a href=\"https://wandb.ai/devcore/Metriken%20Bauwesen%20Sweeps/runs/mpe241al\" target=\"_blank\">https://wandb.ai/devcore/Metriken%20Bauwesen%20Sweeps/runs/mpe241al</a><br/>\n                "
     },
     "metadata": {},
     "output_type": "display_data"
    },
    {
     "data": {
      "text/plain": "<IPython.core.display.HTML object>",
      "text/html": "\n                Tracking run with wandb version 0.11.0<br/>\n                Syncing run <strong style=\"color:#cdcd00\">prime-sweep-3</strong> to <a href=\"https://wandb.ai\" target=\"_blank\">Weights & Biases</a> <a href=\"https://docs.wandb.com/integrations/jupyter.html\" target=\"_blank\">(Documentation)</a>.<br/>\n                Project page: <a href=\"https://wandb.ai/devcore/Metriken%20Bauwesen%20Sweeps\" target=\"_blank\">https://wandb.ai/devcore/Metriken%20Bauwesen%20Sweeps</a><br/>\n                Sweep page: <a href=\"https://wandb.ai/devcore/Metriken%20Bauwesen%20Sweeps/sweeps/u3louhfl\" target=\"_blank\">https://wandb.ai/devcore/Metriken%20Bauwesen%20Sweeps/sweeps/u3louhfl</a><br/>\nRun page: <a href=\"https://wandb.ai/devcore/Metriken%20Bauwesen%20Sweeps/runs/ut14wyfd\" target=\"_blank\">https://wandb.ai/devcore/Metriken%20Bauwesen%20Sweeps/runs/ut14wyfd</a><br/>\n                Run data is saved locally in <code>D:\\Development\\FHNW\\ip5-metriken-bauwesen\\src\\weight_and_bias\\wandb\\run-20210817_120014-ut14wyfd</code><br/><br/>\n            "
     },
     "metadata": {},
     "output_type": "display_data"
    },
    {
     "data": {
      "text/plain": "<IPython.core.display.HTML object>",
      "text/html": "<br/>Waiting for W&B process to finish, PID 10432<br/>Program ended successfully."
     },
     "metadata": {},
     "output_type": "display_data"
    },
    {
     "data": {
      "text/plain": "VBox(children=(Label(value=' 0.00MB of 0.00MB uploaded (0.00MB deduped)\\r'), FloatProgress(value=1.0, max=1.0)…",
      "application/vnd.jupyter.widget-view+json": {
       "version_major": 2,
       "version_minor": 0,
       "model_id": "e2d17f4b685c489e99eddbbfcd3d6595"
      }
     },
     "metadata": {},
     "output_type": "display_data"
    },
    {
     "data": {
      "text/plain": "<IPython.core.display.HTML object>",
      "text/html": "Find user logs for this run at: <code>D:\\Development\\FHNW\\ip5-metriken-bauwesen\\src\\weight_and_bias\\wandb\\run-20210817_120014-ut14wyfd\\logs\\debug.log</code>"
     },
     "metadata": {},
     "output_type": "display_data"
    },
    {
     "data": {
      "text/plain": "<IPython.core.display.HTML object>",
      "text/html": "Find internal logs for this run at: <code>D:\\Development\\FHNW\\ip5-metriken-bauwesen\\src\\weight_and_bias\\wandb\\run-20210817_120014-ut14wyfd\\logs\\debug-internal.log</code>"
     },
     "metadata": {},
     "output_type": "display_data"
    },
    {
     "data": {
      "text/plain": "<IPython.core.display.HTML object>",
      "text/html": "<h3>Run summary:</h3><br/><style>\n    table.wandb td:nth-child(1) { padding: 0 10px; text-align: right }\n    </style><table class=\"wandb\">\n<tr><td>r2</td><td>0.94499</td></tr><tr><td>_runtime</td><td>41</td></tr><tr><td>_timestamp</td><td>1629194455</td></tr><tr><td>_step</td><td>3</td></tr><tr><td>neg_mape</td><td>-0.14102</td></tr><tr><td>neg_mae</td><td>-719.73727</td></tr><tr><td>neg_rmse</td><td>-1403.78118</td></tr></table>"
     },
     "metadata": {},
     "output_type": "display_data"
    },
    {
     "data": {
      "text/plain": "<IPython.core.display.HTML object>",
      "text/html": "<h3>Run history:</h3><br/><style>\n    table.wandb td:nth-child(1) { padding: 0 10px; text-align: right }\n    </style><table class=\"wandb\">\n<tr><td>r2</td><td>▁</td></tr><tr><td>_runtime</td><td>▁▁▁▁</td></tr><tr><td>_timestamp</td><td>▁▁▁▁</td></tr><tr><td>_step</td><td>▁▃▆█</td></tr><tr><td>neg_mape</td><td>▁</td></tr><tr><td>neg_mae</td><td>▁</td></tr><tr><td>neg_rmse</td><td>▁</td></tr></table><br/>"
     },
     "metadata": {},
     "output_type": "display_data"
    },
    {
     "data": {
      "text/plain": "<IPython.core.display.HTML object>",
      "text/html": "Synced 4 W&B file(s), 0 media file(s), 0 artifact file(s) and 0 other file(s)"
     },
     "metadata": {},
     "output_type": "display_data"
    },
    {
     "data": {
      "text/plain": "<IPython.core.display.HTML object>",
      "text/html": "\n                    <br/>Synced <strong style=\"color:#cdcd00\">prime-sweep-3</strong>: <a href=\"https://wandb.ai/devcore/Metriken%20Bauwesen%20Sweeps/runs/ut14wyfd\" target=\"_blank\">https://wandb.ai/devcore/Metriken%20Bauwesen%20Sweeps/runs/ut14wyfd</a><br/>\n                "
     },
     "metadata": {},
     "output_type": "display_data"
    },
    {
     "data": {
      "text/plain": "<IPython.core.display.HTML object>",
      "text/html": "\n                Tracking run with wandb version 0.11.0<br/>\n                Syncing run <strong style=\"color:#cdcd00\">absurd-sweep-4</strong> to <a href=\"https://wandb.ai\" target=\"_blank\">Weights & Biases</a> <a href=\"https://docs.wandb.com/integrations/jupyter.html\" target=\"_blank\">(Documentation)</a>.<br/>\n                Project page: <a href=\"https://wandb.ai/devcore/Metriken%20Bauwesen%20Sweeps\" target=\"_blank\">https://wandb.ai/devcore/Metriken%20Bauwesen%20Sweeps</a><br/>\n                Sweep page: <a href=\"https://wandb.ai/devcore/Metriken%20Bauwesen%20Sweeps/sweeps/u3louhfl\" target=\"_blank\">https://wandb.ai/devcore/Metriken%20Bauwesen%20Sweeps/sweeps/u3louhfl</a><br/>\nRun page: <a href=\"https://wandb.ai/devcore/Metriken%20Bauwesen%20Sweeps/runs/jk7optah\" target=\"_blank\">https://wandb.ai/devcore/Metriken%20Bauwesen%20Sweeps/runs/jk7optah</a><br/>\n                Run data is saved locally in <code>D:\\Development\\FHNW\\ip5-metriken-bauwesen\\src\\weight_and_bias\\wandb\\run-20210817_120058-jk7optah</code><br/><br/>\n            "
     },
     "metadata": {},
     "output_type": "display_data"
    },
    {
     "data": {
      "text/plain": "<IPython.core.display.HTML object>",
      "text/html": "<br/>Waiting for W&B process to finish, PID 19484<br/>Program ended successfully."
     },
     "metadata": {},
     "output_type": "display_data"
    },
    {
     "data": {
      "text/plain": "VBox(children=(Label(value=' 0.00MB of 0.00MB uploaded (0.00MB deduped)\\r'), FloatProgress(value=1.0, max=1.0)…",
      "application/vnd.jupyter.widget-view+json": {
       "version_major": 2,
       "version_minor": 0,
       "model_id": "a9b2d15608054f0597b6c2085e5cc2fc"
      }
     },
     "metadata": {},
     "output_type": "display_data"
    },
    {
     "data": {
      "text/plain": "<IPython.core.display.HTML object>",
      "text/html": "Find user logs for this run at: <code>D:\\Development\\FHNW\\ip5-metriken-bauwesen\\src\\weight_and_bias\\wandb\\run-20210817_120058-jk7optah\\logs\\debug.log</code>"
     },
     "metadata": {},
     "output_type": "display_data"
    },
    {
     "data": {
      "text/plain": "<IPython.core.display.HTML object>",
      "text/html": "Find internal logs for this run at: <code>D:\\Development\\FHNW\\ip5-metriken-bauwesen\\src\\weight_and_bias\\wandb\\run-20210817_120058-jk7optah\\logs\\debug-internal.log</code>"
     },
     "metadata": {},
     "output_type": "display_data"
    },
    {
     "data": {
      "text/plain": "<IPython.core.display.HTML object>",
      "text/html": "<h3>Run summary:</h3><br/><style>\n    table.wandb td:nth-child(1) { padding: 0 10px; text-align: right }\n    </style><table class=\"wandb\">\n<tr><td>r2</td><td>0.95136</td></tr><tr><td>_runtime</td><td>50</td></tr><tr><td>_timestamp</td><td>1629194508</td></tr><tr><td>_step</td><td>3</td></tr><tr><td>neg_mape</td><td>-0.12946</td></tr><tr><td>neg_mae</td><td>-663.55727</td></tr><tr><td>neg_rmse</td><td>-1314.96256</td></tr></table>"
     },
     "metadata": {},
     "output_type": "display_data"
    },
    {
     "data": {
      "text/plain": "<IPython.core.display.HTML object>",
      "text/html": "<h3>Run history:</h3><br/><style>\n    table.wandb td:nth-child(1) { padding: 0 10px; text-align: right }\n    </style><table class=\"wandb\">\n<tr><td>r2</td><td>▁</td></tr><tr><td>_runtime</td><td>▁▁▁▁</td></tr><tr><td>_timestamp</td><td>▁▁▁▁</td></tr><tr><td>_step</td><td>▁▃▆█</td></tr><tr><td>neg_mape</td><td>▁</td></tr><tr><td>neg_mae</td><td>▁</td></tr><tr><td>neg_rmse</td><td>▁</td></tr></table><br/>"
     },
     "metadata": {},
     "output_type": "display_data"
    },
    {
     "data": {
      "text/plain": "<IPython.core.display.HTML object>",
      "text/html": "Synced 4 W&B file(s), 0 media file(s), 0 artifact file(s) and 0 other file(s)"
     },
     "metadata": {},
     "output_type": "display_data"
    },
    {
     "data": {
      "text/plain": "<IPython.core.display.HTML object>",
      "text/html": "\n                    <br/>Synced <strong style=\"color:#cdcd00\">absurd-sweep-4</strong>: <a href=\"https://wandb.ai/devcore/Metriken%20Bauwesen%20Sweeps/runs/jk7optah\" target=\"_blank\">https://wandb.ai/devcore/Metriken%20Bauwesen%20Sweeps/runs/jk7optah</a><br/>\n                "
     },
     "metadata": {},
     "output_type": "display_data"
    },
    {
     "data": {
      "text/plain": "<IPython.core.display.HTML object>",
      "text/html": "\n                Tracking run with wandb version 0.11.0<br/>\n                Syncing run <strong style=\"color:#cdcd00\">vibrant-sweep-5</strong> to <a href=\"https://wandb.ai\" target=\"_blank\">Weights & Biases</a> <a href=\"https://docs.wandb.com/integrations/jupyter.html\" target=\"_blank\">(Documentation)</a>.<br/>\n                Project page: <a href=\"https://wandb.ai/devcore/Metriken%20Bauwesen%20Sweeps\" target=\"_blank\">https://wandb.ai/devcore/Metriken%20Bauwesen%20Sweeps</a><br/>\n                Sweep page: <a href=\"https://wandb.ai/devcore/Metriken%20Bauwesen%20Sweeps/sweeps/u3louhfl\" target=\"_blank\">https://wandb.ai/devcore/Metriken%20Bauwesen%20Sweeps/sweeps/u3louhfl</a><br/>\nRun page: <a href=\"https://wandb.ai/devcore/Metriken%20Bauwesen%20Sweeps/runs/fmsmad59\" target=\"_blank\">https://wandb.ai/devcore/Metriken%20Bauwesen%20Sweeps/runs/fmsmad59</a><br/>\n                Run data is saved locally in <code>D:\\Development\\FHNW\\ip5-metriken-bauwesen\\src\\weight_and_bias\\wandb\\run-20210817_120153-fmsmad59</code><br/><br/>\n            "
     },
     "metadata": {},
     "output_type": "display_data"
    },
    {
     "data": {
      "text/plain": "<IPython.core.display.HTML object>",
      "text/html": "<br/>Waiting for W&B process to finish, PID 17072<br/>Program ended successfully."
     },
     "metadata": {},
     "output_type": "display_data"
    },
    {
     "data": {
      "text/plain": "VBox(children=(Label(value=' 0.00MB of 0.00MB uploaded (0.00MB deduped)\\r'), FloatProgress(value=1.0, max=1.0)…",
      "application/vnd.jupyter.widget-view+json": {
       "version_major": 2,
       "version_minor": 0,
       "model_id": "ce9d0dd4e41047fabea255e33f113261"
      }
     },
     "metadata": {},
     "output_type": "display_data"
    },
    {
     "data": {
      "text/plain": "<IPython.core.display.HTML object>",
      "text/html": "Find user logs for this run at: <code>D:\\Development\\FHNW\\ip5-metriken-bauwesen\\src\\weight_and_bias\\wandb\\run-20210817_120153-fmsmad59\\logs\\debug.log</code>"
     },
     "metadata": {},
     "output_type": "display_data"
    },
    {
     "data": {
      "text/plain": "<IPython.core.display.HTML object>",
      "text/html": "Find internal logs for this run at: <code>D:\\Development\\FHNW\\ip5-metriken-bauwesen\\src\\weight_and_bias\\wandb\\run-20210817_120153-fmsmad59\\logs\\debug-internal.log</code>"
     },
     "metadata": {},
     "output_type": "display_data"
    },
    {
     "data": {
      "text/plain": "<IPython.core.display.HTML object>",
      "text/html": "<h3>Run summary:</h3><br/><style>\n    table.wandb td:nth-child(1) { padding: 0 10px; text-align: right }\n    </style><table class=\"wandb\">\n<tr><td>r2</td><td>0.95075</td></tr><tr><td>_runtime</td><td>74</td></tr><tr><td>_timestamp</td><td>1629194588</td></tr><tr><td>_step</td><td>3</td></tr><tr><td>neg_mape</td><td>-0.13169</td></tr><tr><td>neg_mae</td><td>-667.23443</td></tr><tr><td>neg_rmse</td><td>-1321.87322</td></tr></table>"
     },
     "metadata": {},
     "output_type": "display_data"
    },
    {
     "data": {
      "text/plain": "<IPython.core.display.HTML object>",
      "text/html": "<h3>Run history:</h3><br/><style>\n    table.wandb td:nth-child(1) { padding: 0 10px; text-align: right }\n    </style><table class=\"wandb\">\n<tr><td>r2</td><td>▁</td></tr><tr><td>_runtime</td><td>▁▁▁▁</td></tr><tr><td>_timestamp</td><td>▁▁▁▁</td></tr><tr><td>_step</td><td>▁▃▆█</td></tr><tr><td>neg_mape</td><td>▁</td></tr><tr><td>neg_mae</td><td>▁</td></tr><tr><td>neg_rmse</td><td>▁</td></tr></table><br/>"
     },
     "metadata": {},
     "output_type": "display_data"
    },
    {
     "data": {
      "text/plain": "<IPython.core.display.HTML object>",
      "text/html": "Synced 4 W&B file(s), 0 media file(s), 0 artifact file(s) and 0 other file(s)"
     },
     "metadata": {},
     "output_type": "display_data"
    },
    {
     "data": {
      "text/plain": "<IPython.core.display.HTML object>",
      "text/html": "\n                    <br/>Synced <strong style=\"color:#cdcd00\">vibrant-sweep-5</strong>: <a href=\"https://wandb.ai/devcore/Metriken%20Bauwesen%20Sweeps/runs/fmsmad59\" target=\"_blank\">https://wandb.ai/devcore/Metriken%20Bauwesen%20Sweeps/runs/fmsmad59</a><br/>\n                "
     },
     "metadata": {},
     "output_type": "display_data"
    },
    {
     "data": {
      "text/plain": "<IPython.core.display.HTML object>",
      "text/html": "\n                Tracking run with wandb version 0.11.0<br/>\n                Syncing run <strong style=\"color:#cdcd00\">cosmic-sweep-6</strong> to <a href=\"https://wandb.ai\" target=\"_blank\">Weights & Biases</a> <a href=\"https://docs.wandb.com/integrations/jupyter.html\" target=\"_blank\">(Documentation)</a>.<br/>\n                Project page: <a href=\"https://wandb.ai/devcore/Metriken%20Bauwesen%20Sweeps\" target=\"_blank\">https://wandb.ai/devcore/Metriken%20Bauwesen%20Sweeps</a><br/>\n                Sweep page: <a href=\"https://wandb.ai/devcore/Metriken%20Bauwesen%20Sweeps/sweeps/u3louhfl\" target=\"_blank\">https://wandb.ai/devcore/Metriken%20Bauwesen%20Sweeps/sweeps/u3louhfl</a><br/>\nRun page: <a href=\"https://wandb.ai/devcore/Metriken%20Bauwesen%20Sweeps/runs/qi6yb1d9\" target=\"_blank\">https://wandb.ai/devcore/Metriken%20Bauwesen%20Sweeps/runs/qi6yb1d9</a><br/>\n                Run data is saved locally in <code>D:\\Development\\FHNW\\ip5-metriken-bauwesen\\src\\weight_and_bias\\wandb\\run-20210817_120312-qi6yb1d9</code><br/><br/>\n            "
     },
     "metadata": {},
     "output_type": "display_data"
    },
    {
     "data": {
      "text/plain": "<IPython.core.display.HTML object>",
      "text/html": "<br/>Waiting for W&B process to finish, PID 6472<br/>Program ended successfully."
     },
     "metadata": {},
     "output_type": "display_data"
    },
    {
     "data": {
      "text/plain": "VBox(children=(Label(value=' 0.00MB of 0.00MB uploaded (0.00MB deduped)\\r'), FloatProgress(value=1.0, max=1.0)…",
      "application/vnd.jupyter.widget-view+json": {
       "version_major": 2,
       "version_minor": 0,
       "model_id": "7f541be97e834ae99732fa44119d00fe"
      }
     },
     "metadata": {},
     "output_type": "display_data"
    },
    {
     "data": {
      "text/plain": "<IPython.core.display.HTML object>",
      "text/html": "Find user logs for this run at: <code>D:\\Development\\FHNW\\ip5-metriken-bauwesen\\src\\weight_and_bias\\wandb\\run-20210817_120312-qi6yb1d9\\logs\\debug.log</code>"
     },
     "metadata": {},
     "output_type": "display_data"
    },
    {
     "data": {
      "text/plain": "<IPython.core.display.HTML object>",
      "text/html": "Find internal logs for this run at: <code>D:\\Development\\FHNW\\ip5-metriken-bauwesen\\src\\weight_and_bias\\wandb\\run-20210817_120312-qi6yb1d9\\logs\\debug-internal.log</code>"
     },
     "metadata": {},
     "output_type": "display_data"
    },
    {
     "data": {
      "text/plain": "<IPython.core.display.HTML object>",
      "text/html": "<h3>Run summary:</h3><br/><style>\n    table.wandb td:nth-child(1) { padding: 0 10px; text-align: right }\n    </style><table class=\"wandb\">\n<tr><td>r2</td><td>0.94868</td></tr><tr><td>_runtime</td><td>28</td></tr><tr><td>_timestamp</td><td>1629194620</td></tr><tr><td>_step</td><td>3</td></tr><tr><td>neg_mape</td><td>-0.13617</td></tr><tr><td>neg_mae</td><td>-674.54712</td></tr><tr><td>neg_rmse</td><td>-1350.88994</td></tr></table>"
     },
     "metadata": {},
     "output_type": "display_data"
    },
    {
     "data": {
      "text/plain": "<IPython.core.display.HTML object>",
      "text/html": "<h3>Run history:</h3><br/><style>\n    table.wandb td:nth-child(1) { padding: 0 10px; text-align: right }\n    </style><table class=\"wandb\">\n<tr><td>r2</td><td>▁</td></tr><tr><td>_runtime</td><td>▁▁▁▁</td></tr><tr><td>_timestamp</td><td>▁▁▁▁</td></tr><tr><td>_step</td><td>▁▃▆█</td></tr><tr><td>neg_mape</td><td>▁</td></tr><tr><td>neg_mae</td><td>▁</td></tr><tr><td>neg_rmse</td><td>▁</td></tr></table><br/>"
     },
     "metadata": {},
     "output_type": "display_data"
    },
    {
     "data": {
      "text/plain": "<IPython.core.display.HTML object>",
      "text/html": "Synced 4 W&B file(s), 0 media file(s), 0 artifact file(s) and 0 other file(s)"
     },
     "metadata": {},
     "output_type": "display_data"
    },
    {
     "data": {
      "text/plain": "<IPython.core.display.HTML object>",
      "text/html": "\n                    <br/>Synced <strong style=\"color:#cdcd00\">cosmic-sweep-6</strong>: <a href=\"https://wandb.ai/devcore/Metriken%20Bauwesen%20Sweeps/runs/qi6yb1d9\" target=\"_blank\">https://wandb.ai/devcore/Metriken%20Bauwesen%20Sweeps/runs/qi6yb1d9</a><br/>\n                "
     },
     "metadata": {},
     "output_type": "display_data"
    },
    {
     "data": {
      "text/plain": "<IPython.core.display.HTML object>",
      "text/html": "\n                Tracking run with wandb version 0.11.0<br/>\n                Syncing run <strong style=\"color:#cdcd00\">crimson-sweep-7</strong> to <a href=\"https://wandb.ai\" target=\"_blank\">Weights & Biases</a> <a href=\"https://docs.wandb.com/integrations/jupyter.html\" target=\"_blank\">(Documentation)</a>.<br/>\n                Project page: <a href=\"https://wandb.ai/devcore/Metriken%20Bauwesen%20Sweeps\" target=\"_blank\">https://wandb.ai/devcore/Metriken%20Bauwesen%20Sweeps</a><br/>\n                Sweep page: <a href=\"https://wandb.ai/devcore/Metriken%20Bauwesen%20Sweeps/sweeps/u3louhfl\" target=\"_blank\">https://wandb.ai/devcore/Metriken%20Bauwesen%20Sweeps/sweeps/u3louhfl</a><br/>\nRun page: <a href=\"https://wandb.ai/devcore/Metriken%20Bauwesen%20Sweeps/runs/rc3tx9rz\" target=\"_blank\">https://wandb.ai/devcore/Metriken%20Bauwesen%20Sweeps/runs/rc3tx9rz</a><br/>\n                Run data is saved locally in <code>D:\\Development\\FHNW\\ip5-metriken-bauwesen\\src\\weight_and_bias\\wandb\\run-20210817_120344-rc3tx9rz</code><br/><br/>\n            "
     },
     "metadata": {},
     "output_type": "display_data"
    },
    {
     "data": {
      "text/plain": "<IPython.core.display.HTML object>",
      "text/html": "<br/>Waiting for W&B process to finish, PID 13160<br/>Program ended successfully."
     },
     "metadata": {},
     "output_type": "display_data"
    },
    {
     "data": {
      "text/plain": "VBox(children=(Label(value=' 0.00MB of 0.00MB uploaded (0.00MB deduped)\\r'), FloatProgress(value=1.0, max=1.0)…",
      "application/vnd.jupyter.widget-view+json": {
       "version_major": 2,
       "version_minor": 0,
       "model_id": "ffdbc0e38e6b449e8da488ee89d84ba4"
      }
     },
     "metadata": {},
     "output_type": "display_data"
    },
    {
     "data": {
      "text/plain": "<IPython.core.display.HTML object>",
      "text/html": "Find user logs for this run at: <code>D:\\Development\\FHNW\\ip5-metriken-bauwesen\\src\\weight_and_bias\\wandb\\run-20210817_120344-rc3tx9rz\\logs\\debug.log</code>"
     },
     "metadata": {},
     "output_type": "display_data"
    },
    {
     "data": {
      "text/plain": "<IPython.core.display.HTML object>",
      "text/html": "Find internal logs for this run at: <code>D:\\Development\\FHNW\\ip5-metriken-bauwesen\\src\\weight_and_bias\\wandb\\run-20210817_120344-rc3tx9rz\\logs\\debug-internal.log</code>"
     },
     "metadata": {},
     "output_type": "display_data"
    },
    {
     "data": {
      "text/plain": "<IPython.core.display.HTML object>",
      "text/html": "<h3>Run summary:</h3><br/><style>\n    table.wandb td:nth-child(1) { padding: 0 10px; text-align: right }\n    </style><table class=\"wandb\">\n<tr><td>r2</td><td>0.94548</td></tr><tr><td>_runtime</td><td>16</td></tr><tr><td>_timestamp</td><td>1629194640</td></tr><tr><td>_step</td><td>3</td></tr><tr><td>neg_mape</td><td>-0.12379</td></tr><tr><td>neg_mae</td><td>-665.46553</td></tr><tr><td>neg_rmse</td><td>-1400.28823</td></tr></table>"
     },
     "metadata": {},
     "output_type": "display_data"
    },
    {
     "data": {
      "text/plain": "<IPython.core.display.HTML object>",
      "text/html": "<h3>Run history:</h3><br/><style>\n    table.wandb td:nth-child(1) { padding: 0 10px; text-align: right }\n    </style><table class=\"wandb\">\n<tr><td>r2</td><td>▁</td></tr><tr><td>_runtime</td><td>▁▁▁▁</td></tr><tr><td>_timestamp</td><td>▁▁▁▁</td></tr><tr><td>_step</td><td>▁▃▆█</td></tr><tr><td>neg_mape</td><td>▁</td></tr><tr><td>neg_mae</td><td>▁</td></tr><tr><td>neg_rmse</td><td>▁</td></tr></table><br/>"
     },
     "metadata": {},
     "output_type": "display_data"
    },
    {
     "data": {
      "text/plain": "<IPython.core.display.HTML object>",
      "text/html": "Synced 4 W&B file(s), 0 media file(s), 0 artifact file(s) and 0 other file(s)"
     },
     "metadata": {},
     "output_type": "display_data"
    },
    {
     "data": {
      "text/plain": "<IPython.core.display.HTML object>",
      "text/html": "\n                    <br/>Synced <strong style=\"color:#cdcd00\">crimson-sweep-7</strong>: <a href=\"https://wandb.ai/devcore/Metriken%20Bauwesen%20Sweeps/runs/rc3tx9rz\" target=\"_blank\">https://wandb.ai/devcore/Metriken%20Bauwesen%20Sweeps/runs/rc3tx9rz</a><br/>\n                "
     },
     "metadata": {},
     "output_type": "display_data"
    },
    {
     "data": {
      "text/plain": "<IPython.core.display.HTML object>",
      "text/html": "\n                Tracking run with wandb version 0.11.0<br/>\n                Syncing run <strong style=\"color:#cdcd00\">fancy-sweep-8</strong> to <a href=\"https://wandb.ai\" target=\"_blank\">Weights & Biases</a> <a href=\"https://docs.wandb.com/integrations/jupyter.html\" target=\"_blank\">(Documentation)</a>.<br/>\n                Project page: <a href=\"https://wandb.ai/devcore/Metriken%20Bauwesen%20Sweeps\" target=\"_blank\">https://wandb.ai/devcore/Metriken%20Bauwesen%20Sweeps</a><br/>\n                Sweep page: <a href=\"https://wandb.ai/devcore/Metriken%20Bauwesen%20Sweeps/sweeps/u3louhfl\" target=\"_blank\">https://wandb.ai/devcore/Metriken%20Bauwesen%20Sweeps/sweeps/u3louhfl</a><br/>\nRun page: <a href=\"https://wandb.ai/devcore/Metriken%20Bauwesen%20Sweeps/runs/86emhjbk\" target=\"_blank\">https://wandb.ai/devcore/Metriken%20Bauwesen%20Sweeps/runs/86emhjbk</a><br/>\n                Run data is saved locally in <code>D:\\Development\\FHNW\\ip5-metriken-bauwesen\\src\\weight_and_bias\\wandb\\run-20210817_120404-86emhjbk</code><br/><br/>\n            "
     },
     "metadata": {},
     "output_type": "display_data"
    },
    {
     "data": {
      "text/plain": "<IPython.core.display.HTML object>",
      "text/html": "<br/>Waiting for W&B process to finish, PID 16092<br/>Program ended successfully."
     },
     "metadata": {},
     "output_type": "display_data"
    },
    {
     "data": {
      "text/plain": "VBox(children=(Label(value=' 0.00MB of 0.00MB uploaded (0.00MB deduped)\\r'), FloatProgress(value=1.0, max=1.0)…",
      "application/vnd.jupyter.widget-view+json": {
       "version_major": 2,
       "version_minor": 0,
       "model_id": "d0d625234c7b4ef0985299246ca036ce"
      }
     },
     "metadata": {},
     "output_type": "display_data"
    },
    {
     "data": {
      "text/plain": "<IPython.core.display.HTML object>",
      "text/html": "Find user logs for this run at: <code>D:\\Development\\FHNW\\ip5-metriken-bauwesen\\src\\weight_and_bias\\wandb\\run-20210817_120404-86emhjbk\\logs\\debug.log</code>"
     },
     "metadata": {},
     "output_type": "display_data"
    },
    {
     "data": {
      "text/plain": "<IPython.core.display.HTML object>",
      "text/html": "Find internal logs for this run at: <code>D:\\Development\\FHNW\\ip5-metriken-bauwesen\\src\\weight_and_bias\\wandb\\run-20210817_120404-86emhjbk\\logs\\debug-internal.log</code>"
     },
     "metadata": {},
     "output_type": "display_data"
    },
    {
     "data": {
      "text/plain": "<IPython.core.display.HTML object>",
      "text/html": "<h3>Run summary:</h3><br/><style>\n    table.wandb td:nth-child(1) { padding: 0 10px; text-align: right }\n    </style><table class=\"wandb\">\n<tr><td>r2</td><td>0.95088</td></tr><tr><td>_runtime</td><td>41</td></tr><tr><td>_timestamp</td><td>1629194685</td></tr><tr><td>_step</td><td>3</td></tr><tr><td>neg_mape</td><td>-0.12511</td></tr><tr><td>neg_mae</td><td>-654.91934</td></tr><tr><td>neg_rmse</td><td>-1325.60401</td></tr></table>"
     },
     "metadata": {},
     "output_type": "display_data"
    },
    {
     "data": {
      "text/plain": "<IPython.core.display.HTML object>",
      "text/html": "<h3>Run history:</h3><br/><style>\n    table.wandb td:nth-child(1) { padding: 0 10px; text-align: right }\n    </style><table class=\"wandb\">\n<tr><td>r2</td><td>▁</td></tr><tr><td>_runtime</td><td>▁▁▁▁</td></tr><tr><td>_timestamp</td><td>▁▁▁▁</td></tr><tr><td>_step</td><td>▁▃▆█</td></tr><tr><td>neg_mape</td><td>▁</td></tr><tr><td>neg_mae</td><td>▁</td></tr><tr><td>neg_rmse</td><td>▁</td></tr></table><br/>"
     },
     "metadata": {},
     "output_type": "display_data"
    },
    {
     "data": {
      "text/plain": "<IPython.core.display.HTML object>",
      "text/html": "Synced 4 W&B file(s), 0 media file(s), 0 artifact file(s) and 0 other file(s)"
     },
     "metadata": {},
     "output_type": "display_data"
    },
    {
     "data": {
      "text/plain": "<IPython.core.display.HTML object>",
      "text/html": "\n                    <br/>Synced <strong style=\"color:#cdcd00\">fancy-sweep-8</strong>: <a href=\"https://wandb.ai/devcore/Metriken%20Bauwesen%20Sweeps/runs/86emhjbk\" target=\"_blank\">https://wandb.ai/devcore/Metriken%20Bauwesen%20Sweeps/runs/86emhjbk</a><br/>\n                "
     },
     "metadata": {},
     "output_type": "display_data"
    },
    {
     "data": {
      "text/plain": "<IPython.core.display.HTML object>",
      "text/html": "\n                Tracking run with wandb version 0.11.0<br/>\n                Syncing run <strong style=\"color:#cdcd00\">fluent-sweep-9</strong> to <a href=\"https://wandb.ai\" target=\"_blank\">Weights & Biases</a> <a href=\"https://docs.wandb.com/integrations/jupyter.html\" target=\"_blank\">(Documentation)</a>.<br/>\n                Project page: <a href=\"https://wandb.ai/devcore/Metriken%20Bauwesen%20Sweeps\" target=\"_blank\">https://wandb.ai/devcore/Metriken%20Bauwesen%20Sweeps</a><br/>\n                Sweep page: <a href=\"https://wandb.ai/devcore/Metriken%20Bauwesen%20Sweeps/sweeps/u3louhfl\" target=\"_blank\">https://wandb.ai/devcore/Metriken%20Bauwesen%20Sweeps/sweeps/u3louhfl</a><br/>\nRun page: <a href=\"https://wandb.ai/devcore/Metriken%20Bauwesen%20Sweeps/runs/zfko0zxb\" target=\"_blank\">https://wandb.ai/devcore/Metriken%20Bauwesen%20Sweeps/runs/zfko0zxb</a><br/>\n                Run data is saved locally in <code>D:\\Development\\FHNW\\ip5-metriken-bauwesen\\src\\weight_and_bias\\wandb\\run-20210817_120450-zfko0zxb</code><br/><br/>\n            "
     },
     "metadata": {},
     "output_type": "display_data"
    },
    {
     "data": {
      "text/plain": "<IPython.core.display.HTML object>",
      "text/html": "<br/>Waiting for W&B process to finish, PID 13760<br/>Program ended successfully."
     },
     "metadata": {},
     "output_type": "display_data"
    },
    {
     "data": {
      "text/plain": "VBox(children=(Label(value=' 0.00MB of 0.00MB uploaded (0.00MB deduped)\\r'), FloatProgress(value=1.0, max=1.0)…",
      "application/vnd.jupyter.widget-view+json": {
       "version_major": 2,
       "version_minor": 0,
       "model_id": "c637d427811a40eb813b2005df22eed8"
      }
     },
     "metadata": {},
     "output_type": "display_data"
    },
    {
     "data": {
      "text/plain": "<IPython.core.display.HTML object>",
      "text/html": "Find user logs for this run at: <code>D:\\Development\\FHNW\\ip5-metriken-bauwesen\\src\\weight_and_bias\\wandb\\run-20210817_120450-zfko0zxb\\logs\\debug.log</code>"
     },
     "metadata": {},
     "output_type": "display_data"
    },
    {
     "data": {
      "text/plain": "<IPython.core.display.HTML object>",
      "text/html": "Find internal logs for this run at: <code>D:\\Development\\FHNW\\ip5-metriken-bauwesen\\src\\weight_and_bias\\wandb\\run-20210817_120450-zfko0zxb\\logs\\debug-internal.log</code>"
     },
     "metadata": {},
     "output_type": "display_data"
    },
    {
     "data": {
      "text/plain": "<IPython.core.display.HTML object>",
      "text/html": "<h3>Run summary:</h3><br/><style>\n    table.wandb td:nth-child(1) { padding: 0 10px; text-align: right }\n    </style><table class=\"wandb\">\n<tr><td>r2</td><td>0.94005</td></tr><tr><td>_runtime</td><td>42</td></tr><tr><td>_timestamp</td><td>1629194732</td></tr><tr><td>_step</td><td>3</td></tr><tr><td>neg_mape</td><td>-0.12836</td></tr><tr><td>neg_mae</td><td>-688.3015</td></tr><tr><td>neg_rmse</td><td>-1471.74475</td></tr></table>"
     },
     "metadata": {},
     "output_type": "display_data"
    },
    {
     "data": {
      "text/plain": "<IPython.core.display.HTML object>",
      "text/html": "<h3>Run history:</h3><br/><style>\n    table.wandb td:nth-child(1) { padding: 0 10px; text-align: right }\n    </style><table class=\"wandb\">\n<tr><td>r2</td><td>▁</td></tr><tr><td>_runtime</td><td>▁▁▁▁</td></tr><tr><td>_timestamp</td><td>▁▁▁▁</td></tr><tr><td>_step</td><td>▁▃▆█</td></tr><tr><td>neg_mape</td><td>▁</td></tr><tr><td>neg_mae</td><td>▁</td></tr><tr><td>neg_rmse</td><td>▁</td></tr></table><br/>"
     },
     "metadata": {},
     "output_type": "display_data"
    },
    {
     "data": {
      "text/plain": "<IPython.core.display.HTML object>",
      "text/html": "Synced 4 W&B file(s), 0 media file(s), 0 artifact file(s) and 0 other file(s)"
     },
     "metadata": {},
     "output_type": "display_data"
    },
    {
     "data": {
      "text/plain": "<IPython.core.display.HTML object>",
      "text/html": "\n                    <br/>Synced <strong style=\"color:#cdcd00\">fluent-sweep-9</strong>: <a href=\"https://wandb.ai/devcore/Metriken%20Bauwesen%20Sweeps/runs/zfko0zxb\" target=\"_blank\">https://wandb.ai/devcore/Metriken%20Bauwesen%20Sweeps/runs/zfko0zxb</a><br/>\n                "
     },
     "metadata": {},
     "output_type": "display_data"
    },
    {
     "data": {
      "text/plain": "<IPython.core.display.HTML object>",
      "text/html": "\n                Tracking run with wandb version 0.11.0<br/>\n                Syncing run <strong style=\"color:#cdcd00\">trim-sweep-10</strong> to <a href=\"https://wandb.ai\" target=\"_blank\">Weights & Biases</a> <a href=\"https://docs.wandb.com/integrations/jupyter.html\" target=\"_blank\">(Documentation)</a>.<br/>\n                Project page: <a href=\"https://wandb.ai/devcore/Metriken%20Bauwesen%20Sweeps\" target=\"_blank\">https://wandb.ai/devcore/Metriken%20Bauwesen%20Sweeps</a><br/>\n                Sweep page: <a href=\"https://wandb.ai/devcore/Metriken%20Bauwesen%20Sweeps/sweeps/u3louhfl\" target=\"_blank\">https://wandb.ai/devcore/Metriken%20Bauwesen%20Sweeps/sweeps/u3louhfl</a><br/>\nRun page: <a href=\"https://wandb.ai/devcore/Metriken%20Bauwesen%20Sweeps/runs/q8gbpmyx\" target=\"_blank\">https://wandb.ai/devcore/Metriken%20Bauwesen%20Sweeps/runs/q8gbpmyx</a><br/>\n                Run data is saved locally in <code>D:\\Development\\FHNW\\ip5-metriken-bauwesen\\src\\weight_and_bias\\wandb\\run-20210817_120537-q8gbpmyx</code><br/><br/>\n            "
     },
     "metadata": {},
     "output_type": "display_data"
    },
    {
     "data": {
      "text/plain": "<IPython.core.display.HTML object>",
      "text/html": "<br/>Waiting for W&B process to finish, PID 6704<br/>Program ended successfully."
     },
     "metadata": {},
     "output_type": "display_data"
    },
    {
     "data": {
      "text/plain": "VBox(children=(Label(value=' 0.00MB of 0.00MB uploaded (0.00MB deduped)\\r'), FloatProgress(value=1.0, max=1.0)…",
      "application/vnd.jupyter.widget-view+json": {
       "version_major": 2,
       "version_minor": 0,
       "model_id": "28615c94962c4ee7bd8e0491fb39250a"
      }
     },
     "metadata": {},
     "output_type": "display_data"
    },
    {
     "data": {
      "text/plain": "<IPython.core.display.HTML object>",
      "text/html": "Find user logs for this run at: <code>D:\\Development\\FHNW\\ip5-metriken-bauwesen\\src\\weight_and_bias\\wandb\\run-20210817_120537-q8gbpmyx\\logs\\debug.log</code>"
     },
     "metadata": {},
     "output_type": "display_data"
    },
    {
     "data": {
      "text/plain": "<IPython.core.display.HTML object>",
      "text/html": "Find internal logs for this run at: <code>D:\\Development\\FHNW\\ip5-metriken-bauwesen\\src\\weight_and_bias\\wandb\\run-20210817_120537-q8gbpmyx\\logs\\debug-internal.log</code>"
     },
     "metadata": {},
     "output_type": "display_data"
    },
    {
     "data": {
      "text/plain": "<IPython.core.display.HTML object>",
      "text/html": "<h3>Run summary:</h3><br/><style>\n    table.wandb td:nth-child(1) { padding: 0 10px; text-align: right }\n    </style><table class=\"wandb\">\n<tr><td>r2</td><td>0.94758</td></tr><tr><td>_runtime</td><td>78</td></tr><tr><td>_timestamp</td><td>1629194815</td></tr><tr><td>_step</td><td>3</td></tr><tr><td>neg_mape</td><td>-0.1308</td></tr><tr><td>neg_mae</td><td>-678.9496</td></tr><tr><td>neg_rmse</td><td>-1355.2388</td></tr></table>"
     },
     "metadata": {},
     "output_type": "display_data"
    },
    {
     "data": {
      "text/plain": "<IPython.core.display.HTML object>",
      "text/html": "<h3>Run history:</h3><br/><style>\n    table.wandb td:nth-child(1) { padding: 0 10px; text-align: right }\n    </style><table class=\"wandb\">\n<tr><td>r2</td><td>▁</td></tr><tr><td>_runtime</td><td>▁▁▁▁</td></tr><tr><td>_timestamp</td><td>▁▁▁▁</td></tr><tr><td>_step</td><td>▁▃▆█</td></tr><tr><td>neg_mape</td><td>▁</td></tr><tr><td>neg_mae</td><td>▁</td></tr><tr><td>neg_rmse</td><td>▁</td></tr></table><br/>"
     },
     "metadata": {},
     "output_type": "display_data"
    },
    {
     "data": {
      "text/plain": "<IPython.core.display.HTML object>",
      "text/html": "Synced 4 W&B file(s), 0 media file(s), 0 artifact file(s) and 0 other file(s)"
     },
     "metadata": {},
     "output_type": "display_data"
    },
    {
     "data": {
      "text/plain": "<IPython.core.display.HTML object>",
      "text/html": "\n                    <br/>Synced <strong style=\"color:#cdcd00\">trim-sweep-10</strong>: <a href=\"https://wandb.ai/devcore/Metriken%20Bauwesen%20Sweeps/runs/q8gbpmyx\" target=\"_blank\">https://wandb.ai/devcore/Metriken%20Bauwesen%20Sweeps/runs/q8gbpmyx</a><br/>\n                "
     },
     "metadata": {},
     "output_type": "display_data"
    },
    {
     "data": {
      "text/plain": "<IPython.core.display.HTML object>",
      "text/html": "\n                Tracking run with wandb version 0.11.0<br/>\n                Syncing run <strong style=\"color:#cdcd00\">azure-sweep-11</strong> to <a href=\"https://wandb.ai\" target=\"_blank\">Weights & Biases</a> <a href=\"https://docs.wandb.com/integrations/jupyter.html\" target=\"_blank\">(Documentation)</a>.<br/>\n                Project page: <a href=\"https://wandb.ai/devcore/Metriken%20Bauwesen%20Sweeps\" target=\"_blank\">https://wandb.ai/devcore/Metriken%20Bauwesen%20Sweeps</a><br/>\n                Sweep page: <a href=\"https://wandb.ai/devcore/Metriken%20Bauwesen%20Sweeps/sweeps/u3louhfl\" target=\"_blank\">https://wandb.ai/devcore/Metriken%20Bauwesen%20Sweeps/sweeps/u3louhfl</a><br/>\nRun page: <a href=\"https://wandb.ai/devcore/Metriken%20Bauwesen%20Sweeps/runs/9pxudeso\" target=\"_blank\">https://wandb.ai/devcore/Metriken%20Bauwesen%20Sweeps/runs/9pxudeso</a><br/>\n                Run data is saved locally in <code>D:\\Development\\FHNW\\ip5-metriken-bauwesen\\src\\weight_and_bias\\wandb\\run-20210817_120700-9pxudeso</code><br/><br/>\n            "
     },
     "metadata": {},
     "output_type": "display_data"
    },
    {
     "data": {
      "text/plain": "<IPython.core.display.HTML object>",
      "text/html": "<br/>Waiting for W&B process to finish, PID 23260<br/>Program ended successfully."
     },
     "metadata": {},
     "output_type": "display_data"
    },
    {
     "data": {
      "text/plain": "VBox(children=(Label(value=' 0.00MB of 0.00MB uploaded (0.00MB deduped)\\r'), FloatProgress(value=1.0, max=1.0)…",
      "application/vnd.jupyter.widget-view+json": {
       "version_major": 2,
       "version_minor": 0,
       "model_id": "aefde9778d7e4c7aa74908663874ab8a"
      }
     },
     "metadata": {},
     "output_type": "display_data"
    },
    {
     "data": {
      "text/plain": "<IPython.core.display.HTML object>",
      "text/html": "Find user logs for this run at: <code>D:\\Development\\FHNW\\ip5-metriken-bauwesen\\src\\weight_and_bias\\wandb\\run-20210817_120700-9pxudeso\\logs\\debug.log</code>"
     },
     "metadata": {},
     "output_type": "display_data"
    },
    {
     "data": {
      "text/plain": "<IPython.core.display.HTML object>",
      "text/html": "Find internal logs for this run at: <code>D:\\Development\\FHNW\\ip5-metriken-bauwesen\\src\\weight_and_bias\\wandb\\run-20210817_120700-9pxudeso\\logs\\debug-internal.log</code>"
     },
     "metadata": {},
     "output_type": "display_data"
    },
    {
     "data": {
      "text/plain": "<IPython.core.display.HTML object>",
      "text/html": "<h3>Run summary:</h3><br/><style>\n    table.wandb td:nth-child(1) { padding: 0 10px; text-align: right }\n    </style><table class=\"wandb\">\n<tr><td>r2</td><td>0.9528</td></tr><tr><td>_runtime</td><td>63</td></tr><tr><td>_timestamp</td><td>1629194883</td></tr><tr><td>_step</td><td>3</td></tr><tr><td>neg_mape</td><td>-0.12541</td></tr><tr><td>neg_mae</td><td>-651.62887</td></tr><tr><td>neg_rmse</td><td>-1293.5554</td></tr></table>"
     },
     "metadata": {},
     "output_type": "display_data"
    },
    {
     "data": {
      "text/plain": "<IPython.core.display.HTML object>",
      "text/html": "<h3>Run history:</h3><br/><style>\n    table.wandb td:nth-child(1) { padding: 0 10px; text-align: right }\n    </style><table class=\"wandb\">\n<tr><td>r2</td><td>▁</td></tr><tr><td>_runtime</td><td>▁▁▁▁</td></tr><tr><td>_timestamp</td><td>▁▁▁▁</td></tr><tr><td>_step</td><td>▁▃▆█</td></tr><tr><td>neg_mape</td><td>▁</td></tr><tr><td>neg_mae</td><td>▁</td></tr><tr><td>neg_rmse</td><td>▁</td></tr></table><br/>"
     },
     "metadata": {},
     "output_type": "display_data"
    },
    {
     "data": {
      "text/plain": "<IPython.core.display.HTML object>",
      "text/html": "Synced 4 W&B file(s), 0 media file(s), 0 artifact file(s) and 0 other file(s)"
     },
     "metadata": {},
     "output_type": "display_data"
    },
    {
     "data": {
      "text/plain": "<IPython.core.display.HTML object>",
      "text/html": "\n                    <br/>Synced <strong style=\"color:#cdcd00\">azure-sweep-11</strong>: <a href=\"https://wandb.ai/devcore/Metriken%20Bauwesen%20Sweeps/runs/9pxudeso\" target=\"_blank\">https://wandb.ai/devcore/Metriken%20Bauwesen%20Sweeps/runs/9pxudeso</a><br/>\n                "
     },
     "metadata": {},
     "output_type": "display_data"
    },
    {
     "data": {
      "text/plain": "<IPython.core.display.HTML object>",
      "text/html": "\n                Tracking run with wandb version 0.11.0<br/>\n                Syncing run <strong style=\"color:#cdcd00\">dulcet-sweep-12</strong> to <a href=\"https://wandb.ai\" target=\"_blank\">Weights & Biases</a> <a href=\"https://docs.wandb.com/integrations/jupyter.html\" target=\"_blank\">(Documentation)</a>.<br/>\n                Project page: <a href=\"https://wandb.ai/devcore/Metriken%20Bauwesen%20Sweeps\" target=\"_blank\">https://wandb.ai/devcore/Metriken%20Bauwesen%20Sweeps</a><br/>\n                Sweep page: <a href=\"https://wandb.ai/devcore/Metriken%20Bauwesen%20Sweeps/sweeps/u3louhfl\" target=\"_blank\">https://wandb.ai/devcore/Metriken%20Bauwesen%20Sweeps/sweeps/u3louhfl</a><br/>\nRun page: <a href=\"https://wandb.ai/devcore/Metriken%20Bauwesen%20Sweeps/runs/84irrblf\" target=\"_blank\">https://wandb.ai/devcore/Metriken%20Bauwesen%20Sweeps/runs/84irrblf</a><br/>\n                Run data is saved locally in <code>D:\\Development\\FHNW\\ip5-metriken-bauwesen\\src\\weight_and_bias\\wandb\\run-20210817_120807-84irrblf</code><br/><br/>\n            "
     },
     "metadata": {},
     "output_type": "display_data"
    },
    {
     "data": {
      "text/plain": "<IPython.core.display.HTML object>",
      "text/html": "<br/>Waiting for W&B process to finish, PID 18824<br/>Program ended successfully."
     },
     "metadata": {},
     "output_type": "display_data"
    },
    {
     "data": {
      "text/plain": "VBox(children=(Label(value=' 0.00MB of 0.00MB uploaded (0.00MB deduped)\\r'), FloatProgress(value=1.0, max=1.0)…",
      "application/vnd.jupyter.widget-view+json": {
       "version_major": 2,
       "version_minor": 0,
       "model_id": "2ae58ac0d81e4bf98403721d82ace350"
      }
     },
     "metadata": {},
     "output_type": "display_data"
    },
    {
     "data": {
      "text/plain": "<IPython.core.display.HTML object>",
      "text/html": "Find user logs for this run at: <code>D:\\Development\\FHNW\\ip5-metriken-bauwesen\\src\\weight_and_bias\\wandb\\run-20210817_120807-84irrblf\\logs\\debug.log</code>"
     },
     "metadata": {},
     "output_type": "display_data"
    },
    {
     "data": {
      "text/plain": "<IPython.core.display.HTML object>",
      "text/html": "Find internal logs for this run at: <code>D:\\Development\\FHNW\\ip5-metriken-bauwesen\\src\\weight_and_bias\\wandb\\run-20210817_120807-84irrblf\\logs\\debug-internal.log</code>"
     },
     "metadata": {},
     "output_type": "display_data"
    },
    {
     "data": {
      "text/plain": "<IPython.core.display.HTML object>",
      "text/html": "<h3>Run summary:</h3><br/><style>\n    table.wandb td:nth-child(1) { padding: 0 10px; text-align: right }\n    </style><table class=\"wandb\">\n<tr><td>r2</td><td>0.94509</td></tr><tr><td>_runtime</td><td>53</td></tr><tr><td>_timestamp</td><td>1629194941</td></tr><tr><td>_step</td><td>3</td></tr><tr><td>neg_mape</td><td>-0.14371</td></tr><tr><td>neg_mae</td><td>-723.50456</td></tr><tr><td>neg_rmse</td><td>-1398.18557</td></tr></table>"
     },
     "metadata": {},
     "output_type": "display_data"
    },
    {
     "data": {
      "text/plain": "<IPython.core.display.HTML object>",
      "text/html": "<h3>Run history:</h3><br/><style>\n    table.wandb td:nth-child(1) { padding: 0 10px; text-align: right }\n    </style><table class=\"wandb\">\n<tr><td>r2</td><td>▁</td></tr><tr><td>_runtime</td><td>▁▁▁▁</td></tr><tr><td>_timestamp</td><td>▁▁▁▁</td></tr><tr><td>_step</td><td>▁▃▆█</td></tr><tr><td>neg_mape</td><td>▁</td></tr><tr><td>neg_mae</td><td>▁</td></tr><tr><td>neg_rmse</td><td>▁</td></tr></table><br/>"
     },
     "metadata": {},
     "output_type": "display_data"
    },
    {
     "data": {
      "text/plain": "<IPython.core.display.HTML object>",
      "text/html": "Synced 4 W&B file(s), 0 media file(s), 0 artifact file(s) and 0 other file(s)"
     },
     "metadata": {},
     "output_type": "display_data"
    },
    {
     "data": {
      "text/plain": "<IPython.core.display.HTML object>",
      "text/html": "\n                    <br/>Synced <strong style=\"color:#cdcd00\">dulcet-sweep-12</strong>: <a href=\"https://wandb.ai/devcore/Metriken%20Bauwesen%20Sweeps/runs/84irrblf\" target=\"_blank\">https://wandb.ai/devcore/Metriken%20Bauwesen%20Sweeps/runs/84irrblf</a><br/>\n                "
     },
     "metadata": {},
     "output_type": "display_data"
    },
    {
     "data": {
      "text/plain": "<IPython.core.display.HTML object>",
      "text/html": "\n                Tracking run with wandb version 0.11.0<br/>\n                Syncing run <strong style=\"color:#cdcd00\">hopeful-sweep-13</strong> to <a href=\"https://wandb.ai\" target=\"_blank\">Weights & Biases</a> <a href=\"https://docs.wandb.com/integrations/jupyter.html\" target=\"_blank\">(Documentation)</a>.<br/>\n                Project page: <a href=\"https://wandb.ai/devcore/Metriken%20Bauwesen%20Sweeps\" target=\"_blank\">https://wandb.ai/devcore/Metriken%20Bauwesen%20Sweeps</a><br/>\n                Sweep page: <a href=\"https://wandb.ai/devcore/Metriken%20Bauwesen%20Sweeps/sweeps/u3louhfl\" target=\"_blank\">https://wandb.ai/devcore/Metriken%20Bauwesen%20Sweeps/sweeps/u3louhfl</a><br/>\nRun page: <a href=\"https://wandb.ai/devcore/Metriken%20Bauwesen%20Sweeps/runs/qqdgoxvw\" target=\"_blank\">https://wandb.ai/devcore/Metriken%20Bauwesen%20Sweeps/runs/qqdgoxvw</a><br/>\n                Run data is saved locally in <code>D:\\Development\\FHNW\\ip5-metriken-bauwesen\\src\\weight_and_bias\\wandb\\run-20210817_120905-qqdgoxvw</code><br/><br/>\n            "
     },
     "metadata": {},
     "output_type": "display_data"
    },
    {
     "data": {
      "text/plain": "<IPython.core.display.HTML object>",
      "text/html": "<br/>Waiting for W&B process to finish, PID 8800<br/>Program ended successfully."
     },
     "metadata": {},
     "output_type": "display_data"
    },
    {
     "data": {
      "text/plain": "VBox(children=(Label(value=' 0.00MB of 0.00MB uploaded (0.00MB deduped)\\r'), FloatProgress(value=1.0, max=1.0)…",
      "application/vnd.jupyter.widget-view+json": {
       "version_major": 2,
       "version_minor": 0,
       "model_id": "ff2f0ab3d9554f39a887622ba0a4837f"
      }
     },
     "metadata": {},
     "output_type": "display_data"
    },
    {
     "data": {
      "text/plain": "<IPython.core.display.HTML object>",
      "text/html": "Find user logs for this run at: <code>D:\\Development\\FHNW\\ip5-metriken-bauwesen\\src\\weight_and_bias\\wandb\\run-20210817_120905-qqdgoxvw\\logs\\debug.log</code>"
     },
     "metadata": {},
     "output_type": "display_data"
    },
    {
     "data": {
      "text/plain": "<IPython.core.display.HTML object>",
      "text/html": "Find internal logs for this run at: <code>D:\\Development\\FHNW\\ip5-metriken-bauwesen\\src\\weight_and_bias\\wandb\\run-20210817_120905-qqdgoxvw\\logs\\debug-internal.log</code>"
     },
     "metadata": {},
     "output_type": "display_data"
    },
    {
     "data": {
      "text/plain": "<IPython.core.display.HTML object>",
      "text/html": "<h3>Run summary:</h3><br/><style>\n    table.wandb td:nth-child(1) { padding: 0 10px; text-align: right }\n    </style><table class=\"wandb\">\n<tr><td>r2</td><td>0.94017</td></tr><tr><td>_runtime</td><td>27</td></tr><tr><td>_timestamp</td><td>1629194972</td></tr><tr><td>_step</td><td>3</td></tr><tr><td>neg_mape</td><td>-0.13604</td></tr><tr><td>neg_mae</td><td>-719.30474</td></tr><tr><td>neg_rmse</td><td>-1455.58585</td></tr></table>"
     },
     "metadata": {},
     "output_type": "display_data"
    },
    {
     "data": {
      "text/plain": "<IPython.core.display.HTML object>",
      "text/html": "<h3>Run history:</h3><br/><style>\n    table.wandb td:nth-child(1) { padding: 0 10px; text-align: right }\n    </style><table class=\"wandb\">\n<tr><td>r2</td><td>▁</td></tr><tr><td>_runtime</td><td>▁▁▁▁</td></tr><tr><td>_timestamp</td><td>▁▁▁▁</td></tr><tr><td>_step</td><td>▁▃▆█</td></tr><tr><td>neg_mape</td><td>▁</td></tr><tr><td>neg_mae</td><td>▁</td></tr><tr><td>neg_rmse</td><td>▁</td></tr></table><br/>"
     },
     "metadata": {},
     "output_type": "display_data"
    },
    {
     "data": {
      "text/plain": "<IPython.core.display.HTML object>",
      "text/html": "Synced 4 W&B file(s), 0 media file(s), 0 artifact file(s) and 0 other file(s)"
     },
     "metadata": {},
     "output_type": "display_data"
    },
    {
     "data": {
      "text/plain": "<IPython.core.display.HTML object>",
      "text/html": "\n                    <br/>Synced <strong style=\"color:#cdcd00\">hopeful-sweep-13</strong>: <a href=\"https://wandb.ai/devcore/Metriken%20Bauwesen%20Sweeps/runs/qqdgoxvw\" target=\"_blank\">https://wandb.ai/devcore/Metriken%20Bauwesen%20Sweeps/runs/qqdgoxvw</a><br/>\n                "
     },
     "metadata": {},
     "output_type": "display_data"
    },
    {
     "data": {
      "text/plain": "<IPython.core.display.HTML object>",
      "text/html": "\n                Tracking run with wandb version 0.11.0<br/>\n                Syncing run <strong style=\"color:#cdcd00\">restful-sweep-14</strong> to <a href=\"https://wandb.ai\" target=\"_blank\">Weights & Biases</a> <a href=\"https://docs.wandb.com/integrations/jupyter.html\" target=\"_blank\">(Documentation)</a>.<br/>\n                Project page: <a href=\"https://wandb.ai/devcore/Metriken%20Bauwesen%20Sweeps\" target=\"_blank\">https://wandb.ai/devcore/Metriken%20Bauwesen%20Sweeps</a><br/>\n                Sweep page: <a href=\"https://wandb.ai/devcore/Metriken%20Bauwesen%20Sweeps/sweeps/u3louhfl\" target=\"_blank\">https://wandb.ai/devcore/Metriken%20Bauwesen%20Sweeps/sweeps/u3louhfl</a><br/>\nRun page: <a href=\"https://wandb.ai/devcore/Metriken%20Bauwesen%20Sweeps/runs/yjxgozy3\" target=\"_blank\">https://wandb.ai/devcore/Metriken%20Bauwesen%20Sweeps/runs/yjxgozy3</a><br/>\n                Run data is saved locally in <code>D:\\Development\\FHNW\\ip5-metriken-bauwesen\\src\\weight_and_bias\\wandb\\run-20210817_120937-yjxgozy3</code><br/><br/>\n            "
     },
     "metadata": {},
     "output_type": "display_data"
    },
    {
     "data": {
      "text/plain": "<IPython.core.display.HTML object>",
      "text/html": "<br/>Waiting for W&B process to finish, PID 4344<br/>Program ended successfully."
     },
     "metadata": {},
     "output_type": "display_data"
    },
    {
     "data": {
      "text/plain": "VBox(children=(Label(value=' 0.00MB of 0.00MB uploaded (0.00MB deduped)\\r'), FloatProgress(value=1.0, max=1.0)…",
      "application/vnd.jupyter.widget-view+json": {
       "version_major": 2,
       "version_minor": 0,
       "model_id": "d247f6b3aa1345d8a0e3ac332d8f45e0"
      }
     },
     "metadata": {},
     "output_type": "display_data"
    },
    {
     "data": {
      "text/plain": "<IPython.core.display.HTML object>",
      "text/html": "Find user logs for this run at: <code>D:\\Development\\FHNW\\ip5-metriken-bauwesen\\src\\weight_and_bias\\wandb\\run-20210817_120937-yjxgozy3\\logs\\debug.log</code>"
     },
     "metadata": {},
     "output_type": "display_data"
    },
    {
     "data": {
      "text/plain": "<IPython.core.display.HTML object>",
      "text/html": "Find internal logs for this run at: <code>D:\\Development\\FHNW\\ip5-metriken-bauwesen\\src\\weight_and_bias\\wandb\\run-20210817_120937-yjxgozy3\\logs\\debug-internal.log</code>"
     },
     "metadata": {},
     "output_type": "display_data"
    },
    {
     "data": {
      "text/plain": "<IPython.core.display.HTML object>",
      "text/html": "<h3>Run summary:</h3><br/><style>\n    table.wandb td:nth-child(1) { padding: 0 10px; text-align: right }\n    </style><table class=\"wandb\">\n<tr><td>r2</td><td>0.95043</td></tr><tr><td>_runtime</td><td>42</td></tr><tr><td>_timestamp</td><td>1629195019</td></tr><tr><td>_step</td><td>3</td></tr><tr><td>neg_mape</td><td>-0.12756</td></tr><tr><td>neg_mae</td><td>-656.45137</td></tr><tr><td>neg_rmse</td><td>-1327.21155</td></tr></table>"
     },
     "metadata": {},
     "output_type": "display_data"
    },
    {
     "data": {
      "text/plain": "<IPython.core.display.HTML object>",
      "text/html": "<h3>Run history:</h3><br/><style>\n    table.wandb td:nth-child(1) { padding: 0 10px; text-align: right }\n    </style><table class=\"wandb\">\n<tr><td>r2</td><td>▁</td></tr><tr><td>_runtime</td><td>▁▁▁▁</td></tr><tr><td>_timestamp</td><td>▁▁▁▁</td></tr><tr><td>_step</td><td>▁▃▆█</td></tr><tr><td>neg_mape</td><td>▁</td></tr><tr><td>neg_mae</td><td>▁</td></tr><tr><td>neg_rmse</td><td>▁</td></tr></table><br/>"
     },
     "metadata": {},
     "output_type": "display_data"
    },
    {
     "data": {
      "text/plain": "<IPython.core.display.HTML object>",
      "text/html": "Synced 4 W&B file(s), 0 media file(s), 0 artifact file(s) and 0 other file(s)"
     },
     "metadata": {},
     "output_type": "display_data"
    },
    {
     "data": {
      "text/plain": "<IPython.core.display.HTML object>",
      "text/html": "\n                    <br/>Synced <strong style=\"color:#cdcd00\">restful-sweep-14</strong>: <a href=\"https://wandb.ai/devcore/Metriken%20Bauwesen%20Sweeps/runs/yjxgozy3\" target=\"_blank\">https://wandb.ai/devcore/Metriken%20Bauwesen%20Sweeps/runs/yjxgozy3</a><br/>\n                "
     },
     "metadata": {},
     "output_type": "display_data"
    },
    {
     "data": {
      "text/plain": "<IPython.core.display.HTML object>",
      "text/html": "\n                Tracking run with wandb version 0.11.0<br/>\n                Syncing run <strong style=\"color:#cdcd00\">true-sweep-15</strong> to <a href=\"https://wandb.ai\" target=\"_blank\">Weights & Biases</a> <a href=\"https://docs.wandb.com/integrations/jupyter.html\" target=\"_blank\">(Documentation)</a>.<br/>\n                Project page: <a href=\"https://wandb.ai/devcore/Metriken%20Bauwesen%20Sweeps\" target=\"_blank\">https://wandb.ai/devcore/Metriken%20Bauwesen%20Sweeps</a><br/>\n                Sweep page: <a href=\"https://wandb.ai/devcore/Metriken%20Bauwesen%20Sweeps/sweeps/u3louhfl\" target=\"_blank\">https://wandb.ai/devcore/Metriken%20Bauwesen%20Sweeps/sweeps/u3louhfl</a><br/>\nRun page: <a href=\"https://wandb.ai/devcore/Metriken%20Bauwesen%20Sweeps/runs/v84h9oon\" target=\"_blank\">https://wandb.ai/devcore/Metriken%20Bauwesen%20Sweeps/runs/v84h9oon</a><br/>\n                Run data is saved locally in <code>D:\\Development\\FHNW\\ip5-metriken-bauwesen\\src\\weight_and_bias\\wandb\\run-20210817_121023-v84h9oon</code><br/><br/>\n            "
     },
     "metadata": {},
     "output_type": "display_data"
    },
    {
     "data": {
      "text/plain": "<IPython.core.display.HTML object>",
      "text/html": "<br/>Waiting for W&B process to finish, PID 10760<br/>Program ended successfully."
     },
     "metadata": {},
     "output_type": "display_data"
    },
    {
     "data": {
      "text/plain": "VBox(children=(Label(value=' 0.00MB of 0.00MB uploaded (0.00MB deduped)\\r'), FloatProgress(value=1.0, max=1.0)…",
      "application/vnd.jupyter.widget-view+json": {
       "version_major": 2,
       "version_minor": 0,
       "model_id": "004a689f5fbc402699ad18f054a7a466"
      }
     },
     "metadata": {},
     "output_type": "display_data"
    },
    {
     "data": {
      "text/plain": "<IPython.core.display.HTML object>",
      "text/html": "Find user logs for this run at: <code>D:\\Development\\FHNW\\ip5-metriken-bauwesen\\src\\weight_and_bias\\wandb\\run-20210817_121023-v84h9oon\\logs\\debug.log</code>"
     },
     "metadata": {},
     "output_type": "display_data"
    },
    {
     "data": {
      "text/plain": "<IPython.core.display.HTML object>",
      "text/html": "Find internal logs for this run at: <code>D:\\Development\\FHNW\\ip5-metriken-bauwesen\\src\\weight_and_bias\\wandb\\run-20210817_121023-v84h9oon\\logs\\debug-internal.log</code>"
     },
     "metadata": {},
     "output_type": "display_data"
    },
    {
     "data": {
      "text/plain": "<IPython.core.display.HTML object>",
      "text/html": "<h3>Run summary:</h3><br/><style>\n    table.wandb td:nth-child(1) { padding: 0 10px; text-align: right }\n    </style><table class=\"wandb\">\n<tr><td>r2</td><td>0.94735</td></tr><tr><td>_runtime</td><td>25</td></tr><tr><td>_timestamp</td><td>1629195048</td></tr><tr><td>_step</td><td>3</td></tr><tr><td>neg_mape</td><td>-0.12526</td></tr><tr><td>neg_mae</td><td>-663.35406</td></tr><tr><td>neg_rmse</td><td>-1378.06444</td></tr></table>"
     },
     "metadata": {},
     "output_type": "display_data"
    },
    {
     "data": {
      "text/plain": "<IPython.core.display.HTML object>",
      "text/html": "<h3>Run history:</h3><br/><style>\n    table.wandb td:nth-child(1) { padding: 0 10px; text-align: right }\n    </style><table class=\"wandb\">\n<tr><td>r2</td><td>▁</td></tr><tr><td>_runtime</td><td>▁▁▁▁</td></tr><tr><td>_timestamp</td><td>▁▁▁▁</td></tr><tr><td>_step</td><td>▁▃▆█</td></tr><tr><td>neg_mape</td><td>▁</td></tr><tr><td>neg_mae</td><td>▁</td></tr><tr><td>neg_rmse</td><td>▁</td></tr></table><br/>"
     },
     "metadata": {},
     "output_type": "display_data"
    },
    {
     "data": {
      "text/plain": "<IPython.core.display.HTML object>",
      "text/html": "Synced 4 W&B file(s), 0 media file(s), 0 artifact file(s) and 0 other file(s)"
     },
     "metadata": {},
     "output_type": "display_data"
    },
    {
     "data": {
      "text/plain": "<IPython.core.display.HTML object>",
      "text/html": "\n                    <br/>Synced <strong style=\"color:#cdcd00\">true-sweep-15</strong>: <a href=\"https://wandb.ai/devcore/Metriken%20Bauwesen%20Sweeps/runs/v84h9oon\" target=\"_blank\">https://wandb.ai/devcore/Metriken%20Bauwesen%20Sweeps/runs/v84h9oon</a><br/>\n                "
     },
     "metadata": {},
     "output_type": "display_data"
    },
    {
     "data": {
      "text/plain": "<IPython.core.display.HTML object>",
      "text/html": "\n                Tracking run with wandb version 0.11.0<br/>\n                Syncing run <strong style=\"color:#cdcd00\">elated-sweep-16</strong> to <a href=\"https://wandb.ai\" target=\"_blank\">Weights & Biases</a> <a href=\"https://docs.wandb.com/integrations/jupyter.html\" target=\"_blank\">(Documentation)</a>.<br/>\n                Project page: <a href=\"https://wandb.ai/devcore/Metriken%20Bauwesen%20Sweeps\" target=\"_blank\">https://wandb.ai/devcore/Metriken%20Bauwesen%20Sweeps</a><br/>\n                Sweep page: <a href=\"https://wandb.ai/devcore/Metriken%20Bauwesen%20Sweeps/sweeps/u3louhfl\" target=\"_blank\">https://wandb.ai/devcore/Metriken%20Bauwesen%20Sweeps/sweeps/u3louhfl</a><br/>\nRun page: <a href=\"https://wandb.ai/devcore/Metriken%20Bauwesen%20Sweeps/runs/5nmhu0ev\" target=\"_blank\">https://wandb.ai/devcore/Metriken%20Bauwesen%20Sweeps/runs/5nmhu0ev</a><br/>\n                Run data is saved locally in <code>D:\\Development\\FHNW\\ip5-metriken-bauwesen\\src\\weight_and_bias\\wandb\\run-20210817_121053-5nmhu0ev</code><br/><br/>\n            "
     },
     "metadata": {},
     "output_type": "display_data"
    },
    {
     "data": {
      "text/plain": "<IPython.core.display.HTML object>",
      "text/html": "<br/>Waiting for W&B process to finish, PID 25284<br/>Program ended successfully."
     },
     "metadata": {},
     "output_type": "display_data"
    },
    {
     "data": {
      "text/plain": "VBox(children=(Label(value=' 0.00MB of 0.00MB uploaded (0.00MB deduped)\\r'), FloatProgress(value=1.0, max=1.0)…",
      "application/vnd.jupyter.widget-view+json": {
       "version_major": 2,
       "version_minor": 0,
       "model_id": "51b7f55ab285420bad96a631a285f87d"
      }
     },
     "metadata": {},
     "output_type": "display_data"
    },
    {
     "data": {
      "text/plain": "<IPython.core.display.HTML object>",
      "text/html": "Find user logs for this run at: <code>D:\\Development\\FHNW\\ip5-metriken-bauwesen\\src\\weight_and_bias\\wandb\\run-20210817_121053-5nmhu0ev\\logs\\debug.log</code>"
     },
     "metadata": {},
     "output_type": "display_data"
    },
    {
     "data": {
      "text/plain": "<IPython.core.display.HTML object>",
      "text/html": "Find internal logs for this run at: <code>D:\\Development\\FHNW\\ip5-metriken-bauwesen\\src\\weight_and_bias\\wandb\\run-20210817_121053-5nmhu0ev\\logs\\debug-internal.log</code>"
     },
     "metadata": {},
     "output_type": "display_data"
    },
    {
     "data": {
      "text/plain": "<IPython.core.display.HTML object>",
      "text/html": "<h3>Run summary:</h3><br/><style>\n    table.wandb td:nth-child(1) { padding: 0 10px; text-align: right }\n    </style><table class=\"wandb\">\n<tr><td>r2</td><td>0.9402</td></tr><tr><td>_runtime</td><td>34</td></tr><tr><td>_timestamp</td><td>1629195087</td></tr><tr><td>_step</td><td>3</td></tr><tr><td>neg_mape</td><td>-0.12411</td></tr><tr><td>neg_mae</td><td>-689.3717</td></tr><tr><td>neg_rmse</td><td>-1468.36578</td></tr></table>"
     },
     "metadata": {},
     "output_type": "display_data"
    },
    {
     "data": {
      "text/plain": "<IPython.core.display.HTML object>",
      "text/html": "<h3>Run history:</h3><br/><style>\n    table.wandb td:nth-child(1) { padding: 0 10px; text-align: right }\n    </style><table class=\"wandb\">\n<tr><td>r2</td><td>▁</td></tr><tr><td>_runtime</td><td>▁▁▁▁</td></tr><tr><td>_timestamp</td><td>▁▁▁▁</td></tr><tr><td>_step</td><td>▁▃▆█</td></tr><tr><td>neg_mape</td><td>▁</td></tr><tr><td>neg_mae</td><td>▁</td></tr><tr><td>neg_rmse</td><td>▁</td></tr></table><br/>"
     },
     "metadata": {},
     "output_type": "display_data"
    },
    {
     "data": {
      "text/plain": "<IPython.core.display.HTML object>",
      "text/html": "Synced 4 W&B file(s), 0 media file(s), 0 artifact file(s) and 0 other file(s)"
     },
     "metadata": {},
     "output_type": "display_data"
    },
    {
     "data": {
      "text/plain": "<IPython.core.display.HTML object>",
      "text/html": "\n                    <br/>Synced <strong style=\"color:#cdcd00\">elated-sweep-16</strong>: <a href=\"https://wandb.ai/devcore/Metriken%20Bauwesen%20Sweeps/runs/5nmhu0ev\" target=\"_blank\">https://wandb.ai/devcore/Metriken%20Bauwesen%20Sweeps/runs/5nmhu0ev</a><br/>\n                "
     },
     "metadata": {},
     "output_type": "display_data"
    },
    {
     "data": {
      "text/plain": "<IPython.core.display.HTML object>",
      "text/html": "\n                Tracking run with wandb version 0.11.0<br/>\n                Syncing run <strong style=\"color:#cdcd00\">gallant-sweep-17</strong> to <a href=\"https://wandb.ai\" target=\"_blank\">Weights & Biases</a> <a href=\"https://docs.wandb.com/integrations/jupyter.html\" target=\"_blank\">(Documentation)</a>.<br/>\n                Project page: <a href=\"https://wandb.ai/devcore/Metriken%20Bauwesen%20Sweeps\" target=\"_blank\">https://wandb.ai/devcore/Metriken%20Bauwesen%20Sweeps</a><br/>\n                Sweep page: <a href=\"https://wandb.ai/devcore/Metriken%20Bauwesen%20Sweeps/sweeps/u3louhfl\" target=\"_blank\">https://wandb.ai/devcore/Metriken%20Bauwesen%20Sweeps/sweeps/u3louhfl</a><br/>\nRun page: <a href=\"https://wandb.ai/devcore/Metriken%20Bauwesen%20Sweeps/runs/rj8tht3k\" target=\"_blank\">https://wandb.ai/devcore/Metriken%20Bauwesen%20Sweeps/runs/rj8tht3k</a><br/>\n                Run data is saved locally in <code>D:\\Development\\FHNW\\ip5-metriken-bauwesen\\src\\weight_and_bias\\wandb\\run-20210817_121132-rj8tht3k</code><br/><br/>\n            "
     },
     "metadata": {},
     "output_type": "display_data"
    },
    {
     "data": {
      "text/plain": "<IPython.core.display.HTML object>",
      "text/html": "<br/>Waiting for W&B process to finish, PID 5920<br/>Program ended successfully."
     },
     "metadata": {},
     "output_type": "display_data"
    },
    {
     "data": {
      "text/plain": "VBox(children=(Label(value=' 0.00MB of 0.00MB uploaded (0.00MB deduped)\\r'), FloatProgress(value=1.0, max=1.0)…",
      "application/vnd.jupyter.widget-view+json": {
       "version_major": 2,
       "version_minor": 0,
       "model_id": "e5f92e328b764d85b063378bc9cf1378"
      }
     },
     "metadata": {},
     "output_type": "display_data"
    },
    {
     "data": {
      "text/plain": "<IPython.core.display.HTML object>",
      "text/html": "Find user logs for this run at: <code>D:\\Development\\FHNW\\ip5-metriken-bauwesen\\src\\weight_and_bias\\wandb\\run-20210817_121132-rj8tht3k\\logs\\debug.log</code>"
     },
     "metadata": {},
     "output_type": "display_data"
    },
    {
     "data": {
      "text/plain": "<IPython.core.display.HTML object>",
      "text/html": "Find internal logs for this run at: <code>D:\\Development\\FHNW\\ip5-metriken-bauwesen\\src\\weight_and_bias\\wandb\\run-20210817_121132-rj8tht3k\\logs\\debug-internal.log</code>"
     },
     "metadata": {},
     "output_type": "display_data"
    },
    {
     "data": {
      "text/plain": "<IPython.core.display.HTML object>",
      "text/html": "<h3>Run summary:</h3><br/><style>\n    table.wandb td:nth-child(1) { padding: 0 10px; text-align: right }\n    </style><table class=\"wandb\">\n<tr><td>r2</td><td>0.94784</td></tr><tr><td>_runtime</td><td>41</td></tr><tr><td>_timestamp</td><td>1629195133</td></tr><tr><td>_step</td><td>3</td></tr><tr><td>neg_mape</td><td>-0.12994</td></tr><tr><td>neg_mae</td><td>-679.90185</td></tr><tr><td>neg_rmse</td><td>-1365.10871</td></tr></table>"
     },
     "metadata": {},
     "output_type": "display_data"
    },
    {
     "data": {
      "text/plain": "<IPython.core.display.HTML object>",
      "text/html": "<h3>Run history:</h3><br/><style>\n    table.wandb td:nth-child(1) { padding: 0 10px; text-align: right }\n    </style><table class=\"wandb\">\n<tr><td>r2</td><td>▁</td></tr><tr><td>_runtime</td><td>▁▁▁▁</td></tr><tr><td>_timestamp</td><td>▁▁▁▁</td></tr><tr><td>_step</td><td>▁▃▆█</td></tr><tr><td>neg_mape</td><td>▁</td></tr><tr><td>neg_mae</td><td>▁</td></tr><tr><td>neg_rmse</td><td>▁</td></tr></table><br/>"
     },
     "metadata": {},
     "output_type": "display_data"
    },
    {
     "data": {
      "text/plain": "<IPython.core.display.HTML object>",
      "text/html": "Synced 4 W&B file(s), 0 media file(s), 0 artifact file(s) and 0 other file(s)"
     },
     "metadata": {},
     "output_type": "display_data"
    },
    {
     "data": {
      "text/plain": "<IPython.core.display.HTML object>",
      "text/html": "\n                    <br/>Synced <strong style=\"color:#cdcd00\">gallant-sweep-17</strong>: <a href=\"https://wandb.ai/devcore/Metriken%20Bauwesen%20Sweeps/runs/rj8tht3k\" target=\"_blank\">https://wandb.ai/devcore/Metriken%20Bauwesen%20Sweeps/runs/rj8tht3k</a><br/>\n                "
     },
     "metadata": {},
     "output_type": "display_data"
    },
    {
     "data": {
      "text/plain": "<IPython.core.display.HTML object>",
      "text/html": "\n                Tracking run with wandb version 0.11.0<br/>\n                Syncing run <strong style=\"color:#cdcd00\">peachy-sweep-18</strong> to <a href=\"https://wandb.ai\" target=\"_blank\">Weights & Biases</a> <a href=\"https://docs.wandb.com/integrations/jupyter.html\" target=\"_blank\">(Documentation)</a>.<br/>\n                Project page: <a href=\"https://wandb.ai/devcore/Metriken%20Bauwesen%20Sweeps\" target=\"_blank\">https://wandb.ai/devcore/Metriken%20Bauwesen%20Sweeps</a><br/>\n                Sweep page: <a href=\"https://wandb.ai/devcore/Metriken%20Bauwesen%20Sweeps/sweeps/u3louhfl\" target=\"_blank\">https://wandb.ai/devcore/Metriken%20Bauwesen%20Sweeps/sweeps/u3louhfl</a><br/>\nRun page: <a href=\"https://wandb.ai/devcore/Metriken%20Bauwesen%20Sweeps/runs/6n7g54r6\" target=\"_blank\">https://wandb.ai/devcore/Metriken%20Bauwesen%20Sweeps/runs/6n7g54r6</a><br/>\n                Run data is saved locally in <code>D:\\Development\\FHNW\\ip5-metriken-bauwesen\\src\\weight_and_bias\\wandb\\run-20210817_121218-6n7g54r6</code><br/><br/>\n            "
     },
     "metadata": {},
     "output_type": "display_data"
    },
    {
     "data": {
      "text/plain": "<IPython.core.display.HTML object>",
      "text/html": "<br/>Waiting for W&B process to finish, PID 16364<br/>Program ended successfully."
     },
     "metadata": {},
     "output_type": "display_data"
    },
    {
     "data": {
      "text/plain": "VBox(children=(Label(value=' 0.00MB of 0.00MB uploaded (0.00MB deduped)\\r'), FloatProgress(value=1.0, max=1.0)…",
      "application/vnd.jupyter.widget-view+json": {
       "version_major": 2,
       "version_minor": 0,
       "model_id": "e556244275f545e7bb6840489104e182"
      }
     },
     "metadata": {},
     "output_type": "display_data"
    },
    {
     "data": {
      "text/plain": "<IPython.core.display.HTML object>",
      "text/html": "Find user logs for this run at: <code>D:\\Development\\FHNW\\ip5-metriken-bauwesen\\src\\weight_and_bias\\wandb\\run-20210817_121218-6n7g54r6\\logs\\debug.log</code>"
     },
     "metadata": {},
     "output_type": "display_data"
    },
    {
     "data": {
      "text/plain": "<IPython.core.display.HTML object>",
      "text/html": "Find internal logs for this run at: <code>D:\\Development\\FHNW\\ip5-metriken-bauwesen\\src\\weight_and_bias\\wandb\\run-20210817_121218-6n7g54r6\\logs\\debug-internal.log</code>"
     },
     "metadata": {},
     "output_type": "display_data"
    },
    {
     "data": {
      "text/plain": "<IPython.core.display.HTML object>",
      "text/html": "<h3>Run summary:</h3><br/><style>\n    table.wandb td:nth-child(1) { padding: 0 10px; text-align: right }\n    </style><table class=\"wandb\">\n<tr><td>r2</td><td>0.94923</td></tr><tr><td>_runtime</td><td>45</td></tr><tr><td>_timestamp</td><td>1629195183</td></tr><tr><td>_step</td><td>3</td></tr><tr><td>neg_mape</td><td>-0.12962</td></tr><tr><td>neg_mae</td><td>-677.31014</td></tr><tr><td>neg_rmse</td><td>-1342.9064</td></tr></table>"
     },
     "metadata": {},
     "output_type": "display_data"
    },
    {
     "data": {
      "text/plain": "<IPython.core.display.HTML object>",
      "text/html": "<h3>Run history:</h3><br/><style>\n    table.wandb td:nth-child(1) { padding: 0 10px; text-align: right }\n    </style><table class=\"wandb\">\n<tr><td>r2</td><td>▁</td></tr><tr><td>_runtime</td><td>▁▁▁▁</td></tr><tr><td>_timestamp</td><td>▁▁▁▁</td></tr><tr><td>_step</td><td>▁▃▆█</td></tr><tr><td>neg_mape</td><td>▁</td></tr><tr><td>neg_mae</td><td>▁</td></tr><tr><td>neg_rmse</td><td>▁</td></tr></table><br/>"
     },
     "metadata": {},
     "output_type": "display_data"
    },
    {
     "data": {
      "text/plain": "<IPython.core.display.HTML object>",
      "text/html": "Synced 4 W&B file(s), 0 media file(s), 0 artifact file(s) and 0 other file(s)"
     },
     "metadata": {},
     "output_type": "display_data"
    },
    {
     "data": {
      "text/plain": "<IPython.core.display.HTML object>",
      "text/html": "\n                    <br/>Synced <strong style=\"color:#cdcd00\">peachy-sweep-18</strong>: <a href=\"https://wandb.ai/devcore/Metriken%20Bauwesen%20Sweeps/runs/6n7g54r6\" target=\"_blank\">https://wandb.ai/devcore/Metriken%20Bauwesen%20Sweeps/runs/6n7g54r6</a><br/>\n                "
     },
     "metadata": {},
     "output_type": "display_data"
    },
    {
     "data": {
      "text/plain": "<IPython.core.display.HTML object>",
      "text/html": "\n                Tracking run with wandb version 0.11.0<br/>\n                Syncing run <strong style=\"color:#cdcd00\">neat-sweep-19</strong> to <a href=\"https://wandb.ai\" target=\"_blank\">Weights & Biases</a> <a href=\"https://docs.wandb.com/integrations/jupyter.html\" target=\"_blank\">(Documentation)</a>.<br/>\n                Project page: <a href=\"https://wandb.ai/devcore/Metriken%20Bauwesen%20Sweeps\" target=\"_blank\">https://wandb.ai/devcore/Metriken%20Bauwesen%20Sweeps</a><br/>\n                Sweep page: <a href=\"https://wandb.ai/devcore/Metriken%20Bauwesen%20Sweeps/sweeps/u3louhfl\" target=\"_blank\">https://wandb.ai/devcore/Metriken%20Bauwesen%20Sweeps/sweeps/u3louhfl</a><br/>\nRun page: <a href=\"https://wandb.ai/devcore/Metriken%20Bauwesen%20Sweeps/runs/7c42uhnd\" target=\"_blank\">https://wandb.ai/devcore/Metriken%20Bauwesen%20Sweeps/runs/7c42uhnd</a><br/>\n                Run data is saved locally in <code>D:\\Development\\FHNW\\ip5-metriken-bauwesen\\src\\weight_and_bias\\wandb\\run-20210817_121307-7c42uhnd</code><br/><br/>\n            "
     },
     "metadata": {},
     "output_type": "display_data"
    },
    {
     "data": {
      "text/plain": "<IPython.core.display.HTML object>",
      "text/html": "<br/>Waiting for W&B process to finish, PID 9988<br/>Program ended successfully."
     },
     "metadata": {},
     "output_type": "display_data"
    },
    {
     "data": {
      "text/plain": "VBox(children=(Label(value=' 0.00MB of 0.00MB uploaded (0.00MB deduped)\\r'), FloatProgress(value=1.0, max=1.0)…",
      "application/vnd.jupyter.widget-view+json": {
       "version_major": 2,
       "version_minor": 0,
       "model_id": "3bb767284b4b4f15a67e4b600fb0f58d"
      }
     },
     "metadata": {},
     "output_type": "display_data"
    },
    {
     "data": {
      "text/plain": "<IPython.core.display.HTML object>",
      "text/html": "Find user logs for this run at: <code>D:\\Development\\FHNW\\ip5-metriken-bauwesen\\src\\weight_and_bias\\wandb\\run-20210817_121307-7c42uhnd\\logs\\debug.log</code>"
     },
     "metadata": {},
     "output_type": "display_data"
    },
    {
     "data": {
      "text/plain": "<IPython.core.display.HTML object>",
      "text/html": "Find internal logs for this run at: <code>D:\\Development\\FHNW\\ip5-metriken-bauwesen\\src\\weight_and_bias\\wandb\\run-20210817_121307-7c42uhnd\\logs\\debug-internal.log</code>"
     },
     "metadata": {},
     "output_type": "display_data"
    },
    {
     "data": {
      "text/plain": "<IPython.core.display.HTML object>",
      "text/html": "<h3>Run summary:</h3><br/><style>\n    table.wandb td:nth-child(1) { padding: 0 10px; text-align: right }\n    </style><table class=\"wandb\">\n<tr><td>r2</td><td>0.94885</td></tr><tr><td>_runtime</td><td>13</td></tr><tr><td>_timestamp</td><td>1629195200</td></tr><tr><td>_step</td><td>3</td></tr><tr><td>neg_mape</td><td>-0.12877</td></tr><tr><td>neg_mae</td><td>-656.58603</td></tr><tr><td>neg_rmse</td><td>-1346.68361</td></tr></table>"
     },
     "metadata": {},
     "output_type": "display_data"
    },
    {
     "data": {
      "text/plain": "<IPython.core.display.HTML object>",
      "text/html": "<h3>Run history:</h3><br/><style>\n    table.wandb td:nth-child(1) { padding: 0 10px; text-align: right }\n    </style><table class=\"wandb\">\n<tr><td>r2</td><td>▁</td></tr><tr><td>_runtime</td><td>▁▁▁▁</td></tr><tr><td>_timestamp</td><td>▁▁▁▁</td></tr><tr><td>_step</td><td>▁▃▆█</td></tr><tr><td>neg_mape</td><td>▁</td></tr><tr><td>neg_mae</td><td>▁</td></tr><tr><td>neg_rmse</td><td>▁</td></tr></table><br/>"
     },
     "metadata": {},
     "output_type": "display_data"
    },
    {
     "data": {
      "text/plain": "<IPython.core.display.HTML object>",
      "text/html": "Synced 4 W&B file(s), 0 media file(s), 0 artifact file(s) and 0 other file(s)"
     },
     "metadata": {},
     "output_type": "display_data"
    },
    {
     "data": {
      "text/plain": "<IPython.core.display.HTML object>",
      "text/html": "\n                    <br/>Synced <strong style=\"color:#cdcd00\">neat-sweep-19</strong>: <a href=\"https://wandb.ai/devcore/Metriken%20Bauwesen%20Sweeps/runs/7c42uhnd\" target=\"_blank\">https://wandb.ai/devcore/Metriken%20Bauwesen%20Sweeps/runs/7c42uhnd</a><br/>\n                "
     },
     "metadata": {},
     "output_type": "display_data"
    },
    {
     "data": {
      "text/plain": "<IPython.core.display.HTML object>",
      "text/html": "\n                Tracking run with wandb version 0.11.0<br/>\n                Syncing run <strong style=\"color:#cdcd00\">serene-sweep-20</strong> to <a href=\"https://wandb.ai\" target=\"_blank\">Weights & Biases</a> <a href=\"https://docs.wandb.com/integrations/jupyter.html\" target=\"_blank\">(Documentation)</a>.<br/>\n                Project page: <a href=\"https://wandb.ai/devcore/Metriken%20Bauwesen%20Sweeps\" target=\"_blank\">https://wandb.ai/devcore/Metriken%20Bauwesen%20Sweeps</a><br/>\n                Sweep page: <a href=\"https://wandb.ai/devcore/Metriken%20Bauwesen%20Sweeps/sweeps/u3louhfl\" target=\"_blank\">https://wandb.ai/devcore/Metriken%20Bauwesen%20Sweeps/sweeps/u3louhfl</a><br/>\nRun page: <a href=\"https://wandb.ai/devcore/Metriken%20Bauwesen%20Sweeps/runs/zg7mme76\" target=\"_blank\">https://wandb.ai/devcore/Metriken%20Bauwesen%20Sweeps/runs/zg7mme76</a><br/>\n                Run data is saved locally in <code>D:\\Development\\FHNW\\ip5-metriken-bauwesen\\src\\weight_and_bias\\wandb\\run-20210817_121324-zg7mme76</code><br/><br/>\n            "
     },
     "metadata": {},
     "output_type": "display_data"
    },
    {
     "data": {
      "text/plain": "<IPython.core.display.HTML object>",
      "text/html": "<br/>Waiting for W&B process to finish, PID 7376<br/>Program ended successfully."
     },
     "metadata": {},
     "output_type": "display_data"
    },
    {
     "data": {
      "text/plain": "VBox(children=(Label(value=' 0.00MB of 0.00MB uploaded (0.00MB deduped)\\r'), FloatProgress(value=1.0, max=1.0)…",
      "application/vnd.jupyter.widget-view+json": {
       "version_major": 2,
       "version_minor": 0,
       "model_id": "ce04b89765324eecb30761b6dd9fc3d2"
      }
     },
     "metadata": {},
     "output_type": "display_data"
    },
    {
     "data": {
      "text/plain": "<IPython.core.display.HTML object>",
      "text/html": "Find user logs for this run at: <code>D:\\Development\\FHNW\\ip5-metriken-bauwesen\\src\\weight_and_bias\\wandb\\run-20210817_121324-zg7mme76\\logs\\debug.log</code>"
     },
     "metadata": {},
     "output_type": "display_data"
    },
    {
     "data": {
      "text/plain": "<IPython.core.display.HTML object>",
      "text/html": "Find internal logs for this run at: <code>D:\\Development\\FHNW\\ip5-metriken-bauwesen\\src\\weight_and_bias\\wandb\\run-20210817_121324-zg7mme76\\logs\\debug-internal.log</code>"
     },
     "metadata": {},
     "output_type": "display_data"
    },
    {
     "data": {
      "text/plain": "<IPython.core.display.HTML object>",
      "text/html": "<h3>Run summary:</h3><br/><style>\n    table.wandb td:nth-child(1) { padding: 0 10px; text-align: right }\n    </style><table class=\"wandb\">\n<tr><td>r2</td><td>0.95081</td></tr><tr><td>_runtime</td><td>33</td></tr><tr><td>_timestamp</td><td>1629195237</td></tr><tr><td>_step</td><td>3</td></tr><tr><td>neg_mape</td><td>-0.12635</td></tr><tr><td>neg_mae</td><td>-650.77457</td></tr><tr><td>neg_rmse</td><td>-1319.25451</td></tr></table>"
     },
     "metadata": {},
     "output_type": "display_data"
    },
    {
     "data": {
      "text/plain": "<IPython.core.display.HTML object>",
      "text/html": "<h3>Run history:</h3><br/><style>\n    table.wandb td:nth-child(1) { padding: 0 10px; text-align: right }\n    </style><table class=\"wandb\">\n<tr><td>r2</td><td>▁</td></tr><tr><td>_runtime</td><td>▁▁▁▁</td></tr><tr><td>_timestamp</td><td>▁▁▁▁</td></tr><tr><td>_step</td><td>▁▃▆█</td></tr><tr><td>neg_mape</td><td>▁</td></tr><tr><td>neg_mae</td><td>▁</td></tr><tr><td>neg_rmse</td><td>▁</td></tr></table><br/>"
     },
     "metadata": {},
     "output_type": "display_data"
    },
    {
     "data": {
      "text/plain": "<IPython.core.display.HTML object>",
      "text/html": "Synced 4 W&B file(s), 0 media file(s), 0 artifact file(s) and 0 other file(s)"
     },
     "metadata": {},
     "output_type": "display_data"
    },
    {
     "data": {
      "text/plain": "<IPython.core.display.HTML object>",
      "text/html": "\n                    <br/>Synced <strong style=\"color:#cdcd00\">serene-sweep-20</strong>: <a href=\"https://wandb.ai/devcore/Metriken%20Bauwesen%20Sweeps/runs/zg7mme76\" target=\"_blank\">https://wandb.ai/devcore/Metriken%20Bauwesen%20Sweeps/runs/zg7mme76</a><br/>\n                "
     },
     "metadata": {},
     "output_type": "display_data"
    },
    {
     "data": {
      "text/plain": "<IPython.core.display.HTML object>",
      "text/html": "\n                Tracking run with wandb version 0.11.0<br/>\n                Syncing run <strong style=\"color:#cdcd00\">lemon-sweep-21</strong> to <a href=\"https://wandb.ai\" target=\"_blank\">Weights & Biases</a> <a href=\"https://docs.wandb.com/integrations/jupyter.html\" target=\"_blank\">(Documentation)</a>.<br/>\n                Project page: <a href=\"https://wandb.ai/devcore/Metriken%20Bauwesen%20Sweeps\" target=\"_blank\">https://wandb.ai/devcore/Metriken%20Bauwesen%20Sweeps</a><br/>\n                Sweep page: <a href=\"https://wandb.ai/devcore/Metriken%20Bauwesen%20Sweeps/sweeps/u3louhfl\" target=\"_blank\">https://wandb.ai/devcore/Metriken%20Bauwesen%20Sweeps/sweeps/u3louhfl</a><br/>\nRun page: <a href=\"https://wandb.ai/devcore/Metriken%20Bauwesen%20Sweeps/runs/hweczlcy\" target=\"_blank\">https://wandb.ai/devcore/Metriken%20Bauwesen%20Sweeps/runs/hweczlcy</a><br/>\n                Run data is saved locally in <code>D:\\Development\\FHNW\\ip5-metriken-bauwesen\\src\\weight_and_bias\\wandb\\run-20210817_121401-hweczlcy</code><br/><br/>\n            "
     },
     "metadata": {},
     "output_type": "display_data"
    },
    {
     "data": {
      "text/plain": "<IPython.core.display.HTML object>",
      "text/html": "<br/>Waiting for W&B process to finish, PID 19860<br/>Program ended successfully."
     },
     "metadata": {},
     "output_type": "display_data"
    },
    {
     "data": {
      "text/plain": "VBox(children=(Label(value=' 0.00MB of 0.00MB uploaded (0.00MB deduped)\\r'), FloatProgress(value=1.0, max=1.0)…",
      "application/vnd.jupyter.widget-view+json": {
       "version_major": 2,
       "version_minor": 0,
       "model_id": "16f9343094c54321a1e014e3b988e5ea"
      }
     },
     "metadata": {},
     "output_type": "display_data"
    },
    {
     "data": {
      "text/plain": "<IPython.core.display.HTML object>",
      "text/html": "Find user logs for this run at: <code>D:\\Development\\FHNW\\ip5-metriken-bauwesen\\src\\weight_and_bias\\wandb\\run-20210817_121401-hweczlcy\\logs\\debug.log</code>"
     },
     "metadata": {},
     "output_type": "display_data"
    },
    {
     "data": {
      "text/plain": "<IPython.core.display.HTML object>",
      "text/html": "Find internal logs for this run at: <code>D:\\Development\\FHNW\\ip5-metriken-bauwesen\\src\\weight_and_bias\\wandb\\run-20210817_121401-hweczlcy\\logs\\debug-internal.log</code>"
     },
     "metadata": {},
     "output_type": "display_data"
    },
    {
     "data": {
      "text/plain": "<IPython.core.display.HTML object>",
      "text/html": "<h3>Run summary:</h3><br/><style>\n    table.wandb td:nth-child(1) { padding: 0 10px; text-align: right }\n    </style><table class=\"wandb\">\n<tr><td>r2</td><td>0.94865</td></tr><tr><td>_runtime</td><td>38</td></tr><tr><td>_timestamp</td><td>1629195279</td></tr><tr><td>_step</td><td>3</td></tr><tr><td>neg_mape</td><td>-0.12577</td></tr><tr><td>neg_mae</td><td>-673.39549</td></tr><tr><td>neg_rmse</td><td>-1363.30941</td></tr></table>"
     },
     "metadata": {},
     "output_type": "display_data"
    },
    {
     "data": {
      "text/plain": "<IPython.core.display.HTML object>",
      "text/html": "<h3>Run history:</h3><br/><style>\n    table.wandb td:nth-child(1) { padding: 0 10px; text-align: right }\n    </style><table class=\"wandb\">\n<tr><td>r2</td><td>▁</td></tr><tr><td>_runtime</td><td>▁▁▁▁</td></tr><tr><td>_timestamp</td><td>▁▁▁▁</td></tr><tr><td>_step</td><td>▁▃▆█</td></tr><tr><td>neg_mape</td><td>▁</td></tr><tr><td>neg_mae</td><td>▁</td></tr><tr><td>neg_rmse</td><td>▁</td></tr></table><br/>"
     },
     "metadata": {},
     "output_type": "display_data"
    },
    {
     "data": {
      "text/plain": "<IPython.core.display.HTML object>",
      "text/html": "Synced 4 W&B file(s), 0 media file(s), 0 artifact file(s) and 0 other file(s)"
     },
     "metadata": {},
     "output_type": "display_data"
    },
    {
     "data": {
      "text/plain": "<IPython.core.display.HTML object>",
      "text/html": "\n                    <br/>Synced <strong style=\"color:#cdcd00\">lemon-sweep-21</strong>: <a href=\"https://wandb.ai/devcore/Metriken%20Bauwesen%20Sweeps/runs/hweczlcy\" target=\"_blank\">https://wandb.ai/devcore/Metriken%20Bauwesen%20Sweeps/runs/hweczlcy</a><br/>\n                "
     },
     "metadata": {},
     "output_type": "display_data"
    },
    {
     "data": {
      "text/plain": "<IPython.core.display.HTML object>",
      "text/html": "\n                Tracking run with wandb version 0.11.0<br/>\n                Syncing run <strong style=\"color:#cdcd00\">restful-sweep-22</strong> to <a href=\"https://wandb.ai\" target=\"_blank\">Weights & Biases</a> <a href=\"https://docs.wandb.com/integrations/jupyter.html\" target=\"_blank\">(Documentation)</a>.<br/>\n                Project page: <a href=\"https://wandb.ai/devcore/Metriken%20Bauwesen%20Sweeps\" target=\"_blank\">https://wandb.ai/devcore/Metriken%20Bauwesen%20Sweeps</a><br/>\n                Sweep page: <a href=\"https://wandb.ai/devcore/Metriken%20Bauwesen%20Sweeps/sweeps/u3louhfl\" target=\"_blank\">https://wandb.ai/devcore/Metriken%20Bauwesen%20Sweeps/sweeps/u3louhfl</a><br/>\nRun page: <a href=\"https://wandb.ai/devcore/Metriken%20Bauwesen%20Sweeps/runs/nwtct052\" target=\"_blank\">https://wandb.ai/devcore/Metriken%20Bauwesen%20Sweeps/runs/nwtct052</a><br/>\n                Run data is saved locally in <code>D:\\Development\\FHNW\\ip5-metriken-bauwesen\\src\\weight_and_bias\\wandb\\run-20210817_121444-nwtct052</code><br/><br/>\n            "
     },
     "metadata": {},
     "output_type": "display_data"
    },
    {
     "data": {
      "text/plain": "<IPython.core.display.HTML object>",
      "text/html": "<br/>Waiting for W&B process to finish, PID 9200<br/>Program ended successfully."
     },
     "metadata": {},
     "output_type": "display_data"
    },
    {
     "data": {
      "text/plain": "VBox(children=(Label(value=' 0.00MB of 0.00MB uploaded (0.00MB deduped)\\r'), FloatProgress(value=1.0, max=1.0)…",
      "application/vnd.jupyter.widget-view+json": {
       "version_major": 2,
       "version_minor": 0,
       "model_id": "94847ed8bd66455eaa4296c9413d79cd"
      }
     },
     "metadata": {},
     "output_type": "display_data"
    },
    {
     "data": {
      "text/plain": "<IPython.core.display.HTML object>",
      "text/html": "Find user logs for this run at: <code>D:\\Development\\FHNW\\ip5-metriken-bauwesen\\src\\weight_and_bias\\wandb\\run-20210817_121444-nwtct052\\logs\\debug.log</code>"
     },
     "metadata": {},
     "output_type": "display_data"
    },
    {
     "data": {
      "text/plain": "<IPython.core.display.HTML object>",
      "text/html": "Find internal logs for this run at: <code>D:\\Development\\FHNW\\ip5-metriken-bauwesen\\src\\weight_and_bias\\wandb\\run-20210817_121444-nwtct052\\logs\\debug-internal.log</code>"
     },
     "metadata": {},
     "output_type": "display_data"
    },
    {
     "data": {
      "text/plain": "<IPython.core.display.HTML object>",
      "text/html": "<h3>Run summary:</h3><br/><style>\n    table.wandb td:nth-child(1) { padding: 0 10px; text-align: right }\n    </style><table class=\"wandb\">\n<tr><td>r2</td><td>0.94793</td></tr><tr><td>_runtime</td><td>86</td></tr><tr><td>_timestamp</td><td>1629195370</td></tr><tr><td>_step</td><td>3</td></tr><tr><td>neg_mape</td><td>-0.13478</td></tr><tr><td>neg_mae</td><td>-679.91638</td></tr><tr><td>neg_rmse</td><td>-1353.19165</td></tr></table>"
     },
     "metadata": {},
     "output_type": "display_data"
    },
    {
     "data": {
      "text/plain": "<IPython.core.display.HTML object>",
      "text/html": "<h3>Run history:</h3><br/><style>\n    table.wandb td:nth-child(1) { padding: 0 10px; text-align: right }\n    </style><table class=\"wandb\">\n<tr><td>r2</td><td>▁</td></tr><tr><td>_runtime</td><td>▁▁▁▁</td></tr><tr><td>_timestamp</td><td>▁▁▁▁</td></tr><tr><td>_step</td><td>▁▃▆█</td></tr><tr><td>neg_mape</td><td>▁</td></tr><tr><td>neg_mae</td><td>▁</td></tr><tr><td>neg_rmse</td><td>▁</td></tr></table><br/>"
     },
     "metadata": {},
     "output_type": "display_data"
    },
    {
     "data": {
      "text/plain": "<IPython.core.display.HTML object>",
      "text/html": "Synced 4 W&B file(s), 0 media file(s), 0 artifact file(s) and 0 other file(s)"
     },
     "metadata": {},
     "output_type": "display_data"
    },
    {
     "data": {
      "text/plain": "<IPython.core.display.HTML object>",
      "text/html": "\n                    <br/>Synced <strong style=\"color:#cdcd00\">restful-sweep-22</strong>: <a href=\"https://wandb.ai/devcore/Metriken%20Bauwesen%20Sweeps/runs/nwtct052\" target=\"_blank\">https://wandb.ai/devcore/Metriken%20Bauwesen%20Sweeps/runs/nwtct052</a><br/>\n                "
     },
     "metadata": {},
     "output_type": "display_data"
    },
    {
     "data": {
      "text/plain": "<IPython.core.display.HTML object>",
      "text/html": "\n                Tracking run with wandb version 0.11.0<br/>\n                Syncing run <strong style=\"color:#cdcd00\">ruby-sweep-23</strong> to <a href=\"https://wandb.ai\" target=\"_blank\">Weights & Biases</a> <a href=\"https://docs.wandb.com/integrations/jupyter.html\" target=\"_blank\">(Documentation)</a>.<br/>\n                Project page: <a href=\"https://wandb.ai/devcore/Metriken%20Bauwesen%20Sweeps\" target=\"_blank\">https://wandb.ai/devcore/Metriken%20Bauwesen%20Sweeps</a><br/>\n                Sweep page: <a href=\"https://wandb.ai/devcore/Metriken%20Bauwesen%20Sweeps/sweeps/u3louhfl\" target=\"_blank\">https://wandb.ai/devcore/Metriken%20Bauwesen%20Sweeps/sweeps/u3louhfl</a><br/>\nRun page: <a href=\"https://wandb.ai/devcore/Metriken%20Bauwesen%20Sweeps/runs/shsk9btz\" target=\"_blank\">https://wandb.ai/devcore/Metriken%20Bauwesen%20Sweeps/runs/shsk9btz</a><br/>\n                Run data is saved locally in <code>D:\\Development\\FHNW\\ip5-metriken-bauwesen\\src\\weight_and_bias\\wandb\\run-20210817_121615-shsk9btz</code><br/><br/>\n            "
     },
     "metadata": {},
     "output_type": "display_data"
    },
    {
     "data": {
      "text/plain": "<IPython.core.display.HTML object>",
      "text/html": "<br/>Waiting for W&B process to finish, PID 7640<br/>Program ended successfully."
     },
     "metadata": {},
     "output_type": "display_data"
    },
    {
     "data": {
      "text/plain": "VBox(children=(Label(value=' 0.00MB of 0.00MB uploaded (0.00MB deduped)\\r'), FloatProgress(value=1.0, max=1.0)…",
      "application/vnd.jupyter.widget-view+json": {
       "version_major": 2,
       "version_minor": 0,
       "model_id": "1ffa599678eb4eb484a5264762088e51"
      }
     },
     "metadata": {},
     "output_type": "display_data"
    },
    {
     "data": {
      "text/plain": "<IPython.core.display.HTML object>",
      "text/html": "Find user logs for this run at: <code>D:\\Development\\FHNW\\ip5-metriken-bauwesen\\src\\weight_and_bias\\wandb\\run-20210817_121615-shsk9btz\\logs\\debug.log</code>"
     },
     "metadata": {},
     "output_type": "display_data"
    },
    {
     "data": {
      "text/plain": "<IPython.core.display.HTML object>",
      "text/html": "Find internal logs for this run at: <code>D:\\Development\\FHNW\\ip5-metriken-bauwesen\\src\\weight_and_bias\\wandb\\run-20210817_121615-shsk9btz\\logs\\debug-internal.log</code>"
     },
     "metadata": {},
     "output_type": "display_data"
    },
    {
     "data": {
      "text/plain": "<IPython.core.display.HTML object>",
      "text/html": "<h3>Run summary:</h3><br/><style>\n    table.wandb td:nth-child(1) { padding: 0 10px; text-align: right }\n    </style><table class=\"wandb\">\n<tr><td>r2</td><td>0.95242</td></tr><tr><td>_runtime</td><td>36</td></tr><tr><td>_timestamp</td><td>1629195411</td></tr><tr><td>_step</td><td>3</td></tr><tr><td>neg_mape</td><td>-0.12728</td></tr><tr><td>neg_mae</td><td>-641.79503</td></tr><tr><td>neg_rmse</td><td>-1300.45586</td></tr></table>"
     },
     "metadata": {},
     "output_type": "display_data"
    },
    {
     "data": {
      "text/plain": "<IPython.core.display.HTML object>",
      "text/html": "<h3>Run history:</h3><br/><style>\n    table.wandb td:nth-child(1) { padding: 0 10px; text-align: right }\n    </style><table class=\"wandb\">\n<tr><td>r2</td><td>▁</td></tr><tr><td>_runtime</td><td>▁▁▁▁</td></tr><tr><td>_timestamp</td><td>▁▁▁▁</td></tr><tr><td>_step</td><td>▁▃▆█</td></tr><tr><td>neg_mape</td><td>▁</td></tr><tr><td>neg_mae</td><td>▁</td></tr><tr><td>neg_rmse</td><td>▁</td></tr></table><br/>"
     },
     "metadata": {},
     "output_type": "display_data"
    },
    {
     "data": {
      "text/plain": "<IPython.core.display.HTML object>",
      "text/html": "Synced 4 W&B file(s), 0 media file(s), 0 artifact file(s) and 0 other file(s)"
     },
     "metadata": {},
     "output_type": "display_data"
    },
    {
     "data": {
      "text/plain": "<IPython.core.display.HTML object>",
      "text/html": "\n                    <br/>Synced <strong style=\"color:#cdcd00\">ruby-sweep-23</strong>: <a href=\"https://wandb.ai/devcore/Metriken%20Bauwesen%20Sweeps/runs/shsk9btz\" target=\"_blank\">https://wandb.ai/devcore/Metriken%20Bauwesen%20Sweeps/runs/shsk9btz</a><br/>\n                "
     },
     "metadata": {},
     "output_type": "display_data"
    },
    {
     "data": {
      "text/plain": "<IPython.core.display.HTML object>",
      "text/html": "\n                Tracking run with wandb version 0.11.0<br/>\n                Syncing run <strong style=\"color:#cdcd00\">vague-sweep-24</strong> to <a href=\"https://wandb.ai\" target=\"_blank\">Weights & Biases</a> <a href=\"https://docs.wandb.com/integrations/jupyter.html\" target=\"_blank\">(Documentation)</a>.<br/>\n                Project page: <a href=\"https://wandb.ai/devcore/Metriken%20Bauwesen%20Sweeps\" target=\"_blank\">https://wandb.ai/devcore/Metriken%20Bauwesen%20Sweeps</a><br/>\n                Sweep page: <a href=\"https://wandb.ai/devcore/Metriken%20Bauwesen%20Sweeps/sweeps/u3louhfl\" target=\"_blank\">https://wandb.ai/devcore/Metriken%20Bauwesen%20Sweeps/sweeps/u3louhfl</a><br/>\nRun page: <a href=\"https://wandb.ai/devcore/Metriken%20Bauwesen%20Sweeps/runs/26z8s7ho\" target=\"_blank\">https://wandb.ai/devcore/Metriken%20Bauwesen%20Sweeps/runs/26z8s7ho</a><br/>\n                Run data is saved locally in <code>D:\\Development\\FHNW\\ip5-metriken-bauwesen\\src\\weight_and_bias\\wandb\\run-20210817_121655-26z8s7ho</code><br/><br/>\n            "
     },
     "metadata": {},
     "output_type": "display_data"
    },
    {
     "data": {
      "text/plain": "<IPython.core.display.HTML object>",
      "text/html": "<br/>Waiting for W&B process to finish, PID 25596<br/>Program ended successfully."
     },
     "metadata": {},
     "output_type": "display_data"
    },
    {
     "data": {
      "text/plain": "VBox(children=(Label(value=' 0.00MB of 0.00MB uploaded (0.00MB deduped)\\r'), FloatProgress(value=1.0, max=1.0)…",
      "application/vnd.jupyter.widget-view+json": {
       "version_major": 2,
       "version_minor": 0,
       "model_id": "3e801a229c234820a1383b176b87f159"
      }
     },
     "metadata": {},
     "output_type": "display_data"
    },
    {
     "data": {
      "text/plain": "<IPython.core.display.HTML object>",
      "text/html": "Find user logs for this run at: <code>D:\\Development\\FHNW\\ip5-metriken-bauwesen\\src\\weight_and_bias\\wandb\\run-20210817_121655-26z8s7ho\\logs\\debug.log</code>"
     },
     "metadata": {},
     "output_type": "display_data"
    },
    {
     "data": {
      "text/plain": "<IPython.core.display.HTML object>",
      "text/html": "Find internal logs for this run at: <code>D:\\Development\\FHNW\\ip5-metriken-bauwesen\\src\\weight_and_bias\\wandb\\run-20210817_121655-26z8s7ho\\logs\\debug-internal.log</code>"
     },
     "metadata": {},
     "output_type": "display_data"
    },
    {
     "data": {
      "text/plain": "<IPython.core.display.HTML object>",
      "text/html": "<h3>Run summary:</h3><br/><style>\n    table.wandb td:nth-child(1) { padding: 0 10px; text-align: right }\n    </style><table class=\"wandb\">\n<tr><td>r2</td><td>0.94736</td></tr><tr><td>_runtime</td><td>109</td></tr><tr><td>_timestamp</td><td>1629195524</td></tr><tr><td>_step</td><td>3</td></tr><tr><td>neg_mape</td><td>-0.13413</td></tr><tr><td>neg_mae</td><td>-672.95197</td></tr><tr><td>neg_rmse</td><td>-1350.244</td></tr></table>"
     },
     "metadata": {},
     "output_type": "display_data"
    },
    {
     "data": {
      "text/plain": "<IPython.core.display.HTML object>",
      "text/html": "<h3>Run history:</h3><br/><style>\n    table.wandb td:nth-child(1) { padding: 0 10px; text-align: right }\n    </style><table class=\"wandb\">\n<tr><td>r2</td><td>▁</td></tr><tr><td>_runtime</td><td>▁▁▁▁</td></tr><tr><td>_timestamp</td><td>▁▁▁▁</td></tr><tr><td>_step</td><td>▁▃▆█</td></tr><tr><td>neg_mape</td><td>▁</td></tr><tr><td>neg_mae</td><td>▁</td></tr><tr><td>neg_rmse</td><td>▁</td></tr></table><br/>"
     },
     "metadata": {},
     "output_type": "display_data"
    },
    {
     "data": {
      "text/plain": "<IPython.core.display.HTML object>",
      "text/html": "Synced 4 W&B file(s), 0 media file(s), 0 artifact file(s) and 0 other file(s)"
     },
     "metadata": {},
     "output_type": "display_data"
    },
    {
     "data": {
      "text/plain": "<IPython.core.display.HTML object>",
      "text/html": "\n                    <br/>Synced <strong style=\"color:#cdcd00\">vague-sweep-24</strong>: <a href=\"https://wandb.ai/devcore/Metriken%20Bauwesen%20Sweeps/runs/26z8s7ho\" target=\"_blank\">https://wandb.ai/devcore/Metriken%20Bauwesen%20Sweeps/runs/26z8s7ho</a><br/>\n                "
     },
     "metadata": {},
     "output_type": "display_data"
    },
    {
     "data": {
      "text/plain": "<IPython.core.display.HTML object>",
      "text/html": "\n                Tracking run with wandb version 0.11.0<br/>\n                Syncing run <strong style=\"color:#cdcd00\">confused-sweep-25</strong> to <a href=\"https://wandb.ai\" target=\"_blank\">Weights & Biases</a> <a href=\"https://docs.wandb.com/integrations/jupyter.html\" target=\"_blank\">(Documentation)</a>.<br/>\n                Project page: <a href=\"https://wandb.ai/devcore/Metriken%20Bauwesen%20Sweeps\" target=\"_blank\">https://wandb.ai/devcore/Metriken%20Bauwesen%20Sweeps</a><br/>\n                Sweep page: <a href=\"https://wandb.ai/devcore/Metriken%20Bauwesen%20Sweeps/sweeps/u3louhfl\" target=\"_blank\">https://wandb.ai/devcore/Metriken%20Bauwesen%20Sweeps/sweeps/u3louhfl</a><br/>\nRun page: <a href=\"https://wandb.ai/devcore/Metriken%20Bauwesen%20Sweeps/runs/fy04g44e\" target=\"_blank\">https://wandb.ai/devcore/Metriken%20Bauwesen%20Sweeps/runs/fy04g44e</a><br/>\n                Run data is saved locally in <code>D:\\Development\\FHNW\\ip5-metriken-bauwesen\\src\\weight_and_bias\\wandb\\run-20210817_121848-fy04g44e</code><br/><br/>\n            "
     },
     "metadata": {},
     "output_type": "display_data"
    },
    {
     "data": {
      "text/plain": "<IPython.core.display.HTML object>",
      "text/html": "<br/>Waiting for W&B process to finish, PID 6224<br/>Program ended successfully."
     },
     "metadata": {},
     "output_type": "display_data"
    },
    {
     "data": {
      "text/plain": "VBox(children=(Label(value=' 0.00MB of 0.00MB uploaded (0.00MB deduped)\\r'), FloatProgress(value=1.0, max=1.0)…",
      "application/vnd.jupyter.widget-view+json": {
       "version_major": 2,
       "version_minor": 0,
       "model_id": "4094c7d1d1c04765b3da78b632bb8add"
      }
     },
     "metadata": {},
     "output_type": "display_data"
    },
    {
     "data": {
      "text/plain": "<IPython.core.display.HTML object>",
      "text/html": "Find user logs for this run at: <code>D:\\Development\\FHNW\\ip5-metriken-bauwesen\\src\\weight_and_bias\\wandb\\run-20210817_121848-fy04g44e\\logs\\debug.log</code>"
     },
     "metadata": {},
     "output_type": "display_data"
    },
    {
     "data": {
      "text/plain": "<IPython.core.display.HTML object>",
      "text/html": "Find internal logs for this run at: <code>D:\\Development\\FHNW\\ip5-metriken-bauwesen\\src\\weight_and_bias\\wandb\\run-20210817_121848-fy04g44e\\logs\\debug-internal.log</code>"
     },
     "metadata": {},
     "output_type": "display_data"
    },
    {
     "data": {
      "text/plain": "<IPython.core.display.HTML object>",
      "text/html": "<h3>Run summary:</h3><br/><style>\n    table.wandb td:nth-child(1) { padding: 0 10px; text-align: right }\n    </style><table class=\"wandb\">\n<tr><td>r2</td><td>0.94416</td></tr><tr><td>_runtime</td><td>24</td></tr><tr><td>_timestamp</td><td>1629195552</td></tr><tr><td>_step</td><td>3</td></tr><tr><td>neg_mape</td><td>-0.12241</td></tr><tr><td>neg_mae</td><td>-669.63552</td></tr><tr><td>neg_rmse</td><td>-1422.51116</td></tr></table>"
     },
     "metadata": {},
     "output_type": "display_data"
    },
    {
     "data": {
      "text/plain": "<IPython.core.display.HTML object>",
      "text/html": "<h3>Run history:</h3><br/><style>\n    table.wandb td:nth-child(1) { padding: 0 10px; text-align: right }\n    </style><table class=\"wandb\">\n<tr><td>r2</td><td>▁</td></tr><tr><td>_runtime</td><td>▁▁▁▁</td></tr><tr><td>_timestamp</td><td>▁▁▁▁</td></tr><tr><td>_step</td><td>▁▃▆█</td></tr><tr><td>neg_mape</td><td>▁</td></tr><tr><td>neg_mae</td><td>▁</td></tr><tr><td>neg_rmse</td><td>▁</td></tr></table><br/>"
     },
     "metadata": {},
     "output_type": "display_data"
    },
    {
     "data": {
      "text/plain": "<IPython.core.display.HTML object>",
      "text/html": "Synced 4 W&B file(s), 0 media file(s), 0 artifact file(s) and 0 other file(s)"
     },
     "metadata": {},
     "output_type": "display_data"
    },
    {
     "data": {
      "text/plain": "<IPython.core.display.HTML object>",
      "text/html": "\n                    <br/>Synced <strong style=\"color:#cdcd00\">confused-sweep-25</strong>: <a href=\"https://wandb.ai/devcore/Metriken%20Bauwesen%20Sweeps/runs/fy04g44e\" target=\"_blank\">https://wandb.ai/devcore/Metriken%20Bauwesen%20Sweeps/runs/fy04g44e</a><br/>\n                "
     },
     "metadata": {},
     "output_type": "display_data"
    },
    {
     "data": {
      "text/plain": "<IPython.core.display.HTML object>",
      "text/html": "\n                Tracking run with wandb version 0.11.0<br/>\n                Syncing run <strong style=\"color:#cdcd00\">still-sweep-26</strong> to <a href=\"https://wandb.ai\" target=\"_blank\">Weights & Biases</a> <a href=\"https://docs.wandb.com/integrations/jupyter.html\" target=\"_blank\">(Documentation)</a>.<br/>\n                Project page: <a href=\"https://wandb.ai/devcore/Metriken%20Bauwesen%20Sweeps\" target=\"_blank\">https://wandb.ai/devcore/Metriken%20Bauwesen%20Sweeps</a><br/>\n                Sweep page: <a href=\"https://wandb.ai/devcore/Metriken%20Bauwesen%20Sweeps/sweeps/u3louhfl\" target=\"_blank\">https://wandb.ai/devcore/Metriken%20Bauwesen%20Sweeps/sweeps/u3louhfl</a><br/>\nRun page: <a href=\"https://wandb.ai/devcore/Metriken%20Bauwesen%20Sweeps/runs/gv5dg116\" target=\"_blank\">https://wandb.ai/devcore/Metriken%20Bauwesen%20Sweeps/runs/gv5dg116</a><br/>\n                Run data is saved locally in <code>D:\\Development\\FHNW\\ip5-metriken-bauwesen\\src\\weight_and_bias\\wandb\\run-20210817_121916-gv5dg116</code><br/><br/>\n            "
     },
     "metadata": {},
     "output_type": "display_data"
    },
    {
     "data": {
      "text/plain": "<IPython.core.display.HTML object>",
      "text/html": "<br/>Waiting for W&B process to finish, PID 11324<br/>Program ended successfully."
     },
     "metadata": {},
     "output_type": "display_data"
    },
    {
     "data": {
      "text/plain": "VBox(children=(Label(value=' 0.00MB of 0.00MB uploaded (0.00MB deduped)\\r'), FloatProgress(value=1.0, max=1.0)…",
      "application/vnd.jupyter.widget-view+json": {
       "version_major": 2,
       "version_minor": 0,
       "model_id": "fd6bc1f8fcf14864ac0db0c68c52fc8d"
      }
     },
     "metadata": {},
     "output_type": "display_data"
    },
    {
     "data": {
      "text/plain": "<IPython.core.display.HTML object>",
      "text/html": "Find user logs for this run at: <code>D:\\Development\\FHNW\\ip5-metriken-bauwesen\\src\\weight_and_bias\\wandb\\run-20210817_121916-gv5dg116\\logs\\debug.log</code>"
     },
     "metadata": {},
     "output_type": "display_data"
    },
    {
     "data": {
      "text/plain": "<IPython.core.display.HTML object>",
      "text/html": "Find internal logs for this run at: <code>D:\\Development\\FHNW\\ip5-metriken-bauwesen\\src\\weight_and_bias\\wandb\\run-20210817_121916-gv5dg116\\logs\\debug-internal.log</code>"
     },
     "metadata": {},
     "output_type": "display_data"
    },
    {
     "data": {
      "text/plain": "<IPython.core.display.HTML object>",
      "text/html": "<h3>Run summary:</h3><br/><style>\n    table.wandb td:nth-child(1) { padding: 0 10px; text-align: right }\n    </style><table class=\"wandb\">\n<tr><td>r2</td><td>0.9438</td></tr><tr><td>_runtime</td><td>14</td></tr><tr><td>_timestamp</td><td>1629195570</td></tr><tr><td>_step</td><td>3</td></tr><tr><td>neg_mape</td><td>-0.12615</td></tr><tr><td>neg_mae</td><td>-672.65901</td></tr><tr><td>neg_rmse</td><td>-1420.9767</td></tr></table>"
     },
     "metadata": {},
     "output_type": "display_data"
    },
    {
     "data": {
      "text/plain": "<IPython.core.display.HTML object>",
      "text/html": "<h3>Run history:</h3><br/><style>\n    table.wandb td:nth-child(1) { padding: 0 10px; text-align: right }\n    </style><table class=\"wandb\">\n<tr><td>r2</td><td>▁</td></tr><tr><td>_runtime</td><td>▁▁▁▁</td></tr><tr><td>_timestamp</td><td>▁▁▁▁</td></tr><tr><td>_step</td><td>▁▃▆█</td></tr><tr><td>neg_mape</td><td>▁</td></tr><tr><td>neg_mae</td><td>▁</td></tr><tr><td>neg_rmse</td><td>▁</td></tr></table><br/>"
     },
     "metadata": {},
     "output_type": "display_data"
    },
    {
     "data": {
      "text/plain": "<IPython.core.display.HTML object>",
      "text/html": "Synced 4 W&B file(s), 0 media file(s), 0 artifact file(s) and 0 other file(s)"
     },
     "metadata": {},
     "output_type": "display_data"
    },
    {
     "data": {
      "text/plain": "<IPython.core.display.HTML object>",
      "text/html": "\n                    <br/>Synced <strong style=\"color:#cdcd00\">still-sweep-26</strong>: <a href=\"https://wandb.ai/devcore/Metriken%20Bauwesen%20Sweeps/runs/gv5dg116\" target=\"_blank\">https://wandb.ai/devcore/Metriken%20Bauwesen%20Sweeps/runs/gv5dg116</a><br/>\n                "
     },
     "metadata": {},
     "output_type": "display_data"
    },
    {
     "data": {
      "text/plain": "<IPython.core.display.HTML object>",
      "text/html": "\n                Tracking run with wandb version 0.11.0<br/>\n                Syncing run <strong style=\"color:#cdcd00\">worthy-sweep-27</strong> to <a href=\"https://wandb.ai\" target=\"_blank\">Weights & Biases</a> <a href=\"https://docs.wandb.com/integrations/jupyter.html\" target=\"_blank\">(Documentation)</a>.<br/>\n                Project page: <a href=\"https://wandb.ai/devcore/Metriken%20Bauwesen%20Sweeps\" target=\"_blank\">https://wandb.ai/devcore/Metriken%20Bauwesen%20Sweeps</a><br/>\n                Sweep page: <a href=\"https://wandb.ai/devcore/Metriken%20Bauwesen%20Sweeps/sweeps/u3louhfl\" target=\"_blank\">https://wandb.ai/devcore/Metriken%20Bauwesen%20Sweeps/sweeps/u3louhfl</a><br/>\nRun page: <a href=\"https://wandb.ai/devcore/Metriken%20Bauwesen%20Sweeps/runs/hgqg4cay\" target=\"_blank\">https://wandb.ai/devcore/Metriken%20Bauwesen%20Sweeps/runs/hgqg4cay</a><br/>\n                Run data is saved locally in <code>D:\\Development\\FHNW\\ip5-metriken-bauwesen\\src\\weight_and_bias\\wandb\\run-20210817_121933-hgqg4cay</code><br/><br/>\n            "
     },
     "metadata": {},
     "output_type": "display_data"
    },
    {
     "data": {
      "text/plain": "<IPython.core.display.HTML object>",
      "text/html": "<br/>Waiting for W&B process to finish, PID 18716<br/>Program ended successfully."
     },
     "metadata": {},
     "output_type": "display_data"
    },
    {
     "data": {
      "text/plain": "VBox(children=(Label(value=' 0.00MB of 0.00MB uploaded (0.00MB deduped)\\r'), FloatProgress(value=1.0, max=1.0)…",
      "application/vnd.jupyter.widget-view+json": {
       "version_major": 2,
       "version_minor": 0,
       "model_id": "6683ef9d854b4de49af7113c770bce4a"
      }
     },
     "metadata": {},
     "output_type": "display_data"
    },
    {
     "data": {
      "text/plain": "<IPython.core.display.HTML object>",
      "text/html": "Find user logs for this run at: <code>D:\\Development\\FHNW\\ip5-metriken-bauwesen\\src\\weight_and_bias\\wandb\\run-20210817_121933-hgqg4cay\\logs\\debug.log</code>"
     },
     "metadata": {},
     "output_type": "display_data"
    },
    {
     "data": {
      "text/plain": "<IPython.core.display.HTML object>",
      "text/html": "Find internal logs for this run at: <code>D:\\Development\\FHNW\\ip5-metriken-bauwesen\\src\\weight_and_bias\\wandb\\run-20210817_121933-hgqg4cay\\logs\\debug-internal.log</code>"
     },
     "metadata": {},
     "output_type": "display_data"
    },
    {
     "data": {
      "text/plain": "<IPython.core.display.HTML object>",
      "text/html": "<h3>Run summary:</h3><br/><style>\n    table.wandb td:nth-child(1) { padding: 0 10px; text-align: right }\n    </style><table class=\"wandb\">\n<tr><td>r2</td><td>0.95474</td></tr><tr><td>_runtime</td><td>26</td></tr><tr><td>_timestamp</td><td>1629195600</td></tr><tr><td>_step</td><td>3</td></tr><tr><td>neg_mape</td><td>-0.12517</td></tr><tr><td>neg_mae</td><td>-631.20914</td></tr><tr><td>neg_rmse</td><td>-1269.69366</td></tr></table>"
     },
     "metadata": {},
     "output_type": "display_data"
    },
    {
     "data": {
      "text/plain": "<IPython.core.display.HTML object>",
      "text/html": "<h3>Run history:</h3><br/><style>\n    table.wandb td:nth-child(1) { padding: 0 10px; text-align: right }\n    </style><table class=\"wandb\">\n<tr><td>r2</td><td>▁</td></tr><tr><td>_runtime</td><td>▁▁▁▁</td></tr><tr><td>_timestamp</td><td>▁▁▁▁</td></tr><tr><td>_step</td><td>▁▃▆█</td></tr><tr><td>neg_mape</td><td>▁</td></tr><tr><td>neg_mae</td><td>▁</td></tr><tr><td>neg_rmse</td><td>▁</td></tr></table><br/>"
     },
     "metadata": {},
     "output_type": "display_data"
    },
    {
     "data": {
      "text/plain": "<IPython.core.display.HTML object>",
      "text/html": "Synced 4 W&B file(s), 0 media file(s), 0 artifact file(s) and 0 other file(s)"
     },
     "metadata": {},
     "output_type": "display_data"
    },
    {
     "data": {
      "text/plain": "<IPython.core.display.HTML object>",
      "text/html": "\n                    <br/>Synced <strong style=\"color:#cdcd00\">worthy-sweep-27</strong>: <a href=\"https://wandb.ai/devcore/Metriken%20Bauwesen%20Sweeps/runs/hgqg4cay\" target=\"_blank\">https://wandb.ai/devcore/Metriken%20Bauwesen%20Sweeps/runs/hgqg4cay</a><br/>\n                "
     },
     "metadata": {},
     "output_type": "display_data"
    },
    {
     "data": {
      "text/plain": "<IPython.core.display.HTML object>",
      "text/html": "\n                Tracking run with wandb version 0.11.0<br/>\n                Syncing run <strong style=\"color:#cdcd00\">tough-sweep-28</strong> to <a href=\"https://wandb.ai\" target=\"_blank\">Weights & Biases</a> <a href=\"https://docs.wandb.com/integrations/jupyter.html\" target=\"_blank\">(Documentation)</a>.<br/>\n                Project page: <a href=\"https://wandb.ai/devcore/Metriken%20Bauwesen%20Sweeps\" target=\"_blank\">https://wandb.ai/devcore/Metriken%20Bauwesen%20Sweeps</a><br/>\n                Sweep page: <a href=\"https://wandb.ai/devcore/Metriken%20Bauwesen%20Sweeps/sweeps/u3louhfl\" target=\"_blank\">https://wandb.ai/devcore/Metriken%20Bauwesen%20Sweeps/sweeps/u3louhfl</a><br/>\nRun page: <a href=\"https://wandb.ai/devcore/Metriken%20Bauwesen%20Sweeps/runs/byftshor\" target=\"_blank\">https://wandb.ai/devcore/Metriken%20Bauwesen%20Sweeps/runs/byftshor</a><br/>\n                Run data is saved locally in <code>D:\\Development\\FHNW\\ip5-metriken-bauwesen\\src\\weight_and_bias\\wandb\\run-20210817_122005-byftshor</code><br/><br/>\n            "
     },
     "metadata": {},
     "output_type": "display_data"
    },
    {
     "data": {
      "text/plain": "<IPython.core.display.HTML object>",
      "text/html": "<br/>Waiting for W&B process to finish, PID 4468<br/>Program ended successfully."
     },
     "metadata": {},
     "output_type": "display_data"
    },
    {
     "data": {
      "text/plain": "VBox(children=(Label(value=' 0.00MB of 0.00MB uploaded (0.00MB deduped)\\r'), FloatProgress(value=1.0, max=1.0)…",
      "application/vnd.jupyter.widget-view+json": {
       "version_major": 2,
       "version_minor": 0,
       "model_id": "21b7edf6c7644aaaba39df2b636073f5"
      }
     },
     "metadata": {},
     "output_type": "display_data"
    },
    {
     "data": {
      "text/plain": "<IPython.core.display.HTML object>",
      "text/html": "Find user logs for this run at: <code>D:\\Development\\FHNW\\ip5-metriken-bauwesen\\src\\weight_and_bias\\wandb\\run-20210817_122005-byftshor\\logs\\debug.log</code>"
     },
     "metadata": {},
     "output_type": "display_data"
    },
    {
     "data": {
      "text/plain": "<IPython.core.display.HTML object>",
      "text/html": "Find internal logs for this run at: <code>D:\\Development\\FHNW\\ip5-metriken-bauwesen\\src\\weight_and_bias\\wandb\\run-20210817_122005-byftshor\\logs\\debug-internal.log</code>"
     },
     "metadata": {},
     "output_type": "display_data"
    },
    {
     "data": {
      "text/plain": "<IPython.core.display.HTML object>",
      "text/html": "<h3>Run summary:</h3><br/><style>\n    table.wandb td:nth-child(1) { padding: 0 10px; text-align: right }\n    </style><table class=\"wandb\">\n<tr><td>r2</td><td>0.94785</td></tr><tr><td>_runtime</td><td>20</td></tr><tr><td>_timestamp</td><td>1629195625</td></tr><tr><td>_step</td><td>3</td></tr><tr><td>neg_mape</td><td>-0.13087</td></tr><tr><td>neg_mae</td><td>-670.63184</td></tr><tr><td>neg_rmse</td><td>-1351.76994</td></tr></table>"
     },
     "metadata": {},
     "output_type": "display_data"
    },
    {
     "data": {
      "text/plain": "<IPython.core.display.HTML object>",
      "text/html": "<h3>Run history:</h3><br/><style>\n    table.wandb td:nth-child(1) { padding: 0 10px; text-align: right }\n    </style><table class=\"wandb\">\n<tr><td>r2</td><td>▁</td></tr><tr><td>_runtime</td><td>▁▁▁▁</td></tr><tr><td>_timestamp</td><td>▁▁▁▁</td></tr><tr><td>_step</td><td>▁▃▆█</td></tr><tr><td>neg_mape</td><td>▁</td></tr><tr><td>neg_mae</td><td>▁</td></tr><tr><td>neg_rmse</td><td>▁</td></tr></table><br/>"
     },
     "metadata": {},
     "output_type": "display_data"
    },
    {
     "data": {
      "text/plain": "<IPython.core.display.HTML object>",
      "text/html": "Synced 4 W&B file(s), 0 media file(s), 0 artifact file(s) and 0 other file(s)"
     },
     "metadata": {},
     "output_type": "display_data"
    },
    {
     "data": {
      "text/plain": "<IPython.core.display.HTML object>",
      "text/html": "\n                    <br/>Synced <strong style=\"color:#cdcd00\">tough-sweep-28</strong>: <a href=\"https://wandb.ai/devcore/Metriken%20Bauwesen%20Sweeps/runs/byftshor\" target=\"_blank\">https://wandb.ai/devcore/Metriken%20Bauwesen%20Sweeps/runs/byftshor</a><br/>\n                "
     },
     "metadata": {},
     "output_type": "display_data"
    },
    {
     "data": {
      "text/plain": "<IPython.core.display.HTML object>",
      "text/html": "\n                Tracking run with wandb version 0.11.0<br/>\n                Syncing run <strong style=\"color:#cdcd00\">generous-sweep-29</strong> to <a href=\"https://wandb.ai\" target=\"_blank\">Weights & Biases</a> <a href=\"https://docs.wandb.com/integrations/jupyter.html\" target=\"_blank\">(Documentation)</a>.<br/>\n                Project page: <a href=\"https://wandb.ai/devcore/Metriken%20Bauwesen%20Sweeps\" target=\"_blank\">https://wandb.ai/devcore/Metriken%20Bauwesen%20Sweeps</a><br/>\n                Sweep page: <a href=\"https://wandb.ai/devcore/Metriken%20Bauwesen%20Sweeps/sweeps/u3louhfl\" target=\"_blank\">https://wandb.ai/devcore/Metriken%20Bauwesen%20Sweeps/sweeps/u3louhfl</a><br/>\nRun page: <a href=\"https://wandb.ai/devcore/Metriken%20Bauwesen%20Sweeps/runs/im7j8x3v\" target=\"_blank\">https://wandb.ai/devcore/Metriken%20Bauwesen%20Sweeps/runs/im7j8x3v</a><br/>\n                Run data is saved locally in <code>D:\\Development\\FHNW\\ip5-metriken-bauwesen\\src\\weight_and_bias\\wandb\\run-20210817_122030-im7j8x3v</code><br/><br/>\n            "
     },
     "metadata": {},
     "output_type": "display_data"
    },
    {
     "data": {
      "text/plain": "<IPython.core.display.HTML object>",
      "text/html": "<br/>Waiting for W&B process to finish, PID 19604<br/>Program ended successfully."
     },
     "metadata": {},
     "output_type": "display_data"
    },
    {
     "data": {
      "text/plain": "VBox(children=(Label(value=' 0.00MB of 0.00MB uploaded (0.00MB deduped)\\r'), FloatProgress(value=1.0, max=1.0)…",
      "application/vnd.jupyter.widget-view+json": {
       "version_major": 2,
       "version_minor": 0,
       "model_id": "b938d1f1232844fc950939fd71058052"
      }
     },
     "metadata": {},
     "output_type": "display_data"
    },
    {
     "data": {
      "text/plain": "<IPython.core.display.HTML object>",
      "text/html": "Find user logs for this run at: <code>D:\\Development\\FHNW\\ip5-metriken-bauwesen\\src\\weight_and_bias\\wandb\\run-20210817_122030-im7j8x3v\\logs\\debug.log</code>"
     },
     "metadata": {},
     "output_type": "display_data"
    },
    {
     "data": {
      "text/plain": "<IPython.core.display.HTML object>",
      "text/html": "Find internal logs for this run at: <code>D:\\Development\\FHNW\\ip5-metriken-bauwesen\\src\\weight_and_bias\\wandb\\run-20210817_122030-im7j8x3v\\logs\\debug-internal.log</code>"
     },
     "metadata": {},
     "output_type": "display_data"
    },
    {
     "data": {
      "text/plain": "<IPython.core.display.HTML object>",
      "text/html": "<h3>Run summary:</h3><br/><style>\n    table.wandb td:nth-child(1) { padding: 0 10px; text-align: right }\n    </style><table class=\"wandb\">\n<tr><td>r2</td><td>0.94984</td></tr><tr><td>_runtime</td><td>81</td></tr><tr><td>_timestamp</td><td>1629195711</td></tr><tr><td>_step</td><td>3</td></tr><tr><td>neg_mape</td><td>-0.13066</td></tr><tr><td>neg_mae</td><td>-664.98723</td></tr><tr><td>neg_rmse</td><td>-1337.70785</td></tr></table>"
     },
     "metadata": {},
     "output_type": "display_data"
    },
    {
     "data": {
      "text/plain": "<IPython.core.display.HTML object>",
      "text/html": "<h3>Run history:</h3><br/><style>\n    table.wandb td:nth-child(1) { padding: 0 10px; text-align: right }\n    </style><table class=\"wandb\">\n<tr><td>r2</td><td>▁</td></tr><tr><td>_runtime</td><td>▁▁▁▁</td></tr><tr><td>_timestamp</td><td>▁▁▁▁</td></tr><tr><td>_step</td><td>▁▃▆█</td></tr><tr><td>neg_mape</td><td>▁</td></tr><tr><td>neg_mae</td><td>▁</td></tr><tr><td>neg_rmse</td><td>▁</td></tr></table><br/>"
     },
     "metadata": {},
     "output_type": "display_data"
    },
    {
     "data": {
      "text/plain": "<IPython.core.display.HTML object>",
      "text/html": "Synced 4 W&B file(s), 0 media file(s), 0 artifact file(s) and 0 other file(s)"
     },
     "metadata": {},
     "output_type": "display_data"
    },
    {
     "data": {
      "text/plain": "<IPython.core.display.HTML object>",
      "text/html": "\n                    <br/>Synced <strong style=\"color:#cdcd00\">generous-sweep-29</strong>: <a href=\"https://wandb.ai/devcore/Metriken%20Bauwesen%20Sweeps/runs/im7j8x3v\" target=\"_blank\">https://wandb.ai/devcore/Metriken%20Bauwesen%20Sweeps/runs/im7j8x3v</a><br/>\n                "
     },
     "metadata": {},
     "output_type": "display_data"
    },
    {
     "data": {
      "text/plain": "<IPython.core.display.HTML object>",
      "text/html": "\n                Tracking run with wandb version 0.11.0<br/>\n                Syncing run <strong style=\"color:#cdcd00\">cerulean-sweep-30</strong> to <a href=\"https://wandb.ai\" target=\"_blank\">Weights & Biases</a> <a href=\"https://docs.wandb.com/integrations/jupyter.html\" target=\"_blank\">(Documentation)</a>.<br/>\n                Project page: <a href=\"https://wandb.ai/devcore/Metriken%20Bauwesen%20Sweeps\" target=\"_blank\">https://wandb.ai/devcore/Metriken%20Bauwesen%20Sweeps</a><br/>\n                Sweep page: <a href=\"https://wandb.ai/devcore/Metriken%20Bauwesen%20Sweeps/sweeps/u3louhfl\" target=\"_blank\">https://wandb.ai/devcore/Metriken%20Bauwesen%20Sweeps/sweeps/u3louhfl</a><br/>\nRun page: <a href=\"https://wandb.ai/devcore/Metriken%20Bauwesen%20Sweeps/runs/4u0pm8nq\" target=\"_blank\">https://wandb.ai/devcore/Metriken%20Bauwesen%20Sweeps/runs/4u0pm8nq</a><br/>\n                Run data is saved locally in <code>D:\\Development\\FHNW\\ip5-metriken-bauwesen\\src\\weight_and_bias\\wandb\\run-20210817_122155-4u0pm8nq</code><br/><br/>\n            "
     },
     "metadata": {},
     "output_type": "display_data"
    },
    {
     "data": {
      "text/plain": "<IPython.core.display.HTML object>",
      "text/html": "<br/>Waiting for W&B process to finish, PID 24536<br/>Program ended successfully."
     },
     "metadata": {},
     "output_type": "display_data"
    },
    {
     "data": {
      "text/plain": "VBox(children=(Label(value=' 0.00MB of 0.00MB uploaded (0.00MB deduped)\\r'), FloatProgress(value=1.0, max=1.0)…",
      "application/vnd.jupyter.widget-view+json": {
       "version_major": 2,
       "version_minor": 0,
       "model_id": "4b6b47f49e564af2a6a8df1f8cb081de"
      }
     },
     "metadata": {},
     "output_type": "display_data"
    },
    {
     "data": {
      "text/plain": "<IPython.core.display.HTML object>",
      "text/html": "Find user logs for this run at: <code>D:\\Development\\FHNW\\ip5-metriken-bauwesen\\src\\weight_and_bias\\wandb\\run-20210817_122155-4u0pm8nq\\logs\\debug.log</code>"
     },
     "metadata": {},
     "output_type": "display_data"
    },
    {
     "data": {
      "text/plain": "<IPython.core.display.HTML object>",
      "text/html": "Find internal logs for this run at: <code>D:\\Development\\FHNW\\ip5-metriken-bauwesen\\src\\weight_and_bias\\wandb\\run-20210817_122155-4u0pm8nq\\logs\\debug-internal.log</code>"
     },
     "metadata": {},
     "output_type": "display_data"
    },
    {
     "data": {
      "text/plain": "<IPython.core.display.HTML object>",
      "text/html": "<h3>Run summary:</h3><br/><style>\n    table.wandb td:nth-child(1) { padding: 0 10px; text-align: right }\n    </style><table class=\"wandb\">\n<tr><td>r2</td><td>0.94788</td></tr><tr><td>_runtime</td><td>36</td></tr><tr><td>_timestamp</td><td>1629195751</td></tr><tr><td>_step</td><td>3</td></tr><tr><td>neg_mape</td><td>-0.13068</td></tr><tr><td>neg_mae</td><td>-678.70071</td></tr><tr><td>neg_rmse</td><td>-1352.299</td></tr></table>"
     },
     "metadata": {},
     "output_type": "display_data"
    },
    {
     "data": {
      "text/plain": "<IPython.core.display.HTML object>",
      "text/html": "<h3>Run history:</h3><br/><style>\n    table.wandb td:nth-child(1) { padding: 0 10px; text-align: right }\n    </style><table class=\"wandb\">\n<tr><td>r2</td><td>▁</td></tr><tr><td>_runtime</td><td>▁▁▁▁</td></tr><tr><td>_timestamp</td><td>▁▁▁▁</td></tr><tr><td>_step</td><td>▁▃▆█</td></tr><tr><td>neg_mape</td><td>▁</td></tr><tr><td>neg_mae</td><td>▁</td></tr><tr><td>neg_rmse</td><td>▁</td></tr></table><br/>"
     },
     "metadata": {},
     "output_type": "display_data"
    },
    {
     "data": {
      "text/plain": "<IPython.core.display.HTML object>",
      "text/html": "Synced 4 W&B file(s), 0 media file(s), 0 artifact file(s) and 0 other file(s)"
     },
     "metadata": {},
     "output_type": "display_data"
    },
    {
     "data": {
      "text/plain": "<IPython.core.display.HTML object>",
      "text/html": "\n                    <br/>Synced <strong style=\"color:#cdcd00\">cerulean-sweep-30</strong>: <a href=\"https://wandb.ai/devcore/Metriken%20Bauwesen%20Sweeps/runs/4u0pm8nq\" target=\"_blank\">https://wandb.ai/devcore/Metriken%20Bauwesen%20Sweeps/runs/4u0pm8nq</a><br/>\n                "
     },
     "metadata": {},
     "output_type": "display_data"
    },
    {
     "data": {
      "text/plain": "<IPython.core.display.HTML object>",
      "text/html": "\n                Tracking run with wandb version 0.11.0<br/>\n                Syncing run <strong style=\"color:#cdcd00\">rose-sweep-31</strong> to <a href=\"https://wandb.ai\" target=\"_blank\">Weights & Biases</a> <a href=\"https://docs.wandb.com/integrations/jupyter.html\" target=\"_blank\">(Documentation)</a>.<br/>\n                Project page: <a href=\"https://wandb.ai/devcore/Metriken%20Bauwesen%20Sweeps\" target=\"_blank\">https://wandb.ai/devcore/Metriken%20Bauwesen%20Sweeps</a><br/>\n                Sweep page: <a href=\"https://wandb.ai/devcore/Metriken%20Bauwesen%20Sweeps/sweeps/u3louhfl\" target=\"_blank\">https://wandb.ai/devcore/Metriken%20Bauwesen%20Sweeps/sweeps/u3louhfl</a><br/>\nRun page: <a href=\"https://wandb.ai/devcore/Metriken%20Bauwesen%20Sweeps/runs/a1xp4cij\" target=\"_blank\">https://wandb.ai/devcore/Metriken%20Bauwesen%20Sweeps/runs/a1xp4cij</a><br/>\n                Run data is saved locally in <code>D:\\Development\\FHNW\\ip5-metriken-bauwesen\\src\\weight_and_bias\\wandb\\run-20210817_122235-a1xp4cij</code><br/><br/>\n            "
     },
     "metadata": {},
     "output_type": "display_data"
    },
    {
     "data": {
      "text/plain": "<IPython.core.display.HTML object>",
      "text/html": "<br/>Waiting for W&B process to finish, PID 24664<br/>Program ended successfully."
     },
     "metadata": {},
     "output_type": "display_data"
    },
    {
     "data": {
      "text/plain": "VBox(children=(Label(value=' 0.00MB of 0.00MB uploaded (0.00MB deduped)\\r'), FloatProgress(value=1.0, max=1.0)…",
      "application/vnd.jupyter.widget-view+json": {
       "version_major": 2,
       "version_minor": 0,
       "model_id": "db473e681517475ba03f95878e0de28c"
      }
     },
     "metadata": {},
     "output_type": "display_data"
    },
    {
     "data": {
      "text/plain": "<IPython.core.display.HTML object>",
      "text/html": "Find user logs for this run at: <code>D:\\Development\\FHNW\\ip5-metriken-bauwesen\\src\\weight_and_bias\\wandb\\run-20210817_122235-a1xp4cij\\logs\\debug.log</code>"
     },
     "metadata": {},
     "output_type": "display_data"
    },
    {
     "data": {
      "text/plain": "<IPython.core.display.HTML object>",
      "text/html": "Find internal logs for this run at: <code>D:\\Development\\FHNW\\ip5-metriken-bauwesen\\src\\weight_and_bias\\wandb\\run-20210817_122235-a1xp4cij\\logs\\debug-internal.log</code>"
     },
     "metadata": {},
     "output_type": "display_data"
    },
    {
     "data": {
      "text/plain": "<IPython.core.display.HTML object>",
      "text/html": "<h3>Run summary:</h3><br/><style>\n    table.wandb td:nth-child(1) { padding: 0 10px; text-align: right }\n    </style><table class=\"wandb\">\n<tr><td>r2</td><td>0.95182</td></tr><tr><td>_runtime</td><td>106</td></tr><tr><td>_timestamp</td><td>1629195861</td></tr><tr><td>_step</td><td>3</td></tr><tr><td>neg_mape</td><td>-0.12262</td></tr><tr><td>neg_mae</td><td>-642.25081</td></tr><tr><td>neg_rmse</td><td>-1303.3813</td></tr></table>"
     },
     "metadata": {},
     "output_type": "display_data"
    },
    {
     "data": {
      "text/plain": "<IPython.core.display.HTML object>",
      "text/html": "<h3>Run history:</h3><br/><style>\n    table.wandb td:nth-child(1) { padding: 0 10px; text-align: right }\n    </style><table class=\"wandb\">\n<tr><td>r2</td><td>▁</td></tr><tr><td>_runtime</td><td>▁▁▁▁</td></tr><tr><td>_timestamp</td><td>▁▁▁▁</td></tr><tr><td>_step</td><td>▁▃▆█</td></tr><tr><td>neg_mape</td><td>▁</td></tr><tr><td>neg_mae</td><td>▁</td></tr><tr><td>neg_rmse</td><td>▁</td></tr></table><br/>"
     },
     "metadata": {},
     "output_type": "display_data"
    },
    {
     "data": {
      "text/plain": "<IPython.core.display.HTML object>",
      "text/html": "Synced 4 W&B file(s), 0 media file(s), 0 artifact file(s) and 0 other file(s)"
     },
     "metadata": {},
     "output_type": "display_data"
    },
    {
     "data": {
      "text/plain": "<IPython.core.display.HTML object>",
      "text/html": "\n                    <br/>Synced <strong style=\"color:#cdcd00\">rose-sweep-31</strong>: <a href=\"https://wandb.ai/devcore/Metriken%20Bauwesen%20Sweeps/runs/a1xp4cij\" target=\"_blank\">https://wandb.ai/devcore/Metriken%20Bauwesen%20Sweeps/runs/a1xp4cij</a><br/>\n                "
     },
     "metadata": {},
     "output_type": "display_data"
    },
    {
     "data": {
      "text/plain": "<IPython.core.display.HTML object>",
      "text/html": "\n                Tracking run with wandb version 0.11.0<br/>\n                Syncing run <strong style=\"color:#cdcd00\">solar-sweep-32</strong> to <a href=\"https://wandb.ai\" target=\"_blank\">Weights & Biases</a> <a href=\"https://docs.wandb.com/integrations/jupyter.html\" target=\"_blank\">(Documentation)</a>.<br/>\n                Project page: <a href=\"https://wandb.ai/devcore/Metriken%20Bauwesen%20Sweeps\" target=\"_blank\">https://wandb.ai/devcore/Metriken%20Bauwesen%20Sweeps</a><br/>\n                Sweep page: <a href=\"https://wandb.ai/devcore/Metriken%20Bauwesen%20Sweeps/sweeps/u3louhfl\" target=\"_blank\">https://wandb.ai/devcore/Metriken%20Bauwesen%20Sweeps/sweeps/u3louhfl</a><br/>\nRun page: <a href=\"https://wandb.ai/devcore/Metriken%20Bauwesen%20Sweeps/runs/sieyu9f2\" target=\"_blank\">https://wandb.ai/devcore/Metriken%20Bauwesen%20Sweeps/runs/sieyu9f2</a><br/>\n                Run data is saved locally in <code>D:\\Development\\FHNW\\ip5-metriken-bauwesen\\src\\weight_and_bias\\wandb\\run-20210817_122426-sieyu9f2</code><br/><br/>\n            "
     },
     "metadata": {},
     "output_type": "display_data"
    },
    {
     "data": {
      "text/plain": "<IPython.core.display.HTML object>",
      "text/html": "<br/>Waiting for W&B process to finish, PID 23268<br/>Program ended successfully."
     },
     "metadata": {},
     "output_type": "display_data"
    },
    {
     "data": {
      "text/plain": "VBox(children=(Label(value=' 0.00MB of 0.00MB uploaded (0.00MB deduped)\\r'), FloatProgress(value=1.0, max=1.0)…",
      "application/vnd.jupyter.widget-view+json": {
       "version_major": 2,
       "version_minor": 0,
       "model_id": "8bdf8a547c664f6a9c42a27009ae21fb"
      }
     },
     "metadata": {},
     "output_type": "display_data"
    },
    {
     "data": {
      "text/plain": "<IPython.core.display.HTML object>",
      "text/html": "Find user logs for this run at: <code>D:\\Development\\FHNW\\ip5-metriken-bauwesen\\src\\weight_and_bias\\wandb\\run-20210817_122426-sieyu9f2\\logs\\debug.log</code>"
     },
     "metadata": {},
     "output_type": "display_data"
    },
    {
     "data": {
      "text/plain": "<IPython.core.display.HTML object>",
      "text/html": "Find internal logs for this run at: <code>D:\\Development\\FHNW\\ip5-metriken-bauwesen\\src\\weight_and_bias\\wandb\\run-20210817_122426-sieyu9f2\\logs\\debug-internal.log</code>"
     },
     "metadata": {},
     "output_type": "display_data"
    },
    {
     "data": {
      "text/plain": "<IPython.core.display.HTML object>",
      "text/html": "<h3>Run summary:</h3><br/><style>\n    table.wandb td:nth-child(1) { padding: 0 10px; text-align: right }\n    </style><table class=\"wandb\">\n<tr><td>r2</td><td>0.94371</td></tr><tr><td>_runtime</td><td>14</td></tr><tr><td>_timestamp</td><td>1629195880</td></tr><tr><td>_step</td><td>3</td></tr><tr><td>neg_mape</td><td>-0.13222</td></tr><tr><td>neg_mae</td><td>-686.03512</td></tr><tr><td>neg_rmse</td><td>-1413.92981</td></tr></table>"
     },
     "metadata": {},
     "output_type": "display_data"
    },
    {
     "data": {
      "text/plain": "<IPython.core.display.HTML object>",
      "text/html": "<h3>Run history:</h3><br/><style>\n    table.wandb td:nth-child(1) { padding: 0 10px; text-align: right }\n    </style><table class=\"wandb\">\n<tr><td>r2</td><td>▁</td></tr><tr><td>_runtime</td><td>▁▁▁▁</td></tr><tr><td>_timestamp</td><td>▁▁▁▁</td></tr><tr><td>_step</td><td>▁▃▆█</td></tr><tr><td>neg_mape</td><td>▁</td></tr><tr><td>neg_mae</td><td>▁</td></tr><tr><td>neg_rmse</td><td>▁</td></tr></table><br/>"
     },
     "metadata": {},
     "output_type": "display_data"
    },
    {
     "data": {
      "text/plain": "<IPython.core.display.HTML object>",
      "text/html": "Synced 4 W&B file(s), 0 media file(s), 0 artifact file(s) and 0 other file(s)"
     },
     "metadata": {},
     "output_type": "display_data"
    },
    {
     "data": {
      "text/plain": "<IPython.core.display.HTML object>",
      "text/html": "\n                    <br/>Synced <strong style=\"color:#cdcd00\">solar-sweep-32</strong>: <a href=\"https://wandb.ai/devcore/Metriken%20Bauwesen%20Sweeps/runs/sieyu9f2\" target=\"_blank\">https://wandb.ai/devcore/Metriken%20Bauwesen%20Sweeps/runs/sieyu9f2</a><br/>\n                "
     },
     "metadata": {},
     "output_type": "display_data"
    },
    {
     "data": {
      "text/plain": "<IPython.core.display.HTML object>",
      "text/html": "\n                Tracking run with wandb version 0.11.0<br/>\n                Syncing run <strong style=\"color:#cdcd00\">dauntless-sweep-33</strong> to <a href=\"https://wandb.ai\" target=\"_blank\">Weights & Biases</a> <a href=\"https://docs.wandb.com/integrations/jupyter.html\" target=\"_blank\">(Documentation)</a>.<br/>\n                Project page: <a href=\"https://wandb.ai/devcore/Metriken%20Bauwesen%20Sweeps\" target=\"_blank\">https://wandb.ai/devcore/Metriken%20Bauwesen%20Sweeps</a><br/>\n                Sweep page: <a href=\"https://wandb.ai/devcore/Metriken%20Bauwesen%20Sweeps/sweeps/u3louhfl\" target=\"_blank\">https://wandb.ai/devcore/Metriken%20Bauwesen%20Sweeps/sweeps/u3louhfl</a><br/>\nRun page: <a href=\"https://wandb.ai/devcore/Metriken%20Bauwesen%20Sweeps/runs/ojw8yghp\" target=\"_blank\">https://wandb.ai/devcore/Metriken%20Bauwesen%20Sweeps/runs/ojw8yghp</a><br/>\n                Run data is saved locally in <code>D:\\Development\\FHNW\\ip5-metriken-bauwesen\\src\\weight_and_bias\\wandb\\run-20210817_122445-ojw8yghp</code><br/><br/>\n            "
     },
     "metadata": {},
     "output_type": "display_data"
    },
    {
     "data": {
      "text/plain": "<IPython.core.display.HTML object>",
      "text/html": "<br/>Waiting for W&B process to finish, PID 6184<br/>Program ended successfully."
     },
     "metadata": {},
     "output_type": "display_data"
    },
    {
     "data": {
      "text/plain": "VBox(children=(Label(value=' 0.00MB of 0.00MB uploaded (0.00MB deduped)\\r'), FloatProgress(value=1.0, max=1.0)…",
      "application/vnd.jupyter.widget-view+json": {
       "version_major": 2,
       "version_minor": 0,
       "model_id": "b7a2ad38c4d247fe8dad74131d8a4667"
      }
     },
     "metadata": {},
     "output_type": "display_data"
    },
    {
     "data": {
      "text/plain": "<IPython.core.display.HTML object>",
      "text/html": "Find user logs for this run at: <code>D:\\Development\\FHNW\\ip5-metriken-bauwesen\\src\\weight_and_bias\\wandb\\run-20210817_122445-ojw8yghp\\logs\\debug.log</code>"
     },
     "metadata": {},
     "output_type": "display_data"
    },
    {
     "data": {
      "text/plain": "<IPython.core.display.HTML object>",
      "text/html": "Find internal logs for this run at: <code>D:\\Development\\FHNW\\ip5-metriken-bauwesen\\src\\weight_and_bias\\wandb\\run-20210817_122445-ojw8yghp\\logs\\debug-internal.log</code>"
     },
     "metadata": {},
     "output_type": "display_data"
    },
    {
     "data": {
      "text/plain": "<IPython.core.display.HTML object>",
      "text/html": "<h3>Run summary:</h3><br/><style>\n    table.wandb td:nth-child(1) { padding: 0 10px; text-align: right }\n    </style><table class=\"wandb\">\n<tr><td>r2</td><td>0.95395</td></tr><tr><td>_runtime</td><td>34</td></tr><tr><td>_timestamp</td><td>1629195919</td></tr><tr><td>_step</td><td>3</td></tr><tr><td>neg_mape</td><td>-0.12601</td></tr><tr><td>neg_mae</td><td>-641.4275</td></tr><tr><td>neg_rmse</td><td>-1279.94071</td></tr></table>"
     },
     "metadata": {},
     "output_type": "display_data"
    },
    {
     "data": {
      "text/plain": "<IPython.core.display.HTML object>",
      "text/html": "<h3>Run history:</h3><br/><style>\n    table.wandb td:nth-child(1) { padding: 0 10px; text-align: right }\n    </style><table class=\"wandb\">\n<tr><td>r2</td><td>▁</td></tr><tr><td>_runtime</td><td>▁▁▁▁</td></tr><tr><td>_timestamp</td><td>▁▁▁▁</td></tr><tr><td>_step</td><td>▁▃▆█</td></tr><tr><td>neg_mape</td><td>▁</td></tr><tr><td>neg_mae</td><td>▁</td></tr><tr><td>neg_rmse</td><td>▁</td></tr></table><br/>"
     },
     "metadata": {},
     "output_type": "display_data"
    },
    {
     "data": {
      "text/plain": "<IPython.core.display.HTML object>",
      "text/html": "Synced 4 W&B file(s), 0 media file(s), 0 artifact file(s) and 0 other file(s)"
     },
     "metadata": {},
     "output_type": "display_data"
    },
    {
     "data": {
      "text/plain": "<IPython.core.display.HTML object>",
      "text/html": "\n                    <br/>Synced <strong style=\"color:#cdcd00\">dauntless-sweep-33</strong>: <a href=\"https://wandb.ai/devcore/Metriken%20Bauwesen%20Sweeps/runs/ojw8yghp\" target=\"_blank\">https://wandb.ai/devcore/Metriken%20Bauwesen%20Sweeps/runs/ojw8yghp</a><br/>\n                "
     },
     "metadata": {},
     "output_type": "display_data"
    },
    {
     "data": {
      "text/plain": "<IPython.core.display.HTML object>",
      "text/html": "\n                Tracking run with wandb version 0.11.0<br/>\n                Syncing run <strong style=\"color:#cdcd00\">floral-sweep-34</strong> to <a href=\"https://wandb.ai\" target=\"_blank\">Weights & Biases</a> <a href=\"https://docs.wandb.com/integrations/jupyter.html\" target=\"_blank\">(Documentation)</a>.<br/>\n                Project page: <a href=\"https://wandb.ai/devcore/Metriken%20Bauwesen%20Sweeps\" target=\"_blank\">https://wandb.ai/devcore/Metriken%20Bauwesen%20Sweeps</a><br/>\n                Sweep page: <a href=\"https://wandb.ai/devcore/Metriken%20Bauwesen%20Sweeps/sweeps/u3louhfl\" target=\"_blank\">https://wandb.ai/devcore/Metriken%20Bauwesen%20Sweeps/sweeps/u3louhfl</a><br/>\nRun page: <a href=\"https://wandb.ai/devcore/Metriken%20Bauwesen%20Sweeps/runs/kq3kcx32\" target=\"_blank\">https://wandb.ai/devcore/Metriken%20Bauwesen%20Sweeps/runs/kq3kcx32</a><br/>\n                Run data is saved locally in <code>D:\\Development\\FHNW\\ip5-metriken-bauwesen\\src\\weight_and_bias\\wandb\\run-20210817_122523-kq3kcx32</code><br/><br/>\n            "
     },
     "metadata": {},
     "output_type": "display_data"
    },
    {
     "data": {
      "text/plain": "<IPython.core.display.HTML object>",
      "text/html": "<br/>Waiting for W&B process to finish, PID 20336<br/>Program ended successfully."
     },
     "metadata": {},
     "output_type": "display_data"
    },
    {
     "data": {
      "text/plain": "VBox(children=(Label(value=' 0.00MB of 0.00MB uploaded (0.00MB deduped)\\r'), FloatProgress(value=1.0, max=1.0)…",
      "application/vnd.jupyter.widget-view+json": {
       "version_major": 2,
       "version_minor": 0,
       "model_id": "4df759edc93d4172a48a4c1dc0ad3976"
      }
     },
     "metadata": {},
     "output_type": "display_data"
    },
    {
     "data": {
      "text/plain": "<IPython.core.display.HTML object>",
      "text/html": "Find user logs for this run at: <code>D:\\Development\\FHNW\\ip5-metriken-bauwesen\\src\\weight_and_bias\\wandb\\run-20210817_122523-kq3kcx32\\logs\\debug.log</code>"
     },
     "metadata": {},
     "output_type": "display_data"
    },
    {
     "data": {
      "text/plain": "<IPython.core.display.HTML object>",
      "text/html": "Find internal logs for this run at: <code>D:\\Development\\FHNW\\ip5-metriken-bauwesen\\src\\weight_and_bias\\wandb\\run-20210817_122523-kq3kcx32\\logs\\debug-internal.log</code>"
     },
     "metadata": {},
     "output_type": "display_data"
    },
    {
     "data": {
      "text/plain": "<IPython.core.display.HTML object>",
      "text/html": "<h3>Run summary:</h3><br/><style>\n    table.wandb td:nth-child(1) { padding: 0 10px; text-align: right }\n    </style><table class=\"wandb\">\n<tr><td>r2</td><td>0.94691</td></tr><tr><td>_runtime</td><td>84</td></tr><tr><td>_timestamp</td><td>1629196007</td></tr><tr><td>_step</td><td>3</td></tr><tr><td>neg_mape</td><td>-0.13132</td></tr><tr><td>neg_mae</td><td>-685.42326</td></tr><tr><td>neg_rmse</td><td>-1375.4361</td></tr></table>"
     },
     "metadata": {},
     "output_type": "display_data"
    },
    {
     "data": {
      "text/plain": "<IPython.core.display.HTML object>",
      "text/html": "<h3>Run history:</h3><br/><style>\n    table.wandb td:nth-child(1) { padding: 0 10px; text-align: right }\n    </style><table class=\"wandb\">\n<tr><td>r2</td><td>▁</td></tr><tr><td>_runtime</td><td>▁▁▁▁</td></tr><tr><td>_timestamp</td><td>▁▁▁▁</td></tr><tr><td>_step</td><td>▁▃▆█</td></tr><tr><td>neg_mape</td><td>▁</td></tr><tr><td>neg_mae</td><td>▁</td></tr><tr><td>neg_rmse</td><td>▁</td></tr></table><br/>"
     },
     "metadata": {},
     "output_type": "display_data"
    },
    {
     "data": {
      "text/plain": "<IPython.core.display.HTML object>",
      "text/html": "Synced 4 W&B file(s), 0 media file(s), 0 artifact file(s) and 0 other file(s)"
     },
     "metadata": {},
     "output_type": "display_data"
    },
    {
     "data": {
      "text/plain": "<IPython.core.display.HTML object>",
      "text/html": "\n                    <br/>Synced <strong style=\"color:#cdcd00\">floral-sweep-34</strong>: <a href=\"https://wandb.ai/devcore/Metriken%20Bauwesen%20Sweeps/runs/kq3kcx32\" target=\"_blank\">https://wandb.ai/devcore/Metriken%20Bauwesen%20Sweeps/runs/kq3kcx32</a><br/>\n                "
     },
     "metadata": {},
     "output_type": "display_data"
    },
    {
     "data": {
      "text/plain": "<IPython.core.display.HTML object>",
      "text/html": "\n                Tracking run with wandb version 0.11.0<br/>\n                Syncing run <strong style=\"color:#cdcd00\">worthy-sweep-35</strong> to <a href=\"https://wandb.ai\" target=\"_blank\">Weights & Biases</a> <a href=\"https://docs.wandb.com/integrations/jupyter.html\" target=\"_blank\">(Documentation)</a>.<br/>\n                Project page: <a href=\"https://wandb.ai/devcore/Metriken%20Bauwesen%20Sweeps\" target=\"_blank\">https://wandb.ai/devcore/Metriken%20Bauwesen%20Sweeps</a><br/>\n                Sweep page: <a href=\"https://wandb.ai/devcore/Metriken%20Bauwesen%20Sweeps/sweeps/u3louhfl\" target=\"_blank\">https://wandb.ai/devcore/Metriken%20Bauwesen%20Sweeps/sweeps/u3louhfl</a><br/>\nRun page: <a href=\"https://wandb.ai/devcore/Metriken%20Bauwesen%20Sweeps/runs/oygppcaq\" target=\"_blank\">https://wandb.ai/devcore/Metriken%20Bauwesen%20Sweeps/runs/oygppcaq</a><br/>\n                Run data is saved locally in <code>D:\\Development\\FHNW\\ip5-metriken-bauwesen\\src\\weight_and_bias\\wandb\\run-20210817_122652-oygppcaq</code><br/><br/>\n            "
     },
     "metadata": {},
     "output_type": "display_data"
    },
    {
     "data": {
      "text/plain": "<IPython.core.display.HTML object>",
      "text/html": "<br/>Waiting for W&B process to finish, PID 12888<br/>Program ended successfully."
     },
     "metadata": {},
     "output_type": "display_data"
    },
    {
     "data": {
      "text/plain": "VBox(children=(Label(value=' 0.00MB of 0.00MB uploaded (0.00MB deduped)\\r'), FloatProgress(value=1.0, max=1.0)…",
      "application/vnd.jupyter.widget-view+json": {
       "version_major": 2,
       "version_minor": 0,
       "model_id": "17438f520fe34aa2920aa6c7c00f8f4d"
      }
     },
     "metadata": {},
     "output_type": "display_data"
    },
    {
     "data": {
      "text/plain": "<IPython.core.display.HTML object>",
      "text/html": "Find user logs for this run at: <code>D:\\Development\\FHNW\\ip5-metriken-bauwesen\\src\\weight_and_bias\\wandb\\run-20210817_122652-oygppcaq\\logs\\debug.log</code>"
     },
     "metadata": {},
     "output_type": "display_data"
    },
    {
     "data": {
      "text/plain": "<IPython.core.display.HTML object>",
      "text/html": "Find internal logs for this run at: <code>D:\\Development\\FHNW\\ip5-metriken-bauwesen\\src\\weight_and_bias\\wandb\\run-20210817_122652-oygppcaq\\logs\\debug-internal.log</code>"
     },
     "metadata": {},
     "output_type": "display_data"
    },
    {
     "data": {
      "text/plain": "<IPython.core.display.HTML object>",
      "text/html": "<h3>Run summary:</h3><br/><style>\n    table.wandb td:nth-child(1) { padding: 0 10px; text-align: right }\n    </style><table class=\"wandb\">\n<tr><td>r2</td><td>0.95087</td></tr><tr><td>_runtime</td><td>16</td></tr><tr><td>_timestamp</td><td>1629196028</td></tr><tr><td>_step</td><td>3</td></tr><tr><td>neg_mape</td><td>-0.13084</td></tr><tr><td>neg_mae</td><td>-668.20263</td></tr><tr><td>neg_rmse</td><td>-1318.70376</td></tr></table>"
     },
     "metadata": {},
     "output_type": "display_data"
    },
    {
     "data": {
      "text/plain": "<IPython.core.display.HTML object>",
      "text/html": "<h3>Run history:</h3><br/><style>\n    table.wandb td:nth-child(1) { padding: 0 10px; text-align: right }\n    </style><table class=\"wandb\">\n<tr><td>r2</td><td>▁</td></tr><tr><td>_runtime</td><td>▁▁▁▁</td></tr><tr><td>_timestamp</td><td>▁▁▁▁</td></tr><tr><td>_step</td><td>▁▃▆█</td></tr><tr><td>neg_mape</td><td>▁</td></tr><tr><td>neg_mae</td><td>▁</td></tr><tr><td>neg_rmse</td><td>▁</td></tr></table><br/>"
     },
     "metadata": {},
     "output_type": "display_data"
    },
    {
     "data": {
      "text/plain": "<IPython.core.display.HTML object>",
      "text/html": "Synced 4 W&B file(s), 0 media file(s), 0 artifact file(s) and 0 other file(s)"
     },
     "metadata": {},
     "output_type": "display_data"
    },
    {
     "data": {
      "text/plain": "<IPython.core.display.HTML object>",
      "text/html": "\n                    <br/>Synced <strong style=\"color:#cdcd00\">worthy-sweep-35</strong>: <a href=\"https://wandb.ai/devcore/Metriken%20Bauwesen%20Sweeps/runs/oygppcaq\" target=\"_blank\">https://wandb.ai/devcore/Metriken%20Bauwesen%20Sweeps/runs/oygppcaq</a><br/>\n                "
     },
     "metadata": {},
     "output_type": "display_data"
    },
    {
     "data": {
      "text/plain": "<IPython.core.display.HTML object>",
      "text/html": "\n                Tracking run with wandb version 0.11.0<br/>\n                Syncing run <strong style=\"color:#cdcd00\">deft-sweep-36</strong> to <a href=\"https://wandb.ai\" target=\"_blank\">Weights & Biases</a> <a href=\"https://docs.wandb.com/integrations/jupyter.html\" target=\"_blank\">(Documentation)</a>.<br/>\n                Project page: <a href=\"https://wandb.ai/devcore/Metriken%20Bauwesen%20Sweeps\" target=\"_blank\">https://wandb.ai/devcore/Metriken%20Bauwesen%20Sweeps</a><br/>\n                Sweep page: <a href=\"https://wandb.ai/devcore/Metriken%20Bauwesen%20Sweeps/sweeps/u3louhfl\" target=\"_blank\">https://wandb.ai/devcore/Metriken%20Bauwesen%20Sweeps/sweeps/u3louhfl</a><br/>\nRun page: <a href=\"https://wandb.ai/devcore/Metriken%20Bauwesen%20Sweeps/runs/p1sqk39g\" target=\"_blank\">https://wandb.ai/devcore/Metriken%20Bauwesen%20Sweeps/runs/p1sqk39g</a><br/>\n                Run data is saved locally in <code>D:\\Development\\FHNW\\ip5-metriken-bauwesen\\src\\weight_and_bias\\wandb\\run-20210817_122712-p1sqk39g</code><br/><br/>\n            "
     },
     "metadata": {},
     "output_type": "display_data"
    },
    {
     "data": {
      "text/plain": "<IPython.core.display.HTML object>",
      "text/html": "<br/>Waiting for W&B process to finish, PID 19124<br/>Program ended successfully."
     },
     "metadata": {},
     "output_type": "display_data"
    },
    {
     "data": {
      "text/plain": "VBox(children=(Label(value=' 0.00MB of 0.00MB uploaded (0.00MB deduped)\\r'), FloatProgress(value=1.0, max=1.0)…",
      "application/vnd.jupyter.widget-view+json": {
       "version_major": 2,
       "version_minor": 0,
       "model_id": "fbdc89a8f40b48638a9d984878ca9955"
      }
     },
     "metadata": {},
     "output_type": "display_data"
    },
    {
     "data": {
      "text/plain": "<IPython.core.display.HTML object>",
      "text/html": "Find user logs for this run at: <code>D:\\Development\\FHNW\\ip5-metriken-bauwesen\\src\\weight_and_bias\\wandb\\run-20210817_122712-p1sqk39g\\logs\\debug.log</code>"
     },
     "metadata": {},
     "output_type": "display_data"
    },
    {
     "data": {
      "text/plain": "<IPython.core.display.HTML object>",
      "text/html": "Find internal logs for this run at: <code>D:\\Development\\FHNW\\ip5-metriken-bauwesen\\src\\weight_and_bias\\wandb\\run-20210817_122712-p1sqk39g\\logs\\debug-internal.log</code>"
     },
     "metadata": {},
     "output_type": "display_data"
    },
    {
     "data": {
      "text/plain": "<IPython.core.display.HTML object>",
      "text/html": "<h3>Run summary:</h3><br/><style>\n    table.wandb td:nth-child(1) { padding: 0 10px; text-align: right }\n    </style><table class=\"wandb\">\n<tr><td>r2</td><td>0.94731</td></tr><tr><td>_runtime</td><td>51</td></tr><tr><td>_timestamp</td><td>1629196083</td></tr><tr><td>_step</td><td>3</td></tr><tr><td>neg_mape</td><td>-0.12463</td></tr><tr><td>neg_mae</td><td>-670.95069</td></tr><tr><td>neg_rmse</td><td>-1376.54528</td></tr></table>"
     },
     "metadata": {},
     "output_type": "display_data"
    },
    {
     "data": {
      "text/plain": "<IPython.core.display.HTML object>",
      "text/html": "<h3>Run history:</h3><br/><style>\n    table.wandb td:nth-child(1) { padding: 0 10px; text-align: right }\n    </style><table class=\"wandb\">\n<tr><td>r2</td><td>▁</td></tr><tr><td>_runtime</td><td>▁▁▁▁</td></tr><tr><td>_timestamp</td><td>▁▁▁▁</td></tr><tr><td>_step</td><td>▁▃▆█</td></tr><tr><td>neg_mape</td><td>▁</td></tr><tr><td>neg_mae</td><td>▁</td></tr><tr><td>neg_rmse</td><td>▁</td></tr></table><br/>"
     },
     "metadata": {},
     "output_type": "display_data"
    },
    {
     "data": {
      "text/plain": "<IPython.core.display.HTML object>",
      "text/html": "Synced 4 W&B file(s), 0 media file(s), 0 artifact file(s) and 0 other file(s)"
     },
     "metadata": {},
     "output_type": "display_data"
    },
    {
     "data": {
      "text/plain": "<IPython.core.display.HTML object>",
      "text/html": "\n                    <br/>Synced <strong style=\"color:#cdcd00\">deft-sweep-36</strong>: <a href=\"https://wandb.ai/devcore/Metriken%20Bauwesen%20Sweeps/runs/p1sqk39g\" target=\"_blank\">https://wandb.ai/devcore/Metriken%20Bauwesen%20Sweeps/runs/p1sqk39g</a><br/>\n                "
     },
     "metadata": {},
     "output_type": "display_data"
    },
    {
     "data": {
      "text/plain": "<IPython.core.display.HTML object>",
      "text/html": "\n                Tracking run with wandb version 0.11.0<br/>\n                Syncing run <strong style=\"color:#cdcd00\">resilient-sweep-37</strong> to <a href=\"https://wandb.ai\" target=\"_blank\">Weights & Biases</a> <a href=\"https://docs.wandb.com/integrations/jupyter.html\" target=\"_blank\">(Documentation)</a>.<br/>\n                Project page: <a href=\"https://wandb.ai/devcore/Metriken%20Bauwesen%20Sweeps\" target=\"_blank\">https://wandb.ai/devcore/Metriken%20Bauwesen%20Sweeps</a><br/>\n                Sweep page: <a href=\"https://wandb.ai/devcore/Metriken%20Bauwesen%20Sweeps/sweeps/u3louhfl\" target=\"_blank\">https://wandb.ai/devcore/Metriken%20Bauwesen%20Sweeps/sweeps/u3louhfl</a><br/>\nRun page: <a href=\"https://wandb.ai/devcore/Metriken%20Bauwesen%20Sweeps/runs/47f3x7zh\" target=\"_blank\">https://wandb.ai/devcore/Metriken%20Bauwesen%20Sweeps/runs/47f3x7zh</a><br/>\n                Run data is saved locally in <code>D:\\Development\\FHNW\\ip5-metriken-bauwesen\\src\\weight_and_bias\\wandb\\run-20210817_122807-47f3x7zh</code><br/><br/>\n            "
     },
     "metadata": {},
     "output_type": "display_data"
    },
    {
     "data": {
      "text/plain": "<IPython.core.display.HTML object>",
      "text/html": "<br/>Waiting for W&B process to finish, PID 20260<br/>Program ended successfully."
     },
     "metadata": {},
     "output_type": "display_data"
    },
    {
     "data": {
      "text/plain": "VBox(children=(Label(value=' 0.00MB of 0.00MB uploaded (0.00MB deduped)\\r'), FloatProgress(value=1.0, max=1.0)…",
      "application/vnd.jupyter.widget-view+json": {
       "version_major": 2,
       "version_minor": 0,
       "model_id": "444261c69030439d9c4b446b6aba2192"
      }
     },
     "metadata": {},
     "output_type": "display_data"
    },
    {
     "data": {
      "text/plain": "<IPython.core.display.HTML object>",
      "text/html": "Find user logs for this run at: <code>D:\\Development\\FHNW\\ip5-metriken-bauwesen\\src\\weight_and_bias\\wandb\\run-20210817_122807-47f3x7zh\\logs\\debug.log</code>"
     },
     "metadata": {},
     "output_type": "display_data"
    },
    {
     "data": {
      "text/plain": "<IPython.core.display.HTML object>",
      "text/html": "Find internal logs for this run at: <code>D:\\Development\\FHNW\\ip5-metriken-bauwesen\\src\\weight_and_bias\\wandb\\run-20210817_122807-47f3x7zh\\logs\\debug-internal.log</code>"
     },
     "metadata": {},
     "output_type": "display_data"
    },
    {
     "data": {
      "text/plain": "<IPython.core.display.HTML object>",
      "text/html": "<h3>Run summary:</h3><br/><style>\n    table.wandb td:nth-child(1) { padding: 0 10px; text-align: right }\n    </style><table class=\"wandb\">\n<tr><td>r2</td><td>0.94172</td></tr><tr><td>_runtime</td><td>39</td></tr><tr><td>_timestamp</td><td>1629196126</td></tr><tr><td>_step</td><td>3</td></tr><tr><td>neg_mape</td><td>-0.1406</td></tr><tr><td>neg_mae</td><td>-723.46504</td></tr><tr><td>neg_rmse</td><td>-1441.39745</td></tr></table>"
     },
     "metadata": {},
     "output_type": "display_data"
    },
    {
     "data": {
      "text/plain": "<IPython.core.display.HTML object>",
      "text/html": "<h3>Run history:</h3><br/><style>\n    table.wandb td:nth-child(1) { padding: 0 10px; text-align: right }\n    </style><table class=\"wandb\">\n<tr><td>r2</td><td>▁</td></tr><tr><td>_runtime</td><td>▁▁▁▁</td></tr><tr><td>_timestamp</td><td>▁▁▁▁</td></tr><tr><td>_step</td><td>▁▃▆█</td></tr><tr><td>neg_mape</td><td>▁</td></tr><tr><td>neg_mae</td><td>▁</td></tr><tr><td>neg_rmse</td><td>▁</td></tr></table><br/>"
     },
     "metadata": {},
     "output_type": "display_data"
    },
    {
     "data": {
      "text/plain": "<IPython.core.display.HTML object>",
      "text/html": "Synced 4 W&B file(s), 0 media file(s), 0 artifact file(s) and 0 other file(s)"
     },
     "metadata": {},
     "output_type": "display_data"
    },
    {
     "data": {
      "text/plain": "<IPython.core.display.HTML object>",
      "text/html": "\n                    <br/>Synced <strong style=\"color:#cdcd00\">resilient-sweep-37</strong>: <a href=\"https://wandb.ai/devcore/Metriken%20Bauwesen%20Sweeps/runs/47f3x7zh\" target=\"_blank\">https://wandb.ai/devcore/Metriken%20Bauwesen%20Sweeps/runs/47f3x7zh</a><br/>\n                "
     },
     "metadata": {},
     "output_type": "display_data"
    },
    {
     "data": {
      "text/plain": "<IPython.core.display.HTML object>",
      "text/html": "\n                Tracking run with wandb version 0.11.0<br/>\n                Syncing run <strong style=\"color:#cdcd00\">ethereal-sweep-38</strong> to <a href=\"https://wandb.ai\" target=\"_blank\">Weights & Biases</a> <a href=\"https://docs.wandb.com/integrations/jupyter.html\" target=\"_blank\">(Documentation)</a>.<br/>\n                Project page: <a href=\"https://wandb.ai/devcore/Metriken%20Bauwesen%20Sweeps\" target=\"_blank\">https://wandb.ai/devcore/Metriken%20Bauwesen%20Sweeps</a><br/>\n                Sweep page: <a href=\"https://wandb.ai/devcore/Metriken%20Bauwesen%20Sweeps/sweeps/u3louhfl\" target=\"_blank\">https://wandb.ai/devcore/Metriken%20Bauwesen%20Sweeps/sweeps/u3louhfl</a><br/>\nRun page: <a href=\"https://wandb.ai/devcore/Metriken%20Bauwesen%20Sweeps/runs/1kvfp9bv\" target=\"_blank\">https://wandb.ai/devcore/Metriken%20Bauwesen%20Sweeps/runs/1kvfp9bv</a><br/>\n                Run data is saved locally in <code>D:\\Development\\FHNW\\ip5-metriken-bauwesen\\src\\weight_and_bias\\wandb\\run-20210817_122850-1kvfp9bv</code><br/><br/>\n            "
     },
     "metadata": {},
     "output_type": "display_data"
    },
    {
     "data": {
      "text/plain": "<IPython.core.display.HTML object>",
      "text/html": "<br/>Waiting for W&B process to finish, PID 2540<br/>Program ended successfully."
     },
     "metadata": {},
     "output_type": "display_data"
    },
    {
     "data": {
      "text/plain": "VBox(children=(Label(value=' 0.00MB of 0.00MB uploaded (0.00MB deduped)\\r'), FloatProgress(value=1.0, max=1.0)…",
      "application/vnd.jupyter.widget-view+json": {
       "version_major": 2,
       "version_minor": 0,
       "model_id": "51eac61bcd5b4b28b5e667dcd858531f"
      }
     },
     "metadata": {},
     "output_type": "display_data"
    },
    {
     "data": {
      "text/plain": "<IPython.core.display.HTML object>",
      "text/html": "Find user logs for this run at: <code>D:\\Development\\FHNW\\ip5-metriken-bauwesen\\src\\weight_and_bias\\wandb\\run-20210817_122850-1kvfp9bv\\logs\\debug.log</code>"
     },
     "metadata": {},
     "output_type": "display_data"
    },
    {
     "data": {
      "text/plain": "<IPython.core.display.HTML object>",
      "text/html": "Find internal logs for this run at: <code>D:\\Development\\FHNW\\ip5-metriken-bauwesen\\src\\weight_and_bias\\wandb\\run-20210817_122850-1kvfp9bv\\logs\\debug-internal.log</code>"
     },
     "metadata": {},
     "output_type": "display_data"
    },
    {
     "data": {
      "text/plain": "<IPython.core.display.HTML object>",
      "text/html": "<h3>Run summary:</h3><br/><style>\n    table.wandb td:nth-child(1) { padding: 0 10px; text-align: right }\n    </style><table class=\"wandb\">\n<tr><td>r2</td><td>0.95054</td></tr><tr><td>_runtime</td><td>31</td></tr><tr><td>_timestamp</td><td>1629196161</td></tr><tr><td>_step</td><td>3</td></tr><tr><td>neg_mape</td><td>-0.12975</td></tr><tr><td>neg_mae</td><td>-658.33686</td></tr><tr><td>neg_rmse</td><td>-1320.1869</td></tr></table>"
     },
     "metadata": {},
     "output_type": "display_data"
    },
    {
     "data": {
      "text/plain": "<IPython.core.display.HTML object>",
      "text/html": "<h3>Run history:</h3><br/><style>\n    table.wandb td:nth-child(1) { padding: 0 10px; text-align: right }\n    </style><table class=\"wandb\">\n<tr><td>r2</td><td>▁</td></tr><tr><td>_runtime</td><td>▁▁▁▁</td></tr><tr><td>_timestamp</td><td>▁▁▁▁</td></tr><tr><td>_step</td><td>▁▃▆█</td></tr><tr><td>neg_mape</td><td>▁</td></tr><tr><td>neg_mae</td><td>▁</td></tr><tr><td>neg_rmse</td><td>▁</td></tr></table><br/>"
     },
     "metadata": {},
     "output_type": "display_data"
    },
    {
     "data": {
      "text/plain": "<IPython.core.display.HTML object>",
      "text/html": "Synced 4 W&B file(s), 0 media file(s), 0 artifact file(s) and 0 other file(s)"
     },
     "metadata": {},
     "output_type": "display_data"
    },
    {
     "data": {
      "text/plain": "<IPython.core.display.HTML object>",
      "text/html": "\n                    <br/>Synced <strong style=\"color:#cdcd00\">ethereal-sweep-38</strong>: <a href=\"https://wandb.ai/devcore/Metriken%20Bauwesen%20Sweeps/runs/1kvfp9bv\" target=\"_blank\">https://wandb.ai/devcore/Metriken%20Bauwesen%20Sweeps/runs/1kvfp9bv</a><br/>\n                "
     },
     "metadata": {},
     "output_type": "display_data"
    },
    {
     "data": {
      "text/plain": "<IPython.core.display.HTML object>",
      "text/html": "\n                Tracking run with wandb version 0.11.0<br/>\n                Syncing run <strong style=\"color:#cdcd00\">misty-sweep-39</strong> to <a href=\"https://wandb.ai\" target=\"_blank\">Weights & Biases</a> <a href=\"https://docs.wandb.com/integrations/jupyter.html\" target=\"_blank\">(Documentation)</a>.<br/>\n                Project page: <a href=\"https://wandb.ai/devcore/Metriken%20Bauwesen%20Sweeps\" target=\"_blank\">https://wandb.ai/devcore/Metriken%20Bauwesen%20Sweeps</a><br/>\n                Sweep page: <a href=\"https://wandb.ai/devcore/Metriken%20Bauwesen%20Sweeps/sweeps/u3louhfl\" target=\"_blank\">https://wandb.ai/devcore/Metriken%20Bauwesen%20Sweeps/sweeps/u3louhfl</a><br/>\nRun page: <a href=\"https://wandb.ai/devcore/Metriken%20Bauwesen%20Sweeps/runs/akvgu0gt\" target=\"_blank\">https://wandb.ai/devcore/Metriken%20Bauwesen%20Sweeps/runs/akvgu0gt</a><br/>\n                Run data is saved locally in <code>D:\\Development\\FHNW\\ip5-metriken-bauwesen\\src\\weight_and_bias\\wandb\\run-20210817_122926-akvgu0gt</code><br/><br/>\n            "
     },
     "metadata": {},
     "output_type": "display_data"
    },
    {
     "data": {
      "text/plain": "<IPython.core.display.HTML object>",
      "text/html": "<br/>Waiting for W&B process to finish, PID 6432<br/>Program ended successfully."
     },
     "metadata": {},
     "output_type": "display_data"
    },
    {
     "data": {
      "text/plain": "VBox(children=(Label(value=' 0.00MB of 0.00MB uploaded (0.00MB deduped)\\r'), FloatProgress(value=1.0, max=1.0)…",
      "application/vnd.jupyter.widget-view+json": {
       "version_major": 2,
       "version_minor": 0,
       "model_id": "e465ac5fdc4a49a6868b044710f2d9c1"
      }
     },
     "metadata": {},
     "output_type": "display_data"
    },
    {
     "data": {
      "text/plain": "<IPython.core.display.HTML object>",
      "text/html": "Find user logs for this run at: <code>D:\\Development\\FHNW\\ip5-metriken-bauwesen\\src\\weight_and_bias\\wandb\\run-20210817_122926-akvgu0gt\\logs\\debug.log</code>"
     },
     "metadata": {},
     "output_type": "display_data"
    },
    {
     "data": {
      "text/plain": "<IPython.core.display.HTML object>",
      "text/html": "Find internal logs for this run at: <code>D:\\Development\\FHNW\\ip5-metriken-bauwesen\\src\\weight_and_bias\\wandb\\run-20210817_122926-akvgu0gt\\logs\\debug-internal.log</code>"
     },
     "metadata": {},
     "output_type": "display_data"
    },
    {
     "data": {
      "text/plain": "<IPython.core.display.HTML object>",
      "text/html": "<h3>Run summary:</h3><br/><style>\n    table.wandb td:nth-child(1) { padding: 0 10px; text-align: right }\n    </style><table class=\"wandb\">\n<tr><td>r2</td><td>0.94109</td></tr><tr><td>_runtime</td><td>16</td></tr><tr><td>_timestamp</td><td>1629196182</td></tr><tr><td>_step</td><td>3</td></tr><tr><td>neg_mape</td><td>-0.12567</td></tr><tr><td>neg_mae</td><td>-691.40625</td></tr><tr><td>neg_rmse</td><td>-1452.29463</td></tr></table>"
     },
     "metadata": {},
     "output_type": "display_data"
    },
    {
     "data": {
      "text/plain": "<IPython.core.display.HTML object>",
      "text/html": "<h3>Run history:</h3><br/><style>\n    table.wandb td:nth-child(1) { padding: 0 10px; text-align: right }\n    </style><table class=\"wandb\">\n<tr><td>r2</td><td>▁</td></tr><tr><td>_runtime</td><td>▁▁▁▁</td></tr><tr><td>_timestamp</td><td>▁▁▁▁</td></tr><tr><td>_step</td><td>▁▃▆█</td></tr><tr><td>neg_mape</td><td>▁</td></tr><tr><td>neg_mae</td><td>▁</td></tr><tr><td>neg_rmse</td><td>▁</td></tr></table><br/>"
     },
     "metadata": {},
     "output_type": "display_data"
    },
    {
     "data": {
      "text/plain": "<IPython.core.display.HTML object>",
      "text/html": "Synced 4 W&B file(s), 0 media file(s), 0 artifact file(s) and 0 other file(s)"
     },
     "metadata": {},
     "output_type": "display_data"
    },
    {
     "data": {
      "text/plain": "<IPython.core.display.HTML object>",
      "text/html": "\n                    <br/>Synced <strong style=\"color:#cdcd00\">misty-sweep-39</strong>: <a href=\"https://wandb.ai/devcore/Metriken%20Bauwesen%20Sweeps/runs/akvgu0gt\" target=\"_blank\">https://wandb.ai/devcore/Metriken%20Bauwesen%20Sweeps/runs/akvgu0gt</a><br/>\n                "
     },
     "metadata": {},
     "output_type": "display_data"
    },
    {
     "data": {
      "text/plain": "<IPython.core.display.HTML object>",
      "text/html": "\n                Tracking run with wandb version 0.11.0<br/>\n                Syncing run <strong style=\"color:#cdcd00\">flowing-sweep-40</strong> to <a href=\"https://wandb.ai\" target=\"_blank\">Weights & Biases</a> <a href=\"https://docs.wandb.com/integrations/jupyter.html\" target=\"_blank\">(Documentation)</a>.<br/>\n                Project page: <a href=\"https://wandb.ai/devcore/Metriken%20Bauwesen%20Sweeps\" target=\"_blank\">https://wandb.ai/devcore/Metriken%20Bauwesen%20Sweeps</a><br/>\n                Sweep page: <a href=\"https://wandb.ai/devcore/Metriken%20Bauwesen%20Sweeps/sweeps/u3louhfl\" target=\"_blank\">https://wandb.ai/devcore/Metriken%20Bauwesen%20Sweeps/sweeps/u3louhfl</a><br/>\nRun page: <a href=\"https://wandb.ai/devcore/Metriken%20Bauwesen%20Sweeps/runs/jaccg0az\" target=\"_blank\">https://wandb.ai/devcore/Metriken%20Bauwesen%20Sweeps/runs/jaccg0az</a><br/>\n                Run data is saved locally in <code>D:\\Development\\FHNW\\ip5-metriken-bauwesen\\src\\weight_and_bias\\wandb\\run-20210817_122948-jaccg0az</code><br/><br/>\n            "
     },
     "metadata": {},
     "output_type": "display_data"
    },
    {
     "data": {
      "text/plain": "<IPython.core.display.HTML object>",
      "text/html": "<br/>Waiting for W&B process to finish, PID 18788<br/>Program ended successfully."
     },
     "metadata": {},
     "output_type": "display_data"
    },
    {
     "data": {
      "text/plain": "VBox(children=(Label(value=' 0.00MB of 0.00MB uploaded (0.00MB deduped)\\r'), FloatProgress(value=1.0, max=1.0)…",
      "application/vnd.jupyter.widget-view+json": {
       "version_major": 2,
       "version_minor": 0,
       "model_id": "132b75a88cbb4a38a4accb232b22dd0b"
      }
     },
     "metadata": {},
     "output_type": "display_data"
    },
    {
     "data": {
      "text/plain": "<IPython.core.display.HTML object>",
      "text/html": "Find user logs for this run at: <code>D:\\Development\\FHNW\\ip5-metriken-bauwesen\\src\\weight_and_bias\\wandb\\run-20210817_122948-jaccg0az\\logs\\debug.log</code>"
     },
     "metadata": {},
     "output_type": "display_data"
    },
    {
     "data": {
      "text/plain": "<IPython.core.display.HTML object>",
      "text/html": "Find internal logs for this run at: <code>D:\\Development\\FHNW\\ip5-metriken-bauwesen\\src\\weight_and_bias\\wandb\\run-20210817_122948-jaccg0az\\logs\\debug-internal.log</code>"
     },
     "metadata": {},
     "output_type": "display_data"
    },
    {
     "data": {
      "text/plain": "<IPython.core.display.HTML object>",
      "text/html": "<h3>Run summary:</h3><br/><style>\n    table.wandb td:nth-child(1) { padding: 0 10px; text-align: right }\n    </style><table class=\"wandb\">\n<tr><td>r2</td><td>0.94405</td></tr><tr><td>_runtime</td><td>18</td></tr><tr><td>_timestamp</td><td>1629196206</td></tr><tr><td>_step</td><td>3</td></tr><tr><td>neg_mape</td><td>-0.13846</td></tr><tr><td>neg_mae</td><td>-720.24798</td></tr><tr><td>neg_rmse</td><td>-1417.20626</td></tr></table>"
     },
     "metadata": {},
     "output_type": "display_data"
    },
    {
     "data": {
      "text/plain": "<IPython.core.display.HTML object>",
      "text/html": "<h3>Run history:</h3><br/><style>\n    table.wandb td:nth-child(1) { padding: 0 10px; text-align: right }\n    </style><table class=\"wandb\">\n<tr><td>r2</td><td>▁</td></tr><tr><td>_runtime</td><td>▁▁▁▁</td></tr><tr><td>_timestamp</td><td>▁▁▁▁</td></tr><tr><td>_step</td><td>▁▃▆█</td></tr><tr><td>neg_mape</td><td>▁</td></tr><tr><td>neg_mae</td><td>▁</td></tr><tr><td>neg_rmse</td><td>▁</td></tr></table><br/>"
     },
     "metadata": {},
     "output_type": "display_data"
    },
    {
     "data": {
      "text/plain": "<IPython.core.display.HTML object>",
      "text/html": "Synced 4 W&B file(s), 0 media file(s), 0 artifact file(s) and 0 other file(s)"
     },
     "metadata": {},
     "output_type": "display_data"
    },
    {
     "data": {
      "text/plain": "<IPython.core.display.HTML object>",
      "text/html": "\n                    <br/>Synced <strong style=\"color:#cdcd00\">flowing-sweep-40</strong>: <a href=\"https://wandb.ai/devcore/Metriken%20Bauwesen%20Sweeps/runs/jaccg0az\" target=\"_blank\">https://wandb.ai/devcore/Metriken%20Bauwesen%20Sweeps/runs/jaccg0az</a><br/>\n                "
     },
     "metadata": {},
     "output_type": "display_data"
    },
    {
     "data": {
      "text/plain": "<IPython.core.display.HTML object>",
      "text/html": "\n                Tracking run with wandb version 0.11.0<br/>\n                Syncing run <strong style=\"color:#cdcd00\">eager-sweep-41</strong> to <a href=\"https://wandb.ai\" target=\"_blank\">Weights & Biases</a> <a href=\"https://docs.wandb.com/integrations/jupyter.html\" target=\"_blank\">(Documentation)</a>.<br/>\n                Project page: <a href=\"https://wandb.ai/devcore/Metriken%20Bauwesen%20Sweeps\" target=\"_blank\">https://wandb.ai/devcore/Metriken%20Bauwesen%20Sweeps</a><br/>\n                Sweep page: <a href=\"https://wandb.ai/devcore/Metriken%20Bauwesen%20Sweeps/sweeps/u3louhfl\" target=\"_blank\">https://wandb.ai/devcore/Metriken%20Bauwesen%20Sweeps/sweeps/u3louhfl</a><br/>\nRun page: <a href=\"https://wandb.ai/devcore/Metriken%20Bauwesen%20Sweeps/runs/hdj9sunp\" target=\"_blank\">https://wandb.ai/devcore/Metriken%20Bauwesen%20Sweeps/runs/hdj9sunp</a><br/>\n                Run data is saved locally in <code>D:\\Development\\FHNW\\ip5-metriken-bauwesen\\src\\weight_and_bias\\wandb\\run-20210817_123010-hdj9sunp</code><br/><br/>\n            "
     },
     "metadata": {},
     "output_type": "display_data"
    },
    {
     "data": {
      "text/plain": "<IPython.core.display.HTML object>",
      "text/html": "<br/>Waiting for W&B process to finish, PID 16468<br/>Program ended successfully."
     },
     "metadata": {},
     "output_type": "display_data"
    },
    {
     "data": {
      "text/plain": "VBox(children=(Label(value=' 0.00MB of 0.00MB uploaded (0.00MB deduped)\\r'), FloatProgress(value=1.0, max=1.0)…",
      "application/vnd.jupyter.widget-view+json": {
       "version_major": 2,
       "version_minor": 0,
       "model_id": "5e125db27452458da53c983462454023"
      }
     },
     "metadata": {},
     "output_type": "display_data"
    },
    {
     "data": {
      "text/plain": "<IPython.core.display.HTML object>",
      "text/html": "Find user logs for this run at: <code>D:\\Development\\FHNW\\ip5-metriken-bauwesen\\src\\weight_and_bias\\wandb\\run-20210817_123010-hdj9sunp\\logs\\debug.log</code>"
     },
     "metadata": {},
     "output_type": "display_data"
    },
    {
     "data": {
      "text/plain": "<IPython.core.display.HTML object>",
      "text/html": "Find internal logs for this run at: <code>D:\\Development\\FHNW\\ip5-metriken-bauwesen\\src\\weight_and_bias\\wandb\\run-20210817_123010-hdj9sunp\\logs\\debug-internal.log</code>"
     },
     "metadata": {},
     "output_type": "display_data"
    },
    {
     "data": {
      "text/plain": "<IPython.core.display.HTML object>",
      "text/html": "<h3>Run summary:</h3><br/><style>\n    table.wandb td:nth-child(1) { padding: 0 10px; text-align: right }\n    </style><table class=\"wandb\">\n<tr><td>r2</td><td>0.94761</td></tr><tr><td>_runtime</td><td>24</td></tr><tr><td>_timestamp</td><td>1629196234</td></tr><tr><td>_step</td><td>3</td></tr><tr><td>neg_mape</td><td>-0.12771</td></tr><tr><td>neg_mae</td><td>-669.87195</td></tr><tr><td>neg_rmse</td><td>-1380.23741</td></tr></table>"
     },
     "metadata": {},
     "output_type": "display_data"
    },
    {
     "data": {
      "text/plain": "<IPython.core.display.HTML object>",
      "text/html": "<h3>Run history:</h3><br/><style>\n    table.wandb td:nth-child(1) { padding: 0 10px; text-align: right }\n    </style><table class=\"wandb\">\n<tr><td>r2</td><td>▁</td></tr><tr><td>_runtime</td><td>▁▁▁▁</td></tr><tr><td>_timestamp</td><td>▁▁▁▁</td></tr><tr><td>_step</td><td>▁▃▆█</td></tr><tr><td>neg_mape</td><td>▁</td></tr><tr><td>neg_mae</td><td>▁</td></tr><tr><td>neg_rmse</td><td>▁</td></tr></table><br/>"
     },
     "metadata": {},
     "output_type": "display_data"
    },
    {
     "data": {
      "text/plain": "<IPython.core.display.HTML object>",
      "text/html": "Synced 4 W&B file(s), 0 media file(s), 0 artifact file(s) and 0 other file(s)"
     },
     "metadata": {},
     "output_type": "display_data"
    },
    {
     "data": {
      "text/plain": "<IPython.core.display.HTML object>",
      "text/html": "\n                    <br/>Synced <strong style=\"color:#cdcd00\">eager-sweep-41</strong>: <a href=\"https://wandb.ai/devcore/Metriken%20Bauwesen%20Sweeps/runs/hdj9sunp\" target=\"_blank\">https://wandb.ai/devcore/Metriken%20Bauwesen%20Sweeps/runs/hdj9sunp</a><br/>\n                "
     },
     "metadata": {},
     "output_type": "display_data"
    },
    {
     "data": {
      "text/plain": "<IPython.core.display.HTML object>",
      "text/html": "\n                Tracking run with wandb version 0.11.0<br/>\n                Syncing run <strong style=\"color:#cdcd00\">exalted-sweep-42</strong> to <a href=\"https://wandb.ai\" target=\"_blank\">Weights & Biases</a> <a href=\"https://docs.wandb.com/integrations/jupyter.html\" target=\"_blank\">(Documentation)</a>.<br/>\n                Project page: <a href=\"https://wandb.ai/devcore/Metriken%20Bauwesen%20Sweeps\" target=\"_blank\">https://wandb.ai/devcore/Metriken%20Bauwesen%20Sweeps</a><br/>\n                Sweep page: <a href=\"https://wandb.ai/devcore/Metriken%20Bauwesen%20Sweeps/sweeps/u3louhfl\" target=\"_blank\">https://wandb.ai/devcore/Metriken%20Bauwesen%20Sweeps/sweeps/u3louhfl</a><br/>\nRun page: <a href=\"https://wandb.ai/devcore/Metriken%20Bauwesen%20Sweeps/runs/zxpdpbpl\" target=\"_blank\">https://wandb.ai/devcore/Metriken%20Bauwesen%20Sweeps/runs/zxpdpbpl</a><br/>\n                Run data is saved locally in <code>D:\\Development\\FHNW\\ip5-metriken-bauwesen\\src\\weight_and_bias\\wandb\\run-20210817_123039-zxpdpbpl</code><br/><br/>\n            "
     },
     "metadata": {},
     "output_type": "display_data"
    },
    {
     "data": {
      "text/plain": "<IPython.core.display.HTML object>",
      "text/html": "<br/>Waiting for W&B process to finish, PID 21560<br/>Program ended successfully."
     },
     "metadata": {},
     "output_type": "display_data"
    },
    {
     "data": {
      "text/plain": "VBox(children=(Label(value=' 0.00MB of 0.00MB uploaded (0.00MB deduped)\\r'), FloatProgress(value=1.0, max=1.0)…",
      "application/vnd.jupyter.widget-view+json": {
       "version_major": 2,
       "version_minor": 0,
       "model_id": "048d658b2acf4d47aaeb078970ae79c2"
      }
     },
     "metadata": {},
     "output_type": "display_data"
    },
    {
     "data": {
      "text/plain": "<IPython.core.display.HTML object>",
      "text/html": "Find user logs for this run at: <code>D:\\Development\\FHNW\\ip5-metriken-bauwesen\\src\\weight_and_bias\\wandb\\run-20210817_123039-zxpdpbpl\\logs\\debug.log</code>"
     },
     "metadata": {},
     "output_type": "display_data"
    },
    {
     "data": {
      "text/plain": "<IPython.core.display.HTML object>",
      "text/html": "Find internal logs for this run at: <code>D:\\Development\\FHNW\\ip5-metriken-bauwesen\\src\\weight_and_bias\\wandb\\run-20210817_123039-zxpdpbpl\\logs\\debug-internal.log</code>"
     },
     "metadata": {},
     "output_type": "display_data"
    },
    {
     "data": {
      "text/plain": "<IPython.core.display.HTML object>",
      "text/html": "<h3>Run summary:</h3><br/><style>\n    table.wandb td:nth-child(1) { padding: 0 10px; text-align: right }\n    </style><table class=\"wandb\">\n<tr><td>r2</td><td>0.94254</td></tr><tr><td>_runtime</td><td>57</td></tr><tr><td>_timestamp</td><td>1629196296</td></tr><tr><td>_step</td><td>3</td></tr><tr><td>neg_mape</td><td>-0.14372</td></tr><tr><td>neg_mae</td><td>-736.52766</td></tr><tr><td>neg_rmse</td><td>-1431.94474</td></tr></table>"
     },
     "metadata": {},
     "output_type": "display_data"
    },
    {
     "data": {
      "text/plain": "<IPython.core.display.HTML object>",
      "text/html": "<h3>Run history:</h3><br/><style>\n    table.wandb td:nth-child(1) { padding: 0 10px; text-align: right }\n    </style><table class=\"wandb\">\n<tr><td>r2</td><td>▁</td></tr><tr><td>_runtime</td><td>▁▁▁▁</td></tr><tr><td>_timestamp</td><td>▁▁▁▁</td></tr><tr><td>_step</td><td>▁▃▆█</td></tr><tr><td>neg_mape</td><td>▁</td></tr><tr><td>neg_mae</td><td>▁</td></tr><tr><td>neg_rmse</td><td>▁</td></tr></table><br/>"
     },
     "metadata": {},
     "output_type": "display_data"
    },
    {
     "data": {
      "text/plain": "<IPython.core.display.HTML object>",
      "text/html": "Synced 4 W&B file(s), 0 media file(s), 0 artifact file(s) and 0 other file(s)"
     },
     "metadata": {},
     "output_type": "display_data"
    },
    {
     "data": {
      "text/plain": "<IPython.core.display.HTML object>",
      "text/html": "\n                    <br/>Synced <strong style=\"color:#cdcd00\">exalted-sweep-42</strong>: <a href=\"https://wandb.ai/devcore/Metriken%20Bauwesen%20Sweeps/runs/zxpdpbpl\" target=\"_blank\">https://wandb.ai/devcore/Metriken%20Bauwesen%20Sweeps/runs/zxpdpbpl</a><br/>\n                "
     },
     "metadata": {},
     "output_type": "display_data"
    },
    {
     "data": {
      "text/plain": "<IPython.core.display.HTML object>",
      "text/html": "\n                Tracking run with wandb version 0.11.0<br/>\n                Syncing run <strong style=\"color:#cdcd00\">smooth-sweep-43</strong> to <a href=\"https://wandb.ai\" target=\"_blank\">Weights & Biases</a> <a href=\"https://docs.wandb.com/integrations/jupyter.html\" target=\"_blank\">(Documentation)</a>.<br/>\n                Project page: <a href=\"https://wandb.ai/devcore/Metriken%20Bauwesen%20Sweeps\" target=\"_blank\">https://wandb.ai/devcore/Metriken%20Bauwesen%20Sweeps</a><br/>\n                Sweep page: <a href=\"https://wandb.ai/devcore/Metriken%20Bauwesen%20Sweeps/sweeps/u3louhfl\" target=\"_blank\">https://wandb.ai/devcore/Metriken%20Bauwesen%20Sweeps/sweeps/u3louhfl</a><br/>\nRun page: <a href=\"https://wandb.ai/devcore/Metriken%20Bauwesen%20Sweeps/runs/f56rvp2p\" target=\"_blank\">https://wandb.ai/devcore/Metriken%20Bauwesen%20Sweeps/runs/f56rvp2p</a><br/>\n                Run data is saved locally in <code>D:\\Development\\FHNW\\ip5-metriken-bauwesen\\src\\weight_and_bias\\wandb\\run-20210817_123140-f56rvp2p</code><br/><br/>\n            "
     },
     "metadata": {},
     "output_type": "display_data"
    },
    {
     "data": {
      "text/plain": "<IPython.core.display.HTML object>",
      "text/html": "<br/>Waiting for W&B process to finish, PID 23208<br/>Program ended successfully."
     },
     "metadata": {},
     "output_type": "display_data"
    },
    {
     "data": {
      "text/plain": "VBox(children=(Label(value=' 0.00MB of 0.00MB uploaded (0.00MB deduped)\\r'), FloatProgress(value=1.0, max=1.0)…",
      "application/vnd.jupyter.widget-view+json": {
       "version_major": 2,
       "version_minor": 0,
       "model_id": "fd39f5c2db194fc7be5bcf36dc8f1cea"
      }
     },
     "metadata": {},
     "output_type": "display_data"
    },
    {
     "data": {
      "text/plain": "<IPython.core.display.HTML object>",
      "text/html": "Find user logs for this run at: <code>D:\\Development\\FHNW\\ip5-metriken-bauwesen\\src\\weight_and_bias\\wandb\\run-20210817_123140-f56rvp2p\\logs\\debug.log</code>"
     },
     "metadata": {},
     "output_type": "display_data"
    },
    {
     "data": {
      "text/plain": "<IPython.core.display.HTML object>",
      "text/html": "Find internal logs for this run at: <code>D:\\Development\\FHNW\\ip5-metriken-bauwesen\\src\\weight_and_bias\\wandb\\run-20210817_123140-f56rvp2p\\logs\\debug-internal.log</code>"
     },
     "metadata": {},
     "output_type": "display_data"
    },
    {
     "data": {
      "text/plain": "<IPython.core.display.HTML object>",
      "text/html": "<h3>Run summary:</h3><br/><style>\n    table.wandb td:nth-child(1) { padding: 0 10px; text-align: right }\n    </style><table class=\"wandb\">\n<tr><td>r2</td><td>0.95193</td></tr><tr><td>_runtime</td><td>71</td></tr><tr><td>_timestamp</td><td>1629196371</td></tr><tr><td>_step</td><td>3</td></tr><tr><td>neg_mape</td><td>-0.12485</td></tr><tr><td>neg_mae</td><td>-651.41624</td></tr><tr><td>neg_rmse</td><td>-1310.73791</td></tr></table>"
     },
     "metadata": {},
     "output_type": "display_data"
    },
    {
     "data": {
      "text/plain": "<IPython.core.display.HTML object>",
      "text/html": "<h3>Run history:</h3><br/><style>\n    table.wandb td:nth-child(1) { padding: 0 10px; text-align: right }\n    </style><table class=\"wandb\">\n<tr><td>r2</td><td>▁</td></tr><tr><td>_runtime</td><td>▁▁▁▁</td></tr><tr><td>_timestamp</td><td>▁▁▁▁</td></tr><tr><td>_step</td><td>▁▃▆█</td></tr><tr><td>neg_mape</td><td>▁</td></tr><tr><td>neg_mae</td><td>▁</td></tr><tr><td>neg_rmse</td><td>▁</td></tr></table><br/>"
     },
     "metadata": {},
     "output_type": "display_data"
    },
    {
     "data": {
      "text/plain": "<IPython.core.display.HTML object>",
      "text/html": "Synced 4 W&B file(s), 0 media file(s), 0 artifact file(s) and 0 other file(s)"
     },
     "metadata": {},
     "output_type": "display_data"
    },
    {
     "data": {
      "text/plain": "<IPython.core.display.HTML object>",
      "text/html": "\n                    <br/>Synced <strong style=\"color:#cdcd00\">smooth-sweep-43</strong>: <a href=\"https://wandb.ai/devcore/Metriken%20Bauwesen%20Sweeps/runs/f56rvp2p\" target=\"_blank\">https://wandb.ai/devcore/Metriken%20Bauwesen%20Sweeps/runs/f56rvp2p</a><br/>\n                "
     },
     "metadata": {},
     "output_type": "display_data"
    },
    {
     "data": {
      "text/plain": "<IPython.core.display.HTML object>",
      "text/html": "\n                Tracking run with wandb version 0.11.0<br/>\n                Syncing run <strong style=\"color:#cdcd00\">glad-sweep-44</strong> to <a href=\"https://wandb.ai\" target=\"_blank\">Weights & Biases</a> <a href=\"https://docs.wandb.com/integrations/jupyter.html\" target=\"_blank\">(Documentation)</a>.<br/>\n                Project page: <a href=\"https://wandb.ai/devcore/Metriken%20Bauwesen%20Sweeps\" target=\"_blank\">https://wandb.ai/devcore/Metriken%20Bauwesen%20Sweeps</a><br/>\n                Sweep page: <a href=\"https://wandb.ai/devcore/Metriken%20Bauwesen%20Sweeps/sweeps/u3louhfl\" target=\"_blank\">https://wandb.ai/devcore/Metriken%20Bauwesen%20Sweeps/sweeps/u3louhfl</a><br/>\nRun page: <a href=\"https://wandb.ai/devcore/Metriken%20Bauwesen%20Sweeps/runs/qzvxi6jf\" target=\"_blank\">https://wandb.ai/devcore/Metriken%20Bauwesen%20Sweeps/runs/qzvxi6jf</a><br/>\n                Run data is saved locally in <code>D:\\Development\\FHNW\\ip5-metriken-bauwesen\\src\\weight_and_bias\\wandb\\run-20210817_123256-qzvxi6jf</code><br/><br/>\n            "
     },
     "metadata": {},
     "output_type": "display_data"
    },
    {
     "data": {
      "text/plain": "<IPython.core.display.HTML object>",
      "text/html": "<br/>Waiting for W&B process to finish, PID 19108<br/>Program ended successfully."
     },
     "metadata": {},
     "output_type": "display_data"
    },
    {
     "data": {
      "text/plain": "VBox(children=(Label(value=' 0.00MB of 0.00MB uploaded (0.00MB deduped)\\r'), FloatProgress(value=1.0, max=1.0)…",
      "application/vnd.jupyter.widget-view+json": {
       "version_major": 2,
       "version_minor": 0,
       "model_id": "a9c8dffe58a84b62b2e9a213184178db"
      }
     },
     "metadata": {},
     "output_type": "display_data"
    },
    {
     "data": {
      "text/plain": "<IPython.core.display.HTML object>",
      "text/html": "Find user logs for this run at: <code>D:\\Development\\FHNW\\ip5-metriken-bauwesen\\src\\weight_and_bias\\wandb\\run-20210817_123256-qzvxi6jf\\logs\\debug.log</code>"
     },
     "metadata": {},
     "output_type": "display_data"
    },
    {
     "data": {
      "text/plain": "<IPython.core.display.HTML object>",
      "text/html": "Find internal logs for this run at: <code>D:\\Development\\FHNW\\ip5-metriken-bauwesen\\src\\weight_and_bias\\wandb\\run-20210817_123256-qzvxi6jf\\logs\\debug-internal.log</code>"
     },
     "metadata": {},
     "output_type": "display_data"
    },
    {
     "data": {
      "text/plain": "<IPython.core.display.HTML object>",
      "text/html": "<h3>Run summary:</h3><br/><style>\n    table.wandb td:nth-child(1) { padding: 0 10px; text-align: right }\n    </style><table class=\"wandb\">\n<tr><td>r2</td><td>0.91858</td></tr><tr><td>_runtime</td><td>9</td></tr><tr><td>_timestamp</td><td>1629196385</td></tr><tr><td>_step</td><td>3</td></tr><tr><td>neg_mape</td><td>-0.13267</td></tr><tr><td>neg_mae</td><td>-730.81822</td></tr><tr><td>neg_rmse</td><td>-1719.1487</td></tr></table>"
     },
     "metadata": {},
     "output_type": "display_data"
    },
    {
     "data": {
      "text/plain": "<IPython.core.display.HTML object>",
      "text/html": "<h3>Run history:</h3><br/><style>\n    table.wandb td:nth-child(1) { padding: 0 10px; text-align: right }\n    </style><table class=\"wandb\">\n<tr><td>r2</td><td>▁</td></tr><tr><td>_runtime</td><td>▁▁▁▁</td></tr><tr><td>_timestamp</td><td>▁▁▁▁</td></tr><tr><td>_step</td><td>▁▃▆█</td></tr><tr><td>neg_mape</td><td>▁</td></tr><tr><td>neg_mae</td><td>▁</td></tr><tr><td>neg_rmse</td><td>▁</td></tr></table><br/>"
     },
     "metadata": {},
     "output_type": "display_data"
    },
    {
     "data": {
      "text/plain": "<IPython.core.display.HTML object>",
      "text/html": "Synced 4 W&B file(s), 0 media file(s), 0 artifact file(s) and 0 other file(s)"
     },
     "metadata": {},
     "output_type": "display_data"
    },
    {
     "data": {
      "text/plain": "<IPython.core.display.HTML object>",
      "text/html": "\n                    <br/>Synced <strong style=\"color:#cdcd00\">glad-sweep-44</strong>: <a href=\"https://wandb.ai/devcore/Metriken%20Bauwesen%20Sweeps/runs/qzvxi6jf\" target=\"_blank\">https://wandb.ai/devcore/Metriken%20Bauwesen%20Sweeps/runs/qzvxi6jf</a><br/>\n                "
     },
     "metadata": {},
     "output_type": "display_data"
    },
    {
     "data": {
      "text/plain": "<IPython.core.display.HTML object>",
      "text/html": "\n                Tracking run with wandb version 0.11.0<br/>\n                Syncing run <strong style=\"color:#cdcd00\">likely-sweep-45</strong> to <a href=\"https://wandb.ai\" target=\"_blank\">Weights & Biases</a> <a href=\"https://docs.wandb.com/integrations/jupyter.html\" target=\"_blank\">(Documentation)</a>.<br/>\n                Project page: <a href=\"https://wandb.ai/devcore/Metriken%20Bauwesen%20Sweeps\" target=\"_blank\">https://wandb.ai/devcore/Metriken%20Bauwesen%20Sweeps</a><br/>\n                Sweep page: <a href=\"https://wandb.ai/devcore/Metriken%20Bauwesen%20Sweeps/sweeps/u3louhfl\" target=\"_blank\">https://wandb.ai/devcore/Metriken%20Bauwesen%20Sweeps/sweeps/u3louhfl</a><br/>\nRun page: <a href=\"https://wandb.ai/devcore/Metriken%20Bauwesen%20Sweeps/runs/jfus4ibj\" target=\"_blank\">https://wandb.ai/devcore/Metriken%20Bauwesen%20Sweeps/runs/jfus4ibj</a><br/>\n                Run data is saved locally in <code>D:\\Development\\FHNW\\ip5-metriken-bauwesen\\src\\weight_and_bias\\wandb\\run-20210817_123310-jfus4ibj</code><br/><br/>\n            "
     },
     "metadata": {},
     "output_type": "display_data"
    },
    {
     "data": {
      "text/plain": "<IPython.core.display.HTML object>",
      "text/html": "<br/>Waiting for W&B process to finish, PID 13680<br/>Program ended successfully."
     },
     "metadata": {},
     "output_type": "display_data"
    },
    {
     "data": {
      "text/plain": "VBox(children=(Label(value=' 0.00MB of 0.00MB uploaded (0.00MB deduped)\\r'), FloatProgress(value=1.0, max=1.0)…",
      "application/vnd.jupyter.widget-view+json": {
       "version_major": 2,
       "version_minor": 0,
       "model_id": "1372e4e6b1a14674907ccfc41f83c68b"
      }
     },
     "metadata": {},
     "output_type": "display_data"
    },
    {
     "data": {
      "text/plain": "<IPython.core.display.HTML object>",
      "text/html": "Find user logs for this run at: <code>D:\\Development\\FHNW\\ip5-metriken-bauwesen\\src\\weight_and_bias\\wandb\\run-20210817_123310-jfus4ibj\\logs\\debug.log</code>"
     },
     "metadata": {},
     "output_type": "display_data"
    },
    {
     "data": {
      "text/plain": "<IPython.core.display.HTML object>",
      "text/html": "Find internal logs for this run at: <code>D:\\Development\\FHNW\\ip5-metriken-bauwesen\\src\\weight_and_bias\\wandb\\run-20210817_123310-jfus4ibj\\logs\\debug-internal.log</code>"
     },
     "metadata": {},
     "output_type": "display_data"
    },
    {
     "data": {
      "text/plain": "<IPython.core.display.HTML object>",
      "text/html": "<h3>Run summary:</h3><br/><style>\n    table.wandb td:nth-child(1) { padding: 0 10px; text-align: right }\n    </style><table class=\"wandb\">\n<tr><td>r2</td><td>0.94767</td></tr><tr><td>_runtime</td><td>34</td></tr><tr><td>_timestamp</td><td>1629196424</td></tr><tr><td>_step</td><td>3</td></tr><tr><td>neg_mape</td><td>-0.14057</td></tr><tr><td>neg_mae</td><td>-706.29505</td></tr><tr><td>neg_rmse</td><td>-1366.03018</td></tr></table>"
     },
     "metadata": {},
     "output_type": "display_data"
    },
    {
     "data": {
      "text/plain": "<IPython.core.display.HTML object>",
      "text/html": "<h3>Run history:</h3><br/><style>\n    table.wandb td:nth-child(1) { padding: 0 10px; text-align: right }\n    </style><table class=\"wandb\">\n<tr><td>r2</td><td>▁</td></tr><tr><td>_runtime</td><td>▁▁▁▁</td></tr><tr><td>_timestamp</td><td>▁▁▁▁</td></tr><tr><td>_step</td><td>▁▃▆█</td></tr><tr><td>neg_mape</td><td>▁</td></tr><tr><td>neg_mae</td><td>▁</td></tr><tr><td>neg_rmse</td><td>▁</td></tr></table><br/>"
     },
     "metadata": {},
     "output_type": "display_data"
    },
    {
     "data": {
      "text/plain": "<IPython.core.display.HTML object>",
      "text/html": "Synced 4 W&B file(s), 0 media file(s), 0 artifact file(s) and 0 other file(s)"
     },
     "metadata": {},
     "output_type": "display_data"
    },
    {
     "data": {
      "text/plain": "<IPython.core.display.HTML object>",
      "text/html": "\n                    <br/>Synced <strong style=\"color:#cdcd00\">likely-sweep-45</strong>: <a href=\"https://wandb.ai/devcore/Metriken%20Bauwesen%20Sweeps/runs/jfus4ibj\" target=\"_blank\">https://wandb.ai/devcore/Metriken%20Bauwesen%20Sweeps/runs/jfus4ibj</a><br/>\n                "
     },
     "metadata": {},
     "output_type": "display_data"
    },
    {
     "data": {
      "text/plain": "<IPython.core.display.HTML object>",
      "text/html": "\n                Tracking run with wandb version 0.11.0<br/>\n                Syncing run <strong style=\"color:#cdcd00\">lyric-sweep-46</strong> to <a href=\"https://wandb.ai\" target=\"_blank\">Weights & Biases</a> <a href=\"https://docs.wandb.com/integrations/jupyter.html\" target=\"_blank\">(Documentation)</a>.<br/>\n                Project page: <a href=\"https://wandb.ai/devcore/Metriken%20Bauwesen%20Sweeps\" target=\"_blank\">https://wandb.ai/devcore/Metriken%20Bauwesen%20Sweeps</a><br/>\n                Sweep page: <a href=\"https://wandb.ai/devcore/Metriken%20Bauwesen%20Sweeps/sweeps/u3louhfl\" target=\"_blank\">https://wandb.ai/devcore/Metriken%20Bauwesen%20Sweeps/sweeps/u3louhfl</a><br/>\nRun page: <a href=\"https://wandb.ai/devcore/Metriken%20Bauwesen%20Sweeps/runs/zbfwsfnw\" target=\"_blank\">https://wandb.ai/devcore/Metriken%20Bauwesen%20Sweeps/runs/zbfwsfnw</a><br/>\n                Run data is saved locally in <code>D:\\Development\\FHNW\\ip5-metriken-bauwesen\\src\\weight_and_bias\\wandb\\run-20210817_123349-zbfwsfnw</code><br/><br/>\n            "
     },
     "metadata": {},
     "output_type": "display_data"
    },
    {
     "data": {
      "text/plain": "<IPython.core.display.HTML object>",
      "text/html": "<br/>Waiting for W&B process to finish, PID 500<br/>Program ended successfully."
     },
     "metadata": {},
     "output_type": "display_data"
    },
    {
     "data": {
      "text/plain": "VBox(children=(Label(value=' 0.00MB of 0.00MB uploaded (0.00MB deduped)\\r'), FloatProgress(value=1.0, max=1.0)…",
      "application/vnd.jupyter.widget-view+json": {
       "version_major": 2,
       "version_minor": 0,
       "model_id": "8b3bccef6b634bc897822b00489b8da5"
      }
     },
     "metadata": {},
     "output_type": "display_data"
    },
    {
     "data": {
      "text/plain": "<IPython.core.display.HTML object>",
      "text/html": "Find user logs for this run at: <code>D:\\Development\\FHNW\\ip5-metriken-bauwesen\\src\\weight_and_bias\\wandb\\run-20210817_123349-zbfwsfnw\\logs\\debug.log</code>"
     },
     "metadata": {},
     "output_type": "display_data"
    },
    {
     "data": {
      "text/plain": "<IPython.core.display.HTML object>",
      "text/html": "Find internal logs for this run at: <code>D:\\Development\\FHNW\\ip5-metriken-bauwesen\\src\\weight_and_bias\\wandb\\run-20210817_123349-zbfwsfnw\\logs\\debug-internal.log</code>"
     },
     "metadata": {},
     "output_type": "display_data"
    },
    {
     "data": {
      "text/plain": "<IPython.core.display.HTML object>",
      "text/html": "<h3>Run summary:</h3><br/><style>\n    table.wandb td:nth-child(1) { padding: 0 10px; text-align: right }\n    </style><table class=\"wandb\">\n<tr><td>r2</td><td>0.94527</td></tr><tr><td>_runtime</td><td>20</td></tr><tr><td>_timestamp</td><td>1629196449</td></tr><tr><td>_step</td><td>3</td></tr><tr><td>neg_mape</td><td>-0.1435</td></tr><tr><td>neg_mae</td><td>-712.69678</td></tr><tr><td>neg_rmse</td><td>-1393.83589</td></tr></table>"
     },
     "metadata": {},
     "output_type": "display_data"
    },
    {
     "data": {
      "text/plain": "<IPython.core.display.HTML object>",
      "text/html": "<h3>Run history:</h3><br/><style>\n    table.wandb td:nth-child(1) { padding: 0 10px; text-align: right }\n    </style><table class=\"wandb\">\n<tr><td>r2</td><td>▁</td></tr><tr><td>_runtime</td><td>▁▁▁▁</td></tr><tr><td>_timestamp</td><td>▁▁▁▁</td></tr><tr><td>_step</td><td>▁▃▆█</td></tr><tr><td>neg_mape</td><td>▁</td></tr><tr><td>neg_mae</td><td>▁</td></tr><tr><td>neg_rmse</td><td>▁</td></tr></table><br/>"
     },
     "metadata": {},
     "output_type": "display_data"
    },
    {
     "data": {
      "text/plain": "<IPython.core.display.HTML object>",
      "text/html": "Synced 4 W&B file(s), 0 media file(s), 0 artifact file(s) and 0 other file(s)"
     },
     "metadata": {},
     "output_type": "display_data"
    },
    {
     "data": {
      "text/plain": "<IPython.core.display.HTML object>",
      "text/html": "\n                    <br/>Synced <strong style=\"color:#cdcd00\">lyric-sweep-46</strong>: <a href=\"https://wandb.ai/devcore/Metriken%20Bauwesen%20Sweeps/runs/zbfwsfnw\" target=\"_blank\">https://wandb.ai/devcore/Metriken%20Bauwesen%20Sweeps/runs/zbfwsfnw</a><br/>\n                "
     },
     "metadata": {},
     "output_type": "display_data"
    },
    {
     "data": {
      "text/plain": "<IPython.core.display.HTML object>",
      "text/html": "\n                Tracking run with wandb version 0.11.0<br/>\n                Syncing run <strong style=\"color:#cdcd00\">radiant-sweep-47</strong> to <a href=\"https://wandb.ai\" target=\"_blank\">Weights & Biases</a> <a href=\"https://docs.wandb.com/integrations/jupyter.html\" target=\"_blank\">(Documentation)</a>.<br/>\n                Project page: <a href=\"https://wandb.ai/devcore/Metriken%20Bauwesen%20Sweeps\" target=\"_blank\">https://wandb.ai/devcore/Metriken%20Bauwesen%20Sweeps</a><br/>\n                Sweep page: <a href=\"https://wandb.ai/devcore/Metriken%20Bauwesen%20Sweeps/sweeps/u3louhfl\" target=\"_blank\">https://wandb.ai/devcore/Metriken%20Bauwesen%20Sweeps/sweeps/u3louhfl</a><br/>\nRun page: <a href=\"https://wandb.ai/devcore/Metriken%20Bauwesen%20Sweeps/runs/91uplp1l\" target=\"_blank\">https://wandb.ai/devcore/Metriken%20Bauwesen%20Sweeps/runs/91uplp1l</a><br/>\n                Run data is saved locally in <code>D:\\Development\\FHNW\\ip5-metriken-bauwesen\\src\\weight_and_bias\\wandb\\run-20210817_123412-91uplp1l</code><br/><br/>\n            "
     },
     "metadata": {},
     "output_type": "display_data"
    },
    {
     "data": {
      "text/plain": "<IPython.core.display.HTML object>",
      "text/html": "<br/>Waiting for W&B process to finish, PID 5668<br/>Program ended successfully."
     },
     "metadata": {},
     "output_type": "display_data"
    },
    {
     "data": {
      "text/plain": "VBox(children=(Label(value=' 0.00MB of 0.00MB uploaded (0.00MB deduped)\\r'), FloatProgress(value=1.0, max=1.0)…",
      "application/vnd.jupyter.widget-view+json": {
       "version_major": 2,
       "version_minor": 0,
       "model_id": "498e6491c26942c080424af5df557044"
      }
     },
     "metadata": {},
     "output_type": "display_data"
    },
    {
     "data": {
      "text/plain": "<IPython.core.display.HTML object>",
      "text/html": "Find user logs for this run at: <code>D:\\Development\\FHNW\\ip5-metriken-bauwesen\\src\\weight_and_bias\\wandb\\run-20210817_123412-91uplp1l\\logs\\debug.log</code>"
     },
     "metadata": {},
     "output_type": "display_data"
    },
    {
     "data": {
      "text/plain": "<IPython.core.display.HTML object>",
      "text/html": "Find internal logs for this run at: <code>D:\\Development\\FHNW\\ip5-metriken-bauwesen\\src\\weight_and_bias\\wandb\\run-20210817_123412-91uplp1l\\logs\\debug-internal.log</code>"
     },
     "metadata": {},
     "output_type": "display_data"
    },
    {
     "data": {
      "text/plain": "<IPython.core.display.HTML object>",
      "text/html": "<h3>Run summary:</h3><br/><style>\n    table.wandb td:nth-child(1) { padding: 0 10px; text-align: right }\n    </style><table class=\"wandb\">\n<tr><td>r2</td><td>0.9476</td></tr><tr><td>_runtime</td><td>27</td></tr><tr><td>_timestamp</td><td>1629196480</td></tr><tr><td>_step</td><td>3</td></tr><tr><td>neg_mape</td><td>-0.13419</td></tr><tr><td>neg_mae</td><td>-694.86349</td></tr><tr><td>neg_rmse</td><td>-1363.09326</td></tr></table>"
     },
     "metadata": {},
     "output_type": "display_data"
    },
    {
     "data": {
      "text/plain": "<IPython.core.display.HTML object>",
      "text/html": "<h3>Run history:</h3><br/><style>\n    table.wandb td:nth-child(1) { padding: 0 10px; text-align: right }\n    </style><table class=\"wandb\">\n<tr><td>r2</td><td>▁</td></tr><tr><td>_runtime</td><td>▁▁▁▁</td></tr><tr><td>_timestamp</td><td>▁▁▁▁</td></tr><tr><td>_step</td><td>▁▃▆█</td></tr><tr><td>neg_mape</td><td>▁</td></tr><tr><td>neg_mae</td><td>▁</td></tr><tr><td>neg_rmse</td><td>▁</td></tr></table><br/>"
     },
     "metadata": {},
     "output_type": "display_data"
    },
    {
     "data": {
      "text/plain": "<IPython.core.display.HTML object>",
      "text/html": "Synced 4 W&B file(s), 0 media file(s), 0 artifact file(s) and 0 other file(s)"
     },
     "metadata": {},
     "output_type": "display_data"
    },
    {
     "data": {
      "text/plain": "<IPython.core.display.HTML object>",
      "text/html": "\n                    <br/>Synced <strong style=\"color:#cdcd00\">radiant-sweep-47</strong>: <a href=\"https://wandb.ai/devcore/Metriken%20Bauwesen%20Sweeps/runs/91uplp1l\" target=\"_blank\">https://wandb.ai/devcore/Metriken%20Bauwesen%20Sweeps/runs/91uplp1l</a><br/>\n                "
     },
     "metadata": {},
     "output_type": "display_data"
    },
    {
     "data": {
      "text/plain": "<IPython.core.display.HTML object>",
      "text/html": "\n                Tracking run with wandb version 0.11.0<br/>\n                Syncing run <strong style=\"color:#cdcd00\">cosmic-sweep-48</strong> to <a href=\"https://wandb.ai\" target=\"_blank\">Weights & Biases</a> <a href=\"https://docs.wandb.com/integrations/jupyter.html\" target=\"_blank\">(Documentation)</a>.<br/>\n                Project page: <a href=\"https://wandb.ai/devcore/Metriken%20Bauwesen%20Sweeps\" target=\"_blank\">https://wandb.ai/devcore/Metriken%20Bauwesen%20Sweeps</a><br/>\n                Sweep page: <a href=\"https://wandb.ai/devcore/Metriken%20Bauwesen%20Sweeps/sweeps/u3louhfl\" target=\"_blank\">https://wandb.ai/devcore/Metriken%20Bauwesen%20Sweeps/sweeps/u3louhfl</a><br/>\nRun page: <a href=\"https://wandb.ai/devcore/Metriken%20Bauwesen%20Sweeps/runs/iuiblu10\" target=\"_blank\">https://wandb.ai/devcore/Metriken%20Bauwesen%20Sweeps/runs/iuiblu10</a><br/>\n                Run data is saved locally in <code>D:\\Development\\FHNW\\ip5-metriken-bauwesen\\src\\weight_and_bias\\wandb\\run-20210817_123445-iuiblu10</code><br/><br/>\n            "
     },
     "metadata": {},
     "output_type": "display_data"
    },
    {
     "data": {
      "text/plain": "<IPython.core.display.HTML object>",
      "text/html": "<br/>Waiting for W&B process to finish, PID 26508<br/>Program ended successfully."
     },
     "metadata": {},
     "output_type": "display_data"
    },
    {
     "data": {
      "text/plain": "VBox(children=(Label(value=' 0.00MB of 0.00MB uploaded (0.00MB deduped)\\r'), FloatProgress(value=1.0, max=1.0)…",
      "application/vnd.jupyter.widget-view+json": {
       "version_major": 2,
       "version_minor": 0,
       "model_id": "455645312bd741d5b60e53d16be1bb9a"
      }
     },
     "metadata": {},
     "output_type": "display_data"
    },
    {
     "data": {
      "text/plain": "<IPython.core.display.HTML object>",
      "text/html": "Find user logs for this run at: <code>D:\\Development\\FHNW\\ip5-metriken-bauwesen\\src\\weight_and_bias\\wandb\\run-20210817_123445-iuiblu10\\logs\\debug.log</code>"
     },
     "metadata": {},
     "output_type": "display_data"
    },
    {
     "data": {
      "text/plain": "<IPython.core.display.HTML object>",
      "text/html": "Find internal logs for this run at: <code>D:\\Development\\FHNW\\ip5-metriken-bauwesen\\src\\weight_and_bias\\wandb\\run-20210817_123445-iuiblu10\\logs\\debug-internal.log</code>"
     },
     "metadata": {},
     "output_type": "display_data"
    },
    {
     "data": {
      "text/plain": "<IPython.core.display.HTML object>",
      "text/html": "<h3>Run summary:</h3><br/><style>\n    table.wandb td:nth-child(1) { padding: 0 10px; text-align: right }\n    </style><table class=\"wandb\">\n<tr><td>r2</td><td>0.94955</td></tr><tr><td>_runtime</td><td>58</td></tr><tr><td>_timestamp</td><td>1629196543</td></tr><tr><td>_step</td><td>3</td></tr><tr><td>neg_mape</td><td>-0.12783</td></tr><tr><td>neg_mae</td><td>-666.5775</td></tr><tr><td>neg_rmse</td><td>-1341.56801</td></tr></table>"
     },
     "metadata": {},
     "output_type": "display_data"
    },
    {
     "data": {
      "text/plain": "<IPython.core.display.HTML object>",
      "text/html": "<h3>Run history:</h3><br/><style>\n    table.wandb td:nth-child(1) { padding: 0 10px; text-align: right }\n    </style><table class=\"wandb\">\n<tr><td>r2</td><td>▁</td></tr><tr><td>_runtime</td><td>▁▁▁▁</td></tr><tr><td>_timestamp</td><td>▁▁▁▁</td></tr><tr><td>_step</td><td>▁▃▆█</td></tr><tr><td>neg_mape</td><td>▁</td></tr><tr><td>neg_mae</td><td>▁</td></tr><tr><td>neg_rmse</td><td>▁</td></tr></table><br/>"
     },
     "metadata": {},
     "output_type": "display_data"
    },
    {
     "data": {
      "text/plain": "<IPython.core.display.HTML object>",
      "text/html": "Synced 4 W&B file(s), 0 media file(s), 0 artifact file(s) and 0 other file(s)"
     },
     "metadata": {},
     "output_type": "display_data"
    },
    {
     "data": {
      "text/plain": "<IPython.core.display.HTML object>",
      "text/html": "\n                    <br/>Synced <strong style=\"color:#cdcd00\">cosmic-sweep-48</strong>: <a href=\"https://wandb.ai/devcore/Metriken%20Bauwesen%20Sweeps/runs/iuiblu10\" target=\"_blank\">https://wandb.ai/devcore/Metriken%20Bauwesen%20Sweeps/runs/iuiblu10</a><br/>\n                "
     },
     "metadata": {},
     "output_type": "display_data"
    },
    {
     "data": {
      "text/plain": "<IPython.core.display.HTML object>",
      "text/html": "\n                Tracking run with wandb version 0.11.0<br/>\n                Syncing run <strong style=\"color:#cdcd00\">solar-sweep-49</strong> to <a href=\"https://wandb.ai\" target=\"_blank\">Weights & Biases</a> <a href=\"https://docs.wandb.com/integrations/jupyter.html\" target=\"_blank\">(Documentation)</a>.<br/>\n                Project page: <a href=\"https://wandb.ai/devcore/Metriken%20Bauwesen%20Sweeps\" target=\"_blank\">https://wandb.ai/devcore/Metriken%20Bauwesen%20Sweeps</a><br/>\n                Sweep page: <a href=\"https://wandb.ai/devcore/Metriken%20Bauwesen%20Sweeps/sweeps/u3louhfl\" target=\"_blank\">https://wandb.ai/devcore/Metriken%20Bauwesen%20Sweeps/sweeps/u3louhfl</a><br/>\nRun page: <a href=\"https://wandb.ai/devcore/Metriken%20Bauwesen%20Sweeps/runs/v7tswn0q\" target=\"_blank\">https://wandb.ai/devcore/Metriken%20Bauwesen%20Sweeps/runs/v7tswn0q</a><br/>\n                Run data is saved locally in <code>D:\\Development\\FHNW\\ip5-metriken-bauwesen\\src\\weight_and_bias\\wandb\\run-20210817_123548-v7tswn0q</code><br/><br/>\n            "
     },
     "metadata": {},
     "output_type": "display_data"
    },
    {
     "data": {
      "text/plain": "<IPython.core.display.HTML object>",
      "text/html": "<br/>Waiting for W&B process to finish, PID 15068<br/>Program ended successfully."
     },
     "metadata": {},
     "output_type": "display_data"
    },
    {
     "data": {
      "text/plain": "VBox(children=(Label(value=' 0.00MB of 0.00MB uploaded (0.00MB deduped)\\r'), FloatProgress(value=1.0, max=1.0)…",
      "application/vnd.jupyter.widget-view+json": {
       "version_major": 2,
       "version_minor": 0,
       "model_id": "cb0e41ea2ba64aeda4866d7159d5d583"
      }
     },
     "metadata": {},
     "output_type": "display_data"
    },
    {
     "data": {
      "text/plain": "<IPython.core.display.HTML object>",
      "text/html": "Find user logs for this run at: <code>D:\\Development\\FHNW\\ip5-metriken-bauwesen\\src\\weight_and_bias\\wandb\\run-20210817_123548-v7tswn0q\\logs\\debug.log</code>"
     },
     "metadata": {},
     "output_type": "display_data"
    },
    {
     "data": {
      "text/plain": "<IPython.core.display.HTML object>",
      "text/html": "Find internal logs for this run at: <code>D:\\Development\\FHNW\\ip5-metriken-bauwesen\\src\\weight_and_bias\\wandb\\run-20210817_123548-v7tswn0q\\logs\\debug-internal.log</code>"
     },
     "metadata": {},
     "output_type": "display_data"
    },
    {
     "data": {
      "text/plain": "<IPython.core.display.HTML object>",
      "text/html": "<h3>Run summary:</h3><br/><style>\n    table.wandb td:nth-child(1) { padding: 0 10px; text-align: right }\n    </style><table class=\"wandb\">\n<tr><td>r2</td><td>0.95047</td></tr><tr><td>_runtime</td><td>27</td></tr><tr><td>_timestamp</td><td>1629196575</td></tr><tr><td>_step</td><td>3</td></tr><tr><td>neg_mape</td><td>-0.12449</td></tr><tr><td>neg_mae</td><td>-655.74209</td></tr><tr><td>neg_rmse</td><td>-1324.54221</td></tr></table>"
     },
     "metadata": {},
     "output_type": "display_data"
    },
    {
     "data": {
      "text/plain": "<IPython.core.display.HTML object>",
      "text/html": "<h3>Run history:</h3><br/><style>\n    table.wandb td:nth-child(1) { padding: 0 10px; text-align: right }\n    </style><table class=\"wandb\">\n<tr><td>r2</td><td>▁</td></tr><tr><td>_runtime</td><td>▁▁▁▁</td></tr><tr><td>_timestamp</td><td>▁▁▁▁</td></tr><tr><td>_step</td><td>▁▃▆█</td></tr><tr><td>neg_mape</td><td>▁</td></tr><tr><td>neg_mae</td><td>▁</td></tr><tr><td>neg_rmse</td><td>▁</td></tr></table><br/>"
     },
     "metadata": {},
     "output_type": "display_data"
    },
    {
     "data": {
      "text/plain": "<IPython.core.display.HTML object>",
      "text/html": "Synced 4 W&B file(s), 0 media file(s), 0 artifact file(s) and 0 other file(s)"
     },
     "metadata": {},
     "output_type": "display_data"
    },
    {
     "data": {
      "text/plain": "<IPython.core.display.HTML object>",
      "text/html": "\n                    <br/>Synced <strong style=\"color:#cdcd00\">solar-sweep-49</strong>: <a href=\"https://wandb.ai/devcore/Metriken%20Bauwesen%20Sweeps/runs/v7tswn0q\" target=\"_blank\">https://wandb.ai/devcore/Metriken%20Bauwesen%20Sweeps/runs/v7tswn0q</a><br/>\n                "
     },
     "metadata": {},
     "output_type": "display_data"
    },
    {
     "data": {
      "text/plain": "<IPython.core.display.HTML object>",
      "text/html": "\n                Tracking run with wandb version 0.11.0<br/>\n                Syncing run <strong style=\"color:#cdcd00\">earthy-sweep-50</strong> to <a href=\"https://wandb.ai\" target=\"_blank\">Weights & Biases</a> <a href=\"https://docs.wandb.com/integrations/jupyter.html\" target=\"_blank\">(Documentation)</a>.<br/>\n                Project page: <a href=\"https://wandb.ai/devcore/Metriken%20Bauwesen%20Sweeps\" target=\"_blank\">https://wandb.ai/devcore/Metriken%20Bauwesen%20Sweeps</a><br/>\n                Sweep page: <a href=\"https://wandb.ai/devcore/Metriken%20Bauwesen%20Sweeps/sweeps/u3louhfl\" target=\"_blank\">https://wandb.ai/devcore/Metriken%20Bauwesen%20Sweeps/sweeps/u3louhfl</a><br/>\nRun page: <a href=\"https://wandb.ai/devcore/Metriken%20Bauwesen%20Sweeps/runs/u8oe8l4n\" target=\"_blank\">https://wandb.ai/devcore/Metriken%20Bauwesen%20Sweeps/runs/u8oe8l4n</a><br/>\n                Run data is saved locally in <code>D:\\Development\\FHNW\\ip5-metriken-bauwesen\\src\\weight_and_bias\\wandb\\run-20210817_123619-u8oe8l4n</code><br/><br/>\n            "
     },
     "metadata": {},
     "output_type": "display_data"
    },
    {
     "data": {
      "text/plain": "<IPython.core.display.HTML object>",
      "text/html": "<br/>Waiting for W&B process to finish, PID 26440<br/>Program ended successfully."
     },
     "metadata": {},
     "output_type": "display_data"
    },
    {
     "data": {
      "text/plain": "VBox(children=(Label(value=' 0.00MB of 0.00MB uploaded (0.00MB deduped)\\r'), FloatProgress(value=1.0, max=1.0)…",
      "application/vnd.jupyter.widget-view+json": {
       "version_major": 2,
       "version_minor": 0,
       "model_id": "cd795716cd064c5aa90475aa5eaaa0cb"
      }
     },
     "metadata": {},
     "output_type": "display_data"
    },
    {
     "data": {
      "text/plain": "<IPython.core.display.HTML object>",
      "text/html": "Find user logs for this run at: <code>D:\\Development\\FHNW\\ip5-metriken-bauwesen\\src\\weight_and_bias\\wandb\\run-20210817_123619-u8oe8l4n\\logs\\debug.log</code>"
     },
     "metadata": {},
     "output_type": "display_data"
    },
    {
     "data": {
      "text/plain": "<IPython.core.display.HTML object>",
      "text/html": "Find internal logs for this run at: <code>D:\\Development\\FHNW\\ip5-metriken-bauwesen\\src\\weight_and_bias\\wandb\\run-20210817_123619-u8oe8l4n\\logs\\debug-internal.log</code>"
     },
     "metadata": {},
     "output_type": "display_data"
    },
    {
     "data": {
      "text/plain": "<IPython.core.display.HTML object>",
      "text/html": "<h3>Run summary:</h3><br/><style>\n    table.wandb td:nth-child(1) { padding: 0 10px; text-align: right }\n    </style><table class=\"wandb\">\n<tr><td>r2</td><td>0.94708</td></tr><tr><td>_runtime</td><td>47</td></tr><tr><td>_timestamp</td><td>1629196626</td></tr><tr><td>_step</td><td>3</td></tr><tr><td>neg_mape</td><td>-0.13645</td></tr><tr><td>neg_mae</td><td>-709.05009</td></tr><tr><td>neg_rmse</td><td>-1375.13379</td></tr></table>"
     },
     "metadata": {},
     "output_type": "display_data"
    },
    {
     "data": {
      "text/plain": "<IPython.core.display.HTML object>",
      "text/html": "<h3>Run history:</h3><br/><style>\n    table.wandb td:nth-child(1) { padding: 0 10px; text-align: right }\n    </style><table class=\"wandb\">\n<tr><td>r2</td><td>▁</td></tr><tr><td>_runtime</td><td>▁▁▁▁</td></tr><tr><td>_timestamp</td><td>▁▁▁▁</td></tr><tr><td>_step</td><td>▁▃▆█</td></tr><tr><td>neg_mape</td><td>▁</td></tr><tr><td>neg_mae</td><td>▁</td></tr><tr><td>neg_rmse</td><td>▁</td></tr></table><br/>"
     },
     "metadata": {},
     "output_type": "display_data"
    },
    {
     "data": {
      "text/plain": "<IPython.core.display.HTML object>",
      "text/html": "Synced 4 W&B file(s), 0 media file(s), 0 artifact file(s) and 0 other file(s)"
     },
     "metadata": {},
     "output_type": "display_data"
    },
    {
     "data": {
      "text/plain": "<IPython.core.display.HTML object>",
      "text/html": "\n                    <br/>Synced <strong style=\"color:#cdcd00\">earthy-sweep-50</strong>: <a href=\"https://wandb.ai/devcore/Metriken%20Bauwesen%20Sweeps/runs/u8oe8l4n\" target=\"_blank\">https://wandb.ai/devcore/Metriken%20Bauwesen%20Sweeps/runs/u8oe8l4n</a><br/>\n                "
     },
     "metadata": {},
     "output_type": "display_data"
    },
    {
     "data": {
      "text/plain": "<IPython.core.display.HTML object>",
      "text/html": "\n                Tracking run with wandb version 0.11.0<br/>\n                Syncing run <strong style=\"color:#cdcd00\">bright-sweep-51</strong> to <a href=\"https://wandb.ai\" target=\"_blank\">Weights & Biases</a> <a href=\"https://docs.wandb.com/integrations/jupyter.html\" target=\"_blank\">(Documentation)</a>.<br/>\n                Project page: <a href=\"https://wandb.ai/devcore/Metriken%20Bauwesen%20Sweeps\" target=\"_blank\">https://wandb.ai/devcore/Metriken%20Bauwesen%20Sweeps</a><br/>\n                Sweep page: <a href=\"https://wandb.ai/devcore/Metriken%20Bauwesen%20Sweeps/sweeps/u3louhfl\" target=\"_blank\">https://wandb.ai/devcore/Metriken%20Bauwesen%20Sweeps/sweeps/u3louhfl</a><br/>\nRun page: <a href=\"https://wandb.ai/devcore/Metriken%20Bauwesen%20Sweeps/runs/vgaxrvxq\" target=\"_blank\">https://wandb.ai/devcore/Metriken%20Bauwesen%20Sweeps/runs/vgaxrvxq</a><br/>\n                Run data is saved locally in <code>D:\\Development\\FHNW\\ip5-metriken-bauwesen\\src\\weight_and_bias\\wandb\\run-20210817_123711-vgaxrvxq</code><br/><br/>\n            "
     },
     "metadata": {},
     "output_type": "display_data"
    },
    {
     "data": {
      "text/plain": "<IPython.core.display.HTML object>",
      "text/html": "<br/>Waiting for W&B process to finish, PID 26104<br/>Program ended successfully."
     },
     "metadata": {},
     "output_type": "display_data"
    },
    {
     "data": {
      "text/plain": "VBox(children=(Label(value=' 0.00MB of 0.00MB uploaded (0.00MB deduped)\\r'), FloatProgress(value=1.0, max=1.0)…",
      "application/vnd.jupyter.widget-view+json": {
       "version_major": 2,
       "version_minor": 0,
       "model_id": "64c4fbecce5841518ddac7aade106c99"
      }
     },
     "metadata": {},
     "output_type": "display_data"
    },
    {
     "data": {
      "text/plain": "<IPython.core.display.HTML object>",
      "text/html": "Find user logs for this run at: <code>D:\\Development\\FHNW\\ip5-metriken-bauwesen\\src\\weight_and_bias\\wandb\\run-20210817_123711-vgaxrvxq\\logs\\debug.log</code>"
     },
     "metadata": {},
     "output_type": "display_data"
    },
    {
     "data": {
      "text/plain": "<IPython.core.display.HTML object>",
      "text/html": "Find internal logs for this run at: <code>D:\\Development\\FHNW\\ip5-metriken-bauwesen\\src\\weight_and_bias\\wandb\\run-20210817_123711-vgaxrvxq\\logs\\debug-internal.log</code>"
     },
     "metadata": {},
     "output_type": "display_data"
    },
    {
     "data": {
      "text/plain": "<IPython.core.display.HTML object>",
      "text/html": "<h3>Run summary:</h3><br/><style>\n    table.wandb td:nth-child(1) { padding: 0 10px; text-align: right }\n    </style><table class=\"wandb\">\n<tr><td>r2</td><td>0.9504</td></tr><tr><td>_runtime</td><td>27</td></tr><tr><td>_timestamp</td><td>1629196658</td></tr><tr><td>_step</td><td>3</td></tr><tr><td>neg_mape</td><td>-0.14295</td></tr><tr><td>neg_mae</td><td>-709.19188</td></tr><tr><td>neg_rmse</td><td>-1340.07675</td></tr></table>"
     },
     "metadata": {},
     "output_type": "display_data"
    },
    {
     "data": {
      "text/plain": "<IPython.core.display.HTML object>",
      "text/html": "<h3>Run history:</h3><br/><style>\n    table.wandb td:nth-child(1) { padding: 0 10px; text-align: right }\n    </style><table class=\"wandb\">\n<tr><td>r2</td><td>▁</td></tr><tr><td>_runtime</td><td>▁▁▁▁</td></tr><tr><td>_timestamp</td><td>▁▁▁▁</td></tr><tr><td>_step</td><td>▁▃▆█</td></tr><tr><td>neg_mape</td><td>▁</td></tr><tr><td>neg_mae</td><td>▁</td></tr><tr><td>neg_rmse</td><td>▁</td></tr></table><br/>"
     },
     "metadata": {},
     "output_type": "display_data"
    },
    {
     "data": {
      "text/plain": "<IPython.core.display.HTML object>",
      "text/html": "Synced 4 W&B file(s), 0 media file(s), 0 artifact file(s) and 0 other file(s)"
     },
     "metadata": {},
     "output_type": "display_data"
    },
    {
     "data": {
      "text/plain": "<IPython.core.display.HTML object>",
      "text/html": "\n                    <br/>Synced <strong style=\"color:#cdcd00\">bright-sweep-51</strong>: <a href=\"https://wandb.ai/devcore/Metriken%20Bauwesen%20Sweeps/runs/vgaxrvxq\" target=\"_blank\">https://wandb.ai/devcore/Metriken%20Bauwesen%20Sweeps/runs/vgaxrvxq</a><br/>\n                "
     },
     "metadata": {},
     "output_type": "display_data"
    },
    {
     "data": {
      "text/plain": "<IPython.core.display.HTML object>",
      "text/html": "\n                Tracking run with wandb version 0.11.0<br/>\n                Syncing run <strong style=\"color:#cdcd00\">true-sweep-52</strong> to <a href=\"https://wandb.ai\" target=\"_blank\">Weights & Biases</a> <a href=\"https://docs.wandb.com/integrations/jupyter.html\" target=\"_blank\">(Documentation)</a>.<br/>\n                Project page: <a href=\"https://wandb.ai/devcore/Metriken%20Bauwesen%20Sweeps\" target=\"_blank\">https://wandb.ai/devcore/Metriken%20Bauwesen%20Sweeps</a><br/>\n                Sweep page: <a href=\"https://wandb.ai/devcore/Metriken%20Bauwesen%20Sweeps/sweeps/u3louhfl\" target=\"_blank\">https://wandb.ai/devcore/Metriken%20Bauwesen%20Sweeps/sweeps/u3louhfl</a><br/>\nRun page: <a href=\"https://wandb.ai/devcore/Metriken%20Bauwesen%20Sweeps/runs/6fdv5a8a\" target=\"_blank\">https://wandb.ai/devcore/Metriken%20Bauwesen%20Sweeps/runs/6fdv5a8a</a><br/>\n                Run data is saved locally in <code>D:\\Development\\FHNW\\ip5-metriken-bauwesen\\src\\weight_and_bias\\wandb\\run-20210817_123743-6fdv5a8a</code><br/><br/>\n            "
     },
     "metadata": {},
     "output_type": "display_data"
    },
    {
     "data": {
      "text/plain": "<IPython.core.display.HTML object>",
      "text/html": "<br/>Waiting for W&B process to finish, PID 22236<br/>Program ended successfully."
     },
     "metadata": {},
     "output_type": "display_data"
    },
    {
     "data": {
      "text/plain": "VBox(children=(Label(value=' 0.00MB of 0.00MB uploaded (0.00MB deduped)\\r'), FloatProgress(value=1.0, max=1.0)…",
      "application/vnd.jupyter.widget-view+json": {
       "version_major": 2,
       "version_minor": 0,
       "model_id": "255f0e937f1046358650beb72532095b"
      }
     },
     "metadata": {},
     "output_type": "display_data"
    },
    {
     "data": {
      "text/plain": "<IPython.core.display.HTML object>",
      "text/html": "Find user logs for this run at: <code>D:\\Development\\FHNW\\ip5-metriken-bauwesen\\src\\weight_and_bias\\wandb\\run-20210817_123743-6fdv5a8a\\logs\\debug.log</code>"
     },
     "metadata": {},
     "output_type": "display_data"
    },
    {
     "data": {
      "text/plain": "<IPython.core.display.HTML object>",
      "text/html": "Find internal logs for this run at: <code>D:\\Development\\FHNW\\ip5-metriken-bauwesen\\src\\weight_and_bias\\wandb\\run-20210817_123743-6fdv5a8a\\logs\\debug-internal.log</code>"
     },
     "metadata": {},
     "output_type": "display_data"
    },
    {
     "data": {
      "text/plain": "<IPython.core.display.HTML object>",
      "text/html": "<h3>Run summary:</h3><br/><style>\n    table.wandb td:nth-child(1) { padding: 0 10px; text-align: right }\n    </style><table class=\"wandb\">\n<tr><td>r2</td><td>0.94661</td></tr><tr><td>_runtime</td><td>38</td></tr><tr><td>_timestamp</td><td>1629196701</td></tr><tr><td>_step</td><td>3</td></tr><tr><td>neg_mape</td><td>-0.13016</td></tr><tr><td>neg_mae</td><td>-670.562</td></tr><tr><td>neg_rmse</td><td>-1371.89455</td></tr></table>"
     },
     "metadata": {},
     "output_type": "display_data"
    },
    {
     "data": {
      "text/plain": "<IPython.core.display.HTML object>",
      "text/html": "<h3>Run history:</h3><br/><style>\n    table.wandb td:nth-child(1) { padding: 0 10px; text-align: right }\n    </style><table class=\"wandb\">\n<tr><td>r2</td><td>▁</td></tr><tr><td>_runtime</td><td>▁▁▁▁</td></tr><tr><td>_timestamp</td><td>▁▁▁▁</td></tr><tr><td>_step</td><td>▁▃▆█</td></tr><tr><td>neg_mape</td><td>▁</td></tr><tr><td>neg_mae</td><td>▁</td></tr><tr><td>neg_rmse</td><td>▁</td></tr></table><br/>"
     },
     "metadata": {},
     "output_type": "display_data"
    },
    {
     "data": {
      "text/plain": "<IPython.core.display.HTML object>",
      "text/html": "Synced 4 W&B file(s), 0 media file(s), 0 artifact file(s) and 0 other file(s)"
     },
     "metadata": {},
     "output_type": "display_data"
    },
    {
     "data": {
      "text/plain": "<IPython.core.display.HTML object>",
      "text/html": "\n                    <br/>Synced <strong style=\"color:#cdcd00\">true-sweep-52</strong>: <a href=\"https://wandb.ai/devcore/Metriken%20Bauwesen%20Sweeps/runs/6fdv5a8a\" target=\"_blank\">https://wandb.ai/devcore/Metriken%20Bauwesen%20Sweeps/runs/6fdv5a8a</a><br/>\n                "
     },
     "metadata": {},
     "output_type": "display_data"
    },
    {
     "data": {
      "text/plain": "<IPython.core.display.HTML object>",
      "text/html": "\n                Tracking run with wandb version 0.11.0<br/>\n                Syncing run <strong style=\"color:#cdcd00\">lunar-sweep-53</strong> to <a href=\"https://wandb.ai\" target=\"_blank\">Weights & Biases</a> <a href=\"https://docs.wandb.com/integrations/jupyter.html\" target=\"_blank\">(Documentation)</a>.<br/>\n                Project page: <a href=\"https://wandb.ai/devcore/Metriken%20Bauwesen%20Sweeps\" target=\"_blank\">https://wandb.ai/devcore/Metriken%20Bauwesen%20Sweeps</a><br/>\n                Sweep page: <a href=\"https://wandb.ai/devcore/Metriken%20Bauwesen%20Sweeps/sweeps/u3louhfl\" target=\"_blank\">https://wandb.ai/devcore/Metriken%20Bauwesen%20Sweeps/sweeps/u3louhfl</a><br/>\nRun page: <a href=\"https://wandb.ai/devcore/Metriken%20Bauwesen%20Sweeps/runs/4t8m5v9x\" target=\"_blank\">https://wandb.ai/devcore/Metriken%20Bauwesen%20Sweeps/runs/4t8m5v9x</a><br/>\n                Run data is saved locally in <code>D:\\Development\\FHNW\\ip5-metriken-bauwesen\\src\\weight_and_bias\\wandb\\run-20210817_123825-4t8m5v9x</code><br/><br/>\n            "
     },
     "metadata": {},
     "output_type": "display_data"
    },
    {
     "data": {
      "text/plain": "<IPython.core.display.HTML object>",
      "text/html": "<br/>Waiting for W&B process to finish, PID 16900<br/>Program ended successfully."
     },
     "metadata": {},
     "output_type": "display_data"
    },
    {
     "data": {
      "text/plain": "VBox(children=(Label(value=' 0.00MB of 0.00MB uploaded (0.00MB deduped)\\r'), FloatProgress(value=1.0, max=1.0)…",
      "application/vnd.jupyter.widget-view+json": {
       "version_major": 2,
       "version_minor": 0,
       "model_id": "6782c2368e3948248076434cb724132c"
      }
     },
     "metadata": {},
     "output_type": "display_data"
    },
    {
     "data": {
      "text/plain": "<IPython.core.display.HTML object>",
      "text/html": "Find user logs for this run at: <code>D:\\Development\\FHNW\\ip5-metriken-bauwesen\\src\\weight_and_bias\\wandb\\run-20210817_123825-4t8m5v9x\\logs\\debug.log</code>"
     },
     "metadata": {},
     "output_type": "display_data"
    },
    {
     "data": {
      "text/plain": "<IPython.core.display.HTML object>",
      "text/html": "Find internal logs for this run at: <code>D:\\Development\\FHNW\\ip5-metriken-bauwesen\\src\\weight_and_bias\\wandb\\run-20210817_123825-4t8m5v9x\\logs\\debug-internal.log</code>"
     },
     "metadata": {},
     "output_type": "display_data"
    },
    {
     "data": {
      "text/plain": "<IPython.core.display.HTML object>",
      "text/html": "<h3>Run summary:</h3><br/><style>\n    table.wandb td:nth-child(1) { padding: 0 10px; text-align: right }\n    </style><table class=\"wandb\">\n<tr><td>r2</td><td>0.93389</td></tr><tr><td>_runtime</td><td>30</td></tr><tr><td>_timestamp</td><td>1629196735</td></tr><tr><td>_step</td><td>3</td></tr><tr><td>neg_mape</td><td>-0.12381</td></tr><tr><td>neg_mae</td><td>-693.93579</td></tr><tr><td>neg_rmse</td><td>-1546.38008</td></tr></table>"
     },
     "metadata": {},
     "output_type": "display_data"
    },
    {
     "data": {
      "text/plain": "<IPython.core.display.HTML object>",
      "text/html": "<h3>Run history:</h3><br/><style>\n    table.wandb td:nth-child(1) { padding: 0 10px; text-align: right }\n    </style><table class=\"wandb\">\n<tr><td>r2</td><td>▁</td></tr><tr><td>_runtime</td><td>▁▁▁▁</td></tr><tr><td>_timestamp</td><td>▁▁▁▁</td></tr><tr><td>_step</td><td>▁▃▆█</td></tr><tr><td>neg_mape</td><td>▁</td></tr><tr><td>neg_mae</td><td>▁</td></tr><tr><td>neg_rmse</td><td>▁</td></tr></table><br/>"
     },
     "metadata": {},
     "output_type": "display_data"
    },
    {
     "data": {
      "text/plain": "<IPython.core.display.HTML object>",
      "text/html": "Synced 4 W&B file(s), 0 media file(s), 0 artifact file(s) and 0 other file(s)"
     },
     "metadata": {},
     "output_type": "display_data"
    },
    {
     "data": {
      "text/plain": "<IPython.core.display.HTML object>",
      "text/html": "\n                    <br/>Synced <strong style=\"color:#cdcd00\">lunar-sweep-53</strong>: <a href=\"https://wandb.ai/devcore/Metriken%20Bauwesen%20Sweeps/runs/4t8m5v9x\" target=\"_blank\">https://wandb.ai/devcore/Metriken%20Bauwesen%20Sweeps/runs/4t8m5v9x</a><br/>\n                "
     },
     "metadata": {},
     "output_type": "display_data"
    },
    {
     "data": {
      "text/plain": "<IPython.core.display.HTML object>",
      "text/html": "\n                Tracking run with wandb version 0.11.0<br/>\n                Syncing run <strong style=\"color:#cdcd00\">morning-sweep-54</strong> to <a href=\"https://wandb.ai\" target=\"_blank\">Weights & Biases</a> <a href=\"https://docs.wandb.com/integrations/jupyter.html\" target=\"_blank\">(Documentation)</a>.<br/>\n                Project page: <a href=\"https://wandb.ai/devcore/Metriken%20Bauwesen%20Sweeps\" target=\"_blank\">https://wandb.ai/devcore/Metriken%20Bauwesen%20Sweeps</a><br/>\n                Sweep page: <a href=\"https://wandb.ai/devcore/Metriken%20Bauwesen%20Sweeps/sweeps/u3louhfl\" target=\"_blank\">https://wandb.ai/devcore/Metriken%20Bauwesen%20Sweeps/sweeps/u3louhfl</a><br/>\nRun page: <a href=\"https://wandb.ai/devcore/Metriken%20Bauwesen%20Sweeps/runs/tt58rfhl\" target=\"_blank\">https://wandb.ai/devcore/Metriken%20Bauwesen%20Sweeps/runs/tt58rfhl</a><br/>\n                Run data is saved locally in <code>D:\\Development\\FHNW\\ip5-metriken-bauwesen\\src\\weight_and_bias\\wandb\\run-20210817_123900-tt58rfhl</code><br/><br/>\n            "
     },
     "metadata": {},
     "output_type": "display_data"
    },
    {
     "data": {
      "text/plain": "<IPython.core.display.HTML object>",
      "text/html": "<br/>Waiting for W&B process to finish, PID 25592<br/>Program ended successfully."
     },
     "metadata": {},
     "output_type": "display_data"
    },
    {
     "data": {
      "text/plain": "VBox(children=(Label(value=' 0.00MB of 0.00MB uploaded (0.00MB deduped)\\r'), FloatProgress(value=1.0, max=1.0)…",
      "application/vnd.jupyter.widget-view+json": {
       "version_major": 2,
       "version_minor": 0,
       "model_id": "0149bac5fa304bcbaee44661dfbc828b"
      }
     },
     "metadata": {},
     "output_type": "display_data"
    },
    {
     "data": {
      "text/plain": "<IPython.core.display.HTML object>",
      "text/html": "Find user logs for this run at: <code>D:\\Development\\FHNW\\ip5-metriken-bauwesen\\src\\weight_and_bias\\wandb\\run-20210817_123900-tt58rfhl\\logs\\debug.log</code>"
     },
     "metadata": {},
     "output_type": "display_data"
    },
    {
     "data": {
      "text/plain": "<IPython.core.display.HTML object>",
      "text/html": "Find internal logs for this run at: <code>D:\\Development\\FHNW\\ip5-metriken-bauwesen\\src\\weight_and_bias\\wandb\\run-20210817_123900-tt58rfhl\\logs\\debug-internal.log</code>"
     },
     "metadata": {},
     "output_type": "display_data"
    },
    {
     "data": {
      "text/plain": "<IPython.core.display.HTML object>",
      "text/html": "<h3>Run summary:</h3><br/><style>\n    table.wandb td:nth-child(1) { padding: 0 10px; text-align: right }\n    </style><table class=\"wandb\">\n<tr><td>r2</td><td>0.94634</td></tr><tr><td>_runtime</td><td>43</td></tr><tr><td>_timestamp</td><td>1629196783</td></tr><tr><td>_step</td><td>3</td></tr><tr><td>neg_mape</td><td>-0.13027</td></tr><tr><td>neg_mae</td><td>-693.09909</td></tr><tr><td>neg_rmse</td><td>-1370.0971</td></tr></table>"
     },
     "metadata": {},
     "output_type": "display_data"
    },
    {
     "data": {
      "text/plain": "<IPython.core.display.HTML object>",
      "text/html": "<h3>Run history:</h3><br/><style>\n    table.wandb td:nth-child(1) { padding: 0 10px; text-align: right }\n    </style><table class=\"wandb\">\n<tr><td>r2</td><td>▁</td></tr><tr><td>_runtime</td><td>▁▁▁▁</td></tr><tr><td>_timestamp</td><td>▁▁▁▁</td></tr><tr><td>_step</td><td>▁▃▆█</td></tr><tr><td>neg_mape</td><td>▁</td></tr><tr><td>neg_mae</td><td>▁</td></tr><tr><td>neg_rmse</td><td>▁</td></tr></table><br/>"
     },
     "metadata": {},
     "output_type": "display_data"
    },
    {
     "data": {
      "text/plain": "<IPython.core.display.HTML object>",
      "text/html": "Synced 4 W&B file(s), 0 media file(s), 0 artifact file(s) and 0 other file(s)"
     },
     "metadata": {},
     "output_type": "display_data"
    },
    {
     "data": {
      "text/plain": "<IPython.core.display.HTML object>",
      "text/html": "\n                    <br/>Synced <strong style=\"color:#cdcd00\">morning-sweep-54</strong>: <a href=\"https://wandb.ai/devcore/Metriken%20Bauwesen%20Sweeps/runs/tt58rfhl\" target=\"_blank\">https://wandb.ai/devcore/Metriken%20Bauwesen%20Sweeps/runs/tt58rfhl</a><br/>\n                "
     },
     "metadata": {},
     "output_type": "display_data"
    },
    {
     "data": {
      "text/plain": "<IPython.core.display.HTML object>",
      "text/html": "\n                Tracking run with wandb version 0.11.0<br/>\n                Syncing run <strong style=\"color:#cdcd00\">driven-sweep-55</strong> to <a href=\"https://wandb.ai\" target=\"_blank\">Weights & Biases</a> <a href=\"https://docs.wandb.com/integrations/jupyter.html\" target=\"_blank\">(Documentation)</a>.<br/>\n                Project page: <a href=\"https://wandb.ai/devcore/Metriken%20Bauwesen%20Sweeps\" target=\"_blank\">https://wandb.ai/devcore/Metriken%20Bauwesen%20Sweeps</a><br/>\n                Sweep page: <a href=\"https://wandb.ai/devcore/Metriken%20Bauwesen%20Sweeps/sweeps/u3louhfl\" target=\"_blank\">https://wandb.ai/devcore/Metriken%20Bauwesen%20Sweeps/sweeps/u3louhfl</a><br/>\nRun page: <a href=\"https://wandb.ai/devcore/Metriken%20Bauwesen%20Sweeps/runs/7khnm35d\" target=\"_blank\">https://wandb.ai/devcore/Metriken%20Bauwesen%20Sweeps/runs/7khnm35d</a><br/>\n                Run data is saved locally in <code>D:\\Development\\FHNW\\ip5-metriken-bauwesen\\src\\weight_and_bias\\wandb\\run-20210817_123947-7khnm35d</code><br/><br/>\n            "
     },
     "metadata": {},
     "output_type": "display_data"
    },
    {
     "data": {
      "text/plain": "<IPython.core.display.HTML object>",
      "text/html": "<br/>Waiting for W&B process to finish, PID 5292<br/>Program ended successfully."
     },
     "metadata": {},
     "output_type": "display_data"
    },
    {
     "data": {
      "text/plain": "VBox(children=(Label(value=' 0.00MB of 0.00MB uploaded (0.00MB deduped)\\r'), FloatProgress(value=1.0, max=1.0)…",
      "application/vnd.jupyter.widget-view+json": {
       "version_major": 2,
       "version_minor": 0,
       "model_id": "477e6f0262b34afe94db4225703ae40f"
      }
     },
     "metadata": {},
     "output_type": "display_data"
    },
    {
     "data": {
      "text/plain": "<IPython.core.display.HTML object>",
      "text/html": "Find user logs for this run at: <code>D:\\Development\\FHNW\\ip5-metriken-bauwesen\\src\\weight_and_bias\\wandb\\run-20210817_123947-7khnm35d\\logs\\debug.log</code>"
     },
     "metadata": {},
     "output_type": "display_data"
    },
    {
     "data": {
      "text/plain": "<IPython.core.display.HTML object>",
      "text/html": "Find internal logs for this run at: <code>D:\\Development\\FHNW\\ip5-metriken-bauwesen\\src\\weight_and_bias\\wandb\\run-20210817_123947-7khnm35d\\logs\\debug-internal.log</code>"
     },
     "metadata": {},
     "output_type": "display_data"
    },
    {
     "data": {
      "text/plain": "<IPython.core.display.HTML object>",
      "text/html": "<h3>Run summary:</h3><br/><style>\n    table.wandb td:nth-child(1) { padding: 0 10px; text-align: right }\n    </style><table class=\"wandb\">\n<tr><td>r2</td><td>0.95068</td></tr><tr><td>_runtime</td><td>23</td></tr><tr><td>_timestamp</td><td>1629196810</td></tr><tr><td>_step</td><td>3</td></tr><tr><td>neg_mape</td><td>-0.13597</td></tr><tr><td>neg_mae</td><td>-696.24272</td></tr><tr><td>neg_rmse</td><td>-1324.93661</td></tr></table>"
     },
     "metadata": {},
     "output_type": "display_data"
    },
    {
     "data": {
      "text/plain": "<IPython.core.display.HTML object>",
      "text/html": "<h3>Run history:</h3><br/><style>\n    table.wandb td:nth-child(1) { padding: 0 10px; text-align: right }\n    </style><table class=\"wandb\">\n<tr><td>r2</td><td>▁</td></tr><tr><td>_runtime</td><td>▁▁▁▁</td></tr><tr><td>_timestamp</td><td>▁▁▁▁</td></tr><tr><td>_step</td><td>▁▃▆█</td></tr><tr><td>neg_mape</td><td>▁</td></tr><tr><td>neg_mae</td><td>▁</td></tr><tr><td>neg_rmse</td><td>▁</td></tr></table><br/>"
     },
     "metadata": {},
     "output_type": "display_data"
    },
    {
     "data": {
      "text/plain": "<IPython.core.display.HTML object>",
      "text/html": "Synced 4 W&B file(s), 0 media file(s), 0 artifact file(s) and 0 other file(s)"
     },
     "metadata": {},
     "output_type": "display_data"
    },
    {
     "data": {
      "text/plain": "<IPython.core.display.HTML object>",
      "text/html": "\n                    <br/>Synced <strong style=\"color:#cdcd00\">driven-sweep-55</strong>: <a href=\"https://wandb.ai/devcore/Metriken%20Bauwesen%20Sweeps/runs/7khnm35d\" target=\"_blank\">https://wandb.ai/devcore/Metriken%20Bauwesen%20Sweeps/runs/7khnm35d</a><br/>\n                "
     },
     "metadata": {},
     "output_type": "display_data"
    },
    {
     "data": {
      "text/plain": "<IPython.core.display.HTML object>",
      "text/html": "\n                Tracking run with wandb version 0.11.0<br/>\n                Syncing run <strong style=\"color:#cdcd00\">fanciful-sweep-56</strong> to <a href=\"https://wandb.ai\" target=\"_blank\">Weights & Biases</a> <a href=\"https://docs.wandb.com/integrations/jupyter.html\" target=\"_blank\">(Documentation)</a>.<br/>\n                Project page: <a href=\"https://wandb.ai/devcore/Metriken%20Bauwesen%20Sweeps\" target=\"_blank\">https://wandb.ai/devcore/Metriken%20Bauwesen%20Sweeps</a><br/>\n                Sweep page: <a href=\"https://wandb.ai/devcore/Metriken%20Bauwesen%20Sweeps/sweeps/u3louhfl\" target=\"_blank\">https://wandb.ai/devcore/Metriken%20Bauwesen%20Sweeps/sweeps/u3louhfl</a><br/>\nRun page: <a href=\"https://wandb.ai/devcore/Metriken%20Bauwesen%20Sweeps/runs/8kxr0rsd\" target=\"_blank\">https://wandb.ai/devcore/Metriken%20Bauwesen%20Sweeps/runs/8kxr0rsd</a><br/>\n                Run data is saved locally in <code>D:\\Development\\FHNW\\ip5-metriken-bauwesen\\src\\weight_and_bias\\wandb\\run-20210817_124014-8kxr0rsd</code><br/><br/>\n            "
     },
     "metadata": {},
     "output_type": "display_data"
    },
    {
     "data": {
      "text/plain": "<IPython.core.display.HTML object>",
      "text/html": "<br/>Waiting for W&B process to finish, PID 19676<br/>Program ended successfully."
     },
     "metadata": {},
     "output_type": "display_data"
    },
    {
     "data": {
      "text/plain": "VBox(children=(Label(value=' 0.00MB of 0.00MB uploaded (0.00MB deduped)\\r'), FloatProgress(value=1.0, max=1.0)…",
      "application/vnd.jupyter.widget-view+json": {
       "version_major": 2,
       "version_minor": 0,
       "model_id": "fde87b25dbd6409ab31fd85f290a3688"
      }
     },
     "metadata": {},
     "output_type": "display_data"
    },
    {
     "data": {
      "text/plain": "<IPython.core.display.HTML object>",
      "text/html": "Find user logs for this run at: <code>D:\\Development\\FHNW\\ip5-metriken-bauwesen\\src\\weight_and_bias\\wandb\\run-20210817_124014-8kxr0rsd\\logs\\debug.log</code>"
     },
     "metadata": {},
     "output_type": "display_data"
    },
    {
     "data": {
      "text/plain": "<IPython.core.display.HTML object>",
      "text/html": "Find internal logs for this run at: <code>D:\\Development\\FHNW\\ip5-metriken-bauwesen\\src\\weight_and_bias\\wandb\\run-20210817_124014-8kxr0rsd\\logs\\debug-internal.log</code>"
     },
     "metadata": {},
     "output_type": "display_data"
    },
    {
     "data": {
      "text/plain": "<IPython.core.display.HTML object>",
      "text/html": "<h3>Run summary:</h3><br/><style>\n    table.wandb td:nth-child(1) { padding: 0 10px; text-align: right }\n    </style><table class=\"wandb\">\n<tr><td>r2</td><td>0.94785</td></tr><tr><td>_runtime</td><td>21</td></tr><tr><td>_timestamp</td><td>1629196835</td></tr><tr><td>_step</td><td>3</td></tr><tr><td>neg_mape</td><td>-0.12599</td></tr><tr><td>neg_mae</td><td>-678.02972</td></tr><tr><td>neg_rmse</td><td>-1366.80958</td></tr></table>"
     },
     "metadata": {},
     "output_type": "display_data"
    },
    {
     "data": {
      "text/plain": "<IPython.core.display.HTML object>",
      "text/html": "<h3>Run history:</h3><br/><style>\n    table.wandb td:nth-child(1) { padding: 0 10px; text-align: right }\n    </style><table class=\"wandb\">\n<tr><td>r2</td><td>▁</td></tr><tr><td>_runtime</td><td>▁▁▁▁</td></tr><tr><td>_timestamp</td><td>▁▁▁▁</td></tr><tr><td>_step</td><td>▁▃▆█</td></tr><tr><td>neg_mape</td><td>▁</td></tr><tr><td>neg_mae</td><td>▁</td></tr><tr><td>neg_rmse</td><td>▁</td></tr></table><br/>"
     },
     "metadata": {},
     "output_type": "display_data"
    },
    {
     "data": {
      "text/plain": "<IPython.core.display.HTML object>",
      "text/html": "Synced 4 W&B file(s), 0 media file(s), 0 artifact file(s) and 0 other file(s)"
     },
     "metadata": {},
     "output_type": "display_data"
    },
    {
     "data": {
      "text/plain": "<IPython.core.display.HTML object>",
      "text/html": "\n                    <br/>Synced <strong style=\"color:#cdcd00\">fanciful-sweep-56</strong>: <a href=\"https://wandb.ai/devcore/Metriken%20Bauwesen%20Sweeps/runs/8kxr0rsd\" target=\"_blank\">https://wandb.ai/devcore/Metriken%20Bauwesen%20Sweeps/runs/8kxr0rsd</a><br/>\n                "
     },
     "metadata": {},
     "output_type": "display_data"
    },
    {
     "data": {
      "text/plain": "<IPython.core.display.HTML object>",
      "text/html": "\n                Tracking run with wandb version 0.11.0<br/>\n                Syncing run <strong style=\"color:#cdcd00\">vibrant-sweep-57</strong> to <a href=\"https://wandb.ai\" target=\"_blank\">Weights & Biases</a> <a href=\"https://docs.wandb.com/integrations/jupyter.html\" target=\"_blank\">(Documentation)</a>.<br/>\n                Project page: <a href=\"https://wandb.ai/devcore/Metriken%20Bauwesen%20Sweeps\" target=\"_blank\">https://wandb.ai/devcore/Metriken%20Bauwesen%20Sweeps</a><br/>\n                Sweep page: <a href=\"https://wandb.ai/devcore/Metriken%20Bauwesen%20Sweeps/sweeps/u3louhfl\" target=\"_blank\">https://wandb.ai/devcore/Metriken%20Bauwesen%20Sweeps/sweeps/u3louhfl</a><br/>\nRun page: <a href=\"https://wandb.ai/devcore/Metriken%20Bauwesen%20Sweeps/runs/4ne0yhko\" target=\"_blank\">https://wandb.ai/devcore/Metriken%20Bauwesen%20Sweeps/runs/4ne0yhko</a><br/>\n                Run data is saved locally in <code>D:\\Development\\FHNW\\ip5-metriken-bauwesen\\src\\weight_and_bias\\wandb\\run-20210817_124040-4ne0yhko</code><br/><br/>\n            "
     },
     "metadata": {},
     "output_type": "display_data"
    },
    {
     "data": {
      "text/plain": "<IPython.core.display.HTML object>",
      "text/html": "<br/>Waiting for W&B process to finish, PID 2260<br/>Program ended successfully."
     },
     "metadata": {},
     "output_type": "display_data"
    },
    {
     "data": {
      "text/plain": "VBox(children=(Label(value=' 0.00MB of 0.00MB uploaded (0.00MB deduped)\\r'), FloatProgress(value=1.0, max=1.0)…",
      "application/vnd.jupyter.widget-view+json": {
       "version_major": 2,
       "version_minor": 0,
       "model_id": "75c1d6f3561c4d0e86ba2eb881358832"
      }
     },
     "metadata": {},
     "output_type": "display_data"
    },
    {
     "data": {
      "text/plain": "<IPython.core.display.HTML object>",
      "text/html": "Find user logs for this run at: <code>D:\\Development\\FHNW\\ip5-metriken-bauwesen\\src\\weight_and_bias\\wandb\\run-20210817_124040-4ne0yhko\\logs\\debug.log</code>"
     },
     "metadata": {},
     "output_type": "display_data"
    },
    {
     "data": {
      "text/plain": "<IPython.core.display.HTML object>",
      "text/html": "Find internal logs for this run at: <code>D:\\Development\\FHNW\\ip5-metriken-bauwesen\\src\\weight_and_bias\\wandb\\run-20210817_124040-4ne0yhko\\logs\\debug-internal.log</code>"
     },
     "metadata": {},
     "output_type": "display_data"
    },
    {
     "data": {
      "text/plain": "<IPython.core.display.HTML object>",
      "text/html": "<h3>Run summary:</h3><br/><style>\n    table.wandb td:nth-child(1) { padding: 0 10px; text-align: right }\n    </style><table class=\"wandb\">\n<tr><td>r2</td><td>0.94561</td></tr><tr><td>_runtime</td><td>28</td></tr><tr><td>_timestamp</td><td>1629196868</td></tr><tr><td>_step</td><td>3</td></tr><tr><td>neg_mape</td><td>-0.14345</td></tr><tr><td>neg_mae</td><td>-718.05454</td></tr><tr><td>neg_rmse</td><td>-1401.79203</td></tr></table>"
     },
     "metadata": {},
     "output_type": "display_data"
    },
    {
     "data": {
      "text/plain": "<IPython.core.display.HTML object>",
      "text/html": "<h3>Run history:</h3><br/><style>\n    table.wandb td:nth-child(1) { padding: 0 10px; text-align: right }\n    </style><table class=\"wandb\">\n<tr><td>r2</td><td>▁</td></tr><tr><td>_runtime</td><td>▁▁▁▁</td></tr><tr><td>_timestamp</td><td>▁▁▁▁</td></tr><tr><td>_step</td><td>▁▃▆█</td></tr><tr><td>neg_mape</td><td>▁</td></tr><tr><td>neg_mae</td><td>▁</td></tr><tr><td>neg_rmse</td><td>▁</td></tr></table><br/>"
     },
     "metadata": {},
     "output_type": "display_data"
    },
    {
     "data": {
      "text/plain": "<IPython.core.display.HTML object>",
      "text/html": "Synced 4 W&B file(s), 0 media file(s), 0 artifact file(s) and 0 other file(s)"
     },
     "metadata": {},
     "output_type": "display_data"
    },
    {
     "data": {
      "text/plain": "<IPython.core.display.HTML object>",
      "text/html": "\n                    <br/>Synced <strong style=\"color:#cdcd00\">vibrant-sweep-57</strong>: <a href=\"https://wandb.ai/devcore/Metriken%20Bauwesen%20Sweeps/runs/4ne0yhko\" target=\"_blank\">https://wandb.ai/devcore/Metriken%20Bauwesen%20Sweeps/runs/4ne0yhko</a><br/>\n                "
     },
     "metadata": {},
     "output_type": "display_data"
    },
    {
     "data": {
      "text/plain": "<IPython.core.display.HTML object>",
      "text/html": "\n                Tracking run with wandb version 0.11.0<br/>\n                Syncing run <strong style=\"color:#cdcd00\">twilight-sweep-58</strong> to <a href=\"https://wandb.ai\" target=\"_blank\">Weights & Biases</a> <a href=\"https://docs.wandb.com/integrations/jupyter.html\" target=\"_blank\">(Documentation)</a>.<br/>\n                Project page: <a href=\"https://wandb.ai/devcore/Metriken%20Bauwesen%20Sweeps\" target=\"_blank\">https://wandb.ai/devcore/Metriken%20Bauwesen%20Sweeps</a><br/>\n                Sweep page: <a href=\"https://wandb.ai/devcore/Metriken%20Bauwesen%20Sweeps/sweeps/u3louhfl\" target=\"_blank\">https://wandb.ai/devcore/Metriken%20Bauwesen%20Sweeps/sweeps/u3louhfl</a><br/>\nRun page: <a href=\"https://wandb.ai/devcore/Metriken%20Bauwesen%20Sweeps/runs/wpiv18ng\" target=\"_blank\">https://wandb.ai/devcore/Metriken%20Bauwesen%20Sweeps/runs/wpiv18ng</a><br/>\n                Run data is saved locally in <code>D:\\Development\\FHNW\\ip5-metriken-bauwesen\\src\\weight_and_bias\\wandb\\run-20210817_124112-wpiv18ng</code><br/><br/>\n            "
     },
     "metadata": {},
     "output_type": "display_data"
    },
    {
     "data": {
      "text/plain": "<IPython.core.display.HTML object>",
      "text/html": "<br/>Waiting for W&B process to finish, PID 20476<br/>Program ended successfully."
     },
     "metadata": {},
     "output_type": "display_data"
    },
    {
     "data": {
      "text/plain": "VBox(children=(Label(value=' 0.00MB of 0.00MB uploaded (0.00MB deduped)\\r'), FloatProgress(value=1.0, max=1.0)…",
      "application/vnd.jupyter.widget-view+json": {
       "version_major": 2,
       "version_minor": 0,
       "model_id": "3b4596d8b00f45eba751ae92bc862ea1"
      }
     },
     "metadata": {},
     "output_type": "display_data"
    },
    {
     "data": {
      "text/plain": "<IPython.core.display.HTML object>",
      "text/html": "Find user logs for this run at: <code>D:\\Development\\FHNW\\ip5-metriken-bauwesen\\src\\weight_and_bias\\wandb\\run-20210817_124112-wpiv18ng\\logs\\debug.log</code>"
     },
     "metadata": {},
     "output_type": "display_data"
    },
    {
     "data": {
      "text/plain": "<IPython.core.display.HTML object>",
      "text/html": "Find internal logs for this run at: <code>D:\\Development\\FHNW\\ip5-metriken-bauwesen\\src\\weight_and_bias\\wandb\\run-20210817_124112-wpiv18ng\\logs\\debug-internal.log</code>"
     },
     "metadata": {},
     "output_type": "display_data"
    },
    {
     "data": {
      "text/plain": "<IPython.core.display.HTML object>",
      "text/html": "<h3>Run summary:</h3><br/><style>\n    table.wandb td:nth-child(1) { padding: 0 10px; text-align: right }\n    </style><table class=\"wandb\">\n<tr><td>r2</td><td>0.95024</td></tr><tr><td>_runtime</td><td>25</td></tr><tr><td>_timestamp</td><td>1629196897</td></tr><tr><td>_step</td><td>3</td></tr><tr><td>neg_mape</td><td>-0.13013</td></tr><tr><td>neg_mae</td><td>-663.34454</td></tr><tr><td>neg_rmse</td><td>-1336.63311</td></tr></table>"
     },
     "metadata": {},
     "output_type": "display_data"
    },
    {
     "data": {
      "text/plain": "<IPython.core.display.HTML object>",
      "text/html": "<h3>Run history:</h3><br/><style>\n    table.wandb td:nth-child(1) { padding: 0 10px; text-align: right }\n    </style><table class=\"wandb\">\n<tr><td>r2</td><td>▁</td></tr><tr><td>_runtime</td><td>▁▁▁▁</td></tr><tr><td>_timestamp</td><td>▁▁▁▁</td></tr><tr><td>_step</td><td>▁▃▆█</td></tr><tr><td>neg_mape</td><td>▁</td></tr><tr><td>neg_mae</td><td>▁</td></tr><tr><td>neg_rmse</td><td>▁</td></tr></table><br/>"
     },
     "metadata": {},
     "output_type": "display_data"
    },
    {
     "data": {
      "text/plain": "<IPython.core.display.HTML object>",
      "text/html": "Synced 4 W&B file(s), 0 media file(s), 0 artifact file(s) and 0 other file(s)"
     },
     "metadata": {},
     "output_type": "display_data"
    },
    {
     "data": {
      "text/plain": "<IPython.core.display.HTML object>",
      "text/html": "\n                    <br/>Synced <strong style=\"color:#cdcd00\">twilight-sweep-58</strong>: <a href=\"https://wandb.ai/devcore/Metriken%20Bauwesen%20Sweeps/runs/wpiv18ng\" target=\"_blank\">https://wandb.ai/devcore/Metriken%20Bauwesen%20Sweeps/runs/wpiv18ng</a><br/>\n                "
     },
     "metadata": {},
     "output_type": "display_data"
    },
    {
     "data": {
      "text/plain": "<IPython.core.display.HTML object>",
      "text/html": "\n                Tracking run with wandb version 0.11.0<br/>\n                Syncing run <strong style=\"color:#cdcd00\">effortless-sweep-59</strong> to <a href=\"https://wandb.ai\" target=\"_blank\">Weights & Biases</a> <a href=\"https://docs.wandb.com/integrations/jupyter.html\" target=\"_blank\">(Documentation)</a>.<br/>\n                Project page: <a href=\"https://wandb.ai/devcore/Metriken%20Bauwesen%20Sweeps\" target=\"_blank\">https://wandb.ai/devcore/Metriken%20Bauwesen%20Sweeps</a><br/>\n                Sweep page: <a href=\"https://wandb.ai/devcore/Metriken%20Bauwesen%20Sweeps/sweeps/u3louhfl\" target=\"_blank\">https://wandb.ai/devcore/Metriken%20Bauwesen%20Sweeps/sweeps/u3louhfl</a><br/>\nRun page: <a href=\"https://wandb.ai/devcore/Metriken%20Bauwesen%20Sweeps/runs/ftxhdpmx\" target=\"_blank\">https://wandb.ai/devcore/Metriken%20Bauwesen%20Sweeps/runs/ftxhdpmx</a><br/>\n                Run data is saved locally in <code>D:\\Development\\FHNW\\ip5-metriken-bauwesen\\src\\weight_and_bias\\wandb\\run-20210817_124141-ftxhdpmx</code><br/><br/>\n            "
     },
     "metadata": {},
     "output_type": "display_data"
    },
    {
     "data": {
      "text/plain": "<IPython.core.display.HTML object>",
      "text/html": "<br/>Waiting for W&B process to finish, PID 7760<br/>Program ended successfully."
     },
     "metadata": {},
     "output_type": "display_data"
    },
    {
     "data": {
      "text/plain": "VBox(children=(Label(value=' 0.00MB of 0.00MB uploaded (0.00MB deduped)\\r'), FloatProgress(value=1.0, max=1.0)…",
      "application/vnd.jupyter.widget-view+json": {
       "version_major": 2,
       "version_minor": 0,
       "model_id": "dad74cd89af74a6ba7c6dd1cff7985de"
      }
     },
     "metadata": {},
     "output_type": "display_data"
    },
    {
     "data": {
      "text/plain": "<IPython.core.display.HTML object>",
      "text/html": "Find user logs for this run at: <code>D:\\Development\\FHNW\\ip5-metriken-bauwesen\\src\\weight_and_bias\\wandb\\run-20210817_124141-ftxhdpmx\\logs\\debug.log</code>"
     },
     "metadata": {},
     "output_type": "display_data"
    },
    {
     "data": {
      "text/plain": "<IPython.core.display.HTML object>",
      "text/html": "Find internal logs for this run at: <code>D:\\Development\\FHNW\\ip5-metriken-bauwesen\\src\\weight_and_bias\\wandb\\run-20210817_124141-ftxhdpmx\\logs\\debug-internal.log</code>"
     },
     "metadata": {},
     "output_type": "display_data"
    },
    {
     "data": {
      "text/plain": "<IPython.core.display.HTML object>",
      "text/html": "<h3>Run summary:</h3><br/><style>\n    table.wandb td:nth-child(1) { padding: 0 10px; text-align: right }\n    </style><table class=\"wandb\">\n<tr><td>r2</td><td>0.9501</td></tr><tr><td>_runtime</td><td>25</td></tr><tr><td>_timestamp</td><td>1629196926</td></tr><tr><td>_step</td><td>3</td></tr><tr><td>neg_mape</td><td>-0.12901</td></tr><tr><td>neg_mae</td><td>-665.45701</td></tr><tr><td>neg_rmse</td><td>-1320.42702</td></tr></table>"
     },
     "metadata": {},
     "output_type": "display_data"
    },
    {
     "data": {
      "text/plain": "<IPython.core.display.HTML object>",
      "text/html": "<h3>Run history:</h3><br/><style>\n    table.wandb td:nth-child(1) { padding: 0 10px; text-align: right }\n    </style><table class=\"wandb\">\n<tr><td>r2</td><td>▁</td></tr><tr><td>_runtime</td><td>▁▁▁▁</td></tr><tr><td>_timestamp</td><td>▁▁▁▁</td></tr><tr><td>_step</td><td>▁▃▆█</td></tr><tr><td>neg_mape</td><td>▁</td></tr><tr><td>neg_mae</td><td>▁</td></tr><tr><td>neg_rmse</td><td>▁</td></tr></table><br/>"
     },
     "metadata": {},
     "output_type": "display_data"
    },
    {
     "data": {
      "text/plain": "<IPython.core.display.HTML object>",
      "text/html": "Synced 4 W&B file(s), 0 media file(s), 0 artifact file(s) and 0 other file(s)"
     },
     "metadata": {},
     "output_type": "display_data"
    },
    {
     "data": {
      "text/plain": "<IPython.core.display.HTML object>",
      "text/html": "\n                    <br/>Synced <strong style=\"color:#cdcd00\">effortless-sweep-59</strong>: <a href=\"https://wandb.ai/devcore/Metriken%20Bauwesen%20Sweeps/runs/ftxhdpmx\" target=\"_blank\">https://wandb.ai/devcore/Metriken%20Bauwesen%20Sweeps/runs/ftxhdpmx</a><br/>\n                "
     },
     "metadata": {},
     "output_type": "display_data"
    },
    {
     "data": {
      "text/plain": "<IPython.core.display.HTML object>",
      "text/html": "\n                Tracking run with wandb version 0.11.0<br/>\n                Syncing run <strong style=\"color:#cdcd00\">stilted-sweep-60</strong> to <a href=\"https://wandb.ai\" target=\"_blank\">Weights & Biases</a> <a href=\"https://docs.wandb.com/integrations/jupyter.html\" target=\"_blank\">(Documentation)</a>.<br/>\n                Project page: <a href=\"https://wandb.ai/devcore/Metriken%20Bauwesen%20Sweeps\" target=\"_blank\">https://wandb.ai/devcore/Metriken%20Bauwesen%20Sweeps</a><br/>\n                Sweep page: <a href=\"https://wandb.ai/devcore/Metriken%20Bauwesen%20Sweeps/sweeps/u3louhfl\" target=\"_blank\">https://wandb.ai/devcore/Metriken%20Bauwesen%20Sweeps/sweeps/u3louhfl</a><br/>\nRun page: <a href=\"https://wandb.ai/devcore/Metriken%20Bauwesen%20Sweeps/runs/22jic0d0\" target=\"_blank\">https://wandb.ai/devcore/Metriken%20Bauwesen%20Sweeps/runs/22jic0d0</a><br/>\n                Run data is saved locally in <code>D:\\Development\\FHNW\\ip5-metriken-bauwesen\\src\\weight_and_bias\\wandb\\run-20210817_124211-22jic0d0</code><br/><br/>\n            "
     },
     "metadata": {},
     "output_type": "display_data"
    },
    {
     "data": {
      "text/plain": "<IPython.core.display.HTML object>",
      "text/html": "<br/>Waiting for W&B process to finish, PID 6040<br/>Program ended successfully."
     },
     "metadata": {},
     "output_type": "display_data"
    },
    {
     "data": {
      "text/plain": "VBox(children=(Label(value=' 0.00MB of 0.00MB uploaded (0.00MB deduped)\\r'), FloatProgress(value=1.0, max=1.0)…",
      "application/vnd.jupyter.widget-view+json": {
       "version_major": 2,
       "version_minor": 0,
       "model_id": "1995da91f89348349395b31c41db3fd6"
      }
     },
     "metadata": {},
     "output_type": "display_data"
    },
    {
     "data": {
      "text/plain": "<IPython.core.display.HTML object>",
      "text/html": "Find user logs for this run at: <code>D:\\Development\\FHNW\\ip5-metriken-bauwesen\\src\\weight_and_bias\\wandb\\run-20210817_124211-22jic0d0\\logs\\debug.log</code>"
     },
     "metadata": {},
     "output_type": "display_data"
    },
    {
     "data": {
      "text/plain": "<IPython.core.display.HTML object>",
      "text/html": "Find internal logs for this run at: <code>D:\\Development\\FHNW\\ip5-metriken-bauwesen\\src\\weight_and_bias\\wandb\\run-20210817_124211-22jic0d0\\logs\\debug-internal.log</code>"
     },
     "metadata": {},
     "output_type": "display_data"
    },
    {
     "data": {
      "text/plain": "<IPython.core.display.HTML object>",
      "text/html": "<h3>Run summary:</h3><br/><style>\n    table.wandb td:nth-child(1) { padding: 0 10px; text-align: right }\n    </style><table class=\"wandb\">\n<tr><td>r2</td><td>0.93957</td></tr><tr><td>_runtime</td><td>18</td></tr><tr><td>_timestamp</td><td>1629196949</td></tr><tr><td>_step</td><td>3</td></tr><tr><td>neg_mape</td><td>-0.12939</td></tr><tr><td>neg_mae</td><td>-694.14531</td></tr><tr><td>neg_rmse</td><td>-1473.59156</td></tr></table>"
     },
     "metadata": {},
     "output_type": "display_data"
    },
    {
     "data": {
      "text/plain": "<IPython.core.display.HTML object>",
      "text/html": "<h3>Run history:</h3><br/><style>\n    table.wandb td:nth-child(1) { padding: 0 10px; text-align: right }\n    </style><table class=\"wandb\">\n<tr><td>r2</td><td>▁</td></tr><tr><td>_runtime</td><td>▁▁▁▁</td></tr><tr><td>_timestamp</td><td>▁▁▁▁</td></tr><tr><td>_step</td><td>▁▃▆█</td></tr><tr><td>neg_mape</td><td>▁</td></tr><tr><td>neg_mae</td><td>▁</td></tr><tr><td>neg_rmse</td><td>▁</td></tr></table><br/>"
     },
     "metadata": {},
     "output_type": "display_data"
    },
    {
     "data": {
      "text/plain": "<IPython.core.display.HTML object>",
      "text/html": "Synced 4 W&B file(s), 0 media file(s), 0 artifact file(s) and 0 other file(s)"
     },
     "metadata": {},
     "output_type": "display_data"
    },
    {
     "data": {
      "text/plain": "<IPython.core.display.HTML object>",
      "text/html": "\n                    <br/>Synced <strong style=\"color:#cdcd00\">stilted-sweep-60</strong>: <a href=\"https://wandb.ai/devcore/Metriken%20Bauwesen%20Sweeps/runs/22jic0d0\" target=\"_blank\">https://wandb.ai/devcore/Metriken%20Bauwesen%20Sweeps/runs/22jic0d0</a><br/>\n                "
     },
     "metadata": {},
     "output_type": "display_data"
    },
    {
     "data": {
      "text/plain": "<IPython.core.display.HTML object>",
      "text/html": "\n                Tracking run with wandb version 0.11.0<br/>\n                Syncing run <strong style=\"color:#cdcd00\">exalted-sweep-61</strong> to <a href=\"https://wandb.ai\" target=\"_blank\">Weights & Biases</a> <a href=\"https://docs.wandb.com/integrations/jupyter.html\" target=\"_blank\">(Documentation)</a>.<br/>\n                Project page: <a href=\"https://wandb.ai/devcore/Metriken%20Bauwesen%20Sweeps\" target=\"_blank\">https://wandb.ai/devcore/Metriken%20Bauwesen%20Sweeps</a><br/>\n                Sweep page: <a href=\"https://wandb.ai/devcore/Metriken%20Bauwesen%20Sweeps/sweeps/u3louhfl\" target=\"_blank\">https://wandb.ai/devcore/Metriken%20Bauwesen%20Sweeps/sweeps/u3louhfl</a><br/>\nRun page: <a href=\"https://wandb.ai/devcore/Metriken%20Bauwesen%20Sweeps/runs/wytyw22t\" target=\"_blank\">https://wandb.ai/devcore/Metriken%20Bauwesen%20Sweeps/runs/wytyw22t</a><br/>\n                Run data is saved locally in <code>D:\\Development\\FHNW\\ip5-metriken-bauwesen\\src\\weight_and_bias\\wandb\\run-20210817_124233-wytyw22t</code><br/><br/>\n            "
     },
     "metadata": {},
     "output_type": "display_data"
    },
    {
     "data": {
      "text/plain": "<IPython.core.display.HTML object>",
      "text/html": "<br/>Waiting for W&B process to finish, PID 11428<br/>Program ended successfully."
     },
     "metadata": {},
     "output_type": "display_data"
    },
    {
     "data": {
      "text/plain": "VBox(children=(Label(value=' 0.00MB of 0.00MB uploaded (0.00MB deduped)\\r'), FloatProgress(value=1.0, max=1.0)…",
      "application/vnd.jupyter.widget-view+json": {
       "version_major": 2,
       "version_minor": 0,
       "model_id": "406efac657bd40d6b12fb6ec37bdbe3c"
      }
     },
     "metadata": {},
     "output_type": "display_data"
    },
    {
     "data": {
      "text/plain": "<IPython.core.display.HTML object>",
      "text/html": "Find user logs for this run at: <code>D:\\Development\\FHNW\\ip5-metriken-bauwesen\\src\\weight_and_bias\\wandb\\run-20210817_124233-wytyw22t\\logs\\debug.log</code>"
     },
     "metadata": {},
     "output_type": "display_data"
    },
    {
     "data": {
      "text/plain": "<IPython.core.display.HTML object>",
      "text/html": "Find internal logs for this run at: <code>D:\\Development\\FHNW\\ip5-metriken-bauwesen\\src\\weight_and_bias\\wandb\\run-20210817_124233-wytyw22t\\logs\\debug-internal.log</code>"
     },
     "metadata": {},
     "output_type": "display_data"
    },
    {
     "data": {
      "text/plain": "<IPython.core.display.HTML object>",
      "text/html": "<h3>Run summary:</h3><br/><style>\n    table.wandb td:nth-child(1) { padding: 0 10px; text-align: right }\n    </style><table class=\"wandb\">\n<tr><td>r2</td><td>0.95091</td></tr><tr><td>_runtime</td><td>40</td></tr><tr><td>_timestamp</td><td>1629196993</td></tr><tr><td>_step</td><td>3</td></tr><tr><td>neg_mape</td><td>-0.13216</td></tr><tr><td>neg_mae</td><td>-674.99746</td></tr><tr><td>neg_rmse</td><td>-1323.87699</td></tr></table>"
     },
     "metadata": {},
     "output_type": "display_data"
    },
    {
     "data": {
      "text/plain": "<IPython.core.display.HTML object>",
      "text/html": "<h3>Run history:</h3><br/><style>\n    table.wandb td:nth-child(1) { padding: 0 10px; text-align: right }\n    </style><table class=\"wandb\">\n<tr><td>r2</td><td>▁</td></tr><tr><td>_runtime</td><td>▁▁▁▁</td></tr><tr><td>_timestamp</td><td>▁▁▁▁</td></tr><tr><td>_step</td><td>▁▃▆█</td></tr><tr><td>neg_mape</td><td>▁</td></tr><tr><td>neg_mae</td><td>▁</td></tr><tr><td>neg_rmse</td><td>▁</td></tr></table><br/>"
     },
     "metadata": {},
     "output_type": "display_data"
    },
    {
     "data": {
      "text/plain": "<IPython.core.display.HTML object>",
      "text/html": "Synced 4 W&B file(s), 0 media file(s), 0 artifact file(s) and 0 other file(s)"
     },
     "metadata": {},
     "output_type": "display_data"
    },
    {
     "data": {
      "text/plain": "<IPython.core.display.HTML object>",
      "text/html": "\n                    <br/>Synced <strong style=\"color:#cdcd00\">exalted-sweep-61</strong>: <a href=\"https://wandb.ai/devcore/Metriken%20Bauwesen%20Sweeps/runs/wytyw22t\" target=\"_blank\">https://wandb.ai/devcore/Metriken%20Bauwesen%20Sweeps/runs/wytyw22t</a><br/>\n                "
     },
     "metadata": {},
     "output_type": "display_data"
    },
    {
     "data": {
      "text/plain": "<IPython.core.display.HTML object>",
      "text/html": "\n                Tracking run with wandb version 0.11.0<br/>\n                Syncing run <strong style=\"color:#cdcd00\">worldly-sweep-62</strong> to <a href=\"https://wandb.ai\" target=\"_blank\">Weights & Biases</a> <a href=\"https://docs.wandb.com/integrations/jupyter.html\" target=\"_blank\">(Documentation)</a>.<br/>\n                Project page: <a href=\"https://wandb.ai/devcore/Metriken%20Bauwesen%20Sweeps\" target=\"_blank\">https://wandb.ai/devcore/Metriken%20Bauwesen%20Sweeps</a><br/>\n                Sweep page: <a href=\"https://wandb.ai/devcore/Metriken%20Bauwesen%20Sweeps/sweeps/u3louhfl\" target=\"_blank\">https://wandb.ai/devcore/Metriken%20Bauwesen%20Sweeps/sweeps/u3louhfl</a><br/>\nRun page: <a href=\"https://wandb.ai/devcore/Metriken%20Bauwesen%20Sweeps/runs/krejre05\" target=\"_blank\">https://wandb.ai/devcore/Metriken%20Bauwesen%20Sweeps/runs/krejre05</a><br/>\n                Run data is saved locally in <code>D:\\Development\\FHNW\\ip5-metriken-bauwesen\\src\\weight_and_bias\\wandb\\run-20210817_124317-krejre05</code><br/><br/>\n            "
     },
     "metadata": {},
     "output_type": "display_data"
    },
    {
     "data": {
      "text/plain": "<IPython.core.display.HTML object>",
      "text/html": "<br/>Waiting for W&B process to finish, PID 13704<br/>Program ended successfully."
     },
     "metadata": {},
     "output_type": "display_data"
    },
    {
     "data": {
      "text/plain": "VBox(children=(Label(value=' 0.00MB of 0.00MB uploaded (0.00MB deduped)\\r'), FloatProgress(value=1.0, max=1.0)…",
      "application/vnd.jupyter.widget-view+json": {
       "version_major": 2,
       "version_minor": 0,
       "model_id": "64f8bcb7a0f84f2da13973416209ebd6"
      }
     },
     "metadata": {},
     "output_type": "display_data"
    },
    {
     "data": {
      "text/plain": "<IPython.core.display.HTML object>",
      "text/html": "Find user logs for this run at: <code>D:\\Development\\FHNW\\ip5-metriken-bauwesen\\src\\weight_and_bias\\wandb\\run-20210817_124317-krejre05\\logs\\debug.log</code>"
     },
     "metadata": {},
     "output_type": "display_data"
    },
    {
     "data": {
      "text/plain": "<IPython.core.display.HTML object>",
      "text/html": "Find internal logs for this run at: <code>D:\\Development\\FHNW\\ip5-metriken-bauwesen\\src\\weight_and_bias\\wandb\\run-20210817_124317-krejre05\\logs\\debug-internal.log</code>"
     },
     "metadata": {},
     "output_type": "display_data"
    },
    {
     "data": {
      "text/plain": "<IPython.core.display.HTML object>",
      "text/html": "<h3>Run summary:</h3><br/><style>\n    table.wandb td:nth-child(1) { padding: 0 10px; text-align: right }\n    </style><table class=\"wandb\">\n<tr><td>r2</td><td>0.95009</td></tr><tr><td>_runtime</td><td>11</td></tr><tr><td>_timestamp</td><td>1629197008</td></tr><tr><td>_step</td><td>3</td></tr><tr><td>neg_mape</td><td>-0.12923</td></tr><tr><td>neg_mae</td><td>-658.5726</td></tr><tr><td>neg_rmse</td><td>-1331.35907</td></tr></table>"
     },
     "metadata": {},
     "output_type": "display_data"
    },
    {
     "data": {
      "text/plain": "<IPython.core.display.HTML object>",
      "text/html": "<h3>Run history:</h3><br/><style>\n    table.wandb td:nth-child(1) { padding: 0 10px; text-align: right }\n    </style><table class=\"wandb\">\n<tr><td>r2</td><td>▁</td></tr><tr><td>_runtime</td><td>▁▁▁▁</td></tr><tr><td>_timestamp</td><td>▁▁▁▁</td></tr><tr><td>_step</td><td>▁▃▆█</td></tr><tr><td>neg_mape</td><td>▁</td></tr><tr><td>neg_mae</td><td>▁</td></tr><tr><td>neg_rmse</td><td>▁</td></tr></table><br/>"
     },
     "metadata": {},
     "output_type": "display_data"
    },
    {
     "data": {
      "text/plain": "<IPython.core.display.HTML object>",
      "text/html": "Synced 4 W&B file(s), 0 media file(s), 0 artifact file(s) and 0 other file(s)"
     },
     "metadata": {},
     "output_type": "display_data"
    },
    {
     "data": {
      "text/plain": "<IPython.core.display.HTML object>",
      "text/html": "\n                    <br/>Synced <strong style=\"color:#cdcd00\">worldly-sweep-62</strong>: <a href=\"https://wandb.ai/devcore/Metriken%20Bauwesen%20Sweeps/runs/krejre05\" target=\"_blank\">https://wandb.ai/devcore/Metriken%20Bauwesen%20Sweeps/runs/krejre05</a><br/>\n                "
     },
     "metadata": {},
     "output_type": "display_data"
    },
    {
     "data": {
      "text/plain": "<IPython.core.display.HTML object>",
      "text/html": "\n                Tracking run with wandb version 0.11.0<br/>\n                Syncing run <strong style=\"color:#cdcd00\">wandering-sweep-63</strong> to <a href=\"https://wandb.ai\" target=\"_blank\">Weights & Biases</a> <a href=\"https://docs.wandb.com/integrations/jupyter.html\" target=\"_blank\">(Documentation)</a>.<br/>\n                Project page: <a href=\"https://wandb.ai/devcore/Metriken%20Bauwesen%20Sweeps\" target=\"_blank\">https://wandb.ai/devcore/Metriken%20Bauwesen%20Sweeps</a><br/>\n                Sweep page: <a href=\"https://wandb.ai/devcore/Metriken%20Bauwesen%20Sweeps/sweeps/u3louhfl\" target=\"_blank\">https://wandb.ai/devcore/Metriken%20Bauwesen%20Sweeps/sweeps/u3louhfl</a><br/>\nRun page: <a href=\"https://wandb.ai/devcore/Metriken%20Bauwesen%20Sweeps/runs/p2k8upvk\" target=\"_blank\">https://wandb.ai/devcore/Metriken%20Bauwesen%20Sweeps/runs/p2k8upvk</a><br/>\n                Run data is saved locally in <code>D:\\Development\\FHNW\\ip5-metriken-bauwesen\\src\\weight_and_bias\\wandb\\run-20210817_124332-p2k8upvk</code><br/><br/>\n            "
     },
     "metadata": {},
     "output_type": "display_data"
    },
    {
     "data": {
      "text/plain": "<IPython.core.display.HTML object>",
      "text/html": "<br/>Waiting for W&B process to finish, PID 14064<br/>Program ended successfully."
     },
     "metadata": {},
     "output_type": "display_data"
    },
    {
     "data": {
      "text/plain": "VBox(children=(Label(value=' 0.00MB of 0.00MB uploaded (0.00MB deduped)\\r'), FloatProgress(value=1.0, max=1.0)…",
      "application/vnd.jupyter.widget-view+json": {
       "version_major": 2,
       "version_minor": 0,
       "model_id": "02b2b1c607ba4bdcb052a1b578363c53"
      }
     },
     "metadata": {},
     "output_type": "display_data"
    },
    {
     "data": {
      "text/plain": "<IPython.core.display.HTML object>",
      "text/html": "Find user logs for this run at: <code>D:\\Development\\FHNW\\ip5-metriken-bauwesen\\src\\weight_and_bias\\wandb\\run-20210817_124332-p2k8upvk\\logs\\debug.log</code>"
     },
     "metadata": {},
     "output_type": "display_data"
    },
    {
     "data": {
      "text/plain": "<IPython.core.display.HTML object>",
      "text/html": "Find internal logs for this run at: <code>D:\\Development\\FHNW\\ip5-metriken-bauwesen\\src\\weight_and_bias\\wandb\\run-20210817_124332-p2k8upvk\\logs\\debug-internal.log</code>"
     },
     "metadata": {},
     "output_type": "display_data"
    },
    {
     "data": {
      "text/plain": "<IPython.core.display.HTML object>",
      "text/html": "<h3>Run summary:</h3><br/><style>\n    table.wandb td:nth-child(1) { padding: 0 10px; text-align: right }\n    </style><table class=\"wandb\">\n<tr><td>r2</td><td>0.95037</td></tr><tr><td>_runtime</td><td>37</td></tr><tr><td>_timestamp</td><td>1629197049</td></tr><tr><td>_step</td><td>3</td></tr><tr><td>neg_mape</td><td>-0.1335</td></tr><tr><td>neg_mae</td><td>-683.70611</td></tr><tr><td>neg_rmse</td><td>-1322.06561</td></tr></table>"
     },
     "metadata": {},
     "output_type": "display_data"
    },
    {
     "data": {
      "text/plain": "<IPython.core.display.HTML object>",
      "text/html": "<h3>Run history:</h3><br/><style>\n    table.wandb td:nth-child(1) { padding: 0 10px; text-align: right }\n    </style><table class=\"wandb\">\n<tr><td>r2</td><td>▁</td></tr><tr><td>_runtime</td><td>▁▁▁▁</td></tr><tr><td>_timestamp</td><td>▁▁▁▁</td></tr><tr><td>_step</td><td>▁▃▆█</td></tr><tr><td>neg_mape</td><td>▁</td></tr><tr><td>neg_mae</td><td>▁</td></tr><tr><td>neg_rmse</td><td>▁</td></tr></table><br/>"
     },
     "metadata": {},
     "output_type": "display_data"
    },
    {
     "data": {
      "text/plain": "<IPython.core.display.HTML object>",
      "text/html": "Synced 4 W&B file(s), 0 media file(s), 0 artifact file(s) and 0 other file(s)"
     },
     "metadata": {},
     "output_type": "display_data"
    },
    {
     "data": {
      "text/plain": "<IPython.core.display.HTML object>",
      "text/html": "\n                    <br/>Synced <strong style=\"color:#cdcd00\">wandering-sweep-63</strong>: <a href=\"https://wandb.ai/devcore/Metriken%20Bauwesen%20Sweeps/runs/p2k8upvk\" target=\"_blank\">https://wandb.ai/devcore/Metriken%20Bauwesen%20Sweeps/runs/p2k8upvk</a><br/>\n                "
     },
     "metadata": {},
     "output_type": "display_data"
    },
    {
     "data": {
      "text/plain": "<IPython.core.display.HTML object>",
      "text/html": "\n                Tracking run with wandb version 0.11.0<br/>\n                Syncing run <strong style=\"color:#cdcd00\">whole-sweep-64</strong> to <a href=\"https://wandb.ai\" target=\"_blank\">Weights & Biases</a> <a href=\"https://docs.wandb.com/integrations/jupyter.html\" target=\"_blank\">(Documentation)</a>.<br/>\n                Project page: <a href=\"https://wandb.ai/devcore/Metriken%20Bauwesen%20Sweeps\" target=\"_blank\">https://wandb.ai/devcore/Metriken%20Bauwesen%20Sweeps</a><br/>\n                Sweep page: <a href=\"https://wandb.ai/devcore/Metriken%20Bauwesen%20Sweeps/sweeps/u3louhfl\" target=\"_blank\">https://wandb.ai/devcore/Metriken%20Bauwesen%20Sweeps/sweeps/u3louhfl</a><br/>\nRun page: <a href=\"https://wandb.ai/devcore/Metriken%20Bauwesen%20Sweeps/runs/tppu5imb\" target=\"_blank\">https://wandb.ai/devcore/Metriken%20Bauwesen%20Sweeps/runs/tppu5imb</a><br/>\n                Run data is saved locally in <code>D:\\Development\\FHNW\\ip5-metriken-bauwesen\\src\\weight_and_bias\\wandb\\run-20210817_124414-tppu5imb</code><br/><br/>\n            "
     },
     "metadata": {},
     "output_type": "display_data"
    },
    {
     "data": {
      "text/plain": "<IPython.core.display.HTML object>",
      "text/html": "<br/>Waiting for W&B process to finish, PID 13564<br/>Program ended successfully."
     },
     "metadata": {},
     "output_type": "display_data"
    },
    {
     "data": {
      "text/plain": "VBox(children=(Label(value=' 0.00MB of 0.00MB uploaded (0.00MB deduped)\\r'), FloatProgress(value=1.0, max=1.0)…",
      "application/vnd.jupyter.widget-view+json": {
       "version_major": 2,
       "version_minor": 0,
       "model_id": "18ec36d3c51541fea7391c9456fd1733"
      }
     },
     "metadata": {},
     "output_type": "display_data"
    },
    {
     "data": {
      "text/plain": "<IPython.core.display.HTML object>",
      "text/html": "Find user logs for this run at: <code>D:\\Development\\FHNW\\ip5-metriken-bauwesen\\src\\weight_and_bias\\wandb\\run-20210817_124414-tppu5imb\\logs\\debug.log</code>"
     },
     "metadata": {},
     "output_type": "display_data"
    },
    {
     "data": {
      "text/plain": "<IPython.core.display.HTML object>",
      "text/html": "Find internal logs for this run at: <code>D:\\Development\\FHNW\\ip5-metriken-bauwesen\\src\\weight_and_bias\\wandb\\run-20210817_124414-tppu5imb\\logs\\debug-internal.log</code>"
     },
     "metadata": {},
     "output_type": "display_data"
    },
    {
     "data": {
      "text/plain": "<IPython.core.display.HTML object>",
      "text/html": "<h3>Run summary:</h3><br/><style>\n    table.wandb td:nth-child(1) { padding: 0 10px; text-align: right }\n    </style><table class=\"wandb\">\n<tr><td>r2</td><td>0.94544</td></tr><tr><td>_runtime</td><td>61</td></tr><tr><td>_timestamp</td><td>1629197115</td></tr><tr><td>_step</td><td>3</td></tr><tr><td>neg_mape</td><td>-0.13609</td></tr><tr><td>neg_mae</td><td>-708.32178</td></tr><tr><td>neg_rmse</td><td>-1396.15524</td></tr></table>"
     },
     "metadata": {},
     "output_type": "display_data"
    },
    {
     "data": {
      "text/plain": "<IPython.core.display.HTML object>",
      "text/html": "<h3>Run history:</h3><br/><style>\n    table.wandb td:nth-child(1) { padding: 0 10px; text-align: right }\n    </style><table class=\"wandb\">\n<tr><td>r2</td><td>▁</td></tr><tr><td>_runtime</td><td>▁▁▁▁</td></tr><tr><td>_timestamp</td><td>▁▁▁▁</td></tr><tr><td>_step</td><td>▁▃▆█</td></tr><tr><td>neg_mape</td><td>▁</td></tr><tr><td>neg_mae</td><td>▁</td></tr><tr><td>neg_rmse</td><td>▁</td></tr></table><br/>"
     },
     "metadata": {},
     "output_type": "display_data"
    },
    {
     "data": {
      "text/plain": "<IPython.core.display.HTML object>",
      "text/html": "Synced 4 W&B file(s), 0 media file(s), 0 artifact file(s) and 0 other file(s)"
     },
     "metadata": {},
     "output_type": "display_data"
    },
    {
     "data": {
      "text/plain": "<IPython.core.display.HTML object>",
      "text/html": "\n                    <br/>Synced <strong style=\"color:#cdcd00\">whole-sweep-64</strong>: <a href=\"https://wandb.ai/devcore/Metriken%20Bauwesen%20Sweeps/runs/tppu5imb\" target=\"_blank\">https://wandb.ai/devcore/Metriken%20Bauwesen%20Sweeps/runs/tppu5imb</a><br/>\n                "
     },
     "metadata": {},
     "output_type": "display_data"
    },
    {
     "data": {
      "text/plain": "<IPython.core.display.HTML object>",
      "text/html": "\n                Tracking run with wandb version 0.11.0<br/>\n                Syncing run <strong style=\"color:#cdcd00\">devout-sweep-65</strong> to <a href=\"https://wandb.ai\" target=\"_blank\">Weights & Biases</a> <a href=\"https://docs.wandb.com/integrations/jupyter.html\" target=\"_blank\">(Documentation)</a>.<br/>\n                Project page: <a href=\"https://wandb.ai/devcore/Metriken%20Bauwesen%20Sweeps\" target=\"_blank\">https://wandb.ai/devcore/Metriken%20Bauwesen%20Sweeps</a><br/>\n                Sweep page: <a href=\"https://wandb.ai/devcore/Metriken%20Bauwesen%20Sweeps/sweeps/u3louhfl\" target=\"_blank\">https://wandb.ai/devcore/Metriken%20Bauwesen%20Sweeps/sweeps/u3louhfl</a><br/>\nRun page: <a href=\"https://wandb.ai/devcore/Metriken%20Bauwesen%20Sweeps/runs/5w9wb1gi\" target=\"_blank\">https://wandb.ai/devcore/Metriken%20Bauwesen%20Sweeps/runs/5w9wb1gi</a><br/>\n                Run data is saved locally in <code>D:\\Development\\FHNW\\ip5-metriken-bauwesen\\src\\weight_and_bias\\wandb\\run-20210817_124519-5w9wb1gi</code><br/><br/>\n            "
     },
     "metadata": {},
     "output_type": "display_data"
    },
    {
     "data": {
      "text/plain": "<IPython.core.display.HTML object>",
      "text/html": "<br/>Waiting for W&B process to finish, PID 18736<br/>Program ended successfully."
     },
     "metadata": {},
     "output_type": "display_data"
    },
    {
     "data": {
      "text/plain": "VBox(children=(Label(value=' 0.00MB of 0.00MB uploaded (0.00MB deduped)\\r'), FloatProgress(value=1.0, max=1.0)…",
      "application/vnd.jupyter.widget-view+json": {
       "version_major": 2,
       "version_minor": 0,
       "model_id": "a2c2254fdffa4c28a3f17b1a14e51ad1"
      }
     },
     "metadata": {},
     "output_type": "display_data"
    },
    {
     "data": {
      "text/plain": "<IPython.core.display.HTML object>",
      "text/html": "Find user logs for this run at: <code>D:\\Development\\FHNW\\ip5-metriken-bauwesen\\src\\weight_and_bias\\wandb\\run-20210817_124519-5w9wb1gi\\logs\\debug.log</code>"
     },
     "metadata": {},
     "output_type": "display_data"
    },
    {
     "data": {
      "text/plain": "<IPython.core.display.HTML object>",
      "text/html": "Find internal logs for this run at: <code>D:\\Development\\FHNW\\ip5-metriken-bauwesen\\src\\weight_and_bias\\wandb\\run-20210817_124519-5w9wb1gi\\logs\\debug-internal.log</code>"
     },
     "metadata": {},
     "output_type": "display_data"
    },
    {
     "data": {
      "text/plain": "<IPython.core.display.HTML object>",
      "text/html": "<h3>Run summary:</h3><br/><style>\n    table.wandb td:nth-child(1) { padding: 0 10px; text-align: right }\n    </style><table class=\"wandb\">\n<tr><td>r2</td><td>0.94429</td></tr><tr><td>_runtime</td><td>13</td></tr><tr><td>_timestamp</td><td>1629197133</td></tr><tr><td>_step</td><td>3</td></tr><tr><td>neg_mape</td><td>-0.12587</td></tr><tr><td>neg_mae</td><td>-671.17064</td></tr><tr><td>neg_rmse</td><td>-1410.61855</td></tr></table>"
     },
     "metadata": {},
     "output_type": "display_data"
    },
    {
     "data": {
      "text/plain": "<IPython.core.display.HTML object>",
      "text/html": "<h3>Run history:</h3><br/><style>\n    table.wandb td:nth-child(1) { padding: 0 10px; text-align: right }\n    </style><table class=\"wandb\">\n<tr><td>r2</td><td>▁</td></tr><tr><td>_runtime</td><td>▁▁▁▁</td></tr><tr><td>_timestamp</td><td>▁▁▁▁</td></tr><tr><td>_step</td><td>▁▃▆█</td></tr><tr><td>neg_mape</td><td>▁</td></tr><tr><td>neg_mae</td><td>▁</td></tr><tr><td>neg_rmse</td><td>▁</td></tr></table><br/>"
     },
     "metadata": {},
     "output_type": "display_data"
    },
    {
     "data": {
      "text/plain": "<IPython.core.display.HTML object>",
      "text/html": "Synced 4 W&B file(s), 0 media file(s), 0 artifact file(s) and 0 other file(s)"
     },
     "metadata": {},
     "output_type": "display_data"
    },
    {
     "data": {
      "text/plain": "<IPython.core.display.HTML object>",
      "text/html": "\n                    <br/>Synced <strong style=\"color:#cdcd00\">devout-sweep-65</strong>: <a href=\"https://wandb.ai/devcore/Metriken%20Bauwesen%20Sweeps/runs/5w9wb1gi\" target=\"_blank\">https://wandb.ai/devcore/Metriken%20Bauwesen%20Sweeps/runs/5w9wb1gi</a><br/>\n                "
     },
     "metadata": {},
     "output_type": "display_data"
    },
    {
     "data": {
      "text/plain": "<IPython.core.display.HTML object>",
      "text/html": "\n                Tracking run with wandb version 0.11.0<br/>\n                Syncing run <strong style=\"color:#cdcd00\">giddy-sweep-66</strong> to <a href=\"https://wandb.ai\" target=\"_blank\">Weights & Biases</a> <a href=\"https://docs.wandb.com/integrations/jupyter.html\" target=\"_blank\">(Documentation)</a>.<br/>\n                Project page: <a href=\"https://wandb.ai/devcore/Metriken%20Bauwesen%20Sweeps\" target=\"_blank\">https://wandb.ai/devcore/Metriken%20Bauwesen%20Sweeps</a><br/>\n                Sweep page: <a href=\"https://wandb.ai/devcore/Metriken%20Bauwesen%20Sweeps/sweeps/u3louhfl\" target=\"_blank\">https://wandb.ai/devcore/Metriken%20Bauwesen%20Sweeps/sweeps/u3louhfl</a><br/>\nRun page: <a href=\"https://wandb.ai/devcore/Metriken%20Bauwesen%20Sweeps/runs/ynxdkm4v\" target=\"_blank\">https://wandb.ai/devcore/Metriken%20Bauwesen%20Sweeps/runs/ynxdkm4v</a><br/>\n                Run data is saved locally in <code>D:\\Development\\FHNW\\ip5-metriken-bauwesen\\src\\weight_and_bias\\wandb\\run-20210817_124538-ynxdkm4v</code><br/><br/>\n            "
     },
     "metadata": {},
     "output_type": "display_data"
    },
    {
     "data": {
      "text/plain": "<IPython.core.display.HTML object>",
      "text/html": "<br/>Waiting for W&B process to finish, PID 19516<br/>Program ended successfully."
     },
     "metadata": {},
     "output_type": "display_data"
    },
    {
     "data": {
      "text/plain": "VBox(children=(Label(value=' 0.00MB of 0.00MB uploaded (0.00MB deduped)\\r'), FloatProgress(value=1.0, max=1.0)…",
      "application/vnd.jupyter.widget-view+json": {
       "version_major": 2,
       "version_minor": 0,
       "model_id": "e358d75e08104cbdbe1ee032b667f846"
      }
     },
     "metadata": {},
     "output_type": "display_data"
    },
    {
     "data": {
      "text/plain": "<IPython.core.display.HTML object>",
      "text/html": "Find user logs for this run at: <code>D:\\Development\\FHNW\\ip5-metriken-bauwesen\\src\\weight_and_bias\\wandb\\run-20210817_124538-ynxdkm4v\\logs\\debug.log</code>"
     },
     "metadata": {},
     "output_type": "display_data"
    },
    {
     "data": {
      "text/plain": "<IPython.core.display.HTML object>",
      "text/html": "Find internal logs for this run at: <code>D:\\Development\\FHNW\\ip5-metriken-bauwesen\\src\\weight_and_bias\\wandb\\run-20210817_124538-ynxdkm4v\\logs\\debug-internal.log</code>"
     },
     "metadata": {},
     "output_type": "display_data"
    },
    {
     "data": {
      "text/plain": "<IPython.core.display.HTML object>",
      "text/html": "<h3>Run summary:</h3><br/><style>\n    table.wandb td:nth-child(1) { padding: 0 10px; text-align: right }\n    </style><table class=\"wandb\">\n<tr><td>r2</td><td>0.95335</td></tr><tr><td>_runtime</td><td>82</td></tr><tr><td>_timestamp</td><td>1629197220</td></tr><tr><td>_step</td><td>3</td></tr><tr><td>neg_mape</td><td>-0.12951</td></tr><tr><td>neg_mae</td><td>-656.0478</td></tr><tr><td>neg_rmse</td><td>-1291.33041</td></tr></table>"
     },
     "metadata": {},
     "output_type": "display_data"
    },
    {
     "data": {
      "text/plain": "<IPython.core.display.HTML object>",
      "text/html": "<h3>Run history:</h3><br/><style>\n    table.wandb td:nth-child(1) { padding: 0 10px; text-align: right }\n    </style><table class=\"wandb\">\n<tr><td>r2</td><td>▁</td></tr><tr><td>_runtime</td><td>▁▁▁▁</td></tr><tr><td>_timestamp</td><td>▁▁▁▁</td></tr><tr><td>_step</td><td>▁▃▆█</td></tr><tr><td>neg_mape</td><td>▁</td></tr><tr><td>neg_mae</td><td>▁</td></tr><tr><td>neg_rmse</td><td>▁</td></tr></table><br/>"
     },
     "metadata": {},
     "output_type": "display_data"
    },
    {
     "data": {
      "text/plain": "<IPython.core.display.HTML object>",
      "text/html": "Synced 4 W&B file(s), 0 media file(s), 0 artifact file(s) and 0 other file(s)"
     },
     "metadata": {},
     "output_type": "display_data"
    },
    {
     "data": {
      "text/plain": "<IPython.core.display.HTML object>",
      "text/html": "\n                    <br/>Synced <strong style=\"color:#cdcd00\">giddy-sweep-66</strong>: <a href=\"https://wandb.ai/devcore/Metriken%20Bauwesen%20Sweeps/runs/ynxdkm4v\" target=\"_blank\">https://wandb.ai/devcore/Metriken%20Bauwesen%20Sweeps/runs/ynxdkm4v</a><br/>\n                "
     },
     "metadata": {},
     "output_type": "display_data"
    },
    {
     "data": {
      "text/plain": "<IPython.core.display.HTML object>",
      "text/html": "\n                Tracking run with wandb version 0.11.0<br/>\n                Syncing run <strong style=\"color:#cdcd00\">wandering-sweep-67</strong> to <a href=\"https://wandb.ai\" target=\"_blank\">Weights & Biases</a> <a href=\"https://docs.wandb.com/integrations/jupyter.html\" target=\"_blank\">(Documentation)</a>.<br/>\n                Project page: <a href=\"https://wandb.ai/devcore/Metriken%20Bauwesen%20Sweeps\" target=\"_blank\">https://wandb.ai/devcore/Metriken%20Bauwesen%20Sweeps</a><br/>\n                Sweep page: <a href=\"https://wandb.ai/devcore/Metriken%20Bauwesen%20Sweeps/sweeps/u3louhfl\" target=\"_blank\">https://wandb.ai/devcore/Metriken%20Bauwesen%20Sweeps/sweeps/u3louhfl</a><br/>\nRun page: <a href=\"https://wandb.ai/devcore/Metriken%20Bauwesen%20Sweeps/runs/7anttqju\" target=\"_blank\">https://wandb.ai/devcore/Metriken%20Bauwesen%20Sweeps/runs/7anttqju</a><br/>\n                Run data is saved locally in <code>D:\\Development\\FHNW\\ip5-metriken-bauwesen\\src\\weight_and_bias\\wandb\\run-20210817_124704-7anttqju</code><br/><br/>\n            "
     },
     "metadata": {},
     "output_type": "display_data"
    },
    {
     "data": {
      "text/plain": "<IPython.core.display.HTML object>",
      "text/html": "<br/>Waiting for W&B process to finish, PID 25184<br/>Program ended successfully."
     },
     "metadata": {},
     "output_type": "display_data"
    },
    {
     "data": {
      "text/plain": "VBox(children=(Label(value=' 0.00MB of 0.00MB uploaded (0.00MB deduped)\\r'), FloatProgress(value=1.0, max=1.0)…",
      "application/vnd.jupyter.widget-view+json": {
       "version_major": 2,
       "version_minor": 0,
       "model_id": "4f46ed19e8104408819b414b5376661d"
      }
     },
     "metadata": {},
     "output_type": "display_data"
    },
    {
     "data": {
      "text/plain": "<IPython.core.display.HTML object>",
      "text/html": "Find user logs for this run at: <code>D:\\Development\\FHNW\\ip5-metriken-bauwesen\\src\\weight_and_bias\\wandb\\run-20210817_124704-7anttqju\\logs\\debug.log</code>"
     },
     "metadata": {},
     "output_type": "display_data"
    },
    {
     "data": {
      "text/plain": "<IPython.core.display.HTML object>",
      "text/html": "Find internal logs for this run at: <code>D:\\Development\\FHNW\\ip5-metriken-bauwesen\\src\\weight_and_bias\\wandb\\run-20210817_124704-7anttqju\\logs\\debug-internal.log</code>"
     },
     "metadata": {},
     "output_type": "display_data"
    },
    {
     "data": {
      "text/plain": "<IPython.core.display.HTML object>",
      "text/html": "<h3>Run summary:</h3><br/><style>\n    table.wandb td:nth-child(1) { padding: 0 10px; text-align: right }\n    </style><table class=\"wandb\">\n<tr><td>r2</td><td>0.94797</td></tr><tr><td>_runtime</td><td>11</td></tr><tr><td>_timestamp</td><td>1629197236</td></tr><tr><td>_step</td><td>3</td></tr><tr><td>neg_mape</td><td>-0.12826</td></tr><tr><td>neg_mae</td><td>-667.14052</td></tr><tr><td>neg_rmse</td><td>-1360.10268</td></tr></table>"
     },
     "metadata": {},
     "output_type": "display_data"
    },
    {
     "data": {
      "text/plain": "<IPython.core.display.HTML object>",
      "text/html": "<h3>Run history:</h3><br/><style>\n    table.wandb td:nth-child(1) { padding: 0 10px; text-align: right }\n    </style><table class=\"wandb\">\n<tr><td>r2</td><td>▁</td></tr><tr><td>_runtime</td><td>▁▁▁▁</td></tr><tr><td>_timestamp</td><td>▁▁▁▁</td></tr><tr><td>_step</td><td>▁▃▆█</td></tr><tr><td>neg_mape</td><td>▁</td></tr><tr><td>neg_mae</td><td>▁</td></tr><tr><td>neg_rmse</td><td>▁</td></tr></table><br/>"
     },
     "metadata": {},
     "output_type": "display_data"
    },
    {
     "data": {
      "text/plain": "<IPython.core.display.HTML object>",
      "text/html": "Synced 4 W&B file(s), 0 media file(s), 0 artifact file(s) and 0 other file(s)"
     },
     "metadata": {},
     "output_type": "display_data"
    },
    {
     "data": {
      "text/plain": "<IPython.core.display.HTML object>",
      "text/html": "\n                    <br/>Synced <strong style=\"color:#cdcd00\">wandering-sweep-67</strong>: <a href=\"https://wandb.ai/devcore/Metriken%20Bauwesen%20Sweeps/runs/7anttqju\" target=\"_blank\">https://wandb.ai/devcore/Metriken%20Bauwesen%20Sweeps/runs/7anttqju</a><br/>\n                "
     },
     "metadata": {},
     "output_type": "display_data"
    },
    {
     "data": {
      "text/plain": "<IPython.core.display.HTML object>",
      "text/html": "\n                Tracking run with wandb version 0.11.0<br/>\n                Syncing run <strong style=\"color:#cdcd00\">pretty-sweep-68</strong> to <a href=\"https://wandb.ai\" target=\"_blank\">Weights & Biases</a> <a href=\"https://docs.wandb.com/integrations/jupyter.html\" target=\"_blank\">(Documentation)</a>.<br/>\n                Project page: <a href=\"https://wandb.ai/devcore/Metriken%20Bauwesen%20Sweeps\" target=\"_blank\">https://wandb.ai/devcore/Metriken%20Bauwesen%20Sweeps</a><br/>\n                Sweep page: <a href=\"https://wandb.ai/devcore/Metriken%20Bauwesen%20Sweeps/sweeps/u3louhfl\" target=\"_blank\">https://wandb.ai/devcore/Metriken%20Bauwesen%20Sweeps/sweeps/u3louhfl</a><br/>\nRun page: <a href=\"https://wandb.ai/devcore/Metriken%20Bauwesen%20Sweeps/runs/59dd1bm8\" target=\"_blank\">https://wandb.ai/devcore/Metriken%20Bauwesen%20Sweeps/runs/59dd1bm8</a><br/>\n                Run data is saved locally in <code>D:\\Development\\FHNW\\ip5-metriken-bauwesen\\src\\weight_and_bias\\wandb\\run-20210817_124720-59dd1bm8</code><br/><br/>\n            "
     },
     "metadata": {},
     "output_type": "display_data"
    },
    {
     "data": {
      "text/plain": "<IPython.core.display.HTML object>",
      "text/html": "<br/>Waiting for W&B process to finish, PID 8232<br/>Program ended successfully."
     },
     "metadata": {},
     "output_type": "display_data"
    },
    {
     "data": {
      "text/plain": "VBox(children=(Label(value=' 0.00MB of 0.00MB uploaded (0.00MB deduped)\\r'), FloatProgress(value=1.0, max=1.0)…",
      "application/vnd.jupyter.widget-view+json": {
       "version_major": 2,
       "version_minor": 0,
       "model_id": "33b37f1af8b147cabb10b9517e74d92a"
      }
     },
     "metadata": {},
     "output_type": "display_data"
    },
    {
     "data": {
      "text/plain": "<IPython.core.display.HTML object>",
      "text/html": "Find user logs for this run at: <code>D:\\Development\\FHNW\\ip5-metriken-bauwesen\\src\\weight_and_bias\\wandb\\run-20210817_124720-59dd1bm8\\logs\\debug.log</code>"
     },
     "metadata": {},
     "output_type": "display_data"
    },
    {
     "data": {
      "text/plain": "<IPython.core.display.HTML object>",
      "text/html": "Find internal logs for this run at: <code>D:\\Development\\FHNW\\ip5-metriken-bauwesen\\src\\weight_and_bias\\wandb\\run-20210817_124720-59dd1bm8\\logs\\debug-internal.log</code>"
     },
     "metadata": {},
     "output_type": "display_data"
    },
    {
     "data": {
      "text/plain": "<IPython.core.display.HTML object>",
      "text/html": "<h3>Run summary:</h3><br/><style>\n    table.wandb td:nth-child(1) { padding: 0 10px; text-align: right }\n    </style><table class=\"wandb\">\n<tr><td>r2</td><td>0.95113</td></tr><tr><td>_runtime</td><td>17</td></tr><tr><td>_timestamp</td><td>1629197257</td></tr><tr><td>_step</td><td>3</td></tr><tr><td>neg_mape</td><td>-0.13383</td></tr><tr><td>neg_mae</td><td>-665.56265</td></tr><tr><td>neg_rmse</td><td>-1317.1262</td></tr></table>"
     },
     "metadata": {},
     "output_type": "display_data"
    },
    {
     "data": {
      "text/plain": "<IPython.core.display.HTML object>",
      "text/html": "<h3>Run history:</h3><br/><style>\n    table.wandb td:nth-child(1) { padding: 0 10px; text-align: right }\n    </style><table class=\"wandb\">\n<tr><td>r2</td><td>▁</td></tr><tr><td>_runtime</td><td>▁▁▁▁</td></tr><tr><td>_timestamp</td><td>▁▁▁▁</td></tr><tr><td>_step</td><td>▁▃▆█</td></tr><tr><td>neg_mape</td><td>▁</td></tr><tr><td>neg_mae</td><td>▁</td></tr><tr><td>neg_rmse</td><td>▁</td></tr></table><br/>"
     },
     "metadata": {},
     "output_type": "display_data"
    },
    {
     "data": {
      "text/plain": "<IPython.core.display.HTML object>",
      "text/html": "Synced 4 W&B file(s), 0 media file(s), 0 artifact file(s) and 0 other file(s)"
     },
     "metadata": {},
     "output_type": "display_data"
    },
    {
     "data": {
      "text/plain": "<IPython.core.display.HTML object>",
      "text/html": "\n                    <br/>Synced <strong style=\"color:#cdcd00\">pretty-sweep-68</strong>: <a href=\"https://wandb.ai/devcore/Metriken%20Bauwesen%20Sweeps/runs/59dd1bm8\" target=\"_blank\">https://wandb.ai/devcore/Metriken%20Bauwesen%20Sweeps/runs/59dd1bm8</a><br/>\n                "
     },
     "metadata": {},
     "output_type": "display_data"
    },
    {
     "data": {
      "text/plain": "<IPython.core.display.HTML object>",
      "text/html": "\n                Tracking run with wandb version 0.11.0<br/>\n                Syncing run <strong style=\"color:#cdcd00\">copper-sweep-69</strong> to <a href=\"https://wandb.ai\" target=\"_blank\">Weights & Biases</a> <a href=\"https://docs.wandb.com/integrations/jupyter.html\" target=\"_blank\">(Documentation)</a>.<br/>\n                Project page: <a href=\"https://wandb.ai/devcore/Metriken%20Bauwesen%20Sweeps\" target=\"_blank\">https://wandb.ai/devcore/Metriken%20Bauwesen%20Sweeps</a><br/>\n                Sweep page: <a href=\"https://wandb.ai/devcore/Metriken%20Bauwesen%20Sweeps/sweeps/u3louhfl\" target=\"_blank\">https://wandb.ai/devcore/Metriken%20Bauwesen%20Sweeps/sweeps/u3louhfl</a><br/>\nRun page: <a href=\"https://wandb.ai/devcore/Metriken%20Bauwesen%20Sweeps/runs/p7vqcjtg\" target=\"_blank\">https://wandb.ai/devcore/Metriken%20Bauwesen%20Sweeps/runs/p7vqcjtg</a><br/>\n                Run data is saved locally in <code>D:\\Development\\FHNW\\ip5-metriken-bauwesen\\src\\weight_and_bias\\wandb\\run-20210817_124742-p7vqcjtg</code><br/><br/>\n            "
     },
     "metadata": {},
     "output_type": "display_data"
    },
    {
     "data": {
      "text/plain": "<IPython.core.display.HTML object>",
      "text/html": "<br/>Waiting for W&B process to finish, PID 21752<br/>Program ended successfully."
     },
     "metadata": {},
     "output_type": "display_data"
    },
    {
     "data": {
      "text/plain": "VBox(children=(Label(value=' 0.00MB of 0.00MB uploaded (0.00MB deduped)\\r'), FloatProgress(value=1.0, max=1.0)…",
      "application/vnd.jupyter.widget-view+json": {
       "version_major": 2,
       "version_minor": 0,
       "model_id": "a7038aa104254d19bd7ae4bfdb02d99b"
      }
     },
     "metadata": {},
     "output_type": "display_data"
    },
    {
     "data": {
      "text/plain": "<IPython.core.display.HTML object>",
      "text/html": "Find user logs for this run at: <code>D:\\Development\\FHNW\\ip5-metriken-bauwesen\\src\\weight_and_bias\\wandb\\run-20210817_124742-p7vqcjtg\\logs\\debug.log</code>"
     },
     "metadata": {},
     "output_type": "display_data"
    },
    {
     "data": {
      "text/plain": "<IPython.core.display.HTML object>",
      "text/html": "Find internal logs for this run at: <code>D:\\Development\\FHNW\\ip5-metriken-bauwesen\\src\\weight_and_bias\\wandb\\run-20210817_124742-p7vqcjtg\\logs\\debug-internal.log</code>"
     },
     "metadata": {},
     "output_type": "display_data"
    },
    {
     "data": {
      "text/plain": "<IPython.core.display.HTML object>",
      "text/html": "<h3>Run summary:</h3><br/><style>\n    table.wandb td:nth-child(1) { padding: 0 10px; text-align: right }\n    </style><table class=\"wandb\">\n<tr><td>r2</td><td>0.94538</td></tr><tr><td>_runtime</td><td>25</td></tr><tr><td>_timestamp</td><td>1629197287</td></tr><tr><td>_step</td><td>3</td></tr><tr><td>neg_mape</td><td>-0.1349</td></tr><tr><td>neg_mae</td><td>-693.95367</td></tr><tr><td>neg_rmse</td><td>-1388.22811</td></tr></table>"
     },
     "metadata": {},
     "output_type": "display_data"
    },
    {
     "data": {
      "text/plain": "<IPython.core.display.HTML object>",
      "text/html": "<h3>Run history:</h3><br/><style>\n    table.wandb td:nth-child(1) { padding: 0 10px; text-align: right }\n    </style><table class=\"wandb\">\n<tr><td>r2</td><td>▁</td></tr><tr><td>_runtime</td><td>▁▁▁▁</td></tr><tr><td>_timestamp</td><td>▁▁▁▁</td></tr><tr><td>_step</td><td>▁▃▆█</td></tr><tr><td>neg_mape</td><td>▁</td></tr><tr><td>neg_mae</td><td>▁</td></tr><tr><td>neg_rmse</td><td>▁</td></tr></table><br/>"
     },
     "metadata": {},
     "output_type": "display_data"
    },
    {
     "data": {
      "text/plain": "<IPython.core.display.HTML object>",
      "text/html": "Synced 4 W&B file(s), 0 media file(s), 0 artifact file(s) and 0 other file(s)"
     },
     "metadata": {},
     "output_type": "display_data"
    },
    {
     "data": {
      "text/plain": "<IPython.core.display.HTML object>",
      "text/html": "\n                    <br/>Synced <strong style=\"color:#cdcd00\">copper-sweep-69</strong>: <a href=\"https://wandb.ai/devcore/Metriken%20Bauwesen%20Sweeps/runs/p7vqcjtg\" target=\"_blank\">https://wandb.ai/devcore/Metriken%20Bauwesen%20Sweeps/runs/p7vqcjtg</a><br/>\n                "
     },
     "metadata": {},
     "output_type": "display_data"
    },
    {
     "data": {
      "text/plain": "<IPython.core.display.HTML object>",
      "text/html": "\n                Tracking run with wandb version 0.11.0<br/>\n                Syncing run <strong style=\"color:#cdcd00\">vivid-sweep-70</strong> to <a href=\"https://wandb.ai\" target=\"_blank\">Weights & Biases</a> <a href=\"https://docs.wandb.com/integrations/jupyter.html\" target=\"_blank\">(Documentation)</a>.<br/>\n                Project page: <a href=\"https://wandb.ai/devcore/Metriken%20Bauwesen%20Sweeps\" target=\"_blank\">https://wandb.ai/devcore/Metriken%20Bauwesen%20Sweeps</a><br/>\n                Sweep page: <a href=\"https://wandb.ai/devcore/Metriken%20Bauwesen%20Sweeps/sweeps/u3louhfl\" target=\"_blank\">https://wandb.ai/devcore/Metriken%20Bauwesen%20Sweeps/sweeps/u3louhfl</a><br/>\nRun page: <a href=\"https://wandb.ai/devcore/Metriken%20Bauwesen%20Sweeps/runs/s8bqzvfg\" target=\"_blank\">https://wandb.ai/devcore/Metriken%20Bauwesen%20Sweeps/runs/s8bqzvfg</a><br/>\n                Run data is saved locally in <code>D:\\Development\\FHNW\\ip5-metriken-bauwesen\\src\\weight_and_bias\\wandb\\run-20210817_124811-s8bqzvfg</code><br/><br/>\n            "
     },
     "metadata": {},
     "output_type": "display_data"
    },
    {
     "data": {
      "text/plain": "<IPython.core.display.HTML object>",
      "text/html": "<br/>Waiting for W&B process to finish, PID 17004<br/>Program ended successfully."
     },
     "metadata": {},
     "output_type": "display_data"
    },
    {
     "data": {
      "text/plain": "VBox(children=(Label(value=' 0.00MB of 0.00MB uploaded (0.00MB deduped)\\r'), FloatProgress(value=1.0, max=1.0)…",
      "application/vnd.jupyter.widget-view+json": {
       "version_major": 2,
       "version_minor": 0,
       "model_id": "179b2bee8b55443aac922c7dd78c5fe2"
      }
     },
     "metadata": {},
     "output_type": "display_data"
    },
    {
     "data": {
      "text/plain": "<IPython.core.display.HTML object>",
      "text/html": "Find user logs for this run at: <code>D:\\Development\\FHNW\\ip5-metriken-bauwesen\\src\\weight_and_bias\\wandb\\run-20210817_124811-s8bqzvfg\\logs\\debug.log</code>"
     },
     "metadata": {},
     "output_type": "display_data"
    },
    {
     "data": {
      "text/plain": "<IPython.core.display.HTML object>",
      "text/html": "Find internal logs for this run at: <code>D:\\Development\\FHNW\\ip5-metriken-bauwesen\\src\\weight_and_bias\\wandb\\run-20210817_124811-s8bqzvfg\\logs\\debug-internal.log</code>"
     },
     "metadata": {},
     "output_type": "display_data"
    },
    {
     "data": {
      "text/plain": "<IPython.core.display.HTML object>",
      "text/html": "<h3>Run summary:</h3><br/><style>\n    table.wandb td:nth-child(1) { padding: 0 10px; text-align: right }\n    </style><table class=\"wandb\">\n<tr><td>r2</td><td>0.9458</td></tr><tr><td>_runtime</td><td>14</td></tr><tr><td>_timestamp</td><td>1629197305</td></tr><tr><td>_step</td><td>3</td></tr><tr><td>neg_mape</td><td>-0.1372</td></tr><tr><td>neg_mae</td><td>-710.96973</td></tr><tr><td>neg_rmse</td><td>-1400.70111</td></tr></table>"
     },
     "metadata": {},
     "output_type": "display_data"
    },
    {
     "data": {
      "text/plain": "<IPython.core.display.HTML object>",
      "text/html": "<h3>Run history:</h3><br/><style>\n    table.wandb td:nth-child(1) { padding: 0 10px; text-align: right }\n    </style><table class=\"wandb\">\n<tr><td>r2</td><td>▁</td></tr><tr><td>_runtime</td><td>▁▁▁▁</td></tr><tr><td>_timestamp</td><td>▁▁▁▁</td></tr><tr><td>_step</td><td>▁▃▆█</td></tr><tr><td>neg_mape</td><td>▁</td></tr><tr><td>neg_mae</td><td>▁</td></tr><tr><td>neg_rmse</td><td>▁</td></tr></table><br/>"
     },
     "metadata": {},
     "output_type": "display_data"
    },
    {
     "data": {
      "text/plain": "<IPython.core.display.HTML object>",
      "text/html": "Synced 4 W&B file(s), 0 media file(s), 0 artifact file(s) and 0 other file(s)"
     },
     "metadata": {},
     "output_type": "display_data"
    },
    {
     "data": {
      "text/plain": "<IPython.core.display.HTML object>",
      "text/html": "\n                    <br/>Synced <strong style=\"color:#cdcd00\">vivid-sweep-70</strong>: <a href=\"https://wandb.ai/devcore/Metriken%20Bauwesen%20Sweeps/runs/s8bqzvfg\" target=\"_blank\">https://wandb.ai/devcore/Metriken%20Bauwesen%20Sweeps/runs/s8bqzvfg</a><br/>\n                "
     },
     "metadata": {},
     "output_type": "display_data"
    },
    {
     "data": {
      "text/plain": "<IPython.core.display.HTML object>",
      "text/html": "\n                Tracking run with wandb version 0.11.0<br/>\n                Syncing run <strong style=\"color:#cdcd00\">genial-sweep-71</strong> to <a href=\"https://wandb.ai\" target=\"_blank\">Weights & Biases</a> <a href=\"https://docs.wandb.com/integrations/jupyter.html\" target=\"_blank\">(Documentation)</a>.<br/>\n                Project page: <a href=\"https://wandb.ai/devcore/Metriken%20Bauwesen%20Sweeps\" target=\"_blank\">https://wandb.ai/devcore/Metriken%20Bauwesen%20Sweeps</a><br/>\n                Sweep page: <a href=\"https://wandb.ai/devcore/Metriken%20Bauwesen%20Sweeps/sweeps/u3louhfl\" target=\"_blank\">https://wandb.ai/devcore/Metriken%20Bauwesen%20Sweeps/sweeps/u3louhfl</a><br/>\nRun page: <a href=\"https://wandb.ai/devcore/Metriken%20Bauwesen%20Sweeps/runs/exoop4v5\" target=\"_blank\">https://wandb.ai/devcore/Metriken%20Bauwesen%20Sweeps/runs/exoop4v5</a><br/>\n                Run data is saved locally in <code>D:\\Development\\FHNW\\ip5-metriken-bauwesen\\src\\weight_and_bias\\wandb\\run-20210817_124830-exoop4v5</code><br/><br/>\n            "
     },
     "metadata": {},
     "output_type": "display_data"
    },
    {
     "data": {
      "text/plain": "<IPython.core.display.HTML object>",
      "text/html": "<br/>Waiting for W&B process to finish, PID 14368<br/>Program ended successfully."
     },
     "metadata": {},
     "output_type": "display_data"
    },
    {
     "data": {
      "text/plain": "VBox(children=(Label(value=' 0.00MB of 0.00MB uploaded (0.00MB deduped)\\r'), FloatProgress(value=1.0, max=1.0)…",
      "application/vnd.jupyter.widget-view+json": {
       "version_major": 2,
       "version_minor": 0,
       "model_id": "ebb11bcbed924b64b65866befdb4694e"
      }
     },
     "metadata": {},
     "output_type": "display_data"
    },
    {
     "data": {
      "text/plain": "<IPython.core.display.HTML object>",
      "text/html": "Find user logs for this run at: <code>D:\\Development\\FHNW\\ip5-metriken-bauwesen\\src\\weight_and_bias\\wandb\\run-20210817_124830-exoop4v5\\logs\\debug.log</code>"
     },
     "metadata": {},
     "output_type": "display_data"
    },
    {
     "data": {
      "text/plain": "<IPython.core.display.HTML object>",
      "text/html": "Find internal logs for this run at: <code>D:\\Development\\FHNW\\ip5-metriken-bauwesen\\src\\weight_and_bias\\wandb\\run-20210817_124830-exoop4v5\\logs\\debug-internal.log</code>"
     },
     "metadata": {},
     "output_type": "display_data"
    },
    {
     "data": {
      "text/plain": "<IPython.core.display.HTML object>",
      "text/html": "<h3>Run summary:</h3><br/><style>\n    table.wandb td:nth-child(1) { padding: 0 10px; text-align: right }\n    </style><table class=\"wandb\">\n<tr><td>r2</td><td>0.93214</td></tr><tr><td>_runtime</td><td>14</td></tr><tr><td>_timestamp</td><td>1629197324</td></tr><tr><td>_step</td><td>3</td></tr><tr><td>neg_mape</td><td>-0.12653</td></tr><tr><td>neg_mae</td><td>-708.6426</td></tr><tr><td>neg_rmse</td><td>-1568.01655</td></tr></table>"
     },
     "metadata": {},
     "output_type": "display_data"
    },
    {
     "data": {
      "text/plain": "<IPython.core.display.HTML object>",
      "text/html": "<h3>Run history:</h3><br/><style>\n    table.wandb td:nth-child(1) { padding: 0 10px; text-align: right }\n    </style><table class=\"wandb\">\n<tr><td>r2</td><td>▁</td></tr><tr><td>_runtime</td><td>▁▁▁▁</td></tr><tr><td>_timestamp</td><td>▁▁▁▁</td></tr><tr><td>_step</td><td>▁▃▆█</td></tr><tr><td>neg_mape</td><td>▁</td></tr><tr><td>neg_mae</td><td>▁</td></tr><tr><td>neg_rmse</td><td>▁</td></tr></table><br/>"
     },
     "metadata": {},
     "output_type": "display_data"
    },
    {
     "data": {
      "text/plain": "<IPython.core.display.HTML object>",
      "text/html": "Synced 4 W&B file(s), 0 media file(s), 0 artifact file(s) and 0 other file(s)"
     },
     "metadata": {},
     "output_type": "display_data"
    },
    {
     "data": {
      "text/plain": "<IPython.core.display.HTML object>",
      "text/html": "\n                    <br/>Synced <strong style=\"color:#cdcd00\">genial-sweep-71</strong>: <a href=\"https://wandb.ai/devcore/Metriken%20Bauwesen%20Sweeps/runs/exoop4v5\" target=\"_blank\">https://wandb.ai/devcore/Metriken%20Bauwesen%20Sweeps/runs/exoop4v5</a><br/>\n                "
     },
     "metadata": {},
     "output_type": "display_data"
    },
    {
     "data": {
      "text/plain": "<IPython.core.display.HTML object>",
      "text/html": "\n                Tracking run with wandb version 0.11.0<br/>\n                Syncing run <strong style=\"color:#cdcd00\">honest-sweep-72</strong> to <a href=\"https://wandb.ai\" target=\"_blank\">Weights & Biases</a> <a href=\"https://docs.wandb.com/integrations/jupyter.html\" target=\"_blank\">(Documentation)</a>.<br/>\n                Project page: <a href=\"https://wandb.ai/devcore/Metriken%20Bauwesen%20Sweeps\" target=\"_blank\">https://wandb.ai/devcore/Metriken%20Bauwesen%20Sweeps</a><br/>\n                Sweep page: <a href=\"https://wandb.ai/devcore/Metriken%20Bauwesen%20Sweeps/sweeps/u3louhfl\" target=\"_blank\">https://wandb.ai/devcore/Metriken%20Bauwesen%20Sweeps/sweeps/u3louhfl</a><br/>\nRun page: <a href=\"https://wandb.ai/devcore/Metriken%20Bauwesen%20Sweeps/runs/xjw44w0s\" target=\"_blank\">https://wandb.ai/devcore/Metriken%20Bauwesen%20Sweeps/runs/xjw44w0s</a><br/>\n                Run data is saved locally in <code>D:\\Development\\FHNW\\ip5-metriken-bauwesen\\src\\weight_and_bias\\wandb\\run-20210817_124848-xjw44w0s</code><br/><br/>\n            "
     },
     "metadata": {},
     "output_type": "display_data"
    },
    {
     "data": {
      "text/plain": "<IPython.core.display.HTML object>",
      "text/html": "<br/>Waiting for W&B process to finish, PID 3888<br/>Program ended successfully."
     },
     "metadata": {},
     "output_type": "display_data"
    },
    {
     "data": {
      "text/plain": "VBox(children=(Label(value=' 0.00MB of 0.00MB uploaded (0.00MB deduped)\\r'), FloatProgress(value=1.0, max=1.0)…",
      "application/vnd.jupyter.widget-view+json": {
       "version_major": 2,
       "version_minor": 0,
       "model_id": "d6e229194b42427cb2a84a898adbc67d"
      }
     },
     "metadata": {},
     "output_type": "display_data"
    },
    {
     "data": {
      "text/plain": "<IPython.core.display.HTML object>",
      "text/html": "Find user logs for this run at: <code>D:\\Development\\FHNW\\ip5-metriken-bauwesen\\src\\weight_and_bias\\wandb\\run-20210817_124848-xjw44w0s\\logs\\debug.log</code>"
     },
     "metadata": {},
     "output_type": "display_data"
    },
    {
     "data": {
      "text/plain": "<IPython.core.display.HTML object>",
      "text/html": "Find internal logs for this run at: <code>D:\\Development\\FHNW\\ip5-metriken-bauwesen\\src\\weight_and_bias\\wandb\\run-20210817_124848-xjw44w0s\\logs\\debug-internal.log</code>"
     },
     "metadata": {},
     "output_type": "display_data"
    },
    {
     "data": {
      "text/plain": "<IPython.core.display.HTML object>",
      "text/html": "<h3>Run summary:</h3><br/><style>\n    table.wandb td:nth-child(1) { padding: 0 10px; text-align: right }\n    </style><table class=\"wandb\">\n<tr><td>r2</td><td>0.94518</td></tr><tr><td>_runtime</td><td>43</td></tr><tr><td>_timestamp</td><td>1629197371</td></tr><tr><td>_step</td><td>3</td></tr><tr><td>neg_mape</td><td>-0.12369</td></tr><tr><td>neg_mae</td><td>-665.99928</td></tr><tr><td>neg_rmse</td><td>-1395.0234</td></tr></table>"
     },
     "metadata": {},
     "output_type": "display_data"
    },
    {
     "data": {
      "text/plain": "<IPython.core.display.HTML object>",
      "text/html": "<h3>Run history:</h3><br/><style>\n    table.wandb td:nth-child(1) { padding: 0 10px; text-align: right }\n    </style><table class=\"wandb\">\n<tr><td>r2</td><td>▁</td></tr><tr><td>_runtime</td><td>▁▁▁▁</td></tr><tr><td>_timestamp</td><td>▁▁▁▁</td></tr><tr><td>_step</td><td>▁▃▆█</td></tr><tr><td>neg_mape</td><td>▁</td></tr><tr><td>neg_mae</td><td>▁</td></tr><tr><td>neg_rmse</td><td>▁</td></tr></table><br/>"
     },
     "metadata": {},
     "output_type": "display_data"
    },
    {
     "data": {
      "text/plain": "<IPython.core.display.HTML object>",
      "text/html": "Synced 4 W&B file(s), 0 media file(s), 0 artifact file(s) and 0 other file(s)"
     },
     "metadata": {},
     "output_type": "display_data"
    },
    {
     "data": {
      "text/plain": "<IPython.core.display.HTML object>",
      "text/html": "\n                    <br/>Synced <strong style=\"color:#cdcd00\">honest-sweep-72</strong>: <a href=\"https://wandb.ai/devcore/Metriken%20Bauwesen%20Sweeps/runs/xjw44w0s\" target=\"_blank\">https://wandb.ai/devcore/Metriken%20Bauwesen%20Sweeps/runs/xjw44w0s</a><br/>\n                "
     },
     "metadata": {},
     "output_type": "display_data"
    },
    {
     "data": {
      "text/plain": "<IPython.core.display.HTML object>",
      "text/html": "\n                Tracking run with wandb version 0.11.0<br/>\n                Syncing run <strong style=\"color:#cdcd00\">dainty-sweep-73</strong> to <a href=\"https://wandb.ai\" target=\"_blank\">Weights & Biases</a> <a href=\"https://docs.wandb.com/integrations/jupyter.html\" target=\"_blank\">(Documentation)</a>.<br/>\n                Project page: <a href=\"https://wandb.ai/devcore/Metriken%20Bauwesen%20Sweeps\" target=\"_blank\">https://wandb.ai/devcore/Metriken%20Bauwesen%20Sweeps</a><br/>\n                Sweep page: <a href=\"https://wandb.ai/devcore/Metriken%20Bauwesen%20Sweeps/sweeps/u3louhfl\" target=\"_blank\">https://wandb.ai/devcore/Metriken%20Bauwesen%20Sweeps/sweeps/u3louhfl</a><br/>\nRun page: <a href=\"https://wandb.ai/devcore/Metriken%20Bauwesen%20Sweeps/runs/r39ez4yf\" target=\"_blank\">https://wandb.ai/devcore/Metriken%20Bauwesen%20Sweeps/runs/r39ez4yf</a><br/>\n                Run data is saved locally in <code>D:\\Development\\FHNW\\ip5-metriken-bauwesen\\src\\weight_and_bias\\wandb\\run-20210817_124936-r39ez4yf</code><br/><br/>\n            "
     },
     "metadata": {},
     "output_type": "display_data"
    },
    {
     "data": {
      "text/plain": "<IPython.core.display.HTML object>",
      "text/html": "<br/>Waiting for W&B process to finish, PID 12740<br/>Program ended successfully."
     },
     "metadata": {},
     "output_type": "display_data"
    },
    {
     "data": {
      "text/plain": "VBox(children=(Label(value=' 0.00MB of 0.00MB uploaded (0.00MB deduped)\\r'), FloatProgress(value=1.0, max=1.0)…",
      "application/vnd.jupyter.widget-view+json": {
       "version_major": 2,
       "version_minor": 0,
       "model_id": "1528cc336dbd41d585c628942e56fc44"
      }
     },
     "metadata": {},
     "output_type": "display_data"
    },
    {
     "data": {
      "text/plain": "<IPython.core.display.HTML object>",
      "text/html": "Find user logs for this run at: <code>D:\\Development\\FHNW\\ip5-metriken-bauwesen\\src\\weight_and_bias\\wandb\\run-20210817_124936-r39ez4yf\\logs\\debug.log</code>"
     },
     "metadata": {},
     "output_type": "display_data"
    },
    {
     "data": {
      "text/plain": "<IPython.core.display.HTML object>",
      "text/html": "Find internal logs for this run at: <code>D:\\Development\\FHNW\\ip5-metriken-bauwesen\\src\\weight_and_bias\\wandb\\run-20210817_124936-r39ez4yf\\logs\\debug-internal.log</code>"
     },
     "metadata": {},
     "output_type": "display_data"
    },
    {
     "data": {
      "text/plain": "<IPython.core.display.HTML object>",
      "text/html": "<h3>Run summary:</h3><br/><style>\n    table.wandb td:nth-child(1) { padding: 0 10px; text-align: right }\n    </style><table class=\"wandb\">\n<tr><td>r2</td><td>0.9509</td></tr><tr><td>_runtime</td><td>62</td></tr><tr><td>_timestamp</td><td>1629197438</td></tr><tr><td>_step</td><td>3</td></tr><tr><td>neg_mape</td><td>-0.12407</td></tr><tr><td>neg_mae</td><td>-661.40378</td></tr><tr><td>neg_rmse</td><td>-1324.27357</td></tr></table>"
     },
     "metadata": {},
     "output_type": "display_data"
    },
    {
     "data": {
      "text/plain": "<IPython.core.display.HTML object>",
      "text/html": "<h3>Run history:</h3><br/><style>\n    table.wandb td:nth-child(1) { padding: 0 10px; text-align: right }\n    </style><table class=\"wandb\">\n<tr><td>r2</td><td>▁</td></tr><tr><td>_runtime</td><td>▁▁▁▁</td></tr><tr><td>_timestamp</td><td>▁▁▁▁</td></tr><tr><td>_step</td><td>▁▃▆█</td></tr><tr><td>neg_mape</td><td>▁</td></tr><tr><td>neg_mae</td><td>▁</td></tr><tr><td>neg_rmse</td><td>▁</td></tr></table><br/>"
     },
     "metadata": {},
     "output_type": "display_data"
    },
    {
     "data": {
      "text/plain": "<IPython.core.display.HTML object>",
      "text/html": "Synced 4 W&B file(s), 0 media file(s), 0 artifact file(s) and 0 other file(s)"
     },
     "metadata": {},
     "output_type": "display_data"
    },
    {
     "data": {
      "text/plain": "<IPython.core.display.HTML object>",
      "text/html": "\n                    <br/>Synced <strong style=\"color:#cdcd00\">dainty-sweep-73</strong>: <a href=\"https://wandb.ai/devcore/Metriken%20Bauwesen%20Sweeps/runs/r39ez4yf\" target=\"_blank\">https://wandb.ai/devcore/Metriken%20Bauwesen%20Sweeps/runs/r39ez4yf</a><br/>\n                "
     },
     "metadata": {},
     "output_type": "display_data"
    },
    {
     "data": {
      "text/plain": "<IPython.core.display.HTML object>",
      "text/html": "\n                Tracking run with wandb version 0.11.0<br/>\n                Syncing run <strong style=\"color:#cdcd00\">wise-sweep-74</strong> to <a href=\"https://wandb.ai\" target=\"_blank\">Weights & Biases</a> <a href=\"https://docs.wandb.com/integrations/jupyter.html\" target=\"_blank\">(Documentation)</a>.<br/>\n                Project page: <a href=\"https://wandb.ai/devcore/Metriken%20Bauwesen%20Sweeps\" target=\"_blank\">https://wandb.ai/devcore/Metriken%20Bauwesen%20Sweeps</a><br/>\n                Sweep page: <a href=\"https://wandb.ai/devcore/Metriken%20Bauwesen%20Sweeps/sweeps/u3louhfl\" target=\"_blank\">https://wandb.ai/devcore/Metriken%20Bauwesen%20Sweeps/sweeps/u3louhfl</a><br/>\nRun page: <a href=\"https://wandb.ai/devcore/Metriken%20Bauwesen%20Sweeps/runs/32r783uv\" target=\"_blank\">https://wandb.ai/devcore/Metriken%20Bauwesen%20Sweeps/runs/32r783uv</a><br/>\n                Run data is saved locally in <code>D:\\Development\\FHNW\\ip5-metriken-bauwesen\\src\\weight_and_bias\\wandb\\run-20210817_125043-32r783uv</code><br/><br/>\n            "
     },
     "metadata": {},
     "output_type": "display_data"
    },
    {
     "data": {
      "text/plain": "<IPython.core.display.HTML object>",
      "text/html": "<br/>Waiting for W&B process to finish, PID 17352<br/>Program ended successfully."
     },
     "metadata": {},
     "output_type": "display_data"
    },
    {
     "data": {
      "text/plain": "VBox(children=(Label(value=' 0.00MB of 0.00MB uploaded (0.00MB deduped)\\r'), FloatProgress(value=1.0, max=1.0)…",
      "application/vnd.jupyter.widget-view+json": {
       "version_major": 2,
       "version_minor": 0,
       "model_id": "17d2d1eee1ca4da1a02edae48053126b"
      }
     },
     "metadata": {},
     "output_type": "display_data"
    },
    {
     "data": {
      "text/plain": "<IPython.core.display.HTML object>",
      "text/html": "Find user logs for this run at: <code>D:\\Development\\FHNW\\ip5-metriken-bauwesen\\src\\weight_and_bias\\wandb\\run-20210817_125043-32r783uv\\logs\\debug.log</code>"
     },
     "metadata": {},
     "output_type": "display_data"
    },
    {
     "data": {
      "text/plain": "<IPython.core.display.HTML object>",
      "text/html": "Find internal logs for this run at: <code>D:\\Development\\FHNW\\ip5-metriken-bauwesen\\src\\weight_and_bias\\wandb\\run-20210817_125043-32r783uv\\logs\\debug-internal.log</code>"
     },
     "metadata": {},
     "output_type": "display_data"
    },
    {
     "data": {
      "text/plain": "<IPython.core.display.HTML object>",
      "text/html": "<h3>Run summary:</h3><br/><style>\n    table.wandb td:nth-child(1) { padding: 0 10px; text-align: right }\n    </style><table class=\"wandb\">\n<tr><td>r2</td><td>0.94819</td></tr><tr><td>_runtime</td><td>43</td></tr><tr><td>_timestamp</td><td>1629197486</td></tr><tr><td>_step</td><td>3</td></tr><tr><td>neg_mape</td><td>-0.13802</td></tr><tr><td>neg_mae</td><td>-696.72923</td></tr><tr><td>neg_rmse</td><td>-1348.03452</td></tr></table>"
     },
     "metadata": {},
     "output_type": "display_data"
    },
    {
     "data": {
      "text/plain": "<IPython.core.display.HTML object>",
      "text/html": "<h3>Run history:</h3><br/><style>\n    table.wandb td:nth-child(1) { padding: 0 10px; text-align: right }\n    </style><table class=\"wandb\">\n<tr><td>r2</td><td>▁</td></tr><tr><td>_runtime</td><td>▁▁▁▁</td></tr><tr><td>_timestamp</td><td>▁▁▁▁</td></tr><tr><td>_step</td><td>▁▃▆█</td></tr><tr><td>neg_mape</td><td>▁</td></tr><tr><td>neg_mae</td><td>▁</td></tr><tr><td>neg_rmse</td><td>▁</td></tr></table><br/>"
     },
     "metadata": {},
     "output_type": "display_data"
    },
    {
     "data": {
      "text/plain": "<IPython.core.display.HTML object>",
      "text/html": "Synced 4 W&B file(s), 0 media file(s), 0 artifact file(s) and 0 other file(s)"
     },
     "metadata": {},
     "output_type": "display_data"
    },
    {
     "data": {
      "text/plain": "<IPython.core.display.HTML object>",
      "text/html": "\n                    <br/>Synced <strong style=\"color:#cdcd00\">wise-sweep-74</strong>: <a href=\"https://wandb.ai/devcore/Metriken%20Bauwesen%20Sweeps/runs/32r783uv\" target=\"_blank\">https://wandb.ai/devcore/Metriken%20Bauwesen%20Sweeps/runs/32r783uv</a><br/>\n                "
     },
     "metadata": {},
     "output_type": "display_data"
    },
    {
     "data": {
      "text/plain": "<IPython.core.display.HTML object>",
      "text/html": "\n                Tracking run with wandb version 0.11.0<br/>\n                Syncing run <strong style=\"color:#cdcd00\">super-sweep-75</strong> to <a href=\"https://wandb.ai\" target=\"_blank\">Weights & Biases</a> <a href=\"https://docs.wandb.com/integrations/jupyter.html\" target=\"_blank\">(Documentation)</a>.<br/>\n                Project page: <a href=\"https://wandb.ai/devcore/Metriken%20Bauwesen%20Sweeps\" target=\"_blank\">https://wandb.ai/devcore/Metriken%20Bauwesen%20Sweeps</a><br/>\n                Sweep page: <a href=\"https://wandb.ai/devcore/Metriken%20Bauwesen%20Sweeps/sweeps/u3louhfl\" target=\"_blank\">https://wandb.ai/devcore/Metriken%20Bauwesen%20Sweeps/sweeps/u3louhfl</a><br/>\nRun page: <a href=\"https://wandb.ai/devcore/Metriken%20Bauwesen%20Sweeps/runs/v1zukagr\" target=\"_blank\">https://wandb.ai/devcore/Metriken%20Bauwesen%20Sweeps/runs/v1zukagr</a><br/>\n                Run data is saved locally in <code>D:\\Development\\FHNW\\ip5-metriken-bauwesen\\src\\weight_and_bias\\wandb\\run-20210817_125130-v1zukagr</code><br/><br/>\n            "
     },
     "metadata": {},
     "output_type": "display_data"
    },
    {
     "data": {
      "text/plain": "<IPython.core.display.HTML object>",
      "text/html": "<br/>Waiting for W&B process to finish, PID 21532<br/>Program ended successfully."
     },
     "metadata": {},
     "output_type": "display_data"
    },
    {
     "data": {
      "text/plain": "VBox(children=(Label(value=' 0.00MB of 0.00MB uploaded (0.00MB deduped)\\r'), FloatProgress(value=1.0, max=1.0)…",
      "application/vnd.jupyter.widget-view+json": {
       "version_major": 2,
       "version_minor": 0,
       "model_id": "3eb45d793ca443ba81950717d142c241"
      }
     },
     "metadata": {},
     "output_type": "display_data"
    },
    {
     "data": {
      "text/plain": "<IPython.core.display.HTML object>",
      "text/html": "Find user logs for this run at: <code>D:\\Development\\FHNW\\ip5-metriken-bauwesen\\src\\weight_and_bias\\wandb\\run-20210817_125130-v1zukagr\\logs\\debug.log</code>"
     },
     "metadata": {},
     "output_type": "display_data"
    },
    {
     "data": {
      "text/plain": "<IPython.core.display.HTML object>",
      "text/html": "Find internal logs for this run at: <code>D:\\Development\\FHNW\\ip5-metriken-bauwesen\\src\\weight_and_bias\\wandb\\run-20210817_125130-v1zukagr\\logs\\debug-internal.log</code>"
     },
     "metadata": {},
     "output_type": "display_data"
    },
    {
     "data": {
      "text/plain": "<IPython.core.display.HTML object>",
      "text/html": "<h3>Run summary:</h3><br/><style>\n    table.wandb td:nth-child(1) { padding: 0 10px; text-align: right }\n    </style><table class=\"wandb\">\n<tr><td>r2</td><td>0.94592</td></tr><tr><td>_runtime</td><td>36</td></tr><tr><td>_timestamp</td><td>1629197526</td></tr><tr><td>_step</td><td>3</td></tr><tr><td>neg_mape</td><td>-0.12519</td></tr><tr><td>neg_mae</td><td>-669.40185</td></tr><tr><td>neg_rmse</td><td>-1393.09286</td></tr></table>"
     },
     "metadata": {},
     "output_type": "display_data"
    },
    {
     "data": {
      "text/plain": "<IPython.core.display.HTML object>",
      "text/html": "<h3>Run history:</h3><br/><style>\n    table.wandb td:nth-child(1) { padding: 0 10px; text-align: right }\n    </style><table class=\"wandb\">\n<tr><td>r2</td><td>▁</td></tr><tr><td>_runtime</td><td>▁▁▁▁</td></tr><tr><td>_timestamp</td><td>▁▁▁▁</td></tr><tr><td>_step</td><td>▁▃▆█</td></tr><tr><td>neg_mape</td><td>▁</td></tr><tr><td>neg_mae</td><td>▁</td></tr><tr><td>neg_rmse</td><td>▁</td></tr></table><br/>"
     },
     "metadata": {},
     "output_type": "display_data"
    },
    {
     "data": {
      "text/plain": "<IPython.core.display.HTML object>",
      "text/html": "Synced 4 W&B file(s), 0 media file(s), 0 artifact file(s) and 0 other file(s)"
     },
     "metadata": {},
     "output_type": "display_data"
    },
    {
     "data": {
      "text/plain": "<IPython.core.display.HTML object>",
      "text/html": "\n                    <br/>Synced <strong style=\"color:#cdcd00\">super-sweep-75</strong>: <a href=\"https://wandb.ai/devcore/Metriken%20Bauwesen%20Sweeps/runs/v1zukagr\" target=\"_blank\">https://wandb.ai/devcore/Metriken%20Bauwesen%20Sweeps/runs/v1zukagr</a><br/>\n                "
     },
     "metadata": {},
     "output_type": "display_data"
    },
    {
     "data": {
      "text/plain": "<IPython.core.display.HTML object>",
      "text/html": "\n                Tracking run with wandb version 0.11.0<br/>\n                Syncing run <strong style=\"color:#cdcd00\">radiant-sweep-76</strong> to <a href=\"https://wandb.ai\" target=\"_blank\">Weights & Biases</a> <a href=\"https://docs.wandb.com/integrations/jupyter.html\" target=\"_blank\">(Documentation)</a>.<br/>\n                Project page: <a href=\"https://wandb.ai/devcore/Metriken%20Bauwesen%20Sweeps\" target=\"_blank\">https://wandb.ai/devcore/Metriken%20Bauwesen%20Sweeps</a><br/>\n                Sweep page: <a href=\"https://wandb.ai/devcore/Metriken%20Bauwesen%20Sweeps/sweeps/u3louhfl\" target=\"_blank\">https://wandb.ai/devcore/Metriken%20Bauwesen%20Sweeps/sweeps/u3louhfl</a><br/>\nRun page: <a href=\"https://wandb.ai/devcore/Metriken%20Bauwesen%20Sweeps/runs/58kfdfr2\" target=\"_blank\">https://wandb.ai/devcore/Metriken%20Bauwesen%20Sweeps/runs/58kfdfr2</a><br/>\n                Run data is saved locally in <code>D:\\Development\\FHNW\\ip5-metriken-bauwesen\\src\\weight_and_bias\\wandb\\run-20210817_125210-58kfdfr2</code><br/><br/>\n            "
     },
     "metadata": {},
     "output_type": "display_data"
    },
    {
     "data": {
      "text/plain": "<IPython.core.display.HTML object>",
      "text/html": "<br/>Waiting for W&B process to finish, PID 2436<br/>Program ended successfully."
     },
     "metadata": {},
     "output_type": "display_data"
    },
    {
     "data": {
      "text/plain": "VBox(children=(Label(value=' 0.00MB of 0.00MB uploaded (0.00MB deduped)\\r'), FloatProgress(value=1.0, max=1.0)…",
      "application/vnd.jupyter.widget-view+json": {
       "version_major": 2,
       "version_minor": 0,
       "model_id": "c4b46a78afa046408aeeb611dee6e3e7"
      }
     },
     "metadata": {},
     "output_type": "display_data"
    },
    {
     "data": {
      "text/plain": "<IPython.core.display.HTML object>",
      "text/html": "Find user logs for this run at: <code>D:\\Development\\FHNW\\ip5-metriken-bauwesen\\src\\weight_and_bias\\wandb\\run-20210817_125210-58kfdfr2\\logs\\debug.log</code>"
     },
     "metadata": {},
     "output_type": "display_data"
    },
    {
     "data": {
      "text/plain": "<IPython.core.display.HTML object>",
      "text/html": "Find internal logs for this run at: <code>D:\\Development\\FHNW\\ip5-metriken-bauwesen\\src\\weight_and_bias\\wandb\\run-20210817_125210-58kfdfr2\\logs\\debug-internal.log</code>"
     },
     "metadata": {},
     "output_type": "display_data"
    },
    {
     "data": {
      "text/plain": "<IPython.core.display.HTML object>",
      "text/html": "<h3>Run summary:</h3><br/><style>\n    table.wandb td:nth-child(1) { padding: 0 10px; text-align: right }\n    </style><table class=\"wandb\">\n<tr><td>r2</td><td>0.94776</td></tr><tr><td>_runtime</td><td>18</td></tr><tr><td>_timestamp</td><td>1629197548</td></tr><tr><td>_step</td><td>3</td></tr><tr><td>neg_mape</td><td>-0.13511</td></tr><tr><td>neg_mae</td><td>-713.91444</td></tr><tr><td>neg_rmse</td><td>-1382.08495</td></tr></table>"
     },
     "metadata": {},
     "output_type": "display_data"
    },
    {
     "data": {
      "text/plain": "<IPython.core.display.HTML object>",
      "text/html": "<h3>Run history:</h3><br/><style>\n    table.wandb td:nth-child(1) { padding: 0 10px; text-align: right }\n    </style><table class=\"wandb\">\n<tr><td>r2</td><td>▁</td></tr><tr><td>_runtime</td><td>▁▁▁▁</td></tr><tr><td>_timestamp</td><td>▁▁▁▁</td></tr><tr><td>_step</td><td>▁▃▆█</td></tr><tr><td>neg_mape</td><td>▁</td></tr><tr><td>neg_mae</td><td>▁</td></tr><tr><td>neg_rmse</td><td>▁</td></tr></table><br/>"
     },
     "metadata": {},
     "output_type": "display_data"
    },
    {
     "data": {
      "text/plain": "<IPython.core.display.HTML object>",
      "text/html": "Synced 4 W&B file(s), 0 media file(s), 0 artifact file(s) and 0 other file(s)"
     },
     "metadata": {},
     "output_type": "display_data"
    },
    {
     "data": {
      "text/plain": "<IPython.core.display.HTML object>",
      "text/html": "\n                    <br/>Synced <strong style=\"color:#cdcd00\">radiant-sweep-76</strong>: <a href=\"https://wandb.ai/devcore/Metriken%20Bauwesen%20Sweeps/runs/58kfdfr2\" target=\"_blank\">https://wandb.ai/devcore/Metriken%20Bauwesen%20Sweeps/runs/58kfdfr2</a><br/>\n                "
     },
     "metadata": {},
     "output_type": "display_data"
    },
    {
     "data": {
      "text/plain": "<IPython.core.display.HTML object>",
      "text/html": "\n                Tracking run with wandb version 0.11.0<br/>\n                Syncing run <strong style=\"color:#cdcd00\">solar-sweep-77</strong> to <a href=\"https://wandb.ai\" target=\"_blank\">Weights & Biases</a> <a href=\"https://docs.wandb.com/integrations/jupyter.html\" target=\"_blank\">(Documentation)</a>.<br/>\n                Project page: <a href=\"https://wandb.ai/devcore/Metriken%20Bauwesen%20Sweeps\" target=\"_blank\">https://wandb.ai/devcore/Metriken%20Bauwesen%20Sweeps</a><br/>\n                Sweep page: <a href=\"https://wandb.ai/devcore/Metriken%20Bauwesen%20Sweeps/sweeps/u3louhfl\" target=\"_blank\">https://wandb.ai/devcore/Metriken%20Bauwesen%20Sweeps/sweeps/u3louhfl</a><br/>\nRun page: <a href=\"https://wandb.ai/devcore/Metriken%20Bauwesen%20Sweeps/runs/x1hzsuco\" target=\"_blank\">https://wandb.ai/devcore/Metriken%20Bauwesen%20Sweeps/runs/x1hzsuco</a><br/>\n                Run data is saved locally in <code>D:\\Development\\FHNW\\ip5-metriken-bauwesen\\src\\weight_and_bias\\wandb\\run-20210817_125233-x1hzsuco</code><br/><br/>\n            "
     },
     "metadata": {},
     "output_type": "display_data"
    },
    {
     "data": {
      "text/plain": "<IPython.core.display.HTML object>",
      "text/html": "<br/>Waiting for W&B process to finish, PID 6756<br/>Program ended successfully."
     },
     "metadata": {},
     "output_type": "display_data"
    },
    {
     "data": {
      "text/plain": "VBox(children=(Label(value=' 0.00MB of 0.00MB uploaded (0.00MB deduped)\\r'), FloatProgress(value=1.0, max=1.0)…",
      "application/vnd.jupyter.widget-view+json": {
       "version_major": 2,
       "version_minor": 0,
       "model_id": "2c0038819dc447d38b15e4f5a54eb224"
      }
     },
     "metadata": {},
     "output_type": "display_data"
    },
    {
     "data": {
      "text/plain": "<IPython.core.display.HTML object>",
      "text/html": "Find user logs for this run at: <code>D:\\Development\\FHNW\\ip5-metriken-bauwesen\\src\\weight_and_bias\\wandb\\run-20210817_125233-x1hzsuco\\logs\\debug.log</code>"
     },
     "metadata": {},
     "output_type": "display_data"
    },
    {
     "data": {
      "text/plain": "<IPython.core.display.HTML object>",
      "text/html": "Find internal logs for this run at: <code>D:\\Development\\FHNW\\ip5-metriken-bauwesen\\src\\weight_and_bias\\wandb\\run-20210817_125233-x1hzsuco\\logs\\debug-internal.log</code>"
     },
     "metadata": {},
     "output_type": "display_data"
    },
    {
     "data": {
      "text/plain": "<IPython.core.display.HTML object>",
      "text/html": "<h3>Run summary:</h3><br/><style>\n    table.wandb td:nth-child(1) { padding: 0 10px; text-align: right }\n    </style><table class=\"wandb\">\n<tr><td>r2</td><td>0.94576</td></tr><tr><td>_runtime</td><td>25</td></tr><tr><td>_timestamp</td><td>1629197578</td></tr><tr><td>_step</td><td>3</td></tr><tr><td>neg_mape</td><td>-0.13558</td></tr><tr><td>neg_mae</td><td>-704.67494</td></tr><tr><td>neg_rmse</td><td>-1396.25016</td></tr></table>"
     },
     "metadata": {},
     "output_type": "display_data"
    },
    {
     "data": {
      "text/plain": "<IPython.core.display.HTML object>",
      "text/html": "<h3>Run history:</h3><br/><style>\n    table.wandb td:nth-child(1) { padding: 0 10px; text-align: right }\n    </style><table class=\"wandb\">\n<tr><td>r2</td><td>▁</td></tr><tr><td>_runtime</td><td>▁▁▁▁</td></tr><tr><td>_timestamp</td><td>▁▁▁▁</td></tr><tr><td>_step</td><td>▁▃▆█</td></tr><tr><td>neg_mape</td><td>▁</td></tr><tr><td>neg_mae</td><td>▁</td></tr><tr><td>neg_rmse</td><td>▁</td></tr></table><br/>"
     },
     "metadata": {},
     "output_type": "display_data"
    },
    {
     "data": {
      "text/plain": "<IPython.core.display.HTML object>",
      "text/html": "Synced 4 W&B file(s), 0 media file(s), 0 artifact file(s) and 0 other file(s)"
     },
     "metadata": {},
     "output_type": "display_data"
    },
    {
     "data": {
      "text/plain": "<IPython.core.display.HTML object>",
      "text/html": "\n                    <br/>Synced <strong style=\"color:#cdcd00\">solar-sweep-77</strong>: <a href=\"https://wandb.ai/devcore/Metriken%20Bauwesen%20Sweeps/runs/x1hzsuco\" target=\"_blank\">https://wandb.ai/devcore/Metriken%20Bauwesen%20Sweeps/runs/x1hzsuco</a><br/>\n                "
     },
     "metadata": {},
     "output_type": "display_data"
    },
    {
     "data": {
      "text/plain": "<IPython.core.display.HTML object>",
      "text/html": "\n                Tracking run with wandb version 0.11.0<br/>\n                Syncing run <strong style=\"color:#cdcd00\">usual-sweep-78</strong> to <a href=\"https://wandb.ai\" target=\"_blank\">Weights & Biases</a> <a href=\"https://docs.wandb.com/integrations/jupyter.html\" target=\"_blank\">(Documentation)</a>.<br/>\n                Project page: <a href=\"https://wandb.ai/devcore/Metriken%20Bauwesen%20Sweeps\" target=\"_blank\">https://wandb.ai/devcore/Metriken%20Bauwesen%20Sweeps</a><br/>\n                Sweep page: <a href=\"https://wandb.ai/devcore/Metriken%20Bauwesen%20Sweeps/sweeps/u3louhfl\" target=\"_blank\">https://wandb.ai/devcore/Metriken%20Bauwesen%20Sweeps/sweeps/u3louhfl</a><br/>\nRun page: <a href=\"https://wandb.ai/devcore/Metriken%20Bauwesen%20Sweeps/runs/5qn12qto\" target=\"_blank\">https://wandb.ai/devcore/Metriken%20Bauwesen%20Sweeps/runs/5qn12qto</a><br/>\n                Run data is saved locally in <code>D:\\Development\\FHNW\\ip5-metriken-bauwesen\\src\\weight_and_bias\\wandb\\run-20210817_125303-5qn12qto</code><br/><br/>\n            "
     },
     "metadata": {},
     "output_type": "display_data"
    },
    {
     "data": {
      "text/plain": "<IPython.core.display.HTML object>",
      "text/html": "<br/>Waiting for W&B process to finish, PID 16192<br/>Program ended successfully."
     },
     "metadata": {},
     "output_type": "display_data"
    },
    {
     "data": {
      "text/plain": "VBox(children=(Label(value=' 0.00MB of 0.00MB uploaded (0.00MB deduped)\\r'), FloatProgress(value=1.0, max=1.0)…",
      "application/vnd.jupyter.widget-view+json": {
       "version_major": 2,
       "version_minor": 0,
       "model_id": "99ba8f4a92d240789a1d2723842a7e35"
      }
     },
     "metadata": {},
     "output_type": "display_data"
    },
    {
     "data": {
      "text/plain": "<IPython.core.display.HTML object>",
      "text/html": "Find user logs for this run at: <code>D:\\Development\\FHNW\\ip5-metriken-bauwesen\\src\\weight_and_bias\\wandb\\run-20210817_125303-5qn12qto\\logs\\debug.log</code>"
     },
     "metadata": {},
     "output_type": "display_data"
    },
    {
     "data": {
      "text/plain": "<IPython.core.display.HTML object>",
      "text/html": "Find internal logs for this run at: <code>D:\\Development\\FHNW\\ip5-metriken-bauwesen\\src\\weight_and_bias\\wandb\\run-20210817_125303-5qn12qto\\logs\\debug-internal.log</code>"
     },
     "metadata": {},
     "output_type": "display_data"
    },
    {
     "data": {
      "text/plain": "<IPython.core.display.HTML object>",
      "text/html": "<h3>Run summary:</h3><br/><style>\n    table.wandb td:nth-child(1) { padding: 0 10px; text-align: right }\n    </style><table class=\"wandb\">\n<tr><td>r2</td><td>0.95148</td></tr><tr><td>_runtime</td><td>43</td></tr><tr><td>_timestamp</td><td>1629197626</td></tr><tr><td>_step</td><td>3</td></tr><tr><td>neg_mape</td><td>-0.12444</td></tr><tr><td>neg_mae</td><td>-654.50577</td></tr><tr><td>neg_rmse</td><td>-1313.3268</td></tr></table>"
     },
     "metadata": {},
     "output_type": "display_data"
    },
    {
     "data": {
      "text/plain": "<IPython.core.display.HTML object>",
      "text/html": "<h3>Run history:</h3><br/><style>\n    table.wandb td:nth-child(1) { padding: 0 10px; text-align: right }\n    </style><table class=\"wandb\">\n<tr><td>r2</td><td>▁</td></tr><tr><td>_runtime</td><td>▁▁▁▁</td></tr><tr><td>_timestamp</td><td>▁▁▁▁</td></tr><tr><td>_step</td><td>▁▃▆█</td></tr><tr><td>neg_mape</td><td>▁</td></tr><tr><td>neg_mae</td><td>▁</td></tr><tr><td>neg_rmse</td><td>▁</td></tr></table><br/>"
     },
     "metadata": {},
     "output_type": "display_data"
    },
    {
     "data": {
      "text/plain": "<IPython.core.display.HTML object>",
      "text/html": "Synced 4 W&B file(s), 0 media file(s), 0 artifact file(s) and 0 other file(s)"
     },
     "metadata": {},
     "output_type": "display_data"
    },
    {
     "data": {
      "text/plain": "<IPython.core.display.HTML object>",
      "text/html": "\n                    <br/>Synced <strong style=\"color:#cdcd00\">usual-sweep-78</strong>: <a href=\"https://wandb.ai/devcore/Metriken%20Bauwesen%20Sweeps/runs/5qn12qto\" target=\"_blank\">https://wandb.ai/devcore/Metriken%20Bauwesen%20Sweeps/runs/5qn12qto</a><br/>\n                "
     },
     "metadata": {},
     "output_type": "display_data"
    },
    {
     "data": {
      "text/plain": "<IPython.core.display.HTML object>",
      "text/html": "\n                Tracking run with wandb version 0.11.0<br/>\n                Syncing run <strong style=\"color:#cdcd00\">sweepy-sweep-79</strong> to <a href=\"https://wandb.ai\" target=\"_blank\">Weights & Biases</a> <a href=\"https://docs.wandb.com/integrations/jupyter.html\" target=\"_blank\">(Documentation)</a>.<br/>\n                Project page: <a href=\"https://wandb.ai/devcore/Metriken%20Bauwesen%20Sweeps\" target=\"_blank\">https://wandb.ai/devcore/Metriken%20Bauwesen%20Sweeps</a><br/>\n                Sweep page: <a href=\"https://wandb.ai/devcore/Metriken%20Bauwesen%20Sweeps/sweeps/u3louhfl\" target=\"_blank\">https://wandb.ai/devcore/Metriken%20Bauwesen%20Sweeps/sweeps/u3louhfl</a><br/>\nRun page: <a href=\"https://wandb.ai/devcore/Metriken%20Bauwesen%20Sweeps/runs/4xxdldyw\" target=\"_blank\">https://wandb.ai/devcore/Metriken%20Bauwesen%20Sweeps/runs/4xxdldyw</a><br/>\n                Run data is saved locally in <code>D:\\Development\\FHNW\\ip5-metriken-bauwesen\\src\\weight_and_bias\\wandb\\run-20210817_125351-4xxdldyw</code><br/><br/>\n            "
     },
     "metadata": {},
     "output_type": "display_data"
    },
    {
     "data": {
      "text/plain": "<IPython.core.display.HTML object>",
      "text/html": "<br/>Waiting for W&B process to finish, PID 7960<br/>Program ended successfully."
     },
     "metadata": {},
     "output_type": "display_data"
    },
    {
     "data": {
      "text/plain": "VBox(children=(Label(value=' 0.00MB of 0.00MB uploaded (0.00MB deduped)\\r'), FloatProgress(value=1.0, max=1.0)…",
      "application/vnd.jupyter.widget-view+json": {
       "version_major": 2,
       "version_minor": 0,
       "model_id": "2312f65ff1514990a93f15037b38301a"
      }
     },
     "metadata": {},
     "output_type": "display_data"
    },
    {
     "data": {
      "text/plain": "<IPython.core.display.HTML object>",
      "text/html": "Find user logs for this run at: <code>D:\\Development\\FHNW\\ip5-metriken-bauwesen\\src\\weight_and_bias\\wandb\\run-20210817_125351-4xxdldyw\\logs\\debug.log</code>"
     },
     "metadata": {},
     "output_type": "display_data"
    },
    {
     "data": {
      "text/plain": "<IPython.core.display.HTML object>",
      "text/html": "Find internal logs for this run at: <code>D:\\Development\\FHNW\\ip5-metriken-bauwesen\\src\\weight_and_bias\\wandb\\run-20210817_125351-4xxdldyw\\logs\\debug-internal.log</code>"
     },
     "metadata": {},
     "output_type": "display_data"
    },
    {
     "data": {
      "text/plain": "<IPython.core.display.HTML object>",
      "text/html": "<h3>Run summary:</h3><br/><style>\n    table.wandb td:nth-child(1) { padding: 0 10px; text-align: right }\n    </style><table class=\"wandb\">\n<tr><td>r2</td><td>0.95197</td></tr><tr><td>_runtime</td><td>19</td></tr><tr><td>_timestamp</td><td>1629197650</td></tr><tr><td>_step</td><td>3</td></tr><tr><td>neg_mape</td><td>-0.13311</td></tr><tr><td>neg_mae</td><td>-667.00101</td></tr><tr><td>neg_rmse</td><td>-1312.85709</td></tr></table>"
     },
     "metadata": {},
     "output_type": "display_data"
    },
    {
     "data": {
      "text/plain": "<IPython.core.display.HTML object>",
      "text/html": "<h3>Run history:</h3><br/><style>\n    table.wandb td:nth-child(1) { padding: 0 10px; text-align: right }\n    </style><table class=\"wandb\">\n<tr><td>r2</td><td>▁</td></tr><tr><td>_runtime</td><td>▁▁▁▁</td></tr><tr><td>_timestamp</td><td>▁▁▁▁</td></tr><tr><td>_step</td><td>▁▃▆█</td></tr><tr><td>neg_mape</td><td>▁</td></tr><tr><td>neg_mae</td><td>▁</td></tr><tr><td>neg_rmse</td><td>▁</td></tr></table><br/>"
     },
     "metadata": {},
     "output_type": "display_data"
    },
    {
     "data": {
      "text/plain": "<IPython.core.display.HTML object>",
      "text/html": "Synced 4 W&B file(s), 0 media file(s), 0 artifact file(s) and 0 other file(s)"
     },
     "metadata": {},
     "output_type": "display_data"
    },
    {
     "data": {
      "text/plain": "<IPython.core.display.HTML object>",
      "text/html": "\n                    <br/>Synced <strong style=\"color:#cdcd00\">sweepy-sweep-79</strong>: <a href=\"https://wandb.ai/devcore/Metriken%20Bauwesen%20Sweeps/runs/4xxdldyw\" target=\"_blank\">https://wandb.ai/devcore/Metriken%20Bauwesen%20Sweeps/runs/4xxdldyw</a><br/>\n                "
     },
     "metadata": {},
     "output_type": "display_data"
    },
    {
     "data": {
      "text/plain": "<IPython.core.display.HTML object>",
      "text/html": "\n                Tracking run with wandb version 0.11.0<br/>\n                Syncing run <strong style=\"color:#cdcd00\">glad-sweep-80</strong> to <a href=\"https://wandb.ai\" target=\"_blank\">Weights & Biases</a> <a href=\"https://docs.wandb.com/integrations/jupyter.html\" target=\"_blank\">(Documentation)</a>.<br/>\n                Project page: <a href=\"https://wandb.ai/devcore/Metriken%20Bauwesen%20Sweeps\" target=\"_blank\">https://wandb.ai/devcore/Metriken%20Bauwesen%20Sweeps</a><br/>\n                Sweep page: <a href=\"https://wandb.ai/devcore/Metriken%20Bauwesen%20Sweeps/sweeps/u3louhfl\" target=\"_blank\">https://wandb.ai/devcore/Metriken%20Bauwesen%20Sweeps/sweeps/u3louhfl</a><br/>\nRun page: <a href=\"https://wandb.ai/devcore/Metriken%20Bauwesen%20Sweeps/runs/35q6f9uu\" target=\"_blank\">https://wandb.ai/devcore/Metriken%20Bauwesen%20Sweeps/runs/35q6f9uu</a><br/>\n                Run data is saved locally in <code>D:\\Development\\FHNW\\ip5-metriken-bauwesen\\src\\weight_and_bias\\wandb\\run-20210817_125414-35q6f9uu</code><br/><br/>\n            "
     },
     "metadata": {},
     "output_type": "display_data"
    },
    {
     "data": {
      "text/plain": "<IPython.core.display.HTML object>",
      "text/html": "<br/>Waiting for W&B process to finish, PID 16156<br/>Program ended successfully."
     },
     "metadata": {},
     "output_type": "display_data"
    },
    {
     "data": {
      "text/plain": "VBox(children=(Label(value=' 0.00MB of 0.00MB uploaded (0.00MB deduped)\\r'), FloatProgress(value=1.0, max=1.0)…",
      "application/vnd.jupyter.widget-view+json": {
       "version_major": 2,
       "version_minor": 0,
       "model_id": "5391ca4adff94b07a7496ad8eb0bd3c6"
      }
     },
     "metadata": {},
     "output_type": "display_data"
    },
    {
     "data": {
      "text/plain": "<IPython.core.display.HTML object>",
      "text/html": "Find user logs for this run at: <code>D:\\Development\\FHNW\\ip5-metriken-bauwesen\\src\\weight_and_bias\\wandb\\run-20210817_125414-35q6f9uu\\logs\\debug.log</code>"
     },
     "metadata": {},
     "output_type": "display_data"
    },
    {
     "data": {
      "text/plain": "<IPython.core.display.HTML object>",
      "text/html": "Find internal logs for this run at: <code>D:\\Development\\FHNW\\ip5-metriken-bauwesen\\src\\weight_and_bias\\wandb\\run-20210817_125414-35q6f9uu\\logs\\debug-internal.log</code>"
     },
     "metadata": {},
     "output_type": "display_data"
    },
    {
     "data": {
      "text/plain": "<IPython.core.display.HTML object>",
      "text/html": "<h3>Run summary:</h3><br/><style>\n    table.wandb td:nth-child(1) { padding: 0 10px; text-align: right }\n    </style><table class=\"wandb\">\n<tr><td>r2</td><td>0.94541</td></tr><tr><td>_runtime</td><td>22</td></tr><tr><td>_timestamp</td><td>1629197676</td></tr><tr><td>_step</td><td>3</td></tr><tr><td>neg_mape</td><td>-0.13319</td></tr><tr><td>neg_mae</td><td>-709.76219</td></tr><tr><td>neg_rmse</td><td>-1408.96969</td></tr></table>"
     },
     "metadata": {},
     "output_type": "display_data"
    },
    {
     "data": {
      "text/plain": "<IPython.core.display.HTML object>",
      "text/html": "<h3>Run history:</h3><br/><style>\n    table.wandb td:nth-child(1) { padding: 0 10px; text-align: right }\n    </style><table class=\"wandb\">\n<tr><td>r2</td><td>▁</td></tr><tr><td>_runtime</td><td>▁▁▁▁</td></tr><tr><td>_timestamp</td><td>▁▁▁▁</td></tr><tr><td>_step</td><td>▁▃▆█</td></tr><tr><td>neg_mape</td><td>▁</td></tr><tr><td>neg_mae</td><td>▁</td></tr><tr><td>neg_rmse</td><td>▁</td></tr></table><br/>"
     },
     "metadata": {},
     "output_type": "display_data"
    },
    {
     "data": {
      "text/plain": "<IPython.core.display.HTML object>",
      "text/html": "Synced 4 W&B file(s), 0 media file(s), 0 artifact file(s) and 0 other file(s)"
     },
     "metadata": {},
     "output_type": "display_data"
    },
    {
     "data": {
      "text/plain": "<IPython.core.display.HTML object>",
      "text/html": "\n                    <br/>Synced <strong style=\"color:#cdcd00\">glad-sweep-80</strong>: <a href=\"https://wandb.ai/devcore/Metriken%20Bauwesen%20Sweeps/runs/35q6f9uu\" target=\"_blank\">https://wandb.ai/devcore/Metriken%20Bauwesen%20Sweeps/runs/35q6f9uu</a><br/>\n                "
     },
     "metadata": {},
     "output_type": "display_data"
    },
    {
     "data": {
      "text/plain": "<IPython.core.display.HTML object>",
      "text/html": "\n                Tracking run with wandb version 0.11.0<br/>\n                Syncing run <strong style=\"color:#cdcd00\">lyric-sweep-81</strong> to <a href=\"https://wandb.ai\" target=\"_blank\">Weights & Biases</a> <a href=\"https://docs.wandb.com/integrations/jupyter.html\" target=\"_blank\">(Documentation)</a>.<br/>\n                Project page: <a href=\"https://wandb.ai/devcore/Metriken%20Bauwesen%20Sweeps\" target=\"_blank\">https://wandb.ai/devcore/Metriken%20Bauwesen%20Sweeps</a><br/>\n                Sweep page: <a href=\"https://wandb.ai/devcore/Metriken%20Bauwesen%20Sweeps/sweeps/u3louhfl\" target=\"_blank\">https://wandb.ai/devcore/Metriken%20Bauwesen%20Sweeps/sweeps/u3louhfl</a><br/>\nRun page: <a href=\"https://wandb.ai/devcore/Metriken%20Bauwesen%20Sweeps/runs/shy0a3lt\" target=\"_blank\">https://wandb.ai/devcore/Metriken%20Bauwesen%20Sweeps/runs/shy0a3lt</a><br/>\n                Run data is saved locally in <code>D:\\Development\\FHNW\\ip5-metriken-bauwesen\\src\\weight_and_bias\\wandb\\run-20210817_125441-shy0a3lt</code><br/><br/>\n            "
     },
     "metadata": {},
     "output_type": "display_data"
    },
    {
     "data": {
      "text/plain": "<IPython.core.display.HTML object>",
      "text/html": "<br/>Waiting for W&B process to finish, PID 10672<br/>Program ended successfully."
     },
     "metadata": {},
     "output_type": "display_data"
    },
    {
     "data": {
      "text/plain": "VBox(children=(Label(value=' 0.00MB of 0.00MB uploaded (0.00MB deduped)\\r'), FloatProgress(value=1.0, max=1.0)…",
      "application/vnd.jupyter.widget-view+json": {
       "version_major": 2,
       "version_minor": 0,
       "model_id": "7c78ef1983b64f84b018aa069f0c5d10"
      }
     },
     "metadata": {},
     "output_type": "display_data"
    },
    {
     "data": {
      "text/plain": "<IPython.core.display.HTML object>",
      "text/html": "Find user logs for this run at: <code>D:\\Development\\FHNW\\ip5-metriken-bauwesen\\src\\weight_and_bias\\wandb\\run-20210817_125441-shy0a3lt\\logs\\debug.log</code>"
     },
     "metadata": {},
     "output_type": "display_data"
    },
    {
     "data": {
      "text/plain": "<IPython.core.display.HTML object>",
      "text/html": "Find internal logs for this run at: <code>D:\\Development\\FHNW\\ip5-metriken-bauwesen\\src\\weight_and_bias\\wandb\\run-20210817_125441-shy0a3lt\\logs\\debug-internal.log</code>"
     },
     "metadata": {},
     "output_type": "display_data"
    },
    {
     "data": {
      "text/plain": "<IPython.core.display.HTML object>",
      "text/html": "<h3>Run summary:</h3><br/><style>\n    table.wandb td:nth-child(1) { padding: 0 10px; text-align: right }\n    </style><table class=\"wandb\">\n<tr><td>r2</td><td>0.94729</td></tr><tr><td>_runtime</td><td>15</td></tr><tr><td>_timestamp</td><td>1629197696</td></tr><tr><td>_step</td><td>3</td></tr><tr><td>neg_mape</td><td>-0.12454</td></tr><tr><td>neg_mae</td><td>-675.93465</td></tr><tr><td>neg_rmse</td><td>-1377.51895</td></tr></table>"
     },
     "metadata": {},
     "output_type": "display_data"
    },
    {
     "data": {
      "text/plain": "<IPython.core.display.HTML object>",
      "text/html": "<h3>Run history:</h3><br/><style>\n    table.wandb td:nth-child(1) { padding: 0 10px; text-align: right }\n    </style><table class=\"wandb\">\n<tr><td>r2</td><td>▁</td></tr><tr><td>_runtime</td><td>▁▁▁▁</td></tr><tr><td>_timestamp</td><td>▁▁▁▁</td></tr><tr><td>_step</td><td>▁▃▆█</td></tr><tr><td>neg_mape</td><td>▁</td></tr><tr><td>neg_mae</td><td>▁</td></tr><tr><td>neg_rmse</td><td>▁</td></tr></table><br/>"
     },
     "metadata": {},
     "output_type": "display_data"
    },
    {
     "data": {
      "text/plain": "<IPython.core.display.HTML object>",
      "text/html": "Synced 4 W&B file(s), 0 media file(s), 0 artifact file(s) and 0 other file(s)"
     },
     "metadata": {},
     "output_type": "display_data"
    },
    {
     "data": {
      "text/plain": "<IPython.core.display.HTML object>",
      "text/html": "\n                    <br/>Synced <strong style=\"color:#cdcd00\">lyric-sweep-81</strong>: <a href=\"https://wandb.ai/devcore/Metriken%20Bauwesen%20Sweeps/runs/shy0a3lt\" target=\"_blank\">https://wandb.ai/devcore/Metriken%20Bauwesen%20Sweeps/runs/shy0a3lt</a><br/>\n                "
     },
     "metadata": {},
     "output_type": "display_data"
    },
    {
     "data": {
      "text/plain": "<IPython.core.display.HTML object>",
      "text/html": "\n                Tracking run with wandb version 0.11.0<br/>\n                Syncing run <strong style=\"color:#cdcd00\">lunar-sweep-82</strong> to <a href=\"https://wandb.ai\" target=\"_blank\">Weights & Biases</a> <a href=\"https://docs.wandb.com/integrations/jupyter.html\" target=\"_blank\">(Documentation)</a>.<br/>\n                Project page: <a href=\"https://wandb.ai/devcore/Metriken%20Bauwesen%20Sweeps\" target=\"_blank\">https://wandb.ai/devcore/Metriken%20Bauwesen%20Sweeps</a><br/>\n                Sweep page: <a href=\"https://wandb.ai/devcore/Metriken%20Bauwesen%20Sweeps/sweeps/u3louhfl\" target=\"_blank\">https://wandb.ai/devcore/Metriken%20Bauwesen%20Sweeps/sweeps/u3louhfl</a><br/>\nRun page: <a href=\"https://wandb.ai/devcore/Metriken%20Bauwesen%20Sweeps/runs/ow0p664n\" target=\"_blank\">https://wandb.ai/devcore/Metriken%20Bauwesen%20Sweeps/runs/ow0p664n</a><br/>\n                Run data is saved locally in <code>D:\\Development\\FHNW\\ip5-metriken-bauwesen\\src\\weight_and_bias\\wandb\\run-20210817_125501-ow0p664n</code><br/><br/>\n            "
     },
     "metadata": {},
     "output_type": "display_data"
    },
    {
     "data": {
      "text/plain": "<IPython.core.display.HTML object>",
      "text/html": "<br/>Waiting for W&B process to finish, PID 21432<br/>Program ended successfully."
     },
     "metadata": {},
     "output_type": "display_data"
    },
    {
     "data": {
      "text/plain": "VBox(children=(Label(value=' 0.00MB of 0.00MB uploaded (0.00MB deduped)\\r'), FloatProgress(value=1.0, max=1.0)…",
      "application/vnd.jupyter.widget-view+json": {
       "version_major": 2,
       "version_minor": 0,
       "model_id": "b46815d451aa43288ae8c0dc8abf03f0"
      }
     },
     "metadata": {},
     "output_type": "display_data"
    },
    {
     "data": {
      "text/plain": "<IPython.core.display.HTML object>",
      "text/html": "Find user logs for this run at: <code>D:\\Development\\FHNW\\ip5-metriken-bauwesen\\src\\weight_and_bias\\wandb\\run-20210817_125501-ow0p664n\\logs\\debug.log</code>"
     },
     "metadata": {},
     "output_type": "display_data"
    },
    {
     "data": {
      "text/plain": "<IPython.core.display.HTML object>",
      "text/html": "Find internal logs for this run at: <code>D:\\Development\\FHNW\\ip5-metriken-bauwesen\\src\\weight_and_bias\\wandb\\run-20210817_125501-ow0p664n\\logs\\debug-internal.log</code>"
     },
     "metadata": {},
     "output_type": "display_data"
    },
    {
     "data": {
      "text/plain": "<IPython.core.display.HTML object>",
      "text/html": "<h3>Run summary:</h3><br/><style>\n    table.wandb td:nth-child(1) { padding: 0 10px; text-align: right }\n    </style><table class=\"wandb\">\n<tr><td>r2</td><td>0.9476</td></tr><tr><td>_runtime</td><td>34</td></tr><tr><td>_timestamp</td><td>1629197735</td></tr><tr><td>_step</td><td>3</td></tr><tr><td>neg_mape</td><td>-0.15</td></tr><tr><td>neg_mae</td><td>-717.45735</td></tr><tr><td>neg_rmse</td><td>-1360.30957</td></tr></table>"
     },
     "metadata": {},
     "output_type": "display_data"
    },
    {
     "data": {
      "text/plain": "<IPython.core.display.HTML object>",
      "text/html": "<h3>Run history:</h3><br/><style>\n    table.wandb td:nth-child(1) { padding: 0 10px; text-align: right }\n    </style><table class=\"wandb\">\n<tr><td>r2</td><td>▁</td></tr><tr><td>_runtime</td><td>▁▁▁▁</td></tr><tr><td>_timestamp</td><td>▁▁▁▁</td></tr><tr><td>_step</td><td>▁▃▆█</td></tr><tr><td>neg_mape</td><td>▁</td></tr><tr><td>neg_mae</td><td>▁</td></tr><tr><td>neg_rmse</td><td>▁</td></tr></table><br/>"
     },
     "metadata": {},
     "output_type": "display_data"
    },
    {
     "data": {
      "text/plain": "<IPython.core.display.HTML object>",
      "text/html": "Synced 4 W&B file(s), 0 media file(s), 0 artifact file(s) and 0 other file(s)"
     },
     "metadata": {},
     "output_type": "display_data"
    },
    {
     "data": {
      "text/plain": "<IPython.core.display.HTML object>",
      "text/html": "\n                    <br/>Synced <strong style=\"color:#cdcd00\">lunar-sweep-82</strong>: <a href=\"https://wandb.ai/devcore/Metriken%20Bauwesen%20Sweeps/runs/ow0p664n\" target=\"_blank\">https://wandb.ai/devcore/Metriken%20Bauwesen%20Sweeps/runs/ow0p664n</a><br/>\n                "
     },
     "metadata": {},
     "output_type": "display_data"
    },
    {
     "data": {
      "text/plain": "<IPython.core.display.HTML object>",
      "text/html": "\n                Tracking run with wandb version 0.11.0<br/>\n                Syncing run <strong style=\"color:#cdcd00\">misty-sweep-83</strong> to <a href=\"https://wandb.ai\" target=\"_blank\">Weights & Biases</a> <a href=\"https://docs.wandb.com/integrations/jupyter.html\" target=\"_blank\">(Documentation)</a>.<br/>\n                Project page: <a href=\"https://wandb.ai/devcore/Metriken%20Bauwesen%20Sweeps\" target=\"_blank\">https://wandb.ai/devcore/Metriken%20Bauwesen%20Sweeps</a><br/>\n                Sweep page: <a href=\"https://wandb.ai/devcore/Metriken%20Bauwesen%20Sweeps/sweeps/u3louhfl\" target=\"_blank\">https://wandb.ai/devcore/Metriken%20Bauwesen%20Sweeps/sweeps/u3louhfl</a><br/>\nRun page: <a href=\"https://wandb.ai/devcore/Metriken%20Bauwesen%20Sweeps/runs/gaebehfr\" target=\"_blank\">https://wandb.ai/devcore/Metriken%20Bauwesen%20Sweeps/runs/gaebehfr</a><br/>\n                Run data is saved locally in <code>D:\\Development\\FHNW\\ip5-metriken-bauwesen\\src\\weight_and_bias\\wandb\\run-20210817_125539-gaebehfr</code><br/><br/>\n            "
     },
     "metadata": {},
     "output_type": "display_data"
    },
    {
     "data": {
      "text/plain": "<IPython.core.display.HTML object>",
      "text/html": "<br/>Waiting for W&B process to finish, PID 25156<br/>Program ended successfully."
     },
     "metadata": {},
     "output_type": "display_data"
    },
    {
     "data": {
      "text/plain": "VBox(children=(Label(value=' 0.00MB of 0.00MB uploaded (0.00MB deduped)\\r'), FloatProgress(value=1.0, max=1.0)…",
      "application/vnd.jupyter.widget-view+json": {
       "version_major": 2,
       "version_minor": 0,
       "model_id": "3319f9b4ba6e4463b9633423208e6a28"
      }
     },
     "metadata": {},
     "output_type": "display_data"
    },
    {
     "data": {
      "text/plain": "<IPython.core.display.HTML object>",
      "text/html": "Find user logs for this run at: <code>D:\\Development\\FHNW\\ip5-metriken-bauwesen\\src\\weight_and_bias\\wandb\\run-20210817_125539-gaebehfr\\logs\\debug.log</code>"
     },
     "metadata": {},
     "output_type": "display_data"
    },
    {
     "data": {
      "text/plain": "<IPython.core.display.HTML object>",
      "text/html": "Find internal logs for this run at: <code>D:\\Development\\FHNW\\ip5-metriken-bauwesen\\src\\weight_and_bias\\wandb\\run-20210817_125539-gaebehfr\\logs\\debug-internal.log</code>"
     },
     "metadata": {},
     "output_type": "display_data"
    },
    {
     "data": {
      "text/plain": "<IPython.core.display.HTML object>",
      "text/html": "<h3>Run summary:</h3><br/><style>\n    table.wandb td:nth-child(1) { padding: 0 10px; text-align: right }\n    </style><table class=\"wandb\">\n<tr><td>r2</td><td>0.93757</td></tr><tr><td>_runtime</td><td>70</td></tr><tr><td>_timestamp</td><td>1629197809</td></tr><tr><td>_step</td><td>3</td></tr><tr><td>neg_mape</td><td>-0.14487</td></tr><tr><td>neg_mae</td><td>-757.69548</td></tr><tr><td>neg_rmse</td><td>-1503.26436</td></tr></table>"
     },
     "metadata": {},
     "output_type": "display_data"
    },
    {
     "data": {
      "text/plain": "<IPython.core.display.HTML object>",
      "text/html": "<h3>Run history:</h3><br/><style>\n    table.wandb td:nth-child(1) { padding: 0 10px; text-align: right }\n    </style><table class=\"wandb\">\n<tr><td>r2</td><td>▁</td></tr><tr><td>_runtime</td><td>▁▁▁▁</td></tr><tr><td>_timestamp</td><td>▁▁▁▁</td></tr><tr><td>_step</td><td>▁▃▆█</td></tr><tr><td>neg_mape</td><td>▁</td></tr><tr><td>neg_mae</td><td>▁</td></tr><tr><td>neg_rmse</td><td>▁</td></tr></table><br/>"
     },
     "metadata": {},
     "output_type": "display_data"
    },
    {
     "data": {
      "text/plain": "<IPython.core.display.HTML object>",
      "text/html": "Synced 4 W&B file(s), 0 media file(s), 0 artifact file(s) and 0 other file(s)"
     },
     "metadata": {},
     "output_type": "display_data"
    },
    {
     "data": {
      "text/plain": "<IPython.core.display.HTML object>",
      "text/html": "\n                    <br/>Synced <strong style=\"color:#cdcd00\">misty-sweep-83</strong>: <a href=\"https://wandb.ai/devcore/Metriken%20Bauwesen%20Sweeps/runs/gaebehfr\" target=\"_blank\">https://wandb.ai/devcore/Metriken%20Bauwesen%20Sweeps/runs/gaebehfr</a><br/>\n                "
     },
     "metadata": {},
     "output_type": "display_data"
    },
    {
     "data": {
      "text/plain": "<IPython.core.display.HTML object>",
      "text/html": "\n                Tracking run with wandb version 0.11.0<br/>\n                Syncing run <strong style=\"color:#cdcd00\">classic-sweep-84</strong> to <a href=\"https://wandb.ai\" target=\"_blank\">Weights & Biases</a> <a href=\"https://docs.wandb.com/integrations/jupyter.html\" target=\"_blank\">(Documentation)</a>.<br/>\n                Project page: <a href=\"https://wandb.ai/devcore/Metriken%20Bauwesen%20Sweeps\" target=\"_blank\">https://wandb.ai/devcore/Metriken%20Bauwesen%20Sweeps</a><br/>\n                Sweep page: <a href=\"https://wandb.ai/devcore/Metriken%20Bauwesen%20Sweeps/sweeps/u3louhfl\" target=\"_blank\">https://wandb.ai/devcore/Metriken%20Bauwesen%20Sweeps/sweeps/u3louhfl</a><br/>\nRun page: <a href=\"https://wandb.ai/devcore/Metriken%20Bauwesen%20Sweeps/runs/f6vd4ewl\" target=\"_blank\">https://wandb.ai/devcore/Metriken%20Bauwesen%20Sweeps/runs/f6vd4ewl</a><br/>\n                Run data is saved locally in <code>D:\\Development\\FHNW\\ip5-metriken-bauwesen\\src\\weight_and_bias\\wandb\\run-20210817_125654-f6vd4ewl</code><br/><br/>\n            "
     },
     "metadata": {},
     "output_type": "display_data"
    },
    {
     "data": {
      "text/plain": "<IPython.core.display.HTML object>",
      "text/html": "<br/>Waiting for W&B process to finish, PID 3928<br/>Program ended successfully."
     },
     "metadata": {},
     "output_type": "display_data"
    },
    {
     "data": {
      "text/plain": "VBox(children=(Label(value=' 0.00MB of 0.00MB uploaded (0.00MB deduped)\\r'), FloatProgress(value=1.0, max=1.0)…",
      "application/vnd.jupyter.widget-view+json": {
       "version_major": 2,
       "version_minor": 0,
       "model_id": "9defc8f04a4a41dc9a2fe6937e3ca5f9"
      }
     },
     "metadata": {},
     "output_type": "display_data"
    },
    {
     "data": {
      "text/plain": "<IPython.core.display.HTML object>",
      "text/html": "Find user logs for this run at: <code>D:\\Development\\FHNW\\ip5-metriken-bauwesen\\src\\weight_and_bias\\wandb\\run-20210817_125654-f6vd4ewl\\logs\\debug.log</code>"
     },
     "metadata": {},
     "output_type": "display_data"
    },
    {
     "data": {
      "text/plain": "<IPython.core.display.HTML object>",
      "text/html": "Find internal logs for this run at: <code>D:\\Development\\FHNW\\ip5-metriken-bauwesen\\src\\weight_and_bias\\wandb\\run-20210817_125654-f6vd4ewl\\logs\\debug-internal.log</code>"
     },
     "metadata": {},
     "output_type": "display_data"
    },
    {
     "data": {
      "text/plain": "<IPython.core.display.HTML object>",
      "text/html": "<h3>Run summary:</h3><br/><style>\n    table.wandb td:nth-child(1) { padding: 0 10px; text-align: right }\n    </style><table class=\"wandb\">\n<tr><td>r2</td><td>0.94993</td></tr><tr><td>_runtime</td><td>68</td></tr><tr><td>_timestamp</td><td>1629197882</td></tr><tr><td>_step</td><td>3</td></tr><tr><td>neg_mape</td><td>-0.12681</td></tr><tr><td>neg_mae</td><td>-659.49231</td></tr><tr><td>neg_rmse</td><td>-1336.79159</td></tr></table>"
     },
     "metadata": {},
     "output_type": "display_data"
    },
    {
     "data": {
      "text/plain": "<IPython.core.display.HTML object>",
      "text/html": "<h3>Run history:</h3><br/><style>\n    table.wandb td:nth-child(1) { padding: 0 10px; text-align: right }\n    </style><table class=\"wandb\">\n<tr><td>r2</td><td>▁</td></tr><tr><td>_runtime</td><td>▁▁▁▁</td></tr><tr><td>_timestamp</td><td>▁▁▁▁</td></tr><tr><td>_step</td><td>▁▃▆█</td></tr><tr><td>neg_mape</td><td>▁</td></tr><tr><td>neg_mae</td><td>▁</td></tr><tr><td>neg_rmse</td><td>▁</td></tr></table><br/>"
     },
     "metadata": {},
     "output_type": "display_data"
    },
    {
     "data": {
      "text/plain": "<IPython.core.display.HTML object>",
      "text/html": "Synced 4 W&B file(s), 0 media file(s), 0 artifact file(s) and 0 other file(s)"
     },
     "metadata": {},
     "output_type": "display_data"
    },
    {
     "data": {
      "text/plain": "<IPython.core.display.HTML object>",
      "text/html": "\n                    <br/>Synced <strong style=\"color:#cdcd00\">classic-sweep-84</strong>: <a href=\"https://wandb.ai/devcore/Metriken%20Bauwesen%20Sweeps/runs/f6vd4ewl\" target=\"_blank\">https://wandb.ai/devcore/Metriken%20Bauwesen%20Sweeps/runs/f6vd4ewl</a><br/>\n                "
     },
     "metadata": {},
     "output_type": "display_data"
    },
    {
     "data": {
      "text/plain": "<IPython.core.display.HTML object>",
      "text/html": "\n                Tracking run with wandb version 0.11.0<br/>\n                Syncing run <strong style=\"color:#cdcd00\">snowy-sweep-85</strong> to <a href=\"https://wandb.ai\" target=\"_blank\">Weights & Biases</a> <a href=\"https://docs.wandb.com/integrations/jupyter.html\" target=\"_blank\">(Documentation)</a>.<br/>\n                Project page: <a href=\"https://wandb.ai/devcore/Metriken%20Bauwesen%20Sweeps\" target=\"_blank\">https://wandb.ai/devcore/Metriken%20Bauwesen%20Sweeps</a><br/>\n                Sweep page: <a href=\"https://wandb.ai/devcore/Metriken%20Bauwesen%20Sweeps/sweeps/u3louhfl\" target=\"_blank\">https://wandb.ai/devcore/Metriken%20Bauwesen%20Sweeps/sweeps/u3louhfl</a><br/>\nRun page: <a href=\"https://wandb.ai/devcore/Metriken%20Bauwesen%20Sweeps/runs/x12zhpa4\" target=\"_blank\">https://wandb.ai/devcore/Metriken%20Bauwesen%20Sweeps/runs/x12zhpa4</a><br/>\n                Run data is saved locally in <code>D:\\Development\\FHNW\\ip5-metriken-bauwesen\\src\\weight_and_bias\\wandb\\run-20210817_125807-x12zhpa4</code><br/><br/>\n            "
     },
     "metadata": {},
     "output_type": "display_data"
    },
    {
     "data": {
      "text/plain": "<IPython.core.display.HTML object>",
      "text/html": "<br/>Waiting for W&B process to finish, PID 10448<br/>Program ended successfully."
     },
     "metadata": {},
     "output_type": "display_data"
    },
    {
     "data": {
      "text/plain": "VBox(children=(Label(value=' 0.00MB of 0.00MB uploaded (0.00MB deduped)\\r'), FloatProgress(value=1.0, max=1.0)…",
      "application/vnd.jupyter.widget-view+json": {
       "version_major": 2,
       "version_minor": 0,
       "model_id": "056946db67f447c7b35168bff53b8de6"
      }
     },
     "metadata": {},
     "output_type": "display_data"
    },
    {
     "data": {
      "text/plain": "<IPython.core.display.HTML object>",
      "text/html": "Find user logs for this run at: <code>D:\\Development\\FHNW\\ip5-metriken-bauwesen\\src\\weight_and_bias\\wandb\\run-20210817_125807-x12zhpa4\\logs\\debug.log</code>"
     },
     "metadata": {},
     "output_type": "display_data"
    },
    {
     "data": {
      "text/plain": "<IPython.core.display.HTML object>",
      "text/html": "Find internal logs for this run at: <code>D:\\Development\\FHNW\\ip5-metriken-bauwesen\\src\\weight_and_bias\\wandb\\run-20210817_125807-x12zhpa4\\logs\\debug-internal.log</code>"
     },
     "metadata": {},
     "output_type": "display_data"
    },
    {
     "data": {
      "text/plain": "<IPython.core.display.HTML object>",
      "text/html": "<h3>Run summary:</h3><br/><style>\n    table.wandb td:nth-child(1) { padding: 0 10px; text-align: right }\n    </style><table class=\"wandb\">\n<tr><td>r2</td><td>0.94156</td></tr><tr><td>_runtime</td><td>59</td></tr><tr><td>_timestamp</td><td>1629197946</td></tr><tr><td>_step</td><td>3</td></tr><tr><td>neg_mape</td><td>-0.14359</td></tr><tr><td>neg_mae</td><td>-740.34656</td></tr><tr><td>neg_rmse</td><td>-1451.03745</td></tr></table>"
     },
     "metadata": {},
     "output_type": "display_data"
    },
    {
     "data": {
      "text/plain": "<IPython.core.display.HTML object>",
      "text/html": "<h3>Run history:</h3><br/><style>\n    table.wandb td:nth-child(1) { padding: 0 10px; text-align: right }\n    </style><table class=\"wandb\">\n<tr><td>r2</td><td>▁</td></tr><tr><td>_runtime</td><td>▁▁▁▁</td></tr><tr><td>_timestamp</td><td>▁▁▁▁</td></tr><tr><td>_step</td><td>▁▃▆█</td></tr><tr><td>neg_mape</td><td>▁</td></tr><tr><td>neg_mae</td><td>▁</td></tr><tr><td>neg_rmse</td><td>▁</td></tr></table><br/>"
     },
     "metadata": {},
     "output_type": "display_data"
    },
    {
     "data": {
      "text/plain": "<IPython.core.display.HTML object>",
      "text/html": "Synced 4 W&B file(s), 0 media file(s), 0 artifact file(s) and 0 other file(s)"
     },
     "metadata": {},
     "output_type": "display_data"
    },
    {
     "data": {
      "text/plain": "<IPython.core.display.HTML object>",
      "text/html": "\n                    <br/>Synced <strong style=\"color:#cdcd00\">snowy-sweep-85</strong>: <a href=\"https://wandb.ai/devcore/Metriken%20Bauwesen%20Sweeps/runs/x12zhpa4\" target=\"_blank\">https://wandb.ai/devcore/Metriken%20Bauwesen%20Sweeps/runs/x12zhpa4</a><br/>\n                "
     },
     "metadata": {},
     "output_type": "display_data"
    },
    {
     "data": {
      "text/plain": "<IPython.core.display.HTML object>",
      "text/html": "\n                Tracking run with wandb version 0.11.0<br/>\n                Syncing run <strong style=\"color:#cdcd00\">zany-sweep-86</strong> to <a href=\"https://wandb.ai\" target=\"_blank\">Weights & Biases</a> <a href=\"https://docs.wandb.com/integrations/jupyter.html\" target=\"_blank\">(Documentation)</a>.<br/>\n                Project page: <a href=\"https://wandb.ai/devcore/Metriken%20Bauwesen%20Sweeps\" target=\"_blank\">https://wandb.ai/devcore/Metriken%20Bauwesen%20Sweeps</a><br/>\n                Sweep page: <a href=\"https://wandb.ai/devcore/Metriken%20Bauwesen%20Sweeps/sweeps/u3louhfl\" target=\"_blank\">https://wandb.ai/devcore/Metriken%20Bauwesen%20Sweeps/sweeps/u3louhfl</a><br/>\nRun page: <a href=\"https://wandb.ai/devcore/Metriken%20Bauwesen%20Sweeps/runs/unfvufol\" target=\"_blank\">https://wandb.ai/devcore/Metriken%20Bauwesen%20Sweeps/runs/unfvufol</a><br/>\n                Run data is saved locally in <code>D:\\Development\\FHNW\\ip5-metriken-bauwesen\\src\\weight_and_bias\\wandb\\run-20210817_125911-unfvufol</code><br/><br/>\n            "
     },
     "metadata": {},
     "output_type": "display_data"
    },
    {
     "data": {
      "text/plain": "<IPython.core.display.HTML object>",
      "text/html": "<br/>Waiting for W&B process to finish, PID 7720<br/>Program ended successfully."
     },
     "metadata": {},
     "output_type": "display_data"
    },
    {
     "data": {
      "text/plain": "VBox(children=(Label(value=' 0.00MB of 0.00MB uploaded (0.00MB deduped)\\r'), FloatProgress(value=1.0, max=1.0)…",
      "application/vnd.jupyter.widget-view+json": {
       "version_major": 2,
       "version_minor": 0,
       "model_id": "821dab373f7f49e1a07d4bb3ef787e91"
      }
     },
     "metadata": {},
     "output_type": "display_data"
    },
    {
     "data": {
      "text/plain": "<IPython.core.display.HTML object>",
      "text/html": "Find user logs for this run at: <code>D:\\Development\\FHNW\\ip5-metriken-bauwesen\\src\\weight_and_bias\\wandb\\run-20210817_125911-unfvufol\\logs\\debug.log</code>"
     },
     "metadata": {},
     "output_type": "display_data"
    },
    {
     "data": {
      "text/plain": "<IPython.core.display.HTML object>",
      "text/html": "Find internal logs for this run at: <code>D:\\Development\\FHNW\\ip5-metriken-bauwesen\\src\\weight_and_bias\\wandb\\run-20210817_125911-unfvufol\\logs\\debug-internal.log</code>"
     },
     "metadata": {},
     "output_type": "display_data"
    },
    {
     "data": {
      "text/plain": "<IPython.core.display.HTML object>",
      "text/html": "<h3>Run summary:</h3><br/><style>\n    table.wandb td:nth-child(1) { padding: 0 10px; text-align: right }\n    </style><table class=\"wandb\">\n<tr><td>r2</td><td>0.94759</td></tr><tr><td>_runtime</td><td>93</td></tr><tr><td>_timestamp</td><td>1629198044</td></tr><tr><td>_step</td><td>3</td></tr><tr><td>neg_mape</td><td>-0.13451</td></tr><tr><td>neg_mae</td><td>-694.55037</td></tr><tr><td>neg_rmse</td><td>-1367.86527</td></tr></table>"
     },
     "metadata": {},
     "output_type": "display_data"
    },
    {
     "data": {
      "text/plain": "<IPython.core.display.HTML object>",
      "text/html": "<h3>Run history:</h3><br/><style>\n    table.wandb td:nth-child(1) { padding: 0 10px; text-align: right }\n    </style><table class=\"wandb\">\n<tr><td>r2</td><td>▁</td></tr><tr><td>_runtime</td><td>▁▁▁▁</td></tr><tr><td>_timestamp</td><td>▁▁▁▁</td></tr><tr><td>_step</td><td>▁▃▆█</td></tr><tr><td>neg_mape</td><td>▁</td></tr><tr><td>neg_mae</td><td>▁</td></tr><tr><td>neg_rmse</td><td>▁</td></tr></table><br/>"
     },
     "metadata": {},
     "output_type": "display_data"
    },
    {
     "data": {
      "text/plain": "<IPython.core.display.HTML object>",
      "text/html": "Synced 4 W&B file(s), 0 media file(s), 0 artifact file(s) and 0 other file(s)"
     },
     "metadata": {},
     "output_type": "display_data"
    },
    {
     "data": {
      "text/plain": "<IPython.core.display.HTML object>",
      "text/html": "\n                    <br/>Synced <strong style=\"color:#cdcd00\">zany-sweep-86</strong>: <a href=\"https://wandb.ai/devcore/Metriken%20Bauwesen%20Sweeps/runs/unfvufol\" target=\"_blank\">https://wandb.ai/devcore/Metriken%20Bauwesen%20Sweeps/runs/unfvufol</a><br/>\n                "
     },
     "metadata": {},
     "output_type": "display_data"
    },
    {
     "data": {
      "text/plain": "<IPython.core.display.HTML object>",
      "text/html": "\n                Tracking run with wandb version 0.11.0<br/>\n                Syncing run <strong style=\"color:#cdcd00\">deep-sweep-87</strong> to <a href=\"https://wandb.ai\" target=\"_blank\">Weights & Biases</a> <a href=\"https://docs.wandb.com/integrations/jupyter.html\" target=\"_blank\">(Documentation)</a>.<br/>\n                Project page: <a href=\"https://wandb.ai/devcore/Metriken%20Bauwesen%20Sweeps\" target=\"_blank\">https://wandb.ai/devcore/Metriken%20Bauwesen%20Sweeps</a><br/>\n                Sweep page: <a href=\"https://wandb.ai/devcore/Metriken%20Bauwesen%20Sweeps/sweeps/u3louhfl\" target=\"_blank\">https://wandb.ai/devcore/Metriken%20Bauwesen%20Sweeps/sweeps/u3louhfl</a><br/>\nRun page: <a href=\"https://wandb.ai/devcore/Metriken%20Bauwesen%20Sweeps/runs/64ysqa10\" target=\"_blank\">https://wandb.ai/devcore/Metriken%20Bauwesen%20Sweeps/runs/64ysqa10</a><br/>\n                Run data is saved locally in <code>D:\\Development\\FHNW\\ip5-metriken-bauwesen\\src\\weight_and_bias\\wandb\\run-20210817_130048-64ysqa10</code><br/><br/>\n            "
     },
     "metadata": {},
     "output_type": "display_data"
    },
    {
     "data": {
      "text/plain": "<IPython.core.display.HTML object>",
      "text/html": "<br/>Waiting for W&B process to finish, PID 17772<br/>Program ended successfully."
     },
     "metadata": {},
     "output_type": "display_data"
    },
    {
     "data": {
      "text/plain": "VBox(children=(Label(value=' 0.00MB of 0.00MB uploaded (0.00MB deduped)\\r'), FloatProgress(value=1.0, max=1.0)…",
      "application/vnd.jupyter.widget-view+json": {
       "version_major": 2,
       "version_minor": 0,
       "model_id": "64c872f8e9e64745bdfdd01b66e81a79"
      }
     },
     "metadata": {},
     "output_type": "display_data"
    },
    {
     "data": {
      "text/plain": "<IPython.core.display.HTML object>",
      "text/html": "Find user logs for this run at: <code>D:\\Development\\FHNW\\ip5-metriken-bauwesen\\src\\weight_and_bias\\wandb\\run-20210817_130048-64ysqa10\\logs\\debug.log</code>"
     },
     "metadata": {},
     "output_type": "display_data"
    },
    {
     "data": {
      "text/plain": "<IPython.core.display.HTML object>",
      "text/html": "Find internal logs for this run at: <code>D:\\Development\\FHNW\\ip5-metriken-bauwesen\\src\\weight_and_bias\\wandb\\run-20210817_130048-64ysqa10\\logs\\debug-internal.log</code>"
     },
     "metadata": {},
     "output_type": "display_data"
    },
    {
     "data": {
      "text/plain": "<IPython.core.display.HTML object>",
      "text/html": "<h3>Run summary:</h3><br/><style>\n    table.wandb td:nth-child(1) { padding: 0 10px; text-align: right }\n    </style><table class=\"wandb\">\n<tr><td>r2</td><td>0.95344</td></tr><tr><td>_runtime</td><td>17</td></tr><tr><td>_timestamp</td><td>1629198065</td></tr><tr><td>_step</td><td>3</td></tr><tr><td>neg_mape</td><td>-0.13018</td></tr><tr><td>neg_mae</td><td>-654.92994</td></tr><tr><td>neg_rmse</td><td>-1282.18372</td></tr></table>"
     },
     "metadata": {},
     "output_type": "display_data"
    },
    {
     "data": {
      "text/plain": "<IPython.core.display.HTML object>",
      "text/html": "<h3>Run history:</h3><br/><style>\n    table.wandb td:nth-child(1) { padding: 0 10px; text-align: right }\n    </style><table class=\"wandb\">\n<tr><td>r2</td><td>▁</td></tr><tr><td>_runtime</td><td>▁▁▁▁</td></tr><tr><td>_timestamp</td><td>▁▁▁▁</td></tr><tr><td>_step</td><td>▁▃▆█</td></tr><tr><td>neg_mape</td><td>▁</td></tr><tr><td>neg_mae</td><td>▁</td></tr><tr><td>neg_rmse</td><td>▁</td></tr></table><br/>"
     },
     "metadata": {},
     "output_type": "display_data"
    },
    {
     "data": {
      "text/plain": "<IPython.core.display.HTML object>",
      "text/html": "Synced 4 W&B file(s), 0 media file(s), 0 artifact file(s) and 0 other file(s)"
     },
     "metadata": {},
     "output_type": "display_data"
    },
    {
     "data": {
      "text/plain": "<IPython.core.display.HTML object>",
      "text/html": "\n                    <br/>Synced <strong style=\"color:#cdcd00\">deep-sweep-87</strong>: <a href=\"https://wandb.ai/devcore/Metriken%20Bauwesen%20Sweeps/runs/64ysqa10\" target=\"_blank\">https://wandb.ai/devcore/Metriken%20Bauwesen%20Sweeps/runs/64ysqa10</a><br/>\n                "
     },
     "metadata": {},
     "output_type": "display_data"
    },
    {
     "data": {
      "text/plain": "<IPython.core.display.HTML object>",
      "text/html": "\n                Tracking run with wandb version 0.11.0<br/>\n                Syncing run <strong style=\"color:#cdcd00\">denim-sweep-88</strong> to <a href=\"https://wandb.ai\" target=\"_blank\">Weights & Biases</a> <a href=\"https://docs.wandb.com/integrations/jupyter.html\" target=\"_blank\">(Documentation)</a>.<br/>\n                Project page: <a href=\"https://wandb.ai/devcore/Metriken%20Bauwesen%20Sweeps\" target=\"_blank\">https://wandb.ai/devcore/Metriken%20Bauwesen%20Sweeps</a><br/>\n                Sweep page: <a href=\"https://wandb.ai/devcore/Metriken%20Bauwesen%20Sweeps/sweeps/u3louhfl\" target=\"_blank\">https://wandb.ai/devcore/Metriken%20Bauwesen%20Sweeps/sweeps/u3louhfl</a><br/>\nRun page: <a href=\"https://wandb.ai/devcore/Metriken%20Bauwesen%20Sweeps/runs/vqwjugwp\" target=\"_blank\">https://wandb.ai/devcore/Metriken%20Bauwesen%20Sweeps/runs/vqwjugwp</a><br/>\n                Run data is saved locally in <code>D:\\Development\\FHNW\\ip5-metriken-bauwesen\\src\\weight_and_bias\\wandb\\run-20210817_130112-vqwjugwp</code><br/><br/>\n            "
     },
     "metadata": {},
     "output_type": "display_data"
    },
    {
     "data": {
      "text/plain": "<IPython.core.display.HTML object>",
      "text/html": "<br/>Waiting for W&B process to finish, PID 7344<br/>Program ended successfully."
     },
     "metadata": {},
     "output_type": "display_data"
    },
    {
     "data": {
      "text/plain": "VBox(children=(Label(value=' 0.00MB of 0.00MB uploaded (0.00MB deduped)\\r'), FloatProgress(value=1.0, max=1.0)…",
      "application/vnd.jupyter.widget-view+json": {
       "version_major": 2,
       "version_minor": 0,
       "model_id": "af15f75bd6484317800bea623e245172"
      }
     },
     "metadata": {},
     "output_type": "display_data"
    },
    {
     "data": {
      "text/plain": "<IPython.core.display.HTML object>",
      "text/html": "Find user logs for this run at: <code>D:\\Development\\FHNW\\ip5-metriken-bauwesen\\src\\weight_and_bias\\wandb\\run-20210817_130112-vqwjugwp\\logs\\debug.log</code>"
     },
     "metadata": {},
     "output_type": "display_data"
    },
    {
     "data": {
      "text/plain": "<IPython.core.display.HTML object>",
      "text/html": "Find internal logs for this run at: <code>D:\\Development\\FHNW\\ip5-metriken-bauwesen\\src\\weight_and_bias\\wandb\\run-20210817_130112-vqwjugwp\\logs\\debug-internal.log</code>"
     },
     "metadata": {},
     "output_type": "display_data"
    },
    {
     "data": {
      "text/plain": "<IPython.core.display.HTML object>",
      "text/html": "<h3>Run summary:</h3><br/><style>\n    table.wandb td:nth-child(1) { padding: 0 10px; text-align: right }\n    </style><table class=\"wandb\">\n<tr><td>r2</td><td>0.95034</td></tr><tr><td>_runtime</td><td>52</td></tr><tr><td>_timestamp</td><td>1629198125</td></tr><tr><td>_step</td><td>3</td></tr><tr><td>neg_mape</td><td>-0.12483</td></tr><tr><td>neg_mae</td><td>-658.01407</td></tr><tr><td>neg_rmse</td><td>-1327.77009</td></tr></table>"
     },
     "metadata": {},
     "output_type": "display_data"
    },
    {
     "data": {
      "text/plain": "<IPython.core.display.HTML object>",
      "text/html": "<h3>Run history:</h3><br/><style>\n    table.wandb td:nth-child(1) { padding: 0 10px; text-align: right }\n    </style><table class=\"wandb\">\n<tr><td>r2</td><td>▁</td></tr><tr><td>_runtime</td><td>▁▁▁▁</td></tr><tr><td>_timestamp</td><td>▁▁▁▁</td></tr><tr><td>_step</td><td>▁▃▆█</td></tr><tr><td>neg_mape</td><td>▁</td></tr><tr><td>neg_mae</td><td>▁</td></tr><tr><td>neg_rmse</td><td>▁</td></tr></table><br/>"
     },
     "metadata": {},
     "output_type": "display_data"
    },
    {
     "data": {
      "text/plain": "<IPython.core.display.HTML object>",
      "text/html": "Synced 4 W&B file(s), 0 media file(s), 0 artifact file(s) and 0 other file(s)"
     },
     "metadata": {},
     "output_type": "display_data"
    },
    {
     "data": {
      "text/plain": "<IPython.core.display.HTML object>",
      "text/html": "\n                    <br/>Synced <strong style=\"color:#cdcd00\">denim-sweep-88</strong>: <a href=\"https://wandb.ai/devcore/Metriken%20Bauwesen%20Sweeps/runs/vqwjugwp\" target=\"_blank\">https://wandb.ai/devcore/Metriken%20Bauwesen%20Sweeps/runs/vqwjugwp</a><br/>\n                "
     },
     "metadata": {},
     "output_type": "display_data"
    },
    {
     "data": {
      "text/plain": "<IPython.core.display.HTML object>",
      "text/html": "\n                Tracking run with wandb version 0.11.0<br/>\n                Syncing run <strong style=\"color:#cdcd00\">divine-sweep-89</strong> to <a href=\"https://wandb.ai\" target=\"_blank\">Weights & Biases</a> <a href=\"https://docs.wandb.com/integrations/jupyter.html\" target=\"_blank\">(Documentation)</a>.<br/>\n                Project page: <a href=\"https://wandb.ai/devcore/Metriken%20Bauwesen%20Sweeps\" target=\"_blank\">https://wandb.ai/devcore/Metriken%20Bauwesen%20Sweeps</a><br/>\n                Sweep page: <a href=\"https://wandb.ai/devcore/Metriken%20Bauwesen%20Sweeps/sweeps/u3louhfl\" target=\"_blank\">https://wandb.ai/devcore/Metriken%20Bauwesen%20Sweeps/sweeps/u3louhfl</a><br/>\nRun page: <a href=\"https://wandb.ai/devcore/Metriken%20Bauwesen%20Sweeps/runs/eontisof\" target=\"_blank\">https://wandb.ai/devcore/Metriken%20Bauwesen%20Sweeps/runs/eontisof</a><br/>\n                Run data is saved locally in <code>D:\\Development\\FHNW\\ip5-metriken-bauwesen\\src\\weight_and_bias\\wandb\\run-20210817_130210-eontisof</code><br/><br/>\n            "
     },
     "metadata": {},
     "output_type": "display_data"
    },
    {
     "data": {
      "text/plain": "<IPython.core.display.HTML object>",
      "text/html": "<br/>Waiting for W&B process to finish, PID 16412<br/>Program ended successfully."
     },
     "metadata": {},
     "output_type": "display_data"
    },
    {
     "data": {
      "text/plain": "VBox(children=(Label(value=' 0.00MB of 0.00MB uploaded (0.00MB deduped)\\r'), FloatProgress(value=1.0, max=1.0)…",
      "application/vnd.jupyter.widget-view+json": {
       "version_major": 2,
       "version_minor": 0,
       "model_id": "722a8ab61819424e8b304d2ed315c160"
      }
     },
     "metadata": {},
     "output_type": "display_data"
    },
    {
     "data": {
      "text/plain": "<IPython.core.display.HTML object>",
      "text/html": "Find user logs for this run at: <code>D:\\Development\\FHNW\\ip5-metriken-bauwesen\\src\\weight_and_bias\\wandb\\run-20210817_130210-eontisof\\logs\\debug.log</code>"
     },
     "metadata": {},
     "output_type": "display_data"
    },
    {
     "data": {
      "text/plain": "<IPython.core.display.HTML object>",
      "text/html": "Find internal logs for this run at: <code>D:\\Development\\FHNW\\ip5-metriken-bauwesen\\src\\weight_and_bias\\wandb\\run-20210817_130210-eontisof\\logs\\debug-internal.log</code>"
     },
     "metadata": {},
     "output_type": "display_data"
    },
    {
     "data": {
      "text/plain": "<IPython.core.display.HTML object>",
      "text/html": "<h3>Run summary:</h3><br/><style>\n    table.wandb td:nth-child(1) { padding: 0 10px; text-align: right }\n    </style><table class=\"wandb\">\n<tr><td>r2</td><td>0.95034</td></tr><tr><td>_runtime</td><td>41</td></tr><tr><td>_timestamp</td><td>1629198171</td></tr><tr><td>_step</td><td>3</td></tr><tr><td>neg_mape</td><td>-0.12853</td></tr><tr><td>neg_mae</td><td>-662.56975</td></tr><tr><td>neg_rmse</td><td>-1335.15949</td></tr></table>"
     },
     "metadata": {},
     "output_type": "display_data"
    },
    {
     "data": {
      "text/plain": "<IPython.core.display.HTML object>",
      "text/html": "<h3>Run history:</h3><br/><style>\n    table.wandb td:nth-child(1) { padding: 0 10px; text-align: right }\n    </style><table class=\"wandb\">\n<tr><td>r2</td><td>▁</td></tr><tr><td>_runtime</td><td>▁▁▁▁</td></tr><tr><td>_timestamp</td><td>▁▁▁▁</td></tr><tr><td>_step</td><td>▁▃▆█</td></tr><tr><td>neg_mape</td><td>▁</td></tr><tr><td>neg_mae</td><td>▁</td></tr><tr><td>neg_rmse</td><td>▁</td></tr></table><br/>"
     },
     "metadata": {},
     "output_type": "display_data"
    },
    {
     "data": {
      "text/plain": "<IPython.core.display.HTML object>",
      "text/html": "Synced 4 W&B file(s), 0 media file(s), 0 artifact file(s) and 0 other file(s)"
     },
     "metadata": {},
     "output_type": "display_data"
    },
    {
     "data": {
      "text/plain": "<IPython.core.display.HTML object>",
      "text/html": "\n                    <br/>Synced <strong style=\"color:#cdcd00\">divine-sweep-89</strong>: <a href=\"https://wandb.ai/devcore/Metriken%20Bauwesen%20Sweeps/runs/eontisof\" target=\"_blank\">https://wandb.ai/devcore/Metriken%20Bauwesen%20Sweeps/runs/eontisof</a><br/>\n                "
     },
     "metadata": {},
     "output_type": "display_data"
    },
    {
     "data": {
      "text/plain": "<IPython.core.display.HTML object>",
      "text/html": "\n                Tracking run with wandb version 0.11.0<br/>\n                Syncing run <strong style=\"color:#cdcd00\">crisp-sweep-90</strong> to <a href=\"https://wandb.ai\" target=\"_blank\">Weights & Biases</a> <a href=\"https://docs.wandb.com/integrations/jupyter.html\" target=\"_blank\">(Documentation)</a>.<br/>\n                Project page: <a href=\"https://wandb.ai/devcore/Metriken%20Bauwesen%20Sweeps\" target=\"_blank\">https://wandb.ai/devcore/Metriken%20Bauwesen%20Sweeps</a><br/>\n                Sweep page: <a href=\"https://wandb.ai/devcore/Metriken%20Bauwesen%20Sweeps/sweeps/u3louhfl\" target=\"_blank\">https://wandb.ai/devcore/Metriken%20Bauwesen%20Sweeps/sweeps/u3louhfl</a><br/>\nRun page: <a href=\"https://wandb.ai/devcore/Metriken%20Bauwesen%20Sweeps/runs/58y1ec5w\" target=\"_blank\">https://wandb.ai/devcore/Metriken%20Bauwesen%20Sweeps/runs/58y1ec5w</a><br/>\n                Run data is saved locally in <code>D:\\Development\\FHNW\\ip5-metriken-bauwesen\\src\\weight_and_bias\\wandb\\run-20210817_130257-58y1ec5w</code><br/><br/>\n            "
     },
     "metadata": {},
     "output_type": "display_data"
    },
    {
     "data": {
      "text/plain": "<IPython.core.display.HTML object>",
      "text/html": "<br/>Waiting for W&B process to finish, PID 21456<br/>Program ended successfully."
     },
     "metadata": {},
     "output_type": "display_data"
    },
    {
     "data": {
      "text/plain": "VBox(children=(Label(value=' 0.00MB of 0.00MB uploaded (0.00MB deduped)\\r'), FloatProgress(value=1.0, max=1.0)…",
      "application/vnd.jupyter.widget-view+json": {
       "version_major": 2,
       "version_minor": 0,
       "model_id": "4e783b727391438cb9e2dc87c71b1125"
      }
     },
     "metadata": {},
     "output_type": "display_data"
    },
    {
     "data": {
      "text/plain": "<IPython.core.display.HTML object>",
      "text/html": "Find user logs for this run at: <code>D:\\Development\\FHNW\\ip5-metriken-bauwesen\\src\\weight_and_bias\\wandb\\run-20210817_130257-58y1ec5w\\logs\\debug.log</code>"
     },
     "metadata": {},
     "output_type": "display_data"
    },
    {
     "data": {
      "text/plain": "<IPython.core.display.HTML object>",
      "text/html": "Find internal logs for this run at: <code>D:\\Development\\FHNW\\ip5-metriken-bauwesen\\src\\weight_and_bias\\wandb\\run-20210817_130257-58y1ec5w\\logs\\debug-internal.log</code>"
     },
     "metadata": {},
     "output_type": "display_data"
    },
    {
     "data": {
      "text/plain": "<IPython.core.display.HTML object>",
      "text/html": "<h3>Run summary:</h3><br/><style>\n    table.wandb td:nth-child(1) { padding: 0 10px; text-align: right }\n    </style><table class=\"wandb\">\n<tr><td>r2</td><td>0.94857</td></tr><tr><td>_runtime</td><td>32</td></tr><tr><td>_timestamp</td><td>1629198209</td></tr><tr><td>_step</td><td>3</td></tr><tr><td>neg_mape</td><td>-0.13232</td></tr><tr><td>neg_mae</td><td>-684.12141</td></tr><tr><td>neg_rmse</td><td>-1349.82351</td></tr></table>"
     },
     "metadata": {},
     "output_type": "display_data"
    },
    {
     "data": {
      "text/plain": "<IPython.core.display.HTML object>",
      "text/html": "<h3>Run history:</h3><br/><style>\n    table.wandb td:nth-child(1) { padding: 0 10px; text-align: right }\n    </style><table class=\"wandb\">\n<tr><td>r2</td><td>▁</td></tr><tr><td>_runtime</td><td>▁▁▁▁</td></tr><tr><td>_timestamp</td><td>▁▁▁▁</td></tr><tr><td>_step</td><td>▁▃▆█</td></tr><tr><td>neg_mape</td><td>▁</td></tr><tr><td>neg_mae</td><td>▁</td></tr><tr><td>neg_rmse</td><td>▁</td></tr></table><br/>"
     },
     "metadata": {},
     "output_type": "display_data"
    },
    {
     "data": {
      "text/plain": "<IPython.core.display.HTML object>",
      "text/html": "Synced 4 W&B file(s), 0 media file(s), 0 artifact file(s) and 0 other file(s)"
     },
     "metadata": {},
     "output_type": "display_data"
    },
    {
     "data": {
      "text/plain": "<IPython.core.display.HTML object>",
      "text/html": "\n                    <br/>Synced <strong style=\"color:#cdcd00\">crisp-sweep-90</strong>: <a href=\"https://wandb.ai/devcore/Metriken%20Bauwesen%20Sweeps/runs/58y1ec5w\" target=\"_blank\">https://wandb.ai/devcore/Metriken%20Bauwesen%20Sweeps/runs/58y1ec5w</a><br/>\n                "
     },
     "metadata": {},
     "output_type": "display_data"
    },
    {
     "data": {
      "text/plain": "<IPython.core.display.HTML object>",
      "text/html": "\n                Tracking run with wandb version 0.11.0<br/>\n                Syncing run <strong style=\"color:#cdcd00\">vivid-sweep-91</strong> to <a href=\"https://wandb.ai\" target=\"_blank\">Weights & Biases</a> <a href=\"https://docs.wandb.com/integrations/jupyter.html\" target=\"_blank\">(Documentation)</a>.<br/>\n                Project page: <a href=\"https://wandb.ai/devcore/Metriken%20Bauwesen%20Sweeps\" target=\"_blank\">https://wandb.ai/devcore/Metriken%20Bauwesen%20Sweeps</a><br/>\n                Sweep page: <a href=\"https://wandb.ai/devcore/Metriken%20Bauwesen%20Sweeps/sweeps/u3louhfl\" target=\"_blank\">https://wandb.ai/devcore/Metriken%20Bauwesen%20Sweeps/sweeps/u3louhfl</a><br/>\nRun page: <a href=\"https://wandb.ai/devcore/Metriken%20Bauwesen%20Sweeps/runs/8r4vopep\" target=\"_blank\">https://wandb.ai/devcore/Metriken%20Bauwesen%20Sweeps/runs/8r4vopep</a><br/>\n                Run data is saved locally in <code>D:\\Development\\FHNW\\ip5-metriken-bauwesen\\src\\weight_and_bias\\wandb\\run-20210817_130333-8r4vopep</code><br/><br/>\n            "
     },
     "metadata": {},
     "output_type": "display_data"
    },
    {
     "data": {
      "text/plain": "<IPython.core.display.HTML object>",
      "text/html": "<br/>Waiting for W&B process to finish, PID 18916<br/>Program ended successfully."
     },
     "metadata": {},
     "output_type": "display_data"
    },
    {
     "data": {
      "text/plain": "VBox(children=(Label(value=' 0.00MB of 0.00MB uploaded (0.00MB deduped)\\r'), FloatProgress(value=1.0, max=1.0)…",
      "application/vnd.jupyter.widget-view+json": {
       "version_major": 2,
       "version_minor": 0,
       "model_id": "ead6824088e045c4ae04585b70315c48"
      }
     },
     "metadata": {},
     "output_type": "display_data"
    },
    {
     "data": {
      "text/plain": "<IPython.core.display.HTML object>",
      "text/html": "Find user logs for this run at: <code>D:\\Development\\FHNW\\ip5-metriken-bauwesen\\src\\weight_and_bias\\wandb\\run-20210817_130333-8r4vopep\\logs\\debug.log</code>"
     },
     "metadata": {},
     "output_type": "display_data"
    },
    {
     "data": {
      "text/plain": "<IPython.core.display.HTML object>",
      "text/html": "Find internal logs for this run at: <code>D:\\Development\\FHNW\\ip5-metriken-bauwesen\\src\\weight_and_bias\\wandb\\run-20210817_130333-8r4vopep\\logs\\debug-internal.log</code>"
     },
     "metadata": {},
     "output_type": "display_data"
    },
    {
     "data": {
      "text/plain": "<IPython.core.display.HTML object>",
      "text/html": "<h3>Run summary:</h3><br/><style>\n    table.wandb td:nth-child(1) { padding: 0 10px; text-align: right }\n    </style><table class=\"wandb\">\n<tr><td>r2</td><td>0.94755</td></tr><tr><td>_runtime</td><td>87</td></tr><tr><td>_timestamp</td><td>1629198300</td></tr><tr><td>_step</td><td>3</td></tr><tr><td>neg_mape</td><td>-0.13149</td></tr><tr><td>neg_mae</td><td>-691.549</td></tr><tr><td>neg_rmse</td><td>-1370.45319</td></tr></table>"
     },
     "metadata": {},
     "output_type": "display_data"
    },
    {
     "data": {
      "text/plain": "<IPython.core.display.HTML object>",
      "text/html": "<h3>Run history:</h3><br/><style>\n    table.wandb td:nth-child(1) { padding: 0 10px; text-align: right }\n    </style><table class=\"wandb\">\n<tr><td>r2</td><td>▁</td></tr><tr><td>_runtime</td><td>▁▁▁▁</td></tr><tr><td>_timestamp</td><td>▁▁▁▁</td></tr><tr><td>_step</td><td>▁▃▆█</td></tr><tr><td>neg_mape</td><td>▁</td></tr><tr><td>neg_mae</td><td>▁</td></tr><tr><td>neg_rmse</td><td>▁</td></tr></table><br/>"
     },
     "metadata": {},
     "output_type": "display_data"
    },
    {
     "data": {
      "text/plain": "<IPython.core.display.HTML object>",
      "text/html": "Synced 4 W&B file(s), 0 media file(s), 0 artifact file(s) and 0 other file(s)"
     },
     "metadata": {},
     "output_type": "display_data"
    },
    {
     "data": {
      "text/plain": "<IPython.core.display.HTML object>",
      "text/html": "\n                    <br/>Synced <strong style=\"color:#cdcd00\">vivid-sweep-91</strong>: <a href=\"https://wandb.ai/devcore/Metriken%20Bauwesen%20Sweeps/runs/8r4vopep\" target=\"_blank\">https://wandb.ai/devcore/Metriken%20Bauwesen%20Sweeps/runs/8r4vopep</a><br/>\n                "
     },
     "metadata": {},
     "output_type": "display_data"
    },
    {
     "data": {
      "text/plain": "<IPython.core.display.HTML object>",
      "text/html": "\n                Tracking run with wandb version 0.11.0<br/>\n                Syncing run <strong style=\"color:#cdcd00\">rich-sweep-92</strong> to <a href=\"https://wandb.ai\" target=\"_blank\">Weights & Biases</a> <a href=\"https://docs.wandb.com/integrations/jupyter.html\" target=\"_blank\">(Documentation)</a>.<br/>\n                Project page: <a href=\"https://wandb.ai/devcore/Metriken%20Bauwesen%20Sweeps\" target=\"_blank\">https://wandb.ai/devcore/Metriken%20Bauwesen%20Sweeps</a><br/>\n                Sweep page: <a href=\"https://wandb.ai/devcore/Metriken%20Bauwesen%20Sweeps/sweeps/u3louhfl\" target=\"_blank\">https://wandb.ai/devcore/Metriken%20Bauwesen%20Sweeps/sweeps/u3louhfl</a><br/>\nRun page: <a href=\"https://wandb.ai/devcore/Metriken%20Bauwesen%20Sweeps/runs/gaglxawz\" target=\"_blank\">https://wandb.ai/devcore/Metriken%20Bauwesen%20Sweeps/runs/gaglxawz</a><br/>\n                Run data is saved locally in <code>D:\\Development\\FHNW\\ip5-metriken-bauwesen\\src\\weight_and_bias\\wandb\\run-20210817_130503-gaglxawz</code><br/><br/>\n            "
     },
     "metadata": {},
     "output_type": "display_data"
    },
    {
     "data": {
      "text/plain": "<IPython.core.display.HTML object>",
      "text/html": "<br/>Waiting for W&B process to finish, PID 24760<br/>Program ended successfully."
     },
     "metadata": {},
     "output_type": "display_data"
    },
    {
     "data": {
      "text/plain": "VBox(children=(Label(value=' 0.00MB of 0.00MB uploaded (0.00MB deduped)\\r'), FloatProgress(value=1.0, max=1.0)…",
      "application/vnd.jupyter.widget-view+json": {
       "version_major": 2,
       "version_minor": 0,
       "model_id": "1c1001744ef14321852d450cd7582466"
      }
     },
     "metadata": {},
     "output_type": "display_data"
    },
    {
     "data": {
      "text/plain": "<IPython.core.display.HTML object>",
      "text/html": "Find user logs for this run at: <code>D:\\Development\\FHNW\\ip5-metriken-bauwesen\\src\\weight_and_bias\\wandb\\run-20210817_130503-gaglxawz\\logs\\debug.log</code>"
     },
     "metadata": {},
     "output_type": "display_data"
    },
    {
     "data": {
      "text/plain": "<IPython.core.display.HTML object>",
      "text/html": "Find internal logs for this run at: <code>D:\\Development\\FHNW\\ip5-metriken-bauwesen\\src\\weight_and_bias\\wandb\\run-20210817_130503-gaglxawz\\logs\\debug-internal.log</code>"
     },
     "metadata": {},
     "output_type": "display_data"
    },
    {
     "data": {
      "text/plain": "<IPython.core.display.HTML object>",
      "text/html": "<h3>Run summary:</h3><br/><style>\n    table.wandb td:nth-child(1) { padding: 0 10px; text-align: right }\n    </style><table class=\"wandb\">\n<tr><td>r2</td><td>0.92591</td></tr><tr><td>_runtime</td><td>13</td></tr><tr><td>_timestamp</td><td>1629198316</td></tr><tr><td>_step</td><td>3</td></tr><tr><td>neg_mape</td><td>-0.13337</td></tr><tr><td>neg_mae</td><td>-721.19985</td></tr><tr><td>neg_rmse</td><td>-1636.43646</td></tr></table>"
     },
     "metadata": {},
     "output_type": "display_data"
    },
    {
     "data": {
      "text/plain": "<IPython.core.display.HTML object>",
      "text/html": "<h3>Run history:</h3><br/><style>\n    table.wandb td:nth-child(1) { padding: 0 10px; text-align: right }\n    </style><table class=\"wandb\">\n<tr><td>r2</td><td>▁</td></tr><tr><td>_runtime</td><td>▁▁▁▁</td></tr><tr><td>_timestamp</td><td>▁▁▁▁</td></tr><tr><td>_step</td><td>▁▃▆█</td></tr><tr><td>neg_mape</td><td>▁</td></tr><tr><td>neg_mae</td><td>▁</td></tr><tr><td>neg_rmse</td><td>▁</td></tr></table><br/>"
     },
     "metadata": {},
     "output_type": "display_data"
    },
    {
     "data": {
      "text/plain": "<IPython.core.display.HTML object>",
      "text/html": "Synced 4 W&B file(s), 0 media file(s), 0 artifact file(s) and 0 other file(s)"
     },
     "metadata": {},
     "output_type": "display_data"
    },
    {
     "data": {
      "text/plain": "<IPython.core.display.HTML object>",
      "text/html": "\n                    <br/>Synced <strong style=\"color:#cdcd00\">rich-sweep-92</strong>: <a href=\"https://wandb.ai/devcore/Metriken%20Bauwesen%20Sweeps/runs/gaglxawz\" target=\"_blank\">https://wandb.ai/devcore/Metriken%20Bauwesen%20Sweeps/runs/gaglxawz</a><br/>\n                "
     },
     "metadata": {},
     "output_type": "display_data"
    },
    {
     "data": {
      "text/plain": "<IPython.core.display.HTML object>",
      "text/html": "\n                Tracking run with wandb version 0.11.0<br/>\n                Syncing run <strong style=\"color:#cdcd00\">restful-sweep-93</strong> to <a href=\"https://wandb.ai\" target=\"_blank\">Weights & Biases</a> <a href=\"https://docs.wandb.com/integrations/jupyter.html\" target=\"_blank\">(Documentation)</a>.<br/>\n                Project page: <a href=\"https://wandb.ai/devcore/Metriken%20Bauwesen%20Sweeps\" target=\"_blank\">https://wandb.ai/devcore/Metriken%20Bauwesen%20Sweeps</a><br/>\n                Sweep page: <a href=\"https://wandb.ai/devcore/Metriken%20Bauwesen%20Sweeps/sweeps/u3louhfl\" target=\"_blank\">https://wandb.ai/devcore/Metriken%20Bauwesen%20Sweeps/sweeps/u3louhfl</a><br/>\nRun page: <a href=\"https://wandb.ai/devcore/Metriken%20Bauwesen%20Sweeps/runs/cng5uv6u\" target=\"_blank\">https://wandb.ai/devcore/Metriken%20Bauwesen%20Sweeps/runs/cng5uv6u</a><br/>\n                Run data is saved locally in <code>D:\\Development\\FHNW\\ip5-metriken-bauwesen\\src\\weight_and_bias\\wandb\\run-20210817_130521-cng5uv6u</code><br/><br/>\n            "
     },
     "metadata": {},
     "output_type": "display_data"
    },
    {
     "data": {
      "text/plain": "<IPython.core.display.HTML object>",
      "text/html": "<br/>Waiting for W&B process to finish, PID 26444<br/>Program ended successfully."
     },
     "metadata": {},
     "output_type": "display_data"
    },
    {
     "data": {
      "text/plain": "VBox(children=(Label(value=' 0.00MB of 0.00MB uploaded (0.00MB deduped)\\r'), FloatProgress(value=1.0, max=1.0)…",
      "application/vnd.jupyter.widget-view+json": {
       "version_major": 2,
       "version_minor": 0,
       "model_id": "6ad059df0b9a478ba9da78cb80743dfa"
      }
     },
     "metadata": {},
     "output_type": "display_data"
    },
    {
     "data": {
      "text/plain": "<IPython.core.display.HTML object>",
      "text/html": "Find user logs for this run at: <code>D:\\Development\\FHNW\\ip5-metriken-bauwesen\\src\\weight_and_bias\\wandb\\run-20210817_130521-cng5uv6u\\logs\\debug.log</code>"
     },
     "metadata": {},
     "output_type": "display_data"
    },
    {
     "data": {
      "text/plain": "<IPython.core.display.HTML object>",
      "text/html": "Find internal logs for this run at: <code>D:\\Development\\FHNW\\ip5-metriken-bauwesen\\src\\weight_and_bias\\wandb\\run-20210817_130521-cng5uv6u\\logs\\debug-internal.log</code>"
     },
     "metadata": {},
     "output_type": "display_data"
    },
    {
     "data": {
      "text/plain": "<IPython.core.display.HTML object>",
      "text/html": "<h3>Run summary:</h3><br/><style>\n    table.wandb td:nth-child(1) { padding: 0 10px; text-align: right }\n    </style><table class=\"wandb\">\n<tr><td>r2</td><td>0.93841</td></tr><tr><td>_runtime</td><td>12</td></tr><tr><td>_timestamp</td><td>1629198333</td></tr><tr><td>_step</td><td>3</td></tr><tr><td>neg_mape</td><td>-0.13803</td></tr><tr><td>neg_mae</td><td>-738.87368</td></tr><tr><td>neg_rmse</td><td>-1474.0812</td></tr></table>"
     },
     "metadata": {},
     "output_type": "display_data"
    },
    {
     "data": {
      "text/plain": "<IPython.core.display.HTML object>",
      "text/html": "<h3>Run history:</h3><br/><style>\n    table.wandb td:nth-child(1) { padding: 0 10px; text-align: right }\n    </style><table class=\"wandb\">\n<tr><td>r2</td><td>▁</td></tr><tr><td>_runtime</td><td>▁▁▁▁</td></tr><tr><td>_timestamp</td><td>▁▁▁▁</td></tr><tr><td>_step</td><td>▁▃▆█</td></tr><tr><td>neg_mape</td><td>▁</td></tr><tr><td>neg_mae</td><td>▁</td></tr><tr><td>neg_rmse</td><td>▁</td></tr></table><br/>"
     },
     "metadata": {},
     "output_type": "display_data"
    },
    {
     "data": {
      "text/plain": "<IPython.core.display.HTML object>",
      "text/html": "Synced 4 W&B file(s), 0 media file(s), 0 artifact file(s) and 0 other file(s)"
     },
     "metadata": {},
     "output_type": "display_data"
    },
    {
     "data": {
      "text/plain": "<IPython.core.display.HTML object>",
      "text/html": "\n                    <br/>Synced <strong style=\"color:#cdcd00\">restful-sweep-93</strong>: <a href=\"https://wandb.ai/devcore/Metriken%20Bauwesen%20Sweeps/runs/cng5uv6u\" target=\"_blank\">https://wandb.ai/devcore/Metriken%20Bauwesen%20Sweeps/runs/cng5uv6u</a><br/>\n                "
     },
     "metadata": {},
     "output_type": "display_data"
    },
    {
     "data": {
      "text/plain": "<IPython.core.display.HTML object>",
      "text/html": "\n                Tracking run with wandb version 0.11.0<br/>\n                Syncing run <strong style=\"color:#cdcd00\">light-sweep-94</strong> to <a href=\"https://wandb.ai\" target=\"_blank\">Weights & Biases</a> <a href=\"https://docs.wandb.com/integrations/jupyter.html\" target=\"_blank\">(Documentation)</a>.<br/>\n                Project page: <a href=\"https://wandb.ai/devcore/Metriken%20Bauwesen%20Sweeps\" target=\"_blank\">https://wandb.ai/devcore/Metriken%20Bauwesen%20Sweeps</a><br/>\n                Sweep page: <a href=\"https://wandb.ai/devcore/Metriken%20Bauwesen%20Sweeps/sweeps/u3louhfl\" target=\"_blank\">https://wandb.ai/devcore/Metriken%20Bauwesen%20Sweeps/sweeps/u3louhfl</a><br/>\nRun page: <a href=\"https://wandb.ai/devcore/Metriken%20Bauwesen%20Sweeps/runs/3coftp7x\" target=\"_blank\">https://wandb.ai/devcore/Metriken%20Bauwesen%20Sweeps/runs/3coftp7x</a><br/>\n                Run data is saved locally in <code>D:\\Development\\FHNW\\ip5-metriken-bauwesen\\src\\weight_and_bias\\wandb\\run-20210817_130538-3coftp7x</code><br/><br/>\n            "
     },
     "metadata": {},
     "output_type": "display_data"
    },
    {
     "data": {
      "text/plain": "<IPython.core.display.HTML object>",
      "text/html": "<br/>Waiting for W&B process to finish, PID 14624<br/>Program ended successfully."
     },
     "metadata": {},
     "output_type": "display_data"
    },
    {
     "data": {
      "text/plain": "VBox(children=(Label(value=' 0.00MB of 0.00MB uploaded (0.00MB deduped)\\r'), FloatProgress(value=1.0, max=1.0)…",
      "application/vnd.jupyter.widget-view+json": {
       "version_major": 2,
       "version_minor": 0,
       "model_id": "52e77acdae9a4382874fbdfb29a6f8b4"
      }
     },
     "metadata": {},
     "output_type": "display_data"
    },
    {
     "data": {
      "text/plain": "<IPython.core.display.HTML object>",
      "text/html": "Find user logs for this run at: <code>D:\\Development\\FHNW\\ip5-metriken-bauwesen\\src\\weight_and_bias\\wandb\\run-20210817_130538-3coftp7x\\logs\\debug.log</code>"
     },
     "metadata": {},
     "output_type": "display_data"
    },
    {
     "data": {
      "text/plain": "<IPython.core.display.HTML object>",
      "text/html": "Find internal logs for this run at: <code>D:\\Development\\FHNW\\ip5-metriken-bauwesen\\src\\weight_and_bias\\wandb\\run-20210817_130538-3coftp7x\\logs\\debug-internal.log</code>"
     },
     "metadata": {},
     "output_type": "display_data"
    },
    {
     "data": {
      "text/plain": "<IPython.core.display.HTML object>",
      "text/html": "<h3>Run summary:</h3><br/><style>\n    table.wandb td:nth-child(1) { padding: 0 10px; text-align: right }\n    </style><table class=\"wandb\">\n<tr><td>r2</td><td>0.9533</td></tr><tr><td>_runtime</td><td>34</td></tr><tr><td>_timestamp</td><td>1629198372</td></tr><tr><td>_step</td><td>3</td></tr><tr><td>neg_mape</td><td>-0.12816</td></tr><tr><td>neg_mae</td><td>-653.35557</td></tr><tr><td>neg_rmse</td><td>-1288.33975</td></tr></table>"
     },
     "metadata": {},
     "output_type": "display_data"
    },
    {
     "data": {
      "text/plain": "<IPython.core.display.HTML object>",
      "text/html": "<h3>Run history:</h3><br/><style>\n    table.wandb td:nth-child(1) { padding: 0 10px; text-align: right }\n    </style><table class=\"wandb\">\n<tr><td>r2</td><td>▁</td></tr><tr><td>_runtime</td><td>▁▁▁▁</td></tr><tr><td>_timestamp</td><td>▁▁▁▁</td></tr><tr><td>_step</td><td>▁▃▆█</td></tr><tr><td>neg_mape</td><td>▁</td></tr><tr><td>neg_mae</td><td>▁</td></tr><tr><td>neg_rmse</td><td>▁</td></tr></table><br/>"
     },
     "metadata": {},
     "output_type": "display_data"
    },
    {
     "data": {
      "text/plain": "<IPython.core.display.HTML object>",
      "text/html": "Synced 4 W&B file(s), 0 media file(s), 0 artifact file(s) and 0 other file(s)"
     },
     "metadata": {},
     "output_type": "display_data"
    },
    {
     "data": {
      "text/plain": "<IPython.core.display.HTML object>",
      "text/html": "\n                    <br/>Synced <strong style=\"color:#cdcd00\">light-sweep-94</strong>: <a href=\"https://wandb.ai/devcore/Metriken%20Bauwesen%20Sweeps/runs/3coftp7x\" target=\"_blank\">https://wandb.ai/devcore/Metriken%20Bauwesen%20Sweeps/runs/3coftp7x</a><br/>\n                "
     },
     "metadata": {},
     "output_type": "display_data"
    },
    {
     "data": {
      "text/plain": "<IPython.core.display.HTML object>",
      "text/html": "\n                Tracking run with wandb version 0.11.0<br/>\n                Syncing run <strong style=\"color:#cdcd00\">smart-sweep-95</strong> to <a href=\"https://wandb.ai\" target=\"_blank\">Weights & Biases</a> <a href=\"https://docs.wandb.com/integrations/jupyter.html\" target=\"_blank\">(Documentation)</a>.<br/>\n                Project page: <a href=\"https://wandb.ai/devcore/Metriken%20Bauwesen%20Sweeps\" target=\"_blank\">https://wandb.ai/devcore/Metriken%20Bauwesen%20Sweeps</a><br/>\n                Sweep page: <a href=\"https://wandb.ai/devcore/Metriken%20Bauwesen%20Sweeps/sweeps/u3louhfl\" target=\"_blank\">https://wandb.ai/devcore/Metriken%20Bauwesen%20Sweeps/sweeps/u3louhfl</a><br/>\nRun page: <a href=\"https://wandb.ai/devcore/Metriken%20Bauwesen%20Sweeps/runs/pt2722e5\" target=\"_blank\">https://wandb.ai/devcore/Metriken%20Bauwesen%20Sweeps/runs/pt2722e5</a><br/>\n                Run data is saved locally in <code>D:\\Development\\FHNW\\ip5-metriken-bauwesen\\src\\weight_and_bias\\wandb\\run-20210817_130617-pt2722e5</code><br/><br/>\n            "
     },
     "metadata": {},
     "output_type": "display_data"
    },
    {
     "data": {
      "text/plain": "<IPython.core.display.HTML object>",
      "text/html": "<br/>Waiting for W&B process to finish, PID 19324<br/>Program ended successfully."
     },
     "metadata": {},
     "output_type": "display_data"
    },
    {
     "data": {
      "text/plain": "VBox(children=(Label(value=' 0.00MB of 0.00MB uploaded (0.00MB deduped)\\r'), FloatProgress(value=1.0, max=1.0)…",
      "application/vnd.jupyter.widget-view+json": {
       "version_major": 2,
       "version_minor": 0,
       "model_id": "4ee44a1eb29744b8b31726625f16291d"
      }
     },
     "metadata": {},
     "output_type": "display_data"
    },
    {
     "data": {
      "text/plain": "<IPython.core.display.HTML object>",
      "text/html": "Find user logs for this run at: <code>D:\\Development\\FHNW\\ip5-metriken-bauwesen\\src\\weight_and_bias\\wandb\\run-20210817_130617-pt2722e5\\logs\\debug.log</code>"
     },
     "metadata": {},
     "output_type": "display_data"
    },
    {
     "data": {
      "text/plain": "<IPython.core.display.HTML object>",
      "text/html": "Find internal logs for this run at: <code>D:\\Development\\FHNW\\ip5-metriken-bauwesen\\src\\weight_and_bias\\wandb\\run-20210817_130617-pt2722e5\\logs\\debug-internal.log</code>"
     },
     "metadata": {},
     "output_type": "display_data"
    },
    {
     "data": {
      "text/plain": "<IPython.core.display.HTML object>",
      "text/html": "<h3>Run summary:</h3><br/><style>\n    table.wandb td:nth-child(1) { padding: 0 10px; text-align: right }\n    </style><table class=\"wandb\">\n<tr><td>r2</td><td>0.95252</td></tr><tr><td>_runtime</td><td>34</td></tr><tr><td>_timestamp</td><td>1629198411</td></tr><tr><td>_step</td><td>3</td></tr><tr><td>neg_mape</td><td>-0.12856</td></tr><tr><td>neg_mae</td><td>-649.53445</td></tr><tr><td>neg_rmse</td><td>-1299.75957</td></tr></table>"
     },
     "metadata": {},
     "output_type": "display_data"
    },
    {
     "data": {
      "text/plain": "<IPython.core.display.HTML object>",
      "text/html": "<h3>Run history:</h3><br/><style>\n    table.wandb td:nth-child(1) { padding: 0 10px; text-align: right }\n    </style><table class=\"wandb\">\n<tr><td>r2</td><td>▁</td></tr><tr><td>_runtime</td><td>▁▁▁▁</td></tr><tr><td>_timestamp</td><td>▁▁▁▁</td></tr><tr><td>_step</td><td>▁▃▆█</td></tr><tr><td>neg_mape</td><td>▁</td></tr><tr><td>neg_mae</td><td>▁</td></tr><tr><td>neg_rmse</td><td>▁</td></tr></table><br/>"
     },
     "metadata": {},
     "output_type": "display_data"
    },
    {
     "data": {
      "text/plain": "<IPython.core.display.HTML object>",
      "text/html": "Synced 4 W&B file(s), 0 media file(s), 0 artifact file(s) and 0 other file(s)"
     },
     "metadata": {},
     "output_type": "display_data"
    },
    {
     "data": {
      "text/plain": "<IPython.core.display.HTML object>",
      "text/html": "\n                    <br/>Synced <strong style=\"color:#cdcd00\">smart-sweep-95</strong>: <a href=\"https://wandb.ai/devcore/Metriken%20Bauwesen%20Sweeps/runs/pt2722e5\" target=\"_blank\">https://wandb.ai/devcore/Metriken%20Bauwesen%20Sweeps/runs/pt2722e5</a><br/>\n                "
     },
     "metadata": {},
     "output_type": "display_data"
    },
    {
     "data": {
      "text/plain": "<IPython.core.display.HTML object>",
      "text/html": "\n                Tracking run with wandb version 0.11.0<br/>\n                Syncing run <strong style=\"color:#cdcd00\">stellar-sweep-96</strong> to <a href=\"https://wandb.ai\" target=\"_blank\">Weights & Biases</a> <a href=\"https://docs.wandb.com/integrations/jupyter.html\" target=\"_blank\">(Documentation)</a>.<br/>\n                Project page: <a href=\"https://wandb.ai/devcore/Metriken%20Bauwesen%20Sweeps\" target=\"_blank\">https://wandb.ai/devcore/Metriken%20Bauwesen%20Sweeps</a><br/>\n                Sweep page: <a href=\"https://wandb.ai/devcore/Metriken%20Bauwesen%20Sweeps/sweeps/u3louhfl\" target=\"_blank\">https://wandb.ai/devcore/Metriken%20Bauwesen%20Sweeps/sweeps/u3louhfl</a><br/>\nRun page: <a href=\"https://wandb.ai/devcore/Metriken%20Bauwesen%20Sweeps/runs/96xnuacq\" target=\"_blank\">https://wandb.ai/devcore/Metriken%20Bauwesen%20Sweeps/runs/96xnuacq</a><br/>\n                Run data is saved locally in <code>D:\\Development\\FHNW\\ip5-metriken-bauwesen\\src\\weight_and_bias\\wandb\\run-20210817_130655-96xnuacq</code><br/><br/>\n            "
     },
     "metadata": {},
     "output_type": "display_data"
    },
    {
     "data": {
      "text/plain": "<IPython.core.display.HTML object>",
      "text/html": "<br/>Waiting for W&B process to finish, PID 25352<br/>Program ended successfully."
     },
     "metadata": {},
     "output_type": "display_data"
    },
    {
     "data": {
      "text/plain": "VBox(children=(Label(value=' 0.00MB of 0.00MB uploaded (0.00MB deduped)\\r'), FloatProgress(value=1.0, max=1.0)…",
      "application/vnd.jupyter.widget-view+json": {
       "version_major": 2,
       "version_minor": 0,
       "model_id": "60bb5b0528a44bf485a0c040a1ce31ce"
      }
     },
     "metadata": {},
     "output_type": "display_data"
    },
    {
     "data": {
      "text/plain": "<IPython.core.display.HTML object>",
      "text/html": "Find user logs for this run at: <code>D:\\Development\\FHNW\\ip5-metriken-bauwesen\\src\\weight_and_bias\\wandb\\run-20210817_130655-96xnuacq\\logs\\debug.log</code>"
     },
     "metadata": {},
     "output_type": "display_data"
    },
    {
     "data": {
      "text/plain": "<IPython.core.display.HTML object>",
      "text/html": "Find internal logs for this run at: <code>D:\\Development\\FHNW\\ip5-metriken-bauwesen\\src\\weight_and_bias\\wandb\\run-20210817_130655-96xnuacq\\logs\\debug-internal.log</code>"
     },
     "metadata": {},
     "output_type": "display_data"
    },
    {
     "data": {
      "text/plain": "<IPython.core.display.HTML object>",
      "text/html": "<h3>Run summary:</h3><br/><style>\n    table.wandb td:nth-child(1) { padding: 0 10px; text-align: right }\n    </style><table class=\"wandb\">\n<tr><td>r2</td><td>0.94995</td></tr><tr><td>_runtime</td><td>27</td></tr><tr><td>_timestamp</td><td>1629198442</td></tr><tr><td>_step</td><td>3</td></tr><tr><td>neg_mape</td><td>-0.12304</td></tr><tr><td>neg_mae</td><td>-653.47005</td></tr><tr><td>neg_rmse</td><td>-1341.61952</td></tr></table>"
     },
     "metadata": {},
     "output_type": "display_data"
    },
    {
     "data": {
      "text/plain": "<IPython.core.display.HTML object>",
      "text/html": "<h3>Run history:</h3><br/><style>\n    table.wandb td:nth-child(1) { padding: 0 10px; text-align: right }\n    </style><table class=\"wandb\">\n<tr><td>r2</td><td>▁</td></tr><tr><td>_runtime</td><td>▁▁▁▁</td></tr><tr><td>_timestamp</td><td>▁▁▁▁</td></tr><tr><td>_step</td><td>▁▃▆█</td></tr><tr><td>neg_mape</td><td>▁</td></tr><tr><td>neg_mae</td><td>▁</td></tr><tr><td>neg_rmse</td><td>▁</td></tr></table><br/>"
     },
     "metadata": {},
     "output_type": "display_data"
    },
    {
     "data": {
      "text/plain": "<IPython.core.display.HTML object>",
      "text/html": "Synced 4 W&B file(s), 0 media file(s), 0 artifact file(s) and 0 other file(s)"
     },
     "metadata": {},
     "output_type": "display_data"
    },
    {
     "data": {
      "text/plain": "<IPython.core.display.HTML object>",
      "text/html": "\n                    <br/>Synced <strong style=\"color:#cdcd00\">stellar-sweep-96</strong>: <a href=\"https://wandb.ai/devcore/Metriken%20Bauwesen%20Sweeps/runs/96xnuacq\" target=\"_blank\">https://wandb.ai/devcore/Metriken%20Bauwesen%20Sweeps/runs/96xnuacq</a><br/>\n                "
     },
     "metadata": {},
     "output_type": "display_data"
    },
    {
     "data": {
      "text/plain": "<IPython.core.display.HTML object>",
      "text/html": "\n                Tracking run with wandb version 0.11.0<br/>\n                Syncing run <strong style=\"color:#cdcd00\">splendid-sweep-97</strong> to <a href=\"https://wandb.ai\" target=\"_blank\">Weights & Biases</a> <a href=\"https://docs.wandb.com/integrations/jupyter.html\" target=\"_blank\">(Documentation)</a>.<br/>\n                Project page: <a href=\"https://wandb.ai/devcore/Metriken%20Bauwesen%20Sweeps\" target=\"_blank\">https://wandb.ai/devcore/Metriken%20Bauwesen%20Sweeps</a><br/>\n                Sweep page: <a href=\"https://wandb.ai/devcore/Metriken%20Bauwesen%20Sweeps/sweeps/u3louhfl\" target=\"_blank\">https://wandb.ai/devcore/Metriken%20Bauwesen%20Sweeps/sweeps/u3louhfl</a><br/>\nRun page: <a href=\"https://wandb.ai/devcore/Metriken%20Bauwesen%20Sweeps/runs/t9iw8c7d\" target=\"_blank\">https://wandb.ai/devcore/Metriken%20Bauwesen%20Sweeps/runs/t9iw8c7d</a><br/>\n                Run data is saved locally in <code>D:\\Development\\FHNW\\ip5-metriken-bauwesen\\src\\weight_and_bias\\wandb\\run-20210817_130726-t9iw8c7d</code><br/><br/>\n            "
     },
     "metadata": {},
     "output_type": "display_data"
    },
    {
     "data": {
      "text/plain": "<IPython.core.display.HTML object>",
      "text/html": "<br/>Waiting for W&B process to finish, PID 10376<br/>Program ended successfully."
     },
     "metadata": {},
     "output_type": "display_data"
    },
    {
     "data": {
      "text/plain": "VBox(children=(Label(value=' 0.00MB of 0.00MB uploaded (0.00MB deduped)\\r'), FloatProgress(value=1.0, max=1.0)…",
      "application/vnd.jupyter.widget-view+json": {
       "version_major": 2,
       "version_minor": 0,
       "model_id": "e5f7a628b68f4f1badaacd57b76a74fa"
      }
     },
     "metadata": {},
     "output_type": "display_data"
    },
    {
     "data": {
      "text/plain": "<IPython.core.display.HTML object>",
      "text/html": "Find user logs for this run at: <code>D:\\Development\\FHNW\\ip5-metriken-bauwesen\\src\\weight_and_bias\\wandb\\run-20210817_130726-t9iw8c7d\\logs\\debug.log</code>"
     },
     "metadata": {},
     "output_type": "display_data"
    },
    {
     "data": {
      "text/plain": "<IPython.core.display.HTML object>",
      "text/html": "Find internal logs for this run at: <code>D:\\Development\\FHNW\\ip5-metriken-bauwesen\\src\\weight_and_bias\\wandb\\run-20210817_130726-t9iw8c7d\\logs\\debug-internal.log</code>"
     },
     "metadata": {},
     "output_type": "display_data"
    },
    {
     "data": {
      "text/plain": "<IPython.core.display.HTML object>",
      "text/html": "<h3>Run summary:</h3><br/><style>\n    table.wandb td:nth-child(1) { padding: 0 10px; text-align: right }\n    </style><table class=\"wandb\">\n<tr><td>r2</td><td>0.94927</td></tr><tr><td>_runtime</td><td>44</td></tr><tr><td>_timestamp</td><td>1629198491</td></tr><tr><td>_step</td><td>3</td></tr><tr><td>neg_mape</td><td>-0.13579</td></tr><tr><td>neg_mae</td><td>-690.383</td></tr><tr><td>neg_rmse</td><td>-1347.45125</td></tr></table>"
     },
     "metadata": {},
     "output_type": "display_data"
    },
    {
     "data": {
      "text/plain": "<IPython.core.display.HTML object>",
      "text/html": "<h3>Run history:</h3><br/><style>\n    table.wandb td:nth-child(1) { padding: 0 10px; text-align: right }\n    </style><table class=\"wandb\">\n<tr><td>r2</td><td>▁</td></tr><tr><td>_runtime</td><td>▁▁▁▁</td></tr><tr><td>_timestamp</td><td>▁▁▁▁</td></tr><tr><td>_step</td><td>▁▃▆█</td></tr><tr><td>neg_mape</td><td>▁</td></tr><tr><td>neg_mae</td><td>▁</td></tr><tr><td>neg_rmse</td><td>▁</td></tr></table><br/>"
     },
     "metadata": {},
     "output_type": "display_data"
    },
    {
     "data": {
      "text/plain": "<IPython.core.display.HTML object>",
      "text/html": "Synced 4 W&B file(s), 0 media file(s), 0 artifact file(s) and 0 other file(s)"
     },
     "metadata": {},
     "output_type": "display_data"
    },
    {
     "data": {
      "text/plain": "<IPython.core.display.HTML object>",
      "text/html": "\n                    <br/>Synced <strong style=\"color:#cdcd00\">splendid-sweep-97</strong>: <a href=\"https://wandb.ai/devcore/Metriken%20Bauwesen%20Sweeps/runs/t9iw8c7d\" target=\"_blank\">https://wandb.ai/devcore/Metriken%20Bauwesen%20Sweeps/runs/t9iw8c7d</a><br/>\n                "
     },
     "metadata": {},
     "output_type": "display_data"
    },
    {
     "data": {
      "text/plain": "<IPython.core.display.HTML object>",
      "text/html": "\n                Tracking run with wandb version 0.11.0<br/>\n                Syncing run <strong style=\"color:#cdcd00\">worldly-sweep-98</strong> to <a href=\"https://wandb.ai\" target=\"_blank\">Weights & Biases</a> <a href=\"https://docs.wandb.com/integrations/jupyter.html\" target=\"_blank\">(Documentation)</a>.<br/>\n                Project page: <a href=\"https://wandb.ai/devcore/Metriken%20Bauwesen%20Sweeps\" target=\"_blank\">https://wandb.ai/devcore/Metriken%20Bauwesen%20Sweeps</a><br/>\n                Sweep page: <a href=\"https://wandb.ai/devcore/Metriken%20Bauwesen%20Sweeps/sweeps/u3louhfl\" target=\"_blank\">https://wandb.ai/devcore/Metriken%20Bauwesen%20Sweeps/sweeps/u3louhfl</a><br/>\nRun page: <a href=\"https://wandb.ai/devcore/Metriken%20Bauwesen%20Sweeps/runs/k1ywppc2\" target=\"_blank\">https://wandb.ai/devcore/Metriken%20Bauwesen%20Sweeps/runs/k1ywppc2</a><br/>\n                Run data is saved locally in <code>D:\\Development\\FHNW\\ip5-metriken-bauwesen\\src\\weight_and_bias\\wandb\\run-20210817_130815-k1ywppc2</code><br/><br/>\n            "
     },
     "metadata": {},
     "output_type": "display_data"
    },
    {
     "data": {
      "text/plain": "<IPython.core.display.HTML object>",
      "text/html": "<br/>Waiting for W&B process to finish, PID 17768<br/>Program ended successfully."
     },
     "metadata": {},
     "output_type": "display_data"
    },
    {
     "data": {
      "text/plain": "VBox(children=(Label(value=' 0.00MB of 0.00MB uploaded (0.00MB deduped)\\r'), FloatProgress(value=1.0, max=1.0)…",
      "application/vnd.jupyter.widget-view+json": {
       "version_major": 2,
       "version_minor": 0,
       "model_id": "fe54033e68e34bdbae2697f52101e117"
      }
     },
     "metadata": {},
     "output_type": "display_data"
    },
    {
     "data": {
      "text/plain": "<IPython.core.display.HTML object>",
      "text/html": "Find user logs for this run at: <code>D:\\Development\\FHNW\\ip5-metriken-bauwesen\\src\\weight_and_bias\\wandb\\run-20210817_130815-k1ywppc2\\logs\\debug.log</code>"
     },
     "metadata": {},
     "output_type": "display_data"
    },
    {
     "data": {
      "text/plain": "<IPython.core.display.HTML object>",
      "text/html": "Find internal logs for this run at: <code>D:\\Development\\FHNW\\ip5-metriken-bauwesen\\src\\weight_and_bias\\wandb\\run-20210817_130815-k1ywppc2\\logs\\debug-internal.log</code>"
     },
     "metadata": {},
     "output_type": "display_data"
    },
    {
     "data": {
      "text/plain": "<IPython.core.display.HTML object>",
      "text/html": "<h3>Run summary:</h3><br/><style>\n    table.wandb td:nth-child(1) { padding: 0 10px; text-align: right }\n    </style><table class=\"wandb\">\n<tr><td>r2</td><td>0.94787</td></tr><tr><td>_runtime</td><td>54</td></tr><tr><td>_timestamp</td><td>1629198549</td></tr><tr><td>_step</td><td>3</td></tr><tr><td>neg_mape</td><td>-0.13453</td></tr><tr><td>neg_mae</td><td>-694.64713</td></tr><tr><td>neg_rmse</td><td>-1355.86664</td></tr></table>"
     },
     "metadata": {},
     "output_type": "display_data"
    },
    {
     "data": {
      "text/plain": "<IPython.core.display.HTML object>",
      "text/html": "<h3>Run history:</h3><br/><style>\n    table.wandb td:nth-child(1) { padding: 0 10px; text-align: right }\n    </style><table class=\"wandb\">\n<tr><td>r2</td><td>▁</td></tr><tr><td>_runtime</td><td>▁▁▁▁</td></tr><tr><td>_timestamp</td><td>▁▁▁▁</td></tr><tr><td>_step</td><td>▁▃▆█</td></tr><tr><td>neg_mape</td><td>▁</td></tr><tr><td>neg_mae</td><td>▁</td></tr><tr><td>neg_rmse</td><td>▁</td></tr></table><br/>"
     },
     "metadata": {},
     "output_type": "display_data"
    },
    {
     "data": {
      "text/plain": "<IPython.core.display.HTML object>",
      "text/html": "Synced 4 W&B file(s), 0 media file(s), 0 artifact file(s) and 0 other file(s)"
     },
     "metadata": {},
     "output_type": "display_data"
    },
    {
     "data": {
      "text/plain": "<IPython.core.display.HTML object>",
      "text/html": "\n                    <br/>Synced <strong style=\"color:#cdcd00\">worldly-sweep-98</strong>: <a href=\"https://wandb.ai/devcore/Metriken%20Bauwesen%20Sweeps/runs/k1ywppc2\" target=\"_blank\">https://wandb.ai/devcore/Metriken%20Bauwesen%20Sweeps/runs/k1ywppc2</a><br/>\n                "
     },
     "metadata": {},
     "output_type": "display_data"
    },
    {
     "data": {
      "text/plain": "<IPython.core.display.HTML object>",
      "text/html": "\n                Tracking run with wandb version 0.11.0<br/>\n                Syncing run <strong style=\"color:#cdcd00\">sleek-sweep-99</strong> to <a href=\"https://wandb.ai\" target=\"_blank\">Weights & Biases</a> <a href=\"https://docs.wandb.com/integrations/jupyter.html\" target=\"_blank\">(Documentation)</a>.<br/>\n                Project page: <a href=\"https://wandb.ai/devcore/Metriken%20Bauwesen%20Sweeps\" target=\"_blank\">https://wandb.ai/devcore/Metriken%20Bauwesen%20Sweeps</a><br/>\n                Sweep page: <a href=\"https://wandb.ai/devcore/Metriken%20Bauwesen%20Sweeps/sweeps/u3louhfl\" target=\"_blank\">https://wandb.ai/devcore/Metriken%20Bauwesen%20Sweeps/sweeps/u3louhfl</a><br/>\nRun page: <a href=\"https://wandb.ai/devcore/Metriken%20Bauwesen%20Sweeps/runs/pgfvqnop\" target=\"_blank\">https://wandb.ai/devcore/Metriken%20Bauwesen%20Sweeps/runs/pgfvqnop</a><br/>\n                Run data is saved locally in <code>D:\\Development\\FHNW\\ip5-metriken-bauwesen\\src\\weight_and_bias\\wandb\\run-20210817_130913-pgfvqnop</code><br/><br/>\n            "
     },
     "metadata": {},
     "output_type": "display_data"
    },
    {
     "data": {
      "text/plain": "<IPython.core.display.HTML object>",
      "text/html": "<br/>Waiting for W&B process to finish, PID 16184<br/>Program ended successfully."
     },
     "metadata": {},
     "output_type": "display_data"
    },
    {
     "data": {
      "text/plain": "VBox(children=(Label(value=' 0.00MB of 0.00MB uploaded (0.00MB deduped)\\r'), FloatProgress(value=1.0, max=1.0)…",
      "application/vnd.jupyter.widget-view+json": {
       "version_major": 2,
       "version_minor": 0,
       "model_id": "ac177b2a29434455824c8f6ac38bac8b"
      }
     },
     "metadata": {},
     "output_type": "display_data"
    },
    {
     "data": {
      "text/plain": "<IPython.core.display.HTML object>",
      "text/html": "Find user logs for this run at: <code>D:\\Development\\FHNW\\ip5-metriken-bauwesen\\src\\weight_and_bias\\wandb\\run-20210817_130913-pgfvqnop\\logs\\debug.log</code>"
     },
     "metadata": {},
     "output_type": "display_data"
    },
    {
     "data": {
      "text/plain": "<IPython.core.display.HTML object>",
      "text/html": "Find internal logs for this run at: <code>D:\\Development\\FHNW\\ip5-metriken-bauwesen\\src\\weight_and_bias\\wandb\\run-20210817_130913-pgfvqnop\\logs\\debug-internal.log</code>"
     },
     "metadata": {},
     "output_type": "display_data"
    },
    {
     "data": {
      "text/plain": "<IPython.core.display.HTML object>",
      "text/html": "<h3>Run summary:</h3><br/><style>\n    table.wandb td:nth-child(1) { padding: 0 10px; text-align: right }\n    </style><table class=\"wandb\">\n<tr><td>r2</td><td>0.94005</td></tr><tr><td>_runtime</td><td>39</td></tr><tr><td>_timestamp</td><td>1629198592</td></tr><tr><td>_step</td><td>3</td></tr><tr><td>neg_mape</td><td>-0.13884</td></tr><tr><td>neg_mae</td><td>-740.29768</td></tr><tr><td>neg_rmse</td><td>-1470.55876</td></tr></table>"
     },
     "metadata": {},
     "output_type": "display_data"
    },
    {
     "data": {
      "text/plain": "<IPython.core.display.HTML object>",
      "text/html": "<h3>Run history:</h3><br/><style>\n    table.wandb td:nth-child(1) { padding: 0 10px; text-align: right }\n    </style><table class=\"wandb\">\n<tr><td>r2</td><td>▁</td></tr><tr><td>_runtime</td><td>▁▁▁▁</td></tr><tr><td>_timestamp</td><td>▁▁▁▁</td></tr><tr><td>_step</td><td>▁▃▆█</td></tr><tr><td>neg_mape</td><td>▁</td></tr><tr><td>neg_mae</td><td>▁</td></tr><tr><td>neg_rmse</td><td>▁</td></tr></table><br/>"
     },
     "metadata": {},
     "output_type": "display_data"
    },
    {
     "data": {
      "text/plain": "<IPython.core.display.HTML object>",
      "text/html": "Synced 4 W&B file(s), 0 media file(s), 0 artifact file(s) and 0 other file(s)"
     },
     "metadata": {},
     "output_type": "display_data"
    },
    {
     "data": {
      "text/plain": "<IPython.core.display.HTML object>",
      "text/html": "\n                    <br/>Synced <strong style=\"color:#cdcd00\">sleek-sweep-99</strong>: <a href=\"https://wandb.ai/devcore/Metriken%20Bauwesen%20Sweeps/runs/pgfvqnop\" target=\"_blank\">https://wandb.ai/devcore/Metriken%20Bauwesen%20Sweeps/runs/pgfvqnop</a><br/>\n                "
     },
     "metadata": {},
     "output_type": "display_data"
    },
    {
     "data": {
      "text/plain": "<IPython.core.display.HTML object>",
      "text/html": "\n                Tracking run with wandb version 0.11.0<br/>\n                Syncing run <strong style=\"color:#cdcd00\">wandering-sweep-100</strong> to <a href=\"https://wandb.ai\" target=\"_blank\">Weights & Biases</a> <a href=\"https://docs.wandb.com/integrations/jupyter.html\" target=\"_blank\">(Documentation)</a>.<br/>\n                Project page: <a href=\"https://wandb.ai/devcore/Metriken%20Bauwesen%20Sweeps\" target=\"_blank\">https://wandb.ai/devcore/Metriken%20Bauwesen%20Sweeps</a><br/>\n                Sweep page: <a href=\"https://wandb.ai/devcore/Metriken%20Bauwesen%20Sweeps/sweeps/u3louhfl\" target=\"_blank\">https://wandb.ai/devcore/Metriken%20Bauwesen%20Sweeps/sweeps/u3louhfl</a><br/>\nRun page: <a href=\"https://wandb.ai/devcore/Metriken%20Bauwesen%20Sweeps/runs/438gf880\" target=\"_blank\">https://wandb.ai/devcore/Metriken%20Bauwesen%20Sweeps/runs/438gf880</a><br/>\n                Run data is saved locally in <code>D:\\Development\\FHNW\\ip5-metriken-bauwesen\\src\\weight_and_bias\\wandb\\run-20210817_130956-438gf880</code><br/><br/>\n            "
     },
     "metadata": {},
     "output_type": "display_data"
    },
    {
     "data": {
      "text/plain": "<IPython.core.display.HTML object>",
      "text/html": "<br/>Waiting for W&B process to finish, PID 24324<br/>Program ended successfully."
     },
     "metadata": {},
     "output_type": "display_data"
    },
    {
     "data": {
      "text/plain": "VBox(children=(Label(value=' 0.00MB of 0.00MB uploaded (0.00MB deduped)\\r'), FloatProgress(value=1.0, max=1.0)…",
      "application/vnd.jupyter.widget-view+json": {
       "version_major": 2,
       "version_minor": 0,
       "model_id": "b5bcc28efaf74b2d8a8658e30470c6eb"
      }
     },
     "metadata": {},
     "output_type": "display_data"
    },
    {
     "data": {
      "text/plain": "<IPython.core.display.HTML object>",
      "text/html": "Find user logs for this run at: <code>D:\\Development\\FHNW\\ip5-metriken-bauwesen\\src\\weight_and_bias\\wandb\\run-20210817_130956-438gf880\\logs\\debug.log</code>"
     },
     "metadata": {},
     "output_type": "display_data"
    },
    {
     "data": {
      "text/plain": "<IPython.core.display.HTML object>",
      "text/html": "Find internal logs for this run at: <code>D:\\Development\\FHNW\\ip5-metriken-bauwesen\\src\\weight_and_bias\\wandb\\run-20210817_130956-438gf880\\logs\\debug-internal.log</code>"
     },
     "metadata": {},
     "output_type": "display_data"
    },
    {
     "data": {
      "text/plain": "<IPython.core.display.HTML object>",
      "text/html": "<h3>Run summary:</h3><br/><style>\n    table.wandb td:nth-child(1) { padding: 0 10px; text-align: right }\n    </style><table class=\"wandb\">\n<tr><td>r2</td><td>0.9531</td></tr><tr><td>_runtime</td><td>97</td></tr><tr><td>_timestamp</td><td>1629198693</td></tr><tr><td>_step</td><td>3</td></tr><tr><td>neg_mape</td><td>-0.12401</td></tr><tr><td>neg_mae</td><td>-643.72742</td></tr><tr><td>neg_rmse</td><td>-1294.51587</td></tr></table>"
     },
     "metadata": {},
     "output_type": "display_data"
    },
    {
     "data": {
      "text/plain": "<IPython.core.display.HTML object>",
      "text/html": "<h3>Run history:</h3><br/><style>\n    table.wandb td:nth-child(1) { padding: 0 10px; text-align: right }\n    </style><table class=\"wandb\">\n<tr><td>r2</td><td>▁</td></tr><tr><td>_runtime</td><td>▁▁▁▁</td></tr><tr><td>_timestamp</td><td>▁▁▁▁</td></tr><tr><td>_step</td><td>▁▃▆█</td></tr><tr><td>neg_mape</td><td>▁</td></tr><tr><td>neg_mae</td><td>▁</td></tr><tr><td>neg_rmse</td><td>▁</td></tr></table><br/>"
     },
     "metadata": {},
     "output_type": "display_data"
    },
    {
     "data": {
      "text/plain": "<IPython.core.display.HTML object>",
      "text/html": "Synced 4 W&B file(s), 0 media file(s), 0 artifact file(s) and 0 other file(s)"
     },
     "metadata": {},
     "output_type": "display_data"
    },
    {
     "data": {
      "text/plain": "<IPython.core.display.HTML object>",
      "text/html": "\n                    <br/>Synced <strong style=\"color:#cdcd00\">wandering-sweep-100</strong>: <a href=\"https://wandb.ai/devcore/Metriken%20Bauwesen%20Sweeps/runs/438gf880\" target=\"_blank\">https://wandb.ai/devcore/Metriken%20Bauwesen%20Sweeps/runs/438gf880</a><br/>\n                "
     },
     "metadata": {},
     "output_type": "display_data"
    }
   ],
   "source": [
    "from sklearn.ensemble import GradientBoostingRegressor\n",
    "from sklearn.model_selection import cross_validate, RepeatedKFold\n",
    "\n",
    "import src.package.consts as c\n",
    "import src.package.importer as im\n",
    "import src.package.ml_helper as ml_helper\n",
    "import src.package.importer_usages as imp_usg\n",
    "from numpy import mean\n",
    "\n",
    "# load dataset\n",
    "df = im.get_extended_dataset('../package/datasets/train_set.csv')\n",
    "df, usage_types = imp_usg.extract_usage_details(df, highest_only=True, combine_garages=True)\n",
    "df = ml_helper.remove_outliers(df, factor=2.3)\n",
    "\n",
    "X, y = ml_helper.ml_dataset_full(df, field_to_predict=c.FIELD_AREA_TOTAL_FLOOR_416, additional_features=[c.FIELD_AREA_MAIN_USAGE])\n",
    "\n",
    "def train():\n",
    "    config = {'model': 'GradientBoost', 'run': 'none'}\n",
    "    with wandb.init(config=config):\n",
    "\n",
    "        # model with hyperparameter\n",
    "        config = wandb.config\n",
    "        regr = GradientBoostingRegressor(random_state=0,\n",
    "                                         learning_rate=config.learning_rate,\n",
    "                                         subsample=config.subsample,\n",
    "                                         n_estimators=config.n_estimators,\n",
    "                                         max_depth=config.max_depth,\n",
    "                                         min_samples_split=config.min_samples_split,\n",
    "                                         loss='lad')\n",
    "\n",
    "        # evaluate with cv and log to wandb\n",
    "        cv=RepeatedKFold(n_splits=5, n_repeats=3, random_state=0)\n",
    "        scores = cross_validate(regr, X, y, cv=cv, scoring=['r2', 'neg_mean_absolute_percentage_error', 'neg_mean_absolute_error', 'neg_root_mean_squared_error'])\n",
    "        wandb.log({'r2': mean(scores['test_r2'])})\n",
    "        wandb.log({'neg_mape': mean(scores['test_neg_mean_absolute_percentage_error'])})\n",
    "        wandb.log({'neg_mae': mean(scores['test_neg_mean_absolute_error'])})\n",
    "        wandb.log({'neg_rmse': mean(scores['test_neg_root_mean_squared_error'])})\n",
    "\n",
    "wandb.agent(sweep_id, train, count=100)"
   ],
   "metadata": {
    "collapsed": false,
    "pycharm": {
     "name": "#%%\n"
    }
   }
  }
 ],
 "metadata": {
  "kernelspec": {
   "name": "python3",
   "language": "python",
   "display_name": "Python 3"
  },
  "language_info": {
   "codemirror_mode": {
    "name": "ipython",
    "version": 2
   },
   "file_extension": ".py",
   "mimetype": "text/x-python",
   "name": "python",
   "nbconvert_exporter": "python",
   "pygments_lexer": "ipython2",
   "version": "2.7.6"
  }
 },
 "nbformat": 4,
 "nbformat_minor": 0
}