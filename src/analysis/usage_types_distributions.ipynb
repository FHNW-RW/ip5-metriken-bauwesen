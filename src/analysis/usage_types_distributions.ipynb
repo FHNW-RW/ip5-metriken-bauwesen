{
 "cells": [
  {
   "cell_type": "markdown",
   "source": [
    "# Nutzungsanalyse Verteilung\n",
    "Überblick über die Nutzungsart der Gebäude"
   ],
   "metadata": {
    "collapsed": false
   }
  },
  {
   "cell_type": "code",
   "execution_count": 1,
   "outputs": [],
   "source": [
    "import pandas as pd\n",
    "import src.package.charts as charts\n",
    "import src.package.importer as im\n",
    "import src.package.consts as c\n",
    "import seaborn as sns\n",
    "import matplotlib.pyplot as plt\n",
    "\n",
    "# set size of seaborn plots\n",
    "charts.set_preferences(sns)\n",
    "\n",
    "# Switch between raw and processed dataset\n",
    "df = im.get_extended_dataset('../package/datasets/full_dataset.csv')\n",
    "# df = im.get_dataset('../package/datasets/full_dataset.csv', raw=True)\n",
    "pd.set_option('display.max_rows', 100)  # to show all value_countsö\n"
   ],
   "metadata": {
    "collapsed": false,
    "pycharm": {
     "name": "#%%\n"
    }
   }
  },
  {
   "cell_type": "markdown",
   "source": [
    "#### Usage Cluster\n"
   ],
   "metadata": {
    "collapsed": false
   }
  },
  {
   "cell_type": "code",
   "execution_count": 2,
   "outputs": [
    {
     "name": "stdout",
     "output_type": "stream",
     "text": [
      "WOHNEN           286\n",
      "SCHULEN          190\n",
      "HALLEN            99\n",
      "BUERO             96\n",
      "BETRIEB           65\n",
      "BEHERBERGUNG      62\n",
      "GESUNDHEIT        30\n",
      "KULTUS_KULTUR     27\n",
      "ANDERES           15\n",
      "TECHNIK            9\n",
      "OFFENE_BAUTEN      9\n",
      "Name: usage_cluster, dtype: int64\n",
      "Number of different types: 12\n"
     ]
    }
   ],
   "source": [
    "print(df[c.FIELD_USAGE_CLUSTER].value_counts())\n",
    "print(\"Number of different types: {}\".format(len(df[c.FIELD_USAGE_CLUSTER].drop_duplicates().values)))\n"
   ],
   "metadata": {
    "collapsed": false,
    "pycharm": {
     "name": "#%%\n"
    }
   }
  },
  {
   "cell_type": "markdown",
   "source": [
    "#### Hauptnutzung\n"
   ],
   "metadata": {
    "collapsed": false
   }
  },
  {
   "cell_type": "code",
   "execution_count": 3,
   "outputs": [
    {
     "name": "stdout",
     "output_type": "stream",
     "text": [
      "WOHNBAUTEN__MFH_MEDIUM                                                                139\n",
      "SCHULBAUTEN__VOLKSSCHULEN                                                              99\n",
      "FREIZEITBAUTEN_SPORTBAUTEN_ERHOLUNGSBAUTEN__TURNHALLEN_SPORTHALLEN_MEHRZWECKHALLEN     49\n",
      "SCHULBAUTEN__KINDERGAERTEN_HORTE                                                       35\n",
      "WOHNBAUTEN__MFH_LOW                                                                    33\n",
      "                                                                                     ... \n",
      "JUSTIZ__WIEDEREINGLIEDERUNGSSTAETTEN                                                    1\n",
      "VERKEHRSBAUTEN__WERKHOEFE__DIENSTRAUM                                                   1\n",
      "FREIZEITBAUTEN_SPORTBAUTEN_ERHOLUNGSBAUTEN__GAERTEN_GEWAECHSHAEUSER                     1\n",
      "VERKEHRSBAUTEN__FLUG__VERWALTUNG                                                        1\n",
      "GESUNDHEITSBAUTEN__UNIVERSITAETSKLINIKEN_FORSCHUNG                                      1\n",
      "Name: nom_usage_main, Length: 112, dtype: int64\n",
      "Number of different types: 113\n"
     ]
    }
   ],
   "source": [
    "print(df[c.FIELD_NOM_USAGE_MAIN].value_counts())\n",
    "print(\"Number of different types: {}\".format(len(df[c.FIELD_NOM_USAGE_MAIN].drop_duplicates().values)))"
   ],
   "metadata": {
    "collapsed": false,
    "pycharm": {
     "name": "#%%\n"
    }
   }
  },
  {
   "cell_type": "markdown",
   "source": [
    "## Nutzungen kombinieren\n",
    "Der Datensatz enthält sehr unterschiedliche Datenmengen pro Nutzungstyp. Wenn zu wenig Daten vorhanden sind, macht das Verwenden des Felds 'usage_cluster' oder weiteres Zusammenfassen Sinn. Für Nutzungstypen mit vielen Daten (Wohnen, Schulen etc.) macht es Sinn, ein spezifischeren Typ zu verwenden.\n",
    "\n",
    "**Mehrfamilienhäuser**<br>\n",
    "WOHNBAUTEN__MFH_MEDIUM<br>\n",
    "WOHNBAUTEN__MFH_LOW<br>\n",
    "WOHNBAUTEN__MFH_HIGH<br>"
   ],
   "metadata": {
    "collapsed": false
   }
  },
  {
   "cell_type": "code",
   "execution_count": 4,
   "outputs": [
    {
     "ename": "AttributeError",
     "evalue": "module 'src.package.charts' has no attribute 'lmplot_gf_hnf'",
     "output_type": "error",
     "traceback": [
      "\u001B[0;31m---------------------------------------------------------------------------\u001B[0m",
      "\u001B[0;31mAttributeError\u001B[0m                            Traceback (most recent call last)",
      "\u001B[0;32m<ipython-input-4-426aa98bd2a3>\u001B[0m in \u001B[0;36m<module>\u001B[0;34m\u001B[0m\n\u001B[1;32m      2\u001B[0m \u001B[0mmfh_df\u001B[0m \u001B[0;34m=\u001B[0m \u001B[0mdf\u001B[0m\u001B[0;34m[\u001B[0m\u001B[0mdf\u001B[0m\u001B[0;34m[\u001B[0m\u001B[0mc\u001B[0m\u001B[0;34m.\u001B[0m\u001B[0mFIELD_NOM_USAGE_MAIN\u001B[0m\u001B[0;34m]\u001B[0m\u001B[0;34m.\u001B[0m\u001B[0misin\u001B[0m\u001B[0;34m(\u001B[0m\u001B[0mtypes_wohnen_mfh\u001B[0m\u001B[0;34m)\u001B[0m\u001B[0;34m]\u001B[0m\u001B[0;34m\u001B[0m\u001B[0;34m\u001B[0m\u001B[0m\n\u001B[1;32m      3\u001B[0m \u001B[0;34m\u001B[0m\u001B[0m\n\u001B[0;32m----> 4\u001B[0;31m \u001B[0mcharts\u001B[0m\u001B[0;34m.\u001B[0m\u001B[0mlmplot_gf_hnf\u001B[0m\u001B[0;34m(\u001B[0m\u001B[0mmfh_df\u001B[0m\u001B[0;34m,\u001B[0m \u001B[0mhue\u001B[0m\u001B[0;34m=\u001B[0m\u001B[0mc\u001B[0m\u001B[0;34m.\u001B[0m\u001B[0mFIELD_NOM_USAGE_MAIN\u001B[0m\u001B[0;34m)\u001B[0m\u001B[0;34m\u001B[0m\u001B[0;34m\u001B[0m\u001B[0m\n\u001B[0m\u001B[1;32m      5\u001B[0m \u001B[0;34m\u001B[0m\u001B[0m\n",
      "\u001B[0;31mAttributeError\u001B[0m: module 'src.package.charts' has no attribute 'lmplot_gf_hnf'"
     ]
    }
   ],
   "source": [
    "types_wohnen_mfh = ['WOHNBAUTEN__MFH_HIGH', 'WOHNBAUTEN__MFH_MEDIUM', 'WOHNBAUTEN__MFH_LOW']\n",
    "mfh_df = df[df[c.FIELD_NOM_USAGE_MAIN].isin(types_wohnen_mfh)]\n",
    "\n",
    "charts.lmplot_gf_field(mfh_df, hue=c.FIELD_NOM_USAGE_MAIN)"
   ],
   "metadata": {
    "collapsed": false,
    "pycharm": {
     "name": "#%%\n"
    }
   }
  },
  {
   "cell_type": "markdown",
   "source": [
    "**Einfamilienhäuser**<br>\n",
    "WOHNBAUTEN__EFH_REIHEN_LOW<br>\n",
    "WOHNBAUTEN__EFH_REIHEN_MEDIUM<br>\n",
    "WOHNBAUTEN__EFH_REIHEN_HIGH"
   ],
   "metadata": {
    "collapsed": false,
    "pycharm": {
     "name": "#%% md\n"
    }
   }
  },
  {
   "cell_type": "code",
   "execution_count": null,
   "outputs": [],
   "source": [
    "types_wohnen_efh = ['WOHNBAUTEN__EFH_REIHEN_LOW', 'WOHNBAUTEN__EFH_REIHEN_MEDIUM', 'WOHNBAUTEN__EFH_REIHEN_HIGH']\n",
    "efh_df = df[df[c.FIELD_NOM_USAGE_MAIN].isin(types_wohnen_efh)]\n",
    "\n",
    "charts.lmplot_gf_field(efh_df, hue=c.FIELD_NOM_USAGE_MAIN)"
   ],
   "metadata": {
    "collapsed": false,
    "pycharm": {
     "name": "#%%\n"
    }
   }
  },
  {
   "cell_type": "markdown",
   "source": [
    "**Schulen sinnvoll aufteilen?**<br>\n",
    "SCHULBAUTEN__VOLKSSCHULEN<br>\n",
    "SCHULBAUTEN__KINDERGAERTEN_HORTE<br>\n",
    "SCHULBAUTEN__BERUFSSCHULEN<br>\n",
    "SCHULBAUTEN__HOCHSCHULEN_UNIVERSITAETEN<br>\n",
    "SCHULBAUTEN__FORSCHUNGSBAUTEN_MIT_LABOR<br>\n",
    "SCHULBAUTEN__BIBLIOTHEKEN<br>\n",
    "SCHULBAUTEN__FORSCHUNGSBAUTEN_OHNE_LABOR<br>\n",
    "SCHULBAUTEN__HEILPAEDAGOGISCHE_SONDERSCHULEN<br>"
   ],
   "metadata": {
    "collapsed": false
   }
  },
  {
   "cell_type": "code",
   "execution_count": null,
   "outputs": [],
   "source": [
    "types_schulen = ['SCHULBAUTEN__VOLKSSCHULEN',\n",
    "                 'SCHULBAUTEN__KINDERGAERTEN_HORTE',\n",
    "                 'SCHULBAUTEN__BERUFSSCHULEN',\n",
    "                 'SCHULBAUTEN__HOCHSCHULEN_UNIVERSITAETEN',\n",
    "                 'SCHULBAUTEN__FORSCHUNGSBAUTEN_MIT_LABOR',\n",
    "                 'SCHULBAUTEN__BIBLIOTHEKEN',\n",
    "                 'SCHULBAUTEN__FORSCHUNGSBAUTEN_OHNE_LABOR',\n",
    "                 'SCHULBAUTEN__HEILPAEDAGOGISCHE_SONDERSCHULEN'\n",
    "                 ]\n",
    "schulen_df = df[df[c.FIELD_NOM_USAGE_MAIN].isin(types_schulen)]\n",
    "\n",
    "charts.lmplot_gf_field(schulen_df, hue=c.FIELD_NOM_USAGE_MAIN)"
   ],
   "metadata": {
    "collapsed": false,
    "pycharm": {
     "name": "#%%\n"
    }
   }
  },
  {
   "cell_type": "markdown",
   "source": [
    "**Rest**<br>\n",
    "Vermutlich vorerst auf Usage Cluster zurückgreifen.\n",
    "\n",
    "\n"
   ],
   "metadata": {
    "collapsed": false,
    "pycharm": {
     "name": "#%% md\n"
    }
   }
  }
 ],
 "metadata": {
  "kernelspec": {
   "name": "pycharm-839b7289",
   "language": "python",
   "display_name": "PyCharm (ip5-metriken-bauwesen)"
  },
  "language_info": {
   "codemirror_mode": {
    "name": "ipython",
    "version": 2
   },
   "file_extension": ".py",
   "mimetype": "text/x-python",
   "name": "python",
   "nbconvert_exporter": "python",
   "pygments_lexer": "ipython2",
   "version": "2.7.6"
  }
 },
 "nbformat": 4,
 "nbformat_minor": 0
}