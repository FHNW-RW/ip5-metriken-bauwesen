{
 "cells": [
  {
   "cell_type": "markdown",
   "source": [
    "## Train / Test Split\n",
    "Um die trainierten Models zu überprüfen, werden wir das Datenset in Train/Test Sets aufteilen.\n"
   ],
   "metadata": {
    "collapsed": false
   }
  },
  {
   "cell_type": "code",
   "execution_count": 9,
   "outputs": [
    {
     "data": {
      "text/plain": "<AxesSubplot:>"
     },
     "execution_count": 9,
     "metadata": {},
     "output_type": "execute_result"
    },
    {
     "data": {
      "text/plain": "<Figure size 432x288 with 1 Axes>",
      "image/png": "[encoded data removed]"
     },
     "metadata": {
      "needs_background": "light"
     },
     "output_type": "display_data"
    }
   ],
   "source": [
    "import os\n",
    "from sklearn.model_selection import train_test_split\n",
    "import pandas as pd\n",
    "import numpy as np\n",
    "\n",
    "import src.package.shared as sh\n",
    "import src.package.consts as c\n",
    "import src.package.importer as im\n",
    "\n",
    "df = im.get_dataset('../package/dataset.csv')\n",
    "df = df.dropna(subset=[c.FIELD_USAGE_CLUSTER, c.FIELD_AREA_TOTAL_FLOOR_416, c.FIELD_AREA_MAIN_USAGE])\n",
    "\n",
    "\n",
    "df[c.FIELD_AREA_TOTAL_FLOOR_416].hist()"
   ],
   "metadata": {
    "collapsed": false,
    "pycharm": {
     "name": "#%%\n"
    }
   }
  },
  {
   "cell_type": "markdown",
   "source": [
    "#### Features for Stratify\n",
    "* Usage Cluster\n",
    "* Geschossfläche"
   ],
   "metadata": {
    "collapsed": false
   }
  },
  {
   "cell_type": "code",
   "execution_count": 10,
   "outputs": [
    {
     "data": {
      "text/plain": "WOHNEN           131\nSCHULEN          110\nHALLEN            42\nBUERO             40\nBEHERBERGUNG      32\nBETRIEB           31\nGESUNDHEIT        12\nKULTUS_KULTUR     11\nANDERES           10\nOTHERS             9\nName: usage_cluster, dtype: int64"
     },
     "execution_count": 10,
     "metadata": {},
     "output_type": "execute_result"
    }
   ],
   "source": [
    "# combine small usage cluster for stratify\n",
    "min_count = 5\n",
    "counts = df[c.FIELD_USAGE_CLUSTER].value_counts()\n",
    "df[c.FIELD_USAGE_CLUSTER] = np.where(df[c.FIELD_USAGE_CLUSTER].isin(counts[counts < min_count].index), 'OTHERS', df[c.FIELD_USAGE_CLUSTER])\n",
    "\n",
    "# print to notebook\n",
    "df[c.FIELD_USAGE_CLUSTER].value_counts()"
   ],
   "metadata": {
    "collapsed": false,
    "pycharm": {
     "name": "#%%\n"
    }
   }
  },
  {
   "cell_type": "code",
   "execution_count": 11,
   "outputs": [
    {
     "data": {
      "text/plain": "0    43\n1    43\n2    43\n4    43\n5    43\n7    43\n8    43\n9    43\n3    42\n6    42\nName: gf_cat, dtype: int64"
     },
     "execution_count": 11,
     "metadata": {},
     "output_type": "execute_result"
    }
   ],
   "source": [
    "# create distribution classes for GF\n",
    "distribution_bins = 10\n",
    "labels = list(range(0, distribution_bins))\n",
    "df['gf_cat'] = pd.qcut(df[c.FIELD_AREA_TOTAL_FLOOR_416], distribution_bins, labels=labels)\n",
    "df['gf_cat'].value_counts()"
   ],
   "metadata": {
    "collapsed": false,
    "pycharm": {
     "name": "#%%\n"
    }
   }
  },
  {
   "cell_type": "markdown",
   "source": [
    "#### Train & Test Set\n",
    "Save train & test set to CSV"
   ],
   "metadata": {
    "collapsed": false
   }
  },
  {
   "cell_type": "code",
   "execution_count": 12,
   "outputs": [
    {
     "name": "stdout",
     "output_type": "stream",
     "text": [
      "                id      nom_zip   index_year  index_month    planzeit  \\\n",
      "count   342.000000   304.000000   306.000000    306.00000  225.000000   \n",
      "mean   2993.435673  5904.187500  2008.431373      4.45098   20.697778   \n",
      "std    2085.980148  2670.497467     6.663593      1.58452   12.842009   \n",
      "min     188.000000  1001.000000  1979.000000      4.00000    2.000000   \n",
      "25%    1331.000000  3400.000000  2007.000000      4.00000   12.000000   \n",
      "50%    2381.000000  6550.000000  2009.000000      4.00000   17.000000   \n",
      "75%    3838.750000  8152.000000  2012.000000      4.00000   26.000000   \n",
      "max    6803.000000  9507.000000  2019.000000     10.00000   67.000000   \n",
      "\n",
      "          bauzeit  area_building  area_built_up  num_floors  \\\n",
      "count  277.000000     283.000000     261.000000  342.000000   \n",
      "mean    19.148014    1719.212014    3846.674330    4.045322   \n",
      "std     12.615687    2288.499286    4154.183751    2.609787   \n",
      "min      3.000000      67.000000      35.000000    0.000000   \n",
      "25%     13.000000     446.500000    1040.000000    2.500000   \n",
      "50%     17.000000     989.000000    2404.000000    4.000000   \n",
      "75%     23.000000    2113.000000    5190.000000    5.000000   \n",
      "max    155.000000   20500.000000   27200.000000   16.600000   \n",
      "\n",
      "       num_floors_overground  ...  old_estimate_volume_total_416  \\\n",
      "count             316.000000  ...                     342.000000   \n",
      "mean                3.446203  ...                   28571.994152   \n",
      "std                 2.168684  ...                   49950.756845   \n",
      "min                 0.000000  ...                     525.000000   \n",
      "25%                 2.000000  ...                    5141.750000   \n",
      "50%                 3.000000  ...                   13100.000000   \n",
      "75%                 4.000000  ...                   27801.000000   \n",
      "max                15.000000  ...                  379235.000000   \n",
      "\n",
      "       old_height_room  dep_estimate_area_total_floor_416  \\\n",
      "count       341.000000                         342.000000   \n",
      "mean          3.729782                        6167.959064   \n",
      "std           1.777693                        7892.493455   \n",
      "min           0.976785                         104.000000   \n",
      "25%           3.000000                        1400.000000   \n",
      "50%           3.290085                        3185.500000   \n",
      "75%           3.646557                        7429.250000   \n",
      "max          11.989210                       51100.000000   \n",
      "\n",
      "       dep_estimate_volume_total_116  dep_estimate_volume_total_416  \\\n",
      "count                     342.000000                     342.000000   \n",
      "mean                    26972.368421                   24224.812865   \n",
      "std                     36106.367956                   32924.835016   \n",
      "min                       663.000000                     440.000000   \n",
      "25%                      5716.250000                    5089.500000   \n",
      "50%                     14910.000000                   12935.000000   \n",
      "75%                     33951.250000                   30803.250000   \n",
      "max                    297741.000000                  272000.000000   \n",
      "\n",
      "       dep_height_room  total_expenses   cost_ref_gf  cost_ref_gfs  \\\n",
      "count       342.000000    3.210000e+02    315.000000  2.830000e+02   \n",
      "mean          4.021977    1.858695e+07   5915.634921  1.419218e+04   \n",
      "std           1.345339    2.507451e+07   7087.253894  7.556845e+04   \n",
      "min           2.016129    4.100540e+05    104.000000  2.210000e+02   \n",
      "25%           3.208546    5.178000e+06   1449.500000  2.578000e+03   \n",
      "50%           3.639102    1.125600e+07   3288.000000  6.000000e+03   \n",
      "75%           4.301145    2.226384e+07   7420.500000  1.037300e+04   \n",
      "max          13.264715    2.050666e+08  44190.000000  1.070000e+06   \n",
      "\n",
      "       ratio_hnf_gf  \n",
      "count    342.000000  \n",
      "mean       0.569618  \n",
      "std        0.134251  \n",
      "min        0.088281  \n",
      "25%        0.492396  \n",
      "50%        0.550601  \n",
      "75%        0.628376  \n",
      "max        1.226611  \n",
      "\n",
      "[8 rows x 137 columns]\n",
      "                id      nom_zip   index_year  index_month    planzeit  \\\n",
      "count    86.000000    75.000000    73.000000    73.000000   57.000000   \n",
      "mean   3491.418605  5913.600000  2009.465753     4.246575   25.473684   \n",
      "std    2091.855537  2664.013625     5.691324     1.199315   20.816464   \n",
      "min      71.000000  1004.000000  1987.000000     4.000000    5.000000   \n",
      "25%    1962.500000  3831.000000  2007.000000     4.000000   14.000000   \n",
      "50%    2756.000000  6877.000000  2009.000000     4.000000   20.000000   \n",
      "75%    5971.750000  8221.000000  2013.000000     4.000000   28.000000   \n",
      "max    7159.000000  9410.000000  2018.000000    10.000000  141.000000   \n",
      "\n",
      "         bauzeit  area_building  area_built_up  num_floors  \\\n",
      "count  68.000000       71.00000      65.000000   86.000000   \n",
      "mean   19.588235     1399.71831    4702.938462    4.626744   \n",
      "std     8.976313     1540.60823    9834.205843    3.680647   \n",
      "min     5.000000       54.00000       0.000000    0.000000   \n",
      "25%    14.000000      419.00000     726.000000    2.500000   \n",
      "50%    18.000000      922.00000    2430.000000    4.000000   \n",
      "75%    26.000000     1702.00000    4995.000000    5.150000   \n",
      "max    47.000000     7800.00000   74910.000000   23.000000   \n",
      "\n",
      "       num_floors_overground  ...  old_estimate_volume_total_416  \\\n",
      "count              80.000000  ...                      86.000000   \n",
      "mean                3.962500  ...                   30579.511628   \n",
      "std                 3.105176  ...                   62806.083398   \n",
      "min                 1.000000  ...                     945.000000   \n",
      "25%                 2.000000  ...                    5086.750000   \n",
      "50%                 3.250000  ...                   11806.000000   \n",
      "75%                 4.400000  ...                   28238.500000   \n",
      "max                19.000000  ...                  459630.000000   \n",
      "\n",
      "       old_height_room  dep_estimate_area_total_floor_416  \\\n",
      "count        85.000000                          86.000000   \n",
      "mean          3.717271                        6772.255814   \n",
      "std           1.495746                       10139.040203   \n",
      "min           2.189718                         156.000000   \n",
      "25%           3.002861                        1309.000000   \n",
      "50%           3.377801                        3215.500000   \n",
      "75%           3.769406                        7493.750000   \n",
      "max          11.675519                       56112.000000   \n",
      "\n",
      "       dep_estimate_volume_total_116  dep_estimate_volume_total_416  \\\n",
      "count                      86.000000                      86.000000   \n",
      "mean                    28736.779070                   25612.534884   \n",
      "std                     41493.267845                   37039.010703   \n",
      "min                       918.000000                     830.000000   \n",
      "25%                      6111.500000                    4956.750000   \n",
      "50%                     14007.000000                   11981.000000   \n",
      "75%                     29274.750000                   25585.250000   \n",
      "max                    256566.000000                  218120.000000   \n",
      "\n",
      "       dep_height_room  total_expenses   cost_ref_gf   cost_ref_gfs  \\\n",
      "count        86.000000    8.100000e+01     79.000000      72.000000   \n",
      "mean          3.886016    2.273772e+07   6984.493671   20756.944444   \n",
      "std           1.023478    3.010738e+07  10502.506612   82944.666306   \n",
      "min           2.272165    8.450000e+05    156.000000     234.000000   \n",
      "25%           3.189448    5.804000e+06   1433.500000    2120.000000   \n",
      "50%           3.537226    1.097900e+07   3397.000000    5393.500000   \n",
      "75%           4.182128    2.658700e+07   7373.500000   11682.000000   \n",
      "max           7.852564    1.622000e+08  56112.000000  694805.000000   \n",
      "\n",
      "       ratio_hnf_gf  \n",
      "count     86.000000  \n",
      "mean       0.539362  \n",
      "std        0.109313  \n",
      "min        0.311340  \n",
      "25%        0.480041  \n",
      "50%        0.528401  \n",
      "75%        0.600723  \n",
      "max        0.809488  \n",
      "\n",
      "[8 rows x 137 columns]\n"
     ]
    }
   ],
   "source": [
    "# TODO: stratify=df[[c.FIELD_USAGE_CLUSTER, 'gf_cat']] multiple stratify columns?\n",
    "train_set, test_set = train_test_split(df, test_size=0.2, random_state=10, stratify=df['gf_cat'])\n",
    "\n",
    "# save train set\n",
    "file_path_train = sh.export_directory_path('train_set.csv')\n",
    "train_set.to_csv(file_path_train, index=False, sep=',')\n",
    "print(train_set.describe())\n",
    "\n",
    "# save test set\n",
    "file_path_test = sh.export_directory_path('test_set.csv')\n",
    "test_set.to_csv(file_path_test, index=False, sep=',')\n",
    "print(test_set.describe())"
   ],
   "metadata": {
    "collapsed": false,
    "pycharm": {
     "name": "#%%\n"
    }
   }
  }
 ],
 "metadata": {
  "kernelspec": {
   "name": "python3",
   "language": "python",
   "display_name": "Python 3"
  },
  "language_info": {
   "codemirror_mode": {
    "name": "ipython",
    "version": 2
   },
   "file_extension": ".py",
   "mimetype": "text/x-python",
   "name": "python",
   "nbconvert_exporter": "python",
   "pygments_lexer": "ipython2",
   "version": "2.7.6"
  }
 },
 "nbformat": 4,
 "nbformat_minor": 0
}