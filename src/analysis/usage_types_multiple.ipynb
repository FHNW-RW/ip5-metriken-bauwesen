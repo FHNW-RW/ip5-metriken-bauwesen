{
 "cells": [
  {
   "cell_type": "markdown",
   "source": [
    "# Nutzungsanalyse Mehrfachnutzung\n",
    "\n",
    "In diesem Notebook analysieren wir verschiedene Nutzungstypen und entwickeln benchmarks.\n",
    "Nachfolgend eine kurze Beschreibung der Hauptnutzungen.\n"
   ],
   "metadata": {
    "collapsed": false
   }
  },
  {
   "cell_type": "code",
   "execution_count": 2,
   "metadata": {
    "collapsed": true,
    "pycharm": {
     "name": "#%%\n"
    }
   },
   "outputs": [
    {
     "data": {
      "text/plain": "SCHULBAUTEN__VOLKSSCHULEN                                                             154\nWOHNBAUTEN__MFH_MEDIUM                                                                129\nFREIZEITBAUTEN_SPORTBAUTEN_ERHOLUNGSBAUTEN__TURNHALLEN_SPORTHALLEN_MEHRZWECKHALLEN     51\nSCHULBAUTEN__KINDERGAERTEN_HORTE                                                       34\nWOHNBAUTEN__MFH_LOW                                                                    33\n                                                                                     ... \nGESUNDHEITSBAUTEN__KRANKENHAEUSER_BETTENTRAKT                                           1\nKULTUS__KAPELLE                                                                         1\nVERKEHRSBAUTEN__TANKSTELLE                                                              1\nGESUNDHEITSBAUTEN__PFLEGE_REHA__PFLEGEHEIM                                              1\nLAGERBAUTEN__INDUSTRIEBAUTEN_GEWERBEBAUTEN__LAGERHALLEN_BEHEIZT                         1\nName: nom_primary_usage, Length: 112, dtype: int64"
     },
     "execution_count": 2,
     "metadata": {},
     "output_type": "execute_result"
    }
   ],
   "source": [
    "import src.package.importer as im\n",
    "import src.package.importer_usages as im_usages\n",
    "import src.package.consts as c\n",
    "\n",
    "df = im.get_dataset('../package/datasets/full_dataset.csv')\n",
    "df, usages = im_usages.extract_usage_details(df, highest_only=True)\n",
    "\n",
    "df[c.NOM_PRIMARY_USAGE].value_counts()"
   ]
  },
  {
   "cell_type": "markdown",
   "source": [
    "## Vorkommen Nutzungstypen\n",
    "Vorkommen primärer, sekundärer, tertiärer und quaternärer Nutzungstypen.\n",
    "\n",
    "#### Primärer Nutzungstyp"
   ],
   "metadata": {
    "collapsed": false
   }
  },
  {
   "cell_type": "code",
   "execution_count": 3,
   "outputs": [
    {
     "data": {
      "text/plain": "                                                    nom_primary_usage\nSCHULBAUTEN__VOLKSSCHULEN                                    0.167391\nWOHNBAUTEN__MFH_MEDIUM                                       0.140217\nFREIZEITBAUTEN_SPORTBAUTEN_ERHOLUNGSBAUTEN__TUR...           0.055435\nSCHULBAUTEN__KINDERGAERTEN_HORTE                             0.036957\nWOHNBAUTEN__MFH_LOW                                          0.035870\n...                                                               ...\nGESUNDHEITSBAUTEN__KRANKENHAEUSER_BETTENTRAKT                0.001087\nKULTUS__KAPELLE                                              0.001087\nVERKEHRSBAUTEN__TANKSTELLE                                   0.001087\nGESUNDHEITSBAUTEN__PFLEGE_REHA__PFLEGEHEIM                   0.001087\nLAGERBAUTEN__INDUSTRIEBAUTEN_GEWERBEBAUTEN__LAG...           0.001087\n\n[112 rows x 1 columns]",
      "text/html": "<div>\n<style scoped>\n    .dataframe tbody tr th:only-of-type {\n        vertical-align: middle;\n    }\n\n    .dataframe tbody tr th {\n        vertical-align: top;\n    }\n\n    .dataframe thead th {\n        text-align: right;\n    }\n</style>\n<table border=\"1\" class=\"dataframe\">\n  <thead>\n    <tr style=\"text-align: right;\">\n      <th></th>\n      <th>nom_primary_usage</th>\n    </tr>\n  </thead>\n  <tbody>\n    <tr>\n      <th>SCHULBAUTEN__VOLKSSCHULEN</th>\n      <td>0.167391</td>\n    </tr>\n    <tr>\n      <th>WOHNBAUTEN__MFH_MEDIUM</th>\n      <td>0.140217</td>\n    </tr>\n    <tr>\n      <th>FREIZEITBAUTEN_SPORTBAUTEN_ERHOLUNGSBAUTEN__TURNHALLEN_SPORTHALLEN_MEHRZWECKHALLEN</th>\n      <td>0.055435</td>\n    </tr>\n    <tr>\n      <th>SCHULBAUTEN__KINDERGAERTEN_HORTE</th>\n      <td>0.036957</td>\n    </tr>\n    <tr>\n      <th>WOHNBAUTEN__MFH_LOW</th>\n      <td>0.035870</td>\n    </tr>\n    <tr>\n      <th>...</th>\n      <td>...</td>\n    </tr>\n    <tr>\n      <th>GESUNDHEITSBAUTEN__KRANKENHAEUSER_BETTENTRAKT</th>\n      <td>0.001087</td>\n    </tr>\n    <tr>\n      <th>KULTUS__KAPELLE</th>\n      <td>0.001087</td>\n    </tr>\n    <tr>\n      <th>VERKEHRSBAUTEN__TANKSTELLE</th>\n      <td>0.001087</td>\n    </tr>\n    <tr>\n      <th>GESUNDHEITSBAUTEN__PFLEGE_REHA__PFLEGEHEIM</th>\n      <td>0.001087</td>\n    </tr>\n    <tr>\n      <th>LAGERBAUTEN__INDUSTRIEBAUTEN_GEWERBEBAUTEN__LAGERHALLEN_BEHEIZT</th>\n      <td>0.001087</td>\n    </tr>\n  </tbody>\n</table>\n<p>112 rows × 1 columns</p>\n</div>"
     },
     "execution_count": 3,
     "metadata": {},
     "output_type": "execute_result"
    }
   ],
   "source": [
    "df[c.NOM_PRIMARY_USAGE].value_counts(normalize=True).to_frame()"
   ],
   "metadata": {
    "collapsed": false,
    "pycharm": {
     "name": "#%%\n"
    }
   }
  },
  {
   "cell_type": "markdown",
   "source": [
    "#### Sekundärer Nutzungstyp"
   ],
   "metadata": {
    "collapsed": false
   }
  },
  {
   "cell_type": "code",
   "execution_count": 4,
   "outputs": [
    {
     "data": {
      "text/plain": "                                                    nom_secondary_usage\nSCHULBAUTEN__VOLKSSCHULEN                                      0.311957\nVERKEHRSBAUTEN__TIEFGARAGEN_EINSTELLHALLEN                     0.216304\nVERKEHRSBAUTEN__TANKSTELLE                                     0.088043\nFREIZEITBAUTEN_SPORTBAUTEN_ERHOLUNGSBAUTEN__TUR...             0.073913\nVERKEHRSBAUTEN__VERKEHRSPAVILLONS                              0.043478\nVERKEHRSBAUTEN__GARAGEN_FREISTEHEND                            0.027174\nLADENBAUTEN_HANDELSBAUTEN__EINZELHANDEL                        0.022826\nBUEROBAUTEN__VOLLAUSBAU                                        0.021739\nBUEROBAUTEN__EDELROHBAU                                        0.016304\nLAGERBAUTEN__INDUSTRIEBAUTEN_GEWERBEBAUTEN__LAG...             0.015217\nWOHNBAUTEN__MFH_MEDIUM                                         0.015217\nSCHULBAUTEN__KINDERGAERTEN_HORTE                               0.011957\nVERKEHRSBAUTEN__FLUGHAEFEN                                     0.010870\nGASTGEWERBE_FREMDENVERKEHRSBAUTEN__RESTAURANT                  0.010870\nKULTUR__SAAL                                                   0.009783\nLAGERBAUTEN_PRODUKTIONSBAUTEN                                  0.006522\nVERKEHRSBAUTEN__WERKHOEFE                                      0.006522\nGASTGEWERBE_FREMDENVERKEHRSBAUTEN__KANTINEN                    0.005435\nWOHNBAUTEN__MFH_LOW                                            0.005435\nVERWALTUNGSBAUTEN                                              0.005435\nSCHULBAUTEN__BERUFSSCHULEN                                     0.004348\nVERKEHRSBAUTEN__PARKHAEUSER_UNTERIRDISCH                       0.004348\nBUEROBAUTEN_VERWALTUNGSBAUTEN__GEMEINDEHAEUSER                 0.003261\nVERKEHRSBAUTEN__STRASSENVERKEHR                                0.003261\nGASTGEWERBE_FREMDENVERKEHRSBAUTEN__HOTELBAUTEN                 0.003261\nBANKEN                                                         0.003261\nKULTUS__KIRCHE                                                 0.003261\nSCHULBAUTEN__HOCHSCHULEN_UNIVERSITAETEN                        0.003261\nWOHNBAUTEN__ALTERSWOHNUNGEN                                    0.003261\nGESUNDHEITSBAUTEN__UNIVERSITAETSKLINIKEN_UNTERS...             0.002174\nSCHUTZBAUTEN__ZIVILSCHUTZANLAGEN                               0.002174\nGESUNDHEITSBAUTEN__KRANKENHAEUSER_Logistik                     0.002174\nJUSTIZ__POLIZEI                                                0.002174\nVERKEHRSBAUTEN__PARKHAEUSER_OBERIRDISCH                        0.002174\nFREIZEITBAUTEN_SPORTBAUTEN__REITHALLEN                         0.002174\nLAGERBAUTEN__INDUSTRIEBAUTEN_GEWERBEBAUTEN__LAG...             0.002174\nWOHNBAUTEN__EFH_REIHEN_MEDIUM                                  0.002174\nSCHULBAUTEN__FORSCHUNGSBAUTEN_MIT_LABOR                        0.002174\nGESUNDHEIT__PFLEGEHEIME                                        0.002174\nFREIZEIT_SPORT_ERHOLUNGSBAUTEN__SPORT_FREIZEITB...             0.001087\nSCHUTZBAUTEN__SCHULUNGSBAUTEN                                  0.001087\nGASTGEWERBE_FREMDENVERKEHRSBAUTEN__RASTSTAETTEN                0.001087\nVERKEHRSBAUTEN__BAHNHOEFE                                      0.001087\nWOHNBAUTEN__ALTERSHEIME                                        0.001087\nGESUNDHEITSBAUTEN__KRANKENHAEUSER_BETTENTRAKT                  0.001087\nJUSTIZ__STRAFVOLLZUGSANSTALTEN                                 0.001087\nSCHULBAUTEN__HEILPAEDAGOGISCHE_SONDERSCHULEN                   0.001087\nVERKEHRSBAUTEN__POSTGEBAEUDE                                   0.001087\nWOHNBAUTEN__STUDENTENWOHNHAEUSER                               0.001087\nWOHNBAUTEN__EFH_REIHEN_LOW                                     0.001087\nKULTUR__FESTHALLEN                                             0.001087\nLADENBAUTEN_HANDELSBAUTEN__MARKTHALLEN_UNBEHEIZT               0.001087\nLAGERBAUTEN_MEHRSTOECKIGE                                      0.001087\nKULTUR__AUSSTELLUNGEN                                          0.001087\nKULTUR__KULTUR_GEMEINSCHAFTSZENTREN                            0.001087\nLANDWIRTSCHAFT__SCHEUNEN_STALLUNGEN                            0.001087\nLAGERBAUTEN__INDUSTRIEHALLEN                                   0.001087\nVERKEHRSBAUTEN__HOCH_TIEFGARAGE__TIEFGARAGE                    0.001087\nKULTUS__KIRCHGEMEINDEHAEUSER                                   0.001087",
      "text/html": "<div>\n<style scoped>\n    .dataframe tbody tr th:only-of-type {\n        vertical-align: middle;\n    }\n\n    .dataframe tbody tr th {\n        vertical-align: top;\n    }\n\n    .dataframe thead th {\n        text-align: right;\n    }\n</style>\n<table border=\"1\" class=\"dataframe\">\n  <thead>\n    <tr style=\"text-align: right;\">\n      <th></th>\n      <th>nom_secondary_usage</th>\n    </tr>\n  </thead>\n  <tbody>\n    <tr>\n      <th>SCHULBAUTEN__VOLKSSCHULEN</th>\n      <td>0.311957</td>\n    </tr>\n    <tr>\n      <th>VERKEHRSBAUTEN__TIEFGARAGEN_EINSTELLHALLEN</th>\n      <td>0.216304</td>\n    </tr>\n    <tr>\n      <th>VERKEHRSBAUTEN__TANKSTELLE</th>\n      <td>0.088043</td>\n    </tr>\n    <tr>\n      <th>FREIZEITBAUTEN_SPORTBAUTEN_ERHOLUNGSBAUTEN__TURNHALLEN_SPORTHALLEN_MEHRZWECKHALLEN</th>\n      <td>0.073913</td>\n    </tr>\n    <tr>\n      <th>VERKEHRSBAUTEN__VERKEHRSPAVILLONS</th>\n      <td>0.043478</td>\n    </tr>\n    <tr>\n      <th>VERKEHRSBAUTEN__GARAGEN_FREISTEHEND</th>\n      <td>0.027174</td>\n    </tr>\n    <tr>\n      <th>LADENBAUTEN_HANDELSBAUTEN__EINZELHANDEL</th>\n      <td>0.022826</td>\n    </tr>\n    <tr>\n      <th>BUEROBAUTEN__VOLLAUSBAU</th>\n      <td>0.021739</td>\n    </tr>\n    <tr>\n      <th>BUEROBAUTEN__EDELROHBAU</th>\n      <td>0.016304</td>\n    </tr>\n    <tr>\n      <th>LAGERBAUTEN__INDUSTRIEBAUTEN_GEWERBEBAUTEN__LAGERHALLEN_BEHEIZT</th>\n      <td>0.015217</td>\n    </tr>\n    <tr>\n      <th>WOHNBAUTEN__MFH_MEDIUM</th>\n      <td>0.015217</td>\n    </tr>\n    <tr>\n      <th>SCHULBAUTEN__KINDERGAERTEN_HORTE</th>\n      <td>0.011957</td>\n    </tr>\n    <tr>\n      <th>VERKEHRSBAUTEN__FLUGHAEFEN</th>\n      <td>0.010870</td>\n    </tr>\n    <tr>\n      <th>GASTGEWERBE_FREMDENVERKEHRSBAUTEN__RESTAURANT</th>\n      <td>0.010870</td>\n    </tr>\n    <tr>\n      <th>KULTUR__SAAL</th>\n      <td>0.009783</td>\n    </tr>\n    <tr>\n      <th>LAGERBAUTEN_PRODUKTIONSBAUTEN</th>\n      <td>0.006522</td>\n    </tr>\n    <tr>\n      <th>VERKEHRSBAUTEN__WERKHOEFE</th>\n      <td>0.006522</td>\n    </tr>\n    <tr>\n      <th>GASTGEWERBE_FREMDENVERKEHRSBAUTEN__KANTINEN</th>\n      <td>0.005435</td>\n    </tr>\n    <tr>\n      <th>WOHNBAUTEN__MFH_LOW</th>\n      <td>0.005435</td>\n    </tr>\n    <tr>\n      <th>VERWALTUNGSBAUTEN</th>\n      <td>0.005435</td>\n    </tr>\n    <tr>\n      <th>SCHULBAUTEN__BERUFSSCHULEN</th>\n      <td>0.004348</td>\n    </tr>\n    <tr>\n      <th>VERKEHRSBAUTEN__PARKHAEUSER_UNTERIRDISCH</th>\n      <td>0.004348</td>\n    </tr>\n    <tr>\n      <th>BUEROBAUTEN_VERWALTUNGSBAUTEN__GEMEINDEHAEUSER</th>\n      <td>0.003261</td>\n    </tr>\n    <tr>\n      <th>VERKEHRSBAUTEN__STRASSENVERKEHR</th>\n      <td>0.003261</td>\n    </tr>\n    <tr>\n      <th>GASTGEWERBE_FREMDENVERKEHRSBAUTEN__HOTELBAUTEN</th>\n      <td>0.003261</td>\n    </tr>\n    <tr>\n      <th>BANKEN</th>\n      <td>0.003261</td>\n    </tr>\n    <tr>\n      <th>KULTUS__KIRCHE</th>\n      <td>0.003261</td>\n    </tr>\n    <tr>\n      <th>SCHULBAUTEN__HOCHSCHULEN_UNIVERSITAETEN</th>\n      <td>0.003261</td>\n    </tr>\n    <tr>\n      <th>WOHNBAUTEN__ALTERSWOHNUNGEN</th>\n      <td>0.003261</td>\n    </tr>\n    <tr>\n      <th>GESUNDHEITSBAUTEN__UNIVERSITAETSKLINIKEN_UNTERSUCHUNG</th>\n      <td>0.002174</td>\n    </tr>\n    <tr>\n      <th>SCHUTZBAUTEN__ZIVILSCHUTZANLAGEN</th>\n      <td>0.002174</td>\n    </tr>\n    <tr>\n      <th>GESUNDHEITSBAUTEN__KRANKENHAEUSER_Logistik</th>\n      <td>0.002174</td>\n    </tr>\n    <tr>\n      <th>JUSTIZ__POLIZEI</th>\n      <td>0.002174</td>\n    </tr>\n    <tr>\n      <th>VERKEHRSBAUTEN__PARKHAEUSER_OBERIRDISCH</th>\n      <td>0.002174</td>\n    </tr>\n    <tr>\n      <th>FREIZEITBAUTEN_SPORTBAUTEN__REITHALLEN</th>\n      <td>0.002174</td>\n    </tr>\n    <tr>\n      <th>LAGERBAUTEN__INDUSTRIEBAUTEN_GEWERBEBAUTEN__LAGERHALLEN_UNBEHEIZT</th>\n      <td>0.002174</td>\n    </tr>\n    <tr>\n      <th>WOHNBAUTEN__EFH_REIHEN_MEDIUM</th>\n      <td>0.002174</td>\n    </tr>\n    <tr>\n      <th>SCHULBAUTEN__FORSCHUNGSBAUTEN_MIT_LABOR</th>\n      <td>0.002174</td>\n    </tr>\n    <tr>\n      <th>GESUNDHEIT__PFLEGEHEIME</th>\n      <td>0.002174</td>\n    </tr>\n    <tr>\n      <th>FREIZEIT_SPORT_ERHOLUNGSBAUTEN__SPORT_FREIZEITBAU__TURN_SPORTHALLEN__TURNHALLE__2_HALLEN</th>\n      <td>0.001087</td>\n    </tr>\n    <tr>\n      <th>SCHUTZBAUTEN__SCHULUNGSBAUTEN</th>\n      <td>0.001087</td>\n    </tr>\n    <tr>\n      <th>GASTGEWERBE_FREMDENVERKEHRSBAUTEN__RASTSTAETTEN</th>\n      <td>0.001087</td>\n    </tr>\n    <tr>\n      <th>VERKEHRSBAUTEN__BAHNHOEFE</th>\n      <td>0.001087</td>\n    </tr>\n    <tr>\n      <th>WOHNBAUTEN__ALTERSHEIME</th>\n      <td>0.001087</td>\n    </tr>\n    <tr>\n      <th>GESUNDHEITSBAUTEN__KRANKENHAEUSER_BETTENTRAKT</th>\n      <td>0.001087</td>\n    </tr>\n    <tr>\n      <th>JUSTIZ__STRAFVOLLZUGSANSTALTEN</th>\n      <td>0.001087</td>\n    </tr>\n    <tr>\n      <th>SCHULBAUTEN__HEILPAEDAGOGISCHE_SONDERSCHULEN</th>\n      <td>0.001087</td>\n    </tr>\n    <tr>\n      <th>VERKEHRSBAUTEN__POSTGEBAEUDE</th>\n      <td>0.001087</td>\n    </tr>\n    <tr>\n      <th>WOHNBAUTEN__STUDENTENWOHNHAEUSER</th>\n      <td>0.001087</td>\n    </tr>\n    <tr>\n      <th>WOHNBAUTEN__EFH_REIHEN_LOW</th>\n      <td>0.001087</td>\n    </tr>\n    <tr>\n      <th>KULTUR__FESTHALLEN</th>\n      <td>0.001087</td>\n    </tr>\n    <tr>\n      <th>LADENBAUTEN_HANDELSBAUTEN__MARKTHALLEN_UNBEHEIZT</th>\n      <td>0.001087</td>\n    </tr>\n    <tr>\n      <th>LAGERBAUTEN_MEHRSTOECKIGE</th>\n      <td>0.001087</td>\n    </tr>\n    <tr>\n      <th>KULTUR__AUSSTELLUNGEN</th>\n      <td>0.001087</td>\n    </tr>\n    <tr>\n      <th>KULTUR__KULTUR_GEMEINSCHAFTSZENTREN</th>\n      <td>0.001087</td>\n    </tr>\n    <tr>\n      <th>LANDWIRTSCHAFT__SCHEUNEN_STALLUNGEN</th>\n      <td>0.001087</td>\n    </tr>\n    <tr>\n      <th>LAGERBAUTEN__INDUSTRIEHALLEN</th>\n      <td>0.001087</td>\n    </tr>\n    <tr>\n      <th>VERKEHRSBAUTEN__HOCH_TIEFGARAGE__TIEFGARAGE</th>\n      <td>0.001087</td>\n    </tr>\n    <tr>\n      <th>KULTUS__KIRCHGEMEINDEHAEUSER</th>\n      <td>0.001087</td>\n    </tr>\n  </tbody>\n</table>\n</div>"
     },
     "execution_count": 4,
     "metadata": {},
     "output_type": "execute_result"
    }
   ],
   "source": [
    "df[c.NOM_SECONDARY_USAGE].value_counts(normalize=True).to_frame()"
   ],
   "metadata": {
    "collapsed": false,
    "pycharm": {
     "name": "#%%\n"
    }
   }
  },
  {
   "cell_type": "markdown",
   "source": [
    "#### Tertiärer Nutzungstyp"
   ],
   "metadata": {
    "collapsed": false
   }
  },
  {
   "cell_type": "code",
   "execution_count": 5,
   "outputs": [
    {
     "data": {
      "text/plain": "                                                    nom_tertiary_usage\nSCHULBAUTEN__VOLKSSCHULEN                                     0.214130\nKULTUR__WOHLFAHRT                                             0.130435\nVERKEHRSBAUTEN__VERKEHRSPAVILLONS                             0.105435\nVERKEHRSBAUTEN__TIEFGARAGEN_EINSTELLHALLEN                    0.088043\nWOHNBAUTEN__TERRASSENHAEUSER_LOW                              0.061957\nWOHNBAUTEN__TERRASSENHAEUSER_HIGHEST                          0.057609\nVERKEHRSBAUTEN__FLUGHAEFEN                                    0.043478\nTECHNISCHE_ANLAGEN__KEHRICHTVERBRENNUNGSANLAGEN               0.042391\nFREIZEITBAUTEN_SPORTBAUTEN__REITHALLEN                        0.032609\nFREIZEIT_SPORT_ERHOLUNGSBAUTEN__SPORT_FREIZEITB...            0.030435\nKULTUR__FESTHALLEN                                            0.022826\nBUEROBAUTEN__VOLLAUSBAU                                       0.020652\nLADENBAUTEN_HANDELSBAUTEN__EINZELHANDEL                       0.017391\nVERKEHRSBAUTEN__TANKSTELLE                                    0.015217\nSCHULBAUTEN__KINDERGAERTEN_HORTE                              0.014130\nBUEROBAUTEN__EDELROHBAU                                       0.013043\nGASTGEWERBE_FREMDENVERKEHRSBAUTEN__RESTAURANT                 0.009783\nGASTGEWERBE_FREMDENVERKEHRSBAUTEN__KANTINEN                   0.007609\nFREIZEITBAUTEN_SPORTBAUTEN_ERHOLUNGSBAUTEN__TUR...            0.007609\nWOHNBAUTEN__MFH_MEDIUM                                        0.006522\nKULTUR__SAAL                                                  0.005435\nWOHNBAUTEN__MFH_LOW                                           0.003261\nLADENBAUTEN_HANDELSBAUTEN__MARKTHALLEN_UNBEHEIZT              0.003261\nWOHNBAUTEN__MFH_HIGH                                          0.003261\nSCHUTZBAUTEN__ZIVILSCHUTZANLAGEN                              0.003261\nVERKEHRSBAUTEN__FLUG__VERWALTUNG                              0.002174\nVERWALTUNGSBAUTEN                                             0.002174\nLAGERBAUTEN_PRODUKTIONSBAUTEN                                 0.002174\nVERKEHRSBAUTEN__BAHNHOEFE                                     0.002174\nKULTUR__KULTUR_GEMEINSCHAFTSZENTREN                           0.002174\nVERKEHRSBAUTEN__GARAGEN_FREISTEHEND                           0.002174\nKULTUR__AUSSTELLUNGEN                                         0.002174\nWOHNBAUTEN__ALTERSWOHNUNGEN                                   0.002174\nWOHNBAUTEN__EFH_REIHEN_MEDIUM                                 0.002174\nBANKEN                                                        0.002174\nLAGERBAUTEN_MEHRSTOECKIGE                                     0.001087\nVERKEHRSBAUTEN__PARKHAEUSER_UNTERIRDISCH                      0.001087\nSCHULBAUTEN__AULA                                             0.001087\nGESUNDHEITSBAUTEN__UNIVERSITAETSKLINIKEN_LOGISTIK             0.001087\nGASTGEWERBE_FREMDENVERKEHRSBAUTEN__RASTSTAETTEN               0.001087\nGESUNDHEITSBAUTEN__KRANKENHAEUSER_Logistik                    0.001087\nLAGERBAUTEN__SILOBAUTEN                                       0.001087\nKULTUR__MUSEEN                                                0.001087\nSCHULBAUTEN__BIBLIOTHEKEN                                     0.001087\nGESUNDHEITSBAUTEN__ARZTPRAXEN                                 0.001087\nGESUNDHEITSBAUTEN__KRANKENHAEUSER_Untersuchung                0.001087\nSCHUTZBAUTEN__FEUERWEHRGEBAEUDE                               0.001087\nGESUNDHEITSBAUTEN__UNIVERSITAETSKLINIKEN_BETTEN...            0.001087\nWOHNBAUTEN__PERSONALHAEUSER                                   0.001087\nSCHULBAUTEN__FORSCHUNGSBAUTEN_OHNE_LABOR                      0.001087\nGESUNDHEITSBAUTEN__TAGESHEIME                                 0.001087\nVERKEHRSBAUTEN__POSTBETRIEBE                                  0.001087",
      "text/html": "<div>\n<style scoped>\n    .dataframe tbody tr th:only-of-type {\n        vertical-align: middle;\n    }\n\n    .dataframe tbody tr th {\n        vertical-align: top;\n    }\n\n    .dataframe thead th {\n        text-align: right;\n    }\n</style>\n<table border=\"1\" class=\"dataframe\">\n  <thead>\n    <tr style=\"text-align: right;\">\n      <th></th>\n      <th>nom_tertiary_usage</th>\n    </tr>\n  </thead>\n  <tbody>\n    <tr>\n      <th>SCHULBAUTEN__VOLKSSCHULEN</th>\n      <td>0.214130</td>\n    </tr>\n    <tr>\n      <th>KULTUR__WOHLFAHRT</th>\n      <td>0.130435</td>\n    </tr>\n    <tr>\n      <th>VERKEHRSBAUTEN__VERKEHRSPAVILLONS</th>\n      <td>0.105435</td>\n    </tr>\n    <tr>\n      <th>VERKEHRSBAUTEN__TIEFGARAGEN_EINSTELLHALLEN</th>\n      <td>0.088043</td>\n    </tr>\n    <tr>\n      <th>WOHNBAUTEN__TERRASSENHAEUSER_LOW</th>\n      <td>0.061957</td>\n    </tr>\n    <tr>\n      <th>WOHNBAUTEN__TERRASSENHAEUSER_HIGHEST</th>\n      <td>0.057609</td>\n    </tr>\n    <tr>\n      <th>VERKEHRSBAUTEN__FLUGHAEFEN</th>\n      <td>0.043478</td>\n    </tr>\n    <tr>\n      <th>TECHNISCHE_ANLAGEN__KEHRICHTVERBRENNUNGSANLAGEN</th>\n      <td>0.042391</td>\n    </tr>\n    <tr>\n      <th>FREIZEITBAUTEN_SPORTBAUTEN__REITHALLEN</th>\n      <td>0.032609</td>\n    </tr>\n    <tr>\n      <th>FREIZEIT_SPORT_ERHOLUNGSBAUTEN__SPORT_FREIZEITBAU__TURN_SPORTHALLEN__TURNHALLE</th>\n      <td>0.030435</td>\n    </tr>\n    <tr>\n      <th>KULTUR__FESTHALLEN</th>\n      <td>0.022826</td>\n    </tr>\n    <tr>\n      <th>BUEROBAUTEN__VOLLAUSBAU</th>\n      <td>0.020652</td>\n    </tr>\n    <tr>\n      <th>LADENBAUTEN_HANDELSBAUTEN__EINZELHANDEL</th>\n      <td>0.017391</td>\n    </tr>\n    <tr>\n      <th>VERKEHRSBAUTEN__TANKSTELLE</th>\n      <td>0.015217</td>\n    </tr>\n    <tr>\n      <th>SCHULBAUTEN__KINDERGAERTEN_HORTE</th>\n      <td>0.014130</td>\n    </tr>\n    <tr>\n      <th>BUEROBAUTEN__EDELROHBAU</th>\n      <td>0.013043</td>\n    </tr>\n    <tr>\n      <th>GASTGEWERBE_FREMDENVERKEHRSBAUTEN__RESTAURANT</th>\n      <td>0.009783</td>\n    </tr>\n    <tr>\n      <th>GASTGEWERBE_FREMDENVERKEHRSBAUTEN__KANTINEN</th>\n      <td>0.007609</td>\n    </tr>\n    <tr>\n      <th>FREIZEITBAUTEN_SPORTBAUTEN_ERHOLUNGSBAUTEN__TURNHALLEN_SPORTHALLEN_MEHRZWECKHALLEN</th>\n      <td>0.007609</td>\n    </tr>\n    <tr>\n      <th>WOHNBAUTEN__MFH_MEDIUM</th>\n      <td>0.006522</td>\n    </tr>\n    <tr>\n      <th>KULTUR__SAAL</th>\n      <td>0.005435</td>\n    </tr>\n    <tr>\n      <th>WOHNBAUTEN__MFH_LOW</th>\n      <td>0.003261</td>\n    </tr>\n    <tr>\n      <th>LADENBAUTEN_HANDELSBAUTEN__MARKTHALLEN_UNBEHEIZT</th>\n      <td>0.003261</td>\n    </tr>\n    <tr>\n      <th>WOHNBAUTEN__MFH_HIGH</th>\n      <td>0.003261</td>\n    </tr>\n    <tr>\n      <th>SCHUTZBAUTEN__ZIVILSCHUTZANLAGEN</th>\n      <td>0.003261</td>\n    </tr>\n    <tr>\n      <th>VERKEHRSBAUTEN__FLUG__VERWALTUNG</th>\n      <td>0.002174</td>\n    </tr>\n    <tr>\n      <th>VERWALTUNGSBAUTEN</th>\n      <td>0.002174</td>\n    </tr>\n    <tr>\n      <th>LAGERBAUTEN_PRODUKTIONSBAUTEN</th>\n      <td>0.002174</td>\n    </tr>\n    <tr>\n      <th>VERKEHRSBAUTEN__BAHNHOEFE</th>\n      <td>0.002174</td>\n    </tr>\n    <tr>\n      <th>KULTUR__KULTUR_GEMEINSCHAFTSZENTREN</th>\n      <td>0.002174</td>\n    </tr>\n    <tr>\n      <th>VERKEHRSBAUTEN__GARAGEN_FREISTEHEND</th>\n      <td>0.002174</td>\n    </tr>\n    <tr>\n      <th>KULTUR__AUSSTELLUNGEN</th>\n      <td>0.002174</td>\n    </tr>\n    <tr>\n      <th>WOHNBAUTEN__ALTERSWOHNUNGEN</th>\n      <td>0.002174</td>\n    </tr>\n    <tr>\n      <th>WOHNBAUTEN__EFH_REIHEN_MEDIUM</th>\n      <td>0.002174</td>\n    </tr>\n    <tr>\n      <th>BANKEN</th>\n      <td>0.002174</td>\n    </tr>\n    <tr>\n      <th>LAGERBAUTEN_MEHRSTOECKIGE</th>\n      <td>0.001087</td>\n    </tr>\n    <tr>\n      <th>VERKEHRSBAUTEN__PARKHAEUSER_UNTERIRDISCH</th>\n      <td>0.001087</td>\n    </tr>\n    <tr>\n      <th>SCHULBAUTEN__AULA</th>\n      <td>0.001087</td>\n    </tr>\n    <tr>\n      <th>GESUNDHEITSBAUTEN__UNIVERSITAETSKLINIKEN_LOGISTIK</th>\n      <td>0.001087</td>\n    </tr>\n    <tr>\n      <th>GASTGEWERBE_FREMDENVERKEHRSBAUTEN__RASTSTAETTEN</th>\n      <td>0.001087</td>\n    </tr>\n    <tr>\n      <th>GESUNDHEITSBAUTEN__KRANKENHAEUSER_Logistik</th>\n      <td>0.001087</td>\n    </tr>\n    <tr>\n      <th>LAGERBAUTEN__SILOBAUTEN</th>\n      <td>0.001087</td>\n    </tr>\n    <tr>\n      <th>KULTUR__MUSEEN</th>\n      <td>0.001087</td>\n    </tr>\n    <tr>\n      <th>SCHULBAUTEN__BIBLIOTHEKEN</th>\n      <td>0.001087</td>\n    </tr>\n    <tr>\n      <th>GESUNDHEITSBAUTEN__ARZTPRAXEN</th>\n      <td>0.001087</td>\n    </tr>\n    <tr>\n      <th>GESUNDHEITSBAUTEN__KRANKENHAEUSER_Untersuchung</th>\n      <td>0.001087</td>\n    </tr>\n    <tr>\n      <th>SCHUTZBAUTEN__FEUERWEHRGEBAEUDE</th>\n      <td>0.001087</td>\n    </tr>\n    <tr>\n      <th>GESUNDHEITSBAUTEN__UNIVERSITAETSKLINIKEN_BETTENTRAKT</th>\n      <td>0.001087</td>\n    </tr>\n    <tr>\n      <th>WOHNBAUTEN__PERSONALHAEUSER</th>\n      <td>0.001087</td>\n    </tr>\n    <tr>\n      <th>SCHULBAUTEN__FORSCHUNGSBAUTEN_OHNE_LABOR</th>\n      <td>0.001087</td>\n    </tr>\n    <tr>\n      <th>GESUNDHEITSBAUTEN__TAGESHEIME</th>\n      <td>0.001087</td>\n    </tr>\n    <tr>\n      <th>VERKEHRSBAUTEN__POSTBETRIEBE</th>\n      <td>0.001087</td>\n    </tr>\n  </tbody>\n</table>\n</div>"
     },
     "execution_count": 5,
     "metadata": {},
     "output_type": "execute_result"
    }
   ],
   "source": [
    "df[c.NOM_TERTIARY_USAGE].value_counts(normalize=True).to_frame()"
   ],
   "metadata": {
    "collapsed": false,
    "pycharm": {
     "name": "#%%\n"
    }
   }
  },
  {
   "cell_type": "markdown",
   "source": [
    "#### Quaternärer Nutzungstyp"
   ],
   "metadata": {
    "collapsed": false
   }
  },
  {
   "cell_type": "code",
   "execution_count": 6,
   "outputs": [
    {
     "data": {
      "text/plain": "                                                    nom_quaternary_usage\nTECHNISCHE_ANLAGEN__KEHRICHTVERBRENNUNGSANLAGEN                 0.281522\nLADENBAUTEN_HANDELSBAUTEN__MARKTHALLEN_UNBEHEIZT                0.119565\nKULTUR__FESTHALLEN                                              0.110870\nFREIZEITBAUTEN_SPORTBAUTEN__REITHALLEN                          0.106522\nKULTUR__WOHLFAHRT                                               0.076087\nSCHULBAUTEN__VOLKSSCHULEN                                       0.053261\nSCHUTZBAUTEN__AUSBILDUNGSZENTREN                                0.042391\nFREIZEITBAUTEN_SPORTBAUTEN__FREIZEITZENTREN                     0.033696\nLADENBAUTEN_VERWALTUNGSBAUTEN__RATHAEUSER                       0.028261\nVERKEHRSBAUTEN__VERKEHRSPAVILLONS                               0.018478\nWOHNBAUTEN__TERRASSENHAEUSER_LOW                                0.017391\nLADENBAUTEN_HANDELSBAUTEN__EINZELHANDEL                         0.014130\nWOHNBAUTEN__TERRASSENHAEUSER_HIGHEST                            0.013043\nVERKEHRSBAUTEN__FLUG__VERWALTUNG                                0.013043\nVERKEHRSBAUTEN__TIEFGARAGEN_EINSTELLHALLEN                      0.008696\nFREIZEIT_SPORT_ERHOLUNGSBAUTEN__SPORT_FREIZEITB...              0.007609\nBUEROBAUTEN__VOLLAUSBAU                                         0.006522\nFREIZEITBAUTEN_SPORTBAUTEN__FREIBAD                             0.006522\nSCHULBAUTEN__KINDERGAERTEN_HORTE                                0.006522\nWOHNBAUTEN__MFH_MEDIUM                                          0.004348\nKULTUR__SAAL                                                    0.004348\nVERKEHRSBAUTEN__HOCH_TIEFGARAGE__TIEFGARAGE__PA...              0.003261\nBUEROBAUTEN__EDELROHBAU                                         0.003261\nVERKEHRSBAUTEN__FLUGHAEFEN                                      0.003261\nLADENBAUTEN_HANDELSBAUTEN__GROSSHANDEL                          0.002174\nVERWALTUNGSBAUTEN                                               0.001087\nKULTUR__MUSEEN                                                  0.001087\nGESUNDHEITSBAUTEN__UNIVERSITAETSKLINIKEN_FORSCHUNG              0.001087\nVERKEHRSBAUTEN__PARKHAEUSER_UNTERIRDISCH                        0.001087\nSCHUTZBAUTEN__FEUERWEHRGEBAEUDE                                 0.001087\nFREIZEITBAUTEN_SPORTBAUTEN_ERHOLUNGSBAUTEN__TUR...              0.001087\nSCHULBAUTEN__HEILPAEDAGOGISCHE_SONDERSCHULEN                    0.001087\nWOHNBAUTEN__MFH_LOW                                             0.001087\nSCHULBAUTEN__BIBLIOTHEKEN                                       0.001087\nFREIZEITBAUTEN_SPORTBAUTEN__KUNSTEISBAHN_FREIBAD                0.001087\nLAGERBAUTEN_MEHRSTOECKIGE                                       0.001087\nVERKEHRSBAUTEN__WERKHOEFE                                       0.001087\nGASTGEWERBE_FREMDENVERKEHRSBAUTEN__RESTAURANT                   0.001087\nGASTGEWERBE_FREMDENVERKEHRSBAUTEN__KANTINEN                     0.001087",
      "text/html": "<div>\n<style scoped>\n    .dataframe tbody tr th:only-of-type {\n        vertical-align: middle;\n    }\n\n    .dataframe tbody tr th {\n        vertical-align: top;\n    }\n\n    .dataframe thead th {\n        text-align: right;\n    }\n</style>\n<table border=\"1\" class=\"dataframe\">\n  <thead>\n    <tr style=\"text-align: right;\">\n      <th></th>\n      <th>nom_quaternary_usage</th>\n    </tr>\n  </thead>\n  <tbody>\n    <tr>\n      <th>TECHNISCHE_ANLAGEN__KEHRICHTVERBRENNUNGSANLAGEN</th>\n      <td>0.281522</td>\n    </tr>\n    <tr>\n      <th>LADENBAUTEN_HANDELSBAUTEN__MARKTHALLEN_UNBEHEIZT</th>\n      <td>0.119565</td>\n    </tr>\n    <tr>\n      <th>KULTUR__FESTHALLEN</th>\n      <td>0.110870</td>\n    </tr>\n    <tr>\n      <th>FREIZEITBAUTEN_SPORTBAUTEN__REITHALLEN</th>\n      <td>0.106522</td>\n    </tr>\n    <tr>\n      <th>KULTUR__WOHLFAHRT</th>\n      <td>0.076087</td>\n    </tr>\n    <tr>\n      <th>SCHULBAUTEN__VOLKSSCHULEN</th>\n      <td>0.053261</td>\n    </tr>\n    <tr>\n      <th>SCHUTZBAUTEN__AUSBILDUNGSZENTREN</th>\n      <td>0.042391</td>\n    </tr>\n    <tr>\n      <th>FREIZEITBAUTEN_SPORTBAUTEN__FREIZEITZENTREN</th>\n      <td>0.033696</td>\n    </tr>\n    <tr>\n      <th>LADENBAUTEN_VERWALTUNGSBAUTEN__RATHAEUSER</th>\n      <td>0.028261</td>\n    </tr>\n    <tr>\n      <th>VERKEHRSBAUTEN__VERKEHRSPAVILLONS</th>\n      <td>0.018478</td>\n    </tr>\n    <tr>\n      <th>WOHNBAUTEN__TERRASSENHAEUSER_LOW</th>\n      <td>0.017391</td>\n    </tr>\n    <tr>\n      <th>LADENBAUTEN_HANDELSBAUTEN__EINZELHANDEL</th>\n      <td>0.014130</td>\n    </tr>\n    <tr>\n      <th>WOHNBAUTEN__TERRASSENHAEUSER_HIGHEST</th>\n      <td>0.013043</td>\n    </tr>\n    <tr>\n      <th>VERKEHRSBAUTEN__FLUG__VERWALTUNG</th>\n      <td>0.013043</td>\n    </tr>\n    <tr>\n      <th>VERKEHRSBAUTEN__TIEFGARAGEN_EINSTELLHALLEN</th>\n      <td>0.008696</td>\n    </tr>\n    <tr>\n      <th>FREIZEIT_SPORT_ERHOLUNGSBAUTEN__SPORT_FREIZEITBAU__TURN_SPORTHALLEN__TURNHALLE</th>\n      <td>0.007609</td>\n    </tr>\n    <tr>\n      <th>BUEROBAUTEN__VOLLAUSBAU</th>\n      <td>0.006522</td>\n    </tr>\n    <tr>\n      <th>FREIZEITBAUTEN_SPORTBAUTEN__FREIBAD</th>\n      <td>0.006522</td>\n    </tr>\n    <tr>\n      <th>SCHULBAUTEN__KINDERGAERTEN_HORTE</th>\n      <td>0.006522</td>\n    </tr>\n    <tr>\n      <th>WOHNBAUTEN__MFH_MEDIUM</th>\n      <td>0.004348</td>\n    </tr>\n    <tr>\n      <th>KULTUR__SAAL</th>\n      <td>0.004348</td>\n    </tr>\n    <tr>\n      <th>VERKEHRSBAUTEN__HOCH_TIEFGARAGE__TIEFGARAGE__PARKHAUS</th>\n      <td>0.003261</td>\n    </tr>\n    <tr>\n      <th>BUEROBAUTEN__EDELROHBAU</th>\n      <td>0.003261</td>\n    </tr>\n    <tr>\n      <th>VERKEHRSBAUTEN__FLUGHAEFEN</th>\n      <td>0.003261</td>\n    </tr>\n    <tr>\n      <th>LADENBAUTEN_HANDELSBAUTEN__GROSSHANDEL</th>\n      <td>0.002174</td>\n    </tr>\n    <tr>\n      <th>VERWALTUNGSBAUTEN</th>\n      <td>0.001087</td>\n    </tr>\n    <tr>\n      <th>KULTUR__MUSEEN</th>\n      <td>0.001087</td>\n    </tr>\n    <tr>\n      <th>GESUNDHEITSBAUTEN__UNIVERSITAETSKLINIKEN_FORSCHUNG</th>\n      <td>0.001087</td>\n    </tr>\n    <tr>\n      <th>VERKEHRSBAUTEN__PARKHAEUSER_UNTERIRDISCH</th>\n      <td>0.001087</td>\n    </tr>\n    <tr>\n      <th>SCHUTZBAUTEN__FEUERWEHRGEBAEUDE</th>\n      <td>0.001087</td>\n    </tr>\n    <tr>\n      <th>FREIZEITBAUTEN_SPORTBAUTEN_ERHOLUNGSBAUTEN__TURNHALLEN_SPORTHALLEN_MEHRZWECKHALLEN</th>\n      <td>0.001087</td>\n    </tr>\n    <tr>\n      <th>SCHULBAUTEN__HEILPAEDAGOGISCHE_SONDERSCHULEN</th>\n      <td>0.001087</td>\n    </tr>\n    <tr>\n      <th>WOHNBAUTEN__MFH_LOW</th>\n      <td>0.001087</td>\n    </tr>\n    <tr>\n      <th>SCHULBAUTEN__BIBLIOTHEKEN</th>\n      <td>0.001087</td>\n    </tr>\n    <tr>\n      <th>FREIZEITBAUTEN_SPORTBAUTEN__KUNSTEISBAHN_FREIBAD</th>\n      <td>0.001087</td>\n    </tr>\n    <tr>\n      <th>LAGERBAUTEN_MEHRSTOECKIGE</th>\n      <td>0.001087</td>\n    </tr>\n    <tr>\n      <th>VERKEHRSBAUTEN__WERKHOEFE</th>\n      <td>0.001087</td>\n    </tr>\n    <tr>\n      <th>GASTGEWERBE_FREMDENVERKEHRSBAUTEN__RESTAURANT</th>\n      <td>0.001087</td>\n    </tr>\n    <tr>\n      <th>GASTGEWERBE_FREMDENVERKEHRSBAUTEN__KANTINEN</th>\n      <td>0.001087</td>\n    </tr>\n  </tbody>\n</table>\n</div>"
     },
     "execution_count": 6,
     "metadata": {},
     "output_type": "execute_result"
    }
   ],
   "source": [
    "df[c.NOM_QUATERNARY_USAGE].value_counts(normalize=True).to_frame()"
   ],
   "metadata": {
    "collapsed": false,
    "pycharm": {
     "name": "#%%\n"
    }
   }
  }
 ],
 "metadata": {
  "kernelspec": {
   "name": "pycharm-839b7289",
   "language": "python",
   "display_name": "PyCharm (ip5-metriken-bauwesen)"
  },
  "language_info": {
   "codemirror_mode": {
    "name": "ipython",
    "version": 2
   },
   "file_extension": ".py",
   "mimetype": "text/x-python",
   "name": "python",
   "nbconvert_exporter": "python",
   "pygments_lexer": "ipython2",
   "version": "2.7.6"
  }
 },
 "nbformat": 4,
 "nbformat_minor": 0
}