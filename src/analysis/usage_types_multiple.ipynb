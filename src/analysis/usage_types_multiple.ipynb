{
 "cells": [
  {
   "cell_type": "markdown",
   "source": [
    "# Nutzungsanalyse Mehrfachnutzung\n",
    "\n",
    "In diesem Notebook analysieren wir verschiedene Nutzungstypen und entwickeln benchmarks.\n",
    "Nachfolgend eine kurze Beschreibung der Hauptnutzungen.\n"
   ],
   "metadata": {
    "collapsed": false
   }
  },
  {
   "cell_type": "code",
   "execution_count": 9,
   "metadata": {
    "collapsed": true,
    "pycharm": {
     "name": "#%%\n"
    }
   },
   "outputs": [
    {
     "data": {
      "text/plain": "SCHULBAUTEN__VOLKSSCHULEN                                                             174\nWOHNBAUTEN__MFH_MEDIUM                                                                130\nFREIZEITBAUTEN_SPORTBAUTEN_ERHOLUNGSBAUTEN__TURNHALLEN_SPORTHALLEN_MEHRZWECKHALLEN     51\nSCHULBAUTEN__KINDERGAERTEN_HORTE                                                       34\nWOHNBAUTEN__MFH_LOW                                                                    33\n                                                                                     ... \nGESUNDHEITSBAUTEN__KRANKENHAEUSER_BETTENTRAKT                                           1\nFREIZEITBAUTEN_SPORTBAUTEN__BOOTSHAEUSER                                                1\nFREIZEITBAUTEN_SPORTBAUTEN_ERHOLUNGSBAUTEN__GAERTEN_GEWAECHSHAEUSER                     1\nLANDWIRTSCHAFT__GEB_TIERHALTUNG_PRODUKTION__PRODUKTIONSANLAGE                           1\nGESUNDHEITSBAUTEN__PFLEGE_REHA__PFLEGEHEIM                                              1\nName: nom_primary_usage, Length: 120, dtype: int64"
     },
     "execution_count": 9,
     "metadata": {},
     "output_type": "execute_result"
    }
   ],
   "source": [
    "import src.package.importer as im\n",
    "import src.package.importer_usages as im_usages\n",
    "import src.package.consts as c\n",
    "\n",
    "df = im.get_dataset('../package/datasets/full_dataset.csv')\n",
    "df = im_usages.extract_usage_details(df, highest_only=True)\n",
    "\n",
    "df[c.NOM_PRIMARY_USAGE].value_counts()"
   ]
  },
  {
   "cell_type": "markdown",
   "source": [
    "## Vorkommen Nutzungstypen\n",
    "Vorkommen primärer, sekundärer, tertiärer und quaternärer Nutzungstypen.\n",
    "\n",
    "#### Primärer Nutzungstyp"
   ],
   "metadata": {
    "collapsed": false
   }
  },
  {
   "cell_type": "code",
   "execution_count": 10,
   "outputs": [
    {
     "data": {
      "text/plain": "                                                    nom_primary_usage\nSCHULBAUTEN__VOLKSSCHULEN                                    0.182773\nWOHNBAUTEN__MFH_MEDIUM                                       0.136555\nFREIZEITBAUTEN_SPORTBAUTEN_ERHOLUNGSBAUTEN__TUR...           0.053571\nSCHULBAUTEN__KINDERGAERTEN_HORTE                             0.035714\nWOHNBAUTEN__MFH_LOW                                          0.034664\n...                                                               ...\nGESUNDHEITSBAUTEN__KRANKENHAEUSER_BETTENTRAKT                0.001050\nFREIZEITBAUTEN_SPORTBAUTEN__BOOTSHAEUSER                     0.001050\nFREIZEITBAUTEN_SPORTBAUTEN_ERHOLUNGSBAUTEN__GAE...           0.001050\nLANDWIRTSCHAFT__GEB_TIERHALTUNG_PRODUKTION__PRO...           0.001050\nGESUNDHEITSBAUTEN__PFLEGE_REHA__PFLEGEHEIM                   0.001050\n\n[120 rows x 1 columns]",
      "text/html": "<div>\n<style scoped>\n    .dataframe tbody tr th:only-of-type {\n        vertical-align: middle;\n    }\n\n    .dataframe tbody tr th {\n        vertical-align: top;\n    }\n\n    .dataframe thead th {\n        text-align: right;\n    }\n</style>\n<table border=\"1\" class=\"dataframe\">\n  <thead>\n    <tr style=\"text-align: right;\">\n      <th></th>\n      <th>nom_primary_usage</th>\n    </tr>\n  </thead>\n  <tbody>\n    <tr>\n      <th>SCHULBAUTEN__VOLKSSCHULEN</th>\n      <td>0.182773</td>\n    </tr>\n    <tr>\n      <th>WOHNBAUTEN__MFH_MEDIUM</th>\n      <td>0.136555</td>\n    </tr>\n    <tr>\n      <th>FREIZEITBAUTEN_SPORTBAUTEN_ERHOLUNGSBAUTEN__TURNHALLEN_SPORTHALLEN_MEHRZWECKHALLEN</th>\n      <td>0.053571</td>\n    </tr>\n    <tr>\n      <th>SCHULBAUTEN__KINDERGAERTEN_HORTE</th>\n      <td>0.035714</td>\n    </tr>\n    <tr>\n      <th>WOHNBAUTEN__MFH_LOW</th>\n      <td>0.034664</td>\n    </tr>\n    <tr>\n      <th>...</th>\n      <td>...</td>\n    </tr>\n    <tr>\n      <th>GESUNDHEITSBAUTEN__KRANKENHAEUSER_BETTENTRAKT</th>\n      <td>0.001050</td>\n    </tr>\n    <tr>\n      <th>FREIZEITBAUTEN_SPORTBAUTEN__BOOTSHAEUSER</th>\n      <td>0.001050</td>\n    </tr>\n    <tr>\n      <th>FREIZEITBAUTEN_SPORTBAUTEN_ERHOLUNGSBAUTEN__GAERTEN_GEWAECHSHAEUSER</th>\n      <td>0.001050</td>\n    </tr>\n    <tr>\n      <th>LANDWIRTSCHAFT__GEB_TIERHALTUNG_PRODUKTION__PRODUKTIONSANLAGE</th>\n      <td>0.001050</td>\n    </tr>\n    <tr>\n      <th>GESUNDHEITSBAUTEN__PFLEGE_REHA__PFLEGEHEIM</th>\n      <td>0.001050</td>\n    </tr>\n  </tbody>\n</table>\n<p>120 rows × 1 columns</p>\n</div>"
     },
     "execution_count": 10,
     "metadata": {},
     "output_type": "execute_result"
    }
   ],
   "source": [
    "df[c.NOM_PRIMARY_USAGE].value_counts(normalize=True).to_frame()"
   ],
   "metadata": {
    "collapsed": false,
    "pycharm": {
     "name": "#%%\n"
    }
   }
  },
  {
   "cell_type": "markdown",
   "source": [
    "#### Sekundärer Nutzungstyp"
   ],
   "metadata": {
    "collapsed": false
   }
  },
  {
   "cell_type": "code",
   "execution_count": 11,
   "outputs": [
    {
     "data": {
      "text/plain": "                                                    nom_secondary_usage\nSCHULBAUTEN__VOLKSSCHULEN                                      0.303571\nVERKEHRSBAUTEN__TIEFGARAGEN_EINSTELLHALLEN                     0.211134\nKULTUR__FESTHALLEN                                             0.099790\nFREIZEITBAUTEN_SPORTBAUTEN_ERHOLUNGSBAUTEN__TUR...             0.072479\nFREIZEITBAUTEN_SPORTBAUTEN__REITHALLEN                         0.069328\nVERKEHRSBAUTEN__GARAGEN_FREISTEHEND                            0.026261\nLADENBAUTEN_HANDELSBAUTEN__EINZELHANDEL                        0.022059\nBUEROBAUTEN__VOLLAUSBAU                                        0.021008\nBUEROBAUTEN__EDELROHBAU                                        0.015756\nWOHNBAUTEN__MFH_MEDIUM                                         0.014706\nSCHULBAUTEN__KINDERGAERTEN_HORTE                               0.011555\nVERKEHRSBAUTEN__FLUG__VERWALTUNG                               0.011555\nGASTGEWERBE_FREMDENVERKEHRSBAUTEN__RESTAURANT                  0.011555\nKULTUR__SAAL                                                   0.009454\nLAGERBAUTEN_PRODUKTIONSBAUTEN                                  0.006303\nWOHNBAUTEN__MFH_LOW                                            0.005252\nVERWALTUNGSBAUTEN                                              0.005252\nGASTGEWERBE_FREMDENVERKEHRSBAUTEN__KANTINEN                    0.005252\nVERKEHRSBAUTEN__WERKHOEFE                                      0.005252\nSCHULBAUTEN__BERUFSSCHULEN                                     0.004202\nVERKEHRSBAUTEN__PARKHAEUSER_UNTERIRDISCH                       0.004202\nKULTUS__KIRCHE                                                 0.003151\nWOHNBAUTEN__ALTERSWOHNUNGEN                                    0.003151\nSCHULBAUTEN__HOCHSCHULEN_UNIVERSITAETEN                        0.003151\nVERKEHRSBAUTEN__STRASSENVERKEHR                                0.003151\nBANKEN                                                         0.003151\nBUEROBAUTEN_VERWALTUNGSBAUTEN__GEMEINDEHAEUSER                 0.002101\nLAGERBAUTEN__INDUSTRIEBAUTEN_GEWERBEBAUTEN__LAG...             0.002101\nGESUNDHEITSBAUTEN__KRANKENHAEUSER_Logistik                     0.002101\nGESUNDHEIT__PFLEGEHEIME                                        0.002101\nSCHUTZBAUTEN__ZIVILSCHUTZANLAGEN                               0.002101\nSCHUTZBAUTEN__FEUERWEHRGEBAEUDE                                0.002101\nWOHNBAUTEN__EFH_REIHEN_MEDIUM                                  0.002101\nSCHULBAUTEN__FORSCHUNGSBAUTEN_MIT_LABOR                        0.002101\nGESUNDHEITSBAUTEN__UNIVERSITAETSKLINIKEN_UNTERS...             0.002101\nGASTGEWERBE_FREMDENVERKEHRSBAUTEN__HOTELBAUTEN                 0.002101\nVERKEHRSBAUTEN__PARKHAEUSER_OBERIRDISCH                        0.002101\nJUSTIZ__POLIZEI                                                0.002101\nLAGERBAUTEN__INDUSTRIEBAUTEN_GEWERBEBAUTEN__LAG...             0.002101\nWOHNBAUTEN__ALTERSHEIME                                        0.001050\nWOHNBAUTEN__EFH_REIHEN_LOW                                     0.001050\nFREIZEIT_SPORT_ERHOLUNGSBAUTEN__SPORT_FREIZEITB...             0.001050\nLADENBAUTEN_HANDELSBAUTEN__MARKTHALLEN_UNBEHEIZT               0.001050\nVERKEHRSBAUTEN__BAHNHOEFE                                      0.001050\nGESUNDHEITSBAUTEN__KRANKENHAEUSER_BETTENTRAKT                  0.001050\nVERKEHRSBAUTEN__POSTGEBAEUDE                                   0.001050\nGASTGEWERBE_FREMDENVERKEHRSBAUTEN__RASTSTAETTEN                0.001050\nWOHNBAUTEN__STUDENTENWOHNHAEUSER                               0.001050\nKULTUR__KULTUR_GEMEINSCHAFTSZENTREN                            0.001050\nVERKEHRSBAUTEN__HOCH_TIEFGARAGE__HOCHGARAGE                    0.001050\nVERKEHRSBAUTEN__HOCH_TIEFGARAGE__TIEFGARAGE                    0.001050\nKULTUS__KIRCHGEMEINDEHAEUSER                                   0.001050\nSCHULBAUTEN__HEILPAEDAGOGISCHE_SONDERSCHULEN                   0.001050\nLANDWIRTSCHAFT__SCHEUNEN_STALLUNGEN                            0.001050\nLAGERBAUTEN__INDUSTRIEHALLEN                                   0.001050\nKULTUR__AUSSTELLUNGEN                                          0.001050\nSCHUTZBAUTEN__SCHULUNGSBAUTEN                                  0.001050\nJUSTIZ__STRAFVOLLZUGSANSTALTEN                                 0.001050\nLAGERBAUTEN_MEHRSTOECKIGE                                      0.001050",
      "text/html": "<div>\n<style scoped>\n    .dataframe tbody tr th:only-of-type {\n        vertical-align: middle;\n    }\n\n    .dataframe tbody tr th {\n        vertical-align: top;\n    }\n\n    .dataframe thead th {\n        text-align: right;\n    }\n</style>\n<table border=\"1\" class=\"dataframe\">\n  <thead>\n    <tr style=\"text-align: right;\">\n      <th></th>\n      <th>nom_secondary_usage</th>\n    </tr>\n  </thead>\n  <tbody>\n    <tr>\n      <th>SCHULBAUTEN__VOLKSSCHULEN</th>\n      <td>0.303571</td>\n    </tr>\n    <tr>\n      <th>VERKEHRSBAUTEN__TIEFGARAGEN_EINSTELLHALLEN</th>\n      <td>0.211134</td>\n    </tr>\n    <tr>\n      <th>KULTUR__FESTHALLEN</th>\n      <td>0.099790</td>\n    </tr>\n    <tr>\n      <th>FREIZEITBAUTEN_SPORTBAUTEN_ERHOLUNGSBAUTEN__TURNHALLEN_SPORTHALLEN_MEHRZWECKHALLEN</th>\n      <td>0.072479</td>\n    </tr>\n    <tr>\n      <th>FREIZEITBAUTEN_SPORTBAUTEN__REITHALLEN</th>\n      <td>0.069328</td>\n    </tr>\n    <tr>\n      <th>VERKEHRSBAUTEN__GARAGEN_FREISTEHEND</th>\n      <td>0.026261</td>\n    </tr>\n    <tr>\n      <th>LADENBAUTEN_HANDELSBAUTEN__EINZELHANDEL</th>\n      <td>0.022059</td>\n    </tr>\n    <tr>\n      <th>BUEROBAUTEN__VOLLAUSBAU</th>\n      <td>0.021008</td>\n    </tr>\n    <tr>\n      <th>BUEROBAUTEN__EDELROHBAU</th>\n      <td>0.015756</td>\n    </tr>\n    <tr>\n      <th>WOHNBAUTEN__MFH_MEDIUM</th>\n      <td>0.014706</td>\n    </tr>\n    <tr>\n      <th>SCHULBAUTEN__KINDERGAERTEN_HORTE</th>\n      <td>0.011555</td>\n    </tr>\n    <tr>\n      <th>VERKEHRSBAUTEN__FLUG__VERWALTUNG</th>\n      <td>0.011555</td>\n    </tr>\n    <tr>\n      <th>GASTGEWERBE_FREMDENVERKEHRSBAUTEN__RESTAURANT</th>\n      <td>0.011555</td>\n    </tr>\n    <tr>\n      <th>KULTUR__SAAL</th>\n      <td>0.009454</td>\n    </tr>\n    <tr>\n      <th>LAGERBAUTEN_PRODUKTIONSBAUTEN</th>\n      <td>0.006303</td>\n    </tr>\n    <tr>\n      <th>WOHNBAUTEN__MFH_LOW</th>\n      <td>0.005252</td>\n    </tr>\n    <tr>\n      <th>VERWALTUNGSBAUTEN</th>\n      <td>0.005252</td>\n    </tr>\n    <tr>\n      <th>GASTGEWERBE_FREMDENVERKEHRSBAUTEN__KANTINEN</th>\n      <td>0.005252</td>\n    </tr>\n    <tr>\n      <th>VERKEHRSBAUTEN__WERKHOEFE</th>\n      <td>0.005252</td>\n    </tr>\n    <tr>\n      <th>SCHULBAUTEN__BERUFSSCHULEN</th>\n      <td>0.004202</td>\n    </tr>\n    <tr>\n      <th>VERKEHRSBAUTEN__PARKHAEUSER_UNTERIRDISCH</th>\n      <td>0.004202</td>\n    </tr>\n    <tr>\n      <th>KULTUS__KIRCHE</th>\n      <td>0.003151</td>\n    </tr>\n    <tr>\n      <th>WOHNBAUTEN__ALTERSWOHNUNGEN</th>\n      <td>0.003151</td>\n    </tr>\n    <tr>\n      <th>SCHULBAUTEN__HOCHSCHULEN_UNIVERSITAETEN</th>\n      <td>0.003151</td>\n    </tr>\n    <tr>\n      <th>VERKEHRSBAUTEN__STRASSENVERKEHR</th>\n      <td>0.003151</td>\n    </tr>\n    <tr>\n      <th>BANKEN</th>\n      <td>0.003151</td>\n    </tr>\n    <tr>\n      <th>BUEROBAUTEN_VERWALTUNGSBAUTEN__GEMEINDEHAEUSER</th>\n      <td>0.002101</td>\n    </tr>\n    <tr>\n      <th>LAGERBAUTEN__INDUSTRIEBAUTEN_GEWERBEBAUTEN__LAGERHALLEN_BEHEIZT</th>\n      <td>0.002101</td>\n    </tr>\n    <tr>\n      <th>GESUNDHEITSBAUTEN__KRANKENHAEUSER_Logistik</th>\n      <td>0.002101</td>\n    </tr>\n    <tr>\n      <th>GESUNDHEIT__PFLEGEHEIME</th>\n      <td>0.002101</td>\n    </tr>\n    <tr>\n      <th>SCHUTZBAUTEN__ZIVILSCHUTZANLAGEN</th>\n      <td>0.002101</td>\n    </tr>\n    <tr>\n      <th>SCHUTZBAUTEN__FEUERWEHRGEBAEUDE</th>\n      <td>0.002101</td>\n    </tr>\n    <tr>\n      <th>WOHNBAUTEN__EFH_REIHEN_MEDIUM</th>\n      <td>0.002101</td>\n    </tr>\n    <tr>\n      <th>SCHULBAUTEN__FORSCHUNGSBAUTEN_MIT_LABOR</th>\n      <td>0.002101</td>\n    </tr>\n    <tr>\n      <th>GESUNDHEITSBAUTEN__UNIVERSITAETSKLINIKEN_UNTERSUCHUNG</th>\n      <td>0.002101</td>\n    </tr>\n    <tr>\n      <th>GASTGEWERBE_FREMDENVERKEHRSBAUTEN__HOTELBAUTEN</th>\n      <td>0.002101</td>\n    </tr>\n    <tr>\n      <th>VERKEHRSBAUTEN__PARKHAEUSER_OBERIRDISCH</th>\n      <td>0.002101</td>\n    </tr>\n    <tr>\n      <th>JUSTIZ__POLIZEI</th>\n      <td>0.002101</td>\n    </tr>\n    <tr>\n      <th>LAGERBAUTEN__INDUSTRIEBAUTEN_GEWERBEBAUTEN__LAGERHALLEN_UNBEHEIZT</th>\n      <td>0.002101</td>\n    </tr>\n    <tr>\n      <th>WOHNBAUTEN__ALTERSHEIME</th>\n      <td>0.001050</td>\n    </tr>\n    <tr>\n      <th>WOHNBAUTEN__EFH_REIHEN_LOW</th>\n      <td>0.001050</td>\n    </tr>\n    <tr>\n      <th>FREIZEIT_SPORT_ERHOLUNGSBAUTEN__SPORT_FREIZEITBAU__TURN_SPORTHALLEN__TURNHALLE__2_HALLEN</th>\n      <td>0.001050</td>\n    </tr>\n    <tr>\n      <th>LADENBAUTEN_HANDELSBAUTEN__MARKTHALLEN_UNBEHEIZT</th>\n      <td>0.001050</td>\n    </tr>\n    <tr>\n      <th>VERKEHRSBAUTEN__BAHNHOEFE</th>\n      <td>0.001050</td>\n    </tr>\n    <tr>\n      <th>GESUNDHEITSBAUTEN__KRANKENHAEUSER_BETTENTRAKT</th>\n      <td>0.001050</td>\n    </tr>\n    <tr>\n      <th>VERKEHRSBAUTEN__POSTGEBAEUDE</th>\n      <td>0.001050</td>\n    </tr>\n    <tr>\n      <th>GASTGEWERBE_FREMDENVERKEHRSBAUTEN__RASTSTAETTEN</th>\n      <td>0.001050</td>\n    </tr>\n    <tr>\n      <th>WOHNBAUTEN__STUDENTENWOHNHAEUSER</th>\n      <td>0.001050</td>\n    </tr>\n    <tr>\n      <th>KULTUR__KULTUR_GEMEINSCHAFTSZENTREN</th>\n      <td>0.001050</td>\n    </tr>\n    <tr>\n      <th>VERKEHRSBAUTEN__HOCH_TIEFGARAGE__HOCHGARAGE</th>\n      <td>0.001050</td>\n    </tr>\n    <tr>\n      <th>VERKEHRSBAUTEN__HOCH_TIEFGARAGE__TIEFGARAGE</th>\n      <td>0.001050</td>\n    </tr>\n    <tr>\n      <th>KULTUS__KIRCHGEMEINDEHAEUSER</th>\n      <td>0.001050</td>\n    </tr>\n    <tr>\n      <th>SCHULBAUTEN__HEILPAEDAGOGISCHE_SONDERSCHULEN</th>\n      <td>0.001050</td>\n    </tr>\n    <tr>\n      <th>LANDWIRTSCHAFT__SCHEUNEN_STALLUNGEN</th>\n      <td>0.001050</td>\n    </tr>\n    <tr>\n      <th>LAGERBAUTEN__INDUSTRIEHALLEN</th>\n      <td>0.001050</td>\n    </tr>\n    <tr>\n      <th>KULTUR__AUSSTELLUNGEN</th>\n      <td>0.001050</td>\n    </tr>\n    <tr>\n      <th>SCHUTZBAUTEN__SCHULUNGSBAUTEN</th>\n      <td>0.001050</td>\n    </tr>\n    <tr>\n      <th>JUSTIZ__STRAFVOLLZUGSANSTALTEN</th>\n      <td>0.001050</td>\n    </tr>\n    <tr>\n      <th>LAGERBAUTEN_MEHRSTOECKIGE</th>\n      <td>0.001050</td>\n    </tr>\n  </tbody>\n</table>\n</div>"
     },
     "execution_count": 11,
     "metadata": {},
     "output_type": "execute_result"
    }
   ],
   "source": [
    "df[c.NOM_SECONDARY_USAGE].value_counts(normalize=True).to_frame()"
   ],
   "metadata": {
    "collapsed": false,
    "pycharm": {
     "name": "#%%\n"
    }
   }
  },
  {
   "cell_type": "markdown",
   "source": [
    "#### Tertiärer Nutzungstyp"
   ],
   "metadata": {
    "collapsed": false
   }
  },
  {
   "cell_type": "code",
   "execution_count": 12,
   "outputs": [
    {
     "data": {
      "text/plain": "                                                    nom_tertiary_usage\nVERKEHRSBAUTEN__FLUG__VERWALTUNG                              0.157563\nFREIZEITBAUTEN_SPORTBAUTEN__REITHALLEN                        0.136555\nSCHULBAUTEN__VOLKSSCHULEN                                     0.134454\nVERKEHRSBAUTEN__VERKEHRSPAVILLONS                             0.101891\nVERKEHRSBAUTEN__TIEFGARAGEN_EINSTELLHALLEN                    0.085084\nGASTGEWERBE_FREMDENVERKEHRSBAUTEN__SCHIRMHUETTEN              0.077731\nLADENBAUTEN_HANDELSBAUTEN__MARKTHALLEN_UNBEHEIZT              0.071429\nFREIZEITBAUTEN_SPORTBAUTEN__FREIBAD                           0.032563\nFREIZEIT_SPORT_ERHOLUNGSBAUTEN__SPORT_FREIZEITB...            0.027311\nKULTUR__FESTHALLEN                                            0.019958\nBUEROBAUTEN__VOLLAUSBAU                                       0.018908\nLADENBAUTEN_HANDELSBAUTEN__EINZELHANDEL                       0.016807\nSCHULBAUTEN__KINDERGAERTEN_HORTE                              0.013655\nBUEROBAUTEN__EDELROHBAU                                       0.012605\nGASTGEWERBE_FREMDENVERKEHRSBAUTEN__RESTAURANT                 0.009454\nFREIZEITBAUTEN_SPORTBAUTEN_ERHOLUNGSBAUTEN__TUR...            0.007353\nGASTGEWERBE_FREMDENVERKEHRSBAUTEN__KANTINEN                   0.007353\nWOHNBAUTEN__MFH_MEDIUM                                        0.006303\nKULTUR__SAAL                                                  0.005252\nGESUNDHEITSBAUTEN__UNIVERSITAETSKLINIKEN_FORSCHUNG            0.005252\nWOHNBAUTEN__MFH_HIGH                                          0.003151\nWOHNBAUTEN__MFH_LOW                                           0.003151\nTECHNISCHE_ANLAGEN__HEIZZENTRALE                              0.003151\nLAGERBAUTEN__INDUSTRIEBAUTEN_GEWERBEBAUTEN__LAG...            0.003151\nSCHUTZBAUTEN__ZIVILSCHUTZANLAGEN                              0.003151\nVERWALTUNGSBAUTEN                                             0.002101\nVERKEHRSBAUTEN__BAHNHOEFE                                     0.002101\nBANKEN                                                        0.002101\nWOHNBAUTEN__EFH_REIHEN_MEDIUM                                 0.002101\nWOHNBAUTEN__ALTERSWOHNUNGEN                                   0.002101\nKULTUR__AUSSTELLUNGEN                                         0.002101\nVERKEHRSBAUTEN__GARAGEN_FREISTEHEND                           0.002101\nSCHULBAUTEN__BIBLIOTHEKEN                                     0.002101\nKULTUR__KULTUR_GEMEINSCHAFTSZENTREN                           0.002101\nLAGERBAUTEN_PRODUKTIONSBAUTEN                                 0.002101\nGESUNDHEITSBAUTEN__UNIVERSITAETSKLINIKEN_BETTEN...            0.001050\nWOHNBAUTEN__PERSONALHAEUSER                                   0.001050\nGESUNDHEITSBAUTEN__KRANKENHAEUSER_Untersuchung                0.001050\nBUEROBAUTEN_VERWALTUNGSBAUTEN__GEMEINDEHAEUSER                0.001050\nKULTUR__MUSEEN                                                0.001050\nGESUNDHEITSBAUTEN__KRANKENHAEUSER_Logistik                    0.001050\nGESUNDHEITSBAUTEN__TAGESHEIME                                 0.001050\nSCHULBAUTEN__AULA                                             0.001050\nGASTGEWERBE_FREMDENVERKEHRSBAUTEN__RASTSTAETTEN               0.001050\nSCHULBAUTEN__FORSCHUNGSBAUTEN_OHNE_LABOR                      0.001050\nVERKEHRSBAUTEN__PARKHAEUSER_UNTERIRDISCH                      0.001050\nLAGERBAUTEN__SILOBAUTEN                                       0.001050\nLAGERBAUTEN_MEHRSTOECKIGE                                     0.001050\nVERKEHRSBAUTEN__POSTBETRIEBE                                  0.001050\nGESUNDHEITSBAUTEN__ARZTPRAXEN                                 0.001050",
      "text/html": "<div>\n<style scoped>\n    .dataframe tbody tr th:only-of-type {\n        vertical-align: middle;\n    }\n\n    .dataframe tbody tr th {\n        vertical-align: top;\n    }\n\n    .dataframe thead th {\n        text-align: right;\n    }\n</style>\n<table border=\"1\" class=\"dataframe\">\n  <thead>\n    <tr style=\"text-align: right;\">\n      <th></th>\n      <th>nom_tertiary_usage</th>\n    </tr>\n  </thead>\n  <tbody>\n    <tr>\n      <th>VERKEHRSBAUTEN__FLUG__VERWALTUNG</th>\n      <td>0.157563</td>\n    </tr>\n    <tr>\n      <th>FREIZEITBAUTEN_SPORTBAUTEN__REITHALLEN</th>\n      <td>0.136555</td>\n    </tr>\n    <tr>\n      <th>SCHULBAUTEN__VOLKSSCHULEN</th>\n      <td>0.134454</td>\n    </tr>\n    <tr>\n      <th>VERKEHRSBAUTEN__VERKEHRSPAVILLONS</th>\n      <td>0.101891</td>\n    </tr>\n    <tr>\n      <th>VERKEHRSBAUTEN__TIEFGARAGEN_EINSTELLHALLEN</th>\n      <td>0.085084</td>\n    </tr>\n    <tr>\n      <th>GASTGEWERBE_FREMDENVERKEHRSBAUTEN__SCHIRMHUETTEN</th>\n      <td>0.077731</td>\n    </tr>\n    <tr>\n      <th>LADENBAUTEN_HANDELSBAUTEN__MARKTHALLEN_UNBEHEIZT</th>\n      <td>0.071429</td>\n    </tr>\n    <tr>\n      <th>FREIZEITBAUTEN_SPORTBAUTEN__FREIBAD</th>\n      <td>0.032563</td>\n    </tr>\n    <tr>\n      <th>FREIZEIT_SPORT_ERHOLUNGSBAUTEN__SPORT_FREIZEITBAU__TURN_SPORTHALLEN__TURNHALLE</th>\n      <td>0.027311</td>\n    </tr>\n    <tr>\n      <th>KULTUR__FESTHALLEN</th>\n      <td>0.019958</td>\n    </tr>\n    <tr>\n      <th>BUEROBAUTEN__VOLLAUSBAU</th>\n      <td>0.018908</td>\n    </tr>\n    <tr>\n      <th>LADENBAUTEN_HANDELSBAUTEN__EINZELHANDEL</th>\n      <td>0.016807</td>\n    </tr>\n    <tr>\n      <th>SCHULBAUTEN__KINDERGAERTEN_HORTE</th>\n      <td>0.013655</td>\n    </tr>\n    <tr>\n      <th>BUEROBAUTEN__EDELROHBAU</th>\n      <td>0.012605</td>\n    </tr>\n    <tr>\n      <th>GASTGEWERBE_FREMDENVERKEHRSBAUTEN__RESTAURANT</th>\n      <td>0.009454</td>\n    </tr>\n    <tr>\n      <th>FREIZEITBAUTEN_SPORTBAUTEN_ERHOLUNGSBAUTEN__TURNHALLEN_SPORTHALLEN_MEHRZWECKHALLEN</th>\n      <td>0.007353</td>\n    </tr>\n    <tr>\n      <th>GASTGEWERBE_FREMDENVERKEHRSBAUTEN__KANTINEN</th>\n      <td>0.007353</td>\n    </tr>\n    <tr>\n      <th>WOHNBAUTEN__MFH_MEDIUM</th>\n      <td>0.006303</td>\n    </tr>\n    <tr>\n      <th>KULTUR__SAAL</th>\n      <td>0.005252</td>\n    </tr>\n    <tr>\n      <th>GESUNDHEITSBAUTEN__UNIVERSITAETSKLINIKEN_FORSCHUNG</th>\n      <td>0.005252</td>\n    </tr>\n    <tr>\n      <th>WOHNBAUTEN__MFH_HIGH</th>\n      <td>0.003151</td>\n    </tr>\n    <tr>\n      <th>WOHNBAUTEN__MFH_LOW</th>\n      <td>0.003151</td>\n    </tr>\n    <tr>\n      <th>TECHNISCHE_ANLAGEN__HEIZZENTRALE</th>\n      <td>0.003151</td>\n    </tr>\n    <tr>\n      <th>LAGERBAUTEN__INDUSTRIEBAUTEN_GEWERBEBAUTEN__LAGERHALLEN_BEHEIZT</th>\n      <td>0.003151</td>\n    </tr>\n    <tr>\n      <th>SCHUTZBAUTEN__ZIVILSCHUTZANLAGEN</th>\n      <td>0.003151</td>\n    </tr>\n    <tr>\n      <th>VERWALTUNGSBAUTEN</th>\n      <td>0.002101</td>\n    </tr>\n    <tr>\n      <th>VERKEHRSBAUTEN__BAHNHOEFE</th>\n      <td>0.002101</td>\n    </tr>\n    <tr>\n      <th>BANKEN</th>\n      <td>0.002101</td>\n    </tr>\n    <tr>\n      <th>WOHNBAUTEN__EFH_REIHEN_MEDIUM</th>\n      <td>0.002101</td>\n    </tr>\n    <tr>\n      <th>WOHNBAUTEN__ALTERSWOHNUNGEN</th>\n      <td>0.002101</td>\n    </tr>\n    <tr>\n      <th>KULTUR__AUSSTELLUNGEN</th>\n      <td>0.002101</td>\n    </tr>\n    <tr>\n      <th>VERKEHRSBAUTEN__GARAGEN_FREISTEHEND</th>\n      <td>0.002101</td>\n    </tr>\n    <tr>\n      <th>SCHULBAUTEN__BIBLIOTHEKEN</th>\n      <td>0.002101</td>\n    </tr>\n    <tr>\n      <th>KULTUR__KULTUR_GEMEINSCHAFTSZENTREN</th>\n      <td>0.002101</td>\n    </tr>\n    <tr>\n      <th>LAGERBAUTEN_PRODUKTIONSBAUTEN</th>\n      <td>0.002101</td>\n    </tr>\n    <tr>\n      <th>GESUNDHEITSBAUTEN__UNIVERSITAETSKLINIKEN_BETTENTRAKT</th>\n      <td>0.001050</td>\n    </tr>\n    <tr>\n      <th>WOHNBAUTEN__PERSONALHAEUSER</th>\n      <td>0.001050</td>\n    </tr>\n    <tr>\n      <th>GESUNDHEITSBAUTEN__KRANKENHAEUSER_Untersuchung</th>\n      <td>0.001050</td>\n    </tr>\n    <tr>\n      <th>BUEROBAUTEN_VERWALTUNGSBAUTEN__GEMEINDEHAEUSER</th>\n      <td>0.001050</td>\n    </tr>\n    <tr>\n      <th>KULTUR__MUSEEN</th>\n      <td>0.001050</td>\n    </tr>\n    <tr>\n      <th>GESUNDHEITSBAUTEN__KRANKENHAEUSER_Logistik</th>\n      <td>0.001050</td>\n    </tr>\n    <tr>\n      <th>GESUNDHEITSBAUTEN__TAGESHEIME</th>\n      <td>0.001050</td>\n    </tr>\n    <tr>\n      <th>SCHULBAUTEN__AULA</th>\n      <td>0.001050</td>\n    </tr>\n    <tr>\n      <th>GASTGEWERBE_FREMDENVERKEHRSBAUTEN__RASTSTAETTEN</th>\n      <td>0.001050</td>\n    </tr>\n    <tr>\n      <th>SCHULBAUTEN__FORSCHUNGSBAUTEN_OHNE_LABOR</th>\n      <td>0.001050</td>\n    </tr>\n    <tr>\n      <th>VERKEHRSBAUTEN__PARKHAEUSER_UNTERIRDISCH</th>\n      <td>0.001050</td>\n    </tr>\n    <tr>\n      <th>LAGERBAUTEN__SILOBAUTEN</th>\n      <td>0.001050</td>\n    </tr>\n    <tr>\n      <th>LAGERBAUTEN_MEHRSTOECKIGE</th>\n      <td>0.001050</td>\n    </tr>\n    <tr>\n      <th>VERKEHRSBAUTEN__POSTBETRIEBE</th>\n      <td>0.001050</td>\n    </tr>\n    <tr>\n      <th>GESUNDHEITSBAUTEN__ARZTPRAXEN</th>\n      <td>0.001050</td>\n    </tr>\n  </tbody>\n</table>\n</div>"
     },
     "execution_count": 12,
     "metadata": {},
     "output_type": "execute_result"
    }
   ],
   "source": [
    "df[c.NOM_TERTIARY_USAGE].value_counts(normalize=True).to_frame()"
   ],
   "metadata": {
    "collapsed": false,
    "pycharm": {
     "name": "#%%\n"
    }
   }
  },
  {
   "cell_type": "markdown",
   "source": [
    "#### Quaternärer Nutzungstyp"
   ],
   "metadata": {
    "collapsed": false
   }
  },
  {
   "cell_type": "code",
   "execution_count": 13,
   "outputs": [
    {
     "data": {
      "text/plain": "                                                    nom_quaternary_usage\nFREIZEITBAUTEN_SPORTBAUTEN__FREIBAD                             0.360294\nTECHNISCHE_ANLAGEN__HEIZZENTRALE                                0.134454\nVERKEHRSBAUTEN__FLUG__VERWALTUNG                                0.118697\nKULTUR__WOHLFAHRT                                               0.103992\nSCHULBAUTEN__VOLKSSCHULEN                                       0.046218\nFREIZEITBAUTEN_SPORTBAUTEN__FREIZEITZENTREN                     0.032563\nWOHNBAUTEN__TERRASSENHAEUSER_HIGHEST                            0.027311\nLAGERBAUTEN__INDUSTRIEBAUTEN_GEWERBEBAUTEN__LAG...              0.026261\nGASTGEWERBE_FREMDENVERKEHRSBAUTEN__SCHIRMHUETTEN                0.022059\nVERKEHRSBAUTEN__VERKEHRSPAVILLONS                               0.022059\nFREIZEITBAUTEN_SPORTBAUTEN__REITHALLEN                          0.016807\nLADENBAUTEN_HANDELSBAUTEN__EINZELHANDEL                         0.013655\nVERKEHRSBAUTEN__TIEFGARAGEN_EINSTELLHALLEN                      0.008403\nFREIZEIT_SPORT_ERHOLUNGSBAUTEN__SPORT_FREIZEITB...              0.008403\nSCHULBAUTEN__KINDERGAERTEN_HORTE                                0.006303\nBUEROBAUTEN__VOLLAUSBAU                                         0.006303\nVERKEHRSBAUTEN__PARKHAEUSER_UNTERIRDISCH                        0.005252\nLADENBAUTEN_HANDELSBAUTEN__MARKTHALLEN_UNBEHEIZT                0.005252\nKULTUR__SAAL                                                    0.004202\nFREIZEITBAUTEN_SPORTBAUTEN_ERHOLUNGSBAUTEN__PAV...              0.004202\nVERKEHRSBAUTEN__HOCH_TIEFGARAGE__HOCHGARAGE                     0.004202\nWOHNBAUTEN__MFH_MEDIUM                                          0.004202\nBUEROBAUTEN__EDELROHBAU                                         0.003151\nGASTGEWERBE_FREMDENVERKEHRSBAUTEN__KANTINEN                     0.002101\nVERWALTUNGSBAUTEN                                               0.001050\nLADENBAUTEN_HANDELSBAUTEN__GROSSHANDEL                          0.001050\nWOHNBAUTEN__MFH_LOW                                             0.001050\nSCHULBAUTEN__HEILPAEDAGOGISCHE_SONDERSCHULEN                    0.001050\nKULTUR__MUSEEN                                                  0.001050\nGESUNDHEITSBAUTEN__UNIVERSITAETSKLINIKEN_LOGISTIK               0.001050\nGASTGEWERBE_FREMDENVERKEHRSBAUTEN__RESTAURANT                   0.001050\nKULTUR__FESTHALLEN                                              0.001050\nFREIZEITBAUTEN_SPORTBAUTEN_ERHOLUNGSBAUTEN__TUR...              0.001050\nWOHNBAUTEN__TERRASSENHAEUSER_LOW                                0.001050\nLAGERBAUTEN_MEHRSTOECKIGE                                       0.001050\nVERKEHRSBAUTEN__WERKHOEFE                                       0.001050\nFREIZEITBAUTEN_SPORTBAUTEN__KUNSTEISBAHN_FREIBAD                0.001050",
      "text/html": "<div>\n<style scoped>\n    .dataframe tbody tr th:only-of-type {\n        vertical-align: middle;\n    }\n\n    .dataframe tbody tr th {\n        vertical-align: top;\n    }\n\n    .dataframe thead th {\n        text-align: right;\n    }\n</style>\n<table border=\"1\" class=\"dataframe\">\n  <thead>\n    <tr style=\"text-align: right;\">\n      <th></th>\n      <th>nom_quaternary_usage</th>\n    </tr>\n  </thead>\n  <tbody>\n    <tr>\n      <th>FREIZEITBAUTEN_SPORTBAUTEN__FREIBAD</th>\n      <td>0.360294</td>\n    </tr>\n    <tr>\n      <th>TECHNISCHE_ANLAGEN__HEIZZENTRALE</th>\n      <td>0.134454</td>\n    </tr>\n    <tr>\n      <th>VERKEHRSBAUTEN__FLUG__VERWALTUNG</th>\n      <td>0.118697</td>\n    </tr>\n    <tr>\n      <th>KULTUR__WOHLFAHRT</th>\n      <td>0.103992</td>\n    </tr>\n    <tr>\n      <th>SCHULBAUTEN__VOLKSSCHULEN</th>\n      <td>0.046218</td>\n    </tr>\n    <tr>\n      <th>FREIZEITBAUTEN_SPORTBAUTEN__FREIZEITZENTREN</th>\n      <td>0.032563</td>\n    </tr>\n    <tr>\n      <th>WOHNBAUTEN__TERRASSENHAEUSER_HIGHEST</th>\n      <td>0.027311</td>\n    </tr>\n    <tr>\n      <th>LAGERBAUTEN__INDUSTRIEBAUTEN_GEWERBEBAUTEN__LAGERHALLEN_BEHEIZT</th>\n      <td>0.026261</td>\n    </tr>\n    <tr>\n      <th>GASTGEWERBE_FREMDENVERKEHRSBAUTEN__SCHIRMHUETTEN</th>\n      <td>0.022059</td>\n    </tr>\n    <tr>\n      <th>VERKEHRSBAUTEN__VERKEHRSPAVILLONS</th>\n      <td>0.022059</td>\n    </tr>\n    <tr>\n      <th>FREIZEITBAUTEN_SPORTBAUTEN__REITHALLEN</th>\n      <td>0.016807</td>\n    </tr>\n    <tr>\n      <th>LADENBAUTEN_HANDELSBAUTEN__EINZELHANDEL</th>\n      <td>0.013655</td>\n    </tr>\n    <tr>\n      <th>VERKEHRSBAUTEN__TIEFGARAGEN_EINSTELLHALLEN</th>\n      <td>0.008403</td>\n    </tr>\n    <tr>\n      <th>FREIZEIT_SPORT_ERHOLUNGSBAUTEN__SPORT_FREIZEITBAU__TURN_SPORTHALLEN__TURNHALLE</th>\n      <td>0.008403</td>\n    </tr>\n    <tr>\n      <th>SCHULBAUTEN__KINDERGAERTEN_HORTE</th>\n      <td>0.006303</td>\n    </tr>\n    <tr>\n      <th>BUEROBAUTEN__VOLLAUSBAU</th>\n      <td>0.006303</td>\n    </tr>\n    <tr>\n      <th>VERKEHRSBAUTEN__PARKHAEUSER_UNTERIRDISCH</th>\n      <td>0.005252</td>\n    </tr>\n    <tr>\n      <th>LADENBAUTEN_HANDELSBAUTEN__MARKTHALLEN_UNBEHEIZT</th>\n      <td>0.005252</td>\n    </tr>\n    <tr>\n      <th>KULTUR__SAAL</th>\n      <td>0.004202</td>\n    </tr>\n    <tr>\n      <th>FREIZEITBAUTEN_SPORTBAUTEN_ERHOLUNGSBAUTEN__PAVILLONS</th>\n      <td>0.004202</td>\n    </tr>\n    <tr>\n      <th>VERKEHRSBAUTEN__HOCH_TIEFGARAGE__HOCHGARAGE</th>\n      <td>0.004202</td>\n    </tr>\n    <tr>\n      <th>WOHNBAUTEN__MFH_MEDIUM</th>\n      <td>0.004202</td>\n    </tr>\n    <tr>\n      <th>BUEROBAUTEN__EDELROHBAU</th>\n      <td>0.003151</td>\n    </tr>\n    <tr>\n      <th>GASTGEWERBE_FREMDENVERKEHRSBAUTEN__KANTINEN</th>\n      <td>0.002101</td>\n    </tr>\n    <tr>\n      <th>VERWALTUNGSBAUTEN</th>\n      <td>0.001050</td>\n    </tr>\n    <tr>\n      <th>LADENBAUTEN_HANDELSBAUTEN__GROSSHANDEL</th>\n      <td>0.001050</td>\n    </tr>\n    <tr>\n      <th>WOHNBAUTEN__MFH_LOW</th>\n      <td>0.001050</td>\n    </tr>\n    <tr>\n      <th>SCHULBAUTEN__HEILPAEDAGOGISCHE_SONDERSCHULEN</th>\n      <td>0.001050</td>\n    </tr>\n    <tr>\n      <th>KULTUR__MUSEEN</th>\n      <td>0.001050</td>\n    </tr>\n    <tr>\n      <th>GESUNDHEITSBAUTEN__UNIVERSITAETSKLINIKEN_LOGISTIK</th>\n      <td>0.001050</td>\n    </tr>\n    <tr>\n      <th>GASTGEWERBE_FREMDENVERKEHRSBAUTEN__RESTAURANT</th>\n      <td>0.001050</td>\n    </tr>\n    <tr>\n      <th>KULTUR__FESTHALLEN</th>\n      <td>0.001050</td>\n    </tr>\n    <tr>\n      <th>FREIZEITBAUTEN_SPORTBAUTEN_ERHOLUNGSBAUTEN__TURNHALLEN_SPORTHALLEN_MEHRZWECKHALLEN</th>\n      <td>0.001050</td>\n    </tr>\n    <tr>\n      <th>WOHNBAUTEN__TERRASSENHAEUSER_LOW</th>\n      <td>0.001050</td>\n    </tr>\n    <tr>\n      <th>LAGERBAUTEN_MEHRSTOECKIGE</th>\n      <td>0.001050</td>\n    </tr>\n    <tr>\n      <th>VERKEHRSBAUTEN__WERKHOEFE</th>\n      <td>0.001050</td>\n    </tr>\n    <tr>\n      <th>FREIZEITBAUTEN_SPORTBAUTEN__KUNSTEISBAHN_FREIBAD</th>\n      <td>0.001050</td>\n    </tr>\n  </tbody>\n</table>\n</div>"
     },
     "execution_count": 13,
     "metadata": {},
     "output_type": "execute_result"
    }
   ],
   "source": [
    "df[c.NOM_QUATERNARY_USAGE].value_counts(normalize=True).to_frame()"
   ],
   "metadata": {
    "collapsed": false,
    "pycharm": {
     "name": "#%%\n"
    }
   }
  }
 ],
 "metadata": {
  "kernelspec": {
   "name": "pycharm-839b7289",
   "language": "python",
   "display_name": "PyCharm (ip5-metriken-bauwesen)"
  },
  "language_info": {
   "codemirror_mode": {
    "name": "ipython",
    "version": 2
   },
   "file_extension": ".py",
   "mimetype": "text/x-python",
   "name": "python",
   "nbconvert_exporter": "python",
   "pygments_lexer": "ipython2",
   "version": "2.7.6"
  }
 },
 "nbformat": 4,
 "nbformat_minor": 0
}