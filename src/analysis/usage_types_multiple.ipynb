{
 "cells": [
  {
   "cell_type": "markdown",
   "source": [
    "# Nutzungsanalyse\n",
    "\n",
    "In diesem Notebook analysieren wir verschiedene Nutzungstypen und entwickeln benchmarks.\n",
    "Nachfolgend eine kurze Beschreibung der Hauptnutzungen.\n"
   ],
   "metadata": {
    "collapsed": false
   }
  },
  {
   "cell_type": "code",
   "execution_count": 1,
   "metadata": {
    "collapsed": true,
    "pycharm": {
     "name": "#%%\n"
    }
   },
   "outputs": [
    {
     "name": "stdout",
     "output_type": "stream",
     "text": [
      "id                                                   353\n",
      "source                               wbw_193_1993_3     \n",
      "verification_status                          VERIFIED_OK\n",
      "title                  Überbauung Hellmutstrasse, Zürich\n",
      "neubau_umbau                                      NEUBAU\n",
      "                                     ...                \n",
      "nom_bki_kostenstand                                  NaN\n",
      "total_expenses                                13647000.0\n",
      "cost_ref_gf                                       6380.0\n",
      "cost_ref_gfs                                      3660.0\n",
      "ratio_hnf_gf                                         NaN\n",
      "Name: 217, Length: 186, dtype: object\n"
     ]
    },
    {
     "data": {
      "text/plain": "WOHNBAUTEN__MFH_MEDIUM                                                                149\nSCHULBAUTEN__VOLKSSCHULEN                                                              95\nFREIZEITBAUTEN_SPORTBAUTEN_ERHOLUNGSBAUTEN__TURNHALLEN_SPORTHALLEN_MEHRZWECKHALLEN     52\nSCHULBAUTEN__KINDERGAERTEN_HORTE                                                       35\nWOHNBAUTEN__MFH_LOW                                                                    33\n                                                                                     ... \nLAGERBAUTEN__SILOBAUTEN                                                                 1\nVERKEHRSBAUTEN__PARKHAEUSER_OBERIRDISCH                                                 1\nTECHNISCHE_ANLAGEN__SONDERABFALLSAMMELSTELLE                                            1\nFREIZEITBAUTEN_SPORTBAUTEN__BOOTSHAEUSER                                                1\nFREIZEITBAUTEN_SPORTBAUTEN_ERHOLUNGSBAUTEN__GAERTEN_GEWAECHSHAEUSER                     1\nName: nom_primary_usage, Length: 121, dtype: int64"
     },
     "execution_count": 1,
     "metadata": {},
     "output_type": "execute_result"
    }
   ],
   "source": [
    "import src.package.importer as im\n",
    "import src.package.importer_usages as im_usages\n",
    "\n",
    "df = im.get_dataset('../package/dataset.csv')\n",
    "df, short_df = im_usages.extract_usage_details(df, True)\n",
    "df = im_usages.extract_garage_details(df, False)\n",
    "\n",
    "short_df[im_usages.NOM_PRIMARY_USAGE].value_counts()"
   ]
  },
  {
   "cell_type": "markdown",
   "source": [
    "## Vorkommen Nutzungstypen\n",
    "Vorkommen primärer, sekundärer, tertiärer und quaternärer Nutzungstypen.\n",
    "\n",
    "#### Primärer Nutzungstyp"
   ],
   "metadata": {
    "collapsed": false
   }
  },
  {
   "cell_type": "code",
   "execution_count": 2,
   "outputs": [
    {
     "data": {
      "text/plain": "WOHNBAUTEN__MFH_MEDIUM                                                                0.161781\nSCHULBAUTEN__VOLKSSCHULEN                                                             0.103149\nFREIZEITBAUTEN_SPORTBAUTEN_ERHOLUNGSBAUTEN__TURNHALLEN_SPORTHALLEN_MEHRZWECKHALLEN    0.056460\nSCHULBAUTEN__KINDERGAERTEN_HORTE                                                      0.038002\nWOHNBAUTEN__MFH_LOW                                                                   0.035831\n                                                                                        ...   \nLAGERBAUTEN__SILOBAUTEN                                                               0.001086\nVERKEHRSBAUTEN__PARKHAEUSER_OBERIRDISCH                                               0.001086\nTECHNISCHE_ANLAGEN__SONDERABFALLSAMMELSTELLE                                          0.001086\nFREIZEITBAUTEN_SPORTBAUTEN__BOOTSHAEUSER                                              0.001086\nFREIZEITBAUTEN_SPORTBAUTEN_ERHOLUNGSBAUTEN__GAERTEN_GEWAECHSHAEUSER                   0.001086\nName: nom_primary_usage, Length: 121, dtype: float64"
     },
     "execution_count": 2,
     "metadata": {},
     "output_type": "execute_result"
    }
   ],
   "source": [
    "short_df = im_usages.__describe_usages(df)\n",
    "short_df[im_usages.NOM_PRIMARY_USAGE].value_counts(normalize=True)"
   ],
   "metadata": {
    "collapsed": false,
    "pycharm": {
     "name": "#%%\n"
    }
   }
  },
  {
   "cell_type": "markdown",
   "source": [
    "#### Sekundärer Nutzungstyp"
   ],
   "metadata": {
    "collapsed": false
   }
  },
  {
   "cell_type": "code",
   "execution_count": 3,
   "outputs": [
    {
     "data": {
      "text/plain": "VERKEHRSBAUTEN__TIEFGARAGEN_EINSTELLHALLEN                                                  0.424051\nFREIZEITBAUTEN_SPORTBAUTEN_ERHOLUNGSBAUTEN__TURNHALLEN_SPORTHALLEN_MEHRZWECKHALLEN          0.080169\nVERKEHRSBAUTEN__GARAGEN_FREISTEHEND                                                         0.052743\nLADENBAUTEN_HANDELSBAUTEN__EINZELHANDEL                                                     0.042194\nBUEROBAUTEN__VOLLAUSBAU                                                                     0.042194\nBUEROBAUTEN__EDELROHBAU                                                                     0.035865\nWOHNBAUTEN__MFH_MEDIUM                                                                      0.031646\nSCHULBAUTEN__KINDERGAERTEN_HORTE                                                            0.025316\nGASTGEWERBE_FREMDENVERKEHRSBAUTEN__RESTAURANT                                               0.023207\nKULTUR__SAAL                                                                                0.016878\nSCHULBAUTEN__VOLKSSCHULEN                                                                   0.016878\nLAGERBAUTEN_PRODUKTIONSBAUTEN                                                               0.012658\nVERWALTUNGSBAUTEN                                                                           0.010549\nWOHNBAUTEN__MFH_LOW                                                                         0.010549\nVERKEHRSBAUTEN__WERKHOEFE                                                                   0.010549\nGASTGEWERBE_FREMDENVERKEHRSBAUTEN__KANTINEN                                                 0.010549\nSCHULBAUTEN__BERUFSSCHULEN                                                                  0.010549\nVERKEHRSBAUTEN__PARKHAEUSER_UNTERIRDISCH                                                    0.008439\nWOHNBAUTEN__ALTERSWOHNUNGEN                                                                 0.006329\nVERKEHRSBAUTEN__STRASSENVERKEHR                                                             0.006329\nSCHULBAUTEN__HOCHSCHULEN_UNIVERSITAETEN                                                     0.006329\nBUEROBAUTEN_VERWALTUNGSBAUTEN__GEMEINDEHAEUSER                                              0.006329\nGASTGEWERBE_FREMDENVERKEHRSBAUTEN__HOTELBAUTEN                                              0.004219\nKULTUS__KIRCHGEMEINDEHAEUSER                                                                0.004219\nGESUNDHEITSBAUTEN__UNIVERSITAETSKLINIKEN_UNTERSUCHUNG                                       0.004219\nLAGERBAUTEN__INDUSTRIEBAUTEN_GEWERBEBAUTEN__LAGERHALLEN_UNBEHEIZT                           0.004219\nKULTUS__KIRCHE                                                                              0.004219\nGESUNDHEIT__PFLEGEHEIME                                                                     0.004219\nWOHNBAUTEN__EFH_REIHEN_MEDIUM                                                               0.004219\nBANKEN                                                                                      0.004219\nLAGERBAUTEN__INDUSTRIEBAUTEN_GEWERBEBAUTEN__LAGERHALLEN_BEHEIZT                             0.004219\nVERKEHRSBAUTEN__PARKHAEUSER_OBERIRDISCH                                                     0.004219\nSCHULBAUTEN__FORSCHUNGSBAUTEN_MIT_LABOR                                                     0.004219\nSCHUTZBAUTEN__ZIVILSCHUTZANLAGEN                                                            0.004219\nJUSTIZ__POLIZEI                                                                             0.004219\nGESUNDHEITSBAUTEN__KRANKENHAEUSER_Logistik                                                  0.004219\nGESUNDHEITSBAUTEN__KRANKENHAEUSER_BETTENTRAKT                                               0.002110\nSCHULBAUTEN__HEILPAEDAGOGISCHE_SONDERSCHULEN                                                0.002110\nGASTGEWERBE_FREMDENVERKEHRSBAUTEN__RASTSTAETTEN                                             0.002110\nKULTUR__FESTHALLEN                                                                          0.002110\nVERKEHRSBAUTEN__BAHNHOEFE                                                                   0.002110\nKULTUR__AUSSTELLUNGEN                                                                       0.002110\nFREIZEITBAUTEN_SPORTBAUTEN__SPORTPLAETZE                                                    0.002110\nFREIZEIT_SPORT_ERHOLUNGSBAUTEN__SPORT_FREIZEITBAU__TURN_SPORTHALLEN__TURNHALLE__2_HALLEN    0.002110\nWOHNBAUTEN__ALTERSHEIME                                                                     0.002110\nWOHNBAUTEN__EFH_REIHEN_LOW                                                                  0.002110\nVERKEHRSBAUTEN__HOCH_TIEFGARAGE__HOCHGARAGE                                                 0.002110\nJUSTIZ__STRAFVOLLZUGSANSTALTEN                                                              0.002110\nLAGERBAUTEN__INDUSTRIEHALLEN                                                                0.002110\nVERKEHRSBAUTEN__HOCH_TIEFGARAGE__TIEFGARAGE                                                 0.002110\nSCHUTZBAUTEN__SCHULUNGSBAUTEN                                                               0.002110\nLADENBAUTEN_HANDELSBAUTEN__MARKTHALLEN_UNBEHEIZT                                            0.002110\nVERKEHRSBAUTEN__POSTGEBAEUDE                                                                0.002110\nKULTUR__KULTUR_GEMEINSCHAFTSZENTREN                                                         0.002110\nFREIZEIT_SPORT_ERHOLUNGSBAUTEN__SPORT_FREIZEITBAU__TURN_SPORTHALLEN__TURNHALLE              0.002110\nFREIZEITBAUTEN_SPORTBAUTEN__REITHALLEN                                                      0.002110\nWOHNBAUTEN__STUDENTENWOHNHAEUSER                                                            0.002110\nSCHUTZBAUTEN__FEUERWEHRGEBAEUDE                                                             0.002110\nLAGERBAUTEN_MEHRSTOECKIGE                                                                   0.002110\nLANDWIRTSCHAFT__SCHEUNEN_STALLUNGEN                                                         0.002110\nName: nom_secondary_usage, dtype: float64"
     },
     "execution_count": 3,
     "metadata": {},
     "output_type": "execute_result"
    }
   ],
   "source": [
    "short_df[im_usages.NOM_SECONDARY_USAGE].value_counts(normalize=True)"
   ],
   "metadata": {
    "collapsed": false,
    "pycharm": {
     "name": "#%%\n"
    }
   }
  },
  {
   "cell_type": "markdown",
   "source": [
    "#### Tertiärer Nutzungstyp"
   ],
   "metadata": {
    "collapsed": false
   }
  },
  {
   "cell_type": "code",
   "execution_count": 4,
   "outputs": [
    {
     "data": {
      "text/plain": "VERKEHRSBAUTEN__TIEFGARAGEN_EINSTELLHALLEN                                            0.263158\nLADENBAUTEN_HANDELSBAUTEN__EINZELHANDEL                                               0.094737\nBUEROBAUTEN__VOLLAUSBAU                                                               0.094737\nSCHULBAUTEN__KINDERGAERTEN_HORTE                                                      0.068421\nBUEROBAUTEN__EDELROHBAU                                                               0.052632\nGASTGEWERBE_FREMDENVERKEHRSBAUTEN__KANTINEN                                           0.042105\nGASTGEWERBE_FREMDENVERKEHRSBAUTEN__RESTAURANT                                         0.042105\nFREIZEITBAUTEN_SPORTBAUTEN_ERHOLUNGSBAUTEN__TURNHALLEN_SPORTHALLEN_MEHRZWECKHALLEN    0.036842\nWOHNBAUTEN__MFH_MEDIUM                                                                0.031579\nKULTUR__SAAL                                                                          0.026316\nWOHNBAUTEN__MFH_HIGH                                                                  0.015789\nVERKEHRSBAUTEN__GARAGEN_FREISTEHEND                                                   0.015789\nSCHUTZBAUTEN__ZIVILSCHUTZANLAGEN                                                      0.015789\nWOHNBAUTEN__MFH_LOW                                                                   0.015789\nKULTUR__AUSSTELLUNGEN                                                                 0.010526\nVERKEHRSBAUTEN__BAHNHOEFE                                                             0.010526\nKULTUR__KULTUR_GEMEINSCHAFTSZENTREN                                                   0.010526\nBANKEN                                                                                0.010526\nWOHNBAUTEN__EFH_REIHEN_MEDIUM                                                         0.010526\nLAGERBAUTEN_PRODUKTIONSBAUTEN                                                         0.010526\nVERWALTUNGSBAUTEN                                                                     0.010526\nWOHNBAUTEN__ALTERSWOHNUNGEN                                                           0.010526\nFREIZEITBAUTEN_SPORTBAUTEN__TRIBUENENBAUTEN                                           0.005263\nGASTGEWERBE_FREMDENVERKEHRSBAUTEN__RASTSTAETTEN                                       0.005263\nGESUNDHEITSBAUTEN__KRANKENHAEUSER_Untersuchung                                        0.005263\nGESUNDHEITSBAUTEN__ARZTPRAXEN                                                         0.005263\nSCHULBAUTEN__AULA                                                                     0.005263\nGESUNDHEITSBAUTEN__UNIVERSITAETSKLINIKEN_FORSCHUNG                                    0.005263\nVERKEHRSBAUTEN__PARKHAEUSER_UNTERIRDISCH                                              0.005263\nWOHNBAUTEN__PERSONALHAEUSER                                                           0.005263\nGESUNDHEITSBAUTEN__UNIVERSITAETSKLINIKEN_BETTENTRAKT                                  0.005263\nKULTUR__MUSEEN                                                                        0.005263\nSCHULBAUTEN__FORSCHUNGSBAUTEN_OHNE_LABOR                                              0.005263\nSCHUTZBAUTEN__KASERNE_AUSBILDUNG__SPORTHALLE                                          0.005263\nSCHUTZBAUTEN__FEUERWEHRGEBAEUDE                                                       0.005263\nLAGERBAUTEN__SILOBAUTEN                                                               0.005263\nLAGERBAUTEN_MEHRSTOECKIGE                                                             0.005263\nSCHULBAUTEN__BIBLIOTHEKEN                                                             0.005263\nGESUNDHEITSBAUTEN__KRANKENHAEUSER_Logistik                                            0.005263\nVERKEHRSBAUTEN__POSTBETRIEBE                                                          0.005263\nGESUNDHEITSBAUTEN__TAGESHEIME                                                         0.005263\nName: nom_tertiary_usage, dtype: float64"
     },
     "execution_count": 4,
     "metadata": {},
     "output_type": "execute_result"
    }
   ],
   "source": [
    "short_df[im_usages.NOM_TERTIARY_USAGE].value_counts(normalize=True)"
   ],
   "metadata": {
    "collapsed": false,
    "pycharm": {
     "name": "#%%\n"
    }
   }
  },
  {
   "cell_type": "markdown",
   "source": [
    "#### Quaternärer Nutzungstyp"
   ],
   "metadata": {
    "collapsed": false
   }
  },
  {
   "cell_type": "code",
   "execution_count": 5,
   "outputs": [
    {
     "data": {
      "text/plain": "LADENBAUTEN_HANDELSBAUTEN__EINZELHANDEL                                               0.203390\nVERKEHRSBAUTEN__TIEFGARAGEN_EINSTELLHALLEN                                            0.135593\nSCHULBAUTEN__KINDERGAERTEN_HORTE                                                      0.101695\nBUEROBAUTEN__VOLLAUSBAU                                                               0.101695\nKULTUR__SAAL                                                                          0.067797\nWOHNBAUTEN__MFH_MEDIUM                                                                0.067797\nBUEROBAUTEN__EDELROHBAU                                                               0.050847\nGASTGEWERBE_FREMDENVERKEHRSBAUTEN__RESTAURANT                                         0.033898\nSCHULBAUTEN__HEILPAEDAGOGISCHE_SONDERSCHULEN                                          0.016949\nLADENBAUTEN_HANDELSBAUTEN__GROSSHANDEL                                                0.016949\nFREIZEITBAUTEN_SPORTBAUTEN__KUNSTEISBAHN_FREIBAD                                      0.016949\nKULTUR__MUSEEN                                                                        0.016949\nFREIZEITBAUTEN_SPORTBAUTEN_ERHOLUNGSBAUTEN__TURNHALLEN_SPORTHALLEN_MEHRZWECKHALLEN    0.016949\nSCHULBAUTEN__BIBLIOTHEKEN                                                             0.016949\nWOHNBAUTEN__MFH_LOW                                                                   0.016949\nVERWALTUNGSBAUTEN                                                                     0.016949\nVERKEHRSBAUTEN__PARKHAEUSER_UNTERIRDISCH                                              0.016949\nLAGERBAUTEN_MEHRSTOECKIGE                                                             0.016949\nGESUNDHEITSBAUTEN__UNIVERSITAETSKLINIKEN_LOGISTIK                                     0.016949\nVERKEHRSBAUTEN__WERKHOEFE                                                             0.016949\nGASTGEWERBE_FREMDENVERKEHRSBAUTEN__KANTINEN                                           0.016949\nFREIZEITBAUTEN_SPORTBAUTEN__GARDEROBENGEBAEUDE                                        0.016949\nName: nom_quaternary_usage, dtype: float64"
     },
     "execution_count": 5,
     "metadata": {},
     "output_type": "execute_result"
    }
   ],
   "source": [
    "short_df[im_usages.NOM_QUATERNARY_USAGE].value_counts(normalize=True)"
   ],
   "metadata": {
    "collapsed": false,
    "pycharm": {
     "name": "#%%\n"
    }
   }
  }
 ],
 "metadata": {
  "kernelspec": {
   "name": "pycharm-839b7289",
   "language": "python",
   "display_name": "PyCharm (ip5-metriken-bauwesen)"
  },
  "language_info": {
   "codemirror_mode": {
    "name": "ipython",
    "version": 2
   },
   "file_extension": ".py",
   "mimetype": "text/x-python",
   "name": "python",
   "nbconvert_exporter": "python",
   "pygments_lexer": "ipython2",
   "version": "2.7.6"
  }
 },
 "nbformat": 4,
 "nbformat_minor": 0
}