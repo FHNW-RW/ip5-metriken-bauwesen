{
 "cells": [
  {
   "cell_type": "markdown",
   "source": [
    "## Weight & Biases\n",
    "Hyperparameter Tuning mit wandb"
   ],
   "metadata": {
    "collapsed": false
   }
  },
  {
   "cell_type": "markdown",
   "source": [
    "### Sweep Config\n",
    "Konfiguration des wand sweep mit den gewünschten Hyperparameter"
   ],
   "metadata": {
    "collapsed": false
   }
  },
  {
   "cell_type": "code",
   "execution_count": 7,
   "outputs": [
    {
     "name": "stdout",
     "output_type": "stream",
     "text": [
      "Create sweep with ID: s7m2nnuu\n",
      "Sweep URL: https://wandb.ai/devcore/Metriken%20Bauwesen%20Sweeps/sweeps/s7m2nnuu\n"
     ]
    }
   ],
   "source": [
    "import wandb\n",
    "\n",
    "wandb.login()\n",
    "\n",
    "sweep_config = {\n",
    "  'name' : 'my-sweep',\n",
    "  'method' : 'random',\n",
    "  'parameters' : {\n",
    "    'n_estimators' : {\n",
    "      'values' : [8, 16, 32, 64, 128]\n",
    "    },\n",
    "    'learning_rate' :{\n",
    "      'min': 0.05,\n",
    "      'max': 0.2\n",
    "    },\n",
    "    'subsample' :{\n",
    "      'min': 0.5,\n",
    "      'max': 1.0\n",
    "    }\n",
    "  }\n",
    "}\n",
    "\n",
    "sweep_id = wandb.sweep(sweep_config, project='Metriken Bauwesen Sweeps', entity='devcore')"
   ],
   "metadata": {
    "collapsed": false,
    "pycharm": {
     "name": "#%%\n"
    }
   }
  },
  {
   "cell_type": "markdown",
   "source": [
    "### Run Sweep\n",
    "Sweep auf Agent laufen lassen für Hyperparameter-Tuning und Logging auf wandb"
   ],
   "metadata": {
    "collapsed": false
   }
  },
  {
   "cell_type": "code",
   "execution_count": 8,
   "outputs": [
    {
     "name": "stderr",
     "output_type": "stream",
     "text": [
      "\u001B[34m\u001B[1mwandb\u001B[0m: Sweep Agent: Waiting for job.\n",
      "\u001B[34m\u001B[1mwandb\u001B[0m: Job received.\n",
      "\u001B[34m\u001B[1mwandb\u001B[0m: Agent Starting Run: png9sbbi with config:\n",
      "\u001B[34m\u001B[1mwandb\u001B[0m: \tlearning_rate: 0.15429217681891133\n",
      "\u001B[34m\u001B[1mwandb\u001B[0m: \tn_estimators: 16\n",
      "\u001B[34m\u001B[1mwandb\u001B[0m: \tsubsample: 0.8304119928021347\n",
      "Failed to detect the name of this notebook, you can set it manually with the WANDB_NOTEBOOK_NAME environment variable to enable code saving.\n",
      "\u001B[34m\u001B[1mwandb\u001B[0m: Agent Starting Run: 7oh4upgy with config:\n",
      "\u001B[34m\u001B[1mwandb\u001B[0m: \tlearning_rate: 0.10605741677973475\n",
      "\u001B[34m\u001B[1mwandb\u001B[0m: \tn_estimators: 32\n",
      "\u001B[34m\u001B[1mwandb\u001B[0m: \tsubsample: 0.5414260685923367\n",
      "Failed to detect the name of this notebook, you can set it manually with the WANDB_NOTEBOOK_NAME environment variable to enable code saving.\n",
      "\u001B[34m\u001B[1mwandb\u001B[0m: Agent Starting Run: ta67qor1 with config:\n",
      "\u001B[34m\u001B[1mwandb\u001B[0m: \tlearning_rate: 0.14401403487725778\n",
      "\u001B[34m\u001B[1mwandb\u001B[0m: \tn_estimators: 8\n",
      "\u001B[34m\u001B[1mwandb\u001B[0m: \tsubsample: 0.8021626474610888\n",
      "Failed to detect the name of this notebook, you can set it manually with the WANDB_NOTEBOOK_NAME environment variable to enable code saving.\n",
      "\u001B[34m\u001B[1mwandb\u001B[0m: Agent Starting Run: lcx29s6h with config:\n",
      "\u001B[34m\u001B[1mwandb\u001B[0m: \tlearning_rate: 0.06857145287549989\n",
      "\u001B[34m\u001B[1mwandb\u001B[0m: \tn_estimators: 8\n",
      "\u001B[34m\u001B[1mwandb\u001B[0m: \tsubsample: 0.9580923213421817\n",
      "Failed to detect the name of this notebook, you can set it manually with the WANDB_NOTEBOOK_NAME environment variable to enable code saving.\n",
      "\u001B[34m\u001B[1mwandb\u001B[0m: Agent Starting Run: bokk56tn with config:\n",
      "\u001B[34m\u001B[1mwandb\u001B[0m: \tlearning_rate: 0.19757851775348223\n",
      "\u001B[34m\u001B[1mwandb\u001B[0m: \tn_estimators: 16\n",
      "\u001B[34m\u001B[1mwandb\u001B[0m: \tsubsample: 0.8864411169032246\n",
      "Failed to detect the name of this notebook, you can set it manually with the WANDB_NOTEBOOK_NAME environment variable to enable code saving.\n",
      "\u001B[34m\u001B[1mwandb\u001B[0m: Agent Starting Run: 04pf3bbg with config:\n",
      "\u001B[34m\u001B[1mwandb\u001B[0m: \tlearning_rate: 0.17233953879684322\n",
      "\u001B[34m\u001B[1mwandb\u001B[0m: \tn_estimators: 8\n",
      "\u001B[34m\u001B[1mwandb\u001B[0m: \tsubsample: 0.8789378299420102\n",
      "Failed to detect the name of this notebook, you can set it manually with the WANDB_NOTEBOOK_NAME environment variable to enable code saving.\n",
      "\u001B[34m\u001B[1mwandb\u001B[0m: Agent Starting Run: zcz6cc97 with config:\n",
      "\u001B[34m\u001B[1mwandb\u001B[0m: \tlearning_rate: 0.12377880502644571\n",
      "\u001B[34m\u001B[1mwandb\u001B[0m: \tn_estimators: 16\n",
      "\u001B[34m\u001B[1mwandb\u001B[0m: \tsubsample: 0.9041008326749657\n",
      "Failed to detect the name of this notebook, you can set it manually with the WANDB_NOTEBOOK_NAME environment variable to enable code saving.\n",
      "\u001B[34m\u001B[1mwandb\u001B[0m: Agent Starting Run: mg3i7j7c with config:\n",
      "\u001B[34m\u001B[1mwandb\u001B[0m: \tlearning_rate: 0.1339563526433398\n",
      "\u001B[34m\u001B[1mwandb\u001B[0m: \tn_estimators: 32\n",
      "\u001B[34m\u001B[1mwandb\u001B[0m: \tsubsample: 0.6718463684006359\n",
      "Failed to detect the name of this notebook, you can set it manually with the WANDB_NOTEBOOK_NAME environment variable to enable code saving.\n",
      "\u001B[34m\u001B[1mwandb\u001B[0m: Agent Starting Run: ffjhjdyy with config:\n",
      "\u001B[34m\u001B[1mwandb\u001B[0m: \tlearning_rate: 0.10039815803111604\n",
      "\u001B[34m\u001B[1mwandb\u001B[0m: \tn_estimators: 8\n",
      "\u001B[34m\u001B[1mwandb\u001B[0m: \tsubsample: 0.9562011001402412\n",
      "Failed to detect the name of this notebook, you can set it manually with the WANDB_NOTEBOOK_NAME environment variable to enable code saving.\n",
      "\u001B[34m\u001B[1mwandb\u001B[0m: Agent Starting Run: 3zkglup3 with config:\n",
      "\u001B[34m\u001B[1mwandb\u001B[0m: \tlearning_rate: 0.12514483427949308\n",
      "\u001B[34m\u001B[1mwandb\u001B[0m: \tn_estimators: 16\n",
      "\u001B[34m\u001B[1mwandb\u001B[0m: \tsubsample: 0.9954719995725178\n",
      "Failed to detect the name of this notebook, you can set it manually with the WANDB_NOTEBOOK_NAME environment variable to enable code saving.\n",
      "\u001B[34m\u001B[1mwandb\u001B[0m: Agent Starting Run: 60rssaov with config:\n",
      "\u001B[34m\u001B[1mwandb\u001B[0m: \tlearning_rate: 0.0791177951177738\n",
      "\u001B[34m\u001B[1mwandb\u001B[0m: \tn_estimators: 32\n",
      "\u001B[34m\u001B[1mwandb\u001B[0m: \tsubsample: 0.5047589268623913\n",
      "Failed to detect the name of this notebook, you can set it manually with the WANDB_NOTEBOOK_NAME environment variable to enable code saving.\n",
      "\u001B[34m\u001B[1mwandb\u001B[0m: Agent Starting Run: 8tkozcs7 with config:\n",
      "\u001B[34m\u001B[1mwandb\u001B[0m: \tlearning_rate: 0.16525465979064013\n",
      "\u001B[34m\u001B[1mwandb\u001B[0m: \tn_estimators: 128\n",
      "\u001B[34m\u001B[1mwandb\u001B[0m: \tsubsample: 0.7654290572732851\n",
      "Failed to detect the name of this notebook, you can set it manually with the WANDB_NOTEBOOK_NAME environment variable to enable code saving.\n",
      "\u001B[34m\u001B[1mwandb\u001B[0m: Agent Starting Run: vb6whkig with config:\n",
      "\u001B[34m\u001B[1mwandb\u001B[0m: \tlearning_rate: 0.15384105387439645\n",
      "\u001B[34m\u001B[1mwandb\u001B[0m: \tn_estimators: 64\n",
      "\u001B[34m\u001B[1mwandb\u001B[0m: \tsubsample: 0.8693377137229824\n",
      "Failed to detect the name of this notebook, you can set it manually with the WANDB_NOTEBOOK_NAME environment variable to enable code saving.\n",
      "\u001B[34m\u001B[1mwandb\u001B[0m: Agent Starting Run: g60j0hbz with config:\n",
      "\u001B[34m\u001B[1mwandb\u001B[0m: \tlearning_rate: 0.08732773893155074\n",
      "\u001B[34m\u001B[1mwandb\u001B[0m: \tn_estimators: 16\n",
      "\u001B[34m\u001B[1mwandb\u001B[0m: \tsubsample: 0.6044490218601086\n",
      "Failed to detect the name of this notebook, you can set it manually with the WANDB_NOTEBOOK_NAME environment variable to enable code saving.\n",
      "\u001B[34m\u001B[1mwandb\u001B[0m: Agent Starting Run: nz9v0y3d with config:\n",
      "\u001B[34m\u001B[1mwandb\u001B[0m: \tlearning_rate: 0.18982394236338684\n",
      "\u001B[34m\u001B[1mwandb\u001B[0m: \tn_estimators: 128\n",
      "\u001B[34m\u001B[1mwandb\u001B[0m: \tsubsample: 0.5295734606579072\n",
      "Failed to detect the name of this notebook, you can set it manually with the WANDB_NOTEBOOK_NAME environment variable to enable code saving.\n",
      "\u001B[34m\u001B[1mwandb\u001B[0m: Agent Starting Run: af5vxarl with config:\n",
      "\u001B[34m\u001B[1mwandb\u001B[0m: \tlearning_rate: 0.07177289667868565\n",
      "\u001B[34m\u001B[1mwandb\u001B[0m: \tn_estimators: 128\n",
      "\u001B[34m\u001B[1mwandb\u001B[0m: \tsubsample: 0.6920475459377752\n",
      "Failed to detect the name of this notebook, you can set it manually with the WANDB_NOTEBOOK_NAME environment variable to enable code saving.\n",
      "\u001B[34m\u001B[1mwandb\u001B[0m: Agent Starting Run: 8q8n9n31 with config:\n",
      "\u001B[34m\u001B[1mwandb\u001B[0m: \tlearning_rate: 0.15854338526526596\n",
      "\u001B[34m\u001B[1mwandb\u001B[0m: \tn_estimators: 128\n",
      "\u001B[34m\u001B[1mwandb\u001B[0m: \tsubsample: 0.7855642552122142\n",
      "Failed to detect the name of this notebook, you can set it manually with the WANDB_NOTEBOOK_NAME environment variable to enable code saving.\n",
      "\u001B[34m\u001B[1mwandb\u001B[0m: Agent Starting Run: hkdkuqzu with config:\n",
      "\u001B[34m\u001B[1mwandb\u001B[0m: \tlearning_rate: 0.1569741798955297\n",
      "\u001B[34m\u001B[1mwandb\u001B[0m: \tn_estimators: 16\n",
      "\u001B[34m\u001B[1mwandb\u001B[0m: \tsubsample: 0.8094251475701053\n",
      "Failed to detect the name of this notebook, you can set it manually with the WANDB_NOTEBOOK_NAME environment variable to enable code saving.\n",
      "\u001B[34m\u001B[1mwandb\u001B[0m: Agent Starting Run: 11diqrvv with config:\n",
      "\u001B[34m\u001B[1mwandb\u001B[0m: \tlearning_rate: 0.07785385406517058\n",
      "\u001B[34m\u001B[1mwandb\u001B[0m: \tn_estimators: 16\n",
      "\u001B[34m\u001B[1mwandb\u001B[0m: \tsubsample: 0.5104095019758526\n",
      "Failed to detect the name of this notebook, you can set it manually with the WANDB_NOTEBOOK_NAME environment variable to enable code saving.\n",
      "\u001B[34m\u001B[1mwandb\u001B[0m: Sweep Agent: Waiting for job.\n",
      "\u001B[34m\u001B[1mwandb\u001B[0m: Job received.\n",
      "\u001B[34m\u001B[1mwandb\u001B[0m: Agent Starting Run: gsv1vytj with config:\n",
      "\u001B[34m\u001B[1mwandb\u001B[0m: \tlearning_rate: 0.08078025835581165\n",
      "\u001B[34m\u001B[1mwandb\u001B[0m: \tn_estimators: 128\n",
      "\u001B[34m\u001B[1mwandb\u001B[0m: \tsubsample: 0.57284474062798\n",
      "Failed to detect the name of this notebook, you can set it manually with the WANDB_NOTEBOOK_NAME environment variable to enable code saving.\n",
      "\u001B[34m\u001B[1mwandb\u001B[0m: Agent Starting Run: myuzvhoy with config:\n",
      "\u001B[34m\u001B[1mwandb\u001B[0m: \tlearning_rate: 0.11547608554612698\n",
      "\u001B[34m\u001B[1mwandb\u001B[0m: \tn_estimators: 32\n",
      "\u001B[34m\u001B[1mwandb\u001B[0m: \tsubsample: 0.9453527823403234\n",
      "Failed to detect the name of this notebook, you can set it manually with the WANDB_NOTEBOOK_NAME environment variable to enable code saving.\n",
      "\u001B[34m\u001B[1mwandb\u001B[0m: Agent Starting Run: w2ovkk9a with config:\n",
      "\u001B[34m\u001B[1mwandb\u001B[0m: \tlearning_rate: 0.059623348665454476\n",
      "\u001B[34m\u001B[1mwandb\u001B[0m: \tn_estimators: 64\n",
      "\u001B[34m\u001B[1mwandb\u001B[0m: \tsubsample: 0.8709124567413781\n",
      "Failed to detect the name of this notebook, you can set it manually with the WANDB_NOTEBOOK_NAME environment variable to enable code saving.\n",
      "\u001B[34m\u001B[1mwandb\u001B[0m: Agent Starting Run: 1wqzjby9 with config:\n",
      "\u001B[34m\u001B[1mwandb\u001B[0m: \tlearning_rate: 0.14096698884174635\n",
      "\u001B[34m\u001B[1mwandb\u001B[0m: \tn_estimators: 8\n",
      "\u001B[34m\u001B[1mwandb\u001B[0m: \tsubsample: 0.9586765907701138\n",
      "Failed to detect the name of this notebook, you can set it manually with the WANDB_NOTEBOOK_NAME environment variable to enable code saving.\n",
      "\u001B[34m\u001B[1mwandb\u001B[0m: Agent Starting Run: 3kzn9uy8 with config:\n",
      "\u001B[34m\u001B[1mwandb\u001B[0m: \tlearning_rate: 0.16899175991349774\n",
      "\u001B[34m\u001B[1mwandb\u001B[0m: \tn_estimators: 8\n",
      "\u001B[34m\u001B[1mwandb\u001B[0m: \tsubsample: 0.6020531360522263\n",
      "Failed to detect the name of this notebook, you can set it manually with the WANDB_NOTEBOOK_NAME environment variable to enable code saving.\n",
      "\u001B[34m\u001B[1mwandb\u001B[0m: Agent Starting Run: bkirakry with config:\n",
      "\u001B[34m\u001B[1mwandb\u001B[0m: \tlearning_rate: 0.058392854248254814\n",
      "\u001B[34m\u001B[1mwandb\u001B[0m: \tn_estimators: 8\n",
      "\u001B[34m\u001B[1mwandb\u001B[0m: \tsubsample: 0.9560661067382661\n",
      "Failed to detect the name of this notebook, you can set it manually with the WANDB_NOTEBOOK_NAME environment variable to enable code saving.\n",
      "\u001B[34m\u001B[1mwandb\u001B[0m: Agent Starting Run: amvxylkp with config:\n",
      "\u001B[34m\u001B[1mwandb\u001B[0m: \tlearning_rate: 0.05796917323929804\n",
      "\u001B[34m\u001B[1mwandb\u001B[0m: \tn_estimators: 64\n",
      "\u001B[34m\u001B[1mwandb\u001B[0m: \tsubsample: 0.8554805998868854\n",
      "Failed to detect the name of this notebook, you can set it manually with the WANDB_NOTEBOOK_NAME environment variable to enable code saving.\n",
      "\u001B[34m\u001B[1mwandb\u001B[0m: Agent Starting Run: xo9i8s17 with config:\n",
      "\u001B[34m\u001B[1mwandb\u001B[0m: \tlearning_rate: 0.17275353556913453\n",
      "\u001B[34m\u001B[1mwandb\u001B[0m: \tn_estimators: 64\n",
      "\u001B[34m\u001B[1mwandb\u001B[0m: \tsubsample: 0.797019595648643\n",
      "Failed to detect the name of this notebook, you can set it manually with the WANDB_NOTEBOOK_NAME environment variable to enable code saving.\n",
      "\u001B[34m\u001B[1mwandb\u001B[0m: Sweep Agent: Waiting for job.\n",
      "\u001B[34m\u001B[1mwandb\u001B[0m: Job received.\n",
      "\u001B[34m\u001B[1mwandb\u001B[0m: Agent Starting Run: eg3hk7tq with config:\n",
      "\u001B[34m\u001B[1mwandb\u001B[0m: \tlearning_rate: 0.1336771927253564\n",
      "\u001B[34m\u001B[1mwandb\u001B[0m: \tn_estimators: 16\n",
      "\u001B[34m\u001B[1mwandb\u001B[0m: \tsubsample: 0.5688408624542292\n",
      "Failed to detect the name of this notebook, you can set it manually with the WANDB_NOTEBOOK_NAME environment variable to enable code saving.\n",
      "\u001B[34m\u001B[1mwandb\u001B[0m: Agent Starting Run: oothwqcx with config:\n",
      "\u001B[34m\u001B[1mwandb\u001B[0m: \tlearning_rate: 0.12643308009205656\n",
      "\u001B[34m\u001B[1mwandb\u001B[0m: \tn_estimators: 64\n",
      "\u001B[34m\u001B[1mwandb\u001B[0m: \tsubsample: 0.9759323164094715\n",
      "Failed to detect the name of this notebook, you can set it manually with the WANDB_NOTEBOOK_NAME environment variable to enable code saving.\n",
      "\u001B[34m\u001B[1mwandb\u001B[0m: Sweep Agent: Waiting for job.\n",
      "\u001B[34m\u001B[1mwandb\u001B[0m: Job received.\n",
      "\u001B[34m\u001B[1mwandb\u001B[0m: Agent Starting Run: 8m7gca3f with config:\n",
      "\u001B[34m\u001B[1mwandb\u001B[0m: \tlearning_rate: 0.08624944210543423\n",
      "\u001B[34m\u001B[1mwandb\u001B[0m: \tn_estimators: 8\n",
      "\u001B[34m\u001B[1mwandb\u001B[0m: \tsubsample: 0.9561772261524586\n",
      "Failed to detect the name of this notebook, you can set it manually with the WANDB_NOTEBOOK_NAME environment variable to enable code saving.\n",
      "\u001B[34m\u001B[1mwandb\u001B[0m: Agent Starting Run: iup0dhbe with config:\n",
      "\u001B[34m\u001B[1mwandb\u001B[0m: \tlearning_rate: 0.11920717925834245\n",
      "\u001B[34m\u001B[1mwandb\u001B[0m: \tn_estimators: 8\n",
      "\u001B[34m\u001B[1mwandb\u001B[0m: \tsubsample: 0.9994662243930955\n",
      "Failed to detect the name of this notebook, you can set it manually with the WANDB_NOTEBOOK_NAME environment variable to enable code saving.\n",
      "\u001B[34m\u001B[1mwandb\u001B[0m: Sweep Agent: Waiting for job.\n",
      "\u001B[34m\u001B[1mwandb\u001B[0m: Job received.\n",
      "\u001B[34m\u001B[1mwandb\u001B[0m: Agent Starting Run: dr50isf3 with config:\n",
      "\u001B[34m\u001B[1mwandb\u001B[0m: \tlearning_rate: 0.07274598169104302\n",
      "\u001B[34m\u001B[1mwandb\u001B[0m: \tn_estimators: 8\n",
      "\u001B[34m\u001B[1mwandb\u001B[0m: \tsubsample: 0.5360813772750629\n",
      "Failed to detect the name of this notebook, you can set it manually with the WANDB_NOTEBOOK_NAME environment variable to enable code saving.\n",
      "\u001B[34m\u001B[1mwandb\u001B[0m: Agent Starting Run: oaub9f44 with config:\n",
      "\u001B[34m\u001B[1mwandb\u001B[0m: \tlearning_rate: 0.167171963247708\n",
      "\u001B[34m\u001B[1mwandb\u001B[0m: \tn_estimators: 128\n",
      "\u001B[34m\u001B[1mwandb\u001B[0m: \tsubsample: 0.9104172334200158\n",
      "Failed to detect the name of this notebook, you can set it manually with the WANDB_NOTEBOOK_NAME environment variable to enable code saving.\n",
      "\u001B[34m\u001B[1mwandb\u001B[0m: Sweep Agent: Waiting for job.\n",
      "\u001B[34m\u001B[1mwandb\u001B[0m: Job received.\n",
      "\u001B[34m\u001B[1mwandb\u001B[0m: Agent Starting Run: mvqrrulj with config:\n",
      "\u001B[34m\u001B[1mwandb\u001B[0m: \tlearning_rate: 0.18803616690953356\n",
      "\u001B[34m\u001B[1mwandb\u001B[0m: \tn_estimators: 32\n",
      "\u001B[34m\u001B[1mwandb\u001B[0m: \tsubsample: 0.8442688552016839\n",
      "Failed to detect the name of this notebook, you can set it manually with the WANDB_NOTEBOOK_NAME environment variable to enable code saving.\n",
      "\u001B[34m\u001B[1mwandb\u001B[0m: Agent Starting Run: 8ip6f1hv with config:\n",
      "\u001B[34m\u001B[1mwandb\u001B[0m: \tlearning_rate: 0.1800720168863984\n",
      "\u001B[34m\u001B[1mwandb\u001B[0m: \tn_estimators: 32\n",
      "\u001B[34m\u001B[1mwandb\u001B[0m: \tsubsample: 0.8142632297174974\n",
      "Failed to detect the name of this notebook, you can set it manually with the WANDB_NOTEBOOK_NAME environment variable to enable code saving.\n",
      "\u001B[34m\u001B[1mwandb\u001B[0m: Agent Starting Run: iejhuinz with config:\n",
      "\u001B[34m\u001B[1mwandb\u001B[0m: \tlearning_rate: 0.16529455650341365\n",
      "\u001B[34m\u001B[1mwandb\u001B[0m: \tn_estimators: 128\n",
      "\u001B[34m\u001B[1mwandb\u001B[0m: \tsubsample: 0.68159193226662\n",
      "Failed to detect the name of this notebook, you can set it manually with the WANDB_NOTEBOOK_NAME environment variable to enable code saving.\n",
      "\u001B[34m\u001B[1mwandb\u001B[0m: Agent Starting Run: 1632ps3w with config:\n",
      "\u001B[34m\u001B[1mwandb\u001B[0m: \tlearning_rate: 0.11713278715664881\n",
      "\u001B[34m\u001B[1mwandb\u001B[0m: \tn_estimators: 16\n",
      "\u001B[34m\u001B[1mwandb\u001B[0m: \tsubsample: 0.8512762268396112\n",
      "Failed to detect the name of this notebook, you can set it manually with the WANDB_NOTEBOOK_NAME environment variable to enable code saving.\n",
      "\u001B[34m\u001B[1mwandb\u001B[0m: Agent Starting Run: ikbak0l5 with config:\n",
      "\u001B[34m\u001B[1mwandb\u001B[0m: \tlearning_rate: 0.1340366739097858\n",
      "\u001B[34m\u001B[1mwandb\u001B[0m: \tn_estimators: 16\n",
      "\u001B[34m\u001B[1mwandb\u001B[0m: \tsubsample: 0.9950485794443744\n",
      "Failed to detect the name of this notebook, you can set it manually with the WANDB_NOTEBOOK_NAME environment variable to enable code saving.\n",
      "\u001B[34m\u001B[1mwandb\u001B[0m: Agent Starting Run: lqnilzuj with config:\n",
      "\u001B[34m\u001B[1mwandb\u001B[0m: \tlearning_rate: 0.15964592202906847\n",
      "\u001B[34m\u001B[1mwandb\u001B[0m: \tn_estimators: 64\n",
      "\u001B[34m\u001B[1mwandb\u001B[0m: \tsubsample: 0.7135974115636106\n",
      "Failed to detect the name of this notebook, you can set it manually with the WANDB_NOTEBOOK_NAME environment variable to enable code saving.\n",
      "\u001B[34m\u001B[1mwandb\u001B[0m: Agent Starting Run: hmt30zmn with config:\n",
      "\u001B[34m\u001B[1mwandb\u001B[0m: \tlearning_rate: 0.1961105583697083\n",
      "\u001B[34m\u001B[1mwandb\u001B[0m: \tn_estimators: 64\n",
      "\u001B[34m\u001B[1mwandb\u001B[0m: \tsubsample: 0.970153137267542\n",
      "Failed to detect the name of this notebook, you can set it manually with the WANDB_NOTEBOOK_NAME environment variable to enable code saving.\n"
     ]
    },
    {
     "data": {
      "text/plain": "<IPython.core.display.HTML object>",
      "text/html": "\n                Tracking run with wandb version 0.10.31<br/>\n                Syncing run <strong style=\"color:#cdcd00\">ethereal-sweep-1</strong> to <a href=\"https://wandb.ai\" target=\"_blank\">Weights & Biases</a> <a href=\"https://docs.wandb.com/integrations/jupyter.html\" target=\"_blank\">(Documentation)</a>.<br/>\n                Project page: <a href=\"https://wandb.ai/devcore/Metriken%20Bauwesen%20Sweeps\" target=\"_blank\">https://wandb.ai/devcore/Metriken%20Bauwesen%20Sweeps</a><br/>\n                Sweep page: <a href=\"https://wandb.ai/devcore/Metriken%20Bauwesen%20Sweeps/sweeps/s7m2nnuu\" target=\"_blank\">https://wandb.ai/devcore/Metriken%20Bauwesen%20Sweeps/sweeps/s7m2nnuu</a><br/>\nRun page: <a href=\"https://wandb.ai/devcore/Metriken%20Bauwesen%20Sweeps/runs/png9sbbi\" target=\"_blank\">https://wandb.ai/devcore/Metriken%20Bauwesen%20Sweeps/runs/png9sbbi</a><br/>\n                Run data is saved locally in <code>D:\\Development\\FHNW\\ip5-metriken-bauwesen\\src\\wandb\\run-20210601_151430-png9sbbi</code><br/><br/>\n            "
     },
     "metadata": {},
     "output_type": "display_data"
    },
    {
     "name": "stdout",
     "output_type": "stream",
     "text": [
      "{'fit_time': array([0.00801682, 0.00697255, 0.00801301, 0.00699973, 0.00699949,\n",
      "       0.00699997, 0.00699997, 0.00600052, 0.00702834, 0.00898767,\n",
      "       0.01401162, 0.00700569, 0.01600099, 0.0099988 , 0.00999975]), 'score_time': array([0.00100231, 0.00099874, 0.0019865 , 0.00199938, 0.00200009,\n",
      "       0.00100017, 0.00099969, 0.00200009, 0.00100231, 0.00398278,\n",
      "       0.00198841, 0.00597191, 0.00099945, 0.00200152, 0.00200081]), 'test_r2': array([0.70650079, 0.93184002, 0.91489625, 0.89934762, 0.86045618,\n",
      "       0.95259349, 0.89142302, 0.94806625, 0.78757068, 0.83850984,\n",
      "       0.86168789, 0.80393385, 0.81291158, 0.91394029, 0.94482004])}\n",
      "{'fit_time': array([0.02699852, 0.02000046, 0.04400301, 0.02599931, 0.02599788,\n",
      "       0.02500176, 0.02200007, 0.02100015, 0.01500177, 0.01599669,\n",
      "       0.02300262, 0.02299857, 0.03000164, 0.0219996 , 0.02300096]), 'score_time': array([0.00299835, 0.00400186, 0.00299716, 0.00300121, 0.00200009,\n",
      "       0.00299931, 0.00299978, 0.00300026, 0.00300026, 0.00300145,\n",
      "       0.00700212, 0.00199795, 0.00399971, 0.00300121, 0.00299907]), 'test_r2': array([0.64981211, 0.93423207, 0.90657884, 0.86390215, 0.85773463,\n",
      "       0.93013153, 0.88914999, 0.94923455, 0.80507255, 0.87073351,\n",
      "       0.87012956, 0.81244474, 0.83802927, 0.92691556, 0.95877291])}\n",
      "{'fit_time': array([0.00699782, 0.00599909, 0.00700521, 0.0079937 , 0.00600243,\n",
      "       0.00499797, 0.00499892, 0.0049994 , 0.00500011, 0.00499964,\n",
      "       0.00499797, 0.00500011, 0.00700092, 0.00499678, 0.0059998 ]), 'score_time': array([0.00200081, 0.00299931, 0.00300193, 0.00200057, 0.00099874,\n",
      "       0.00199962, 0.00200009, 0.00200129, 0.00200057, 0.00099969,\n",
      "       0.00100017, 0.00200081, 0.00200176, 0.00200129, 0.00200009]), 'test_r2': array([0.70761655, 0.84630515, 0.81427056, 0.80066866, 0.81909656,\n",
      "       0.90951731, 0.782436  , 0.85545393, 0.7328442 , 0.83288502,\n",
      "       0.78223781, 0.77789038, 0.75618878, 0.78037375, 0.9257276 ])}\n",
      "{'fit_time': array([0.00800157, 0.00899553, 0.01000118, 0.00700259, 0.00800085,\n",
      "       0.00699663, 0.00500059, 0.00700164, 0.00500011, 0.00700164,\n",
      "       0.00799704, 0.00699973, 0.00399804, 0.00700068, 0.00699973]), 'score_time': array([0.00400066, 0.00200319, 0.00299859, 0.00400138, 0.00201201,\n",
      "       0.00299954, 0.00199986, 0.00299931, 0.00099874, 0.00200129,\n",
      "       0.00200152, 0.00099921, 0.002002  , 0.00200057, 0.00099993]), 'test_r2': array([0.587994  , 0.62368887, 0.58902111, 0.57970513, 0.63065031,\n",
      "       0.68490704, 0.55780542, 0.61598566, 0.54402459, 0.66465792,\n",
      "       0.58302869, 0.60543461, 0.58079359, 0.54564063, 0.67653554])}\n",
      "{'fit_time': array([0.00802732, 0.00796938, 0.00902081, 0.00799322, 0.01397157,\n",
      "       0.009969  , 0.00803208, 0.00796652, 0.00800037, 0.00699925,\n",
      "       0.0079999 , 0.00699949, 0.00700021, 0.00800037, 0.00803423]), 'score_time': array([0.00199962, 0.00200009, 0.00200987, 0.00200725, 0.00202847,\n",
      "       0.00099969, 0.00097036, 0.00100017, 0.00199986, 0.0010004 ,\n",
      "       0.00200081, 0.00099969, 0.00099993, 0.00100017, 0.00099444]), 'test_r2': array([0.66354382, 0.9397714 , 0.9323497 , 0.90480033, 0.81291314,\n",
      "       0.94293599, 0.903817  , 0.95513086, 0.79572265, 0.83020301,\n",
      "       0.87229205, 0.79345562, 0.82733652, 0.90577302, 0.90800102])}\n",
      "{'fit_time': array([0.00499821, 0.00600028, 0.00500059, 0.00500083, 0.00499821,\n",
      "       0.00499964, 0.00499821, 0.00399923, 0.00499988, 0.00506163,\n",
      "       0.00500035, 0.00600481, 0.00499868, 0.00600147, 0.00500226]), 'score_time': array([0.00200129, 0.00100017, 0.00199842, 0.00099993, 0.00200152,\n",
      "       0.00200081, 0.00100017, 0.00200152, 0.00200272, 0.00198913,\n",
      "       0.00199771, 0.0019989 , 0.00299788, 0.00099874, 0.00099874]), 'test_r2': array([0.69484465, 0.88315653, 0.86532143, 0.84986936, 0.85467868,\n",
      "       0.93787188, 0.81447734, 0.89041667, 0.77002348, 0.8356116 ,\n",
      "       0.83898862, 0.82182713, 0.81018236, 0.84487195, 0.94043558])}\n",
      "{'fit_time': array([0.00902772, 0.00700068, 0.00800705, 0.0060153 , 0.00897288,\n",
      "       0.00899911, 0.00699759, 0.00796986, 0.00900507, 0.0079999 ,\n",
      "       0.00699878, 0.00899768, 0.00702882, 0.00802827, 0.00800037]), 'score_time': array([0.00099921, 0.00199938, 0.0009923 , 0.00198555, 0.00299692,\n",
      "       0.00099993, 0.00200129, 0.00100017, 0.00099921, 0.00200033,\n",
      "       0.00199986, 0.00100327, 0.0019691 , 0.00197077, 0.00200057]), 'test_r2': array([0.72461116, 0.9273765 , 0.90056892, 0.89192513, 0.83901235,\n",
      "       0.9571459 , 0.8675813 , 0.93759562, 0.79828393, 0.83994023,\n",
      "       0.86108456, 0.81113775, 0.81666942, 0.88778323, 0.92874991])}\n",
      "{'fit_time': array([0.01202941, 0.01099849, 0.01297307, 0.01102686, 0.01197124,\n",
      "       0.01100039, 0.0109992 , 0.01203775, 0.01197171, 0.01097393,\n",
      "       0.01600242, 0.01299644, 0.01200294, 0.01200128, 0.01201034]), 'score_time': array([0.0010035 , 0.00200081, 0.00199938, 0.00200057, 0.00102854,\n",
      "       0.00102854, 0.00200009, 0.00100017, 0.00202322, 0.00200248,\n",
      "       0.00200152, 0.00200009, 0.00199723, 0.0010283 , 0.00102687]), 'test_r2': array([0.72846749, 0.93279221, 0.92123301, 0.88844024, 0.85211915,\n",
      "       0.90067106, 0.9096716 , 0.94815798, 0.81297441, 0.81241157,\n",
      "       0.86294245, 0.78163656, 0.83308802, 0.92146493, 0.94466346])}\n",
      "{'fit_time': array([0.0059979 , 0.0059998 , 0.00499415, 0.00499892, 0.00499558,\n",
      "       0.00499821, 0.0059998 , 0.00399971, 0.00600314, 0.00500083,\n",
      "       0.00499988, 0.00500107, 0.00500083, 0.00502944, 0.00399709]), 'score_time': array([0.0019989 , 0.00100207, 0.00099945, 0.00200319, 0.00200367,\n",
      "       0.00199986, 0.00100017, 0.00200129, 0.00100064, 0.00199962,\n",
      "       0.00200033, 0.00199747, 0.00199699, 0.00097108, 0.00200248]), 'test_r2': array([0.68273349, 0.75718191, 0.72812516, 0.7097767 , 0.72693518,\n",
      "       0.81799753, 0.68202094, 0.75043394, 0.65086194, 0.75941588,\n",
      "       0.70134722, 0.70793703, 0.69959161, 0.66668669, 0.79708212])}\n",
      "{'fit_time': array([0.00899768, 0.00700045, 0.00799823, 0.01002955, 0.00797153,\n",
      "       0.00800133, 0.00697255, 0.00699925, 0.00797153, 0.00799251,\n",
      "       0.00797153, 0.00798321, 0.00702977, 0.00800157, 0.00897932]), 'score_time': array([0.00099993, 0.00200105, 0.00200081, 0.00099778, 0.00200009,\n",
      "       0.00099874, 0.00202703, 0.00200057, 0.00203753, 0.00100327,\n",
      "       0.00099945, 0.00199151, 0.00099969, 0.00099802, 0.00298882]), 'test_r2': array([0.72363345, 0.91353861, 0.90772578, 0.89212889, 0.84770893,\n",
      "       0.96009559, 0.86245024, 0.93979146, 0.79119141, 0.85177002,\n",
      "       0.88280102, 0.78807335, 0.82717696, 0.86789542, 0.90595389])}\n",
      "{'fit_time': array([0.01202607, 0.01500082, 0.01303005, 0.01210117, 0.01100039,\n",
      "       0.01097083, 0.0110054 , 0.01296997, 0.01100016, 0.0129993 ,\n",
      "       0.01200151, 0.01199841, 0.01100063, 0.0160284 , 0.01102853]), 'score_time': array([0.00100088, 0.00096965, 0.00099921, 0.00097156, 0.00099874,\n",
      "       0.00200319, 0.00202036, 0.00099993, 0.00199986, 0.00100088,\n",
      "       0.00200009, 0.00199938, 0.00200009, 0.00099993, 0.00200009]), 'test_r2': array([0.69002155, 0.92882778, 0.91427306, 0.84954669, 0.89210938,\n",
      "       0.94715912, 0.86040066, 0.9414525 , 0.81215155, 0.90926946,\n",
      "       0.8727115 , 0.8406222 , 0.83004999, 0.91932743, 0.95676535])}\n",
      "{'fit_time': array([0.0469985 , 0.04899955, 0.06202602, 0.0529747 , 0.05699778,\n",
      "       0.05399871, 0.04601789, 0.04397416, 0.04999852, 0.05502105,\n",
      "       0.04997277, 0.05000114, 0.05202985, 0.04497051, 0.04396892]), 'score_time': array([0.0019989 , 0.00299811, 0.00099945, 0.00199795, 0.00200033,\n",
      "       0.0030117 , 0.00199938, 0.00299978, 0.00200701, 0.00100136,\n",
      "       0.00299621, 0.00199962, 0.00200129, 0.00200009, 0.0030086 ]), 'test_r2': array([0.61586852, 0.93155703, 0.9249696 , 0.88147986, 0.81125728,\n",
      "       0.893431  , 0.90358064, 0.92927027, 0.78487316, 0.72649774,\n",
      "       0.85782893, 0.81242678, 0.80093776, 0.94703557, 0.92611925])}\n",
      "{'fit_time': array([0.02902961, 0.0229969 , 0.02300239, 0.02197361, 0.02296972,\n",
      "       0.02203107, 0.02199769, 0.03297377, 0.02299762, 0.02399945,\n",
      "       0.0219698 , 0.02403069, 0.02302933, 0.02197003, 0.0219996 ]), 'score_time': array([0.00300407, 0.00099969, 0.00199437, 0.00102901, 0.00200152,\n",
      "       0.00196934, 0.00203085, 0.00299764, 0.00203013, 0.00100398,\n",
      "       0.00199962, 0.00196958, 0.00099969, 0.00202918, 0.00097013]), 'test_r2': array([0.6631426 , 0.94155285, 0.91702385, 0.88969292, 0.80662033,\n",
      "       0.91136984, 0.91082499, 0.94722898, 0.80058002, 0.76516323,\n",
      "       0.85019019, 0.77110812, 0.83756559, 0.95745852, 0.9036648 ])}\n",
      "{'fit_time': array([0.00899959, 0.00703931, 0.00702643, 0.01082134, 0.00801277,\n",
      "       0.008564  , 0.00652075, 0.00798202, 0.00676107, 0.00699902,\n",
      "       0.00699902, 0.00595474, 0.00805521, 0.00890779, 0.00703263]), 'score_time': array([0.00099969, 0.00192952, 0.00200582, 0.00200009, 0.00199914,\n",
      "       0.00099945, 0.00203085, 0.00100064, 0.00196075, 0.0012579 ,\n",
      "       0.00102997, 0.00200391, 0.00300074, 0.00271201, 0.00099754]), 'test_r2': array([0.75642135, 0.87566959, 0.83127964, 0.81839961, 0.87929117,\n",
      "       0.93637201, 0.81634423, 0.8833314 , 0.77213782, 0.86339348,\n",
      "       0.81274014, 0.83561197, 0.80618059, 0.84257191, 0.93593087])}\n",
      "{'fit_time': array([0.0429759 , 0.03806973, 0.03904414, 0.04133797, 0.04161263,\n",
      "       0.04010296, 0.03885007, 0.04201388, 0.04010773, 0.03884363,\n",
      "       0.03886008, 0.03800011, 0.04399323, 0.03897047, 0.0389998 ]), 'score_time': array([0.00199962, 0.00197101, 0.00199485, 0.00199866, 0.00099993,\n",
      "       0.00095749, 0.00102806, 0.00203323, 0.00099707, 0.00197077,\n",
      "       0.00202084, 0.00200868, 0.00199747, 0.00203013, 0.00099993]), 'test_r2': array([0.60903111, 0.93007699, 0.89233068, 0.86064555, 0.80266399,\n",
      "       0.89055797, 0.89237288, 0.91524138, 0.74950235, 0.81199257,\n",
      "       0.8357728 , 0.69281913, 0.82106294, 0.96345634, 0.92389729])}\n",
      "{'fit_time': array([0.04202676, 0.04226828, 0.03899884, 0.04525232, 0.04545879,\n",
      "       0.0403223 , 0.04334211, 0.04219365, 0.04928374, 0.04301953,\n",
      "       0.04200268, 0.04102755, 0.04689813, 0.04399729, 0.04095268]), 'score_time': array([0.00197148, 0.00100374, 0.00297093, 0.00200009, 0.00199842,\n",
      "       0.00228381, 0.00197077, 0.00203228, 0.00297308, 0.00199866,\n",
      "       0.00199938, 0.00199938, 0.00100064, 0.00200033, 0.00200009]), 'test_r2': array([0.64950534, 0.94641387, 0.92520535, 0.892244  , 0.82075166,\n",
      "       0.89020805, 0.90706963, 0.94189694, 0.80454549, 0.80612739,\n",
      "       0.85291912, 0.79540944, 0.82639396, 0.95312992, 0.9163015 ])}\n",
      "{'fit_time': array([0.0503099 , 0.04202867, 0.04597306, 0.05599976, 0.0439992 ,\n",
      "       0.04400063, 0.04200172, 0.04902363, 0.04302788, 0.0430305 ,\n",
      "       0.04309535, 0.04600239, 0.04269767, 0.04203057, 0.04203367]), 'score_time': array([0.00199938, 0.00200057, 0.00199914, 0.00200033, 0.00202346,\n",
      "       0.00199938, 0.00300097, 0.00269151, 0.00100017, 0.0019846 ,\n",
      "       0.00200033, 0.00203252, 0.00199986, 0.00199842, 0.00200772]), 'test_r2': array([0.69580212, 0.93876353, 0.91299249, 0.88365117, 0.81131676,\n",
      "       0.87382228, 0.90051296, 0.93521533, 0.78499684, 0.76270846,\n",
      "       0.83742301, 0.80606336, 0.80630619, 0.95145355, 0.92162613])}\n",
      "{'fit_time': array([0.008991  , 0.01100564, 0.00719666, 0.00705004, 0.0079999 ,\n",
      "       0.00903034, 0.00803947, 0.00747299, 0.0081799 , 0.0070045 ,\n",
      "       0.0075984 , 0.00743484, 0.00802565, 0.00799632, 0.00705457]), 'score_time': array([0.00294185, 0.0020299 , 0.00202608, 0.00202775, 0.00197315,\n",
      "       0.00196719, 0.00200057, 0.0010078 , 0.00199747, 0.00200152,\n",
      "       0.00199986, 0.00100017, 0.00099659, 0.00200176, 0.00097251]), 'test_r2': array([0.73101418, 0.92691687, 0.90595401, 0.90161689, 0.86652158,\n",
      "       0.94733518, 0.89024742, 0.94556714, 0.79316366, 0.84931121,\n",
      "       0.87065496, 0.80670895, 0.82466533, 0.90950323, 0.94852926])}\n",
      "{'fit_time': array([0.01101422, 0.00802207, 0.00702858, 0.00702524, 0.0059998 ,\n",
      "       0.00797248, 0.00697112, 0.00699949, 0.00697207, 0.00696874,\n",
      "       0.00599456, 0.00703216, 0.00699854, 0.00999522, 0.00699878]), 'score_time': array([0.00197363, 0.00099778, 0.00097418, 0.00100231, 0.00199842,\n",
      "       0.00102806, 0.00199819, 0.00099897, 0.00203109, 0.00100112,\n",
      "       0.00197172, 0.0009973 , 0.00200224, 0.00200367, 0.00200462]), 'test_r2': array([0.74282062, 0.85079244, 0.78416352, 0.76451854, 0.85756453,\n",
      "       0.92345745, 0.78564364, 0.8468689 , 0.76804708, 0.87853477,\n",
      "       0.79829601, 0.82646634, 0.78257583, 0.84908737, 0.91561107])}\n",
      "{'fit_time': array([0.04702926, 0.04199958, 0.0389986 , 0.03897023, 0.04402924,\n",
      "       0.03800106, 0.03903008, 0.03999996, 0.04299974, 0.04103041,\n",
      "       0.03902912, 0.03899789, 0.04399943, 0.03900123, 0.03897047]), 'score_time': array([0.00199986, 0.0010035 , 0.00200057, 0.00200033, 0.00199938,\n",
      "       0.00200105, 0.00199986, 0.00100255, 0.00200105, 0.00099802,\n",
      "       0.00200272, 0.00197101, 0.00199986, 0.00199866, 0.00199962]), 'test_r2': array([0.66265796, 0.93375869, 0.91677157, 0.86981157, 0.8285666 ,\n",
      "       0.91564713, 0.89779139, 0.91643318, 0.79814053, 0.80318882,\n",
      "       0.84549242, 0.81953307, 0.81960919, 0.93590729, 0.90655508])}\n",
      "{'fit_time': array([0.01700306, 0.01405263, 0.0130477 , 0.01300335, 0.01602697,\n",
      "       0.0141654 , 0.01255918, 0.01296949, 0.01300025, 0.01397252,\n",
      "       0.01699495, 0.01301217, 0.01300073, 0.01299739, 0.01199937]), 'score_time': array([0.00199962, 0.00099802, 0.00099993, 0.00200009, 0.00300026,\n",
      "       0.00099492, 0.00201917, 0.00099993, 0.00203013, 0.00299788,\n",
      "       0.00199938, 0.00200009, 0.00099921, 0.00203013, 0.00197101]), 'test_r2': array([0.72334096, 0.94122665, 0.92423398, 0.9041194 , 0.8398568 ,\n",
      "       0.94962541, 0.90217703, 0.95978996, 0.8102746 , 0.7930864 ,\n",
      "       0.8715642 , 0.79237963, 0.83820372, 0.93167716, 0.90536041])}\n",
      "{'fit_time': array([0.07851076, 0.02500081, 0.03400087, 0.0350008 , 0.02400112,\n",
      "       0.03199959, 0.02500057, 0.02400255, 0.02399945, 0.02602363,\n",
      "       0.02899909, 0.03098202, 0.02703071, 0.02799845, 0.02800155]), 'score_time': array([0.00200224, 0.0019989 , 0.00300074, 0.00299835, 0.00100064,\n",
      "       0.00199914, 0.00199795, 0.00199962, 0.00199842, 0.00197673,\n",
      "       0.00199962, 0.00099349, 0.00199962, 0.00200057, 0.00300002]), 'test_r2': array([0.67952444, 0.94179811, 0.92333274, 0.903908  , 0.83623223,\n",
      "       0.93880948, 0.90315942, 0.95634916, 0.79407416, 0.83210081,\n",
      "       0.87542261, 0.77512343, 0.84240663, 0.93454712, 0.91552934])}\n",
      "{'fit_time': array([0.00700092, 0.00399852, 0.006001  , 0.00400019, 0.00500107,\n",
      "       0.00499988, 0.00600076, 0.00499773, 0.00573182, 0.00641274,\n",
      "       0.00500178, 0.00499964, 0.00602031, 0.0049963 , 0.00500131]), 'score_time': array([0.00199962, 0.00199914, 0.00100112, 0.0019989 , 0.00100017,\n",
      "       0.00099993, 0.00199652, 0.00200105, 0.00253463, 0.00200152,\n",
      "       0.00199914, 0.00199986, 0.00299525, 0.00199962, 0.00100017]), 'test_r2': array([0.73632397, 0.85171001, 0.81520124, 0.81028699, 0.82466015,\n",
      "       0.9071163 , 0.77661267, 0.85327204, 0.74025706, 0.80815549,\n",
      "       0.79512926, 0.76756245, 0.78130109, 0.76384564, 0.88060993])}\n",
      "{'fit_time': array([0.00500035, 0.00600123, 0.00500059, 0.00497222, 0.00400782,\n",
      "       0.00399232, 0.00503278, 0.00499964, 0.00497198, 0.00500989,\n",
      "       0.00398207, 0.00499654, 0.00498056, 0.00500011, 0.00503206]), 'score_time': array([0.00199819, 0.00102735, 0.00096965, 0.00101566, 0.00097203,\n",
      "       0.00197697, 0.00099802, 0.00099921, 0.00201869, 0.0010004 ,\n",
      "       0.0020206 , 0.0009923 , 0.00102758, 0.00096989, 0.00099778]), 'test_r2': array([0.75502968, 0.87633146, 0.86520715, 0.81675285, 0.86425108,\n",
      "       0.93880502, 0.81537614, 0.87151343, 0.75821908, 0.86765142,\n",
      "       0.82316757, 0.76993967, 0.78505524, 0.81112932, 0.92755586])}\n",
      "{'fit_time': array([0.00700235, 0.00601077, 0.00501084, 0.00500059, 0.00499916,\n",
      "       0.00498176, 0.00500011, 0.00500107, 0.00499988, 0.00500059,\n",
      "       0.00400066, 0.00400043, 0.00500011, 0.00500035, 0.00399208]), 'score_time': array([0.0019989 , 0.00098491, 0.00199032, 0.00199914, 0.00100231,\n",
      "       0.00199866, 0.00199914, 0.00199962, 0.00099969, 0.00200081,\n",
      "       0.00101542, 0.0019989 , 0.00099993, 0.0010004 , 0.00202918]), 'test_r2': array([0.53390052, 0.56794875, 0.53352268, 0.52442   , 0.58096187,\n",
      "       0.62379192, 0.50821052, 0.5562421 , 0.49184389, 0.60446505,\n",
      "       0.52900276, 0.55668631, 0.53064537, 0.50004775, 0.61993051])}\n",
      "{'fit_time': array([0.02299666, 0.02584386, 0.02396965, 0.02356815, 0.02996945,\n",
      "       0.02600026, 0.023031  , 0.02300072, 0.02697015, 0.02450895,\n",
      "       0.0260551 , 0.03157377, 0.0249989 , 0.02499199, 0.02400446]), 'score_time': array([0.00200224, 0.00099945, 0.0030098 , 0.00197172, 0.00200105,\n",
      "       0.00105572, 0.00199747, 0.00197172, 0.0025146 , 0.00099993,\n",
      "       0.00200725, 0.00298786, 0.00099945, 0.00099921, 0.00199914]), 'test_r2': array([0.68857615, 0.94266076, 0.9241531 , 0.9016027 , 0.83899884,\n",
      "       0.94091431, 0.90285023, 0.95655838, 0.79943062, 0.82250262,\n",
      "       0.87008865, 0.78754332, 0.8270639 , 0.9262189 , 0.91281859])}\n",
      "{'fit_time': array([0.02302742, 0.02296996, 0.02599716, 0.02397156, 0.02199602,\n",
      "       0.02200055, 0.02097273, 0.02251053, 0.02268624, 0.02599716,\n",
      "       0.02072978, 0.02299953, 0.02303076, 0.02099848, 0.02100015]), 'score_time': array([0.0010047 , 0.00102806, 0.00100684, 0.00203252, 0.00199962,\n",
      "       0.00099969, 0.00203419, 0.00200009, 0.0010035 , 0.00199938,\n",
      "       0.00300479, 0.00102592, 0.00199866, 0.00200105, 0.00200272]), 'test_r2': array([0.7163221 , 0.93208238, 0.91651478, 0.89143882, 0.82209918,\n",
      "       0.87728549, 0.89890944, 0.93973058, 0.77753336, 0.69428705,\n",
      "       0.8503462 , 0.79408749, 0.8082296 , 0.94269193, 0.9206466 ])}\n",
      "{'fit_time': array([0.01002932, 0.00797105, 0.00709677, 0.01103973, 0.02100229,\n",
      "       0.02000046, 0.01999903, 0.01799941, 0.0109992 , 0.00699854,\n",
      "       0.00699782, 0.01400137, 0.01099801, 0.00899887, 0.00699925]), 'score_time': array([0.00099993, 0.00188398, 0.00197196, 0.00099945, 0.00599957,\n",
      "       0.00300503, 0.00499988, 0.00299907, 0.0019989 , 0.00300074,\n",
      "       0.00200152, 0.00300002, 0.00200081, 0.00099969, 0.00199986]), 'test_r2': array([0.73547681, 0.92345308, 0.86419489, 0.86161202, 0.90108168,\n",
      "       0.95537283, 0.87972631, 0.92935254, 0.78749726, 0.89667524,\n",
      "       0.86425238, 0.82012073, 0.83135607, 0.91181353, 0.9585201 ])}\n",
      "{'fit_time': array([0.02600241, 0.02299833, 0.02400422, 0.02202964, 0.0220263 ,\n",
      "       0.02196884, 0.02602577, 0.02596974, 0.02699876, 0.02699971,\n",
      "       0.03400111, 0.0629971 , 0.03407717, 0.02800083, 0.02300024]), 'score_time': array([0.00199914, 0.00199986, 0.00199962, 0.00197077, 0.00200081,\n",
      "       0.00200057, 0.00200438, 0.00202465, 0.00199986, 0.00200319,\n",
      "       0.01800036, 0.00400186, 0.0019958 , 0.00200057, 0.00099945]), 'test_r2': array([0.72704053, 0.95011968, 0.9192515 , 0.89282991, 0.81370163,\n",
      "       0.92214651, 0.91041198, 0.93889031, 0.7997536 , 0.79010133,\n",
      "       0.85022846, 0.78867579, 0.82471258, 0.94666831, 0.90255747])}\n",
      "{'fit_time': array([0.00500083, 0.00500417, 0.00500035, 0.00499892, 0.00600076,\n",
      "       0.0070014 , 0.00498748, 0.00499988, 0.00901818, 0.00503016,\n",
      "       0.00496936, 0.00499988, 0.00402546, 0.00498414, 0.00499988]), 'score_time': array([0.00099969, 0.00199962, 0.00099993, 0.00100136, 0.00100493,\n",
      "       0.00201273, 0.00100017, 0.00200891, 0.00197124, 0.00100255,\n",
      "       0.00202847, 0.00099969, 0.00201631, 0.00196719, 0.00099921]), 'test_r2': array([0.66067495, 0.70925088, 0.66801337, 0.65913794, 0.71032921,\n",
      "       0.76656971, 0.63360049, 0.70105079, 0.61073922, 0.72696114,\n",
      "       0.65505623, 0.67600249, 0.65873403, 0.6227415 , 0.75048802])}\n",
      "{'fit_time': array([0.00598383, 0.00500298, 0.00493908, 0.00499988, 0.00999951,\n",
      "       0.00499892, 0.0059998 , 0.00600624, 0.00597596, 0.00599909,\n",
      "       0.00699997, 0.00700092, 0.00599885, 0.00499773, 0.00799823]), 'score_time': array([0.00202346, 0.00100327, 0.00102782, 0.00199866, 0.00300026,\n",
      "       0.00199962, 0.00099969, 0.00201941, 0.00100017, 0.00200057,\n",
      "       0.00300026, 0.00200057, 0.0010004 , 0.00200009, 0.00200057]), 'test_r2': array([0.72508487, 0.80720775, 0.78171356, 0.75799238, 0.78461145,\n",
      "       0.86227629, 0.72915505, 0.80437767, 0.70457379, 0.80457738,\n",
      "       0.75889698, 0.7432269 , 0.74356538, 0.72818998, 0.86088195])}\n",
      "{'fit_time': array([0.00896955, 0.00497079, 0.00599885, 0.00500131, 0.00503373,\n",
      "       0.006001  , 0.00550747, 0.00508261, 0.00502825, 0.00395298,\n",
      "       0.00500035, 0.00399733, 0.00504375, 0.00499988, 0.00399733]), 'score_time': array([0.0010016 , 0.00200033, 0.00100017, 0.00200033, 0.00202656,\n",
      "       0.00096846, 0.00099611, 0.00195074, 0.00100327, 0.00202942,\n",
      "       0.0019846 , 0.00200057, 0.00099921, 0.0019722 , 0.00099659]), 'test_r2': array([0.60075546, 0.6535274 , 0.59412553, 0.52861473, 0.61869961,\n",
      "       0.71261317, 0.5668152 , 0.63366143, 0.57478562, 0.65855012,\n",
      "       0.5944775 , 0.62877544, 0.58403061, 0.58814227, 0.70264537])}\n",
      "{'fit_time': array([0.05296254, 0.05399966, 0.07900119, 0.0489974 , 0.04197574,\n",
      "       0.04211307, 0.04694414, 0.04405069, 0.04308128, 0.04603767,\n",
      "       0.045892  , 0.04194641, 0.0418787 , 0.0401082 , 0.05492973]), 'score_time': array([0.00199962, 0.00300336, 0.00199938, 0.00199914, 0.0010004 ,\n",
      "       0.00203013, 0.00197864, 0.00199962, 0.0019989 , 0.00100923,\n",
      "       0.00100064, 0.00199986, 0.00203085, 0.00199986, 0.00200081]), 'test_r2': array([0.7009521 , 0.93509685, 0.90843129, 0.88804081, 0.81713569,\n",
      "       0.90328011, 0.8968124 , 0.9310697 , 0.8003477 , 0.74765155,\n",
      "       0.8202658 , 0.77893575, 0.82416017, 0.94115147, 0.89369576])}\n",
      "{'fit_time': array([0.01703048, 0.01407909, 0.01499057, 0.0120008 , 0.0120306 ,\n",
      "       0.01197076, 0.0159719 , 0.0159986 , 0.01400042, 0.01200008,\n",
      "       0.01600027, 0.01500106, 0.01200128, 0.01303053, 0.0120306 ]), 'score_time': array([0.00297189, 0.00199914, 0.00100017, 0.00200343, 0.00199962,\n",
      "       0.00103021, 0.00300097, 0.00199914, 0.00199986, 0.00199986,\n",
      "       0.00199819, 0.00199866, 0.00199986, 0.00100088, 0.00200009]), 'test_r2': array([0.60789907, 0.94263263, 0.92689302, 0.89860852, 0.81004853,\n",
      "       0.8885405 , 0.90941638, 0.94238009, 0.7685434 , 0.81194684,\n",
      "       0.84817713, 0.74530922, 0.82522987, 0.92041104, 0.92851524])}\n",
      "{'fit_time': array([0.01700139, 0.01699853, 0.01500106, 0.01399994, 0.01399851,\n",
      "       0.01433229, 0.01400137, 0.0140028 , 0.01600242, 0.0195086 ,\n",
      "       0.01499915, 0.01499939, 0.01351643, 0.01499867, 0.01399994]), 'score_time': array([0.00099993, 0.00200033, 0.00200033, 0.00200081, 0.00099969,\n",
      "       0.00166845, 0.00199866, 0.00199771, 0.0019989 , 0.0019989 ,\n",
      "       0.00200057, 0.00200081, 0.00200129, 0.00200057, 0.00099945]), 'test_r2': array([0.68281074, 0.93769448, 0.91127131, 0.89710745, 0.82725963,\n",
      "       0.91284733, 0.90801811, 0.94484273, 0.75832544, 0.78404235,\n",
      "       0.85495095, 0.78808438, 0.81485704, 0.94540254, 0.92760391])}\n",
      "{'fit_time': array([0.04495287, 0.03957582, 0.04255176, 0.04596901, 0.03921008,\n",
      "       0.0402863 , 0.03978705, 0.04603219, 0.04000115, 0.03897166,\n",
      "       0.03999996, 0.046031  , 0.04000163, 0.04303622, 0.04201961]), 'score_time': array([0.00203061, 0.00100064, 0.00099468, 0.00200033, 0.00197077,\n",
      "       0.0020442 , 0.00200033, 0.00199747, 0.00199986, 0.00199795,\n",
      "       0.00199914, 0.00200033, 0.00200772, 0.00100136, 0.00099897]), 'test_r2': array([0.71142444, 0.94065014, 0.9168742 , 0.89224885, 0.81486467,\n",
      "       0.86894172, 0.89250501, 0.93353791, 0.78560613, 0.82099498,\n",
      "       0.84316533, 0.80679073, 0.80304627, 0.94213236, 0.91963855])}\n",
      "{'fit_time': array([0.00800753, 0.00699997, 0.00799847, 0.00800133, 0.00699973,\n",
      "       0.00702786, 0.00700426, 0.00797176, 0.00704026, 0.01102948,\n",
      "       0.008003  , 0.00700188, 0.00798416, 0.00699997, 0.00699997]), 'score_time': array([0.00196981, 0.00200367, 0.00099897, 0.0010016 , 0.00102711,\n",
      "       0.00197053, 0.00202584, 0.00202775, 0.00197196, 0.00199986,\n",
      "       0.00096726, 0.0009973 , 0.00099969, 0.00100994, 0.00101137]), 'test_r2': array([0.72378922, 0.90998022, 0.88424785, 0.88501223, 0.87605071,\n",
      "       0.95578045, 0.85555721, 0.92509957, 0.80372851, 0.84843011,\n",
      "       0.85581607, 0.81876236, 0.82569605, 0.87932843, 0.93845762])}\n",
      "{'fit_time': array([0.00895882, 0.00802755, 0.00700045, 0.00796962, 0.00700212,\n",
      "       0.00799632, 0.00700212, 0.00700045, 0.00696874, 0.00699925,\n",
      "       0.00796843, 0.01097155, 0.00700068, 0.00799918, 0.00699735]), 'score_time': array([0.00199556, 0.00099921, 0.0010004 , 0.00100136, 0.00197077,\n",
      "       0.00203037, 0.00196838, 0.00202966, 0.00203133, 0.00097179,\n",
      "       0.00203085, 0.0019989 , 0.00199938, 0.00098228, 0.00100183]), 'test_r2': array([0.71547744, 0.92131089, 0.91163195, 0.89834575, 0.85387902,\n",
      "       0.96077121, 0.86954116, 0.9404735 , 0.79460917, 0.84563955,\n",
      "       0.88558856, 0.77498594, 0.82209371, 0.87806402, 0.91999052])}\n",
      "{'fit_time': array([0.029001  , 0.02600121, 0.02399755, 0.02551603, 0.02999854,\n",
      "       0.02500081, 0.02396011, 0.02802682, 0.02496839, 0.02202034,\n",
      "       0.02797389, 0.0220263 , 0.02697015, 0.02599144, 0.02499652]), 'score_time': array([0.00200033, 0.00299954, 0.00200105, 0.00199938, 0.00200129,\n",
      "       0.00299978, 0.0019722 , 0.00100589, 0.00200295, 0.00200081,\n",
      "       0.00100017, 0.00199986, 0.00203085, 0.00299835, 0.00200009]), 'test_r2': array([0.67897707, 0.93940878, 0.91236952, 0.88732686, 0.82476293,\n",
      "       0.87293393, 0.90487404, 0.93761564, 0.78316927, 0.8110646 ,\n",
      "       0.85339055, 0.78893688, 0.82207945, 0.94411654, 0.90966086])}\n",
      "{'fit_time': array([0.0289979 , 0.0249989 , 0.02400017, 0.02300334, 0.02499819,\n",
      "       0.0245564 , 0.02800035, 0.02401733, 0.02699685, 0.0270803 ,\n",
      "       0.02399611, 0.02902555, 0.02433109, 0.02344918, 0.03303242]), 'score_time': array([0.00099993, 0.00200462, 0.00100017, 0.00199938, 0.00100303,\n",
      "       0.00200152, 0.00200009, 0.002002  , 0.00201631, 0.00196314,\n",
      "       0.00200391, 0.00100255, 0.00100017, 0.00199986, 0.00199842]), 'test_r2': array([0.71896349, 0.94737517, 0.91977285, 0.8936462 , 0.8173317 ,\n",
      "       0.93135752, 0.91715165, 0.93884848, 0.79765419, 0.78567911,\n",
      "       0.84726387, 0.80699215, 0.82340347, 0.95670136, 0.89598344])}\n"
     ]
    },
    {
     "data": {
      "text/plain": "<IPython.core.display.HTML object>",
      "text/html": "<br/>Waiting for W&B process to finish, PID 29588<br/>Program ended successfully."
     },
     "metadata": {},
     "output_type": "display_data"
    },
    {
     "data": {
      "text/plain": "VBox(children=(Label(value=' 0.00MB of 0.00MB uploaded (0.00MB deduped)\\r'), FloatProgress(value=1.0, max=1.0)…",
      "application/vnd.jupyter.widget-view+json": {
       "version_major": 2,
       "version_minor": 0,
       "model_id": "04576e10fde649e08344f1e65cf3d40d"
      }
     },
     "metadata": {},
     "output_type": "display_data"
    },
    {
     "data": {
      "text/plain": "<IPython.core.display.HTML object>",
      "text/html": "Find user logs for this run at: <code>D:\\Development\\FHNW\\ip5-metriken-bauwesen\\src\\wandb\\run-20210601_151430-png9sbbi\\logs\\debug.log</code>"
     },
     "metadata": {},
     "output_type": "display_data"
    },
    {
     "data": {
      "text/plain": "<IPython.core.display.HTML object>",
      "text/html": "Find internal logs for this run at: <code>D:\\Development\\FHNW\\ip5-metriken-bauwesen\\src\\wandb\\run-20210601_151430-png9sbbi\\logs\\debug-internal.log</code>"
     },
     "metadata": {},
     "output_type": "display_data"
    },
    {
     "data": {
      "text/plain": "<IPython.core.display.HTML object>",
      "text/html": "<h3>Run summary:</h3><br/><style>\n    table.wandb td:nth-child(1) { padding: 0 10px; text-align: right }\n    </style><table class=\"wandb\">\n<tr><td>r2</td><td>0.87123</td></tr><tr><td>_runtime</td><td>2</td></tr><tr><td>_timestamp</td><td>1622553272</td></tr><tr><td>_step</td><td>0</td></tr></table>"
     },
     "metadata": {},
     "output_type": "display_data"
    },
    {
     "data": {
      "text/plain": "<IPython.core.display.HTML object>",
      "text/html": "<h3>Run history:</h3><br/><style>\n    table.wandb td:nth-child(1) { padding: 0 10px; text-align: right }\n    </style><table class=\"wandb\">\n<tr><td>r2</td><td>▁</td></tr><tr><td>_runtime</td><td>▁</td></tr><tr><td>_timestamp</td><td>▁</td></tr><tr><td>_step</td><td>▁</td></tr></table><br/>"
     },
     "metadata": {},
     "output_type": "display_data"
    },
    {
     "data": {
      "text/plain": "<IPython.core.display.HTML object>",
      "text/html": "Synced 5 W&B file(s), 0 media file(s), 0 artifact file(s) and 0 other file(s)"
     },
     "metadata": {},
     "output_type": "display_data"
    },
    {
     "data": {
      "text/plain": "<IPython.core.display.HTML object>",
      "text/html": "\n                    <br/>Synced <strong style=\"color:#cdcd00\">ethereal-sweep-1</strong>: <a href=\"https://wandb.ai/devcore/Metriken%20Bauwesen%20Sweeps/runs/png9sbbi\" target=\"_blank\">https://wandb.ai/devcore/Metriken%20Bauwesen%20Sweeps/runs/png9sbbi</a><br/>\n                "
     },
     "metadata": {},
     "output_type": "display_data"
    },
    {
     "data": {
      "text/plain": "<IPython.core.display.HTML object>",
      "text/html": "\n                Tracking run with wandb version 0.10.31<br/>\n                Syncing run <strong style=\"color:#cdcd00\">super-sweep-2</strong> to <a href=\"https://wandb.ai\" target=\"_blank\">Weights & Biases</a> <a href=\"https://docs.wandb.com/integrations/jupyter.html\" target=\"_blank\">(Documentation)</a>.<br/>\n                Project page: <a href=\"https://wandb.ai/devcore/Metriken%20Bauwesen%20Sweeps\" target=\"_blank\">https://wandb.ai/devcore/Metriken%20Bauwesen%20Sweeps</a><br/>\n                Sweep page: <a href=\"https://wandb.ai/devcore/Metriken%20Bauwesen%20Sweeps/sweeps/s7m2nnuu\" target=\"_blank\">https://wandb.ai/devcore/Metriken%20Bauwesen%20Sweeps/sweeps/s7m2nnuu</a><br/>\nRun page: <a href=\"https://wandb.ai/devcore/Metriken%20Bauwesen%20Sweeps/runs/7oh4upgy\" target=\"_blank\">https://wandb.ai/devcore/Metriken%20Bauwesen%20Sweeps/runs/7oh4upgy</a><br/>\n                Run data is saved locally in <code>D:\\Development\\FHNW\\ip5-metriken-bauwesen\\src\\wandb\\run-20210601_151440-7oh4upgy</code><br/><br/>\n            "
     },
     "metadata": {},
     "output_type": "display_data"
    },
    {
     "data": {
      "text/plain": "<IPython.core.display.HTML object>",
      "text/html": "<br/>Waiting for W&B process to finish, PID 11032<br/>Program ended successfully."
     },
     "metadata": {},
     "output_type": "display_data"
    },
    {
     "data": {
      "text/plain": "VBox(children=(Label(value=' 0.00MB of 0.00MB uploaded (0.00MB deduped)\\r'), FloatProgress(value=1.0, max=1.0)…",
      "application/vnd.jupyter.widget-view+json": {
       "version_major": 2,
       "version_minor": 0,
       "model_id": "d8a6fbcc090c48e39903e3945bb56e4e"
      }
     },
     "metadata": {},
     "output_type": "display_data"
    },
    {
     "data": {
      "text/plain": "<IPython.core.display.HTML object>",
      "text/html": "Find user logs for this run at: <code>D:\\Development\\FHNW\\ip5-metriken-bauwesen\\src\\wandb\\run-20210601_151440-7oh4upgy\\logs\\debug.log</code>"
     },
     "metadata": {},
     "output_type": "display_data"
    },
    {
     "data": {
      "text/plain": "<IPython.core.display.HTML object>",
      "text/html": "Find internal logs for this run at: <code>D:\\Development\\FHNW\\ip5-metriken-bauwesen\\src\\wandb\\run-20210601_151440-7oh4upgy\\logs\\debug-internal.log</code>"
     },
     "metadata": {},
     "output_type": "display_data"
    },
    {
     "data": {
      "text/plain": "<IPython.core.display.HTML object>",
      "text/html": "<h3>Run summary:</h3><br/><style>\n    table.wandb td:nth-child(1) { padding: 0 10px; text-align: right }\n    </style><table class=\"wandb\">\n<tr><td>r2</td><td>0.87086</td></tr><tr><td>_runtime</td><td>3</td></tr><tr><td>_timestamp</td><td>1622553283</td></tr><tr><td>_step</td><td>0</td></tr></table>"
     },
     "metadata": {},
     "output_type": "display_data"
    },
    {
     "data": {
      "text/plain": "<IPython.core.display.HTML object>",
      "text/html": "<h3>Run history:</h3><br/><style>\n    table.wandb td:nth-child(1) { padding: 0 10px; text-align: right }\n    </style><table class=\"wandb\">\n<tr><td>r2</td><td>▁</td></tr><tr><td>_runtime</td><td>▁</td></tr><tr><td>_timestamp</td><td>▁</td></tr><tr><td>_step</td><td>▁</td></tr></table><br/>"
     },
     "metadata": {},
     "output_type": "display_data"
    },
    {
     "data": {
      "text/plain": "<IPython.core.display.HTML object>",
      "text/html": "Synced 5 W&B file(s), 0 media file(s), 0 artifact file(s) and 0 other file(s)"
     },
     "metadata": {},
     "output_type": "display_data"
    },
    {
     "data": {
      "text/plain": "<IPython.core.display.HTML object>",
      "text/html": "\n                    <br/>Synced <strong style=\"color:#cdcd00\">super-sweep-2</strong>: <a href=\"https://wandb.ai/devcore/Metriken%20Bauwesen%20Sweeps/runs/7oh4upgy\" target=\"_blank\">https://wandb.ai/devcore/Metriken%20Bauwesen%20Sweeps/runs/7oh4upgy</a><br/>\n                "
     },
     "metadata": {},
     "output_type": "display_data"
    },
    {
     "data": {
      "text/plain": "<IPython.core.display.HTML object>",
      "text/html": "\n                Tracking run with wandb version 0.10.31<br/>\n                Syncing run <strong style=\"color:#cdcd00\">wobbly-sweep-3</strong> to <a href=\"https://wandb.ai\" target=\"_blank\">Weights & Biases</a> <a href=\"https://docs.wandb.com/integrations/jupyter.html\" target=\"_blank\">(Documentation)</a>.<br/>\n                Project page: <a href=\"https://wandb.ai/devcore/Metriken%20Bauwesen%20Sweeps\" target=\"_blank\">https://wandb.ai/devcore/Metriken%20Bauwesen%20Sweeps</a><br/>\n                Sweep page: <a href=\"https://wandb.ai/devcore/Metriken%20Bauwesen%20Sweeps/sweeps/s7m2nnuu\" target=\"_blank\">https://wandb.ai/devcore/Metriken%20Bauwesen%20Sweeps/sweeps/s7m2nnuu</a><br/>\nRun page: <a href=\"https://wandb.ai/devcore/Metriken%20Bauwesen%20Sweeps/runs/ta67qor1\" target=\"_blank\">https://wandb.ai/devcore/Metriken%20Bauwesen%20Sweeps/runs/ta67qor1</a><br/>\n                Run data is saved locally in <code>D:\\Development\\FHNW\\ip5-metriken-bauwesen\\src\\wandb\\run-20210601_151451-ta67qor1</code><br/><br/>\n            "
     },
     "metadata": {},
     "output_type": "display_data"
    },
    {
     "data": {
      "text/plain": "<IPython.core.display.HTML object>",
      "text/html": "<br/>Waiting for W&B process to finish, PID 26652<br/>Program ended successfully."
     },
     "metadata": {},
     "output_type": "display_data"
    },
    {
     "data": {
      "text/plain": "VBox(children=(Label(value=' 0.00MB of 0.00MB uploaded (0.00MB deduped)\\r'), FloatProgress(value=1.0, max=1.0)…",
      "application/vnd.jupyter.widget-view+json": {
       "version_major": 2,
       "version_minor": 0,
       "model_id": "87921fe52f754f8abde9204c4b03ed20"
      }
     },
     "metadata": {},
     "output_type": "display_data"
    },
    {
     "data": {
      "text/plain": "<IPython.core.display.HTML object>",
      "text/html": "Find user logs for this run at: <code>D:\\Development\\FHNW\\ip5-metriken-bauwesen\\src\\wandb\\run-20210601_151451-ta67qor1\\logs\\debug.log</code>"
     },
     "metadata": {},
     "output_type": "display_data"
    },
    {
     "data": {
      "text/plain": "<IPython.core.display.HTML object>",
      "text/html": "Find internal logs for this run at: <code>D:\\Development\\FHNW\\ip5-metriken-bauwesen\\src\\wandb\\run-20210601_151451-ta67qor1\\logs\\debug-internal.log</code>"
     },
     "metadata": {},
     "output_type": "display_data"
    },
    {
     "data": {
      "text/plain": "<IPython.core.display.HTML object>",
      "text/html": "<h3>Run summary:</h3><br/><style>\n    table.wandb td:nth-child(1) { padding: 0 10px; text-align: right }\n    </style><table class=\"wandb\">\n<tr><td>r2</td><td>0.80823</td></tr><tr><td>_runtime</td><td>2</td></tr><tr><td>_timestamp</td><td>1622553293</td></tr><tr><td>_step</td><td>0</td></tr></table>"
     },
     "metadata": {},
     "output_type": "display_data"
    },
    {
     "data": {
      "text/plain": "<IPython.core.display.HTML object>",
      "text/html": "<h3>Run history:</h3><br/><style>\n    table.wandb td:nth-child(1) { padding: 0 10px; text-align: right }\n    </style><table class=\"wandb\">\n<tr><td>r2</td><td>▁</td></tr><tr><td>_runtime</td><td>▁</td></tr><tr><td>_timestamp</td><td>▁</td></tr><tr><td>_step</td><td>▁</td></tr></table><br/>"
     },
     "metadata": {},
     "output_type": "display_data"
    },
    {
     "data": {
      "text/plain": "<IPython.core.display.HTML object>",
      "text/html": "Synced 5 W&B file(s), 0 media file(s), 0 artifact file(s) and 0 other file(s)"
     },
     "metadata": {},
     "output_type": "display_data"
    },
    {
     "data": {
      "text/plain": "<IPython.core.display.HTML object>",
      "text/html": "\n                    <br/>Synced <strong style=\"color:#cdcd00\">wobbly-sweep-3</strong>: <a href=\"https://wandb.ai/devcore/Metriken%20Bauwesen%20Sweeps/runs/ta67qor1\" target=\"_blank\">https://wandb.ai/devcore/Metriken%20Bauwesen%20Sweeps/runs/ta67qor1</a><br/>\n                "
     },
     "metadata": {},
     "output_type": "display_data"
    },
    {
     "data": {
      "text/plain": "<IPython.core.display.HTML object>",
      "text/html": "\n                Tracking run with wandb version 0.10.31<br/>\n                Syncing run <strong style=\"color:#cdcd00\">wild-sweep-4</strong> to <a href=\"https://wandb.ai\" target=\"_blank\">Weights & Biases</a> <a href=\"https://docs.wandb.com/integrations/jupyter.html\" target=\"_blank\">(Documentation)</a>.<br/>\n                Project page: <a href=\"https://wandb.ai/devcore/Metriken%20Bauwesen%20Sweeps\" target=\"_blank\">https://wandb.ai/devcore/Metriken%20Bauwesen%20Sweeps</a><br/>\n                Sweep page: <a href=\"https://wandb.ai/devcore/Metriken%20Bauwesen%20Sweeps/sweeps/s7m2nnuu\" target=\"_blank\">https://wandb.ai/devcore/Metriken%20Bauwesen%20Sweeps/sweeps/s7m2nnuu</a><br/>\nRun page: <a href=\"https://wandb.ai/devcore/Metriken%20Bauwesen%20Sweeps/runs/lcx29s6h\" target=\"_blank\">https://wandb.ai/devcore/Metriken%20Bauwesen%20Sweeps/runs/lcx29s6h</a><br/>\n                Run data is saved locally in <code>D:\\Development\\FHNW\\ip5-metriken-bauwesen\\src\\wandb\\run-20210601_151502-lcx29s6h</code><br/><br/>\n            "
     },
     "metadata": {},
     "output_type": "display_data"
    },
    {
     "data": {
      "text/plain": "<IPython.core.display.HTML object>",
      "text/html": "<br/>Waiting for W&B process to finish, PID 14388<br/>Program ended successfully."
     },
     "metadata": {},
     "output_type": "display_data"
    },
    {
     "data": {
      "text/plain": "VBox(children=(Label(value=' 0.00MB of 0.00MB uploaded (0.00MB deduped)\\r'), FloatProgress(value=1.0, max=1.0)…",
      "application/vnd.jupyter.widget-view+json": {
       "version_major": 2,
       "version_minor": 0,
       "model_id": "44a06411781d4ca981201f1829f04de8"
      }
     },
     "metadata": {},
     "output_type": "display_data"
    },
    {
     "data": {
      "text/plain": "<IPython.core.display.HTML object>",
      "text/html": "Find user logs for this run at: <code>D:\\Development\\FHNW\\ip5-metriken-bauwesen\\src\\wandb\\run-20210601_151502-lcx29s6h\\logs\\debug.log</code>"
     },
     "metadata": {},
     "output_type": "display_data"
    },
    {
     "data": {
      "text/plain": "<IPython.core.display.HTML object>",
      "text/html": "Find internal logs for this run at: <code>D:\\Development\\FHNW\\ip5-metriken-bauwesen\\src\\wandb\\run-20210601_151502-lcx29s6h\\logs\\debug-internal.log</code>"
     },
     "metadata": {},
     "output_type": "display_data"
    },
    {
     "data": {
      "text/plain": "<IPython.core.display.HTML object>",
      "text/html": "<h3>Run summary:</h3><br/><style>\n    table.wandb td:nth-child(1) { padding: 0 10px; text-align: right }\n    </style><table class=\"wandb\">\n<tr><td>r2</td><td>0.60466</td></tr><tr><td>_runtime</td><td>2</td></tr><tr><td>_timestamp</td><td>1622553304</td></tr><tr><td>_step</td><td>0</td></tr></table>"
     },
     "metadata": {},
     "output_type": "display_data"
    },
    {
     "data": {
      "text/plain": "<IPython.core.display.HTML object>",
      "text/html": "<h3>Run history:</h3><br/><style>\n    table.wandb td:nth-child(1) { padding: 0 10px; text-align: right }\n    </style><table class=\"wandb\">\n<tr><td>r2</td><td>▁</td></tr><tr><td>_runtime</td><td>▁</td></tr><tr><td>_timestamp</td><td>▁</td></tr><tr><td>_step</td><td>▁</td></tr></table><br/>"
     },
     "metadata": {},
     "output_type": "display_data"
    },
    {
     "data": {
      "text/plain": "<IPython.core.display.HTML object>",
      "text/html": "Synced 5 W&B file(s), 0 media file(s), 0 artifact file(s) and 0 other file(s)"
     },
     "metadata": {},
     "output_type": "display_data"
    },
    {
     "data": {
      "text/plain": "<IPython.core.display.HTML object>",
      "text/html": "\n                    <br/>Synced <strong style=\"color:#cdcd00\">wild-sweep-4</strong>: <a href=\"https://wandb.ai/devcore/Metriken%20Bauwesen%20Sweeps/runs/lcx29s6h\" target=\"_blank\">https://wandb.ai/devcore/Metriken%20Bauwesen%20Sweeps/runs/lcx29s6h</a><br/>\n                "
     },
     "metadata": {},
     "output_type": "display_data"
    },
    {
     "data": {
      "text/plain": "<IPython.core.display.HTML object>",
      "text/html": "\n                Tracking run with wandb version 0.10.31<br/>\n                Syncing run <strong style=\"color:#cdcd00\">revived-sweep-5</strong> to <a href=\"https://wandb.ai\" target=\"_blank\">Weights & Biases</a> <a href=\"https://docs.wandb.com/integrations/jupyter.html\" target=\"_blank\">(Documentation)</a>.<br/>\n                Project page: <a href=\"https://wandb.ai/devcore/Metriken%20Bauwesen%20Sweeps\" target=\"_blank\">https://wandb.ai/devcore/Metriken%20Bauwesen%20Sweeps</a><br/>\n                Sweep page: <a href=\"https://wandb.ai/devcore/Metriken%20Bauwesen%20Sweeps/sweeps/s7m2nnuu\" target=\"_blank\">https://wandb.ai/devcore/Metriken%20Bauwesen%20Sweeps/sweeps/s7m2nnuu</a><br/>\nRun page: <a href=\"https://wandb.ai/devcore/Metriken%20Bauwesen%20Sweeps/runs/bokk56tn\" target=\"_blank\">https://wandb.ai/devcore/Metriken%20Bauwesen%20Sweeps/runs/bokk56tn</a><br/>\n                Run data is saved locally in <code>D:\\Development\\FHNW\\ip5-metriken-bauwesen\\src\\wandb\\run-20210601_151512-bokk56tn</code><br/><br/>\n            "
     },
     "metadata": {},
     "output_type": "display_data"
    },
    {
     "data": {
      "text/plain": "<IPython.core.display.HTML object>",
      "text/html": "<br/>Waiting for W&B process to finish, PID 20096<br/>Program ended successfully."
     },
     "metadata": {},
     "output_type": "display_data"
    },
    {
     "data": {
      "text/plain": "VBox(children=(Label(value=' 0.00MB of 0.00MB uploaded (0.00MB deduped)\\r'), FloatProgress(value=1.0, max=1.0)…",
      "application/vnd.jupyter.widget-view+json": {
       "version_major": 2,
       "version_minor": 0,
       "model_id": "f2920578450e46fca1b16d10ddf79820"
      }
     },
     "metadata": {},
     "output_type": "display_data"
    },
    {
     "data": {
      "text/plain": "<IPython.core.display.HTML object>",
      "text/html": "Find user logs for this run at: <code>D:\\Development\\FHNW\\ip5-metriken-bauwesen\\src\\wandb\\run-20210601_151512-bokk56tn\\logs\\debug.log</code>"
     },
     "metadata": {},
     "output_type": "display_data"
    },
    {
     "data": {
      "text/plain": "<IPython.core.display.HTML object>",
      "text/html": "Find internal logs for this run at: <code>D:\\Development\\FHNW\\ip5-metriken-bauwesen\\src\\wandb\\run-20210601_151512-bokk56tn\\logs\\debug-internal.log</code>"
     },
     "metadata": {},
     "output_type": "display_data"
    },
    {
     "data": {
      "text/plain": "<IPython.core.display.HTML object>",
      "text/html": "<h3>Run summary:</h3><br/><style>\n    table.wandb td:nth-child(1) { padding: 0 10px; text-align: right }\n    </style><table class=\"wandb\">\n<tr><td>r2</td><td>0.86587</td></tr><tr><td>_runtime</td><td>2</td></tr><tr><td>_timestamp</td><td>1622553314</td></tr><tr><td>_step</td><td>0</td></tr></table>"
     },
     "metadata": {},
     "output_type": "display_data"
    },
    {
     "data": {
      "text/plain": "<IPython.core.display.HTML object>",
      "text/html": "<h3>Run history:</h3><br/><style>\n    table.wandb td:nth-child(1) { padding: 0 10px; text-align: right }\n    </style><table class=\"wandb\">\n<tr><td>r2</td><td>▁</td></tr><tr><td>_runtime</td><td>▁</td></tr><tr><td>_timestamp</td><td>▁</td></tr><tr><td>_step</td><td>▁</td></tr></table><br/>"
     },
     "metadata": {},
     "output_type": "display_data"
    },
    {
     "data": {
      "text/plain": "<IPython.core.display.HTML object>",
      "text/html": "Synced 5 W&B file(s), 0 media file(s), 0 artifact file(s) and 0 other file(s)"
     },
     "metadata": {},
     "output_type": "display_data"
    },
    {
     "data": {
      "text/plain": "<IPython.core.display.HTML object>",
      "text/html": "\n                    <br/>Synced <strong style=\"color:#cdcd00\">revived-sweep-5</strong>: <a href=\"https://wandb.ai/devcore/Metriken%20Bauwesen%20Sweeps/runs/bokk56tn\" target=\"_blank\">https://wandb.ai/devcore/Metriken%20Bauwesen%20Sweeps/runs/bokk56tn</a><br/>\n                "
     },
     "metadata": {},
     "output_type": "display_data"
    },
    {
     "data": {
      "text/plain": "<IPython.core.display.HTML object>",
      "text/html": "\n                Tracking run with wandb version 0.10.31<br/>\n                Syncing run <strong style=\"color:#cdcd00\">distinctive-sweep-6</strong> to <a href=\"https://wandb.ai\" target=\"_blank\">Weights & Biases</a> <a href=\"https://docs.wandb.com/integrations/jupyter.html\" target=\"_blank\">(Documentation)</a>.<br/>\n                Project page: <a href=\"https://wandb.ai/devcore/Metriken%20Bauwesen%20Sweeps\" target=\"_blank\">https://wandb.ai/devcore/Metriken%20Bauwesen%20Sweeps</a><br/>\n                Sweep page: <a href=\"https://wandb.ai/devcore/Metriken%20Bauwesen%20Sweeps/sweeps/s7m2nnuu\" target=\"_blank\">https://wandb.ai/devcore/Metriken%20Bauwesen%20Sweeps/sweeps/s7m2nnuu</a><br/>\nRun page: <a href=\"https://wandb.ai/devcore/Metriken%20Bauwesen%20Sweeps/runs/04pf3bbg\" target=\"_blank\">https://wandb.ai/devcore/Metriken%20Bauwesen%20Sweeps/runs/04pf3bbg</a><br/>\n                Run data is saved locally in <code>D:\\Development\\FHNW\\ip5-metriken-bauwesen\\src\\wandb\\run-20210601_151522-04pf3bbg</code><br/><br/>\n            "
     },
     "metadata": {},
     "output_type": "display_data"
    },
    {
     "data": {
      "text/plain": "<IPython.core.display.HTML object>",
      "text/html": "<br/>Waiting for W&B process to finish, PID 26524<br/>Program ended successfully."
     },
     "metadata": {},
     "output_type": "display_data"
    },
    {
     "data": {
      "text/plain": "VBox(children=(Label(value=' 0.00MB of 0.00MB uploaded (0.00MB deduped)\\r'), FloatProgress(value=1.0, max=1.0)…",
      "application/vnd.jupyter.widget-view+json": {
       "version_major": 2,
       "version_minor": 0,
       "model_id": "f48998db39fa45adbfd439c00ec28068"
      }
     },
     "metadata": {},
     "output_type": "display_data"
    },
    {
     "data": {
      "text/plain": "<IPython.core.display.HTML object>",
      "text/html": "Find user logs for this run at: <code>D:\\Development\\FHNW\\ip5-metriken-bauwesen\\src\\wandb\\run-20210601_151522-04pf3bbg\\logs\\debug.log</code>"
     },
     "metadata": {},
     "output_type": "display_data"
    },
    {
     "data": {
      "text/plain": "<IPython.core.display.HTML object>",
      "text/html": "Find internal logs for this run at: <code>D:\\Development\\FHNW\\ip5-metriken-bauwesen\\src\\wandb\\run-20210601_151522-04pf3bbg\\logs\\debug-internal.log</code>"
     },
     "metadata": {},
     "output_type": "display_data"
    },
    {
     "data": {
      "text/plain": "<IPython.core.display.HTML object>",
      "text/html": "<h3>Run summary:</h3><br/><style>\n    table.wandb td:nth-child(1) { padding: 0 10px; text-align: right }\n    </style><table class=\"wandb\">\n<tr><td>r2</td><td>0.84351</td></tr><tr><td>_runtime</td><td>1</td></tr><tr><td>_timestamp</td><td>1622553324</td></tr><tr><td>_step</td><td>0</td></tr></table>"
     },
     "metadata": {},
     "output_type": "display_data"
    },
    {
     "data": {
      "text/plain": "<IPython.core.display.HTML object>",
      "text/html": "<h3>Run history:</h3><br/><style>\n    table.wandb td:nth-child(1) { padding: 0 10px; text-align: right }\n    </style><table class=\"wandb\">\n<tr><td>r2</td><td>▁</td></tr><tr><td>_runtime</td><td>▁</td></tr><tr><td>_timestamp</td><td>▁</td></tr><tr><td>_step</td><td>▁</td></tr></table><br/>"
     },
     "metadata": {},
     "output_type": "display_data"
    },
    {
     "data": {
      "text/plain": "<IPython.core.display.HTML object>",
      "text/html": "Synced 5 W&B file(s), 0 media file(s), 0 artifact file(s) and 0 other file(s)"
     },
     "metadata": {},
     "output_type": "display_data"
    },
    {
     "data": {
      "text/plain": "<IPython.core.display.HTML object>",
      "text/html": "\n                    <br/>Synced <strong style=\"color:#cdcd00\">distinctive-sweep-6</strong>: <a href=\"https://wandb.ai/devcore/Metriken%20Bauwesen%20Sweeps/runs/04pf3bbg\" target=\"_blank\">https://wandb.ai/devcore/Metriken%20Bauwesen%20Sweeps/runs/04pf3bbg</a><br/>\n                "
     },
     "metadata": {},
     "output_type": "display_data"
    },
    {
     "data": {
      "text/plain": "<IPython.core.display.HTML object>",
      "text/html": "\n                Tracking run with wandb version 0.10.31<br/>\n                Syncing run <strong style=\"color:#cdcd00\">jolly-sweep-7</strong> to <a href=\"https://wandb.ai\" target=\"_blank\">Weights & Biases</a> <a href=\"https://docs.wandb.com/integrations/jupyter.html\" target=\"_blank\">(Documentation)</a>.<br/>\n                Project page: <a href=\"https://wandb.ai/devcore/Metriken%20Bauwesen%20Sweeps\" target=\"_blank\">https://wandb.ai/devcore/Metriken%20Bauwesen%20Sweeps</a><br/>\n                Sweep page: <a href=\"https://wandb.ai/devcore/Metriken%20Bauwesen%20Sweeps/sweeps/s7m2nnuu\" target=\"_blank\">https://wandb.ai/devcore/Metriken%20Bauwesen%20Sweeps/sweeps/s7m2nnuu</a><br/>\nRun page: <a href=\"https://wandb.ai/devcore/Metriken%20Bauwesen%20Sweeps/runs/zcz6cc97\" target=\"_blank\">https://wandb.ai/devcore/Metriken%20Bauwesen%20Sweeps/runs/zcz6cc97</a><br/>\n                Run data is saved locally in <code>D:\\Development\\FHNW\\ip5-metriken-bauwesen\\src\\wandb\\run-20210601_151532-zcz6cc97</code><br/><br/>\n            "
     },
     "metadata": {},
     "output_type": "display_data"
    },
    {
     "data": {
      "text/plain": "<IPython.core.display.HTML object>",
      "text/html": "<br/>Waiting for W&B process to finish, PID 22824<br/>Program ended successfully."
     },
     "metadata": {},
     "output_type": "display_data"
    },
    {
     "data": {
      "text/plain": "VBox(children=(Label(value=' 0.00MB of 0.00MB uploaded (0.00MB deduped)\\r'), FloatProgress(value=1.0, max=1.0)…",
      "application/vnd.jupyter.widget-view+json": {
       "version_major": 2,
       "version_minor": 0,
       "model_id": "c8cc6ec948c243c69d3cc4c865f0b1ad"
      }
     },
     "metadata": {},
     "output_type": "display_data"
    },
    {
     "data": {
      "text/plain": "<IPython.core.display.HTML object>",
      "text/html": "Find user logs for this run at: <code>D:\\Development\\FHNW\\ip5-metriken-bauwesen\\src\\wandb\\run-20210601_151532-zcz6cc97\\logs\\debug.log</code>"
     },
     "metadata": {},
     "output_type": "display_data"
    },
    {
     "data": {
      "text/plain": "<IPython.core.display.HTML object>",
      "text/html": "Find internal logs for this run at: <code>D:\\Development\\FHNW\\ip5-metriken-bauwesen\\src\\wandb\\run-20210601_151532-zcz6cc97\\logs\\debug-internal.log</code>"
     },
     "metadata": {},
     "output_type": "display_data"
    },
    {
     "data": {
      "text/plain": "<IPython.core.display.HTML object>",
      "text/html": "<h3>Run summary:</h3><br/><style>\n    table.wandb td:nth-child(1) { padding: 0 10px; text-align: right }\n    </style><table class=\"wandb\">\n<tr><td>r2</td><td>0.86596</td></tr><tr><td>_runtime</td><td>2</td></tr><tr><td>_timestamp</td><td>1622553335</td></tr><tr><td>_step</td><td>0</td></tr></table>"
     },
     "metadata": {},
     "output_type": "display_data"
    },
    {
     "data": {
      "text/plain": "<IPython.core.display.HTML object>",
      "text/html": "<h3>Run history:</h3><br/><style>\n    table.wandb td:nth-child(1) { padding: 0 10px; text-align: right }\n    </style><table class=\"wandb\">\n<tr><td>r2</td><td>▁</td></tr><tr><td>_runtime</td><td>▁</td></tr><tr><td>_timestamp</td><td>▁</td></tr><tr><td>_step</td><td>▁</td></tr></table><br/>"
     },
     "metadata": {},
     "output_type": "display_data"
    },
    {
     "data": {
      "text/plain": "<IPython.core.display.HTML object>",
      "text/html": "Synced 5 W&B file(s), 0 media file(s), 0 artifact file(s) and 0 other file(s)"
     },
     "metadata": {},
     "output_type": "display_data"
    },
    {
     "data": {
      "text/plain": "<IPython.core.display.HTML object>",
      "text/html": "\n                    <br/>Synced <strong style=\"color:#cdcd00\">jolly-sweep-7</strong>: <a href=\"https://wandb.ai/devcore/Metriken%20Bauwesen%20Sweeps/runs/zcz6cc97\" target=\"_blank\">https://wandb.ai/devcore/Metriken%20Bauwesen%20Sweeps/runs/zcz6cc97</a><br/>\n                "
     },
     "metadata": {},
     "output_type": "display_data"
    },
    {
     "data": {
      "text/plain": "<IPython.core.display.HTML object>",
      "text/html": "\n                Tracking run with wandb version 0.10.31<br/>\n                Syncing run <strong style=\"color:#cdcd00\">sleek-sweep-8</strong> to <a href=\"https://wandb.ai\" target=\"_blank\">Weights & Biases</a> <a href=\"https://docs.wandb.com/integrations/jupyter.html\" target=\"_blank\">(Documentation)</a>.<br/>\n                Project page: <a href=\"https://wandb.ai/devcore/Metriken%20Bauwesen%20Sweeps\" target=\"_blank\">https://wandb.ai/devcore/Metriken%20Bauwesen%20Sweeps</a><br/>\n                Sweep page: <a href=\"https://wandb.ai/devcore/Metriken%20Bauwesen%20Sweeps/sweeps/s7m2nnuu\" target=\"_blank\">https://wandb.ai/devcore/Metriken%20Bauwesen%20Sweeps/sweeps/s7m2nnuu</a><br/>\nRun page: <a href=\"https://wandb.ai/devcore/Metriken%20Bauwesen%20Sweeps/runs/mg3i7j7c\" target=\"_blank\">https://wandb.ai/devcore/Metriken%20Bauwesen%20Sweeps/runs/mg3i7j7c</a><br/>\n                Run data is saved locally in <code>D:\\Development\\FHNW\\ip5-metriken-bauwesen\\src\\wandb\\run-20210601_151543-mg3i7j7c</code><br/><br/>\n            "
     },
     "metadata": {},
     "output_type": "display_data"
    },
    {
     "data": {
      "text/plain": "<IPython.core.display.HTML object>",
      "text/html": "<br/>Waiting for W&B process to finish, PID 29540<br/>Program ended successfully."
     },
     "metadata": {},
     "output_type": "display_data"
    },
    {
     "data": {
      "text/plain": "VBox(children=(Label(value=' 0.00MB of 0.00MB uploaded (0.00MB deduped)\\r'), FloatProgress(value=1.0, max=1.0)…",
      "application/vnd.jupyter.widget-view+json": {
       "version_major": 2,
       "version_minor": 0,
       "model_id": "f70e331fd9dc4080852e0faee8cf10f1"
      }
     },
     "metadata": {},
     "output_type": "display_data"
    },
    {
     "data": {
      "text/plain": "<IPython.core.display.HTML object>",
      "text/html": "Find user logs for this run at: <code>D:\\Development\\FHNW\\ip5-metriken-bauwesen\\src\\wandb\\run-20210601_151543-mg3i7j7c\\logs\\debug.log</code>"
     },
     "metadata": {},
     "output_type": "display_data"
    },
    {
     "data": {
      "text/plain": "<IPython.core.display.HTML object>",
      "text/html": "Find internal logs for this run at: <code>D:\\Development\\FHNW\\ip5-metriken-bauwesen\\src\\wandb\\run-20210601_151543-mg3i7j7c\\logs\\debug-internal.log</code>"
     },
     "metadata": {},
     "output_type": "display_data"
    },
    {
     "data": {
      "text/plain": "<IPython.core.display.HTML object>",
      "text/html": "<h3>Run summary:</h3><br/><style>\n    table.wandb td:nth-child(1) { padding: 0 10px; text-align: right }\n    </style><table class=\"wandb\">\n<tr><td>r2</td><td>0.87005</td></tr><tr><td>_runtime</td><td>2</td></tr><tr><td>_timestamp</td><td>1622553345</td></tr><tr><td>_step</td><td>0</td></tr></table>"
     },
     "metadata": {},
     "output_type": "display_data"
    },
    {
     "data": {
      "text/plain": "<IPython.core.display.HTML object>",
      "text/html": "<h3>Run history:</h3><br/><style>\n    table.wandb td:nth-child(1) { padding: 0 10px; text-align: right }\n    </style><table class=\"wandb\">\n<tr><td>r2</td><td>▁</td></tr><tr><td>_runtime</td><td>▁</td></tr><tr><td>_timestamp</td><td>▁</td></tr><tr><td>_step</td><td>▁</td></tr></table><br/>"
     },
     "metadata": {},
     "output_type": "display_data"
    },
    {
     "data": {
      "text/plain": "<IPython.core.display.HTML object>",
      "text/html": "Synced 5 W&B file(s), 0 media file(s), 0 artifact file(s) and 0 other file(s)"
     },
     "metadata": {},
     "output_type": "display_data"
    },
    {
     "data": {
      "text/plain": "<IPython.core.display.HTML object>",
      "text/html": "\n                    <br/>Synced <strong style=\"color:#cdcd00\">sleek-sweep-8</strong>: <a href=\"https://wandb.ai/devcore/Metriken%20Bauwesen%20Sweeps/runs/mg3i7j7c\" target=\"_blank\">https://wandb.ai/devcore/Metriken%20Bauwesen%20Sweeps/runs/mg3i7j7c</a><br/>\n                "
     },
     "metadata": {},
     "output_type": "display_data"
    },
    {
     "data": {
      "text/plain": "<IPython.core.display.HTML object>",
      "text/html": "\n                Tracking run with wandb version 0.10.31<br/>\n                Syncing run <strong style=\"color:#cdcd00\">wise-sweep-9</strong> to <a href=\"https://wandb.ai\" target=\"_blank\">Weights & Biases</a> <a href=\"https://docs.wandb.com/integrations/jupyter.html\" target=\"_blank\">(Documentation)</a>.<br/>\n                Project page: <a href=\"https://wandb.ai/devcore/Metriken%20Bauwesen%20Sweeps\" target=\"_blank\">https://wandb.ai/devcore/Metriken%20Bauwesen%20Sweeps</a><br/>\n                Sweep page: <a href=\"https://wandb.ai/devcore/Metriken%20Bauwesen%20Sweeps/sweeps/s7m2nnuu\" target=\"_blank\">https://wandb.ai/devcore/Metriken%20Bauwesen%20Sweeps/sweeps/s7m2nnuu</a><br/>\nRun page: <a href=\"https://wandb.ai/devcore/Metriken%20Bauwesen%20Sweeps/runs/ffjhjdyy\" target=\"_blank\">https://wandb.ai/devcore/Metriken%20Bauwesen%20Sweeps/runs/ffjhjdyy</a><br/>\n                Run data is saved locally in <code>D:\\Development\\FHNW\\ip5-metriken-bauwesen\\src\\wandb\\run-20210601_151553-ffjhjdyy</code><br/><br/>\n            "
     },
     "metadata": {},
     "output_type": "display_data"
    },
    {
     "data": {
      "text/plain": "<IPython.core.display.HTML object>",
      "text/html": "<br/>Waiting for W&B process to finish, PID 13832<br/>Program ended successfully."
     },
     "metadata": {},
     "output_type": "display_data"
    },
    {
     "data": {
      "text/plain": "VBox(children=(Label(value=' 0.00MB of 0.00MB uploaded (0.00MB deduped)\\r'), FloatProgress(value=1.0, max=1.0)…",
      "application/vnd.jupyter.widget-view+json": {
       "version_major": 2,
       "version_minor": 0,
       "model_id": "930ed79d2aeb439e9061c1cb0e7a14a6"
      }
     },
     "metadata": {},
     "output_type": "display_data"
    },
    {
     "data": {
      "text/plain": "<IPython.core.display.HTML object>",
      "text/html": "Find user logs for this run at: <code>D:\\Development\\FHNW\\ip5-metriken-bauwesen\\src\\wandb\\run-20210601_151553-ffjhjdyy\\logs\\debug.log</code>"
     },
     "metadata": {},
     "output_type": "display_data"
    },
    {
     "data": {
      "text/plain": "<IPython.core.display.HTML object>",
      "text/html": "Find internal logs for this run at: <code>D:\\Development\\FHNW\\ip5-metriken-bauwesen\\src\\wandb\\run-20210601_151553-ffjhjdyy\\logs\\debug-internal.log</code>"
     },
     "metadata": {},
     "output_type": "display_data"
    },
    {
     "data": {
      "text/plain": "<IPython.core.display.HTML object>",
      "text/html": "<h3>Run summary:</h3><br/><style>\n    table.wandb td:nth-child(1) { padding: 0 10px; text-align: right }\n    </style><table class=\"wandb\">\n<tr><td>r2</td><td>0.72254</td></tr><tr><td>_runtime</td><td>2</td></tr><tr><td>_timestamp</td><td>1622553355</td></tr><tr><td>_step</td><td>0</td></tr></table>"
     },
     "metadata": {},
     "output_type": "display_data"
    },
    {
     "data": {
      "text/plain": "<IPython.core.display.HTML object>",
      "text/html": "<h3>Run history:</h3><br/><style>\n    table.wandb td:nth-child(1) { padding: 0 10px; text-align: right }\n    </style><table class=\"wandb\">\n<tr><td>r2</td><td>▁</td></tr><tr><td>_runtime</td><td>▁</td></tr><tr><td>_timestamp</td><td>▁</td></tr><tr><td>_step</td><td>▁</td></tr></table><br/>"
     },
     "metadata": {},
     "output_type": "display_data"
    },
    {
     "data": {
      "text/plain": "<IPython.core.display.HTML object>",
      "text/html": "Synced 5 W&B file(s), 0 media file(s), 0 artifact file(s) and 0 other file(s)"
     },
     "metadata": {},
     "output_type": "display_data"
    },
    {
     "data": {
      "text/plain": "<IPython.core.display.HTML object>",
      "text/html": "\n                    <br/>Synced <strong style=\"color:#cdcd00\">wise-sweep-9</strong>: <a href=\"https://wandb.ai/devcore/Metriken%20Bauwesen%20Sweeps/runs/ffjhjdyy\" target=\"_blank\">https://wandb.ai/devcore/Metriken%20Bauwesen%20Sweeps/runs/ffjhjdyy</a><br/>\n                "
     },
     "metadata": {},
     "output_type": "display_data"
    },
    {
     "data": {
      "text/plain": "<IPython.core.display.HTML object>",
      "text/html": "\n                Tracking run with wandb version 0.10.31<br/>\n                Syncing run <strong style=\"color:#cdcd00\">volcanic-sweep-10</strong> to <a href=\"https://wandb.ai\" target=\"_blank\">Weights & Biases</a> <a href=\"https://docs.wandb.com/integrations/jupyter.html\" target=\"_blank\">(Documentation)</a>.<br/>\n                Project page: <a href=\"https://wandb.ai/devcore/Metriken%20Bauwesen%20Sweeps\" target=\"_blank\">https://wandb.ai/devcore/Metriken%20Bauwesen%20Sweeps</a><br/>\n                Sweep page: <a href=\"https://wandb.ai/devcore/Metriken%20Bauwesen%20Sweeps/sweeps/s7m2nnuu\" target=\"_blank\">https://wandb.ai/devcore/Metriken%20Bauwesen%20Sweeps/sweeps/s7m2nnuu</a><br/>\nRun page: <a href=\"https://wandb.ai/devcore/Metriken%20Bauwesen%20Sweeps/runs/3zkglup3\" target=\"_blank\">https://wandb.ai/devcore/Metriken%20Bauwesen%20Sweeps/runs/3zkglup3</a><br/>\n                Run data is saved locally in <code>D:\\Development\\FHNW\\ip5-metriken-bauwesen\\src\\wandb\\run-20210601_151603-3zkglup3</code><br/><br/>\n            "
     },
     "metadata": {},
     "output_type": "display_data"
    },
    {
     "data": {
      "text/plain": "<IPython.core.display.HTML object>",
      "text/html": "<br/>Waiting for W&B process to finish, PID 6556<br/>Program ended successfully."
     },
     "metadata": {},
     "output_type": "display_data"
    },
    {
     "data": {
      "text/plain": "VBox(children=(Label(value=' 0.00MB of 0.00MB uploaded (0.00MB deduped)\\r'), FloatProgress(value=1.0, max=1.0)…",
      "application/vnd.jupyter.widget-view+json": {
       "version_major": 2,
       "version_minor": 0,
       "model_id": "57c65d0f2e7f42aba2a918a5f9beb12c"
      }
     },
     "metadata": {},
     "output_type": "display_data"
    },
    {
     "data": {
      "text/plain": "<IPython.core.display.HTML object>",
      "text/html": "Find user logs for this run at: <code>D:\\Development\\FHNW\\ip5-metriken-bauwesen\\src\\wandb\\run-20210601_151603-3zkglup3\\logs\\debug.log</code>"
     },
     "metadata": {},
     "output_type": "display_data"
    },
    {
     "data": {
      "text/plain": "<IPython.core.display.HTML object>",
      "text/html": "Find internal logs for this run at: <code>D:\\Development\\FHNW\\ip5-metriken-bauwesen\\src\\wandb\\run-20210601_151603-3zkglup3\\logs\\debug-internal.log</code>"
     },
     "metadata": {},
     "output_type": "display_data"
    },
    {
     "data": {
      "text/plain": "<IPython.core.display.HTML object>",
      "text/html": "<h3>Run summary:</h3><br/><style>\n    table.wandb td:nth-child(1) { padding: 0 10px; text-align: right }\n    </style><table class=\"wandb\">\n<tr><td>r2</td><td>0.86413</td></tr><tr><td>_runtime</td><td>2</td></tr><tr><td>_timestamp</td><td>1622553365</td></tr><tr><td>_step</td><td>0</td></tr></table>"
     },
     "metadata": {},
     "output_type": "display_data"
    },
    {
     "data": {
      "text/plain": "<IPython.core.display.HTML object>",
      "text/html": "<h3>Run history:</h3><br/><style>\n    table.wandb td:nth-child(1) { padding: 0 10px; text-align: right }\n    </style><table class=\"wandb\">\n<tr><td>r2</td><td>▁</td></tr><tr><td>_runtime</td><td>▁</td></tr><tr><td>_timestamp</td><td>▁</td></tr><tr><td>_step</td><td>▁</td></tr></table><br/>"
     },
     "metadata": {},
     "output_type": "display_data"
    },
    {
     "data": {
      "text/plain": "<IPython.core.display.HTML object>",
      "text/html": "Synced 5 W&B file(s), 0 media file(s), 0 artifact file(s) and 0 other file(s)"
     },
     "metadata": {},
     "output_type": "display_data"
    },
    {
     "data": {
      "text/plain": "<IPython.core.display.HTML object>",
      "text/html": "\n                    <br/>Synced <strong style=\"color:#cdcd00\">volcanic-sweep-10</strong>: <a href=\"https://wandb.ai/devcore/Metriken%20Bauwesen%20Sweeps/runs/3zkglup3\" target=\"_blank\">https://wandb.ai/devcore/Metriken%20Bauwesen%20Sweeps/runs/3zkglup3</a><br/>\n                "
     },
     "metadata": {},
     "output_type": "display_data"
    },
    {
     "data": {
      "text/plain": "<IPython.core.display.HTML object>",
      "text/html": "\n                Tracking run with wandb version 0.10.31<br/>\n                Syncing run <strong style=\"color:#cdcd00\">brisk-sweep-11</strong> to <a href=\"https://wandb.ai\" target=\"_blank\">Weights & Biases</a> <a href=\"https://docs.wandb.com/integrations/jupyter.html\" target=\"_blank\">(Documentation)</a>.<br/>\n                Project page: <a href=\"https://wandb.ai/devcore/Metriken%20Bauwesen%20Sweeps\" target=\"_blank\">https://wandb.ai/devcore/Metriken%20Bauwesen%20Sweeps</a><br/>\n                Sweep page: <a href=\"https://wandb.ai/devcore/Metriken%20Bauwesen%20Sweeps/sweeps/s7m2nnuu\" target=\"_blank\">https://wandb.ai/devcore/Metriken%20Bauwesen%20Sweeps/sweeps/s7m2nnuu</a><br/>\nRun page: <a href=\"https://wandb.ai/devcore/Metriken%20Bauwesen%20Sweeps/runs/60rssaov\" target=\"_blank\">https://wandb.ai/devcore/Metriken%20Bauwesen%20Sweeps/runs/60rssaov</a><br/>\n                Run data is saved locally in <code>D:\\Development\\FHNW\\ip5-metriken-bauwesen\\src\\wandb\\run-20210601_151613-60rssaov</code><br/><br/>\n            "
     },
     "metadata": {},
     "output_type": "display_data"
    },
    {
     "data": {
      "text/plain": "<IPython.core.display.HTML object>",
      "text/html": "<br/>Waiting for W&B process to finish, PID 18920<br/>Program ended successfully."
     },
     "metadata": {},
     "output_type": "display_data"
    },
    {
     "data": {
      "text/plain": "VBox(children=(Label(value=' 0.00MB of 0.00MB uploaded (0.00MB deduped)\\r'), FloatProgress(value=1.0, max=1.0)…",
      "application/vnd.jupyter.widget-view+json": {
       "version_major": 2,
       "version_minor": 0,
       "model_id": "7af2be3b967a4d579eabbd82e0c4142d"
      }
     },
     "metadata": {},
     "output_type": "display_data"
    },
    {
     "data": {
      "text/plain": "<IPython.core.display.HTML object>",
      "text/html": "Find user logs for this run at: <code>D:\\Development\\FHNW\\ip5-metriken-bauwesen\\src\\wandb\\run-20210601_151613-60rssaov\\logs\\debug.log</code>"
     },
     "metadata": {},
     "output_type": "display_data"
    },
    {
     "data": {
      "text/plain": "<IPython.core.display.HTML object>",
      "text/html": "Find internal logs for this run at: <code>D:\\Development\\FHNW\\ip5-metriken-bauwesen\\src\\wandb\\run-20210601_151613-60rssaov\\logs\\debug-internal.log</code>"
     },
     "metadata": {},
     "output_type": "display_data"
    },
    {
     "data": {
      "text/plain": "<IPython.core.display.HTML object>",
      "text/html": "<h3>Run summary:</h3><br/><style>\n    table.wandb td:nth-child(1) { padding: 0 10px; text-align: right }\n    </style><table class=\"wandb\">\n<tr><td>r2</td><td>0.87765</td></tr><tr><td>_runtime</td><td>2</td></tr><tr><td>_timestamp</td><td>1622553375</td></tr><tr><td>_step</td><td>0</td></tr></table>"
     },
     "metadata": {},
     "output_type": "display_data"
    },
    {
     "data": {
      "text/plain": "<IPython.core.display.HTML object>",
      "text/html": "<h3>Run history:</h3><br/><style>\n    table.wandb td:nth-child(1) { padding: 0 10px; text-align: right }\n    </style><table class=\"wandb\">\n<tr><td>r2</td><td>▁</td></tr><tr><td>_runtime</td><td>▁</td></tr><tr><td>_timestamp</td><td>▁</td></tr><tr><td>_step</td><td>▁</td></tr></table><br/>"
     },
     "metadata": {},
     "output_type": "display_data"
    },
    {
     "data": {
      "text/plain": "<IPython.core.display.HTML object>",
      "text/html": "Synced 5 W&B file(s), 0 media file(s), 0 artifact file(s) and 0 other file(s)"
     },
     "metadata": {},
     "output_type": "display_data"
    },
    {
     "data": {
      "text/plain": "<IPython.core.display.HTML object>",
      "text/html": "\n                    <br/>Synced <strong style=\"color:#cdcd00\">brisk-sweep-11</strong>: <a href=\"https://wandb.ai/devcore/Metriken%20Bauwesen%20Sweeps/runs/60rssaov\" target=\"_blank\">https://wandb.ai/devcore/Metriken%20Bauwesen%20Sweeps/runs/60rssaov</a><br/>\n                "
     },
     "metadata": {},
     "output_type": "display_data"
    },
    {
     "data": {
      "text/plain": "<IPython.core.display.HTML object>",
      "text/html": "\n                Tracking run with wandb version 0.10.31<br/>\n                Syncing run <strong style=\"color:#cdcd00\">ethereal-sweep-12</strong> to <a href=\"https://wandb.ai\" target=\"_blank\">Weights & Biases</a> <a href=\"https://docs.wandb.com/integrations/jupyter.html\" target=\"_blank\">(Documentation)</a>.<br/>\n                Project page: <a href=\"https://wandb.ai/devcore/Metriken%20Bauwesen%20Sweeps\" target=\"_blank\">https://wandb.ai/devcore/Metriken%20Bauwesen%20Sweeps</a><br/>\n                Sweep page: <a href=\"https://wandb.ai/devcore/Metriken%20Bauwesen%20Sweeps/sweeps/s7m2nnuu\" target=\"_blank\">https://wandb.ai/devcore/Metriken%20Bauwesen%20Sweeps/sweeps/s7m2nnuu</a><br/>\nRun page: <a href=\"https://wandb.ai/devcore/Metriken%20Bauwesen%20Sweeps/runs/8tkozcs7\" target=\"_blank\">https://wandb.ai/devcore/Metriken%20Bauwesen%20Sweeps/runs/8tkozcs7</a><br/>\n                Run data is saved locally in <code>D:\\Development\\FHNW\\ip5-metriken-bauwesen\\src\\wandb\\run-20210601_151626-8tkozcs7</code><br/><br/>\n            "
     },
     "metadata": {},
     "output_type": "display_data"
    },
    {
     "data": {
      "text/plain": "<IPython.core.display.HTML object>",
      "text/html": "<br/>Waiting for W&B process to finish, PID 20144<br/>Program ended successfully."
     },
     "metadata": {},
     "output_type": "display_data"
    },
    {
     "data": {
      "text/plain": "VBox(children=(Label(value=' 0.00MB of 0.00MB uploaded (0.00MB deduped)\\r'), FloatProgress(value=1.0, max=1.0)…",
      "application/vnd.jupyter.widget-view+json": {
       "version_major": 2,
       "version_minor": 0,
       "model_id": "6d1cab85a8c64bdfb0f1c0e237510485"
      }
     },
     "metadata": {},
     "output_type": "display_data"
    },
    {
     "data": {
      "text/plain": "<IPython.core.display.HTML object>",
      "text/html": "Find user logs for this run at: <code>D:\\Development\\FHNW\\ip5-metriken-bauwesen\\src\\wandb\\run-20210601_151626-8tkozcs7\\logs\\debug.log</code>"
     },
     "metadata": {},
     "output_type": "display_data"
    },
    {
     "data": {
      "text/plain": "<IPython.core.display.HTML object>",
      "text/html": "Find internal logs for this run at: <code>D:\\Development\\FHNW\\ip5-metriken-bauwesen\\src\\wandb\\run-20210601_151626-8tkozcs7\\logs\\debug-internal.log</code>"
     },
     "metadata": {},
     "output_type": "display_data"
    },
    {
     "data": {
      "text/plain": "<IPython.core.display.HTML object>",
      "text/html": "<h3>Run summary:</h3><br/><style>\n    table.wandb td:nth-child(1) { padding: 0 10px; text-align: right }\n    </style><table class=\"wandb\">\n<tr><td>r2</td><td>0.84981</td></tr><tr><td>_runtime</td><td>3</td></tr><tr><td>_timestamp</td><td>1622553389</td></tr><tr><td>_step</td><td>0</td></tr></table>"
     },
     "metadata": {},
     "output_type": "display_data"
    },
    {
     "data": {
      "text/plain": "<IPython.core.display.HTML object>",
      "text/html": "<h3>Run history:</h3><br/><style>\n    table.wandb td:nth-child(1) { padding: 0 10px; text-align: right }\n    </style><table class=\"wandb\">\n<tr><td>r2</td><td>▁</td></tr><tr><td>_runtime</td><td>▁</td></tr><tr><td>_timestamp</td><td>▁</td></tr><tr><td>_step</td><td>▁</td></tr></table><br/>"
     },
     "metadata": {},
     "output_type": "display_data"
    },
    {
     "data": {
      "text/plain": "<IPython.core.display.HTML object>",
      "text/html": "Synced 5 W&B file(s), 0 media file(s), 0 artifact file(s) and 0 other file(s)"
     },
     "metadata": {},
     "output_type": "display_data"
    },
    {
     "data": {
      "text/plain": "<IPython.core.display.HTML object>",
      "text/html": "\n                    <br/>Synced <strong style=\"color:#cdcd00\">ethereal-sweep-12</strong>: <a href=\"https://wandb.ai/devcore/Metriken%20Bauwesen%20Sweeps/runs/8tkozcs7\" target=\"_blank\">https://wandb.ai/devcore/Metriken%20Bauwesen%20Sweeps/runs/8tkozcs7</a><br/>\n                "
     },
     "metadata": {},
     "output_type": "display_data"
    },
    {
     "data": {
      "text/plain": "<IPython.core.display.HTML object>",
      "text/html": "\n                Tracking run with wandb version 0.10.31<br/>\n                Syncing run <strong style=\"color:#cdcd00\">comfy-sweep-13</strong> to <a href=\"https://wandb.ai\" target=\"_blank\">Weights & Biases</a> <a href=\"https://docs.wandb.com/integrations/jupyter.html\" target=\"_blank\">(Documentation)</a>.<br/>\n                Project page: <a href=\"https://wandb.ai/devcore/Metriken%20Bauwesen%20Sweeps\" target=\"_blank\">https://wandb.ai/devcore/Metriken%20Bauwesen%20Sweeps</a><br/>\n                Sweep page: <a href=\"https://wandb.ai/devcore/Metriken%20Bauwesen%20Sweeps/sweeps/s7m2nnuu\" target=\"_blank\">https://wandb.ai/devcore/Metriken%20Bauwesen%20Sweeps/sweeps/s7m2nnuu</a><br/>\nRun page: <a href=\"https://wandb.ai/devcore/Metriken%20Bauwesen%20Sweeps/runs/vb6whkig\" target=\"_blank\">https://wandb.ai/devcore/Metriken%20Bauwesen%20Sweeps/runs/vb6whkig</a><br/>\n                Run data is saved locally in <code>D:\\Development\\FHNW\\ip5-metriken-bauwesen\\src\\wandb\\run-20210601_151638-vb6whkig</code><br/><br/>\n            "
     },
     "metadata": {},
     "output_type": "display_data"
    },
    {
     "data": {
      "text/plain": "<IPython.core.display.HTML object>",
      "text/html": "<br/>Waiting for W&B process to finish, PID 24232<br/>Program ended successfully."
     },
     "metadata": {},
     "output_type": "display_data"
    },
    {
     "data": {
      "text/plain": "VBox(children=(Label(value=' 0.00MB of 0.00MB uploaded (0.00MB deduped)\\r'), FloatProgress(value=1.0, max=1.0)…",
      "application/vnd.jupyter.widget-view+json": {
       "version_major": 2,
       "version_minor": 0,
       "model_id": "ea5070c4531d4a219713ca9ecdf54444"
      }
     },
     "metadata": {},
     "output_type": "display_data"
    },
    {
     "data": {
      "text/plain": "<IPython.core.display.HTML object>",
      "text/html": "Find user logs for this run at: <code>D:\\Development\\FHNW\\ip5-metriken-bauwesen\\src\\wandb\\run-20210601_151638-vb6whkig\\logs\\debug.log</code>"
     },
     "metadata": {},
     "output_type": "display_data"
    },
    {
     "data": {
      "text/plain": "<IPython.core.display.HTML object>",
      "text/html": "Find internal logs for this run at: <code>D:\\Development\\FHNW\\ip5-metriken-bauwesen\\src\\wandb\\run-20210601_151638-vb6whkig\\logs\\debug-internal.log</code>"
     },
     "metadata": {},
     "output_type": "display_data"
    },
    {
     "data": {
      "text/plain": "<IPython.core.display.HTML object>",
      "text/html": "<h3>Run summary:</h3><br/><style>\n    table.wandb td:nth-child(1) { padding: 0 10px; text-align: right }\n    </style><table class=\"wandb\">\n<tr><td>r2</td><td>0.85821</td></tr><tr><td>_runtime</td><td>2</td></tr><tr><td>_timestamp</td><td>1622553400</td></tr><tr><td>_step</td><td>0</td></tr></table>"
     },
     "metadata": {},
     "output_type": "display_data"
    },
    {
     "data": {
      "text/plain": "<IPython.core.display.HTML object>",
      "text/html": "<h3>Run history:</h3><br/><style>\n    table.wandb td:nth-child(1) { padding: 0 10px; text-align: right }\n    </style><table class=\"wandb\">\n<tr><td>r2</td><td>▁</td></tr><tr><td>_runtime</td><td>▁</td></tr><tr><td>_timestamp</td><td>▁</td></tr><tr><td>_step</td><td>▁</td></tr></table><br/>"
     },
     "metadata": {},
     "output_type": "display_data"
    },
    {
     "data": {
      "text/plain": "<IPython.core.display.HTML object>",
      "text/html": "Synced 5 W&B file(s), 0 media file(s), 0 artifact file(s) and 0 other file(s)"
     },
     "metadata": {},
     "output_type": "display_data"
    },
    {
     "data": {
      "text/plain": "<IPython.core.display.HTML object>",
      "text/html": "\n                    <br/>Synced <strong style=\"color:#cdcd00\">comfy-sweep-13</strong>: <a href=\"https://wandb.ai/devcore/Metriken%20Bauwesen%20Sweeps/runs/vb6whkig\" target=\"_blank\">https://wandb.ai/devcore/Metriken%20Bauwesen%20Sweeps/runs/vb6whkig</a><br/>\n                "
     },
     "metadata": {},
     "output_type": "display_data"
    },
    {
     "data": {
      "text/plain": "<IPython.core.display.HTML object>",
      "text/html": "\n                Tracking run with wandb version 0.10.31<br/>\n                Syncing run <strong style=\"color:#cdcd00\">easy-sweep-14</strong> to <a href=\"https://wandb.ai\" target=\"_blank\">Weights & Biases</a> <a href=\"https://docs.wandb.com/integrations/jupyter.html\" target=\"_blank\">(Documentation)</a>.<br/>\n                Project page: <a href=\"https://wandb.ai/devcore/Metriken%20Bauwesen%20Sweeps\" target=\"_blank\">https://wandb.ai/devcore/Metriken%20Bauwesen%20Sweeps</a><br/>\n                Sweep page: <a href=\"https://wandb.ai/devcore/Metriken%20Bauwesen%20Sweeps/sweeps/s7m2nnuu\" target=\"_blank\">https://wandb.ai/devcore/Metriken%20Bauwesen%20Sweeps/sweeps/s7m2nnuu</a><br/>\nRun page: <a href=\"https://wandb.ai/devcore/Metriken%20Bauwesen%20Sweeps/runs/g60j0hbz\" target=\"_blank\">https://wandb.ai/devcore/Metriken%20Bauwesen%20Sweeps/runs/g60j0hbz</a><br/>\n                Run data is saved locally in <code>D:\\Development\\FHNW\\ip5-metriken-bauwesen\\src\\wandb\\run-20210601_151648-g60j0hbz</code><br/><br/>\n            "
     },
     "metadata": {},
     "output_type": "display_data"
    },
    {
     "data": {
      "text/plain": "<IPython.core.display.HTML object>",
      "text/html": "<br/>Waiting for W&B process to finish, PID 7988<br/>Program ended successfully."
     },
     "metadata": {},
     "output_type": "display_data"
    },
    {
     "data": {
      "text/plain": "VBox(children=(Label(value=' 0.00MB of 0.00MB uploaded (0.00MB deduped)\\r'), FloatProgress(value=1.0, max=1.0)…",
      "application/vnd.jupyter.widget-view+json": {
       "version_major": 2,
       "version_minor": 0,
       "model_id": "7b8741b7845e414dbc8079f4b78ed27a"
      }
     },
     "metadata": {},
     "output_type": "display_data"
    },
    {
     "data": {
      "text/plain": "<IPython.core.display.HTML object>",
      "text/html": "Find user logs for this run at: <code>D:\\Development\\FHNW\\ip5-metriken-bauwesen\\src\\wandb\\run-20210601_151648-g60j0hbz\\logs\\debug.log</code>"
     },
     "metadata": {},
     "output_type": "display_data"
    },
    {
     "data": {
      "text/plain": "<IPython.core.display.HTML object>",
      "text/html": "Find internal logs for this run at: <code>D:\\Development\\FHNW\\ip5-metriken-bauwesen\\src\\wandb\\run-20210601_151648-g60j0hbz\\logs\\debug-internal.log</code>"
     },
     "metadata": {},
     "output_type": "display_data"
    },
    {
     "data": {
      "text/plain": "<IPython.core.display.HTML object>",
      "text/html": "<h3>Run summary:</h3><br/><style>\n    table.wandb td:nth-child(1) { padding: 0 10px; text-align: right }\n    </style><table class=\"wandb\">\n<tr><td>r2</td><td>0.84438</td></tr><tr><td>_runtime</td><td>2</td></tr><tr><td>_timestamp</td><td>1622553410</td></tr><tr><td>_step</td><td>0</td></tr></table>"
     },
     "metadata": {},
     "output_type": "display_data"
    },
    {
     "data": {
      "text/plain": "<IPython.core.display.HTML object>",
      "text/html": "<h3>Run history:</h3><br/><style>\n    table.wandb td:nth-child(1) { padding: 0 10px; text-align: right }\n    </style><table class=\"wandb\">\n<tr><td>r2</td><td>▁</td></tr><tr><td>_runtime</td><td>▁</td></tr><tr><td>_timestamp</td><td>▁</td></tr><tr><td>_step</td><td>▁</td></tr></table><br/>"
     },
     "metadata": {},
     "output_type": "display_data"
    },
    {
     "data": {
      "text/plain": "<IPython.core.display.HTML object>",
      "text/html": "Synced 5 W&B file(s), 0 media file(s), 0 artifact file(s) and 0 other file(s)"
     },
     "metadata": {},
     "output_type": "display_data"
    },
    {
     "data": {
      "text/plain": "<IPython.core.display.HTML object>",
      "text/html": "\n                    <br/>Synced <strong style=\"color:#cdcd00\">easy-sweep-14</strong>: <a href=\"https://wandb.ai/devcore/Metriken%20Bauwesen%20Sweeps/runs/g60j0hbz\" target=\"_blank\">https://wandb.ai/devcore/Metriken%20Bauwesen%20Sweeps/runs/g60j0hbz</a><br/>\n                "
     },
     "metadata": {},
     "output_type": "display_data"
    },
    {
     "data": {
      "text/plain": "<IPython.core.display.HTML object>",
      "text/html": "\n                Tracking run with wandb version 0.10.31<br/>\n                Syncing run <strong style=\"color:#cdcd00\">azure-sweep-15</strong> to <a href=\"https://wandb.ai\" target=\"_blank\">Weights & Biases</a> <a href=\"https://docs.wandb.com/integrations/jupyter.html\" target=\"_blank\">(Documentation)</a>.<br/>\n                Project page: <a href=\"https://wandb.ai/devcore/Metriken%20Bauwesen%20Sweeps\" target=\"_blank\">https://wandb.ai/devcore/Metriken%20Bauwesen%20Sweeps</a><br/>\n                Sweep page: <a href=\"https://wandb.ai/devcore/Metriken%20Bauwesen%20Sweeps/sweeps/s7m2nnuu\" target=\"_blank\">https://wandb.ai/devcore/Metriken%20Bauwesen%20Sweeps/sweeps/s7m2nnuu</a><br/>\nRun page: <a href=\"https://wandb.ai/devcore/Metriken%20Bauwesen%20Sweeps/runs/nz9v0y3d\" target=\"_blank\">https://wandb.ai/devcore/Metriken%20Bauwesen%20Sweeps/runs/nz9v0y3d</a><br/>\n                Run data is saved locally in <code>D:\\Development\\FHNW\\ip5-metriken-bauwesen\\src\\wandb\\run-20210601_151657-nz9v0y3d</code><br/><br/>\n            "
     },
     "metadata": {},
     "output_type": "display_data"
    },
    {
     "data": {
      "text/plain": "<IPython.core.display.HTML object>",
      "text/html": "<br/>Waiting for W&B process to finish, PID 5680<br/>Program ended successfully."
     },
     "metadata": {},
     "output_type": "display_data"
    },
    {
     "data": {
      "text/plain": "VBox(children=(Label(value=' 0.00MB of 0.00MB uploaded (0.00MB deduped)\\r'), FloatProgress(value=1.0, max=1.0)…",
      "application/vnd.jupyter.widget-view+json": {
       "version_major": 2,
       "version_minor": 0,
       "model_id": "e670c3722d8c4e42a203c8b57f265edb"
      }
     },
     "metadata": {},
     "output_type": "display_data"
    },
    {
     "data": {
      "text/plain": "<IPython.core.display.HTML object>",
      "text/html": "Find user logs for this run at: <code>D:\\Development\\FHNW\\ip5-metriken-bauwesen\\src\\wandb\\run-20210601_151657-nz9v0y3d\\logs\\debug.log</code>"
     },
     "metadata": {},
     "output_type": "display_data"
    },
    {
     "data": {
      "text/plain": "<IPython.core.display.HTML object>",
      "text/html": "Find internal logs for this run at: <code>D:\\Development\\FHNW\\ip5-metriken-bauwesen\\src\\wandb\\run-20210601_151657-nz9v0y3d\\logs\\debug-internal.log</code>"
     },
     "metadata": {},
     "output_type": "display_data"
    },
    {
     "data": {
      "text/plain": "<IPython.core.display.HTML object>",
      "text/html": "<h3>Run summary:</h3><br/><style>\n    table.wandb td:nth-child(1) { padding: 0 10px; text-align: right }\n    </style><table class=\"wandb\">\n<tr><td>r2</td><td>0.83943</td></tr><tr><td>_runtime</td><td>2</td></tr><tr><td>_timestamp</td><td>1622553419</td></tr><tr><td>_step</td><td>0</td></tr></table>"
     },
     "metadata": {},
     "output_type": "display_data"
    },
    {
     "data": {
      "text/plain": "<IPython.core.display.HTML object>",
      "text/html": "<h3>Run history:</h3><br/><style>\n    table.wandb td:nth-child(1) { padding: 0 10px; text-align: right }\n    </style><table class=\"wandb\">\n<tr><td>r2</td><td>▁</td></tr><tr><td>_runtime</td><td>▁</td></tr><tr><td>_timestamp</td><td>▁</td></tr><tr><td>_step</td><td>▁</td></tr></table><br/>"
     },
     "metadata": {},
     "output_type": "display_data"
    },
    {
     "data": {
      "text/plain": "<IPython.core.display.HTML object>",
      "text/html": "Synced 5 W&B file(s), 0 media file(s), 0 artifact file(s) and 0 other file(s)"
     },
     "metadata": {},
     "output_type": "display_data"
    },
    {
     "data": {
      "text/plain": "<IPython.core.display.HTML object>",
      "text/html": "\n                    <br/>Synced <strong style=\"color:#cdcd00\">azure-sweep-15</strong>: <a href=\"https://wandb.ai/devcore/Metriken%20Bauwesen%20Sweeps/runs/nz9v0y3d\" target=\"_blank\">https://wandb.ai/devcore/Metriken%20Bauwesen%20Sweeps/runs/nz9v0y3d</a><br/>\n                "
     },
     "metadata": {},
     "output_type": "display_data"
    },
    {
     "data": {
      "text/plain": "<IPython.core.display.HTML object>",
      "text/html": "\n                Tracking run with wandb version 0.10.31<br/>\n                Syncing run <strong style=\"color:#cdcd00\">jolly-sweep-16</strong> to <a href=\"https://wandb.ai\" target=\"_blank\">Weights & Biases</a> <a href=\"https://docs.wandb.com/integrations/jupyter.html\" target=\"_blank\">(Documentation)</a>.<br/>\n                Project page: <a href=\"https://wandb.ai/devcore/Metriken%20Bauwesen%20Sweeps\" target=\"_blank\">https://wandb.ai/devcore/Metriken%20Bauwesen%20Sweeps</a><br/>\n                Sweep page: <a href=\"https://wandb.ai/devcore/Metriken%20Bauwesen%20Sweeps/sweeps/s7m2nnuu\" target=\"_blank\">https://wandb.ai/devcore/Metriken%20Bauwesen%20Sweeps/sweeps/s7m2nnuu</a><br/>\nRun page: <a href=\"https://wandb.ai/devcore/Metriken%20Bauwesen%20Sweeps/runs/af5vxarl\" target=\"_blank\">https://wandb.ai/devcore/Metriken%20Bauwesen%20Sweeps/runs/af5vxarl</a><br/>\n                Run data is saved locally in <code>D:\\Development\\FHNW\\ip5-metriken-bauwesen\\src\\wandb\\run-20210601_151707-af5vxarl</code><br/><br/>\n            "
     },
     "metadata": {},
     "output_type": "display_data"
    },
    {
     "data": {
      "text/plain": "<IPython.core.display.HTML object>",
      "text/html": "<br/>Waiting for W&B process to finish, PID 7500<br/>Program ended successfully."
     },
     "metadata": {},
     "output_type": "display_data"
    },
    {
     "data": {
      "text/plain": "VBox(children=(Label(value=' 0.00MB of 0.00MB uploaded (0.00MB deduped)\\r'), FloatProgress(value=1.0, max=1.0)…",
      "application/vnd.jupyter.widget-view+json": {
       "version_major": 2,
       "version_minor": 0,
       "model_id": "cf4883569d4d48b9875479b6006c02b5"
      }
     },
     "metadata": {},
     "output_type": "display_data"
    },
    {
     "data": {
      "text/plain": "<IPython.core.display.HTML object>",
      "text/html": "Find user logs for this run at: <code>D:\\Development\\FHNW\\ip5-metriken-bauwesen\\src\\wandb\\run-20210601_151707-af5vxarl\\logs\\debug.log</code>"
     },
     "metadata": {},
     "output_type": "display_data"
    },
    {
     "data": {
      "text/plain": "<IPython.core.display.HTML object>",
      "text/html": "Find internal logs for this run at: <code>D:\\Development\\FHNW\\ip5-metriken-bauwesen\\src\\wandb\\run-20210601_151707-af5vxarl\\logs\\debug-internal.log</code>"
     },
     "metadata": {},
     "output_type": "display_data"
    },
    {
     "data": {
      "text/plain": "<IPython.core.display.HTML object>",
      "text/html": "<h3>Run summary:</h3><br/><style>\n    table.wandb td:nth-child(1) { padding: 0 10px; text-align: right }\n    </style><table class=\"wandb\">\n<tr><td>r2</td><td>0.86187</td></tr><tr><td>_runtime</td><td>2</td></tr><tr><td>_timestamp</td><td>1622553429</td></tr><tr><td>_step</td><td>0</td></tr></table>"
     },
     "metadata": {},
     "output_type": "display_data"
    },
    {
     "data": {
      "text/plain": "<IPython.core.display.HTML object>",
      "text/html": "<h3>Run history:</h3><br/><style>\n    table.wandb td:nth-child(1) { padding: 0 10px; text-align: right }\n    </style><table class=\"wandb\">\n<tr><td>r2</td><td>▁</td></tr><tr><td>_runtime</td><td>▁</td></tr><tr><td>_timestamp</td><td>▁</td></tr><tr><td>_step</td><td>▁</td></tr></table><br/>"
     },
     "metadata": {},
     "output_type": "display_data"
    },
    {
     "data": {
      "text/plain": "<IPython.core.display.HTML object>",
      "text/html": "Synced 5 W&B file(s), 0 media file(s), 0 artifact file(s) and 0 other file(s)"
     },
     "metadata": {},
     "output_type": "display_data"
    },
    {
     "data": {
      "text/plain": "<IPython.core.display.HTML object>",
      "text/html": "\n                    <br/>Synced <strong style=\"color:#cdcd00\">jolly-sweep-16</strong>: <a href=\"https://wandb.ai/devcore/Metriken%20Bauwesen%20Sweeps/runs/af5vxarl\" target=\"_blank\">https://wandb.ai/devcore/Metriken%20Bauwesen%20Sweeps/runs/af5vxarl</a><br/>\n                "
     },
     "metadata": {},
     "output_type": "display_data"
    },
    {
     "data": {
      "text/plain": "<IPython.core.display.HTML object>",
      "text/html": "\n                Tracking run with wandb version 0.10.31<br/>\n                Syncing run <strong style=\"color:#cdcd00\">vague-sweep-17</strong> to <a href=\"https://wandb.ai\" target=\"_blank\">Weights & Biases</a> <a href=\"https://docs.wandb.com/integrations/jupyter.html\" target=\"_blank\">(Documentation)</a>.<br/>\n                Project page: <a href=\"https://wandb.ai/devcore/Metriken%20Bauwesen%20Sweeps\" target=\"_blank\">https://wandb.ai/devcore/Metriken%20Bauwesen%20Sweeps</a><br/>\n                Sweep page: <a href=\"https://wandb.ai/devcore/Metriken%20Bauwesen%20Sweeps/sweeps/s7m2nnuu\" target=\"_blank\">https://wandb.ai/devcore/Metriken%20Bauwesen%20Sweeps/sweeps/s7m2nnuu</a><br/>\nRun page: <a href=\"https://wandb.ai/devcore/Metriken%20Bauwesen%20Sweeps/runs/8q8n9n31\" target=\"_blank\">https://wandb.ai/devcore/Metriken%20Bauwesen%20Sweeps/runs/8q8n9n31</a><br/>\n                Run data is saved locally in <code>D:\\Development\\FHNW\\ip5-metriken-bauwesen\\src\\wandb\\run-20210601_151717-8q8n9n31</code><br/><br/>\n            "
     },
     "metadata": {},
     "output_type": "display_data"
    },
    {
     "data": {
      "text/plain": "<IPython.core.display.HTML object>",
      "text/html": "<br/>Waiting for W&B process to finish, PID 10712<br/>Program ended successfully."
     },
     "metadata": {},
     "output_type": "display_data"
    },
    {
     "data": {
      "text/plain": "VBox(children=(Label(value=' 0.00MB of 0.00MB uploaded (0.00MB deduped)\\r'), FloatProgress(value=1.0, max=1.0)…",
      "application/vnd.jupyter.widget-view+json": {
       "version_major": 2,
       "version_minor": 0,
       "model_id": "c4ef51d159e74c1395c873b5fe0d66f9"
      }
     },
     "metadata": {},
     "output_type": "display_data"
    },
    {
     "data": {
      "text/plain": "<IPython.core.display.HTML object>",
      "text/html": "Find user logs for this run at: <code>D:\\Development\\FHNW\\ip5-metriken-bauwesen\\src\\wandb\\run-20210601_151717-8q8n9n31\\logs\\debug.log</code>"
     },
     "metadata": {},
     "output_type": "display_data"
    },
    {
     "data": {
      "text/plain": "<IPython.core.display.HTML object>",
      "text/html": "Find internal logs for this run at: <code>D:\\Development\\FHNW\\ip5-metriken-bauwesen\\src\\wandb\\run-20210601_151717-8q8n9n31\\logs\\debug-internal.log</code>"
     },
     "metadata": {},
     "output_type": "display_data"
    },
    {
     "data": {
      "text/plain": "<IPython.core.display.HTML object>",
      "text/html": "<h3>Run summary:</h3><br/><style>\n    table.wandb td:nth-child(1) { padding: 0 10px; text-align: right }\n    </style><table class=\"wandb\">\n<tr><td>r2</td><td>0.85484</td></tr><tr><td>_runtime</td><td>2</td></tr><tr><td>_timestamp</td><td>1622553439</td></tr><tr><td>_step</td><td>0</td></tr></table>"
     },
     "metadata": {},
     "output_type": "display_data"
    },
    {
     "data": {
      "text/plain": "<IPython.core.display.HTML object>",
      "text/html": "<h3>Run history:</h3><br/><style>\n    table.wandb td:nth-child(1) { padding: 0 10px; text-align: right }\n    </style><table class=\"wandb\">\n<tr><td>r2</td><td>▁</td></tr><tr><td>_runtime</td><td>▁</td></tr><tr><td>_timestamp</td><td>▁</td></tr><tr><td>_step</td><td>▁</td></tr></table><br/>"
     },
     "metadata": {},
     "output_type": "display_data"
    },
    {
     "data": {
      "text/plain": "<IPython.core.display.HTML object>",
      "text/html": "Synced 5 W&B file(s), 0 media file(s), 0 artifact file(s) and 0 other file(s)"
     },
     "metadata": {},
     "output_type": "display_data"
    },
    {
     "data": {
      "text/plain": "<IPython.core.display.HTML object>",
      "text/html": "\n                    <br/>Synced <strong style=\"color:#cdcd00\">vague-sweep-17</strong>: <a href=\"https://wandb.ai/devcore/Metriken%20Bauwesen%20Sweeps/runs/8q8n9n31\" target=\"_blank\">https://wandb.ai/devcore/Metriken%20Bauwesen%20Sweeps/runs/8q8n9n31</a><br/>\n                "
     },
     "metadata": {},
     "output_type": "display_data"
    },
    {
     "data": {
      "text/plain": "<IPython.core.display.HTML object>",
      "text/html": "\n                Tracking run with wandb version 0.10.31<br/>\n                Syncing run <strong style=\"color:#cdcd00\">misty-sweep-18</strong> to <a href=\"https://wandb.ai\" target=\"_blank\">Weights & Biases</a> <a href=\"https://docs.wandb.com/integrations/jupyter.html\" target=\"_blank\">(Documentation)</a>.<br/>\n                Project page: <a href=\"https://wandb.ai/devcore/Metriken%20Bauwesen%20Sweeps\" target=\"_blank\">https://wandb.ai/devcore/Metriken%20Bauwesen%20Sweeps</a><br/>\n                Sweep page: <a href=\"https://wandb.ai/devcore/Metriken%20Bauwesen%20Sweeps/sweeps/s7m2nnuu\" target=\"_blank\">https://wandb.ai/devcore/Metriken%20Bauwesen%20Sweeps/sweeps/s7m2nnuu</a><br/>\nRun page: <a href=\"https://wandb.ai/devcore/Metriken%20Bauwesen%20Sweeps/runs/hkdkuqzu\" target=\"_blank\">https://wandb.ai/devcore/Metriken%20Bauwesen%20Sweeps/runs/hkdkuqzu</a><br/>\n                Run data is saved locally in <code>D:\\Development\\FHNW\\ip5-metriken-bauwesen\\src\\wandb\\run-20210601_151729-hkdkuqzu</code><br/><br/>\n            "
     },
     "metadata": {},
     "output_type": "display_data"
    },
    {
     "data": {
      "text/plain": "<IPython.core.display.HTML object>",
      "text/html": "<br/>Waiting for W&B process to finish, PID 23808<br/>Program ended successfully."
     },
     "metadata": {},
     "output_type": "display_data"
    },
    {
     "data": {
      "text/plain": "VBox(children=(Label(value=' 0.00MB of 0.00MB uploaded (0.00MB deduped)\\r'), FloatProgress(value=1.0, max=1.0)…",
      "application/vnd.jupyter.widget-view+json": {
       "version_major": 2,
       "version_minor": 0,
       "model_id": "11b74e0f14a84a56bee53a73781d3bd8"
      }
     },
     "metadata": {},
     "output_type": "display_data"
    },
    {
     "data": {
      "text/plain": "<IPython.core.display.HTML object>",
      "text/html": "Find user logs for this run at: <code>D:\\Development\\FHNW\\ip5-metriken-bauwesen\\src\\wandb\\run-20210601_151729-hkdkuqzu\\logs\\debug.log</code>"
     },
     "metadata": {},
     "output_type": "display_data"
    },
    {
     "data": {
      "text/plain": "<IPython.core.display.HTML object>",
      "text/html": "Find internal logs for this run at: <code>D:\\Development\\FHNW\\ip5-metriken-bauwesen\\src\\wandb\\run-20210601_151729-hkdkuqzu\\logs\\debug-internal.log</code>"
     },
     "metadata": {},
     "output_type": "display_data"
    },
    {
     "data": {
      "text/plain": "<IPython.core.display.HTML object>",
      "text/html": "<h3>Run summary:</h3><br/><style>\n    table.wandb td:nth-child(1) { padding: 0 10px; text-align: right }\n    </style><table class=\"wandb\">\n<tr><td>r2</td><td>0.87451</td></tr><tr><td>_runtime</td><td>2</td></tr><tr><td>_timestamp</td><td>1622553451</td></tr><tr><td>_step</td><td>0</td></tr></table>"
     },
     "metadata": {},
     "output_type": "display_data"
    },
    {
     "data": {
      "text/plain": "<IPython.core.display.HTML object>",
      "text/html": "<h3>Run history:</h3><br/><style>\n    table.wandb td:nth-child(1) { padding: 0 10px; text-align: right }\n    </style><table class=\"wandb\">\n<tr><td>r2</td><td>▁</td></tr><tr><td>_runtime</td><td>▁</td></tr><tr><td>_timestamp</td><td>▁</td></tr><tr><td>_step</td><td>▁</td></tr></table><br/>"
     },
     "metadata": {},
     "output_type": "display_data"
    },
    {
     "data": {
      "text/plain": "<IPython.core.display.HTML object>",
      "text/html": "Synced 5 W&B file(s), 0 media file(s), 0 artifact file(s) and 0 other file(s)"
     },
     "metadata": {},
     "output_type": "display_data"
    },
    {
     "data": {
      "text/plain": "<IPython.core.display.HTML object>",
      "text/html": "\n                    <br/>Synced <strong style=\"color:#cdcd00\">misty-sweep-18</strong>: <a href=\"https://wandb.ai/devcore/Metriken%20Bauwesen%20Sweeps/runs/hkdkuqzu\" target=\"_blank\">https://wandb.ai/devcore/Metriken%20Bauwesen%20Sweeps/runs/hkdkuqzu</a><br/>\n                "
     },
     "metadata": {},
     "output_type": "display_data"
    },
    {
     "data": {
      "text/plain": "<IPython.core.display.HTML object>",
      "text/html": "\n                Tracking run with wandb version 0.10.31<br/>\n                Syncing run <strong style=\"color:#cdcd00\">rural-sweep-19</strong> to <a href=\"https://wandb.ai\" target=\"_blank\">Weights & Biases</a> <a href=\"https://docs.wandb.com/integrations/jupyter.html\" target=\"_blank\">(Documentation)</a>.<br/>\n                Project page: <a href=\"https://wandb.ai/devcore/Metriken%20Bauwesen%20Sweeps\" target=\"_blank\">https://wandb.ai/devcore/Metriken%20Bauwesen%20Sweeps</a><br/>\n                Sweep page: <a href=\"https://wandb.ai/devcore/Metriken%20Bauwesen%20Sweeps/sweeps/s7m2nnuu\" target=\"_blank\">https://wandb.ai/devcore/Metriken%20Bauwesen%20Sweeps/sweeps/s7m2nnuu</a><br/>\nRun page: <a href=\"https://wandb.ai/devcore/Metriken%20Bauwesen%20Sweeps/runs/11diqrvv\" target=\"_blank\">https://wandb.ai/devcore/Metriken%20Bauwesen%20Sweeps/runs/11diqrvv</a><br/>\n                Run data is saved locally in <code>D:\\Development\\FHNW\\ip5-metriken-bauwesen\\src\\wandb\\run-20210601_151743-11diqrvv</code><br/><br/>\n            "
     },
     "metadata": {},
     "output_type": "display_data"
    },
    {
     "data": {
      "text/plain": "<IPython.core.display.HTML object>",
      "text/html": "<br/>Waiting for W&B process to finish, PID 21112<br/>Program ended successfully."
     },
     "metadata": {},
     "output_type": "display_data"
    },
    {
     "data": {
      "text/plain": "VBox(children=(Label(value=' 0.00MB of 0.00MB uploaded (0.00MB deduped)\\r'), FloatProgress(value=1.0, max=1.0)…",
      "application/vnd.jupyter.widget-view+json": {
       "version_major": 2,
       "version_minor": 0,
       "model_id": "5c2db6e3b53d4e3aa4dc0800742c52c8"
      }
     },
     "metadata": {},
     "output_type": "display_data"
    },
    {
     "data": {
      "text/plain": "<IPython.core.display.HTML object>",
      "text/html": "Find user logs for this run at: <code>D:\\Development\\FHNW\\ip5-metriken-bauwesen\\src\\wandb\\run-20210601_151743-11diqrvv\\logs\\debug.log</code>"
     },
     "metadata": {},
     "output_type": "display_data"
    },
    {
     "data": {
      "text/plain": "<IPython.core.display.HTML object>",
      "text/html": "Find internal logs for this run at: <code>D:\\Development\\FHNW\\ip5-metriken-bauwesen\\src\\wandb\\run-20210601_151743-11diqrvv\\logs\\debug-internal.log</code>"
     },
     "metadata": {},
     "output_type": "display_data"
    },
    {
     "data": {
      "text/plain": "<IPython.core.display.HTML object>",
      "text/html": "<h3>Run summary:</h3><br/><style>\n    table.wandb td:nth-child(1) { padding: 0 10px; text-align: right }\n    </style><table class=\"wandb\">\n<tr><td>r2</td><td>0.82496</td></tr><tr><td>_runtime</td><td>2</td></tr><tr><td>_timestamp</td><td>1622553465</td></tr><tr><td>_step</td><td>0</td></tr></table>"
     },
     "metadata": {},
     "output_type": "display_data"
    },
    {
     "data": {
      "text/plain": "<IPython.core.display.HTML object>",
      "text/html": "<h3>Run history:</h3><br/><style>\n    table.wandb td:nth-child(1) { padding: 0 10px; text-align: right }\n    </style><table class=\"wandb\">\n<tr><td>r2</td><td>▁</td></tr><tr><td>_runtime</td><td>▁</td></tr><tr><td>_timestamp</td><td>▁</td></tr><tr><td>_step</td><td>▁</td></tr></table><br/>"
     },
     "metadata": {},
     "output_type": "display_data"
    },
    {
     "data": {
      "text/plain": "<IPython.core.display.HTML object>",
      "text/html": "Synced 5 W&B file(s), 0 media file(s), 0 artifact file(s) and 0 other file(s)"
     },
     "metadata": {},
     "output_type": "display_data"
    },
    {
     "data": {
      "text/plain": "<IPython.core.display.HTML object>",
      "text/html": "\n                    <br/>Synced <strong style=\"color:#cdcd00\">rural-sweep-19</strong>: <a href=\"https://wandb.ai/devcore/Metriken%20Bauwesen%20Sweeps/runs/11diqrvv\" target=\"_blank\">https://wandb.ai/devcore/Metriken%20Bauwesen%20Sweeps/runs/11diqrvv</a><br/>\n                "
     },
     "metadata": {},
     "output_type": "display_data"
    },
    {
     "data": {
      "text/plain": "<IPython.core.display.HTML object>",
      "text/html": "\n                Tracking run with wandb version 0.10.31<br/>\n                Syncing run <strong style=\"color:#cdcd00\">solar-sweep-20</strong> to <a href=\"https://wandb.ai\" target=\"_blank\">Weights & Biases</a> <a href=\"https://docs.wandb.com/integrations/jupyter.html\" target=\"_blank\">(Documentation)</a>.<br/>\n                Project page: <a href=\"https://wandb.ai/devcore/Metriken%20Bauwesen%20Sweeps\" target=\"_blank\">https://wandb.ai/devcore/Metriken%20Bauwesen%20Sweeps</a><br/>\n                Sweep page: <a href=\"https://wandb.ai/devcore/Metriken%20Bauwesen%20Sweeps/sweeps/s7m2nnuu\" target=\"_blank\">https://wandb.ai/devcore/Metriken%20Bauwesen%20Sweeps/sweeps/s7m2nnuu</a><br/>\nRun page: <a href=\"https://wandb.ai/devcore/Metriken%20Bauwesen%20Sweeps/runs/gsv1vytj\" target=\"_blank\">https://wandb.ai/devcore/Metriken%20Bauwesen%20Sweeps/runs/gsv1vytj</a><br/>\n                Run data is saved locally in <code>D:\\Development\\FHNW\\ip5-metriken-bauwesen\\src\\wandb\\run-20210601_151803-gsv1vytj</code><br/><br/>\n            "
     },
     "metadata": {},
     "output_type": "display_data"
    },
    {
     "data": {
      "text/plain": "<IPython.core.display.HTML object>",
      "text/html": "<br/>Waiting for W&B process to finish, PID 21180<br/>Program ended successfully."
     },
     "metadata": {},
     "output_type": "display_data"
    },
    {
     "data": {
      "text/plain": "VBox(children=(Label(value=' 0.00MB of 0.00MB uploaded (0.00MB deduped)\\r'), FloatProgress(value=1.0, max=1.0)…",
      "application/vnd.jupyter.widget-view+json": {
       "version_major": 2,
       "version_minor": 0,
       "model_id": "f69816bd3c914d61b759898ad8495f1f"
      }
     },
     "metadata": {},
     "output_type": "display_data"
    },
    {
     "data": {
      "text/plain": "<IPython.core.display.HTML object>",
      "text/html": "Find user logs for this run at: <code>D:\\Development\\FHNW\\ip5-metriken-bauwesen\\src\\wandb\\run-20210601_151803-gsv1vytj\\logs\\debug.log</code>"
     },
     "metadata": {},
     "output_type": "display_data"
    },
    {
     "data": {
      "text/plain": "<IPython.core.display.HTML object>",
      "text/html": "Find internal logs for this run at: <code>D:\\Development\\FHNW\\ip5-metriken-bauwesen\\src\\wandb\\run-20210601_151803-gsv1vytj\\logs\\debug-internal.log</code>"
     },
     "metadata": {},
     "output_type": "display_data"
    },
    {
     "data": {
      "text/plain": "<IPython.core.display.HTML object>",
      "text/html": "<h3>Run summary:</h3><br/><style>\n    table.wandb td:nth-child(1) { padding: 0 10px; text-align: right }\n    </style><table class=\"wandb\">\n<tr><td>r2</td><td>0.85799</td></tr><tr><td>_runtime</td><td>2</td></tr><tr><td>_timestamp</td><td>1622553485</td></tr><tr><td>_step</td><td>0</td></tr></table>"
     },
     "metadata": {},
     "output_type": "display_data"
    },
    {
     "data": {
      "text/plain": "<IPython.core.display.HTML object>",
      "text/html": "<h3>Run history:</h3><br/><style>\n    table.wandb td:nth-child(1) { padding: 0 10px; text-align: right }\n    </style><table class=\"wandb\">\n<tr><td>r2</td><td>▁</td></tr><tr><td>_runtime</td><td>▁</td></tr><tr><td>_timestamp</td><td>▁</td></tr><tr><td>_step</td><td>▁</td></tr></table><br/>"
     },
     "metadata": {},
     "output_type": "display_data"
    },
    {
     "data": {
      "text/plain": "<IPython.core.display.HTML object>",
      "text/html": "Synced 5 W&B file(s), 0 media file(s), 0 artifact file(s) and 0 other file(s)"
     },
     "metadata": {},
     "output_type": "display_data"
    },
    {
     "data": {
      "text/plain": "<IPython.core.display.HTML object>",
      "text/html": "\n                    <br/>Synced <strong style=\"color:#cdcd00\">solar-sweep-20</strong>: <a href=\"https://wandb.ai/devcore/Metriken%20Bauwesen%20Sweeps/runs/gsv1vytj\" target=\"_blank\">https://wandb.ai/devcore/Metriken%20Bauwesen%20Sweeps/runs/gsv1vytj</a><br/>\n                "
     },
     "metadata": {},
     "output_type": "display_data"
    },
    {
     "data": {
      "text/plain": "<IPython.core.display.HTML object>",
      "text/html": "\n                Tracking run with wandb version 0.10.31<br/>\n                Syncing run <strong style=\"color:#cdcd00\">revived-sweep-21</strong> to <a href=\"https://wandb.ai\" target=\"_blank\">Weights & Biases</a> <a href=\"https://docs.wandb.com/integrations/jupyter.html\" target=\"_blank\">(Documentation)</a>.<br/>\n                Project page: <a href=\"https://wandb.ai/devcore/Metriken%20Bauwesen%20Sweeps\" target=\"_blank\">https://wandb.ai/devcore/Metriken%20Bauwesen%20Sweeps</a><br/>\n                Sweep page: <a href=\"https://wandb.ai/devcore/Metriken%20Bauwesen%20Sweeps/sweeps/s7m2nnuu\" target=\"_blank\">https://wandb.ai/devcore/Metriken%20Bauwesen%20Sweeps/sweeps/s7m2nnuu</a><br/>\nRun page: <a href=\"https://wandb.ai/devcore/Metriken%20Bauwesen%20Sweeps/runs/myuzvhoy\" target=\"_blank\">https://wandb.ai/devcore/Metriken%20Bauwesen%20Sweeps/runs/myuzvhoy</a><br/>\n                Run data is saved locally in <code>D:\\Development\\FHNW\\ip5-metriken-bauwesen\\src\\wandb\\run-20210601_151813-myuzvhoy</code><br/><br/>\n            "
     },
     "metadata": {},
     "output_type": "display_data"
    },
    {
     "data": {
      "text/plain": "<IPython.core.display.HTML object>",
      "text/html": "<br/>Waiting for W&B process to finish, PID 18896<br/>Program ended successfully."
     },
     "metadata": {},
     "output_type": "display_data"
    },
    {
     "data": {
      "text/plain": "VBox(children=(Label(value=' 0.00MB of 0.00MB uploaded (0.00MB deduped)\\r'), FloatProgress(value=1.0, max=1.0)…",
      "application/vnd.jupyter.widget-view+json": {
       "version_major": 2,
       "version_minor": 0,
       "model_id": "682398a0f61f42deac69ab4791960cd1"
      }
     },
     "metadata": {},
     "output_type": "display_data"
    },
    {
     "data": {
      "text/plain": "<IPython.core.display.HTML object>",
      "text/html": "Find user logs for this run at: <code>D:\\Development\\FHNW\\ip5-metriken-bauwesen\\src\\wandb\\run-20210601_151813-myuzvhoy\\logs\\debug.log</code>"
     },
     "metadata": {},
     "output_type": "display_data"
    },
    {
     "data": {
      "text/plain": "<IPython.core.display.HTML object>",
      "text/html": "Find internal logs for this run at: <code>D:\\Development\\FHNW\\ip5-metriken-bauwesen\\src\\wandb\\run-20210601_151813-myuzvhoy\\logs\\debug-internal.log</code>"
     },
     "metadata": {},
     "output_type": "display_data"
    },
    {
     "data": {
      "text/plain": "<IPython.core.display.HTML object>",
      "text/html": "<h3>Run summary:</h3><br/><style>\n    table.wandb td:nth-child(1) { padding: 0 10px; text-align: right }\n    </style><table class=\"wandb\">\n<tr><td>r2</td><td>0.87246</td></tr><tr><td>_runtime</td><td>2</td></tr><tr><td>_timestamp</td><td>1622553495</td></tr><tr><td>_step</td><td>0</td></tr></table>"
     },
     "metadata": {},
     "output_type": "display_data"
    },
    {
     "data": {
      "text/plain": "<IPython.core.display.HTML object>",
      "text/html": "<h3>Run history:</h3><br/><style>\n    table.wandb td:nth-child(1) { padding: 0 10px; text-align: right }\n    </style><table class=\"wandb\">\n<tr><td>r2</td><td>▁</td></tr><tr><td>_runtime</td><td>▁</td></tr><tr><td>_timestamp</td><td>▁</td></tr><tr><td>_step</td><td>▁</td></tr></table><br/>"
     },
     "metadata": {},
     "output_type": "display_data"
    },
    {
     "data": {
      "text/plain": "<IPython.core.display.HTML object>",
      "text/html": "Synced 5 W&B file(s), 0 media file(s), 0 artifact file(s) and 0 other file(s)"
     },
     "metadata": {},
     "output_type": "display_data"
    },
    {
     "data": {
      "text/plain": "<IPython.core.display.HTML object>",
      "text/html": "\n                    <br/>Synced <strong style=\"color:#cdcd00\">revived-sweep-21</strong>: <a href=\"https://wandb.ai/devcore/Metriken%20Bauwesen%20Sweeps/runs/myuzvhoy\" target=\"_blank\">https://wandb.ai/devcore/Metriken%20Bauwesen%20Sweeps/runs/myuzvhoy</a><br/>\n                "
     },
     "metadata": {},
     "output_type": "display_data"
    },
    {
     "data": {
      "text/plain": "<IPython.core.display.HTML object>",
      "text/html": "\n                Tracking run with wandb version 0.10.31<br/>\n                Syncing run <strong style=\"color:#cdcd00\">solar-sweep-22</strong> to <a href=\"https://wandb.ai\" target=\"_blank\">Weights & Biases</a> <a href=\"https://docs.wandb.com/integrations/jupyter.html\" target=\"_blank\">(Documentation)</a>.<br/>\n                Project page: <a href=\"https://wandb.ai/devcore/Metriken%20Bauwesen%20Sweeps\" target=\"_blank\">https://wandb.ai/devcore/Metriken%20Bauwesen%20Sweeps</a><br/>\n                Sweep page: <a href=\"https://wandb.ai/devcore/Metriken%20Bauwesen%20Sweeps/sweeps/s7m2nnuu\" target=\"_blank\">https://wandb.ai/devcore/Metriken%20Bauwesen%20Sweeps/sweeps/s7m2nnuu</a><br/>\nRun page: <a href=\"https://wandb.ai/devcore/Metriken%20Bauwesen%20Sweeps/runs/w2ovkk9a\" target=\"_blank\">https://wandb.ai/devcore/Metriken%20Bauwesen%20Sweeps/runs/w2ovkk9a</a><br/>\n                Run data is saved locally in <code>D:\\Development\\FHNW\\ip5-metriken-bauwesen\\src\\wandb\\run-20210601_151823-w2ovkk9a</code><br/><br/>\n            "
     },
     "metadata": {},
     "output_type": "display_data"
    },
    {
     "data": {
      "text/plain": "<IPython.core.display.HTML object>",
      "text/html": "<br/>Waiting for W&B process to finish, PID 16572<br/>Program ended successfully."
     },
     "metadata": {},
     "output_type": "display_data"
    },
    {
     "data": {
      "text/plain": "VBox(children=(Label(value=' 0.00MB of 0.00MB uploaded (0.00MB deduped)\\r'), FloatProgress(value=1.0, max=1.0)…",
      "application/vnd.jupyter.widget-view+json": {
       "version_major": 2,
       "version_minor": 0,
       "model_id": "dd8d8c0c99b74b799410719c8c3021d6"
      }
     },
     "metadata": {},
     "output_type": "display_data"
    },
    {
     "data": {
      "text/plain": "<IPython.core.display.HTML object>",
      "text/html": "Find user logs for this run at: <code>D:\\Development\\FHNW\\ip5-metriken-bauwesen\\src\\wandb\\run-20210601_151823-w2ovkk9a\\logs\\debug.log</code>"
     },
     "metadata": {},
     "output_type": "display_data"
    },
    {
     "data": {
      "text/plain": "<IPython.core.display.HTML object>",
      "text/html": "Find internal logs for this run at: <code>D:\\Development\\FHNW\\ip5-metriken-bauwesen\\src\\wandb\\run-20210601_151823-w2ovkk9a\\logs\\debug-internal.log</code>"
     },
     "metadata": {},
     "output_type": "display_data"
    },
    {
     "data": {
      "text/plain": "<IPython.core.display.HTML object>",
      "text/html": "<h3>Run summary:</h3><br/><style>\n    table.wandb td:nth-child(1) { padding: 0 10px; text-align: right }\n    </style><table class=\"wandb\">\n<tr><td>r2</td><td>0.87015</td></tr><tr><td>_runtime</td><td>2</td></tr><tr><td>_timestamp</td><td>1622553505</td></tr><tr><td>_step</td><td>0</td></tr></table>"
     },
     "metadata": {},
     "output_type": "display_data"
    },
    {
     "data": {
      "text/plain": "<IPython.core.display.HTML object>",
      "text/html": "<h3>Run history:</h3><br/><style>\n    table.wandb td:nth-child(1) { padding: 0 10px; text-align: right }\n    </style><table class=\"wandb\">\n<tr><td>r2</td><td>▁</td></tr><tr><td>_runtime</td><td>▁</td></tr><tr><td>_timestamp</td><td>▁</td></tr><tr><td>_step</td><td>▁</td></tr></table><br/>"
     },
     "metadata": {},
     "output_type": "display_data"
    },
    {
     "data": {
      "text/plain": "<IPython.core.display.HTML object>",
      "text/html": "Synced 5 W&B file(s), 0 media file(s), 0 artifact file(s) and 0 other file(s)"
     },
     "metadata": {},
     "output_type": "display_data"
    },
    {
     "data": {
      "text/plain": "<IPython.core.display.HTML object>",
      "text/html": "\n                    <br/>Synced <strong style=\"color:#cdcd00\">solar-sweep-22</strong>: <a href=\"https://wandb.ai/devcore/Metriken%20Bauwesen%20Sweeps/runs/w2ovkk9a\" target=\"_blank\">https://wandb.ai/devcore/Metriken%20Bauwesen%20Sweeps/runs/w2ovkk9a</a><br/>\n                "
     },
     "metadata": {},
     "output_type": "display_data"
    },
    {
     "data": {
      "text/plain": "<IPython.core.display.HTML object>",
      "text/html": "\n                Tracking run with wandb version 0.10.31<br/>\n                Syncing run <strong style=\"color:#cdcd00\">splendid-sweep-23</strong> to <a href=\"https://wandb.ai\" target=\"_blank\">Weights & Biases</a> <a href=\"https://docs.wandb.com/integrations/jupyter.html\" target=\"_blank\">(Documentation)</a>.<br/>\n                Project page: <a href=\"https://wandb.ai/devcore/Metriken%20Bauwesen%20Sweeps\" target=\"_blank\">https://wandb.ai/devcore/Metriken%20Bauwesen%20Sweeps</a><br/>\n                Sweep page: <a href=\"https://wandb.ai/devcore/Metriken%20Bauwesen%20Sweeps/sweeps/s7m2nnuu\" target=\"_blank\">https://wandb.ai/devcore/Metriken%20Bauwesen%20Sweeps/sweeps/s7m2nnuu</a><br/>\nRun page: <a href=\"https://wandb.ai/devcore/Metriken%20Bauwesen%20Sweeps/runs/1wqzjby9\" target=\"_blank\">https://wandb.ai/devcore/Metriken%20Bauwesen%20Sweeps/runs/1wqzjby9</a><br/>\n                Run data is saved locally in <code>D:\\Development\\FHNW\\ip5-metriken-bauwesen\\src\\wandb\\run-20210601_151833-1wqzjby9</code><br/><br/>\n            "
     },
     "metadata": {},
     "output_type": "display_data"
    },
    {
     "data": {
      "text/plain": "<IPython.core.display.HTML object>",
      "text/html": "<br/>Waiting for W&B process to finish, PID 16704<br/>Program ended successfully."
     },
     "metadata": {},
     "output_type": "display_data"
    },
    {
     "data": {
      "text/plain": "VBox(children=(Label(value=' 0.00MB of 0.00MB uploaded (0.00MB deduped)\\r'), FloatProgress(value=1.0, max=1.0)…",
      "application/vnd.jupyter.widget-view+json": {
       "version_major": 2,
       "version_minor": 0,
       "model_id": "49bbaf6a1d4e4339902ddf43ce654559"
      }
     },
     "metadata": {},
     "output_type": "display_data"
    },
    {
     "data": {
      "text/plain": "<IPython.core.display.HTML object>",
      "text/html": "Find user logs for this run at: <code>D:\\Development\\FHNW\\ip5-metriken-bauwesen\\src\\wandb\\run-20210601_151833-1wqzjby9\\logs\\debug.log</code>"
     },
     "metadata": {},
     "output_type": "display_data"
    },
    {
     "data": {
      "text/plain": "<IPython.core.display.HTML object>",
      "text/html": "Find internal logs for this run at: <code>D:\\Development\\FHNW\\ip5-metriken-bauwesen\\src\\wandb\\run-20210601_151833-1wqzjby9\\logs\\debug-internal.log</code>"
     },
     "metadata": {},
     "output_type": "display_data"
    },
    {
     "data": {
      "text/plain": "<IPython.core.display.HTML object>",
      "text/html": "<h3>Run summary:</h3><br/><style>\n    table.wandb td:nth-child(1) { padding: 0 10px; text-align: right }\n    </style><table class=\"wandb\">\n<tr><td>r2</td><td>0.80747</td></tr><tr><td>_runtime</td><td>2</td></tr><tr><td>_timestamp</td><td>1622553515</td></tr><tr><td>_step</td><td>0</td></tr></table>"
     },
     "metadata": {},
     "output_type": "display_data"
    },
    {
     "data": {
      "text/plain": "<IPython.core.display.HTML object>",
      "text/html": "<h3>Run history:</h3><br/><style>\n    table.wandb td:nth-child(1) { padding: 0 10px; text-align: right }\n    </style><table class=\"wandb\">\n<tr><td>r2</td><td>▁</td></tr><tr><td>_runtime</td><td>▁</td></tr><tr><td>_timestamp</td><td>▁</td></tr><tr><td>_step</td><td>▁</td></tr></table><br/>"
     },
     "metadata": {},
     "output_type": "display_data"
    },
    {
     "data": {
      "text/plain": "<IPython.core.display.HTML object>",
      "text/html": "Synced 5 W&B file(s), 0 media file(s), 0 artifact file(s) and 0 other file(s)"
     },
     "metadata": {},
     "output_type": "display_data"
    },
    {
     "data": {
      "text/plain": "<IPython.core.display.HTML object>",
      "text/html": "\n                    <br/>Synced <strong style=\"color:#cdcd00\">splendid-sweep-23</strong>: <a href=\"https://wandb.ai/devcore/Metriken%20Bauwesen%20Sweeps/runs/1wqzjby9\" target=\"_blank\">https://wandb.ai/devcore/Metriken%20Bauwesen%20Sweeps/runs/1wqzjby9</a><br/>\n                "
     },
     "metadata": {},
     "output_type": "display_data"
    },
    {
     "data": {
      "text/plain": "<IPython.core.display.HTML object>",
      "text/html": "\n                Tracking run with wandb version 0.10.31<br/>\n                Syncing run <strong style=\"color:#cdcd00\">chocolate-sweep-24</strong> to <a href=\"https://wandb.ai\" target=\"_blank\">Weights & Biases</a> <a href=\"https://docs.wandb.com/integrations/jupyter.html\" target=\"_blank\">(Documentation)</a>.<br/>\n                Project page: <a href=\"https://wandb.ai/devcore/Metriken%20Bauwesen%20Sweeps\" target=\"_blank\">https://wandb.ai/devcore/Metriken%20Bauwesen%20Sweeps</a><br/>\n                Sweep page: <a href=\"https://wandb.ai/devcore/Metriken%20Bauwesen%20Sweeps/sweeps/s7m2nnuu\" target=\"_blank\">https://wandb.ai/devcore/Metriken%20Bauwesen%20Sweeps/sweeps/s7m2nnuu</a><br/>\nRun page: <a href=\"https://wandb.ai/devcore/Metriken%20Bauwesen%20Sweeps/runs/3kzn9uy8\" target=\"_blank\">https://wandb.ai/devcore/Metriken%20Bauwesen%20Sweeps/runs/3kzn9uy8</a><br/>\n                Run data is saved locally in <code>D:\\Development\\FHNW\\ip5-metriken-bauwesen\\src\\wandb\\run-20210601_151843-3kzn9uy8</code><br/><br/>\n            "
     },
     "metadata": {},
     "output_type": "display_data"
    },
    {
     "data": {
      "text/plain": "<IPython.core.display.HTML object>",
      "text/html": "<br/>Waiting for W&B process to finish, PID 28244<br/>Program ended successfully."
     },
     "metadata": {},
     "output_type": "display_data"
    },
    {
     "data": {
      "text/plain": "VBox(children=(Label(value=' 0.00MB of 0.00MB uploaded (0.00MB deduped)\\r'), FloatProgress(value=1.0, max=1.0)…",
      "application/vnd.jupyter.widget-view+json": {
       "version_major": 2,
       "version_minor": 0,
       "model_id": "575e1d4c91ad49ae95a70e67e01c8617"
      }
     },
     "metadata": {},
     "output_type": "display_data"
    },
    {
     "data": {
      "text/plain": "<IPython.core.display.HTML object>",
      "text/html": "Find user logs for this run at: <code>D:\\Development\\FHNW\\ip5-metriken-bauwesen\\src\\wandb\\run-20210601_151843-3kzn9uy8\\logs\\debug.log</code>"
     },
     "metadata": {},
     "output_type": "display_data"
    },
    {
     "data": {
      "text/plain": "<IPython.core.display.HTML object>",
      "text/html": "Find internal logs for this run at: <code>D:\\Development\\FHNW\\ip5-metriken-bauwesen\\src\\wandb\\run-20210601_151843-3kzn9uy8\\logs\\debug-internal.log</code>"
     },
     "metadata": {},
     "output_type": "display_data"
    },
    {
     "data": {
      "text/plain": "<IPython.core.display.HTML object>",
      "text/html": "<h3>Run summary:</h3><br/><style>\n    table.wandb td:nth-child(1) { padding: 0 10px; text-align: right }\n    </style><table class=\"wandb\">\n<tr><td>r2</td><td>0.8364</td></tr><tr><td>_runtime</td><td>1</td></tr><tr><td>_timestamp</td><td>1622553525</td></tr><tr><td>_step</td><td>0</td></tr></table>"
     },
     "metadata": {},
     "output_type": "display_data"
    },
    {
     "data": {
      "text/plain": "<IPython.core.display.HTML object>",
      "text/html": "<h3>Run history:</h3><br/><style>\n    table.wandb td:nth-child(1) { padding: 0 10px; text-align: right }\n    </style><table class=\"wandb\">\n<tr><td>r2</td><td>▁</td></tr><tr><td>_runtime</td><td>▁</td></tr><tr><td>_timestamp</td><td>▁</td></tr><tr><td>_step</td><td>▁</td></tr></table><br/>"
     },
     "metadata": {},
     "output_type": "display_data"
    },
    {
     "data": {
      "text/plain": "<IPython.core.display.HTML object>",
      "text/html": "Synced 5 W&B file(s), 0 media file(s), 0 artifact file(s) and 0 other file(s)"
     },
     "metadata": {},
     "output_type": "display_data"
    },
    {
     "data": {
      "text/plain": "<IPython.core.display.HTML object>",
      "text/html": "\n                    <br/>Synced <strong style=\"color:#cdcd00\">chocolate-sweep-24</strong>: <a href=\"https://wandb.ai/devcore/Metriken%20Bauwesen%20Sweeps/runs/3kzn9uy8\" target=\"_blank\">https://wandb.ai/devcore/Metriken%20Bauwesen%20Sweeps/runs/3kzn9uy8</a><br/>\n                "
     },
     "metadata": {},
     "output_type": "display_data"
    },
    {
     "data": {
      "text/plain": "<IPython.core.display.HTML object>",
      "text/html": "\n                Tracking run with wandb version 0.10.31<br/>\n                Syncing run <strong style=\"color:#cdcd00\">breezy-sweep-25</strong> to <a href=\"https://wandb.ai\" target=\"_blank\">Weights & Biases</a> <a href=\"https://docs.wandb.com/integrations/jupyter.html\" target=\"_blank\">(Documentation)</a>.<br/>\n                Project page: <a href=\"https://wandb.ai/devcore/Metriken%20Bauwesen%20Sweeps\" target=\"_blank\">https://wandb.ai/devcore/Metriken%20Bauwesen%20Sweeps</a><br/>\n                Sweep page: <a href=\"https://wandb.ai/devcore/Metriken%20Bauwesen%20Sweeps/sweeps/s7m2nnuu\" target=\"_blank\">https://wandb.ai/devcore/Metriken%20Bauwesen%20Sweeps/sweeps/s7m2nnuu</a><br/>\nRun page: <a href=\"https://wandb.ai/devcore/Metriken%20Bauwesen%20Sweeps/runs/bkirakry\" target=\"_blank\">https://wandb.ai/devcore/Metriken%20Bauwesen%20Sweeps/runs/bkirakry</a><br/>\n                Run data is saved locally in <code>D:\\Development\\FHNW\\ip5-metriken-bauwesen\\src\\wandb\\run-20210601_151854-bkirakry</code><br/><br/>\n            "
     },
     "metadata": {},
     "output_type": "display_data"
    },
    {
     "data": {
      "text/plain": "<IPython.core.display.HTML object>",
      "text/html": "<br/>Waiting for W&B process to finish, PID 8228<br/>Program ended successfully."
     },
     "metadata": {},
     "output_type": "display_data"
    },
    {
     "data": {
      "text/plain": "VBox(children=(Label(value=' 0.00MB of 0.00MB uploaded (0.00MB deduped)\\r'), FloatProgress(value=1.0, max=1.0)…",
      "application/vnd.jupyter.widget-view+json": {
       "version_major": 2,
       "version_minor": 0,
       "model_id": "88dc006916bd4801879da59902c1f2e7"
      }
     },
     "metadata": {},
     "output_type": "display_data"
    },
    {
     "data": {
      "text/plain": "<IPython.core.display.HTML object>",
      "text/html": "Find user logs for this run at: <code>D:\\Development\\FHNW\\ip5-metriken-bauwesen\\src\\wandb\\run-20210601_151854-bkirakry\\logs\\debug.log</code>"
     },
     "metadata": {},
     "output_type": "display_data"
    },
    {
     "data": {
      "text/plain": "<IPython.core.display.HTML object>",
      "text/html": "Find internal logs for this run at: <code>D:\\Development\\FHNW\\ip5-metriken-bauwesen\\src\\wandb\\run-20210601_151854-bkirakry\\logs\\debug-internal.log</code>"
     },
     "metadata": {},
     "output_type": "display_data"
    },
    {
     "data": {
      "text/plain": "<IPython.core.display.HTML object>",
      "text/html": "<h3>Run summary:</h3><br/><style>\n    table.wandb td:nth-child(1) { padding: 0 10px; text-align: right }\n    </style><table class=\"wandb\">\n<tr><td>r2</td><td>0.55077</td></tr><tr><td>_runtime</td><td>2</td></tr><tr><td>_timestamp</td><td>1622553536</td></tr><tr><td>_step</td><td>0</td></tr></table>"
     },
     "metadata": {},
     "output_type": "display_data"
    },
    {
     "data": {
      "text/plain": "<IPython.core.display.HTML object>",
      "text/html": "<h3>Run history:</h3><br/><style>\n    table.wandb td:nth-child(1) { padding: 0 10px; text-align: right }\n    </style><table class=\"wandb\">\n<tr><td>r2</td><td>▁</td></tr><tr><td>_runtime</td><td>▁</td></tr><tr><td>_timestamp</td><td>▁</td></tr><tr><td>_step</td><td>▁</td></tr></table><br/>"
     },
     "metadata": {},
     "output_type": "display_data"
    },
    {
     "data": {
      "text/plain": "<IPython.core.display.HTML object>",
      "text/html": "Synced 5 W&B file(s), 0 media file(s), 0 artifact file(s) and 0 other file(s)"
     },
     "metadata": {},
     "output_type": "display_data"
    },
    {
     "data": {
      "text/plain": "<IPython.core.display.HTML object>",
      "text/html": "\n                    <br/>Synced <strong style=\"color:#cdcd00\">breezy-sweep-25</strong>: <a href=\"https://wandb.ai/devcore/Metriken%20Bauwesen%20Sweeps/runs/bkirakry\" target=\"_blank\">https://wandb.ai/devcore/Metriken%20Bauwesen%20Sweeps/runs/bkirakry</a><br/>\n                "
     },
     "metadata": {},
     "output_type": "display_data"
    },
    {
     "data": {
      "text/plain": "<IPython.core.display.HTML object>",
      "text/html": "\n                Tracking run with wandb version 0.10.31<br/>\n                Syncing run <strong style=\"color:#cdcd00\">devoted-sweep-26</strong> to <a href=\"https://wandb.ai\" target=\"_blank\">Weights & Biases</a> <a href=\"https://docs.wandb.com/integrations/jupyter.html\" target=\"_blank\">(Documentation)</a>.<br/>\n                Project page: <a href=\"https://wandb.ai/devcore/Metriken%20Bauwesen%20Sweeps\" target=\"_blank\">https://wandb.ai/devcore/Metriken%20Bauwesen%20Sweeps</a><br/>\n                Sweep page: <a href=\"https://wandb.ai/devcore/Metriken%20Bauwesen%20Sweeps/sweeps/s7m2nnuu\" target=\"_blank\">https://wandb.ai/devcore/Metriken%20Bauwesen%20Sweeps/sweeps/s7m2nnuu</a><br/>\nRun page: <a href=\"https://wandb.ai/devcore/Metriken%20Bauwesen%20Sweeps/runs/amvxylkp\" target=\"_blank\">https://wandb.ai/devcore/Metriken%20Bauwesen%20Sweeps/runs/amvxylkp</a><br/>\n                Run data is saved locally in <code>D:\\Development\\FHNW\\ip5-metriken-bauwesen\\src\\wandb\\run-20210601_151904-amvxylkp</code><br/><br/>\n            "
     },
     "metadata": {},
     "output_type": "display_data"
    },
    {
     "data": {
      "text/plain": "<IPython.core.display.HTML object>",
      "text/html": "<br/>Waiting for W&B process to finish, PID 14192<br/>Program ended successfully."
     },
     "metadata": {},
     "output_type": "display_data"
    },
    {
     "data": {
      "text/plain": "VBox(children=(Label(value=' 0.00MB of 0.00MB uploaded (0.00MB deduped)\\r'), FloatProgress(value=1.0, max=1.0)…",
      "application/vnd.jupyter.widget-view+json": {
       "version_major": 2,
       "version_minor": 0,
       "model_id": "75fd64057d9440f48e894b3ee6068fc4"
      }
     },
     "metadata": {},
     "output_type": "display_data"
    },
    {
     "data": {
      "text/plain": "<IPython.core.display.HTML object>",
      "text/html": "Find user logs for this run at: <code>D:\\Development\\FHNW\\ip5-metriken-bauwesen\\src\\wandb\\run-20210601_151904-amvxylkp\\logs\\debug.log</code>"
     },
     "metadata": {},
     "output_type": "display_data"
    },
    {
     "data": {
      "text/plain": "<IPython.core.display.HTML object>",
      "text/html": "Find internal logs for this run at: <code>D:\\Development\\FHNW\\ip5-metriken-bauwesen\\src\\wandb\\run-20210601_151904-amvxylkp\\logs\\debug-internal.log</code>"
     },
     "metadata": {},
     "output_type": "display_data"
    },
    {
     "data": {
      "text/plain": "<IPython.core.display.HTML object>",
      "text/html": "<h3>Run summary:</h3><br/><style>\n    table.wandb td:nth-child(1) { padding: 0 10px; text-align: right }\n    </style><table class=\"wandb\">\n<tr><td>r2</td><td>0.86947</td></tr><tr><td>_runtime</td><td>2</td></tr><tr><td>_timestamp</td><td>1622553546</td></tr><tr><td>_step</td><td>0</td></tr></table>"
     },
     "metadata": {},
     "output_type": "display_data"
    },
    {
     "data": {
      "text/plain": "<IPython.core.display.HTML object>",
      "text/html": "<h3>Run history:</h3><br/><style>\n    table.wandb td:nth-child(1) { padding: 0 10px; text-align: right }\n    </style><table class=\"wandb\">\n<tr><td>r2</td><td>▁</td></tr><tr><td>_runtime</td><td>▁</td></tr><tr><td>_timestamp</td><td>▁</td></tr><tr><td>_step</td><td>▁</td></tr></table><br/>"
     },
     "metadata": {},
     "output_type": "display_data"
    },
    {
     "data": {
      "text/plain": "<IPython.core.display.HTML object>",
      "text/html": "Synced 5 W&B file(s), 0 media file(s), 0 artifact file(s) and 0 other file(s)"
     },
     "metadata": {},
     "output_type": "display_data"
    },
    {
     "data": {
      "text/plain": "<IPython.core.display.HTML object>",
      "text/html": "\n                    <br/>Synced <strong style=\"color:#cdcd00\">devoted-sweep-26</strong>: <a href=\"https://wandb.ai/devcore/Metriken%20Bauwesen%20Sweeps/runs/amvxylkp\" target=\"_blank\">https://wandb.ai/devcore/Metriken%20Bauwesen%20Sweeps/runs/amvxylkp</a><br/>\n                "
     },
     "metadata": {},
     "output_type": "display_data"
    },
    {
     "data": {
      "text/plain": "<IPython.core.display.HTML object>",
      "text/html": "\n                Tracking run with wandb version 0.10.31<br/>\n                Syncing run <strong style=\"color:#cdcd00\">fresh-sweep-27</strong> to <a href=\"https://wandb.ai\" target=\"_blank\">Weights & Biases</a> <a href=\"https://docs.wandb.com/integrations/jupyter.html\" target=\"_blank\">(Documentation)</a>.<br/>\n                Project page: <a href=\"https://wandb.ai/devcore/Metriken%20Bauwesen%20Sweeps\" target=\"_blank\">https://wandb.ai/devcore/Metriken%20Bauwesen%20Sweeps</a><br/>\n                Sweep page: <a href=\"https://wandb.ai/devcore/Metriken%20Bauwesen%20Sweeps/sweeps/s7m2nnuu\" target=\"_blank\">https://wandb.ai/devcore/Metriken%20Bauwesen%20Sweeps/sweeps/s7m2nnuu</a><br/>\nRun page: <a href=\"https://wandb.ai/devcore/Metriken%20Bauwesen%20Sweeps/runs/xo9i8s17\" target=\"_blank\">https://wandb.ai/devcore/Metriken%20Bauwesen%20Sweeps/runs/xo9i8s17</a><br/>\n                Run data is saved locally in <code>D:\\Development\\FHNW\\ip5-metriken-bauwesen\\src\\wandb\\run-20210601_151918-xo9i8s17</code><br/><br/>\n            "
     },
     "metadata": {},
     "output_type": "display_data"
    },
    {
     "data": {
      "text/plain": "<IPython.core.display.HTML object>",
      "text/html": "<br/>Waiting for W&B process to finish, PID 22120<br/>Program ended successfully."
     },
     "metadata": {},
     "output_type": "display_data"
    },
    {
     "data": {
      "text/plain": "VBox(children=(Label(value=' 0.00MB of 0.00MB uploaded (0.00MB deduped)\\r'), FloatProgress(value=1.0, max=1.0)…",
      "application/vnd.jupyter.widget-view+json": {
       "version_major": 2,
       "version_minor": 0,
       "model_id": "504a4dcd546d44e5a99ba1954a30b185"
      }
     },
     "metadata": {},
     "output_type": "display_data"
    },
    {
     "data": {
      "text/plain": "<IPython.core.display.HTML object>",
      "text/html": "Find user logs for this run at: <code>D:\\Development\\FHNW\\ip5-metriken-bauwesen\\src\\wandb\\run-20210601_151918-xo9i8s17\\logs\\debug.log</code>"
     },
     "metadata": {},
     "output_type": "display_data"
    },
    {
     "data": {
      "text/plain": "<IPython.core.display.HTML object>",
      "text/html": "Find internal logs for this run at: <code>D:\\Development\\FHNW\\ip5-metriken-bauwesen\\src\\wandb\\run-20210601_151918-xo9i8s17\\logs\\debug-internal.log</code>"
     },
     "metadata": {},
     "output_type": "display_data"
    },
    {
     "data": {
      "text/plain": "<IPython.core.display.HTML object>",
      "text/html": "<h3>Run summary:</h3><br/><style>\n    table.wandb td:nth-child(1) { padding: 0 10px; text-align: right }\n    </style><table class=\"wandb\">\n<tr><td>r2</td><td>0.85215</td></tr><tr><td>_runtime</td><td>2</td></tr><tr><td>_timestamp</td><td>1622553560</td></tr><tr><td>_step</td><td>0</td></tr></table>"
     },
     "metadata": {},
     "output_type": "display_data"
    },
    {
     "data": {
      "text/plain": "<IPython.core.display.HTML object>",
      "text/html": "<h3>Run history:</h3><br/><style>\n    table.wandb td:nth-child(1) { padding: 0 10px; text-align: right }\n    </style><table class=\"wandb\">\n<tr><td>r2</td><td>▁</td></tr><tr><td>_runtime</td><td>▁</td></tr><tr><td>_timestamp</td><td>▁</td></tr><tr><td>_step</td><td>▁</td></tr></table><br/>"
     },
     "metadata": {},
     "output_type": "display_data"
    },
    {
     "data": {
      "text/plain": "<IPython.core.display.HTML object>",
      "text/html": "Synced 5 W&B file(s), 0 media file(s), 0 artifact file(s) and 0 other file(s)"
     },
     "metadata": {},
     "output_type": "display_data"
    },
    {
     "data": {
      "text/plain": "<IPython.core.display.HTML object>",
      "text/html": "\n                    <br/>Synced <strong style=\"color:#cdcd00\">fresh-sweep-27</strong>: <a href=\"https://wandb.ai/devcore/Metriken%20Bauwesen%20Sweeps/runs/xo9i8s17\" target=\"_blank\">https://wandb.ai/devcore/Metriken%20Bauwesen%20Sweeps/runs/xo9i8s17</a><br/>\n                "
     },
     "metadata": {},
     "output_type": "display_data"
    },
    {
     "data": {
      "text/plain": "<IPython.core.display.HTML object>",
      "text/html": "\n                Tracking run with wandb version 0.10.31<br/>\n                Syncing run <strong style=\"color:#cdcd00\">comfy-sweep-28</strong> to <a href=\"https://wandb.ai\" target=\"_blank\">Weights & Biases</a> <a href=\"https://docs.wandb.com/integrations/jupyter.html\" target=\"_blank\">(Documentation)</a>.<br/>\n                Project page: <a href=\"https://wandb.ai/devcore/Metriken%20Bauwesen%20Sweeps\" target=\"_blank\">https://wandb.ai/devcore/Metriken%20Bauwesen%20Sweeps</a><br/>\n                Sweep page: <a href=\"https://wandb.ai/devcore/Metriken%20Bauwesen%20Sweeps/sweeps/s7m2nnuu\" target=\"_blank\">https://wandb.ai/devcore/Metriken%20Bauwesen%20Sweeps/sweeps/s7m2nnuu</a><br/>\nRun page: <a href=\"https://wandb.ai/devcore/Metriken%20Bauwesen%20Sweeps/runs/eg3hk7tq\" target=\"_blank\">https://wandb.ai/devcore/Metriken%20Bauwesen%20Sweeps/runs/eg3hk7tq</a><br/>\n                Run data is saved locally in <code>D:\\Development\\FHNW\\ip5-metriken-bauwesen\\src\\wandb\\run-20210601_151938-eg3hk7tq</code><br/><br/>\n            "
     },
     "metadata": {},
     "output_type": "display_data"
    },
    {
     "data": {
      "text/plain": "<IPython.core.display.HTML object>",
      "text/html": "<br/>Waiting for W&B process to finish, PID 18804<br/>Program ended successfully."
     },
     "metadata": {},
     "output_type": "display_data"
    },
    {
     "data": {
      "text/plain": "VBox(children=(Label(value=' 0.00MB of 0.00MB uploaded (0.00MB deduped)\\r'), FloatProgress(value=1.0, max=1.0)…",
      "application/vnd.jupyter.widget-view+json": {
       "version_major": 2,
       "version_minor": 0,
       "model_id": "6bbccaad6b7440bab26b23c42a4bac65"
      }
     },
     "metadata": {},
     "output_type": "display_data"
    },
    {
     "data": {
      "text/plain": "<IPython.core.display.HTML object>",
      "text/html": "Find user logs for this run at: <code>D:\\Development\\FHNW\\ip5-metriken-bauwesen\\src\\wandb\\run-20210601_151938-eg3hk7tq\\logs\\debug.log</code>"
     },
     "metadata": {},
     "output_type": "display_data"
    },
    {
     "data": {
      "text/plain": "<IPython.core.display.HTML object>",
      "text/html": "Find internal logs for this run at: <code>D:\\Development\\FHNW\\ip5-metriken-bauwesen\\src\\wandb\\run-20210601_151938-eg3hk7tq\\logs\\debug-internal.log</code>"
     },
     "metadata": {},
     "output_type": "display_data"
    },
    {
     "data": {
      "text/plain": "<IPython.core.display.HTML object>",
      "text/html": "<h3>Run summary:</h3><br/><style>\n    table.wandb td:nth-child(1) { padding: 0 10px; text-align: right }\n    </style><table class=\"wandb\">\n<tr><td>r2</td><td>0.8747</td></tr><tr><td>_runtime</td><td>2</td></tr><tr><td>_timestamp</td><td>1622553580</td></tr><tr><td>_step</td><td>0</td></tr></table>"
     },
     "metadata": {},
     "output_type": "display_data"
    },
    {
     "data": {
      "text/plain": "<IPython.core.display.HTML object>",
      "text/html": "<h3>Run history:</h3><br/><style>\n    table.wandb td:nth-child(1) { padding: 0 10px; text-align: right }\n    </style><table class=\"wandb\">\n<tr><td>r2</td><td>▁</td></tr><tr><td>_runtime</td><td>▁</td></tr><tr><td>_timestamp</td><td>▁</td></tr><tr><td>_step</td><td>▁</td></tr></table><br/>"
     },
     "metadata": {},
     "output_type": "display_data"
    },
    {
     "data": {
      "text/plain": "<IPython.core.display.HTML object>",
      "text/html": "Synced 5 W&B file(s), 0 media file(s), 0 artifact file(s) and 0 other file(s)"
     },
     "metadata": {},
     "output_type": "display_data"
    },
    {
     "data": {
      "text/plain": "<IPython.core.display.HTML object>",
      "text/html": "\n                    <br/>Synced <strong style=\"color:#cdcd00\">comfy-sweep-28</strong>: <a href=\"https://wandb.ai/devcore/Metriken%20Bauwesen%20Sweeps/runs/eg3hk7tq\" target=\"_blank\">https://wandb.ai/devcore/Metriken%20Bauwesen%20Sweeps/runs/eg3hk7tq</a><br/>\n                "
     },
     "metadata": {},
     "output_type": "display_data"
    },
    {
     "data": {
      "text/plain": "<IPython.core.display.HTML object>",
      "text/html": "\n                Tracking run with wandb version 0.10.31<br/>\n                Syncing run <strong style=\"color:#cdcd00\">cosmic-sweep-29</strong> to <a href=\"https://wandb.ai\" target=\"_blank\">Weights & Biases</a> <a href=\"https://docs.wandb.com/integrations/jupyter.html\" target=\"_blank\">(Documentation)</a>.<br/>\n                Project page: <a href=\"https://wandb.ai/devcore/Metriken%20Bauwesen%20Sweeps\" target=\"_blank\">https://wandb.ai/devcore/Metriken%20Bauwesen%20Sweeps</a><br/>\n                Sweep page: <a href=\"https://wandb.ai/devcore/Metriken%20Bauwesen%20Sweeps/sweeps/s7m2nnuu\" target=\"_blank\">https://wandb.ai/devcore/Metriken%20Bauwesen%20Sweeps/sweeps/s7m2nnuu</a><br/>\nRun page: <a href=\"https://wandb.ai/devcore/Metriken%20Bauwesen%20Sweeps/runs/oothwqcx\" target=\"_blank\">https://wandb.ai/devcore/Metriken%20Bauwesen%20Sweeps/runs/oothwqcx</a><br/>\n                Run data is saved locally in <code>D:\\Development\\FHNW\\ip5-metriken-bauwesen\\src\\wandb\\run-20210601_151947-oothwqcx</code><br/><br/>\n            "
     },
     "metadata": {},
     "output_type": "display_data"
    },
    {
     "data": {
      "text/plain": "<IPython.core.display.HTML object>",
      "text/html": "<br/>Waiting for W&B process to finish, PID 13928<br/>Program ended successfully."
     },
     "metadata": {},
     "output_type": "display_data"
    },
    {
     "data": {
      "text/plain": "VBox(children=(Label(value=' 0.00MB of 0.00MB uploaded (0.00MB deduped)\\r'), FloatProgress(value=1.0, max=1.0)…",
      "application/vnd.jupyter.widget-view+json": {
       "version_major": 2,
       "version_minor": 0,
       "model_id": "a47d15e6f43b40408e13d5e12eeefb73"
      }
     },
     "metadata": {},
     "output_type": "display_data"
    },
    {
     "data": {
      "text/plain": "<IPython.core.display.HTML object>",
      "text/html": "Find user logs for this run at: <code>D:\\Development\\FHNW\\ip5-metriken-bauwesen\\src\\wandb\\run-20210601_151947-oothwqcx\\logs\\debug.log</code>"
     },
     "metadata": {},
     "output_type": "display_data"
    },
    {
     "data": {
      "text/plain": "<IPython.core.display.HTML object>",
      "text/html": "Find internal logs for this run at: <code>D:\\Development\\FHNW\\ip5-metriken-bauwesen\\src\\wandb\\run-20210601_151947-oothwqcx\\logs\\debug-internal.log</code>"
     },
     "metadata": {},
     "output_type": "display_data"
    },
    {
     "data": {
      "text/plain": "<IPython.core.display.HTML object>",
      "text/html": "<h3>Run summary:</h3><br/><style>\n    table.wandb td:nth-child(1) { padding: 0 10px; text-align: right }\n    </style><table class=\"wandb\">\n<tr><td>r2</td><td>0.86514</td></tr><tr><td>_runtime</td><td>2</td></tr><tr><td>_timestamp</td><td>1622553589</td></tr><tr><td>_step</td><td>0</td></tr></table>"
     },
     "metadata": {},
     "output_type": "display_data"
    },
    {
     "data": {
      "text/plain": "<IPython.core.display.HTML object>",
      "text/html": "<h3>Run history:</h3><br/><style>\n    table.wandb td:nth-child(1) { padding: 0 10px; text-align: right }\n    </style><table class=\"wandb\">\n<tr><td>r2</td><td>▁</td></tr><tr><td>_runtime</td><td>▁</td></tr><tr><td>_timestamp</td><td>▁</td></tr><tr><td>_step</td><td>▁</td></tr></table><br/>"
     },
     "metadata": {},
     "output_type": "display_data"
    },
    {
     "data": {
      "text/plain": "<IPython.core.display.HTML object>",
      "text/html": "Synced 5 W&B file(s), 0 media file(s), 0 artifact file(s) and 0 other file(s)"
     },
     "metadata": {},
     "output_type": "display_data"
    },
    {
     "data": {
      "text/plain": "<IPython.core.display.HTML object>",
      "text/html": "\n                    <br/>Synced <strong style=\"color:#cdcd00\">cosmic-sweep-29</strong>: <a href=\"https://wandb.ai/devcore/Metriken%20Bauwesen%20Sweeps/runs/oothwqcx\" target=\"_blank\">https://wandb.ai/devcore/Metriken%20Bauwesen%20Sweeps/runs/oothwqcx</a><br/>\n                "
     },
     "metadata": {},
     "output_type": "display_data"
    },
    {
     "data": {
      "text/plain": "<IPython.core.display.HTML object>",
      "text/html": "\n                Tracking run with wandb version 0.10.31<br/>\n                Syncing run <strong style=\"color:#cdcd00\">confused-sweep-30</strong> to <a href=\"https://wandb.ai\" target=\"_blank\">Weights & Biases</a> <a href=\"https://docs.wandb.com/integrations/jupyter.html\" target=\"_blank\">(Documentation)</a>.<br/>\n                Project page: <a href=\"https://wandb.ai/devcore/Metriken%20Bauwesen%20Sweeps\" target=\"_blank\">https://wandb.ai/devcore/Metriken%20Bauwesen%20Sweeps</a><br/>\n                Sweep page: <a href=\"https://wandb.ai/devcore/Metriken%20Bauwesen%20Sweeps/sweeps/s7m2nnuu\" target=\"_blank\">https://wandb.ai/devcore/Metriken%20Bauwesen%20Sweeps/sweeps/s7m2nnuu</a><br/>\nRun page: <a href=\"https://wandb.ai/devcore/Metriken%20Bauwesen%20Sweeps/runs/8m7gca3f\" target=\"_blank\">https://wandb.ai/devcore/Metriken%20Bauwesen%20Sweeps/runs/8m7gca3f</a><br/>\n                Run data is saved locally in <code>D:\\Development\\FHNW\\ip5-metriken-bauwesen\\src\\wandb\\run-20210601_152011-8m7gca3f</code><br/><br/>\n            "
     },
     "metadata": {},
     "output_type": "display_data"
    },
    {
     "data": {
      "text/plain": "<IPython.core.display.HTML object>",
      "text/html": "<br/>Waiting for W&B process to finish, PID 21740<br/>Program ended successfully."
     },
     "metadata": {},
     "output_type": "display_data"
    },
    {
     "data": {
      "text/plain": "VBox(children=(Label(value=' 0.00MB of 0.00MB uploaded (0.00MB deduped)\\r'), FloatProgress(value=1.0, max=1.0)…",
      "application/vnd.jupyter.widget-view+json": {
       "version_major": 2,
       "version_minor": 0,
       "model_id": "be635425f26d457891a2c3a936727846"
      }
     },
     "metadata": {},
     "output_type": "display_data"
    },
    {
     "data": {
      "text/plain": "<IPython.core.display.HTML object>",
      "text/html": "Find user logs for this run at: <code>D:\\Development\\FHNW\\ip5-metriken-bauwesen\\src\\wandb\\run-20210601_152011-8m7gca3f\\logs\\debug.log</code>"
     },
     "metadata": {},
     "output_type": "display_data"
    },
    {
     "data": {
      "text/plain": "<IPython.core.display.HTML object>",
      "text/html": "Find internal logs for this run at: <code>D:\\Development\\FHNW\\ip5-metriken-bauwesen\\src\\wandb\\run-20210601_152011-8m7gca3f\\logs\\debug-internal.log</code>"
     },
     "metadata": {},
     "output_type": "display_data"
    },
    {
     "data": {
      "text/plain": "<IPython.core.display.HTML object>",
      "text/html": "<h3>Run summary:</h3><br/><style>\n    table.wandb td:nth-child(1) { padding: 0 10px; text-align: right }\n    </style><table class=\"wandb\">\n<tr><td>r2</td><td>0.68062</td></tr><tr><td>_runtime</td><td>2</td></tr><tr><td>_timestamp</td><td>1622553613</td></tr><tr><td>_step</td><td>0</td></tr></table>"
     },
     "metadata": {},
     "output_type": "display_data"
    },
    {
     "data": {
      "text/plain": "<IPython.core.display.HTML object>",
      "text/html": "<h3>Run history:</h3><br/><style>\n    table.wandb td:nth-child(1) { padding: 0 10px; text-align: right }\n    </style><table class=\"wandb\">\n<tr><td>r2</td><td>▁</td></tr><tr><td>_runtime</td><td>▁</td></tr><tr><td>_timestamp</td><td>▁</td></tr><tr><td>_step</td><td>▁</td></tr></table><br/>"
     },
     "metadata": {},
     "output_type": "display_data"
    },
    {
     "data": {
      "text/plain": "<IPython.core.display.HTML object>",
      "text/html": "Synced 5 W&B file(s), 0 media file(s), 0 artifact file(s) and 0 other file(s)"
     },
     "metadata": {},
     "output_type": "display_data"
    },
    {
     "data": {
      "text/plain": "<IPython.core.display.HTML object>",
      "text/html": "\n                    <br/>Synced <strong style=\"color:#cdcd00\">confused-sweep-30</strong>: <a href=\"https://wandb.ai/devcore/Metriken%20Bauwesen%20Sweeps/runs/8m7gca3f\" target=\"_blank\">https://wandb.ai/devcore/Metriken%20Bauwesen%20Sweeps/runs/8m7gca3f</a><br/>\n                "
     },
     "metadata": {},
     "output_type": "display_data"
    },
    {
     "data": {
      "text/plain": "<IPython.core.display.HTML object>",
      "text/html": "\n                Tracking run with wandb version 0.10.31<br/>\n                Syncing run <strong style=\"color:#cdcd00\">glad-sweep-31</strong> to <a href=\"https://wandb.ai\" target=\"_blank\">Weights & Biases</a> <a href=\"https://docs.wandb.com/integrations/jupyter.html\" target=\"_blank\">(Documentation)</a>.<br/>\n                Project page: <a href=\"https://wandb.ai/devcore/Metriken%20Bauwesen%20Sweeps\" target=\"_blank\">https://wandb.ai/devcore/Metriken%20Bauwesen%20Sweeps</a><br/>\n                Sweep page: <a href=\"https://wandb.ai/devcore/Metriken%20Bauwesen%20Sweeps/sweeps/s7m2nnuu\" target=\"_blank\">https://wandb.ai/devcore/Metriken%20Bauwesen%20Sweeps/sweeps/s7m2nnuu</a><br/>\nRun page: <a href=\"https://wandb.ai/devcore/Metriken%20Bauwesen%20Sweeps/runs/iup0dhbe\" target=\"_blank\">https://wandb.ai/devcore/Metriken%20Bauwesen%20Sweeps/runs/iup0dhbe</a><br/>\n                Run data is saved locally in <code>D:\\Development\\FHNW\\ip5-metriken-bauwesen\\src\\wandb\\run-20210601_152021-iup0dhbe</code><br/><br/>\n            "
     },
     "metadata": {},
     "output_type": "display_data"
    },
    {
     "data": {
      "text/plain": "<IPython.core.display.HTML object>",
      "text/html": "<br/>Waiting for W&B process to finish, PID 28252<br/>Program ended successfully."
     },
     "metadata": {},
     "output_type": "display_data"
    },
    {
     "data": {
      "text/plain": "VBox(children=(Label(value=' 0.00MB of 0.00MB uploaded (0.00MB deduped)\\r'), FloatProgress(value=1.0, max=1.0)…",
      "application/vnd.jupyter.widget-view+json": {
       "version_major": 2,
       "version_minor": 0,
       "model_id": "e4f092e6e91c474086703f856edc35cc"
      }
     },
     "metadata": {},
     "output_type": "display_data"
    },
    {
     "data": {
      "text/plain": "<IPython.core.display.HTML object>",
      "text/html": "Find user logs for this run at: <code>D:\\Development\\FHNW\\ip5-metriken-bauwesen\\src\\wandb\\run-20210601_152021-iup0dhbe\\logs\\debug.log</code>"
     },
     "metadata": {},
     "output_type": "display_data"
    },
    {
     "data": {
      "text/plain": "<IPython.core.display.HTML object>",
      "text/html": "Find internal logs for this run at: <code>D:\\Development\\FHNW\\ip5-metriken-bauwesen\\src\\wandb\\run-20210601_152021-iup0dhbe\\logs\\debug-internal.log</code>"
     },
     "metadata": {},
     "output_type": "display_data"
    },
    {
     "data": {
      "text/plain": "<IPython.core.display.HTML object>",
      "text/html": "<h3>Run summary:</h3><br/><style>\n    table.wandb td:nth-child(1) { padding: 0 10px; text-align: right }\n    </style><table class=\"wandb\">\n<tr><td>r2</td><td>0.77309</td></tr><tr><td>_runtime</td><td>2</td></tr><tr><td>_timestamp</td><td>1622553623</td></tr><tr><td>_step</td><td>0</td></tr></table>"
     },
     "metadata": {},
     "output_type": "display_data"
    },
    {
     "data": {
      "text/plain": "<IPython.core.display.HTML object>",
      "text/html": "<h3>Run history:</h3><br/><style>\n    table.wandb td:nth-child(1) { padding: 0 10px; text-align: right }\n    </style><table class=\"wandb\">\n<tr><td>r2</td><td>▁</td></tr><tr><td>_runtime</td><td>▁</td></tr><tr><td>_timestamp</td><td>▁</td></tr><tr><td>_step</td><td>▁</td></tr></table><br/>"
     },
     "metadata": {},
     "output_type": "display_data"
    },
    {
     "data": {
      "text/plain": "<IPython.core.display.HTML object>",
      "text/html": "Synced 5 W&B file(s), 0 media file(s), 0 artifact file(s) and 0 other file(s)"
     },
     "metadata": {},
     "output_type": "display_data"
    },
    {
     "data": {
      "text/plain": "<IPython.core.display.HTML object>",
      "text/html": "\n                    <br/>Synced <strong style=\"color:#cdcd00\">glad-sweep-31</strong>: <a href=\"https://wandb.ai/devcore/Metriken%20Bauwesen%20Sweeps/runs/iup0dhbe\" target=\"_blank\">https://wandb.ai/devcore/Metriken%20Bauwesen%20Sweeps/runs/iup0dhbe</a><br/>\n                "
     },
     "metadata": {},
     "output_type": "display_data"
    },
    {
     "data": {
      "text/plain": "<IPython.core.display.HTML object>",
      "text/html": "\n                Tracking run with wandb version 0.10.31<br/>\n                Syncing run <strong style=\"color:#cdcd00\">brisk-sweep-32</strong> to <a href=\"https://wandb.ai\" target=\"_blank\">Weights & Biases</a> <a href=\"https://docs.wandb.com/integrations/jupyter.html\" target=\"_blank\">(Documentation)</a>.<br/>\n                Project page: <a href=\"https://wandb.ai/devcore/Metriken%20Bauwesen%20Sweeps\" target=\"_blank\">https://wandb.ai/devcore/Metriken%20Bauwesen%20Sweeps</a><br/>\n                Sweep page: <a href=\"https://wandb.ai/devcore/Metriken%20Bauwesen%20Sweeps/sweeps/s7m2nnuu\" target=\"_blank\">https://wandb.ai/devcore/Metriken%20Bauwesen%20Sweeps/sweeps/s7m2nnuu</a><br/>\nRun page: <a href=\"https://wandb.ai/devcore/Metriken%20Bauwesen%20Sweeps/runs/dr50isf3\" target=\"_blank\">https://wandb.ai/devcore/Metriken%20Bauwesen%20Sweeps/runs/dr50isf3</a><br/>\n                Run data is saved locally in <code>D:\\Development\\FHNW\\ip5-metriken-bauwesen\\src\\wandb\\run-20210601_152040-dr50isf3</code><br/><br/>\n            "
     },
     "metadata": {},
     "output_type": "display_data"
    },
    {
     "data": {
      "text/plain": "<IPython.core.display.HTML object>",
      "text/html": "<br/>Waiting for W&B process to finish, PID 27796<br/>Program ended successfully."
     },
     "metadata": {},
     "output_type": "display_data"
    },
    {
     "data": {
      "text/plain": "VBox(children=(Label(value=' 0.00MB of 0.00MB uploaded (0.00MB deduped)\\r'), FloatProgress(value=1.0, max=1.0)…",
      "application/vnd.jupyter.widget-view+json": {
       "version_major": 2,
       "version_minor": 0,
       "model_id": "dd65bc2bd80b44d9ad1ac319dd44bd26"
      }
     },
     "metadata": {},
     "output_type": "display_data"
    },
    {
     "data": {
      "text/plain": "<IPython.core.display.HTML object>",
      "text/html": "Find user logs for this run at: <code>D:\\Development\\FHNW\\ip5-metriken-bauwesen\\src\\wandb\\run-20210601_152040-dr50isf3\\logs\\debug.log</code>"
     },
     "metadata": {},
     "output_type": "display_data"
    },
    {
     "data": {
      "text/plain": "<IPython.core.display.HTML object>",
      "text/html": "Find internal logs for this run at: <code>D:\\Development\\FHNW\\ip5-metriken-bauwesen\\src\\wandb\\run-20210601_152040-dr50isf3\\logs\\debug-internal.log</code>"
     },
     "metadata": {},
     "output_type": "display_data"
    },
    {
     "data": {
      "text/plain": "<IPython.core.display.HTML object>",
      "text/html": "<h3>Run summary:</h3><br/><style>\n    table.wandb td:nth-child(1) { padding: 0 10px; text-align: right }\n    </style><table class=\"wandb\">\n<tr><td>r2</td><td>0.61601</td></tr><tr><td>_runtime</td><td>1</td></tr><tr><td>_timestamp</td><td>1622553642</td></tr><tr><td>_step</td><td>0</td></tr></table>"
     },
     "metadata": {},
     "output_type": "display_data"
    },
    {
     "data": {
      "text/plain": "<IPython.core.display.HTML object>",
      "text/html": "<h3>Run history:</h3><br/><style>\n    table.wandb td:nth-child(1) { padding: 0 10px; text-align: right }\n    </style><table class=\"wandb\">\n<tr><td>r2</td><td>▁</td></tr><tr><td>_runtime</td><td>▁</td></tr><tr><td>_timestamp</td><td>▁</td></tr><tr><td>_step</td><td>▁</td></tr></table><br/>"
     },
     "metadata": {},
     "output_type": "display_data"
    },
    {
     "data": {
      "text/plain": "<IPython.core.display.HTML object>",
      "text/html": "Synced 5 W&B file(s), 0 media file(s), 0 artifact file(s) and 0 other file(s)"
     },
     "metadata": {},
     "output_type": "display_data"
    },
    {
     "data": {
      "text/plain": "<IPython.core.display.HTML object>",
      "text/html": "\n                    <br/>Synced <strong style=\"color:#cdcd00\">brisk-sweep-32</strong>: <a href=\"https://wandb.ai/devcore/Metriken%20Bauwesen%20Sweeps/runs/dr50isf3\" target=\"_blank\">https://wandb.ai/devcore/Metriken%20Bauwesen%20Sweeps/runs/dr50isf3</a><br/>\n                "
     },
     "metadata": {},
     "output_type": "display_data"
    },
    {
     "data": {
      "text/plain": "<IPython.core.display.HTML object>",
      "text/html": "\n                Tracking run with wandb version 0.10.31<br/>\n                Syncing run <strong style=\"color:#cdcd00\">azure-sweep-33</strong> to <a href=\"https://wandb.ai\" target=\"_blank\">Weights & Biases</a> <a href=\"https://docs.wandb.com/integrations/jupyter.html\" target=\"_blank\">(Documentation)</a>.<br/>\n                Project page: <a href=\"https://wandb.ai/devcore/Metriken%20Bauwesen%20Sweeps\" target=\"_blank\">https://wandb.ai/devcore/Metriken%20Bauwesen%20Sweeps</a><br/>\n                Sweep page: <a href=\"https://wandb.ai/devcore/Metriken%20Bauwesen%20Sweeps/sweeps/s7m2nnuu\" target=\"_blank\">https://wandb.ai/devcore/Metriken%20Bauwesen%20Sweeps/sweeps/s7m2nnuu</a><br/>\nRun page: <a href=\"https://wandb.ai/devcore/Metriken%20Bauwesen%20Sweeps/runs/oaub9f44\" target=\"_blank\">https://wandb.ai/devcore/Metriken%20Bauwesen%20Sweeps/runs/oaub9f44</a><br/>\n                Run data is saved locally in <code>D:\\Development\\FHNW\\ip5-metriken-bauwesen\\src\\wandb\\run-20210601_152051-oaub9f44</code><br/><br/>\n            "
     },
     "metadata": {},
     "output_type": "display_data"
    },
    {
     "data": {
      "text/plain": "<IPython.core.display.HTML object>",
      "text/html": "<br/>Waiting for W&B process to finish, PID 9184<br/>Program ended successfully."
     },
     "metadata": {},
     "output_type": "display_data"
    },
    {
     "data": {
      "text/plain": "VBox(children=(Label(value=' 0.00MB of 0.00MB uploaded (0.00MB deduped)\\r'), FloatProgress(value=1.0, max=1.0)…",
      "application/vnd.jupyter.widget-view+json": {
       "version_major": 2,
       "version_minor": 0,
       "model_id": "4db9c828410c4b1c8b57ec1b6ba15f50"
      }
     },
     "metadata": {},
     "output_type": "display_data"
    },
    {
     "data": {
      "text/plain": "<IPython.core.display.HTML object>",
      "text/html": "Find user logs for this run at: <code>D:\\Development\\FHNW\\ip5-metriken-bauwesen\\src\\wandb\\run-20210601_152051-oaub9f44\\logs\\debug.log</code>"
     },
     "metadata": {},
     "output_type": "display_data"
    },
    {
     "data": {
      "text/plain": "<IPython.core.display.HTML object>",
      "text/html": "Find internal logs for this run at: <code>D:\\Development\\FHNW\\ip5-metriken-bauwesen\\src\\wandb\\run-20210601_152051-oaub9f44\\logs\\debug-internal.log</code>"
     },
     "metadata": {},
     "output_type": "display_data"
    },
    {
     "data": {
      "text/plain": "<IPython.core.display.HTML object>",
      "text/html": "<h3>Run summary:</h3><br/><style>\n    table.wandb td:nth-child(1) { padding: 0 10px; text-align: right }\n    </style><table class=\"wandb\">\n<tr><td>r2</td><td>0.85247</td></tr><tr><td>_runtime</td><td>2</td></tr><tr><td>_timestamp</td><td>1622553653</td></tr><tr><td>_step</td><td>0</td></tr></table>"
     },
     "metadata": {},
     "output_type": "display_data"
    },
    {
     "data": {
      "text/plain": "<IPython.core.display.HTML object>",
      "text/html": "<h3>Run history:</h3><br/><style>\n    table.wandb td:nth-child(1) { padding: 0 10px; text-align: right }\n    </style><table class=\"wandb\">\n<tr><td>r2</td><td>▁</td></tr><tr><td>_runtime</td><td>▁</td></tr><tr><td>_timestamp</td><td>▁</td></tr><tr><td>_step</td><td>▁</td></tr></table><br/>"
     },
     "metadata": {},
     "output_type": "display_data"
    },
    {
     "data": {
      "text/plain": "<IPython.core.display.HTML object>",
      "text/html": "Synced 5 W&B file(s), 0 media file(s), 0 artifact file(s) and 0 other file(s)"
     },
     "metadata": {},
     "output_type": "display_data"
    },
    {
     "data": {
      "text/plain": "<IPython.core.display.HTML object>",
      "text/html": "\n                    <br/>Synced <strong style=\"color:#cdcd00\">azure-sweep-33</strong>: <a href=\"https://wandb.ai/devcore/Metriken%20Bauwesen%20Sweeps/runs/oaub9f44\" target=\"_blank\">https://wandb.ai/devcore/Metriken%20Bauwesen%20Sweeps/runs/oaub9f44</a><br/>\n                "
     },
     "metadata": {},
     "output_type": "display_data"
    },
    {
     "data": {
      "text/plain": "<IPython.core.display.HTML object>",
      "text/html": "\n                Tracking run with wandb version 0.10.31<br/>\n                Syncing run <strong style=\"color:#cdcd00\">happy-sweep-34</strong> to <a href=\"https://wandb.ai\" target=\"_blank\">Weights & Biases</a> <a href=\"https://docs.wandb.com/integrations/jupyter.html\" target=\"_blank\">(Documentation)</a>.<br/>\n                Project page: <a href=\"https://wandb.ai/devcore/Metriken%20Bauwesen%20Sweeps\" target=\"_blank\">https://wandb.ai/devcore/Metriken%20Bauwesen%20Sweeps</a><br/>\n                Sweep page: <a href=\"https://wandb.ai/devcore/Metriken%20Bauwesen%20Sweeps/sweeps/s7m2nnuu\" target=\"_blank\">https://wandb.ai/devcore/Metriken%20Bauwesen%20Sweeps/sweeps/s7m2nnuu</a><br/>\nRun page: <a href=\"https://wandb.ai/devcore/Metriken%20Bauwesen%20Sweeps/runs/mvqrrulj\" target=\"_blank\">https://wandb.ai/devcore/Metriken%20Bauwesen%20Sweeps/runs/mvqrrulj</a><br/>\n                Run data is saved locally in <code>D:\\Development\\FHNW\\ip5-metriken-bauwesen\\src\\wandb\\run-20210601_152111-mvqrrulj</code><br/><br/>\n            "
     },
     "metadata": {},
     "output_type": "display_data"
    },
    {
     "data": {
      "text/plain": "<IPython.core.display.HTML object>",
      "text/html": "<br/>Waiting for W&B process to finish, PID 9156<br/>Program ended successfully."
     },
     "metadata": {},
     "output_type": "display_data"
    },
    {
     "data": {
      "text/plain": "VBox(children=(Label(value=' 0.00MB of 0.00MB uploaded (0.00MB deduped)\\r'), FloatProgress(value=1.0, max=1.0)…",
      "application/vnd.jupyter.widget-view+json": {
       "version_major": 2,
       "version_minor": 0,
       "model_id": "6bfb857e787a4b0d9df9356c516594bd"
      }
     },
     "metadata": {},
     "output_type": "display_data"
    },
    {
     "data": {
      "text/plain": "<IPython.core.display.HTML object>",
      "text/html": "Find user logs for this run at: <code>D:\\Development\\FHNW\\ip5-metriken-bauwesen\\src\\wandb\\run-20210601_152111-mvqrrulj\\logs\\debug.log</code>"
     },
     "metadata": {},
     "output_type": "display_data"
    },
    {
     "data": {
      "text/plain": "<IPython.core.display.HTML object>",
      "text/html": "Find internal logs for this run at: <code>D:\\Development\\FHNW\\ip5-metriken-bauwesen\\src\\wandb\\run-20210601_152111-mvqrrulj\\logs\\debug-internal.log</code>"
     },
     "metadata": {},
     "output_type": "display_data"
    },
    {
     "data": {
      "text/plain": "<IPython.core.display.HTML object>",
      "text/html": "<h3>Run summary:</h3><br/><style>\n    table.wandb td:nth-child(1) { padding: 0 10px; text-align: right }\n    </style><table class=\"wandb\">\n<tr><td>r2</td><td>0.85164</td></tr><tr><td>_runtime</td><td>2</td></tr><tr><td>_timestamp</td><td>1622553673</td></tr><tr><td>_step</td><td>0</td></tr></table>"
     },
     "metadata": {},
     "output_type": "display_data"
    },
    {
     "data": {
      "text/plain": "<IPython.core.display.HTML object>",
      "text/html": "<h3>Run history:</h3><br/><style>\n    table.wandb td:nth-child(1) { padding: 0 10px; text-align: right }\n    </style><table class=\"wandb\">\n<tr><td>r2</td><td>▁</td></tr><tr><td>_runtime</td><td>▁</td></tr><tr><td>_timestamp</td><td>▁</td></tr><tr><td>_step</td><td>▁</td></tr></table><br/>"
     },
     "metadata": {},
     "output_type": "display_data"
    },
    {
     "data": {
      "text/plain": "<IPython.core.display.HTML object>",
      "text/html": "Synced 5 W&B file(s), 0 media file(s), 0 artifact file(s) and 0 other file(s)"
     },
     "metadata": {},
     "output_type": "display_data"
    },
    {
     "data": {
      "text/plain": "<IPython.core.display.HTML object>",
      "text/html": "\n                    <br/>Synced <strong style=\"color:#cdcd00\">happy-sweep-34</strong>: <a href=\"https://wandb.ai/devcore/Metriken%20Bauwesen%20Sweeps/runs/mvqrrulj\" target=\"_blank\">https://wandb.ai/devcore/Metriken%20Bauwesen%20Sweeps/runs/mvqrrulj</a><br/>\n                "
     },
     "metadata": {},
     "output_type": "display_data"
    },
    {
     "data": {
      "text/plain": "<IPython.core.display.HTML object>",
      "text/html": "\n                Tracking run with wandb version 0.10.31<br/>\n                Syncing run <strong style=\"color:#cdcd00\">true-sweep-35</strong> to <a href=\"https://wandb.ai\" target=\"_blank\">Weights & Biases</a> <a href=\"https://docs.wandb.com/integrations/jupyter.html\" target=\"_blank\">(Documentation)</a>.<br/>\n                Project page: <a href=\"https://wandb.ai/devcore/Metriken%20Bauwesen%20Sweeps\" target=\"_blank\">https://wandb.ai/devcore/Metriken%20Bauwesen%20Sweeps</a><br/>\n                Sweep page: <a href=\"https://wandb.ai/devcore/Metriken%20Bauwesen%20Sweeps/sweeps/s7m2nnuu\" target=\"_blank\">https://wandb.ai/devcore/Metriken%20Bauwesen%20Sweeps/sweeps/s7m2nnuu</a><br/>\nRun page: <a href=\"https://wandb.ai/devcore/Metriken%20Bauwesen%20Sweeps/runs/8ip6f1hv\" target=\"_blank\">https://wandb.ai/devcore/Metriken%20Bauwesen%20Sweeps/runs/8ip6f1hv</a><br/>\n                Run data is saved locally in <code>D:\\Development\\FHNW\\ip5-metriken-bauwesen\\src\\wandb\\run-20210601_152121-8ip6f1hv</code><br/><br/>\n            "
     },
     "metadata": {},
     "output_type": "display_data"
    },
    {
     "data": {
      "text/plain": "<IPython.core.display.HTML object>",
      "text/html": "<br/>Waiting for W&B process to finish, PID 11044<br/>Program ended successfully."
     },
     "metadata": {},
     "output_type": "display_data"
    },
    {
     "data": {
      "text/plain": "VBox(children=(Label(value=' 0.00MB of 0.00MB uploaded (0.00MB deduped)\\r'), FloatProgress(value=1.0, max=1.0)…",
      "application/vnd.jupyter.widget-view+json": {
       "version_major": 2,
       "version_minor": 0,
       "model_id": "25859f9d2ad14d65ac45ad2ca00115c4"
      }
     },
     "metadata": {},
     "output_type": "display_data"
    },
    {
     "data": {
      "text/plain": "<IPython.core.display.HTML object>",
      "text/html": "Find user logs for this run at: <code>D:\\Development\\FHNW\\ip5-metriken-bauwesen\\src\\wandb\\run-20210601_152121-8ip6f1hv\\logs\\debug.log</code>"
     },
     "metadata": {},
     "output_type": "display_data"
    },
    {
     "data": {
      "text/plain": "<IPython.core.display.HTML object>",
      "text/html": "Find internal logs for this run at: <code>D:\\Development\\FHNW\\ip5-metriken-bauwesen\\src\\wandb\\run-20210601_152121-8ip6f1hv\\logs\\debug-internal.log</code>"
     },
     "metadata": {},
     "output_type": "display_data"
    },
    {
     "data": {
      "text/plain": "<IPython.core.display.HTML object>",
      "text/html": "<h3>Run summary:</h3><br/><style>\n    table.wandb td:nth-child(1) { padding: 0 10px; text-align: right }\n    </style><table class=\"wandb\">\n<tr><td>r2</td><td>0.85967</td></tr><tr><td>_runtime</td><td>2</td></tr><tr><td>_timestamp</td><td>1622553683</td></tr><tr><td>_step</td><td>0</td></tr></table>"
     },
     "metadata": {},
     "output_type": "display_data"
    },
    {
     "data": {
      "text/plain": "<IPython.core.display.HTML object>",
      "text/html": "<h3>Run history:</h3><br/><style>\n    table.wandb td:nth-child(1) { padding: 0 10px; text-align: right }\n    </style><table class=\"wandb\">\n<tr><td>r2</td><td>▁</td></tr><tr><td>_runtime</td><td>▁</td></tr><tr><td>_timestamp</td><td>▁</td></tr><tr><td>_step</td><td>▁</td></tr></table><br/>"
     },
     "metadata": {},
     "output_type": "display_data"
    },
    {
     "data": {
      "text/plain": "<IPython.core.display.HTML object>",
      "text/html": "Synced 5 W&B file(s), 0 media file(s), 0 artifact file(s) and 0 other file(s)"
     },
     "metadata": {},
     "output_type": "display_data"
    },
    {
     "data": {
      "text/plain": "<IPython.core.display.HTML object>",
      "text/html": "\n                    <br/>Synced <strong style=\"color:#cdcd00\">true-sweep-35</strong>: <a href=\"https://wandb.ai/devcore/Metriken%20Bauwesen%20Sweeps/runs/8ip6f1hv\" target=\"_blank\">https://wandb.ai/devcore/Metriken%20Bauwesen%20Sweeps/runs/8ip6f1hv</a><br/>\n                "
     },
     "metadata": {},
     "output_type": "display_data"
    },
    {
     "data": {
      "text/plain": "<IPython.core.display.HTML object>",
      "text/html": "\n                Tracking run with wandb version 0.10.31<br/>\n                Syncing run <strong style=\"color:#cdcd00\">eager-sweep-36</strong> to <a href=\"https://wandb.ai\" target=\"_blank\">Weights & Biases</a> <a href=\"https://docs.wandb.com/integrations/jupyter.html\" target=\"_blank\">(Documentation)</a>.<br/>\n                Project page: <a href=\"https://wandb.ai/devcore/Metriken%20Bauwesen%20Sweeps\" target=\"_blank\">https://wandb.ai/devcore/Metriken%20Bauwesen%20Sweeps</a><br/>\n                Sweep page: <a href=\"https://wandb.ai/devcore/Metriken%20Bauwesen%20Sweeps/sweeps/s7m2nnuu\" target=\"_blank\">https://wandb.ai/devcore/Metriken%20Bauwesen%20Sweeps/sweeps/s7m2nnuu</a><br/>\nRun page: <a href=\"https://wandb.ai/devcore/Metriken%20Bauwesen%20Sweeps/runs/iejhuinz\" target=\"_blank\">https://wandb.ai/devcore/Metriken%20Bauwesen%20Sweeps/runs/iejhuinz</a><br/>\n                Run data is saved locally in <code>D:\\Development\\FHNW\\ip5-metriken-bauwesen\\src\\wandb\\run-20210601_152131-iejhuinz</code><br/><br/>\n            "
     },
     "metadata": {},
     "output_type": "display_data"
    },
    {
     "data": {
      "text/plain": "<IPython.core.display.HTML object>",
      "text/html": "<br/>Waiting for W&B process to finish, PID 29132<br/>Program ended successfully."
     },
     "metadata": {},
     "output_type": "display_data"
    },
    {
     "data": {
      "text/plain": "VBox(children=(Label(value=' 0.00MB of 0.00MB uploaded (0.00MB deduped)\\r'), FloatProgress(value=1.0, max=1.0)…",
      "application/vnd.jupyter.widget-view+json": {
       "version_major": 2,
       "version_minor": 0,
       "model_id": "e69f339278c94a99bd59624bae521f18"
      }
     },
     "metadata": {},
     "output_type": "display_data"
    },
    {
     "data": {
      "text/plain": "<IPython.core.display.HTML object>",
      "text/html": "Find user logs for this run at: <code>D:\\Development\\FHNW\\ip5-metriken-bauwesen\\src\\wandb\\run-20210601_152131-iejhuinz\\logs\\debug.log</code>"
     },
     "metadata": {},
     "output_type": "display_data"
    },
    {
     "data": {
      "text/plain": "<IPython.core.display.HTML object>",
      "text/html": "Find internal logs for this run at: <code>D:\\Development\\FHNW\\ip5-metriken-bauwesen\\src\\wandb\\run-20210601_152131-iejhuinz\\logs\\debug-internal.log</code>"
     },
     "metadata": {},
     "output_type": "display_data"
    },
    {
     "data": {
      "text/plain": "<IPython.core.display.HTML object>",
      "text/html": "<h3>Run summary:</h3><br/><style>\n    table.wandb td:nth-child(1) { padding: 0 10px; text-align: right }\n    </style><table class=\"wandb\">\n<tr><td>r2</td><td>0.85949</td></tr><tr><td>_runtime</td><td>3</td></tr><tr><td>_timestamp</td><td>1622553694</td></tr><tr><td>_step</td><td>0</td></tr></table>"
     },
     "metadata": {},
     "output_type": "display_data"
    },
    {
     "data": {
      "text/plain": "<IPython.core.display.HTML object>",
      "text/html": "<h3>Run history:</h3><br/><style>\n    table.wandb td:nth-child(1) { padding: 0 10px; text-align: right }\n    </style><table class=\"wandb\">\n<tr><td>r2</td><td>▁</td></tr><tr><td>_runtime</td><td>▁</td></tr><tr><td>_timestamp</td><td>▁</td></tr><tr><td>_step</td><td>▁</td></tr></table><br/>"
     },
     "metadata": {},
     "output_type": "display_data"
    },
    {
     "data": {
      "text/plain": "<IPython.core.display.HTML object>",
      "text/html": "Synced 5 W&B file(s), 0 media file(s), 0 artifact file(s) and 0 other file(s)"
     },
     "metadata": {},
     "output_type": "display_data"
    },
    {
     "data": {
      "text/plain": "<IPython.core.display.HTML object>",
      "text/html": "\n                    <br/>Synced <strong style=\"color:#cdcd00\">eager-sweep-36</strong>: <a href=\"https://wandb.ai/devcore/Metriken%20Bauwesen%20Sweeps/runs/iejhuinz\" target=\"_blank\">https://wandb.ai/devcore/Metriken%20Bauwesen%20Sweeps/runs/iejhuinz</a><br/>\n                "
     },
     "metadata": {},
     "output_type": "display_data"
    },
    {
     "data": {
      "text/plain": "<IPython.core.display.HTML object>",
      "text/html": "\n                Tracking run with wandb version 0.10.31<br/>\n                Syncing run <strong style=\"color:#cdcd00\">apricot-sweep-37</strong> to <a href=\"https://wandb.ai\" target=\"_blank\">Weights & Biases</a> <a href=\"https://docs.wandb.com/integrations/jupyter.html\" target=\"_blank\">(Documentation)</a>.<br/>\n                Project page: <a href=\"https://wandb.ai/devcore/Metriken%20Bauwesen%20Sweeps\" target=\"_blank\">https://wandb.ai/devcore/Metriken%20Bauwesen%20Sweeps</a><br/>\n                Sweep page: <a href=\"https://wandb.ai/devcore/Metriken%20Bauwesen%20Sweeps/sweeps/s7m2nnuu\" target=\"_blank\">https://wandb.ai/devcore/Metriken%20Bauwesen%20Sweeps/sweeps/s7m2nnuu</a><br/>\nRun page: <a href=\"https://wandb.ai/devcore/Metriken%20Bauwesen%20Sweeps/runs/1632ps3w\" target=\"_blank\">https://wandb.ai/devcore/Metriken%20Bauwesen%20Sweeps/runs/1632ps3w</a><br/>\n                Run data is saved locally in <code>D:\\Development\\FHNW\\ip5-metriken-bauwesen\\src\\wandb\\run-20210601_152141-1632ps3w</code><br/><br/>\n            "
     },
     "metadata": {},
     "output_type": "display_data"
    },
    {
     "data": {
      "text/plain": "<IPython.core.display.HTML object>",
      "text/html": "<br/>Waiting for W&B process to finish, PID 19556<br/>Program ended successfully."
     },
     "metadata": {},
     "output_type": "display_data"
    },
    {
     "data": {
      "text/plain": "VBox(children=(Label(value=' 0.00MB of 0.00MB uploaded (0.00MB deduped)\\r'), FloatProgress(value=1.0, max=1.0)…",
      "application/vnd.jupyter.widget-view+json": {
       "version_major": 2,
       "version_minor": 0,
       "model_id": "15ded41eb2d84026ad50d245901071ec"
      }
     },
     "metadata": {},
     "output_type": "display_data"
    },
    {
     "data": {
      "text/plain": "<IPython.core.display.HTML object>",
      "text/html": "Find user logs for this run at: <code>D:\\Development\\FHNW\\ip5-metriken-bauwesen\\src\\wandb\\run-20210601_152141-1632ps3w\\logs\\debug.log</code>"
     },
     "metadata": {},
     "output_type": "display_data"
    },
    {
     "data": {
      "text/plain": "<IPython.core.display.HTML object>",
      "text/html": "Find internal logs for this run at: <code>D:\\Development\\FHNW\\ip5-metriken-bauwesen\\src\\wandb\\run-20210601_152141-1632ps3w\\logs\\debug-internal.log</code>"
     },
     "metadata": {},
     "output_type": "display_data"
    },
    {
     "data": {
      "text/plain": "<IPython.core.display.HTML object>",
      "text/html": "<h3>Run summary:</h3><br/><style>\n    table.wandb td:nth-child(1) { padding: 0 10px; text-align: right }\n    </style><table class=\"wandb\">\n<tr><td>r2</td><td>0.86572</td></tr><tr><td>_runtime</td><td>2</td></tr><tr><td>_timestamp</td><td>1622553703</td></tr><tr><td>_step</td><td>0</td></tr></table>"
     },
     "metadata": {},
     "output_type": "display_data"
    },
    {
     "data": {
      "text/plain": "<IPython.core.display.HTML object>",
      "text/html": "<h3>Run history:</h3><br/><style>\n    table.wandb td:nth-child(1) { padding: 0 10px; text-align: right }\n    </style><table class=\"wandb\">\n<tr><td>r2</td><td>▁</td></tr><tr><td>_runtime</td><td>▁</td></tr><tr><td>_timestamp</td><td>▁</td></tr><tr><td>_step</td><td>▁</td></tr></table><br/>"
     },
     "metadata": {},
     "output_type": "display_data"
    },
    {
     "data": {
      "text/plain": "<IPython.core.display.HTML object>",
      "text/html": "Synced 5 W&B file(s), 0 media file(s), 0 artifact file(s) and 0 other file(s)"
     },
     "metadata": {},
     "output_type": "display_data"
    },
    {
     "data": {
      "text/plain": "<IPython.core.display.HTML object>",
      "text/html": "\n                    <br/>Synced <strong style=\"color:#cdcd00\">apricot-sweep-37</strong>: <a href=\"https://wandb.ai/devcore/Metriken%20Bauwesen%20Sweeps/runs/1632ps3w\" target=\"_blank\">https://wandb.ai/devcore/Metriken%20Bauwesen%20Sweeps/runs/1632ps3w</a><br/>\n                "
     },
     "metadata": {},
     "output_type": "display_data"
    },
    {
     "data": {
      "text/plain": "<IPython.core.display.HTML object>",
      "text/html": "\n                Tracking run with wandb version 0.10.31<br/>\n                Syncing run <strong style=\"color:#cdcd00\">zany-sweep-38</strong> to <a href=\"https://wandb.ai\" target=\"_blank\">Weights & Biases</a> <a href=\"https://docs.wandb.com/integrations/jupyter.html\" target=\"_blank\">(Documentation)</a>.<br/>\n                Project page: <a href=\"https://wandb.ai/devcore/Metriken%20Bauwesen%20Sweeps\" target=\"_blank\">https://wandb.ai/devcore/Metriken%20Bauwesen%20Sweeps</a><br/>\n                Sweep page: <a href=\"https://wandb.ai/devcore/Metriken%20Bauwesen%20Sweeps/sweeps/s7m2nnuu\" target=\"_blank\">https://wandb.ai/devcore/Metriken%20Bauwesen%20Sweeps/sweeps/s7m2nnuu</a><br/>\nRun page: <a href=\"https://wandb.ai/devcore/Metriken%20Bauwesen%20Sweeps/runs/ikbak0l5\" target=\"_blank\">https://wandb.ai/devcore/Metriken%20Bauwesen%20Sweeps/runs/ikbak0l5</a><br/>\n                Run data is saved locally in <code>D:\\Development\\FHNW\\ip5-metriken-bauwesen\\src\\wandb\\run-20210601_152152-ikbak0l5</code><br/><br/>\n            "
     },
     "metadata": {},
     "output_type": "display_data"
    },
    {
     "data": {
      "text/plain": "<IPython.core.display.HTML object>",
      "text/html": "<br/>Waiting for W&B process to finish, PID 14380<br/>Program ended successfully."
     },
     "metadata": {},
     "output_type": "display_data"
    },
    {
     "data": {
      "text/plain": "VBox(children=(Label(value=' 0.00MB of 0.00MB uploaded (0.00MB deduped)\\r'), FloatProgress(value=1.0, max=1.0)…",
      "application/vnd.jupyter.widget-view+json": {
       "version_major": 2,
       "version_minor": 0,
       "model_id": "94f10215eebe4f41b10642850c5486bb"
      }
     },
     "metadata": {},
     "output_type": "display_data"
    },
    {
     "data": {
      "text/plain": "<IPython.core.display.HTML object>",
      "text/html": "Find user logs for this run at: <code>D:\\Development\\FHNW\\ip5-metriken-bauwesen\\src\\wandb\\run-20210601_152152-ikbak0l5\\logs\\debug.log</code>"
     },
     "metadata": {},
     "output_type": "display_data"
    },
    {
     "data": {
      "text/plain": "<IPython.core.display.HTML object>",
      "text/html": "Find internal logs for this run at: <code>D:\\Development\\FHNW\\ip5-metriken-bauwesen\\src\\wandb\\run-20210601_152152-ikbak0l5\\logs\\debug-internal.log</code>"
     },
     "metadata": {},
     "output_type": "display_data"
    },
    {
     "data": {
      "text/plain": "<IPython.core.display.HTML object>",
      "text/html": "<h3>Run summary:</h3><br/><style>\n    table.wandb td:nth-child(1) { padding: 0 10px; text-align: right }\n    </style><table class=\"wandb\">\n<tr><td>r2</td><td>0.86616</td></tr><tr><td>_runtime</td><td>1</td></tr><tr><td>_timestamp</td><td>1622553713</td></tr><tr><td>_step</td><td>0</td></tr></table>"
     },
     "metadata": {},
     "output_type": "display_data"
    },
    {
     "data": {
      "text/plain": "<IPython.core.display.HTML object>",
      "text/html": "<h3>Run history:</h3><br/><style>\n    table.wandb td:nth-child(1) { padding: 0 10px; text-align: right }\n    </style><table class=\"wandb\">\n<tr><td>r2</td><td>▁</td></tr><tr><td>_runtime</td><td>▁</td></tr><tr><td>_timestamp</td><td>▁</td></tr><tr><td>_step</td><td>▁</td></tr></table><br/>"
     },
     "metadata": {},
     "output_type": "display_data"
    },
    {
     "data": {
      "text/plain": "<IPython.core.display.HTML object>",
      "text/html": "Synced 5 W&B file(s), 0 media file(s), 0 artifact file(s) and 0 other file(s)"
     },
     "metadata": {},
     "output_type": "display_data"
    },
    {
     "data": {
      "text/plain": "<IPython.core.display.HTML object>",
      "text/html": "\n                    <br/>Synced <strong style=\"color:#cdcd00\">zany-sweep-38</strong>: <a href=\"https://wandb.ai/devcore/Metriken%20Bauwesen%20Sweeps/runs/ikbak0l5\" target=\"_blank\">https://wandb.ai/devcore/Metriken%20Bauwesen%20Sweeps/runs/ikbak0l5</a><br/>\n                "
     },
     "metadata": {},
     "output_type": "display_data"
    },
    {
     "data": {
      "text/plain": "<IPython.core.display.HTML object>",
      "text/html": "\n                Tracking run with wandb version 0.10.31<br/>\n                Syncing run <strong style=\"color:#cdcd00\">splendid-sweep-39</strong> to <a href=\"https://wandb.ai\" target=\"_blank\">Weights & Biases</a> <a href=\"https://docs.wandb.com/integrations/jupyter.html\" target=\"_blank\">(Documentation)</a>.<br/>\n                Project page: <a href=\"https://wandb.ai/devcore/Metriken%20Bauwesen%20Sweeps\" target=\"_blank\">https://wandb.ai/devcore/Metriken%20Bauwesen%20Sweeps</a><br/>\n                Sweep page: <a href=\"https://wandb.ai/devcore/Metriken%20Bauwesen%20Sweeps/sweeps/s7m2nnuu\" target=\"_blank\">https://wandb.ai/devcore/Metriken%20Bauwesen%20Sweeps/sweeps/s7m2nnuu</a><br/>\nRun page: <a href=\"https://wandb.ai/devcore/Metriken%20Bauwesen%20Sweeps/runs/lqnilzuj\" target=\"_blank\">https://wandb.ai/devcore/Metriken%20Bauwesen%20Sweeps/runs/lqnilzuj</a><br/>\n                Run data is saved locally in <code>D:\\Development\\FHNW\\ip5-metriken-bauwesen\\src\\wandb\\run-20210601_152201-lqnilzuj</code><br/><br/>\n            "
     },
     "metadata": {},
     "output_type": "display_data"
    },
    {
     "data": {
      "text/plain": "<IPython.core.display.HTML object>",
      "text/html": "<br/>Waiting for W&B process to finish, PID 8556<br/>Program ended successfully."
     },
     "metadata": {},
     "output_type": "display_data"
    },
    {
     "data": {
      "text/plain": "VBox(children=(Label(value=' 0.00MB of 0.00MB uploaded (0.00MB deduped)\\r'), FloatProgress(value=1.0, max=1.0)…",
      "application/vnd.jupyter.widget-view+json": {
       "version_major": 2,
       "version_minor": 0,
       "model_id": "55fc05ed93414d3f872c9f694ad5e823"
      }
     },
     "metadata": {},
     "output_type": "display_data"
    },
    {
     "data": {
      "text/plain": "<IPython.core.display.HTML object>",
      "text/html": "Find user logs for this run at: <code>D:\\Development\\FHNW\\ip5-metriken-bauwesen\\src\\wandb\\run-20210601_152201-lqnilzuj\\logs\\debug.log</code>"
     },
     "metadata": {},
     "output_type": "display_data"
    },
    {
     "data": {
      "text/plain": "<IPython.core.display.HTML object>",
      "text/html": "Find internal logs for this run at: <code>D:\\Development\\FHNW\\ip5-metriken-bauwesen\\src\\wandb\\run-20210601_152201-lqnilzuj\\logs\\debug-internal.log</code>"
     },
     "metadata": {},
     "output_type": "display_data"
    },
    {
     "data": {
      "text/plain": "<IPython.core.display.HTML object>",
      "text/html": "<h3>Run summary:</h3><br/><style>\n    table.wandb td:nth-child(1) { padding: 0 10px; text-align: right }\n    </style><table class=\"wandb\">\n<tr><td>r2</td><td>0.85805</td></tr><tr><td>_runtime</td><td>2</td></tr><tr><td>_timestamp</td><td>1622553724</td></tr><tr><td>_step</td><td>0</td></tr></table>"
     },
     "metadata": {},
     "output_type": "display_data"
    },
    {
     "data": {
      "text/plain": "<IPython.core.display.HTML object>",
      "text/html": "<h3>Run history:</h3><br/><style>\n    table.wandb td:nth-child(1) { padding: 0 10px; text-align: right }\n    </style><table class=\"wandb\">\n<tr><td>r2</td><td>▁</td></tr><tr><td>_runtime</td><td>▁</td></tr><tr><td>_timestamp</td><td>▁</td></tr><tr><td>_step</td><td>▁</td></tr></table><br/>"
     },
     "metadata": {},
     "output_type": "display_data"
    },
    {
     "data": {
      "text/plain": "<IPython.core.display.HTML object>",
      "text/html": "Synced 5 W&B file(s), 0 media file(s), 0 artifact file(s) and 0 other file(s)"
     },
     "metadata": {},
     "output_type": "display_data"
    },
    {
     "data": {
      "text/plain": "<IPython.core.display.HTML object>",
      "text/html": "\n                    <br/>Synced <strong style=\"color:#cdcd00\">splendid-sweep-39</strong>: <a href=\"https://wandb.ai/devcore/Metriken%20Bauwesen%20Sweeps/runs/lqnilzuj\" target=\"_blank\">https://wandb.ai/devcore/Metriken%20Bauwesen%20Sweeps/runs/lqnilzuj</a><br/>\n                "
     },
     "metadata": {},
     "output_type": "display_data"
    },
    {
     "data": {
      "text/plain": "<IPython.core.display.HTML object>",
      "text/html": "\n                Tracking run with wandb version 0.10.31<br/>\n                Syncing run <strong style=\"color:#cdcd00\">celestial-sweep-40</strong> to <a href=\"https://wandb.ai\" target=\"_blank\">Weights & Biases</a> <a href=\"https://docs.wandb.com/integrations/jupyter.html\" target=\"_blank\">(Documentation)</a>.<br/>\n                Project page: <a href=\"https://wandb.ai/devcore/Metriken%20Bauwesen%20Sweeps\" target=\"_blank\">https://wandb.ai/devcore/Metriken%20Bauwesen%20Sweeps</a><br/>\n                Sweep page: <a href=\"https://wandb.ai/devcore/Metriken%20Bauwesen%20Sweeps/sweeps/s7m2nnuu\" target=\"_blank\">https://wandb.ai/devcore/Metriken%20Bauwesen%20Sweeps/sweeps/s7m2nnuu</a><br/>\nRun page: <a href=\"https://wandb.ai/devcore/Metriken%20Bauwesen%20Sweeps/runs/hmt30zmn\" target=\"_blank\">https://wandb.ai/devcore/Metriken%20Bauwesen%20Sweeps/runs/hmt30zmn</a><br/>\n                Run data is saved locally in <code>D:\\Development\\FHNW\\ip5-metriken-bauwesen\\src\\wandb\\run-20210601_152212-hmt30zmn</code><br/><br/>\n            "
     },
     "metadata": {},
     "output_type": "display_data"
    },
    {
     "data": {
      "text/plain": "<IPython.core.display.HTML object>",
      "text/html": "<br/>Waiting for W&B process to finish, PID 29656<br/>Program ended successfully."
     },
     "metadata": {},
     "output_type": "display_data"
    },
    {
     "data": {
      "text/plain": "VBox(children=(Label(value=' 0.00MB of 0.00MB uploaded (0.00MB deduped)\\r'), FloatProgress(value=1.0, max=1.0)…",
      "application/vnd.jupyter.widget-view+json": {
       "version_major": 2,
       "version_minor": 0,
       "model_id": "5c892ddb7f1047fc9ec5da4bfaa6d635"
      }
     },
     "metadata": {},
     "output_type": "display_data"
    },
    {
     "data": {
      "text/plain": "<IPython.core.display.HTML object>",
      "text/html": "Find user logs for this run at: <code>D:\\Development\\FHNW\\ip5-metriken-bauwesen\\src\\wandb\\run-20210601_152212-hmt30zmn\\logs\\debug.log</code>"
     },
     "metadata": {},
     "output_type": "display_data"
    },
    {
     "data": {
      "text/plain": "<IPython.core.display.HTML object>",
      "text/html": "Find internal logs for this run at: <code>D:\\Development\\FHNW\\ip5-metriken-bauwesen\\src\\wandb\\run-20210601_152212-hmt30zmn\\logs\\debug-internal.log</code>"
     },
     "metadata": {},
     "output_type": "display_data"
    },
    {
     "data": {
      "text/plain": "<IPython.core.display.HTML object>",
      "text/html": "<h3>Run summary:</h3><br/><style>\n    table.wandb td:nth-child(1) { padding: 0 10px; text-align: right }\n    </style><table class=\"wandb\">\n<tr><td>r2</td><td>0.86654</td></tr><tr><td>_runtime</td><td>2</td></tr><tr><td>_timestamp</td><td>1622553734</td></tr><tr><td>_step</td><td>0</td></tr></table>"
     },
     "metadata": {},
     "output_type": "display_data"
    },
    {
     "data": {
      "text/plain": "<IPython.core.display.HTML object>",
      "text/html": "<h3>Run history:</h3><br/><style>\n    table.wandb td:nth-child(1) { padding: 0 10px; text-align: right }\n    </style><table class=\"wandb\">\n<tr><td>r2</td><td>▁</td></tr><tr><td>_runtime</td><td>▁</td></tr><tr><td>_timestamp</td><td>▁</td></tr><tr><td>_step</td><td>▁</td></tr></table><br/>"
     },
     "metadata": {},
     "output_type": "display_data"
    },
    {
     "data": {
      "text/plain": "<IPython.core.display.HTML object>",
      "text/html": "Synced 5 W&B file(s), 0 media file(s), 0 artifact file(s) and 0 other file(s)"
     },
     "metadata": {},
     "output_type": "display_data"
    },
    {
     "data": {
      "text/plain": "<IPython.core.display.HTML object>",
      "text/html": "\n                    <br/>Synced <strong style=\"color:#cdcd00\">celestial-sweep-40</strong>: <a href=\"https://wandb.ai/devcore/Metriken%20Bauwesen%20Sweeps/runs/hmt30zmn\" target=\"_blank\">https://wandb.ai/devcore/Metriken%20Bauwesen%20Sweeps/runs/hmt30zmn</a><br/>\n                "
     },
     "metadata": {},
     "output_type": "display_data"
    }
   ],
   "source": [
    "from sklearn.ensemble import GradientBoostingRegressor\n",
    "from sklearn.model_selection import cross_validate, RepeatedKFold\n",
    "\n",
    "import src.package.importer as im\n",
    "import src.package.ml_helper as ml_helper\n",
    "from numpy import mean\n",
    "\n",
    "def train():\n",
    "    config = {'model': 'GradientBoost', 'dataset': 'hnf_combined_usage'}\n",
    "    with wandb.init(config=config):\n",
    "        # load dataset\n",
    "        df = im.get_extended_dataset('../../package/datasets/train_set.csv')\n",
    "        X, y = ml_helper.hnf_dataset(df)\n",
    "\n",
    "        # model with hyperparameter\n",
    "        config = wandb.config\n",
    "        regr = GradientBoostingRegressor(random_state=0, subsample=config.subsample, n_estimators=config.n_estimators, learning_rate=config.learning_rate)\n",
    "\n",
    "        # evaluate with cv and log to wandb\n",
    "        cv=RepeatedKFold(n_splits=5, n_repeats=3, random_state=0)\n",
    "        scores = cross_validate(regr, X, y, cv=cv, scoring=['r2'])\n",
    "        print(scores)\n",
    "        wandb.log({'r2': mean(scores['test_r2'])})\n",
    "\n",
    "wandb.agent(sweep_id, train, count=40)"
   ],
   "metadata": {
    "collapsed": false,
    "pycharm": {
     "name": "#%%\n"
    }
   }
  }
 ],
 "metadata": {
  "kernelspec": {
   "name": "python3",
   "language": "python",
   "display_name": "Python 3"
  },
  "language_info": {
   "codemirror_mode": {
    "name": "ipython",
    "version": 2
   },
   "file_extension": ".py",
   "mimetype": "text/x-python",
   "name": "python",
   "nbconvert_exporter": "python",
   "pygments_lexer": "ipython2",
   "version": "2.7.6"
  }
 },
 "nbformat": 4,
 "nbformat_minor": 0
}