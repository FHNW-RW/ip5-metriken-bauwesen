{
 "cells": [
  {
   "cell_type": "markdown",
   "source": [
    "# Nutzungsanalyse\n",
    "\n",
    "In diesem Notebook analysieren wir verschiedene Nutzungstypen und entwickeln benchmarks.\n",
    "Nachfolgend eine kurze Beschreibung der Hauptnutzungen.\n"
   ],
   "metadata": {
    "collapsed": false
   }
  },
  {
   "cell_type": "code",
   "execution_count": 1,
   "metadata": {
    "collapsed": true,
    "pycharm": {
     "name": "#%%\n"
    }
   },
   "outputs": [
    {
     "data": {
      "text/plain": "WOHNBAUTEN__MFH_MEDIUM                                                                144\nSCHULBAUTEN__VOLKSSCHULEN                                                              88\nFREIZEITBAUTEN_SPORTBAUTEN_ERHOLUNGSBAUTEN__TURNHALLEN_SPORTHALLEN_MEHRZWECKHALLEN     51\nSCHULBAUTEN__KINDERGAERTEN_HORTE                                                       37\nWOHNBAUTEN__MFH_LOW                                                                    32\n                                                                                     ... \nFREIZEITBAUTEN_SPORTBAUTEN__BOOTSHAEUSER                                                1\nGESUNDHEITSBAUTEN__PFLEGE_REHA__PFLEGEHEIM                                              1\nLANDWIRTSCHAFT__TIERSPITAELER                                                           1\nLAGERBAUTEN__SILOBAUTEN                                                                 1\nSCHULBAUTEN__BIBLIOTHEKEN__BIBLIOTHEK                                                   1\nName: nom_primary_usage, Length: 124, dtype: int64"
     },
     "execution_count": 1,
     "metadata": {},
     "output_type": "execute_result"
    }
   ],
   "source": [
    "import package.importer as im\n",
    "import package.importer_usages as im_usages\n",
    "\n",
    "df = im.get_dataset('package/dataset.csv')\n",
    "df, short_df = im_usages.extract_usage_details(df, True)\n",
    "\n",
    "# short_df.describe()\n",
    "short_df[im_usages.NOM_PRIMARY_USAGE].value_counts()"
   ]
  },
  {
   "cell_type": "markdown",
   "source": [
    "## Vorkommen Nutzungstypen\n",
    "Vorkommen primärer, sekundärer, tertiärer und quaternärer Nutzungstypen.\n",
    "\n",
    "#### Primärer Nutzungstyp"
   ],
   "metadata": {
    "collapsed": false
   }
  },
  {
   "cell_type": "code",
   "execution_count": 2,
   "outputs": [
    {
     "data": {
      "text/plain": "WOHNBAUTEN__MFH_MEDIUM                                                                0.156352\nSCHULBAUTEN__VOLKSSCHULEN                                                             0.095548\nWOHNEN_EFH                                                                            0.070575\nFREIZEITBAUTEN_SPORTBAUTEN_ERHOLUNGSBAUTEN__TURNHALLEN_SPORTHALLEN_MEHRZWECKHALLEN    0.055375\nSCHULBAUTEN__KINDERGAERTEN_HORTE                                                      0.040174\n                                                                                        ...   \nFREIZEITBAUTEN_SPORTBAUTEN__BOOTSHAEUSER                                              0.001086\nGESUNDHEITSBAUTEN__PFLEGE_REHA__PFLEGEHEIM                                            0.001086\nLANDWIRTSCHAFT__TIERSPITAELER                                                         0.001086\nLAGERBAUTEN__SILOBAUTEN                                                               0.001086\nSCHULBAUTEN__BIBLIOTHEKEN__BIBLIOTHEK                                                 0.001086\nName: nom_primary_usage, Length: 122, dtype: float64"
     },
     "execution_count": 2,
     "metadata": {},
     "output_type": "execute_result"
    }
   ],
   "source": [
    "from sklearn.pipeline import Pipeline\n",
    "from src.package.transformers import CombineFeatures\n",
    "\n",
    "transform_pipeline = Pipeline([\n",
    "        ('combine_features', CombineFeatures()),\n",
    "    ])\n",
    "\n",
    "df = transform_pipeline.fit_transform(df)\n",
    "short_df = im_usages.__describe_usages(df)\n",
    "short_df[im_usages.NOM_PRIMARY_USAGE].value_counts(normalize=True)"
   ],
   "metadata": {
    "collapsed": false,
    "pycharm": {
     "name": "#%%\n"
    }
   }
  },
  {
   "cell_type": "markdown",
   "source": [
    "#### Sekundärer Nutzungstyp"
   ],
   "metadata": {
    "collapsed": false
   }
  },
  {
   "cell_type": "code",
   "execution_count": 3,
   "outputs": [
    {
     "data": {
      "text/plain": "VERKEHRSBAUTEN__TIEFGARAGEN_EINSTELLHALLEN                                            0.354430\nFREIZEITBAUTEN_SPORTBAUTEN_ERHOLUNGSBAUTEN__TURNHALLEN_SPORTHALLEN_MEHRZWECKHALLEN    0.078059\nVERKEHRSBAUTEN__GARAGEN_FREISTEHEND                                                   0.054852\nLADENBAUTEN_HANDELSBAUTEN__EINZELHANDEL                                               0.050633\nBUEROBAUTEN__VOLLAUSBAU                                                               0.046414\nSCHULBAUTEN__KINDERGAERTEN_HORTE                                                      0.042194\nWOHNBAUTEN__MFH_MEDIUM                                                                0.040084\nBUEROBAUTEN__EDELROHBAU                                                               0.033755\nSCHULBAUTEN__VOLKSSCHULEN                                                             0.029536\nGASTGEWERBE_FREMDENVERKEHRSBAUTEN__RESTAURANT                                         0.027426\nKULTUR__SAAL                                                                          0.021097\nGASTGEWERBE_FREMDENVERKEHRSBAUTEN__KANTINEN                                           0.014768\nLAGERBAUTEN_PRODUKTIONSBAUTEN                                                         0.014768\nWOHNBAUTEN__MFH_LOW                                                                   0.012658\nVERWALTUNGSBAUTEN                                                                     0.012658\nWOHNEN_EFH                                                                            0.010549\nVERKEHRSBAUTEN__WERKHOEFE                                                             0.010549\nBANKEN                                                                                0.010549\nGASTGEWERBE_FREMDENVERKEHRSBAUTEN__HOTELBAUTEN                                        0.008439\nVERKEHRSBAUTEN__PARKHAEUSER_UNTERIRDISCH                                              0.008439\nSCHULBAUTEN__BERUFSSCHULEN                                                            0.008439\nSCHULBAUTEN__HOCHSCHULEN_UNIVERSITAETEN                                               0.006329\nVERKEHRSBAUTEN__STRASSENVERKEHR                                                       0.006329\nLAGERBAUTEN__INDUSTRIEBAUTEN_GEWERBEBAUTEN__LAGERHALLEN_BEHEIZT                       0.004219\nGESUNDHEIT__PFLEGEHEIME                                                               0.004219\nKULTUR__AUSSTELLUNGEN                                                                 0.004219\nWOHNBAUTEN__ALTERSWOHNUNGEN                                                           0.004219\nSCHUTZBAUTEN__SCHULUNGSBAUTEN                                                         0.004219\nSCHUTZBAUTEN__FEUERWEHRGEBAEUDE                                                       0.004219\nKULTUS__KIRCHE                                                                        0.004219\nGESUNDHEITSBAUTEN__UNIVERSITAETSKLINIKEN_UNTERSUCHUNG                                 0.004219\nWOHNBAUTEN__ALTERSHEIME                                                               0.004219\nLAGERBAUTEN__INDUSTRIEBAUTEN_GEWERBEBAUTEN__LAGERHALLEN_UNBEHEIZT                     0.004219\nLAGERBAUTEN__INDUSTRIEHALLEN                                                          0.002110\nFREIZEITBAUTEN_SPORTBAUTEN__GARDEROBENGEBAEUDE                                        0.002110\nLAGERBAUTEN__VERTEILZENTRALEN_NONFOOD                                                 0.002110\nLAGERBAUTEN__SILOBAUTEN                                                               0.002110\nVERKEHRSBAUTEN__BAHNHOEFE                                                             0.002110\nSCHULBAUTEN__FORSCHUNGSBAUTEN_MIT_LABOR                                               0.002110\nVERKEHRSBAUTEN__POSTGEBAEUDE                                                          0.002110\nLANDWIRTSCHAFT__SCHEUNEN_STALLUNGEN                                                   0.002110\nFREIZEITBAUTEN_SPORTBAUTEN__STADIONANLAGEN                                            0.002110\nJUSTIZ__POLIZEI                                                                       0.002110\nGESUNDHEITSBAUTEN__UNIVERSITAETSKLINIKEN_BETTENTRAKT                                  0.002110\nGASTGEWERBE_FREMDENVERKEHRSBAUTEN__RASTSTAETTEN                                       0.002110\nSCHULBAUTEN__HEILPAEDAGOGISCHE_SONDERSCHULEN                                          0.002110\nWOHNBAUTEN__STUDENTENWOHNHAEUSER                                                      0.002110\nVERKEHRSBAUTEN__PARKHAEUSER_OBERIRDISCH                                               0.002110\nGESUNDHEITSBAUTEN__KRANKENHAEUSER_Logistik                                            0.002110\nGESUNDHEITSBAUTEN__KRANKENHAEUSER_BETTENTRAKT                                         0.002110\nSCHUTZBAUTEN__ZIVILSCHUTZANLAGEN                                                      0.002110\nWOHNBAUTEN__MFH_HIGH                                                                  0.002110\nKULTUR__KULTUR_GEMEINSCHAFTSZENTREN                                                   0.002110\nVERKEHRSBAUTEN__HOCH_TIEFGARAGE__TIEFGARAGE                                           0.002110\nFREIZEITBAUTEN_SPORTBAUTEN__REITHALLEN                                                0.002110\nLADENBAUTEN_HANDELSBAUTEN__MARKTHALLEN_UNBEHEIZT                                      0.002110\nBUEROBAUTEN_VERWALTUNGSBAUTEN__GEMEINDEHAEUSER                                        0.002110\nVERKEHRSBAUTEN__HOCH_TIEFGARAGE__HOCHGARAGE                                           0.002110\nLADENBAUTEN_VERWALTUNGSBAUTEN__RATHAEUSER                                             0.002110\nName: nom_secondary_usage, dtype: float64"
     },
     "execution_count": 3,
     "metadata": {},
     "output_type": "execute_result"
    }
   ],
   "source": [
    "short_df[im_usages.NOM_SECONDARY_USAGE].value_counts(normalize=True)"
   ],
   "metadata": {
    "collapsed": false,
    "pycharm": {
     "name": "#%%\n"
    }
   }
  },
  {
   "cell_type": "markdown",
   "source": [
    "#### Tertiärer Nutzungstyp"
   ],
   "metadata": {
    "collapsed": false
   }
  },
  {
   "cell_type": "code",
   "execution_count": 4,
   "outputs": [
    {
     "data": {
      "text/plain": "VERKEHRSBAUTEN__TIEFGARAGEN_EINSTELLHALLEN                                                  0.326316\nBUEROBAUTEN__VOLLAUSBAU                                                                     0.068421\nLADENBAUTEN_HANDELSBAUTEN__EINZELHANDEL                                                     0.068421\nWOHNBAUTEN__MFH_MEDIUM                                                                      0.052632\nBUEROBAUTEN__EDELROHBAU                                                                     0.052632\nFREIZEITBAUTEN_SPORTBAUTEN_ERHOLUNGSBAUTEN__TURNHALLEN_SPORTHALLEN_MEHRZWECKHALLEN          0.047368\nGASTGEWERBE_FREMDENVERKEHRSBAUTEN__KANTINEN                                                 0.026316\nWOHNBAUTEN__MFH_LOW                                                                         0.021053\nSCHULBAUTEN__KINDERGAERTEN_HORTE                                                            0.021053\nSCHUTZBAUTEN__ZIVILSCHUTZANLAGEN                                                            0.015789\nGASTGEWERBE_FREMDENVERKEHRSBAUTEN__RESTAURANT                                               0.015789\nWOHNBAUTEN__ALTERSWOHNUNGEN                                                                 0.015789\nGESUNDHEITSBAUTEN__KRANKENHAEUSER_Logistik                                                  0.010526\nSCHULBAUTEN__BIBLIOTHEKEN                                                                   0.010526\nKULTUR__SAAL                                                                                0.010526\nWOHNEN_EFH                                                                                  0.010526\nVERWALTUNGSBAUTEN                                                                           0.010526\nLAGERBAUTEN_MEHRSTOECKIGE                                                                   0.010526\nLAGERBAUTEN_PRODUKTIONSBAUTEN                                                               0.010526\nVERKEHRSBAUTEN__WERKHOEFE                                                                   0.010526\nBUEROBAUTEN_VERWALTUNGSBAUTEN__GEMEINDEHAEUSER                                              0.010526\nVERKEHRSBAUTEN__GARAGEN_FREISTEHEND                                                         0.010526\nBANKEN                                                                                      0.010526\nKULTUS__KIRCHGEMEINDEHAEUSER                                                                0.010526\nWOHNBAUTEN__MFH_HIGH                                                                        0.010526\nJUSTIZ__STRAFVOLLZUGSANSTALTEN                                                              0.005263\nSCHULBAUTEN__FORSCHUNGSBAUTEN_OHNE_LABOR                                                    0.005263\nFREIZEITBAUTEN_SPORTBAUTEN__TRIBUENENBAUTEN                                                 0.005263\nSCHULBAUTEN__BERUFSSCHULEN                                                                  0.005263\nGESUNDHEITSBAUTEN__KRANKENHAEUSER_Untersuchung                                              0.005263\nKULTUR__MUSEEN                                                                              0.005263\nJUSTIZ__POLIZEI                                                                             0.005263\nGESUNDHEITSBAUTEN__TAGESHEIME                                                               0.005263\nVERKEHRSBAUTEN__PARKHAEUSER_UNTERIRDISCH                                                    0.005263\nSCHULBAUTEN__FORSCHUNGSBAUTEN_MIT_LABOR                                                     0.005263\nVERKEHRSBAUTEN__BAHNHOEFE                                                                   0.005263\nGESUNDHEITSBAUTEN__UNIVERSITAETSKLINIKEN_UNTERSUCHUNG                                       0.005263\nSCHULBAUTEN__VOLKSSCHULEN                                                                   0.005263\nKULTUR__AUSSTELLUNGEN                                                                       0.005263\nGESUNDHEITSBAUTEN__ARZTPRAXEN                                                               0.005263\nWOHNBAUTEN__PERSONALHAEUSER                                                                 0.005263\nGESUNDHEITSBAUTEN__UNIVERSITAETSKLINIKEN_LOGISTIK                                           0.005263\nLADENBAUTEN_HANDELSBAUTEN__GROSSHANDEL                                                      0.005263\nGASTGEWERBE_FREMDENVERKEHRSBAUTEN__RASTSTAETTEN                                             0.005263\nSCHULBAUTEN__HEILPAEDAGOGISCHE_SONDERSCHULEN                                                0.005263\nFREIZEIT_SPORT_ERHOLUNGSBAUTEN__SPORT_FREIZEITBAU__TURN_SPORTHALLEN__TURNHALLE__2_HALLEN    0.005263\nVERKEHRSBAUTEN__POSTBETRIEBE                                                                0.005263\nVERKEHRSBAUTEN__PARKHAEUSER_OBERIRDISCH                                                     0.005263\nKULTUR__KULTUR_GEMEINSCHAFTSZENTREN                                                         0.005263\nKULTUS__KIRCHE                                                                              0.005263\nName: nom_tertiary_usage, dtype: float64"
     },
     "execution_count": 4,
     "metadata": {},
     "output_type": "execute_result"
    }
   ],
   "source": [
    "short_df[im_usages.NOM_TERTIARY_USAGE].value_counts(normalize=True)"
   ],
   "metadata": {
    "collapsed": false,
    "pycharm": {
     "name": "#%%\n"
    }
   }
  },
  {
   "cell_type": "markdown",
   "source": [
    "#### Quaternärer Nutzungstyp"
   ],
   "metadata": {
    "collapsed": false
   }
  },
  {
   "cell_type": "code",
   "execution_count": 5,
   "outputs": [
    {
     "data": {
      "text/plain": "VERKEHRSBAUTEN__TIEFGARAGEN_EINSTELLHALLEN                                            0.338983\nLADENBAUTEN_HANDELSBAUTEN__EINZELHANDEL                                               0.118644\nBUEROBAUTEN__VOLLAUSBAU                                                               0.084746\nKULTUR__SAAL                                                                          0.084746\nSCHULBAUTEN__KINDERGAERTEN_HORTE                                                      0.084746\nBUEROBAUTEN__EDELROHBAU                                                               0.033898\nGASTGEWERBE_FREMDENVERKEHRSBAUTEN__KANTINEN                                           0.016949\nLAGERBAUTEN_MEHRSTOECKIGE                                                             0.016949\nFREIZEITBAUTEN_SPORTBAUTEN__KUNSTEISBAHN_FREIBAD                                      0.016949\nVERWALTUNGSBAUTEN                                                                     0.016949\nKULTUS__KIRCHE                                                                        0.016949\nFREIZEITBAUTEN_SPORTBAUTEN_ERHOLUNGSBAUTEN__TURNHALLEN_SPORTHALLEN_MEHRZWECKHALLEN    0.016949\nGESUNDHEITSBAUTEN__UNIVERSITAETSKLINIKEN_BETTENTRAKT                                  0.016949\nVERKEHRSBAUTEN__BAHNHOEFE                                                             0.016949\nGASTGEWERBE_FREMDENVERKEHRSBAUTEN__RESTAURANT                                         0.016949\nGESUNDHEITSBAUTEN__UNIVERSITAETSKLINIKEN_FORSCHUNG                                    0.016949\nFREIZEITBAUTEN_SPORTBAUTEN__SPORTPLAETZE                                              0.016949\nKULTUR__KULTUR_GEMEINSCHAFTSZENTREN                                                   0.016949\nFREIZEITBAUTEN_SPORTBAUTEN__HALLENBAEDER                                              0.016949\nSCHULBAUTEN__HEILPAEDAGOGISCHE_SONDERSCHULEN                                          0.016949\nWOHNBAUTEN__MFH_MEDIUM                                                                0.016949\nName: nom_quaternary_usage, dtype: float64"
     },
     "execution_count": 5,
     "metadata": {},
     "output_type": "execute_result"
    }
   ],
   "source": [
    "short_df[im_usages.NOM_QUATERNARY_USAGE].value_counts(normalize=True)"
   ],
   "metadata": {
    "collapsed": false,
    "pycharm": {
     "name": "#%%\n"
    }
   }
  }
 ],
 "metadata": {
  "kernelspec": {
   "display_name": "Python 3",
   "language": "python",
   "name": "python3"
  },
  "language_info": {
   "codemirror_mode": {
    "name": "ipython",
    "version": 2
   },
   "file_extension": ".py",
   "mimetype": "text/x-python",
   "name": "python",
   "nbconvert_exporter": "python",
   "pygments_lexer": "ipython2",
   "version": "2.7.6"
  }
 },
 "nbformat": 4,
 "nbformat_minor": 0
}